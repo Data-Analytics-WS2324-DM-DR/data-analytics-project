{
 "cells": [
  {
   "cell_type": "markdown",
   "metadata": {},
   "source": [
    "# Draft analysis \n",
    "\n",
    "---\n",
    "\n",
    "Group name: Doreen Mack, David Riethmann\n",
    "\n",
    "---\n"
   ]
  },
  {
   "cell_type": "markdown",
   "metadata": {},
   "source": [
    "## 1 Introduction\n",
    "\n",
    "For our project we have chosen a dataset about the release and establishment of the weevil Mecinus janthiniformis for biological control of Dalmatian toadflax in southern California. Our motivation is to find patterns and trends within the data and define factors and potential predictors associated with the growth of Dalmatian toadflax and the spread of weevil populations.\n",
    "\n",
    "Dalmatian toadflax is an invasive plant that is considered an undesirable weed in southern California. It can thrive and spread rapidly in a variety of ecosystems, including grasslands and roadsides. Invasive plants such as Dalmatian toadflax can cause ecological problems. On the on hand, it can displace native plants and as a result reduce biodiversity. It can also have an impact on the availability of habitat for native animals as the dominance of Dalmatian toadflax can disrupt the strucutre and function of ecosystems. On the other hand, we have to think of the soil composition. Invasive plants can alter the soil by removing nutrients which can have an impact on the native vegetation. Moreover, Dalmatian toadflax can tend to accumulate dry material, which can increase fire hazard.\n",
    "\n",
    "Therefore, attempts are being made to control the spread of Dalmatian toadflax using weevil populations. They were released in the investigated area of southern California.\n",
    "\n",
    "General research questions:\n",
    "\n",
    "- Which aspects can help predict the total main stem length?\n",
    "- Are plants that are infested by weevils really more likely to remain smaller?\n",
    "\n",
    "Our hypothesis is that the spread of weevil populations really contributes to the reduction of Dalmatian toadflax vegetation in this area."
   ]
  },
  {
   "cell_type": "markdown",
   "metadata": {},
   "source": [
    "## 2 Setup"
   ]
  },
  {
   "cell_type": "markdown",
   "metadata": {},
   "source": [
    "We start by importing the required libraries and modules.\n",
    "These are:\n",
    "- Numpy: A library for numerical operations which provides support for arrays and matrices along with mathematical functions to operate on these elements.\n",
    "- Pandas: A library for data analysis which provides data structures such as series and DataFrames that form the basis for working with data.\n",
    "- Altair: A library for statistical visualization that provides a variety of graphics.\n",
    "- Scikit-Learn: A machine learning library which provides tools for data analysis and modelling. From Scikit-Learn we have imported a bunch of modules e.g. to calculate statistical measures or split the dataset."
   ]
  },
  {
   "cell_type": "code",
   "execution_count": 1,
   "metadata": {},
   "outputs": [],
   "source": [
    "import numpy as np\n",
    "import pandas as pd\n",
    "import altair as alt\n",
    "\n",
    "from sklearn.metrics import r2_score\n",
    "from sklearn.impute import SimpleImputer\n",
    "from sklearn.metrics import mean_squared_error\n",
    "from sklearn.metrics import mean_absolute_error\n",
    "from sklearn.linear_model import LinearRegression\n",
    "from sklearn.model_selection import cross_val_score\n",
    "from sklearn.model_selection import train_test_split\n",
    "# from sklearn.metrics import classification_report\n",
    "# from sklearn.metrics import ConfusionMatrixDisplay\n",
    "# from sklearn.metrics import RocCurveDisplay\n",
    "# from sklearn.metrics import roc_auc_score"
   ]
  },
  {
   "cell_type": "markdown",
   "metadata": {},
   "source": [
    "## 3 Data"
   ]
  },
  {
   "cell_type": "markdown",
   "metadata": {},
   "source": [
    "### 3.1 Import data"
   ]
  },
  {
   "cell_type": "markdown",
   "metadata": {},
   "source": [
    "Next we are using pandas to read the data form our CSV file and create a DataFrame which we call \"df\" and which will contain the data from the CSV file in tabular format. \n",
    "\n",
    "We also create a DataFrame \"meta\" which will contain our data dictionary. The data dictionary provides additional information about the columns and variables in \"df\". To read the data from our excel file we also use the pandas function."
   ]
  },
  {
   "cell_type": "code",
   "execution_count": 2,
   "metadata": {},
   "outputs": [],
   "source": [
    "df = pd.read_csv('../data/raw/dissections_2012_HV.csv')\n",
    "meta = pd.read_excel('../references/Data Dictionary.xlsx')"
   ]
  },
  {
   "cell_type": "markdown",
   "metadata": {},
   "source": [
    "### 3.2 Data structure"
   ]
  },
  {
   "cell_type": "markdown",
   "metadata": {},
   "source": [
    "Let´s fist take a look at the metadata. We want to get a brief overview of the data in our \"df\".\n",
    "We can see there are 25 variables. The description, role, type and format of each variable in our DataFrame can be taken from the following table:"
   ]
  },
  {
   "cell_type": "code",
   "execution_count": 3,
   "metadata": {
    "scrolled": true
   },
   "outputs": [
    {
     "data": {
      "text/html": [
       "<div>\n",
       "<style scoped>\n",
       "    .dataframe tbody tr th:only-of-type {\n",
       "        vertical-align: middle;\n",
       "    }\n",
       "\n",
       "    .dataframe tbody tr th {\n",
       "        vertical-align: top;\n",
       "    }\n",
       "\n",
       "    .dataframe thead th {\n",
       "        text-align: right;\n",
       "    }\n",
       "</style>\n",
       "<table border=\"1\" class=\"dataframe\">\n",
       "  <thead>\n",
       "    <tr style=\"text-align: right;\">\n",
       "      <th></th>\n",
       "      <th>Name</th>\n",
       "      <th>Description</th>\n",
       "      <th>Role</th>\n",
       "      <th>Type</th>\n",
       "      <th>Format</th>\n",
       "    </tr>\n",
       "  </thead>\n",
       "  <tbody>\n",
       "    <tr>\n",
       "      <th>0</th>\n",
       "      <td>year</td>\n",
       "      <td>year that stems were infested</td>\n",
       "      <td>-</td>\n",
       "      <td>numeric</td>\n",
       "      <td>int64</td>\n",
       "    </tr>\n",
       "    <tr>\n",
       "      <th>1</th>\n",
       "      <td>diss date</td>\n",
       "      <td>date dissected in the laboratory</td>\n",
       "      <td>-</td>\n",
       "      <td>numeric</td>\n",
       "      <td>object</td>\n",
       "    </tr>\n",
       "    <tr>\n",
       "      <th>2</th>\n",
       "      <td>date</td>\n",
       "      <td>date collected in the field</td>\n",
       "      <td>-</td>\n",
       "      <td>numeric</td>\n",
       "      <td>object</td>\n",
       "    </tr>\n",
       "    <tr>\n",
       "      <th>3</th>\n",
       "      <td>site</td>\n",
       "      <td>six study sites at Hungry Valley study area</td>\n",
       "      <td>Predictor</td>\n",
       "      <td>nominal</td>\n",
       "      <td>object</td>\n",
       "    </tr>\n",
       "    <tr>\n",
       "      <th>4</th>\n",
       "      <td>trt</td>\n",
       "      <td>release or not in 2008 and 2014</td>\n",
       "      <td>-</td>\n",
       "      <td>nominal</td>\n",
       "      <td>object</td>\n",
       "    </tr>\n",
       "    <tr>\n",
       "      <th>5</th>\n",
       "      <td>BC</td>\n",
       "      <td>1 = early establishment, 0 = late establishment</td>\n",
       "      <td>-</td>\n",
       "      <td>nominal</td>\n",
       "      <td>int64</td>\n",
       "    </tr>\n",
       "    <tr>\n",
       "      <th>6</th>\n",
       "      <td>stem #</td>\n",
       "      <td>stem ID</td>\n",
       "      <td>ID</td>\n",
       "      <td>numeric</td>\n",
       "      <td>int64</td>\n",
       "    </tr>\n",
       "    <tr>\n",
       "      <th>7</th>\n",
       "      <td>stem diam bottom (mm)</td>\n",
       "      <td>diameter of stem at bottom</td>\n",
       "      <td>Predictor</td>\n",
       "      <td>numeric</td>\n",
       "      <td>float64</td>\n",
       "    </tr>\n",
       "    <tr>\n",
       "      <th>8</th>\n",
       "      <td>main stem length (cm)</td>\n",
       "      <td>length of stem, excluding side branches</td>\n",
       "      <td>Predictor, response</td>\n",
       "      <td>numeric</td>\n",
       "      <td>float64</td>\n",
       "    </tr>\n",
       "    <tr>\n",
       "      <th>9</th>\n",
       "      <td>total meja</td>\n",
       "      <td>sum of no. empty chambers, dead larvae, dead p...</td>\n",
       "      <td>Predictor</td>\n",
       "      <td>numeric</td>\n",
       "      <td>int64</td>\n",
       "    </tr>\n",
       "    <tr>\n",
       "      <th>10</th>\n",
       "      <td>meja/100 cm</td>\n",
       "      <td>total meja / main stem length (cm) * 100 (cm)</td>\n",
       "      <td>Predictor</td>\n",
       "      <td>numeric</td>\n",
       "      <td>float64</td>\n",
       "    </tr>\n",
       "    <tr>\n",
       "      <th>11</th>\n",
       "      <td>infested</td>\n",
       "      <td>1 = infested by M. janthiniformis, 0 = not</td>\n",
       "      <td>Predictor, response</td>\n",
       "      <td>nominal</td>\n",
       "      <td>int64</td>\n",
       "    </tr>\n",
       "    <tr>\n",
       "      <th>12</th>\n",
       "      <td>diam top (mm)</td>\n",
       "      <td>diameter of stem at top</td>\n",
       "      <td>Predictor</td>\n",
       "      <td>numeric</td>\n",
       "      <td>float64</td>\n",
       "    </tr>\n",
       "    <tr>\n",
       "      <th>13</th>\n",
       "      <td>tip of stem broken</td>\n",
       "      <td>b = broken, c = cut</td>\n",
       "      <td>Predictor</td>\n",
       "      <td>nominal</td>\n",
       "      <td>object</td>\n",
       "    </tr>\n",
       "    <tr>\n",
       "      <th>14</th>\n",
       "      <td>side branches (cm)</td>\n",
       "      <td>cumulative length of side branches that were e...</td>\n",
       "      <td>Predictor</td>\n",
       "      <td>numeric</td>\n",
       "      <td>float64</td>\n",
       "    </tr>\n",
       "    <tr>\n",
       "      <th>15</th>\n",
       "      <td>no. empty chambers</td>\n",
       "      <td>empty M. janthiniformis pupal chambers (= emer...</td>\n",
       "      <td>Predictor</td>\n",
       "      <td>numeric</td>\n",
       "      <td>int64</td>\n",
       "    </tr>\n",
       "    <tr>\n",
       "      <th>16</th>\n",
       "      <td>total chamber length</td>\n",
       "      <td>sum of all weevil chamber lengths</td>\n",
       "      <td>Predictor</td>\n",
       "      <td>numeric</td>\n",
       "      <td>float64</td>\n",
       "    </tr>\n",
       "    <tr>\n",
       "      <th>17</th>\n",
       "      <td>live adults,number</td>\n",
       "      <td>number of live adults</td>\n",
       "      <td>-</td>\n",
       "      <td>numeric</td>\n",
       "      <td>object</td>\n",
       "    </tr>\n",
       "    <tr>\n",
       "      <th>18</th>\n",
       "      <td>dead adults,number</td>\n",
       "      <td>number of dead adults</td>\n",
       "      <td>-</td>\n",
       "      <td>numeric</td>\n",
       "      <td>object</td>\n",
       "    </tr>\n",
       "    <tr>\n",
       "      <th>19</th>\n",
       "      <td>dead larvae,numbere</td>\n",
       "      <td>number of desad larvae</td>\n",
       "      <td>-</td>\n",
       "      <td>numeric</td>\n",
       "      <td>float64</td>\n",
       "    </tr>\n",
       "    <tr>\n",
       "      <th>20</th>\n",
       "      <td>dead pupae,number</td>\n",
       "      <td>number of pupae</td>\n",
       "      <td>-</td>\n",
       "      <td>numeric</td>\n",
       "      <td>float64</td>\n",
       "    </tr>\n",
       "    <tr>\n",
       "      <th>21</th>\n",
       "      <td>parasitoid</td>\n",
       "      <td>number of hosts with parasitoids</td>\n",
       "      <td>-</td>\n",
       "      <td>numeric</td>\n",
       "      <td>float64</td>\n",
       "    </tr>\n",
       "    <tr>\n",
       "      <th>22</th>\n",
       "      <td>live pupa,number</td>\n",
       "      <td>number of live pupa</td>\n",
       "      <td>-</td>\n",
       "      <td>numeric</td>\n",
       "      <td>float64</td>\n",
       "    </tr>\n",
       "    <tr>\n",
       "      <th>23</th>\n",
       "      <td>live larva,number</td>\n",
       "      <td>number of live larva</td>\n",
       "      <td>-</td>\n",
       "      <td>numeric</td>\n",
       "      <td>float64</td>\n",
       "    </tr>\n",
       "    <tr>\n",
       "      <th>24</th>\n",
       "      <td>total no. adults</td>\n",
       "      <td>number of live + dead adults</td>\n",
       "      <td>-</td>\n",
       "      <td>numeric</td>\n",
       "      <td>int64</td>\n",
       "    </tr>\n",
       "  </tbody>\n",
       "</table>\n",
       "</div>"
      ],
      "text/plain": [
       "                     Name                                        Description  \\\n",
       "0                    year                      year that stems were infested   \n",
       "1               diss date                   date dissected in the laboratory   \n",
       "2                    date                        date collected in the field   \n",
       "3                    site        six study sites at Hungry Valley study area   \n",
       "4                     trt                    release or not in 2008 and 2014   \n",
       "5                      BC    1 = early establishment, 0 = late establishment   \n",
       "6                  stem #                                            stem ID   \n",
       "7   stem diam bottom (mm)                         diameter of stem at bottom   \n",
       "8   main stem length (cm)            length of stem, excluding side branches   \n",
       "9              total meja  sum of no. empty chambers, dead larvae, dead p...   \n",
       "10            meja/100 cm      total meja / main stem length (cm) * 100 (cm)   \n",
       "11               infested         1 = infested by M. janthiniformis, 0 = not   \n",
       "12          diam top (mm)                            diameter of stem at top   \n",
       "13     tip of stem broken                                b = broken, c = cut   \n",
       "14     side branches (cm)  cumulative length of side branches that were e...   \n",
       "15     no. empty chambers  empty M. janthiniformis pupal chambers (= emer...   \n",
       "16   total chamber length                  sum of all weevil chamber lengths   \n",
       "17     live adults,number                              number of live adults   \n",
       "18     dead adults,number                              number of dead adults   \n",
       "19    dead larvae,numbere                             number of desad larvae   \n",
       "20      dead pupae,number                                    number of pupae   \n",
       "21             parasitoid                   number of hosts with parasitoids   \n",
       "22       live pupa,number                                number of live pupa   \n",
       "23      live larva,number                               number of live larva   \n",
       "24       total no. adults                       number of live + dead adults   \n",
       "\n",
       "                   Role     Type   Format  \n",
       "0                     -  numeric  int64    \n",
       "1                     -  numeric  object   \n",
       "2                     -  numeric  object   \n",
       "3             Predictor  nominal  object   \n",
       "4                     -  nominal  object   \n",
       "5                     -  nominal  int64    \n",
       "6                    ID  numeric  int64    \n",
       "7             Predictor  numeric  float64  \n",
       "8   Predictor, response  numeric  float64  \n",
       "9             Predictor  numeric  int64    \n",
       "10            Predictor  numeric  float64  \n",
       "11  Predictor, response  nominal  int64    \n",
       "12            Predictor  numeric  float64  \n",
       "13            Predictor  nominal  object   \n",
       "14            Predictor  numeric  float64  \n",
       "15            Predictor  numeric  int64    \n",
       "16            Predictor  numeric  float64  \n",
       "17                    -  numeric  object   \n",
       "18                    -  numeric  object   \n",
       "19                    -  numeric  float64  \n",
       "20                    -  numeric  float64  \n",
       "21                    -  numeric  float64  \n",
       "22                    -  numeric  float64  \n",
       "23                    -  numeric  float64  \n",
       "24                    -  numeric  int64    "
      ]
     },
     "execution_count": 3,
     "metadata": {},
     "output_type": "execute_result"
    }
   ],
   "source": [
    "meta"
   ]
  },
  {
   "cell_type": "code",
   "execution_count": 4,
   "metadata": {},
   "outputs": [
    {
     "name": "stdout",
     "output_type": "stream",
     "text": [
      "<class 'pandas.core.frame.DataFrame'>\n",
      "RangeIndex: 1066 entries, 0 to 1065\n",
      "Data columns (total 25 columns):\n",
      " #   Column                  Non-Null Count  Dtype  \n",
      "---  ------                  --------------  -----  \n",
      " 0   year                    1066 non-null   int64  \n",
      " 1   diss date               1066 non-null   object \n",
      " 2   Date                    1066 non-null   object \n",
      " 3   site                    1066 non-null   object \n",
      " 4   trt                     1066 non-null   object \n",
      " 5   BC                      1066 non-null   int64  \n",
      " 6   stem #                  1066 non-null   int64  \n",
      " 7   stem diam bottom (mm)   1066 non-null   float64\n",
      " 8    main stem length (cm)  1066 non-null   float64\n",
      " 9   Total Meja              1066 non-null   int64  \n",
      " 10  Meja/100 cm             1066 non-null   float64\n",
      " 11  infested                1066 non-null   int64  \n",
      " 12  diam top (mm)           370 non-null    float64\n",
      " 13  Tip of Stem broken      500 non-null    object \n",
      " 14  side branches (cm)      84 non-null     float64\n",
      " 15  No. empty chambers      1066 non-null   int64  \n",
      " 16  total chamber length    140 non-null    float64\n",
      " 17  live adults             302 non-null    object \n",
      " 18  dead adults             497 non-null    object \n",
      " 19  dead larvae             304 non-null    float64\n",
      " 20  dead pupae              33 non-null     float64\n",
      " 21  parasitoid              0 non-null      float64\n",
      " 22  live pupa               0 non-null      float64\n",
      " 23  live larva              0 non-null      float64\n",
      " 24  Total No. adults        1066 non-null   int64  \n",
      "dtypes: float64(11), int64(7), object(7)\n",
      "memory usage: 208.3+ KB\n"
     ]
    }
   ],
   "source": [
    "df.info()"
   ]
  },
  {
   "cell_type": "code",
   "execution_count": 5,
   "metadata": {
    "scrolled": true
   },
   "outputs": [
    {
     "data": {
      "text/html": [
       "<div>\n",
       "<style scoped>\n",
       "    .dataframe tbody tr th:only-of-type {\n",
       "        vertical-align: middle;\n",
       "    }\n",
       "\n",
       "    .dataframe tbody tr th {\n",
       "        vertical-align: top;\n",
       "    }\n",
       "\n",
       "    .dataframe thead th {\n",
       "        text-align: right;\n",
       "    }\n",
       "</style>\n",
       "<table border=\"1\" class=\"dataframe\">\n",
       "  <thead>\n",
       "    <tr style=\"text-align: right;\">\n",
       "      <th></th>\n",
       "      <th>0</th>\n",
       "      <th>1</th>\n",
       "      <th>2</th>\n",
       "      <th>3</th>\n",
       "      <th>4</th>\n",
       "    </tr>\n",
       "  </thead>\n",
       "  <tbody>\n",
       "    <tr>\n",
       "      <th>year</th>\n",
       "      <td>2012</td>\n",
       "      <td>2012</td>\n",
       "      <td>2012</td>\n",
       "      <td>2012</td>\n",
       "      <td>2012</td>\n",
       "    </tr>\n",
       "    <tr>\n",
       "      <th>diss date</th>\n",
       "      <td>12/7/12</td>\n",
       "      <td>12/8/12</td>\n",
       "      <td>12/10/12</td>\n",
       "      <td>12/10/12</td>\n",
       "      <td>12/10/12</td>\n",
       "    </tr>\n",
       "    <tr>\n",
       "      <th>Date</th>\n",
       "      <td>12/3/12</td>\n",
       "      <td>12/3/12</td>\n",
       "      <td>12/3/12</td>\n",
       "      <td>12/3/12</td>\n",
       "      <td>12/3/12</td>\n",
       "    </tr>\n",
       "    <tr>\n",
       "      <th>site</th>\n",
       "      <td>West</td>\n",
       "      <td>West</td>\n",
       "      <td>West</td>\n",
       "      <td>West</td>\n",
       "      <td>West</td>\n",
       "    </tr>\n",
       "    <tr>\n",
       "      <th>trt</th>\n",
       "      <td>Release</td>\n",
       "      <td>Release</td>\n",
       "      <td>Release</td>\n",
       "      <td>Release</td>\n",
       "      <td>Release</td>\n",
       "    </tr>\n",
       "    <tr>\n",
       "      <th>BC</th>\n",
       "      <td>1</td>\n",
       "      <td>1</td>\n",
       "      <td>1</td>\n",
       "      <td>1</td>\n",
       "      <td>1</td>\n",
       "    </tr>\n",
       "    <tr>\n",
       "      <th>stem #</th>\n",
       "      <td>1</td>\n",
       "      <td>2</td>\n",
       "      <td>3</td>\n",
       "      <td>4</td>\n",
       "      <td>5</td>\n",
       "    </tr>\n",
       "    <tr>\n",
       "      <th>stem diam bottom (mm)</th>\n",
       "      <td>7.8</td>\n",
       "      <td>8.2</td>\n",
       "      <td>6.6</td>\n",
       "      <td>6.4</td>\n",
       "      <td>6.5</td>\n",
       "    </tr>\n",
       "    <tr>\n",
       "      <th>main stem length (cm)</th>\n",
       "      <td>64.0</td>\n",
       "      <td>57.5</td>\n",
       "      <td>33.0</td>\n",
       "      <td>59.0</td>\n",
       "      <td>45.0</td>\n",
       "    </tr>\n",
       "    <tr>\n",
       "      <th>Total Meja</th>\n",
       "      <td>21</td>\n",
       "      <td>46</td>\n",
       "      <td>32</td>\n",
       "      <td>30</td>\n",
       "      <td>31</td>\n",
       "    </tr>\n",
       "    <tr>\n",
       "      <th>Meja/100 cm</th>\n",
       "      <td>32.8</td>\n",
       "      <td>80.0</td>\n",
       "      <td>97.0</td>\n",
       "      <td>50.8</td>\n",
       "      <td>68.9</td>\n",
       "    </tr>\n",
       "    <tr>\n",
       "      <th>infested</th>\n",
       "      <td>1</td>\n",
       "      <td>1</td>\n",
       "      <td>1</td>\n",
       "      <td>1</td>\n",
       "      <td>1</td>\n",
       "    </tr>\n",
       "    <tr>\n",
       "      <th>diam top (mm)</th>\n",
       "      <td>2.6</td>\n",
       "      <td>2.2</td>\n",
       "      <td>2.6</td>\n",
       "      <td>2.6</td>\n",
       "      <td>3.0</td>\n",
       "    </tr>\n",
       "    <tr>\n",
       "      <th>Tip of Stem broken</th>\n",
       "      <td>b</td>\n",
       "      <td>b</td>\n",
       "      <td>b</td>\n",
       "      <td>b</td>\n",
       "      <td>b</td>\n",
       "    </tr>\n",
       "    <tr>\n",
       "      <th>side branches (cm)</th>\n",
       "      <td>NaN</td>\n",
       "      <td>NaN</td>\n",
       "      <td>NaN</td>\n",
       "      <td>NaN</td>\n",
       "      <td>NaN</td>\n",
       "    </tr>\n",
       "    <tr>\n",
       "      <th>No. empty chambers</th>\n",
       "      <td>4</td>\n",
       "      <td>2</td>\n",
       "      <td>0</td>\n",
       "      <td>0</td>\n",
       "      <td>0</td>\n",
       "    </tr>\n",
       "    <tr>\n",
       "      <th>total chamber length</th>\n",
       "      <td>NaN</td>\n",
       "      <td>NaN</td>\n",
       "      <td>NaN</td>\n",
       "      <td>NaN</td>\n",
       "      <td>NaN</td>\n",
       "    </tr>\n",
       "    <tr>\n",
       "      <th>live adults</th>\n",
       "      <td>-</td>\n",
       "      <td>-</td>\n",
       "      <td>-</td>\n",
       "      <td>-</td>\n",
       "      <td>-</td>\n",
       "    </tr>\n",
       "    <tr>\n",
       "      <th>dead adults</th>\n",
       "      <td>-</td>\n",
       "      <td>-</td>\n",
       "      <td>-</td>\n",
       "      <td>-</td>\n",
       "      <td>-</td>\n",
       "    </tr>\n",
       "    <tr>\n",
       "      <th>dead larvae</th>\n",
       "      <td>0.0</td>\n",
       "      <td>0.0</td>\n",
       "      <td>0.0</td>\n",
       "      <td>0.0</td>\n",
       "      <td>0.0</td>\n",
       "    </tr>\n",
       "    <tr>\n",
       "      <th>dead pupae</th>\n",
       "      <td>NaN</td>\n",
       "      <td>NaN</td>\n",
       "      <td>NaN</td>\n",
       "      <td>NaN</td>\n",
       "      <td>NaN</td>\n",
       "    </tr>\n",
       "    <tr>\n",
       "      <th>parasitoid</th>\n",
       "      <td>NaN</td>\n",
       "      <td>NaN</td>\n",
       "      <td>NaN</td>\n",
       "      <td>NaN</td>\n",
       "      <td>NaN</td>\n",
       "    </tr>\n",
       "    <tr>\n",
       "      <th>live pupa</th>\n",
       "      <td>NaN</td>\n",
       "      <td>NaN</td>\n",
       "      <td>NaN</td>\n",
       "      <td>NaN</td>\n",
       "      <td>NaN</td>\n",
       "    </tr>\n",
       "    <tr>\n",
       "      <th>live larva</th>\n",
       "      <td>NaN</td>\n",
       "      <td>NaN</td>\n",
       "      <td>NaN</td>\n",
       "      <td>NaN</td>\n",
       "      <td>NaN</td>\n",
       "    </tr>\n",
       "    <tr>\n",
       "      <th>Total No. adults</th>\n",
       "      <td>17</td>\n",
       "      <td>44</td>\n",
       "      <td>32</td>\n",
       "      <td>30</td>\n",
       "      <td>31</td>\n",
       "    </tr>\n",
       "  </tbody>\n",
       "</table>\n",
       "</div>"
      ],
      "text/plain": [
       "                              0        1         2         3         4\n",
       "year                       2012     2012      2012      2012      2012\n",
       "diss date               12/7/12  12/8/12  12/10/12  12/10/12  12/10/12\n",
       "Date                    12/3/12  12/3/12   12/3/12   12/3/12   12/3/12\n",
       "site                       West     West      West      West      West\n",
       "trt                     Release  Release   Release   Release   Release\n",
       "BC                            1        1         1         1         1\n",
       "stem #                        1        2         3         4         5\n",
       "stem diam bottom (mm)       7.8      8.2       6.6       6.4       6.5\n",
       " main stem length (cm)     64.0     57.5      33.0      59.0      45.0\n",
       "Total Meja                   21       46        32        30        31\n",
       "Meja/100 cm                32.8     80.0      97.0      50.8      68.9\n",
       "infested                      1        1         1         1         1\n",
       "diam top (mm)               2.6      2.2       2.6       2.6       3.0\n",
       "Tip of Stem broken            b        b         b         b         b\n",
       "side branches (cm)          NaN      NaN       NaN       NaN       NaN\n",
       "No. empty chambers            4        2         0         0         0\n",
       "total chamber length        NaN      NaN       NaN       NaN       NaN\n",
       "live adults                   -        -         -         -         -\n",
       "dead adults                   -        -         -         -         -\n",
       "dead larvae                 0.0      0.0       0.0       0.0       0.0\n",
       "dead pupae                  NaN      NaN       NaN       NaN       NaN\n",
       "parasitoid                  NaN      NaN       NaN       NaN       NaN\n",
       "live pupa                   NaN      NaN       NaN       NaN       NaN\n",
       "live larva                  NaN      NaN       NaN       NaN       NaN\n",
       "Total No. adults             17       44        32        30        31"
      ]
     },
     "execution_count": 5,
     "metadata": {},
     "output_type": "execute_result"
    }
   ],
   "source": [
    "df.head().T"
   ]
  },
  {
   "cell_type": "code",
   "execution_count": 6,
   "metadata": {
    "scrolled": true
   },
   "outputs": [
    {
     "data": {
      "text/html": [
       "<div>\n",
       "<style scoped>\n",
       "    .dataframe tbody tr th:only-of-type {\n",
       "        vertical-align: middle;\n",
       "    }\n",
       "\n",
       "    .dataframe tbody tr th {\n",
       "        vertical-align: top;\n",
       "    }\n",
       "\n",
       "    .dataframe thead th {\n",
       "        text-align: right;\n",
       "    }\n",
       "</style>\n",
       "<table border=\"1\" class=\"dataframe\">\n",
       "  <thead>\n",
       "    <tr style=\"text-align: right;\">\n",
       "      <th></th>\n",
       "      <th>1061</th>\n",
       "      <th>1062</th>\n",
       "      <th>1063</th>\n",
       "      <th>1064</th>\n",
       "      <th>1065</th>\n",
       "    </tr>\n",
       "  </thead>\n",
       "  <tbody>\n",
       "    <tr>\n",
       "      <th>year</th>\n",
       "      <td>2018</td>\n",
       "      <td>2018</td>\n",
       "      <td>2018</td>\n",
       "      <td>2018</td>\n",
       "      <td>2018</td>\n",
       "    </tr>\n",
       "    <tr>\n",
       "      <th>diss date</th>\n",
       "      <td>8/23/19</td>\n",
       "      <td>8/23/19</td>\n",
       "      <td>8/23/19</td>\n",
       "      <td>8/23/19</td>\n",
       "      <td>8/23/19</td>\n",
       "    </tr>\n",
       "    <tr>\n",
       "      <th>Date</th>\n",
       "      <td>5/9/19</td>\n",
       "      <td>5/9/19</td>\n",
       "      <td>5/9/19</td>\n",
       "      <td>5/9/19</td>\n",
       "      <td>5/9/19</td>\n",
       "    </tr>\n",
       "    <tr>\n",
       "      <th>site</th>\n",
       "      <td>USFS-North</td>\n",
       "      <td>USFS-North</td>\n",
       "      <td>USFS-North</td>\n",
       "      <td>USFS-North</td>\n",
       "      <td>USFS-North</td>\n",
       "    </tr>\n",
       "    <tr>\n",
       "      <th>trt</th>\n",
       "      <td>Check</td>\n",
       "      <td>Check</td>\n",
       "      <td>Check</td>\n",
       "      <td>Check</td>\n",
       "      <td>Check</td>\n",
       "    </tr>\n",
       "    <tr>\n",
       "      <th>BC</th>\n",
       "      <td>1</td>\n",
       "      <td>1</td>\n",
       "      <td>1</td>\n",
       "      <td>1</td>\n",
       "      <td>1</td>\n",
       "    </tr>\n",
       "    <tr>\n",
       "      <th>stem #</th>\n",
       "      <td>16</td>\n",
       "      <td>17</td>\n",
       "      <td>18</td>\n",
       "      <td>19</td>\n",
       "      <td>20</td>\n",
       "    </tr>\n",
       "    <tr>\n",
       "      <th>stem diam bottom (mm)</th>\n",
       "      <td>4.5</td>\n",
       "      <td>5.3</td>\n",
       "      <td>6.8</td>\n",
       "      <td>6.9</td>\n",
       "      <td>7.1</td>\n",
       "    </tr>\n",
       "    <tr>\n",
       "      <th>main stem length (cm)</th>\n",
       "      <td>46.0</td>\n",
       "      <td>51.0</td>\n",
       "      <td>109.0</td>\n",
       "      <td>104.0</td>\n",
       "      <td>96.0</td>\n",
       "    </tr>\n",
       "    <tr>\n",
       "      <th>Total Meja</th>\n",
       "      <td>8</td>\n",
       "      <td>1</td>\n",
       "      <td>4</td>\n",
       "      <td>1</td>\n",
       "      <td>2</td>\n",
       "    </tr>\n",
       "    <tr>\n",
       "      <th>Meja/100 cm</th>\n",
       "      <td>17.4</td>\n",
       "      <td>2.0</td>\n",
       "      <td>3.7</td>\n",
       "      <td>1.0</td>\n",
       "      <td>2.1</td>\n",
       "    </tr>\n",
       "    <tr>\n",
       "      <th>infested</th>\n",
       "      <td>1</td>\n",
       "      <td>1</td>\n",
       "      <td>1</td>\n",
       "      <td>1</td>\n",
       "      <td>1</td>\n",
       "    </tr>\n",
       "    <tr>\n",
       "      <th>diam top (mm)</th>\n",
       "      <td>NaN</td>\n",
       "      <td>2.1</td>\n",
       "      <td>NaN</td>\n",
       "      <td>NaN</td>\n",
       "      <td>NaN</td>\n",
       "    </tr>\n",
       "    <tr>\n",
       "      <th>Tip of Stem broken</th>\n",
       "      <td>NaN</td>\n",
       "      <td>b</td>\n",
       "      <td>NaN</td>\n",
       "      <td>NaN</td>\n",
       "      <td>NaN</td>\n",
       "    </tr>\n",
       "    <tr>\n",
       "      <th>side branches (cm)</th>\n",
       "      <td>NaN</td>\n",
       "      <td>NaN</td>\n",
       "      <td>NaN</td>\n",
       "      <td>NaN</td>\n",
       "      <td>NaN</td>\n",
       "    </tr>\n",
       "    <tr>\n",
       "      <th>No. empty chambers</th>\n",
       "      <td>6</td>\n",
       "      <td>0</td>\n",
       "      <td>4</td>\n",
       "      <td>1</td>\n",
       "      <td>2</td>\n",
       "    </tr>\n",
       "    <tr>\n",
       "      <th>total chamber length</th>\n",
       "      <td>NaN</td>\n",
       "      <td>NaN</td>\n",
       "      <td>NaN</td>\n",
       "      <td>NaN</td>\n",
       "      <td>NaN</td>\n",
       "    </tr>\n",
       "    <tr>\n",
       "      <th>live adults</th>\n",
       "      <td>NaN</td>\n",
       "      <td>NaN</td>\n",
       "      <td>NaN</td>\n",
       "      <td>NaN</td>\n",
       "      <td>NaN</td>\n",
       "    </tr>\n",
       "    <tr>\n",
       "      <th>dead adults</th>\n",
       "      <td>2</td>\n",
       "      <td>1</td>\n",
       "      <td>0</td>\n",
       "      <td>0</td>\n",
       "      <td>0</td>\n",
       "    </tr>\n",
       "    <tr>\n",
       "      <th>dead larvae</th>\n",
       "      <td>NaN</td>\n",
       "      <td>NaN</td>\n",
       "      <td>NaN</td>\n",
       "      <td>NaN</td>\n",
       "      <td>NaN</td>\n",
       "    </tr>\n",
       "    <tr>\n",
       "      <th>dead pupae</th>\n",
       "      <td>NaN</td>\n",
       "      <td>NaN</td>\n",
       "      <td>NaN</td>\n",
       "      <td>NaN</td>\n",
       "      <td>NaN</td>\n",
       "    </tr>\n",
       "    <tr>\n",
       "      <th>parasitoid</th>\n",
       "      <td>NaN</td>\n",
       "      <td>NaN</td>\n",
       "      <td>NaN</td>\n",
       "      <td>NaN</td>\n",
       "      <td>NaN</td>\n",
       "    </tr>\n",
       "    <tr>\n",
       "      <th>live pupa</th>\n",
       "      <td>NaN</td>\n",
       "      <td>NaN</td>\n",
       "      <td>NaN</td>\n",
       "      <td>NaN</td>\n",
       "      <td>NaN</td>\n",
       "    </tr>\n",
       "    <tr>\n",
       "      <th>live larva</th>\n",
       "      <td>NaN</td>\n",
       "      <td>NaN</td>\n",
       "      <td>NaN</td>\n",
       "      <td>NaN</td>\n",
       "      <td>NaN</td>\n",
       "    </tr>\n",
       "    <tr>\n",
       "      <th>Total No. adults</th>\n",
       "      <td>2</td>\n",
       "      <td>1</td>\n",
       "      <td>0</td>\n",
       "      <td>0</td>\n",
       "      <td>0</td>\n",
       "    </tr>\n",
       "  </tbody>\n",
       "</table>\n",
       "</div>"
      ],
      "text/plain": [
       "                              1061        1062        1063        1064  \\\n",
       "year                          2018        2018        2018        2018   \n",
       "diss date                  8/23/19     8/23/19     8/23/19     8/23/19   \n",
       "Date                        5/9/19      5/9/19      5/9/19      5/9/19   \n",
       "site                    USFS-North  USFS-North  USFS-North  USFS-North   \n",
       "trt                          Check       Check       Check       Check   \n",
       "BC                               1           1           1           1   \n",
       "stem #                          16          17          18          19   \n",
       "stem diam bottom (mm)          4.5         5.3         6.8         6.9   \n",
       " main stem length (cm)        46.0        51.0       109.0       104.0   \n",
       "Total Meja                       8           1           4           1   \n",
       "Meja/100 cm                   17.4         2.0         3.7         1.0   \n",
       "infested                         1           1           1           1   \n",
       "diam top (mm)                  NaN         2.1         NaN         NaN   \n",
       "Tip of Stem broken             NaN           b         NaN         NaN   \n",
       "side branches (cm)             NaN         NaN         NaN         NaN   \n",
       "No. empty chambers               6           0           4           1   \n",
       "total chamber length           NaN         NaN         NaN         NaN   \n",
       "live adults                    NaN         NaN         NaN         NaN   \n",
       "dead adults                      2           1           0           0   \n",
       "dead larvae                    NaN         NaN         NaN         NaN   \n",
       "dead pupae                     NaN         NaN         NaN         NaN   \n",
       "parasitoid                     NaN         NaN         NaN         NaN   \n",
       "live pupa                      NaN         NaN         NaN         NaN   \n",
       "live larva                     NaN         NaN         NaN         NaN   \n",
       "Total No. adults                 2           1           0           0   \n",
       "\n",
       "                              1065  \n",
       "year                          2018  \n",
       "diss date                  8/23/19  \n",
       "Date                        5/9/19  \n",
       "site                    USFS-North  \n",
       "trt                          Check  \n",
       "BC                               1  \n",
       "stem #                          20  \n",
       "stem diam bottom (mm)          7.1  \n",
       " main stem length (cm)        96.0  \n",
       "Total Meja                       2  \n",
       "Meja/100 cm                    2.1  \n",
       "infested                         1  \n",
       "diam top (mm)                  NaN  \n",
       "Tip of Stem broken             NaN  \n",
       "side branches (cm)             NaN  \n",
       "No. empty chambers               2  \n",
       "total chamber length           NaN  \n",
       "live adults                    NaN  \n",
       "dead adults                      0  \n",
       "dead larvae                    NaN  \n",
       "dead pupae                     NaN  \n",
       "parasitoid                     NaN  \n",
       "live pupa                      NaN  \n",
       "live larva                     NaN  \n",
       "Total No. adults                 0  "
      ]
     },
     "execution_count": 6,
     "metadata": {},
     "output_type": "execute_result"
    }
   ],
   "source": [
    "df.tail().T"
   ]
  },
  {
   "cell_type": "markdown",
   "metadata": {},
   "source": [
    "We use the describe function to compute summary statistics for all numerical columns in our DataFrame. It includes the count, mean, standard deviation, minimum, 25th percentile (Q1), 50th percentile (median), 75th percentile (Q3), and maximum. \n",
    "To switch rows and columns the transpose operation is used."
   ]
  },
  {
   "cell_type": "code",
   "execution_count": 7,
   "metadata": {
    "scrolled": true
   },
   "outputs": [
    {
     "data": {
      "text/html": [
       "<div>\n",
       "<style scoped>\n",
       "    .dataframe tbody tr th:only-of-type {\n",
       "        vertical-align: middle;\n",
       "    }\n",
       "\n",
       "    .dataframe tbody tr th {\n",
       "        vertical-align: top;\n",
       "    }\n",
       "\n",
       "    .dataframe thead th {\n",
       "        text-align: right;\n",
       "    }\n",
       "</style>\n",
       "<table border=\"1\" class=\"dataframe\">\n",
       "  <thead>\n",
       "    <tr style=\"text-align: right;\">\n",
       "      <th></th>\n",
       "      <th>count</th>\n",
       "      <th>mean</th>\n",
       "      <th>std</th>\n",
       "      <th>min</th>\n",
       "      <th>25%</th>\n",
       "      <th>50%</th>\n",
       "      <th>75%</th>\n",
       "      <th>max</th>\n",
       "    </tr>\n",
       "  </thead>\n",
       "  <tbody>\n",
       "    <tr>\n",
       "      <th>year</th>\n",
       "      <td>1066.0</td>\n",
       "      <td>2014.288931</td>\n",
       "      <td>2.034678</td>\n",
       "      <td>2012.0</td>\n",
       "      <td>2012.000</td>\n",
       "      <td>2014.00</td>\n",
       "      <td>2016.000</td>\n",
       "      <td>2018.0</td>\n",
       "    </tr>\n",
       "    <tr>\n",
       "      <th>BC</th>\n",
       "      <td>1066.0</td>\n",
       "      <td>0.487805</td>\n",
       "      <td>0.500086</td>\n",
       "      <td>0.0</td>\n",
       "      <td>0.000</td>\n",
       "      <td>0.00</td>\n",
       "      <td>1.000</td>\n",
       "      <td>1.0</td>\n",
       "    </tr>\n",
       "    <tr>\n",
       "      <th>stem #</th>\n",
       "      <td>1066.0</td>\n",
       "      <td>25.863039</td>\n",
       "      <td>29.670016</td>\n",
       "      <td>1.0</td>\n",
       "      <td>8.000</td>\n",
       "      <td>15.00</td>\n",
       "      <td>32.000</td>\n",
       "      <td>141.0</td>\n",
       "    </tr>\n",
       "    <tr>\n",
       "      <th>stem diam bottom (mm)</th>\n",
       "      <td>1066.0</td>\n",
       "      <td>4.963227</td>\n",
       "      <td>1.832666</td>\n",
       "      <td>1.1</td>\n",
       "      <td>3.700</td>\n",
       "      <td>4.90</td>\n",
       "      <td>6.200</td>\n",
       "      <td>12.2</td>\n",
       "    </tr>\n",
       "    <tr>\n",
       "      <th>main stem length (cm)</th>\n",
       "      <td>1066.0</td>\n",
       "      <td>51.277674</td>\n",
       "      <td>24.923005</td>\n",
       "      <td>2.0</td>\n",
       "      <td>34.000</td>\n",
       "      <td>49.00</td>\n",
       "      <td>67.000</td>\n",
       "      <td>135.0</td>\n",
       "    </tr>\n",
       "    <tr>\n",
       "      <th>Total Meja</th>\n",
       "      <td>1066.0</td>\n",
       "      <td>5.273921</td>\n",
       "      <td>9.163923</td>\n",
       "      <td>0.0</td>\n",
       "      <td>0.000</td>\n",
       "      <td>0.00</td>\n",
       "      <td>8.000</td>\n",
       "      <td>67.0</td>\n",
       "    </tr>\n",
       "    <tr>\n",
       "      <th>Meja/100 cm</th>\n",
       "      <td>1066.0</td>\n",
       "      <td>11.513602</td>\n",
       "      <td>20.270924</td>\n",
       "      <td>0.0</td>\n",
       "      <td>0.000</td>\n",
       "      <td>0.00</td>\n",
       "      <td>15.550</td>\n",
       "      <td>133.3</td>\n",
       "    </tr>\n",
       "    <tr>\n",
       "      <th>infested</th>\n",
       "      <td>1066.0</td>\n",
       "      <td>0.454034</td>\n",
       "      <td>0.498116</td>\n",
       "      <td>0.0</td>\n",
       "      <td>0.000</td>\n",
       "      <td>0.00</td>\n",
       "      <td>1.000</td>\n",
       "      <td>1.0</td>\n",
       "    </tr>\n",
       "    <tr>\n",
       "      <th>diam top (mm)</th>\n",
       "      <td>370.0</td>\n",
       "      <td>1.781081</td>\n",
       "      <td>1.224510</td>\n",
       "      <td>0.2</td>\n",
       "      <td>0.900</td>\n",
       "      <td>1.50</td>\n",
       "      <td>2.300</td>\n",
       "      <td>7.6</td>\n",
       "    </tr>\n",
       "    <tr>\n",
       "      <th>side branches (cm)</th>\n",
       "      <td>84.0</td>\n",
       "      <td>60.226190</td>\n",
       "      <td>47.528647</td>\n",
       "      <td>8.0</td>\n",
       "      <td>29.500</td>\n",
       "      <td>45.50</td>\n",
       "      <td>76.750</td>\n",
       "      <td>250.0</td>\n",
       "    </tr>\n",
       "    <tr>\n",
       "      <th>No. empty chambers</th>\n",
       "      <td>1066.0</td>\n",
       "      <td>2.537523</td>\n",
       "      <td>5.789500</td>\n",
       "      <td>0.0</td>\n",
       "      <td>0.000</td>\n",
       "      <td>0.00</td>\n",
       "      <td>2.000</td>\n",
       "      <td>54.0</td>\n",
       "    </tr>\n",
       "    <tr>\n",
       "      <th>total chamber length</th>\n",
       "      <td>140.0</td>\n",
       "      <td>108.002071</td>\n",
       "      <td>83.289937</td>\n",
       "      <td>0.0</td>\n",
       "      <td>45.025</td>\n",
       "      <td>90.25</td>\n",
       "      <td>149.875</td>\n",
       "      <td>429.5</td>\n",
       "    </tr>\n",
       "    <tr>\n",
       "      <th>dead larvae</th>\n",
       "      <td>304.0</td>\n",
       "      <td>0.095395</td>\n",
       "      <td>0.539629</td>\n",
       "      <td>0.0</td>\n",
       "      <td>0.000</td>\n",
       "      <td>0.00</td>\n",
       "      <td>0.000</td>\n",
       "      <td>6.0</td>\n",
       "    </tr>\n",
       "    <tr>\n",
       "      <th>dead pupae</th>\n",
       "      <td>33.0</td>\n",
       "      <td>1.606061</td>\n",
       "      <td>1.116339</td>\n",
       "      <td>1.0</td>\n",
       "      <td>1.000</td>\n",
       "      <td>1.00</td>\n",
       "      <td>2.000</td>\n",
       "      <td>6.0</td>\n",
       "    </tr>\n",
       "    <tr>\n",
       "      <th>parasitoid</th>\n",
       "      <td>0.0</td>\n",
       "      <td>NaN</td>\n",
       "      <td>NaN</td>\n",
       "      <td>NaN</td>\n",
       "      <td>NaN</td>\n",
       "      <td>NaN</td>\n",
       "      <td>NaN</td>\n",
       "      <td>NaN</td>\n",
       "    </tr>\n",
       "    <tr>\n",
       "      <th>live pupa</th>\n",
       "      <td>0.0</td>\n",
       "      <td>NaN</td>\n",
       "      <td>NaN</td>\n",
       "      <td>NaN</td>\n",
       "      <td>NaN</td>\n",
       "      <td>NaN</td>\n",
       "      <td>NaN</td>\n",
       "      <td>NaN</td>\n",
       "    </tr>\n",
       "    <tr>\n",
       "      <th>live larva</th>\n",
       "      <td>0.0</td>\n",
       "      <td>NaN</td>\n",
       "      <td>NaN</td>\n",
       "      <td>NaN</td>\n",
       "      <td>NaN</td>\n",
       "      <td>NaN</td>\n",
       "      <td>NaN</td>\n",
       "      <td>NaN</td>\n",
       "    </tr>\n",
       "    <tr>\n",
       "      <th>Total No. adults</th>\n",
       "      <td>1066.0</td>\n",
       "      <td>2.659475</td>\n",
       "      <td>6.732263</td>\n",
       "      <td>0.0</td>\n",
       "      <td>0.000</td>\n",
       "      <td>0.00</td>\n",
       "      <td>1.000</td>\n",
       "      <td>66.0</td>\n",
       "    </tr>\n",
       "  </tbody>\n",
       "</table>\n",
       "</div>"
      ],
      "text/plain": [
       "                         count         mean        std     min       25%  \\\n",
       "year                    1066.0  2014.288931   2.034678  2012.0  2012.000   \n",
       "BC                      1066.0     0.487805   0.500086     0.0     0.000   \n",
       "stem #                  1066.0    25.863039  29.670016     1.0     8.000   \n",
       "stem diam bottom (mm)   1066.0     4.963227   1.832666     1.1     3.700   \n",
       " main stem length (cm)  1066.0    51.277674  24.923005     2.0    34.000   \n",
       "Total Meja              1066.0     5.273921   9.163923     0.0     0.000   \n",
       "Meja/100 cm             1066.0    11.513602  20.270924     0.0     0.000   \n",
       "infested                1066.0     0.454034   0.498116     0.0     0.000   \n",
       "diam top (mm)            370.0     1.781081   1.224510     0.2     0.900   \n",
       "side branches (cm)        84.0    60.226190  47.528647     8.0    29.500   \n",
       "No. empty chambers      1066.0     2.537523   5.789500     0.0     0.000   \n",
       "total chamber length     140.0   108.002071  83.289937     0.0    45.025   \n",
       "dead larvae              304.0     0.095395   0.539629     0.0     0.000   \n",
       "dead pupae                33.0     1.606061   1.116339     1.0     1.000   \n",
       "parasitoid                 0.0          NaN        NaN     NaN       NaN   \n",
       "live pupa                  0.0          NaN        NaN     NaN       NaN   \n",
       "live larva                 0.0          NaN        NaN     NaN       NaN   \n",
       "Total No. adults        1066.0     2.659475   6.732263     0.0     0.000   \n",
       "\n",
       "                            50%       75%     max  \n",
       "year                    2014.00  2016.000  2018.0  \n",
       "BC                         0.00     1.000     1.0  \n",
       "stem #                    15.00    32.000   141.0  \n",
       "stem diam bottom (mm)      4.90     6.200    12.2  \n",
       " main stem length (cm)    49.00    67.000   135.0  \n",
       "Total Meja                 0.00     8.000    67.0  \n",
       "Meja/100 cm                0.00    15.550   133.3  \n",
       "infested                   0.00     1.000     1.0  \n",
       "diam top (mm)              1.50     2.300     7.6  \n",
       "side branches (cm)        45.50    76.750   250.0  \n",
       "No. empty chambers         0.00     2.000    54.0  \n",
       "total chamber length      90.25   149.875   429.5  \n",
       "dead larvae                0.00     0.000     6.0  \n",
       "dead pupae                 1.00     2.000     6.0  \n",
       "parasitoid                  NaN       NaN     NaN  \n",
       "live pupa                   NaN       NaN     NaN  \n",
       "live larva                  NaN       NaN     NaN  \n",
       "Total No. adults           0.00     1.000    66.0  "
      ]
     },
     "execution_count": 7,
     "metadata": {},
     "output_type": "execute_result"
    }
   ],
   "source": [
    "df.describe().T"
   ]
  },
  {
   "cell_type": "markdown",
   "metadata": {},
   "source": [
    "### 3.3 Data corrections"
   ]
  },
  {
   "cell_type": "markdown",
   "metadata": {},
   "source": [
    "Data corrections must be carried out as a basis for data analysis. We start by taking a look at the columns designations:"
   ]
  },
  {
   "cell_type": "code",
   "execution_count": 8,
   "metadata": {},
   "outputs": [
    {
     "data": {
      "text/plain": [
       "Index(['year', 'diss date', 'Date', 'site', 'trt', 'BC', 'stem #',\n",
       "       'stem diam bottom (mm)', ' main stem length (cm)', 'Total Meja',\n",
       "       'Meja/100 cm', 'infested', 'diam top (mm)', 'Tip of Stem broken',\n",
       "       'side branches (cm)', 'No. empty chambers', 'total chamber length',\n",
       "       'live adults', 'dead adults', 'dead larvae', 'dead pupae', 'parasitoid',\n",
       "       'live pupa', 'live larva', 'Total No. adults'],\n",
       "      dtype='object')"
      ]
     },
     "execution_count": 8,
     "metadata": {},
     "output_type": "execute_result"
    }
   ],
   "source": [
    "df.columns"
   ]
  },
  {
   "cell_type": "markdown",
   "metadata": {},
   "source": [
    "We quickly see that the column names have some peculiarities that can lead to problems for example upper and lower case, special characters. Therefore we want to standardize column names and make them more consistent by using regular expressions.\n",
    "\n",
    "We start by using str.lower in order to convert all characters in string to lowercase."
   ]
  },
  {
   "cell_type": "code",
   "execution_count": 9,
   "metadata": {},
   "outputs": [],
   "source": [
    "df.columns = df.columns.str.lower()"
   ]
  },
  {
   "cell_type": "markdown",
   "metadata": {},
   "source": [
    "For the column \"stem #\" we want to replace # by ID."
   ]
  },
  {
   "cell_type": "code",
   "execution_count": 10,
   "metadata": {},
   "outputs": [],
   "source": [
    "df.columns = df.columns.str.replace(r\"\\#\", r\"id\", regex=True)"
   ]
  },
  {
   "cell_type": "markdown",
   "metadata": {},
   "source": [
    "Next we are removing leading and trailing whitespaces from each column name."
   ]
  },
  {
   "cell_type": "code",
   "execution_count": 11,
   "metadata": {},
   "outputs": [],
   "source": [
    "df.columns = df.columns.str.replace(r\"^\\s+|\\s+$\", r\"\", regex=True)"
   ]
  },
  {
   "cell_type": "markdown",
   "metadata": {},
   "source": [
    "Moreover we are replacing all spaces in each column name with underscores."
   ]
  },
  {
   "cell_type": "code",
   "execution_count": 12,
   "metadata": {},
   "outputs": [],
   "source": [
    "df.columns = df.columns.str.replace(r\"\\s\", r\"_\", regex=True)"
   ]
  },
  {
   "cell_type": "markdown",
   "metadata": {},
   "source": [
    "In the beginning we saw that many special characters are being used and units are given in brackets. With the next codeline we are replacing all opening brackets in each column name with \"in_\"."
   ]
  },
  {
   "cell_type": "code",
   "execution_count": 13,
   "metadata": {},
   "outputs": [],
   "source": [
    "df.columns = df.columns.str.replace(r\"\\(\", r\"in_\", regex=True)"
   ]
  },
  {
   "cell_type": "markdown",
   "metadata": {},
   "source": [
    "After that we are removing all closing brackets in each column name."
   ]
  },
  {
   "cell_type": "code",
   "execution_count": 14,
   "metadata": {},
   "outputs": [],
   "source": [
    "df.columns = df.columns.str.replace(r\"\\)\", r\"\", regex=True)"
   ]
  },
  {
   "cell_type": "markdown",
   "metadata": {},
   "source": [
    "Moreover we have to remove all periods and replace all forward slashes in each column name with \"per\"."
   ]
  },
  {
   "cell_type": "code",
   "execution_count": 15,
   "metadata": {},
   "outputs": [],
   "source": [
    "df.columns = df.columns.str.replace(r\"\\/\", r\"_per_\", regex=True)"
   ]
  },
  {
   "cell_type": "code",
   "execution_count": 16,
   "metadata": {},
   "outputs": [],
   "source": [
    "df.columns = df.columns.str.replace(r\"\\.\", r\"\", regex=True)"
   ]
  },
  {
   "cell_type": "markdown",
   "metadata": {},
   "source": [
    "In the next codelines we are replacing no by number and year by year_infested."
   ]
  },
  {
   "cell_type": "code",
   "execution_count": 17,
   "metadata": {},
   "outputs": [],
   "source": [
    "df.columns = df.columns.str.replace(r\"no\", r\"number\", regex=True)"
   ]
  },
  {
   "cell_type": "code",
   "execution_count": 18,
   "metadata": {},
   "outputs": [],
   "source": [
    "df.rename(columns={'year': 'year_infested'}, inplace=True)"
   ]
  },
  {
   "cell_type": "markdown",
   "metadata": {},
   "source": [
    "As some columns contain no data or data that is not relevant for further analysis, we omit the corresponding columns."
   ]
  },
  {
   "cell_type": "code",
   "execution_count": 19,
   "metadata": {},
   "outputs": [],
   "source": [
    "df = df.drop(columns=['bc', 'trt', 'live_adults', 'dead_adults', 'dead_larvae', 'dead_pupae', 'parasitoid', 'live_pupa', 'live_larva'])"
   ]
  },
  {
   "cell_type": "markdown",
   "metadata": {},
   "source": [
    "In the \"tip_of_stem_broken\" column, c stands for cut and b for broken. If neither c nor b is given, we assume that the tip of the stem is intact. An intact tip leads to a greater length of the main stem, and we want to use the data as a categorical predictor. Therefore, a broken or cut stem tip is assigned the value 1 and an intact stem tip is assigned the value 0. We are using a loop to iterate over the values in the 'tip_of_stem_broken' column. For each value, it checks if the value is equal to 'b' or 'c'. If the condition is true, it assigns the value 1 to the corresponding cell in the 'tip_of_stem_broken' column, otherwise, it assigns the value 0."
   ]
  },
  {
   "cell_type": "code",
   "execution_count": 20,
   "metadata": {},
   "outputs": [],
   "source": [
    "for v in range(len(df['tip_of_stem_broken'])):\n",
    "    if df.loc[v, 'tip_of_stem_broken'] == 'b' or df.at[v, 'tip_of_stem_broken'] == 'c':\n",
    "        df.loc[v, 'tip_of_stem_broken'] = 1\n",
    "    else:\n",
    "        df.loc[v, 'tip_of_stem_broken'] = 0"
   ]
  },
  {
   "cell_type": "markdown",
   "metadata": {},
   "source": [
    "Afterwards we converte the values in the column to integer type."
   ]
  },
  {
   "cell_type": "code",
   "execution_count": 21,
   "metadata": {},
   "outputs": [],
   "source": [
    "df['tip_of_stem_broken'] = df['tip_of_stem_broken'].astype('int64')"
   ]
  },
  {
   "cell_type": "code",
   "execution_count": 22,
   "metadata": {},
   "outputs": [],
   "source": [
    "#df.dropna(axis=1, inplace=True)"
   ]
  },
  {
   "cell_type": "markdown",
   "metadata": {},
   "source": [
    "Moreover a few other convertions have to be made.\n",
    "The values in column \"site\" are converted to category type and the values in columns \"date\" and \"diss_date\" are converted to datetime objects but we only extract the date component."
   ]
  },
  {
   "cell_type": "code",
   "execution_count": 23,
   "metadata": {},
   "outputs": [],
   "source": [
    "df['site'] = df['site'].astype('category')"
   ]
  },
  {
   "cell_type": "code",
   "execution_count": 24,
   "metadata": {},
   "outputs": [],
   "source": [
    "df['date'] = pd.to_datetime(df['date'], format='%m/%d/%y')\n",
    "df['date'] = df['date'].dt.date"
   ]
  },
  {
   "cell_type": "code",
   "execution_count": 25,
   "metadata": {},
   "outputs": [],
   "source": [
    "df['diss_date'] = pd.to_datetime(df['diss_date'], format='%m/%d/%y')\n",
    "df['diss_date'] = df['diss_date'].dt.date"
   ]
  },
  {
   "cell_type": "markdown",
   "metadata": {},
   "source": [
    "At last we are converting the values in the two diameter columns from millimeters to centimeters and round to two decimal places. New columns are crated for the diameter columns in centimeters."
   ]
  },
  {
   "cell_type": "code",
   "execution_count": 26,
   "metadata": {},
   "outputs": [],
   "source": [
    "df['stem_diam_bottom_in_cm'] = df.loc[:, 'stem_diam_bottom_in_mm'] / 10"
   ]
  },
  {
   "cell_type": "code",
   "execution_count": 27,
   "metadata": {},
   "outputs": [],
   "source": [
    "df[['stem_diam_bottom_in_cm']] = df[['stem_diam_bottom_in_cm']].round(2)"
   ]
  },
  {
   "cell_type": "code",
   "execution_count": 28,
   "metadata": {},
   "outputs": [],
   "source": [
    "df['diam_top_in_cm'] = df.loc[:, 'diam_top_in_mm'] / 10"
   ]
  },
  {
   "cell_type": "markdown",
   "metadata": {},
   "source": [
    "This is the final result of the columns names:"
   ]
  },
  {
   "cell_type": "code",
   "execution_count": 29,
   "metadata": {},
   "outputs": [
    {
     "data": {
      "text/plain": [
       "Index(['year_infested', 'diss_date', 'date', 'site', 'stem_id',\n",
       "       'stem_diam_bottom_in_mm', 'main_stem_length_in_cm', 'total_meja',\n",
       "       'meja_per_100_cm', 'infested', 'diam_top_in_mm', 'tip_of_stem_broken',\n",
       "       'side_branches_in_cm', 'number_empty_chambers', 'total_chamber_length',\n",
       "       'total_number_adults', 'stem_diam_bottom_in_cm', 'diam_top_in_cm'],\n",
       "      dtype='object')"
      ]
     },
     "execution_count": 29,
     "metadata": {},
     "output_type": "execute_result"
    }
   ],
   "source": [
    "df.columns"
   ]
  },
  {
   "cell_type": "markdown",
   "metadata": {},
   "source": [
    "Finally we save the corrected DataFrame as CSV file."
   ]
  },
  {
   "cell_type": "code",
   "execution_count": 30,
   "metadata": {},
   "outputs": [],
   "source": [
    "df.to_csv('../data/interim/dissections_2012_HV_corrected.csv')"
   ]
  },
  {
   "cell_type": "markdown",
   "metadata": {},
   "source": [
    "### 3.4 Variable lists"
   ]
  },
  {
   "cell_type": "markdown",
   "metadata": {},
   "source": [
    "To get an overview of the variables we now have in our corrected DataFrame, we call df.info(). This method provides a summary of the DataFrame, including information about its structure, e.g. the number of entries and the number of non-null values per column, as well as its data types."
   ]
  },
  {
   "cell_type": "code",
   "execution_count": 31,
   "metadata": {},
   "outputs": [
    {
     "name": "stdout",
     "output_type": "stream",
     "text": [
      "<class 'pandas.core.frame.DataFrame'>\n",
      "RangeIndex: 1066 entries, 0 to 1065\n",
      "Data columns (total 18 columns):\n",
      " #   Column                  Non-Null Count  Dtype   \n",
      "---  ------                  --------------  -----   \n",
      " 0   year_infested           1066 non-null   int64   \n",
      " 1   diss_date               1066 non-null   object  \n",
      " 2   date                    1066 non-null   object  \n",
      " 3   site                    1066 non-null   category\n",
      " 4   stem_id                 1066 non-null   int64   \n",
      " 5   stem_diam_bottom_in_mm  1066 non-null   float64 \n",
      " 6   main_stem_length_in_cm  1066 non-null   float64 \n",
      " 7   total_meja              1066 non-null   int64   \n",
      " 8   meja_per_100_cm         1066 non-null   float64 \n",
      " 9   infested                1066 non-null   int64   \n",
      " 10  diam_top_in_mm          370 non-null    float64 \n",
      " 11  tip_of_stem_broken      1066 non-null   int64   \n",
      " 12  side_branches_in_cm     84 non-null     float64 \n",
      " 13  number_empty_chambers   1066 non-null   int64   \n",
      " 14  total_chamber_length    140 non-null    float64 \n",
      " 15  total_number_adults     1066 non-null   int64   \n",
      " 16  stem_diam_bottom_in_cm  1066 non-null   float64 \n",
      " 17  diam_top_in_cm          370 non-null    float64 \n",
      "dtypes: category(1), float64(8), int64(7), object(2)\n",
      "memory usage: 143.0+ KB\n"
     ]
    }
   ],
   "source": [
    "df.info()"
   ]
  },
  {
   "cell_type": "markdown",
   "metadata": {},
   "source": [
    "#### 3.4.1 Linear Regression"
   ]
  },
  {
   "cell_type": "markdown",
   "metadata": {},
   "source": [
    "Now we need to prepare our linear regression analysis. As y_label we define the main stem length in cm, as this is the dependent variable we want to predict. Next, we define our possible predictor variables in a list called features:\n",
    "\n",
    "- stem_diam_bottom_in_cm\n",
    "- total_meja\n",
    "- meja_per_100_cm\n",
    "- diam_top_in_cm\n",
    "- side_branches_in_cm\n",
    "\n",
    "We want to use these variables to predict the main stem length of the plants and therefore define them as X.\n",
    "Y is assigned a series containing the values from the column main stem length that is defined by the y_label variable."
   ]
  },
  {
   "cell_type": "code",
   "execution_count": 32,
   "metadata": {},
   "outputs": [],
   "source": [
    "y_label = 'main_stem_length_in_cm'\n",
    "\n",
    "features = ['stem_diam_bottom_in_cm', 'total_meja', 'meja_per_100_cm', 'diam_top_in_cm', 'side_branches_in_cm'] #, 'tip_of_stem_broken', 'infested', 'meja_per_100_cm', 'total_number_adults'"
   ]
  },
  {
   "cell_type": "markdown",
   "metadata": {},
   "source": [
    "#### 3.4.2 Logistic Regression"
   ]
  },
  {
   "cell_type": "markdown",
   "metadata": {},
   "source": [
    "For the logistic regression analysis, we want to predict whether a plant is infested or not in order to analyze whether plants infested by weevils are more likely to remain smaller and if weevils are really useful and effective as natural control agents.\n",
    "Possible predictor variables are again defined in a features list:\n",
    "\n",
    "- main_stem_length_cm\n",
    "- stem_diam_bottom_cm\n",
    "- side_branches_cm\n",
    "- diam_top_cm\n",
    "- tip_of_stem_broken\n",
    "- site\n",
    "- total_meja\n",
    "- meja_per_100_cm\n",
    "- total_number_adults\n",
    "\n",
    "We want to use these variables to predict wheter the plant is infested or not and therefore define them as X."
   ]
  },
  {
   "cell_type": "code",
   "execution_count": 33,
   "metadata": {},
   "outputs": [],
   "source": [
    "# y_label_log = 'infested'\n",
    "\n",
    "# features_log = ['main_stem_length_cm', 'stem_diam_bottom_cm', 'side_branches_cm', 'diam_top_in_cm', 'tip_of_stem_broken'] #, 'site', 'total_meja', 'meja_per_100_cm', 'total_number_adults'"
   ]
  },
  {
   "cell_type": "markdown",
   "metadata": {},
   "source": [
    "### 3.5 Data splitting and imputation"
   ]
  },
  {
   "cell_type": "markdown",
   "metadata": {},
   "source": [
    "Using df.info() method, we quickly recognized that columns diam_top_in_cm and side_branches_in_cm only contain fewer values.\n",
    "We therefore have to fill in the missing values using SimpleImputer class from Scikit-Learn.\n",
    "The following code lines are performing imputation on these missing values in the two specified columns. As strategy we specify median so the missing values are replaced with the median of each column. Moreover the imputed values are rounded to two decimal places "
   ]
  },
  {
   "cell_type": "code",
   "execution_count": 34,
   "metadata": {},
   "outputs": [],
   "source": [
    "# Imputer for filling missing values with the median\n",
    "imputer = SimpleImputer(strategy='median')\n",
    "\n",
    "# Imputing missing values in the predictors\n",
    "data_imputed = df.copy()\n",
    "data_imputed[['diam_top_in_cm', 'side_branches_in_cm']] = imputer.fit_transform(df[['diam_top_in_cm', 'side_branches_in_cm']])\n",
    "data_imputed[['diam_top_in_cm']] = data_imputed[['diam_top_in_cm']].round(2)\n",
    "data_imputed[['side_branches_in_cm']] = data_imputed[['side_branches_in_cm']].round(2)\n",
    "\n",
    "# Note: We're only excluding rows with missing target values, as imputation has handled missing predictors\n",
    "X_imputed = data_imputed.dropna(subset=[y_label])[features] \n",
    "y_imputed = data_imputed.dropna(subset=[y_label])[y_label] \n",
    "\n",
    "# X_imputed_log = data_imputed.dropna(subset=[y_label_log])[features_log] \n",
    "# y_imputed_log = data_imputed.dropna(subset=[y_label_log])[y_label_log] "
   ]
  },
  {
   "cell_type": "markdown",
   "metadata": {},
   "source": [
    "To continue, our data must be split into training and test sets. We use the train_test_split function from scikit-learn to perform the split. We define 20% of the data set to be included in the test split. The remaining 80% of the data set is therefore used as the training set."
   ]
  },
  {
   "cell_type": "markdown",
   "metadata": {},
   "source": [
    "Linear Regression:"
   ]
  },
  {
   "cell_type": "code",
   "execution_count": 35,
   "metadata": {},
   "outputs": [],
   "source": [
    "X_train_imputed, X_test_imputed, y_train_imputed, y_test_imputed = train_test_split(\n",
    "    X_imputed,\n",
    "    y_imputed,\n",
    "    test_size=0.2,\n",
    "    random_state=0\n",
    ")"
   ]
  },
  {
   "cell_type": "markdown",
   "metadata": {},
   "source": [
    "After the splitting we create a new DatFrame called df_train from the training set and save it as CSV file."
   ]
  },
  {
   "cell_type": "code",
   "execution_count": 36,
   "metadata": {},
   "outputs": [],
   "source": [
    "df_train = pd.DataFrame(X_train_imputed.copy())\n",
    "df_train = df_train.join(pd.DataFrame(y_train_imputed))\n",
    "df_train.to_csv('../data/interim/train_data.csv')"
   ]
  },
  {
   "cell_type": "markdown",
   "metadata": {},
   "source": [
    "Logistic Regression:"
   ]
  },
  {
   "cell_type": "code",
   "execution_count": null,
   "metadata": {},
   "outputs": [],
   "source": [
    "X_train_imputed_log, X_test_imputed_log, y_train_imputed_log, y_test_imputed_log = train_test_split(\n",
    "    X_imputed_log,\n",
    "    y_imputed_log,\n",
    "    test_size=0.2,\n",
    "    random_state=0\n",
    ")"
   ]
  },
  {
   "cell_type": "code",
   "execution_count": null,
   "metadata": {},
   "outputs": [],
   "source": [
    "df_train_log = pd.DataFrame(X_train_imputed_log.copy())\n",
    "df_train_log = df_train_log.join(pd.DataFrame(y_train_imputed_log))\n",
    "df_train_log.to_csv('../data/interim/train_data_log.csv')"
   ]
  },
  {
   "cell_type": "markdown",
   "metadata": {},
   "source": [
    "## 4 Analysis"
   ]
  },
  {
   "cell_type": "markdown",
   "metadata": {},
   "source": [
    "### 4.1 Descriptive statistics"
   ]
  },
  {
   "cell_type": "markdown",
   "metadata": {},
   "source": [
    "Typical methods of descriptive data analysis are the calculation of mean values, medians and standard deviations as well as the creation of histograms, box plots or cross tables. It focuses on the organization and description of existing data without in-depth analysis or hypothesis formation."
   ]
  },
  {
   "cell_type": "markdown",
   "metadata": {},
   "source": [
    "Again, we use the describe function to compute summary statistics for all numerical columns in our corrected Test-DataFrame."
   ]
  },
  {
   "cell_type": "code",
   "execution_count": 37,
   "metadata": {},
   "outputs": [
    {
     "data": {
      "text/html": [
       "<div>\n",
       "<style scoped>\n",
       "    .dataframe tbody tr th:only-of-type {\n",
       "        vertical-align: middle;\n",
       "    }\n",
       "\n",
       "    .dataframe tbody tr th {\n",
       "        vertical-align: top;\n",
       "    }\n",
       "\n",
       "    .dataframe thead th {\n",
       "        text-align: right;\n",
       "    }\n",
       "</style>\n",
       "<table border=\"1\" class=\"dataframe\">\n",
       "  <thead>\n",
       "    <tr style=\"text-align: right;\">\n",
       "      <th></th>\n",
       "      <th>count</th>\n",
       "      <th>mean</th>\n",
       "      <th>std</th>\n",
       "      <th>min</th>\n",
       "      <th>25%</th>\n",
       "      <th>50%</th>\n",
       "      <th>75%</th>\n",
       "      <th>max</th>\n",
       "    </tr>\n",
       "  </thead>\n",
       "  <tbody>\n",
       "    <tr>\n",
       "      <th>stem_diam_bottom_in_cm</th>\n",
       "      <td>852.0</td>\n",
       "      <td>0.494859</td>\n",
       "      <td>0.183730</td>\n",
       "      <td>0.11</td>\n",
       "      <td>0.360</td>\n",
       "      <td>0.48</td>\n",
       "      <td>0.62</td>\n",
       "      <td>1.12</td>\n",
       "    </tr>\n",
       "    <tr>\n",
       "      <th>total_meja</th>\n",
       "      <td>852.0</td>\n",
       "      <td>5.252347</td>\n",
       "      <td>8.949443</td>\n",
       "      <td>0.00</td>\n",
       "      <td>0.000</td>\n",
       "      <td>0.00</td>\n",
       "      <td>8.00</td>\n",
       "      <td>62.00</td>\n",
       "    </tr>\n",
       "    <tr>\n",
       "      <th>meja_per_100_cm</th>\n",
       "      <td>852.0</td>\n",
       "      <td>11.508333</td>\n",
       "      <td>20.038197</td>\n",
       "      <td>0.00</td>\n",
       "      <td>0.000</td>\n",
       "      <td>0.00</td>\n",
       "      <td>16.10</td>\n",
       "      <td>133.30</td>\n",
       "    </tr>\n",
       "    <tr>\n",
       "      <th>diam_top_in_cm</th>\n",
       "      <td>852.0</td>\n",
       "      <td>0.158732</td>\n",
       "      <td>0.074982</td>\n",
       "      <td>0.02</td>\n",
       "      <td>0.150</td>\n",
       "      <td>0.15</td>\n",
       "      <td>0.15</td>\n",
       "      <td>0.76</td>\n",
       "    </tr>\n",
       "    <tr>\n",
       "      <th>side_branches_in_cm</th>\n",
       "      <td>852.0</td>\n",
       "      <td>46.628521</td>\n",
       "      <td>13.425784</td>\n",
       "      <td>8.00</td>\n",
       "      <td>45.500</td>\n",
       "      <td>45.50</td>\n",
       "      <td>45.50</td>\n",
       "      <td>222.00</td>\n",
       "    </tr>\n",
       "    <tr>\n",
       "      <th>main_stem_length_in_cm</th>\n",
       "      <td>852.0</td>\n",
       "      <td>51.234155</td>\n",
       "      <td>24.998356</td>\n",
       "      <td>2.00</td>\n",
       "      <td>33.875</td>\n",
       "      <td>49.00</td>\n",
       "      <td>67.00</td>\n",
       "      <td>135.00</td>\n",
       "    </tr>\n",
       "  </tbody>\n",
       "</table>\n",
       "</div>"
      ],
      "text/plain": [
       "                        count       mean        std   min     25%    50%  \\\n",
       "stem_diam_bottom_in_cm  852.0   0.494859   0.183730  0.11   0.360   0.48   \n",
       "total_meja              852.0   5.252347   8.949443  0.00   0.000   0.00   \n",
       "meja_per_100_cm         852.0  11.508333  20.038197  0.00   0.000   0.00   \n",
       "diam_top_in_cm          852.0   0.158732   0.074982  0.02   0.150   0.15   \n",
       "side_branches_in_cm     852.0  46.628521  13.425784  8.00  45.500  45.50   \n",
       "main_stem_length_in_cm  852.0  51.234155  24.998356  2.00  33.875  49.00   \n",
       "\n",
       "                          75%     max  \n",
       "stem_diam_bottom_in_cm   0.62    1.12  \n",
       "total_meja               8.00   62.00  \n",
       "meja_per_100_cm         16.10  133.30  \n",
       "diam_top_in_cm           0.15    0.76  \n",
       "side_branches_in_cm     45.50  222.00  \n",
       "main_stem_length_in_cm  67.00  135.00  "
      ]
     },
     "execution_count": 37,
     "metadata": {},
     "output_type": "execute_result"
    }
   ],
   "source": [
    "df_train.describe().T"
   ]
  },
  {
   "cell_type": "markdown",
   "metadata": {},
   "source": [
    "Next, we create a grid of bar charts using Altair. Each column represents a different variable, either a feature or the response variable. Each row represents a histogram of the variables distribution.\n",
    "This diagram is a tool for an initial, visual exploration of the data distributions in the training dataset. The histogram grids allow us to check the distribution of each variable in the training data set. We can identify patterns, outliers or characteristic shapes in the histograms that may indicate certain properties of the data."
   ]
  },
  {
   "cell_type": "code",
   "execution_count": 38,
   "metadata": {},
   "outputs": [
    {
     "data": {
      "text/html": [
       "\n",
       "<style>\n",
       "  #altair-viz-6fbd8007a14f443c91f01b96f93ae5a6.vega-embed {\n",
       "    width: 100%;\n",
       "    display: flex;\n",
       "  }\n",
       "\n",
       "  #altair-viz-6fbd8007a14f443c91f01b96f93ae5a6.vega-embed details,\n",
       "  #altair-viz-6fbd8007a14f443c91f01b96f93ae5a6.vega-embed details summary {\n",
       "    position: relative;\n",
       "  }\n",
       "</style>\n",
       "<div id=\"altair-viz-6fbd8007a14f443c91f01b96f93ae5a6\"></div>\n",
       "<script type=\"text/javascript\">\n",
       "  var VEGA_DEBUG = (typeof VEGA_DEBUG == \"undefined\") ? {} : VEGA_DEBUG;\n",
       "  (function(spec, embedOpt){\n",
       "    let outputDiv = document.currentScript.previousElementSibling;\n",
       "    if (outputDiv.id !== \"altair-viz-6fbd8007a14f443c91f01b96f93ae5a6\") {\n",
       "      outputDiv = document.getElementById(\"altair-viz-6fbd8007a14f443c91f01b96f93ae5a6\");\n",
       "    }\n",
       "    const paths = {\n",
       "      \"vega\": \"https://cdn.jsdelivr.net/npm/vega@5?noext\",\n",
       "      \"vega-lib\": \"https://cdn.jsdelivr.net/npm/vega-lib?noext\",\n",
       "      \"vega-lite\": \"https://cdn.jsdelivr.net/npm/vega-lite@5.15.1?noext\",\n",
       "      \"vega-embed\": \"https://cdn.jsdelivr.net/npm/vega-embed@6?noext\",\n",
       "    };\n",
       "\n",
       "    function maybeLoadScript(lib, version) {\n",
       "      var key = `${lib.replace(\"-\", \"\")}_version`;\n",
       "      return (VEGA_DEBUG[key] == version) ?\n",
       "        Promise.resolve(paths[lib]) :\n",
       "        new Promise(function(resolve, reject) {\n",
       "          var s = document.createElement('script');\n",
       "          document.getElementsByTagName(\"head\")[0].appendChild(s);\n",
       "          s.async = true;\n",
       "          s.onload = () => {\n",
       "            VEGA_DEBUG[key] = version;\n",
       "            return resolve(paths[lib]);\n",
       "          };\n",
       "          s.onerror = () => reject(`Error loading script: ${paths[lib]}`);\n",
       "          s.src = paths[lib];\n",
       "        });\n",
       "    }\n",
       "\n",
       "    function showError(err) {\n",
       "      outputDiv.innerHTML = `<div class=\"error\" style=\"color:red;\">${err}</div>`;\n",
       "      throw err;\n",
       "    }\n",
       "\n",
       "    function displayChart(vegaEmbed) {\n",
       "      vegaEmbed(outputDiv, spec, embedOpt)\n",
       "        .catch(err => showError(`Javascript Error: ${err.message}<br>This usually means there's a typo in your chart specification. See the javascript console for the full traceback.`));\n",
       "    }\n",
       "\n",
       "    if(typeof define === \"function\" && define.amd) {\n",
       "      requirejs.config({paths});\n",
       "      require([\"vega-embed\"], displayChart, err => showError(`Error loading script: ${err.message}`));\n",
       "    } else {\n",
       "      maybeLoadScript(\"vega\", \"5\")\n",
       "        .then(() => maybeLoadScript(\"vega-lite\", \"5.15.1\"))\n",
       "        .then(() => maybeLoadScript(\"vega-embed\", \"6\"))\n",
       "        .catch(showError)\n",
       "        .then(() => displayChart(vegaEmbed));\n",
       "    }\n",
       "  })({\"config\": {\"view\": {\"continuousWidth\": 300, \"continuousHeight\": 300}}, \"repeat\": {\"column\": [\"main_stem_length_in_cm\", \"stem_diam_bottom_in_cm\", \"total_meja\", \"meja_per_100_cm\", \"diam_top_in_cm\", \"side_branches_in_cm\"]}, \"spec\": {\"data\": {\"name\": \"data-1b922635cec8a4ff75c7ecee47f1022e\"}, \"mark\": {\"type\": \"bar\"}, \"encoding\": {\"x\": {\"bin\": true, \"field\": {\"repeat\": \"column\"}, \"type\": \"quantitative\"}, \"y\": {\"aggregate\": \"count\", \"type\": \"quantitative\"}}, \"height\": 150, \"width\": 150}, \"$schema\": \"https://vega.github.io/schema/vega-lite/v5.15.1.json\", \"datasets\": {\"data-1b922635cec8a4ff75c7ecee47f1022e\": [{\"stem_diam_bottom_in_cm\": 0.42, \"total_meja\": 9, \"meja_per_100_cm\": 21.4, \"diam_top_in_cm\": 0.2, \"side_branches_in_cm\": 45.5, \"main_stem_length_in_cm\": 42.0}, {\"stem_diam_bottom_in_cm\": 0.48, \"total_meja\": 14, \"meja_per_100_cm\": 37.8, \"diam_top_in_cm\": 0.15, \"side_branches_in_cm\": 45.5, \"main_stem_length_in_cm\": 37.0}, {\"stem_diam_bottom_in_cm\": 0.42, \"total_meja\": 1, \"meja_per_100_cm\": 1.9, \"diam_top_in_cm\": 0.15, \"side_branches_in_cm\": 45.5, \"main_stem_length_in_cm\": 53.0}, {\"stem_diam_bottom_in_cm\": 0.61, \"total_meja\": 0, \"meja_per_100_cm\": 0.0, \"diam_top_in_cm\": 0.15, \"side_branches_in_cm\": 55.0, \"main_stem_length_in_cm\": 51.0}, {\"stem_diam_bottom_in_cm\": 0.55, \"total_meja\": 10, \"meja_per_100_cm\": 19.2, \"diam_top_in_cm\": 0.15, \"side_branches_in_cm\": 45.5, \"main_stem_length_in_cm\": 52.0}, {\"stem_diam_bottom_in_cm\": 0.64, \"total_meja\": 0, \"meja_per_100_cm\": 0.0, \"diam_top_in_cm\": 0.15, \"side_branches_in_cm\": 45.5, \"main_stem_length_in_cm\": 60.0}, {\"stem_diam_bottom_in_cm\": 0.31, \"total_meja\": 8, \"meja_per_100_cm\": 30.8, \"diam_top_in_cm\": 0.15, \"side_branches_in_cm\": 45.5, \"main_stem_length_in_cm\": 26.0}, {\"stem_diam_bottom_in_cm\": 0.36, \"total_meja\": 0, \"meja_per_100_cm\": 0.0, \"diam_top_in_cm\": 0.15, \"side_branches_in_cm\": 45.5, \"main_stem_length_in_cm\": 19.0}, {\"stem_diam_bottom_in_cm\": 0.77, \"total_meja\": 1, \"meja_per_100_cm\": 1.0, \"diam_top_in_cm\": 0.15, \"side_branches_in_cm\": 45.5, \"main_stem_length_in_cm\": 96.0}, {\"stem_diam_bottom_in_cm\": 0.26, \"total_meja\": 0, \"meja_per_100_cm\": 0.0, \"diam_top_in_cm\": 0.15, \"side_branches_in_cm\": 45.5, \"main_stem_length_in_cm\": 15.5}, {\"stem_diam_bottom_in_cm\": 0.62, \"total_meja\": 26, \"meja_per_100_cm\": 63.4, \"diam_top_in_cm\": 0.15, \"side_branches_in_cm\": 45.5, \"main_stem_length_in_cm\": 41.0}, {\"stem_diam_bottom_in_cm\": 0.28, \"total_meja\": 0, \"meja_per_100_cm\": 0.0, \"diam_top_in_cm\": 0.15, \"side_branches_in_cm\": 45.5, \"main_stem_length_in_cm\": 16.5}, {\"stem_diam_bottom_in_cm\": 0.88, \"total_meja\": 0, \"meja_per_100_cm\": 0.0, \"diam_top_in_cm\": 0.15, \"side_branches_in_cm\": 49.0, \"main_stem_length_in_cm\": 70.0}, {\"stem_diam_bottom_in_cm\": 0.55, \"total_meja\": 5, \"meja_per_100_cm\": 6.0, \"diam_top_in_cm\": 0.15, \"side_branches_in_cm\": 45.5, \"main_stem_length_in_cm\": 84.0}, {\"stem_diam_bottom_in_cm\": 0.39, \"total_meja\": 0, \"meja_per_100_cm\": 0.0, \"diam_top_in_cm\": 0.11, \"side_branches_in_cm\": 45.5, \"main_stem_length_in_cm\": 65.0}, {\"stem_diam_bottom_in_cm\": 0.26, \"total_meja\": 0, \"meja_per_100_cm\": 0.0, \"diam_top_in_cm\": 0.15, \"side_branches_in_cm\": 45.5, \"main_stem_length_in_cm\": 39.0}, {\"stem_diam_bottom_in_cm\": 0.31, \"total_meja\": 0, \"meja_per_100_cm\": 0.0, \"diam_top_in_cm\": 0.15, \"side_branches_in_cm\": 45.5, \"main_stem_length_in_cm\": 23.0}, {\"stem_diam_bottom_in_cm\": 0.74, \"total_meja\": 18, \"meja_per_100_cm\": 26.9, \"diam_top_in_cm\": 0.15, \"side_branches_in_cm\": 45.5, \"main_stem_length_in_cm\": 67.0}, {\"stem_diam_bottom_in_cm\": 0.31, \"total_meja\": 7, \"meja_per_100_cm\": 21.9, \"diam_top_in_cm\": 0.08, \"side_branches_in_cm\": 45.5, \"main_stem_length_in_cm\": 32.0}, {\"stem_diam_bottom_in_cm\": 0.31, \"total_meja\": 17, \"meja_per_100_cm\": 40.5, \"diam_top_in_cm\": 0.1, \"side_branches_in_cm\": 45.5, \"main_stem_length_in_cm\": 42.0}, {\"stem_diam_bottom_in_cm\": 0.4, \"total_meja\": 0, \"meja_per_100_cm\": 0.0, \"diam_top_in_cm\": 0.15, \"side_branches_in_cm\": 45.5, \"main_stem_length_in_cm\": 31.0}, {\"stem_diam_bottom_in_cm\": 0.31, \"total_meja\": 0, \"meja_per_100_cm\": 0.0, \"diam_top_in_cm\": 0.15, \"side_branches_in_cm\": 45.5, \"main_stem_length_in_cm\": 16.5}, {\"stem_diam_bottom_in_cm\": 0.56, \"total_meja\": 0, \"meja_per_100_cm\": 0.0, \"diam_top_in_cm\": 0.15, \"side_branches_in_cm\": 45.5, \"main_stem_length_in_cm\": 40.0}, {\"stem_diam_bottom_in_cm\": 0.57, \"total_meja\": 0, \"meja_per_100_cm\": 0.0, \"diam_top_in_cm\": 0.15, \"side_branches_in_cm\": 45.5, \"main_stem_length_in_cm\": 44.0}, {\"stem_diam_bottom_in_cm\": 0.52, \"total_meja\": 7, \"meja_per_100_cm\": 10.4, \"diam_top_in_cm\": 0.15, \"side_branches_in_cm\": 45.5, \"main_stem_length_in_cm\": 67.0}, {\"stem_diam_bottom_in_cm\": 0.67, \"total_meja\": 0, \"meja_per_100_cm\": 0.0, \"diam_top_in_cm\": 0.15, \"side_branches_in_cm\": 127.0, \"main_stem_length_in_cm\": 27.0}, {\"stem_diam_bottom_in_cm\": 0.55, \"total_meja\": 0, \"meja_per_100_cm\": 0.0, \"diam_top_in_cm\": 0.15, \"side_branches_in_cm\": 45.5, \"main_stem_length_in_cm\": 46.0}, {\"stem_diam_bottom_in_cm\": 0.53, \"total_meja\": 0, \"meja_per_100_cm\": 0.0, \"diam_top_in_cm\": 0.15, \"side_branches_in_cm\": 22.0, \"main_stem_length_in_cm\": 35.0}, {\"stem_diam_bottom_in_cm\": 0.42, \"total_meja\": 5, \"meja_per_100_cm\": 13.2, \"diam_top_in_cm\": 0.04, \"side_branches_in_cm\": 45.5, \"main_stem_length_in_cm\": 38.0}, {\"stem_diam_bottom_in_cm\": 0.7, \"total_meja\": 39, \"meja_per_100_cm\": 54.2, \"diam_top_in_cm\": 0.15, \"side_branches_in_cm\": 45.5, \"main_stem_length_in_cm\": 72.0}, {\"stem_diam_bottom_in_cm\": 0.62, \"total_meja\": 0, \"meja_per_100_cm\": 0.0, \"diam_top_in_cm\": 0.15, \"side_branches_in_cm\": 45.5, \"main_stem_length_in_cm\": 79.0}, {\"stem_diam_bottom_in_cm\": 0.63, \"total_meja\": 0, \"meja_per_100_cm\": 0.0, \"diam_top_in_cm\": 0.15, \"side_branches_in_cm\": 45.5, \"main_stem_length_in_cm\": 35.0}, {\"stem_diam_bottom_in_cm\": 0.23, \"total_meja\": 0, \"meja_per_100_cm\": 0.0, \"diam_top_in_cm\": 0.15, \"side_branches_in_cm\": 45.5, \"main_stem_length_in_cm\": 8.0}, {\"stem_diam_bottom_in_cm\": 0.33, \"total_meja\": 0, \"meja_per_100_cm\": 0.0, \"diam_top_in_cm\": 0.15, \"side_branches_in_cm\": 45.5, \"main_stem_length_in_cm\": 33.0}, {\"stem_diam_bottom_in_cm\": 0.36, \"total_meja\": 13, \"meja_per_100_cm\": 48.1, \"diam_top_in_cm\": 0.19, \"side_branches_in_cm\": 45.5, \"main_stem_length_in_cm\": 27.0}, {\"stem_diam_bottom_in_cm\": 0.19, \"total_meja\": 0, \"meja_per_100_cm\": 0.0, \"diam_top_in_cm\": 0.15, \"side_branches_in_cm\": 45.5, \"main_stem_length_in_cm\": 10.5}, {\"stem_diam_bottom_in_cm\": 0.33, \"total_meja\": 12, \"meja_per_100_cm\": 40.0, \"diam_top_in_cm\": 0.12, \"side_branches_in_cm\": 45.5, \"main_stem_length_in_cm\": 30.0}, {\"stem_diam_bottom_in_cm\": 0.65, \"total_meja\": 7, \"meja_per_100_cm\": 12.1, \"diam_top_in_cm\": 0.15, \"side_branches_in_cm\": 45.5, \"main_stem_length_in_cm\": 58.0}, {\"stem_diam_bottom_in_cm\": 0.16, \"total_meja\": 0, \"meja_per_100_cm\": 0.0, \"diam_top_in_cm\": 0.15, \"side_branches_in_cm\": 45.5, \"main_stem_length_in_cm\": 12.0}, {\"stem_diam_bottom_in_cm\": 0.61, \"total_meja\": 17, \"meja_per_100_cm\": 26.2, \"diam_top_in_cm\": 0.15, \"side_branches_in_cm\": 45.5, \"main_stem_length_in_cm\": 65.0}, {\"stem_diam_bottom_in_cm\": 0.39, \"total_meja\": 14, \"meja_per_100_cm\": 44.4, \"diam_top_in_cm\": 0.26, \"side_branches_in_cm\": 45.5, \"main_stem_length_in_cm\": 31.5}, {\"stem_diam_bottom_in_cm\": 0.67, \"total_meja\": 0, \"meja_per_100_cm\": 0.0, \"diam_top_in_cm\": 0.15, \"side_branches_in_cm\": 45.5, \"main_stem_length_in_cm\": 78.0}, {\"stem_diam_bottom_in_cm\": 0.7, \"total_meja\": 12, \"meja_per_100_cm\": 16.0, \"diam_top_in_cm\": 0.15, \"side_branches_in_cm\": 45.5, \"main_stem_length_in_cm\": 75.0}, {\"stem_diam_bottom_in_cm\": 0.18, \"total_meja\": 0, \"meja_per_100_cm\": 0.0, \"diam_top_in_cm\": 0.15, \"side_branches_in_cm\": 45.5, \"main_stem_length_in_cm\": 9.0}, {\"stem_diam_bottom_in_cm\": 0.28, \"total_meja\": 3, \"meja_per_100_cm\": 4.5, \"diam_top_in_cm\": 0.02, \"side_branches_in_cm\": 45.5, \"main_stem_length_in_cm\": 67.0}, {\"stem_diam_bottom_in_cm\": 0.21, \"total_meja\": 0, \"meja_per_100_cm\": 0.0, \"diam_top_in_cm\": 0.15, \"side_branches_in_cm\": 45.5, \"main_stem_length_in_cm\": 9.0}, {\"stem_diam_bottom_in_cm\": 0.52, \"total_meja\": 0, \"meja_per_100_cm\": 0.0, \"diam_top_in_cm\": 0.15, \"side_branches_in_cm\": 45.5, \"main_stem_length_in_cm\": 77.0}, {\"stem_diam_bottom_in_cm\": 0.66, \"total_meja\": 0, \"meja_per_100_cm\": 0.0, \"diam_top_in_cm\": 0.06, \"side_branches_in_cm\": 45.5, \"main_stem_length_in_cm\": 107.0}, {\"stem_diam_bottom_in_cm\": 0.7, \"total_meja\": 0, \"meja_per_100_cm\": 0.0, \"diam_top_in_cm\": 0.15, \"side_branches_in_cm\": 45.5, \"main_stem_length_in_cm\": 49.0}, {\"stem_diam_bottom_in_cm\": 0.48, \"total_meja\": 11, \"meja_per_100_cm\": 25.6, \"diam_top_in_cm\": 0.15, \"side_branches_in_cm\": 45.5, \"main_stem_length_in_cm\": 43.0}, {\"stem_diam_bottom_in_cm\": 0.26, \"total_meja\": 0, \"meja_per_100_cm\": 0.0, \"diam_top_in_cm\": 0.15, \"side_branches_in_cm\": 45.5, \"main_stem_length_in_cm\": 22.0}, {\"stem_diam_bottom_in_cm\": 0.62, \"total_meja\": 3, \"meja_per_100_cm\": 3.1, \"diam_top_in_cm\": 0.15, \"side_branches_in_cm\": 45.5, \"main_stem_length_in_cm\": 97.0}, {\"stem_diam_bottom_in_cm\": 0.47, \"total_meja\": 9, \"meja_per_100_cm\": 14.8, \"diam_top_in_cm\": 0.07, \"side_branches_in_cm\": 45.5, \"main_stem_length_in_cm\": 61.0}, {\"stem_diam_bottom_in_cm\": 0.57, \"total_meja\": 0, \"meja_per_100_cm\": 0.0, \"diam_top_in_cm\": 0.15, \"side_branches_in_cm\": 45.5, \"main_stem_length_in_cm\": 105.0}, {\"stem_diam_bottom_in_cm\": 0.47, \"total_meja\": 14, \"meja_per_100_cm\": 36.8, \"diam_top_in_cm\": 0.21, \"side_branches_in_cm\": 45.5, \"main_stem_length_in_cm\": 38.0}, {\"stem_diam_bottom_in_cm\": 0.94, \"total_meja\": 15, \"meja_per_100_cm\": 17.2, \"diam_top_in_cm\": 0.15, \"side_branches_in_cm\": 45.5, \"main_stem_length_in_cm\": 87.0}, {\"stem_diam_bottom_in_cm\": 0.35, \"total_meja\": 0, \"meja_per_100_cm\": 0.0, \"diam_top_in_cm\": 0.09, \"side_branches_in_cm\": 45.5, \"main_stem_length_in_cm\": 64.0}, {\"stem_diam_bottom_in_cm\": 0.32, \"total_meja\": 11, \"meja_per_100_cm\": 26.8, \"diam_top_in_cm\": 0.16, \"side_branches_in_cm\": 45.5, \"main_stem_length_in_cm\": 41.0}, {\"stem_diam_bottom_in_cm\": 0.19, \"total_meja\": 0, \"meja_per_100_cm\": 0.0, \"diam_top_in_cm\": 0.15, \"side_branches_in_cm\": 45.5, \"main_stem_length_in_cm\": 13.0}, {\"stem_diam_bottom_in_cm\": 0.16, \"total_meja\": 0, \"meja_per_100_cm\": 0.0, \"diam_top_in_cm\": 0.15, \"side_branches_in_cm\": 45.5, \"main_stem_length_in_cm\": 12.5}, {\"stem_diam_bottom_in_cm\": 0.42, \"total_meja\": 11, \"meja_per_100_cm\": 48.9, \"diam_top_in_cm\": 0.3, \"side_branches_in_cm\": 45.5, \"main_stem_length_in_cm\": 22.5}, {\"stem_diam_bottom_in_cm\": 0.62, \"total_meja\": 4, \"meja_per_100_cm\": 7.0, \"diam_top_in_cm\": 0.15, \"side_branches_in_cm\": 45.5, \"main_stem_length_in_cm\": 57.0}, {\"stem_diam_bottom_in_cm\": 0.77, \"total_meja\": 0, \"meja_per_100_cm\": 0.0, \"diam_top_in_cm\": 0.15, \"side_branches_in_cm\": 44.0, \"main_stem_length_in_cm\": 58.0}, {\"stem_diam_bottom_in_cm\": 0.51, \"total_meja\": 36, \"meja_per_100_cm\": 72.0, \"diam_top_in_cm\": 0.09, \"side_branches_in_cm\": 45.5, \"main_stem_length_in_cm\": 50.0}, {\"stem_diam_bottom_in_cm\": 0.45, \"total_meja\": 0, \"meja_per_100_cm\": 0.0, \"diam_top_in_cm\": 0.15, \"side_branches_in_cm\": 45.5, \"main_stem_length_in_cm\": 28.0}, {\"stem_diam_bottom_in_cm\": 0.34, \"total_meja\": 0, \"meja_per_100_cm\": 0.0, \"diam_top_in_cm\": 0.15, \"side_branches_in_cm\": 45.5, \"main_stem_length_in_cm\": 30.0}, {\"stem_diam_bottom_in_cm\": 0.4, \"total_meja\": 0, \"meja_per_100_cm\": 0.0, \"diam_top_in_cm\": 0.15, \"side_branches_in_cm\": 45.5, \"main_stem_length_in_cm\": 37.0}, {\"stem_diam_bottom_in_cm\": 0.58, \"total_meja\": 0, \"meja_per_100_cm\": 0.0, \"diam_top_in_cm\": 0.15, \"side_branches_in_cm\": 37.0, \"main_stem_length_in_cm\": 34.0}, {\"stem_diam_bottom_in_cm\": 0.3, \"total_meja\": 0, \"meja_per_100_cm\": 0.0, \"diam_top_in_cm\": 0.15, \"side_branches_in_cm\": 45.5, \"main_stem_length_in_cm\": 38.0}, {\"stem_diam_bottom_in_cm\": 0.55, \"total_meja\": 25, \"meja_per_100_cm\": 55.6, \"diam_top_in_cm\": 0.15, \"side_branches_in_cm\": 45.5, \"main_stem_length_in_cm\": 45.0}, {\"stem_diam_bottom_in_cm\": 0.91, \"total_meja\": 2, \"meja_per_100_cm\": 1.7, \"diam_top_in_cm\": 0.15, \"side_branches_in_cm\": 45.5, \"main_stem_length_in_cm\": 121.0}, {\"stem_diam_bottom_in_cm\": 0.39, \"total_meja\": 0, \"meja_per_100_cm\": 0.0, \"diam_top_in_cm\": 0.15, \"side_branches_in_cm\": 45.5, \"main_stem_length_in_cm\": 84.0}, {\"stem_diam_bottom_in_cm\": 0.36, \"total_meja\": 0, \"meja_per_100_cm\": 0.0, \"diam_top_in_cm\": 0.02, \"side_branches_in_cm\": 45.5, \"main_stem_length_in_cm\": 72.0}, {\"stem_diam_bottom_in_cm\": 0.44, \"total_meja\": 0, \"meja_per_100_cm\": 0.0, \"diam_top_in_cm\": 0.05, \"side_branches_in_cm\": 45.5, \"main_stem_length_in_cm\": 90.0}, {\"stem_diam_bottom_in_cm\": 0.33, \"total_meja\": 0, \"meja_per_100_cm\": 0.0, \"diam_top_in_cm\": 0.09, \"side_branches_in_cm\": 45.5, \"main_stem_length_in_cm\": 51.0}, {\"stem_diam_bottom_in_cm\": 0.44, \"total_meja\": 0, \"meja_per_100_cm\": 0.0, \"diam_top_in_cm\": 0.15, \"side_branches_in_cm\": 45.5, \"main_stem_length_in_cm\": 32.0}, {\"stem_diam_bottom_in_cm\": 0.52, \"total_meja\": 1, \"meja_per_100_cm\": 2.0, \"diam_top_in_cm\": 0.12, \"side_branches_in_cm\": 45.5, \"main_stem_length_in_cm\": 51.0}, {\"stem_diam_bottom_in_cm\": 0.48, \"total_meja\": 0, \"meja_per_100_cm\": 0.0, \"diam_top_in_cm\": 0.15, \"side_branches_in_cm\": 45.5, \"main_stem_length_in_cm\": 62.0}, {\"stem_diam_bottom_in_cm\": 0.85, \"total_meja\": 0, \"meja_per_100_cm\": 0.0, \"diam_top_in_cm\": 0.15, \"side_branches_in_cm\": 45.5, \"main_stem_length_in_cm\": 94.0}, {\"stem_diam_bottom_in_cm\": 0.39, \"total_meja\": 1, \"meja_per_100_cm\": 2.0, \"diam_top_in_cm\": 0.11, \"side_branches_in_cm\": 45.5, \"main_stem_length_in_cm\": 50.0}, {\"stem_diam_bottom_in_cm\": 0.63, \"total_meja\": 0, \"meja_per_100_cm\": 0.0, \"diam_top_in_cm\": 0.15, \"side_branches_in_cm\": 45.5, \"main_stem_length_in_cm\": 61.0}, {\"stem_diam_bottom_in_cm\": 0.39, \"total_meja\": 0, \"meja_per_100_cm\": 0.0, \"diam_top_in_cm\": 0.15, \"side_branches_in_cm\": 45.5, \"main_stem_length_in_cm\": 31.0}, {\"stem_diam_bottom_in_cm\": 0.56, \"total_meja\": 6, \"meja_per_100_cm\": 9.1, \"diam_top_in_cm\": 0.15, \"side_branches_in_cm\": 45.5, \"main_stem_length_in_cm\": 66.0}, {\"stem_diam_bottom_in_cm\": 0.26, \"total_meja\": 0, \"meja_per_100_cm\": 0.0, \"diam_top_in_cm\": 0.15, \"side_branches_in_cm\": 45.5, \"main_stem_length_in_cm\": 13.5}, {\"stem_diam_bottom_in_cm\": 0.44, \"total_meja\": 23, \"meja_per_100_cm\": 45.1, \"diam_top_in_cm\": 0.18, \"side_branches_in_cm\": 45.5, \"main_stem_length_in_cm\": 51.0}, {\"stem_diam_bottom_in_cm\": 0.68, \"total_meja\": 15, \"meja_per_100_cm\": 34.9, \"diam_top_in_cm\": 0.18, \"side_branches_in_cm\": 45.5, \"main_stem_length_in_cm\": 43.0}, {\"stem_diam_bottom_in_cm\": 0.4, \"total_meja\": 22, \"meja_per_100_cm\": 53.7, \"diam_top_in_cm\": 0.21, \"side_branches_in_cm\": 45.5, \"main_stem_length_in_cm\": 41.0}, {\"stem_diam_bottom_in_cm\": 0.66, \"total_meja\": 17, \"meja_per_100_cm\": 23.0, \"diam_top_in_cm\": 0.15, \"side_branches_in_cm\": 45.5, \"main_stem_length_in_cm\": 74.0}, {\"stem_diam_bottom_in_cm\": 0.46, \"total_meja\": 9, \"meja_per_100_cm\": 29.0, \"diam_top_in_cm\": 0.12, \"side_branches_in_cm\": 45.5, \"main_stem_length_in_cm\": 31.0}, {\"stem_diam_bottom_in_cm\": 0.49, \"total_meja\": 8, \"meja_per_100_cm\": 21.1, \"diam_top_in_cm\": 0.38, \"side_branches_in_cm\": 45.5, \"main_stem_length_in_cm\": 38.0}, {\"stem_diam_bottom_in_cm\": 0.47, \"total_meja\": 0, \"meja_per_100_cm\": 0.0, \"diam_top_in_cm\": 0.15, \"side_branches_in_cm\": 45.5, \"main_stem_length_in_cm\": 79.0}, {\"stem_diam_bottom_in_cm\": 0.25, \"total_meja\": 0, \"meja_per_100_cm\": 0.0, \"diam_top_in_cm\": 0.15, \"side_branches_in_cm\": 45.5, \"main_stem_length_in_cm\": 16.5}, {\"stem_diam_bottom_in_cm\": 0.56, \"total_meja\": 13, \"meja_per_100_cm\": 28.3, \"diam_top_in_cm\": 0.26, \"side_branches_in_cm\": 45.5, \"main_stem_length_in_cm\": 46.0}, {\"stem_diam_bottom_in_cm\": 0.34, \"total_meja\": 1, \"meja_per_100_cm\": 1.8, \"diam_top_in_cm\": 0.03, \"side_branches_in_cm\": 45.5, \"main_stem_length_in_cm\": 56.0}, {\"stem_diam_bottom_in_cm\": 0.45, \"total_meja\": 0, \"meja_per_100_cm\": 0.0, \"diam_top_in_cm\": 0.15, \"side_branches_in_cm\": 45.5, \"main_stem_length_in_cm\": 38.0}, {\"stem_diam_bottom_in_cm\": 0.72, \"total_meja\": 1, \"meja_per_100_cm\": 2.0, \"diam_top_in_cm\": 0.21, \"side_branches_in_cm\": 45.5, \"main_stem_length_in_cm\": 51.0}, {\"stem_diam_bottom_in_cm\": 0.47, \"total_meja\": 0, \"meja_per_100_cm\": 0.0, \"diam_top_in_cm\": 0.15, \"side_branches_in_cm\": 45.5, \"main_stem_length_in_cm\": 65.0}, {\"stem_diam_bottom_in_cm\": 0.55, \"total_meja\": 0, \"meja_per_100_cm\": 0.0, \"diam_top_in_cm\": 0.15, \"side_branches_in_cm\": 45.5, \"main_stem_length_in_cm\": 64.0}, {\"stem_diam_bottom_in_cm\": 0.51, \"total_meja\": 2, \"meja_per_100_cm\": 2.6, \"diam_top_in_cm\": 0.15, \"side_branches_in_cm\": 45.5, \"main_stem_length_in_cm\": 78.0}, {\"stem_diam_bottom_in_cm\": 0.58, \"total_meja\": 0, \"meja_per_100_cm\": 0.0, \"diam_top_in_cm\": 0.15, \"side_branches_in_cm\": 45.5, \"main_stem_length_in_cm\": 84.0}, {\"stem_diam_bottom_in_cm\": 0.75, \"total_meja\": 14, \"meja_per_100_cm\": 23.0, \"diam_top_in_cm\": 0.15, \"side_branches_in_cm\": 45.5, \"main_stem_length_in_cm\": 61.0}, {\"stem_diam_bottom_in_cm\": 0.37, \"total_meja\": 0, \"meja_per_100_cm\": 0.0, \"diam_top_in_cm\": 0.15, \"side_branches_in_cm\": 45.5, \"main_stem_length_in_cm\": 60.0}, {\"stem_diam_bottom_in_cm\": 0.48, \"total_meja\": 0, \"meja_per_100_cm\": 0.0, \"diam_top_in_cm\": 0.05, \"side_branches_in_cm\": 45.5, \"main_stem_length_in_cm\": 85.0}, {\"stem_diam_bottom_in_cm\": 0.34, \"total_meja\": 3, \"meja_per_100_cm\": 4.5, \"diam_top_in_cm\": 0.11, \"side_branches_in_cm\": 45.5, \"main_stem_length_in_cm\": 67.0}, {\"stem_diam_bottom_in_cm\": 0.57, \"total_meja\": 0, \"meja_per_100_cm\": 0.0, \"diam_top_in_cm\": 0.15, \"side_branches_in_cm\": 45.5, \"main_stem_length_in_cm\": 89.0}, {\"stem_diam_bottom_in_cm\": 0.77, \"total_meja\": 0, \"meja_per_100_cm\": 0.0, \"diam_top_in_cm\": 0.15, \"side_branches_in_cm\": 45.5, \"main_stem_length_in_cm\": 79.0}, {\"stem_diam_bottom_in_cm\": 0.38, \"total_meja\": 20, \"meja_per_100_cm\": 45.5, \"diam_top_in_cm\": 0.12, \"side_branches_in_cm\": 45.5, \"main_stem_length_in_cm\": 44.0}, {\"stem_diam_bottom_in_cm\": 0.37, \"total_meja\": 3, \"meja_per_100_cm\": 5.6, \"diam_top_in_cm\": 0.15, \"side_branches_in_cm\": 45.5, \"main_stem_length_in_cm\": 54.0}, {\"stem_diam_bottom_in_cm\": 0.17, \"total_meja\": 0, \"meja_per_100_cm\": 0.0, \"diam_top_in_cm\": 0.15, \"side_branches_in_cm\": 45.5, \"main_stem_length_in_cm\": 14.5}, {\"stem_diam_bottom_in_cm\": 0.73, \"total_meja\": 0, \"meja_per_100_cm\": 0.0, \"diam_top_in_cm\": 0.15, \"side_branches_in_cm\": 45.5, \"main_stem_length_in_cm\": 58.0}, {\"stem_diam_bottom_in_cm\": 0.6, \"total_meja\": 0, \"meja_per_100_cm\": 0.0, \"diam_top_in_cm\": 0.15, \"side_branches_in_cm\": 45.5, \"main_stem_length_in_cm\": 77.0}, {\"stem_diam_bottom_in_cm\": 0.62, \"total_meja\": 0, \"meja_per_100_cm\": 0.0, \"diam_top_in_cm\": 0.09, \"side_branches_in_cm\": 45.5, \"main_stem_length_in_cm\": 58.0}, {\"stem_diam_bottom_in_cm\": 0.56, \"total_meja\": 10, \"meja_per_100_cm\": 16.4, \"diam_top_in_cm\": 0.15, \"side_branches_in_cm\": 45.5, \"main_stem_length_in_cm\": 61.0}, {\"stem_diam_bottom_in_cm\": 0.16, \"total_meja\": 0, \"meja_per_100_cm\": 0.0, \"diam_top_in_cm\": 0.15, \"side_branches_in_cm\": 45.5, \"main_stem_length_in_cm\": 8.5}, {\"stem_diam_bottom_in_cm\": 0.44, \"total_meja\": 7, \"meja_per_100_cm\": 25.9, \"diam_top_in_cm\": 0.15, \"side_branches_in_cm\": 45.5, \"main_stem_length_in_cm\": 27.0}, {\"stem_diam_bottom_in_cm\": 0.35, \"total_meja\": 0, \"meja_per_100_cm\": 0.0, \"diam_top_in_cm\": 0.15, \"side_branches_in_cm\": 45.5, \"main_stem_length_in_cm\": 17.0}, {\"stem_diam_bottom_in_cm\": 0.43, \"total_meja\": 0, \"meja_per_100_cm\": 0.0, \"diam_top_in_cm\": 0.15, \"side_branches_in_cm\": 45.5, \"main_stem_length_in_cm\": 39.0}, {\"stem_diam_bottom_in_cm\": 0.52, \"total_meja\": 3, \"meja_per_100_cm\": 4.9, \"diam_top_in_cm\": 0.15, \"side_branches_in_cm\": 45.5, \"main_stem_length_in_cm\": 61.0}, {\"stem_diam_bottom_in_cm\": 0.53, \"total_meja\": 27, \"meja_per_100_cm\": 71.1, \"diam_top_in_cm\": 0.21, \"side_branches_in_cm\": 45.5, \"main_stem_length_in_cm\": 38.0}, {\"stem_diam_bottom_in_cm\": 0.47, \"total_meja\": 0, \"meja_per_100_cm\": 0.0, \"diam_top_in_cm\": 0.15, \"side_branches_in_cm\": 45.5, \"main_stem_length_in_cm\": 61.0}, {\"stem_diam_bottom_in_cm\": 0.94, \"total_meja\": 9, \"meja_per_100_cm\": 11.7, \"diam_top_in_cm\": 0.3, \"side_branches_in_cm\": 45.5, \"main_stem_length_in_cm\": 77.0}, {\"stem_diam_bottom_in_cm\": 0.41, \"total_meja\": 4, \"meja_per_100_cm\": 6.3, \"diam_top_in_cm\": 0.04, \"side_branches_in_cm\": 45.5, \"main_stem_length_in_cm\": 64.0}, {\"stem_diam_bottom_in_cm\": 0.6, \"total_meja\": 29, \"meja_per_100_cm\": 80.6, \"diam_top_in_cm\": 0.36, \"side_branches_in_cm\": 45.5, \"main_stem_length_in_cm\": 36.0}, {\"stem_diam_bottom_in_cm\": 0.48, \"total_meja\": 4, \"meja_per_100_cm\": 6.5, \"diam_top_in_cm\": 0.15, \"side_branches_in_cm\": 20.0, \"main_stem_length_in_cm\": 62.0}, {\"stem_diam_bottom_in_cm\": 0.48, \"total_meja\": 7, \"meja_per_100_cm\": 22.6, \"diam_top_in_cm\": 0.2, \"side_branches_in_cm\": 45.5, \"main_stem_length_in_cm\": 31.0}, {\"stem_diam_bottom_in_cm\": 0.23, \"total_meja\": 0, \"meja_per_100_cm\": 0.0, \"diam_top_in_cm\": 0.15, \"side_branches_in_cm\": 45.5, \"main_stem_length_in_cm\": 24.0}, {\"stem_diam_bottom_in_cm\": 0.78, \"total_meja\": 7, \"meja_per_100_cm\": 9.3, \"diam_top_in_cm\": 0.15, \"side_branches_in_cm\": 45.5, \"main_stem_length_in_cm\": 75.0}, {\"stem_diam_bottom_in_cm\": 0.58, \"total_meja\": 1, \"meja_per_100_cm\": 1.6, \"diam_top_in_cm\": 0.35, \"side_branches_in_cm\": 45.5, \"main_stem_length_in_cm\": 62.0}, {\"stem_diam_bottom_in_cm\": 0.49, \"total_meja\": 0, \"meja_per_100_cm\": 0.0, \"diam_top_in_cm\": 0.15, \"side_branches_in_cm\": 45.5, \"main_stem_length_in_cm\": 54.0}, {\"stem_diam_bottom_in_cm\": 0.42, \"total_meja\": 0, \"meja_per_100_cm\": 0.0, \"diam_top_in_cm\": 0.15, \"side_branches_in_cm\": 45.5, \"main_stem_length_in_cm\": 74.0}, {\"stem_diam_bottom_in_cm\": 0.69, \"total_meja\": 0, \"meja_per_100_cm\": 0.0, \"diam_top_in_cm\": 0.15, \"side_branches_in_cm\": 45.5, \"main_stem_length_in_cm\": 86.0}, {\"stem_diam_bottom_in_cm\": 0.47, \"total_meja\": 0, \"meja_per_100_cm\": 0.0, \"diam_top_in_cm\": 0.15, \"side_branches_in_cm\": 45.5, \"main_stem_length_in_cm\": 34.0}, {\"stem_diam_bottom_in_cm\": 0.18, \"total_meja\": 0, \"meja_per_100_cm\": 0.0, \"diam_top_in_cm\": 0.15, \"side_branches_in_cm\": 45.5, \"main_stem_length_in_cm\": 12.0}, {\"stem_diam_bottom_in_cm\": 0.5, \"total_meja\": 23, \"meja_per_100_cm\": 47.9, \"diam_top_in_cm\": 0.27, \"side_branches_in_cm\": 45.5, \"main_stem_length_in_cm\": 48.0}, {\"stem_diam_bottom_in_cm\": 0.47, \"total_meja\": 0, \"meja_per_100_cm\": 0.0, \"diam_top_in_cm\": 0.09, \"side_branches_in_cm\": 45.5, \"main_stem_length_in_cm\": 88.0}, {\"stem_diam_bottom_in_cm\": 0.72, \"total_meja\": 0, \"meja_per_100_cm\": 0.0, \"diam_top_in_cm\": 0.16, \"side_branches_in_cm\": 45.5, \"main_stem_length_in_cm\": 58.0}, {\"stem_diam_bottom_in_cm\": 0.48, \"total_meja\": 0, \"meja_per_100_cm\": 0.0, \"diam_top_in_cm\": 0.09, \"side_branches_in_cm\": 45.5, \"main_stem_length_in_cm\": 83.0}, {\"stem_diam_bottom_in_cm\": 0.49, \"total_meja\": 0, \"meja_per_100_cm\": 0.0, \"diam_top_in_cm\": 0.15, \"side_branches_in_cm\": 13.0, \"main_stem_length_in_cm\": 49.0}, {\"stem_diam_bottom_in_cm\": 0.53, \"total_meja\": 0, \"meja_per_100_cm\": 0.0, \"diam_top_in_cm\": 0.15, \"side_branches_in_cm\": 45.5, \"main_stem_length_in_cm\": 57.0}, {\"stem_diam_bottom_in_cm\": 0.48, \"total_meja\": 0, \"meja_per_100_cm\": 0.0, \"diam_top_in_cm\": 0.15, \"side_branches_in_cm\": 45.5, \"main_stem_length_in_cm\": 49.0}, {\"stem_diam_bottom_in_cm\": 0.48, \"total_meja\": 5, \"meja_per_100_cm\": 10.0, \"diam_top_in_cm\": 0.12, \"side_branches_in_cm\": 45.5, \"main_stem_length_in_cm\": 50.0}, {\"stem_diam_bottom_in_cm\": 0.4, \"total_meja\": 0, \"meja_per_100_cm\": 0.0, \"diam_top_in_cm\": 0.15, \"side_branches_in_cm\": 66.0, \"main_stem_length_in_cm\": 24.0}, {\"stem_diam_bottom_in_cm\": 0.3, \"total_meja\": 0, \"meja_per_100_cm\": 0.0, \"diam_top_in_cm\": 0.15, \"side_branches_in_cm\": 45.5, \"main_stem_length_in_cm\": 36.0}, {\"stem_diam_bottom_in_cm\": 0.19, \"total_meja\": 0, \"meja_per_100_cm\": 0.0, \"diam_top_in_cm\": 0.15, \"side_branches_in_cm\": 45.5, \"main_stem_length_in_cm\": 19.0}, {\"stem_diam_bottom_in_cm\": 0.51, \"total_meja\": 18, \"meja_per_100_cm\": 37.5, \"diam_top_in_cm\": 0.22, \"side_branches_in_cm\": 45.5, \"main_stem_length_in_cm\": 48.0}, {\"stem_diam_bottom_in_cm\": 0.66, \"total_meja\": 0, \"meja_per_100_cm\": 0.0, \"diam_top_in_cm\": 0.15, \"side_branches_in_cm\": 45.5, \"main_stem_length_in_cm\": 52.0}, {\"stem_diam_bottom_in_cm\": 0.35, \"total_meja\": 0, \"meja_per_100_cm\": 0.0, \"diam_top_in_cm\": 0.25, \"side_branches_in_cm\": 45.5, \"main_stem_length_in_cm\": 41.0}, {\"stem_diam_bottom_in_cm\": 0.68, \"total_meja\": 0, \"meja_per_100_cm\": 0.0, \"diam_top_in_cm\": 0.15, \"side_branches_in_cm\": 45.5, \"main_stem_length_in_cm\": 82.0}, {\"stem_diam_bottom_in_cm\": 0.35, \"total_meja\": 13, \"meja_per_100_cm\": 32.1, \"diam_top_in_cm\": 0.18, \"side_branches_in_cm\": 45.5, \"main_stem_length_in_cm\": 40.5}, {\"stem_diam_bottom_in_cm\": 0.5, \"total_meja\": 21, \"meja_per_100_cm\": 63.6, \"diam_top_in_cm\": 0.16, \"side_branches_in_cm\": 45.5, \"main_stem_length_in_cm\": 33.0}, {\"stem_diam_bottom_in_cm\": 1.08, \"total_meja\": 0, \"meja_per_100_cm\": 0.0, \"diam_top_in_cm\": 0.15, \"side_branches_in_cm\": 45.5, \"main_stem_length_in_cm\": 10.0}, {\"stem_diam_bottom_in_cm\": 0.68, \"total_meja\": 2, \"meja_per_100_cm\": 2.1, \"diam_top_in_cm\": 0.15, \"side_branches_in_cm\": 45.5, \"main_stem_length_in_cm\": 97.0}, {\"stem_diam_bottom_in_cm\": 0.52, \"total_meja\": 0, \"meja_per_100_cm\": 0.0, \"diam_top_in_cm\": 0.15, \"side_branches_in_cm\": 45.5, \"main_stem_length_in_cm\": 50.0}, {\"stem_diam_bottom_in_cm\": 0.55, \"total_meja\": 22, \"meja_per_100_cm\": 36.7, \"diam_top_in_cm\": 0.15, \"side_branches_in_cm\": 45.5, \"main_stem_length_in_cm\": 60.0}, {\"stem_diam_bottom_in_cm\": 0.51, \"total_meja\": 7, \"meja_per_100_cm\": 17.9, \"diam_top_in_cm\": 0.22, \"side_branches_in_cm\": 45.5, \"main_stem_length_in_cm\": 39.0}, {\"stem_diam_bottom_in_cm\": 0.51, \"total_meja\": 34, \"meja_per_100_cm\": 51.5, \"diam_top_in_cm\": 0.15, \"side_branches_in_cm\": 45.5, \"main_stem_length_in_cm\": 66.0}, {\"stem_diam_bottom_in_cm\": 0.39, \"total_meja\": 0, \"meja_per_100_cm\": 0.0, \"diam_top_in_cm\": 0.05, \"side_branches_in_cm\": 45.5, \"main_stem_length_in_cm\": 51.0}, {\"stem_diam_bottom_in_cm\": 0.41, \"total_meja\": 21, \"meja_per_100_cm\": 58.3, \"diam_top_in_cm\": 0.2, \"side_branches_in_cm\": 45.5, \"main_stem_length_in_cm\": 36.0}, {\"stem_diam_bottom_in_cm\": 0.8, \"total_meja\": 0, \"meja_per_100_cm\": 0.0, \"diam_top_in_cm\": 0.04, \"side_branches_in_cm\": 45.5, \"main_stem_length_in_cm\": 98.0}, {\"stem_diam_bottom_in_cm\": 0.57, \"total_meja\": 0, \"meja_per_100_cm\": 0.0, \"diam_top_in_cm\": 0.15, \"side_branches_in_cm\": 45.5, \"main_stem_length_in_cm\": 65.0}, {\"stem_diam_bottom_in_cm\": 0.21, \"total_meja\": 0, \"meja_per_100_cm\": 0.0, \"diam_top_in_cm\": 0.15, \"side_branches_in_cm\": 45.5, \"main_stem_length_in_cm\": 13.0}, {\"stem_diam_bottom_in_cm\": 0.33, \"total_meja\": 3, \"meja_per_100_cm\": 5.7, \"diam_top_in_cm\": 0.08, \"side_branches_in_cm\": 45.5, \"main_stem_length_in_cm\": 53.0}, {\"stem_diam_bottom_in_cm\": 0.38, \"total_meja\": 20, \"meja_per_100_cm\": 63.5, \"diam_top_in_cm\": 0.15, \"side_branches_in_cm\": 45.5, \"main_stem_length_in_cm\": 31.5}, {\"stem_diam_bottom_in_cm\": 0.4, \"total_meja\": 1, \"meja_per_100_cm\": 2.0, \"diam_top_in_cm\": 0.15, \"side_branches_in_cm\": 45.5, \"main_stem_length_in_cm\": 49.0}, {\"stem_diam_bottom_in_cm\": 0.55, \"total_meja\": 6, \"meja_per_100_cm\": 16.7, \"diam_top_in_cm\": 0.19, \"side_branches_in_cm\": 45.5, \"main_stem_length_in_cm\": 36.0}, {\"stem_diam_bottom_in_cm\": 0.55, \"total_meja\": 8, \"meja_per_100_cm\": 20.0, \"diam_top_in_cm\": 0.42, \"side_branches_in_cm\": 45.5, \"main_stem_length_in_cm\": 40.0}, {\"stem_diam_bottom_in_cm\": 0.5, \"total_meja\": 48, \"meja_per_100_cm\": 81.4, \"diam_top_in_cm\": 0.11, \"side_branches_in_cm\": 45.5, \"main_stem_length_in_cm\": 59.0}, {\"stem_diam_bottom_in_cm\": 0.77, \"total_meja\": 33, \"meja_per_100_cm\": 25.0, \"diam_top_in_cm\": 0.15, \"side_branches_in_cm\": 45.5, \"main_stem_length_in_cm\": 132.0}, {\"stem_diam_bottom_in_cm\": 0.38, \"total_meja\": 3, \"meja_per_100_cm\": 6.5, \"diam_top_in_cm\": 0.15, \"side_branches_in_cm\": 45.5, \"main_stem_length_in_cm\": 46.0}, {\"stem_diam_bottom_in_cm\": 0.51, \"total_meja\": 0, \"meja_per_100_cm\": 0.0, \"diam_top_in_cm\": 0.15, \"side_branches_in_cm\": 45.5, \"main_stem_length_in_cm\": 62.0}, {\"stem_diam_bottom_in_cm\": 0.32, \"total_meja\": 0, \"meja_per_100_cm\": 0.0, \"diam_top_in_cm\": 0.15, \"side_branches_in_cm\": 45.5, \"main_stem_length_in_cm\": 41.0}, {\"stem_diam_bottom_in_cm\": 0.24, \"total_meja\": 0, \"meja_per_100_cm\": 0.0, \"diam_top_in_cm\": 0.15, \"side_branches_in_cm\": 45.5, \"main_stem_length_in_cm\": 30.0}, {\"stem_diam_bottom_in_cm\": 0.45, \"total_meja\": 4, \"meja_per_100_cm\": 5.3, \"diam_top_in_cm\": 0.06, \"side_branches_in_cm\": 45.5, \"main_stem_length_in_cm\": 76.0}, {\"stem_diam_bottom_in_cm\": 0.47, \"total_meja\": 39, \"meja_per_100_cm\": 83.0, \"diam_top_in_cm\": 0.15, \"side_branches_in_cm\": 45.5, \"main_stem_length_in_cm\": 47.0}, {\"stem_diam_bottom_in_cm\": 0.93, \"total_meja\": 0, \"meja_per_100_cm\": 0.0, \"diam_top_in_cm\": 0.29, \"side_branches_in_cm\": 45.5, \"main_stem_length_in_cm\": 87.0}, {\"stem_diam_bottom_in_cm\": 0.28, \"total_meja\": 0, \"meja_per_100_cm\": 0.0, \"diam_top_in_cm\": 0.15, \"side_branches_in_cm\": 45.5, \"main_stem_length_in_cm\": 14.5}, {\"stem_diam_bottom_in_cm\": 1.12, \"total_meja\": 2, \"meja_per_100_cm\": 2.3, \"diam_top_in_cm\": 0.15, \"side_branches_in_cm\": 45.5, \"main_stem_length_in_cm\": 88.0}, {\"stem_diam_bottom_in_cm\": 0.42, \"total_meja\": 4, \"meja_per_100_cm\": 5.6, \"diam_top_in_cm\": 0.08, \"side_branches_in_cm\": 45.5, \"main_stem_length_in_cm\": 72.0}, {\"stem_diam_bottom_in_cm\": 0.59, \"total_meja\": 0, \"meja_per_100_cm\": 0.0, \"diam_top_in_cm\": 0.15, \"side_branches_in_cm\": 45.5, \"main_stem_length_in_cm\": 51.0}, {\"stem_diam_bottom_in_cm\": 0.49, \"total_meja\": 0, \"meja_per_100_cm\": 0.0, \"diam_top_in_cm\": 0.15, \"side_branches_in_cm\": 45.5, \"main_stem_length_in_cm\": 32.0}, {\"stem_diam_bottom_in_cm\": 0.65, \"total_meja\": 0, \"meja_per_100_cm\": 0.0, \"diam_top_in_cm\": 0.15, \"side_branches_in_cm\": 45.5, \"main_stem_length_in_cm\": 77.0}, {\"stem_diam_bottom_in_cm\": 0.54, \"total_meja\": 17, \"meja_per_100_cm\": 44.7, \"diam_top_in_cm\": 0.16, \"side_branches_in_cm\": 45.5, \"main_stem_length_in_cm\": 38.0}, {\"stem_diam_bottom_in_cm\": 0.77, \"total_meja\": 0, \"meja_per_100_cm\": 0.0, \"diam_top_in_cm\": 0.15, \"side_branches_in_cm\": 45.5, \"main_stem_length_in_cm\": 57.0}, {\"stem_diam_bottom_in_cm\": 0.29, \"total_meja\": 0, \"meja_per_100_cm\": 0.0, \"diam_top_in_cm\": 0.15, \"side_branches_in_cm\": 45.5, \"main_stem_length_in_cm\": 19.5}, {\"stem_diam_bottom_in_cm\": 0.31, \"total_meja\": 0, \"meja_per_100_cm\": 0.0, \"diam_top_in_cm\": 0.13, \"side_branches_in_cm\": 45.5, \"main_stem_length_in_cm\": 45.0}, {\"stem_diam_bottom_in_cm\": 0.85, \"total_meja\": 28, \"meja_per_100_cm\": 57.1, \"diam_top_in_cm\": 0.38, \"side_branches_in_cm\": 45.5, \"main_stem_length_in_cm\": 49.0}, {\"stem_diam_bottom_in_cm\": 0.33, \"total_meja\": 0, \"meja_per_100_cm\": 0.0, \"diam_top_in_cm\": 0.03, \"side_branches_in_cm\": 45.5, \"main_stem_length_in_cm\": 46.0}, {\"stem_diam_bottom_in_cm\": 0.15, \"total_meja\": 0, \"meja_per_100_cm\": 0.0, \"diam_top_in_cm\": 0.15, \"side_branches_in_cm\": 45.5, \"main_stem_length_in_cm\": 11.0}, {\"stem_diam_bottom_in_cm\": 0.5, \"total_meja\": 7, \"meja_per_100_cm\": 12.3, \"diam_top_in_cm\": 0.06, \"side_branches_in_cm\": 45.5, \"main_stem_length_in_cm\": 57.0}, {\"stem_diam_bottom_in_cm\": 0.81, \"total_meja\": 14, \"meja_per_100_cm\": 31.8, \"diam_top_in_cm\": 0.18, \"side_branches_in_cm\": 45.5, \"main_stem_length_in_cm\": 44.0}, {\"stem_diam_bottom_in_cm\": 0.45, \"total_meja\": 13, \"meja_per_100_cm\": 33.8, \"diam_top_in_cm\": 0.1, \"side_branches_in_cm\": 45.5, \"main_stem_length_in_cm\": 38.5}, {\"stem_diam_bottom_in_cm\": 0.48, \"total_meja\": 0, \"meja_per_100_cm\": 0.0, \"diam_top_in_cm\": 0.15, \"side_branches_in_cm\": 45.5, \"main_stem_length_in_cm\": 49.0}, {\"stem_diam_bottom_in_cm\": 0.52, \"total_meja\": 11, \"meja_per_100_cm\": 34.4, \"diam_top_in_cm\": 0.27, \"side_branches_in_cm\": 45.5, \"main_stem_length_in_cm\": 32.0}, {\"stem_diam_bottom_in_cm\": 0.74, \"total_meja\": 0, \"meja_per_100_cm\": 0.0, \"diam_top_in_cm\": 0.15, \"side_branches_in_cm\": 222.0, \"main_stem_length_in_cm\": 30.0}, {\"stem_diam_bottom_in_cm\": 0.22, \"total_meja\": 0, \"meja_per_100_cm\": 0.0, \"diam_top_in_cm\": 0.15, \"side_branches_in_cm\": 45.5, \"main_stem_length_in_cm\": 10.5}, {\"stem_diam_bottom_in_cm\": 0.7, \"total_meja\": 9, \"meja_per_100_cm\": 15.0, \"diam_top_in_cm\": 0.15, \"side_branches_in_cm\": 45.5, \"main_stem_length_in_cm\": 60.0}, {\"stem_diam_bottom_in_cm\": 0.24, \"total_meja\": 0, \"meja_per_100_cm\": 0.0, \"diam_top_in_cm\": 0.15, \"side_branches_in_cm\": 45.5, \"main_stem_length_in_cm\": 5.0}, {\"stem_diam_bottom_in_cm\": 0.5, \"total_meja\": 6, \"meja_per_100_cm\": 8.7, \"diam_top_in_cm\": 0.14, \"side_branches_in_cm\": 45.5, \"main_stem_length_in_cm\": 69.0}, {\"stem_diam_bottom_in_cm\": 0.37, \"total_meja\": 1, \"meja_per_100_cm\": 2.9, \"diam_top_in_cm\": 0.15, \"side_branches_in_cm\": 45.5, \"main_stem_length_in_cm\": 34.0}, {\"stem_diam_bottom_in_cm\": 0.63, \"total_meja\": 0, \"meja_per_100_cm\": 0.0, \"diam_top_in_cm\": 0.15, \"side_branches_in_cm\": 45.5, \"main_stem_length_in_cm\": 100.0}, {\"stem_diam_bottom_in_cm\": 0.21, \"total_meja\": 0, \"meja_per_100_cm\": 0.0, \"diam_top_in_cm\": 0.15, \"side_branches_in_cm\": 45.5, \"main_stem_length_in_cm\": 15.0}, {\"stem_diam_bottom_in_cm\": 0.52, \"total_meja\": 37, \"meja_per_100_cm\": 55.2, \"diam_top_in_cm\": 0.15, \"side_branches_in_cm\": 45.5, \"main_stem_length_in_cm\": 67.0}, {\"stem_diam_bottom_in_cm\": 0.65, \"total_meja\": 0, \"meja_per_100_cm\": 0.0, \"diam_top_in_cm\": 0.54, \"side_branches_in_cm\": 45.5, \"main_stem_length_in_cm\": 54.0}, {\"stem_diam_bottom_in_cm\": 0.18, \"total_meja\": 0, \"meja_per_100_cm\": 0.0, \"diam_top_in_cm\": 0.15, \"side_branches_in_cm\": 45.5, \"main_stem_length_in_cm\": 6.5}, {\"stem_diam_bottom_in_cm\": 0.67, \"total_meja\": 0, \"meja_per_100_cm\": 0.0, \"diam_top_in_cm\": 0.15, \"side_branches_in_cm\": 45.5, \"main_stem_length_in_cm\": 56.0}, {\"stem_diam_bottom_in_cm\": 0.69, \"total_meja\": 53, \"meja_per_100_cm\": 129.3, \"diam_top_in_cm\": 0.28, \"side_branches_in_cm\": 45.5, \"main_stem_length_in_cm\": 41.0}, {\"stem_diam_bottom_in_cm\": 0.58, \"total_meja\": 8, \"meja_per_100_cm\": 16.3, \"diam_top_in_cm\": 0.32, \"side_branches_in_cm\": 45.5, \"main_stem_length_in_cm\": 49.0}, {\"stem_diam_bottom_in_cm\": 0.49, \"total_meja\": 0, \"meja_per_100_cm\": 0.0, \"diam_top_in_cm\": 0.11, \"side_branches_in_cm\": 45.5, \"main_stem_length_in_cm\": 54.0}, {\"stem_diam_bottom_in_cm\": 0.71, \"total_meja\": 0, \"meja_per_100_cm\": 0.0, \"diam_top_in_cm\": 0.15, \"side_branches_in_cm\": 43.0, \"main_stem_length_in_cm\": 98.0}, {\"stem_diam_bottom_in_cm\": 0.21, \"total_meja\": 0, \"meja_per_100_cm\": 0.0, \"diam_top_in_cm\": 0.15, \"side_branches_in_cm\": 45.5, \"main_stem_length_in_cm\": 11.0}, {\"stem_diam_bottom_in_cm\": 0.33, \"total_meja\": 8, \"meja_per_100_cm\": 26.7, \"diam_top_in_cm\": 0.12, \"side_branches_in_cm\": 45.5, \"main_stem_length_in_cm\": 30.0}, {\"stem_diam_bottom_in_cm\": 0.3, \"total_meja\": 0, \"meja_per_100_cm\": 0.0, \"diam_top_in_cm\": 0.15, \"side_branches_in_cm\": 45.5, \"main_stem_length_in_cm\": 27.0}, {\"stem_diam_bottom_in_cm\": 0.51, \"total_meja\": 5, \"meja_per_100_cm\": 4.7, \"diam_top_in_cm\": 0.15, \"side_branches_in_cm\": 45.5, \"main_stem_length_in_cm\": 106.0}, {\"stem_diam_bottom_in_cm\": 0.3, \"total_meja\": 0, \"meja_per_100_cm\": 0.0, \"diam_top_in_cm\": 0.15, \"side_branches_in_cm\": 45.5, \"main_stem_length_in_cm\": 13.5}, {\"stem_diam_bottom_in_cm\": 0.28, \"total_meja\": 0, \"meja_per_100_cm\": 0.0, \"diam_top_in_cm\": 0.15, \"side_branches_in_cm\": 45.5, \"main_stem_length_in_cm\": 17.0}, {\"stem_diam_bottom_in_cm\": 0.33, \"total_meja\": 12, \"meja_per_100_cm\": 41.4, \"diam_top_in_cm\": 0.18, \"side_branches_in_cm\": 45.5, \"main_stem_length_in_cm\": 29.0}, {\"stem_diam_bottom_in_cm\": 0.88, \"total_meja\": 0, \"meja_per_100_cm\": 0.0, \"diam_top_in_cm\": 0.15, \"side_branches_in_cm\": 23.0, \"main_stem_length_in_cm\": 68.0}, {\"stem_diam_bottom_in_cm\": 0.64, \"total_meja\": 0, \"meja_per_100_cm\": 0.0, \"diam_top_in_cm\": 0.09, \"side_branches_in_cm\": 45.5, \"main_stem_length_in_cm\": 93.0}, {\"stem_diam_bottom_in_cm\": 0.49, \"total_meja\": 2, \"meja_per_100_cm\": 2.9, \"diam_top_in_cm\": 0.1, \"side_branches_in_cm\": 45.5, \"main_stem_length_in_cm\": 68.0}, {\"stem_diam_bottom_in_cm\": 0.69, \"total_meja\": 1, \"meja_per_100_cm\": 1.0, \"diam_top_in_cm\": 0.15, \"side_branches_in_cm\": 45.5, \"main_stem_length_in_cm\": 102.0}, {\"stem_diam_bottom_in_cm\": 0.74, \"total_meja\": 1, \"meja_per_100_cm\": 2.9, \"diam_top_in_cm\": 0.19, \"side_branches_in_cm\": 45.5, \"main_stem_length_in_cm\": 35.0}, {\"stem_diam_bottom_in_cm\": 0.26, \"total_meja\": 0, \"meja_per_100_cm\": 0.0, \"diam_top_in_cm\": 0.15, \"side_branches_in_cm\": 45.5, \"main_stem_length_in_cm\": 21.0}, {\"stem_diam_bottom_in_cm\": 0.59, \"total_meja\": 2, \"meja_per_100_cm\": 2.6, \"diam_top_in_cm\": 0.15, \"side_branches_in_cm\": 45.5, \"main_stem_length_in_cm\": 76.0}, {\"stem_diam_bottom_in_cm\": 0.56, \"total_meja\": 0, \"meja_per_100_cm\": 0.0, \"diam_top_in_cm\": 0.15, \"side_branches_in_cm\": 47.0, \"main_stem_length_in_cm\": 67.0}, {\"stem_diam_bottom_in_cm\": 0.27, \"total_meja\": 0, \"meja_per_100_cm\": 0.0, \"diam_top_in_cm\": 0.15, \"side_branches_in_cm\": 45.5, \"main_stem_length_in_cm\": 20.5}, {\"stem_diam_bottom_in_cm\": 0.41, \"total_meja\": 0, \"meja_per_100_cm\": 0.0, \"diam_top_in_cm\": 0.05, \"side_branches_in_cm\": 45.5, \"main_stem_length_in_cm\": 89.0}, {\"stem_diam_bottom_in_cm\": 0.47, \"total_meja\": 15, \"meja_per_100_cm\": 33.3, \"diam_top_in_cm\": 0.15, \"side_branches_in_cm\": 45.5, \"main_stem_length_in_cm\": 45.0}, {\"stem_diam_bottom_in_cm\": 0.44, \"total_meja\": 0, \"meja_per_100_cm\": 0.0, \"diam_top_in_cm\": 0.15, \"side_branches_in_cm\": 68.0, \"main_stem_length_in_cm\": 65.0}, {\"stem_diam_bottom_in_cm\": 0.17, \"total_meja\": 0, \"meja_per_100_cm\": 0.0, \"diam_top_in_cm\": 0.15, \"side_branches_in_cm\": 45.5, \"main_stem_length_in_cm\": 10.5}, {\"stem_diam_bottom_in_cm\": 0.26, \"total_meja\": 0, \"meja_per_100_cm\": 0.0, \"diam_top_in_cm\": 0.15, \"side_branches_in_cm\": 45.5, \"main_stem_length_in_cm\": 9.0}, {\"stem_diam_bottom_in_cm\": 0.52, \"total_meja\": 2, \"meja_per_100_cm\": 3.8, \"diam_top_in_cm\": 0.31, \"side_branches_in_cm\": 45.5, \"main_stem_length_in_cm\": 52.5}, {\"stem_diam_bottom_in_cm\": 0.23, \"total_meja\": 0, \"meja_per_100_cm\": 0.0, \"diam_top_in_cm\": 0.15, \"side_branches_in_cm\": 45.5, \"main_stem_length_in_cm\": 13.0}, {\"stem_diam_bottom_in_cm\": 0.25, \"total_meja\": 0, \"meja_per_100_cm\": 0.0, \"diam_top_in_cm\": 0.15, \"side_branches_in_cm\": 45.5, \"main_stem_length_in_cm\": 12.5}, {\"stem_diam_bottom_in_cm\": 0.49, \"total_meja\": 14, \"meja_per_100_cm\": 21.5, \"diam_top_in_cm\": 0.15, \"side_branches_in_cm\": 45.5, \"main_stem_length_in_cm\": 65.0}, {\"stem_diam_bottom_in_cm\": 0.47, \"total_meja\": 0, \"meja_per_100_cm\": 0.0, \"diam_top_in_cm\": 0.15, \"side_branches_in_cm\": 45.5, \"main_stem_length_in_cm\": 28.0}, {\"stem_diam_bottom_in_cm\": 0.98, \"total_meja\": 18, \"meja_per_100_cm\": 23.7, \"diam_top_in_cm\": 0.34, \"side_branches_in_cm\": 45.5, \"main_stem_length_in_cm\": 76.0}, {\"stem_diam_bottom_in_cm\": 0.72, \"total_meja\": 1, \"meja_per_100_cm\": 1.0, \"diam_top_in_cm\": 0.15, \"side_branches_in_cm\": 45.5, \"main_stem_length_in_cm\": 99.0}, {\"stem_diam_bottom_in_cm\": 0.58, \"total_meja\": 0, \"meja_per_100_cm\": 0.0, \"diam_top_in_cm\": 0.15, \"side_branches_in_cm\": 45.5, \"main_stem_length_in_cm\": 62.0}, {\"stem_diam_bottom_in_cm\": 0.32, \"total_meja\": 12, \"meja_per_100_cm\": 50.0, \"diam_top_in_cm\": 0.12, \"side_branches_in_cm\": 45.5, \"main_stem_length_in_cm\": 24.0}, {\"stem_diam_bottom_in_cm\": 0.46, \"total_meja\": 0, \"meja_per_100_cm\": 0.0, \"diam_top_in_cm\": 0.15, \"side_branches_in_cm\": 45.5, \"main_stem_length_in_cm\": 69.0}, {\"stem_diam_bottom_in_cm\": 0.45, \"total_meja\": 10, \"meja_per_100_cm\": 23.8, \"diam_top_in_cm\": 0.11, \"side_branches_in_cm\": 45.5, \"main_stem_length_in_cm\": 42.0}, {\"stem_diam_bottom_in_cm\": 0.57, \"total_meja\": 0, \"meja_per_100_cm\": 0.0, \"diam_top_in_cm\": 0.15, \"side_branches_in_cm\": 45.5, \"main_stem_length_in_cm\": 56.0}, {\"stem_diam_bottom_in_cm\": 0.49, \"total_meja\": 0, \"meja_per_100_cm\": 0.0, \"diam_top_in_cm\": 0.15, \"side_branches_in_cm\": 45.5, \"main_stem_length_in_cm\": 62.0}, {\"stem_diam_bottom_in_cm\": 0.26, \"total_meja\": 0, \"meja_per_100_cm\": 0.0, \"diam_top_in_cm\": 0.15, \"side_branches_in_cm\": 45.5, \"main_stem_length_in_cm\": 33.0}, {\"stem_diam_bottom_in_cm\": 0.61, \"total_meja\": 17, \"meja_per_100_cm\": 27.2, \"diam_top_in_cm\": 0.13, \"side_branches_in_cm\": 45.5, \"main_stem_length_in_cm\": 62.5}, {\"stem_diam_bottom_in_cm\": 0.35, \"total_meja\": 16, \"meja_per_100_cm\": 50.0, \"diam_top_in_cm\": 0.13, \"side_branches_in_cm\": 45.5, \"main_stem_length_in_cm\": 32.0}, {\"stem_diam_bottom_in_cm\": 0.43, \"total_meja\": 0, \"meja_per_100_cm\": 0.0, \"diam_top_in_cm\": 0.15, \"side_branches_in_cm\": 30.0, \"main_stem_length_in_cm\": 58.0}, {\"stem_diam_bottom_in_cm\": 0.62, \"total_meja\": 9, \"meja_per_100_cm\": 26.5, \"diam_top_in_cm\": 0.12, \"side_branches_in_cm\": 45.5, \"main_stem_length_in_cm\": 34.0}, {\"stem_diam_bottom_in_cm\": 0.43, \"total_meja\": 3, \"meja_per_100_cm\": 5.8, \"diam_top_in_cm\": 0.05, \"side_branches_in_cm\": 45.5, \"main_stem_length_in_cm\": 52.0}, {\"stem_diam_bottom_in_cm\": 0.37, \"total_meja\": 2, \"meja_per_100_cm\": 3.9, \"diam_top_in_cm\": 0.14, \"side_branches_in_cm\": 45.5, \"main_stem_length_in_cm\": 51.0}, {\"stem_diam_bottom_in_cm\": 0.47, \"total_meja\": 0, \"meja_per_100_cm\": 0.0, \"diam_top_in_cm\": 0.15, \"side_branches_in_cm\": 45.5, \"main_stem_length_in_cm\": 70.0}, {\"stem_diam_bottom_in_cm\": 0.21, \"total_meja\": 0, \"meja_per_100_cm\": 0.0, \"diam_top_in_cm\": 0.15, \"side_branches_in_cm\": 45.5, \"main_stem_length_in_cm\": 19.0}, {\"stem_diam_bottom_in_cm\": 0.63, \"total_meja\": 14, \"meja_per_100_cm\": 14.1, \"diam_top_in_cm\": 0.15, \"side_branches_in_cm\": 45.5, \"main_stem_length_in_cm\": 99.0}, {\"stem_diam_bottom_in_cm\": 1.05, \"total_meja\": 2, \"meja_per_100_cm\": 2.0, \"diam_top_in_cm\": 0.15, \"side_branches_in_cm\": 45.5, \"main_stem_length_in_cm\": 99.0}, {\"stem_diam_bottom_in_cm\": 0.36, \"total_meja\": 0, \"meja_per_100_cm\": 0.0, \"diam_top_in_cm\": 0.15, \"side_branches_in_cm\": 45.5, \"main_stem_length_in_cm\": 83.0}, {\"stem_diam_bottom_in_cm\": 0.88, \"total_meja\": 0, \"meja_per_100_cm\": 0.0, \"diam_top_in_cm\": 0.26, \"side_branches_in_cm\": 45.5, \"main_stem_length_in_cm\": 82.0}, {\"stem_diam_bottom_in_cm\": 0.4, \"total_meja\": 2, \"meja_per_100_cm\": 5.9, \"diam_top_in_cm\": 0.15, \"side_branches_in_cm\": 45.5, \"main_stem_length_in_cm\": 34.0}, {\"stem_diam_bottom_in_cm\": 0.24, \"total_meja\": 0, \"meja_per_100_cm\": 0.0, \"diam_top_in_cm\": 0.15, \"side_branches_in_cm\": 45.5, \"main_stem_length_in_cm\": 9.5}, {\"stem_diam_bottom_in_cm\": 0.49, \"total_meja\": 1, \"meja_per_100_cm\": 1.5, \"diam_top_in_cm\": 0.15, \"side_branches_in_cm\": 45.5, \"main_stem_length_in_cm\": 65.0}, {\"stem_diam_bottom_in_cm\": 0.62, \"total_meja\": 8, \"meja_per_100_cm\": 9.2, \"diam_top_in_cm\": 0.15, \"side_branches_in_cm\": 45.5, \"main_stem_length_in_cm\": 87.0}, {\"stem_diam_bottom_in_cm\": 0.27, \"total_meja\": 0, \"meja_per_100_cm\": 0.0, \"diam_top_in_cm\": 0.06, \"side_branches_in_cm\": 45.5, \"main_stem_length_in_cm\": 48.0}, {\"stem_diam_bottom_in_cm\": 0.56, \"total_meja\": 0, \"meja_per_100_cm\": 0.0, \"diam_top_in_cm\": 0.15, \"side_branches_in_cm\": 45.5, \"main_stem_length_in_cm\": 99.0}, {\"stem_diam_bottom_in_cm\": 0.29, \"total_meja\": 0, \"meja_per_100_cm\": 0.0, \"diam_top_in_cm\": 0.15, \"side_branches_in_cm\": 45.5, \"main_stem_length_in_cm\": 22.0}, {\"stem_diam_bottom_in_cm\": 0.42, \"total_meja\": 8, \"meja_per_100_cm\": 13.1, \"diam_top_in_cm\": 0.15, \"side_branches_in_cm\": 45.5, \"main_stem_length_in_cm\": 61.0}, {\"stem_diam_bottom_in_cm\": 0.44, \"total_meja\": 33, \"meja_per_100_cm\": 45.2, \"diam_top_in_cm\": 0.15, \"side_branches_in_cm\": 45.5, \"main_stem_length_in_cm\": 73.0}, {\"stem_diam_bottom_in_cm\": 0.17, \"total_meja\": 0, \"meja_per_100_cm\": 0.0, \"diam_top_in_cm\": 0.15, \"side_branches_in_cm\": 45.5, \"main_stem_length_in_cm\": 8.5}, {\"stem_diam_bottom_in_cm\": 0.31, \"total_meja\": 0, \"meja_per_100_cm\": 0.0, \"diam_top_in_cm\": 0.15, \"side_branches_in_cm\": 45.5, \"main_stem_length_in_cm\": 42.0}, {\"stem_diam_bottom_in_cm\": 0.32, \"total_meja\": 0, \"meja_per_100_cm\": 0.0, \"diam_top_in_cm\": 0.05, \"side_branches_in_cm\": 45.5, \"main_stem_length_in_cm\": 75.0}, {\"stem_diam_bottom_in_cm\": 0.77, \"total_meja\": 6, \"meja_per_100_cm\": 11.1, \"diam_top_in_cm\": 0.15, \"side_branches_in_cm\": 45.5, \"main_stem_length_in_cm\": 54.0}, {\"stem_diam_bottom_in_cm\": 0.52, \"total_meja\": 35, \"meja_per_100_cm\": 77.8, \"diam_top_in_cm\": 0.24, \"side_branches_in_cm\": 45.5, \"main_stem_length_in_cm\": 45.0}, {\"stem_diam_bottom_in_cm\": 0.42, \"total_meja\": 4, \"meja_per_100_cm\": 6.5, \"diam_top_in_cm\": 0.08, \"side_branches_in_cm\": 45.5, \"main_stem_length_in_cm\": 62.0}, {\"stem_diam_bottom_in_cm\": 0.28, \"total_meja\": 1, \"meja_per_100_cm\": 2.0, \"diam_top_in_cm\": 0.05, \"side_branches_in_cm\": 45.5, \"main_stem_length_in_cm\": 49.0}, {\"stem_diam_bottom_in_cm\": 0.61, \"total_meja\": 23, \"meja_per_100_cm\": 46.9, \"diam_top_in_cm\": 0.25, \"side_branches_in_cm\": 45.5, \"main_stem_length_in_cm\": 49.0}, {\"stem_diam_bottom_in_cm\": 0.53, \"total_meja\": 1, \"meja_per_100_cm\": 1.5, \"diam_top_in_cm\": 0.12, \"side_branches_in_cm\": 45.5, \"main_stem_length_in_cm\": 67.0}, {\"stem_diam_bottom_in_cm\": 0.56, \"total_meja\": 8, \"meja_per_100_cm\": 24.2, \"diam_top_in_cm\": 0.15, \"side_branches_in_cm\": 45.5, \"main_stem_length_in_cm\": 33.0}, {\"stem_diam_bottom_in_cm\": 0.7, \"total_meja\": 0, \"meja_per_100_cm\": 0.0, \"diam_top_in_cm\": 0.15, \"side_branches_in_cm\": 45.5, \"main_stem_length_in_cm\": 91.0}, {\"stem_diam_bottom_in_cm\": 0.48, \"total_meja\": 0, \"meja_per_100_cm\": 0.0, \"diam_top_in_cm\": 0.15, \"side_branches_in_cm\": 45.5, \"main_stem_length_in_cm\": 49.0}, {\"stem_diam_bottom_in_cm\": 0.22, \"total_meja\": 0, \"meja_per_100_cm\": 0.0, \"diam_top_in_cm\": 0.15, \"side_branches_in_cm\": 45.5, \"main_stem_length_in_cm\": 12.0}, {\"stem_diam_bottom_in_cm\": 0.36, \"total_meja\": 0, \"meja_per_100_cm\": 0.0, \"diam_top_in_cm\": 0.15, \"side_branches_in_cm\": 45.5, \"main_stem_length_in_cm\": 36.0}, {\"stem_diam_bottom_in_cm\": 0.79, \"total_meja\": 0, \"meja_per_100_cm\": 0.0, \"diam_top_in_cm\": 0.21, \"side_branches_in_cm\": 45.5, \"main_stem_length_in_cm\": 80.0}, {\"stem_diam_bottom_in_cm\": 0.8, \"total_meja\": 0, \"meja_per_100_cm\": 0.0, \"diam_top_in_cm\": 0.4, \"side_branches_in_cm\": 45.5, \"main_stem_length_in_cm\": 52.0}, {\"stem_diam_bottom_in_cm\": 0.38, \"total_meja\": 0, \"meja_per_100_cm\": 0.0, \"diam_top_in_cm\": 0.15, \"side_branches_in_cm\": 45.5, \"main_stem_length_in_cm\": 72.0}, {\"stem_diam_bottom_in_cm\": 0.94, \"total_meja\": 60, \"meja_per_100_cm\": 69.0, \"diam_top_in_cm\": 0.15, \"side_branches_in_cm\": 45.5, \"main_stem_length_in_cm\": 87.0}, {\"stem_diam_bottom_in_cm\": 0.68, \"total_meja\": 0, \"meja_per_100_cm\": 0.0, \"diam_top_in_cm\": 0.05, \"side_branches_in_cm\": 45.5, \"main_stem_length_in_cm\": 92.0}, {\"stem_diam_bottom_in_cm\": 0.56, \"total_meja\": 5, \"meja_per_100_cm\": 6.9, \"diam_top_in_cm\": 0.15, \"side_branches_in_cm\": 45.5, \"main_stem_length_in_cm\": 72.0}, {\"stem_diam_bottom_in_cm\": 0.82, \"total_meja\": 0, \"meja_per_100_cm\": 0.0, \"diam_top_in_cm\": 0.15, \"side_branches_in_cm\": 110.0, \"main_stem_length_in_cm\": 32.0}, {\"stem_diam_bottom_in_cm\": 0.65, \"total_meja\": 9, \"meja_per_100_cm\": 12.0, \"diam_top_in_cm\": 0.15, \"side_branches_in_cm\": 45.5, \"main_stem_length_in_cm\": 75.0}, {\"stem_diam_bottom_in_cm\": 0.33, \"total_meja\": 10, \"meja_per_100_cm\": 29.4, \"diam_top_in_cm\": 0.07, \"side_branches_in_cm\": 45.5, \"main_stem_length_in_cm\": 34.0}, {\"stem_diam_bottom_in_cm\": 0.93, \"total_meja\": 0, \"meja_per_100_cm\": 0.0, \"diam_top_in_cm\": 0.25, \"side_branches_in_cm\": 45.5, \"main_stem_length_in_cm\": 98.0}, {\"stem_diam_bottom_in_cm\": 0.76, \"total_meja\": 0, \"meja_per_100_cm\": 0.0, \"diam_top_in_cm\": 0.15, \"side_branches_in_cm\": 45.5, \"main_stem_length_in_cm\": 50.0}, {\"stem_diam_bottom_in_cm\": 0.38, \"total_meja\": 0, \"meja_per_100_cm\": 0.0, \"diam_top_in_cm\": 0.16, \"side_branches_in_cm\": 45.5, \"main_stem_length_in_cm\": 61.0}, {\"stem_diam_bottom_in_cm\": 0.62, \"total_meja\": 0, \"meja_per_100_cm\": 0.0, \"diam_top_in_cm\": 0.15, \"side_branches_in_cm\": 45.5, \"main_stem_length_in_cm\": 114.0}, {\"stem_diam_bottom_in_cm\": 0.82, \"total_meja\": 12, \"meja_per_100_cm\": 30.8, \"diam_top_in_cm\": 0.2, \"side_branches_in_cm\": 45.5, \"main_stem_length_in_cm\": 39.0}, {\"stem_diam_bottom_in_cm\": 0.64, \"total_meja\": 20, \"meja_per_100_cm\": 41.7, \"diam_top_in_cm\": 0.15, \"side_branches_in_cm\": 45.5, \"main_stem_length_in_cm\": 48.0}, {\"stem_diam_bottom_in_cm\": 0.56, \"total_meja\": 5, \"meja_per_100_cm\": 10.6, \"diam_top_in_cm\": 0.24, \"side_branches_in_cm\": 45.5, \"main_stem_length_in_cm\": 47.0}, {\"stem_diam_bottom_in_cm\": 0.38, \"total_meja\": 9, \"meja_per_100_cm\": 11.5, \"diam_top_in_cm\": 0.05, \"side_branches_in_cm\": 45.5, \"main_stem_length_in_cm\": 78.0}, {\"stem_diam_bottom_in_cm\": 0.92, \"total_meja\": 0, \"meja_per_100_cm\": 0.0, \"diam_top_in_cm\": 0.15, \"side_branches_in_cm\": 30.0, \"main_stem_length_in_cm\": 67.0}, {\"stem_diam_bottom_in_cm\": 0.74, \"total_meja\": 6, \"meja_per_100_cm\": 7.8, \"diam_top_in_cm\": 0.15, \"side_branches_in_cm\": 45.5, \"main_stem_length_in_cm\": 77.0}, {\"stem_diam_bottom_in_cm\": 0.36, \"total_meja\": 0, \"meja_per_100_cm\": 0.0, \"diam_top_in_cm\": 0.15, \"side_branches_in_cm\": 45.5, \"main_stem_length_in_cm\": 69.0}, {\"stem_diam_bottom_in_cm\": 0.62, \"total_meja\": 0, \"meja_per_100_cm\": 0.0, \"diam_top_in_cm\": 0.15, \"side_branches_in_cm\": 45.5, \"main_stem_length_in_cm\": 55.0}, {\"stem_diam_bottom_in_cm\": 0.39, \"total_meja\": 7, \"meja_per_100_cm\": 10.9, \"diam_top_in_cm\": 0.04, \"side_branches_in_cm\": 45.5, \"main_stem_length_in_cm\": 64.0}, {\"stem_diam_bottom_in_cm\": 0.75, \"total_meja\": 1, \"meja_per_100_cm\": 1.5, \"diam_top_in_cm\": 0.17, \"side_branches_in_cm\": 45.5, \"main_stem_length_in_cm\": 67.0}, {\"stem_diam_bottom_in_cm\": 0.21, \"total_meja\": 0, \"meja_per_100_cm\": 0.0, \"diam_top_in_cm\": 0.15, \"side_branches_in_cm\": 45.5, \"main_stem_length_in_cm\": 13.0}, {\"stem_diam_bottom_in_cm\": 0.43, \"total_meja\": 1, \"meja_per_100_cm\": 1.1, \"diam_top_in_cm\": 0.09, \"side_branches_in_cm\": 45.5, \"main_stem_length_in_cm\": 88.0}, {\"stem_diam_bottom_in_cm\": 0.63, \"total_meja\": 0, \"meja_per_100_cm\": 0.0, \"diam_top_in_cm\": 0.15, \"side_branches_in_cm\": 49.0, \"main_stem_length_in_cm\": 91.0}, {\"stem_diam_bottom_in_cm\": 0.72, \"total_meja\": 0, \"meja_per_100_cm\": 0.0, \"diam_top_in_cm\": 0.15, \"side_branches_in_cm\": 45.5, \"main_stem_length_in_cm\": 77.0}, {\"stem_diam_bottom_in_cm\": 0.16, \"total_meja\": 0, \"meja_per_100_cm\": 0.0, \"diam_top_in_cm\": 0.15, \"side_branches_in_cm\": 45.5, \"main_stem_length_in_cm\": 11.5}, {\"stem_diam_bottom_in_cm\": 0.54, \"total_meja\": 0, \"meja_per_100_cm\": 0.0, \"diam_top_in_cm\": 0.15, \"side_branches_in_cm\": 117.0, \"main_stem_length_in_cm\": 53.0}, {\"stem_diam_bottom_in_cm\": 0.45, \"total_meja\": 26, \"meja_per_100_cm\": 60.5, \"diam_top_in_cm\": 0.16, \"side_branches_in_cm\": 45.5, \"main_stem_length_in_cm\": 43.0}, {\"stem_diam_bottom_in_cm\": 0.18, \"total_meja\": 0, \"meja_per_100_cm\": 0.0, \"diam_top_in_cm\": 0.15, \"side_branches_in_cm\": 45.5, \"main_stem_length_in_cm\": 8.0}, {\"stem_diam_bottom_in_cm\": 0.2, \"total_meja\": 0, \"meja_per_100_cm\": 0.0, \"diam_top_in_cm\": 0.15, \"side_branches_in_cm\": 45.5, \"main_stem_length_in_cm\": 15.5}, {\"stem_diam_bottom_in_cm\": 0.55, \"total_meja\": 31, \"meja_per_100_cm\": 51.7, \"diam_top_in_cm\": 0.15, \"side_branches_in_cm\": 45.5, \"main_stem_length_in_cm\": 60.0}, {\"stem_diam_bottom_in_cm\": 0.64, \"total_meja\": 2, \"meja_per_100_cm\": 2.5, \"diam_top_in_cm\": 0.15, \"side_branches_in_cm\": 45.5, \"main_stem_length_in_cm\": 80.0}, {\"stem_diam_bottom_in_cm\": 0.64, \"total_meja\": 20, \"meja_per_100_cm\": 26.0, \"diam_top_in_cm\": 0.76, \"side_branches_in_cm\": 45.5, \"main_stem_length_in_cm\": 77.0}, {\"stem_diam_bottom_in_cm\": 0.34, \"total_meja\": 24, \"meja_per_100_cm\": 64.9, \"diam_top_in_cm\": 0.16, \"side_branches_in_cm\": 45.5, \"main_stem_length_in_cm\": 37.0}, {\"stem_diam_bottom_in_cm\": 0.38, \"total_meja\": 0, \"meja_per_100_cm\": 0.0, \"diam_top_in_cm\": 0.15, \"side_branches_in_cm\": 45.5, \"main_stem_length_in_cm\": 27.0}, {\"stem_diam_bottom_in_cm\": 0.34, \"total_meja\": 0, \"meja_per_100_cm\": 0.0, \"diam_top_in_cm\": 0.15, \"side_branches_in_cm\": 45.5, \"main_stem_length_in_cm\": 29.0}, {\"stem_diam_bottom_in_cm\": 0.47, \"total_meja\": 0, \"meja_per_100_cm\": 0.0, \"diam_top_in_cm\": 0.15, \"side_branches_in_cm\": 45.5, \"main_stem_length_in_cm\": 65.0}, {\"stem_diam_bottom_in_cm\": 0.3, \"total_meja\": 2, \"meja_per_100_cm\": 5.1, \"diam_top_in_cm\": 0.09, \"side_branches_in_cm\": 45.5, \"main_stem_length_in_cm\": 39.0}, {\"stem_diam_bottom_in_cm\": 0.51, \"total_meja\": 0, \"meja_per_100_cm\": 0.0, \"diam_top_in_cm\": 0.15, \"side_branches_in_cm\": 13.0, \"main_stem_length_in_cm\": 55.0}, {\"stem_diam_bottom_in_cm\": 0.34, \"total_meja\": 0, \"meja_per_100_cm\": 0.0, \"diam_top_in_cm\": 0.04, \"side_branches_in_cm\": 45.5, \"main_stem_length_in_cm\": 68.0}, {\"stem_diam_bottom_in_cm\": 0.24, \"total_meja\": 0, \"meja_per_100_cm\": 0.0, \"diam_top_in_cm\": 0.15, \"side_branches_in_cm\": 45.5, \"main_stem_length_in_cm\": 12.5}, {\"stem_diam_bottom_in_cm\": 0.79, \"total_meja\": 0, \"meja_per_100_cm\": 0.0, \"diam_top_in_cm\": 0.15, \"side_branches_in_cm\": 45.5, \"main_stem_length_in_cm\": 59.0}, {\"stem_diam_bottom_in_cm\": 0.34, \"total_meja\": 12, \"meja_per_100_cm\": 44.4, \"diam_top_in_cm\": 0.12, \"side_branches_in_cm\": 45.5, \"main_stem_length_in_cm\": 27.0}, {\"stem_diam_bottom_in_cm\": 0.25, \"total_meja\": 0, \"meja_per_100_cm\": 0.0, \"diam_top_in_cm\": 0.15, \"side_branches_in_cm\": 45.5, \"main_stem_length_in_cm\": 14.5}, {\"stem_diam_bottom_in_cm\": 0.31, \"total_meja\": 0, \"meja_per_100_cm\": 0.0, \"diam_top_in_cm\": 0.15, \"side_branches_in_cm\": 45.5, \"main_stem_length_in_cm\": 36.0}, {\"stem_diam_bottom_in_cm\": 0.4, \"total_meja\": 16, \"meja_per_100_cm\": 55.2, \"diam_top_in_cm\": 0.15, \"side_branches_in_cm\": 45.5, \"main_stem_length_in_cm\": 29.0}, {\"stem_diam_bottom_in_cm\": 0.42, \"total_meja\": 0, \"meja_per_100_cm\": 0.0, \"diam_top_in_cm\": 0.15, \"side_branches_in_cm\": 45.5, \"main_stem_length_in_cm\": 71.0}, {\"stem_diam_bottom_in_cm\": 0.46, \"total_meja\": 0, \"meja_per_100_cm\": 0.0, \"diam_top_in_cm\": 0.15, \"side_branches_in_cm\": 45.5, \"main_stem_length_in_cm\": 74.0}, {\"stem_diam_bottom_in_cm\": 0.47, \"total_meja\": 0, \"meja_per_100_cm\": 0.0, \"diam_top_in_cm\": 0.15, \"side_branches_in_cm\": 45.5, \"main_stem_length_in_cm\": 81.0}, {\"stem_diam_bottom_in_cm\": 0.62, \"total_meja\": 9, \"meja_per_100_cm\": 15.7, \"diam_top_in_cm\": 0.11, \"side_branches_in_cm\": 45.5, \"main_stem_length_in_cm\": 57.5}, {\"stem_diam_bottom_in_cm\": 0.54, \"total_meja\": 3, \"meja_per_100_cm\": 5.3, \"diam_top_in_cm\": 0.15, \"side_branches_in_cm\": 45.5, \"main_stem_length_in_cm\": 57.0}, {\"stem_diam_bottom_in_cm\": 0.57, \"total_meja\": 0, \"meja_per_100_cm\": 0.0, \"diam_top_in_cm\": 0.15, \"side_branches_in_cm\": 45.5, \"main_stem_length_in_cm\": 47.0}, {\"stem_diam_bottom_in_cm\": 0.27, \"total_meja\": 0, \"meja_per_100_cm\": 0.0, \"diam_top_in_cm\": 0.15, \"side_branches_in_cm\": 45.5, \"main_stem_length_in_cm\": 42.0}, {\"stem_diam_bottom_in_cm\": 0.17, \"total_meja\": 0, \"meja_per_100_cm\": 0.0, \"diam_top_in_cm\": 0.15, \"side_branches_in_cm\": 45.5, \"main_stem_length_in_cm\": 13.0}, {\"stem_diam_bottom_in_cm\": 0.38, \"total_meja\": 0, \"meja_per_100_cm\": 0.0, \"diam_top_in_cm\": 0.09, \"side_branches_in_cm\": 45.5, \"main_stem_length_in_cm\": 53.0}, {\"stem_diam_bottom_in_cm\": 0.21, \"total_meja\": 0, \"meja_per_100_cm\": 0.0, \"diam_top_in_cm\": 0.15, \"side_branches_in_cm\": 45.5, \"main_stem_length_in_cm\": 18.0}, {\"stem_diam_bottom_in_cm\": 0.96, \"total_meja\": 0, \"meja_per_100_cm\": 0.0, \"diam_top_in_cm\": 0.15, \"side_branches_in_cm\": 45.5, \"main_stem_length_in_cm\": 135.0}, {\"stem_diam_bottom_in_cm\": 0.2, \"total_meja\": 0, \"meja_per_100_cm\": 0.0, \"diam_top_in_cm\": 0.15, \"side_branches_in_cm\": 45.5, \"main_stem_length_in_cm\": 6.0}, {\"stem_diam_bottom_in_cm\": 0.35, \"total_meja\": 0, \"meja_per_100_cm\": 0.0, \"diam_top_in_cm\": 0.15, \"side_branches_in_cm\": 45.5, \"main_stem_length_in_cm\": 68.0}, {\"stem_diam_bottom_in_cm\": 0.31, \"total_meja\": 3, \"meja_per_100_cm\": 6.5, \"diam_top_in_cm\": 0.15, \"side_branches_in_cm\": 45.5, \"main_stem_length_in_cm\": 46.0}, {\"stem_diam_bottom_in_cm\": 0.75, \"total_meja\": 0, \"meja_per_100_cm\": 0.0, \"diam_top_in_cm\": 0.15, \"side_branches_in_cm\": 87.0, \"main_stem_length_in_cm\": 32.0}, {\"stem_diam_bottom_in_cm\": 0.72, \"total_meja\": 1, \"meja_per_100_cm\": 2.4, \"diam_top_in_cm\": 0.08, \"side_branches_in_cm\": 45.5, \"main_stem_length_in_cm\": 42.0}, {\"stem_diam_bottom_in_cm\": 0.44, \"total_meja\": 0, \"meja_per_100_cm\": 0.0, \"diam_top_in_cm\": 0.09, \"side_branches_in_cm\": 45.5, \"main_stem_length_in_cm\": 46.0}, {\"stem_diam_bottom_in_cm\": 0.64, \"total_meja\": 0, \"meja_per_100_cm\": 0.0, \"diam_top_in_cm\": 0.15, \"side_branches_in_cm\": 45.5, \"main_stem_length_in_cm\": 47.0}, {\"stem_diam_bottom_in_cm\": 0.42, \"total_meja\": 0, \"meja_per_100_cm\": 0.0, \"diam_top_in_cm\": 0.15, \"side_branches_in_cm\": 59.0, \"main_stem_length_in_cm\": 35.0}, {\"stem_diam_bottom_in_cm\": 0.75, \"total_meja\": 5, \"meja_per_100_cm\": 13.2, \"diam_top_in_cm\": 0.62, \"side_branches_in_cm\": 45.5, \"main_stem_length_in_cm\": 38.0}, {\"stem_diam_bottom_in_cm\": 0.56, \"total_meja\": 8, \"meja_per_100_cm\": 13.3, \"diam_top_in_cm\": 0.15, \"side_branches_in_cm\": 45.5, \"main_stem_length_in_cm\": 60.0}, {\"stem_diam_bottom_in_cm\": 0.57, \"total_meja\": 0, \"meja_per_100_cm\": 0.0, \"diam_top_in_cm\": 0.15, \"side_branches_in_cm\": 45.5, \"main_stem_length_in_cm\": 83.0}, {\"stem_diam_bottom_in_cm\": 0.5, \"total_meja\": 0, \"meja_per_100_cm\": 0.0, \"diam_top_in_cm\": 0.05, \"side_branches_in_cm\": 45.5, \"main_stem_length_in_cm\": 63.0}, {\"stem_diam_bottom_in_cm\": 0.71, \"total_meja\": 0, \"meja_per_100_cm\": 0.0, \"diam_top_in_cm\": 0.15, \"side_branches_in_cm\": 155.0, \"main_stem_length_in_cm\": 34.0}, {\"stem_diam_bottom_in_cm\": 0.5, \"total_meja\": 0, \"meja_per_100_cm\": 0.0, \"diam_top_in_cm\": 0.15, \"side_branches_in_cm\": 45.5, \"main_stem_length_in_cm\": 73.0}, {\"stem_diam_bottom_in_cm\": 0.61, \"total_meja\": 0, \"meja_per_100_cm\": 0.0, \"diam_top_in_cm\": 0.03, \"side_branches_in_cm\": 45.5, \"main_stem_length_in_cm\": 95.0}, {\"stem_diam_bottom_in_cm\": 0.48, \"total_meja\": 0, \"meja_per_100_cm\": 0.0, \"diam_top_in_cm\": 0.15, \"side_branches_in_cm\": 45.5, \"main_stem_length_in_cm\": 62.0}, {\"stem_diam_bottom_in_cm\": 0.46, \"total_meja\": 0, \"meja_per_100_cm\": 0.0, \"diam_top_in_cm\": 0.15, \"side_branches_in_cm\": 129.0, \"main_stem_length_in_cm\": 16.0}, {\"stem_diam_bottom_in_cm\": 0.5, \"total_meja\": 0, \"meja_per_100_cm\": 0.0, \"diam_top_in_cm\": 0.15, \"side_branches_in_cm\": 45.5, \"main_stem_length_in_cm\": 63.0}, {\"stem_diam_bottom_in_cm\": 0.78, \"total_meja\": 21, \"meja_per_100_cm\": 32.8, \"diam_top_in_cm\": 0.26, \"side_branches_in_cm\": 45.5, \"main_stem_length_in_cm\": 64.0}, {\"stem_diam_bottom_in_cm\": 0.35, \"total_meja\": 0, \"meja_per_100_cm\": 0.0, \"diam_top_in_cm\": 0.15, \"side_branches_in_cm\": 45.5, \"main_stem_length_in_cm\": 30.0}, {\"stem_diam_bottom_in_cm\": 0.31, \"total_meja\": 0, \"meja_per_100_cm\": 0.0, \"diam_top_in_cm\": 0.15, \"side_branches_in_cm\": 45.5, \"main_stem_length_in_cm\": 14.5}, {\"stem_diam_bottom_in_cm\": 0.41, \"total_meja\": 0, \"meja_per_100_cm\": 0.0, \"diam_top_in_cm\": 0.15, \"side_branches_in_cm\": 45.5, \"main_stem_length_in_cm\": 33.0}, {\"stem_diam_bottom_in_cm\": 0.47, \"total_meja\": 25, \"meja_per_100_cm\": 43.1, \"diam_top_in_cm\": 0.15, \"side_branches_in_cm\": 45.5, \"main_stem_length_in_cm\": 58.0}, {\"stem_diam_bottom_in_cm\": 0.68, \"total_meja\": 0, \"meja_per_100_cm\": 0.0, \"diam_top_in_cm\": 0.15, \"side_branches_in_cm\": 45.5, \"main_stem_length_in_cm\": 52.0}, {\"stem_diam_bottom_in_cm\": 0.74, \"total_meja\": 0, \"meja_per_100_cm\": 0.0, \"diam_top_in_cm\": 0.14, \"side_branches_in_cm\": 45.5, \"main_stem_length_in_cm\": 69.0}, {\"stem_diam_bottom_in_cm\": 0.39, \"total_meja\": 4, \"meja_per_100_cm\": 8.9, \"diam_top_in_cm\": 0.15, \"side_branches_in_cm\": 45.5, \"main_stem_length_in_cm\": 45.0}, {\"stem_diam_bottom_in_cm\": 0.8, \"total_meja\": 0, \"meja_per_100_cm\": 0.0, \"diam_top_in_cm\": 0.15, \"side_branches_in_cm\": 45.5, \"main_stem_length_in_cm\": 97.0}, {\"stem_diam_bottom_in_cm\": 0.4, \"total_meja\": 5, \"meja_per_100_cm\": 15.6, \"diam_top_in_cm\": 0.11, \"side_branches_in_cm\": 45.5, \"main_stem_length_in_cm\": 32.0}, {\"stem_diam_bottom_in_cm\": 0.24, \"total_meja\": 0, \"meja_per_100_cm\": 0.0, \"diam_top_in_cm\": 0.15, \"side_branches_in_cm\": 45.5, \"main_stem_length_in_cm\": 10.0}, {\"stem_diam_bottom_in_cm\": 0.66, \"total_meja\": 0, \"meja_per_100_cm\": 0.0, \"diam_top_in_cm\": 0.13, \"side_branches_in_cm\": 45.5, \"main_stem_length_in_cm\": 79.0}, {\"stem_diam_bottom_in_cm\": 0.46, \"total_meja\": 0, \"meja_per_100_cm\": 0.0, \"diam_top_in_cm\": 0.15, \"side_branches_in_cm\": 45.5, \"main_stem_length_in_cm\": 54.0}, {\"stem_diam_bottom_in_cm\": 0.62, \"total_meja\": 0, \"meja_per_100_cm\": 0.0, \"diam_top_in_cm\": 0.15, \"side_branches_in_cm\": 45.5, \"main_stem_length_in_cm\": 32.0}, {\"stem_diam_bottom_in_cm\": 0.68, \"total_meja\": 11, \"meja_per_100_cm\": 18.0, \"diam_top_in_cm\": 0.23, \"side_branches_in_cm\": 45.5, \"main_stem_length_in_cm\": 61.0}, {\"stem_diam_bottom_in_cm\": 0.62, \"total_meja\": 1, \"meja_per_100_cm\": 2.5, \"diam_top_in_cm\": 0.22, \"side_branches_in_cm\": 45.5, \"main_stem_length_in_cm\": 40.0}, {\"stem_diam_bottom_in_cm\": 0.33, \"total_meja\": 19, \"meja_per_100_cm\": 51.4, \"diam_top_in_cm\": 0.07, \"side_branches_in_cm\": 45.5, \"main_stem_length_in_cm\": 37.0}, {\"stem_diam_bottom_in_cm\": 0.68, \"total_meja\": 6, \"meja_per_100_cm\": 11.1, \"diam_top_in_cm\": 0.5, \"side_branches_in_cm\": 45.5, \"main_stem_length_in_cm\": 54.0}, {\"stem_diam_bottom_in_cm\": 0.44, \"total_meja\": 13, \"meja_per_100_cm\": 35.1, \"diam_top_in_cm\": 0.15, \"side_branches_in_cm\": 45.5, \"main_stem_length_in_cm\": 37.0}, {\"stem_diam_bottom_in_cm\": 0.31, \"total_meja\": 0, \"meja_per_100_cm\": 0.0, \"diam_top_in_cm\": 0.15, \"side_branches_in_cm\": 45.5, \"main_stem_length_in_cm\": 47.0}, {\"stem_diam_bottom_in_cm\": 0.37, \"total_meja\": 6, \"meja_per_100_cm\": 33.3, \"diam_top_in_cm\": 0.36, \"side_branches_in_cm\": 45.5, \"main_stem_length_in_cm\": 18.0}, {\"stem_diam_bottom_in_cm\": 0.27, \"total_meja\": 0, \"meja_per_100_cm\": 0.0, \"diam_top_in_cm\": 0.15, \"side_branches_in_cm\": 45.5, \"main_stem_length_in_cm\": 10.0}, {\"stem_diam_bottom_in_cm\": 0.33, \"total_meja\": 6, \"meja_per_100_cm\": 20.0, \"diam_top_in_cm\": 0.15, \"side_branches_in_cm\": 45.5, \"main_stem_length_in_cm\": 30.0}, {\"stem_diam_bottom_in_cm\": 0.61, \"total_meja\": 18, \"meja_per_100_cm\": 41.9, \"diam_top_in_cm\": 0.36, \"side_branches_in_cm\": 45.5, \"main_stem_length_in_cm\": 43.0}, {\"stem_diam_bottom_in_cm\": 0.29, \"total_meja\": 12, \"meja_per_100_cm\": 30.8, \"diam_top_in_cm\": 0.15, \"side_branches_in_cm\": 45.5, \"main_stem_length_in_cm\": 39.0}, {\"stem_diam_bottom_in_cm\": 0.16, \"total_meja\": 0, \"meja_per_100_cm\": 0.0, \"diam_top_in_cm\": 0.15, \"side_branches_in_cm\": 45.5, \"main_stem_length_in_cm\": 13.0}, {\"stem_diam_bottom_in_cm\": 0.3, \"total_meja\": 0, \"meja_per_100_cm\": 0.0, \"diam_top_in_cm\": 0.15, \"side_branches_in_cm\": 45.5, \"main_stem_length_in_cm\": 40.0}, {\"stem_diam_bottom_in_cm\": 0.43, \"total_meja\": 10, \"meja_per_100_cm\": 23.8, \"diam_top_in_cm\": 0.15, \"side_branches_in_cm\": 45.5, \"main_stem_length_in_cm\": 42.0}, {\"stem_diam_bottom_in_cm\": 0.64, \"total_meja\": 30, \"meja_per_100_cm\": 50.8, \"diam_top_in_cm\": 0.26, \"side_branches_in_cm\": 45.5, \"main_stem_length_in_cm\": 59.0}, {\"stem_diam_bottom_in_cm\": 0.49, \"total_meja\": 5, \"meja_per_100_cm\": 20.0, \"diam_top_in_cm\": 0.2, \"side_branches_in_cm\": 45.5, \"main_stem_length_in_cm\": 25.0}, {\"stem_diam_bottom_in_cm\": 0.23, \"total_meja\": 0, \"meja_per_100_cm\": 0.0, \"diam_top_in_cm\": 0.15, \"side_branches_in_cm\": 45.5, \"main_stem_length_in_cm\": 11.5}, {\"stem_diam_bottom_in_cm\": 0.59, \"total_meja\": 4, \"meja_per_100_cm\": 5.6, \"diam_top_in_cm\": 0.15, \"side_branches_in_cm\": 45.5, \"main_stem_length_in_cm\": 72.0}, {\"stem_diam_bottom_in_cm\": 0.69, \"total_meja\": 7, \"meja_per_100_cm\": 9.6, \"diam_top_in_cm\": 0.15, \"side_branches_in_cm\": 45.5, \"main_stem_length_in_cm\": 73.0}, {\"stem_diam_bottom_in_cm\": 0.56, \"total_meja\": 8, \"meja_per_100_cm\": 11.9, \"diam_top_in_cm\": 0.26, \"side_branches_in_cm\": 45.5, \"main_stem_length_in_cm\": 67.0}, {\"stem_diam_bottom_in_cm\": 0.43, \"total_meja\": 0, \"meja_per_100_cm\": 0.0, \"diam_top_in_cm\": 0.15, \"side_branches_in_cm\": 45.5, \"main_stem_length_in_cm\": 52.0}, {\"stem_diam_bottom_in_cm\": 0.37, \"total_meja\": 0, \"meja_per_100_cm\": 0.0, \"diam_top_in_cm\": 0.15, \"side_branches_in_cm\": 45.5, \"main_stem_length_in_cm\": 51.0}, {\"stem_diam_bottom_in_cm\": 0.43, \"total_meja\": 21, \"meja_per_100_cm\": 79.2, \"diam_top_in_cm\": 0.1, \"side_branches_in_cm\": 45.5, \"main_stem_length_in_cm\": 26.5}, {\"stem_diam_bottom_in_cm\": 0.67, \"total_meja\": 26, \"meja_per_100_cm\": 52.0, \"diam_top_in_cm\": 0.15, \"side_branches_in_cm\": 45.5, \"main_stem_length_in_cm\": 50.0}, {\"stem_diam_bottom_in_cm\": 0.21, \"total_meja\": 0, \"meja_per_100_cm\": 0.0, \"diam_top_in_cm\": 0.15, \"side_branches_in_cm\": 45.5, \"main_stem_length_in_cm\": 19.0}, {\"stem_diam_bottom_in_cm\": 0.49, \"total_meja\": 0, \"meja_per_100_cm\": 0.0, \"diam_top_in_cm\": 0.15, \"side_branches_in_cm\": 45.5, \"main_stem_length_in_cm\": 70.0}, {\"stem_diam_bottom_in_cm\": 0.18, \"total_meja\": 0, \"meja_per_100_cm\": 0.0, \"diam_top_in_cm\": 0.15, \"side_branches_in_cm\": 45.5, \"main_stem_length_in_cm\": 14.0}, {\"stem_diam_bottom_in_cm\": 0.7, \"total_meja\": 0, \"meja_per_100_cm\": 0.0, \"diam_top_in_cm\": 0.15, \"side_branches_in_cm\": 8.0, \"main_stem_length_in_cm\": 91.0}, {\"stem_diam_bottom_in_cm\": 0.51, \"total_meja\": 0, \"meja_per_100_cm\": 0.0, \"diam_top_in_cm\": 0.15, \"side_branches_in_cm\": 45.5, \"main_stem_length_in_cm\": 45.0}, {\"stem_diam_bottom_in_cm\": 0.71, \"total_meja\": 22, \"meja_per_100_cm\": 25.0, \"diam_top_in_cm\": 0.15, \"side_branches_in_cm\": 45.5, \"main_stem_length_in_cm\": 88.0}, {\"stem_diam_bottom_in_cm\": 0.47, \"total_meja\": 23, \"meja_per_100_cm\": 44.2, \"diam_top_in_cm\": 0.1, \"side_branches_in_cm\": 45.5, \"main_stem_length_in_cm\": 52.0}, {\"stem_diam_bottom_in_cm\": 0.76, \"total_meja\": 0, \"meja_per_100_cm\": 0.0, \"diam_top_in_cm\": 0.15, \"side_branches_in_cm\": 128.0, \"main_stem_length_in_cm\": 58.0}, {\"stem_diam_bottom_in_cm\": 0.38, \"total_meja\": 0, \"meja_per_100_cm\": 0.0, \"diam_top_in_cm\": 0.04, \"side_branches_in_cm\": 45.5, \"main_stem_length_in_cm\": 66.0}, {\"stem_diam_bottom_in_cm\": 0.68, \"total_meja\": 10, \"meja_per_100_cm\": 16.1, \"diam_top_in_cm\": 0.15, \"side_branches_in_cm\": 45.5, \"main_stem_length_in_cm\": 62.0}, {\"stem_diam_bottom_in_cm\": 0.23, \"total_meja\": 0, \"meja_per_100_cm\": 0.0, \"diam_top_in_cm\": 0.15, \"side_branches_in_cm\": 45.5, \"main_stem_length_in_cm\": 11.5}, {\"stem_diam_bottom_in_cm\": 0.37, \"total_meja\": 10, \"meja_per_100_cm\": 34.5, \"diam_top_in_cm\": 0.13, \"side_branches_in_cm\": 45.5, \"main_stem_length_in_cm\": 29.0}, {\"stem_diam_bottom_in_cm\": 0.33, \"total_meja\": 0, \"meja_per_100_cm\": 0.0, \"diam_top_in_cm\": 0.09, \"side_branches_in_cm\": 45.5, \"main_stem_length_in_cm\": 51.0}, {\"stem_diam_bottom_in_cm\": 0.38, \"total_meja\": 19, \"meja_per_100_cm\": 35.8, \"diam_top_in_cm\": 0.23, \"side_branches_in_cm\": 45.5, \"main_stem_length_in_cm\": 53.0}, {\"stem_diam_bottom_in_cm\": 0.48, \"total_meja\": 0, \"meja_per_100_cm\": 0.0, \"diam_top_in_cm\": 0.15, \"side_branches_in_cm\": 45.5, \"main_stem_length_in_cm\": 43.0}, {\"stem_diam_bottom_in_cm\": 0.33, \"total_meja\": 0, \"meja_per_100_cm\": 0.0, \"diam_top_in_cm\": 0.15, \"side_branches_in_cm\": 45.5, \"main_stem_length_in_cm\": 38.0}, {\"stem_diam_bottom_in_cm\": 0.41, \"total_meja\": 2, \"meja_per_100_cm\": 4.3, \"diam_top_in_cm\": 0.07, \"side_branches_in_cm\": 45.5, \"main_stem_length_in_cm\": 47.0}, {\"stem_diam_bottom_in_cm\": 0.35, \"total_meja\": 5, \"meja_per_100_cm\": 17.2, \"diam_top_in_cm\": 0.11, \"side_branches_in_cm\": 45.5, \"main_stem_length_in_cm\": 29.0}, {\"stem_diam_bottom_in_cm\": 0.75, \"total_meja\": 0, \"meja_per_100_cm\": 0.0, \"diam_top_in_cm\": 0.15, \"side_branches_in_cm\": 45.5, \"main_stem_length_in_cm\": 87.0}, {\"stem_diam_bottom_in_cm\": 0.37, \"total_meja\": 7, \"meja_per_100_cm\": 17.5, \"diam_top_in_cm\": 0.15, \"side_branches_in_cm\": 45.5, \"main_stem_length_in_cm\": 40.0}, {\"stem_diam_bottom_in_cm\": 0.62, \"total_meja\": 0, \"meja_per_100_cm\": 0.0, \"diam_top_in_cm\": 0.11, \"side_branches_in_cm\": 45.5, \"main_stem_length_in_cm\": 71.0}, {\"stem_diam_bottom_in_cm\": 0.45, \"total_meja\": 0, \"meja_per_100_cm\": 0.0, \"diam_top_in_cm\": 0.15, \"side_branches_in_cm\": 45.5, \"main_stem_length_in_cm\": 90.0}, {\"stem_diam_bottom_in_cm\": 0.68, \"total_meja\": 41, \"meja_per_100_cm\": 89.1, \"diam_top_in_cm\": 0.15, \"side_branches_in_cm\": 45.5, \"main_stem_length_in_cm\": 46.0}, {\"stem_diam_bottom_in_cm\": 0.76, \"total_meja\": 0, \"meja_per_100_cm\": 0.0, \"diam_top_in_cm\": 0.15, \"side_branches_in_cm\": 129.0, \"main_stem_length_in_cm\": 64.0}, {\"stem_diam_bottom_in_cm\": 0.47, \"total_meja\": 0, \"meja_per_100_cm\": 0.0, \"diam_top_in_cm\": 0.15, \"side_branches_in_cm\": 45.5, \"main_stem_length_in_cm\": 63.0}, {\"stem_diam_bottom_in_cm\": 0.44, \"total_meja\": 8, \"meja_per_100_cm\": 16.7, \"diam_top_in_cm\": 0.15, \"side_branches_in_cm\": 45.5, \"main_stem_length_in_cm\": 48.0}, {\"stem_diam_bottom_in_cm\": 0.5, \"total_meja\": 2, \"meja_per_100_cm\": 7.7, \"diam_top_in_cm\": 0.15, \"side_branches_in_cm\": 111.0, \"main_stem_length_in_cm\": 26.0}, {\"stem_diam_bottom_in_cm\": 0.11, \"total_meja\": 1, \"meja_per_100_cm\": 3.3, \"diam_top_in_cm\": 0.15, \"side_branches_in_cm\": 45.5, \"main_stem_length_in_cm\": 30.0}, {\"stem_diam_bottom_in_cm\": 0.16, \"total_meja\": 0, \"meja_per_100_cm\": 0.0, \"diam_top_in_cm\": 0.15, \"side_branches_in_cm\": 45.5, \"main_stem_length_in_cm\": 12.0}, {\"stem_diam_bottom_in_cm\": 0.66, \"total_meja\": 0, \"meja_per_100_cm\": 0.0, \"diam_top_in_cm\": 0.15, \"side_branches_in_cm\": 57.0, \"main_stem_length_in_cm\": 75.0}, {\"stem_diam_bottom_in_cm\": 0.18, \"total_meja\": 0, \"meja_per_100_cm\": 0.0, \"diam_top_in_cm\": 0.15, \"side_branches_in_cm\": 45.5, \"main_stem_length_in_cm\": 14.0}, {\"stem_diam_bottom_in_cm\": 0.63, \"total_meja\": 0, \"meja_per_100_cm\": 0.0, \"diam_top_in_cm\": 0.15, \"side_branches_in_cm\": 45.5, \"main_stem_length_in_cm\": 86.0}, {\"stem_diam_bottom_in_cm\": 0.67, \"total_meja\": 0, \"meja_per_100_cm\": 0.0, \"diam_top_in_cm\": 0.15, \"side_branches_in_cm\": 83.0, \"main_stem_length_in_cm\": 57.0}, {\"stem_diam_bottom_in_cm\": 0.33, \"total_meja\": 0, \"meja_per_100_cm\": 0.0, \"diam_top_in_cm\": 0.15, \"side_branches_in_cm\": 45.5, \"main_stem_length_in_cm\": 25.0}, {\"stem_diam_bottom_in_cm\": 0.21, \"total_meja\": 0, \"meja_per_100_cm\": 0.0, \"diam_top_in_cm\": 0.15, \"side_branches_in_cm\": 45.5, \"main_stem_length_in_cm\": 16.5}, {\"stem_diam_bottom_in_cm\": 1.08, \"total_meja\": 1, \"meja_per_100_cm\": 1.6, \"diam_top_in_cm\": 0.58, \"side_branches_in_cm\": 45.5, \"main_stem_length_in_cm\": 63.0}, {\"stem_diam_bottom_in_cm\": 0.4, \"total_meja\": 0, \"meja_per_100_cm\": 0.0, \"diam_top_in_cm\": 0.15, \"side_branches_in_cm\": 45.5, \"main_stem_length_in_cm\": 43.0}, {\"stem_diam_bottom_in_cm\": 0.71, \"total_meja\": 2, \"meja_per_100_cm\": 2.1, \"diam_top_in_cm\": 0.15, \"side_branches_in_cm\": 45.5, \"main_stem_length_in_cm\": 96.0}, {\"stem_diam_bottom_in_cm\": 0.82, \"total_meja\": 37, \"meja_per_100_cm\": 48.1, \"diam_top_in_cm\": 0.15, \"side_branches_in_cm\": 45.5, \"main_stem_length_in_cm\": 77.0}, {\"stem_diam_bottom_in_cm\": 0.53, \"total_meja\": 0, \"meja_per_100_cm\": 0.0, \"diam_top_in_cm\": 0.02, \"side_branches_in_cm\": 45.5, \"main_stem_length_in_cm\": 103.0}, {\"stem_diam_bottom_in_cm\": 0.26, \"total_meja\": 0, \"meja_per_100_cm\": 0.0, \"diam_top_in_cm\": 0.15, \"side_branches_in_cm\": 45.5, \"main_stem_length_in_cm\": 8.0}, {\"stem_diam_bottom_in_cm\": 0.3, \"total_meja\": 0, \"meja_per_100_cm\": 0.0, \"diam_top_in_cm\": 0.15, \"side_branches_in_cm\": 45.5, \"main_stem_length_in_cm\": 34.0}, {\"stem_diam_bottom_in_cm\": 0.26, \"total_meja\": 4, \"meja_per_100_cm\": 14.8, \"diam_top_in_cm\": 0.15, \"side_branches_in_cm\": 45.5, \"main_stem_length_in_cm\": 27.0}, {\"stem_diam_bottom_in_cm\": 0.54, \"total_meja\": 0, \"meja_per_100_cm\": 0.0, \"diam_top_in_cm\": 0.15, \"side_branches_in_cm\": 45.5, \"main_stem_length_in_cm\": 34.0}, {\"stem_diam_bottom_in_cm\": 0.28, \"total_meja\": 0, \"meja_per_100_cm\": 0.0, \"diam_top_in_cm\": 0.15, \"side_branches_in_cm\": 45.5, \"main_stem_length_in_cm\": 65.0}, {\"stem_diam_bottom_in_cm\": 0.44, \"total_meja\": 1, \"meja_per_100_cm\": 1.8, \"diam_top_in_cm\": 0.15, \"side_branches_in_cm\": 45.5, \"main_stem_length_in_cm\": 56.0}, {\"stem_diam_bottom_in_cm\": 0.56, \"total_meja\": 0, \"meja_per_100_cm\": 0.0, \"diam_top_in_cm\": 0.15, \"side_branches_in_cm\": 28.0, \"main_stem_length_in_cm\": 61.0}, {\"stem_diam_bottom_in_cm\": 0.46, \"total_meja\": 0, \"meja_per_100_cm\": 0.0, \"diam_top_in_cm\": 0.34, \"side_branches_in_cm\": 45.5, \"main_stem_length_in_cm\": 50.0}, {\"stem_diam_bottom_in_cm\": 0.6, \"total_meja\": 0, \"meja_per_100_cm\": 0.0, \"diam_top_in_cm\": 0.15, \"side_branches_in_cm\": 45.5, \"main_stem_length_in_cm\": 70.0}, {\"stem_diam_bottom_in_cm\": 0.3, \"total_meja\": 0, \"meja_per_100_cm\": 0.0, \"diam_top_in_cm\": 0.15, \"side_branches_in_cm\": 45.5, \"main_stem_length_in_cm\": 39.0}, {\"stem_diam_bottom_in_cm\": 0.77, \"total_meja\": 1, \"meja_per_100_cm\": 1.0, \"diam_top_in_cm\": 0.15, \"side_branches_in_cm\": 45.5, \"main_stem_length_in_cm\": 100.0}, {\"stem_diam_bottom_in_cm\": 0.21, \"total_meja\": 0, \"meja_per_100_cm\": 0.0, \"diam_top_in_cm\": 0.15, \"side_branches_in_cm\": 45.5, \"main_stem_length_in_cm\": 20.0}, {\"stem_diam_bottom_in_cm\": 0.34, \"total_meja\": 0, \"meja_per_100_cm\": 0.0, \"diam_top_in_cm\": 0.15, \"side_branches_in_cm\": 45.5, \"main_stem_length_in_cm\": 59.0}, {\"stem_diam_bottom_in_cm\": 0.61, \"total_meja\": 0, \"meja_per_100_cm\": 0.0, \"diam_top_in_cm\": 0.15, \"side_branches_in_cm\": 45.5, \"main_stem_length_in_cm\": 83.0}, {\"stem_diam_bottom_in_cm\": 0.34, \"total_meja\": 0, \"meja_per_100_cm\": 0.0, \"diam_top_in_cm\": 0.15, \"side_branches_in_cm\": 45.5, \"main_stem_length_in_cm\": 35.0}, {\"stem_diam_bottom_in_cm\": 0.57, \"total_meja\": 1, \"meja_per_100_cm\": 1.4, \"diam_top_in_cm\": 0.12, \"side_branches_in_cm\": 45.5, \"main_stem_length_in_cm\": 72.0}, {\"stem_diam_bottom_in_cm\": 0.41, \"total_meja\": 0, \"meja_per_100_cm\": 0.0, \"diam_top_in_cm\": 0.15, \"side_branches_in_cm\": 45.5, \"main_stem_length_in_cm\": 40.0}, {\"stem_diam_bottom_in_cm\": 0.29, \"total_meja\": 0, \"meja_per_100_cm\": 0.0, \"diam_top_in_cm\": 0.15, \"side_branches_in_cm\": 45.5, \"main_stem_length_in_cm\": 20.5}, {\"stem_diam_bottom_in_cm\": 0.73, \"total_meja\": 0, \"meja_per_100_cm\": 0.0, \"diam_top_in_cm\": 0.05, \"side_branches_in_cm\": 45.5, \"main_stem_length_in_cm\": 85.0}, {\"stem_diam_bottom_in_cm\": 0.38, \"total_meja\": 25, \"meja_per_100_cm\": 43.1, \"diam_top_in_cm\": 0.15, \"side_branches_in_cm\": 45.5, \"main_stem_length_in_cm\": 58.0}, {\"stem_diam_bottom_in_cm\": 0.52, \"total_meja\": 13, \"meja_per_100_cm\": 34.2, \"diam_top_in_cm\": 0.15, \"side_branches_in_cm\": 45.5, \"main_stem_length_in_cm\": 38.0}, {\"stem_diam_bottom_in_cm\": 0.36, \"total_meja\": 0, \"meja_per_100_cm\": 0.0, \"diam_top_in_cm\": 0.15, \"side_branches_in_cm\": 45.5, \"main_stem_length_in_cm\": 18.0}, {\"stem_diam_bottom_in_cm\": 0.46, \"total_meja\": 0, \"meja_per_100_cm\": 0.0, \"diam_top_in_cm\": 0.15, \"side_branches_in_cm\": 45.5, \"main_stem_length_in_cm\": 56.0}, {\"stem_diam_bottom_in_cm\": 0.55, \"total_meja\": 0, \"meja_per_100_cm\": 0.0, \"diam_top_in_cm\": 0.15, \"side_branches_in_cm\": 45.5, \"main_stem_length_in_cm\": 46.0}, {\"stem_diam_bottom_in_cm\": 0.45, \"total_meja\": 2, \"meja_per_100_cm\": 3.4, \"diam_top_in_cm\": 0.15, \"side_branches_in_cm\": 45.5, \"main_stem_length_in_cm\": 59.0}, {\"stem_diam_bottom_in_cm\": 0.28, \"total_meja\": 0, \"meja_per_100_cm\": 0.0, \"diam_top_in_cm\": 0.15, \"side_branches_in_cm\": 45.5, \"main_stem_length_in_cm\": 40.0}, {\"stem_diam_bottom_in_cm\": 0.38, \"total_meja\": 0, \"meja_per_100_cm\": 0.0, \"diam_top_in_cm\": 0.15, \"side_branches_in_cm\": 45.5, \"main_stem_length_in_cm\": 56.0}, {\"stem_diam_bottom_in_cm\": 0.43, \"total_meja\": 0, \"meja_per_100_cm\": 0.0, \"diam_top_in_cm\": 0.15, \"side_branches_in_cm\": 45.5, \"main_stem_length_in_cm\": 49.0}, {\"stem_diam_bottom_in_cm\": 0.7, \"total_meja\": 21, \"meja_per_100_cm\": 32.8, \"diam_top_in_cm\": 0.15, \"side_branches_in_cm\": 45.5, \"main_stem_length_in_cm\": 64.0}, {\"stem_diam_bottom_in_cm\": 0.94, \"total_meja\": 1, \"meja_per_100_cm\": 1.2, \"diam_top_in_cm\": 0.16, \"side_branches_in_cm\": 45.5, \"main_stem_length_in_cm\": 86.0}, {\"stem_diam_bottom_in_cm\": 0.58, \"total_meja\": 39, \"meja_per_100_cm\": 76.5, \"diam_top_in_cm\": 0.29, \"side_branches_in_cm\": 45.5, \"main_stem_length_in_cm\": 51.0}, {\"stem_diam_bottom_in_cm\": 0.58, \"total_meja\": 6, \"meja_per_100_cm\": 10.0, \"diam_top_in_cm\": 0.15, \"side_branches_in_cm\": 45.5, \"main_stem_length_in_cm\": 60.0}, {\"stem_diam_bottom_in_cm\": 0.44, \"total_meja\": 0, \"meja_per_100_cm\": 0.0, \"diam_top_in_cm\": 0.15, \"side_branches_in_cm\": 45.5, \"main_stem_length_in_cm\": 41.0}, {\"stem_diam_bottom_in_cm\": 0.69, \"total_meja\": 23, \"meja_per_100_cm\": 67.6, \"diam_top_in_cm\": 0.13, \"side_branches_in_cm\": 45.5, \"main_stem_length_in_cm\": 34.0}, {\"stem_diam_bottom_in_cm\": 0.2, \"total_meja\": 0, \"meja_per_100_cm\": 0.0, \"diam_top_in_cm\": 0.15, \"side_branches_in_cm\": 45.5, \"main_stem_length_in_cm\": 6.0}, {\"stem_diam_bottom_in_cm\": 0.58, \"total_meja\": 0, \"meja_per_100_cm\": 0.0, \"diam_top_in_cm\": 0.15, \"side_branches_in_cm\": 45.5, \"main_stem_length_in_cm\": 93.0}, {\"stem_diam_bottom_in_cm\": 0.65, \"total_meja\": 31, \"meja_per_100_cm\": 68.9, \"diam_top_in_cm\": 0.3, \"side_branches_in_cm\": 45.5, \"main_stem_length_in_cm\": 45.0}, {\"stem_diam_bottom_in_cm\": 0.67, \"total_meja\": 10, \"meja_per_100_cm\": 23.3, \"diam_top_in_cm\": 0.15, \"side_branches_in_cm\": 45.5, \"main_stem_length_in_cm\": 43.0}, {\"stem_diam_bottom_in_cm\": 0.38, \"total_meja\": 0, \"meja_per_100_cm\": 0.0, \"diam_top_in_cm\": 0.15, \"side_branches_in_cm\": 32.0, \"main_stem_length_in_cm\": 28.0}, {\"stem_diam_bottom_in_cm\": 0.44, \"total_meja\": 19, \"meja_per_100_cm\": 73.1, \"diam_top_in_cm\": 0.15, \"side_branches_in_cm\": 45.5, \"main_stem_length_in_cm\": 26.0}, {\"stem_diam_bottom_in_cm\": 0.7, \"total_meja\": 6, \"meja_per_100_cm\": 13.0, \"diam_top_in_cm\": 0.41, \"side_branches_in_cm\": 45.5, \"main_stem_length_in_cm\": 46.0}, {\"stem_diam_bottom_in_cm\": 0.65, \"total_meja\": 0, \"meja_per_100_cm\": 0.0, \"diam_top_in_cm\": 0.15, \"side_branches_in_cm\": 45.5, \"main_stem_length_in_cm\": 89.0}, {\"stem_diam_bottom_in_cm\": 0.29, \"total_meja\": 0, \"meja_per_100_cm\": 0.0, \"diam_top_in_cm\": 0.15, \"side_branches_in_cm\": 45.5, \"main_stem_length_in_cm\": 22.0}, {\"stem_diam_bottom_in_cm\": 0.24, \"total_meja\": 0, \"meja_per_100_cm\": 0.0, \"diam_top_in_cm\": 0.15, \"side_branches_in_cm\": 45.5, \"main_stem_length_in_cm\": 43.0}, {\"stem_diam_bottom_in_cm\": 0.41, \"total_meja\": 0, \"meja_per_100_cm\": 0.0, \"diam_top_in_cm\": 0.15, \"side_branches_in_cm\": 45.5, \"main_stem_length_in_cm\": 38.0}, {\"stem_diam_bottom_in_cm\": 0.42, \"total_meja\": 0, \"meja_per_100_cm\": 0.0, \"diam_top_in_cm\": 0.15, \"side_branches_in_cm\": 14.0, \"main_stem_length_in_cm\": 52.0}, {\"stem_diam_bottom_in_cm\": 0.71, \"total_meja\": 4, \"meja_per_100_cm\": 4.7, \"diam_top_in_cm\": 0.15, \"side_branches_in_cm\": 45.5, \"main_stem_length_in_cm\": 86.0}, {\"stem_diam_bottom_in_cm\": 0.84, \"total_meja\": 0, \"meja_per_100_cm\": 0.0, \"diam_top_in_cm\": 0.15, \"side_branches_in_cm\": 45.5, \"main_stem_length_in_cm\": 111.0}, {\"stem_diam_bottom_in_cm\": 0.53, \"total_meja\": 0, \"meja_per_100_cm\": 0.0, \"diam_top_in_cm\": 0.15, \"side_branches_in_cm\": 22.0, \"main_stem_length_in_cm\": 47.0}, {\"stem_diam_bottom_in_cm\": 0.52, \"total_meja\": 4, \"meja_per_100_cm\": 8.7, \"diam_top_in_cm\": 0.34, \"side_branches_in_cm\": 45.5, \"main_stem_length_in_cm\": 46.0}, {\"stem_diam_bottom_in_cm\": 0.61, \"total_meja\": 34, \"meja_per_100_cm\": 103.0, \"diam_top_in_cm\": 0.26, \"side_branches_in_cm\": 45.5, \"main_stem_length_in_cm\": 33.0}, {\"stem_diam_bottom_in_cm\": 0.47, \"total_meja\": 19, \"meja_per_100_cm\": 44.2, \"diam_top_in_cm\": 0.14, \"side_branches_in_cm\": 45.5, \"main_stem_length_in_cm\": 43.0}, {\"stem_diam_bottom_in_cm\": 0.41, \"total_meja\": 0, \"meja_per_100_cm\": 0.0, \"diam_top_in_cm\": 0.15, \"side_branches_in_cm\": 45.5, \"main_stem_length_in_cm\": 45.0}, {\"stem_diam_bottom_in_cm\": 0.44, \"total_meja\": 0, \"meja_per_100_cm\": 0.0, \"diam_top_in_cm\": 0.15, \"side_branches_in_cm\": 45.5, \"main_stem_length_in_cm\": 78.0}, {\"stem_diam_bottom_in_cm\": 0.41, \"total_meja\": 3, \"meja_per_100_cm\": 10.7, \"diam_top_in_cm\": 0.09, \"side_branches_in_cm\": 45.5, \"main_stem_length_in_cm\": 28.0}, {\"stem_diam_bottom_in_cm\": 0.31, \"total_meja\": 2, \"meja_per_100_cm\": 4.7, \"diam_top_in_cm\": 0.07, \"side_branches_in_cm\": 45.5, \"main_stem_length_in_cm\": 43.0}, {\"stem_diam_bottom_in_cm\": 0.31, \"total_meja\": 0, \"meja_per_100_cm\": 0.0, \"diam_top_in_cm\": 0.15, \"side_branches_in_cm\": 45.5, \"main_stem_length_in_cm\": 36.0}, {\"stem_diam_bottom_in_cm\": 0.6, \"total_meja\": 10, \"meja_per_100_cm\": 24.4, \"diam_top_in_cm\": 0.53, \"side_branches_in_cm\": 45.5, \"main_stem_length_in_cm\": 41.0}, {\"stem_diam_bottom_in_cm\": 0.48, \"total_meja\": 26, \"meja_per_100_cm\": 83.9, \"diam_top_in_cm\": 0.28, \"side_branches_in_cm\": 45.5, \"main_stem_length_in_cm\": 31.0}, {\"stem_diam_bottom_in_cm\": 0.43, \"total_meja\": 6, \"meja_per_100_cm\": 15.0, \"diam_top_in_cm\": 0.15, \"side_branches_in_cm\": 45.5, \"main_stem_length_in_cm\": 40.0}, {\"stem_diam_bottom_in_cm\": 0.61, \"total_meja\": 0, \"meja_per_100_cm\": 0.0, \"diam_top_in_cm\": 0.15, \"side_branches_in_cm\": 45.5, \"main_stem_length_in_cm\": 52.0}, {\"stem_diam_bottom_in_cm\": 0.46, \"total_meja\": 0, \"meja_per_100_cm\": 0.0, \"diam_top_in_cm\": 0.15, \"side_branches_in_cm\": 45.5, \"main_stem_length_in_cm\": 60.0}, {\"stem_diam_bottom_in_cm\": 0.38, \"total_meja\": 5, \"meja_per_100_cm\": 13.5, \"diam_top_in_cm\": 0.14, \"side_branches_in_cm\": 45.5, \"main_stem_length_in_cm\": 37.0}, {\"stem_diam_bottom_in_cm\": 0.63, \"total_meja\": 0, \"meja_per_100_cm\": 0.0, \"diam_top_in_cm\": 0.1, \"side_branches_in_cm\": 45.5, \"main_stem_length_in_cm\": 76.0}, {\"stem_diam_bottom_in_cm\": 0.55, \"total_meja\": 5, \"meja_per_100_cm\": 13.5, \"diam_top_in_cm\": 0.43, \"side_branches_in_cm\": 45.5, \"main_stem_length_in_cm\": 37.0}, {\"stem_diam_bottom_in_cm\": 0.63, \"total_meja\": 19, \"meja_per_100_cm\": 39.6, \"diam_top_in_cm\": 0.15, \"side_branches_in_cm\": 45.5, \"main_stem_length_in_cm\": 48.0}, {\"stem_diam_bottom_in_cm\": 0.45, \"total_meja\": 7, \"meja_per_100_cm\": 21.9, \"diam_top_in_cm\": 0.27, \"side_branches_in_cm\": 45.5, \"main_stem_length_in_cm\": 32.0}, {\"stem_diam_bottom_in_cm\": 0.47, \"total_meja\": 0, \"meja_per_100_cm\": 0.0, \"diam_top_in_cm\": 0.15, \"side_branches_in_cm\": 45.5, \"main_stem_length_in_cm\": 76.0}, {\"stem_diam_bottom_in_cm\": 0.5, \"total_meja\": 2, \"meja_per_100_cm\": 3.8, \"diam_top_in_cm\": 0.18, \"side_branches_in_cm\": 45.5, \"main_stem_length_in_cm\": 53.0}, {\"stem_diam_bottom_in_cm\": 0.38, \"total_meja\": 3, \"meja_per_100_cm\": 4.7, \"diam_top_in_cm\": 0.13, \"side_branches_in_cm\": 45.5, \"main_stem_length_in_cm\": 64.0}, {\"stem_diam_bottom_in_cm\": 0.41, \"total_meja\": 0, \"meja_per_100_cm\": 0.0, \"diam_top_in_cm\": 0.15, \"side_branches_in_cm\": 49.0, \"main_stem_length_in_cm\": 31.0}, {\"stem_diam_bottom_in_cm\": 0.48, \"total_meja\": 0, \"meja_per_100_cm\": 0.0, \"diam_top_in_cm\": 0.15, \"side_branches_in_cm\": 45.5, \"main_stem_length_in_cm\": 41.0}, {\"stem_diam_bottom_in_cm\": 0.63, \"total_meja\": 0, \"meja_per_100_cm\": 0.0, \"diam_top_in_cm\": 0.15, \"side_branches_in_cm\": 45.5, \"main_stem_length_in_cm\": 104.0}, {\"stem_diam_bottom_in_cm\": 0.53, \"total_meja\": 3, \"meja_per_100_cm\": 4.1, \"diam_top_in_cm\": 0.12, \"side_branches_in_cm\": 45.5, \"main_stem_length_in_cm\": 73.0}, {\"stem_diam_bottom_in_cm\": 0.33, \"total_meja\": 4, \"meja_per_100_cm\": 10.5, \"diam_top_in_cm\": 0.06, \"side_branches_in_cm\": 45.5, \"main_stem_length_in_cm\": 38.0}, {\"stem_diam_bottom_in_cm\": 0.66, \"total_meja\": 3, \"meja_per_100_cm\": 8.3, \"diam_top_in_cm\": 0.22, \"side_branches_in_cm\": 45.5, \"main_stem_length_in_cm\": 36.0}, {\"stem_diam_bottom_in_cm\": 0.5, \"total_meja\": 0, \"meja_per_100_cm\": 0.0, \"diam_top_in_cm\": 0.15, \"side_branches_in_cm\": 31.0, \"main_stem_length_in_cm\": 69.0}, {\"stem_diam_bottom_in_cm\": 0.78, \"total_meja\": 7, \"meja_per_100_cm\": 15.2, \"diam_top_in_cm\": 0.53, \"side_branches_in_cm\": 45.5, \"main_stem_length_in_cm\": 46.0}, {\"stem_diam_bottom_in_cm\": 0.69, \"total_meja\": 11, \"meja_per_100_cm\": 17.7, \"diam_top_in_cm\": 0.33, \"side_branches_in_cm\": 45.5, \"main_stem_length_in_cm\": 62.0}, {\"stem_diam_bottom_in_cm\": 0.53, \"total_meja\": 0, \"meja_per_100_cm\": 0.0, \"diam_top_in_cm\": 0.15, \"side_branches_in_cm\": 45.5, \"main_stem_length_in_cm\": 47.0}, {\"stem_diam_bottom_in_cm\": 0.24, \"total_meja\": 0, \"meja_per_100_cm\": 0.0, \"diam_top_in_cm\": 0.15, \"side_branches_in_cm\": 45.5, \"main_stem_length_in_cm\": 10.0}, {\"stem_diam_bottom_in_cm\": 0.23, \"total_meja\": 0, \"meja_per_100_cm\": 0.0, \"diam_top_in_cm\": 0.15, \"side_branches_in_cm\": 45.5, \"main_stem_length_in_cm\": 13.0}, {\"stem_diam_bottom_in_cm\": 0.52, \"total_meja\": 0, \"meja_per_100_cm\": 0.0, \"diam_top_in_cm\": 0.15, \"side_branches_in_cm\": 45.5, \"main_stem_length_in_cm\": 32.0}, {\"stem_diam_bottom_in_cm\": 0.75, \"total_meja\": 5, \"meja_per_100_cm\": 4.5, \"diam_top_in_cm\": 0.15, \"side_branches_in_cm\": 45.5, \"main_stem_length_in_cm\": 111.0}, {\"stem_diam_bottom_in_cm\": 0.24, \"total_meja\": 0, \"meja_per_100_cm\": 0.0, \"diam_top_in_cm\": 0.15, \"side_branches_in_cm\": 45.5, \"main_stem_length_in_cm\": 13.0}, {\"stem_diam_bottom_in_cm\": 0.7, \"total_meja\": 3, \"meja_per_100_cm\": 2.8, \"diam_top_in_cm\": 0.15, \"side_branches_in_cm\": 45.5, \"main_stem_length_in_cm\": 107.0}, {\"stem_diam_bottom_in_cm\": 0.54, \"total_meja\": 0, \"meja_per_100_cm\": 0.0, \"diam_top_in_cm\": 0.11, \"side_branches_in_cm\": 45.5, \"main_stem_length_in_cm\": 73.0}, {\"stem_diam_bottom_in_cm\": 0.84, \"total_meja\": 0, \"meja_per_100_cm\": 0.0, \"diam_top_in_cm\": 0.15, \"side_branches_in_cm\": 45.5, \"main_stem_length_in_cm\": 59.0}, {\"stem_diam_bottom_in_cm\": 0.56, \"total_meja\": 0, \"meja_per_100_cm\": 0.0, \"diam_top_in_cm\": 0.08, \"side_branches_in_cm\": 45.5, \"main_stem_length_in_cm\": 85.0}, {\"stem_diam_bottom_in_cm\": 0.7, \"total_meja\": 12, \"meja_per_100_cm\": 13.8, \"diam_top_in_cm\": 0.15, \"side_branches_in_cm\": 45.5, \"main_stem_length_in_cm\": 87.0}, {\"stem_diam_bottom_in_cm\": 0.7, \"total_meja\": 14, \"meja_per_100_cm\": 21.9, \"diam_top_in_cm\": 0.32, \"side_branches_in_cm\": 45.5, \"main_stem_length_in_cm\": 64.0}, {\"stem_diam_bottom_in_cm\": 0.43, \"total_meja\": 0, \"meja_per_100_cm\": 0.0, \"diam_top_in_cm\": 0.15, \"side_branches_in_cm\": 45.5, \"main_stem_length_in_cm\": 47.0}, {\"stem_diam_bottom_in_cm\": 0.38, \"total_meja\": 0, \"meja_per_100_cm\": 0.0, \"diam_top_in_cm\": 0.15, \"side_branches_in_cm\": 45.5, \"main_stem_length_in_cm\": 24.0}, {\"stem_diam_bottom_in_cm\": 0.19, \"total_meja\": 0, \"meja_per_100_cm\": 0.0, \"diam_top_in_cm\": 0.15, \"side_branches_in_cm\": 45.5, \"main_stem_length_in_cm\": 2.0}, {\"stem_diam_bottom_in_cm\": 0.53, \"total_meja\": 0, \"meja_per_100_cm\": 0.0, \"diam_top_in_cm\": 0.15, \"side_branches_in_cm\": 127.0, \"main_stem_length_in_cm\": 16.0}, {\"stem_diam_bottom_in_cm\": 0.61, \"total_meja\": 1, \"meja_per_100_cm\": 2.0, \"diam_top_in_cm\": 0.47, \"side_branches_in_cm\": 45.5, \"main_stem_length_in_cm\": 49.0}, {\"stem_diam_bottom_in_cm\": 0.8, \"total_meja\": 1, \"meja_per_100_cm\": 1.4, \"diam_top_in_cm\": 0.35, \"side_branches_in_cm\": 45.5, \"main_stem_length_in_cm\": 72.0}, {\"stem_diam_bottom_in_cm\": 0.57, \"total_meja\": 2, \"meja_per_100_cm\": 3.3, \"diam_top_in_cm\": 0.15, \"side_branches_in_cm\": 45.5, \"main_stem_length_in_cm\": 60.0}, {\"stem_diam_bottom_in_cm\": 0.86, \"total_meja\": 1, \"meja_per_100_cm\": 1.3, \"diam_top_in_cm\": 0.3, \"side_branches_in_cm\": 45.5, \"main_stem_length_in_cm\": 79.0}, {\"stem_diam_bottom_in_cm\": 0.8, \"total_meja\": 3, \"meja_per_100_cm\": 5.7, \"diam_top_in_cm\": 0.15, \"side_branches_in_cm\": 45.5, \"main_stem_length_in_cm\": 53.0}, {\"stem_diam_bottom_in_cm\": 0.14, \"total_meja\": 0, \"meja_per_100_cm\": 0.0, \"diam_top_in_cm\": 0.15, \"side_branches_in_cm\": 45.5, \"main_stem_length_in_cm\": 11.0}, {\"stem_diam_bottom_in_cm\": 0.4, \"total_meja\": 0, \"meja_per_100_cm\": 0.0, \"diam_top_in_cm\": 0.15, \"side_branches_in_cm\": 45.5, \"main_stem_length_in_cm\": 54.0}, {\"stem_diam_bottom_in_cm\": 0.14, \"total_meja\": 0, \"meja_per_100_cm\": 0.0, \"diam_top_in_cm\": 0.15, \"side_branches_in_cm\": 45.5, \"main_stem_length_in_cm\": 7.0}, {\"stem_diam_bottom_in_cm\": 0.81, \"total_meja\": 0, \"meja_per_100_cm\": 0.0, \"diam_top_in_cm\": 0.21, \"side_branches_in_cm\": 45.5, \"main_stem_length_in_cm\": 85.0}, {\"stem_diam_bottom_in_cm\": 0.52, \"total_meja\": 0, \"meja_per_100_cm\": 0.0, \"diam_top_in_cm\": 0.15, \"side_branches_in_cm\": 25.0, \"main_stem_length_in_cm\": 40.0}, {\"stem_diam_bottom_in_cm\": 0.36, \"total_meja\": 0, \"meja_per_100_cm\": 0.0, \"diam_top_in_cm\": 0.15, \"side_branches_in_cm\": 45.5, \"main_stem_length_in_cm\": 21.0}, {\"stem_diam_bottom_in_cm\": 0.27, \"total_meja\": 0, \"meja_per_100_cm\": 0.0, \"diam_top_in_cm\": 0.15, \"side_branches_in_cm\": 45.5, \"main_stem_length_in_cm\": 23.5}, {\"stem_diam_bottom_in_cm\": 0.57, \"total_meja\": 20, \"meja_per_100_cm\": 45.5, \"diam_top_in_cm\": 0.18, \"side_branches_in_cm\": 45.5, \"main_stem_length_in_cm\": 44.0}, {\"stem_diam_bottom_in_cm\": 0.55, \"total_meja\": 14, \"meja_per_100_cm\": 18.9, \"diam_top_in_cm\": 0.23, \"side_branches_in_cm\": 45.5, \"main_stem_length_in_cm\": 74.0}, {\"stem_diam_bottom_in_cm\": 0.31, \"total_meja\": 6, \"meja_per_100_cm\": 17.6, \"diam_top_in_cm\": 0.16, \"side_branches_in_cm\": 45.5, \"main_stem_length_in_cm\": 34.0}, {\"stem_diam_bottom_in_cm\": 0.4, \"total_meja\": 8, \"meja_per_100_cm\": 21.6, \"diam_top_in_cm\": 0.09, \"side_branches_in_cm\": 45.5, \"main_stem_length_in_cm\": 37.0}, {\"stem_diam_bottom_in_cm\": 0.33, \"total_meja\": 6, \"meja_per_100_cm\": 10.3, \"diam_top_in_cm\": 0.15, \"side_branches_in_cm\": 39.0, \"main_stem_length_in_cm\": 58.0}, {\"stem_diam_bottom_in_cm\": 0.64, \"total_meja\": 22, \"meja_per_100_cm\": 80.0, \"diam_top_in_cm\": 0.35, \"side_branches_in_cm\": 45.5, \"main_stem_length_in_cm\": 27.5}, {\"stem_diam_bottom_in_cm\": 0.35, \"total_meja\": 1, \"meja_per_100_cm\": 2.0, \"diam_top_in_cm\": 0.12, \"side_branches_in_cm\": 45.5, \"main_stem_length_in_cm\": 51.0}, {\"stem_diam_bottom_in_cm\": 0.44, \"total_meja\": 0, \"meja_per_100_cm\": 0.0, \"diam_top_in_cm\": 0.15, \"side_branches_in_cm\": 45.5, \"main_stem_length_in_cm\": 51.0}, {\"stem_diam_bottom_in_cm\": 0.7, \"total_meja\": 0, \"meja_per_100_cm\": 0.0, \"diam_top_in_cm\": 0.15, \"side_branches_in_cm\": 45.5, \"main_stem_length_in_cm\": 77.0}, {\"stem_diam_bottom_in_cm\": 0.57, \"total_meja\": 6, \"meja_per_100_cm\": 14.0, \"diam_top_in_cm\": 0.44, \"side_branches_in_cm\": 45.5, \"main_stem_length_in_cm\": 43.0}, {\"stem_diam_bottom_in_cm\": 0.44, \"total_meja\": 1, \"meja_per_100_cm\": 1.4, \"diam_top_in_cm\": 0.07, \"side_branches_in_cm\": 45.5, \"main_stem_length_in_cm\": 72.0}, {\"stem_diam_bottom_in_cm\": 0.56, \"total_meja\": 0, \"meja_per_100_cm\": 0.0, \"diam_top_in_cm\": 0.05, \"side_branches_in_cm\": 45.5, \"main_stem_length_in_cm\": 75.0}, {\"stem_diam_bottom_in_cm\": 0.23, \"total_meja\": 0, \"meja_per_100_cm\": 0.0, \"diam_top_in_cm\": 0.15, \"side_branches_in_cm\": 45.5, \"main_stem_length_in_cm\": 12.0}, {\"stem_diam_bottom_in_cm\": 0.19, \"total_meja\": 0, \"meja_per_100_cm\": 0.0, \"diam_top_in_cm\": 0.15, \"side_branches_in_cm\": 45.5, \"main_stem_length_in_cm\": 18.0}, {\"stem_diam_bottom_in_cm\": 0.59, \"total_meja\": 14, \"meja_per_100_cm\": 26.9, \"diam_top_in_cm\": 0.15, \"side_branches_in_cm\": 45.5, \"main_stem_length_in_cm\": 52.0}, {\"stem_diam_bottom_in_cm\": 0.89, \"total_meja\": 6, \"meja_per_100_cm\": 4.8, \"diam_top_in_cm\": 0.15, \"side_branches_in_cm\": 45.5, \"main_stem_length_in_cm\": 125.0}, {\"stem_diam_bottom_in_cm\": 0.43, \"total_meja\": 9, \"meja_per_100_cm\": 17.0, \"diam_top_in_cm\": 0.15, \"side_branches_in_cm\": 45.5, \"main_stem_length_in_cm\": 53.0}, {\"stem_diam_bottom_in_cm\": 0.51, \"total_meja\": 7, \"meja_per_100_cm\": 10.3, \"diam_top_in_cm\": 0.15, \"side_branches_in_cm\": 45.5, \"main_stem_length_in_cm\": 68.0}, {\"stem_diam_bottom_in_cm\": 0.88, \"total_meja\": 0, \"meja_per_100_cm\": 0.0, \"diam_top_in_cm\": 0.18, \"side_branches_in_cm\": 45.5, \"main_stem_length_in_cm\": 96.0}, {\"stem_diam_bottom_in_cm\": 0.46, \"total_meja\": 10, \"meja_per_100_cm\": 23.3, \"diam_top_in_cm\": 0.18, \"side_branches_in_cm\": 45.5, \"main_stem_length_in_cm\": 43.0}, {\"stem_diam_bottom_in_cm\": 0.63, \"total_meja\": 0, \"meja_per_100_cm\": 0.0, \"diam_top_in_cm\": 0.15, \"side_branches_in_cm\": 79.0, \"main_stem_length_in_cm\": 39.0}, {\"stem_diam_bottom_in_cm\": 0.53, \"total_meja\": 35, \"meja_per_100_cm\": 30.2, \"diam_top_in_cm\": 0.15, \"side_branches_in_cm\": 45.5, \"main_stem_length_in_cm\": 116.0}, {\"stem_diam_bottom_in_cm\": 0.53, \"total_meja\": 16, \"meja_per_100_cm\": 29.6, \"diam_top_in_cm\": 0.08, \"side_branches_in_cm\": 45.5, \"main_stem_length_in_cm\": 54.0}, {\"stem_diam_bottom_in_cm\": 0.67, \"total_meja\": 1, \"meja_per_100_cm\": 0.9, \"diam_top_in_cm\": 0.15, \"side_branches_in_cm\": 45.5, \"main_stem_length_in_cm\": 113.0}, {\"stem_diam_bottom_in_cm\": 0.38, \"total_meja\": 22, \"meja_per_100_cm\": 75.9, \"diam_top_in_cm\": 0.11, \"side_branches_in_cm\": 45.5, \"main_stem_length_in_cm\": 29.0}, {\"stem_diam_bottom_in_cm\": 0.37, \"total_meja\": 0, \"meja_per_100_cm\": 0.0, \"diam_top_in_cm\": 0.15, \"side_branches_in_cm\": 45.5, \"main_stem_length_in_cm\": 33.0}, {\"stem_diam_bottom_in_cm\": 0.53, \"total_meja\": 4, \"meja_per_100_cm\": 9.1, \"diam_top_in_cm\": 0.15, \"side_branches_in_cm\": 109.0, \"main_stem_length_in_cm\": 44.0}, {\"stem_diam_bottom_in_cm\": 0.33, \"total_meja\": 1, \"meja_per_100_cm\": 2.3, \"diam_top_in_cm\": 0.15, \"side_branches_in_cm\": 45.5, \"main_stem_length_in_cm\": 43.0}, {\"stem_diam_bottom_in_cm\": 0.44, \"total_meja\": 0, \"meja_per_100_cm\": 0.0, \"diam_top_in_cm\": 0.15, \"side_branches_in_cm\": 45.5, \"main_stem_length_in_cm\": 52.0}, {\"stem_diam_bottom_in_cm\": 0.51, \"total_meja\": 20, \"meja_per_100_cm\": 47.6, \"diam_top_in_cm\": 0.21, \"side_branches_in_cm\": 45.5, \"main_stem_length_in_cm\": 42.0}, {\"stem_diam_bottom_in_cm\": 0.33, \"total_meja\": 0, \"meja_per_100_cm\": 0.0, \"diam_top_in_cm\": 0.15, \"side_branches_in_cm\": 45.5, \"main_stem_length_in_cm\": 42.0}, {\"stem_diam_bottom_in_cm\": 0.45, \"total_meja\": 9, \"meja_per_100_cm\": 20.9, \"diam_top_in_cm\": 0.14, \"side_branches_in_cm\": 45.5, \"main_stem_length_in_cm\": 43.0}, {\"stem_diam_bottom_in_cm\": 0.42, \"total_meja\": 0, \"meja_per_100_cm\": 0.0, \"diam_top_in_cm\": 0.05, \"side_branches_in_cm\": 45.5, \"main_stem_length_in_cm\": 66.0}, {\"stem_diam_bottom_in_cm\": 0.3, \"total_meja\": 5, \"meja_per_100_cm\": 20.0, \"diam_top_in_cm\": 0.2, \"side_branches_in_cm\": 45.5, \"main_stem_length_in_cm\": 25.0}, {\"stem_diam_bottom_in_cm\": 0.24, \"total_meja\": 0, \"meja_per_100_cm\": 0.0, \"diam_top_in_cm\": 0.15, \"side_branches_in_cm\": 45.5, \"main_stem_length_in_cm\": 9.0}, {\"stem_diam_bottom_in_cm\": 0.42, \"total_meja\": 0, \"meja_per_100_cm\": 0.0, \"diam_top_in_cm\": 0.07, \"side_branches_in_cm\": 45.5, \"main_stem_length_in_cm\": 65.0}, {\"stem_diam_bottom_in_cm\": 0.49, \"total_meja\": 6, \"meja_per_100_cm\": 11.1, \"diam_top_in_cm\": 0.28, \"side_branches_in_cm\": 45.5, \"main_stem_length_in_cm\": 54.0}, {\"stem_diam_bottom_in_cm\": 0.43, \"total_meja\": 5, \"meja_per_100_cm\": 8.6, \"diam_top_in_cm\": 0.06, \"side_branches_in_cm\": 45.5, \"main_stem_length_in_cm\": 58.0}, {\"stem_diam_bottom_in_cm\": 0.62, \"total_meja\": 0, \"meja_per_100_cm\": 0.0, \"diam_top_in_cm\": 0.15, \"side_branches_in_cm\": 45.5, \"main_stem_length_in_cm\": 44.0}, {\"stem_diam_bottom_in_cm\": 0.5, \"total_meja\": 2, \"meja_per_100_cm\": 3.1, \"diam_top_in_cm\": 0.15, \"side_branches_in_cm\": 45.5, \"main_stem_length_in_cm\": 65.0}, {\"stem_diam_bottom_in_cm\": 0.21, \"total_meja\": 0, \"meja_per_100_cm\": 0.0, \"diam_top_in_cm\": 0.15, \"side_branches_in_cm\": 45.5, \"main_stem_length_in_cm\": 12.5}, {\"stem_diam_bottom_in_cm\": 0.47, \"total_meja\": 10, \"meja_per_100_cm\": 27.8, \"diam_top_in_cm\": 0.46, \"side_branches_in_cm\": 45.5, \"main_stem_length_in_cm\": 36.0}, {\"stem_diam_bottom_in_cm\": 0.63, \"total_meja\": 15, \"meja_per_100_cm\": 23.4, \"diam_top_in_cm\": 0.15, \"side_branches_in_cm\": 45.5, \"main_stem_length_in_cm\": 64.0}, {\"stem_diam_bottom_in_cm\": 0.34, \"total_meja\": 0, \"meja_per_100_cm\": 0.0, \"diam_top_in_cm\": 0.15, \"side_branches_in_cm\": 45.5, \"main_stem_length_in_cm\": 57.0}, {\"stem_diam_bottom_in_cm\": 0.24, \"total_meja\": 10, \"meja_per_100_cm\": 40.0, \"diam_top_in_cm\": 0.14, \"side_branches_in_cm\": 45.5, \"main_stem_length_in_cm\": 25.0}, {\"stem_diam_bottom_in_cm\": 0.51, \"total_meja\": 0, \"meja_per_100_cm\": 0.0, \"diam_top_in_cm\": 0.11, \"side_branches_in_cm\": 45.5, \"main_stem_length_in_cm\": 83.0}, {\"stem_diam_bottom_in_cm\": 0.24, \"total_meja\": 0, \"meja_per_100_cm\": 0.0, \"diam_top_in_cm\": 0.15, \"side_branches_in_cm\": 45.5, \"main_stem_length_in_cm\": 10.0}, {\"stem_diam_bottom_in_cm\": 0.55, \"total_meja\": 0, \"meja_per_100_cm\": 0.0, \"diam_top_in_cm\": 0.15, \"side_branches_in_cm\": 24.0, \"main_stem_length_in_cm\": 39.0}, {\"stem_diam_bottom_in_cm\": 0.35, \"total_meja\": 0, \"meja_per_100_cm\": 0.0, \"diam_top_in_cm\": 0.15, \"side_branches_in_cm\": 45.5, \"main_stem_length_in_cm\": 30.0}, {\"stem_diam_bottom_in_cm\": 0.58, \"total_meja\": 0, \"meja_per_100_cm\": 0.0, \"diam_top_in_cm\": 0.15, \"side_branches_in_cm\": 46.0, \"main_stem_length_in_cm\": 38.0}, {\"stem_diam_bottom_in_cm\": 0.39, \"total_meja\": 3, \"meja_per_100_cm\": 7.0, \"diam_top_in_cm\": 0.15, \"side_branches_in_cm\": 45.5, \"main_stem_length_in_cm\": 43.0}, {\"stem_diam_bottom_in_cm\": 0.41, \"total_meja\": 21, \"meja_per_100_cm\": 34.4, \"diam_top_in_cm\": 0.15, \"side_branches_in_cm\": 45.5, \"main_stem_length_in_cm\": 61.0}, {\"stem_diam_bottom_in_cm\": 0.42, \"total_meja\": 21, \"meja_per_100_cm\": 35.6, \"diam_top_in_cm\": 0.15, \"side_branches_in_cm\": 45.5, \"main_stem_length_in_cm\": 59.0}, {\"stem_diam_bottom_in_cm\": 0.36, \"total_meja\": 0, \"meja_per_100_cm\": 0.0, \"diam_top_in_cm\": 0.15, \"side_branches_in_cm\": 45.5, \"main_stem_length_in_cm\": 42.0}, {\"stem_diam_bottom_in_cm\": 0.51, \"total_meja\": 31, \"meja_per_100_cm\": 65.3, \"diam_top_in_cm\": 0.1, \"side_branches_in_cm\": 45.5, \"main_stem_length_in_cm\": 47.5}, {\"stem_diam_bottom_in_cm\": 0.59, \"total_meja\": 0, \"meja_per_100_cm\": 0.0, \"diam_top_in_cm\": 0.15, \"side_branches_in_cm\": 45.5, \"main_stem_length_in_cm\": 25.0}, {\"stem_diam_bottom_in_cm\": 0.89, \"total_meja\": 28, \"meja_per_100_cm\": 32.9, \"diam_top_in_cm\": 0.15, \"side_branches_in_cm\": 45.5, \"main_stem_length_in_cm\": 85.0}, {\"stem_diam_bottom_in_cm\": 0.68, \"total_meja\": 20, \"meja_per_100_cm\": 39.2, \"diam_top_in_cm\": 0.15, \"side_branches_in_cm\": 45.5, \"main_stem_length_in_cm\": 51.0}, {\"stem_diam_bottom_in_cm\": 0.34, \"total_meja\": 0, \"meja_per_100_cm\": 0.0, \"diam_top_in_cm\": 0.15, \"side_branches_in_cm\": 45.5, \"main_stem_length_in_cm\": 35.0}, {\"stem_diam_bottom_in_cm\": 0.51, \"total_meja\": 0, \"meja_per_100_cm\": 0.0, \"diam_top_in_cm\": 0.15, \"side_branches_in_cm\": 45.5, \"main_stem_length_in_cm\": 110.0}, {\"stem_diam_bottom_in_cm\": 0.56, \"total_meja\": 13, \"meja_per_100_cm\": 40.6, \"diam_top_in_cm\": 0.15, \"side_branches_in_cm\": 45.5, \"main_stem_length_in_cm\": 32.0}, {\"stem_diam_bottom_in_cm\": 0.53, \"total_meja\": 0, \"meja_per_100_cm\": 0.0, \"diam_top_in_cm\": 0.15, \"side_branches_in_cm\": 45.5, \"main_stem_length_in_cm\": 45.0}, {\"stem_diam_bottom_in_cm\": 0.48, \"total_meja\": 8, \"meja_per_100_cm\": 11.9, \"diam_top_in_cm\": 0.15, \"side_branches_in_cm\": 45.5, \"main_stem_length_in_cm\": 67.0}, {\"stem_diam_bottom_in_cm\": 0.8, \"total_meja\": 3, \"meja_per_100_cm\": 4.0, \"diam_top_in_cm\": 0.3, \"side_branches_in_cm\": 45.5, \"main_stem_length_in_cm\": 75.0}, {\"stem_diam_bottom_in_cm\": 0.54, \"total_meja\": 10, \"meja_per_100_cm\": 23.8, \"diam_top_in_cm\": 0.18, \"side_branches_in_cm\": 45.5, \"main_stem_length_in_cm\": 42.0}, {\"stem_diam_bottom_in_cm\": 0.53, \"total_meja\": 0, \"meja_per_100_cm\": 0.0, \"diam_top_in_cm\": 0.15, \"side_branches_in_cm\": 22.0, \"main_stem_length_in_cm\": 31.0}, {\"stem_diam_bottom_in_cm\": 0.43, \"total_meja\": 10, \"meja_per_100_cm\": 29.4, \"diam_top_in_cm\": 0.15, \"side_branches_in_cm\": 45.5, \"main_stem_length_in_cm\": 34.0}, {\"stem_diam_bottom_in_cm\": 0.33, \"total_meja\": 8, \"meja_per_100_cm\": 21.1, \"diam_top_in_cm\": 0.15, \"side_branches_in_cm\": 45.5, \"main_stem_length_in_cm\": 38.0}, {\"stem_diam_bottom_in_cm\": 0.4, \"total_meja\": 9, \"meja_per_100_cm\": 45.0, \"diam_top_in_cm\": 0.15, \"side_branches_in_cm\": 45.5, \"main_stem_length_in_cm\": 20.0}, {\"stem_diam_bottom_in_cm\": 0.55, \"total_meja\": 0, \"meja_per_100_cm\": 0.0, \"diam_top_in_cm\": 0.15, \"side_branches_in_cm\": 45.5, \"main_stem_length_in_cm\": 86.0}, {\"stem_diam_bottom_in_cm\": 0.59, \"total_meja\": 1, \"meja_per_100_cm\": 2.4, \"diam_top_in_cm\": 0.15, \"side_branches_in_cm\": 26.0, \"main_stem_length_in_cm\": 42.0}, {\"stem_diam_bottom_in_cm\": 0.62, \"total_meja\": 0, \"meja_per_100_cm\": 0.0, \"diam_top_in_cm\": 0.15, \"side_branches_in_cm\": 83.0, \"main_stem_length_in_cm\": 64.0}, {\"stem_diam_bottom_in_cm\": 0.65, \"total_meja\": 0, \"meja_per_100_cm\": 0.0, \"diam_top_in_cm\": 0.15, \"side_branches_in_cm\": 45.5, \"main_stem_length_in_cm\": 99.0}, {\"stem_diam_bottom_in_cm\": 0.43, \"total_meja\": 18, \"meja_per_100_cm\": 45.0, \"diam_top_in_cm\": 0.23, \"side_branches_in_cm\": 45.5, \"main_stem_length_in_cm\": 40.0}, {\"stem_diam_bottom_in_cm\": 0.57, \"total_meja\": 0, \"meja_per_100_cm\": 0.0, \"diam_top_in_cm\": 0.15, \"side_branches_in_cm\": 45.5, \"main_stem_length_in_cm\": 75.0}, {\"stem_diam_bottom_in_cm\": 0.55, \"total_meja\": 44, \"meja_per_100_cm\": 91.7, \"diam_top_in_cm\": 0.07, \"side_branches_in_cm\": 45.5, \"main_stem_length_in_cm\": 48.0}, {\"stem_diam_bottom_in_cm\": 0.6, \"total_meja\": 10, \"meja_per_100_cm\": 17.2, \"diam_top_in_cm\": 0.15, \"side_branches_in_cm\": 45.5, \"main_stem_length_in_cm\": 58.0}, {\"stem_diam_bottom_in_cm\": 0.55, \"total_meja\": 0, \"meja_per_100_cm\": 0.0, \"diam_top_in_cm\": 0.15, \"side_branches_in_cm\": 45.5, \"main_stem_length_in_cm\": 57.0}, {\"stem_diam_bottom_in_cm\": 0.65, \"total_meja\": 6, \"meja_per_100_cm\": 16.2, \"diam_top_in_cm\": 0.16, \"side_branches_in_cm\": 45.5, \"main_stem_length_in_cm\": 37.0}, {\"stem_diam_bottom_in_cm\": 0.26, \"total_meja\": 0, \"meja_per_100_cm\": 0.0, \"diam_top_in_cm\": 0.15, \"side_branches_in_cm\": 45.5, \"main_stem_length_in_cm\": 4.0}, {\"stem_diam_bottom_in_cm\": 0.48, \"total_meja\": 15, \"meja_per_100_cm\": 49.2, \"diam_top_in_cm\": 0.11, \"side_branches_in_cm\": 45.5, \"main_stem_length_in_cm\": 30.5}, {\"stem_diam_bottom_in_cm\": 0.39, \"total_meja\": 0, \"meja_per_100_cm\": 0.0, \"diam_top_in_cm\": 0.15, \"side_branches_in_cm\": 45.5, \"main_stem_length_in_cm\": 60.0}, {\"stem_diam_bottom_in_cm\": 0.55, \"total_meja\": 0, \"meja_per_100_cm\": 0.0, \"diam_top_in_cm\": 0.15, \"side_branches_in_cm\": 45.5, \"main_stem_length_in_cm\": 95.0}, {\"stem_diam_bottom_in_cm\": 0.58, \"total_meja\": 1, \"meja_per_100_cm\": 1.6, \"diam_top_in_cm\": 0.09, \"side_branches_in_cm\": 45.5, \"main_stem_length_in_cm\": 62.0}, {\"stem_diam_bottom_in_cm\": 0.18, \"total_meja\": 0, \"meja_per_100_cm\": 0.0, \"diam_top_in_cm\": 0.15, \"side_branches_in_cm\": 45.5, \"main_stem_length_in_cm\": 11.0}, {\"stem_diam_bottom_in_cm\": 0.62, \"total_meja\": 4, \"meja_per_100_cm\": 6.0, \"diam_top_in_cm\": 0.12, \"side_branches_in_cm\": 45.5, \"main_stem_length_in_cm\": 67.0}, {\"stem_diam_bottom_in_cm\": 0.72, \"total_meja\": 0, \"meja_per_100_cm\": 0.0, \"diam_top_in_cm\": 0.05, \"side_branches_in_cm\": 45.5, \"main_stem_length_in_cm\": 100.0}, {\"stem_diam_bottom_in_cm\": 0.78, \"total_meja\": 0, \"meja_per_100_cm\": 0.0, \"diam_top_in_cm\": 0.15, \"side_branches_in_cm\": 45.5, \"main_stem_length_in_cm\": 115.0}, {\"stem_diam_bottom_in_cm\": 0.34, \"total_meja\": 7, \"meja_per_100_cm\": 20.6, \"diam_top_in_cm\": 0.17, \"side_branches_in_cm\": 45.5, \"main_stem_length_in_cm\": 34.0}, {\"stem_diam_bottom_in_cm\": 0.34, \"total_meja\": 0, \"meja_per_100_cm\": 0.0, \"diam_top_in_cm\": 0.15, \"side_branches_in_cm\": 45.5, \"main_stem_length_in_cm\": 34.0}, {\"stem_diam_bottom_in_cm\": 0.67, \"total_meja\": 0, \"meja_per_100_cm\": 0.0, \"diam_top_in_cm\": 0.15, \"side_branches_in_cm\": 19.0, \"main_stem_length_in_cm\": 54.0}, {\"stem_diam_bottom_in_cm\": 0.38, \"total_meja\": 5, \"meja_per_100_cm\": 12.8, \"diam_top_in_cm\": 0.13, \"side_branches_in_cm\": 45.5, \"main_stem_length_in_cm\": 39.0}, {\"stem_diam_bottom_in_cm\": 0.32, \"total_meja\": 0, \"meja_per_100_cm\": 0.0, \"diam_top_in_cm\": 0.15, \"side_branches_in_cm\": 45.5, \"main_stem_length_in_cm\": 22.0}, {\"stem_diam_bottom_in_cm\": 0.68, \"total_meja\": 0, \"meja_per_100_cm\": 0.0, \"diam_top_in_cm\": 0.15, \"side_branches_in_cm\": 18.0, \"main_stem_length_in_cm\": 56.0}, {\"stem_diam_bottom_in_cm\": 1.09, \"total_meja\": 0, \"meja_per_100_cm\": 0.0, \"diam_top_in_cm\": 0.28, \"side_branches_in_cm\": 45.5, \"main_stem_length_in_cm\": 92.0}, {\"stem_diam_bottom_in_cm\": 0.41, \"total_meja\": 1, \"meja_per_100_cm\": 12.5, \"diam_top_in_cm\": 0.38, \"side_branches_in_cm\": 45.5, \"main_stem_length_in_cm\": 8.0}, {\"stem_diam_bottom_in_cm\": 0.51, \"total_meja\": 10, \"meja_per_100_cm\": 18.5, \"diam_top_in_cm\": 0.15, \"side_branches_in_cm\": 45.5, \"main_stem_length_in_cm\": 54.0}, {\"stem_diam_bottom_in_cm\": 0.6, \"total_meja\": 0, \"meja_per_100_cm\": 0.0, \"diam_top_in_cm\": 0.15, \"side_branches_in_cm\": 9.0, \"main_stem_length_in_cm\": 41.0}, {\"stem_diam_bottom_in_cm\": 0.36, \"total_meja\": 9, \"meja_per_100_cm\": 30.5, \"diam_top_in_cm\": 0.18, \"side_branches_in_cm\": 45.5, \"main_stem_length_in_cm\": 29.5}, {\"stem_diam_bottom_in_cm\": 0.51, \"total_meja\": 0, \"meja_per_100_cm\": 0.0, \"diam_top_in_cm\": 0.15, \"side_branches_in_cm\": 45.5, \"main_stem_length_in_cm\": 36.0}, {\"stem_diam_bottom_in_cm\": 0.15, \"total_meja\": 0, \"meja_per_100_cm\": 0.0, \"diam_top_in_cm\": 0.15, \"side_branches_in_cm\": 45.5, \"main_stem_length_in_cm\": 13.0}, {\"stem_diam_bottom_in_cm\": 0.31, \"total_meja\": 10, \"meja_per_100_cm\": 25.6, \"diam_top_in_cm\": 0.08, \"side_branches_in_cm\": 45.5, \"main_stem_length_in_cm\": 39.0}, {\"stem_diam_bottom_in_cm\": 0.53, \"total_meja\": 1, \"meja_per_100_cm\": 2.0, \"diam_top_in_cm\": 0.21, \"side_branches_in_cm\": 45.5, \"main_stem_length_in_cm\": 51.0}, {\"stem_diam_bottom_in_cm\": 0.35, \"total_meja\": 0, \"meja_per_100_cm\": 0.0, \"diam_top_in_cm\": 0.15, \"side_branches_in_cm\": 45.5, \"main_stem_length_in_cm\": 28.0}, {\"stem_diam_bottom_in_cm\": 0.23, \"total_meja\": 10, \"meja_per_100_cm\": 57.1, \"diam_top_in_cm\": 0.1, \"side_branches_in_cm\": 45.5, \"main_stem_length_in_cm\": 17.5}, {\"stem_diam_bottom_in_cm\": 0.33, \"total_meja\": 0, \"meja_per_100_cm\": 0.0, \"diam_top_in_cm\": 0.15, \"side_branches_in_cm\": 45.5, \"main_stem_length_in_cm\": 88.0}, {\"stem_diam_bottom_in_cm\": 0.68, \"total_meja\": 0, \"meja_per_100_cm\": 0.0, \"diam_top_in_cm\": 0.15, \"side_branches_in_cm\": 73.0, \"main_stem_length_in_cm\": 59.0}, {\"stem_diam_bottom_in_cm\": 0.41, \"total_meja\": 0, \"meja_per_100_cm\": 0.0, \"diam_top_in_cm\": 0.15, \"side_branches_in_cm\": 45.5, \"main_stem_length_in_cm\": 31.0}, {\"stem_diam_bottom_in_cm\": 0.62, \"total_meja\": 6, \"meja_per_100_cm\": 10.5, \"diam_top_in_cm\": 0.16, \"side_branches_in_cm\": 45.5, \"main_stem_length_in_cm\": 57.0}, {\"stem_diam_bottom_in_cm\": 0.56, \"total_meja\": 0, \"meja_per_100_cm\": 0.0, \"diam_top_in_cm\": 0.15, \"side_branches_in_cm\": 45.5, \"main_stem_length_in_cm\": 57.0}, {\"stem_diam_bottom_in_cm\": 0.48, \"total_meja\": 10, \"meja_per_100_cm\": 24.4, \"diam_top_in_cm\": 0.13, \"side_branches_in_cm\": 45.5, \"main_stem_length_in_cm\": 41.0}, {\"stem_diam_bottom_in_cm\": 0.67, \"total_meja\": 0, \"meja_per_100_cm\": 0.0, \"diam_top_in_cm\": 0.05, \"side_branches_in_cm\": 45.5, \"main_stem_length_in_cm\": 90.0}, {\"stem_diam_bottom_in_cm\": 0.31, \"total_meja\": 1, \"meja_per_100_cm\": 3.2, \"diam_top_in_cm\": 0.16, \"side_branches_in_cm\": 45.5, \"main_stem_length_in_cm\": 31.0}, {\"stem_diam_bottom_in_cm\": 0.68, \"total_meja\": 0, \"meja_per_100_cm\": 0.0, \"diam_top_in_cm\": 0.06, \"side_branches_in_cm\": 45.5, \"main_stem_length_in_cm\": 110.0}, {\"stem_diam_bottom_in_cm\": 0.67, \"total_meja\": 0, \"meja_per_100_cm\": 0.0, \"diam_top_in_cm\": 0.15, \"side_branches_in_cm\": 35.0, \"main_stem_length_in_cm\": 62.0}, {\"stem_diam_bottom_in_cm\": 0.49, \"total_meja\": 0, \"meja_per_100_cm\": 0.0, \"diam_top_in_cm\": 0.15, \"side_branches_in_cm\": 19.0, \"main_stem_length_in_cm\": 69.0}, {\"stem_diam_bottom_in_cm\": 0.51, \"total_meja\": 18, \"meja_per_100_cm\": 33.3, \"diam_top_in_cm\": 0.15, \"side_branches_in_cm\": 45.5, \"main_stem_length_in_cm\": 54.0}, {\"stem_diam_bottom_in_cm\": 0.44, \"total_meja\": 0, \"meja_per_100_cm\": 0.0, \"diam_top_in_cm\": 0.15, \"side_branches_in_cm\": 53.0, \"main_stem_length_in_cm\": 31.0}, {\"stem_diam_bottom_in_cm\": 0.66, \"total_meja\": 0, \"meja_per_100_cm\": 0.0, \"diam_top_in_cm\": 0.15, \"side_branches_in_cm\": 45.5, \"main_stem_length_in_cm\": 48.0}, {\"stem_diam_bottom_in_cm\": 0.65, \"total_meja\": 0, \"meja_per_100_cm\": 0.0, \"diam_top_in_cm\": 0.15, \"side_branches_in_cm\": 46.0, \"main_stem_length_in_cm\": 51.0}, {\"stem_diam_bottom_in_cm\": 0.65, \"total_meja\": 5, \"meja_per_100_cm\": 10.4, \"diam_top_in_cm\": 0.05, \"side_branches_in_cm\": 45.5, \"main_stem_length_in_cm\": 48.0}, {\"stem_diam_bottom_in_cm\": 0.51, \"total_meja\": 5, \"meja_per_100_cm\": 7.8, \"diam_top_in_cm\": 0.15, \"side_branches_in_cm\": 39.0, \"main_stem_length_in_cm\": 64.0}, {\"stem_diam_bottom_in_cm\": 0.62, \"total_meja\": 22, \"meja_per_100_cm\": 40.0, \"diam_top_in_cm\": 0.2, \"side_branches_in_cm\": 45.5, \"main_stem_length_in_cm\": 55.0}, {\"stem_diam_bottom_in_cm\": 0.83, \"total_meja\": 24, \"meja_per_100_cm\": 47.1, \"diam_top_in_cm\": 0.15, \"side_branches_in_cm\": 45.5, \"main_stem_length_in_cm\": 51.0}, {\"stem_diam_bottom_in_cm\": 0.34, \"total_meja\": 1, \"meja_per_100_cm\": 3.4, \"diam_top_in_cm\": 0.15, \"side_branches_in_cm\": 45.5, \"main_stem_length_in_cm\": 29.0}, {\"stem_diam_bottom_in_cm\": 0.42, \"total_meja\": 15, \"meja_per_100_cm\": 25.9, \"diam_top_in_cm\": 0.15, \"side_branches_in_cm\": 45.5, \"main_stem_length_in_cm\": 58.0}, {\"stem_diam_bottom_in_cm\": 0.21, \"total_meja\": 0, \"meja_per_100_cm\": 0.0, \"diam_top_in_cm\": 0.15, \"side_branches_in_cm\": 45.5, \"main_stem_length_in_cm\": 15.5}, {\"stem_diam_bottom_in_cm\": 1.08, \"total_meja\": 0, \"meja_per_100_cm\": 0.0, \"diam_top_in_cm\": 0.48, \"side_branches_in_cm\": 45.5, \"main_stem_length_in_cm\": 71.0}, {\"stem_diam_bottom_in_cm\": 0.27, \"total_meja\": 12, \"meja_per_100_cm\": 41.4, \"diam_top_in_cm\": 0.08, \"side_branches_in_cm\": 45.5, \"main_stem_length_in_cm\": 29.0}, {\"stem_diam_bottom_in_cm\": 0.43, \"total_meja\": 0, \"meja_per_100_cm\": 0.0, \"diam_top_in_cm\": 0.15, \"side_branches_in_cm\": 45.5, \"main_stem_length_in_cm\": 49.0}, {\"stem_diam_bottom_in_cm\": 0.14, \"total_meja\": 0, \"meja_per_100_cm\": 0.0, \"diam_top_in_cm\": 0.15, \"side_branches_in_cm\": 45.5, \"main_stem_length_in_cm\": 5.0}, {\"stem_diam_bottom_in_cm\": 0.71, \"total_meja\": 28, \"meja_per_100_cm\": 48.3, \"diam_top_in_cm\": 0.15, \"side_branches_in_cm\": 45.5, \"main_stem_length_in_cm\": 58.0}, {\"stem_diam_bottom_in_cm\": 0.48, \"total_meja\": 0, \"meja_per_100_cm\": 0.0, \"diam_top_in_cm\": 0.15, \"side_branches_in_cm\": 45.5, \"main_stem_length_in_cm\": 63.0}, {\"stem_diam_bottom_in_cm\": 0.53, \"total_meja\": 8, \"meja_per_100_cm\": 22.9, \"diam_top_in_cm\": 0.19, \"side_branches_in_cm\": 45.5, \"main_stem_length_in_cm\": 35.0}, {\"stem_diam_bottom_in_cm\": 0.23, \"total_meja\": 0, \"meja_per_100_cm\": 0.0, \"diam_top_in_cm\": 0.15, \"side_branches_in_cm\": 45.5, \"main_stem_length_in_cm\": 12.0}, {\"stem_diam_bottom_in_cm\": 0.31, \"total_meja\": 10, \"meja_per_100_cm\": 36.4, \"diam_top_in_cm\": 0.06, \"side_branches_in_cm\": 45.5, \"main_stem_length_in_cm\": 27.5}, {\"stem_diam_bottom_in_cm\": 0.64, \"total_meja\": 12, \"meja_per_100_cm\": 27.9, \"diam_top_in_cm\": 0.15, \"side_branches_in_cm\": 45.5, \"main_stem_length_in_cm\": 43.0}, {\"stem_diam_bottom_in_cm\": 0.37, \"total_meja\": 9, \"meja_per_100_cm\": 19.1, \"diam_top_in_cm\": 0.05, \"side_branches_in_cm\": 45.5, \"main_stem_length_in_cm\": 47.0}, {\"stem_diam_bottom_in_cm\": 0.41, \"total_meja\": 16, \"meja_per_100_cm\": 57.1, \"diam_top_in_cm\": 0.15, \"side_branches_in_cm\": 45.5, \"main_stem_length_in_cm\": 28.0}, {\"stem_diam_bottom_in_cm\": 0.49, \"total_meja\": 26, \"meja_per_100_cm\": 63.4, \"diam_top_in_cm\": 0.2, \"side_branches_in_cm\": 45.5, \"main_stem_length_in_cm\": 41.0}, {\"stem_diam_bottom_in_cm\": 0.34, \"total_meja\": 0, \"meja_per_100_cm\": 0.0, \"diam_top_in_cm\": 0.05, \"side_branches_in_cm\": 45.5, \"main_stem_length_in_cm\": 83.0}, {\"stem_diam_bottom_in_cm\": 0.36, \"total_meja\": 0, \"meja_per_100_cm\": 0.0, \"diam_top_in_cm\": 0.15, \"side_branches_in_cm\": 45.5, \"main_stem_length_in_cm\": 54.0}, {\"stem_diam_bottom_in_cm\": 0.41, \"total_meja\": 10, \"meja_per_100_cm\": 29.4, \"diam_top_in_cm\": 0.15, \"side_branches_in_cm\": 45.5, \"main_stem_length_in_cm\": 34.0}, {\"stem_diam_bottom_in_cm\": 0.44, \"total_meja\": 0, \"meja_per_100_cm\": 0.0, \"diam_top_in_cm\": 0.15, \"side_branches_in_cm\": 45.5, \"main_stem_length_in_cm\": 56.0}, {\"stem_diam_bottom_in_cm\": 0.44, \"total_meja\": 17, \"meja_per_100_cm\": 43.6, \"diam_top_in_cm\": 0.09, \"side_branches_in_cm\": 45.5, \"main_stem_length_in_cm\": 39.0}, {\"stem_diam_bottom_in_cm\": 0.39, \"total_meja\": 10, \"meja_per_100_cm\": 34.5, \"diam_top_in_cm\": 0.09, \"side_branches_in_cm\": 45.5, \"main_stem_length_in_cm\": 29.0}, {\"stem_diam_bottom_in_cm\": 0.49, \"total_meja\": 0, \"meja_per_100_cm\": 0.0, \"diam_top_in_cm\": 0.15, \"side_branches_in_cm\": 45.5, \"main_stem_length_in_cm\": 42.0}, {\"stem_diam_bottom_in_cm\": 0.76, \"total_meja\": 2, \"meja_per_100_cm\": 4.4, \"diam_top_in_cm\": 0.45, \"side_branches_in_cm\": 45.5, \"main_stem_length_in_cm\": 45.0}, {\"stem_diam_bottom_in_cm\": 0.33, \"total_meja\": 0, \"meja_per_100_cm\": 0.0, \"diam_top_in_cm\": 0.15, \"side_branches_in_cm\": 45.5, \"main_stem_length_in_cm\": 27.0}, {\"stem_diam_bottom_in_cm\": 0.52, \"total_meja\": 8, \"meja_per_100_cm\": 10.3, \"diam_top_in_cm\": 0.17, \"side_branches_in_cm\": 45.5, \"main_stem_length_in_cm\": 78.0}, {\"stem_diam_bottom_in_cm\": 0.39, \"total_meja\": 0, \"meja_per_100_cm\": 0.0, \"diam_top_in_cm\": 0.15, \"side_branches_in_cm\": 45.5, \"main_stem_length_in_cm\": 25.0}, {\"stem_diam_bottom_in_cm\": 0.73, \"total_meja\": 2, \"meja_per_100_cm\": 2.0, \"diam_top_in_cm\": 0.15, \"side_branches_in_cm\": 45.5, \"main_stem_length_in_cm\": 99.0}, {\"stem_diam_bottom_in_cm\": 0.62, \"total_meja\": 2, \"meja_per_100_cm\": 3.6, \"diam_top_in_cm\": 0.57, \"side_branches_in_cm\": 45.5, \"main_stem_length_in_cm\": 55.0}, {\"stem_diam_bottom_in_cm\": 0.44, \"total_meja\": 17, \"meja_per_100_cm\": 50.0, \"diam_top_in_cm\": 0.27, \"side_branches_in_cm\": 45.5, \"main_stem_length_in_cm\": 34.0}, {\"stem_diam_bottom_in_cm\": 0.65, \"total_meja\": 0, \"meja_per_100_cm\": 0.0, \"diam_top_in_cm\": 0.15, \"side_branches_in_cm\": 45.5, \"main_stem_length_in_cm\": 77.0}, {\"stem_diam_bottom_in_cm\": 0.5, \"total_meja\": 4, \"meja_per_100_cm\": 9.1, \"diam_top_in_cm\": 0.34, \"side_branches_in_cm\": 45.5, \"main_stem_length_in_cm\": 44.0}, {\"stem_diam_bottom_in_cm\": 0.83, \"total_meja\": 1, \"meja_per_100_cm\": 1.3, \"diam_top_in_cm\": 0.09, \"side_branches_in_cm\": 45.5, \"main_stem_length_in_cm\": 77.0}, {\"stem_diam_bottom_in_cm\": 0.61, \"total_meja\": 11, \"meja_per_100_cm\": 31.4, \"diam_top_in_cm\": 0.16, \"side_branches_in_cm\": 45.5, \"main_stem_length_in_cm\": 35.0}, {\"stem_diam_bottom_in_cm\": 0.48, \"total_meja\": 0, \"meja_per_100_cm\": 0.0, \"diam_top_in_cm\": 0.1, \"side_branches_in_cm\": 45.5, \"main_stem_length_in_cm\": 61.0}, {\"stem_diam_bottom_in_cm\": 0.2, \"total_meja\": 0, \"meja_per_100_cm\": 0.0, \"diam_top_in_cm\": 0.15, \"side_branches_in_cm\": 45.5, \"main_stem_length_in_cm\": 16.5}, {\"stem_diam_bottom_in_cm\": 0.52, \"total_meja\": 5, \"meja_per_100_cm\": 8.6, \"diam_top_in_cm\": 0.15, \"side_branches_in_cm\": 45.5, \"main_stem_length_in_cm\": 58.0}, {\"stem_diam_bottom_in_cm\": 0.51, \"total_meja\": 16, \"meja_per_100_cm\": 35.6, \"diam_top_in_cm\": 0.25, \"side_branches_in_cm\": 45.5, \"main_stem_length_in_cm\": 45.0}, {\"stem_diam_bottom_in_cm\": 0.36, \"total_meja\": 16, \"meja_per_100_cm\": 47.1, \"diam_top_in_cm\": 0.15, \"side_branches_in_cm\": 45.5, \"main_stem_length_in_cm\": 34.0}, {\"stem_diam_bottom_in_cm\": 0.55, \"total_meja\": 7, \"meja_per_100_cm\": 21.2, \"diam_top_in_cm\": 0.12, \"side_branches_in_cm\": 45.5, \"main_stem_length_in_cm\": 33.0}, {\"stem_diam_bottom_in_cm\": 0.5, \"total_meja\": 4, \"meja_per_100_cm\": 6.0, \"diam_top_in_cm\": 0.06, \"side_branches_in_cm\": 45.5, \"main_stem_length_in_cm\": 67.0}, {\"stem_diam_bottom_in_cm\": 0.49, \"total_meja\": 1, \"meja_per_100_cm\": 1.5, \"diam_top_in_cm\": 0.15, \"side_branches_in_cm\": 45.5, \"main_stem_length_in_cm\": 68.0}, {\"stem_diam_bottom_in_cm\": 0.36, \"total_meja\": 7, \"meja_per_100_cm\": 25.9, \"diam_top_in_cm\": 0.15, \"side_branches_in_cm\": 45.5, \"main_stem_length_in_cm\": 27.0}, {\"stem_diam_bottom_in_cm\": 0.76, \"total_meja\": 0, \"meja_per_100_cm\": 0.0, \"diam_top_in_cm\": 0.65, \"side_branches_in_cm\": 45.5, \"main_stem_length_in_cm\": 48.0}, {\"stem_diam_bottom_in_cm\": 0.4, \"total_meja\": 0, \"meja_per_100_cm\": 0.0, \"diam_top_in_cm\": 0.04, \"side_branches_in_cm\": 45.5, \"main_stem_length_in_cm\": 101.0}, {\"stem_diam_bottom_in_cm\": 0.4, \"total_meja\": 10, \"meja_per_100_cm\": 33.3, \"diam_top_in_cm\": 0.17, \"side_branches_in_cm\": 45.5, \"main_stem_length_in_cm\": 30.0}, {\"stem_diam_bottom_in_cm\": 0.69, \"total_meja\": 4, \"meja_per_100_cm\": 7.0, \"diam_top_in_cm\": 0.15, \"side_branches_in_cm\": 45.5, \"main_stem_length_in_cm\": 57.0}, {\"stem_diam_bottom_in_cm\": 0.22, \"total_meja\": 0, \"meja_per_100_cm\": 0.0, \"diam_top_in_cm\": 0.15, \"side_branches_in_cm\": 45.5, \"main_stem_length_in_cm\": 10.0}, {\"stem_diam_bottom_in_cm\": 0.9, \"total_meja\": 0, \"meja_per_100_cm\": 0.0, \"diam_top_in_cm\": 0.15, \"side_branches_in_cm\": 45.5, \"main_stem_length_in_cm\": 78.0}, {\"stem_diam_bottom_in_cm\": 0.67, \"total_meja\": 11, \"meja_per_100_cm\": 26.5, \"diam_top_in_cm\": 0.17, \"side_branches_in_cm\": 45.5, \"main_stem_length_in_cm\": 41.5}, {\"stem_diam_bottom_in_cm\": 0.22, \"total_meja\": 0, \"meja_per_100_cm\": 0.0, \"diam_top_in_cm\": 0.03, \"side_branches_in_cm\": 45.5, \"main_stem_length_in_cm\": 36.0}, {\"stem_diam_bottom_in_cm\": 0.47, \"total_meja\": 0, \"meja_per_100_cm\": 0.0, \"diam_top_in_cm\": 0.15, \"side_branches_in_cm\": 45.5, \"main_stem_length_in_cm\": 73.0}, {\"stem_diam_bottom_in_cm\": 0.25, \"total_meja\": 0, \"meja_per_100_cm\": 0.0, \"diam_top_in_cm\": 0.15, \"side_branches_in_cm\": 45.5, \"main_stem_length_in_cm\": 14.0}, {\"stem_diam_bottom_in_cm\": 0.29, \"total_meja\": 3, \"meja_per_100_cm\": 7.5, \"diam_top_in_cm\": 0.07, \"side_branches_in_cm\": 45.5, \"main_stem_length_in_cm\": 40.0}, {\"stem_diam_bottom_in_cm\": 0.7, \"total_meja\": 0, \"meja_per_100_cm\": 0.0, \"diam_top_in_cm\": 0.15, \"side_branches_in_cm\": 124.0, \"main_stem_length_in_cm\": 92.0}, {\"stem_diam_bottom_in_cm\": 0.51, \"total_meja\": 9, \"meja_per_100_cm\": 10.7, \"diam_top_in_cm\": 0.15, \"side_branches_in_cm\": 45.5, \"main_stem_length_in_cm\": 84.0}, {\"stem_diam_bottom_in_cm\": 0.39, \"total_meja\": 0, \"meja_per_100_cm\": 0.0, \"diam_top_in_cm\": 0.15, \"side_branches_in_cm\": 33.0, \"main_stem_length_in_cm\": 46.0}, {\"stem_diam_bottom_in_cm\": 0.41, \"total_meja\": 0, \"meja_per_100_cm\": 0.0, \"diam_top_in_cm\": 0.17, \"side_branches_in_cm\": 45.5, \"main_stem_length_in_cm\": 60.0}, {\"stem_diam_bottom_in_cm\": 0.23, \"total_meja\": 0, \"meja_per_100_cm\": 0.0, \"diam_top_in_cm\": 0.15, \"side_branches_in_cm\": 45.5, \"main_stem_length_in_cm\": 8.5}, {\"stem_diam_bottom_in_cm\": 0.38, \"total_meja\": 0, \"meja_per_100_cm\": 0.0, \"diam_top_in_cm\": 0.06, \"side_branches_in_cm\": 45.5, \"main_stem_length_in_cm\": 54.0}, {\"stem_diam_bottom_in_cm\": 0.38, \"total_meja\": 1, \"meja_per_100_cm\": 2.3, \"diam_top_in_cm\": 0.15, \"side_branches_in_cm\": 46.0, \"main_stem_length_in_cm\": 43.0}, {\"stem_diam_bottom_in_cm\": 0.43, \"total_meja\": 21, \"meja_per_100_cm\": 67.7, \"diam_top_in_cm\": 0.16, \"side_branches_in_cm\": 45.5, \"main_stem_length_in_cm\": 31.0}, {\"stem_diam_bottom_in_cm\": 0.85, \"total_meja\": 2, \"meja_per_100_cm\": 2.2, \"diam_top_in_cm\": 0.15, \"side_branches_in_cm\": 45.5, \"main_stem_length_in_cm\": 93.0}, {\"stem_diam_bottom_in_cm\": 0.77, \"total_meja\": 0, \"meja_per_100_cm\": 0.0, \"diam_top_in_cm\": 0.15, \"side_branches_in_cm\": 53.0, \"main_stem_length_in_cm\": 70.0}, {\"stem_diam_bottom_in_cm\": 0.3, \"total_meja\": 0, \"meja_per_100_cm\": 0.0, \"diam_top_in_cm\": 0.15, \"side_branches_in_cm\": 45.5, \"main_stem_length_in_cm\": 20.0}, {\"stem_diam_bottom_in_cm\": 0.79, \"total_meja\": 62, \"meja_per_100_cm\": 58.5, \"diam_top_in_cm\": 0.15, \"side_branches_in_cm\": 45.5, \"main_stem_length_in_cm\": 106.0}, {\"stem_diam_bottom_in_cm\": 0.34, \"total_meja\": 0, \"meja_per_100_cm\": 0.0, \"diam_top_in_cm\": 0.15, \"side_branches_in_cm\": 45.5, \"main_stem_length_in_cm\": 41.0}, {\"stem_diam_bottom_in_cm\": 0.24, \"total_meja\": 0, \"meja_per_100_cm\": 0.0, \"diam_top_in_cm\": 0.15, \"side_branches_in_cm\": 45.5, \"main_stem_length_in_cm\": 11.0}, {\"stem_diam_bottom_in_cm\": 0.76, \"total_meja\": 16, \"meja_per_100_cm\": 25.8, \"diam_top_in_cm\": 0.27, \"side_branches_in_cm\": 45.5, \"main_stem_length_in_cm\": 62.0}, {\"stem_diam_bottom_in_cm\": 0.42, \"total_meja\": 4, \"meja_per_100_cm\": 10.5, \"diam_top_in_cm\": 0.15, \"side_branches_in_cm\": 45.5, \"main_stem_length_in_cm\": 38.0}, {\"stem_diam_bottom_in_cm\": 0.32, \"total_meja\": 0, \"meja_per_100_cm\": 0.0, \"diam_top_in_cm\": 0.15, \"side_branches_in_cm\": 45.5, \"main_stem_length_in_cm\": 15.5}, {\"stem_diam_bottom_in_cm\": 0.65, \"total_meja\": 0, \"meja_per_100_cm\": 0.0, \"diam_top_in_cm\": 0.15, \"side_branches_in_cm\": 17.0, \"main_stem_length_in_cm\": 66.0}, {\"stem_diam_bottom_in_cm\": 0.53, \"total_meja\": 0, \"meja_per_100_cm\": 0.0, \"diam_top_in_cm\": 0.15, \"side_branches_in_cm\": 32.0, \"main_stem_length_in_cm\": 44.0}, {\"stem_diam_bottom_in_cm\": 0.2, \"total_meja\": 0, \"meja_per_100_cm\": 0.0, \"diam_top_in_cm\": 0.15, \"side_branches_in_cm\": 45.5, \"main_stem_length_in_cm\": 11.0}, {\"stem_diam_bottom_in_cm\": 0.65, \"total_meja\": 3, \"meja_per_100_cm\": 2.7, \"diam_top_in_cm\": 0.15, \"side_branches_in_cm\": 45.5, \"main_stem_length_in_cm\": 111.0}, {\"stem_diam_bottom_in_cm\": 0.6, \"total_meja\": 6, \"meja_per_100_cm\": 7.4, \"diam_top_in_cm\": 0.15, \"side_branches_in_cm\": 45.5, \"main_stem_length_in_cm\": 81.0}, {\"stem_diam_bottom_in_cm\": 0.5, \"total_meja\": 13, \"meja_per_100_cm\": 27.1, \"diam_top_in_cm\": 0.15, \"side_branches_in_cm\": 45.5, \"main_stem_length_in_cm\": 48.0}, {\"stem_diam_bottom_in_cm\": 0.59, \"total_meja\": 8, \"meja_per_100_cm\": 20.5, \"diam_top_in_cm\": 0.21, \"side_branches_in_cm\": 45.5, \"main_stem_length_in_cm\": 39.0}, {\"stem_diam_bottom_in_cm\": 0.63, \"total_meja\": 0, \"meja_per_100_cm\": 0.0, \"diam_top_in_cm\": 0.15, \"side_branches_in_cm\": 45.5, \"main_stem_length_in_cm\": 81.0}, {\"stem_diam_bottom_in_cm\": 0.63, \"total_meja\": 8, \"meja_per_100_cm\": 15.1, \"diam_top_in_cm\": 0.15, \"side_branches_in_cm\": 45.5, \"main_stem_length_in_cm\": 53.0}, {\"stem_diam_bottom_in_cm\": 0.64, \"total_meja\": 27, \"meja_per_100_cm\": 50.0, \"diam_top_in_cm\": 0.17, \"side_branches_in_cm\": 45.5, \"main_stem_length_in_cm\": 54.0}, {\"stem_diam_bottom_in_cm\": 0.65, \"total_meja\": 0, \"meja_per_100_cm\": 0.0, \"diam_top_in_cm\": 0.15, \"side_branches_in_cm\": 45.5, \"main_stem_length_in_cm\": 66.0}, {\"stem_diam_bottom_in_cm\": 0.32, \"total_meja\": 0, \"meja_per_100_cm\": 0.0, \"diam_top_in_cm\": 0.08, \"side_branches_in_cm\": 45.5, \"main_stem_length_in_cm\": 57.0}, {\"stem_diam_bottom_in_cm\": 0.63, \"total_meja\": 0, \"meja_per_100_cm\": 0.0, \"diam_top_in_cm\": 0.17, \"side_branches_in_cm\": 45.5, \"main_stem_length_in_cm\": 69.0}, {\"stem_diam_bottom_in_cm\": 0.87, \"total_meja\": 20, \"meja_per_100_cm\": 16.1, \"diam_top_in_cm\": 0.18, \"side_branches_in_cm\": 45.5, \"main_stem_length_in_cm\": 124.0}, {\"stem_diam_bottom_in_cm\": 0.5, \"total_meja\": 11, \"meja_per_100_cm\": 27.5, \"diam_top_in_cm\": 0.39, \"side_branches_in_cm\": 45.5, \"main_stem_length_in_cm\": 40.0}, {\"stem_diam_bottom_in_cm\": 0.56, \"total_meja\": 1, \"meja_per_100_cm\": 1.0, \"diam_top_in_cm\": 0.07, \"side_branches_in_cm\": 45.5, \"main_stem_length_in_cm\": 100.0}, {\"stem_diam_bottom_in_cm\": 0.21, \"total_meja\": 0, \"meja_per_100_cm\": 0.0, \"diam_top_in_cm\": 0.15, \"side_branches_in_cm\": 45.5, \"main_stem_length_in_cm\": 32.0}, {\"stem_diam_bottom_in_cm\": 0.35, \"total_meja\": 0, \"meja_per_100_cm\": 0.0, \"diam_top_in_cm\": 0.15, \"side_branches_in_cm\": 45.5, \"main_stem_length_in_cm\": 25.0}, {\"stem_diam_bottom_in_cm\": 0.39, \"total_meja\": 0, \"meja_per_100_cm\": 0.0, \"diam_top_in_cm\": 0.15, \"side_branches_in_cm\": 45.5, \"main_stem_length_in_cm\": 31.0}, {\"stem_diam_bottom_in_cm\": 0.66, \"total_meja\": 1, \"meja_per_100_cm\": 1.5, \"diam_top_in_cm\": 0.15, \"side_branches_in_cm\": 45.5, \"main_stem_length_in_cm\": 66.0}, {\"stem_diam_bottom_in_cm\": 0.31, \"total_meja\": 0, \"meja_per_100_cm\": 0.0, \"diam_top_in_cm\": 0.15, \"side_branches_in_cm\": 45.5, \"main_stem_length_in_cm\": 23.5}, {\"stem_diam_bottom_in_cm\": 0.53, \"total_meja\": 38, \"meja_per_100_cm\": 122.6, \"diam_top_in_cm\": 0.15, \"side_branches_in_cm\": 45.5, \"main_stem_length_in_cm\": 31.0}, {\"stem_diam_bottom_in_cm\": 0.56, \"total_meja\": 0, \"meja_per_100_cm\": 0.0, \"diam_top_in_cm\": 0.15, \"side_branches_in_cm\": 45.5, \"main_stem_length_in_cm\": 96.0}, {\"stem_diam_bottom_in_cm\": 0.61, \"total_meja\": 0, \"meja_per_100_cm\": 0.0, \"diam_top_in_cm\": 0.15, \"side_branches_in_cm\": 45.5, \"main_stem_length_in_cm\": 68.0}, {\"stem_diam_bottom_in_cm\": 0.79, \"total_meja\": 7, \"meja_per_100_cm\": 6.9, \"diam_top_in_cm\": 0.15, \"side_branches_in_cm\": 45.5, \"main_stem_length_in_cm\": 102.0}, {\"stem_diam_bottom_in_cm\": 0.44, \"total_meja\": 9, \"meja_per_100_cm\": 28.1, \"diam_top_in_cm\": 0.23, \"side_branches_in_cm\": 45.5, \"main_stem_length_in_cm\": 32.0}, {\"stem_diam_bottom_in_cm\": 0.28, \"total_meja\": 0, \"meja_per_100_cm\": 0.0, \"diam_top_in_cm\": 0.15, \"side_branches_in_cm\": 45.5, \"main_stem_length_in_cm\": 35.0}, {\"stem_diam_bottom_in_cm\": 0.29, \"total_meja\": 0, \"meja_per_100_cm\": 0.0, \"diam_top_in_cm\": 0.06, \"side_branches_in_cm\": 45.5, \"main_stem_length_in_cm\": 39.0}, {\"stem_diam_bottom_in_cm\": 0.68, \"total_meja\": 0, \"meja_per_100_cm\": 0.0, \"diam_top_in_cm\": 0.15, \"side_branches_in_cm\": 45.5, \"main_stem_length_in_cm\": 72.0}, {\"stem_diam_bottom_in_cm\": 0.37, \"total_meja\": 0, \"meja_per_100_cm\": 0.0, \"diam_top_in_cm\": 0.08, \"side_branches_in_cm\": 45.5, \"main_stem_length_in_cm\": 58.0}, {\"stem_diam_bottom_in_cm\": 0.58, \"total_meja\": 19, \"meja_per_100_cm\": 59.4, \"diam_top_in_cm\": 0.15, \"side_branches_in_cm\": 45.5, \"main_stem_length_in_cm\": 32.0}, {\"stem_diam_bottom_in_cm\": 0.78, \"total_meja\": 4, \"meja_per_100_cm\": 3.7, \"diam_top_in_cm\": 0.15, \"side_branches_in_cm\": 45.5, \"main_stem_length_in_cm\": 107.0}, {\"stem_diam_bottom_in_cm\": 0.26, \"total_meja\": 5, \"meja_per_100_cm\": 13.2, \"diam_top_in_cm\": 0.06, \"side_branches_in_cm\": 45.5, \"main_stem_length_in_cm\": 38.0}, {\"stem_diam_bottom_in_cm\": 0.64, \"total_meja\": 6, \"meja_per_100_cm\": 8.2, \"diam_top_in_cm\": 0.38, \"side_branches_in_cm\": 45.5, \"main_stem_length_in_cm\": 73.0}, {\"stem_diam_bottom_in_cm\": 0.35, \"total_meja\": 28, \"meja_per_100_cm\": 133.3, \"diam_top_in_cm\": 0.16, \"side_branches_in_cm\": 45.5, \"main_stem_length_in_cm\": 21.0}, {\"stem_diam_bottom_in_cm\": 0.92, \"total_meja\": 1, \"meja_per_100_cm\": 0.8, \"diam_top_in_cm\": 0.24, \"side_branches_in_cm\": 45.5, \"main_stem_length_in_cm\": 122.0}, {\"stem_diam_bottom_in_cm\": 0.63, \"total_meja\": 19, \"meja_per_100_cm\": 43.2, \"diam_top_in_cm\": 0.15, \"side_branches_in_cm\": 45.5, \"main_stem_length_in_cm\": 44.0}, {\"stem_diam_bottom_in_cm\": 0.22, \"total_meja\": 0, \"meja_per_100_cm\": 0.0, \"diam_top_in_cm\": 0.15, \"side_branches_in_cm\": 45.5, \"main_stem_length_in_cm\": 18.5}, {\"stem_diam_bottom_in_cm\": 0.6, \"total_meja\": 34, \"meja_per_100_cm\": 60.7, \"diam_top_in_cm\": 0.11, \"side_branches_in_cm\": 45.5, \"main_stem_length_in_cm\": 56.0}, {\"stem_diam_bottom_in_cm\": 0.9, \"total_meja\": 0, \"meja_per_100_cm\": 0.0, \"diam_top_in_cm\": 0.26, \"side_branches_in_cm\": 45.5, \"main_stem_length_in_cm\": 79.0}, {\"stem_diam_bottom_in_cm\": 0.73, \"total_meja\": 4, \"meja_per_100_cm\": 13.3, \"diam_top_in_cm\": 0.15, \"side_branches_in_cm\": 45.5, \"main_stem_length_in_cm\": 30.0}, {\"stem_diam_bottom_in_cm\": 0.62, \"total_meja\": 0, \"meja_per_100_cm\": 0.0, \"diam_top_in_cm\": 0.15, \"side_branches_in_cm\": 45.5, \"main_stem_length_in_cm\": 51.0}, {\"stem_diam_bottom_in_cm\": 0.5, \"total_meja\": 17, \"meja_per_100_cm\": 23.6, \"diam_top_in_cm\": 0.15, \"side_branches_in_cm\": 45.5, \"main_stem_length_in_cm\": 72.0}, {\"stem_diam_bottom_in_cm\": 0.87, \"total_meja\": 0, \"meja_per_100_cm\": 0.0, \"diam_top_in_cm\": 0.15, \"side_branches_in_cm\": 58.0, \"main_stem_length_in_cm\": 62.0}, {\"stem_diam_bottom_in_cm\": 0.51, \"total_meja\": 0, \"meja_per_100_cm\": 0.0, \"diam_top_in_cm\": 0.15, \"side_branches_in_cm\": 45.5, \"main_stem_length_in_cm\": 55.0}, {\"stem_diam_bottom_in_cm\": 0.17, \"total_meja\": 0, \"meja_per_100_cm\": 0.0, \"diam_top_in_cm\": 0.15, \"side_branches_in_cm\": 45.5, \"main_stem_length_in_cm\": 14.0}, {\"stem_diam_bottom_in_cm\": 0.48, \"total_meja\": 18, \"meja_per_100_cm\": 30.5, \"diam_top_in_cm\": 0.15, \"side_branches_in_cm\": 45.5, \"main_stem_length_in_cm\": 59.0}, {\"stem_diam_bottom_in_cm\": 0.48, \"total_meja\": 0, \"meja_per_100_cm\": 0.0, \"diam_top_in_cm\": 0.03, \"side_branches_in_cm\": 45.5, \"main_stem_length_in_cm\": 75.0}, {\"stem_diam_bottom_in_cm\": 0.25, \"total_meja\": 0, \"meja_per_100_cm\": 0.0, \"diam_top_in_cm\": 0.06, \"side_branches_in_cm\": 45.5, \"main_stem_length_in_cm\": 47.0}, {\"stem_diam_bottom_in_cm\": 0.56, \"total_meja\": 0, \"meja_per_100_cm\": 0.0, \"diam_top_in_cm\": 0.15, \"side_branches_in_cm\": 45.5, \"main_stem_length_in_cm\": 66.0}, {\"stem_diam_bottom_in_cm\": 0.54, \"total_meja\": 11, \"meja_per_100_cm\": 20.0, \"diam_top_in_cm\": 0.15, \"side_branches_in_cm\": 45.5, \"main_stem_length_in_cm\": 55.0}, {\"stem_diam_bottom_in_cm\": 0.82, \"total_meja\": 0, \"meja_per_100_cm\": 0.0, \"diam_top_in_cm\": 0.23, \"side_branches_in_cm\": 45.5, \"main_stem_length_in_cm\": 65.0}, {\"stem_diam_bottom_in_cm\": 0.46, \"total_meja\": 28, \"meja_per_100_cm\": 66.7, \"diam_top_in_cm\": 0.15, \"side_branches_in_cm\": 45.5, \"main_stem_length_in_cm\": 42.0}, {\"stem_diam_bottom_in_cm\": 0.34, \"total_meja\": 15, \"meja_per_100_cm\": 44.8, \"diam_top_in_cm\": 0.1, \"side_branches_in_cm\": 45.5, \"main_stem_length_in_cm\": 33.5}, {\"stem_diam_bottom_in_cm\": 0.53, \"total_meja\": 0, \"meja_per_100_cm\": 0.0, \"diam_top_in_cm\": 0.09, \"side_branches_in_cm\": 45.5, \"main_stem_length_in_cm\": 65.0}, {\"stem_diam_bottom_in_cm\": 0.35, \"total_meja\": 10, \"meja_per_100_cm\": 10.4, \"diam_top_in_cm\": 0.15, \"side_branches_in_cm\": 45.5, \"main_stem_length_in_cm\": 96.0}, {\"stem_diam_bottom_in_cm\": 0.98, \"total_meja\": 6, \"meja_per_100_cm\": 5.0, \"diam_top_in_cm\": 0.15, \"side_branches_in_cm\": 45.5, \"main_stem_length_in_cm\": 120.0}, {\"stem_diam_bottom_in_cm\": 0.19, \"total_meja\": 0, \"meja_per_100_cm\": 0.0, \"diam_top_in_cm\": 0.15, \"side_branches_in_cm\": 45.5, \"main_stem_length_in_cm\": 11.0}, {\"stem_diam_bottom_in_cm\": 0.19, \"total_meja\": 3, \"meja_per_100_cm\": 13.6, \"diam_top_in_cm\": 0.08, \"side_branches_in_cm\": 45.5, \"main_stem_length_in_cm\": 22.0}, {\"stem_diam_bottom_in_cm\": 0.47, \"total_meja\": 8, \"meja_per_100_cm\": 16.0, \"diam_top_in_cm\": 0.15, \"side_branches_in_cm\": 45.5, \"main_stem_length_in_cm\": 50.0}, {\"stem_diam_bottom_in_cm\": 0.45, \"total_meja\": 8, \"meja_per_100_cm\": 17.4, \"diam_top_in_cm\": 0.15, \"side_branches_in_cm\": 45.5, \"main_stem_length_in_cm\": 46.0}, {\"stem_diam_bottom_in_cm\": 0.5, \"total_meja\": 0, \"meja_per_100_cm\": 0.0, \"diam_top_in_cm\": 0.15, \"side_branches_in_cm\": 45.5, \"main_stem_length_in_cm\": 53.0}, {\"stem_diam_bottom_in_cm\": 0.51, \"total_meja\": 23, \"meja_per_100_cm\": 104.5, \"diam_top_in_cm\": 0.23, \"side_branches_in_cm\": 45.5, \"main_stem_length_in_cm\": 22.0}, {\"stem_diam_bottom_in_cm\": 0.6, \"total_meja\": 0, \"meja_per_100_cm\": 0.0, \"diam_top_in_cm\": 0.15, \"side_branches_in_cm\": 60.0, \"main_stem_length_in_cm\": 24.0}, {\"stem_diam_bottom_in_cm\": 0.23, \"total_meja\": 0, \"meja_per_100_cm\": 0.0, \"diam_top_in_cm\": 0.15, \"side_branches_in_cm\": 45.5, \"main_stem_length_in_cm\": 11.0}, {\"stem_diam_bottom_in_cm\": 0.19, \"total_meja\": 0, \"meja_per_100_cm\": 0.0, \"diam_top_in_cm\": 0.15, \"side_branches_in_cm\": 45.5, \"main_stem_length_in_cm\": 12.0}, {\"stem_diam_bottom_in_cm\": 0.52, \"total_meja\": 22, \"meja_per_100_cm\": 48.9, \"diam_top_in_cm\": 0.15, \"side_branches_in_cm\": 45.5, \"main_stem_length_in_cm\": 45.0}, {\"stem_diam_bottom_in_cm\": 0.48, \"total_meja\": 11, \"meja_per_100_cm\": 25.0, \"diam_top_in_cm\": 0.15, \"side_branches_in_cm\": 45.5, \"main_stem_length_in_cm\": 44.0}, {\"stem_diam_bottom_in_cm\": 0.39, \"total_meja\": 0, \"meja_per_100_cm\": 0.0, \"diam_top_in_cm\": 0.15, \"side_branches_in_cm\": 45.5, \"main_stem_length_in_cm\": 29.0}, {\"stem_diam_bottom_in_cm\": 0.31, \"total_meja\": 0, \"meja_per_100_cm\": 0.0, \"diam_top_in_cm\": 0.15, \"side_branches_in_cm\": 45.5, \"main_stem_length_in_cm\": 26.0}, {\"stem_diam_bottom_in_cm\": 0.62, \"total_meja\": 3, \"meja_per_100_cm\": 3.9, \"diam_top_in_cm\": 0.15, \"side_branches_in_cm\": 45.5, \"main_stem_length_in_cm\": 76.0}, {\"stem_diam_bottom_in_cm\": 0.41, \"total_meja\": 0, \"meja_per_100_cm\": 0.0, \"diam_top_in_cm\": 0.06, \"side_branches_in_cm\": 45.5, \"main_stem_length_in_cm\": 81.0}, {\"stem_diam_bottom_in_cm\": 0.6, \"total_meja\": 6, \"meja_per_100_cm\": 12.0, \"diam_top_in_cm\": 0.15, \"side_branches_in_cm\": 45.5, \"main_stem_length_in_cm\": 50.0}, {\"stem_diam_bottom_in_cm\": 0.56, \"total_meja\": 0, \"meja_per_100_cm\": 0.0, \"diam_top_in_cm\": 0.45, \"side_branches_in_cm\": 45.5, \"main_stem_length_in_cm\": 45.0}, {\"stem_diam_bottom_in_cm\": 0.34, \"total_meja\": 0, \"meja_per_100_cm\": 0.0, \"diam_top_in_cm\": 0.03, \"side_branches_in_cm\": 45.5, \"main_stem_length_in_cm\": 67.0}, {\"stem_diam_bottom_in_cm\": 0.49, \"total_meja\": 0, \"meja_per_100_cm\": 0.0, \"diam_top_in_cm\": 0.15, \"side_branches_in_cm\": 45.5, \"main_stem_length_in_cm\": 79.5}, {\"stem_diam_bottom_in_cm\": 0.61, \"total_meja\": 17, \"meja_per_100_cm\": 50.0, \"diam_top_in_cm\": 0.2, \"side_branches_in_cm\": 45.5, \"main_stem_length_in_cm\": 34.0}, {\"stem_diam_bottom_in_cm\": 0.8, \"total_meja\": 21, \"meja_per_100_cm\": 33.3, \"diam_top_in_cm\": 0.15, \"side_branches_in_cm\": 45.5, \"main_stem_length_in_cm\": 63.0}, {\"stem_diam_bottom_in_cm\": 0.51, \"total_meja\": 0, \"meja_per_100_cm\": 0.0, \"diam_top_in_cm\": 0.15, \"side_branches_in_cm\": 45.5, \"main_stem_length_in_cm\": 44.0}, {\"stem_diam_bottom_in_cm\": 0.6, \"total_meja\": 0, \"meja_per_100_cm\": 0.0, \"diam_top_in_cm\": 0.15, \"side_branches_in_cm\": 134.0, \"main_stem_length_in_cm\": 44.0}, {\"stem_diam_bottom_in_cm\": 0.57, \"total_meja\": 0, \"meja_per_100_cm\": 0.0, \"diam_top_in_cm\": 0.04, \"side_branches_in_cm\": 45.5, \"main_stem_length_in_cm\": 92.0}, {\"stem_diam_bottom_in_cm\": 0.33, \"total_meja\": 17, \"meja_per_100_cm\": 63.0, \"diam_top_in_cm\": 0.13, \"side_branches_in_cm\": 45.5, \"main_stem_length_in_cm\": 27.0}, {\"stem_diam_bottom_in_cm\": 0.41, \"total_meja\": 0, \"meja_per_100_cm\": 0.0, \"diam_top_in_cm\": 0.15, \"side_branches_in_cm\": 45.5, \"main_stem_length_in_cm\": 71.0}, {\"stem_diam_bottom_in_cm\": 0.73, \"total_meja\": 0, \"meja_per_100_cm\": 0.0, \"diam_top_in_cm\": 0.15, \"side_branches_in_cm\": 50.0, \"main_stem_length_in_cm\": 79.0}, {\"stem_diam_bottom_in_cm\": 0.75, \"total_meja\": 0, \"meja_per_100_cm\": 0.0, \"diam_top_in_cm\": 0.15, \"side_branches_in_cm\": 45.0, \"main_stem_length_in_cm\": 81.0}, {\"stem_diam_bottom_in_cm\": 0.43, \"total_meja\": 0, \"meja_per_100_cm\": 0.0, \"diam_top_in_cm\": 0.15, \"side_branches_in_cm\": 45.5, \"main_stem_length_in_cm\": 61.0}, {\"stem_diam_bottom_in_cm\": 0.68, \"total_meja\": 8, \"meja_per_100_cm\": 11.6, \"diam_top_in_cm\": 0.15, \"side_branches_in_cm\": 45.5, \"main_stem_length_in_cm\": 69.0}, {\"stem_diam_bottom_in_cm\": 0.73, \"total_meja\": 0, \"meja_per_100_cm\": 0.0, \"diam_top_in_cm\": 0.15, \"side_branches_in_cm\": 45.5, \"main_stem_length_in_cm\": 54.0}, {\"stem_diam_bottom_in_cm\": 0.44, \"total_meja\": 22, \"meja_per_100_cm\": 44.0, \"diam_top_in_cm\": 0.15, \"side_branches_in_cm\": 45.5, \"main_stem_length_in_cm\": 50.0}, {\"stem_diam_bottom_in_cm\": 0.25, \"total_meja\": 0, \"meja_per_100_cm\": 0.0, \"diam_top_in_cm\": 0.15, \"side_branches_in_cm\": 45.5, \"main_stem_length_in_cm\": 42.0}, {\"stem_diam_bottom_in_cm\": 0.46, \"total_meja\": 0, \"meja_per_100_cm\": 0.0, \"diam_top_in_cm\": 0.15, \"side_branches_in_cm\": 45.5, \"main_stem_length_in_cm\": 68.0}, {\"stem_diam_bottom_in_cm\": 0.91, \"total_meja\": 9, \"meja_per_100_cm\": 9.2, \"diam_top_in_cm\": 0.25, \"side_branches_in_cm\": 45.5, \"main_stem_length_in_cm\": 98.0}, {\"stem_diam_bottom_in_cm\": 0.46, \"total_meja\": 0, \"meja_per_100_cm\": 0.0, \"diam_top_in_cm\": 0.12, \"side_branches_in_cm\": 45.5, \"main_stem_length_in_cm\": 83.0}, {\"stem_diam_bottom_in_cm\": 0.52, \"total_meja\": 0, \"meja_per_100_cm\": 0.0, \"diam_top_in_cm\": 0.15, \"side_branches_in_cm\": 45.5, \"main_stem_length_in_cm\": 87.0}, {\"stem_diam_bottom_in_cm\": 0.38, \"total_meja\": 0, \"meja_per_100_cm\": 0.0, \"diam_top_in_cm\": 0.15, \"side_branches_in_cm\": 45.5, \"main_stem_length_in_cm\": 74.0}, {\"stem_diam_bottom_in_cm\": 0.4, \"total_meja\": 5, \"meja_per_100_cm\": 8.3, \"diam_top_in_cm\": 0.15, \"side_branches_in_cm\": 45.5, \"main_stem_length_in_cm\": 60.0}, {\"stem_diam_bottom_in_cm\": 0.69, \"total_meja\": 5, \"meja_per_100_cm\": 5.1, \"diam_top_in_cm\": 0.15, \"side_branches_in_cm\": 45.5, \"main_stem_length_in_cm\": 99.0}, {\"stem_diam_bottom_in_cm\": 0.4, \"total_meja\": 9, \"meja_per_100_cm\": 21.4, \"diam_top_in_cm\": 0.15, \"side_branches_in_cm\": 45.5, \"main_stem_length_in_cm\": 42.0}, {\"stem_diam_bottom_in_cm\": 0.63, \"total_meja\": 23, \"meja_per_100_cm\": 38.3, \"diam_top_in_cm\": 0.15, \"side_branches_in_cm\": 45.5, \"main_stem_length_in_cm\": 60.0}, {\"stem_diam_bottom_in_cm\": 0.41, \"total_meja\": 2, \"meja_per_100_cm\": 3.0, \"diam_top_in_cm\": 0.1, \"side_branches_in_cm\": 45.5, \"main_stem_length_in_cm\": 66.0}, {\"stem_diam_bottom_in_cm\": 0.63, \"total_meja\": 21, \"meja_per_100_cm\": 37.5, \"diam_top_in_cm\": 0.15, \"side_branches_in_cm\": 45.5, \"main_stem_length_in_cm\": 56.0}, {\"stem_diam_bottom_in_cm\": 0.75, \"total_meja\": 0, \"meja_per_100_cm\": 0.0, \"diam_top_in_cm\": 0.15, \"side_branches_in_cm\": 45.5, \"main_stem_length_in_cm\": 64.0}, {\"stem_diam_bottom_in_cm\": 0.59, \"total_meja\": 0, \"meja_per_100_cm\": 0.0, \"diam_top_in_cm\": 0.15, \"side_branches_in_cm\": 45.5, \"main_stem_length_in_cm\": 84.0}, {\"stem_diam_bottom_in_cm\": 0.49, \"total_meja\": 4, \"meja_per_100_cm\": 6.2, \"diam_top_in_cm\": 0.06, \"side_branches_in_cm\": 45.5, \"main_stem_length_in_cm\": 65.0}, {\"stem_diam_bottom_in_cm\": 0.56, \"total_meja\": 0, \"meja_per_100_cm\": 0.0, \"diam_top_in_cm\": 0.07, \"side_branches_in_cm\": 45.5, \"main_stem_length_in_cm\": 64.0}, {\"stem_diam_bottom_in_cm\": 0.34, \"total_meja\": 0, \"meja_per_100_cm\": 0.0, \"diam_top_in_cm\": 0.15, \"side_branches_in_cm\": 45.5, \"main_stem_length_in_cm\": 49.0}, {\"stem_diam_bottom_in_cm\": 0.61, \"total_meja\": 3, \"meja_per_100_cm\": 6.3, \"diam_top_in_cm\": 0.15, \"side_branches_in_cm\": 21.0, \"main_stem_length_in_cm\": 48.0}, {\"stem_diam_bottom_in_cm\": 0.17, \"total_meja\": 0, \"meja_per_100_cm\": 0.0, \"diam_top_in_cm\": 0.15, \"side_branches_in_cm\": 45.5, \"main_stem_length_in_cm\": 13.5}, {\"stem_diam_bottom_in_cm\": 0.53, \"total_meja\": 0, \"meja_per_100_cm\": 0.0, \"diam_top_in_cm\": 0.15, \"side_branches_in_cm\": 45.5, \"main_stem_length_in_cm\": 41.0}, {\"stem_diam_bottom_in_cm\": 0.58, \"total_meja\": 0, \"meja_per_100_cm\": 0.0, \"diam_top_in_cm\": 0.15, \"side_branches_in_cm\": 45.5, \"main_stem_length_in_cm\": 26.0}, {\"stem_diam_bottom_in_cm\": 0.42, \"total_meja\": 8, \"meja_per_100_cm\": 18.2, \"diam_top_in_cm\": 0.16, \"side_branches_in_cm\": 45.5, \"main_stem_length_in_cm\": 44.0}, {\"stem_diam_bottom_in_cm\": 0.6, \"total_meja\": 14, \"meja_per_100_cm\": 25.9, \"diam_top_in_cm\": 0.35, \"side_branches_in_cm\": 45.5, \"main_stem_length_in_cm\": 54.0}, {\"stem_diam_bottom_in_cm\": 0.56, \"total_meja\": 5, \"meja_per_100_cm\": 8.6, \"diam_top_in_cm\": 0.15, \"side_branches_in_cm\": 194.0, \"main_stem_length_in_cm\": 58.0}, {\"stem_diam_bottom_in_cm\": 0.7, \"total_meja\": 15, \"meja_per_100_cm\": 22.7, \"diam_top_in_cm\": 0.15, \"side_branches_in_cm\": 45.5, \"main_stem_length_in_cm\": 66.0}, {\"stem_diam_bottom_in_cm\": 0.32, \"total_meja\": 0, \"meja_per_100_cm\": 0.0, \"diam_top_in_cm\": 0.15, \"side_branches_in_cm\": 45.5, \"main_stem_length_in_cm\": 29.0}, {\"stem_diam_bottom_in_cm\": 0.43, \"total_meja\": 0, \"meja_per_100_cm\": 0.0, \"diam_top_in_cm\": 0.15, \"side_branches_in_cm\": 36.0, \"main_stem_length_in_cm\": 73.0}]}}, {\"mode\": \"vega-lite\"});\n",
       "</script>"
      ],
      "text/plain": [
       "alt.RepeatChart(...)"
      ]
     },
     "execution_count": 38,
     "metadata": {},
     "output_type": "execute_result"
    }
   ],
   "source": [
    "alt.Chart(df_train).mark_bar().encode(\n",
    "    alt.X(alt.repeat(\"column\"), type=\"quantitative\", bin=True),\n",
    "    y='count()',\n",
    ").properties(\n",
    "    width=150,\n",
    "    height=150\n",
    ").repeat(\n",
    "    column=[y_label] + features\n",
    ")"
   ]
  },
  {
   "cell_type": "markdown",
   "metadata": {},
   "source": [
    "### 4.2 Exploratory data analysis"
   ]
  },
  {
   "cell_type": "markdown",
   "metadata": {},
   "source": [
    "EDA uses a variety of methods to discover patterns in the data. These include scatterplots, correlation analysis, clustering and other exploratory visualizations. The focus is on gaining new insights and understanding the data set."
   ]
  },
  {
   "cell_type": "markdown",
   "metadata": {},
   "source": [
    "First, we create a grid matrix of scatter plots. This matrix provides a visual overview of the relationship between different pairs of variables in the training dataset. By looking at the scatter plots, patterns such as linear relationships, clustering or outliers can be identified.\n",
    "The repetition in both the rows and columns makes it possible to look at relationships between the target variable (y_label) and the other features, as well as between the features themselves."
   ]
  },
  {
   "cell_type": "code",
   "execution_count": 39,
   "metadata": {
    "scrolled": true
   },
   "outputs": [
    {
     "data": {
      "text/html": [
       "\n",
       "<style>\n",
       "  #altair-viz-703ee05459044882a8dead45453164fa.vega-embed {\n",
       "    width: 100%;\n",
       "    display: flex;\n",
       "  }\n",
       "\n",
       "  #altair-viz-703ee05459044882a8dead45453164fa.vega-embed details,\n",
       "  #altair-viz-703ee05459044882a8dead45453164fa.vega-embed details summary {\n",
       "    position: relative;\n",
       "  }\n",
       "</style>\n",
       "<div id=\"altair-viz-703ee05459044882a8dead45453164fa\"></div>\n",
       "<script type=\"text/javascript\">\n",
       "  var VEGA_DEBUG = (typeof VEGA_DEBUG == \"undefined\") ? {} : VEGA_DEBUG;\n",
       "  (function(spec, embedOpt){\n",
       "    let outputDiv = document.currentScript.previousElementSibling;\n",
       "    if (outputDiv.id !== \"altair-viz-703ee05459044882a8dead45453164fa\") {\n",
       "      outputDiv = document.getElementById(\"altair-viz-703ee05459044882a8dead45453164fa\");\n",
       "    }\n",
       "    const paths = {\n",
       "      \"vega\": \"https://cdn.jsdelivr.net/npm/vega@5?noext\",\n",
       "      \"vega-lib\": \"https://cdn.jsdelivr.net/npm/vega-lib?noext\",\n",
       "      \"vega-lite\": \"https://cdn.jsdelivr.net/npm/vega-lite@5.15.1?noext\",\n",
       "      \"vega-embed\": \"https://cdn.jsdelivr.net/npm/vega-embed@6?noext\",\n",
       "    };\n",
       "\n",
       "    function maybeLoadScript(lib, version) {\n",
       "      var key = `${lib.replace(\"-\", \"\")}_version`;\n",
       "      return (VEGA_DEBUG[key] == version) ?\n",
       "        Promise.resolve(paths[lib]) :\n",
       "        new Promise(function(resolve, reject) {\n",
       "          var s = document.createElement('script');\n",
       "          document.getElementsByTagName(\"head\")[0].appendChild(s);\n",
       "          s.async = true;\n",
       "          s.onload = () => {\n",
       "            VEGA_DEBUG[key] = version;\n",
       "            return resolve(paths[lib]);\n",
       "          };\n",
       "          s.onerror = () => reject(`Error loading script: ${paths[lib]}`);\n",
       "          s.src = paths[lib];\n",
       "        });\n",
       "    }\n",
       "\n",
       "    function showError(err) {\n",
       "      outputDiv.innerHTML = `<div class=\"error\" style=\"color:red;\">${err}</div>`;\n",
       "      throw err;\n",
       "    }\n",
       "\n",
       "    function displayChart(vegaEmbed) {\n",
       "      vegaEmbed(outputDiv, spec, embedOpt)\n",
       "        .catch(err => showError(`Javascript Error: ${err.message}<br>This usually means there's a typo in your chart specification. See the javascript console for the full traceback.`));\n",
       "    }\n",
       "\n",
       "    if(typeof define === \"function\" && define.amd) {\n",
       "      requirejs.config({paths});\n",
       "      require([\"vega-embed\"], displayChart, err => showError(`Error loading script: ${err.message}`));\n",
       "    } else {\n",
       "      maybeLoadScript(\"vega\", \"5\")\n",
       "        .then(() => maybeLoadScript(\"vega-lite\", \"5.15.1\"))\n",
       "        .then(() => maybeLoadScript(\"vega-embed\", \"6\"))\n",
       "        .catch(showError)\n",
       "        .then(() => displayChart(vegaEmbed));\n",
       "    }\n",
       "  })({\"config\": {\"view\": {\"continuousWidth\": 300, \"continuousHeight\": 300}}, \"repeat\": {\"column\": [\"main_stem_length_in_cm\", \"stem_diam_bottom_in_cm\", \"total_meja\", \"meja_per_100_cm\", \"diam_top_in_cm\", \"side_branches_in_cm\"], \"row\": [\"main_stem_length_in_cm\", \"stem_diam_bottom_in_cm\", \"total_meja\", \"meja_per_100_cm\", \"diam_top_in_cm\", \"side_branches_in_cm\"]}, \"spec\": {\"data\": {\"name\": \"data-1b922635cec8a4ff75c7ecee47f1022e\"}, \"mark\": {\"type\": \"circle\"}, \"encoding\": {\"x\": {\"field\": {\"repeat\": \"column\"}, \"type\": \"quantitative\"}, \"y\": {\"field\": {\"repeat\": \"row\"}, \"type\": \"quantitative\"}}, \"height\": 150, \"name\": \"view_1\", \"width\": 150}, \"params\": [{\"name\": \"param_1\", \"select\": {\"type\": \"interval\", \"encodings\": [\"x\", \"y\"]}, \"bind\": \"scales\", \"views\": [\"view_1_child__row_main_stem_length_in_cmcolumn_main_stem_length_in_cm\", \"view_1_child__row_main_stem_length_in_cmcolumn_stem_diam_bottom_in_cm\", \"view_1_child__row_main_stem_length_in_cmcolumn_total_meja\", \"view_1_child__row_main_stem_length_in_cmcolumn_meja_per_100_cm\", \"view_1_child__row_main_stem_length_in_cmcolumn_diam_top_in_cm\", \"view_1_child__row_main_stem_length_in_cmcolumn_side_branches_in_cm\", \"view_1_child__row_stem_diam_bottom_in_cmcolumn_main_stem_length_in_cm\", \"view_1_child__row_stem_diam_bottom_in_cmcolumn_stem_diam_bottom_in_cm\", \"view_1_child__row_stem_diam_bottom_in_cmcolumn_total_meja\", \"view_1_child__row_stem_diam_bottom_in_cmcolumn_meja_per_100_cm\", \"view_1_child__row_stem_diam_bottom_in_cmcolumn_diam_top_in_cm\", \"view_1_child__row_stem_diam_bottom_in_cmcolumn_side_branches_in_cm\", \"view_1_child__row_total_mejacolumn_main_stem_length_in_cm\", \"view_1_child__row_total_mejacolumn_stem_diam_bottom_in_cm\", \"view_1_child__row_total_mejacolumn_total_meja\", \"view_1_child__row_total_mejacolumn_meja_per_100_cm\", \"view_1_child__row_total_mejacolumn_diam_top_in_cm\", \"view_1_child__row_total_mejacolumn_side_branches_in_cm\", \"view_1_child__row_meja_per_100_cmcolumn_main_stem_length_in_cm\", \"view_1_child__row_meja_per_100_cmcolumn_stem_diam_bottom_in_cm\", \"view_1_child__row_meja_per_100_cmcolumn_total_meja\", \"view_1_child__row_meja_per_100_cmcolumn_meja_per_100_cm\", \"view_1_child__row_meja_per_100_cmcolumn_diam_top_in_cm\", \"view_1_child__row_meja_per_100_cmcolumn_side_branches_in_cm\", \"view_1_child__row_diam_top_in_cmcolumn_main_stem_length_in_cm\", \"view_1_child__row_diam_top_in_cmcolumn_stem_diam_bottom_in_cm\", \"view_1_child__row_diam_top_in_cmcolumn_total_meja\", \"view_1_child__row_diam_top_in_cmcolumn_meja_per_100_cm\", \"view_1_child__row_diam_top_in_cmcolumn_diam_top_in_cm\", \"view_1_child__row_diam_top_in_cmcolumn_side_branches_in_cm\", \"view_1_child__row_side_branches_in_cmcolumn_main_stem_length_in_cm\", \"view_1_child__row_side_branches_in_cmcolumn_stem_diam_bottom_in_cm\", \"view_1_child__row_side_branches_in_cmcolumn_total_meja\", \"view_1_child__row_side_branches_in_cmcolumn_meja_per_100_cm\", \"view_1_child__row_side_branches_in_cmcolumn_diam_top_in_cm\", \"view_1_child__row_side_branches_in_cmcolumn_side_branches_in_cm\"]}], \"$schema\": \"https://vega.github.io/schema/vega-lite/v5.15.1.json\", \"datasets\": {\"data-1b922635cec8a4ff75c7ecee47f1022e\": [{\"stem_diam_bottom_in_cm\": 0.42, \"total_meja\": 9, \"meja_per_100_cm\": 21.4, \"diam_top_in_cm\": 0.2, \"side_branches_in_cm\": 45.5, \"main_stem_length_in_cm\": 42.0}, {\"stem_diam_bottom_in_cm\": 0.48, \"total_meja\": 14, \"meja_per_100_cm\": 37.8, \"diam_top_in_cm\": 0.15, \"side_branches_in_cm\": 45.5, \"main_stem_length_in_cm\": 37.0}, {\"stem_diam_bottom_in_cm\": 0.42, \"total_meja\": 1, \"meja_per_100_cm\": 1.9, \"diam_top_in_cm\": 0.15, \"side_branches_in_cm\": 45.5, \"main_stem_length_in_cm\": 53.0}, {\"stem_diam_bottom_in_cm\": 0.61, \"total_meja\": 0, \"meja_per_100_cm\": 0.0, \"diam_top_in_cm\": 0.15, \"side_branches_in_cm\": 55.0, \"main_stem_length_in_cm\": 51.0}, {\"stem_diam_bottom_in_cm\": 0.55, \"total_meja\": 10, \"meja_per_100_cm\": 19.2, \"diam_top_in_cm\": 0.15, \"side_branches_in_cm\": 45.5, \"main_stem_length_in_cm\": 52.0}, {\"stem_diam_bottom_in_cm\": 0.64, \"total_meja\": 0, \"meja_per_100_cm\": 0.0, \"diam_top_in_cm\": 0.15, \"side_branches_in_cm\": 45.5, \"main_stem_length_in_cm\": 60.0}, {\"stem_diam_bottom_in_cm\": 0.31, \"total_meja\": 8, \"meja_per_100_cm\": 30.8, \"diam_top_in_cm\": 0.15, \"side_branches_in_cm\": 45.5, \"main_stem_length_in_cm\": 26.0}, {\"stem_diam_bottom_in_cm\": 0.36, \"total_meja\": 0, \"meja_per_100_cm\": 0.0, \"diam_top_in_cm\": 0.15, \"side_branches_in_cm\": 45.5, \"main_stem_length_in_cm\": 19.0}, {\"stem_diam_bottom_in_cm\": 0.77, \"total_meja\": 1, \"meja_per_100_cm\": 1.0, \"diam_top_in_cm\": 0.15, \"side_branches_in_cm\": 45.5, \"main_stem_length_in_cm\": 96.0}, {\"stem_diam_bottom_in_cm\": 0.26, \"total_meja\": 0, \"meja_per_100_cm\": 0.0, \"diam_top_in_cm\": 0.15, \"side_branches_in_cm\": 45.5, \"main_stem_length_in_cm\": 15.5}, {\"stem_diam_bottom_in_cm\": 0.62, \"total_meja\": 26, \"meja_per_100_cm\": 63.4, \"diam_top_in_cm\": 0.15, \"side_branches_in_cm\": 45.5, \"main_stem_length_in_cm\": 41.0}, {\"stem_diam_bottom_in_cm\": 0.28, \"total_meja\": 0, \"meja_per_100_cm\": 0.0, \"diam_top_in_cm\": 0.15, \"side_branches_in_cm\": 45.5, \"main_stem_length_in_cm\": 16.5}, {\"stem_diam_bottom_in_cm\": 0.88, \"total_meja\": 0, \"meja_per_100_cm\": 0.0, \"diam_top_in_cm\": 0.15, \"side_branches_in_cm\": 49.0, \"main_stem_length_in_cm\": 70.0}, {\"stem_diam_bottom_in_cm\": 0.55, \"total_meja\": 5, \"meja_per_100_cm\": 6.0, \"diam_top_in_cm\": 0.15, \"side_branches_in_cm\": 45.5, \"main_stem_length_in_cm\": 84.0}, {\"stem_diam_bottom_in_cm\": 0.39, \"total_meja\": 0, \"meja_per_100_cm\": 0.0, \"diam_top_in_cm\": 0.11, \"side_branches_in_cm\": 45.5, \"main_stem_length_in_cm\": 65.0}, {\"stem_diam_bottom_in_cm\": 0.26, \"total_meja\": 0, \"meja_per_100_cm\": 0.0, \"diam_top_in_cm\": 0.15, \"side_branches_in_cm\": 45.5, \"main_stem_length_in_cm\": 39.0}, {\"stem_diam_bottom_in_cm\": 0.31, \"total_meja\": 0, \"meja_per_100_cm\": 0.0, \"diam_top_in_cm\": 0.15, \"side_branches_in_cm\": 45.5, \"main_stem_length_in_cm\": 23.0}, {\"stem_diam_bottom_in_cm\": 0.74, \"total_meja\": 18, \"meja_per_100_cm\": 26.9, \"diam_top_in_cm\": 0.15, \"side_branches_in_cm\": 45.5, \"main_stem_length_in_cm\": 67.0}, {\"stem_diam_bottom_in_cm\": 0.31, \"total_meja\": 7, \"meja_per_100_cm\": 21.9, \"diam_top_in_cm\": 0.08, \"side_branches_in_cm\": 45.5, \"main_stem_length_in_cm\": 32.0}, {\"stem_diam_bottom_in_cm\": 0.31, \"total_meja\": 17, \"meja_per_100_cm\": 40.5, \"diam_top_in_cm\": 0.1, \"side_branches_in_cm\": 45.5, \"main_stem_length_in_cm\": 42.0}, {\"stem_diam_bottom_in_cm\": 0.4, \"total_meja\": 0, \"meja_per_100_cm\": 0.0, \"diam_top_in_cm\": 0.15, \"side_branches_in_cm\": 45.5, \"main_stem_length_in_cm\": 31.0}, {\"stem_diam_bottom_in_cm\": 0.31, \"total_meja\": 0, \"meja_per_100_cm\": 0.0, \"diam_top_in_cm\": 0.15, \"side_branches_in_cm\": 45.5, \"main_stem_length_in_cm\": 16.5}, {\"stem_diam_bottom_in_cm\": 0.56, \"total_meja\": 0, \"meja_per_100_cm\": 0.0, \"diam_top_in_cm\": 0.15, \"side_branches_in_cm\": 45.5, \"main_stem_length_in_cm\": 40.0}, {\"stem_diam_bottom_in_cm\": 0.57, \"total_meja\": 0, \"meja_per_100_cm\": 0.0, \"diam_top_in_cm\": 0.15, \"side_branches_in_cm\": 45.5, \"main_stem_length_in_cm\": 44.0}, {\"stem_diam_bottom_in_cm\": 0.52, \"total_meja\": 7, \"meja_per_100_cm\": 10.4, \"diam_top_in_cm\": 0.15, \"side_branches_in_cm\": 45.5, \"main_stem_length_in_cm\": 67.0}, {\"stem_diam_bottom_in_cm\": 0.67, \"total_meja\": 0, \"meja_per_100_cm\": 0.0, \"diam_top_in_cm\": 0.15, \"side_branches_in_cm\": 127.0, \"main_stem_length_in_cm\": 27.0}, {\"stem_diam_bottom_in_cm\": 0.55, \"total_meja\": 0, \"meja_per_100_cm\": 0.0, \"diam_top_in_cm\": 0.15, \"side_branches_in_cm\": 45.5, \"main_stem_length_in_cm\": 46.0}, {\"stem_diam_bottom_in_cm\": 0.53, \"total_meja\": 0, \"meja_per_100_cm\": 0.0, \"diam_top_in_cm\": 0.15, \"side_branches_in_cm\": 22.0, \"main_stem_length_in_cm\": 35.0}, {\"stem_diam_bottom_in_cm\": 0.42, \"total_meja\": 5, \"meja_per_100_cm\": 13.2, \"diam_top_in_cm\": 0.04, \"side_branches_in_cm\": 45.5, \"main_stem_length_in_cm\": 38.0}, {\"stem_diam_bottom_in_cm\": 0.7, \"total_meja\": 39, \"meja_per_100_cm\": 54.2, \"diam_top_in_cm\": 0.15, \"side_branches_in_cm\": 45.5, \"main_stem_length_in_cm\": 72.0}, {\"stem_diam_bottom_in_cm\": 0.62, \"total_meja\": 0, \"meja_per_100_cm\": 0.0, \"diam_top_in_cm\": 0.15, \"side_branches_in_cm\": 45.5, \"main_stem_length_in_cm\": 79.0}, {\"stem_diam_bottom_in_cm\": 0.63, \"total_meja\": 0, \"meja_per_100_cm\": 0.0, \"diam_top_in_cm\": 0.15, \"side_branches_in_cm\": 45.5, \"main_stem_length_in_cm\": 35.0}, {\"stem_diam_bottom_in_cm\": 0.23, \"total_meja\": 0, \"meja_per_100_cm\": 0.0, \"diam_top_in_cm\": 0.15, \"side_branches_in_cm\": 45.5, \"main_stem_length_in_cm\": 8.0}, {\"stem_diam_bottom_in_cm\": 0.33, \"total_meja\": 0, \"meja_per_100_cm\": 0.0, \"diam_top_in_cm\": 0.15, \"side_branches_in_cm\": 45.5, \"main_stem_length_in_cm\": 33.0}, {\"stem_diam_bottom_in_cm\": 0.36, \"total_meja\": 13, \"meja_per_100_cm\": 48.1, \"diam_top_in_cm\": 0.19, \"side_branches_in_cm\": 45.5, \"main_stem_length_in_cm\": 27.0}, {\"stem_diam_bottom_in_cm\": 0.19, \"total_meja\": 0, \"meja_per_100_cm\": 0.0, \"diam_top_in_cm\": 0.15, \"side_branches_in_cm\": 45.5, \"main_stem_length_in_cm\": 10.5}, {\"stem_diam_bottom_in_cm\": 0.33, \"total_meja\": 12, \"meja_per_100_cm\": 40.0, \"diam_top_in_cm\": 0.12, \"side_branches_in_cm\": 45.5, \"main_stem_length_in_cm\": 30.0}, {\"stem_diam_bottom_in_cm\": 0.65, \"total_meja\": 7, \"meja_per_100_cm\": 12.1, \"diam_top_in_cm\": 0.15, \"side_branches_in_cm\": 45.5, \"main_stem_length_in_cm\": 58.0}, {\"stem_diam_bottom_in_cm\": 0.16, \"total_meja\": 0, \"meja_per_100_cm\": 0.0, \"diam_top_in_cm\": 0.15, \"side_branches_in_cm\": 45.5, \"main_stem_length_in_cm\": 12.0}, {\"stem_diam_bottom_in_cm\": 0.61, \"total_meja\": 17, \"meja_per_100_cm\": 26.2, \"diam_top_in_cm\": 0.15, \"side_branches_in_cm\": 45.5, \"main_stem_length_in_cm\": 65.0}, {\"stem_diam_bottom_in_cm\": 0.39, \"total_meja\": 14, \"meja_per_100_cm\": 44.4, \"diam_top_in_cm\": 0.26, \"side_branches_in_cm\": 45.5, \"main_stem_length_in_cm\": 31.5}, {\"stem_diam_bottom_in_cm\": 0.67, \"total_meja\": 0, \"meja_per_100_cm\": 0.0, \"diam_top_in_cm\": 0.15, \"side_branches_in_cm\": 45.5, \"main_stem_length_in_cm\": 78.0}, {\"stem_diam_bottom_in_cm\": 0.7, \"total_meja\": 12, \"meja_per_100_cm\": 16.0, \"diam_top_in_cm\": 0.15, \"side_branches_in_cm\": 45.5, \"main_stem_length_in_cm\": 75.0}, {\"stem_diam_bottom_in_cm\": 0.18, \"total_meja\": 0, \"meja_per_100_cm\": 0.0, \"diam_top_in_cm\": 0.15, \"side_branches_in_cm\": 45.5, \"main_stem_length_in_cm\": 9.0}, {\"stem_diam_bottom_in_cm\": 0.28, \"total_meja\": 3, \"meja_per_100_cm\": 4.5, \"diam_top_in_cm\": 0.02, \"side_branches_in_cm\": 45.5, \"main_stem_length_in_cm\": 67.0}, {\"stem_diam_bottom_in_cm\": 0.21, \"total_meja\": 0, \"meja_per_100_cm\": 0.0, \"diam_top_in_cm\": 0.15, \"side_branches_in_cm\": 45.5, \"main_stem_length_in_cm\": 9.0}, {\"stem_diam_bottom_in_cm\": 0.52, \"total_meja\": 0, \"meja_per_100_cm\": 0.0, \"diam_top_in_cm\": 0.15, \"side_branches_in_cm\": 45.5, \"main_stem_length_in_cm\": 77.0}, {\"stem_diam_bottom_in_cm\": 0.66, \"total_meja\": 0, \"meja_per_100_cm\": 0.0, \"diam_top_in_cm\": 0.06, \"side_branches_in_cm\": 45.5, \"main_stem_length_in_cm\": 107.0}, {\"stem_diam_bottom_in_cm\": 0.7, \"total_meja\": 0, \"meja_per_100_cm\": 0.0, \"diam_top_in_cm\": 0.15, \"side_branches_in_cm\": 45.5, \"main_stem_length_in_cm\": 49.0}, {\"stem_diam_bottom_in_cm\": 0.48, \"total_meja\": 11, \"meja_per_100_cm\": 25.6, \"diam_top_in_cm\": 0.15, \"side_branches_in_cm\": 45.5, \"main_stem_length_in_cm\": 43.0}, {\"stem_diam_bottom_in_cm\": 0.26, \"total_meja\": 0, \"meja_per_100_cm\": 0.0, \"diam_top_in_cm\": 0.15, \"side_branches_in_cm\": 45.5, \"main_stem_length_in_cm\": 22.0}, {\"stem_diam_bottom_in_cm\": 0.62, \"total_meja\": 3, \"meja_per_100_cm\": 3.1, \"diam_top_in_cm\": 0.15, \"side_branches_in_cm\": 45.5, \"main_stem_length_in_cm\": 97.0}, {\"stem_diam_bottom_in_cm\": 0.47, \"total_meja\": 9, \"meja_per_100_cm\": 14.8, \"diam_top_in_cm\": 0.07, \"side_branches_in_cm\": 45.5, \"main_stem_length_in_cm\": 61.0}, {\"stem_diam_bottom_in_cm\": 0.57, \"total_meja\": 0, \"meja_per_100_cm\": 0.0, \"diam_top_in_cm\": 0.15, \"side_branches_in_cm\": 45.5, \"main_stem_length_in_cm\": 105.0}, {\"stem_diam_bottom_in_cm\": 0.47, \"total_meja\": 14, \"meja_per_100_cm\": 36.8, \"diam_top_in_cm\": 0.21, \"side_branches_in_cm\": 45.5, \"main_stem_length_in_cm\": 38.0}, {\"stem_diam_bottom_in_cm\": 0.94, \"total_meja\": 15, \"meja_per_100_cm\": 17.2, \"diam_top_in_cm\": 0.15, \"side_branches_in_cm\": 45.5, \"main_stem_length_in_cm\": 87.0}, {\"stem_diam_bottom_in_cm\": 0.35, \"total_meja\": 0, \"meja_per_100_cm\": 0.0, \"diam_top_in_cm\": 0.09, \"side_branches_in_cm\": 45.5, \"main_stem_length_in_cm\": 64.0}, {\"stem_diam_bottom_in_cm\": 0.32, \"total_meja\": 11, \"meja_per_100_cm\": 26.8, \"diam_top_in_cm\": 0.16, \"side_branches_in_cm\": 45.5, \"main_stem_length_in_cm\": 41.0}, {\"stem_diam_bottom_in_cm\": 0.19, \"total_meja\": 0, \"meja_per_100_cm\": 0.0, \"diam_top_in_cm\": 0.15, \"side_branches_in_cm\": 45.5, \"main_stem_length_in_cm\": 13.0}, {\"stem_diam_bottom_in_cm\": 0.16, \"total_meja\": 0, \"meja_per_100_cm\": 0.0, \"diam_top_in_cm\": 0.15, \"side_branches_in_cm\": 45.5, \"main_stem_length_in_cm\": 12.5}, {\"stem_diam_bottom_in_cm\": 0.42, \"total_meja\": 11, \"meja_per_100_cm\": 48.9, \"diam_top_in_cm\": 0.3, \"side_branches_in_cm\": 45.5, \"main_stem_length_in_cm\": 22.5}, {\"stem_diam_bottom_in_cm\": 0.62, \"total_meja\": 4, \"meja_per_100_cm\": 7.0, \"diam_top_in_cm\": 0.15, \"side_branches_in_cm\": 45.5, \"main_stem_length_in_cm\": 57.0}, {\"stem_diam_bottom_in_cm\": 0.77, \"total_meja\": 0, \"meja_per_100_cm\": 0.0, \"diam_top_in_cm\": 0.15, \"side_branches_in_cm\": 44.0, \"main_stem_length_in_cm\": 58.0}, {\"stem_diam_bottom_in_cm\": 0.51, \"total_meja\": 36, \"meja_per_100_cm\": 72.0, \"diam_top_in_cm\": 0.09, \"side_branches_in_cm\": 45.5, \"main_stem_length_in_cm\": 50.0}, {\"stem_diam_bottom_in_cm\": 0.45, \"total_meja\": 0, \"meja_per_100_cm\": 0.0, \"diam_top_in_cm\": 0.15, \"side_branches_in_cm\": 45.5, \"main_stem_length_in_cm\": 28.0}, {\"stem_diam_bottom_in_cm\": 0.34, \"total_meja\": 0, \"meja_per_100_cm\": 0.0, \"diam_top_in_cm\": 0.15, \"side_branches_in_cm\": 45.5, \"main_stem_length_in_cm\": 30.0}, {\"stem_diam_bottom_in_cm\": 0.4, \"total_meja\": 0, \"meja_per_100_cm\": 0.0, \"diam_top_in_cm\": 0.15, \"side_branches_in_cm\": 45.5, \"main_stem_length_in_cm\": 37.0}, {\"stem_diam_bottom_in_cm\": 0.58, \"total_meja\": 0, \"meja_per_100_cm\": 0.0, \"diam_top_in_cm\": 0.15, \"side_branches_in_cm\": 37.0, \"main_stem_length_in_cm\": 34.0}, {\"stem_diam_bottom_in_cm\": 0.3, \"total_meja\": 0, \"meja_per_100_cm\": 0.0, \"diam_top_in_cm\": 0.15, \"side_branches_in_cm\": 45.5, \"main_stem_length_in_cm\": 38.0}, {\"stem_diam_bottom_in_cm\": 0.55, \"total_meja\": 25, \"meja_per_100_cm\": 55.6, \"diam_top_in_cm\": 0.15, \"side_branches_in_cm\": 45.5, \"main_stem_length_in_cm\": 45.0}, {\"stem_diam_bottom_in_cm\": 0.91, \"total_meja\": 2, \"meja_per_100_cm\": 1.7, \"diam_top_in_cm\": 0.15, \"side_branches_in_cm\": 45.5, \"main_stem_length_in_cm\": 121.0}, {\"stem_diam_bottom_in_cm\": 0.39, \"total_meja\": 0, \"meja_per_100_cm\": 0.0, \"diam_top_in_cm\": 0.15, \"side_branches_in_cm\": 45.5, \"main_stem_length_in_cm\": 84.0}, {\"stem_diam_bottom_in_cm\": 0.36, \"total_meja\": 0, \"meja_per_100_cm\": 0.0, \"diam_top_in_cm\": 0.02, \"side_branches_in_cm\": 45.5, \"main_stem_length_in_cm\": 72.0}, {\"stem_diam_bottom_in_cm\": 0.44, \"total_meja\": 0, \"meja_per_100_cm\": 0.0, \"diam_top_in_cm\": 0.05, \"side_branches_in_cm\": 45.5, \"main_stem_length_in_cm\": 90.0}, {\"stem_diam_bottom_in_cm\": 0.33, \"total_meja\": 0, \"meja_per_100_cm\": 0.0, \"diam_top_in_cm\": 0.09, \"side_branches_in_cm\": 45.5, \"main_stem_length_in_cm\": 51.0}, {\"stem_diam_bottom_in_cm\": 0.44, \"total_meja\": 0, \"meja_per_100_cm\": 0.0, \"diam_top_in_cm\": 0.15, \"side_branches_in_cm\": 45.5, \"main_stem_length_in_cm\": 32.0}, {\"stem_diam_bottom_in_cm\": 0.52, \"total_meja\": 1, \"meja_per_100_cm\": 2.0, \"diam_top_in_cm\": 0.12, \"side_branches_in_cm\": 45.5, \"main_stem_length_in_cm\": 51.0}, {\"stem_diam_bottom_in_cm\": 0.48, \"total_meja\": 0, \"meja_per_100_cm\": 0.0, \"diam_top_in_cm\": 0.15, \"side_branches_in_cm\": 45.5, \"main_stem_length_in_cm\": 62.0}, {\"stem_diam_bottom_in_cm\": 0.85, \"total_meja\": 0, \"meja_per_100_cm\": 0.0, \"diam_top_in_cm\": 0.15, \"side_branches_in_cm\": 45.5, \"main_stem_length_in_cm\": 94.0}, {\"stem_diam_bottom_in_cm\": 0.39, \"total_meja\": 1, \"meja_per_100_cm\": 2.0, \"diam_top_in_cm\": 0.11, \"side_branches_in_cm\": 45.5, \"main_stem_length_in_cm\": 50.0}, {\"stem_diam_bottom_in_cm\": 0.63, \"total_meja\": 0, \"meja_per_100_cm\": 0.0, \"diam_top_in_cm\": 0.15, \"side_branches_in_cm\": 45.5, \"main_stem_length_in_cm\": 61.0}, {\"stem_diam_bottom_in_cm\": 0.39, \"total_meja\": 0, \"meja_per_100_cm\": 0.0, \"diam_top_in_cm\": 0.15, \"side_branches_in_cm\": 45.5, \"main_stem_length_in_cm\": 31.0}, {\"stem_diam_bottom_in_cm\": 0.56, \"total_meja\": 6, \"meja_per_100_cm\": 9.1, \"diam_top_in_cm\": 0.15, \"side_branches_in_cm\": 45.5, \"main_stem_length_in_cm\": 66.0}, {\"stem_diam_bottom_in_cm\": 0.26, \"total_meja\": 0, \"meja_per_100_cm\": 0.0, \"diam_top_in_cm\": 0.15, \"side_branches_in_cm\": 45.5, \"main_stem_length_in_cm\": 13.5}, {\"stem_diam_bottom_in_cm\": 0.44, \"total_meja\": 23, \"meja_per_100_cm\": 45.1, \"diam_top_in_cm\": 0.18, \"side_branches_in_cm\": 45.5, \"main_stem_length_in_cm\": 51.0}, {\"stem_diam_bottom_in_cm\": 0.68, \"total_meja\": 15, \"meja_per_100_cm\": 34.9, \"diam_top_in_cm\": 0.18, \"side_branches_in_cm\": 45.5, \"main_stem_length_in_cm\": 43.0}, {\"stem_diam_bottom_in_cm\": 0.4, \"total_meja\": 22, \"meja_per_100_cm\": 53.7, \"diam_top_in_cm\": 0.21, \"side_branches_in_cm\": 45.5, \"main_stem_length_in_cm\": 41.0}, {\"stem_diam_bottom_in_cm\": 0.66, \"total_meja\": 17, \"meja_per_100_cm\": 23.0, \"diam_top_in_cm\": 0.15, \"side_branches_in_cm\": 45.5, \"main_stem_length_in_cm\": 74.0}, {\"stem_diam_bottom_in_cm\": 0.46, \"total_meja\": 9, \"meja_per_100_cm\": 29.0, \"diam_top_in_cm\": 0.12, \"side_branches_in_cm\": 45.5, \"main_stem_length_in_cm\": 31.0}, {\"stem_diam_bottom_in_cm\": 0.49, \"total_meja\": 8, \"meja_per_100_cm\": 21.1, \"diam_top_in_cm\": 0.38, \"side_branches_in_cm\": 45.5, \"main_stem_length_in_cm\": 38.0}, {\"stem_diam_bottom_in_cm\": 0.47, \"total_meja\": 0, \"meja_per_100_cm\": 0.0, \"diam_top_in_cm\": 0.15, \"side_branches_in_cm\": 45.5, \"main_stem_length_in_cm\": 79.0}, {\"stem_diam_bottom_in_cm\": 0.25, \"total_meja\": 0, \"meja_per_100_cm\": 0.0, \"diam_top_in_cm\": 0.15, \"side_branches_in_cm\": 45.5, \"main_stem_length_in_cm\": 16.5}, {\"stem_diam_bottom_in_cm\": 0.56, \"total_meja\": 13, \"meja_per_100_cm\": 28.3, \"diam_top_in_cm\": 0.26, \"side_branches_in_cm\": 45.5, \"main_stem_length_in_cm\": 46.0}, {\"stem_diam_bottom_in_cm\": 0.34, \"total_meja\": 1, \"meja_per_100_cm\": 1.8, \"diam_top_in_cm\": 0.03, \"side_branches_in_cm\": 45.5, \"main_stem_length_in_cm\": 56.0}, {\"stem_diam_bottom_in_cm\": 0.45, \"total_meja\": 0, \"meja_per_100_cm\": 0.0, \"diam_top_in_cm\": 0.15, \"side_branches_in_cm\": 45.5, \"main_stem_length_in_cm\": 38.0}, {\"stem_diam_bottom_in_cm\": 0.72, \"total_meja\": 1, \"meja_per_100_cm\": 2.0, \"diam_top_in_cm\": 0.21, \"side_branches_in_cm\": 45.5, \"main_stem_length_in_cm\": 51.0}, {\"stem_diam_bottom_in_cm\": 0.47, \"total_meja\": 0, \"meja_per_100_cm\": 0.0, \"diam_top_in_cm\": 0.15, \"side_branches_in_cm\": 45.5, \"main_stem_length_in_cm\": 65.0}, {\"stem_diam_bottom_in_cm\": 0.55, \"total_meja\": 0, \"meja_per_100_cm\": 0.0, \"diam_top_in_cm\": 0.15, \"side_branches_in_cm\": 45.5, \"main_stem_length_in_cm\": 64.0}, {\"stem_diam_bottom_in_cm\": 0.51, \"total_meja\": 2, \"meja_per_100_cm\": 2.6, \"diam_top_in_cm\": 0.15, \"side_branches_in_cm\": 45.5, \"main_stem_length_in_cm\": 78.0}, {\"stem_diam_bottom_in_cm\": 0.58, \"total_meja\": 0, \"meja_per_100_cm\": 0.0, \"diam_top_in_cm\": 0.15, \"side_branches_in_cm\": 45.5, \"main_stem_length_in_cm\": 84.0}, {\"stem_diam_bottom_in_cm\": 0.75, \"total_meja\": 14, \"meja_per_100_cm\": 23.0, \"diam_top_in_cm\": 0.15, \"side_branches_in_cm\": 45.5, \"main_stem_length_in_cm\": 61.0}, {\"stem_diam_bottom_in_cm\": 0.37, \"total_meja\": 0, \"meja_per_100_cm\": 0.0, \"diam_top_in_cm\": 0.15, \"side_branches_in_cm\": 45.5, \"main_stem_length_in_cm\": 60.0}, {\"stem_diam_bottom_in_cm\": 0.48, \"total_meja\": 0, \"meja_per_100_cm\": 0.0, \"diam_top_in_cm\": 0.05, \"side_branches_in_cm\": 45.5, \"main_stem_length_in_cm\": 85.0}, {\"stem_diam_bottom_in_cm\": 0.34, \"total_meja\": 3, \"meja_per_100_cm\": 4.5, \"diam_top_in_cm\": 0.11, \"side_branches_in_cm\": 45.5, \"main_stem_length_in_cm\": 67.0}, {\"stem_diam_bottom_in_cm\": 0.57, \"total_meja\": 0, \"meja_per_100_cm\": 0.0, \"diam_top_in_cm\": 0.15, \"side_branches_in_cm\": 45.5, \"main_stem_length_in_cm\": 89.0}, {\"stem_diam_bottom_in_cm\": 0.77, \"total_meja\": 0, \"meja_per_100_cm\": 0.0, \"diam_top_in_cm\": 0.15, \"side_branches_in_cm\": 45.5, \"main_stem_length_in_cm\": 79.0}, {\"stem_diam_bottom_in_cm\": 0.38, \"total_meja\": 20, \"meja_per_100_cm\": 45.5, \"diam_top_in_cm\": 0.12, \"side_branches_in_cm\": 45.5, \"main_stem_length_in_cm\": 44.0}, {\"stem_diam_bottom_in_cm\": 0.37, \"total_meja\": 3, \"meja_per_100_cm\": 5.6, \"diam_top_in_cm\": 0.15, \"side_branches_in_cm\": 45.5, \"main_stem_length_in_cm\": 54.0}, {\"stem_diam_bottom_in_cm\": 0.17, \"total_meja\": 0, \"meja_per_100_cm\": 0.0, \"diam_top_in_cm\": 0.15, \"side_branches_in_cm\": 45.5, \"main_stem_length_in_cm\": 14.5}, {\"stem_diam_bottom_in_cm\": 0.73, \"total_meja\": 0, \"meja_per_100_cm\": 0.0, \"diam_top_in_cm\": 0.15, \"side_branches_in_cm\": 45.5, \"main_stem_length_in_cm\": 58.0}, {\"stem_diam_bottom_in_cm\": 0.6, \"total_meja\": 0, \"meja_per_100_cm\": 0.0, \"diam_top_in_cm\": 0.15, \"side_branches_in_cm\": 45.5, \"main_stem_length_in_cm\": 77.0}, {\"stem_diam_bottom_in_cm\": 0.62, \"total_meja\": 0, \"meja_per_100_cm\": 0.0, \"diam_top_in_cm\": 0.09, \"side_branches_in_cm\": 45.5, \"main_stem_length_in_cm\": 58.0}, {\"stem_diam_bottom_in_cm\": 0.56, \"total_meja\": 10, \"meja_per_100_cm\": 16.4, \"diam_top_in_cm\": 0.15, \"side_branches_in_cm\": 45.5, \"main_stem_length_in_cm\": 61.0}, {\"stem_diam_bottom_in_cm\": 0.16, \"total_meja\": 0, \"meja_per_100_cm\": 0.0, \"diam_top_in_cm\": 0.15, \"side_branches_in_cm\": 45.5, \"main_stem_length_in_cm\": 8.5}, {\"stem_diam_bottom_in_cm\": 0.44, \"total_meja\": 7, \"meja_per_100_cm\": 25.9, \"diam_top_in_cm\": 0.15, \"side_branches_in_cm\": 45.5, \"main_stem_length_in_cm\": 27.0}, {\"stem_diam_bottom_in_cm\": 0.35, \"total_meja\": 0, \"meja_per_100_cm\": 0.0, \"diam_top_in_cm\": 0.15, \"side_branches_in_cm\": 45.5, \"main_stem_length_in_cm\": 17.0}, {\"stem_diam_bottom_in_cm\": 0.43, \"total_meja\": 0, \"meja_per_100_cm\": 0.0, \"diam_top_in_cm\": 0.15, \"side_branches_in_cm\": 45.5, \"main_stem_length_in_cm\": 39.0}, {\"stem_diam_bottom_in_cm\": 0.52, \"total_meja\": 3, \"meja_per_100_cm\": 4.9, \"diam_top_in_cm\": 0.15, \"side_branches_in_cm\": 45.5, \"main_stem_length_in_cm\": 61.0}, {\"stem_diam_bottom_in_cm\": 0.53, \"total_meja\": 27, \"meja_per_100_cm\": 71.1, \"diam_top_in_cm\": 0.21, \"side_branches_in_cm\": 45.5, \"main_stem_length_in_cm\": 38.0}, {\"stem_diam_bottom_in_cm\": 0.47, \"total_meja\": 0, \"meja_per_100_cm\": 0.0, \"diam_top_in_cm\": 0.15, \"side_branches_in_cm\": 45.5, \"main_stem_length_in_cm\": 61.0}, {\"stem_diam_bottom_in_cm\": 0.94, \"total_meja\": 9, \"meja_per_100_cm\": 11.7, \"diam_top_in_cm\": 0.3, \"side_branches_in_cm\": 45.5, \"main_stem_length_in_cm\": 77.0}, {\"stem_diam_bottom_in_cm\": 0.41, \"total_meja\": 4, \"meja_per_100_cm\": 6.3, \"diam_top_in_cm\": 0.04, \"side_branches_in_cm\": 45.5, \"main_stem_length_in_cm\": 64.0}, {\"stem_diam_bottom_in_cm\": 0.6, \"total_meja\": 29, \"meja_per_100_cm\": 80.6, \"diam_top_in_cm\": 0.36, \"side_branches_in_cm\": 45.5, \"main_stem_length_in_cm\": 36.0}, {\"stem_diam_bottom_in_cm\": 0.48, \"total_meja\": 4, \"meja_per_100_cm\": 6.5, \"diam_top_in_cm\": 0.15, \"side_branches_in_cm\": 20.0, \"main_stem_length_in_cm\": 62.0}, {\"stem_diam_bottom_in_cm\": 0.48, \"total_meja\": 7, \"meja_per_100_cm\": 22.6, \"diam_top_in_cm\": 0.2, \"side_branches_in_cm\": 45.5, \"main_stem_length_in_cm\": 31.0}, {\"stem_diam_bottom_in_cm\": 0.23, \"total_meja\": 0, \"meja_per_100_cm\": 0.0, \"diam_top_in_cm\": 0.15, \"side_branches_in_cm\": 45.5, \"main_stem_length_in_cm\": 24.0}, {\"stem_diam_bottom_in_cm\": 0.78, \"total_meja\": 7, \"meja_per_100_cm\": 9.3, \"diam_top_in_cm\": 0.15, \"side_branches_in_cm\": 45.5, \"main_stem_length_in_cm\": 75.0}, {\"stem_diam_bottom_in_cm\": 0.58, \"total_meja\": 1, \"meja_per_100_cm\": 1.6, \"diam_top_in_cm\": 0.35, \"side_branches_in_cm\": 45.5, \"main_stem_length_in_cm\": 62.0}, {\"stem_diam_bottom_in_cm\": 0.49, \"total_meja\": 0, \"meja_per_100_cm\": 0.0, \"diam_top_in_cm\": 0.15, \"side_branches_in_cm\": 45.5, \"main_stem_length_in_cm\": 54.0}, {\"stem_diam_bottom_in_cm\": 0.42, \"total_meja\": 0, \"meja_per_100_cm\": 0.0, \"diam_top_in_cm\": 0.15, \"side_branches_in_cm\": 45.5, \"main_stem_length_in_cm\": 74.0}, {\"stem_diam_bottom_in_cm\": 0.69, \"total_meja\": 0, \"meja_per_100_cm\": 0.0, \"diam_top_in_cm\": 0.15, \"side_branches_in_cm\": 45.5, \"main_stem_length_in_cm\": 86.0}, {\"stem_diam_bottom_in_cm\": 0.47, \"total_meja\": 0, \"meja_per_100_cm\": 0.0, \"diam_top_in_cm\": 0.15, \"side_branches_in_cm\": 45.5, \"main_stem_length_in_cm\": 34.0}, {\"stem_diam_bottom_in_cm\": 0.18, \"total_meja\": 0, \"meja_per_100_cm\": 0.0, \"diam_top_in_cm\": 0.15, \"side_branches_in_cm\": 45.5, \"main_stem_length_in_cm\": 12.0}, {\"stem_diam_bottom_in_cm\": 0.5, \"total_meja\": 23, \"meja_per_100_cm\": 47.9, \"diam_top_in_cm\": 0.27, \"side_branches_in_cm\": 45.5, \"main_stem_length_in_cm\": 48.0}, {\"stem_diam_bottom_in_cm\": 0.47, \"total_meja\": 0, \"meja_per_100_cm\": 0.0, \"diam_top_in_cm\": 0.09, \"side_branches_in_cm\": 45.5, \"main_stem_length_in_cm\": 88.0}, {\"stem_diam_bottom_in_cm\": 0.72, \"total_meja\": 0, \"meja_per_100_cm\": 0.0, \"diam_top_in_cm\": 0.16, \"side_branches_in_cm\": 45.5, \"main_stem_length_in_cm\": 58.0}, {\"stem_diam_bottom_in_cm\": 0.48, \"total_meja\": 0, \"meja_per_100_cm\": 0.0, \"diam_top_in_cm\": 0.09, \"side_branches_in_cm\": 45.5, \"main_stem_length_in_cm\": 83.0}, {\"stem_diam_bottom_in_cm\": 0.49, \"total_meja\": 0, \"meja_per_100_cm\": 0.0, \"diam_top_in_cm\": 0.15, \"side_branches_in_cm\": 13.0, \"main_stem_length_in_cm\": 49.0}, {\"stem_diam_bottom_in_cm\": 0.53, \"total_meja\": 0, \"meja_per_100_cm\": 0.0, \"diam_top_in_cm\": 0.15, \"side_branches_in_cm\": 45.5, \"main_stem_length_in_cm\": 57.0}, {\"stem_diam_bottom_in_cm\": 0.48, \"total_meja\": 0, \"meja_per_100_cm\": 0.0, \"diam_top_in_cm\": 0.15, \"side_branches_in_cm\": 45.5, \"main_stem_length_in_cm\": 49.0}, {\"stem_diam_bottom_in_cm\": 0.48, \"total_meja\": 5, \"meja_per_100_cm\": 10.0, \"diam_top_in_cm\": 0.12, \"side_branches_in_cm\": 45.5, \"main_stem_length_in_cm\": 50.0}, {\"stem_diam_bottom_in_cm\": 0.4, \"total_meja\": 0, \"meja_per_100_cm\": 0.0, \"diam_top_in_cm\": 0.15, \"side_branches_in_cm\": 66.0, \"main_stem_length_in_cm\": 24.0}, {\"stem_diam_bottom_in_cm\": 0.3, \"total_meja\": 0, \"meja_per_100_cm\": 0.0, \"diam_top_in_cm\": 0.15, \"side_branches_in_cm\": 45.5, \"main_stem_length_in_cm\": 36.0}, {\"stem_diam_bottom_in_cm\": 0.19, \"total_meja\": 0, \"meja_per_100_cm\": 0.0, \"diam_top_in_cm\": 0.15, \"side_branches_in_cm\": 45.5, \"main_stem_length_in_cm\": 19.0}, {\"stem_diam_bottom_in_cm\": 0.51, \"total_meja\": 18, \"meja_per_100_cm\": 37.5, \"diam_top_in_cm\": 0.22, \"side_branches_in_cm\": 45.5, \"main_stem_length_in_cm\": 48.0}, {\"stem_diam_bottom_in_cm\": 0.66, \"total_meja\": 0, \"meja_per_100_cm\": 0.0, \"diam_top_in_cm\": 0.15, \"side_branches_in_cm\": 45.5, \"main_stem_length_in_cm\": 52.0}, {\"stem_diam_bottom_in_cm\": 0.35, \"total_meja\": 0, \"meja_per_100_cm\": 0.0, \"diam_top_in_cm\": 0.25, \"side_branches_in_cm\": 45.5, \"main_stem_length_in_cm\": 41.0}, {\"stem_diam_bottom_in_cm\": 0.68, \"total_meja\": 0, \"meja_per_100_cm\": 0.0, \"diam_top_in_cm\": 0.15, \"side_branches_in_cm\": 45.5, \"main_stem_length_in_cm\": 82.0}, {\"stem_diam_bottom_in_cm\": 0.35, \"total_meja\": 13, \"meja_per_100_cm\": 32.1, \"diam_top_in_cm\": 0.18, \"side_branches_in_cm\": 45.5, \"main_stem_length_in_cm\": 40.5}, {\"stem_diam_bottom_in_cm\": 0.5, \"total_meja\": 21, \"meja_per_100_cm\": 63.6, \"diam_top_in_cm\": 0.16, \"side_branches_in_cm\": 45.5, \"main_stem_length_in_cm\": 33.0}, {\"stem_diam_bottom_in_cm\": 1.08, \"total_meja\": 0, \"meja_per_100_cm\": 0.0, \"diam_top_in_cm\": 0.15, \"side_branches_in_cm\": 45.5, \"main_stem_length_in_cm\": 10.0}, {\"stem_diam_bottom_in_cm\": 0.68, \"total_meja\": 2, \"meja_per_100_cm\": 2.1, \"diam_top_in_cm\": 0.15, \"side_branches_in_cm\": 45.5, \"main_stem_length_in_cm\": 97.0}, {\"stem_diam_bottom_in_cm\": 0.52, \"total_meja\": 0, \"meja_per_100_cm\": 0.0, \"diam_top_in_cm\": 0.15, \"side_branches_in_cm\": 45.5, \"main_stem_length_in_cm\": 50.0}, {\"stem_diam_bottom_in_cm\": 0.55, \"total_meja\": 22, \"meja_per_100_cm\": 36.7, \"diam_top_in_cm\": 0.15, \"side_branches_in_cm\": 45.5, \"main_stem_length_in_cm\": 60.0}, {\"stem_diam_bottom_in_cm\": 0.51, \"total_meja\": 7, \"meja_per_100_cm\": 17.9, \"diam_top_in_cm\": 0.22, \"side_branches_in_cm\": 45.5, \"main_stem_length_in_cm\": 39.0}, {\"stem_diam_bottom_in_cm\": 0.51, \"total_meja\": 34, \"meja_per_100_cm\": 51.5, \"diam_top_in_cm\": 0.15, \"side_branches_in_cm\": 45.5, \"main_stem_length_in_cm\": 66.0}, {\"stem_diam_bottom_in_cm\": 0.39, \"total_meja\": 0, \"meja_per_100_cm\": 0.0, \"diam_top_in_cm\": 0.05, \"side_branches_in_cm\": 45.5, \"main_stem_length_in_cm\": 51.0}, {\"stem_diam_bottom_in_cm\": 0.41, \"total_meja\": 21, \"meja_per_100_cm\": 58.3, \"diam_top_in_cm\": 0.2, \"side_branches_in_cm\": 45.5, \"main_stem_length_in_cm\": 36.0}, {\"stem_diam_bottom_in_cm\": 0.8, \"total_meja\": 0, \"meja_per_100_cm\": 0.0, \"diam_top_in_cm\": 0.04, \"side_branches_in_cm\": 45.5, \"main_stem_length_in_cm\": 98.0}, {\"stem_diam_bottom_in_cm\": 0.57, \"total_meja\": 0, \"meja_per_100_cm\": 0.0, \"diam_top_in_cm\": 0.15, \"side_branches_in_cm\": 45.5, \"main_stem_length_in_cm\": 65.0}, {\"stem_diam_bottom_in_cm\": 0.21, \"total_meja\": 0, \"meja_per_100_cm\": 0.0, \"diam_top_in_cm\": 0.15, \"side_branches_in_cm\": 45.5, \"main_stem_length_in_cm\": 13.0}, {\"stem_diam_bottom_in_cm\": 0.33, \"total_meja\": 3, \"meja_per_100_cm\": 5.7, \"diam_top_in_cm\": 0.08, \"side_branches_in_cm\": 45.5, \"main_stem_length_in_cm\": 53.0}, {\"stem_diam_bottom_in_cm\": 0.38, \"total_meja\": 20, \"meja_per_100_cm\": 63.5, \"diam_top_in_cm\": 0.15, \"side_branches_in_cm\": 45.5, \"main_stem_length_in_cm\": 31.5}, {\"stem_diam_bottom_in_cm\": 0.4, \"total_meja\": 1, \"meja_per_100_cm\": 2.0, \"diam_top_in_cm\": 0.15, \"side_branches_in_cm\": 45.5, \"main_stem_length_in_cm\": 49.0}, {\"stem_diam_bottom_in_cm\": 0.55, \"total_meja\": 6, \"meja_per_100_cm\": 16.7, \"diam_top_in_cm\": 0.19, \"side_branches_in_cm\": 45.5, \"main_stem_length_in_cm\": 36.0}, {\"stem_diam_bottom_in_cm\": 0.55, \"total_meja\": 8, \"meja_per_100_cm\": 20.0, \"diam_top_in_cm\": 0.42, \"side_branches_in_cm\": 45.5, \"main_stem_length_in_cm\": 40.0}, {\"stem_diam_bottom_in_cm\": 0.5, \"total_meja\": 48, \"meja_per_100_cm\": 81.4, \"diam_top_in_cm\": 0.11, \"side_branches_in_cm\": 45.5, \"main_stem_length_in_cm\": 59.0}, {\"stem_diam_bottom_in_cm\": 0.77, \"total_meja\": 33, \"meja_per_100_cm\": 25.0, \"diam_top_in_cm\": 0.15, \"side_branches_in_cm\": 45.5, \"main_stem_length_in_cm\": 132.0}, {\"stem_diam_bottom_in_cm\": 0.38, \"total_meja\": 3, \"meja_per_100_cm\": 6.5, \"diam_top_in_cm\": 0.15, \"side_branches_in_cm\": 45.5, \"main_stem_length_in_cm\": 46.0}, {\"stem_diam_bottom_in_cm\": 0.51, \"total_meja\": 0, \"meja_per_100_cm\": 0.0, \"diam_top_in_cm\": 0.15, \"side_branches_in_cm\": 45.5, \"main_stem_length_in_cm\": 62.0}, {\"stem_diam_bottom_in_cm\": 0.32, \"total_meja\": 0, \"meja_per_100_cm\": 0.0, \"diam_top_in_cm\": 0.15, \"side_branches_in_cm\": 45.5, \"main_stem_length_in_cm\": 41.0}, {\"stem_diam_bottom_in_cm\": 0.24, \"total_meja\": 0, \"meja_per_100_cm\": 0.0, \"diam_top_in_cm\": 0.15, \"side_branches_in_cm\": 45.5, \"main_stem_length_in_cm\": 30.0}, {\"stem_diam_bottom_in_cm\": 0.45, \"total_meja\": 4, \"meja_per_100_cm\": 5.3, \"diam_top_in_cm\": 0.06, \"side_branches_in_cm\": 45.5, \"main_stem_length_in_cm\": 76.0}, {\"stem_diam_bottom_in_cm\": 0.47, \"total_meja\": 39, \"meja_per_100_cm\": 83.0, \"diam_top_in_cm\": 0.15, \"side_branches_in_cm\": 45.5, \"main_stem_length_in_cm\": 47.0}, {\"stem_diam_bottom_in_cm\": 0.93, \"total_meja\": 0, \"meja_per_100_cm\": 0.0, \"diam_top_in_cm\": 0.29, \"side_branches_in_cm\": 45.5, \"main_stem_length_in_cm\": 87.0}, {\"stem_diam_bottom_in_cm\": 0.28, \"total_meja\": 0, \"meja_per_100_cm\": 0.0, \"diam_top_in_cm\": 0.15, \"side_branches_in_cm\": 45.5, \"main_stem_length_in_cm\": 14.5}, {\"stem_diam_bottom_in_cm\": 1.12, \"total_meja\": 2, \"meja_per_100_cm\": 2.3, \"diam_top_in_cm\": 0.15, \"side_branches_in_cm\": 45.5, \"main_stem_length_in_cm\": 88.0}, {\"stem_diam_bottom_in_cm\": 0.42, \"total_meja\": 4, \"meja_per_100_cm\": 5.6, \"diam_top_in_cm\": 0.08, \"side_branches_in_cm\": 45.5, \"main_stem_length_in_cm\": 72.0}, {\"stem_diam_bottom_in_cm\": 0.59, \"total_meja\": 0, \"meja_per_100_cm\": 0.0, \"diam_top_in_cm\": 0.15, \"side_branches_in_cm\": 45.5, \"main_stem_length_in_cm\": 51.0}, {\"stem_diam_bottom_in_cm\": 0.49, \"total_meja\": 0, \"meja_per_100_cm\": 0.0, \"diam_top_in_cm\": 0.15, \"side_branches_in_cm\": 45.5, \"main_stem_length_in_cm\": 32.0}, {\"stem_diam_bottom_in_cm\": 0.65, \"total_meja\": 0, \"meja_per_100_cm\": 0.0, \"diam_top_in_cm\": 0.15, \"side_branches_in_cm\": 45.5, \"main_stem_length_in_cm\": 77.0}, {\"stem_diam_bottom_in_cm\": 0.54, \"total_meja\": 17, \"meja_per_100_cm\": 44.7, \"diam_top_in_cm\": 0.16, \"side_branches_in_cm\": 45.5, \"main_stem_length_in_cm\": 38.0}, {\"stem_diam_bottom_in_cm\": 0.77, \"total_meja\": 0, \"meja_per_100_cm\": 0.0, \"diam_top_in_cm\": 0.15, \"side_branches_in_cm\": 45.5, \"main_stem_length_in_cm\": 57.0}, {\"stem_diam_bottom_in_cm\": 0.29, \"total_meja\": 0, \"meja_per_100_cm\": 0.0, \"diam_top_in_cm\": 0.15, \"side_branches_in_cm\": 45.5, \"main_stem_length_in_cm\": 19.5}, {\"stem_diam_bottom_in_cm\": 0.31, \"total_meja\": 0, \"meja_per_100_cm\": 0.0, \"diam_top_in_cm\": 0.13, \"side_branches_in_cm\": 45.5, \"main_stem_length_in_cm\": 45.0}, {\"stem_diam_bottom_in_cm\": 0.85, \"total_meja\": 28, \"meja_per_100_cm\": 57.1, \"diam_top_in_cm\": 0.38, \"side_branches_in_cm\": 45.5, \"main_stem_length_in_cm\": 49.0}, {\"stem_diam_bottom_in_cm\": 0.33, \"total_meja\": 0, \"meja_per_100_cm\": 0.0, \"diam_top_in_cm\": 0.03, \"side_branches_in_cm\": 45.5, \"main_stem_length_in_cm\": 46.0}, {\"stem_diam_bottom_in_cm\": 0.15, \"total_meja\": 0, \"meja_per_100_cm\": 0.0, \"diam_top_in_cm\": 0.15, \"side_branches_in_cm\": 45.5, \"main_stem_length_in_cm\": 11.0}, {\"stem_diam_bottom_in_cm\": 0.5, \"total_meja\": 7, \"meja_per_100_cm\": 12.3, \"diam_top_in_cm\": 0.06, \"side_branches_in_cm\": 45.5, \"main_stem_length_in_cm\": 57.0}, {\"stem_diam_bottom_in_cm\": 0.81, \"total_meja\": 14, \"meja_per_100_cm\": 31.8, \"diam_top_in_cm\": 0.18, \"side_branches_in_cm\": 45.5, \"main_stem_length_in_cm\": 44.0}, {\"stem_diam_bottom_in_cm\": 0.45, \"total_meja\": 13, \"meja_per_100_cm\": 33.8, \"diam_top_in_cm\": 0.1, \"side_branches_in_cm\": 45.5, \"main_stem_length_in_cm\": 38.5}, {\"stem_diam_bottom_in_cm\": 0.48, \"total_meja\": 0, \"meja_per_100_cm\": 0.0, \"diam_top_in_cm\": 0.15, \"side_branches_in_cm\": 45.5, \"main_stem_length_in_cm\": 49.0}, {\"stem_diam_bottom_in_cm\": 0.52, \"total_meja\": 11, \"meja_per_100_cm\": 34.4, \"diam_top_in_cm\": 0.27, \"side_branches_in_cm\": 45.5, \"main_stem_length_in_cm\": 32.0}, {\"stem_diam_bottom_in_cm\": 0.74, \"total_meja\": 0, \"meja_per_100_cm\": 0.0, \"diam_top_in_cm\": 0.15, \"side_branches_in_cm\": 222.0, \"main_stem_length_in_cm\": 30.0}, {\"stem_diam_bottom_in_cm\": 0.22, \"total_meja\": 0, \"meja_per_100_cm\": 0.0, \"diam_top_in_cm\": 0.15, \"side_branches_in_cm\": 45.5, \"main_stem_length_in_cm\": 10.5}, {\"stem_diam_bottom_in_cm\": 0.7, \"total_meja\": 9, \"meja_per_100_cm\": 15.0, \"diam_top_in_cm\": 0.15, \"side_branches_in_cm\": 45.5, \"main_stem_length_in_cm\": 60.0}, {\"stem_diam_bottom_in_cm\": 0.24, \"total_meja\": 0, \"meja_per_100_cm\": 0.0, \"diam_top_in_cm\": 0.15, \"side_branches_in_cm\": 45.5, \"main_stem_length_in_cm\": 5.0}, {\"stem_diam_bottom_in_cm\": 0.5, \"total_meja\": 6, \"meja_per_100_cm\": 8.7, \"diam_top_in_cm\": 0.14, \"side_branches_in_cm\": 45.5, \"main_stem_length_in_cm\": 69.0}, {\"stem_diam_bottom_in_cm\": 0.37, \"total_meja\": 1, \"meja_per_100_cm\": 2.9, \"diam_top_in_cm\": 0.15, \"side_branches_in_cm\": 45.5, \"main_stem_length_in_cm\": 34.0}, {\"stem_diam_bottom_in_cm\": 0.63, \"total_meja\": 0, \"meja_per_100_cm\": 0.0, \"diam_top_in_cm\": 0.15, \"side_branches_in_cm\": 45.5, \"main_stem_length_in_cm\": 100.0}, {\"stem_diam_bottom_in_cm\": 0.21, \"total_meja\": 0, \"meja_per_100_cm\": 0.0, \"diam_top_in_cm\": 0.15, \"side_branches_in_cm\": 45.5, \"main_stem_length_in_cm\": 15.0}, {\"stem_diam_bottom_in_cm\": 0.52, \"total_meja\": 37, \"meja_per_100_cm\": 55.2, \"diam_top_in_cm\": 0.15, \"side_branches_in_cm\": 45.5, \"main_stem_length_in_cm\": 67.0}, {\"stem_diam_bottom_in_cm\": 0.65, \"total_meja\": 0, \"meja_per_100_cm\": 0.0, \"diam_top_in_cm\": 0.54, \"side_branches_in_cm\": 45.5, \"main_stem_length_in_cm\": 54.0}, {\"stem_diam_bottom_in_cm\": 0.18, \"total_meja\": 0, \"meja_per_100_cm\": 0.0, \"diam_top_in_cm\": 0.15, \"side_branches_in_cm\": 45.5, \"main_stem_length_in_cm\": 6.5}, {\"stem_diam_bottom_in_cm\": 0.67, \"total_meja\": 0, \"meja_per_100_cm\": 0.0, \"diam_top_in_cm\": 0.15, \"side_branches_in_cm\": 45.5, \"main_stem_length_in_cm\": 56.0}, {\"stem_diam_bottom_in_cm\": 0.69, \"total_meja\": 53, \"meja_per_100_cm\": 129.3, \"diam_top_in_cm\": 0.28, \"side_branches_in_cm\": 45.5, \"main_stem_length_in_cm\": 41.0}, {\"stem_diam_bottom_in_cm\": 0.58, \"total_meja\": 8, \"meja_per_100_cm\": 16.3, \"diam_top_in_cm\": 0.32, \"side_branches_in_cm\": 45.5, \"main_stem_length_in_cm\": 49.0}, {\"stem_diam_bottom_in_cm\": 0.49, \"total_meja\": 0, \"meja_per_100_cm\": 0.0, \"diam_top_in_cm\": 0.11, \"side_branches_in_cm\": 45.5, \"main_stem_length_in_cm\": 54.0}, {\"stem_diam_bottom_in_cm\": 0.71, \"total_meja\": 0, \"meja_per_100_cm\": 0.0, \"diam_top_in_cm\": 0.15, \"side_branches_in_cm\": 43.0, \"main_stem_length_in_cm\": 98.0}, {\"stem_diam_bottom_in_cm\": 0.21, \"total_meja\": 0, \"meja_per_100_cm\": 0.0, \"diam_top_in_cm\": 0.15, \"side_branches_in_cm\": 45.5, \"main_stem_length_in_cm\": 11.0}, {\"stem_diam_bottom_in_cm\": 0.33, \"total_meja\": 8, \"meja_per_100_cm\": 26.7, \"diam_top_in_cm\": 0.12, \"side_branches_in_cm\": 45.5, \"main_stem_length_in_cm\": 30.0}, {\"stem_diam_bottom_in_cm\": 0.3, \"total_meja\": 0, \"meja_per_100_cm\": 0.0, \"diam_top_in_cm\": 0.15, \"side_branches_in_cm\": 45.5, \"main_stem_length_in_cm\": 27.0}, {\"stem_diam_bottom_in_cm\": 0.51, \"total_meja\": 5, \"meja_per_100_cm\": 4.7, \"diam_top_in_cm\": 0.15, \"side_branches_in_cm\": 45.5, \"main_stem_length_in_cm\": 106.0}, {\"stem_diam_bottom_in_cm\": 0.3, \"total_meja\": 0, \"meja_per_100_cm\": 0.0, \"diam_top_in_cm\": 0.15, \"side_branches_in_cm\": 45.5, \"main_stem_length_in_cm\": 13.5}, {\"stem_diam_bottom_in_cm\": 0.28, \"total_meja\": 0, \"meja_per_100_cm\": 0.0, \"diam_top_in_cm\": 0.15, \"side_branches_in_cm\": 45.5, \"main_stem_length_in_cm\": 17.0}, {\"stem_diam_bottom_in_cm\": 0.33, \"total_meja\": 12, \"meja_per_100_cm\": 41.4, \"diam_top_in_cm\": 0.18, \"side_branches_in_cm\": 45.5, \"main_stem_length_in_cm\": 29.0}, {\"stem_diam_bottom_in_cm\": 0.88, \"total_meja\": 0, \"meja_per_100_cm\": 0.0, \"diam_top_in_cm\": 0.15, \"side_branches_in_cm\": 23.0, \"main_stem_length_in_cm\": 68.0}, {\"stem_diam_bottom_in_cm\": 0.64, \"total_meja\": 0, \"meja_per_100_cm\": 0.0, \"diam_top_in_cm\": 0.09, \"side_branches_in_cm\": 45.5, \"main_stem_length_in_cm\": 93.0}, {\"stem_diam_bottom_in_cm\": 0.49, \"total_meja\": 2, \"meja_per_100_cm\": 2.9, \"diam_top_in_cm\": 0.1, \"side_branches_in_cm\": 45.5, \"main_stem_length_in_cm\": 68.0}, {\"stem_diam_bottom_in_cm\": 0.69, \"total_meja\": 1, \"meja_per_100_cm\": 1.0, \"diam_top_in_cm\": 0.15, \"side_branches_in_cm\": 45.5, \"main_stem_length_in_cm\": 102.0}, {\"stem_diam_bottom_in_cm\": 0.74, \"total_meja\": 1, \"meja_per_100_cm\": 2.9, \"diam_top_in_cm\": 0.19, \"side_branches_in_cm\": 45.5, \"main_stem_length_in_cm\": 35.0}, {\"stem_diam_bottom_in_cm\": 0.26, \"total_meja\": 0, \"meja_per_100_cm\": 0.0, \"diam_top_in_cm\": 0.15, \"side_branches_in_cm\": 45.5, \"main_stem_length_in_cm\": 21.0}, {\"stem_diam_bottom_in_cm\": 0.59, \"total_meja\": 2, \"meja_per_100_cm\": 2.6, \"diam_top_in_cm\": 0.15, \"side_branches_in_cm\": 45.5, \"main_stem_length_in_cm\": 76.0}, {\"stem_diam_bottom_in_cm\": 0.56, \"total_meja\": 0, \"meja_per_100_cm\": 0.0, \"diam_top_in_cm\": 0.15, \"side_branches_in_cm\": 47.0, \"main_stem_length_in_cm\": 67.0}, {\"stem_diam_bottom_in_cm\": 0.27, \"total_meja\": 0, \"meja_per_100_cm\": 0.0, \"diam_top_in_cm\": 0.15, \"side_branches_in_cm\": 45.5, \"main_stem_length_in_cm\": 20.5}, {\"stem_diam_bottom_in_cm\": 0.41, \"total_meja\": 0, \"meja_per_100_cm\": 0.0, \"diam_top_in_cm\": 0.05, \"side_branches_in_cm\": 45.5, \"main_stem_length_in_cm\": 89.0}, {\"stem_diam_bottom_in_cm\": 0.47, \"total_meja\": 15, \"meja_per_100_cm\": 33.3, \"diam_top_in_cm\": 0.15, \"side_branches_in_cm\": 45.5, \"main_stem_length_in_cm\": 45.0}, {\"stem_diam_bottom_in_cm\": 0.44, \"total_meja\": 0, \"meja_per_100_cm\": 0.0, \"diam_top_in_cm\": 0.15, \"side_branches_in_cm\": 68.0, \"main_stem_length_in_cm\": 65.0}, {\"stem_diam_bottom_in_cm\": 0.17, \"total_meja\": 0, \"meja_per_100_cm\": 0.0, \"diam_top_in_cm\": 0.15, \"side_branches_in_cm\": 45.5, \"main_stem_length_in_cm\": 10.5}, {\"stem_diam_bottom_in_cm\": 0.26, \"total_meja\": 0, \"meja_per_100_cm\": 0.0, \"diam_top_in_cm\": 0.15, \"side_branches_in_cm\": 45.5, \"main_stem_length_in_cm\": 9.0}, {\"stem_diam_bottom_in_cm\": 0.52, \"total_meja\": 2, \"meja_per_100_cm\": 3.8, \"diam_top_in_cm\": 0.31, \"side_branches_in_cm\": 45.5, \"main_stem_length_in_cm\": 52.5}, {\"stem_diam_bottom_in_cm\": 0.23, \"total_meja\": 0, \"meja_per_100_cm\": 0.0, \"diam_top_in_cm\": 0.15, \"side_branches_in_cm\": 45.5, \"main_stem_length_in_cm\": 13.0}, {\"stem_diam_bottom_in_cm\": 0.25, \"total_meja\": 0, \"meja_per_100_cm\": 0.0, \"diam_top_in_cm\": 0.15, \"side_branches_in_cm\": 45.5, \"main_stem_length_in_cm\": 12.5}, {\"stem_diam_bottom_in_cm\": 0.49, \"total_meja\": 14, \"meja_per_100_cm\": 21.5, \"diam_top_in_cm\": 0.15, \"side_branches_in_cm\": 45.5, \"main_stem_length_in_cm\": 65.0}, {\"stem_diam_bottom_in_cm\": 0.47, \"total_meja\": 0, \"meja_per_100_cm\": 0.0, \"diam_top_in_cm\": 0.15, \"side_branches_in_cm\": 45.5, \"main_stem_length_in_cm\": 28.0}, {\"stem_diam_bottom_in_cm\": 0.98, \"total_meja\": 18, \"meja_per_100_cm\": 23.7, \"diam_top_in_cm\": 0.34, \"side_branches_in_cm\": 45.5, \"main_stem_length_in_cm\": 76.0}, {\"stem_diam_bottom_in_cm\": 0.72, \"total_meja\": 1, \"meja_per_100_cm\": 1.0, \"diam_top_in_cm\": 0.15, \"side_branches_in_cm\": 45.5, \"main_stem_length_in_cm\": 99.0}, {\"stem_diam_bottom_in_cm\": 0.58, \"total_meja\": 0, \"meja_per_100_cm\": 0.0, \"diam_top_in_cm\": 0.15, \"side_branches_in_cm\": 45.5, \"main_stem_length_in_cm\": 62.0}, {\"stem_diam_bottom_in_cm\": 0.32, \"total_meja\": 12, \"meja_per_100_cm\": 50.0, \"diam_top_in_cm\": 0.12, \"side_branches_in_cm\": 45.5, \"main_stem_length_in_cm\": 24.0}, {\"stem_diam_bottom_in_cm\": 0.46, \"total_meja\": 0, \"meja_per_100_cm\": 0.0, \"diam_top_in_cm\": 0.15, \"side_branches_in_cm\": 45.5, \"main_stem_length_in_cm\": 69.0}, {\"stem_diam_bottom_in_cm\": 0.45, \"total_meja\": 10, \"meja_per_100_cm\": 23.8, \"diam_top_in_cm\": 0.11, \"side_branches_in_cm\": 45.5, \"main_stem_length_in_cm\": 42.0}, {\"stem_diam_bottom_in_cm\": 0.57, \"total_meja\": 0, \"meja_per_100_cm\": 0.0, \"diam_top_in_cm\": 0.15, \"side_branches_in_cm\": 45.5, \"main_stem_length_in_cm\": 56.0}, {\"stem_diam_bottom_in_cm\": 0.49, \"total_meja\": 0, \"meja_per_100_cm\": 0.0, \"diam_top_in_cm\": 0.15, \"side_branches_in_cm\": 45.5, \"main_stem_length_in_cm\": 62.0}, {\"stem_diam_bottom_in_cm\": 0.26, \"total_meja\": 0, \"meja_per_100_cm\": 0.0, \"diam_top_in_cm\": 0.15, \"side_branches_in_cm\": 45.5, \"main_stem_length_in_cm\": 33.0}, {\"stem_diam_bottom_in_cm\": 0.61, \"total_meja\": 17, \"meja_per_100_cm\": 27.2, \"diam_top_in_cm\": 0.13, \"side_branches_in_cm\": 45.5, \"main_stem_length_in_cm\": 62.5}, {\"stem_diam_bottom_in_cm\": 0.35, \"total_meja\": 16, \"meja_per_100_cm\": 50.0, \"diam_top_in_cm\": 0.13, \"side_branches_in_cm\": 45.5, \"main_stem_length_in_cm\": 32.0}, {\"stem_diam_bottom_in_cm\": 0.43, \"total_meja\": 0, \"meja_per_100_cm\": 0.0, \"diam_top_in_cm\": 0.15, \"side_branches_in_cm\": 30.0, \"main_stem_length_in_cm\": 58.0}, {\"stem_diam_bottom_in_cm\": 0.62, \"total_meja\": 9, \"meja_per_100_cm\": 26.5, \"diam_top_in_cm\": 0.12, \"side_branches_in_cm\": 45.5, \"main_stem_length_in_cm\": 34.0}, {\"stem_diam_bottom_in_cm\": 0.43, \"total_meja\": 3, \"meja_per_100_cm\": 5.8, \"diam_top_in_cm\": 0.05, \"side_branches_in_cm\": 45.5, \"main_stem_length_in_cm\": 52.0}, {\"stem_diam_bottom_in_cm\": 0.37, \"total_meja\": 2, \"meja_per_100_cm\": 3.9, \"diam_top_in_cm\": 0.14, \"side_branches_in_cm\": 45.5, \"main_stem_length_in_cm\": 51.0}, {\"stem_diam_bottom_in_cm\": 0.47, \"total_meja\": 0, \"meja_per_100_cm\": 0.0, \"diam_top_in_cm\": 0.15, \"side_branches_in_cm\": 45.5, \"main_stem_length_in_cm\": 70.0}, {\"stem_diam_bottom_in_cm\": 0.21, \"total_meja\": 0, \"meja_per_100_cm\": 0.0, \"diam_top_in_cm\": 0.15, \"side_branches_in_cm\": 45.5, \"main_stem_length_in_cm\": 19.0}, {\"stem_diam_bottom_in_cm\": 0.63, \"total_meja\": 14, \"meja_per_100_cm\": 14.1, \"diam_top_in_cm\": 0.15, \"side_branches_in_cm\": 45.5, \"main_stem_length_in_cm\": 99.0}, {\"stem_diam_bottom_in_cm\": 1.05, \"total_meja\": 2, \"meja_per_100_cm\": 2.0, \"diam_top_in_cm\": 0.15, \"side_branches_in_cm\": 45.5, \"main_stem_length_in_cm\": 99.0}, {\"stem_diam_bottom_in_cm\": 0.36, \"total_meja\": 0, \"meja_per_100_cm\": 0.0, \"diam_top_in_cm\": 0.15, \"side_branches_in_cm\": 45.5, \"main_stem_length_in_cm\": 83.0}, {\"stem_diam_bottom_in_cm\": 0.88, \"total_meja\": 0, \"meja_per_100_cm\": 0.0, \"diam_top_in_cm\": 0.26, \"side_branches_in_cm\": 45.5, \"main_stem_length_in_cm\": 82.0}, {\"stem_diam_bottom_in_cm\": 0.4, \"total_meja\": 2, \"meja_per_100_cm\": 5.9, \"diam_top_in_cm\": 0.15, \"side_branches_in_cm\": 45.5, \"main_stem_length_in_cm\": 34.0}, {\"stem_diam_bottom_in_cm\": 0.24, \"total_meja\": 0, \"meja_per_100_cm\": 0.0, \"diam_top_in_cm\": 0.15, \"side_branches_in_cm\": 45.5, \"main_stem_length_in_cm\": 9.5}, {\"stem_diam_bottom_in_cm\": 0.49, \"total_meja\": 1, \"meja_per_100_cm\": 1.5, \"diam_top_in_cm\": 0.15, \"side_branches_in_cm\": 45.5, \"main_stem_length_in_cm\": 65.0}, {\"stem_diam_bottom_in_cm\": 0.62, \"total_meja\": 8, \"meja_per_100_cm\": 9.2, \"diam_top_in_cm\": 0.15, \"side_branches_in_cm\": 45.5, \"main_stem_length_in_cm\": 87.0}, {\"stem_diam_bottom_in_cm\": 0.27, \"total_meja\": 0, \"meja_per_100_cm\": 0.0, \"diam_top_in_cm\": 0.06, \"side_branches_in_cm\": 45.5, \"main_stem_length_in_cm\": 48.0}, {\"stem_diam_bottom_in_cm\": 0.56, \"total_meja\": 0, \"meja_per_100_cm\": 0.0, \"diam_top_in_cm\": 0.15, \"side_branches_in_cm\": 45.5, \"main_stem_length_in_cm\": 99.0}, {\"stem_diam_bottom_in_cm\": 0.29, \"total_meja\": 0, \"meja_per_100_cm\": 0.0, \"diam_top_in_cm\": 0.15, \"side_branches_in_cm\": 45.5, \"main_stem_length_in_cm\": 22.0}, {\"stem_diam_bottom_in_cm\": 0.42, \"total_meja\": 8, \"meja_per_100_cm\": 13.1, \"diam_top_in_cm\": 0.15, \"side_branches_in_cm\": 45.5, \"main_stem_length_in_cm\": 61.0}, {\"stem_diam_bottom_in_cm\": 0.44, \"total_meja\": 33, \"meja_per_100_cm\": 45.2, \"diam_top_in_cm\": 0.15, \"side_branches_in_cm\": 45.5, \"main_stem_length_in_cm\": 73.0}, {\"stem_diam_bottom_in_cm\": 0.17, \"total_meja\": 0, \"meja_per_100_cm\": 0.0, \"diam_top_in_cm\": 0.15, \"side_branches_in_cm\": 45.5, \"main_stem_length_in_cm\": 8.5}, {\"stem_diam_bottom_in_cm\": 0.31, \"total_meja\": 0, \"meja_per_100_cm\": 0.0, \"diam_top_in_cm\": 0.15, \"side_branches_in_cm\": 45.5, \"main_stem_length_in_cm\": 42.0}, {\"stem_diam_bottom_in_cm\": 0.32, \"total_meja\": 0, \"meja_per_100_cm\": 0.0, \"diam_top_in_cm\": 0.05, \"side_branches_in_cm\": 45.5, \"main_stem_length_in_cm\": 75.0}, {\"stem_diam_bottom_in_cm\": 0.77, \"total_meja\": 6, \"meja_per_100_cm\": 11.1, \"diam_top_in_cm\": 0.15, \"side_branches_in_cm\": 45.5, \"main_stem_length_in_cm\": 54.0}, {\"stem_diam_bottom_in_cm\": 0.52, \"total_meja\": 35, \"meja_per_100_cm\": 77.8, \"diam_top_in_cm\": 0.24, \"side_branches_in_cm\": 45.5, \"main_stem_length_in_cm\": 45.0}, {\"stem_diam_bottom_in_cm\": 0.42, \"total_meja\": 4, \"meja_per_100_cm\": 6.5, \"diam_top_in_cm\": 0.08, \"side_branches_in_cm\": 45.5, \"main_stem_length_in_cm\": 62.0}, {\"stem_diam_bottom_in_cm\": 0.28, \"total_meja\": 1, \"meja_per_100_cm\": 2.0, \"diam_top_in_cm\": 0.05, \"side_branches_in_cm\": 45.5, \"main_stem_length_in_cm\": 49.0}, {\"stem_diam_bottom_in_cm\": 0.61, \"total_meja\": 23, \"meja_per_100_cm\": 46.9, \"diam_top_in_cm\": 0.25, \"side_branches_in_cm\": 45.5, \"main_stem_length_in_cm\": 49.0}, {\"stem_diam_bottom_in_cm\": 0.53, \"total_meja\": 1, \"meja_per_100_cm\": 1.5, \"diam_top_in_cm\": 0.12, \"side_branches_in_cm\": 45.5, \"main_stem_length_in_cm\": 67.0}, {\"stem_diam_bottom_in_cm\": 0.56, \"total_meja\": 8, \"meja_per_100_cm\": 24.2, \"diam_top_in_cm\": 0.15, \"side_branches_in_cm\": 45.5, \"main_stem_length_in_cm\": 33.0}, {\"stem_diam_bottom_in_cm\": 0.7, \"total_meja\": 0, \"meja_per_100_cm\": 0.0, \"diam_top_in_cm\": 0.15, \"side_branches_in_cm\": 45.5, \"main_stem_length_in_cm\": 91.0}, {\"stem_diam_bottom_in_cm\": 0.48, \"total_meja\": 0, \"meja_per_100_cm\": 0.0, \"diam_top_in_cm\": 0.15, \"side_branches_in_cm\": 45.5, \"main_stem_length_in_cm\": 49.0}, {\"stem_diam_bottom_in_cm\": 0.22, \"total_meja\": 0, \"meja_per_100_cm\": 0.0, \"diam_top_in_cm\": 0.15, \"side_branches_in_cm\": 45.5, \"main_stem_length_in_cm\": 12.0}, {\"stem_diam_bottom_in_cm\": 0.36, \"total_meja\": 0, \"meja_per_100_cm\": 0.0, \"diam_top_in_cm\": 0.15, \"side_branches_in_cm\": 45.5, \"main_stem_length_in_cm\": 36.0}, {\"stem_diam_bottom_in_cm\": 0.79, \"total_meja\": 0, \"meja_per_100_cm\": 0.0, \"diam_top_in_cm\": 0.21, \"side_branches_in_cm\": 45.5, \"main_stem_length_in_cm\": 80.0}, {\"stem_diam_bottom_in_cm\": 0.8, \"total_meja\": 0, \"meja_per_100_cm\": 0.0, \"diam_top_in_cm\": 0.4, \"side_branches_in_cm\": 45.5, \"main_stem_length_in_cm\": 52.0}, {\"stem_diam_bottom_in_cm\": 0.38, \"total_meja\": 0, \"meja_per_100_cm\": 0.0, \"diam_top_in_cm\": 0.15, \"side_branches_in_cm\": 45.5, \"main_stem_length_in_cm\": 72.0}, {\"stem_diam_bottom_in_cm\": 0.94, \"total_meja\": 60, \"meja_per_100_cm\": 69.0, \"diam_top_in_cm\": 0.15, \"side_branches_in_cm\": 45.5, \"main_stem_length_in_cm\": 87.0}, {\"stem_diam_bottom_in_cm\": 0.68, \"total_meja\": 0, \"meja_per_100_cm\": 0.0, \"diam_top_in_cm\": 0.05, \"side_branches_in_cm\": 45.5, \"main_stem_length_in_cm\": 92.0}, {\"stem_diam_bottom_in_cm\": 0.56, \"total_meja\": 5, \"meja_per_100_cm\": 6.9, \"diam_top_in_cm\": 0.15, \"side_branches_in_cm\": 45.5, \"main_stem_length_in_cm\": 72.0}, {\"stem_diam_bottom_in_cm\": 0.82, \"total_meja\": 0, \"meja_per_100_cm\": 0.0, \"diam_top_in_cm\": 0.15, \"side_branches_in_cm\": 110.0, \"main_stem_length_in_cm\": 32.0}, {\"stem_diam_bottom_in_cm\": 0.65, \"total_meja\": 9, \"meja_per_100_cm\": 12.0, \"diam_top_in_cm\": 0.15, \"side_branches_in_cm\": 45.5, \"main_stem_length_in_cm\": 75.0}, {\"stem_diam_bottom_in_cm\": 0.33, \"total_meja\": 10, \"meja_per_100_cm\": 29.4, \"diam_top_in_cm\": 0.07, \"side_branches_in_cm\": 45.5, \"main_stem_length_in_cm\": 34.0}, {\"stem_diam_bottom_in_cm\": 0.93, \"total_meja\": 0, \"meja_per_100_cm\": 0.0, \"diam_top_in_cm\": 0.25, \"side_branches_in_cm\": 45.5, \"main_stem_length_in_cm\": 98.0}, {\"stem_diam_bottom_in_cm\": 0.76, \"total_meja\": 0, \"meja_per_100_cm\": 0.0, \"diam_top_in_cm\": 0.15, \"side_branches_in_cm\": 45.5, \"main_stem_length_in_cm\": 50.0}, {\"stem_diam_bottom_in_cm\": 0.38, \"total_meja\": 0, \"meja_per_100_cm\": 0.0, \"diam_top_in_cm\": 0.16, \"side_branches_in_cm\": 45.5, \"main_stem_length_in_cm\": 61.0}, {\"stem_diam_bottom_in_cm\": 0.62, \"total_meja\": 0, \"meja_per_100_cm\": 0.0, \"diam_top_in_cm\": 0.15, \"side_branches_in_cm\": 45.5, \"main_stem_length_in_cm\": 114.0}, {\"stem_diam_bottom_in_cm\": 0.82, \"total_meja\": 12, \"meja_per_100_cm\": 30.8, \"diam_top_in_cm\": 0.2, \"side_branches_in_cm\": 45.5, \"main_stem_length_in_cm\": 39.0}, {\"stem_diam_bottom_in_cm\": 0.64, \"total_meja\": 20, \"meja_per_100_cm\": 41.7, \"diam_top_in_cm\": 0.15, \"side_branches_in_cm\": 45.5, \"main_stem_length_in_cm\": 48.0}, {\"stem_diam_bottom_in_cm\": 0.56, \"total_meja\": 5, \"meja_per_100_cm\": 10.6, \"diam_top_in_cm\": 0.24, \"side_branches_in_cm\": 45.5, \"main_stem_length_in_cm\": 47.0}, {\"stem_diam_bottom_in_cm\": 0.38, \"total_meja\": 9, \"meja_per_100_cm\": 11.5, \"diam_top_in_cm\": 0.05, \"side_branches_in_cm\": 45.5, \"main_stem_length_in_cm\": 78.0}, {\"stem_diam_bottom_in_cm\": 0.92, \"total_meja\": 0, \"meja_per_100_cm\": 0.0, \"diam_top_in_cm\": 0.15, \"side_branches_in_cm\": 30.0, \"main_stem_length_in_cm\": 67.0}, {\"stem_diam_bottom_in_cm\": 0.74, \"total_meja\": 6, \"meja_per_100_cm\": 7.8, \"diam_top_in_cm\": 0.15, \"side_branches_in_cm\": 45.5, \"main_stem_length_in_cm\": 77.0}, {\"stem_diam_bottom_in_cm\": 0.36, \"total_meja\": 0, \"meja_per_100_cm\": 0.0, \"diam_top_in_cm\": 0.15, \"side_branches_in_cm\": 45.5, \"main_stem_length_in_cm\": 69.0}, {\"stem_diam_bottom_in_cm\": 0.62, \"total_meja\": 0, \"meja_per_100_cm\": 0.0, \"diam_top_in_cm\": 0.15, \"side_branches_in_cm\": 45.5, \"main_stem_length_in_cm\": 55.0}, {\"stem_diam_bottom_in_cm\": 0.39, \"total_meja\": 7, \"meja_per_100_cm\": 10.9, \"diam_top_in_cm\": 0.04, \"side_branches_in_cm\": 45.5, \"main_stem_length_in_cm\": 64.0}, {\"stem_diam_bottom_in_cm\": 0.75, \"total_meja\": 1, \"meja_per_100_cm\": 1.5, \"diam_top_in_cm\": 0.17, \"side_branches_in_cm\": 45.5, \"main_stem_length_in_cm\": 67.0}, {\"stem_diam_bottom_in_cm\": 0.21, \"total_meja\": 0, \"meja_per_100_cm\": 0.0, \"diam_top_in_cm\": 0.15, \"side_branches_in_cm\": 45.5, \"main_stem_length_in_cm\": 13.0}, {\"stem_diam_bottom_in_cm\": 0.43, \"total_meja\": 1, \"meja_per_100_cm\": 1.1, \"diam_top_in_cm\": 0.09, \"side_branches_in_cm\": 45.5, \"main_stem_length_in_cm\": 88.0}, {\"stem_diam_bottom_in_cm\": 0.63, \"total_meja\": 0, \"meja_per_100_cm\": 0.0, \"diam_top_in_cm\": 0.15, \"side_branches_in_cm\": 49.0, \"main_stem_length_in_cm\": 91.0}, {\"stem_diam_bottom_in_cm\": 0.72, \"total_meja\": 0, \"meja_per_100_cm\": 0.0, \"diam_top_in_cm\": 0.15, \"side_branches_in_cm\": 45.5, \"main_stem_length_in_cm\": 77.0}, {\"stem_diam_bottom_in_cm\": 0.16, \"total_meja\": 0, \"meja_per_100_cm\": 0.0, \"diam_top_in_cm\": 0.15, \"side_branches_in_cm\": 45.5, \"main_stem_length_in_cm\": 11.5}, {\"stem_diam_bottom_in_cm\": 0.54, \"total_meja\": 0, \"meja_per_100_cm\": 0.0, \"diam_top_in_cm\": 0.15, \"side_branches_in_cm\": 117.0, \"main_stem_length_in_cm\": 53.0}, {\"stem_diam_bottom_in_cm\": 0.45, \"total_meja\": 26, \"meja_per_100_cm\": 60.5, \"diam_top_in_cm\": 0.16, \"side_branches_in_cm\": 45.5, \"main_stem_length_in_cm\": 43.0}, {\"stem_diam_bottom_in_cm\": 0.18, \"total_meja\": 0, \"meja_per_100_cm\": 0.0, \"diam_top_in_cm\": 0.15, \"side_branches_in_cm\": 45.5, \"main_stem_length_in_cm\": 8.0}, {\"stem_diam_bottom_in_cm\": 0.2, \"total_meja\": 0, \"meja_per_100_cm\": 0.0, \"diam_top_in_cm\": 0.15, \"side_branches_in_cm\": 45.5, \"main_stem_length_in_cm\": 15.5}, {\"stem_diam_bottom_in_cm\": 0.55, \"total_meja\": 31, \"meja_per_100_cm\": 51.7, \"diam_top_in_cm\": 0.15, \"side_branches_in_cm\": 45.5, \"main_stem_length_in_cm\": 60.0}, {\"stem_diam_bottom_in_cm\": 0.64, \"total_meja\": 2, \"meja_per_100_cm\": 2.5, \"diam_top_in_cm\": 0.15, \"side_branches_in_cm\": 45.5, \"main_stem_length_in_cm\": 80.0}, {\"stem_diam_bottom_in_cm\": 0.64, \"total_meja\": 20, \"meja_per_100_cm\": 26.0, \"diam_top_in_cm\": 0.76, \"side_branches_in_cm\": 45.5, \"main_stem_length_in_cm\": 77.0}, {\"stem_diam_bottom_in_cm\": 0.34, \"total_meja\": 24, \"meja_per_100_cm\": 64.9, \"diam_top_in_cm\": 0.16, \"side_branches_in_cm\": 45.5, \"main_stem_length_in_cm\": 37.0}, {\"stem_diam_bottom_in_cm\": 0.38, \"total_meja\": 0, \"meja_per_100_cm\": 0.0, \"diam_top_in_cm\": 0.15, \"side_branches_in_cm\": 45.5, \"main_stem_length_in_cm\": 27.0}, {\"stem_diam_bottom_in_cm\": 0.34, \"total_meja\": 0, \"meja_per_100_cm\": 0.0, \"diam_top_in_cm\": 0.15, \"side_branches_in_cm\": 45.5, \"main_stem_length_in_cm\": 29.0}, {\"stem_diam_bottom_in_cm\": 0.47, \"total_meja\": 0, \"meja_per_100_cm\": 0.0, \"diam_top_in_cm\": 0.15, \"side_branches_in_cm\": 45.5, \"main_stem_length_in_cm\": 65.0}, {\"stem_diam_bottom_in_cm\": 0.3, \"total_meja\": 2, \"meja_per_100_cm\": 5.1, \"diam_top_in_cm\": 0.09, \"side_branches_in_cm\": 45.5, \"main_stem_length_in_cm\": 39.0}, {\"stem_diam_bottom_in_cm\": 0.51, \"total_meja\": 0, \"meja_per_100_cm\": 0.0, \"diam_top_in_cm\": 0.15, \"side_branches_in_cm\": 13.0, \"main_stem_length_in_cm\": 55.0}, {\"stem_diam_bottom_in_cm\": 0.34, \"total_meja\": 0, \"meja_per_100_cm\": 0.0, \"diam_top_in_cm\": 0.04, \"side_branches_in_cm\": 45.5, \"main_stem_length_in_cm\": 68.0}, {\"stem_diam_bottom_in_cm\": 0.24, \"total_meja\": 0, \"meja_per_100_cm\": 0.0, \"diam_top_in_cm\": 0.15, \"side_branches_in_cm\": 45.5, \"main_stem_length_in_cm\": 12.5}, {\"stem_diam_bottom_in_cm\": 0.79, \"total_meja\": 0, \"meja_per_100_cm\": 0.0, \"diam_top_in_cm\": 0.15, \"side_branches_in_cm\": 45.5, \"main_stem_length_in_cm\": 59.0}, {\"stem_diam_bottom_in_cm\": 0.34, \"total_meja\": 12, \"meja_per_100_cm\": 44.4, \"diam_top_in_cm\": 0.12, \"side_branches_in_cm\": 45.5, \"main_stem_length_in_cm\": 27.0}, {\"stem_diam_bottom_in_cm\": 0.25, \"total_meja\": 0, \"meja_per_100_cm\": 0.0, \"diam_top_in_cm\": 0.15, \"side_branches_in_cm\": 45.5, \"main_stem_length_in_cm\": 14.5}, {\"stem_diam_bottom_in_cm\": 0.31, \"total_meja\": 0, \"meja_per_100_cm\": 0.0, \"diam_top_in_cm\": 0.15, \"side_branches_in_cm\": 45.5, \"main_stem_length_in_cm\": 36.0}, {\"stem_diam_bottom_in_cm\": 0.4, \"total_meja\": 16, \"meja_per_100_cm\": 55.2, \"diam_top_in_cm\": 0.15, \"side_branches_in_cm\": 45.5, \"main_stem_length_in_cm\": 29.0}, {\"stem_diam_bottom_in_cm\": 0.42, \"total_meja\": 0, \"meja_per_100_cm\": 0.0, \"diam_top_in_cm\": 0.15, \"side_branches_in_cm\": 45.5, \"main_stem_length_in_cm\": 71.0}, {\"stem_diam_bottom_in_cm\": 0.46, \"total_meja\": 0, \"meja_per_100_cm\": 0.0, \"diam_top_in_cm\": 0.15, \"side_branches_in_cm\": 45.5, \"main_stem_length_in_cm\": 74.0}, {\"stem_diam_bottom_in_cm\": 0.47, \"total_meja\": 0, \"meja_per_100_cm\": 0.0, \"diam_top_in_cm\": 0.15, \"side_branches_in_cm\": 45.5, \"main_stem_length_in_cm\": 81.0}, {\"stem_diam_bottom_in_cm\": 0.62, \"total_meja\": 9, \"meja_per_100_cm\": 15.7, \"diam_top_in_cm\": 0.11, \"side_branches_in_cm\": 45.5, \"main_stem_length_in_cm\": 57.5}, {\"stem_diam_bottom_in_cm\": 0.54, \"total_meja\": 3, \"meja_per_100_cm\": 5.3, \"diam_top_in_cm\": 0.15, \"side_branches_in_cm\": 45.5, \"main_stem_length_in_cm\": 57.0}, {\"stem_diam_bottom_in_cm\": 0.57, \"total_meja\": 0, \"meja_per_100_cm\": 0.0, \"diam_top_in_cm\": 0.15, \"side_branches_in_cm\": 45.5, \"main_stem_length_in_cm\": 47.0}, {\"stem_diam_bottom_in_cm\": 0.27, \"total_meja\": 0, \"meja_per_100_cm\": 0.0, \"diam_top_in_cm\": 0.15, \"side_branches_in_cm\": 45.5, \"main_stem_length_in_cm\": 42.0}, {\"stem_diam_bottom_in_cm\": 0.17, \"total_meja\": 0, \"meja_per_100_cm\": 0.0, \"diam_top_in_cm\": 0.15, \"side_branches_in_cm\": 45.5, \"main_stem_length_in_cm\": 13.0}, {\"stem_diam_bottom_in_cm\": 0.38, \"total_meja\": 0, \"meja_per_100_cm\": 0.0, \"diam_top_in_cm\": 0.09, \"side_branches_in_cm\": 45.5, \"main_stem_length_in_cm\": 53.0}, {\"stem_diam_bottom_in_cm\": 0.21, \"total_meja\": 0, \"meja_per_100_cm\": 0.0, \"diam_top_in_cm\": 0.15, \"side_branches_in_cm\": 45.5, \"main_stem_length_in_cm\": 18.0}, {\"stem_diam_bottom_in_cm\": 0.96, \"total_meja\": 0, \"meja_per_100_cm\": 0.0, \"diam_top_in_cm\": 0.15, \"side_branches_in_cm\": 45.5, \"main_stem_length_in_cm\": 135.0}, {\"stem_diam_bottom_in_cm\": 0.2, \"total_meja\": 0, \"meja_per_100_cm\": 0.0, \"diam_top_in_cm\": 0.15, \"side_branches_in_cm\": 45.5, \"main_stem_length_in_cm\": 6.0}, {\"stem_diam_bottom_in_cm\": 0.35, \"total_meja\": 0, \"meja_per_100_cm\": 0.0, \"diam_top_in_cm\": 0.15, \"side_branches_in_cm\": 45.5, \"main_stem_length_in_cm\": 68.0}, {\"stem_diam_bottom_in_cm\": 0.31, \"total_meja\": 3, \"meja_per_100_cm\": 6.5, \"diam_top_in_cm\": 0.15, \"side_branches_in_cm\": 45.5, \"main_stem_length_in_cm\": 46.0}, {\"stem_diam_bottom_in_cm\": 0.75, \"total_meja\": 0, \"meja_per_100_cm\": 0.0, \"diam_top_in_cm\": 0.15, \"side_branches_in_cm\": 87.0, \"main_stem_length_in_cm\": 32.0}, {\"stem_diam_bottom_in_cm\": 0.72, \"total_meja\": 1, \"meja_per_100_cm\": 2.4, \"diam_top_in_cm\": 0.08, \"side_branches_in_cm\": 45.5, \"main_stem_length_in_cm\": 42.0}, {\"stem_diam_bottom_in_cm\": 0.44, \"total_meja\": 0, \"meja_per_100_cm\": 0.0, \"diam_top_in_cm\": 0.09, \"side_branches_in_cm\": 45.5, \"main_stem_length_in_cm\": 46.0}, {\"stem_diam_bottom_in_cm\": 0.64, \"total_meja\": 0, \"meja_per_100_cm\": 0.0, \"diam_top_in_cm\": 0.15, \"side_branches_in_cm\": 45.5, \"main_stem_length_in_cm\": 47.0}, {\"stem_diam_bottom_in_cm\": 0.42, \"total_meja\": 0, \"meja_per_100_cm\": 0.0, \"diam_top_in_cm\": 0.15, \"side_branches_in_cm\": 59.0, \"main_stem_length_in_cm\": 35.0}, {\"stem_diam_bottom_in_cm\": 0.75, \"total_meja\": 5, \"meja_per_100_cm\": 13.2, \"diam_top_in_cm\": 0.62, \"side_branches_in_cm\": 45.5, \"main_stem_length_in_cm\": 38.0}, {\"stem_diam_bottom_in_cm\": 0.56, \"total_meja\": 8, \"meja_per_100_cm\": 13.3, \"diam_top_in_cm\": 0.15, \"side_branches_in_cm\": 45.5, \"main_stem_length_in_cm\": 60.0}, {\"stem_diam_bottom_in_cm\": 0.57, \"total_meja\": 0, \"meja_per_100_cm\": 0.0, \"diam_top_in_cm\": 0.15, \"side_branches_in_cm\": 45.5, \"main_stem_length_in_cm\": 83.0}, {\"stem_diam_bottom_in_cm\": 0.5, \"total_meja\": 0, \"meja_per_100_cm\": 0.0, \"diam_top_in_cm\": 0.05, \"side_branches_in_cm\": 45.5, \"main_stem_length_in_cm\": 63.0}, {\"stem_diam_bottom_in_cm\": 0.71, \"total_meja\": 0, \"meja_per_100_cm\": 0.0, \"diam_top_in_cm\": 0.15, \"side_branches_in_cm\": 155.0, \"main_stem_length_in_cm\": 34.0}, {\"stem_diam_bottom_in_cm\": 0.5, \"total_meja\": 0, \"meja_per_100_cm\": 0.0, \"diam_top_in_cm\": 0.15, \"side_branches_in_cm\": 45.5, \"main_stem_length_in_cm\": 73.0}, {\"stem_diam_bottom_in_cm\": 0.61, \"total_meja\": 0, \"meja_per_100_cm\": 0.0, \"diam_top_in_cm\": 0.03, \"side_branches_in_cm\": 45.5, \"main_stem_length_in_cm\": 95.0}, {\"stem_diam_bottom_in_cm\": 0.48, \"total_meja\": 0, \"meja_per_100_cm\": 0.0, \"diam_top_in_cm\": 0.15, \"side_branches_in_cm\": 45.5, \"main_stem_length_in_cm\": 62.0}, {\"stem_diam_bottom_in_cm\": 0.46, \"total_meja\": 0, \"meja_per_100_cm\": 0.0, \"diam_top_in_cm\": 0.15, \"side_branches_in_cm\": 129.0, \"main_stem_length_in_cm\": 16.0}, {\"stem_diam_bottom_in_cm\": 0.5, \"total_meja\": 0, \"meja_per_100_cm\": 0.0, \"diam_top_in_cm\": 0.15, \"side_branches_in_cm\": 45.5, \"main_stem_length_in_cm\": 63.0}, {\"stem_diam_bottom_in_cm\": 0.78, \"total_meja\": 21, \"meja_per_100_cm\": 32.8, \"diam_top_in_cm\": 0.26, \"side_branches_in_cm\": 45.5, \"main_stem_length_in_cm\": 64.0}, {\"stem_diam_bottom_in_cm\": 0.35, \"total_meja\": 0, \"meja_per_100_cm\": 0.0, \"diam_top_in_cm\": 0.15, \"side_branches_in_cm\": 45.5, \"main_stem_length_in_cm\": 30.0}, {\"stem_diam_bottom_in_cm\": 0.31, \"total_meja\": 0, \"meja_per_100_cm\": 0.0, \"diam_top_in_cm\": 0.15, \"side_branches_in_cm\": 45.5, \"main_stem_length_in_cm\": 14.5}, {\"stem_diam_bottom_in_cm\": 0.41, \"total_meja\": 0, \"meja_per_100_cm\": 0.0, \"diam_top_in_cm\": 0.15, \"side_branches_in_cm\": 45.5, \"main_stem_length_in_cm\": 33.0}, {\"stem_diam_bottom_in_cm\": 0.47, \"total_meja\": 25, \"meja_per_100_cm\": 43.1, \"diam_top_in_cm\": 0.15, \"side_branches_in_cm\": 45.5, \"main_stem_length_in_cm\": 58.0}, {\"stem_diam_bottom_in_cm\": 0.68, \"total_meja\": 0, \"meja_per_100_cm\": 0.0, \"diam_top_in_cm\": 0.15, \"side_branches_in_cm\": 45.5, \"main_stem_length_in_cm\": 52.0}, {\"stem_diam_bottom_in_cm\": 0.74, \"total_meja\": 0, \"meja_per_100_cm\": 0.0, \"diam_top_in_cm\": 0.14, \"side_branches_in_cm\": 45.5, \"main_stem_length_in_cm\": 69.0}, {\"stem_diam_bottom_in_cm\": 0.39, \"total_meja\": 4, \"meja_per_100_cm\": 8.9, \"diam_top_in_cm\": 0.15, \"side_branches_in_cm\": 45.5, \"main_stem_length_in_cm\": 45.0}, {\"stem_diam_bottom_in_cm\": 0.8, \"total_meja\": 0, \"meja_per_100_cm\": 0.0, \"diam_top_in_cm\": 0.15, \"side_branches_in_cm\": 45.5, \"main_stem_length_in_cm\": 97.0}, {\"stem_diam_bottom_in_cm\": 0.4, \"total_meja\": 5, \"meja_per_100_cm\": 15.6, \"diam_top_in_cm\": 0.11, \"side_branches_in_cm\": 45.5, \"main_stem_length_in_cm\": 32.0}, {\"stem_diam_bottom_in_cm\": 0.24, \"total_meja\": 0, \"meja_per_100_cm\": 0.0, \"diam_top_in_cm\": 0.15, \"side_branches_in_cm\": 45.5, \"main_stem_length_in_cm\": 10.0}, {\"stem_diam_bottom_in_cm\": 0.66, \"total_meja\": 0, \"meja_per_100_cm\": 0.0, \"diam_top_in_cm\": 0.13, \"side_branches_in_cm\": 45.5, \"main_stem_length_in_cm\": 79.0}, {\"stem_diam_bottom_in_cm\": 0.46, \"total_meja\": 0, \"meja_per_100_cm\": 0.0, \"diam_top_in_cm\": 0.15, \"side_branches_in_cm\": 45.5, \"main_stem_length_in_cm\": 54.0}, {\"stem_diam_bottom_in_cm\": 0.62, \"total_meja\": 0, \"meja_per_100_cm\": 0.0, \"diam_top_in_cm\": 0.15, \"side_branches_in_cm\": 45.5, \"main_stem_length_in_cm\": 32.0}, {\"stem_diam_bottom_in_cm\": 0.68, \"total_meja\": 11, \"meja_per_100_cm\": 18.0, \"diam_top_in_cm\": 0.23, \"side_branches_in_cm\": 45.5, \"main_stem_length_in_cm\": 61.0}, {\"stem_diam_bottom_in_cm\": 0.62, \"total_meja\": 1, \"meja_per_100_cm\": 2.5, \"diam_top_in_cm\": 0.22, \"side_branches_in_cm\": 45.5, \"main_stem_length_in_cm\": 40.0}, {\"stem_diam_bottom_in_cm\": 0.33, \"total_meja\": 19, \"meja_per_100_cm\": 51.4, \"diam_top_in_cm\": 0.07, \"side_branches_in_cm\": 45.5, \"main_stem_length_in_cm\": 37.0}, {\"stem_diam_bottom_in_cm\": 0.68, \"total_meja\": 6, \"meja_per_100_cm\": 11.1, \"diam_top_in_cm\": 0.5, \"side_branches_in_cm\": 45.5, \"main_stem_length_in_cm\": 54.0}, {\"stem_diam_bottom_in_cm\": 0.44, \"total_meja\": 13, \"meja_per_100_cm\": 35.1, \"diam_top_in_cm\": 0.15, \"side_branches_in_cm\": 45.5, \"main_stem_length_in_cm\": 37.0}, {\"stem_diam_bottom_in_cm\": 0.31, \"total_meja\": 0, \"meja_per_100_cm\": 0.0, \"diam_top_in_cm\": 0.15, \"side_branches_in_cm\": 45.5, \"main_stem_length_in_cm\": 47.0}, {\"stem_diam_bottom_in_cm\": 0.37, \"total_meja\": 6, \"meja_per_100_cm\": 33.3, \"diam_top_in_cm\": 0.36, \"side_branches_in_cm\": 45.5, \"main_stem_length_in_cm\": 18.0}, {\"stem_diam_bottom_in_cm\": 0.27, \"total_meja\": 0, \"meja_per_100_cm\": 0.0, \"diam_top_in_cm\": 0.15, \"side_branches_in_cm\": 45.5, \"main_stem_length_in_cm\": 10.0}, {\"stem_diam_bottom_in_cm\": 0.33, \"total_meja\": 6, \"meja_per_100_cm\": 20.0, \"diam_top_in_cm\": 0.15, \"side_branches_in_cm\": 45.5, \"main_stem_length_in_cm\": 30.0}, {\"stem_diam_bottom_in_cm\": 0.61, \"total_meja\": 18, \"meja_per_100_cm\": 41.9, \"diam_top_in_cm\": 0.36, \"side_branches_in_cm\": 45.5, \"main_stem_length_in_cm\": 43.0}, {\"stem_diam_bottom_in_cm\": 0.29, \"total_meja\": 12, \"meja_per_100_cm\": 30.8, \"diam_top_in_cm\": 0.15, \"side_branches_in_cm\": 45.5, \"main_stem_length_in_cm\": 39.0}, {\"stem_diam_bottom_in_cm\": 0.16, \"total_meja\": 0, \"meja_per_100_cm\": 0.0, \"diam_top_in_cm\": 0.15, \"side_branches_in_cm\": 45.5, \"main_stem_length_in_cm\": 13.0}, {\"stem_diam_bottom_in_cm\": 0.3, \"total_meja\": 0, \"meja_per_100_cm\": 0.0, \"diam_top_in_cm\": 0.15, \"side_branches_in_cm\": 45.5, \"main_stem_length_in_cm\": 40.0}, {\"stem_diam_bottom_in_cm\": 0.43, \"total_meja\": 10, \"meja_per_100_cm\": 23.8, \"diam_top_in_cm\": 0.15, \"side_branches_in_cm\": 45.5, \"main_stem_length_in_cm\": 42.0}, {\"stem_diam_bottom_in_cm\": 0.64, \"total_meja\": 30, \"meja_per_100_cm\": 50.8, \"diam_top_in_cm\": 0.26, \"side_branches_in_cm\": 45.5, \"main_stem_length_in_cm\": 59.0}, {\"stem_diam_bottom_in_cm\": 0.49, \"total_meja\": 5, \"meja_per_100_cm\": 20.0, \"diam_top_in_cm\": 0.2, \"side_branches_in_cm\": 45.5, \"main_stem_length_in_cm\": 25.0}, {\"stem_diam_bottom_in_cm\": 0.23, \"total_meja\": 0, \"meja_per_100_cm\": 0.0, \"diam_top_in_cm\": 0.15, \"side_branches_in_cm\": 45.5, \"main_stem_length_in_cm\": 11.5}, {\"stem_diam_bottom_in_cm\": 0.59, \"total_meja\": 4, \"meja_per_100_cm\": 5.6, \"diam_top_in_cm\": 0.15, \"side_branches_in_cm\": 45.5, \"main_stem_length_in_cm\": 72.0}, {\"stem_diam_bottom_in_cm\": 0.69, \"total_meja\": 7, \"meja_per_100_cm\": 9.6, \"diam_top_in_cm\": 0.15, \"side_branches_in_cm\": 45.5, \"main_stem_length_in_cm\": 73.0}, {\"stem_diam_bottom_in_cm\": 0.56, \"total_meja\": 8, \"meja_per_100_cm\": 11.9, \"diam_top_in_cm\": 0.26, \"side_branches_in_cm\": 45.5, \"main_stem_length_in_cm\": 67.0}, {\"stem_diam_bottom_in_cm\": 0.43, \"total_meja\": 0, \"meja_per_100_cm\": 0.0, \"diam_top_in_cm\": 0.15, \"side_branches_in_cm\": 45.5, \"main_stem_length_in_cm\": 52.0}, {\"stem_diam_bottom_in_cm\": 0.37, \"total_meja\": 0, \"meja_per_100_cm\": 0.0, \"diam_top_in_cm\": 0.15, \"side_branches_in_cm\": 45.5, \"main_stem_length_in_cm\": 51.0}, {\"stem_diam_bottom_in_cm\": 0.43, \"total_meja\": 21, \"meja_per_100_cm\": 79.2, \"diam_top_in_cm\": 0.1, \"side_branches_in_cm\": 45.5, \"main_stem_length_in_cm\": 26.5}, {\"stem_diam_bottom_in_cm\": 0.67, \"total_meja\": 26, \"meja_per_100_cm\": 52.0, \"diam_top_in_cm\": 0.15, \"side_branches_in_cm\": 45.5, \"main_stem_length_in_cm\": 50.0}, {\"stem_diam_bottom_in_cm\": 0.21, \"total_meja\": 0, \"meja_per_100_cm\": 0.0, \"diam_top_in_cm\": 0.15, \"side_branches_in_cm\": 45.5, \"main_stem_length_in_cm\": 19.0}, {\"stem_diam_bottom_in_cm\": 0.49, \"total_meja\": 0, \"meja_per_100_cm\": 0.0, \"diam_top_in_cm\": 0.15, \"side_branches_in_cm\": 45.5, \"main_stem_length_in_cm\": 70.0}, {\"stem_diam_bottom_in_cm\": 0.18, \"total_meja\": 0, \"meja_per_100_cm\": 0.0, \"diam_top_in_cm\": 0.15, \"side_branches_in_cm\": 45.5, \"main_stem_length_in_cm\": 14.0}, {\"stem_diam_bottom_in_cm\": 0.7, \"total_meja\": 0, \"meja_per_100_cm\": 0.0, \"diam_top_in_cm\": 0.15, \"side_branches_in_cm\": 8.0, \"main_stem_length_in_cm\": 91.0}, {\"stem_diam_bottom_in_cm\": 0.51, \"total_meja\": 0, \"meja_per_100_cm\": 0.0, \"diam_top_in_cm\": 0.15, \"side_branches_in_cm\": 45.5, \"main_stem_length_in_cm\": 45.0}, {\"stem_diam_bottom_in_cm\": 0.71, \"total_meja\": 22, \"meja_per_100_cm\": 25.0, \"diam_top_in_cm\": 0.15, \"side_branches_in_cm\": 45.5, \"main_stem_length_in_cm\": 88.0}, {\"stem_diam_bottom_in_cm\": 0.47, \"total_meja\": 23, \"meja_per_100_cm\": 44.2, \"diam_top_in_cm\": 0.1, \"side_branches_in_cm\": 45.5, \"main_stem_length_in_cm\": 52.0}, {\"stem_diam_bottom_in_cm\": 0.76, \"total_meja\": 0, \"meja_per_100_cm\": 0.0, \"diam_top_in_cm\": 0.15, \"side_branches_in_cm\": 128.0, \"main_stem_length_in_cm\": 58.0}, {\"stem_diam_bottom_in_cm\": 0.38, \"total_meja\": 0, \"meja_per_100_cm\": 0.0, \"diam_top_in_cm\": 0.04, \"side_branches_in_cm\": 45.5, \"main_stem_length_in_cm\": 66.0}, {\"stem_diam_bottom_in_cm\": 0.68, \"total_meja\": 10, \"meja_per_100_cm\": 16.1, \"diam_top_in_cm\": 0.15, \"side_branches_in_cm\": 45.5, \"main_stem_length_in_cm\": 62.0}, {\"stem_diam_bottom_in_cm\": 0.23, \"total_meja\": 0, \"meja_per_100_cm\": 0.0, \"diam_top_in_cm\": 0.15, \"side_branches_in_cm\": 45.5, \"main_stem_length_in_cm\": 11.5}, {\"stem_diam_bottom_in_cm\": 0.37, \"total_meja\": 10, \"meja_per_100_cm\": 34.5, \"diam_top_in_cm\": 0.13, \"side_branches_in_cm\": 45.5, \"main_stem_length_in_cm\": 29.0}, {\"stem_diam_bottom_in_cm\": 0.33, \"total_meja\": 0, \"meja_per_100_cm\": 0.0, \"diam_top_in_cm\": 0.09, \"side_branches_in_cm\": 45.5, \"main_stem_length_in_cm\": 51.0}, {\"stem_diam_bottom_in_cm\": 0.38, \"total_meja\": 19, \"meja_per_100_cm\": 35.8, \"diam_top_in_cm\": 0.23, \"side_branches_in_cm\": 45.5, \"main_stem_length_in_cm\": 53.0}, {\"stem_diam_bottom_in_cm\": 0.48, \"total_meja\": 0, \"meja_per_100_cm\": 0.0, \"diam_top_in_cm\": 0.15, \"side_branches_in_cm\": 45.5, \"main_stem_length_in_cm\": 43.0}, {\"stem_diam_bottom_in_cm\": 0.33, \"total_meja\": 0, \"meja_per_100_cm\": 0.0, \"diam_top_in_cm\": 0.15, \"side_branches_in_cm\": 45.5, \"main_stem_length_in_cm\": 38.0}, {\"stem_diam_bottom_in_cm\": 0.41, \"total_meja\": 2, \"meja_per_100_cm\": 4.3, \"diam_top_in_cm\": 0.07, \"side_branches_in_cm\": 45.5, \"main_stem_length_in_cm\": 47.0}, {\"stem_diam_bottom_in_cm\": 0.35, \"total_meja\": 5, \"meja_per_100_cm\": 17.2, \"diam_top_in_cm\": 0.11, \"side_branches_in_cm\": 45.5, \"main_stem_length_in_cm\": 29.0}, {\"stem_diam_bottom_in_cm\": 0.75, \"total_meja\": 0, \"meja_per_100_cm\": 0.0, \"diam_top_in_cm\": 0.15, \"side_branches_in_cm\": 45.5, \"main_stem_length_in_cm\": 87.0}, {\"stem_diam_bottom_in_cm\": 0.37, \"total_meja\": 7, \"meja_per_100_cm\": 17.5, \"diam_top_in_cm\": 0.15, \"side_branches_in_cm\": 45.5, \"main_stem_length_in_cm\": 40.0}, {\"stem_diam_bottom_in_cm\": 0.62, \"total_meja\": 0, \"meja_per_100_cm\": 0.0, \"diam_top_in_cm\": 0.11, \"side_branches_in_cm\": 45.5, \"main_stem_length_in_cm\": 71.0}, {\"stem_diam_bottom_in_cm\": 0.45, \"total_meja\": 0, \"meja_per_100_cm\": 0.0, \"diam_top_in_cm\": 0.15, \"side_branches_in_cm\": 45.5, \"main_stem_length_in_cm\": 90.0}, {\"stem_diam_bottom_in_cm\": 0.68, \"total_meja\": 41, \"meja_per_100_cm\": 89.1, \"diam_top_in_cm\": 0.15, \"side_branches_in_cm\": 45.5, \"main_stem_length_in_cm\": 46.0}, {\"stem_diam_bottom_in_cm\": 0.76, \"total_meja\": 0, \"meja_per_100_cm\": 0.0, \"diam_top_in_cm\": 0.15, \"side_branches_in_cm\": 129.0, \"main_stem_length_in_cm\": 64.0}, {\"stem_diam_bottom_in_cm\": 0.47, \"total_meja\": 0, \"meja_per_100_cm\": 0.0, \"diam_top_in_cm\": 0.15, \"side_branches_in_cm\": 45.5, \"main_stem_length_in_cm\": 63.0}, {\"stem_diam_bottom_in_cm\": 0.44, \"total_meja\": 8, \"meja_per_100_cm\": 16.7, \"diam_top_in_cm\": 0.15, \"side_branches_in_cm\": 45.5, \"main_stem_length_in_cm\": 48.0}, {\"stem_diam_bottom_in_cm\": 0.5, \"total_meja\": 2, \"meja_per_100_cm\": 7.7, \"diam_top_in_cm\": 0.15, \"side_branches_in_cm\": 111.0, \"main_stem_length_in_cm\": 26.0}, {\"stem_diam_bottom_in_cm\": 0.11, \"total_meja\": 1, \"meja_per_100_cm\": 3.3, \"diam_top_in_cm\": 0.15, \"side_branches_in_cm\": 45.5, \"main_stem_length_in_cm\": 30.0}, {\"stem_diam_bottom_in_cm\": 0.16, \"total_meja\": 0, \"meja_per_100_cm\": 0.0, \"diam_top_in_cm\": 0.15, \"side_branches_in_cm\": 45.5, \"main_stem_length_in_cm\": 12.0}, {\"stem_diam_bottom_in_cm\": 0.66, \"total_meja\": 0, \"meja_per_100_cm\": 0.0, \"diam_top_in_cm\": 0.15, \"side_branches_in_cm\": 57.0, \"main_stem_length_in_cm\": 75.0}, {\"stem_diam_bottom_in_cm\": 0.18, \"total_meja\": 0, \"meja_per_100_cm\": 0.0, \"diam_top_in_cm\": 0.15, \"side_branches_in_cm\": 45.5, \"main_stem_length_in_cm\": 14.0}, {\"stem_diam_bottom_in_cm\": 0.63, \"total_meja\": 0, \"meja_per_100_cm\": 0.0, \"diam_top_in_cm\": 0.15, \"side_branches_in_cm\": 45.5, \"main_stem_length_in_cm\": 86.0}, {\"stem_diam_bottom_in_cm\": 0.67, \"total_meja\": 0, \"meja_per_100_cm\": 0.0, \"diam_top_in_cm\": 0.15, \"side_branches_in_cm\": 83.0, \"main_stem_length_in_cm\": 57.0}, {\"stem_diam_bottom_in_cm\": 0.33, \"total_meja\": 0, \"meja_per_100_cm\": 0.0, \"diam_top_in_cm\": 0.15, \"side_branches_in_cm\": 45.5, \"main_stem_length_in_cm\": 25.0}, {\"stem_diam_bottom_in_cm\": 0.21, \"total_meja\": 0, \"meja_per_100_cm\": 0.0, \"diam_top_in_cm\": 0.15, \"side_branches_in_cm\": 45.5, \"main_stem_length_in_cm\": 16.5}, {\"stem_diam_bottom_in_cm\": 1.08, \"total_meja\": 1, \"meja_per_100_cm\": 1.6, \"diam_top_in_cm\": 0.58, \"side_branches_in_cm\": 45.5, \"main_stem_length_in_cm\": 63.0}, {\"stem_diam_bottom_in_cm\": 0.4, \"total_meja\": 0, \"meja_per_100_cm\": 0.0, \"diam_top_in_cm\": 0.15, \"side_branches_in_cm\": 45.5, \"main_stem_length_in_cm\": 43.0}, {\"stem_diam_bottom_in_cm\": 0.71, \"total_meja\": 2, \"meja_per_100_cm\": 2.1, \"diam_top_in_cm\": 0.15, \"side_branches_in_cm\": 45.5, \"main_stem_length_in_cm\": 96.0}, {\"stem_diam_bottom_in_cm\": 0.82, \"total_meja\": 37, \"meja_per_100_cm\": 48.1, \"diam_top_in_cm\": 0.15, \"side_branches_in_cm\": 45.5, \"main_stem_length_in_cm\": 77.0}, {\"stem_diam_bottom_in_cm\": 0.53, \"total_meja\": 0, \"meja_per_100_cm\": 0.0, \"diam_top_in_cm\": 0.02, \"side_branches_in_cm\": 45.5, \"main_stem_length_in_cm\": 103.0}, {\"stem_diam_bottom_in_cm\": 0.26, \"total_meja\": 0, \"meja_per_100_cm\": 0.0, \"diam_top_in_cm\": 0.15, \"side_branches_in_cm\": 45.5, \"main_stem_length_in_cm\": 8.0}, {\"stem_diam_bottom_in_cm\": 0.3, \"total_meja\": 0, \"meja_per_100_cm\": 0.0, \"diam_top_in_cm\": 0.15, \"side_branches_in_cm\": 45.5, \"main_stem_length_in_cm\": 34.0}, {\"stem_diam_bottom_in_cm\": 0.26, \"total_meja\": 4, \"meja_per_100_cm\": 14.8, \"diam_top_in_cm\": 0.15, \"side_branches_in_cm\": 45.5, \"main_stem_length_in_cm\": 27.0}, {\"stem_diam_bottom_in_cm\": 0.54, \"total_meja\": 0, \"meja_per_100_cm\": 0.0, \"diam_top_in_cm\": 0.15, \"side_branches_in_cm\": 45.5, \"main_stem_length_in_cm\": 34.0}, {\"stem_diam_bottom_in_cm\": 0.28, \"total_meja\": 0, \"meja_per_100_cm\": 0.0, \"diam_top_in_cm\": 0.15, \"side_branches_in_cm\": 45.5, \"main_stem_length_in_cm\": 65.0}, {\"stem_diam_bottom_in_cm\": 0.44, \"total_meja\": 1, \"meja_per_100_cm\": 1.8, \"diam_top_in_cm\": 0.15, \"side_branches_in_cm\": 45.5, \"main_stem_length_in_cm\": 56.0}, {\"stem_diam_bottom_in_cm\": 0.56, \"total_meja\": 0, \"meja_per_100_cm\": 0.0, \"diam_top_in_cm\": 0.15, \"side_branches_in_cm\": 28.0, \"main_stem_length_in_cm\": 61.0}, {\"stem_diam_bottom_in_cm\": 0.46, \"total_meja\": 0, \"meja_per_100_cm\": 0.0, \"diam_top_in_cm\": 0.34, \"side_branches_in_cm\": 45.5, \"main_stem_length_in_cm\": 50.0}, {\"stem_diam_bottom_in_cm\": 0.6, \"total_meja\": 0, \"meja_per_100_cm\": 0.0, \"diam_top_in_cm\": 0.15, \"side_branches_in_cm\": 45.5, \"main_stem_length_in_cm\": 70.0}, {\"stem_diam_bottom_in_cm\": 0.3, \"total_meja\": 0, \"meja_per_100_cm\": 0.0, \"diam_top_in_cm\": 0.15, \"side_branches_in_cm\": 45.5, \"main_stem_length_in_cm\": 39.0}, {\"stem_diam_bottom_in_cm\": 0.77, \"total_meja\": 1, \"meja_per_100_cm\": 1.0, \"diam_top_in_cm\": 0.15, \"side_branches_in_cm\": 45.5, \"main_stem_length_in_cm\": 100.0}, {\"stem_diam_bottom_in_cm\": 0.21, \"total_meja\": 0, \"meja_per_100_cm\": 0.0, \"diam_top_in_cm\": 0.15, \"side_branches_in_cm\": 45.5, \"main_stem_length_in_cm\": 20.0}, {\"stem_diam_bottom_in_cm\": 0.34, \"total_meja\": 0, \"meja_per_100_cm\": 0.0, \"diam_top_in_cm\": 0.15, \"side_branches_in_cm\": 45.5, \"main_stem_length_in_cm\": 59.0}, {\"stem_diam_bottom_in_cm\": 0.61, \"total_meja\": 0, \"meja_per_100_cm\": 0.0, \"diam_top_in_cm\": 0.15, \"side_branches_in_cm\": 45.5, \"main_stem_length_in_cm\": 83.0}, {\"stem_diam_bottom_in_cm\": 0.34, \"total_meja\": 0, \"meja_per_100_cm\": 0.0, \"diam_top_in_cm\": 0.15, \"side_branches_in_cm\": 45.5, \"main_stem_length_in_cm\": 35.0}, {\"stem_diam_bottom_in_cm\": 0.57, \"total_meja\": 1, \"meja_per_100_cm\": 1.4, \"diam_top_in_cm\": 0.12, \"side_branches_in_cm\": 45.5, \"main_stem_length_in_cm\": 72.0}, {\"stem_diam_bottom_in_cm\": 0.41, \"total_meja\": 0, \"meja_per_100_cm\": 0.0, \"diam_top_in_cm\": 0.15, \"side_branches_in_cm\": 45.5, \"main_stem_length_in_cm\": 40.0}, {\"stem_diam_bottom_in_cm\": 0.29, \"total_meja\": 0, \"meja_per_100_cm\": 0.0, \"diam_top_in_cm\": 0.15, \"side_branches_in_cm\": 45.5, \"main_stem_length_in_cm\": 20.5}, {\"stem_diam_bottom_in_cm\": 0.73, \"total_meja\": 0, \"meja_per_100_cm\": 0.0, \"diam_top_in_cm\": 0.05, \"side_branches_in_cm\": 45.5, \"main_stem_length_in_cm\": 85.0}, {\"stem_diam_bottom_in_cm\": 0.38, \"total_meja\": 25, \"meja_per_100_cm\": 43.1, \"diam_top_in_cm\": 0.15, \"side_branches_in_cm\": 45.5, \"main_stem_length_in_cm\": 58.0}, {\"stem_diam_bottom_in_cm\": 0.52, \"total_meja\": 13, \"meja_per_100_cm\": 34.2, \"diam_top_in_cm\": 0.15, \"side_branches_in_cm\": 45.5, \"main_stem_length_in_cm\": 38.0}, {\"stem_diam_bottom_in_cm\": 0.36, \"total_meja\": 0, \"meja_per_100_cm\": 0.0, \"diam_top_in_cm\": 0.15, \"side_branches_in_cm\": 45.5, \"main_stem_length_in_cm\": 18.0}, {\"stem_diam_bottom_in_cm\": 0.46, \"total_meja\": 0, \"meja_per_100_cm\": 0.0, \"diam_top_in_cm\": 0.15, \"side_branches_in_cm\": 45.5, \"main_stem_length_in_cm\": 56.0}, {\"stem_diam_bottom_in_cm\": 0.55, \"total_meja\": 0, \"meja_per_100_cm\": 0.0, \"diam_top_in_cm\": 0.15, \"side_branches_in_cm\": 45.5, \"main_stem_length_in_cm\": 46.0}, {\"stem_diam_bottom_in_cm\": 0.45, \"total_meja\": 2, \"meja_per_100_cm\": 3.4, \"diam_top_in_cm\": 0.15, \"side_branches_in_cm\": 45.5, \"main_stem_length_in_cm\": 59.0}, {\"stem_diam_bottom_in_cm\": 0.28, \"total_meja\": 0, \"meja_per_100_cm\": 0.0, \"diam_top_in_cm\": 0.15, \"side_branches_in_cm\": 45.5, \"main_stem_length_in_cm\": 40.0}, {\"stem_diam_bottom_in_cm\": 0.38, \"total_meja\": 0, \"meja_per_100_cm\": 0.0, \"diam_top_in_cm\": 0.15, \"side_branches_in_cm\": 45.5, \"main_stem_length_in_cm\": 56.0}, {\"stem_diam_bottom_in_cm\": 0.43, \"total_meja\": 0, \"meja_per_100_cm\": 0.0, \"diam_top_in_cm\": 0.15, \"side_branches_in_cm\": 45.5, \"main_stem_length_in_cm\": 49.0}, {\"stem_diam_bottom_in_cm\": 0.7, \"total_meja\": 21, \"meja_per_100_cm\": 32.8, \"diam_top_in_cm\": 0.15, \"side_branches_in_cm\": 45.5, \"main_stem_length_in_cm\": 64.0}, {\"stem_diam_bottom_in_cm\": 0.94, \"total_meja\": 1, \"meja_per_100_cm\": 1.2, \"diam_top_in_cm\": 0.16, \"side_branches_in_cm\": 45.5, \"main_stem_length_in_cm\": 86.0}, {\"stem_diam_bottom_in_cm\": 0.58, \"total_meja\": 39, \"meja_per_100_cm\": 76.5, \"diam_top_in_cm\": 0.29, \"side_branches_in_cm\": 45.5, \"main_stem_length_in_cm\": 51.0}, {\"stem_diam_bottom_in_cm\": 0.58, \"total_meja\": 6, \"meja_per_100_cm\": 10.0, \"diam_top_in_cm\": 0.15, \"side_branches_in_cm\": 45.5, \"main_stem_length_in_cm\": 60.0}, {\"stem_diam_bottom_in_cm\": 0.44, \"total_meja\": 0, \"meja_per_100_cm\": 0.0, \"diam_top_in_cm\": 0.15, \"side_branches_in_cm\": 45.5, \"main_stem_length_in_cm\": 41.0}, {\"stem_diam_bottom_in_cm\": 0.69, \"total_meja\": 23, \"meja_per_100_cm\": 67.6, \"diam_top_in_cm\": 0.13, \"side_branches_in_cm\": 45.5, \"main_stem_length_in_cm\": 34.0}, {\"stem_diam_bottom_in_cm\": 0.2, \"total_meja\": 0, \"meja_per_100_cm\": 0.0, \"diam_top_in_cm\": 0.15, \"side_branches_in_cm\": 45.5, \"main_stem_length_in_cm\": 6.0}, {\"stem_diam_bottom_in_cm\": 0.58, \"total_meja\": 0, \"meja_per_100_cm\": 0.0, \"diam_top_in_cm\": 0.15, \"side_branches_in_cm\": 45.5, \"main_stem_length_in_cm\": 93.0}, {\"stem_diam_bottom_in_cm\": 0.65, \"total_meja\": 31, \"meja_per_100_cm\": 68.9, \"diam_top_in_cm\": 0.3, \"side_branches_in_cm\": 45.5, \"main_stem_length_in_cm\": 45.0}, {\"stem_diam_bottom_in_cm\": 0.67, \"total_meja\": 10, \"meja_per_100_cm\": 23.3, \"diam_top_in_cm\": 0.15, \"side_branches_in_cm\": 45.5, \"main_stem_length_in_cm\": 43.0}, {\"stem_diam_bottom_in_cm\": 0.38, \"total_meja\": 0, \"meja_per_100_cm\": 0.0, \"diam_top_in_cm\": 0.15, \"side_branches_in_cm\": 32.0, \"main_stem_length_in_cm\": 28.0}, {\"stem_diam_bottom_in_cm\": 0.44, \"total_meja\": 19, \"meja_per_100_cm\": 73.1, \"diam_top_in_cm\": 0.15, \"side_branches_in_cm\": 45.5, \"main_stem_length_in_cm\": 26.0}, {\"stem_diam_bottom_in_cm\": 0.7, \"total_meja\": 6, \"meja_per_100_cm\": 13.0, \"diam_top_in_cm\": 0.41, \"side_branches_in_cm\": 45.5, \"main_stem_length_in_cm\": 46.0}, {\"stem_diam_bottom_in_cm\": 0.65, \"total_meja\": 0, \"meja_per_100_cm\": 0.0, \"diam_top_in_cm\": 0.15, \"side_branches_in_cm\": 45.5, \"main_stem_length_in_cm\": 89.0}, {\"stem_diam_bottom_in_cm\": 0.29, \"total_meja\": 0, \"meja_per_100_cm\": 0.0, \"diam_top_in_cm\": 0.15, \"side_branches_in_cm\": 45.5, \"main_stem_length_in_cm\": 22.0}, {\"stem_diam_bottom_in_cm\": 0.24, \"total_meja\": 0, \"meja_per_100_cm\": 0.0, \"diam_top_in_cm\": 0.15, \"side_branches_in_cm\": 45.5, \"main_stem_length_in_cm\": 43.0}, {\"stem_diam_bottom_in_cm\": 0.41, \"total_meja\": 0, \"meja_per_100_cm\": 0.0, \"diam_top_in_cm\": 0.15, \"side_branches_in_cm\": 45.5, \"main_stem_length_in_cm\": 38.0}, {\"stem_diam_bottom_in_cm\": 0.42, \"total_meja\": 0, \"meja_per_100_cm\": 0.0, \"diam_top_in_cm\": 0.15, \"side_branches_in_cm\": 14.0, \"main_stem_length_in_cm\": 52.0}, {\"stem_diam_bottom_in_cm\": 0.71, \"total_meja\": 4, \"meja_per_100_cm\": 4.7, \"diam_top_in_cm\": 0.15, \"side_branches_in_cm\": 45.5, \"main_stem_length_in_cm\": 86.0}, {\"stem_diam_bottom_in_cm\": 0.84, \"total_meja\": 0, \"meja_per_100_cm\": 0.0, \"diam_top_in_cm\": 0.15, \"side_branches_in_cm\": 45.5, \"main_stem_length_in_cm\": 111.0}, {\"stem_diam_bottom_in_cm\": 0.53, \"total_meja\": 0, \"meja_per_100_cm\": 0.0, \"diam_top_in_cm\": 0.15, \"side_branches_in_cm\": 22.0, \"main_stem_length_in_cm\": 47.0}, {\"stem_diam_bottom_in_cm\": 0.52, \"total_meja\": 4, \"meja_per_100_cm\": 8.7, \"diam_top_in_cm\": 0.34, \"side_branches_in_cm\": 45.5, \"main_stem_length_in_cm\": 46.0}, {\"stem_diam_bottom_in_cm\": 0.61, \"total_meja\": 34, \"meja_per_100_cm\": 103.0, \"diam_top_in_cm\": 0.26, \"side_branches_in_cm\": 45.5, \"main_stem_length_in_cm\": 33.0}, {\"stem_diam_bottom_in_cm\": 0.47, \"total_meja\": 19, \"meja_per_100_cm\": 44.2, \"diam_top_in_cm\": 0.14, \"side_branches_in_cm\": 45.5, \"main_stem_length_in_cm\": 43.0}, {\"stem_diam_bottom_in_cm\": 0.41, \"total_meja\": 0, \"meja_per_100_cm\": 0.0, \"diam_top_in_cm\": 0.15, \"side_branches_in_cm\": 45.5, \"main_stem_length_in_cm\": 45.0}, {\"stem_diam_bottom_in_cm\": 0.44, \"total_meja\": 0, \"meja_per_100_cm\": 0.0, \"diam_top_in_cm\": 0.15, \"side_branches_in_cm\": 45.5, \"main_stem_length_in_cm\": 78.0}, {\"stem_diam_bottom_in_cm\": 0.41, \"total_meja\": 3, \"meja_per_100_cm\": 10.7, \"diam_top_in_cm\": 0.09, \"side_branches_in_cm\": 45.5, \"main_stem_length_in_cm\": 28.0}, {\"stem_diam_bottom_in_cm\": 0.31, \"total_meja\": 2, \"meja_per_100_cm\": 4.7, \"diam_top_in_cm\": 0.07, \"side_branches_in_cm\": 45.5, \"main_stem_length_in_cm\": 43.0}, {\"stem_diam_bottom_in_cm\": 0.31, \"total_meja\": 0, \"meja_per_100_cm\": 0.0, \"diam_top_in_cm\": 0.15, \"side_branches_in_cm\": 45.5, \"main_stem_length_in_cm\": 36.0}, {\"stem_diam_bottom_in_cm\": 0.6, \"total_meja\": 10, \"meja_per_100_cm\": 24.4, \"diam_top_in_cm\": 0.53, \"side_branches_in_cm\": 45.5, \"main_stem_length_in_cm\": 41.0}, {\"stem_diam_bottom_in_cm\": 0.48, \"total_meja\": 26, \"meja_per_100_cm\": 83.9, \"diam_top_in_cm\": 0.28, \"side_branches_in_cm\": 45.5, \"main_stem_length_in_cm\": 31.0}, {\"stem_diam_bottom_in_cm\": 0.43, \"total_meja\": 6, \"meja_per_100_cm\": 15.0, \"diam_top_in_cm\": 0.15, \"side_branches_in_cm\": 45.5, \"main_stem_length_in_cm\": 40.0}, {\"stem_diam_bottom_in_cm\": 0.61, \"total_meja\": 0, \"meja_per_100_cm\": 0.0, \"diam_top_in_cm\": 0.15, \"side_branches_in_cm\": 45.5, \"main_stem_length_in_cm\": 52.0}, {\"stem_diam_bottom_in_cm\": 0.46, \"total_meja\": 0, \"meja_per_100_cm\": 0.0, \"diam_top_in_cm\": 0.15, \"side_branches_in_cm\": 45.5, \"main_stem_length_in_cm\": 60.0}, {\"stem_diam_bottom_in_cm\": 0.38, \"total_meja\": 5, \"meja_per_100_cm\": 13.5, \"diam_top_in_cm\": 0.14, \"side_branches_in_cm\": 45.5, \"main_stem_length_in_cm\": 37.0}, {\"stem_diam_bottom_in_cm\": 0.63, \"total_meja\": 0, \"meja_per_100_cm\": 0.0, \"diam_top_in_cm\": 0.1, \"side_branches_in_cm\": 45.5, \"main_stem_length_in_cm\": 76.0}, {\"stem_diam_bottom_in_cm\": 0.55, \"total_meja\": 5, \"meja_per_100_cm\": 13.5, \"diam_top_in_cm\": 0.43, \"side_branches_in_cm\": 45.5, \"main_stem_length_in_cm\": 37.0}, {\"stem_diam_bottom_in_cm\": 0.63, \"total_meja\": 19, \"meja_per_100_cm\": 39.6, \"diam_top_in_cm\": 0.15, \"side_branches_in_cm\": 45.5, \"main_stem_length_in_cm\": 48.0}, {\"stem_diam_bottom_in_cm\": 0.45, \"total_meja\": 7, \"meja_per_100_cm\": 21.9, \"diam_top_in_cm\": 0.27, \"side_branches_in_cm\": 45.5, \"main_stem_length_in_cm\": 32.0}, {\"stem_diam_bottom_in_cm\": 0.47, \"total_meja\": 0, \"meja_per_100_cm\": 0.0, \"diam_top_in_cm\": 0.15, \"side_branches_in_cm\": 45.5, \"main_stem_length_in_cm\": 76.0}, {\"stem_diam_bottom_in_cm\": 0.5, \"total_meja\": 2, \"meja_per_100_cm\": 3.8, \"diam_top_in_cm\": 0.18, \"side_branches_in_cm\": 45.5, \"main_stem_length_in_cm\": 53.0}, {\"stem_diam_bottom_in_cm\": 0.38, \"total_meja\": 3, \"meja_per_100_cm\": 4.7, \"diam_top_in_cm\": 0.13, \"side_branches_in_cm\": 45.5, \"main_stem_length_in_cm\": 64.0}, {\"stem_diam_bottom_in_cm\": 0.41, \"total_meja\": 0, \"meja_per_100_cm\": 0.0, \"diam_top_in_cm\": 0.15, \"side_branches_in_cm\": 49.0, \"main_stem_length_in_cm\": 31.0}, {\"stem_diam_bottom_in_cm\": 0.48, \"total_meja\": 0, \"meja_per_100_cm\": 0.0, \"diam_top_in_cm\": 0.15, \"side_branches_in_cm\": 45.5, \"main_stem_length_in_cm\": 41.0}, {\"stem_diam_bottom_in_cm\": 0.63, \"total_meja\": 0, \"meja_per_100_cm\": 0.0, \"diam_top_in_cm\": 0.15, \"side_branches_in_cm\": 45.5, \"main_stem_length_in_cm\": 104.0}, {\"stem_diam_bottom_in_cm\": 0.53, \"total_meja\": 3, \"meja_per_100_cm\": 4.1, \"diam_top_in_cm\": 0.12, \"side_branches_in_cm\": 45.5, \"main_stem_length_in_cm\": 73.0}, {\"stem_diam_bottom_in_cm\": 0.33, \"total_meja\": 4, \"meja_per_100_cm\": 10.5, \"diam_top_in_cm\": 0.06, \"side_branches_in_cm\": 45.5, \"main_stem_length_in_cm\": 38.0}, {\"stem_diam_bottom_in_cm\": 0.66, \"total_meja\": 3, \"meja_per_100_cm\": 8.3, \"diam_top_in_cm\": 0.22, \"side_branches_in_cm\": 45.5, \"main_stem_length_in_cm\": 36.0}, {\"stem_diam_bottom_in_cm\": 0.5, \"total_meja\": 0, \"meja_per_100_cm\": 0.0, \"diam_top_in_cm\": 0.15, \"side_branches_in_cm\": 31.0, \"main_stem_length_in_cm\": 69.0}, {\"stem_diam_bottom_in_cm\": 0.78, \"total_meja\": 7, \"meja_per_100_cm\": 15.2, \"diam_top_in_cm\": 0.53, \"side_branches_in_cm\": 45.5, \"main_stem_length_in_cm\": 46.0}, {\"stem_diam_bottom_in_cm\": 0.69, \"total_meja\": 11, \"meja_per_100_cm\": 17.7, \"diam_top_in_cm\": 0.33, \"side_branches_in_cm\": 45.5, \"main_stem_length_in_cm\": 62.0}, {\"stem_diam_bottom_in_cm\": 0.53, \"total_meja\": 0, \"meja_per_100_cm\": 0.0, \"diam_top_in_cm\": 0.15, \"side_branches_in_cm\": 45.5, \"main_stem_length_in_cm\": 47.0}, {\"stem_diam_bottom_in_cm\": 0.24, \"total_meja\": 0, \"meja_per_100_cm\": 0.0, \"diam_top_in_cm\": 0.15, \"side_branches_in_cm\": 45.5, \"main_stem_length_in_cm\": 10.0}, {\"stem_diam_bottom_in_cm\": 0.23, \"total_meja\": 0, \"meja_per_100_cm\": 0.0, \"diam_top_in_cm\": 0.15, \"side_branches_in_cm\": 45.5, \"main_stem_length_in_cm\": 13.0}, {\"stem_diam_bottom_in_cm\": 0.52, \"total_meja\": 0, \"meja_per_100_cm\": 0.0, \"diam_top_in_cm\": 0.15, \"side_branches_in_cm\": 45.5, \"main_stem_length_in_cm\": 32.0}, {\"stem_diam_bottom_in_cm\": 0.75, \"total_meja\": 5, \"meja_per_100_cm\": 4.5, \"diam_top_in_cm\": 0.15, \"side_branches_in_cm\": 45.5, \"main_stem_length_in_cm\": 111.0}, {\"stem_diam_bottom_in_cm\": 0.24, \"total_meja\": 0, \"meja_per_100_cm\": 0.0, \"diam_top_in_cm\": 0.15, \"side_branches_in_cm\": 45.5, \"main_stem_length_in_cm\": 13.0}, {\"stem_diam_bottom_in_cm\": 0.7, \"total_meja\": 3, \"meja_per_100_cm\": 2.8, \"diam_top_in_cm\": 0.15, \"side_branches_in_cm\": 45.5, \"main_stem_length_in_cm\": 107.0}, {\"stem_diam_bottom_in_cm\": 0.54, \"total_meja\": 0, \"meja_per_100_cm\": 0.0, \"diam_top_in_cm\": 0.11, \"side_branches_in_cm\": 45.5, \"main_stem_length_in_cm\": 73.0}, {\"stem_diam_bottom_in_cm\": 0.84, \"total_meja\": 0, \"meja_per_100_cm\": 0.0, \"diam_top_in_cm\": 0.15, \"side_branches_in_cm\": 45.5, \"main_stem_length_in_cm\": 59.0}, {\"stem_diam_bottom_in_cm\": 0.56, \"total_meja\": 0, \"meja_per_100_cm\": 0.0, \"diam_top_in_cm\": 0.08, \"side_branches_in_cm\": 45.5, \"main_stem_length_in_cm\": 85.0}, {\"stem_diam_bottom_in_cm\": 0.7, \"total_meja\": 12, \"meja_per_100_cm\": 13.8, \"diam_top_in_cm\": 0.15, \"side_branches_in_cm\": 45.5, \"main_stem_length_in_cm\": 87.0}, {\"stem_diam_bottom_in_cm\": 0.7, \"total_meja\": 14, \"meja_per_100_cm\": 21.9, \"diam_top_in_cm\": 0.32, \"side_branches_in_cm\": 45.5, \"main_stem_length_in_cm\": 64.0}, {\"stem_diam_bottom_in_cm\": 0.43, \"total_meja\": 0, \"meja_per_100_cm\": 0.0, \"diam_top_in_cm\": 0.15, \"side_branches_in_cm\": 45.5, \"main_stem_length_in_cm\": 47.0}, {\"stem_diam_bottom_in_cm\": 0.38, \"total_meja\": 0, \"meja_per_100_cm\": 0.0, \"diam_top_in_cm\": 0.15, \"side_branches_in_cm\": 45.5, \"main_stem_length_in_cm\": 24.0}, {\"stem_diam_bottom_in_cm\": 0.19, \"total_meja\": 0, \"meja_per_100_cm\": 0.0, \"diam_top_in_cm\": 0.15, \"side_branches_in_cm\": 45.5, \"main_stem_length_in_cm\": 2.0}, {\"stem_diam_bottom_in_cm\": 0.53, \"total_meja\": 0, \"meja_per_100_cm\": 0.0, \"diam_top_in_cm\": 0.15, \"side_branches_in_cm\": 127.0, \"main_stem_length_in_cm\": 16.0}, {\"stem_diam_bottom_in_cm\": 0.61, \"total_meja\": 1, \"meja_per_100_cm\": 2.0, \"diam_top_in_cm\": 0.47, \"side_branches_in_cm\": 45.5, \"main_stem_length_in_cm\": 49.0}, {\"stem_diam_bottom_in_cm\": 0.8, \"total_meja\": 1, \"meja_per_100_cm\": 1.4, \"diam_top_in_cm\": 0.35, \"side_branches_in_cm\": 45.5, \"main_stem_length_in_cm\": 72.0}, {\"stem_diam_bottom_in_cm\": 0.57, \"total_meja\": 2, \"meja_per_100_cm\": 3.3, \"diam_top_in_cm\": 0.15, \"side_branches_in_cm\": 45.5, \"main_stem_length_in_cm\": 60.0}, {\"stem_diam_bottom_in_cm\": 0.86, \"total_meja\": 1, \"meja_per_100_cm\": 1.3, \"diam_top_in_cm\": 0.3, \"side_branches_in_cm\": 45.5, \"main_stem_length_in_cm\": 79.0}, {\"stem_diam_bottom_in_cm\": 0.8, \"total_meja\": 3, \"meja_per_100_cm\": 5.7, \"diam_top_in_cm\": 0.15, \"side_branches_in_cm\": 45.5, \"main_stem_length_in_cm\": 53.0}, {\"stem_diam_bottom_in_cm\": 0.14, \"total_meja\": 0, \"meja_per_100_cm\": 0.0, \"diam_top_in_cm\": 0.15, \"side_branches_in_cm\": 45.5, \"main_stem_length_in_cm\": 11.0}, {\"stem_diam_bottom_in_cm\": 0.4, \"total_meja\": 0, \"meja_per_100_cm\": 0.0, \"diam_top_in_cm\": 0.15, \"side_branches_in_cm\": 45.5, \"main_stem_length_in_cm\": 54.0}, {\"stem_diam_bottom_in_cm\": 0.14, \"total_meja\": 0, \"meja_per_100_cm\": 0.0, \"diam_top_in_cm\": 0.15, \"side_branches_in_cm\": 45.5, \"main_stem_length_in_cm\": 7.0}, {\"stem_diam_bottom_in_cm\": 0.81, \"total_meja\": 0, \"meja_per_100_cm\": 0.0, \"diam_top_in_cm\": 0.21, \"side_branches_in_cm\": 45.5, \"main_stem_length_in_cm\": 85.0}, {\"stem_diam_bottom_in_cm\": 0.52, \"total_meja\": 0, \"meja_per_100_cm\": 0.0, \"diam_top_in_cm\": 0.15, \"side_branches_in_cm\": 25.0, \"main_stem_length_in_cm\": 40.0}, {\"stem_diam_bottom_in_cm\": 0.36, \"total_meja\": 0, \"meja_per_100_cm\": 0.0, \"diam_top_in_cm\": 0.15, \"side_branches_in_cm\": 45.5, \"main_stem_length_in_cm\": 21.0}, {\"stem_diam_bottom_in_cm\": 0.27, \"total_meja\": 0, \"meja_per_100_cm\": 0.0, \"diam_top_in_cm\": 0.15, \"side_branches_in_cm\": 45.5, \"main_stem_length_in_cm\": 23.5}, {\"stem_diam_bottom_in_cm\": 0.57, \"total_meja\": 20, \"meja_per_100_cm\": 45.5, \"diam_top_in_cm\": 0.18, \"side_branches_in_cm\": 45.5, \"main_stem_length_in_cm\": 44.0}, {\"stem_diam_bottom_in_cm\": 0.55, \"total_meja\": 14, \"meja_per_100_cm\": 18.9, \"diam_top_in_cm\": 0.23, \"side_branches_in_cm\": 45.5, \"main_stem_length_in_cm\": 74.0}, {\"stem_diam_bottom_in_cm\": 0.31, \"total_meja\": 6, \"meja_per_100_cm\": 17.6, \"diam_top_in_cm\": 0.16, \"side_branches_in_cm\": 45.5, \"main_stem_length_in_cm\": 34.0}, {\"stem_diam_bottom_in_cm\": 0.4, \"total_meja\": 8, \"meja_per_100_cm\": 21.6, \"diam_top_in_cm\": 0.09, \"side_branches_in_cm\": 45.5, \"main_stem_length_in_cm\": 37.0}, {\"stem_diam_bottom_in_cm\": 0.33, \"total_meja\": 6, \"meja_per_100_cm\": 10.3, \"diam_top_in_cm\": 0.15, \"side_branches_in_cm\": 39.0, \"main_stem_length_in_cm\": 58.0}, {\"stem_diam_bottom_in_cm\": 0.64, \"total_meja\": 22, \"meja_per_100_cm\": 80.0, \"diam_top_in_cm\": 0.35, \"side_branches_in_cm\": 45.5, \"main_stem_length_in_cm\": 27.5}, {\"stem_diam_bottom_in_cm\": 0.35, \"total_meja\": 1, \"meja_per_100_cm\": 2.0, \"diam_top_in_cm\": 0.12, \"side_branches_in_cm\": 45.5, \"main_stem_length_in_cm\": 51.0}, {\"stem_diam_bottom_in_cm\": 0.44, \"total_meja\": 0, \"meja_per_100_cm\": 0.0, \"diam_top_in_cm\": 0.15, \"side_branches_in_cm\": 45.5, \"main_stem_length_in_cm\": 51.0}, {\"stem_diam_bottom_in_cm\": 0.7, \"total_meja\": 0, \"meja_per_100_cm\": 0.0, \"diam_top_in_cm\": 0.15, \"side_branches_in_cm\": 45.5, \"main_stem_length_in_cm\": 77.0}, {\"stem_diam_bottom_in_cm\": 0.57, \"total_meja\": 6, \"meja_per_100_cm\": 14.0, \"diam_top_in_cm\": 0.44, \"side_branches_in_cm\": 45.5, \"main_stem_length_in_cm\": 43.0}, {\"stem_diam_bottom_in_cm\": 0.44, \"total_meja\": 1, \"meja_per_100_cm\": 1.4, \"diam_top_in_cm\": 0.07, \"side_branches_in_cm\": 45.5, \"main_stem_length_in_cm\": 72.0}, {\"stem_diam_bottom_in_cm\": 0.56, \"total_meja\": 0, \"meja_per_100_cm\": 0.0, \"diam_top_in_cm\": 0.05, \"side_branches_in_cm\": 45.5, \"main_stem_length_in_cm\": 75.0}, {\"stem_diam_bottom_in_cm\": 0.23, \"total_meja\": 0, \"meja_per_100_cm\": 0.0, \"diam_top_in_cm\": 0.15, \"side_branches_in_cm\": 45.5, \"main_stem_length_in_cm\": 12.0}, {\"stem_diam_bottom_in_cm\": 0.19, \"total_meja\": 0, \"meja_per_100_cm\": 0.0, \"diam_top_in_cm\": 0.15, \"side_branches_in_cm\": 45.5, \"main_stem_length_in_cm\": 18.0}, {\"stem_diam_bottom_in_cm\": 0.59, \"total_meja\": 14, \"meja_per_100_cm\": 26.9, \"diam_top_in_cm\": 0.15, \"side_branches_in_cm\": 45.5, \"main_stem_length_in_cm\": 52.0}, {\"stem_diam_bottom_in_cm\": 0.89, \"total_meja\": 6, \"meja_per_100_cm\": 4.8, \"diam_top_in_cm\": 0.15, \"side_branches_in_cm\": 45.5, \"main_stem_length_in_cm\": 125.0}, {\"stem_diam_bottom_in_cm\": 0.43, \"total_meja\": 9, \"meja_per_100_cm\": 17.0, \"diam_top_in_cm\": 0.15, \"side_branches_in_cm\": 45.5, \"main_stem_length_in_cm\": 53.0}, {\"stem_diam_bottom_in_cm\": 0.51, \"total_meja\": 7, \"meja_per_100_cm\": 10.3, \"diam_top_in_cm\": 0.15, \"side_branches_in_cm\": 45.5, \"main_stem_length_in_cm\": 68.0}, {\"stem_diam_bottom_in_cm\": 0.88, \"total_meja\": 0, \"meja_per_100_cm\": 0.0, \"diam_top_in_cm\": 0.18, \"side_branches_in_cm\": 45.5, \"main_stem_length_in_cm\": 96.0}, {\"stem_diam_bottom_in_cm\": 0.46, \"total_meja\": 10, \"meja_per_100_cm\": 23.3, \"diam_top_in_cm\": 0.18, \"side_branches_in_cm\": 45.5, \"main_stem_length_in_cm\": 43.0}, {\"stem_diam_bottom_in_cm\": 0.63, \"total_meja\": 0, \"meja_per_100_cm\": 0.0, \"diam_top_in_cm\": 0.15, \"side_branches_in_cm\": 79.0, \"main_stem_length_in_cm\": 39.0}, {\"stem_diam_bottom_in_cm\": 0.53, \"total_meja\": 35, \"meja_per_100_cm\": 30.2, \"diam_top_in_cm\": 0.15, \"side_branches_in_cm\": 45.5, \"main_stem_length_in_cm\": 116.0}, {\"stem_diam_bottom_in_cm\": 0.53, \"total_meja\": 16, \"meja_per_100_cm\": 29.6, \"diam_top_in_cm\": 0.08, \"side_branches_in_cm\": 45.5, \"main_stem_length_in_cm\": 54.0}, {\"stem_diam_bottom_in_cm\": 0.67, \"total_meja\": 1, \"meja_per_100_cm\": 0.9, \"diam_top_in_cm\": 0.15, \"side_branches_in_cm\": 45.5, \"main_stem_length_in_cm\": 113.0}, {\"stem_diam_bottom_in_cm\": 0.38, \"total_meja\": 22, \"meja_per_100_cm\": 75.9, \"diam_top_in_cm\": 0.11, \"side_branches_in_cm\": 45.5, \"main_stem_length_in_cm\": 29.0}, {\"stem_diam_bottom_in_cm\": 0.37, \"total_meja\": 0, \"meja_per_100_cm\": 0.0, \"diam_top_in_cm\": 0.15, \"side_branches_in_cm\": 45.5, \"main_stem_length_in_cm\": 33.0}, {\"stem_diam_bottom_in_cm\": 0.53, \"total_meja\": 4, \"meja_per_100_cm\": 9.1, \"diam_top_in_cm\": 0.15, \"side_branches_in_cm\": 109.0, \"main_stem_length_in_cm\": 44.0}, {\"stem_diam_bottom_in_cm\": 0.33, \"total_meja\": 1, \"meja_per_100_cm\": 2.3, \"diam_top_in_cm\": 0.15, \"side_branches_in_cm\": 45.5, \"main_stem_length_in_cm\": 43.0}, {\"stem_diam_bottom_in_cm\": 0.44, \"total_meja\": 0, \"meja_per_100_cm\": 0.0, \"diam_top_in_cm\": 0.15, \"side_branches_in_cm\": 45.5, \"main_stem_length_in_cm\": 52.0}, {\"stem_diam_bottom_in_cm\": 0.51, \"total_meja\": 20, \"meja_per_100_cm\": 47.6, \"diam_top_in_cm\": 0.21, \"side_branches_in_cm\": 45.5, \"main_stem_length_in_cm\": 42.0}, {\"stem_diam_bottom_in_cm\": 0.33, \"total_meja\": 0, \"meja_per_100_cm\": 0.0, \"diam_top_in_cm\": 0.15, \"side_branches_in_cm\": 45.5, \"main_stem_length_in_cm\": 42.0}, {\"stem_diam_bottom_in_cm\": 0.45, \"total_meja\": 9, \"meja_per_100_cm\": 20.9, \"diam_top_in_cm\": 0.14, \"side_branches_in_cm\": 45.5, \"main_stem_length_in_cm\": 43.0}, {\"stem_diam_bottom_in_cm\": 0.42, \"total_meja\": 0, \"meja_per_100_cm\": 0.0, \"diam_top_in_cm\": 0.05, \"side_branches_in_cm\": 45.5, \"main_stem_length_in_cm\": 66.0}, {\"stem_diam_bottom_in_cm\": 0.3, \"total_meja\": 5, \"meja_per_100_cm\": 20.0, \"diam_top_in_cm\": 0.2, \"side_branches_in_cm\": 45.5, \"main_stem_length_in_cm\": 25.0}, {\"stem_diam_bottom_in_cm\": 0.24, \"total_meja\": 0, \"meja_per_100_cm\": 0.0, \"diam_top_in_cm\": 0.15, \"side_branches_in_cm\": 45.5, \"main_stem_length_in_cm\": 9.0}, {\"stem_diam_bottom_in_cm\": 0.42, \"total_meja\": 0, \"meja_per_100_cm\": 0.0, \"diam_top_in_cm\": 0.07, \"side_branches_in_cm\": 45.5, \"main_stem_length_in_cm\": 65.0}, {\"stem_diam_bottom_in_cm\": 0.49, \"total_meja\": 6, \"meja_per_100_cm\": 11.1, \"diam_top_in_cm\": 0.28, \"side_branches_in_cm\": 45.5, \"main_stem_length_in_cm\": 54.0}, {\"stem_diam_bottom_in_cm\": 0.43, \"total_meja\": 5, \"meja_per_100_cm\": 8.6, \"diam_top_in_cm\": 0.06, \"side_branches_in_cm\": 45.5, \"main_stem_length_in_cm\": 58.0}, {\"stem_diam_bottom_in_cm\": 0.62, \"total_meja\": 0, \"meja_per_100_cm\": 0.0, \"diam_top_in_cm\": 0.15, \"side_branches_in_cm\": 45.5, \"main_stem_length_in_cm\": 44.0}, {\"stem_diam_bottom_in_cm\": 0.5, \"total_meja\": 2, \"meja_per_100_cm\": 3.1, \"diam_top_in_cm\": 0.15, \"side_branches_in_cm\": 45.5, \"main_stem_length_in_cm\": 65.0}, {\"stem_diam_bottom_in_cm\": 0.21, \"total_meja\": 0, \"meja_per_100_cm\": 0.0, \"diam_top_in_cm\": 0.15, \"side_branches_in_cm\": 45.5, \"main_stem_length_in_cm\": 12.5}, {\"stem_diam_bottom_in_cm\": 0.47, \"total_meja\": 10, \"meja_per_100_cm\": 27.8, \"diam_top_in_cm\": 0.46, \"side_branches_in_cm\": 45.5, \"main_stem_length_in_cm\": 36.0}, {\"stem_diam_bottom_in_cm\": 0.63, \"total_meja\": 15, \"meja_per_100_cm\": 23.4, \"diam_top_in_cm\": 0.15, \"side_branches_in_cm\": 45.5, \"main_stem_length_in_cm\": 64.0}, {\"stem_diam_bottom_in_cm\": 0.34, \"total_meja\": 0, \"meja_per_100_cm\": 0.0, \"diam_top_in_cm\": 0.15, \"side_branches_in_cm\": 45.5, \"main_stem_length_in_cm\": 57.0}, {\"stem_diam_bottom_in_cm\": 0.24, \"total_meja\": 10, \"meja_per_100_cm\": 40.0, \"diam_top_in_cm\": 0.14, \"side_branches_in_cm\": 45.5, \"main_stem_length_in_cm\": 25.0}, {\"stem_diam_bottom_in_cm\": 0.51, \"total_meja\": 0, \"meja_per_100_cm\": 0.0, \"diam_top_in_cm\": 0.11, \"side_branches_in_cm\": 45.5, \"main_stem_length_in_cm\": 83.0}, {\"stem_diam_bottom_in_cm\": 0.24, \"total_meja\": 0, \"meja_per_100_cm\": 0.0, \"diam_top_in_cm\": 0.15, \"side_branches_in_cm\": 45.5, \"main_stem_length_in_cm\": 10.0}, {\"stem_diam_bottom_in_cm\": 0.55, \"total_meja\": 0, \"meja_per_100_cm\": 0.0, \"diam_top_in_cm\": 0.15, \"side_branches_in_cm\": 24.0, \"main_stem_length_in_cm\": 39.0}, {\"stem_diam_bottom_in_cm\": 0.35, \"total_meja\": 0, \"meja_per_100_cm\": 0.0, \"diam_top_in_cm\": 0.15, \"side_branches_in_cm\": 45.5, \"main_stem_length_in_cm\": 30.0}, {\"stem_diam_bottom_in_cm\": 0.58, \"total_meja\": 0, \"meja_per_100_cm\": 0.0, \"diam_top_in_cm\": 0.15, \"side_branches_in_cm\": 46.0, \"main_stem_length_in_cm\": 38.0}, {\"stem_diam_bottom_in_cm\": 0.39, \"total_meja\": 3, \"meja_per_100_cm\": 7.0, \"diam_top_in_cm\": 0.15, \"side_branches_in_cm\": 45.5, \"main_stem_length_in_cm\": 43.0}, {\"stem_diam_bottom_in_cm\": 0.41, \"total_meja\": 21, \"meja_per_100_cm\": 34.4, \"diam_top_in_cm\": 0.15, \"side_branches_in_cm\": 45.5, \"main_stem_length_in_cm\": 61.0}, {\"stem_diam_bottom_in_cm\": 0.42, \"total_meja\": 21, \"meja_per_100_cm\": 35.6, \"diam_top_in_cm\": 0.15, \"side_branches_in_cm\": 45.5, \"main_stem_length_in_cm\": 59.0}, {\"stem_diam_bottom_in_cm\": 0.36, \"total_meja\": 0, \"meja_per_100_cm\": 0.0, \"diam_top_in_cm\": 0.15, \"side_branches_in_cm\": 45.5, \"main_stem_length_in_cm\": 42.0}, {\"stem_diam_bottom_in_cm\": 0.51, \"total_meja\": 31, \"meja_per_100_cm\": 65.3, \"diam_top_in_cm\": 0.1, \"side_branches_in_cm\": 45.5, \"main_stem_length_in_cm\": 47.5}, {\"stem_diam_bottom_in_cm\": 0.59, \"total_meja\": 0, \"meja_per_100_cm\": 0.0, \"diam_top_in_cm\": 0.15, \"side_branches_in_cm\": 45.5, \"main_stem_length_in_cm\": 25.0}, {\"stem_diam_bottom_in_cm\": 0.89, \"total_meja\": 28, \"meja_per_100_cm\": 32.9, \"diam_top_in_cm\": 0.15, \"side_branches_in_cm\": 45.5, \"main_stem_length_in_cm\": 85.0}, {\"stem_diam_bottom_in_cm\": 0.68, \"total_meja\": 20, \"meja_per_100_cm\": 39.2, \"diam_top_in_cm\": 0.15, \"side_branches_in_cm\": 45.5, \"main_stem_length_in_cm\": 51.0}, {\"stem_diam_bottom_in_cm\": 0.34, \"total_meja\": 0, \"meja_per_100_cm\": 0.0, \"diam_top_in_cm\": 0.15, \"side_branches_in_cm\": 45.5, \"main_stem_length_in_cm\": 35.0}, {\"stem_diam_bottom_in_cm\": 0.51, \"total_meja\": 0, \"meja_per_100_cm\": 0.0, \"diam_top_in_cm\": 0.15, \"side_branches_in_cm\": 45.5, \"main_stem_length_in_cm\": 110.0}, {\"stem_diam_bottom_in_cm\": 0.56, \"total_meja\": 13, \"meja_per_100_cm\": 40.6, \"diam_top_in_cm\": 0.15, \"side_branches_in_cm\": 45.5, \"main_stem_length_in_cm\": 32.0}, {\"stem_diam_bottom_in_cm\": 0.53, \"total_meja\": 0, \"meja_per_100_cm\": 0.0, \"diam_top_in_cm\": 0.15, \"side_branches_in_cm\": 45.5, \"main_stem_length_in_cm\": 45.0}, {\"stem_diam_bottom_in_cm\": 0.48, \"total_meja\": 8, \"meja_per_100_cm\": 11.9, \"diam_top_in_cm\": 0.15, \"side_branches_in_cm\": 45.5, \"main_stem_length_in_cm\": 67.0}, {\"stem_diam_bottom_in_cm\": 0.8, \"total_meja\": 3, \"meja_per_100_cm\": 4.0, \"diam_top_in_cm\": 0.3, \"side_branches_in_cm\": 45.5, \"main_stem_length_in_cm\": 75.0}, {\"stem_diam_bottom_in_cm\": 0.54, \"total_meja\": 10, \"meja_per_100_cm\": 23.8, \"diam_top_in_cm\": 0.18, \"side_branches_in_cm\": 45.5, \"main_stem_length_in_cm\": 42.0}, {\"stem_diam_bottom_in_cm\": 0.53, \"total_meja\": 0, \"meja_per_100_cm\": 0.0, \"diam_top_in_cm\": 0.15, \"side_branches_in_cm\": 22.0, \"main_stem_length_in_cm\": 31.0}, {\"stem_diam_bottom_in_cm\": 0.43, \"total_meja\": 10, \"meja_per_100_cm\": 29.4, \"diam_top_in_cm\": 0.15, \"side_branches_in_cm\": 45.5, \"main_stem_length_in_cm\": 34.0}, {\"stem_diam_bottom_in_cm\": 0.33, \"total_meja\": 8, \"meja_per_100_cm\": 21.1, \"diam_top_in_cm\": 0.15, \"side_branches_in_cm\": 45.5, \"main_stem_length_in_cm\": 38.0}, {\"stem_diam_bottom_in_cm\": 0.4, \"total_meja\": 9, \"meja_per_100_cm\": 45.0, \"diam_top_in_cm\": 0.15, \"side_branches_in_cm\": 45.5, \"main_stem_length_in_cm\": 20.0}, {\"stem_diam_bottom_in_cm\": 0.55, \"total_meja\": 0, \"meja_per_100_cm\": 0.0, \"diam_top_in_cm\": 0.15, \"side_branches_in_cm\": 45.5, \"main_stem_length_in_cm\": 86.0}, {\"stem_diam_bottom_in_cm\": 0.59, \"total_meja\": 1, \"meja_per_100_cm\": 2.4, \"diam_top_in_cm\": 0.15, \"side_branches_in_cm\": 26.0, \"main_stem_length_in_cm\": 42.0}, {\"stem_diam_bottom_in_cm\": 0.62, \"total_meja\": 0, \"meja_per_100_cm\": 0.0, \"diam_top_in_cm\": 0.15, \"side_branches_in_cm\": 83.0, \"main_stem_length_in_cm\": 64.0}, {\"stem_diam_bottom_in_cm\": 0.65, \"total_meja\": 0, \"meja_per_100_cm\": 0.0, \"diam_top_in_cm\": 0.15, \"side_branches_in_cm\": 45.5, \"main_stem_length_in_cm\": 99.0}, {\"stem_diam_bottom_in_cm\": 0.43, \"total_meja\": 18, \"meja_per_100_cm\": 45.0, \"diam_top_in_cm\": 0.23, \"side_branches_in_cm\": 45.5, \"main_stem_length_in_cm\": 40.0}, {\"stem_diam_bottom_in_cm\": 0.57, \"total_meja\": 0, \"meja_per_100_cm\": 0.0, \"diam_top_in_cm\": 0.15, \"side_branches_in_cm\": 45.5, \"main_stem_length_in_cm\": 75.0}, {\"stem_diam_bottom_in_cm\": 0.55, \"total_meja\": 44, \"meja_per_100_cm\": 91.7, \"diam_top_in_cm\": 0.07, \"side_branches_in_cm\": 45.5, \"main_stem_length_in_cm\": 48.0}, {\"stem_diam_bottom_in_cm\": 0.6, \"total_meja\": 10, \"meja_per_100_cm\": 17.2, \"diam_top_in_cm\": 0.15, \"side_branches_in_cm\": 45.5, \"main_stem_length_in_cm\": 58.0}, {\"stem_diam_bottom_in_cm\": 0.55, \"total_meja\": 0, \"meja_per_100_cm\": 0.0, \"diam_top_in_cm\": 0.15, \"side_branches_in_cm\": 45.5, \"main_stem_length_in_cm\": 57.0}, {\"stem_diam_bottom_in_cm\": 0.65, \"total_meja\": 6, \"meja_per_100_cm\": 16.2, \"diam_top_in_cm\": 0.16, \"side_branches_in_cm\": 45.5, \"main_stem_length_in_cm\": 37.0}, {\"stem_diam_bottom_in_cm\": 0.26, \"total_meja\": 0, \"meja_per_100_cm\": 0.0, \"diam_top_in_cm\": 0.15, \"side_branches_in_cm\": 45.5, \"main_stem_length_in_cm\": 4.0}, {\"stem_diam_bottom_in_cm\": 0.48, \"total_meja\": 15, \"meja_per_100_cm\": 49.2, \"diam_top_in_cm\": 0.11, \"side_branches_in_cm\": 45.5, \"main_stem_length_in_cm\": 30.5}, {\"stem_diam_bottom_in_cm\": 0.39, \"total_meja\": 0, \"meja_per_100_cm\": 0.0, \"diam_top_in_cm\": 0.15, \"side_branches_in_cm\": 45.5, \"main_stem_length_in_cm\": 60.0}, {\"stem_diam_bottom_in_cm\": 0.55, \"total_meja\": 0, \"meja_per_100_cm\": 0.0, \"diam_top_in_cm\": 0.15, \"side_branches_in_cm\": 45.5, \"main_stem_length_in_cm\": 95.0}, {\"stem_diam_bottom_in_cm\": 0.58, \"total_meja\": 1, \"meja_per_100_cm\": 1.6, \"diam_top_in_cm\": 0.09, \"side_branches_in_cm\": 45.5, \"main_stem_length_in_cm\": 62.0}, {\"stem_diam_bottom_in_cm\": 0.18, \"total_meja\": 0, \"meja_per_100_cm\": 0.0, \"diam_top_in_cm\": 0.15, \"side_branches_in_cm\": 45.5, \"main_stem_length_in_cm\": 11.0}, {\"stem_diam_bottom_in_cm\": 0.62, \"total_meja\": 4, \"meja_per_100_cm\": 6.0, \"diam_top_in_cm\": 0.12, \"side_branches_in_cm\": 45.5, \"main_stem_length_in_cm\": 67.0}, {\"stem_diam_bottom_in_cm\": 0.72, \"total_meja\": 0, \"meja_per_100_cm\": 0.0, \"diam_top_in_cm\": 0.05, \"side_branches_in_cm\": 45.5, \"main_stem_length_in_cm\": 100.0}, {\"stem_diam_bottom_in_cm\": 0.78, \"total_meja\": 0, \"meja_per_100_cm\": 0.0, \"diam_top_in_cm\": 0.15, \"side_branches_in_cm\": 45.5, \"main_stem_length_in_cm\": 115.0}, {\"stem_diam_bottom_in_cm\": 0.34, \"total_meja\": 7, \"meja_per_100_cm\": 20.6, \"diam_top_in_cm\": 0.17, \"side_branches_in_cm\": 45.5, \"main_stem_length_in_cm\": 34.0}, {\"stem_diam_bottom_in_cm\": 0.34, \"total_meja\": 0, \"meja_per_100_cm\": 0.0, \"diam_top_in_cm\": 0.15, \"side_branches_in_cm\": 45.5, \"main_stem_length_in_cm\": 34.0}, {\"stem_diam_bottom_in_cm\": 0.67, \"total_meja\": 0, \"meja_per_100_cm\": 0.0, \"diam_top_in_cm\": 0.15, \"side_branches_in_cm\": 19.0, \"main_stem_length_in_cm\": 54.0}, {\"stem_diam_bottom_in_cm\": 0.38, \"total_meja\": 5, \"meja_per_100_cm\": 12.8, \"diam_top_in_cm\": 0.13, \"side_branches_in_cm\": 45.5, \"main_stem_length_in_cm\": 39.0}, {\"stem_diam_bottom_in_cm\": 0.32, \"total_meja\": 0, \"meja_per_100_cm\": 0.0, \"diam_top_in_cm\": 0.15, \"side_branches_in_cm\": 45.5, \"main_stem_length_in_cm\": 22.0}, {\"stem_diam_bottom_in_cm\": 0.68, \"total_meja\": 0, \"meja_per_100_cm\": 0.0, \"diam_top_in_cm\": 0.15, \"side_branches_in_cm\": 18.0, \"main_stem_length_in_cm\": 56.0}, {\"stem_diam_bottom_in_cm\": 1.09, \"total_meja\": 0, \"meja_per_100_cm\": 0.0, \"diam_top_in_cm\": 0.28, \"side_branches_in_cm\": 45.5, \"main_stem_length_in_cm\": 92.0}, {\"stem_diam_bottom_in_cm\": 0.41, \"total_meja\": 1, \"meja_per_100_cm\": 12.5, \"diam_top_in_cm\": 0.38, \"side_branches_in_cm\": 45.5, \"main_stem_length_in_cm\": 8.0}, {\"stem_diam_bottom_in_cm\": 0.51, \"total_meja\": 10, \"meja_per_100_cm\": 18.5, \"diam_top_in_cm\": 0.15, \"side_branches_in_cm\": 45.5, \"main_stem_length_in_cm\": 54.0}, {\"stem_diam_bottom_in_cm\": 0.6, \"total_meja\": 0, \"meja_per_100_cm\": 0.0, \"diam_top_in_cm\": 0.15, \"side_branches_in_cm\": 9.0, \"main_stem_length_in_cm\": 41.0}, {\"stem_diam_bottom_in_cm\": 0.36, \"total_meja\": 9, \"meja_per_100_cm\": 30.5, \"diam_top_in_cm\": 0.18, \"side_branches_in_cm\": 45.5, \"main_stem_length_in_cm\": 29.5}, {\"stem_diam_bottom_in_cm\": 0.51, \"total_meja\": 0, \"meja_per_100_cm\": 0.0, \"diam_top_in_cm\": 0.15, \"side_branches_in_cm\": 45.5, \"main_stem_length_in_cm\": 36.0}, {\"stem_diam_bottom_in_cm\": 0.15, \"total_meja\": 0, \"meja_per_100_cm\": 0.0, \"diam_top_in_cm\": 0.15, \"side_branches_in_cm\": 45.5, \"main_stem_length_in_cm\": 13.0}, {\"stem_diam_bottom_in_cm\": 0.31, \"total_meja\": 10, \"meja_per_100_cm\": 25.6, \"diam_top_in_cm\": 0.08, \"side_branches_in_cm\": 45.5, \"main_stem_length_in_cm\": 39.0}, {\"stem_diam_bottom_in_cm\": 0.53, \"total_meja\": 1, \"meja_per_100_cm\": 2.0, \"diam_top_in_cm\": 0.21, \"side_branches_in_cm\": 45.5, \"main_stem_length_in_cm\": 51.0}, {\"stem_diam_bottom_in_cm\": 0.35, \"total_meja\": 0, \"meja_per_100_cm\": 0.0, \"diam_top_in_cm\": 0.15, \"side_branches_in_cm\": 45.5, \"main_stem_length_in_cm\": 28.0}, {\"stem_diam_bottom_in_cm\": 0.23, \"total_meja\": 10, \"meja_per_100_cm\": 57.1, \"diam_top_in_cm\": 0.1, \"side_branches_in_cm\": 45.5, \"main_stem_length_in_cm\": 17.5}, {\"stem_diam_bottom_in_cm\": 0.33, \"total_meja\": 0, \"meja_per_100_cm\": 0.0, \"diam_top_in_cm\": 0.15, \"side_branches_in_cm\": 45.5, \"main_stem_length_in_cm\": 88.0}, {\"stem_diam_bottom_in_cm\": 0.68, \"total_meja\": 0, \"meja_per_100_cm\": 0.0, \"diam_top_in_cm\": 0.15, \"side_branches_in_cm\": 73.0, \"main_stem_length_in_cm\": 59.0}, {\"stem_diam_bottom_in_cm\": 0.41, \"total_meja\": 0, \"meja_per_100_cm\": 0.0, \"diam_top_in_cm\": 0.15, \"side_branches_in_cm\": 45.5, \"main_stem_length_in_cm\": 31.0}, {\"stem_diam_bottom_in_cm\": 0.62, \"total_meja\": 6, \"meja_per_100_cm\": 10.5, \"diam_top_in_cm\": 0.16, \"side_branches_in_cm\": 45.5, \"main_stem_length_in_cm\": 57.0}, {\"stem_diam_bottom_in_cm\": 0.56, \"total_meja\": 0, \"meja_per_100_cm\": 0.0, \"diam_top_in_cm\": 0.15, \"side_branches_in_cm\": 45.5, \"main_stem_length_in_cm\": 57.0}, {\"stem_diam_bottom_in_cm\": 0.48, \"total_meja\": 10, \"meja_per_100_cm\": 24.4, \"diam_top_in_cm\": 0.13, \"side_branches_in_cm\": 45.5, \"main_stem_length_in_cm\": 41.0}, {\"stem_diam_bottom_in_cm\": 0.67, \"total_meja\": 0, \"meja_per_100_cm\": 0.0, \"diam_top_in_cm\": 0.05, \"side_branches_in_cm\": 45.5, \"main_stem_length_in_cm\": 90.0}, {\"stem_diam_bottom_in_cm\": 0.31, \"total_meja\": 1, \"meja_per_100_cm\": 3.2, \"diam_top_in_cm\": 0.16, \"side_branches_in_cm\": 45.5, \"main_stem_length_in_cm\": 31.0}, {\"stem_diam_bottom_in_cm\": 0.68, \"total_meja\": 0, \"meja_per_100_cm\": 0.0, \"diam_top_in_cm\": 0.06, \"side_branches_in_cm\": 45.5, \"main_stem_length_in_cm\": 110.0}, {\"stem_diam_bottom_in_cm\": 0.67, \"total_meja\": 0, \"meja_per_100_cm\": 0.0, \"diam_top_in_cm\": 0.15, \"side_branches_in_cm\": 35.0, \"main_stem_length_in_cm\": 62.0}, {\"stem_diam_bottom_in_cm\": 0.49, \"total_meja\": 0, \"meja_per_100_cm\": 0.0, \"diam_top_in_cm\": 0.15, \"side_branches_in_cm\": 19.0, \"main_stem_length_in_cm\": 69.0}, {\"stem_diam_bottom_in_cm\": 0.51, \"total_meja\": 18, \"meja_per_100_cm\": 33.3, \"diam_top_in_cm\": 0.15, \"side_branches_in_cm\": 45.5, \"main_stem_length_in_cm\": 54.0}, {\"stem_diam_bottom_in_cm\": 0.44, \"total_meja\": 0, \"meja_per_100_cm\": 0.0, \"diam_top_in_cm\": 0.15, \"side_branches_in_cm\": 53.0, \"main_stem_length_in_cm\": 31.0}, {\"stem_diam_bottom_in_cm\": 0.66, \"total_meja\": 0, \"meja_per_100_cm\": 0.0, \"diam_top_in_cm\": 0.15, \"side_branches_in_cm\": 45.5, \"main_stem_length_in_cm\": 48.0}, {\"stem_diam_bottom_in_cm\": 0.65, \"total_meja\": 0, \"meja_per_100_cm\": 0.0, \"diam_top_in_cm\": 0.15, \"side_branches_in_cm\": 46.0, \"main_stem_length_in_cm\": 51.0}, {\"stem_diam_bottom_in_cm\": 0.65, \"total_meja\": 5, \"meja_per_100_cm\": 10.4, \"diam_top_in_cm\": 0.05, \"side_branches_in_cm\": 45.5, \"main_stem_length_in_cm\": 48.0}, {\"stem_diam_bottom_in_cm\": 0.51, \"total_meja\": 5, \"meja_per_100_cm\": 7.8, \"diam_top_in_cm\": 0.15, \"side_branches_in_cm\": 39.0, \"main_stem_length_in_cm\": 64.0}, {\"stem_diam_bottom_in_cm\": 0.62, \"total_meja\": 22, \"meja_per_100_cm\": 40.0, \"diam_top_in_cm\": 0.2, \"side_branches_in_cm\": 45.5, \"main_stem_length_in_cm\": 55.0}, {\"stem_diam_bottom_in_cm\": 0.83, \"total_meja\": 24, \"meja_per_100_cm\": 47.1, \"diam_top_in_cm\": 0.15, \"side_branches_in_cm\": 45.5, \"main_stem_length_in_cm\": 51.0}, {\"stem_diam_bottom_in_cm\": 0.34, \"total_meja\": 1, \"meja_per_100_cm\": 3.4, \"diam_top_in_cm\": 0.15, \"side_branches_in_cm\": 45.5, \"main_stem_length_in_cm\": 29.0}, {\"stem_diam_bottom_in_cm\": 0.42, \"total_meja\": 15, \"meja_per_100_cm\": 25.9, \"diam_top_in_cm\": 0.15, \"side_branches_in_cm\": 45.5, \"main_stem_length_in_cm\": 58.0}, {\"stem_diam_bottom_in_cm\": 0.21, \"total_meja\": 0, \"meja_per_100_cm\": 0.0, \"diam_top_in_cm\": 0.15, \"side_branches_in_cm\": 45.5, \"main_stem_length_in_cm\": 15.5}, {\"stem_diam_bottom_in_cm\": 1.08, \"total_meja\": 0, \"meja_per_100_cm\": 0.0, \"diam_top_in_cm\": 0.48, \"side_branches_in_cm\": 45.5, \"main_stem_length_in_cm\": 71.0}, {\"stem_diam_bottom_in_cm\": 0.27, \"total_meja\": 12, \"meja_per_100_cm\": 41.4, \"diam_top_in_cm\": 0.08, \"side_branches_in_cm\": 45.5, \"main_stem_length_in_cm\": 29.0}, {\"stem_diam_bottom_in_cm\": 0.43, \"total_meja\": 0, \"meja_per_100_cm\": 0.0, \"diam_top_in_cm\": 0.15, \"side_branches_in_cm\": 45.5, \"main_stem_length_in_cm\": 49.0}, {\"stem_diam_bottom_in_cm\": 0.14, \"total_meja\": 0, \"meja_per_100_cm\": 0.0, \"diam_top_in_cm\": 0.15, \"side_branches_in_cm\": 45.5, \"main_stem_length_in_cm\": 5.0}, {\"stem_diam_bottom_in_cm\": 0.71, \"total_meja\": 28, \"meja_per_100_cm\": 48.3, \"diam_top_in_cm\": 0.15, \"side_branches_in_cm\": 45.5, \"main_stem_length_in_cm\": 58.0}, {\"stem_diam_bottom_in_cm\": 0.48, \"total_meja\": 0, \"meja_per_100_cm\": 0.0, \"diam_top_in_cm\": 0.15, \"side_branches_in_cm\": 45.5, \"main_stem_length_in_cm\": 63.0}, {\"stem_diam_bottom_in_cm\": 0.53, \"total_meja\": 8, \"meja_per_100_cm\": 22.9, \"diam_top_in_cm\": 0.19, \"side_branches_in_cm\": 45.5, \"main_stem_length_in_cm\": 35.0}, {\"stem_diam_bottom_in_cm\": 0.23, \"total_meja\": 0, \"meja_per_100_cm\": 0.0, \"diam_top_in_cm\": 0.15, \"side_branches_in_cm\": 45.5, \"main_stem_length_in_cm\": 12.0}, {\"stem_diam_bottom_in_cm\": 0.31, \"total_meja\": 10, \"meja_per_100_cm\": 36.4, \"diam_top_in_cm\": 0.06, \"side_branches_in_cm\": 45.5, \"main_stem_length_in_cm\": 27.5}, {\"stem_diam_bottom_in_cm\": 0.64, \"total_meja\": 12, \"meja_per_100_cm\": 27.9, \"diam_top_in_cm\": 0.15, \"side_branches_in_cm\": 45.5, \"main_stem_length_in_cm\": 43.0}, {\"stem_diam_bottom_in_cm\": 0.37, \"total_meja\": 9, \"meja_per_100_cm\": 19.1, \"diam_top_in_cm\": 0.05, \"side_branches_in_cm\": 45.5, \"main_stem_length_in_cm\": 47.0}, {\"stem_diam_bottom_in_cm\": 0.41, \"total_meja\": 16, \"meja_per_100_cm\": 57.1, \"diam_top_in_cm\": 0.15, \"side_branches_in_cm\": 45.5, \"main_stem_length_in_cm\": 28.0}, {\"stem_diam_bottom_in_cm\": 0.49, \"total_meja\": 26, \"meja_per_100_cm\": 63.4, \"diam_top_in_cm\": 0.2, \"side_branches_in_cm\": 45.5, \"main_stem_length_in_cm\": 41.0}, {\"stem_diam_bottom_in_cm\": 0.34, \"total_meja\": 0, \"meja_per_100_cm\": 0.0, \"diam_top_in_cm\": 0.05, \"side_branches_in_cm\": 45.5, \"main_stem_length_in_cm\": 83.0}, {\"stem_diam_bottom_in_cm\": 0.36, \"total_meja\": 0, \"meja_per_100_cm\": 0.0, \"diam_top_in_cm\": 0.15, \"side_branches_in_cm\": 45.5, \"main_stem_length_in_cm\": 54.0}, {\"stem_diam_bottom_in_cm\": 0.41, \"total_meja\": 10, \"meja_per_100_cm\": 29.4, \"diam_top_in_cm\": 0.15, \"side_branches_in_cm\": 45.5, \"main_stem_length_in_cm\": 34.0}, {\"stem_diam_bottom_in_cm\": 0.44, \"total_meja\": 0, \"meja_per_100_cm\": 0.0, \"diam_top_in_cm\": 0.15, \"side_branches_in_cm\": 45.5, \"main_stem_length_in_cm\": 56.0}, {\"stem_diam_bottom_in_cm\": 0.44, \"total_meja\": 17, \"meja_per_100_cm\": 43.6, \"diam_top_in_cm\": 0.09, \"side_branches_in_cm\": 45.5, \"main_stem_length_in_cm\": 39.0}, {\"stem_diam_bottom_in_cm\": 0.39, \"total_meja\": 10, \"meja_per_100_cm\": 34.5, \"diam_top_in_cm\": 0.09, \"side_branches_in_cm\": 45.5, \"main_stem_length_in_cm\": 29.0}, {\"stem_diam_bottom_in_cm\": 0.49, \"total_meja\": 0, \"meja_per_100_cm\": 0.0, \"diam_top_in_cm\": 0.15, \"side_branches_in_cm\": 45.5, \"main_stem_length_in_cm\": 42.0}, {\"stem_diam_bottom_in_cm\": 0.76, \"total_meja\": 2, \"meja_per_100_cm\": 4.4, \"diam_top_in_cm\": 0.45, \"side_branches_in_cm\": 45.5, \"main_stem_length_in_cm\": 45.0}, {\"stem_diam_bottom_in_cm\": 0.33, \"total_meja\": 0, \"meja_per_100_cm\": 0.0, \"diam_top_in_cm\": 0.15, \"side_branches_in_cm\": 45.5, \"main_stem_length_in_cm\": 27.0}, {\"stem_diam_bottom_in_cm\": 0.52, \"total_meja\": 8, \"meja_per_100_cm\": 10.3, \"diam_top_in_cm\": 0.17, \"side_branches_in_cm\": 45.5, \"main_stem_length_in_cm\": 78.0}, {\"stem_diam_bottom_in_cm\": 0.39, \"total_meja\": 0, \"meja_per_100_cm\": 0.0, \"diam_top_in_cm\": 0.15, \"side_branches_in_cm\": 45.5, \"main_stem_length_in_cm\": 25.0}, {\"stem_diam_bottom_in_cm\": 0.73, \"total_meja\": 2, \"meja_per_100_cm\": 2.0, \"diam_top_in_cm\": 0.15, \"side_branches_in_cm\": 45.5, \"main_stem_length_in_cm\": 99.0}, {\"stem_diam_bottom_in_cm\": 0.62, \"total_meja\": 2, \"meja_per_100_cm\": 3.6, \"diam_top_in_cm\": 0.57, \"side_branches_in_cm\": 45.5, \"main_stem_length_in_cm\": 55.0}, {\"stem_diam_bottom_in_cm\": 0.44, \"total_meja\": 17, \"meja_per_100_cm\": 50.0, \"diam_top_in_cm\": 0.27, \"side_branches_in_cm\": 45.5, \"main_stem_length_in_cm\": 34.0}, {\"stem_diam_bottom_in_cm\": 0.65, \"total_meja\": 0, \"meja_per_100_cm\": 0.0, \"diam_top_in_cm\": 0.15, \"side_branches_in_cm\": 45.5, \"main_stem_length_in_cm\": 77.0}, {\"stem_diam_bottom_in_cm\": 0.5, \"total_meja\": 4, \"meja_per_100_cm\": 9.1, \"diam_top_in_cm\": 0.34, \"side_branches_in_cm\": 45.5, \"main_stem_length_in_cm\": 44.0}, {\"stem_diam_bottom_in_cm\": 0.83, \"total_meja\": 1, \"meja_per_100_cm\": 1.3, \"diam_top_in_cm\": 0.09, \"side_branches_in_cm\": 45.5, \"main_stem_length_in_cm\": 77.0}, {\"stem_diam_bottom_in_cm\": 0.61, \"total_meja\": 11, \"meja_per_100_cm\": 31.4, \"diam_top_in_cm\": 0.16, \"side_branches_in_cm\": 45.5, \"main_stem_length_in_cm\": 35.0}, {\"stem_diam_bottom_in_cm\": 0.48, \"total_meja\": 0, \"meja_per_100_cm\": 0.0, \"diam_top_in_cm\": 0.1, \"side_branches_in_cm\": 45.5, \"main_stem_length_in_cm\": 61.0}, {\"stem_diam_bottom_in_cm\": 0.2, \"total_meja\": 0, \"meja_per_100_cm\": 0.0, \"diam_top_in_cm\": 0.15, \"side_branches_in_cm\": 45.5, \"main_stem_length_in_cm\": 16.5}, {\"stem_diam_bottom_in_cm\": 0.52, \"total_meja\": 5, \"meja_per_100_cm\": 8.6, \"diam_top_in_cm\": 0.15, \"side_branches_in_cm\": 45.5, \"main_stem_length_in_cm\": 58.0}, {\"stem_diam_bottom_in_cm\": 0.51, \"total_meja\": 16, \"meja_per_100_cm\": 35.6, \"diam_top_in_cm\": 0.25, \"side_branches_in_cm\": 45.5, \"main_stem_length_in_cm\": 45.0}, {\"stem_diam_bottom_in_cm\": 0.36, \"total_meja\": 16, \"meja_per_100_cm\": 47.1, \"diam_top_in_cm\": 0.15, \"side_branches_in_cm\": 45.5, \"main_stem_length_in_cm\": 34.0}, {\"stem_diam_bottom_in_cm\": 0.55, \"total_meja\": 7, \"meja_per_100_cm\": 21.2, \"diam_top_in_cm\": 0.12, \"side_branches_in_cm\": 45.5, \"main_stem_length_in_cm\": 33.0}, {\"stem_diam_bottom_in_cm\": 0.5, \"total_meja\": 4, \"meja_per_100_cm\": 6.0, \"diam_top_in_cm\": 0.06, \"side_branches_in_cm\": 45.5, \"main_stem_length_in_cm\": 67.0}, {\"stem_diam_bottom_in_cm\": 0.49, \"total_meja\": 1, \"meja_per_100_cm\": 1.5, \"diam_top_in_cm\": 0.15, \"side_branches_in_cm\": 45.5, \"main_stem_length_in_cm\": 68.0}, {\"stem_diam_bottom_in_cm\": 0.36, \"total_meja\": 7, \"meja_per_100_cm\": 25.9, \"diam_top_in_cm\": 0.15, \"side_branches_in_cm\": 45.5, \"main_stem_length_in_cm\": 27.0}, {\"stem_diam_bottom_in_cm\": 0.76, \"total_meja\": 0, \"meja_per_100_cm\": 0.0, \"diam_top_in_cm\": 0.65, \"side_branches_in_cm\": 45.5, \"main_stem_length_in_cm\": 48.0}, {\"stem_diam_bottom_in_cm\": 0.4, \"total_meja\": 0, \"meja_per_100_cm\": 0.0, \"diam_top_in_cm\": 0.04, \"side_branches_in_cm\": 45.5, \"main_stem_length_in_cm\": 101.0}, {\"stem_diam_bottom_in_cm\": 0.4, \"total_meja\": 10, \"meja_per_100_cm\": 33.3, \"diam_top_in_cm\": 0.17, \"side_branches_in_cm\": 45.5, \"main_stem_length_in_cm\": 30.0}, {\"stem_diam_bottom_in_cm\": 0.69, \"total_meja\": 4, \"meja_per_100_cm\": 7.0, \"diam_top_in_cm\": 0.15, \"side_branches_in_cm\": 45.5, \"main_stem_length_in_cm\": 57.0}, {\"stem_diam_bottom_in_cm\": 0.22, \"total_meja\": 0, \"meja_per_100_cm\": 0.0, \"diam_top_in_cm\": 0.15, \"side_branches_in_cm\": 45.5, \"main_stem_length_in_cm\": 10.0}, {\"stem_diam_bottom_in_cm\": 0.9, \"total_meja\": 0, \"meja_per_100_cm\": 0.0, \"diam_top_in_cm\": 0.15, \"side_branches_in_cm\": 45.5, \"main_stem_length_in_cm\": 78.0}, {\"stem_diam_bottom_in_cm\": 0.67, \"total_meja\": 11, \"meja_per_100_cm\": 26.5, \"diam_top_in_cm\": 0.17, \"side_branches_in_cm\": 45.5, \"main_stem_length_in_cm\": 41.5}, {\"stem_diam_bottom_in_cm\": 0.22, \"total_meja\": 0, \"meja_per_100_cm\": 0.0, \"diam_top_in_cm\": 0.03, \"side_branches_in_cm\": 45.5, \"main_stem_length_in_cm\": 36.0}, {\"stem_diam_bottom_in_cm\": 0.47, \"total_meja\": 0, \"meja_per_100_cm\": 0.0, \"diam_top_in_cm\": 0.15, \"side_branches_in_cm\": 45.5, \"main_stem_length_in_cm\": 73.0}, {\"stem_diam_bottom_in_cm\": 0.25, \"total_meja\": 0, \"meja_per_100_cm\": 0.0, \"diam_top_in_cm\": 0.15, \"side_branches_in_cm\": 45.5, \"main_stem_length_in_cm\": 14.0}, {\"stem_diam_bottom_in_cm\": 0.29, \"total_meja\": 3, \"meja_per_100_cm\": 7.5, \"diam_top_in_cm\": 0.07, \"side_branches_in_cm\": 45.5, \"main_stem_length_in_cm\": 40.0}, {\"stem_diam_bottom_in_cm\": 0.7, \"total_meja\": 0, \"meja_per_100_cm\": 0.0, \"diam_top_in_cm\": 0.15, \"side_branches_in_cm\": 124.0, \"main_stem_length_in_cm\": 92.0}, {\"stem_diam_bottom_in_cm\": 0.51, \"total_meja\": 9, \"meja_per_100_cm\": 10.7, \"diam_top_in_cm\": 0.15, \"side_branches_in_cm\": 45.5, \"main_stem_length_in_cm\": 84.0}, {\"stem_diam_bottom_in_cm\": 0.39, \"total_meja\": 0, \"meja_per_100_cm\": 0.0, \"diam_top_in_cm\": 0.15, \"side_branches_in_cm\": 33.0, \"main_stem_length_in_cm\": 46.0}, {\"stem_diam_bottom_in_cm\": 0.41, \"total_meja\": 0, \"meja_per_100_cm\": 0.0, \"diam_top_in_cm\": 0.17, \"side_branches_in_cm\": 45.5, \"main_stem_length_in_cm\": 60.0}, {\"stem_diam_bottom_in_cm\": 0.23, \"total_meja\": 0, \"meja_per_100_cm\": 0.0, \"diam_top_in_cm\": 0.15, \"side_branches_in_cm\": 45.5, \"main_stem_length_in_cm\": 8.5}, {\"stem_diam_bottom_in_cm\": 0.38, \"total_meja\": 0, \"meja_per_100_cm\": 0.0, \"diam_top_in_cm\": 0.06, \"side_branches_in_cm\": 45.5, \"main_stem_length_in_cm\": 54.0}, {\"stem_diam_bottom_in_cm\": 0.38, \"total_meja\": 1, \"meja_per_100_cm\": 2.3, \"diam_top_in_cm\": 0.15, \"side_branches_in_cm\": 46.0, \"main_stem_length_in_cm\": 43.0}, {\"stem_diam_bottom_in_cm\": 0.43, \"total_meja\": 21, \"meja_per_100_cm\": 67.7, \"diam_top_in_cm\": 0.16, \"side_branches_in_cm\": 45.5, \"main_stem_length_in_cm\": 31.0}, {\"stem_diam_bottom_in_cm\": 0.85, \"total_meja\": 2, \"meja_per_100_cm\": 2.2, \"diam_top_in_cm\": 0.15, \"side_branches_in_cm\": 45.5, \"main_stem_length_in_cm\": 93.0}, {\"stem_diam_bottom_in_cm\": 0.77, \"total_meja\": 0, \"meja_per_100_cm\": 0.0, \"diam_top_in_cm\": 0.15, \"side_branches_in_cm\": 53.0, \"main_stem_length_in_cm\": 70.0}, {\"stem_diam_bottom_in_cm\": 0.3, \"total_meja\": 0, \"meja_per_100_cm\": 0.0, \"diam_top_in_cm\": 0.15, \"side_branches_in_cm\": 45.5, \"main_stem_length_in_cm\": 20.0}, {\"stem_diam_bottom_in_cm\": 0.79, \"total_meja\": 62, \"meja_per_100_cm\": 58.5, \"diam_top_in_cm\": 0.15, \"side_branches_in_cm\": 45.5, \"main_stem_length_in_cm\": 106.0}, {\"stem_diam_bottom_in_cm\": 0.34, \"total_meja\": 0, \"meja_per_100_cm\": 0.0, \"diam_top_in_cm\": 0.15, \"side_branches_in_cm\": 45.5, \"main_stem_length_in_cm\": 41.0}, {\"stem_diam_bottom_in_cm\": 0.24, \"total_meja\": 0, \"meja_per_100_cm\": 0.0, \"diam_top_in_cm\": 0.15, \"side_branches_in_cm\": 45.5, \"main_stem_length_in_cm\": 11.0}, {\"stem_diam_bottom_in_cm\": 0.76, \"total_meja\": 16, \"meja_per_100_cm\": 25.8, \"diam_top_in_cm\": 0.27, \"side_branches_in_cm\": 45.5, \"main_stem_length_in_cm\": 62.0}, {\"stem_diam_bottom_in_cm\": 0.42, \"total_meja\": 4, \"meja_per_100_cm\": 10.5, \"diam_top_in_cm\": 0.15, \"side_branches_in_cm\": 45.5, \"main_stem_length_in_cm\": 38.0}, {\"stem_diam_bottom_in_cm\": 0.32, \"total_meja\": 0, \"meja_per_100_cm\": 0.0, \"diam_top_in_cm\": 0.15, \"side_branches_in_cm\": 45.5, \"main_stem_length_in_cm\": 15.5}, {\"stem_diam_bottom_in_cm\": 0.65, \"total_meja\": 0, \"meja_per_100_cm\": 0.0, \"diam_top_in_cm\": 0.15, \"side_branches_in_cm\": 17.0, \"main_stem_length_in_cm\": 66.0}, {\"stem_diam_bottom_in_cm\": 0.53, \"total_meja\": 0, \"meja_per_100_cm\": 0.0, \"diam_top_in_cm\": 0.15, \"side_branches_in_cm\": 32.0, \"main_stem_length_in_cm\": 44.0}, {\"stem_diam_bottom_in_cm\": 0.2, \"total_meja\": 0, \"meja_per_100_cm\": 0.0, \"diam_top_in_cm\": 0.15, \"side_branches_in_cm\": 45.5, \"main_stem_length_in_cm\": 11.0}, {\"stem_diam_bottom_in_cm\": 0.65, \"total_meja\": 3, \"meja_per_100_cm\": 2.7, \"diam_top_in_cm\": 0.15, \"side_branches_in_cm\": 45.5, \"main_stem_length_in_cm\": 111.0}, {\"stem_diam_bottom_in_cm\": 0.6, \"total_meja\": 6, \"meja_per_100_cm\": 7.4, \"diam_top_in_cm\": 0.15, \"side_branches_in_cm\": 45.5, \"main_stem_length_in_cm\": 81.0}, {\"stem_diam_bottom_in_cm\": 0.5, \"total_meja\": 13, \"meja_per_100_cm\": 27.1, \"diam_top_in_cm\": 0.15, \"side_branches_in_cm\": 45.5, \"main_stem_length_in_cm\": 48.0}, {\"stem_diam_bottom_in_cm\": 0.59, \"total_meja\": 8, \"meja_per_100_cm\": 20.5, \"diam_top_in_cm\": 0.21, \"side_branches_in_cm\": 45.5, \"main_stem_length_in_cm\": 39.0}, {\"stem_diam_bottom_in_cm\": 0.63, \"total_meja\": 0, \"meja_per_100_cm\": 0.0, \"diam_top_in_cm\": 0.15, \"side_branches_in_cm\": 45.5, \"main_stem_length_in_cm\": 81.0}, {\"stem_diam_bottom_in_cm\": 0.63, \"total_meja\": 8, \"meja_per_100_cm\": 15.1, \"diam_top_in_cm\": 0.15, \"side_branches_in_cm\": 45.5, \"main_stem_length_in_cm\": 53.0}, {\"stem_diam_bottom_in_cm\": 0.64, \"total_meja\": 27, \"meja_per_100_cm\": 50.0, \"diam_top_in_cm\": 0.17, \"side_branches_in_cm\": 45.5, \"main_stem_length_in_cm\": 54.0}, {\"stem_diam_bottom_in_cm\": 0.65, \"total_meja\": 0, \"meja_per_100_cm\": 0.0, \"diam_top_in_cm\": 0.15, \"side_branches_in_cm\": 45.5, \"main_stem_length_in_cm\": 66.0}, {\"stem_diam_bottom_in_cm\": 0.32, \"total_meja\": 0, \"meja_per_100_cm\": 0.0, \"diam_top_in_cm\": 0.08, \"side_branches_in_cm\": 45.5, \"main_stem_length_in_cm\": 57.0}, {\"stem_diam_bottom_in_cm\": 0.63, \"total_meja\": 0, \"meja_per_100_cm\": 0.0, \"diam_top_in_cm\": 0.17, \"side_branches_in_cm\": 45.5, \"main_stem_length_in_cm\": 69.0}, {\"stem_diam_bottom_in_cm\": 0.87, \"total_meja\": 20, \"meja_per_100_cm\": 16.1, \"diam_top_in_cm\": 0.18, \"side_branches_in_cm\": 45.5, \"main_stem_length_in_cm\": 124.0}, {\"stem_diam_bottom_in_cm\": 0.5, \"total_meja\": 11, \"meja_per_100_cm\": 27.5, \"diam_top_in_cm\": 0.39, \"side_branches_in_cm\": 45.5, \"main_stem_length_in_cm\": 40.0}, {\"stem_diam_bottom_in_cm\": 0.56, \"total_meja\": 1, \"meja_per_100_cm\": 1.0, \"diam_top_in_cm\": 0.07, \"side_branches_in_cm\": 45.5, \"main_stem_length_in_cm\": 100.0}, {\"stem_diam_bottom_in_cm\": 0.21, \"total_meja\": 0, \"meja_per_100_cm\": 0.0, \"diam_top_in_cm\": 0.15, \"side_branches_in_cm\": 45.5, \"main_stem_length_in_cm\": 32.0}, {\"stem_diam_bottom_in_cm\": 0.35, \"total_meja\": 0, \"meja_per_100_cm\": 0.0, \"diam_top_in_cm\": 0.15, \"side_branches_in_cm\": 45.5, \"main_stem_length_in_cm\": 25.0}, {\"stem_diam_bottom_in_cm\": 0.39, \"total_meja\": 0, \"meja_per_100_cm\": 0.0, \"diam_top_in_cm\": 0.15, \"side_branches_in_cm\": 45.5, \"main_stem_length_in_cm\": 31.0}, {\"stem_diam_bottom_in_cm\": 0.66, \"total_meja\": 1, \"meja_per_100_cm\": 1.5, \"diam_top_in_cm\": 0.15, \"side_branches_in_cm\": 45.5, \"main_stem_length_in_cm\": 66.0}, {\"stem_diam_bottom_in_cm\": 0.31, \"total_meja\": 0, \"meja_per_100_cm\": 0.0, \"diam_top_in_cm\": 0.15, \"side_branches_in_cm\": 45.5, \"main_stem_length_in_cm\": 23.5}, {\"stem_diam_bottom_in_cm\": 0.53, \"total_meja\": 38, \"meja_per_100_cm\": 122.6, \"diam_top_in_cm\": 0.15, \"side_branches_in_cm\": 45.5, \"main_stem_length_in_cm\": 31.0}, {\"stem_diam_bottom_in_cm\": 0.56, \"total_meja\": 0, \"meja_per_100_cm\": 0.0, \"diam_top_in_cm\": 0.15, \"side_branches_in_cm\": 45.5, \"main_stem_length_in_cm\": 96.0}, {\"stem_diam_bottom_in_cm\": 0.61, \"total_meja\": 0, \"meja_per_100_cm\": 0.0, \"diam_top_in_cm\": 0.15, \"side_branches_in_cm\": 45.5, \"main_stem_length_in_cm\": 68.0}, {\"stem_diam_bottom_in_cm\": 0.79, \"total_meja\": 7, \"meja_per_100_cm\": 6.9, \"diam_top_in_cm\": 0.15, \"side_branches_in_cm\": 45.5, \"main_stem_length_in_cm\": 102.0}, {\"stem_diam_bottom_in_cm\": 0.44, \"total_meja\": 9, \"meja_per_100_cm\": 28.1, \"diam_top_in_cm\": 0.23, \"side_branches_in_cm\": 45.5, \"main_stem_length_in_cm\": 32.0}, {\"stem_diam_bottom_in_cm\": 0.28, \"total_meja\": 0, \"meja_per_100_cm\": 0.0, \"diam_top_in_cm\": 0.15, \"side_branches_in_cm\": 45.5, \"main_stem_length_in_cm\": 35.0}, {\"stem_diam_bottom_in_cm\": 0.29, \"total_meja\": 0, \"meja_per_100_cm\": 0.0, \"diam_top_in_cm\": 0.06, \"side_branches_in_cm\": 45.5, \"main_stem_length_in_cm\": 39.0}, {\"stem_diam_bottom_in_cm\": 0.68, \"total_meja\": 0, \"meja_per_100_cm\": 0.0, \"diam_top_in_cm\": 0.15, \"side_branches_in_cm\": 45.5, \"main_stem_length_in_cm\": 72.0}, {\"stem_diam_bottom_in_cm\": 0.37, \"total_meja\": 0, \"meja_per_100_cm\": 0.0, \"diam_top_in_cm\": 0.08, \"side_branches_in_cm\": 45.5, \"main_stem_length_in_cm\": 58.0}, {\"stem_diam_bottom_in_cm\": 0.58, \"total_meja\": 19, \"meja_per_100_cm\": 59.4, \"diam_top_in_cm\": 0.15, \"side_branches_in_cm\": 45.5, \"main_stem_length_in_cm\": 32.0}, {\"stem_diam_bottom_in_cm\": 0.78, \"total_meja\": 4, \"meja_per_100_cm\": 3.7, \"diam_top_in_cm\": 0.15, \"side_branches_in_cm\": 45.5, \"main_stem_length_in_cm\": 107.0}, {\"stem_diam_bottom_in_cm\": 0.26, \"total_meja\": 5, \"meja_per_100_cm\": 13.2, \"diam_top_in_cm\": 0.06, \"side_branches_in_cm\": 45.5, \"main_stem_length_in_cm\": 38.0}, {\"stem_diam_bottom_in_cm\": 0.64, \"total_meja\": 6, \"meja_per_100_cm\": 8.2, \"diam_top_in_cm\": 0.38, \"side_branches_in_cm\": 45.5, \"main_stem_length_in_cm\": 73.0}, {\"stem_diam_bottom_in_cm\": 0.35, \"total_meja\": 28, \"meja_per_100_cm\": 133.3, \"diam_top_in_cm\": 0.16, \"side_branches_in_cm\": 45.5, \"main_stem_length_in_cm\": 21.0}, {\"stem_diam_bottom_in_cm\": 0.92, \"total_meja\": 1, \"meja_per_100_cm\": 0.8, \"diam_top_in_cm\": 0.24, \"side_branches_in_cm\": 45.5, \"main_stem_length_in_cm\": 122.0}, {\"stem_diam_bottom_in_cm\": 0.63, \"total_meja\": 19, \"meja_per_100_cm\": 43.2, \"diam_top_in_cm\": 0.15, \"side_branches_in_cm\": 45.5, \"main_stem_length_in_cm\": 44.0}, {\"stem_diam_bottom_in_cm\": 0.22, \"total_meja\": 0, \"meja_per_100_cm\": 0.0, \"diam_top_in_cm\": 0.15, \"side_branches_in_cm\": 45.5, \"main_stem_length_in_cm\": 18.5}, {\"stem_diam_bottom_in_cm\": 0.6, \"total_meja\": 34, \"meja_per_100_cm\": 60.7, \"diam_top_in_cm\": 0.11, \"side_branches_in_cm\": 45.5, \"main_stem_length_in_cm\": 56.0}, {\"stem_diam_bottom_in_cm\": 0.9, \"total_meja\": 0, \"meja_per_100_cm\": 0.0, \"diam_top_in_cm\": 0.26, \"side_branches_in_cm\": 45.5, \"main_stem_length_in_cm\": 79.0}, {\"stem_diam_bottom_in_cm\": 0.73, \"total_meja\": 4, \"meja_per_100_cm\": 13.3, \"diam_top_in_cm\": 0.15, \"side_branches_in_cm\": 45.5, \"main_stem_length_in_cm\": 30.0}, {\"stem_diam_bottom_in_cm\": 0.62, \"total_meja\": 0, \"meja_per_100_cm\": 0.0, \"diam_top_in_cm\": 0.15, \"side_branches_in_cm\": 45.5, \"main_stem_length_in_cm\": 51.0}, {\"stem_diam_bottom_in_cm\": 0.5, \"total_meja\": 17, \"meja_per_100_cm\": 23.6, \"diam_top_in_cm\": 0.15, \"side_branches_in_cm\": 45.5, \"main_stem_length_in_cm\": 72.0}, {\"stem_diam_bottom_in_cm\": 0.87, \"total_meja\": 0, \"meja_per_100_cm\": 0.0, \"diam_top_in_cm\": 0.15, \"side_branches_in_cm\": 58.0, \"main_stem_length_in_cm\": 62.0}, {\"stem_diam_bottom_in_cm\": 0.51, \"total_meja\": 0, \"meja_per_100_cm\": 0.0, \"diam_top_in_cm\": 0.15, \"side_branches_in_cm\": 45.5, \"main_stem_length_in_cm\": 55.0}, {\"stem_diam_bottom_in_cm\": 0.17, \"total_meja\": 0, \"meja_per_100_cm\": 0.0, \"diam_top_in_cm\": 0.15, \"side_branches_in_cm\": 45.5, \"main_stem_length_in_cm\": 14.0}, {\"stem_diam_bottom_in_cm\": 0.48, \"total_meja\": 18, \"meja_per_100_cm\": 30.5, \"diam_top_in_cm\": 0.15, \"side_branches_in_cm\": 45.5, \"main_stem_length_in_cm\": 59.0}, {\"stem_diam_bottom_in_cm\": 0.48, \"total_meja\": 0, \"meja_per_100_cm\": 0.0, \"diam_top_in_cm\": 0.03, \"side_branches_in_cm\": 45.5, \"main_stem_length_in_cm\": 75.0}, {\"stem_diam_bottom_in_cm\": 0.25, \"total_meja\": 0, \"meja_per_100_cm\": 0.0, \"diam_top_in_cm\": 0.06, \"side_branches_in_cm\": 45.5, \"main_stem_length_in_cm\": 47.0}, {\"stem_diam_bottom_in_cm\": 0.56, \"total_meja\": 0, \"meja_per_100_cm\": 0.0, \"diam_top_in_cm\": 0.15, \"side_branches_in_cm\": 45.5, \"main_stem_length_in_cm\": 66.0}, {\"stem_diam_bottom_in_cm\": 0.54, \"total_meja\": 11, \"meja_per_100_cm\": 20.0, \"diam_top_in_cm\": 0.15, \"side_branches_in_cm\": 45.5, \"main_stem_length_in_cm\": 55.0}, {\"stem_diam_bottom_in_cm\": 0.82, \"total_meja\": 0, \"meja_per_100_cm\": 0.0, \"diam_top_in_cm\": 0.23, \"side_branches_in_cm\": 45.5, \"main_stem_length_in_cm\": 65.0}, {\"stem_diam_bottom_in_cm\": 0.46, \"total_meja\": 28, \"meja_per_100_cm\": 66.7, \"diam_top_in_cm\": 0.15, \"side_branches_in_cm\": 45.5, \"main_stem_length_in_cm\": 42.0}, {\"stem_diam_bottom_in_cm\": 0.34, \"total_meja\": 15, \"meja_per_100_cm\": 44.8, \"diam_top_in_cm\": 0.1, \"side_branches_in_cm\": 45.5, \"main_stem_length_in_cm\": 33.5}, {\"stem_diam_bottom_in_cm\": 0.53, \"total_meja\": 0, \"meja_per_100_cm\": 0.0, \"diam_top_in_cm\": 0.09, \"side_branches_in_cm\": 45.5, \"main_stem_length_in_cm\": 65.0}, {\"stem_diam_bottom_in_cm\": 0.35, \"total_meja\": 10, \"meja_per_100_cm\": 10.4, \"diam_top_in_cm\": 0.15, \"side_branches_in_cm\": 45.5, \"main_stem_length_in_cm\": 96.0}, {\"stem_diam_bottom_in_cm\": 0.98, \"total_meja\": 6, \"meja_per_100_cm\": 5.0, \"diam_top_in_cm\": 0.15, \"side_branches_in_cm\": 45.5, \"main_stem_length_in_cm\": 120.0}, {\"stem_diam_bottom_in_cm\": 0.19, \"total_meja\": 0, \"meja_per_100_cm\": 0.0, \"diam_top_in_cm\": 0.15, \"side_branches_in_cm\": 45.5, \"main_stem_length_in_cm\": 11.0}, {\"stem_diam_bottom_in_cm\": 0.19, \"total_meja\": 3, \"meja_per_100_cm\": 13.6, \"diam_top_in_cm\": 0.08, \"side_branches_in_cm\": 45.5, \"main_stem_length_in_cm\": 22.0}, {\"stem_diam_bottom_in_cm\": 0.47, \"total_meja\": 8, \"meja_per_100_cm\": 16.0, \"diam_top_in_cm\": 0.15, \"side_branches_in_cm\": 45.5, \"main_stem_length_in_cm\": 50.0}, {\"stem_diam_bottom_in_cm\": 0.45, \"total_meja\": 8, \"meja_per_100_cm\": 17.4, \"diam_top_in_cm\": 0.15, \"side_branches_in_cm\": 45.5, \"main_stem_length_in_cm\": 46.0}, {\"stem_diam_bottom_in_cm\": 0.5, \"total_meja\": 0, \"meja_per_100_cm\": 0.0, \"diam_top_in_cm\": 0.15, \"side_branches_in_cm\": 45.5, \"main_stem_length_in_cm\": 53.0}, {\"stem_diam_bottom_in_cm\": 0.51, \"total_meja\": 23, \"meja_per_100_cm\": 104.5, \"diam_top_in_cm\": 0.23, \"side_branches_in_cm\": 45.5, \"main_stem_length_in_cm\": 22.0}, {\"stem_diam_bottom_in_cm\": 0.6, \"total_meja\": 0, \"meja_per_100_cm\": 0.0, \"diam_top_in_cm\": 0.15, \"side_branches_in_cm\": 60.0, \"main_stem_length_in_cm\": 24.0}, {\"stem_diam_bottom_in_cm\": 0.23, \"total_meja\": 0, \"meja_per_100_cm\": 0.0, \"diam_top_in_cm\": 0.15, \"side_branches_in_cm\": 45.5, \"main_stem_length_in_cm\": 11.0}, {\"stem_diam_bottom_in_cm\": 0.19, \"total_meja\": 0, \"meja_per_100_cm\": 0.0, \"diam_top_in_cm\": 0.15, \"side_branches_in_cm\": 45.5, \"main_stem_length_in_cm\": 12.0}, {\"stem_diam_bottom_in_cm\": 0.52, \"total_meja\": 22, \"meja_per_100_cm\": 48.9, \"diam_top_in_cm\": 0.15, \"side_branches_in_cm\": 45.5, \"main_stem_length_in_cm\": 45.0}, {\"stem_diam_bottom_in_cm\": 0.48, \"total_meja\": 11, \"meja_per_100_cm\": 25.0, \"diam_top_in_cm\": 0.15, \"side_branches_in_cm\": 45.5, \"main_stem_length_in_cm\": 44.0}, {\"stem_diam_bottom_in_cm\": 0.39, \"total_meja\": 0, \"meja_per_100_cm\": 0.0, \"diam_top_in_cm\": 0.15, \"side_branches_in_cm\": 45.5, \"main_stem_length_in_cm\": 29.0}, {\"stem_diam_bottom_in_cm\": 0.31, \"total_meja\": 0, \"meja_per_100_cm\": 0.0, \"diam_top_in_cm\": 0.15, \"side_branches_in_cm\": 45.5, \"main_stem_length_in_cm\": 26.0}, {\"stem_diam_bottom_in_cm\": 0.62, \"total_meja\": 3, \"meja_per_100_cm\": 3.9, \"diam_top_in_cm\": 0.15, \"side_branches_in_cm\": 45.5, \"main_stem_length_in_cm\": 76.0}, {\"stem_diam_bottom_in_cm\": 0.41, \"total_meja\": 0, \"meja_per_100_cm\": 0.0, \"diam_top_in_cm\": 0.06, \"side_branches_in_cm\": 45.5, \"main_stem_length_in_cm\": 81.0}, {\"stem_diam_bottom_in_cm\": 0.6, \"total_meja\": 6, \"meja_per_100_cm\": 12.0, \"diam_top_in_cm\": 0.15, \"side_branches_in_cm\": 45.5, \"main_stem_length_in_cm\": 50.0}, {\"stem_diam_bottom_in_cm\": 0.56, \"total_meja\": 0, \"meja_per_100_cm\": 0.0, \"diam_top_in_cm\": 0.45, \"side_branches_in_cm\": 45.5, \"main_stem_length_in_cm\": 45.0}, {\"stem_diam_bottom_in_cm\": 0.34, \"total_meja\": 0, \"meja_per_100_cm\": 0.0, \"diam_top_in_cm\": 0.03, \"side_branches_in_cm\": 45.5, \"main_stem_length_in_cm\": 67.0}, {\"stem_diam_bottom_in_cm\": 0.49, \"total_meja\": 0, \"meja_per_100_cm\": 0.0, \"diam_top_in_cm\": 0.15, \"side_branches_in_cm\": 45.5, \"main_stem_length_in_cm\": 79.5}, {\"stem_diam_bottom_in_cm\": 0.61, \"total_meja\": 17, \"meja_per_100_cm\": 50.0, \"diam_top_in_cm\": 0.2, \"side_branches_in_cm\": 45.5, \"main_stem_length_in_cm\": 34.0}, {\"stem_diam_bottom_in_cm\": 0.8, \"total_meja\": 21, \"meja_per_100_cm\": 33.3, \"diam_top_in_cm\": 0.15, \"side_branches_in_cm\": 45.5, \"main_stem_length_in_cm\": 63.0}, {\"stem_diam_bottom_in_cm\": 0.51, \"total_meja\": 0, \"meja_per_100_cm\": 0.0, \"diam_top_in_cm\": 0.15, \"side_branches_in_cm\": 45.5, \"main_stem_length_in_cm\": 44.0}, {\"stem_diam_bottom_in_cm\": 0.6, \"total_meja\": 0, \"meja_per_100_cm\": 0.0, \"diam_top_in_cm\": 0.15, \"side_branches_in_cm\": 134.0, \"main_stem_length_in_cm\": 44.0}, {\"stem_diam_bottom_in_cm\": 0.57, \"total_meja\": 0, \"meja_per_100_cm\": 0.0, \"diam_top_in_cm\": 0.04, \"side_branches_in_cm\": 45.5, \"main_stem_length_in_cm\": 92.0}, {\"stem_diam_bottom_in_cm\": 0.33, \"total_meja\": 17, \"meja_per_100_cm\": 63.0, \"diam_top_in_cm\": 0.13, \"side_branches_in_cm\": 45.5, \"main_stem_length_in_cm\": 27.0}, {\"stem_diam_bottom_in_cm\": 0.41, \"total_meja\": 0, \"meja_per_100_cm\": 0.0, \"diam_top_in_cm\": 0.15, \"side_branches_in_cm\": 45.5, \"main_stem_length_in_cm\": 71.0}, {\"stem_diam_bottom_in_cm\": 0.73, \"total_meja\": 0, \"meja_per_100_cm\": 0.0, \"diam_top_in_cm\": 0.15, \"side_branches_in_cm\": 50.0, \"main_stem_length_in_cm\": 79.0}, {\"stem_diam_bottom_in_cm\": 0.75, \"total_meja\": 0, \"meja_per_100_cm\": 0.0, \"diam_top_in_cm\": 0.15, \"side_branches_in_cm\": 45.0, \"main_stem_length_in_cm\": 81.0}, {\"stem_diam_bottom_in_cm\": 0.43, \"total_meja\": 0, \"meja_per_100_cm\": 0.0, \"diam_top_in_cm\": 0.15, \"side_branches_in_cm\": 45.5, \"main_stem_length_in_cm\": 61.0}, {\"stem_diam_bottom_in_cm\": 0.68, \"total_meja\": 8, \"meja_per_100_cm\": 11.6, \"diam_top_in_cm\": 0.15, \"side_branches_in_cm\": 45.5, \"main_stem_length_in_cm\": 69.0}, {\"stem_diam_bottom_in_cm\": 0.73, \"total_meja\": 0, \"meja_per_100_cm\": 0.0, \"diam_top_in_cm\": 0.15, \"side_branches_in_cm\": 45.5, \"main_stem_length_in_cm\": 54.0}, {\"stem_diam_bottom_in_cm\": 0.44, \"total_meja\": 22, \"meja_per_100_cm\": 44.0, \"diam_top_in_cm\": 0.15, \"side_branches_in_cm\": 45.5, \"main_stem_length_in_cm\": 50.0}, {\"stem_diam_bottom_in_cm\": 0.25, \"total_meja\": 0, \"meja_per_100_cm\": 0.0, \"diam_top_in_cm\": 0.15, \"side_branches_in_cm\": 45.5, \"main_stem_length_in_cm\": 42.0}, {\"stem_diam_bottom_in_cm\": 0.46, \"total_meja\": 0, \"meja_per_100_cm\": 0.0, \"diam_top_in_cm\": 0.15, \"side_branches_in_cm\": 45.5, \"main_stem_length_in_cm\": 68.0}, {\"stem_diam_bottom_in_cm\": 0.91, \"total_meja\": 9, \"meja_per_100_cm\": 9.2, \"diam_top_in_cm\": 0.25, \"side_branches_in_cm\": 45.5, \"main_stem_length_in_cm\": 98.0}, {\"stem_diam_bottom_in_cm\": 0.46, \"total_meja\": 0, \"meja_per_100_cm\": 0.0, \"diam_top_in_cm\": 0.12, \"side_branches_in_cm\": 45.5, \"main_stem_length_in_cm\": 83.0}, {\"stem_diam_bottom_in_cm\": 0.52, \"total_meja\": 0, \"meja_per_100_cm\": 0.0, \"diam_top_in_cm\": 0.15, \"side_branches_in_cm\": 45.5, \"main_stem_length_in_cm\": 87.0}, {\"stem_diam_bottom_in_cm\": 0.38, \"total_meja\": 0, \"meja_per_100_cm\": 0.0, \"diam_top_in_cm\": 0.15, \"side_branches_in_cm\": 45.5, \"main_stem_length_in_cm\": 74.0}, {\"stem_diam_bottom_in_cm\": 0.4, \"total_meja\": 5, \"meja_per_100_cm\": 8.3, \"diam_top_in_cm\": 0.15, \"side_branches_in_cm\": 45.5, \"main_stem_length_in_cm\": 60.0}, {\"stem_diam_bottom_in_cm\": 0.69, \"total_meja\": 5, \"meja_per_100_cm\": 5.1, \"diam_top_in_cm\": 0.15, \"side_branches_in_cm\": 45.5, \"main_stem_length_in_cm\": 99.0}, {\"stem_diam_bottom_in_cm\": 0.4, \"total_meja\": 9, \"meja_per_100_cm\": 21.4, \"diam_top_in_cm\": 0.15, \"side_branches_in_cm\": 45.5, \"main_stem_length_in_cm\": 42.0}, {\"stem_diam_bottom_in_cm\": 0.63, \"total_meja\": 23, \"meja_per_100_cm\": 38.3, \"diam_top_in_cm\": 0.15, \"side_branches_in_cm\": 45.5, \"main_stem_length_in_cm\": 60.0}, {\"stem_diam_bottom_in_cm\": 0.41, \"total_meja\": 2, \"meja_per_100_cm\": 3.0, \"diam_top_in_cm\": 0.1, \"side_branches_in_cm\": 45.5, \"main_stem_length_in_cm\": 66.0}, {\"stem_diam_bottom_in_cm\": 0.63, \"total_meja\": 21, \"meja_per_100_cm\": 37.5, \"diam_top_in_cm\": 0.15, \"side_branches_in_cm\": 45.5, \"main_stem_length_in_cm\": 56.0}, {\"stem_diam_bottom_in_cm\": 0.75, \"total_meja\": 0, \"meja_per_100_cm\": 0.0, \"diam_top_in_cm\": 0.15, \"side_branches_in_cm\": 45.5, \"main_stem_length_in_cm\": 64.0}, {\"stem_diam_bottom_in_cm\": 0.59, \"total_meja\": 0, \"meja_per_100_cm\": 0.0, \"diam_top_in_cm\": 0.15, \"side_branches_in_cm\": 45.5, \"main_stem_length_in_cm\": 84.0}, {\"stem_diam_bottom_in_cm\": 0.49, \"total_meja\": 4, \"meja_per_100_cm\": 6.2, \"diam_top_in_cm\": 0.06, \"side_branches_in_cm\": 45.5, \"main_stem_length_in_cm\": 65.0}, {\"stem_diam_bottom_in_cm\": 0.56, \"total_meja\": 0, \"meja_per_100_cm\": 0.0, \"diam_top_in_cm\": 0.07, \"side_branches_in_cm\": 45.5, \"main_stem_length_in_cm\": 64.0}, {\"stem_diam_bottom_in_cm\": 0.34, \"total_meja\": 0, \"meja_per_100_cm\": 0.0, \"diam_top_in_cm\": 0.15, \"side_branches_in_cm\": 45.5, \"main_stem_length_in_cm\": 49.0}, {\"stem_diam_bottom_in_cm\": 0.61, \"total_meja\": 3, \"meja_per_100_cm\": 6.3, \"diam_top_in_cm\": 0.15, \"side_branches_in_cm\": 21.0, \"main_stem_length_in_cm\": 48.0}, {\"stem_diam_bottom_in_cm\": 0.17, \"total_meja\": 0, \"meja_per_100_cm\": 0.0, \"diam_top_in_cm\": 0.15, \"side_branches_in_cm\": 45.5, \"main_stem_length_in_cm\": 13.5}, {\"stem_diam_bottom_in_cm\": 0.53, \"total_meja\": 0, \"meja_per_100_cm\": 0.0, \"diam_top_in_cm\": 0.15, \"side_branches_in_cm\": 45.5, \"main_stem_length_in_cm\": 41.0}, {\"stem_diam_bottom_in_cm\": 0.58, \"total_meja\": 0, \"meja_per_100_cm\": 0.0, \"diam_top_in_cm\": 0.15, \"side_branches_in_cm\": 45.5, \"main_stem_length_in_cm\": 26.0}, {\"stem_diam_bottom_in_cm\": 0.42, \"total_meja\": 8, \"meja_per_100_cm\": 18.2, \"diam_top_in_cm\": 0.16, \"side_branches_in_cm\": 45.5, \"main_stem_length_in_cm\": 44.0}, {\"stem_diam_bottom_in_cm\": 0.6, \"total_meja\": 14, \"meja_per_100_cm\": 25.9, \"diam_top_in_cm\": 0.35, \"side_branches_in_cm\": 45.5, \"main_stem_length_in_cm\": 54.0}, {\"stem_diam_bottom_in_cm\": 0.56, \"total_meja\": 5, \"meja_per_100_cm\": 8.6, \"diam_top_in_cm\": 0.15, \"side_branches_in_cm\": 194.0, \"main_stem_length_in_cm\": 58.0}, {\"stem_diam_bottom_in_cm\": 0.7, \"total_meja\": 15, \"meja_per_100_cm\": 22.7, \"diam_top_in_cm\": 0.15, \"side_branches_in_cm\": 45.5, \"main_stem_length_in_cm\": 66.0}, {\"stem_diam_bottom_in_cm\": 0.32, \"total_meja\": 0, \"meja_per_100_cm\": 0.0, \"diam_top_in_cm\": 0.15, \"side_branches_in_cm\": 45.5, \"main_stem_length_in_cm\": 29.0}, {\"stem_diam_bottom_in_cm\": 0.43, \"total_meja\": 0, \"meja_per_100_cm\": 0.0, \"diam_top_in_cm\": 0.15, \"side_branches_in_cm\": 36.0, \"main_stem_length_in_cm\": 73.0}]}}, {\"mode\": \"vega-lite\"});\n",
       "</script>"
      ],
      "text/plain": [
       "alt.RepeatChart(...)"
      ]
     },
     "execution_count": 39,
     "metadata": {},
     "output_type": "execute_result"
    }
   ],
   "source": [
    "alt.Chart(df_train).mark_circle().encode(\n",
    "    alt.X(alt.repeat(\"column\"), type='quantitative'),\n",
    "    alt.Y(alt.repeat(\"row\"), type='quantitative')\n",
    ").properties(\n",
    "    width=150,\n",
    "    height=150\n",
    ").repeat(\n",
    "    row=[y_label] + features,\n",
    "    column=[y_label] + features\n",
    ").interactive()"
   ]
  },
  {
   "cell_type": "markdown",
   "metadata": {},
   "source": [
    "We can see that stem diam bottom and main stem length have a linear relationship."
   ]
  },
  {
   "cell_type": "markdown",
   "metadata": {},
   "source": [
    "In the following code cell we calculate the correlation coefficients between the columns in the DataFrame df_train and the target variable (y_label).\n",
    "The higher the correlation coefficient, the stronger the linear relationship between the two variables. A positive correlation indicates that as one variable increases, the other tends to increase, while a negative correlation indicates that as one variable increases, the other tends to decrease.\n",
    "\n",
    "As we already recognized in the scatter plot matrix, stem diam bottom has the strongest linear relationship (0.66) with the response variable main stem length. This indicates that stem diam bottom will be a suitable predictor variable.\n",
    "However, we have to keep in mind that correlation does not imply causation."
   ]
  },
  {
   "cell_type": "code",
   "execution_count": 40,
   "metadata": {},
   "outputs": [
    {
     "data": {
      "text/plain": [
       "main_stem_length_in_cm    1.000000\n",
       "stem_diam_bottom_in_cm    0.655359\n",
       "total_meja                0.031019\n",
       "side_branches_in_cm      -0.048774\n",
       "diam_top_in_cm           -0.065324\n",
       "meja_per_100_cm          -0.128625\n",
       "Name: main_stem_length_in_cm, dtype: float64"
      ]
     },
     "execution_count": 40,
     "metadata": {},
     "output_type": "execute_result"
    }
   ],
   "source": [
    "corr = df_train.corr()\n",
    "corr[y_label].sort_values(ascending=False)"
   ]
  },
  {
   "cell_type": "markdown",
   "metadata": {},
   "source": [
    "By applying the background gradient, we can improve the visualization of the correlation matrix. Cells with higher positive correlations are shaded with darker blue colors, while cells with higher negative correlations are shaded with lighter blue colors. \n",
    "\n",
    "This color gradient allows for a quick and intuitive visual assessment of the strength and direction of correlations in the matrix."
   ]
  },
  {
   "cell_type": "code",
   "execution_count": 41,
   "metadata": {
    "scrolled": true
   },
   "outputs": [
    {
     "data": {
      "text/html": [
       "<style type=\"text/css\">\n",
       "#T_d3d7a_row0_col0, #T_d3d7a_row1_col1, #T_d3d7a_row2_col2, #T_d3d7a_row3_col3, #T_d3d7a_row4_col4, #T_d3d7a_row5_col5 {\n",
       "  background-color: #08306b;\n",
       "  color: #f1f1f1;\n",
       "}\n",
       "#T_d3d7a_row0_col1 {\n",
       "  background-color: #cddff1;\n",
       "  color: #000000;\n",
       "}\n",
       "#T_d3d7a_row0_col2 {\n",
       "  background-color: #d3e3f3;\n",
       "  color: #000000;\n",
       "}\n",
       "#T_d3d7a_row0_col3 {\n",
       "  background-color: #b2d2e8;\n",
       "  color: #000000;\n",
       "}\n",
       "#T_d3d7a_row0_col4 {\n",
       "  background-color: #deebf7;\n",
       "  color: #000000;\n",
       "}\n",
       "#T_d3d7a_row0_col5 {\n",
       "  background-color: #3080bd;\n",
       "  color: #f1f1f1;\n",
       "}\n",
       "#T_d3d7a_row1_col0 {\n",
       "  background-color: #e0ecf8;\n",
       "  color: #000000;\n",
       "}\n",
       "#T_d3d7a_row1_col2 {\n",
       "  background-color: #084488;\n",
       "  color: #f1f1f1;\n",
       "}\n",
       "#T_d3d7a_row1_col3 {\n",
       "  background-color: #d1e2f3;\n",
       "  color: #000000;\n",
       "}\n",
       "#T_d3d7a_row1_col4, #T_d3d7a_row4_col0 {\n",
       "  background-color: #f6faff;\n",
       "  color: #000000;\n",
       "}\n",
       "#T_d3d7a_row1_col5 {\n",
       "  background-color: #dbe9f6;\n",
       "  color: #000000;\n",
       "}\n",
       "#T_d3d7a_row2_col0, #T_d3d7a_row2_col5, #T_d3d7a_row4_col1, #T_d3d7a_row5_col2, #T_d3d7a_row5_col3, #T_d3d7a_row5_col4 {\n",
       "  background-color: #f7fbff;\n",
       "  color: #000000;\n",
       "}\n",
       "#T_d3d7a_row2_col1 {\n",
       "  background-color: #08468b;\n",
       "  color: #f1f1f1;\n",
       "}\n",
       "#T_d3d7a_row2_col3 {\n",
       "  background-color: #d0e2f2;\n",
       "  color: #000000;\n",
       "}\n",
       "#T_d3d7a_row2_col4 {\n",
       "  background-color: #f5fafe;\n",
       "  color: #000000;\n",
       "}\n",
       "#T_d3d7a_row3_col0 {\n",
       "  background-color: #cee0f2;\n",
       "  color: #000000;\n",
       "}\n",
       "#T_d3d7a_row3_col1 {\n",
       "  background-color: #d5e5f4;\n",
       "  color: #000000;\n",
       "}\n",
       "#T_d3d7a_row3_col2 {\n",
       "  background-color: #c7dcef;\n",
       "  color: #000000;\n",
       "}\n",
       "#T_d3d7a_row3_col4 {\n",
       "  background-color: #f0f6fd;\n",
       "  color: #000000;\n",
       "}\n",
       "#T_d3d7a_row3_col5 {\n",
       "  background-color: #ecf4fb;\n",
       "  color: #000000;\n",
       "}\n",
       "#T_d3d7a_row4_col2 {\n",
       "  background-color: #e7f1fa;\n",
       "  color: #000000;\n",
       "}\n",
       "#T_d3d7a_row4_col3 {\n",
       "  background-color: #edf4fc;\n",
       "  color: #000000;\n",
       "}\n",
       "#T_d3d7a_row4_col5 {\n",
       "  background-color: #e9f2fa;\n",
       "  color: #000000;\n",
       "}\n",
       "#T_d3d7a_row5_col0 {\n",
       "  background-color: #4191c6;\n",
       "  color: #f1f1f1;\n",
       "}\n",
       "#T_d3d7a_row5_col1 {\n",
       "  background-color: #eaf2fb;\n",
       "  color: #000000;\n",
       "}\n",
       "</style>\n",
       "<table id=\"T_d3d7a\">\n",
       "  <thead>\n",
       "    <tr>\n",
       "      <th class=\"blank level0\" >&nbsp;</th>\n",
       "      <th id=\"T_d3d7a_level0_col0\" class=\"col_heading level0 col0\" >stem_diam_bottom_in_cm</th>\n",
       "      <th id=\"T_d3d7a_level0_col1\" class=\"col_heading level0 col1\" >total_meja</th>\n",
       "      <th id=\"T_d3d7a_level0_col2\" class=\"col_heading level0 col2\" >meja_per_100_cm</th>\n",
       "      <th id=\"T_d3d7a_level0_col3\" class=\"col_heading level0 col3\" >diam_top_in_cm</th>\n",
       "      <th id=\"T_d3d7a_level0_col4\" class=\"col_heading level0 col4\" >side_branches_in_cm</th>\n",
       "      <th id=\"T_d3d7a_level0_col5\" class=\"col_heading level0 col5\" >main_stem_length_in_cm</th>\n",
       "    </tr>\n",
       "  </thead>\n",
       "  <tbody>\n",
       "    <tr>\n",
       "      <th id=\"T_d3d7a_level0_row0\" class=\"row_heading level0 row0\" >stem_diam_bottom_in_cm</th>\n",
       "      <td id=\"T_d3d7a_row0_col0\" class=\"data row0 col0\" >1.000000</td>\n",
       "      <td id=\"T_d3d7a_row0_col1\" class=\"data row0 col1\" >0.184213</td>\n",
       "      <td id=\"T_d3d7a_row0_col2\" class=\"data row0 col2\" >0.079548</td>\n",
       "      <td id=\"T_d3d7a_row0_col3\" class=\"data row0 col3\" >0.271085</td>\n",
       "      <td id=\"T_d3d7a_row0_col4\" class=\"data row0 col4\" >0.086061</td>\n",
       "      <td id=\"T_d3d7a_row0_col5\" class=\"data row0 col5\" >0.655359</td>\n",
       "    </tr>\n",
       "    <tr>\n",
       "      <th id=\"T_d3d7a_level0_row1\" class=\"row_heading level0 row1\" >total_meja</th>\n",
       "      <td id=\"T_d3d7a_row1_col0\" class=\"data row1 col0\" >0.184213</td>\n",
       "      <td id=\"T_d3d7a_row1_col1\" class=\"data row1 col1\" >1.000000</td>\n",
       "      <td id=\"T_d3d7a_row1_col2\" class=\"data row1 col2\" >0.913216</td>\n",
       "      <td id=\"T_d3d7a_row1_col3\" class=\"data row1 col3\" >0.140567</td>\n",
       "      <td id=\"T_d3d7a_row1_col4\" class=\"data row1 col4\" >-0.040964</td>\n",
       "      <td id=\"T_d3d7a_row1_col5\" class=\"data row1 col5\" >0.031019</td>\n",
       "    </tr>\n",
       "    <tr>\n",
       "      <th id=\"T_d3d7a_level0_row2\" class=\"row_heading level0 row2\" >meja_per_100_cm</th>\n",
       "      <td id=\"T_d3d7a_row2_col0\" class=\"data row2 col0\" >0.079548</td>\n",
       "      <td id=\"T_d3d7a_row2_col1\" class=\"data row2 col1\" >0.913216</td>\n",
       "      <td id=\"T_d3d7a_row2_col2\" class=\"data row2 col2\" >1.000000</td>\n",
       "      <td id=\"T_d3d7a_row2_col3\" class=\"data row2 col3\" >0.146412</td>\n",
       "      <td id=\"T_d3d7a_row2_col4\" class=\"data row2 col4\" >-0.040138</td>\n",
       "      <td id=\"T_d3d7a_row2_col5\" class=\"data row2 col5\" >-0.128625</td>\n",
       "    </tr>\n",
       "    <tr>\n",
       "      <th id=\"T_d3d7a_level0_row3\" class=\"row_heading level0 row3\" >diam_top_in_cm</th>\n",
       "      <td id=\"T_d3d7a_row3_col0\" class=\"data row3 col0\" >0.271085</td>\n",
       "      <td id=\"T_d3d7a_row3_col1\" class=\"data row3 col1\" >0.140567</td>\n",
       "      <td id=\"T_d3d7a_row3_col2\" class=\"data row3 col2\" >0.146412</td>\n",
       "      <td id=\"T_d3d7a_row3_col3\" class=\"data row3 col3\" >1.000000</td>\n",
       "      <td id=\"T_d3d7a_row3_col4\" class=\"data row3 col4\" >-0.009801</td>\n",
       "      <td id=\"T_d3d7a_row3_col5\" class=\"data row3 col5\" >-0.065324</td>\n",
       "    </tr>\n",
       "    <tr>\n",
       "      <th id=\"T_d3d7a_level0_row4\" class=\"row_heading level0 row4\" >side_branches_in_cm</th>\n",
       "      <td id=\"T_d3d7a_row4_col0\" class=\"data row4 col0\" >0.086061</td>\n",
       "      <td id=\"T_d3d7a_row4_col1\" class=\"data row4 col1\" >-0.040964</td>\n",
       "      <td id=\"T_d3d7a_row4_col2\" class=\"data row4 col2\" >-0.040138</td>\n",
       "      <td id=\"T_d3d7a_row4_col3\" class=\"data row4 col3\" >-0.009801</td>\n",
       "      <td id=\"T_d3d7a_row4_col4\" class=\"data row4 col4\" >1.000000</td>\n",
       "      <td id=\"T_d3d7a_row4_col5\" class=\"data row4 col5\" >-0.048774</td>\n",
       "    </tr>\n",
       "    <tr>\n",
       "      <th id=\"T_d3d7a_level0_row5\" class=\"row_heading level0 row5\" >main_stem_length_in_cm</th>\n",
       "      <td id=\"T_d3d7a_row5_col0\" class=\"data row5 col0\" >0.655359</td>\n",
       "      <td id=\"T_d3d7a_row5_col1\" class=\"data row5 col1\" >0.031019</td>\n",
       "      <td id=\"T_d3d7a_row5_col2\" class=\"data row5 col2\" >-0.128625</td>\n",
       "      <td id=\"T_d3d7a_row5_col3\" class=\"data row5 col3\" >-0.065324</td>\n",
       "      <td id=\"T_d3d7a_row5_col4\" class=\"data row5 col4\" >-0.048774</td>\n",
       "      <td id=\"T_d3d7a_row5_col5\" class=\"data row5 col5\" >1.000000</td>\n",
       "    </tr>\n",
       "  </tbody>\n",
       "</table>\n"
      ],
      "text/plain": [
       "<pandas.io.formats.style.Styler at 0x1d47da7f370>"
      ]
     },
     "execution_count": 41,
     "metadata": {},
     "output_type": "execute_result"
    }
   ],
   "source": [
    "corr.style.background_gradient(cmap='Blues')"
   ]
  },
  {
   "cell_type": "markdown",
   "metadata": {},
   "source": [
    "We can also see that total meja and meja per 100cm do have a high correlation. The value of 0.91 suggests a strong positive linear relationship. As meja per 100 cm is defined as total meja / main stem length (cm) * 100 (cm) this is not really surprising.\n",
    "\n",
    "However, we need to be careful as high correlations between the predictor variables can lead to multicollinearity, which can affect the stability of the regression coefficients. As a solution, we can remove these highly correlated variables from the model."
   ]
  },
  {
   "cell_type": "markdown",
   "metadata": {},
   "source": [
    "Boxplot (infested/not infested) abhängig von main stem length"
   ]
  },
  {
   "cell_type": "markdown",
   "metadata": {},
   "source": [
    "### 4.3 Relationships"
   ]
  },
  {
   "cell_type": "code",
   "execution_count": 42,
   "metadata": {},
   "outputs": [],
   "source": [
    "# Evtl. oben bei EDA mit integrieren? Ist doch dasselbe?"
   ]
  },
  {
   "cell_type": "markdown",
   "metadata": {},
   "source": [
    "## 5 Model"
   ]
  },
  {
   "cell_type": "markdown",
   "metadata": {},
   "source": [
    "### 5.1 Select model"
   ]
  },
  {
   "cell_type": "markdown",
   "metadata": {},
   "source": [
    "In the following code cells we create the LinearRegression object (reg) and the logistic regression object (clf)."
   ]
  },
  {
   "cell_type": "code",
   "execution_count": 43,
   "metadata": {},
   "outputs": [],
   "source": [
    "reg = LinearRegression()"
   ]
  },
  {
   "cell_type": "code",
   "execution_count": 44,
   "metadata": {},
   "outputs": [],
   "source": [
    "# clf = LogisticRegressionCV()"
   ]
  },
  {
   "cell_type": "markdown",
   "metadata": {},
   "source": [
    "### 5.2 Training and validation"
   ]
  },
  {
   "cell_type": "markdown",
   "metadata": {},
   "source": [
    "Next we are using cross-validation to evaluate the performance of our linear regression and logistic regression model on the training dataset.\n",
    "This approach provides a robust estimate of the model's performance by evaluating it on five different subsets of the training data."
   ]
  },
  {
   "cell_type": "markdown",
   "metadata": {},
   "source": [
    "#### 5.2.1 Linear Regression"
   ]
  },
  {
   "cell_type": "code",
   "execution_count": 45,
   "metadata": {},
   "outputs": [],
   "source": [
    "scores = cross_val_score(reg, X_train_imputed, y_train_imputed, cv=5, scoring='neg_mean_squared_error', error_score='raise') *-1"
   ]
  },
  {
   "cell_type": "markdown",
   "metadata": {},
   "source": [
    "Now we are storing the cross-validation scores in a DataFrame called df_scores and then modifying its index and applying a background gradient style for visual representation. Darker shades of blue correspond to higher cross-validation scores. Column \"lr\" now contains the cross-validation scores for each fold."
   ]
  },
  {
   "cell_type": "code",
   "execution_count": 46,
   "metadata": {},
   "outputs": [
    {
     "data": {
      "text/html": [
       "<style type=\"text/css\">\n",
       "#T_1affb_row0_col0 {\n",
       "  background-color: #3f8fc5;\n",
       "  color: #f1f1f1;\n",
       "}\n",
       "#T_1affb_row1_col0 {\n",
       "  background-color: #08306b;\n",
       "  color: #f1f1f1;\n",
       "}\n",
       "#T_1affb_row2_col0 {\n",
       "  background-color: #f7fbff;\n",
       "  color: #000000;\n",
       "}\n",
       "#T_1affb_row3_col0 {\n",
       "  background-color: #4594c7;\n",
       "  color: #f1f1f1;\n",
       "}\n",
       "#T_1affb_row4_col0 {\n",
       "  background-color: #3b8bc2;\n",
       "  color: #f1f1f1;\n",
       "}\n",
       "</style>\n",
       "<table id=\"T_1affb\">\n",
       "  <thead>\n",
       "    <tr>\n",
       "      <th class=\"blank level0\" >&nbsp;</th>\n",
       "      <th id=\"T_1affb_level0_col0\" class=\"col_heading level0 col0\" >lr</th>\n",
       "    </tr>\n",
       "  </thead>\n",
       "  <tbody>\n",
       "    <tr>\n",
       "      <th id=\"T_1affb_level0_row0\" class=\"row_heading level0 row0\" >1</th>\n",
       "      <td id=\"T_1affb_row0_col0\" class=\"data row0 col0\" >286.724120</td>\n",
       "    </tr>\n",
       "    <tr>\n",
       "      <th id=\"T_1affb_level0_row1\" class=\"row_heading level0 row1\" >2</th>\n",
       "      <td id=\"T_1affb_row1_col0\" class=\"data row1 col0\" >336.584012</td>\n",
       "    </tr>\n",
       "    <tr>\n",
       "      <th id=\"T_1affb_level0_row2\" class=\"row_heading level0 row2\" >3</th>\n",
       "      <td id=\"T_1affb_row2_col0\" class=\"data row2 col0\" >199.579851</td>\n",
       "    </tr>\n",
       "    <tr>\n",
       "      <th id=\"T_1affb_level0_row3\" class=\"row_heading level0 row3\" >4</th>\n",
       "      <td id=\"T_1affb_row3_col0\" class=\"data row3 col0\" >283.827043</td>\n",
       "    </tr>\n",
       "    <tr>\n",
       "      <th id=\"T_1affb_level0_row4\" class=\"row_heading level0 row4\" >5</th>\n",
       "      <td id=\"T_1affb_row4_col0\" class=\"data row4 col0\" >288.641271</td>\n",
       "    </tr>\n",
       "  </tbody>\n",
       "</table>\n"
      ],
      "text/plain": [
       "<pandas.io.formats.style.Styler at 0x1d405ea1b10>"
      ]
     },
     "execution_count": 46,
     "metadata": {},
     "output_type": "execute_result"
    }
   ],
   "source": [
    "df_scores = pd.DataFrame({\"lr\": scores})\n",
    "\n",
    "df_scores.index += 1\n",
    "\n",
    "df_scores.style.background_gradient(cmap='Blues')"
   ]
  },
  {
   "cell_type": "markdown",
   "metadata": {},
   "source": [
    "The results represent the negative mean squared errors for each of the five folds in the k-fold cross-validation for the linear regression model. The result indicates that the linear regression model makes relatively good predictions on our training dataset."
   ]
  },
  {
   "cell_type": "markdown",
   "metadata": {},
   "source": [
    "Next, we want to create a line chart to visualize the mean squared error (MSE) across the different folds. Each point on the line represents the mean squared error for a specific fold.\n",
    "This visualization provides a way to assess how the model's performance varies across different folds and whether there are any noticeable patterns or trends."
   ]
  },
  {
   "cell_type": "code",
   "execution_count": 47,
   "metadata": {},
   "outputs": [
    {
     "data": {
      "text/html": [
       "\n",
       "<style>\n",
       "  #altair-viz-1426fbeca6394f41894b144fb27c9fff.vega-embed {\n",
       "    width: 100%;\n",
       "    display: flex;\n",
       "  }\n",
       "\n",
       "  #altair-viz-1426fbeca6394f41894b144fb27c9fff.vega-embed details,\n",
       "  #altair-viz-1426fbeca6394f41894b144fb27c9fff.vega-embed details summary {\n",
       "    position: relative;\n",
       "  }\n",
       "</style>\n",
       "<div id=\"altair-viz-1426fbeca6394f41894b144fb27c9fff\"></div>\n",
       "<script type=\"text/javascript\">\n",
       "  var VEGA_DEBUG = (typeof VEGA_DEBUG == \"undefined\") ? {} : VEGA_DEBUG;\n",
       "  (function(spec, embedOpt){\n",
       "    let outputDiv = document.currentScript.previousElementSibling;\n",
       "    if (outputDiv.id !== \"altair-viz-1426fbeca6394f41894b144fb27c9fff\") {\n",
       "      outputDiv = document.getElementById(\"altair-viz-1426fbeca6394f41894b144fb27c9fff\");\n",
       "    }\n",
       "    const paths = {\n",
       "      \"vega\": \"https://cdn.jsdelivr.net/npm/vega@5?noext\",\n",
       "      \"vega-lib\": \"https://cdn.jsdelivr.net/npm/vega-lib?noext\",\n",
       "      \"vega-lite\": \"https://cdn.jsdelivr.net/npm/vega-lite@5.15.1?noext\",\n",
       "      \"vega-embed\": \"https://cdn.jsdelivr.net/npm/vega-embed@6?noext\",\n",
       "    };\n",
       "\n",
       "    function maybeLoadScript(lib, version) {\n",
       "      var key = `${lib.replace(\"-\", \"\")}_version`;\n",
       "      return (VEGA_DEBUG[key] == version) ?\n",
       "        Promise.resolve(paths[lib]) :\n",
       "        new Promise(function(resolve, reject) {\n",
       "          var s = document.createElement('script');\n",
       "          document.getElementsByTagName(\"head\")[0].appendChild(s);\n",
       "          s.async = true;\n",
       "          s.onload = () => {\n",
       "            VEGA_DEBUG[key] = version;\n",
       "            return resolve(paths[lib]);\n",
       "          };\n",
       "          s.onerror = () => reject(`Error loading script: ${paths[lib]}`);\n",
       "          s.src = paths[lib];\n",
       "        });\n",
       "    }\n",
       "\n",
       "    function showError(err) {\n",
       "      outputDiv.innerHTML = `<div class=\"error\" style=\"color:red;\">${err}</div>`;\n",
       "      throw err;\n",
       "    }\n",
       "\n",
       "    function displayChart(vegaEmbed) {\n",
       "      vegaEmbed(outputDiv, spec, embedOpt)\n",
       "        .catch(err => showError(`Javascript Error: ${err.message}<br>This usually means there's a typo in your chart specification. See the javascript console for the full traceback.`));\n",
       "    }\n",
       "\n",
       "    if(typeof define === \"function\" && define.amd) {\n",
       "      requirejs.config({paths});\n",
       "      require([\"vega-embed\"], displayChart, err => showError(`Error loading script: ${err.message}`));\n",
       "    } else {\n",
       "      maybeLoadScript(\"vega\", \"5\")\n",
       "        .then(() => maybeLoadScript(\"vega-lite\", \"5.15.1\"))\n",
       "        .then(() => maybeLoadScript(\"vega-embed\", \"6\"))\n",
       "        .catch(showError)\n",
       "        .then(() => displayChart(vegaEmbed));\n",
       "    }\n",
       "  })({\"config\": {\"view\": {\"continuousWidth\": 300, \"continuousHeight\": 300}}, \"data\": {\"name\": \"data-36b493df425c91a45f618c80561aaf02\"}, \"mark\": {\"type\": \"line\", \"point\": {}}, \"encoding\": {\"x\": {\"axis\": {\"tickCount\": 5}, \"bin\": false, \"field\": \"index\", \"title\": \"Fold\", \"type\": \"quantitative\"}, \"y\": {\"aggregate\": \"mean\", \"field\": \"lr\", \"title\": \"Mean squared error (MSE)\", \"type\": \"quantitative\"}}, \"$schema\": \"https://vega.github.io/schema/vega-lite/v5.15.1.json\", \"datasets\": {\"data-36b493df425c91a45f618c80561aaf02\": [{\"index\": 1, \"lr\": 286.7241196285636}, {\"index\": 2, \"lr\": 336.58401203921517}, {\"index\": 3, \"lr\": 199.57985123539171}, {\"index\": 4, \"lr\": 283.8270427525473}, {\"index\": 5, \"lr\": 288.64127133554587}]}}, {\"mode\": \"vega-lite\"});\n",
       "</script>"
      ],
      "text/plain": [
       "alt.Chart(...)"
      ]
     },
     "execution_count": 47,
     "metadata": {},
     "output_type": "execute_result"
    }
   ],
   "source": [
    "alt.Chart(df_scores.reset_index()).mark_line(\n",
    "     point=alt.OverlayMarkDef()\n",
    ").encode(\n",
    "    x=alt.X(\"index\", bin=False, title=\"Fold\", axis=alt.Axis(tickCount=5)),\n",
    "    y=alt.Y(\"lr\", aggregate=\"mean\", title=\"Mean squared error (MSE)\")\n",
    ")"
   ]
  },
  {
   "cell_type": "markdown",
   "metadata": {},
   "source": [
    "Using the describe method again we can create summary statistics for each variable, in this case, each fold represented by the \"lr\" column."
   ]
  },
  {
   "cell_type": "code",
   "execution_count": 48,
   "metadata": {
    "scrolled": false
   },
   "outputs": [
    {
     "data": {
      "text/html": [
       "<div>\n",
       "<style scoped>\n",
       "    .dataframe tbody tr th:only-of-type {\n",
       "        vertical-align: middle;\n",
       "    }\n",
       "\n",
       "    .dataframe tbody tr th {\n",
       "        vertical-align: top;\n",
       "    }\n",
       "\n",
       "    .dataframe thead th {\n",
       "        text-align: right;\n",
       "    }\n",
       "</style>\n",
       "<table border=\"1\" class=\"dataframe\">\n",
       "  <thead>\n",
       "    <tr style=\"text-align: right;\">\n",
       "      <th></th>\n",
       "      <th>count</th>\n",
       "      <th>mean</th>\n",
       "      <th>std</th>\n",
       "      <th>min</th>\n",
       "      <th>25%</th>\n",
       "      <th>50%</th>\n",
       "      <th>75%</th>\n",
       "      <th>max</th>\n",
       "    </tr>\n",
       "  </thead>\n",
       "  <tbody>\n",
       "    <tr>\n",
       "      <th>lr</th>\n",
       "      <td>5.0</td>\n",
       "      <td>279.071259</td>\n",
       "      <td>49.495883</td>\n",
       "      <td>199.579851</td>\n",
       "      <td>283.827043</td>\n",
       "      <td>286.72412</td>\n",
       "      <td>288.641271</td>\n",
       "      <td>336.584012</td>\n",
       "    </tr>\n",
       "  </tbody>\n",
       "</table>\n",
       "</div>"
      ],
      "text/plain": [
       "    count        mean        std         min         25%        50%  \\\n",
       "lr    5.0  279.071259  49.495883  199.579851  283.827043  286.72412   \n",
       "\n",
       "           75%         max  \n",
       "lr  288.641271  336.584012  "
      ]
     },
     "execution_count": 48,
     "metadata": {},
     "output_type": "execute_result"
    }
   ],
   "source": [
    "df_scores.describe().T"
   ]
  },
  {
   "cell_type": "markdown",
   "metadata": {},
   "source": [
    "The table provides a summary of the distribution of mean squared error values across the different folds in our cross-validation. The relatively small standard deviation suggests that the mean squared error values are close to the mean, indicating consistency in model performance across the folds."
   ]
  },
  {
   "cell_type": "markdown",
   "metadata": {},
   "source": [
    "#### 5.2.2 Logistic Regression"
   ]
  },
  {
   "cell_type": "code",
   "execution_count": 49,
   "metadata": {},
   "outputs": [],
   "source": [
    "# scores_clf = cross_val_score(clf, X, y, cv=5, scoring='accuracy') wir können hier auch was anderes als accuracy nehmen"
   ]
  },
  {
   "cell_type": "markdown",
   "metadata": {},
   "source": [
    "Again we are storing the cross-validation scores for our logistic regression model in a DataFrame called df_scores_clf and then modifying its index and applying a background gradient style for visual representation."
   ]
  },
  {
   "cell_type": "code",
   "execution_count": 50,
   "metadata": {},
   "outputs": [],
   "source": [
    "# df_scores_clf = pd.DataFrame({\"lr\": scores_clf})\n",
    "\n",
    "# df_scores_clf.index += 1\n",
    "\n",
    "# df_scores_clf.style.background_gradient(cmap='Blues')"
   ]
  },
  {
   "cell_type": "markdown",
   "metadata": {},
   "source": [
    "The table indicates that...\n",
    "\n",
    "Using the describe method again we can create summary statistics for each fold represented by the \"lr\" column."
   ]
  },
  {
   "cell_type": "code",
   "execution_count": 51,
   "metadata": {},
   "outputs": [],
   "source": [
    "# df_scores_clf.describe().T"
   ]
  },
  {
   "cell_type": "markdown",
   "metadata": {},
   "source": [
    "The table provides a summary of the distribution of accuracy values across the different folds in our cross-validation.\n",
    "\n",
    "Ergebnis: "
   ]
  },
  {
   "cell_type": "markdown",
   "metadata": {},
   "source": [
    "### 5.3 Fit model"
   ]
  },
  {
   "cell_type": "markdown",
   "metadata": {},
   "source": [
    "#### 5.3.1 Linear Regression"
   ]
  },
  {
   "cell_type": "markdown",
   "metadata": {},
   "source": [
    "To fit or train our linear regression model to training data we are using the fit method.\n",
    "It performs the training process in which the model learns the relationship between the independent and dependent variables in the training data. For linear regression, this means finding the optimal coefficients/weights to create a linear function that best represents the training data.\n",
    "\n",
    "After fitting, the reg object is now a trained linear regression model that we can use to make predictions for new data that was not part of the training dataset."
   ]
  },
  {
   "cell_type": "code",
   "execution_count": 52,
   "metadata": {
    "scrolled": true
   },
   "outputs": [
    {
     "data": {
      "text/html": [
       "<style>#sk-container-id-1 {color: black;}#sk-container-id-1 pre{padding: 0;}#sk-container-id-1 div.sk-toggleable {background-color: white;}#sk-container-id-1 label.sk-toggleable__label {cursor: pointer;display: block;width: 100%;margin-bottom: 0;padding: 0.3em;box-sizing: border-box;text-align: center;}#sk-container-id-1 label.sk-toggleable__label-arrow:before {content: \"▸\";float: left;margin-right: 0.25em;color: #696969;}#sk-container-id-1 label.sk-toggleable__label-arrow:hover:before {color: black;}#sk-container-id-1 div.sk-estimator:hover label.sk-toggleable__label-arrow:before {color: black;}#sk-container-id-1 div.sk-toggleable__content {max-height: 0;max-width: 0;overflow: hidden;text-align: left;background-color: #f0f8ff;}#sk-container-id-1 div.sk-toggleable__content pre {margin: 0.2em;color: black;border-radius: 0.25em;background-color: #f0f8ff;}#sk-container-id-1 input.sk-toggleable__control:checked~div.sk-toggleable__content {max-height: 200px;max-width: 100%;overflow: auto;}#sk-container-id-1 input.sk-toggleable__control:checked~label.sk-toggleable__label-arrow:before {content: \"▾\";}#sk-container-id-1 div.sk-estimator input.sk-toggleable__control:checked~label.sk-toggleable__label {background-color: #d4ebff;}#sk-container-id-1 div.sk-label input.sk-toggleable__control:checked~label.sk-toggleable__label {background-color: #d4ebff;}#sk-container-id-1 input.sk-hidden--visually {border: 0;clip: rect(1px 1px 1px 1px);clip: rect(1px, 1px, 1px, 1px);height: 1px;margin: -1px;overflow: hidden;padding: 0;position: absolute;width: 1px;}#sk-container-id-1 div.sk-estimator {font-family: monospace;background-color: #f0f8ff;border: 1px dotted black;border-radius: 0.25em;box-sizing: border-box;margin-bottom: 0.5em;}#sk-container-id-1 div.sk-estimator:hover {background-color: #d4ebff;}#sk-container-id-1 div.sk-parallel-item::after {content: \"\";width: 100%;border-bottom: 1px solid gray;flex-grow: 1;}#sk-container-id-1 div.sk-label:hover label.sk-toggleable__label {background-color: #d4ebff;}#sk-container-id-1 div.sk-serial::before {content: \"\";position: absolute;border-left: 1px solid gray;box-sizing: border-box;top: 0;bottom: 0;left: 50%;z-index: 0;}#sk-container-id-1 div.sk-serial {display: flex;flex-direction: column;align-items: center;background-color: white;padding-right: 0.2em;padding-left: 0.2em;position: relative;}#sk-container-id-1 div.sk-item {position: relative;z-index: 1;}#sk-container-id-1 div.sk-parallel {display: flex;align-items: stretch;justify-content: center;background-color: white;position: relative;}#sk-container-id-1 div.sk-item::before, #sk-container-id-1 div.sk-parallel-item::before {content: \"\";position: absolute;border-left: 1px solid gray;box-sizing: border-box;top: 0;bottom: 0;left: 50%;z-index: -1;}#sk-container-id-1 div.sk-parallel-item {display: flex;flex-direction: column;z-index: 1;position: relative;background-color: white;}#sk-container-id-1 div.sk-parallel-item:first-child::after {align-self: flex-end;width: 50%;}#sk-container-id-1 div.sk-parallel-item:last-child::after {align-self: flex-start;width: 50%;}#sk-container-id-1 div.sk-parallel-item:only-child::after {width: 0;}#sk-container-id-1 div.sk-dashed-wrapped {border: 1px dashed gray;margin: 0 0.4em 0.5em 0.4em;box-sizing: border-box;padding-bottom: 0.4em;background-color: white;}#sk-container-id-1 div.sk-label label {font-family: monospace;font-weight: bold;display: inline-block;line-height: 1.2em;}#sk-container-id-1 div.sk-label-container {text-align: center;}#sk-container-id-1 div.sk-container {/* jupyter's `normalize.less` sets `[hidden] { display: none; }` but bootstrap.min.css set `[hidden] { display: none !important; }` so we also need the `!important` here to be able to override the default hidden behavior on the sphinx rendered scikit-learn.org. See: https://github.com/scikit-learn/scikit-learn/issues/21755 */display: inline-block !important;position: relative;}#sk-container-id-1 div.sk-text-repr-fallback {display: none;}</style><div id=\"sk-container-id-1\" class=\"sk-top-container\"><div class=\"sk-text-repr-fallback\"><pre>LinearRegression()</pre><b>In a Jupyter environment, please rerun this cell to show the HTML representation or trust the notebook. <br />On GitHub, the HTML representation is unable to render, please try loading this page with nbviewer.org.</b></div><div class=\"sk-container\" hidden><div class=\"sk-item\"><div class=\"sk-estimator sk-toggleable\"><input class=\"sk-toggleable__control sk-hidden--visually\" id=\"sk-estimator-id-1\" type=\"checkbox\" checked><label for=\"sk-estimator-id-1\" class=\"sk-toggleable__label sk-toggleable__label-arrow\">LinearRegression</label><div class=\"sk-toggleable__content\"><pre>LinearRegression()</pre></div></div></div></div></div>"
      ],
      "text/plain": [
       "LinearRegression()"
      ]
     },
     "execution_count": 52,
     "metadata": {},
     "output_type": "execute_result"
    }
   ],
   "source": [
    "reg.fit(X_train_imputed, y_train_imputed)"
   ]
  },
  {
   "cell_type": "markdown",
   "metadata": {},
   "source": [
    "Now we create a table with the estimated coefficients for the intercept and the slopes of the independent variables in the trained linear regression model.The coefficients indicate how much the dependent variable changes when the corresponding independent variable changes by one unit."
   ]
  },
  {
   "cell_type": "code",
   "execution_count": 53,
   "metadata": {},
   "outputs": [
    {
     "data": {
      "text/html": [
       "<div>\n",
       "<style scoped>\n",
       "    .dataframe tbody tr th:only-of-type {\n",
       "        vertical-align: middle;\n",
       "    }\n",
       "\n",
       "    .dataframe tbody tr th {\n",
       "        vertical-align: top;\n",
       "    }\n",
       "\n",
       "    .dataframe thead th {\n",
       "        text-align: right;\n",
       "    }\n",
       "</style>\n",
       "<table border=\"1\" class=\"dataframe\">\n",
       "  <thead>\n",
       "    <tr style=\"text-align: right;\">\n",
       "      <th></th>\n",
       "      <th>Name</th>\n",
       "      <th>Coefficient</th>\n",
       "    </tr>\n",
       "  </thead>\n",
       "  <tbody>\n",
       "    <tr>\n",
       "      <th>0</th>\n",
       "      <td>Intercept</td>\n",
       "      <td>28.537</td>\n",
       "    </tr>\n",
       "    <tr>\n",
       "      <th>1</th>\n",
       "      <td>stem_diam_bottom_in_cm</td>\n",
       "      <td>94.222</td>\n",
       "    </tr>\n",
       "    <tr>\n",
       "      <th>2</th>\n",
       "      <td>total_meja</td>\n",
       "      <td>1.217</td>\n",
       "    </tr>\n",
       "    <tr>\n",
       "      <th>3</th>\n",
       "      <td>meja_per_100_cm</td>\n",
       "      <td>-0.688</td>\n",
       "    </tr>\n",
       "    <tr>\n",
       "      <th>4</th>\n",
       "      <td>diam_top_in_cm</td>\n",
       "      <td>-78.221</td>\n",
       "    </tr>\n",
       "    <tr>\n",
       "      <th>5</th>\n",
       "      <td>side_branches_in_cm</td>\n",
       "      <td>-0.214</td>\n",
       "    </tr>\n",
       "  </tbody>\n",
       "</table>\n",
       "</div>"
      ],
      "text/plain": [
       "                     Name  Coefficient\n",
       "0               Intercept       28.537\n",
       "1  stem_diam_bottom_in_cm       94.222\n",
       "2              total_meja        1.217\n",
       "3         meja_per_100_cm       -0.688\n",
       "4          diam_top_in_cm      -78.221\n",
       "5     side_branches_in_cm       -0.214"
      ]
     },
     "execution_count": 53,
     "metadata": {},
     "output_type": "execute_result"
    }
   ],
   "source": [
    "intercept = pd.DataFrame({\n",
    "    \"Name\": [\"Intercept\"],\n",
    "    \"Coefficient\":[reg.intercept_]}\n",
    "    )\n",
    "\n",
    "slope = pd.DataFrame({\n",
    "    \"Name\": features,\n",
    "    \"Coefficient\": reg.coef_}\n",
    ")\n",
    "\n",
    "table = pd.concat([intercept, slope], ignore_index=True, sort=False)\n",
    "\n",
    "round(table, 3)"
   ]
  },
  {
   "cell_type": "markdown",
   "metadata": {},
   "source": [
    "Interpretation of the results:\n",
    "\n",
    "- The intercept is approximately 28.537. This is the estimated value of the dependent variable when all independent variables are zero. \n",
    "- An increase of one unit in the bottom stem diameter size is associated with an increase of about 94.222 units in the dependent variable main stem length.\n",
    "- A one unit increase in total meja is associated with an increase of approximately 1,217 units in the dependent variable main stem length.\n",
    "- An increase of one unit in the number of meja per 100 cm is associated with a decrease of about 0.688 units in the dependent variable main stem length.\n",
    "- A one unit increase in the top stem diameter size is associated with a decrease of about 78.221 units in the dependent variable main stem length.\n",
    "- An increase of one unit in side branch length is associated with a decrease of approximately 0.214 units in the dependent variable main stem length."
   ]
  },
  {
   "cell_type": "markdown",
   "metadata": {},
   "source": [
    "#### 5.3.2 Logistic Regression"
   ]
  },
  {
   "cell_type": "markdown",
   "metadata": {},
   "source": [
    "To fit or train our logistic regression model to training data we are again using the fit method."
   ]
  },
  {
   "cell_type": "code",
   "execution_count": 54,
   "metadata": {},
   "outputs": [],
   "source": [
    "#clf.fit(X_train_imputed, y_train_imputed)"
   ]
  },
  {
   "cell_type": "markdown",
   "metadata": {},
   "source": [
    "Again we create a table with the estimated coefficients for the intercept and the slopes of the independent variables in the trained logistic regression model."
   ]
  },
  {
   "cell_type": "code",
   "execution_count": 55,
   "metadata": {},
   "outputs": [
    {
     "ename": "NameError",
     "evalue": "name 'clf' is not defined",
     "output_type": "error",
     "traceback": [
      "\u001b[1;31m---------------------------------------------------------------------------\u001b[0m",
      "\u001b[1;31mNameError\u001b[0m                                 Traceback (most recent call last)",
      "Cell \u001b[1;32mIn[55], line 3\u001b[0m\n\u001b[0;32m      1\u001b[0m intercept \u001b[38;5;241m=\u001b[39m pd\u001b[38;5;241m.\u001b[39mDataFrame({\n\u001b[0;32m      2\u001b[0m     \u001b[38;5;124m\"\u001b[39m\u001b[38;5;124mName\u001b[39m\u001b[38;5;124m\"\u001b[39m: [\u001b[38;5;124m\"\u001b[39m\u001b[38;5;124mIntercept\u001b[39m\u001b[38;5;124m\"\u001b[39m],\n\u001b[1;32m----> 3\u001b[0m     \u001b[38;5;124m\"\u001b[39m\u001b[38;5;124mCoefficient\u001b[39m\u001b[38;5;124m\"\u001b[39m:[\u001b[43mclf\u001b[49m\u001b[38;5;241m.\u001b[39mintercept_]}\n\u001b[0;32m      4\u001b[0m     )\n\u001b[0;32m      6\u001b[0m slope \u001b[38;5;241m=\u001b[39m pd\u001b[38;5;241m.\u001b[39mDataFrame({\n\u001b[0;32m      7\u001b[0m     \u001b[38;5;124m\"\u001b[39m\u001b[38;5;124mName\u001b[39m\u001b[38;5;124m\"\u001b[39m: features,\n\u001b[0;32m      8\u001b[0m     \u001b[38;5;124m\"\u001b[39m\u001b[38;5;124mCoefficient\u001b[39m\u001b[38;5;124m\"\u001b[39m: clf\u001b[38;5;241m.\u001b[39mcoef_}\n\u001b[0;32m      9\u001b[0m )\n\u001b[0;32m     11\u001b[0m table \u001b[38;5;241m=\u001b[39m pd\u001b[38;5;241m.\u001b[39mconcat([intercept, slope], ignore_index\u001b[38;5;241m=\u001b[39m\u001b[38;5;28;01mTrue\u001b[39;00m, sort\u001b[38;5;241m=\u001b[39m\u001b[38;5;28;01mFalse\u001b[39;00m)\n",
      "\u001b[1;31mNameError\u001b[0m: name 'clf' is not defined"
     ]
    }
   ],
   "source": [
    "intercept = pd.DataFrame({\n",
    "    \"Name\": [\"Intercept\"],\n",
    "    \"Coefficient\":[clf.intercept_]}\n",
    "    )\n",
    "\n",
    "slope = pd.DataFrame({\n",
    "    \"Name\": features,\n",
    "    \"Coefficient\": clf.coef_}\n",
    ")\n",
    "\n",
    "table = pd.concat([intercept, slope], ignore_index=True, sort=False)\n",
    "\n",
    "round(table, 3)"
   ]
  },
  {
   "cell_type": "markdown",
   "metadata": {},
   "source": [
    "### 5.4 Evaluation on test set"
   ]
  },
  {
   "cell_type": "markdown",
   "metadata": {},
   "source": [
    "#### 5.4.1 Linear Regression Model"
   ]
  },
  {
   "cell_type": "markdown",
   "metadata": {},
   "source": [
    "Now we use the previously trained linear regression model to generate predictions for the dependent variable based on our test data (X_test_imputed). These predictions can then be compared with the actual values (y_test_imputed) to evaluate the performance of the model."
   ]
  },
  {
   "cell_type": "code",
   "execution_count": null,
   "metadata": {},
   "outputs": [],
   "source": [
    "y_pred_imputed = reg.predict(X_test_imputed)"
   ]
  },
  {
   "cell_type": "markdown",
   "metadata": {},
   "source": [
    "To evaluate our model, we use various functions from the sklearn.metrics module.\n",
    "\n",
    "First, we use the r2_score function to calculate R² between the actual values and the predicted values."
   ]
  },
  {
   "cell_type": "code",
   "execution_count": null,
   "metadata": {},
   "outputs": [],
   "source": [
    "r2_score(y_test_imputed, y_pred_imputed).round(3)"
   ]
  },
  {
   "cell_type": "markdown",
   "metadata": {},
   "source": [
    "The R² value is between 0 and 1, where 1 means that the model explains all variation in the dependent variables, and 0 means that the model has no explanatory power beyond predicting the average. An R² value of 0.605 shows that about 60.5% of the variations in the actual values can be explained by the model. This indicates that the model has moderate success in explaining the observed variations. However, there is still room for improvement as more than 39% of the variations are not explained by the model.\n",
    "\n",
    "Next we calculate the mean squared error (MSE) between the actual values and the predicted values."
   ]
  },
  {
   "cell_type": "code",
   "execution_count": null,
   "metadata": {},
   "outputs": [],
   "source": [
    "mean_squared_error(y_test_imputed, y_pred_imputed).round(3)"
   ]
  },
  {
   "cell_type": "markdown",
   "metadata": {},
   "source": [
    "The mean square error indicates the average size of the square deviations between the actual and predicted values. A lower MSE indicates more accurate predictions. \n",
    "In our case, a mean square error (MSE) of 239.282 indicates that the mean square error between the actual and predicted values of main stem length is about 239.282 square centimeters.\n",
    "\n",
    "Now we want to calculate the square root of the root mean square error (RMSE)."
   ]
  },
  {
   "cell_type": "code",
   "execution_count": null,
   "metadata": {
    "scrolled": true
   },
   "outputs": [],
   "source": [
    "mean_squared_error(y_test_imputed, y_pred_imputed, squared=False).round(3)"
   ]
  },
  {
   "cell_type": "markdown",
   "metadata": {},
   "source": [
    "The RSME indicates the average size of the absolute deviations between the actual and predicted values. A lower RMSE indicates more accurate predictions. In our case, the RMSE of 15.469 cm means that the average deviation between the actual and predicted values is about 15.469 cm.\n",
    "\n",
    "We now that the minimum main stem length is 2 cm, the maximum main stem length is 135 cm and the standard deviation 24.92 cm.\n",
    "In view of that the RMSE of 15.469 cm can be considered acceptable given the span of the main stem lengths.\n",
    "\n",
    "At last we want to calulate the mean absolute error (MAE) between the actual values and the predicted values."
   ]
  },
  {
   "cell_type": "code",
   "execution_count": null,
   "metadata": {
    "scrolled": true
   },
   "outputs": [],
   "source": [
    "mean_absolute_error(y_test_imputed, y_pred_imputed).round(3)"
   ]
  },
  {
   "cell_type": "markdown",
   "metadata": {},
   "source": [
    "The MAE indicates the average size of the absolute deviations between the actual and predicted values. In your case, the MAE of 12.401 means that the average absolute deviation between the actual and predicted lengths is about 12.401 cm."
   ]
  },
  {
   "cell_type": "markdown",
   "metadata": {},
   "source": [
    "#### 5.4.2 Logistic Regression Model"
   ]
  },
  {
   "cell_type": "markdown",
   "metadata": {},
   "source": [
    "In the following we use the trained logistic regression model to generate predictions for the dependent variable based on our test data (X_test_imputed).\n",
    "\n",
    "The choice of threshold for binary classification problems is an important decision and can have a significant impact on the performance of the model. Since we need to categorize our predictions into infested or not infested, we set a threshold of 0.5."
   ]
  },
  {
   "cell_type": "code",
   "execution_count": null,
   "metadata": {},
   "outputs": [],
   "source": [
    "# y_pred_imputed_clf = clf.predict(X_test_imputed)"
   ]
  },
  {
   "cell_type": "code",
   "execution_count": null,
   "metadata": {},
   "outputs": [],
   "source": [
    "# ConfusionMatrixDisplay.from_estimator(clf, X_test_imputed, y_test_imputed)"
   ]
  },
  {
   "cell_type": "code",
   "execution_count": null,
   "metadata": {},
   "outputs": [],
   "source": [
    "# print(classification_report(y_test_imputed, y_pred_imputed_clf, target_names=['Not infested', 'Infested']))"
   ]
  },
  {
   "cell_type": "markdown",
   "metadata": {},
   "source": [
    "Now we want to interpret precision, recall and f1 score of our logistic regression model:\n",
    "\n",
    "**Precision:** \n",
    "Precision is the ratio of correctly predicted positive classes to all items predicted as positive. Therefore it tells us how correct or precise the positive predictions of our model are.\n",
    "\n",
    "**Recall:**\n",
    "Recall measures how many of the actual positive cases we were able to correctly predict. It is important if we believe that false negatives are more important than false positives.\n",
    "\n",
    "**F1-Score:**\n",
    "F1-Score is a performance metric that takes into account both precision and recall. It is calculated from the harmonic mean of the two metrics.\n"
   ]
  },
  {
   "cell_type": "markdown",
   "metadata": {},
   "source": [
    "To further evaluate our logistic regression model, we can visualize the ROC curve (Receiver Operating Characteristic Curve). Previously, we had set the threshold value to 0.5. The ROC curve provides a visual way to observe changes in our model's classification thresholds that affect the model's performance. We plot the rate of true positives against the rate of false positives for all possible thresholds. This allows us to select the classification threshold at which we identify the most true-positive cases. "
   ]
  },
  {
   "cell_type": "code",
   "execution_count": null,
   "metadata": {},
   "outputs": [],
   "source": [
    "# RocCurveDisplay.from_estimator(clf, X_test_imputed, y_test_imputed)"
   ]
  },
  {
   "cell_type": "markdown",
   "metadata": {},
   "source": [
    "The curve indicates that...\n",
    "\n",
    "\n",
    "Next, we can calculate the Area Under the ROC Curve (AUC). It is a performance measure which is independent of the exact classification threshold chosen. AUC is between 0 and 1, with higher numbers indicating better performance."
   ]
  },
  {
   "cell_type": "code",
   "execution_count": null,
   "metadata": {},
   "outputs": [],
   "source": [
    "# y_score = clf.predict_proba(X_test_imputed)[:, 1]\n",
    "# roc_auc_score(y_test_imputed, y_score)"
   ]
  },
  {
   "cell_type": "markdown",
   "metadata": {},
   "source": [
    "The value of xx indicates that..."
   ]
  },
  {
   "cell_type": "markdown",
   "metadata": {},
   "source": [
    "### 5.5 Save model\n"
   ]
  },
  {
   "cell_type": "markdown",
   "metadata": {},
   "source": [
    "\n",
    "Save your model in the folder `models/`. Use a meaningful name and a timestamp."
   ]
  },
  {
   "cell_type": "code",
   "execution_count": null,
   "metadata": {},
   "outputs": [],
   "source": []
  },
  {
   "cell_type": "markdown",
   "metadata": {},
   "source": [
    "## 6 Conclusions"
   ]
  },
  {
   "cell_type": "markdown",
   "metadata": {},
   "source": []
  },
  {
   "cell_type": "code",
   "execution_count": null,
   "metadata": {},
   "outputs": [],
   "source": []
  }
 ],
 "metadata": {
  "kernelspec": {
   "display_name": "Python 3 (ipykernel)",
   "language": "python",
   "name": "python3"
  },
  "language_info": {
   "codemirror_mode": {
    "name": "ipython",
    "version": 3
   },
   "file_extension": ".py",
   "mimetype": "text/x-python",
   "name": "python",
   "nbconvert_exporter": "python",
   "pygments_lexer": "ipython3",
   "version": "3.10.12"
  },
  "vscode": {
   "interpreter": {
    "hash": "463226f144cc21b006ce6927bfc93dd00694e52c8bc6857abb6e555b983749e9"
   }
  }
 },
 "nbformat": 4,
 "nbformat_minor": 4
}
