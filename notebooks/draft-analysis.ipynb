{
 "cells": [
  {
   "cell_type": "markdown",
   "metadata": {},
   "source": [
    "# Draft analysis \n",
    "\n",
    "---\n",
    "\n",
    "Group name: Doreen Mack, David Riethmann\n",
    "\n",
    "---\n"
   ]
  },
  {
   "cell_type": "markdown",
   "metadata": {},
   "source": [
    "# 1 Introduction"
   ]
  },
  {
   "cell_type": "markdown",
   "metadata": {},
   "source": [
    "### 1.1 Introduction and Motivation"
   ]
  },
  {
   "cell_type": "markdown",
   "metadata": {},
   "source": [
    "For our project we have chosen a dataset about the release and establishment of the weevil Mecinus janthiniformis for biological control of Dalmatian toadflax in southern California. \n",
    "\n",
    "Dalmatian toadflax was introduced to North America in the 1800s, presumably as ornamental plants and for use in fabrics and folk remedies. The species is now widespread in large parts of the USA and Canada. Due to its extensive root system and prolific seed production, it can thrive and spread rapidly in a variety of ecosystems, including grasslands and roadsides. A lack of natural enemies is seen as one reason why plant species become invasive pests when they are introduced into areas outside their original range.\n",
    "\n",
    "Invasive plants such as Dalmatian toadflax can cause ecological problems. On the one hand, it can displace native plants and as a result reduce biodiversity. It can also have an impact on the availability of habitat for native animals as the dominance of Dalmatian toadflax can disrupt the structure and function of ecosystems. On the other hand, we have to think about the soil composition. Invasive plants can alter the soil by removing nutrients, which can have an impact on the native vegetation. Moreover, Dalmatian toadflax can tend to accumulate dry material, which can increase fire hazard.\n",
    "\n",
    "Therefore, attempts are being made to control the spread of Dalmatian toadflax. During the 1950s-1960s studies with herbicides have been conducted. Because of the variable responses, different herbicides have been recommended e.g. borate-chlorate mixtures, different acids or silvex. However, the studies concluded that chemical control alone is not practical for large infestations and emphasized the need for integrated control strategies that take into account both chemical and ecological factors. Other studies have investigated the effect of prescribed fires and the use of adapted grasses in competition with toadflax. However, these studies also came to the conclusion that neither fire nor competing grasses reduce toadflax populations.\n",
    "\n",
    "Nowadays, biological control using herbivorous insects such as Mecinus janthiniformis is the most promising method of controlling invasive weeds in a long-term, cost-effective and sustainable way.\n",
    "These insects can infest plants, seeds, roots, leaves and stems. Continuous effect and permanent control, as well as the good combination with other control methods and the self-spreading, but also long-term and environmentally friendly nature are just some of the advantages that should be mentioned.\n",
    "However, studies and tests on the success of these natural control agents are very cost-intensive and time-consuming.\n",
    "Nevertheless, the advantages outweigh the disadvantages, which is why the use of herbivorous insects to control invasive plants is widespread today.\n",
    "\n",
    "In our case, weevil Mecinus janthiniformis populations were released in the investigated area of southern California.\n",
    "We aim to find patterns and trends within the dataset and define factors and potential predictors associated with the growth of Dalmatian toadflax and the spread of weevil populations."
   ]
  },
  {
   "cell_type": "markdown",
   "metadata": {},
   "source": [
    "**References**\n",
    "\n",
    "Jacobs, J. S., & Sheley, R. L. (2003). Prescribed fire effects on dalmation toadflax. Rangeland Ecology & Management/Journal of Range Management Archives, 56(2), 193-197.: https://journals.uair.arizona.edu/index.php/jrm/article/download/9791/9403\n",
    "\n",
    "Robocker, W. C. (1968). Control of Dalmation Toadflax. Rangeland Ecology & Management/Journal of Range Management Archives, 21(2), 94-98.: https://journals.uair.arizona.edu/index.php/jrm/article/viewFile/5580/5190\n",
    "\n",
    "Sing, S. E., De Clerck-Floate, R. A., Hansen, R. W., Pearce, H., Randall, C. B., Toševski, I., & Ward, S. M. (2016). Biology and biological control of Dalmatian and yellow toadflax (p. 141). Morgantown, West Virginia: USDA Forest Service, Forest Health Technology Enterprise Team.: https://www.fs.usda.gov/rm/pubs_journals/2016/rmrs_2016_sing_s001.pdf\n",
    "\n",
    "Willden, S. A., & Evans, E. W. (2019). Summer development and survivorship of the weed biocontrol agent, Mecinus janthiniformis (Coleoptera: Curculionidae), within stems of its host, Dalmatian toadflax (Lamiales: Plantaginaceae), in Utah. Environmental entomology, 48(3), 533-539."
   ]
  },
  {
   "cell_type": "markdown",
   "metadata": {},
   "source": [
    "### 1.2 Research Questions and Hypothesis"
   ]
  },
  {
   "cell_type": "markdown",
   "metadata": {},
   "source": [
    "**Linear Regression:**\n",
    "\n",
    "We want to identify patterns and trends within our dataset and define factors or potential predictors associated with the growth of Dalmatian toadflax. Our model aims to predict the main stem length of Dalmatian toadflax based on different traits.\n",
    "\n",
    "**Logistic Regression:**\n",
    "\n",
    "For the logistic regression we want to predict, if a plant is infested by weevil populations or not. Therefore, we use different predictor variables and try to identify which characteristics of a plant are most likely to indicate a possible infestation.\n",
    "\n",
    "Our **hypothesis** is that the spread of weevil populations contributes to the reduction of Dalmatian toadflax vegetation in the area and reduces the size of the plants. \n",
    "\n",
    "If it turns out that weevil cultivation does indeed influence the containment of the spread, this could serve as a basis for the decision to increase the use of herbivorous insects such as Mecinus janthiniformis to control the growth of Dalmatian toadflax."
   ]
  },
  {
   "cell_type": "markdown",
   "metadata": {},
   "source": [
    "### 1.3 Data Origin"
   ]
  },
  {
   "cell_type": "markdown",
   "metadata": {},
   "source": [
    "The dataset was originally collected by Lincoln Smith starting in 2008 and published by the Agricultural Research Service (Department of Agriculture). \n",
    "\n",
    "Every year an observational study was conducted on six different sites within the investigated area with approximately 7-78 observations per site and year. The plants were collected, examined, measured and dissected in the labratory. Each observation in the datasets represents a plant in the investigated area.\n",
    "\n",
    "Link to the data source: https://catalog.data.gov/dataset/data-from-release-and-establishment-of-the-weevil-mecinus-janthiniformis-for-biological-co"
   ]
  },
  {
   "cell_type": "markdown",
   "metadata": {},
   "source": [
    "## 2 Setup"
   ]
  },
  {
   "cell_type": "markdown",
   "metadata": {},
   "source": [
    "We start by importing the required libraries and modules.\n",
    "These are:\n",
    "- Pandas: A library for data analysis which provides data structures such as series and DataFrames that form the basis for working with data.\n",
    "- Altair: A library for statistical visualization that provides a variety of graphics.\n",
    "- Scikit-Learn: A machine learning library which provides tools for data analysis and modelling. From Scikit-Learn we have imported a bunch of modules e.g. to calculate statistical measures or split the dataset."
   ]
  },
  {
   "cell_type": "code",
   "execution_count": 1,
   "metadata": {},
   "outputs": [],
   "source": [
    "import pickle\n",
    "import pandas as pd\n",
    "import altair as alt\n",
    "\n",
    "from sklearn.metrics import r2_score\n",
    "from sklearn.impute import SimpleImputer\n",
    "from sklearn.metrics import mean_squared_error\n",
    "from sklearn.metrics import mean_absolute_error\n",
    "from sklearn.linear_model import LinearRegression, LogisticRegressionCV\n",
    "from sklearn.model_selection import cross_val_score\n",
    "from sklearn.model_selection import train_test_split\n",
    "from sklearn.metrics import classification_report\n",
    "from sklearn.metrics import ConfusionMatrixDisplay\n",
    "from sklearn.metrics import RocCurveDisplay\n",
    "from sklearn.metrics import roc_auc_score\n",
    "from imblearn.over_sampling import RandomOverSampler"
   ]
  },
  {
   "cell_type": "markdown",
   "metadata": {},
   "source": [
    "## 3 Data"
   ]
  },
  {
   "cell_type": "markdown",
   "metadata": {},
   "source": [
    "### 3.1 Import Data"
   ]
  },
  {
   "cell_type": "markdown",
   "metadata": {},
   "source": [
    "Next we are using pandas to read the data form our CSV file and create a DataFrame which we call \"df\" and which will contain the data from the CSV file in tabular format. \n",
    "\n",
    "We also create a DataFrame \"meta\" which will contain our data dictionary. The data dictionary provides additional information about the columns and variables in \"df\". To read the data from our excel file we also use the pandas function."
   ]
  },
  {
   "cell_type": "code",
   "execution_count": 2,
   "metadata": {},
   "outputs": [],
   "source": [
    "df = pd.read_csv('../data/raw/dissections_2012_HV.csv')\n",
    "meta = pd.read_excel('../data/raw/metadata_dictionary.xlsx')"
   ]
  },
  {
   "cell_type": "markdown",
   "metadata": {},
   "source": [
    "### 3.2 Data Structure"
   ]
  },
  {
   "cell_type": "markdown",
   "metadata": {},
   "source": [
    "Let´s first take a look at the metadata. We want to get a brief overview of the data in our \"df\".\n",
    "We can see there are 25 variables. The description, role, type and format of each variable in our DataFrame can be taken from the following table:"
   ]
  },
  {
   "cell_type": "code",
   "execution_count": 3,
   "metadata": {
    "scrolled": true
   },
   "outputs": [
    {
     "data": {
      "text/html": [
       "<div>\n",
       "<style scoped>\n",
       "    .dataframe tbody tr th:only-of-type {\n",
       "        vertical-align: middle;\n",
       "    }\n",
       "\n",
       "    .dataframe tbody tr th {\n",
       "        vertical-align: top;\n",
       "    }\n",
       "\n",
       "    .dataframe thead th {\n",
       "        text-align: right;\n",
       "    }\n",
       "</style>\n",
       "<table border=\"1\" class=\"dataframe\">\n",
       "  <thead>\n",
       "    <tr style=\"text-align: right;\">\n",
       "      <th></th>\n",
       "      <th>Name</th>\n",
       "      <th>Description</th>\n",
       "      <th>Role</th>\n",
       "      <th>Type</th>\n",
       "      <th>Format</th>\n",
       "    </tr>\n",
       "  </thead>\n",
       "  <tbody>\n",
       "    <tr>\n",
       "      <th>0</th>\n",
       "      <td>year</td>\n",
       "      <td>year that stems were infested</td>\n",
       "      <td>-</td>\n",
       "      <td>numeric</td>\n",
       "      <td>int64</td>\n",
       "    </tr>\n",
       "    <tr>\n",
       "      <th>1</th>\n",
       "      <td>diss date</td>\n",
       "      <td>date dissected in the laboratory</td>\n",
       "      <td>-</td>\n",
       "      <td>numeric</td>\n",
       "      <td>object</td>\n",
       "    </tr>\n",
       "    <tr>\n",
       "      <th>2</th>\n",
       "      <td>date</td>\n",
       "      <td>date collected in the field</td>\n",
       "      <td>-</td>\n",
       "      <td>numeric</td>\n",
       "      <td>object</td>\n",
       "    </tr>\n",
       "    <tr>\n",
       "      <th>3</th>\n",
       "      <td>site</td>\n",
       "      <td>six study sites at Hungry Valley study area</td>\n",
       "      <td>Predictor</td>\n",
       "      <td>nominal</td>\n",
       "      <td>object</td>\n",
       "    </tr>\n",
       "    <tr>\n",
       "      <th>4</th>\n",
       "      <td>trt</td>\n",
       "      <td>release or not in 2008 and 2014</td>\n",
       "      <td>-</td>\n",
       "      <td>nominal</td>\n",
       "      <td>object</td>\n",
       "    </tr>\n",
       "    <tr>\n",
       "      <th>5</th>\n",
       "      <td>BC</td>\n",
       "      <td>1 = early establishment, 0 = late establishment</td>\n",
       "      <td>-</td>\n",
       "      <td>nominal</td>\n",
       "      <td>int64</td>\n",
       "    </tr>\n",
       "    <tr>\n",
       "      <th>6</th>\n",
       "      <td>stem #</td>\n",
       "      <td>stem ID</td>\n",
       "      <td>ID</td>\n",
       "      <td>numeric</td>\n",
       "      <td>int64</td>\n",
       "    </tr>\n",
       "    <tr>\n",
       "      <th>7</th>\n",
       "      <td>stem diam bottom (mm)</td>\n",
       "      <td>diameter of stem at bottom</td>\n",
       "      <td>Predictor</td>\n",
       "      <td>numeric</td>\n",
       "      <td>float64</td>\n",
       "    </tr>\n",
       "    <tr>\n",
       "      <th>8</th>\n",
       "      <td>main stem length (cm)</td>\n",
       "      <td>length of stem, excluding side branches</td>\n",
       "      <td>Predictor, response</td>\n",
       "      <td>numeric</td>\n",
       "      <td>float64</td>\n",
       "    </tr>\n",
       "    <tr>\n",
       "      <th>9</th>\n",
       "      <td>total meja</td>\n",
       "      <td>sum of no. empty chambers, dead larvae, dead p...</td>\n",
       "      <td>Predictor</td>\n",
       "      <td>numeric</td>\n",
       "      <td>int64</td>\n",
       "    </tr>\n",
       "    <tr>\n",
       "      <th>10</th>\n",
       "      <td>meja/100 cm</td>\n",
       "      <td>total meja / main stem length (cm) * 100 (cm)</td>\n",
       "      <td>Predictor</td>\n",
       "      <td>numeric</td>\n",
       "      <td>float64</td>\n",
       "    </tr>\n",
       "    <tr>\n",
       "      <th>11</th>\n",
       "      <td>infested</td>\n",
       "      <td>1 = infested by M. janthiniformis, 0 = not</td>\n",
       "      <td>Predictor, response</td>\n",
       "      <td>nominal</td>\n",
       "      <td>int64</td>\n",
       "    </tr>\n",
       "    <tr>\n",
       "      <th>12</th>\n",
       "      <td>diam top (mm)</td>\n",
       "      <td>diameter of stem at top</td>\n",
       "      <td>Predictor</td>\n",
       "      <td>numeric</td>\n",
       "      <td>float64</td>\n",
       "    </tr>\n",
       "    <tr>\n",
       "      <th>13</th>\n",
       "      <td>tip of stem broken</td>\n",
       "      <td>b = broken, c = cut</td>\n",
       "      <td>Predictor</td>\n",
       "      <td>nominal</td>\n",
       "      <td>object</td>\n",
       "    </tr>\n",
       "    <tr>\n",
       "      <th>14</th>\n",
       "      <td>side branches (cm)</td>\n",
       "      <td>cumulative length of side branches that were e...</td>\n",
       "      <td>Predictor</td>\n",
       "      <td>numeric</td>\n",
       "      <td>float64</td>\n",
       "    </tr>\n",
       "    <tr>\n",
       "      <th>15</th>\n",
       "      <td>no. empty chambers</td>\n",
       "      <td>empty M. janthiniformis pupal chambers (= emer...</td>\n",
       "      <td>Predictor</td>\n",
       "      <td>numeric</td>\n",
       "      <td>int64</td>\n",
       "    </tr>\n",
       "    <tr>\n",
       "      <th>16</th>\n",
       "      <td>total chamber length</td>\n",
       "      <td>sum of all weevil chamber lengths</td>\n",
       "      <td>Predictor</td>\n",
       "      <td>numeric</td>\n",
       "      <td>float64</td>\n",
       "    </tr>\n",
       "    <tr>\n",
       "      <th>17</th>\n",
       "      <td>live adults,number</td>\n",
       "      <td>number of live adults</td>\n",
       "      <td>-</td>\n",
       "      <td>numeric</td>\n",
       "      <td>object</td>\n",
       "    </tr>\n",
       "    <tr>\n",
       "      <th>18</th>\n",
       "      <td>dead adults,number</td>\n",
       "      <td>number of dead adults</td>\n",
       "      <td>-</td>\n",
       "      <td>numeric</td>\n",
       "      <td>object</td>\n",
       "    </tr>\n",
       "    <tr>\n",
       "      <th>19</th>\n",
       "      <td>dead larvae,numbere</td>\n",
       "      <td>number of desad larvae</td>\n",
       "      <td>-</td>\n",
       "      <td>numeric</td>\n",
       "      <td>float64</td>\n",
       "    </tr>\n",
       "    <tr>\n",
       "      <th>20</th>\n",
       "      <td>dead pupae,number</td>\n",
       "      <td>number of pupae</td>\n",
       "      <td>-</td>\n",
       "      <td>numeric</td>\n",
       "      <td>float64</td>\n",
       "    </tr>\n",
       "    <tr>\n",
       "      <th>21</th>\n",
       "      <td>parasitoid</td>\n",
       "      <td>number of hosts with parasitoids</td>\n",
       "      <td>-</td>\n",
       "      <td>numeric</td>\n",
       "      <td>float64</td>\n",
       "    </tr>\n",
       "    <tr>\n",
       "      <th>22</th>\n",
       "      <td>live pupa,number</td>\n",
       "      <td>number of live pupa</td>\n",
       "      <td>-</td>\n",
       "      <td>numeric</td>\n",
       "      <td>float64</td>\n",
       "    </tr>\n",
       "    <tr>\n",
       "      <th>23</th>\n",
       "      <td>live larva,number</td>\n",
       "      <td>number of live larva</td>\n",
       "      <td>-</td>\n",
       "      <td>numeric</td>\n",
       "      <td>float64</td>\n",
       "    </tr>\n",
       "    <tr>\n",
       "      <th>24</th>\n",
       "      <td>total no. adults</td>\n",
       "      <td>number of live + dead adults</td>\n",
       "      <td>-</td>\n",
       "      <td>numeric</td>\n",
       "      <td>int64</td>\n",
       "    </tr>\n",
       "  </tbody>\n",
       "</table>\n",
       "</div>"
      ],
      "text/plain": [
       "                     Name                                        Description  \\\n",
       "0                    year                      year that stems were infested   \n",
       "1               diss date                   date dissected in the laboratory   \n",
       "2                    date                        date collected in the field   \n",
       "3                    site        six study sites at Hungry Valley study area   \n",
       "4                     trt                    release or not in 2008 and 2014   \n",
       "5                      BC    1 = early establishment, 0 = late establishment   \n",
       "6                  stem #                                            stem ID   \n",
       "7   stem diam bottom (mm)                         diameter of stem at bottom   \n",
       "8   main stem length (cm)            length of stem, excluding side branches   \n",
       "9              total meja  sum of no. empty chambers, dead larvae, dead p...   \n",
       "10            meja/100 cm      total meja / main stem length (cm) * 100 (cm)   \n",
       "11               infested         1 = infested by M. janthiniformis, 0 = not   \n",
       "12          diam top (mm)                            diameter of stem at top   \n",
       "13     tip of stem broken                                b = broken, c = cut   \n",
       "14     side branches (cm)  cumulative length of side branches that were e...   \n",
       "15     no. empty chambers  empty M. janthiniformis pupal chambers (= emer...   \n",
       "16   total chamber length                  sum of all weevil chamber lengths   \n",
       "17     live adults,number                              number of live adults   \n",
       "18     dead adults,number                              number of dead adults   \n",
       "19    dead larvae,numbere                             number of desad larvae   \n",
       "20      dead pupae,number                                    number of pupae   \n",
       "21             parasitoid                   number of hosts with parasitoids   \n",
       "22       live pupa,number                                number of live pupa   \n",
       "23      live larva,number                               number of live larva   \n",
       "24       total no. adults                       number of live + dead adults   \n",
       "\n",
       "                   Role     Type   Format  \n",
       "0                     -  numeric  int64    \n",
       "1                     -  numeric  object   \n",
       "2                     -  numeric  object   \n",
       "3             Predictor  nominal  object   \n",
       "4                     -  nominal  object   \n",
       "5                     -  nominal  int64    \n",
       "6                    ID  numeric  int64    \n",
       "7             Predictor  numeric  float64  \n",
       "8   Predictor, response  numeric  float64  \n",
       "9             Predictor  numeric  int64    \n",
       "10            Predictor  numeric  float64  \n",
       "11  Predictor, response  nominal  int64    \n",
       "12            Predictor  numeric  float64  \n",
       "13            Predictor  nominal  object   \n",
       "14            Predictor  numeric  float64  \n",
       "15            Predictor  numeric  int64    \n",
       "16            Predictor  numeric  float64  \n",
       "17                    -  numeric  object   \n",
       "18                    -  numeric  object   \n",
       "19                    -  numeric  float64  \n",
       "20                    -  numeric  float64  \n",
       "21                    -  numeric  float64  \n",
       "22                    -  numeric  float64  \n",
       "23                    -  numeric  float64  \n",
       "24                    -  numeric  int64    "
      ]
     },
     "execution_count": 3,
     "metadata": {},
     "output_type": "execute_result"
    }
   ],
   "source": [
    "meta"
   ]
  },
  {
   "cell_type": "code",
   "execution_count": 4,
   "metadata": {},
   "outputs": [
    {
     "name": "stdout",
     "output_type": "stream",
     "text": [
      "<class 'pandas.core.frame.DataFrame'>\n",
      "RangeIndex: 1066 entries, 0 to 1065\n",
      "Data columns (total 25 columns):\n",
      " #   Column                  Non-Null Count  Dtype  \n",
      "---  ------                  --------------  -----  \n",
      " 0   year                    1066 non-null   int64  \n",
      " 1   diss date               1066 non-null   object \n",
      " 2   Date                    1066 non-null   object \n",
      " 3   site                    1066 non-null   object \n",
      " 4   trt                     1066 non-null   object \n",
      " 5   BC                      1066 non-null   int64  \n",
      " 6   stem #                  1066 non-null   int64  \n",
      " 7   stem diam bottom (mm)   1066 non-null   float64\n",
      " 8    main stem length (cm)  1066 non-null   float64\n",
      " 9   Total Meja              1066 non-null   int64  \n",
      " 10  Meja/100 cm             1066 non-null   float64\n",
      " 11  infested                1066 non-null   int64  \n",
      " 12  diam top (mm)           370 non-null    float64\n",
      " 13  Tip of Stem broken      500 non-null    object \n",
      " 14  side branches (cm)      84 non-null     float64\n",
      " 15  No. empty chambers      1066 non-null   int64  \n",
      " 16  total chamber length    140 non-null    float64\n",
      " 17  live adults             302 non-null    object \n",
      " 18  dead adults             497 non-null    object \n",
      " 19  dead larvae             304 non-null    float64\n",
      " 20  dead pupae              33 non-null     float64\n",
      " 21  parasitoid              0 non-null      float64\n",
      " 22  live pupa               0 non-null      float64\n",
      " 23  live larva              0 non-null      float64\n",
      " 24  Total No. adults        1066 non-null   int64  \n",
      "dtypes: float64(11), int64(7), object(7)\n",
      "memory usage: 208.3+ KB\n"
     ]
    }
   ],
   "source": [
    "df.info()"
   ]
  },
  {
   "cell_type": "code",
   "execution_count": 5,
   "metadata": {
    "scrolled": true
   },
   "outputs": [
    {
     "data": {
      "text/html": [
       "<div>\n",
       "<style scoped>\n",
       "    .dataframe tbody tr th:only-of-type {\n",
       "        vertical-align: middle;\n",
       "    }\n",
       "\n",
       "    .dataframe tbody tr th {\n",
       "        vertical-align: top;\n",
       "    }\n",
       "\n",
       "    .dataframe thead th {\n",
       "        text-align: right;\n",
       "    }\n",
       "</style>\n",
       "<table border=\"1\" class=\"dataframe\">\n",
       "  <thead>\n",
       "    <tr style=\"text-align: right;\">\n",
       "      <th></th>\n",
       "      <th>0</th>\n",
       "      <th>1</th>\n",
       "      <th>2</th>\n",
       "      <th>3</th>\n",
       "      <th>4</th>\n",
       "    </tr>\n",
       "  </thead>\n",
       "  <tbody>\n",
       "    <tr>\n",
       "      <th>year</th>\n",
       "      <td>2012</td>\n",
       "      <td>2012</td>\n",
       "      <td>2012</td>\n",
       "      <td>2012</td>\n",
       "      <td>2012</td>\n",
       "    </tr>\n",
       "    <tr>\n",
       "      <th>diss date</th>\n",
       "      <td>12/7/12</td>\n",
       "      <td>12/8/12</td>\n",
       "      <td>12/10/12</td>\n",
       "      <td>12/10/12</td>\n",
       "      <td>12/10/12</td>\n",
       "    </tr>\n",
       "    <tr>\n",
       "      <th>Date</th>\n",
       "      <td>12/3/12</td>\n",
       "      <td>12/3/12</td>\n",
       "      <td>12/3/12</td>\n",
       "      <td>12/3/12</td>\n",
       "      <td>12/3/12</td>\n",
       "    </tr>\n",
       "    <tr>\n",
       "      <th>site</th>\n",
       "      <td>West</td>\n",
       "      <td>West</td>\n",
       "      <td>West</td>\n",
       "      <td>West</td>\n",
       "      <td>West</td>\n",
       "    </tr>\n",
       "    <tr>\n",
       "      <th>trt</th>\n",
       "      <td>Release</td>\n",
       "      <td>Release</td>\n",
       "      <td>Release</td>\n",
       "      <td>Release</td>\n",
       "      <td>Release</td>\n",
       "    </tr>\n",
       "    <tr>\n",
       "      <th>BC</th>\n",
       "      <td>1</td>\n",
       "      <td>1</td>\n",
       "      <td>1</td>\n",
       "      <td>1</td>\n",
       "      <td>1</td>\n",
       "    </tr>\n",
       "    <tr>\n",
       "      <th>stem #</th>\n",
       "      <td>1</td>\n",
       "      <td>2</td>\n",
       "      <td>3</td>\n",
       "      <td>4</td>\n",
       "      <td>5</td>\n",
       "    </tr>\n",
       "    <tr>\n",
       "      <th>stem diam bottom (mm)</th>\n",
       "      <td>7.8</td>\n",
       "      <td>8.2</td>\n",
       "      <td>6.6</td>\n",
       "      <td>6.4</td>\n",
       "      <td>6.5</td>\n",
       "    </tr>\n",
       "    <tr>\n",
       "      <th>main stem length (cm)</th>\n",
       "      <td>64.0</td>\n",
       "      <td>57.5</td>\n",
       "      <td>33.0</td>\n",
       "      <td>59.0</td>\n",
       "      <td>45.0</td>\n",
       "    </tr>\n",
       "    <tr>\n",
       "      <th>Total Meja</th>\n",
       "      <td>21</td>\n",
       "      <td>46</td>\n",
       "      <td>32</td>\n",
       "      <td>30</td>\n",
       "      <td>31</td>\n",
       "    </tr>\n",
       "    <tr>\n",
       "      <th>Meja/100 cm</th>\n",
       "      <td>32.8</td>\n",
       "      <td>80.0</td>\n",
       "      <td>97.0</td>\n",
       "      <td>50.8</td>\n",
       "      <td>68.9</td>\n",
       "    </tr>\n",
       "    <tr>\n",
       "      <th>infested</th>\n",
       "      <td>1</td>\n",
       "      <td>1</td>\n",
       "      <td>1</td>\n",
       "      <td>1</td>\n",
       "      <td>1</td>\n",
       "    </tr>\n",
       "    <tr>\n",
       "      <th>diam top (mm)</th>\n",
       "      <td>2.6</td>\n",
       "      <td>2.2</td>\n",
       "      <td>2.6</td>\n",
       "      <td>2.6</td>\n",
       "      <td>3.0</td>\n",
       "    </tr>\n",
       "    <tr>\n",
       "      <th>Tip of Stem broken</th>\n",
       "      <td>b</td>\n",
       "      <td>b</td>\n",
       "      <td>b</td>\n",
       "      <td>b</td>\n",
       "      <td>b</td>\n",
       "    </tr>\n",
       "    <tr>\n",
       "      <th>side branches (cm)</th>\n",
       "      <td>NaN</td>\n",
       "      <td>NaN</td>\n",
       "      <td>NaN</td>\n",
       "      <td>NaN</td>\n",
       "      <td>NaN</td>\n",
       "    </tr>\n",
       "    <tr>\n",
       "      <th>No. empty chambers</th>\n",
       "      <td>4</td>\n",
       "      <td>2</td>\n",
       "      <td>0</td>\n",
       "      <td>0</td>\n",
       "      <td>0</td>\n",
       "    </tr>\n",
       "    <tr>\n",
       "      <th>total chamber length</th>\n",
       "      <td>NaN</td>\n",
       "      <td>NaN</td>\n",
       "      <td>NaN</td>\n",
       "      <td>NaN</td>\n",
       "      <td>NaN</td>\n",
       "    </tr>\n",
       "    <tr>\n",
       "      <th>live adults</th>\n",
       "      <td>-</td>\n",
       "      <td>-</td>\n",
       "      <td>-</td>\n",
       "      <td>-</td>\n",
       "      <td>-</td>\n",
       "    </tr>\n",
       "    <tr>\n",
       "      <th>dead adults</th>\n",
       "      <td>-</td>\n",
       "      <td>-</td>\n",
       "      <td>-</td>\n",
       "      <td>-</td>\n",
       "      <td>-</td>\n",
       "    </tr>\n",
       "    <tr>\n",
       "      <th>dead larvae</th>\n",
       "      <td>0.0</td>\n",
       "      <td>0.0</td>\n",
       "      <td>0.0</td>\n",
       "      <td>0.0</td>\n",
       "      <td>0.0</td>\n",
       "    </tr>\n",
       "    <tr>\n",
       "      <th>dead pupae</th>\n",
       "      <td>NaN</td>\n",
       "      <td>NaN</td>\n",
       "      <td>NaN</td>\n",
       "      <td>NaN</td>\n",
       "      <td>NaN</td>\n",
       "    </tr>\n",
       "    <tr>\n",
       "      <th>parasitoid</th>\n",
       "      <td>NaN</td>\n",
       "      <td>NaN</td>\n",
       "      <td>NaN</td>\n",
       "      <td>NaN</td>\n",
       "      <td>NaN</td>\n",
       "    </tr>\n",
       "    <tr>\n",
       "      <th>live pupa</th>\n",
       "      <td>NaN</td>\n",
       "      <td>NaN</td>\n",
       "      <td>NaN</td>\n",
       "      <td>NaN</td>\n",
       "      <td>NaN</td>\n",
       "    </tr>\n",
       "    <tr>\n",
       "      <th>live larva</th>\n",
       "      <td>NaN</td>\n",
       "      <td>NaN</td>\n",
       "      <td>NaN</td>\n",
       "      <td>NaN</td>\n",
       "      <td>NaN</td>\n",
       "    </tr>\n",
       "    <tr>\n",
       "      <th>Total No. adults</th>\n",
       "      <td>17</td>\n",
       "      <td>44</td>\n",
       "      <td>32</td>\n",
       "      <td>30</td>\n",
       "      <td>31</td>\n",
       "    </tr>\n",
       "  </tbody>\n",
       "</table>\n",
       "</div>"
      ],
      "text/plain": [
       "                              0        1         2         3         4\n",
       "year                       2012     2012      2012      2012      2012\n",
       "diss date               12/7/12  12/8/12  12/10/12  12/10/12  12/10/12\n",
       "Date                    12/3/12  12/3/12   12/3/12   12/3/12   12/3/12\n",
       "site                       West     West      West      West      West\n",
       "trt                     Release  Release   Release   Release   Release\n",
       "BC                            1        1         1         1         1\n",
       "stem #                        1        2         3         4         5\n",
       "stem diam bottom (mm)       7.8      8.2       6.6       6.4       6.5\n",
       " main stem length (cm)     64.0     57.5      33.0      59.0      45.0\n",
       "Total Meja                   21       46        32        30        31\n",
       "Meja/100 cm                32.8     80.0      97.0      50.8      68.9\n",
       "infested                      1        1         1         1         1\n",
       "diam top (mm)               2.6      2.2       2.6       2.6       3.0\n",
       "Tip of Stem broken            b        b         b         b         b\n",
       "side branches (cm)          NaN      NaN       NaN       NaN       NaN\n",
       "No. empty chambers            4        2         0         0         0\n",
       "total chamber length        NaN      NaN       NaN       NaN       NaN\n",
       "live adults                   -        -         -         -         -\n",
       "dead adults                   -        -         -         -         -\n",
       "dead larvae                 0.0      0.0       0.0       0.0       0.0\n",
       "dead pupae                  NaN      NaN       NaN       NaN       NaN\n",
       "parasitoid                  NaN      NaN       NaN       NaN       NaN\n",
       "live pupa                   NaN      NaN       NaN       NaN       NaN\n",
       "live larva                  NaN      NaN       NaN       NaN       NaN\n",
       "Total No. adults             17       44        32        30        31"
      ]
     },
     "execution_count": 5,
     "metadata": {},
     "output_type": "execute_result"
    }
   ],
   "source": [
    "df.head().T"
   ]
  },
  {
   "cell_type": "code",
   "execution_count": 6,
   "metadata": {
    "scrolled": true
   },
   "outputs": [
    {
     "data": {
      "text/html": [
       "<div>\n",
       "<style scoped>\n",
       "    .dataframe tbody tr th:only-of-type {\n",
       "        vertical-align: middle;\n",
       "    }\n",
       "\n",
       "    .dataframe tbody tr th {\n",
       "        vertical-align: top;\n",
       "    }\n",
       "\n",
       "    .dataframe thead th {\n",
       "        text-align: right;\n",
       "    }\n",
       "</style>\n",
       "<table border=\"1\" class=\"dataframe\">\n",
       "  <thead>\n",
       "    <tr style=\"text-align: right;\">\n",
       "      <th></th>\n",
       "      <th>1061</th>\n",
       "      <th>1062</th>\n",
       "      <th>1063</th>\n",
       "      <th>1064</th>\n",
       "      <th>1065</th>\n",
       "    </tr>\n",
       "  </thead>\n",
       "  <tbody>\n",
       "    <tr>\n",
       "      <th>year</th>\n",
       "      <td>2018</td>\n",
       "      <td>2018</td>\n",
       "      <td>2018</td>\n",
       "      <td>2018</td>\n",
       "      <td>2018</td>\n",
       "    </tr>\n",
       "    <tr>\n",
       "      <th>diss date</th>\n",
       "      <td>8/23/19</td>\n",
       "      <td>8/23/19</td>\n",
       "      <td>8/23/19</td>\n",
       "      <td>8/23/19</td>\n",
       "      <td>8/23/19</td>\n",
       "    </tr>\n",
       "    <tr>\n",
       "      <th>Date</th>\n",
       "      <td>5/9/19</td>\n",
       "      <td>5/9/19</td>\n",
       "      <td>5/9/19</td>\n",
       "      <td>5/9/19</td>\n",
       "      <td>5/9/19</td>\n",
       "    </tr>\n",
       "    <tr>\n",
       "      <th>site</th>\n",
       "      <td>USFS-North</td>\n",
       "      <td>USFS-North</td>\n",
       "      <td>USFS-North</td>\n",
       "      <td>USFS-North</td>\n",
       "      <td>USFS-North</td>\n",
       "    </tr>\n",
       "    <tr>\n",
       "      <th>trt</th>\n",
       "      <td>Check</td>\n",
       "      <td>Check</td>\n",
       "      <td>Check</td>\n",
       "      <td>Check</td>\n",
       "      <td>Check</td>\n",
       "    </tr>\n",
       "    <tr>\n",
       "      <th>BC</th>\n",
       "      <td>1</td>\n",
       "      <td>1</td>\n",
       "      <td>1</td>\n",
       "      <td>1</td>\n",
       "      <td>1</td>\n",
       "    </tr>\n",
       "    <tr>\n",
       "      <th>stem #</th>\n",
       "      <td>16</td>\n",
       "      <td>17</td>\n",
       "      <td>18</td>\n",
       "      <td>19</td>\n",
       "      <td>20</td>\n",
       "    </tr>\n",
       "    <tr>\n",
       "      <th>stem diam bottom (mm)</th>\n",
       "      <td>4.5</td>\n",
       "      <td>5.3</td>\n",
       "      <td>6.8</td>\n",
       "      <td>6.9</td>\n",
       "      <td>7.1</td>\n",
       "    </tr>\n",
       "    <tr>\n",
       "      <th>main stem length (cm)</th>\n",
       "      <td>46.0</td>\n",
       "      <td>51.0</td>\n",
       "      <td>109.0</td>\n",
       "      <td>104.0</td>\n",
       "      <td>96.0</td>\n",
       "    </tr>\n",
       "    <tr>\n",
       "      <th>Total Meja</th>\n",
       "      <td>8</td>\n",
       "      <td>1</td>\n",
       "      <td>4</td>\n",
       "      <td>1</td>\n",
       "      <td>2</td>\n",
       "    </tr>\n",
       "    <tr>\n",
       "      <th>Meja/100 cm</th>\n",
       "      <td>17.4</td>\n",
       "      <td>2.0</td>\n",
       "      <td>3.7</td>\n",
       "      <td>1.0</td>\n",
       "      <td>2.1</td>\n",
       "    </tr>\n",
       "    <tr>\n",
       "      <th>infested</th>\n",
       "      <td>1</td>\n",
       "      <td>1</td>\n",
       "      <td>1</td>\n",
       "      <td>1</td>\n",
       "      <td>1</td>\n",
       "    </tr>\n",
       "    <tr>\n",
       "      <th>diam top (mm)</th>\n",
       "      <td>NaN</td>\n",
       "      <td>2.1</td>\n",
       "      <td>NaN</td>\n",
       "      <td>NaN</td>\n",
       "      <td>NaN</td>\n",
       "    </tr>\n",
       "    <tr>\n",
       "      <th>Tip of Stem broken</th>\n",
       "      <td>NaN</td>\n",
       "      <td>b</td>\n",
       "      <td>NaN</td>\n",
       "      <td>NaN</td>\n",
       "      <td>NaN</td>\n",
       "    </tr>\n",
       "    <tr>\n",
       "      <th>side branches (cm)</th>\n",
       "      <td>NaN</td>\n",
       "      <td>NaN</td>\n",
       "      <td>NaN</td>\n",
       "      <td>NaN</td>\n",
       "      <td>NaN</td>\n",
       "    </tr>\n",
       "    <tr>\n",
       "      <th>No. empty chambers</th>\n",
       "      <td>6</td>\n",
       "      <td>0</td>\n",
       "      <td>4</td>\n",
       "      <td>1</td>\n",
       "      <td>2</td>\n",
       "    </tr>\n",
       "    <tr>\n",
       "      <th>total chamber length</th>\n",
       "      <td>NaN</td>\n",
       "      <td>NaN</td>\n",
       "      <td>NaN</td>\n",
       "      <td>NaN</td>\n",
       "      <td>NaN</td>\n",
       "    </tr>\n",
       "    <tr>\n",
       "      <th>live adults</th>\n",
       "      <td>NaN</td>\n",
       "      <td>NaN</td>\n",
       "      <td>NaN</td>\n",
       "      <td>NaN</td>\n",
       "      <td>NaN</td>\n",
       "    </tr>\n",
       "    <tr>\n",
       "      <th>dead adults</th>\n",
       "      <td>2</td>\n",
       "      <td>1</td>\n",
       "      <td>0</td>\n",
       "      <td>0</td>\n",
       "      <td>0</td>\n",
       "    </tr>\n",
       "    <tr>\n",
       "      <th>dead larvae</th>\n",
       "      <td>NaN</td>\n",
       "      <td>NaN</td>\n",
       "      <td>NaN</td>\n",
       "      <td>NaN</td>\n",
       "      <td>NaN</td>\n",
       "    </tr>\n",
       "    <tr>\n",
       "      <th>dead pupae</th>\n",
       "      <td>NaN</td>\n",
       "      <td>NaN</td>\n",
       "      <td>NaN</td>\n",
       "      <td>NaN</td>\n",
       "      <td>NaN</td>\n",
       "    </tr>\n",
       "    <tr>\n",
       "      <th>parasitoid</th>\n",
       "      <td>NaN</td>\n",
       "      <td>NaN</td>\n",
       "      <td>NaN</td>\n",
       "      <td>NaN</td>\n",
       "      <td>NaN</td>\n",
       "    </tr>\n",
       "    <tr>\n",
       "      <th>live pupa</th>\n",
       "      <td>NaN</td>\n",
       "      <td>NaN</td>\n",
       "      <td>NaN</td>\n",
       "      <td>NaN</td>\n",
       "      <td>NaN</td>\n",
       "    </tr>\n",
       "    <tr>\n",
       "      <th>live larva</th>\n",
       "      <td>NaN</td>\n",
       "      <td>NaN</td>\n",
       "      <td>NaN</td>\n",
       "      <td>NaN</td>\n",
       "      <td>NaN</td>\n",
       "    </tr>\n",
       "    <tr>\n",
       "      <th>Total No. adults</th>\n",
       "      <td>2</td>\n",
       "      <td>1</td>\n",
       "      <td>0</td>\n",
       "      <td>0</td>\n",
       "      <td>0</td>\n",
       "    </tr>\n",
       "  </tbody>\n",
       "</table>\n",
       "</div>"
      ],
      "text/plain": [
       "                              1061        1062        1063        1064  \\\n",
       "year                          2018        2018        2018        2018   \n",
       "diss date                  8/23/19     8/23/19     8/23/19     8/23/19   \n",
       "Date                        5/9/19      5/9/19      5/9/19      5/9/19   \n",
       "site                    USFS-North  USFS-North  USFS-North  USFS-North   \n",
       "trt                          Check       Check       Check       Check   \n",
       "BC                               1           1           1           1   \n",
       "stem #                          16          17          18          19   \n",
       "stem diam bottom (mm)          4.5         5.3         6.8         6.9   \n",
       " main stem length (cm)        46.0        51.0       109.0       104.0   \n",
       "Total Meja                       8           1           4           1   \n",
       "Meja/100 cm                   17.4         2.0         3.7         1.0   \n",
       "infested                         1           1           1           1   \n",
       "diam top (mm)                  NaN         2.1         NaN         NaN   \n",
       "Tip of Stem broken             NaN           b         NaN         NaN   \n",
       "side branches (cm)             NaN         NaN         NaN         NaN   \n",
       "No. empty chambers               6           0           4           1   \n",
       "total chamber length           NaN         NaN         NaN         NaN   \n",
       "live adults                    NaN         NaN         NaN         NaN   \n",
       "dead adults                      2           1           0           0   \n",
       "dead larvae                    NaN         NaN         NaN         NaN   \n",
       "dead pupae                     NaN         NaN         NaN         NaN   \n",
       "parasitoid                     NaN         NaN         NaN         NaN   \n",
       "live pupa                      NaN         NaN         NaN         NaN   \n",
       "live larva                     NaN         NaN         NaN         NaN   \n",
       "Total No. adults                 2           1           0           0   \n",
       "\n",
       "                              1065  \n",
       "year                          2018  \n",
       "diss date                  8/23/19  \n",
       "Date                        5/9/19  \n",
       "site                    USFS-North  \n",
       "trt                          Check  \n",
       "BC                               1  \n",
       "stem #                          20  \n",
       "stem diam bottom (mm)          7.1  \n",
       " main stem length (cm)        96.0  \n",
       "Total Meja                       2  \n",
       "Meja/100 cm                    2.1  \n",
       "infested                         1  \n",
       "diam top (mm)                  NaN  \n",
       "Tip of Stem broken             NaN  \n",
       "side branches (cm)             NaN  \n",
       "No. empty chambers               2  \n",
       "total chamber length           NaN  \n",
       "live adults                    NaN  \n",
       "dead adults                      0  \n",
       "dead larvae                    NaN  \n",
       "dead pupae                     NaN  \n",
       "parasitoid                     NaN  \n",
       "live pupa                      NaN  \n",
       "live larva                     NaN  \n",
       "Total No. adults                 0  "
      ]
     },
     "execution_count": 6,
     "metadata": {},
     "output_type": "execute_result"
    }
   ],
   "source": [
    "df.tail().T"
   ]
  },
  {
   "cell_type": "markdown",
   "metadata": {},
   "source": [
    "We use the describe function to compute summary statistics for all numerical columns in our DataFrame. It includes the count, mean, standard deviation, minimum, 25th percentile (Q1), 50th percentile (median), 75th percentile (Q3), and maximum. \n",
    "To switch rows and columns the transpose operation is used."
   ]
  },
  {
   "cell_type": "code",
   "execution_count": 7,
   "metadata": {
    "scrolled": true
   },
   "outputs": [
    {
     "data": {
      "text/html": [
       "<div>\n",
       "<style scoped>\n",
       "    .dataframe tbody tr th:only-of-type {\n",
       "        vertical-align: middle;\n",
       "    }\n",
       "\n",
       "    .dataframe tbody tr th {\n",
       "        vertical-align: top;\n",
       "    }\n",
       "\n",
       "    .dataframe thead th {\n",
       "        text-align: right;\n",
       "    }\n",
       "</style>\n",
       "<table border=\"1\" class=\"dataframe\">\n",
       "  <thead>\n",
       "    <tr style=\"text-align: right;\">\n",
       "      <th></th>\n",
       "      <th>count</th>\n",
       "      <th>mean</th>\n",
       "      <th>std</th>\n",
       "      <th>min</th>\n",
       "      <th>25%</th>\n",
       "      <th>50%</th>\n",
       "      <th>75%</th>\n",
       "      <th>max</th>\n",
       "    </tr>\n",
       "  </thead>\n",
       "  <tbody>\n",
       "    <tr>\n",
       "      <th>year</th>\n",
       "      <td>1066.0</td>\n",
       "      <td>2014.288931</td>\n",
       "      <td>2.034678</td>\n",
       "      <td>2012.0</td>\n",
       "      <td>2012.000</td>\n",
       "      <td>2014.00</td>\n",
       "      <td>2016.000</td>\n",
       "      <td>2018.0</td>\n",
       "    </tr>\n",
       "    <tr>\n",
       "      <th>BC</th>\n",
       "      <td>1066.0</td>\n",
       "      <td>0.487805</td>\n",
       "      <td>0.500086</td>\n",
       "      <td>0.0</td>\n",
       "      <td>0.000</td>\n",
       "      <td>0.00</td>\n",
       "      <td>1.000</td>\n",
       "      <td>1.0</td>\n",
       "    </tr>\n",
       "    <tr>\n",
       "      <th>stem #</th>\n",
       "      <td>1066.0</td>\n",
       "      <td>25.863039</td>\n",
       "      <td>29.670016</td>\n",
       "      <td>1.0</td>\n",
       "      <td>8.000</td>\n",
       "      <td>15.00</td>\n",
       "      <td>32.000</td>\n",
       "      <td>141.0</td>\n",
       "    </tr>\n",
       "    <tr>\n",
       "      <th>stem diam bottom (mm)</th>\n",
       "      <td>1066.0</td>\n",
       "      <td>4.963227</td>\n",
       "      <td>1.832666</td>\n",
       "      <td>1.1</td>\n",
       "      <td>3.700</td>\n",
       "      <td>4.90</td>\n",
       "      <td>6.200</td>\n",
       "      <td>12.2</td>\n",
       "    </tr>\n",
       "    <tr>\n",
       "      <th>main stem length (cm)</th>\n",
       "      <td>1066.0</td>\n",
       "      <td>51.277674</td>\n",
       "      <td>24.923005</td>\n",
       "      <td>2.0</td>\n",
       "      <td>34.000</td>\n",
       "      <td>49.00</td>\n",
       "      <td>67.000</td>\n",
       "      <td>135.0</td>\n",
       "    </tr>\n",
       "    <tr>\n",
       "      <th>Total Meja</th>\n",
       "      <td>1066.0</td>\n",
       "      <td>5.273921</td>\n",
       "      <td>9.163923</td>\n",
       "      <td>0.0</td>\n",
       "      <td>0.000</td>\n",
       "      <td>0.00</td>\n",
       "      <td>8.000</td>\n",
       "      <td>67.0</td>\n",
       "    </tr>\n",
       "    <tr>\n",
       "      <th>Meja/100 cm</th>\n",
       "      <td>1066.0</td>\n",
       "      <td>11.513602</td>\n",
       "      <td>20.270924</td>\n",
       "      <td>0.0</td>\n",
       "      <td>0.000</td>\n",
       "      <td>0.00</td>\n",
       "      <td>15.550</td>\n",
       "      <td>133.3</td>\n",
       "    </tr>\n",
       "    <tr>\n",
       "      <th>infested</th>\n",
       "      <td>1066.0</td>\n",
       "      <td>0.454034</td>\n",
       "      <td>0.498116</td>\n",
       "      <td>0.0</td>\n",
       "      <td>0.000</td>\n",
       "      <td>0.00</td>\n",
       "      <td>1.000</td>\n",
       "      <td>1.0</td>\n",
       "    </tr>\n",
       "    <tr>\n",
       "      <th>diam top (mm)</th>\n",
       "      <td>370.0</td>\n",
       "      <td>1.781081</td>\n",
       "      <td>1.224510</td>\n",
       "      <td>0.2</td>\n",
       "      <td>0.900</td>\n",
       "      <td>1.50</td>\n",
       "      <td>2.300</td>\n",
       "      <td>7.6</td>\n",
       "    </tr>\n",
       "    <tr>\n",
       "      <th>side branches (cm)</th>\n",
       "      <td>84.0</td>\n",
       "      <td>60.226190</td>\n",
       "      <td>47.528647</td>\n",
       "      <td>8.0</td>\n",
       "      <td>29.500</td>\n",
       "      <td>45.50</td>\n",
       "      <td>76.750</td>\n",
       "      <td>250.0</td>\n",
       "    </tr>\n",
       "    <tr>\n",
       "      <th>No. empty chambers</th>\n",
       "      <td>1066.0</td>\n",
       "      <td>2.537523</td>\n",
       "      <td>5.789500</td>\n",
       "      <td>0.0</td>\n",
       "      <td>0.000</td>\n",
       "      <td>0.00</td>\n",
       "      <td>2.000</td>\n",
       "      <td>54.0</td>\n",
       "    </tr>\n",
       "    <tr>\n",
       "      <th>total chamber length</th>\n",
       "      <td>140.0</td>\n",
       "      <td>108.002071</td>\n",
       "      <td>83.289937</td>\n",
       "      <td>0.0</td>\n",
       "      <td>45.025</td>\n",
       "      <td>90.25</td>\n",
       "      <td>149.875</td>\n",
       "      <td>429.5</td>\n",
       "    </tr>\n",
       "    <tr>\n",
       "      <th>dead larvae</th>\n",
       "      <td>304.0</td>\n",
       "      <td>0.095395</td>\n",
       "      <td>0.539629</td>\n",
       "      <td>0.0</td>\n",
       "      <td>0.000</td>\n",
       "      <td>0.00</td>\n",
       "      <td>0.000</td>\n",
       "      <td>6.0</td>\n",
       "    </tr>\n",
       "    <tr>\n",
       "      <th>dead pupae</th>\n",
       "      <td>33.0</td>\n",
       "      <td>1.606061</td>\n",
       "      <td>1.116339</td>\n",
       "      <td>1.0</td>\n",
       "      <td>1.000</td>\n",
       "      <td>1.00</td>\n",
       "      <td>2.000</td>\n",
       "      <td>6.0</td>\n",
       "    </tr>\n",
       "    <tr>\n",
       "      <th>parasitoid</th>\n",
       "      <td>0.0</td>\n",
       "      <td>NaN</td>\n",
       "      <td>NaN</td>\n",
       "      <td>NaN</td>\n",
       "      <td>NaN</td>\n",
       "      <td>NaN</td>\n",
       "      <td>NaN</td>\n",
       "      <td>NaN</td>\n",
       "    </tr>\n",
       "    <tr>\n",
       "      <th>live pupa</th>\n",
       "      <td>0.0</td>\n",
       "      <td>NaN</td>\n",
       "      <td>NaN</td>\n",
       "      <td>NaN</td>\n",
       "      <td>NaN</td>\n",
       "      <td>NaN</td>\n",
       "      <td>NaN</td>\n",
       "      <td>NaN</td>\n",
       "    </tr>\n",
       "    <tr>\n",
       "      <th>live larva</th>\n",
       "      <td>0.0</td>\n",
       "      <td>NaN</td>\n",
       "      <td>NaN</td>\n",
       "      <td>NaN</td>\n",
       "      <td>NaN</td>\n",
       "      <td>NaN</td>\n",
       "      <td>NaN</td>\n",
       "      <td>NaN</td>\n",
       "    </tr>\n",
       "    <tr>\n",
       "      <th>Total No. adults</th>\n",
       "      <td>1066.0</td>\n",
       "      <td>2.659475</td>\n",
       "      <td>6.732263</td>\n",
       "      <td>0.0</td>\n",
       "      <td>0.000</td>\n",
       "      <td>0.00</td>\n",
       "      <td>1.000</td>\n",
       "      <td>66.0</td>\n",
       "    </tr>\n",
       "  </tbody>\n",
       "</table>\n",
       "</div>"
      ],
      "text/plain": [
       "                         count         mean        std     min       25%  \\\n",
       "year                    1066.0  2014.288931   2.034678  2012.0  2012.000   \n",
       "BC                      1066.0     0.487805   0.500086     0.0     0.000   \n",
       "stem #                  1066.0    25.863039  29.670016     1.0     8.000   \n",
       "stem diam bottom (mm)   1066.0     4.963227   1.832666     1.1     3.700   \n",
       " main stem length (cm)  1066.0    51.277674  24.923005     2.0    34.000   \n",
       "Total Meja              1066.0     5.273921   9.163923     0.0     0.000   \n",
       "Meja/100 cm             1066.0    11.513602  20.270924     0.0     0.000   \n",
       "infested                1066.0     0.454034   0.498116     0.0     0.000   \n",
       "diam top (mm)            370.0     1.781081   1.224510     0.2     0.900   \n",
       "side branches (cm)        84.0    60.226190  47.528647     8.0    29.500   \n",
       "No. empty chambers      1066.0     2.537523   5.789500     0.0     0.000   \n",
       "total chamber length     140.0   108.002071  83.289937     0.0    45.025   \n",
       "dead larvae              304.0     0.095395   0.539629     0.0     0.000   \n",
       "dead pupae                33.0     1.606061   1.116339     1.0     1.000   \n",
       "parasitoid                 0.0          NaN        NaN     NaN       NaN   \n",
       "live pupa                  0.0          NaN        NaN     NaN       NaN   \n",
       "live larva                 0.0          NaN        NaN     NaN       NaN   \n",
       "Total No. adults        1066.0     2.659475   6.732263     0.0     0.000   \n",
       "\n",
       "                            50%       75%     max  \n",
       "year                    2014.00  2016.000  2018.0  \n",
       "BC                         0.00     1.000     1.0  \n",
       "stem #                    15.00    32.000   141.0  \n",
       "stem diam bottom (mm)      4.90     6.200    12.2  \n",
       " main stem length (cm)    49.00    67.000   135.0  \n",
       "Total Meja                 0.00     8.000    67.0  \n",
       "Meja/100 cm                0.00    15.550   133.3  \n",
       "infested                   0.00     1.000     1.0  \n",
       "diam top (mm)              1.50     2.300     7.6  \n",
       "side branches (cm)        45.50    76.750   250.0  \n",
       "No. empty chambers         0.00     2.000    54.0  \n",
       "total chamber length      90.25   149.875   429.5  \n",
       "dead larvae                0.00     0.000     6.0  \n",
       "dead pupae                 1.00     2.000     6.0  \n",
       "parasitoid                  NaN       NaN     NaN  \n",
       "live pupa                   NaN       NaN     NaN  \n",
       "live larva                  NaN       NaN     NaN  \n",
       "Total No. adults           0.00     1.000    66.0  "
      ]
     },
     "execution_count": 7,
     "metadata": {},
     "output_type": "execute_result"
    }
   ],
   "source": [
    "df.describe().T"
   ]
  },
  {
   "cell_type": "markdown",
   "metadata": {},
   "source": [
    "### 3.3 Data Corrections"
   ]
  },
  {
   "cell_type": "markdown",
   "metadata": {},
   "source": [
    "Data corrections must be carried out as a basis for data analysis. We start by taking a look at the columns designations:"
   ]
  },
  {
   "cell_type": "code",
   "execution_count": 8,
   "metadata": {},
   "outputs": [
    {
     "data": {
      "text/plain": [
       "Index(['year', 'diss date', 'Date', 'site', 'trt', 'BC', 'stem #',\n",
       "       'stem diam bottom (mm)', ' main stem length (cm)', 'Total Meja',\n",
       "       'Meja/100 cm', 'infested', 'diam top (mm)', 'Tip of Stem broken',\n",
       "       'side branches (cm)', 'No. empty chambers', 'total chamber length',\n",
       "       'live adults', 'dead adults', 'dead larvae', 'dead pupae', 'parasitoid',\n",
       "       'live pupa', 'live larva', 'Total No. adults'],\n",
       "      dtype='object')"
      ]
     },
     "execution_count": 8,
     "metadata": {},
     "output_type": "execute_result"
    }
   ],
   "source": [
    "df.columns"
   ]
  },
  {
   "cell_type": "markdown",
   "metadata": {},
   "source": [
    "We quickly see that the column names have some peculiarities that can lead to problems for example upper and lower case, special characters. Therefore we want to standardize column names and make them more consistent by using regular expressions.\n",
    "\n",
    "We start by using str.lower in order to convert all characters in string to lowercase."
   ]
  },
  {
   "cell_type": "code",
   "execution_count": 9,
   "metadata": {},
   "outputs": [],
   "source": [
    "df.columns = df.columns.str.lower()"
   ]
  },
  {
   "cell_type": "markdown",
   "metadata": {},
   "source": [
    "For the column \"stem #\" we want to replace # by ID."
   ]
  },
  {
   "cell_type": "code",
   "execution_count": 10,
   "metadata": {},
   "outputs": [],
   "source": [
    "df.columns = df.columns.str.replace(r\"\\#\", r\"id\", regex=True)"
   ]
  },
  {
   "cell_type": "markdown",
   "metadata": {},
   "source": [
    "Next we are removing leading and trailing whitespaces from each column name."
   ]
  },
  {
   "cell_type": "code",
   "execution_count": 11,
   "metadata": {},
   "outputs": [],
   "source": [
    "df.columns = df.columns.str.replace(r\"^\\s+|\\s+$\", r\"\", regex=True)"
   ]
  },
  {
   "cell_type": "markdown",
   "metadata": {},
   "source": [
    "Moreover we are replacing all spaces in each column name with underscores."
   ]
  },
  {
   "cell_type": "code",
   "execution_count": 12,
   "metadata": {},
   "outputs": [],
   "source": [
    "df.columns = df.columns.str.replace(r\"\\s\", r\"_\", regex=True)"
   ]
  },
  {
   "cell_type": "markdown",
   "metadata": {},
   "source": [
    "In the beginning we saw that many special characters are being used and units are given in brackets. With the next codeline we are replacing all opening brackets in each column name with \"in_\"."
   ]
  },
  {
   "cell_type": "code",
   "execution_count": 13,
   "metadata": {},
   "outputs": [],
   "source": [
    "df.columns = df.columns.str.replace(r\"\\(\", r\"in_\", regex=True)"
   ]
  },
  {
   "cell_type": "markdown",
   "metadata": {},
   "source": [
    "After that we are removing all closing brackets in each column name."
   ]
  },
  {
   "cell_type": "code",
   "execution_count": 14,
   "metadata": {},
   "outputs": [],
   "source": [
    "df.columns = df.columns.str.replace(r\"\\)\", r\"\", regex=True)"
   ]
  },
  {
   "cell_type": "markdown",
   "metadata": {},
   "source": [
    "Moreover we have to remove all periods and replace all forward slashes in each column name with \"per\"."
   ]
  },
  {
   "cell_type": "code",
   "execution_count": 15,
   "metadata": {},
   "outputs": [],
   "source": [
    "df.columns = df.columns.str.replace(r\"\\/\", r\"_per_\", regex=True)"
   ]
  },
  {
   "cell_type": "code",
   "execution_count": 16,
   "metadata": {},
   "outputs": [],
   "source": [
    "df.columns = df.columns.str.replace(r\"\\.\", r\"\", regex=True)"
   ]
  },
  {
   "cell_type": "markdown",
   "metadata": {},
   "source": [
    "In the next codelines we are replacing no by number and year by year_infested."
   ]
  },
  {
   "cell_type": "code",
   "execution_count": 17,
   "metadata": {},
   "outputs": [],
   "source": [
    "df.columns = df.columns.str.replace(r\"no\", r\"number\", regex=True)"
   ]
  },
  {
   "cell_type": "code",
   "execution_count": 18,
   "metadata": {},
   "outputs": [],
   "source": [
    "df.rename(columns={'year': 'year_infested'}, inplace=True)"
   ]
  },
  {
   "cell_type": "markdown",
   "metadata": {},
   "source": [
    "Then we are converting the values in the two diameter columns from millimeters to centimeters and round to two decimal places. New columns are crated for the diameter columns in centimeters."
   ]
  },
  {
   "cell_type": "code",
   "execution_count": 19,
   "metadata": {
    "scrolled": true
   },
   "outputs": [],
   "source": [
    "df['stem_diam_bottom_in_cm'] = df.loc[:, 'stem_diam_bottom_in_mm'] / 10"
   ]
  },
  {
   "cell_type": "code",
   "execution_count": 20,
   "metadata": {},
   "outputs": [],
   "source": [
    "df[['stem_diam_bottom_in_cm']] = df[['stem_diam_bottom_in_cm']].round(2)"
   ]
  },
  {
   "cell_type": "code",
   "execution_count": 21,
   "metadata": {},
   "outputs": [],
   "source": [
    "df['diam_top_in_cm'] = df.loc[:, 'diam_top_in_mm'] / 10"
   ]
  },
  {
   "cell_type": "code",
   "execution_count": 22,
   "metadata": {},
   "outputs": [],
   "source": [
    "df[['diam_top_in_cm']] = df[['diam_top_in_cm']].round(2)"
   ]
  },
  {
   "cell_type": "markdown",
   "metadata": {},
   "source": [
    "As some columns contain no data or data that is not relevant for further analysis, we omit the corresponding columns."
   ]
  },
  {
   "cell_type": "code",
   "execution_count": 23,
   "metadata": {},
   "outputs": [],
   "source": [
    "df = df.drop(columns=['bc', 'trt', 'live_adults', 'dead_adults', 'dead_larvae', 'dead_pupae', 'parasitoid', 'live_pupa', 'live_larva', 'total_chamber_length', 'year_infested', 'diss_date', 'date', 'site', 'stem_id', 'stem_diam_bottom_in_mm', 'meja_per_100_cm','diam_top_in_mm', 'number_empty_chambers'])"
   ]
  },
  {
   "cell_type": "markdown",
   "metadata": {},
   "source": [
    "In the \"tip_of_stem_broken\" column, c stands for cut and b for broken. If neither c nor b is given, we assume that the tip of the stem is intact. An intact tip leads to a greater length of the main stem, and we want to use the data as a categorical predictor. Therefore, a broken or cut stem tip is assigned the value 1 and an intact stem tip is assigned the value 0. We are using a loop to iterate over the values in the 'tip_of_stem_broken' column. For each value, it checks if the value is equal to 'b' or 'c'. If the condition is true, it assigns the value 1 to the corresponding cell in the 'tip_of_stem_broken' column, otherwise, it assigns the value 0."
   ]
  },
  {
   "cell_type": "code",
   "execution_count": 24,
   "metadata": {},
   "outputs": [],
   "source": [
    "for v in range(len(df['tip_of_stem_broken'])):\n",
    "    if df.loc[v, 'tip_of_stem_broken'] == 'b' or df.at[v, 'tip_of_stem_broken'] == 'c':\n",
    "        df.loc[v, 'tip_of_stem_broken'] = 1\n",
    "    else:\n",
    "        df.loc[v, 'tip_of_stem_broken'] = 0"
   ]
  },
  {
   "cell_type": "markdown",
   "metadata": {},
   "source": [
    "Afterwards we converte the values in the column to integer type."
   ]
  },
  {
   "cell_type": "code",
   "execution_count": 25,
   "metadata": {},
   "outputs": [],
   "source": [
    "df['tip_of_stem_broken'] = df['tip_of_stem_broken'].astype('int64')"
   ]
  },
  {
   "cell_type": "markdown",
   "metadata": {},
   "source": [
    "Moreover a few other convertions have to be made.\n",
    "The values in column \"site\" are converted to category type and the values in columns \"date\" and \"diss_date\" are converted to datetime objects but we only extract the date component."
   ]
  },
  {
   "cell_type": "code",
   "execution_count": 26,
   "metadata": {},
   "outputs": [],
   "source": [
    "#df['site'] = df['site'].astype('category')"
   ]
  },
  {
   "cell_type": "code",
   "execution_count": 27,
   "metadata": {},
   "outputs": [],
   "source": [
    "#df['date'] = pd.to_datetime(df['date'], format='%m/%d/%y')\n",
    "#df['date'] = df['date'].dt.date"
   ]
  },
  {
   "cell_type": "code",
   "execution_count": 28,
   "metadata": {},
   "outputs": [],
   "source": [
    "#df['diss_date'] = pd.to_datetime(df['diss_date'], format='%m/%d/%y')\n",
    "#df['diss_date'] = df['diss_date'].dt.date"
   ]
  },
  {
   "cell_type": "markdown",
   "metadata": {},
   "source": [
    "This is the final result of the columns names:"
   ]
  },
  {
   "cell_type": "code",
   "execution_count": 29,
   "metadata": {},
   "outputs": [
    {
     "data": {
      "text/plain": [
       "Index(['main_stem_length_in_cm', 'total_meja', 'infested',\n",
       "       'tip_of_stem_broken', 'side_branches_in_cm', 'total_number_adults',\n",
       "       'stem_diam_bottom_in_cm', 'diam_top_in_cm'],\n",
       "      dtype='object')"
      ]
     },
     "execution_count": 29,
     "metadata": {},
     "output_type": "execute_result"
    }
   ],
   "source": [
    "df.columns"
   ]
  },
  {
   "cell_type": "markdown",
   "metadata": {},
   "source": [
    "Finally we save the corrected DataFrame as CSV file."
   ]
  },
  {
   "cell_type": "code",
   "execution_count": 30,
   "metadata": {},
   "outputs": [],
   "source": [
    "df.to_csv('../data/interim/dissections_2012_HV_corrected.csv')"
   ]
  },
  {
   "cell_type": "markdown",
   "metadata": {},
   "source": [
    "### 3.4 Variable Lists"
   ]
  },
  {
   "cell_type": "markdown",
   "metadata": {},
   "source": [
    "To get an overview of the variables we now have in our corrected DataFrame, we call df.info(). This method provides a summary of the DataFrame, including information about its structure, e.g. the number of entries and the number of non-null values per column, as well as its data types."
   ]
  },
  {
   "cell_type": "code",
   "execution_count": 31,
   "metadata": {},
   "outputs": [
    {
     "name": "stdout",
     "output_type": "stream",
     "text": [
      "<class 'pandas.core.frame.DataFrame'>\n",
      "RangeIndex: 1066 entries, 0 to 1065\n",
      "Data columns (total 8 columns):\n",
      " #   Column                  Non-Null Count  Dtype  \n",
      "---  ------                  --------------  -----  \n",
      " 0   main_stem_length_in_cm  1066 non-null   float64\n",
      " 1   total_meja              1066 non-null   int64  \n",
      " 2   infested                1066 non-null   int64  \n",
      " 3   tip_of_stem_broken      1066 non-null   int64  \n",
      " 4   side_branches_in_cm     84 non-null     float64\n",
      " 5   total_number_adults     1066 non-null   int64  \n",
      " 6   stem_diam_bottom_in_cm  1066 non-null   float64\n",
      " 7   diam_top_in_cm          370 non-null    float64\n",
      "dtypes: float64(4), int64(4)\n",
      "memory usage: 66.8 KB\n"
     ]
    }
   ],
   "source": [
    "df.info()"
   ]
  },
  {
   "cell_type": "markdown",
   "metadata": {},
   "source": [
    "#### 3.4.1 Linear Regression"
   ]
  },
  {
   "cell_type": "markdown",
   "metadata": {},
   "source": [
    "Now we need to prepare our linear regression analysis. As y_label_lin we define the main stem length in cm, as this is the dependent variable we want to predict. Next, we define our possible predictor variables in a list called features:\n",
    "\n",
    "- stem_diam_bottom_in_cm\n",
    "- total_meja\n",
    "- meja_per_100_cm\n",
    "- diam_top_in_cm\n",
    "- side_branches_in_cm\n",
    "- tip_of_stem_broken\n",
    "- infested\n",
    "- total_number_adults'\n",
    "\n",
    "We want to use these variables to predict the main stem length of the plants and therefore define them as X.\n",
    "Y is assigned a series containing the values from the column main stem length that is defined by the y_label_lin variable."
   ]
  },
  {
   "cell_type": "code",
   "execution_count": 32,
   "metadata": {},
   "outputs": [],
   "source": [
    "y_label_lin = 'main_stem_length_in_cm'\n",
    "\n",
    "features_lin = ['stem_diam_bottom_in_cm', 'diam_top_in_cm', 'side_branches_in_cm', 'meja_per_100_cm', 'total_meja', 'tip_of_stem_broken', 'infested', 'total_number_adults']"
   ]
  },
  {
   "cell_type": "markdown",
   "metadata": {},
   "source": [
    "As the varaibles 'meja_per_100_cm' and 'total meja' show multicolinearity (see chapter 4.2.1), we decided to remove 'meja_per_100_cm' from the features list."
   ]
  },
  {
   "cell_type": "code",
   "execution_count": 33,
   "metadata": {},
   "outputs": [],
   "source": [
    "features_lin.remove('meja_per_100_cm')"
   ]
  },
  {
   "cell_type": "markdown",
   "metadata": {},
   "source": [
    "#### 3.4.2 Logistic Regression"
   ]
  },
  {
   "cell_type": "markdown",
   "metadata": {},
   "source": [
    "For the logistic regression analysis, we want to predict whether a plant is infested or not in order to analyze whether plants infested by weevils are more likely to remain smaller and if weevils are really useful and effective as natural control agents.\n",
    "Possible predictor variables are again defined in a features list:\n",
    "\n",
    "- main_stem_length_cm\n",
    "- stem_diam_bottom_cm\n",
    "- side_branches_cm\n",
    "- diam_top_cm\n",
    "- tip_of_stem_broken\n",
    "\n",
    "We want to use these variables to predict infestation and therefore define them as X. As we want to predict whether a plant is infested or not we cannot use features that directly indicate infestation e.g. 'total_meja', 'total_number_adults', 'meja_per_100_cm'. Therefore, we use all remaining features that are not directly indicating infestation."
   ]
  },
  {
   "cell_type": "code",
   "execution_count": 34,
   "metadata": {},
   "outputs": [],
   "source": [
    "y_label_log = 'infested'\n",
    "\n",
    "features_log = ['main_stem_length_in_cm', 'stem_diam_bottom_in_cm', 'side_branches_in_cm', 'diam_top_in_cm', 'tip_of_stem_broken']"
   ]
  },
  {
   "cell_type": "markdown",
   "metadata": {},
   "source": [
    "### 3.5 Data Splitting and Imputation"
   ]
  },
  {
   "cell_type": "markdown",
   "metadata": {},
   "source": [
    "Using df.info() method in chapter 3.4, we quickly recognized that columns diam_top_in_cm and side_branches_in_cm only contain fewer values."
   ]
  },
  {
   "cell_type": "code",
   "execution_count": 35,
   "metadata": {},
   "outputs": [
    {
     "data": {
      "text/html": [
       "<div>\n",
       "<style scoped>\n",
       "    .dataframe tbody tr th:only-of-type {\n",
       "        vertical-align: middle;\n",
       "    }\n",
       "\n",
       "    .dataframe tbody tr th {\n",
       "        vertical-align: top;\n",
       "    }\n",
       "\n",
       "    .dataframe thead th {\n",
       "        text-align: right;\n",
       "    }\n",
       "</style>\n",
       "<table border=\"1\" class=\"dataframe\">\n",
       "  <thead>\n",
       "    <tr style=\"text-align: right;\">\n",
       "      <th></th>\n",
       "      <th>count</th>\n",
       "      <th>%</th>\n",
       "    </tr>\n",
       "  </thead>\n",
       "  <tbody>\n",
       "    <tr>\n",
       "      <th>main_stem_length_in_cm</th>\n",
       "      <td>1066</td>\n",
       "      <td>100.0</td>\n",
       "    </tr>\n",
       "    <tr>\n",
       "      <th>total_meja</th>\n",
       "      <td>1066</td>\n",
       "      <td>100.0</td>\n",
       "    </tr>\n",
       "    <tr>\n",
       "      <th>infested</th>\n",
       "      <td>1066</td>\n",
       "      <td>100.0</td>\n",
       "    </tr>\n",
       "    <tr>\n",
       "      <th>tip_of_stem_broken</th>\n",
       "      <td>1066</td>\n",
       "      <td>100.0</td>\n",
       "    </tr>\n",
       "    <tr>\n",
       "      <th>side_branches_in_cm</th>\n",
       "      <td>84</td>\n",
       "      <td>7.9</td>\n",
       "    </tr>\n",
       "    <tr>\n",
       "      <th>total_number_adults</th>\n",
       "      <td>1066</td>\n",
       "      <td>100.0</td>\n",
       "    </tr>\n",
       "    <tr>\n",
       "      <th>stem_diam_bottom_in_cm</th>\n",
       "      <td>1066</td>\n",
       "      <td>100.0</td>\n",
       "    </tr>\n",
       "    <tr>\n",
       "      <th>diam_top_in_cm</th>\n",
       "      <td>370</td>\n",
       "      <td>34.7</td>\n",
       "    </tr>\n",
       "  </tbody>\n",
       "</table>\n",
       "</div>"
      ],
      "text/plain": [
       "                        count      %\n",
       "main_stem_length_in_cm   1066  100.0\n",
       "total_meja               1066  100.0\n",
       "infested                 1066  100.0\n",
       "tip_of_stem_broken       1066  100.0\n",
       "side_branches_in_cm        84    7.9\n",
       "total_number_adults      1066  100.0\n",
       "stem_diam_bottom_in_cm   1066  100.0\n",
       "diam_top_in_cm            370   34.7"
      ]
     },
     "execution_count": 35,
     "metadata": {},
     "output_type": "execute_result"
    }
   ],
   "source": [
    "notna = pd.DataFrame(df.notna().sum()).rename(columns={0: \"count\"})\n",
    "notna[[\"%\"]] = round(notna[[\"count\"]] / len(df) * 100,1)\n",
    "notna"
   ]
  },
  {
   "cell_type": "code",
   "execution_count": 36,
   "metadata": {},
   "outputs": [
    {
     "data": {
      "text/html": [
       "\n",
       "<style>\n",
       "  #altair-viz-1b95608301a140d68dadf4512b3ab051.vega-embed {\n",
       "    width: 100%;\n",
       "    display: flex;\n",
       "  }\n",
       "\n",
       "  #altair-viz-1b95608301a140d68dadf4512b3ab051.vega-embed details,\n",
       "  #altair-viz-1b95608301a140d68dadf4512b3ab051.vega-embed details summary {\n",
       "    position: relative;\n",
       "  }\n",
       "</style>\n",
       "<div id=\"altair-viz-1b95608301a140d68dadf4512b3ab051\"></div>\n",
       "<script type=\"text/javascript\">\n",
       "  var VEGA_DEBUG = (typeof VEGA_DEBUG == \"undefined\") ? {} : VEGA_DEBUG;\n",
       "  (function(spec, embedOpt){\n",
       "    let outputDiv = document.currentScript.previousElementSibling;\n",
       "    if (outputDiv.id !== \"altair-viz-1b95608301a140d68dadf4512b3ab051\") {\n",
       "      outputDiv = document.getElementById(\"altair-viz-1b95608301a140d68dadf4512b3ab051\");\n",
       "    }\n",
       "    const paths = {\n",
       "      \"vega\": \"https://cdn.jsdelivr.net/npm/vega@5?noext\",\n",
       "      \"vega-lib\": \"https://cdn.jsdelivr.net/npm/vega-lib?noext\",\n",
       "      \"vega-lite\": \"https://cdn.jsdelivr.net/npm/vega-lite@5.16.3?noext\",\n",
       "      \"vega-embed\": \"https://cdn.jsdelivr.net/npm/vega-embed@6?noext\",\n",
       "    };\n",
       "\n",
       "    function maybeLoadScript(lib, version) {\n",
       "      var key = `${lib.replace(\"-\", \"\")}_version`;\n",
       "      return (VEGA_DEBUG[key] == version) ?\n",
       "        Promise.resolve(paths[lib]) :\n",
       "        new Promise(function(resolve, reject) {\n",
       "          var s = document.createElement('script');\n",
       "          document.getElementsByTagName(\"head\")[0].appendChild(s);\n",
       "          s.async = true;\n",
       "          s.onload = () => {\n",
       "            VEGA_DEBUG[key] = version;\n",
       "            return resolve(paths[lib]);\n",
       "          };\n",
       "          s.onerror = () => reject(`Error loading script: ${paths[lib]}`);\n",
       "          s.src = paths[lib];\n",
       "        });\n",
       "    }\n",
       "\n",
       "    function showError(err) {\n",
       "      outputDiv.innerHTML = `<div class=\"error\" style=\"color:red;\">${err}</div>`;\n",
       "      throw err;\n",
       "    }\n",
       "\n",
       "    function displayChart(vegaEmbed) {\n",
       "      vegaEmbed(outputDiv, spec, embedOpt)\n",
       "        .catch(err => showError(`Javascript Error: ${err.message}<br>This usually means there's a typo in your chart specification. See the javascript console for the full traceback.`));\n",
       "    }\n",
       "\n",
       "    if(typeof define === \"function\" && define.amd) {\n",
       "      requirejs.config({paths});\n",
       "      require([\"vega-embed\"], displayChart, err => showError(`Error loading script: ${err.message}`));\n",
       "    } else {\n",
       "      maybeLoadScript(\"vega\", \"5\")\n",
       "        .then(() => maybeLoadScript(\"vega-lite\", \"5.16.3\"))\n",
       "        .then(() => maybeLoadScript(\"vega-embed\", \"6\"))\n",
       "        .catch(showError)\n",
       "        .then(() => displayChart(vegaEmbed));\n",
       "    }\n",
       "  })({\"config\": {\"view\": {\"continuousWidth\": 300, \"continuousHeight\": 300}}, \"data\": {\"name\": \"data-f716b8f4d836720386eec599e65bba43\"}, \"mark\": {\"type\": \"bar\"}, \"encoding\": {\"x\": {\"field\": \"count\", \"type\": \"quantitative\"}, \"y\": {\"field\": \"index\", \"type\": \"nominal\"}}, \"height\": 500, \"$schema\": \"https://vega.github.io/schema/vega-lite/v5.16.3.json\", \"datasets\": {\"data-f716b8f4d836720386eec599e65bba43\": [{\"index\": \"main_stem_length_in_cm\", \"count\": 1066, \"%\": 100.0}, {\"index\": \"total_meja\", \"count\": 1066, \"%\": 100.0}, {\"index\": \"infested\", \"count\": 1066, \"%\": 100.0}, {\"index\": \"tip_of_stem_broken\", \"count\": 1066, \"%\": 100.0}, {\"index\": \"side_branches_in_cm\", \"count\": 84, \"%\": 7.9}, {\"index\": \"total_number_adults\", \"count\": 1066, \"%\": 100.0}, {\"index\": \"stem_diam_bottom_in_cm\", \"count\": 1066, \"%\": 100.0}, {\"index\": \"diam_top_in_cm\", \"count\": 370, \"%\": 34.7}]}}, {\"mode\": \"vega-lite\"});\n",
       "</script>"
      ],
      "text/plain": [
       "alt.Chart(...)"
      ]
     },
     "execution_count": 36,
     "metadata": {},
     "output_type": "execute_result"
    }
   ],
   "source": [
    "alt.Chart(notna.reset_index()).mark_bar().encode(\n",
    "    x=\"count\",\n",
    "    y=\"index\",\n",
    ").properties(height=500)"
   ]
  },
  {
   "cell_type": "markdown",
   "metadata": {},
   "source": [
    "We therefore can consider filling in the missing values using SimpleImputer class from Scikit-Learn.\n",
    "There are three possible options now to proceed:\n",
    "\n",
    "**Option 1: method = \"reduced\"**\n",
    "With option 1, we omit all rows with NaN values and use a reduced DataFrame.\n",
    "\n",
    "**Option 2: method = \"imputed_mean\"**\n",
    "Option 2 uses imputation to fill in the missing values in the two specified columns. As strategy we specify mean so the missing values are replaced with the mean of each column.\n",
    "\n",
    "**Option 3: method = \"imputed_median\"**\n",
    "With option 3, the missing values in the two specified columns are also filled in by imputation. As a strategy, we specify the median so that the missing values are replaced by the median of each column."
   ]
  },
  {
   "cell_type": "code",
   "execution_count": 37,
   "metadata": {},
   "outputs": [],
   "source": [
    "methods = [\"reduced\", \"imputed_mean\", \"imputed_median\"] "
   ]
  },
  {
   "cell_type": "markdown",
   "metadata": {},
   "source": [
    "First, we define some functions.\n",
    "The reduction function takes our DataFrame as an argument and performs some operations on a copy of our df. The column \"side_branches_in_cm\" is omitted, as are all rows containing NaN values. The function then returns the reduced DataFrame."
   ]
  },
  {
   "cell_type": "code",
   "execution_count": 38,
   "metadata": {},
   "outputs": [],
   "source": [
    "def reduction(df: pd.DataFrame, model: str, variables_to_reduce: list) -> pd.DataFrame:\n",
    "    \"\"\"\n",
    "    Reduce a DataFrame by removing specified variables and dropping rows with missing values.\n",
    "\n",
    "    Parameters:\n",
    "    - df (pd.DataFrame): The input DataFrame to be reduced.\n",
    "    - variables_to_reduce (list): A list of variable names to be removed from the DataFrame.\n",
    "\n",
    "    Returns:\n",
    "    - pd.DataFrame: A new DataFrame with the specified variables removed and rows with missing values dropped.\n",
    "    \"\"\"\n",
    "    \n",
    "    # Create a copy of the input DataFrame to avoid modifying the original data\n",
    "    df_reduced = df.copy()\n",
    "    \n",
    "    # Iterate through the list of variables to reduce\n",
    "    for v in variables_to_reduce:\n",
    "        # Drop the specified variable from the DataFrame\n",
    "        df_reduced = df_reduced.drop(v, axis=1)\n",
    "\n",
    "         # Drop rows with missing values in the DataFrame\n",
    "        df_reduced = df_reduced.dropna()\n",
    "\n",
    "        # Check if the variable is in the lists features_lin or features_log and remove it if found\n",
    "        if v in features_lin and model == 'linear_reg':\n",
    "            features_lin.remove(v)\n",
    "        if v in features_log and model == 'logistic_reg':\n",
    "            features_log.remove(v)\n",
    "\n",
    "    return df_reduced\n"
   ]
  },
  {
   "cell_type": "markdown",
   "metadata": {},
   "source": [
    "The imputation function performs imputation on specified columns of our DataFrame \"diam_top_in_cm\" and \"side_branches_in_cm\" using scikit-learn's SimpleImputer. The strategy parameter is expected to be a string, in our case \"mean\" or \"median\". The function returns the DataFrame with the imputed values."
   ]
  },
  {
   "cell_type": "code",
   "execution_count": 39,
   "metadata": {},
   "outputs": [],
   "source": [
    "def imputation(df: pd.DataFrame, strategy: str, variables_to_impute: list) -> pd.DataFrame:\n",
    "    \"\"\"\n",
    "    Impute missing values in specified variables of a DataFrame using a specified imputation strategy.\n",
    "\n",
    "    Parameters:\n",
    "    - df (pd.DataFrame): The input DataFrame to be imputed.\n",
    "    - strategy (str): The imputation strategy to be used, e.g., 'mean', 'median', 'most_frequent', or 'constant'.\n",
    "    - variables_to_impute (list): A list of variable names to be imputed.\n",
    "\n",
    "    Returns:\n",
    "    - pd.DataFrame: A new DataFrame with missing values imputed using the specified strategy in the specified variables.\n",
    "    \"\"\"\n",
    "    \n",
    "    # Create a SimpleImputer with the specified strategy\n",
    "    imputer = SimpleImputer(strategy=strategy)\n",
    "    \n",
    "    # Create a copy of the input DataFrame to avoid modifying the original data\n",
    "    df_imputed = df.copy()\n",
    "\n",
    "    # Iterate through the list of variables to impute\n",
    "    for v in variables_to_impute:\n",
    "        # Impute missing values in the specified variable\n",
    "        df_imputed[v] = imputer.fit_transform(df_imputed[[v]])\n",
    "\n",
    "        # Check if the variable's data type is float and round to 2 decimal places if it is\n",
    "        if df_imputed[v].dtype == 'float64':\n",
    "            df_imputed[[v]] = df_imputed[[v]].round(2)\n",
    "\n",
    "    return df_imputed"
   ]
  },
  {
   "cell_type": "markdown",
   "metadata": {},
   "source": [
    "The function set_variables prepares the input DataFrame for our linear and logistic regression models. The features that we previously specified in our features_lin and features_log lists are extracted, as are our target variables y_label_lin and y_label_log. Rows with missing values in the target variable are to be dropped for both linear and logistic regression."
   ]
  },
  {
   "cell_type": "code",
   "execution_count": 40,
   "metadata": {},
   "outputs": [],
   "source": [
    "def set_variables(df: pd.DataFrame, y_label: str, features: list) -> tuple:\n",
    "    \"\"\"\n",
    "    Extract and set variables for modeling from a DataFrame.\n",
    "\n",
    "    Parameters:\n",
    "    - df (pd.DataFrame): The input DataFrame containing the data.\n",
    "\n",
    "    Returns:\n",
    "    - tuple: A tuple containing two variables: X, y\n",
    "    \"\"\"\n",
    "    \n",
    "    # Extract features and target variables for modeling\n",
    "    X = df.dropna(subset=[y_label])[features]\n",
    "    y = df.dropna(subset=[y_label])[y_label]\n",
    "    \n",
    "    return X, y"
   ]
  },
  {
   "cell_type": "markdown",
   "metadata": {},
   "source": [
    "The list model_methods contains the respective dictionaries which are used so asign the coresponding method to the model."
   ]
  },
  {
   "cell_type": "code",
   "execution_count": 41,
   "metadata": {},
   "outputs": [],
   "source": [
    "def get_custom_df(model: str, method: str) -> pd.DataFrame:\n",
    "    \"\"\"\n",
    "    Generate a custom DataFrame based on the specified reduction or imputation method.\n",
    "\n",
    "    Parameters:\n",
    "    - model (str): The machine learning model type.\n",
    "    - method (str): The method to apply on the DataFrame (\"reduced\", \"imputed_mean\", or \"imputed_median\").\n",
    "\n",
    "    Returns:\n",
    "    - pd.DataFrame: The custom DataFrame.\n",
    "    \"\"\"\n",
    "    custom_df = df.copy()\n",
    "    if method == \"reduced\":\n",
    "        custom_df = reduction(df=custom_df, model=model, variables_to_reduce=[\"side_branches_in_cm\"])\n",
    "    elif method == \"imputed_mean\":\n",
    "        custom_df = imputation(df=custom_df, strategy=\"mean\", variables_to_impute=[\"diam_top_in_cm\", \"side_branches_in_cm\"])\n",
    "    elif method == \"imputed_median\":\n",
    "        custom_df = imputation(df=custom_df, strategy=\"median\", variables_to_impute=[\"diam_top_in_cm\", \"side_branches_in_cm\"])\n",
    "    return custom_df\n",
    "\n",
    "def set_custom_variables(model_methods: list[dict]) -> tuple:\n",
    "    \"\"\"\n",
    "    Set custom variables based on the specified machine learning model and method.\n",
    "\n",
    "    Parameters:\n",
    "    - model_methods (list): List of dictionaries containing model and method information as well as y_label and features.\n",
    "\n",
    "    Returns:\n",
    "    - dict: A dictionary containing results for each specified model and method.\n",
    "    \"\"\"\n",
    "    results = {}\n",
    "    for model_method in model_methods:\n",
    "        model = model_method['model']\n",
    "        method = model_method['method']\n",
    "        y_label = model_method['y_label']\n",
    "        features = model_method['features']\n",
    "        custom_df = get_custom_df(model=model, method=method)\n",
    "        if model == \"linear_reg\":\n",
    "            custom_X, custom_y = set_variables(df=custom_df, y_label=y_label, features=features)\n",
    "            results[model] = (model, method, custom_df, custom_X, custom_y)\n",
    "        elif model == \"logistic_reg\":\n",
    "            custom_X, custom_y = set_variables(df=custom_df, y_label=y_label, features=features)\n",
    "            results[model] = (model, method, custom_df, custom_X, custom_y)\n",
    "    return results\n",
    "\n",
    "\n",
    "model_methods = [\n",
    "    {\"model\": \"linear_reg\", \"method\": \"imputed_mean\", \"y_label\": y_label_lin, \"features\": features_lin},\n",
    "    {\"model\": \"logistic_reg\", \"method\": \"reduced\", \"y_label\": y_label_log, \"features\": features_log}\n",
    "]\n",
    "\n",
    "variables = set_custom_variables(model_methods)"
   ]
  },
  {
   "cell_type": "code",
   "execution_count": 42,
   "metadata": {},
   "outputs": [
    {
     "name": "stdout",
     "output_type": "stream",
     "text": [
      "<class 'pandas.core.frame.DataFrame'>\n",
      "RangeIndex: 1066 entries, 0 to 1065\n",
      "Data columns (total 7 columns):\n",
      " #   Column                  Non-Null Count  Dtype  \n",
      "---  ------                  --------------  -----  \n",
      " 0   stem_diam_bottom_in_cm  1066 non-null   float64\n",
      " 1   diam_top_in_cm          1066 non-null   float64\n",
      " 2   side_branches_in_cm     1066 non-null   float64\n",
      " 3   total_meja              1066 non-null   int64  \n",
      " 4   tip_of_stem_broken      1066 non-null   int64  \n",
      " 5   infested                1066 non-null   int64  \n",
      " 6   total_number_adults     1066 non-null   int64  \n",
      "dtypes: float64(3), int64(4)\n",
      "memory usage: 58.4 KB\n"
     ]
    }
   ],
   "source": [
    "variables['linear_reg'][3].info()"
   ]
  },
  {
   "cell_type": "code",
   "execution_count": 43,
   "metadata": {},
   "outputs": [
    {
     "name": "stdout",
     "output_type": "stream",
     "text": [
      "<class 'pandas.core.frame.DataFrame'>\n",
      "Index: 370 entries, 0 to 1062\n",
      "Data columns (total 4 columns):\n",
      " #   Column                  Non-Null Count  Dtype  \n",
      "---  ------                  --------------  -----  \n",
      " 0   main_stem_length_in_cm  370 non-null    float64\n",
      " 1   stem_diam_bottom_in_cm  370 non-null    float64\n",
      " 2   diam_top_in_cm          370 non-null    float64\n",
      " 3   tip_of_stem_broken      370 non-null    int64  \n",
      "dtypes: float64(3), int64(1)\n",
      "memory usage: 14.5 KB\n"
     ]
    }
   ],
   "source": [
    "variables['logistic_reg'][3].info()"
   ]
  },
  {
   "cell_type": "markdown",
   "metadata": {},
   "source": [
    "To continue, our data must be split into training and test sets. We use the train_test_split function from scikit-learn to perform the split. We define 20% of the data set to be included in the test split. The remaining 80% of the data set is therefore used as the training set."
   ]
  },
  {
   "cell_type": "markdown",
   "metadata": {},
   "source": [
    "After the splitting we create new DataFrames called df_train an df_test from the training and testing set and save it as CSV files."
   ]
  },
  {
   "cell_type": "code",
   "execution_count": 44,
   "metadata": {},
   "outputs": [],
   "source": [
    "def split_and_save(model: str, method:str, X: pd.DataFrame, y: pd.Series, ret_val: str = None, save: bool = False, state: str = \"eval\") -> tuple:\n",
    "    \"\"\"\n",
    "    Split the input data into training and testing sets, optionally save the training data to a CSV file,\n",
    "    and return the specified values.\n",
    "\n",
    "    Parameters:\n",
    "    - model (str): The machine learning model type.\n",
    "    - method (str): The method used to generate the data.\n",
    "    - X (pd.DataFrame): The feature matrix.\n",
    "    - y (pd.Series): The target variable.\n",
    "    - ret_val (str, optional): Specify what values to return ('data_only' or data including df_train DataFrame).\n",
    "    - save (bool, optional): Whether to save the training data to a CSV file.\n",
    "    - state (str, optional): Defines the state of the data.\n",
    "\n",
    "    Returns:\n",
    "    - tuple: A tuple containing the requested values based on the specified ret_val.\n",
    "    \"\"\"\n",
    "    X_train, X_test, y_train, y_test = train_test_split(\n",
    "        X,\n",
    "        y,\n",
    "        test_size=0.2,\n",
    "        random_state=0\n",
    "    )\n",
    "    df_train = pd.DataFrame(X_train.copy())\n",
    "    df_test = pd.DataFrame(X_test.copy())\n",
    "    df_train = df_train.join(pd.DataFrame(y_train))\n",
    "    df_test = df_test.join(pd.DataFrame(y_test))\n",
    "    if save:\n",
    "        df_train.to_csv(f'../data/processed/train_data_{model}_{method}_{state}.csv')\n",
    "        df_test.to_csv(f'../data/processed/test_data_{model}_{method}_{state}.csv')\n",
    "\n",
    "    if ret_val == 'data_only':\n",
    "        return X_train, X_test, y_train, y_test\n",
    "    else:\n",
    "        return df_train, X_train, X_test, y_train, y_test"
   ]
  },
  {
   "cell_type": "markdown",
   "metadata": {},
   "source": [
    "In the following code cells the function split_and_save is applied:"
   ]
  },
  {
   "cell_type": "markdown",
   "metadata": {},
   "source": [
    "**Linear Regression:**"
   ]
  },
  {
   "cell_type": "code",
   "execution_count": 45,
   "metadata": {},
   "outputs": [],
   "source": [
    "df_train_lin, X_train_lin, X_test_lin, y_train_lin, y_test_lin = split_and_save(\n",
    "    model=variables['linear_reg'][0], method=variables['linear_reg'][1], X=variables['linear_reg'][3], y=variables['linear_reg'][4], save=True)"
   ]
  },
  {
   "cell_type": "markdown",
   "metadata": {},
   "source": [
    "**Logistic Regression:**"
   ]
  },
  {
   "cell_type": "code",
   "execution_count": 46,
   "metadata": {},
   "outputs": [],
   "source": [
    "df_train_log, X_train_log, X_test_log, y_train_log, y_test_log = split_and_save(\n",
    "    model=variables['logistic_reg'][0], method=variables['logistic_reg'][1], X=variables['logistic_reg'][3], y=variables['logistic_reg'][4], save=True)"
   ]
  },
  {
   "cell_type": "markdown",
   "metadata": {},
   "source": [
    "## 4 Analysis"
   ]
  },
  {
   "cell_type": "markdown",
   "metadata": {},
   "source": [
    "### 4.1 Descriptive Statistics"
   ]
  },
  {
   "cell_type": "markdown",
   "metadata": {},
   "source": [
    "Typical methods of descriptive data analysis are the calculation of mean values, medians and standard deviations as well as the creation of histograms, box plots or cross tables. It focuses on the organization and description of existing data without in-depth analysis or hypothesis formation."
   ]
  },
  {
   "cell_type": "markdown",
   "metadata": {},
   "source": [
    "#### 4.1.1 Linear Regression"
   ]
  },
  {
   "cell_type": "markdown",
   "metadata": {},
   "source": [
    "First, we use the describe function to compute summary statistics for all numerical columns in our corrected Test-DataFrame."
   ]
  },
  {
   "cell_type": "code",
   "execution_count": 47,
   "metadata": {},
   "outputs": [
    {
     "data": {
      "text/html": [
       "<div>\n",
       "<style scoped>\n",
       "    .dataframe tbody tr th:only-of-type {\n",
       "        vertical-align: middle;\n",
       "    }\n",
       "\n",
       "    .dataframe tbody tr th {\n",
       "        vertical-align: top;\n",
       "    }\n",
       "\n",
       "    .dataframe thead th {\n",
       "        text-align: right;\n",
       "    }\n",
       "</style>\n",
       "<table border=\"1\" class=\"dataframe\">\n",
       "  <thead>\n",
       "    <tr style=\"text-align: right;\">\n",
       "      <th></th>\n",
       "      <th>count</th>\n",
       "      <th>mean</th>\n",
       "      <th>std</th>\n",
       "      <th>min</th>\n",
       "      <th>25%</th>\n",
       "      <th>50%</th>\n",
       "      <th>75%</th>\n",
       "      <th>max</th>\n",
       "    </tr>\n",
       "  </thead>\n",
       "  <tbody>\n",
       "    <tr>\n",
       "      <th>stem_diam_bottom_in_cm</th>\n",
       "      <td>852.0</td>\n",
       "      <td>0.494859</td>\n",
       "      <td>0.183730</td>\n",
       "      <td>0.11</td>\n",
       "      <td>0.360</td>\n",
       "      <td>0.48</td>\n",
       "      <td>0.62</td>\n",
       "      <td>1.12</td>\n",
       "    </tr>\n",
       "    <tr>\n",
       "      <th>diam_top_in_cm</th>\n",
       "      <td>852.0</td>\n",
       "      <td>0.178099</td>\n",
       "      <td>0.074094</td>\n",
       "      <td>0.02</td>\n",
       "      <td>0.180</td>\n",
       "      <td>0.18</td>\n",
       "      <td>0.18</td>\n",
       "      <td>0.76</td>\n",
       "    </tr>\n",
       "    <tr>\n",
       "      <th>side_branches_in_cm</th>\n",
       "      <td>852.0</td>\n",
       "      <td>60.165599</td>\n",
       "      <td>12.877487</td>\n",
       "      <td>8.00</td>\n",
       "      <td>60.230</td>\n",
       "      <td>60.23</td>\n",
       "      <td>60.23</td>\n",
       "      <td>222.00</td>\n",
       "    </tr>\n",
       "    <tr>\n",
       "      <th>total_meja</th>\n",
       "      <td>852.0</td>\n",
       "      <td>5.252347</td>\n",
       "      <td>8.949443</td>\n",
       "      <td>0.00</td>\n",
       "      <td>0.000</td>\n",
       "      <td>0.00</td>\n",
       "      <td>8.00</td>\n",
       "      <td>62.00</td>\n",
       "    </tr>\n",
       "    <tr>\n",
       "      <th>tip_of_stem_broken</th>\n",
       "      <td>852.0</td>\n",
       "      <td>0.456573</td>\n",
       "      <td>0.498403</td>\n",
       "      <td>0.00</td>\n",
       "      <td>0.000</td>\n",
       "      <td>0.00</td>\n",
       "      <td>1.00</td>\n",
       "      <td>1.00</td>\n",
       "    </tr>\n",
       "    <tr>\n",
       "      <th>infested</th>\n",
       "      <td>852.0</td>\n",
       "      <td>0.461268</td>\n",
       "      <td>0.498790</td>\n",
       "      <td>0.00</td>\n",
       "      <td>0.000</td>\n",
       "      <td>0.00</td>\n",
       "      <td>1.00</td>\n",
       "      <td>1.00</td>\n",
       "    </tr>\n",
       "    <tr>\n",
       "      <th>total_number_adults</th>\n",
       "      <td>852.0</td>\n",
       "      <td>2.495305</td>\n",
       "      <td>6.044001</td>\n",
       "      <td>0.00</td>\n",
       "      <td>0.000</td>\n",
       "      <td>0.00</td>\n",
       "      <td>1.00</td>\n",
       "      <td>53.00</td>\n",
       "    </tr>\n",
       "    <tr>\n",
       "      <th>main_stem_length_in_cm</th>\n",
       "      <td>852.0</td>\n",
       "      <td>51.234155</td>\n",
       "      <td>24.998356</td>\n",
       "      <td>2.00</td>\n",
       "      <td>33.875</td>\n",
       "      <td>49.00</td>\n",
       "      <td>67.00</td>\n",
       "      <td>135.00</td>\n",
       "    </tr>\n",
       "  </tbody>\n",
       "</table>\n",
       "</div>"
      ],
      "text/plain": [
       "                        count       mean        std   min     25%    50%  \\\n",
       "stem_diam_bottom_in_cm  852.0   0.494859   0.183730  0.11   0.360   0.48   \n",
       "diam_top_in_cm          852.0   0.178099   0.074094  0.02   0.180   0.18   \n",
       "side_branches_in_cm     852.0  60.165599  12.877487  8.00  60.230  60.23   \n",
       "total_meja              852.0   5.252347   8.949443  0.00   0.000   0.00   \n",
       "tip_of_stem_broken      852.0   0.456573   0.498403  0.00   0.000   0.00   \n",
       "infested                852.0   0.461268   0.498790  0.00   0.000   0.00   \n",
       "total_number_adults     852.0   2.495305   6.044001  0.00   0.000   0.00   \n",
       "main_stem_length_in_cm  852.0  51.234155  24.998356  2.00  33.875  49.00   \n",
       "\n",
       "                          75%     max  \n",
       "stem_diam_bottom_in_cm   0.62    1.12  \n",
       "diam_top_in_cm           0.18    0.76  \n",
       "side_branches_in_cm     60.23  222.00  \n",
       "total_meja               8.00   62.00  \n",
       "tip_of_stem_broken       1.00    1.00  \n",
       "infested                 1.00    1.00  \n",
       "total_number_adults      1.00   53.00  \n",
       "main_stem_length_in_cm  67.00  135.00  "
      ]
     },
     "execution_count": 47,
     "metadata": {},
     "output_type": "execute_result"
    }
   ],
   "source": [
    "df_train_lin.describe().T"
   ]
  },
  {
   "cell_type": "markdown",
   "metadata": {},
   "source": [
    "Next, we create a grid of bar charts using Altair. Each column represents a different variable, either a feature or the response variable. Each row represents a histogram of the variables distribution.\n",
    "This diagram is a tool for an initial, visual exploration of the data distributions in the training dataset. The histogram grids allow us to check the distribution of each variable in the training data set. We can identify patterns, outliers or characteristic shapes in the histograms that may indicate certain properties of the data."
   ]
  },
  {
   "cell_type": "code",
   "execution_count": 48,
   "metadata": {},
   "outputs": [
    {
     "data": {
      "text/html": [
       "\n",
       "<style>\n",
       "  #altair-viz-6c00fb44d5be4a0c9334f4e6c9302eea.vega-embed {\n",
       "    width: 100%;\n",
       "    display: flex;\n",
       "  }\n",
       "\n",
       "  #altair-viz-6c00fb44d5be4a0c9334f4e6c9302eea.vega-embed details,\n",
       "  #altair-viz-6c00fb44d5be4a0c9334f4e6c9302eea.vega-embed details summary {\n",
       "    position: relative;\n",
       "  }\n",
       "</style>\n",
       "<div id=\"altair-viz-6c00fb44d5be4a0c9334f4e6c9302eea\"></div>\n",
       "<script type=\"text/javascript\">\n",
       "  var VEGA_DEBUG = (typeof VEGA_DEBUG == \"undefined\") ? {} : VEGA_DEBUG;\n",
       "  (function(spec, embedOpt){\n",
       "    let outputDiv = document.currentScript.previousElementSibling;\n",
       "    if (outputDiv.id !== \"altair-viz-6c00fb44d5be4a0c9334f4e6c9302eea\") {\n",
       "      outputDiv = document.getElementById(\"altair-viz-6c00fb44d5be4a0c9334f4e6c9302eea\");\n",
       "    }\n",
       "    const paths = {\n",
       "      \"vega\": \"https://cdn.jsdelivr.net/npm/vega@5?noext\",\n",
       "      \"vega-lib\": \"https://cdn.jsdelivr.net/npm/vega-lib?noext\",\n",
       "      \"vega-lite\": \"https://cdn.jsdelivr.net/npm/vega-lite@5.16.3?noext\",\n",
       "      \"vega-embed\": \"https://cdn.jsdelivr.net/npm/vega-embed@6?noext\",\n",
       "    };\n",
       "\n",
       "    function maybeLoadScript(lib, version) {\n",
       "      var key = `${lib.replace(\"-\", \"\")}_version`;\n",
       "      return (VEGA_DEBUG[key] == version) ?\n",
       "        Promise.resolve(paths[lib]) :\n",
       "        new Promise(function(resolve, reject) {\n",
       "          var s = document.createElement('script');\n",
       "          document.getElementsByTagName(\"head\")[0].appendChild(s);\n",
       "          s.async = true;\n",
       "          s.onload = () => {\n",
       "            VEGA_DEBUG[key] = version;\n",
       "            return resolve(paths[lib]);\n",
       "          };\n",
       "          s.onerror = () => reject(`Error loading script: ${paths[lib]}`);\n",
       "          s.src = paths[lib];\n",
       "        });\n",
       "    }\n",
       "\n",
       "    function showError(err) {\n",
       "      outputDiv.innerHTML = `<div class=\"error\" style=\"color:red;\">${err}</div>`;\n",
       "      throw err;\n",
       "    }\n",
       "\n",
       "    function displayChart(vegaEmbed) {\n",
       "      vegaEmbed(outputDiv, spec, embedOpt)\n",
       "        .catch(err => showError(`Javascript Error: ${err.message}<br>This usually means there's a typo in your chart specification. See the javascript console for the full traceback.`));\n",
       "    }\n",
       "\n",
       "    if(typeof define === \"function\" && define.amd) {\n",
       "      requirejs.config({paths});\n",
       "      require([\"vega-embed\"], displayChart, err => showError(`Error loading script: ${err.message}`));\n",
       "    } else {\n",
       "      maybeLoadScript(\"vega\", \"5\")\n",
       "        .then(() => maybeLoadScript(\"vega-lite\", \"5.16.3\"))\n",
       "        .then(() => maybeLoadScript(\"vega-embed\", \"6\"))\n",
       "        .catch(showError)\n",
       "        .then(() => displayChart(vegaEmbed));\n",
       "    }\n",
       "  })({\"config\": {\"view\": {\"continuousWidth\": 300, \"continuousHeight\": 300}}, \"repeat\": {\"column\": [\"main_stem_length_in_cm\", \"stem_diam_bottom_in_cm\", \"diam_top_in_cm\", \"side_branches_in_cm\", \"total_meja\", \"tip_of_stem_broken\", \"infested\", \"total_number_adults\"]}, \"spec\": {\"data\": {\"name\": \"data-fc342449eb0ad6a48daf0d11bcff9757\"}, \"mark\": {\"type\": \"bar\"}, \"encoding\": {\"x\": {\"bin\": true, \"field\": {\"repeat\": \"column\"}, \"type\": \"quantitative\"}, \"y\": {\"aggregate\": \"count\", \"type\": \"quantitative\"}}, \"height\": 150, \"width\": 150}, \"$schema\": \"https://vega.github.io/schema/vega-lite/v5.16.3.json\", \"datasets\": {\"data-fc342449eb0ad6a48daf0d11bcff9757\": [{\"stem_diam_bottom_in_cm\": 0.42, \"diam_top_in_cm\": 0.2, \"side_branches_in_cm\": 60.23, \"total_meja\": 9, \"tip_of_stem_broken\": 1, \"infested\": 1, \"total_number_adults\": 9, \"main_stem_length_in_cm\": 42.0}, {\"stem_diam_bottom_in_cm\": 0.48, \"diam_top_in_cm\": 0.18, \"side_branches_in_cm\": 60.23, \"total_meja\": 14, \"tip_of_stem_broken\": 0, \"infested\": 1, \"total_number_adults\": 0, \"main_stem_length_in_cm\": 37.0}, {\"stem_diam_bottom_in_cm\": 0.42, \"diam_top_in_cm\": 0.18, \"side_branches_in_cm\": 60.23, \"total_meja\": 1, \"tip_of_stem_broken\": 0, \"infested\": 1, \"total_number_adults\": 0, \"main_stem_length_in_cm\": 53.0}, {\"stem_diam_bottom_in_cm\": 0.61, \"diam_top_in_cm\": 0.18, \"side_branches_in_cm\": 55.0, \"total_meja\": 0, \"tip_of_stem_broken\": 1, \"infested\": 0, \"total_number_adults\": 0, \"main_stem_length_in_cm\": 51.0}, {\"stem_diam_bottom_in_cm\": 0.55, \"diam_top_in_cm\": 0.18, \"side_branches_in_cm\": 60.23, \"total_meja\": 10, \"tip_of_stem_broken\": 0, \"infested\": 1, \"total_number_adults\": 2, \"main_stem_length_in_cm\": 52.0}, {\"stem_diam_bottom_in_cm\": 0.64, \"diam_top_in_cm\": 0.18, \"side_branches_in_cm\": 60.23, \"total_meja\": 0, \"tip_of_stem_broken\": 0, \"infested\": 0, \"total_number_adults\": 0, \"main_stem_length_in_cm\": 60.0}, {\"stem_diam_bottom_in_cm\": 0.31, \"diam_top_in_cm\": 0.18, \"side_branches_in_cm\": 60.23, \"total_meja\": 8, \"tip_of_stem_broken\": 0, \"infested\": 1, \"total_number_adults\": 1, \"main_stem_length_in_cm\": 26.0}, {\"stem_diam_bottom_in_cm\": 0.36, \"diam_top_in_cm\": 0.18, \"side_branches_in_cm\": 60.23, \"total_meja\": 0, \"tip_of_stem_broken\": 0, \"infested\": 0, \"total_number_adults\": 0, \"main_stem_length_in_cm\": 19.0}, {\"stem_diam_bottom_in_cm\": 0.77, \"diam_top_in_cm\": 0.18, \"side_branches_in_cm\": 60.23, \"total_meja\": 1, \"tip_of_stem_broken\": 0, \"infested\": 1, \"total_number_adults\": 1, \"main_stem_length_in_cm\": 96.0}, {\"stem_diam_bottom_in_cm\": 0.26, \"diam_top_in_cm\": 0.18, \"side_branches_in_cm\": 60.23, \"total_meja\": 0, \"tip_of_stem_broken\": 0, \"infested\": 0, \"total_number_adults\": 0, \"main_stem_length_in_cm\": 15.5}, {\"stem_diam_bottom_in_cm\": 0.62, \"diam_top_in_cm\": 0.18, \"side_branches_in_cm\": 60.23, \"total_meja\": 26, \"tip_of_stem_broken\": 0, \"infested\": 1, \"total_number_adults\": 13, \"main_stem_length_in_cm\": 41.0}, {\"stem_diam_bottom_in_cm\": 0.28, \"diam_top_in_cm\": 0.18, \"side_branches_in_cm\": 60.23, \"total_meja\": 0, \"tip_of_stem_broken\": 0, \"infested\": 0, \"total_number_adults\": 0, \"main_stem_length_in_cm\": 16.5}, {\"stem_diam_bottom_in_cm\": 0.88, \"diam_top_in_cm\": 0.18, \"side_branches_in_cm\": 49.0, \"total_meja\": 0, \"tip_of_stem_broken\": 1, \"infested\": 0, \"total_number_adults\": 0, \"main_stem_length_in_cm\": 70.0}, {\"stem_diam_bottom_in_cm\": 0.55, \"diam_top_in_cm\": 0.18, \"side_branches_in_cm\": 60.23, \"total_meja\": 5, \"tip_of_stem_broken\": 0, \"infested\": 1, \"total_number_adults\": 2, \"main_stem_length_in_cm\": 84.0}, {\"stem_diam_bottom_in_cm\": 0.39, \"diam_top_in_cm\": 0.11, \"side_branches_in_cm\": 60.23, \"total_meja\": 0, \"tip_of_stem_broken\": 0, \"infested\": 0, \"total_number_adults\": 0, \"main_stem_length_in_cm\": 65.0}, {\"stem_diam_bottom_in_cm\": 0.26, \"diam_top_in_cm\": 0.18, \"side_branches_in_cm\": 60.23, \"total_meja\": 0, \"tip_of_stem_broken\": 1, \"infested\": 0, \"total_number_adults\": 0, \"main_stem_length_in_cm\": 39.0}, {\"stem_diam_bottom_in_cm\": 0.31, \"diam_top_in_cm\": 0.18, \"side_branches_in_cm\": 60.23, \"total_meja\": 0, \"tip_of_stem_broken\": 1, \"infested\": 0, \"total_number_adults\": 0, \"main_stem_length_in_cm\": 23.0}, {\"stem_diam_bottom_in_cm\": 0.74, \"diam_top_in_cm\": 0.18, \"side_branches_in_cm\": 60.23, \"total_meja\": 18, \"tip_of_stem_broken\": 0, \"infested\": 1, \"total_number_adults\": 2, \"main_stem_length_in_cm\": 67.0}, {\"stem_diam_bottom_in_cm\": 0.31, \"diam_top_in_cm\": 0.08, \"side_branches_in_cm\": 60.23, \"total_meja\": 7, \"tip_of_stem_broken\": 1, \"infested\": 1, \"total_number_adults\": 7, \"main_stem_length_in_cm\": 32.0}, {\"stem_diam_bottom_in_cm\": 0.31, \"diam_top_in_cm\": 0.1, \"side_branches_in_cm\": 60.23, \"total_meja\": 17, \"tip_of_stem_broken\": 0, \"infested\": 1, \"total_number_adults\": 17, \"main_stem_length_in_cm\": 42.0}, {\"stem_diam_bottom_in_cm\": 0.4, \"diam_top_in_cm\": 0.18, \"side_branches_in_cm\": 60.23, \"total_meja\": 0, \"tip_of_stem_broken\": 1, \"infested\": 0, \"total_number_adults\": 0, \"main_stem_length_in_cm\": 31.0}, {\"stem_diam_bottom_in_cm\": 0.31, \"diam_top_in_cm\": 0.18, \"side_branches_in_cm\": 60.23, \"total_meja\": 0, \"tip_of_stem_broken\": 0, \"infested\": 0, \"total_number_adults\": 0, \"main_stem_length_in_cm\": 16.5}, {\"stem_diam_bottom_in_cm\": 0.56, \"diam_top_in_cm\": 0.18, \"side_branches_in_cm\": 60.23, \"total_meja\": 0, \"tip_of_stem_broken\": 0, \"infested\": 0, \"total_number_adults\": 0, \"main_stem_length_in_cm\": 40.0}, {\"stem_diam_bottom_in_cm\": 0.57, \"diam_top_in_cm\": 0.18, \"side_branches_in_cm\": 60.23, \"total_meja\": 0, \"tip_of_stem_broken\": 1, \"infested\": 0, \"total_number_adults\": 0, \"main_stem_length_in_cm\": 44.0}, {\"stem_diam_bottom_in_cm\": 0.52, \"diam_top_in_cm\": 0.18, \"side_branches_in_cm\": 60.23, \"total_meja\": 7, \"tip_of_stem_broken\": 0, \"infested\": 1, \"total_number_adults\": 0, \"main_stem_length_in_cm\": 67.0}, {\"stem_diam_bottom_in_cm\": 0.67, \"diam_top_in_cm\": 0.18, \"side_branches_in_cm\": 127.0, \"total_meja\": 0, \"tip_of_stem_broken\": 1, \"infested\": 0, \"total_number_adults\": 0, \"main_stem_length_in_cm\": 27.0}, {\"stem_diam_bottom_in_cm\": 0.55, \"diam_top_in_cm\": 0.18, \"side_branches_in_cm\": 60.23, \"total_meja\": 0, \"tip_of_stem_broken\": 1, \"infested\": 0, \"total_number_adults\": 0, \"main_stem_length_in_cm\": 46.0}, {\"stem_diam_bottom_in_cm\": 0.53, \"diam_top_in_cm\": 0.18, \"side_branches_in_cm\": 22.0, \"total_meja\": 0, \"tip_of_stem_broken\": 1, \"infested\": 0, \"total_number_adults\": 0, \"main_stem_length_in_cm\": 35.0}, {\"stem_diam_bottom_in_cm\": 0.42, \"diam_top_in_cm\": 0.04, \"side_branches_in_cm\": 60.23, \"total_meja\": 5, \"tip_of_stem_broken\": 0, \"infested\": 1, \"total_number_adults\": 2, \"main_stem_length_in_cm\": 38.0}, {\"stem_diam_bottom_in_cm\": 0.7, \"diam_top_in_cm\": 0.18, \"side_branches_in_cm\": 60.23, \"total_meja\": 39, \"tip_of_stem_broken\": 0, \"infested\": 1, \"total_number_adults\": 2, \"main_stem_length_in_cm\": 72.0}, {\"stem_diam_bottom_in_cm\": 0.62, \"diam_top_in_cm\": 0.18, \"side_branches_in_cm\": 60.23, \"total_meja\": 0, \"tip_of_stem_broken\": 0, \"infested\": 0, \"total_number_adults\": 0, \"main_stem_length_in_cm\": 79.0}, {\"stem_diam_bottom_in_cm\": 0.63, \"diam_top_in_cm\": 0.18, \"side_branches_in_cm\": 60.23, \"total_meja\": 0, \"tip_of_stem_broken\": 1, \"infested\": 0, \"total_number_adults\": 0, \"main_stem_length_in_cm\": 35.0}, {\"stem_diam_bottom_in_cm\": 0.23, \"diam_top_in_cm\": 0.18, \"side_branches_in_cm\": 60.23, \"total_meja\": 0, \"tip_of_stem_broken\": 0, \"infested\": 0, \"total_number_adults\": 0, \"main_stem_length_in_cm\": 8.0}, {\"stem_diam_bottom_in_cm\": 0.33, \"diam_top_in_cm\": 0.18, \"side_branches_in_cm\": 60.23, \"total_meja\": 0, \"tip_of_stem_broken\": 0, \"infested\": 0, \"total_number_adults\": 0, \"main_stem_length_in_cm\": 33.0}, {\"stem_diam_bottom_in_cm\": 0.36, \"diam_top_in_cm\": 0.19, \"side_branches_in_cm\": 60.23, \"total_meja\": 13, \"tip_of_stem_broken\": 1, \"infested\": 1, \"total_number_adults\": 11, \"main_stem_length_in_cm\": 27.0}, {\"stem_diam_bottom_in_cm\": 0.19, \"diam_top_in_cm\": 0.18, \"side_branches_in_cm\": 60.23, \"total_meja\": 0, \"tip_of_stem_broken\": 0, \"infested\": 0, \"total_number_adults\": 0, \"main_stem_length_in_cm\": 10.5}, {\"stem_diam_bottom_in_cm\": 0.33, \"diam_top_in_cm\": 0.12, \"side_branches_in_cm\": 60.23, \"total_meja\": 12, \"tip_of_stem_broken\": 1, \"infested\": 1, \"total_number_adults\": 12, \"main_stem_length_in_cm\": 30.0}, {\"stem_diam_bottom_in_cm\": 0.65, \"diam_top_in_cm\": 0.18, \"side_branches_in_cm\": 60.23, \"total_meja\": 7, \"tip_of_stem_broken\": 0, \"infested\": 1, \"total_number_adults\": 0, \"main_stem_length_in_cm\": 58.0}, {\"stem_diam_bottom_in_cm\": 0.16, \"diam_top_in_cm\": 0.18, \"side_branches_in_cm\": 60.23, \"total_meja\": 0, \"tip_of_stem_broken\": 0, \"infested\": 0, \"total_number_adults\": 0, \"main_stem_length_in_cm\": 12.0}, {\"stem_diam_bottom_in_cm\": 0.61, \"diam_top_in_cm\": 0.18, \"side_branches_in_cm\": 60.23, \"total_meja\": 17, \"tip_of_stem_broken\": 0, \"infested\": 1, \"total_number_adults\": 1, \"main_stem_length_in_cm\": 65.0}, {\"stem_diam_bottom_in_cm\": 0.39, \"diam_top_in_cm\": 0.26, \"side_branches_in_cm\": 60.23, \"total_meja\": 14, \"tip_of_stem_broken\": 1, \"infested\": 1, \"total_number_adults\": 10, \"main_stem_length_in_cm\": 31.5}, {\"stem_diam_bottom_in_cm\": 0.67, \"diam_top_in_cm\": 0.18, \"side_branches_in_cm\": 60.23, \"total_meja\": 0, \"tip_of_stem_broken\": 0, \"infested\": 0, \"total_number_adults\": 0, \"main_stem_length_in_cm\": 78.0}, {\"stem_diam_bottom_in_cm\": 0.7, \"diam_top_in_cm\": 0.18, \"side_branches_in_cm\": 60.23, \"total_meja\": 12, \"tip_of_stem_broken\": 0, \"infested\": 1, \"total_number_adults\": 0, \"main_stem_length_in_cm\": 75.0}, {\"stem_diam_bottom_in_cm\": 0.18, \"diam_top_in_cm\": 0.18, \"side_branches_in_cm\": 60.23, \"total_meja\": 0, \"tip_of_stem_broken\": 0, \"infested\": 0, \"total_number_adults\": 0, \"main_stem_length_in_cm\": 9.0}, {\"stem_diam_bottom_in_cm\": 0.28, \"diam_top_in_cm\": 0.02, \"side_branches_in_cm\": 60.23, \"total_meja\": 3, \"tip_of_stem_broken\": 0, \"infested\": 1, \"total_number_adults\": 3, \"main_stem_length_in_cm\": 67.0}, {\"stem_diam_bottom_in_cm\": 0.21, \"diam_top_in_cm\": 0.18, \"side_branches_in_cm\": 60.23, \"total_meja\": 0, \"tip_of_stem_broken\": 0, \"infested\": 0, \"total_number_adults\": 0, \"main_stem_length_in_cm\": 9.0}, {\"stem_diam_bottom_in_cm\": 0.52, \"diam_top_in_cm\": 0.18, \"side_branches_in_cm\": 60.23, \"total_meja\": 0, \"tip_of_stem_broken\": 0, \"infested\": 0, \"total_number_adults\": 0, \"main_stem_length_in_cm\": 77.0}, {\"stem_diam_bottom_in_cm\": 0.66, \"diam_top_in_cm\": 0.06, \"side_branches_in_cm\": 60.23, \"total_meja\": 0, \"tip_of_stem_broken\": 0, \"infested\": 0, \"total_number_adults\": 0, \"main_stem_length_in_cm\": 107.0}, {\"stem_diam_bottom_in_cm\": 0.7, \"diam_top_in_cm\": 0.18, \"side_branches_in_cm\": 60.23, \"total_meja\": 0, \"tip_of_stem_broken\": 1, \"infested\": 0, \"total_number_adults\": 0, \"main_stem_length_in_cm\": 49.0}, {\"stem_diam_bottom_in_cm\": 0.48, \"diam_top_in_cm\": 0.18, \"side_branches_in_cm\": 60.23, \"total_meja\": 11, \"tip_of_stem_broken\": 0, \"infested\": 1, \"total_number_adults\": 2, \"main_stem_length_in_cm\": 43.0}, {\"stem_diam_bottom_in_cm\": 0.26, \"diam_top_in_cm\": 0.18, \"side_branches_in_cm\": 60.23, \"total_meja\": 0, \"tip_of_stem_broken\": 0, \"infested\": 0, \"total_number_adults\": 0, \"main_stem_length_in_cm\": 22.0}, {\"stem_diam_bottom_in_cm\": 0.62, \"diam_top_in_cm\": 0.18, \"side_branches_in_cm\": 60.23, \"total_meja\": 3, \"tip_of_stem_broken\": 0, \"infested\": 1, \"total_number_adults\": 2, \"main_stem_length_in_cm\": 97.0}, {\"stem_diam_bottom_in_cm\": 0.47, \"diam_top_in_cm\": 0.07, \"side_branches_in_cm\": 60.23, \"total_meja\": 9, \"tip_of_stem_broken\": 0, \"infested\": 1, \"total_number_adults\": 8, \"main_stem_length_in_cm\": 61.0}, {\"stem_diam_bottom_in_cm\": 0.57, \"diam_top_in_cm\": 0.18, \"side_branches_in_cm\": 60.23, \"total_meja\": 0, \"tip_of_stem_broken\": 0, \"infested\": 0, \"total_number_adults\": 0, \"main_stem_length_in_cm\": 105.0}, {\"stem_diam_bottom_in_cm\": 0.47, \"diam_top_in_cm\": 0.21, \"side_branches_in_cm\": 60.23, \"total_meja\": 14, \"tip_of_stem_broken\": 1, \"infested\": 1, \"total_number_adults\": 9, \"main_stem_length_in_cm\": 38.0}, {\"stem_diam_bottom_in_cm\": 0.94, \"diam_top_in_cm\": 0.18, \"side_branches_in_cm\": 60.23, \"total_meja\": 15, \"tip_of_stem_broken\": 0, \"infested\": 1, \"total_number_adults\": 0, \"main_stem_length_in_cm\": 87.0}, {\"stem_diam_bottom_in_cm\": 0.35, \"diam_top_in_cm\": 0.09, \"side_branches_in_cm\": 60.23, \"total_meja\": 0, \"tip_of_stem_broken\": 1, \"infested\": 0, \"total_number_adults\": 0, \"main_stem_length_in_cm\": 64.0}, {\"stem_diam_bottom_in_cm\": 0.32, \"diam_top_in_cm\": 0.16, \"side_branches_in_cm\": 60.23, \"total_meja\": 11, \"tip_of_stem_broken\": 1, \"infested\": 1, \"total_number_adults\": 9, \"main_stem_length_in_cm\": 41.0}, {\"stem_diam_bottom_in_cm\": 0.19, \"diam_top_in_cm\": 0.18, \"side_branches_in_cm\": 60.23, \"total_meja\": 0, \"tip_of_stem_broken\": 0, \"infested\": 0, \"total_number_adults\": 0, \"main_stem_length_in_cm\": 13.0}, {\"stem_diam_bottom_in_cm\": 0.16, \"diam_top_in_cm\": 0.18, \"side_branches_in_cm\": 60.23, \"total_meja\": 0, \"tip_of_stem_broken\": 0, \"infested\": 0, \"total_number_adults\": 0, \"main_stem_length_in_cm\": 12.5}, {\"stem_diam_bottom_in_cm\": 0.42, \"diam_top_in_cm\": 0.3, \"side_branches_in_cm\": 60.23, \"total_meja\": 11, \"tip_of_stem_broken\": 1, \"infested\": 1, \"total_number_adults\": 9, \"main_stem_length_in_cm\": 22.5}, {\"stem_diam_bottom_in_cm\": 0.62, \"diam_top_in_cm\": 0.18, \"side_branches_in_cm\": 60.23, \"total_meja\": 4, \"tip_of_stem_broken\": 0, \"infested\": 1, \"total_number_adults\": 0, \"main_stem_length_in_cm\": 57.0}, {\"stem_diam_bottom_in_cm\": 0.77, \"diam_top_in_cm\": 0.18, \"side_branches_in_cm\": 44.0, \"total_meja\": 0, \"tip_of_stem_broken\": 1, \"infested\": 0, \"total_number_adults\": 0, \"main_stem_length_in_cm\": 58.0}, {\"stem_diam_bottom_in_cm\": 0.51, \"diam_top_in_cm\": 0.09, \"side_branches_in_cm\": 60.23, \"total_meja\": 36, \"tip_of_stem_broken\": 1, \"infested\": 1, \"total_number_adults\": 5, \"main_stem_length_in_cm\": 50.0}, {\"stem_diam_bottom_in_cm\": 0.45, \"diam_top_in_cm\": 0.18, \"side_branches_in_cm\": 60.23, \"total_meja\": 0, \"tip_of_stem_broken\": 1, \"infested\": 0, \"total_number_adults\": 0, \"main_stem_length_in_cm\": 28.0}, {\"stem_diam_bottom_in_cm\": 0.34, \"diam_top_in_cm\": 0.18, \"side_branches_in_cm\": 60.23, \"total_meja\": 0, \"tip_of_stem_broken\": 1, \"infested\": 0, \"total_number_adults\": 0, \"main_stem_length_in_cm\": 30.0}, {\"stem_diam_bottom_in_cm\": 0.4, \"diam_top_in_cm\": 0.18, \"side_branches_in_cm\": 60.23, \"total_meja\": 0, \"tip_of_stem_broken\": 1, \"infested\": 0, \"total_number_adults\": 0, \"main_stem_length_in_cm\": 37.0}, {\"stem_diam_bottom_in_cm\": 0.58, \"diam_top_in_cm\": 0.18, \"side_branches_in_cm\": 37.0, \"total_meja\": 0, \"tip_of_stem_broken\": 1, \"infested\": 0, \"total_number_adults\": 0, \"main_stem_length_in_cm\": 34.0}, {\"stem_diam_bottom_in_cm\": 0.3, \"diam_top_in_cm\": 0.18, \"side_branches_in_cm\": 60.23, \"total_meja\": 0, \"tip_of_stem_broken\": 1, \"infested\": 0, \"total_number_adults\": 0, \"main_stem_length_in_cm\": 38.0}, {\"stem_diam_bottom_in_cm\": 0.55, \"diam_top_in_cm\": 0.18, \"side_branches_in_cm\": 60.23, \"total_meja\": 25, \"tip_of_stem_broken\": 0, \"infested\": 1, \"total_number_adults\": 9, \"main_stem_length_in_cm\": 45.0}, {\"stem_diam_bottom_in_cm\": 0.91, \"diam_top_in_cm\": 0.18, \"side_branches_in_cm\": 60.23, \"total_meja\": 2, \"tip_of_stem_broken\": 0, \"infested\": 1, \"total_number_adults\": 0, \"main_stem_length_in_cm\": 121.0}, {\"stem_diam_bottom_in_cm\": 0.39, \"diam_top_in_cm\": 0.18, \"side_branches_in_cm\": 60.23, \"total_meja\": 0, \"tip_of_stem_broken\": 0, \"infested\": 0, \"total_number_adults\": 0, \"main_stem_length_in_cm\": 84.0}, {\"stem_diam_bottom_in_cm\": 0.36, \"diam_top_in_cm\": 0.02, \"side_branches_in_cm\": 60.23, \"total_meja\": 0, \"tip_of_stem_broken\": 0, \"infested\": 0, \"total_number_adults\": 0, \"main_stem_length_in_cm\": 72.0}, {\"stem_diam_bottom_in_cm\": 0.44, \"diam_top_in_cm\": 0.05, \"side_branches_in_cm\": 60.23, \"total_meja\": 0, \"tip_of_stem_broken\": 0, \"infested\": 0, \"total_number_adults\": 0, \"main_stem_length_in_cm\": 90.0}, {\"stem_diam_bottom_in_cm\": 0.33, \"diam_top_in_cm\": 0.09, \"side_branches_in_cm\": 60.23, \"total_meja\": 0, \"tip_of_stem_broken\": 0, \"infested\": 0, \"total_number_adults\": 0, \"main_stem_length_in_cm\": 51.0}, {\"stem_diam_bottom_in_cm\": 0.44, \"diam_top_in_cm\": 0.18, \"side_branches_in_cm\": 60.23, \"total_meja\": 0, \"tip_of_stem_broken\": 1, \"infested\": 0, \"total_number_adults\": 0, \"main_stem_length_in_cm\": 32.0}, {\"stem_diam_bottom_in_cm\": 0.52, \"diam_top_in_cm\": 0.12, \"side_branches_in_cm\": 60.23, \"total_meja\": 1, \"tip_of_stem_broken\": 0, \"infested\": 1, \"total_number_adults\": 1, \"main_stem_length_in_cm\": 51.0}, {\"stem_diam_bottom_in_cm\": 0.48, \"diam_top_in_cm\": 0.18, \"side_branches_in_cm\": 60.23, \"total_meja\": 0, \"tip_of_stem_broken\": 1, \"infested\": 0, \"total_number_adults\": 0, \"main_stem_length_in_cm\": 62.0}, {\"stem_diam_bottom_in_cm\": 0.85, \"diam_top_in_cm\": 0.18, \"side_branches_in_cm\": 60.23, \"total_meja\": 0, \"tip_of_stem_broken\": 0, \"infested\": 0, \"total_number_adults\": 0, \"main_stem_length_in_cm\": 94.0}, {\"stem_diam_bottom_in_cm\": 0.39, \"diam_top_in_cm\": 0.11, \"side_branches_in_cm\": 60.23, \"total_meja\": 1, \"tip_of_stem_broken\": 0, \"infested\": 1, \"total_number_adults\": 1, \"main_stem_length_in_cm\": 50.0}, {\"stem_diam_bottom_in_cm\": 0.63, \"diam_top_in_cm\": 0.18, \"side_branches_in_cm\": 60.23, \"total_meja\": 0, \"tip_of_stem_broken\": 1, \"infested\": 0, \"total_number_adults\": 0, \"main_stem_length_in_cm\": 61.0}, {\"stem_diam_bottom_in_cm\": 0.39, \"diam_top_in_cm\": 0.18, \"side_branches_in_cm\": 60.23, \"total_meja\": 0, \"tip_of_stem_broken\": 1, \"infested\": 0, \"total_number_adults\": 0, \"main_stem_length_in_cm\": 31.0}, {\"stem_diam_bottom_in_cm\": 0.56, \"diam_top_in_cm\": 0.18, \"side_branches_in_cm\": 60.23, \"total_meja\": 6, \"tip_of_stem_broken\": 0, \"infested\": 1, \"total_number_adults\": 0, \"main_stem_length_in_cm\": 66.0}, {\"stem_diam_bottom_in_cm\": 0.26, \"diam_top_in_cm\": 0.18, \"side_branches_in_cm\": 60.23, \"total_meja\": 0, \"tip_of_stem_broken\": 0, \"infested\": 0, \"total_number_adults\": 0, \"main_stem_length_in_cm\": 13.5}, {\"stem_diam_bottom_in_cm\": 0.44, \"diam_top_in_cm\": 0.18, \"side_branches_in_cm\": 60.23, \"total_meja\": 23, \"tip_of_stem_broken\": 1, \"infested\": 1, \"total_number_adults\": 23, \"main_stem_length_in_cm\": 51.0}, {\"stem_diam_bottom_in_cm\": 0.68, \"diam_top_in_cm\": 0.18, \"side_branches_in_cm\": 60.23, \"total_meja\": 15, \"tip_of_stem_broken\": 1, \"infested\": 1, \"total_number_adults\": 14, \"main_stem_length_in_cm\": 43.0}, {\"stem_diam_bottom_in_cm\": 0.4, \"diam_top_in_cm\": 0.21, \"side_branches_in_cm\": 60.23, \"total_meja\": 22, \"tip_of_stem_broken\": 1, \"infested\": 1, \"total_number_adults\": 20, \"main_stem_length_in_cm\": 41.0}, {\"stem_diam_bottom_in_cm\": 0.66, \"diam_top_in_cm\": 0.18, \"side_branches_in_cm\": 60.23, \"total_meja\": 17, \"tip_of_stem_broken\": 0, \"infested\": 1, \"total_number_adults\": 0, \"main_stem_length_in_cm\": 74.0}, {\"stem_diam_bottom_in_cm\": 0.46, \"diam_top_in_cm\": 0.12, \"side_branches_in_cm\": 60.23, \"total_meja\": 9, \"tip_of_stem_broken\": 0, \"infested\": 1, \"total_number_adults\": 7, \"main_stem_length_in_cm\": 31.0}, {\"stem_diam_bottom_in_cm\": 0.49, \"diam_top_in_cm\": 0.38, \"side_branches_in_cm\": 60.23, \"total_meja\": 8, \"tip_of_stem_broken\": 1, \"infested\": 1, \"total_number_adults\": 0, \"main_stem_length_in_cm\": 38.0}, {\"stem_diam_bottom_in_cm\": 0.47, \"diam_top_in_cm\": 0.18, \"side_branches_in_cm\": 60.23, \"total_meja\": 0, \"tip_of_stem_broken\": 0, \"infested\": 0, \"total_number_adults\": 0, \"main_stem_length_in_cm\": 79.0}, {\"stem_diam_bottom_in_cm\": 0.25, \"diam_top_in_cm\": 0.18, \"side_branches_in_cm\": 60.23, \"total_meja\": 0, \"tip_of_stem_broken\": 0, \"infested\": 0, \"total_number_adults\": 0, \"main_stem_length_in_cm\": 16.5}, {\"stem_diam_bottom_in_cm\": 0.56, \"diam_top_in_cm\": 0.26, \"side_branches_in_cm\": 60.23, \"total_meja\": 13, \"tip_of_stem_broken\": 1, \"infested\": 1, \"total_number_adults\": 13, \"main_stem_length_in_cm\": 46.0}, {\"stem_diam_bottom_in_cm\": 0.34, \"diam_top_in_cm\": 0.03, \"side_branches_in_cm\": 60.23, \"total_meja\": 1, \"tip_of_stem_broken\": 0, \"infested\": 1, \"total_number_adults\": 1, \"main_stem_length_in_cm\": 56.0}, {\"stem_diam_bottom_in_cm\": 0.45, \"diam_top_in_cm\": 0.18, \"side_branches_in_cm\": 60.23, \"total_meja\": 0, \"tip_of_stem_broken\": 1, \"infested\": 0, \"total_number_adults\": 0, \"main_stem_length_in_cm\": 38.0}, {\"stem_diam_bottom_in_cm\": 0.72, \"diam_top_in_cm\": 0.21, \"side_branches_in_cm\": 60.23, \"total_meja\": 1, \"tip_of_stem_broken\": 1, \"infested\": 1, \"total_number_adults\": 1, \"main_stem_length_in_cm\": 51.0}, {\"stem_diam_bottom_in_cm\": 0.47, \"diam_top_in_cm\": 0.18, \"side_branches_in_cm\": 60.23, \"total_meja\": 0, \"tip_of_stem_broken\": 0, \"infested\": 0, \"total_number_adults\": 0, \"main_stem_length_in_cm\": 65.0}, {\"stem_diam_bottom_in_cm\": 0.55, \"diam_top_in_cm\": 0.18, \"side_branches_in_cm\": 60.23, \"total_meja\": 0, \"tip_of_stem_broken\": 1, \"infested\": 0, \"total_number_adults\": 0, \"main_stem_length_in_cm\": 64.0}, {\"stem_diam_bottom_in_cm\": 0.51, \"diam_top_in_cm\": 0.18, \"side_branches_in_cm\": 60.23, \"total_meja\": 2, \"tip_of_stem_broken\": 0, \"infested\": 1, \"total_number_adults\": 0, \"main_stem_length_in_cm\": 78.0}, {\"stem_diam_bottom_in_cm\": 0.58, \"diam_top_in_cm\": 0.18, \"side_branches_in_cm\": 60.23, \"total_meja\": 0, \"tip_of_stem_broken\": 1, \"infested\": 0, \"total_number_adults\": 0, \"main_stem_length_in_cm\": 84.0}, {\"stem_diam_bottom_in_cm\": 0.75, \"diam_top_in_cm\": 0.18, \"side_branches_in_cm\": 60.23, \"total_meja\": 14, \"tip_of_stem_broken\": 0, \"infested\": 1, \"total_number_adults\": 2, \"main_stem_length_in_cm\": 61.0}, {\"stem_diam_bottom_in_cm\": 0.37, \"diam_top_in_cm\": 0.18, \"side_branches_in_cm\": 60.23, \"total_meja\": 0, \"tip_of_stem_broken\": 1, \"infested\": 0, \"total_number_adults\": 0, \"main_stem_length_in_cm\": 60.0}, {\"stem_diam_bottom_in_cm\": 0.48, \"diam_top_in_cm\": 0.05, \"side_branches_in_cm\": 60.23, \"total_meja\": 0, \"tip_of_stem_broken\": 0, \"infested\": 0, \"total_number_adults\": 0, \"main_stem_length_in_cm\": 85.0}, {\"stem_diam_bottom_in_cm\": 0.34, \"diam_top_in_cm\": 0.11, \"side_branches_in_cm\": 60.23, \"total_meja\": 3, \"tip_of_stem_broken\": 1, \"infested\": 1, \"total_number_adults\": 3, \"main_stem_length_in_cm\": 67.0}, {\"stem_diam_bottom_in_cm\": 0.57, \"diam_top_in_cm\": 0.18, \"side_branches_in_cm\": 60.23, \"total_meja\": 0, \"tip_of_stem_broken\": 0, \"infested\": 0, \"total_number_adults\": 0, \"main_stem_length_in_cm\": 89.0}, {\"stem_diam_bottom_in_cm\": 0.77, \"diam_top_in_cm\": 0.18, \"side_branches_in_cm\": 60.23, \"total_meja\": 0, \"tip_of_stem_broken\": 0, \"infested\": 0, \"total_number_adults\": 0, \"main_stem_length_in_cm\": 79.0}, {\"stem_diam_bottom_in_cm\": 0.38, \"diam_top_in_cm\": 0.12, \"side_branches_in_cm\": 60.23, \"total_meja\": 20, \"tip_of_stem_broken\": 1, \"infested\": 1, \"total_number_adults\": 1, \"main_stem_length_in_cm\": 44.0}, {\"stem_diam_bottom_in_cm\": 0.37, \"diam_top_in_cm\": 0.18, \"side_branches_in_cm\": 60.23, \"total_meja\": 3, \"tip_of_stem_broken\": 0, \"infested\": 1, \"total_number_adults\": 0, \"main_stem_length_in_cm\": 54.0}, {\"stem_diam_bottom_in_cm\": 0.17, \"diam_top_in_cm\": 0.18, \"side_branches_in_cm\": 60.23, \"total_meja\": 0, \"tip_of_stem_broken\": 0, \"infested\": 0, \"total_number_adults\": 0, \"main_stem_length_in_cm\": 14.5}, {\"stem_diam_bottom_in_cm\": 0.73, \"diam_top_in_cm\": 0.18, \"side_branches_in_cm\": 60.23, \"total_meja\": 0, \"tip_of_stem_broken\": 1, \"infested\": 0, \"total_number_adults\": 0, \"main_stem_length_in_cm\": 58.0}, {\"stem_diam_bottom_in_cm\": 0.6, \"diam_top_in_cm\": 0.18, \"side_branches_in_cm\": 60.23, \"total_meja\": 0, \"tip_of_stem_broken\": 1, \"infested\": 0, \"total_number_adults\": 0, \"main_stem_length_in_cm\": 77.0}, {\"stem_diam_bottom_in_cm\": 0.62, \"diam_top_in_cm\": 0.09, \"side_branches_in_cm\": 60.23, \"total_meja\": 0, \"tip_of_stem_broken\": 1, \"infested\": 0, \"total_number_adults\": 0, \"main_stem_length_in_cm\": 58.0}, {\"stem_diam_bottom_in_cm\": 0.56, \"diam_top_in_cm\": 0.18, \"side_branches_in_cm\": 60.23, \"total_meja\": 10, \"tip_of_stem_broken\": 0, \"infested\": 1, \"total_number_adults\": 1, \"main_stem_length_in_cm\": 61.0}, {\"stem_diam_bottom_in_cm\": 0.16, \"diam_top_in_cm\": 0.18, \"side_branches_in_cm\": 60.23, \"total_meja\": 0, \"tip_of_stem_broken\": 0, \"infested\": 0, \"total_number_adults\": 0, \"main_stem_length_in_cm\": 8.5}, {\"stem_diam_bottom_in_cm\": 0.44, \"diam_top_in_cm\": 0.18, \"side_branches_in_cm\": 60.23, \"total_meja\": 7, \"tip_of_stem_broken\": 0, \"infested\": 1, \"total_number_adults\": 2, \"main_stem_length_in_cm\": 27.0}, {\"stem_diam_bottom_in_cm\": 0.35, \"diam_top_in_cm\": 0.18, \"side_branches_in_cm\": 60.23, \"total_meja\": 0, \"tip_of_stem_broken\": 1, \"infested\": 0, \"total_number_adults\": 0, \"main_stem_length_in_cm\": 17.0}, {\"stem_diam_bottom_in_cm\": 0.43, \"diam_top_in_cm\": 0.18, \"side_branches_in_cm\": 60.23, \"total_meja\": 0, \"tip_of_stem_broken\": 0, \"infested\": 0, \"total_number_adults\": 0, \"main_stem_length_in_cm\": 39.0}, {\"stem_diam_bottom_in_cm\": 0.52, \"diam_top_in_cm\": 0.18, \"side_branches_in_cm\": 60.23, \"total_meja\": 3, \"tip_of_stem_broken\": 0, \"infested\": 1, \"total_number_adults\": 0, \"main_stem_length_in_cm\": 61.0}, {\"stem_diam_bottom_in_cm\": 0.53, \"diam_top_in_cm\": 0.21, \"side_branches_in_cm\": 60.23, \"total_meja\": 27, \"tip_of_stem_broken\": 1, \"infested\": 1, \"total_number_adults\": 21, \"main_stem_length_in_cm\": 38.0}, {\"stem_diam_bottom_in_cm\": 0.47, \"diam_top_in_cm\": 0.18, \"side_branches_in_cm\": 60.23, \"total_meja\": 0, \"tip_of_stem_broken\": 1, \"infested\": 0, \"total_number_adults\": 0, \"main_stem_length_in_cm\": 61.0}, {\"stem_diam_bottom_in_cm\": 0.94, \"diam_top_in_cm\": 0.3, \"side_branches_in_cm\": 60.23, \"total_meja\": 9, \"tip_of_stem_broken\": 1, \"infested\": 1, \"total_number_adults\": 0, \"main_stem_length_in_cm\": 77.0}, {\"stem_diam_bottom_in_cm\": 0.41, \"diam_top_in_cm\": 0.04, \"side_branches_in_cm\": 60.23, \"total_meja\": 4, \"tip_of_stem_broken\": 1, \"infested\": 1, \"total_number_adults\": 4, \"main_stem_length_in_cm\": 64.0}, {\"stem_diam_bottom_in_cm\": 0.6, \"diam_top_in_cm\": 0.36, \"side_branches_in_cm\": 60.23, \"total_meja\": 29, \"tip_of_stem_broken\": 1, \"infested\": 1, \"total_number_adults\": 26, \"main_stem_length_in_cm\": 36.0}, {\"stem_diam_bottom_in_cm\": 0.48, \"diam_top_in_cm\": 0.18, \"side_branches_in_cm\": 20.0, \"total_meja\": 4, \"tip_of_stem_broken\": 0, \"infested\": 1, \"total_number_adults\": 0, \"main_stem_length_in_cm\": 62.0}, {\"stem_diam_bottom_in_cm\": 0.48, \"diam_top_in_cm\": 0.2, \"side_branches_in_cm\": 60.23, \"total_meja\": 7, \"tip_of_stem_broken\": 1, \"infested\": 1, \"total_number_adults\": 3, \"main_stem_length_in_cm\": 31.0}, {\"stem_diam_bottom_in_cm\": 0.23, \"diam_top_in_cm\": 0.18, \"side_branches_in_cm\": 60.23, \"total_meja\": 0, \"tip_of_stem_broken\": 0, \"infested\": 0, \"total_number_adults\": 0, \"main_stem_length_in_cm\": 24.0}, {\"stem_diam_bottom_in_cm\": 0.78, \"diam_top_in_cm\": 0.18, \"side_branches_in_cm\": 60.23, \"total_meja\": 7, \"tip_of_stem_broken\": 0, \"infested\": 1, \"total_number_adults\": 0, \"main_stem_length_in_cm\": 75.0}, {\"stem_diam_bottom_in_cm\": 0.58, \"diam_top_in_cm\": 0.35, \"side_branches_in_cm\": 60.23, \"total_meja\": 1, \"tip_of_stem_broken\": 1, \"infested\": 1, \"total_number_adults\": 0, \"main_stem_length_in_cm\": 62.0}, {\"stem_diam_bottom_in_cm\": 0.49, \"diam_top_in_cm\": 0.18, \"side_branches_in_cm\": 60.23, \"total_meja\": 0, \"tip_of_stem_broken\": 0, \"infested\": 0, \"total_number_adults\": 0, \"main_stem_length_in_cm\": 54.0}, {\"stem_diam_bottom_in_cm\": 0.42, \"diam_top_in_cm\": 0.18, \"side_branches_in_cm\": 60.23, \"total_meja\": 0, \"tip_of_stem_broken\": 0, \"infested\": 0, \"total_number_adults\": 0, \"main_stem_length_in_cm\": 74.0}, {\"stem_diam_bottom_in_cm\": 0.69, \"diam_top_in_cm\": 0.18, \"side_branches_in_cm\": 60.23, \"total_meja\": 0, \"tip_of_stem_broken\": 0, \"infested\": 0, \"total_number_adults\": 0, \"main_stem_length_in_cm\": 86.0}, {\"stem_diam_bottom_in_cm\": 0.47, \"diam_top_in_cm\": 0.18, \"side_branches_in_cm\": 60.23, \"total_meja\": 0, \"tip_of_stem_broken\": 1, \"infested\": 0, \"total_number_adults\": 0, \"main_stem_length_in_cm\": 34.0}, {\"stem_diam_bottom_in_cm\": 0.18, \"diam_top_in_cm\": 0.18, \"side_branches_in_cm\": 60.23, \"total_meja\": 0, \"tip_of_stem_broken\": 0, \"infested\": 0, \"total_number_adults\": 0, \"main_stem_length_in_cm\": 12.0}, {\"stem_diam_bottom_in_cm\": 0.5, \"diam_top_in_cm\": 0.27, \"side_branches_in_cm\": 60.23, \"total_meja\": 23, \"tip_of_stem_broken\": 1, \"infested\": 1, \"total_number_adults\": 23, \"main_stem_length_in_cm\": 48.0}, {\"stem_diam_bottom_in_cm\": 0.47, \"diam_top_in_cm\": 0.09, \"side_branches_in_cm\": 60.23, \"total_meja\": 0, \"tip_of_stem_broken\": 0, \"infested\": 0, \"total_number_adults\": 0, \"main_stem_length_in_cm\": 88.0}, {\"stem_diam_bottom_in_cm\": 0.72, \"diam_top_in_cm\": 0.16, \"side_branches_in_cm\": 60.23, \"total_meja\": 0, \"tip_of_stem_broken\": 1, \"infested\": 0, \"total_number_adults\": 0, \"main_stem_length_in_cm\": 58.0}, {\"stem_diam_bottom_in_cm\": 0.48, \"diam_top_in_cm\": 0.09, \"side_branches_in_cm\": 60.23, \"total_meja\": 0, \"tip_of_stem_broken\": 1, \"infested\": 0, \"total_number_adults\": 0, \"main_stem_length_in_cm\": 83.0}, {\"stem_diam_bottom_in_cm\": 0.49, \"diam_top_in_cm\": 0.18, \"side_branches_in_cm\": 13.0, \"total_meja\": 0, \"tip_of_stem_broken\": 1, \"infested\": 0, \"total_number_adults\": 0, \"main_stem_length_in_cm\": 49.0}, {\"stem_diam_bottom_in_cm\": 0.53, \"diam_top_in_cm\": 0.18, \"side_branches_in_cm\": 60.23, \"total_meja\": 0, \"tip_of_stem_broken\": 1, \"infested\": 0, \"total_number_adults\": 0, \"main_stem_length_in_cm\": 57.0}, {\"stem_diam_bottom_in_cm\": 0.48, \"diam_top_in_cm\": 0.18, \"side_branches_in_cm\": 60.23, \"total_meja\": 0, \"tip_of_stem_broken\": 1, \"infested\": 0, \"total_number_adults\": 0, \"main_stem_length_in_cm\": 49.0}, {\"stem_diam_bottom_in_cm\": 0.48, \"diam_top_in_cm\": 0.12, \"side_branches_in_cm\": 60.23, \"total_meja\": 5, \"tip_of_stem_broken\": 0, \"infested\": 1, \"total_number_adults\": 3, \"main_stem_length_in_cm\": 50.0}, {\"stem_diam_bottom_in_cm\": 0.4, \"diam_top_in_cm\": 0.18, \"side_branches_in_cm\": 66.0, \"total_meja\": 0, \"tip_of_stem_broken\": 1, \"infested\": 0, \"total_number_adults\": 0, \"main_stem_length_in_cm\": 24.0}, {\"stem_diam_bottom_in_cm\": 0.3, \"diam_top_in_cm\": 0.18, \"side_branches_in_cm\": 60.23, \"total_meja\": 0, \"tip_of_stem_broken\": 1, \"infested\": 0, \"total_number_adults\": 0, \"main_stem_length_in_cm\": 36.0}, {\"stem_diam_bottom_in_cm\": 0.19, \"diam_top_in_cm\": 0.18, \"side_branches_in_cm\": 60.23, \"total_meja\": 0, \"tip_of_stem_broken\": 0, \"infested\": 0, \"total_number_adults\": 0, \"main_stem_length_in_cm\": 19.0}, {\"stem_diam_bottom_in_cm\": 0.51, \"diam_top_in_cm\": 0.22, \"side_branches_in_cm\": 60.23, \"total_meja\": 18, \"tip_of_stem_broken\": 1, \"infested\": 1, \"total_number_adults\": 4, \"main_stem_length_in_cm\": 48.0}, {\"stem_diam_bottom_in_cm\": 0.66, \"diam_top_in_cm\": 0.18, \"side_branches_in_cm\": 60.23, \"total_meja\": 0, \"tip_of_stem_broken\": 1, \"infested\": 0, \"total_number_adults\": 0, \"main_stem_length_in_cm\": 52.0}, {\"stem_diam_bottom_in_cm\": 0.35, \"diam_top_in_cm\": 0.25, \"side_branches_in_cm\": 60.23, \"total_meja\": 0, \"tip_of_stem_broken\": 1, \"infested\": 0, \"total_number_adults\": 0, \"main_stem_length_in_cm\": 41.0}, {\"stem_diam_bottom_in_cm\": 0.68, \"diam_top_in_cm\": 0.18, \"side_branches_in_cm\": 60.23, \"total_meja\": 0, \"tip_of_stem_broken\": 0, \"infested\": 0, \"total_number_adults\": 0, \"main_stem_length_in_cm\": 82.0}, {\"stem_diam_bottom_in_cm\": 0.35, \"diam_top_in_cm\": 0.18, \"side_branches_in_cm\": 60.23, \"total_meja\": 13, \"tip_of_stem_broken\": 1, \"infested\": 1, \"total_number_adults\": 11, \"main_stem_length_in_cm\": 40.5}, {\"stem_diam_bottom_in_cm\": 0.5, \"diam_top_in_cm\": 0.16, \"side_branches_in_cm\": 60.23, \"total_meja\": 21, \"tip_of_stem_broken\": 0, \"infested\": 1, \"total_number_adults\": 17, \"main_stem_length_in_cm\": 33.0}, {\"stem_diam_bottom_in_cm\": 1.08, \"diam_top_in_cm\": 0.18, \"side_branches_in_cm\": 60.23, \"total_meja\": 0, \"tip_of_stem_broken\": 1, \"infested\": 0, \"total_number_adults\": 0, \"main_stem_length_in_cm\": 10.0}, {\"stem_diam_bottom_in_cm\": 0.68, \"diam_top_in_cm\": 0.18, \"side_branches_in_cm\": 60.23, \"total_meja\": 2, \"tip_of_stem_broken\": 0, \"infested\": 1, \"total_number_adults\": 1, \"main_stem_length_in_cm\": 97.0}, {\"stem_diam_bottom_in_cm\": 0.52, \"diam_top_in_cm\": 0.18, \"side_branches_in_cm\": 60.23, \"total_meja\": 0, \"tip_of_stem_broken\": 1, \"infested\": 0, \"total_number_adults\": 0, \"main_stem_length_in_cm\": 50.0}, {\"stem_diam_bottom_in_cm\": 0.55, \"diam_top_in_cm\": 0.18, \"side_branches_in_cm\": 60.23, \"total_meja\": 22, \"tip_of_stem_broken\": 0, \"infested\": 1, \"total_number_adults\": 4, \"main_stem_length_in_cm\": 60.0}, {\"stem_diam_bottom_in_cm\": 0.51, \"diam_top_in_cm\": 0.22, \"side_branches_in_cm\": 60.23, \"total_meja\": 7, \"tip_of_stem_broken\": 0, \"infested\": 1, \"total_number_adults\": 6, \"main_stem_length_in_cm\": 39.0}, {\"stem_diam_bottom_in_cm\": 0.51, \"diam_top_in_cm\": 0.18, \"side_branches_in_cm\": 60.23, \"total_meja\": 34, \"tip_of_stem_broken\": 0, \"infested\": 1, \"total_number_adults\": 3, \"main_stem_length_in_cm\": 66.0}, {\"stem_diam_bottom_in_cm\": 0.39, \"diam_top_in_cm\": 0.05, \"side_branches_in_cm\": 60.23, \"total_meja\": 0, \"tip_of_stem_broken\": 0, \"infested\": 0, \"total_number_adults\": 0, \"main_stem_length_in_cm\": 51.0}, {\"stem_diam_bottom_in_cm\": 0.41, \"diam_top_in_cm\": 0.2, \"side_branches_in_cm\": 60.23, \"total_meja\": 21, \"tip_of_stem_broken\": 0, \"infested\": 1, \"total_number_adults\": 15, \"main_stem_length_in_cm\": 36.0}, {\"stem_diam_bottom_in_cm\": 0.8, \"diam_top_in_cm\": 0.04, \"side_branches_in_cm\": 60.23, \"total_meja\": 0, \"tip_of_stem_broken\": 0, \"infested\": 0, \"total_number_adults\": 0, \"main_stem_length_in_cm\": 98.0}, {\"stem_diam_bottom_in_cm\": 0.57, \"diam_top_in_cm\": 0.18, \"side_branches_in_cm\": 60.23, \"total_meja\": 0, \"tip_of_stem_broken\": 0, \"infested\": 0, \"total_number_adults\": 0, \"main_stem_length_in_cm\": 65.0}, {\"stem_diam_bottom_in_cm\": 0.21, \"diam_top_in_cm\": 0.18, \"side_branches_in_cm\": 60.23, \"total_meja\": 0, \"tip_of_stem_broken\": 0, \"infested\": 0, \"total_number_adults\": 0, \"main_stem_length_in_cm\": 13.0}, {\"stem_diam_bottom_in_cm\": 0.33, \"diam_top_in_cm\": 0.08, \"side_branches_in_cm\": 60.23, \"total_meja\": 3, \"tip_of_stem_broken\": 1, \"infested\": 1, \"total_number_adults\": 3, \"main_stem_length_in_cm\": 53.0}, {\"stem_diam_bottom_in_cm\": 0.38, \"diam_top_in_cm\": 0.15, \"side_branches_in_cm\": 60.23, \"total_meja\": 20, \"tip_of_stem_broken\": 0, \"infested\": 1, \"total_number_adults\": 20, \"main_stem_length_in_cm\": 31.5}, {\"stem_diam_bottom_in_cm\": 0.4, \"diam_top_in_cm\": 0.15, \"side_branches_in_cm\": 60.23, \"total_meja\": 1, \"tip_of_stem_broken\": 1, \"infested\": 1, \"total_number_adults\": 1, \"main_stem_length_in_cm\": 49.0}, {\"stem_diam_bottom_in_cm\": 0.55, \"diam_top_in_cm\": 0.19, \"side_branches_in_cm\": 60.23, \"total_meja\": 6, \"tip_of_stem_broken\": 1, \"infested\": 0, \"total_number_adults\": 5, \"main_stem_length_in_cm\": 36.0}, {\"stem_diam_bottom_in_cm\": 0.55, \"diam_top_in_cm\": 0.42, \"side_branches_in_cm\": 60.23, \"total_meja\": 8, \"tip_of_stem_broken\": 1, \"infested\": 1, \"total_number_adults\": 3, \"main_stem_length_in_cm\": 40.0}, {\"stem_diam_bottom_in_cm\": 0.5, \"diam_top_in_cm\": 0.11, \"side_branches_in_cm\": 60.23, \"total_meja\": 48, \"tip_of_stem_broken\": 1, \"infested\": 1, \"total_number_adults\": 48, \"main_stem_length_in_cm\": 59.0}, {\"stem_diam_bottom_in_cm\": 0.77, \"diam_top_in_cm\": 0.18, \"side_branches_in_cm\": 60.23, \"total_meja\": 33, \"tip_of_stem_broken\": 0, \"infested\": 1, \"total_number_adults\": 5, \"main_stem_length_in_cm\": 132.0}, {\"stem_diam_bottom_in_cm\": 0.38, \"diam_top_in_cm\": 0.18, \"side_branches_in_cm\": 60.23, \"total_meja\": 3, \"tip_of_stem_broken\": 0, \"infested\": 1, \"total_number_adults\": 0, \"main_stem_length_in_cm\": 46.0}, {\"stem_diam_bottom_in_cm\": 0.51, \"diam_top_in_cm\": 0.18, \"side_branches_in_cm\": 60.23, \"total_meja\": 0, \"tip_of_stem_broken\": 0, \"infested\": 0, \"total_number_adults\": 0, \"main_stem_length_in_cm\": 62.0}, {\"stem_diam_bottom_in_cm\": 0.32, \"diam_top_in_cm\": 0.18, \"side_branches_in_cm\": 60.23, \"total_meja\": 0, \"tip_of_stem_broken\": 1, \"infested\": 0, \"total_number_adults\": 0, \"main_stem_length_in_cm\": 41.0}, {\"stem_diam_bottom_in_cm\": 0.24, \"diam_top_in_cm\": 0.18, \"side_branches_in_cm\": 60.23, \"total_meja\": 0, \"tip_of_stem_broken\": 0, \"infested\": 0, \"total_number_adults\": 0, \"main_stem_length_in_cm\": 30.0}, {\"stem_diam_bottom_in_cm\": 0.45, \"diam_top_in_cm\": 0.06, \"side_branches_in_cm\": 60.23, \"total_meja\": 4, \"tip_of_stem_broken\": 0, \"infested\": 1, \"total_number_adults\": 1, \"main_stem_length_in_cm\": 76.0}, {\"stem_diam_bottom_in_cm\": 0.47, \"diam_top_in_cm\": 0.18, \"side_branches_in_cm\": 60.23, \"total_meja\": 39, \"tip_of_stem_broken\": 0, \"infested\": 1, \"total_number_adults\": 9, \"main_stem_length_in_cm\": 47.0}, {\"stem_diam_bottom_in_cm\": 0.93, \"diam_top_in_cm\": 0.29, \"side_branches_in_cm\": 60.23, \"total_meja\": 0, \"tip_of_stem_broken\": 1, \"infested\": 0, \"total_number_adults\": 0, \"main_stem_length_in_cm\": 87.0}, {\"stem_diam_bottom_in_cm\": 0.28, \"diam_top_in_cm\": 0.18, \"side_branches_in_cm\": 60.23, \"total_meja\": 0, \"tip_of_stem_broken\": 0, \"infested\": 0, \"total_number_adults\": 0, \"main_stem_length_in_cm\": 14.5}, {\"stem_diam_bottom_in_cm\": 1.12, \"diam_top_in_cm\": 0.18, \"side_branches_in_cm\": 60.23, \"total_meja\": 2, \"tip_of_stem_broken\": 1, \"infested\": 1, \"total_number_adults\": 1, \"main_stem_length_in_cm\": 88.0}, {\"stem_diam_bottom_in_cm\": 0.42, \"diam_top_in_cm\": 0.08, \"side_branches_in_cm\": 60.23, \"total_meja\": 4, \"tip_of_stem_broken\": 0, \"infested\": 1, \"total_number_adults\": 4, \"main_stem_length_in_cm\": 72.0}, {\"stem_diam_bottom_in_cm\": 0.59, \"diam_top_in_cm\": 0.18, \"side_branches_in_cm\": 60.23, \"total_meja\": 0, \"tip_of_stem_broken\": 0, \"infested\": 0, \"total_number_adults\": 0, \"main_stem_length_in_cm\": 51.0}, {\"stem_diam_bottom_in_cm\": 0.49, \"diam_top_in_cm\": 0.18, \"side_branches_in_cm\": 60.23, \"total_meja\": 0, \"tip_of_stem_broken\": 1, \"infested\": 0, \"total_number_adults\": 0, \"main_stem_length_in_cm\": 32.0}, {\"stem_diam_bottom_in_cm\": 0.65, \"diam_top_in_cm\": 0.18, \"side_branches_in_cm\": 60.23, \"total_meja\": 0, \"tip_of_stem_broken\": 0, \"infested\": 0, \"total_number_adults\": 0, \"main_stem_length_in_cm\": 77.0}, {\"stem_diam_bottom_in_cm\": 0.54, \"diam_top_in_cm\": 0.16, \"side_branches_in_cm\": 60.23, \"total_meja\": 17, \"tip_of_stem_broken\": 0, \"infested\": 1, \"total_number_adults\": 13, \"main_stem_length_in_cm\": 38.0}, {\"stem_diam_bottom_in_cm\": 0.77, \"diam_top_in_cm\": 0.18, \"side_branches_in_cm\": 60.23, \"total_meja\": 0, \"tip_of_stem_broken\": 0, \"infested\": 0, \"total_number_adults\": 0, \"main_stem_length_in_cm\": 57.0}, {\"stem_diam_bottom_in_cm\": 0.29, \"diam_top_in_cm\": 0.18, \"side_branches_in_cm\": 60.23, \"total_meja\": 0, \"tip_of_stem_broken\": 0, \"infested\": 0, \"total_number_adults\": 0, \"main_stem_length_in_cm\": 19.5}, {\"stem_diam_bottom_in_cm\": 0.31, \"diam_top_in_cm\": 0.13, \"side_branches_in_cm\": 60.23, \"total_meja\": 0, \"tip_of_stem_broken\": 1, \"infested\": 0, \"total_number_adults\": 0, \"main_stem_length_in_cm\": 45.0}, {\"stem_diam_bottom_in_cm\": 0.85, \"diam_top_in_cm\": 0.38, \"side_branches_in_cm\": 60.23, \"total_meja\": 28, \"tip_of_stem_broken\": 1, \"infested\": 1, \"total_number_adults\": 28, \"main_stem_length_in_cm\": 49.0}, {\"stem_diam_bottom_in_cm\": 0.33, \"diam_top_in_cm\": 0.03, \"side_branches_in_cm\": 60.23, \"total_meja\": 0, \"tip_of_stem_broken\": 0, \"infested\": 0, \"total_number_adults\": 0, \"main_stem_length_in_cm\": 46.0}, {\"stem_diam_bottom_in_cm\": 0.15, \"diam_top_in_cm\": 0.18, \"side_branches_in_cm\": 60.23, \"total_meja\": 0, \"tip_of_stem_broken\": 0, \"infested\": 0, \"total_number_adults\": 0, \"main_stem_length_in_cm\": 11.0}, {\"stem_diam_bottom_in_cm\": 0.5, \"diam_top_in_cm\": 0.06, \"side_branches_in_cm\": 60.23, \"total_meja\": 7, \"tip_of_stem_broken\": 0, \"infested\": 1, \"total_number_adults\": 7, \"main_stem_length_in_cm\": 57.0}, {\"stem_diam_bottom_in_cm\": 0.81, \"diam_top_in_cm\": 0.18, \"side_branches_in_cm\": 60.23, \"total_meja\": 14, \"tip_of_stem_broken\": 1, \"infested\": 1, \"total_number_adults\": 9, \"main_stem_length_in_cm\": 44.0}, {\"stem_diam_bottom_in_cm\": 0.45, \"diam_top_in_cm\": 0.1, \"side_branches_in_cm\": 60.23, \"total_meja\": 13, \"tip_of_stem_broken\": 0, \"infested\": 1, \"total_number_adults\": 13, \"main_stem_length_in_cm\": 38.5}, {\"stem_diam_bottom_in_cm\": 0.48, \"diam_top_in_cm\": 0.18, \"side_branches_in_cm\": 60.23, \"total_meja\": 0, \"tip_of_stem_broken\": 1, \"infested\": 0, \"total_number_adults\": 0, \"main_stem_length_in_cm\": 49.0}, {\"stem_diam_bottom_in_cm\": 0.52, \"diam_top_in_cm\": 0.27, \"side_branches_in_cm\": 60.23, \"total_meja\": 11, \"tip_of_stem_broken\": 1, \"infested\": 1, \"total_number_adults\": 10, \"main_stem_length_in_cm\": 32.0}, {\"stem_diam_bottom_in_cm\": 0.74, \"diam_top_in_cm\": 0.18, \"side_branches_in_cm\": 222.0, \"total_meja\": 0, \"tip_of_stem_broken\": 1, \"infested\": 0, \"total_number_adults\": 0, \"main_stem_length_in_cm\": 30.0}, {\"stem_diam_bottom_in_cm\": 0.22, \"diam_top_in_cm\": 0.18, \"side_branches_in_cm\": 60.23, \"total_meja\": 0, \"tip_of_stem_broken\": 0, \"infested\": 0, \"total_number_adults\": 0, \"main_stem_length_in_cm\": 10.5}, {\"stem_diam_bottom_in_cm\": 0.7, \"diam_top_in_cm\": 0.18, \"side_branches_in_cm\": 60.23, \"total_meja\": 9, \"tip_of_stem_broken\": 0, \"infested\": 1, \"total_number_adults\": 0, \"main_stem_length_in_cm\": 60.0}, {\"stem_diam_bottom_in_cm\": 0.24, \"diam_top_in_cm\": 0.18, \"side_branches_in_cm\": 60.23, \"total_meja\": 0, \"tip_of_stem_broken\": 0, \"infested\": 0, \"total_number_adults\": 0, \"main_stem_length_in_cm\": 5.0}, {\"stem_diam_bottom_in_cm\": 0.5, \"diam_top_in_cm\": 0.14, \"side_branches_in_cm\": 60.23, \"total_meja\": 6, \"tip_of_stem_broken\": 1, \"infested\": 1, \"total_number_adults\": 6, \"main_stem_length_in_cm\": 69.0}, {\"stem_diam_bottom_in_cm\": 0.37, \"diam_top_in_cm\": 0.18, \"side_branches_in_cm\": 60.23, \"total_meja\": 1, \"tip_of_stem_broken\": 0, \"infested\": 1, \"total_number_adults\": 0, \"main_stem_length_in_cm\": 34.0}, {\"stem_diam_bottom_in_cm\": 0.63, \"diam_top_in_cm\": 0.18, \"side_branches_in_cm\": 60.23, \"total_meja\": 0, \"tip_of_stem_broken\": 0, \"infested\": 0, \"total_number_adults\": 0, \"main_stem_length_in_cm\": 100.0}, {\"stem_diam_bottom_in_cm\": 0.21, \"diam_top_in_cm\": 0.18, \"side_branches_in_cm\": 60.23, \"total_meja\": 0, \"tip_of_stem_broken\": 0, \"infested\": 0, \"total_number_adults\": 0, \"main_stem_length_in_cm\": 15.0}, {\"stem_diam_bottom_in_cm\": 0.52, \"diam_top_in_cm\": 0.18, \"side_branches_in_cm\": 60.23, \"total_meja\": 37, \"tip_of_stem_broken\": 0, \"infested\": 1, \"total_number_adults\": 8, \"main_stem_length_in_cm\": 67.0}, {\"stem_diam_bottom_in_cm\": 0.65, \"diam_top_in_cm\": 0.54, \"side_branches_in_cm\": 60.23, \"total_meja\": 0, \"tip_of_stem_broken\": 1, \"infested\": 0, \"total_number_adults\": 0, \"main_stem_length_in_cm\": 54.0}, {\"stem_diam_bottom_in_cm\": 0.18, \"diam_top_in_cm\": 0.18, \"side_branches_in_cm\": 60.23, \"total_meja\": 0, \"tip_of_stem_broken\": 0, \"infested\": 0, \"total_number_adults\": 0, \"main_stem_length_in_cm\": 6.5}, {\"stem_diam_bottom_in_cm\": 0.67, \"diam_top_in_cm\": 0.18, \"side_branches_in_cm\": 60.23, \"total_meja\": 0, \"tip_of_stem_broken\": 1, \"infested\": 0, \"total_number_adults\": 0, \"main_stem_length_in_cm\": 56.0}, {\"stem_diam_bottom_in_cm\": 0.69, \"diam_top_in_cm\": 0.28, \"side_branches_in_cm\": 60.23, \"total_meja\": 53, \"tip_of_stem_broken\": 1, \"infested\": 1, \"total_number_adults\": 53, \"main_stem_length_in_cm\": 41.0}, {\"stem_diam_bottom_in_cm\": 0.58, \"diam_top_in_cm\": 0.32, \"side_branches_in_cm\": 60.23, \"total_meja\": 8, \"tip_of_stem_broken\": 1, \"infested\": 1, \"total_number_adults\": 1, \"main_stem_length_in_cm\": 49.0}, {\"stem_diam_bottom_in_cm\": 0.49, \"diam_top_in_cm\": 0.11, \"side_branches_in_cm\": 60.23, \"total_meja\": 0, \"tip_of_stem_broken\": 0, \"infested\": 0, \"total_number_adults\": 0, \"main_stem_length_in_cm\": 54.0}, {\"stem_diam_bottom_in_cm\": 0.71, \"diam_top_in_cm\": 0.18, \"side_branches_in_cm\": 43.0, \"total_meja\": 0, \"tip_of_stem_broken\": 0, \"infested\": 0, \"total_number_adults\": 0, \"main_stem_length_in_cm\": 98.0}, {\"stem_diam_bottom_in_cm\": 0.21, \"diam_top_in_cm\": 0.18, \"side_branches_in_cm\": 60.23, \"total_meja\": 0, \"tip_of_stem_broken\": 0, \"infested\": 0, \"total_number_adults\": 0, \"main_stem_length_in_cm\": 11.0}, {\"stem_diam_bottom_in_cm\": 0.33, \"diam_top_in_cm\": 0.12, \"side_branches_in_cm\": 60.23, \"total_meja\": 8, \"tip_of_stem_broken\": 0, \"infested\": 1, \"total_number_adults\": 8, \"main_stem_length_in_cm\": 30.0}, {\"stem_diam_bottom_in_cm\": 0.3, \"diam_top_in_cm\": 0.18, \"side_branches_in_cm\": 60.23, \"total_meja\": 0, \"tip_of_stem_broken\": 1, \"infested\": 0, \"total_number_adults\": 0, \"main_stem_length_in_cm\": 27.0}, {\"stem_diam_bottom_in_cm\": 0.51, \"diam_top_in_cm\": 0.18, \"side_branches_in_cm\": 60.23, \"total_meja\": 5, \"tip_of_stem_broken\": 0, \"infested\": 1, \"total_number_adults\": 0, \"main_stem_length_in_cm\": 106.0}, {\"stem_diam_bottom_in_cm\": 0.3, \"diam_top_in_cm\": 0.18, \"side_branches_in_cm\": 60.23, \"total_meja\": 0, \"tip_of_stem_broken\": 0, \"infested\": 0, \"total_number_adults\": 0, \"main_stem_length_in_cm\": 13.5}, {\"stem_diam_bottom_in_cm\": 0.28, \"diam_top_in_cm\": 0.18, \"side_branches_in_cm\": 60.23, \"total_meja\": 0, \"tip_of_stem_broken\": 0, \"infested\": 0, \"total_number_adults\": 0, \"main_stem_length_in_cm\": 17.0}, {\"stem_diam_bottom_in_cm\": 0.33, \"diam_top_in_cm\": 0.18, \"side_branches_in_cm\": 60.23, \"total_meja\": 12, \"tip_of_stem_broken\": 1, \"infested\": 1, \"total_number_adults\": 12, \"main_stem_length_in_cm\": 29.0}, {\"stem_diam_bottom_in_cm\": 0.88, \"diam_top_in_cm\": 0.18, \"side_branches_in_cm\": 23.0, \"total_meja\": 0, \"tip_of_stem_broken\": 1, \"infested\": 0, \"total_number_adults\": 0, \"main_stem_length_in_cm\": 68.0}, {\"stem_diam_bottom_in_cm\": 0.64, \"diam_top_in_cm\": 0.09, \"side_branches_in_cm\": 60.23, \"total_meja\": 0, \"tip_of_stem_broken\": 0, \"infested\": 0, \"total_number_adults\": 0, \"main_stem_length_in_cm\": 93.0}, {\"stem_diam_bottom_in_cm\": 0.49, \"diam_top_in_cm\": 0.1, \"side_branches_in_cm\": 60.23, \"total_meja\": 2, \"tip_of_stem_broken\": 1, \"infested\": 1, \"total_number_adults\": 2, \"main_stem_length_in_cm\": 68.0}, {\"stem_diam_bottom_in_cm\": 0.69, \"diam_top_in_cm\": 0.18, \"side_branches_in_cm\": 60.23, \"total_meja\": 1, \"tip_of_stem_broken\": 0, \"infested\": 1, \"total_number_adults\": 0, \"main_stem_length_in_cm\": 102.0}, {\"stem_diam_bottom_in_cm\": 0.74, \"diam_top_in_cm\": 0.19, \"side_branches_in_cm\": 60.23, \"total_meja\": 1, \"tip_of_stem_broken\": 1, \"infested\": 1, \"total_number_adults\": 0, \"main_stem_length_in_cm\": 35.0}, {\"stem_diam_bottom_in_cm\": 0.26, \"diam_top_in_cm\": 0.18, \"side_branches_in_cm\": 60.23, \"total_meja\": 0, \"tip_of_stem_broken\": 0, \"infested\": 0, \"total_number_adults\": 0, \"main_stem_length_in_cm\": 21.0}, {\"stem_diam_bottom_in_cm\": 0.59, \"diam_top_in_cm\": 0.18, \"side_branches_in_cm\": 60.23, \"total_meja\": 2, \"tip_of_stem_broken\": 0, \"infested\": 1, \"total_number_adults\": 0, \"main_stem_length_in_cm\": 76.0}, {\"stem_diam_bottom_in_cm\": 0.56, \"diam_top_in_cm\": 0.18, \"side_branches_in_cm\": 47.0, \"total_meja\": 0, \"tip_of_stem_broken\": 1, \"infested\": 0, \"total_number_adults\": 0, \"main_stem_length_in_cm\": 67.0}, {\"stem_diam_bottom_in_cm\": 0.27, \"diam_top_in_cm\": 0.18, \"side_branches_in_cm\": 60.23, \"total_meja\": 0, \"tip_of_stem_broken\": 0, \"infested\": 0, \"total_number_adults\": 0, \"main_stem_length_in_cm\": 20.5}, {\"stem_diam_bottom_in_cm\": 0.41, \"diam_top_in_cm\": 0.05, \"side_branches_in_cm\": 60.23, \"total_meja\": 0, \"tip_of_stem_broken\": 0, \"infested\": 0, \"total_number_adults\": 0, \"main_stem_length_in_cm\": 89.0}, {\"stem_diam_bottom_in_cm\": 0.47, \"diam_top_in_cm\": 0.18, \"side_branches_in_cm\": 60.23, \"total_meja\": 15, \"tip_of_stem_broken\": 0, \"infested\": 1, \"total_number_adults\": 0, \"main_stem_length_in_cm\": 45.0}, {\"stem_diam_bottom_in_cm\": 0.44, \"diam_top_in_cm\": 0.18, \"side_branches_in_cm\": 68.0, \"total_meja\": 0, \"tip_of_stem_broken\": 1, \"infested\": 0, \"total_number_adults\": 0, \"main_stem_length_in_cm\": 65.0}, {\"stem_diam_bottom_in_cm\": 0.17, \"diam_top_in_cm\": 0.18, \"side_branches_in_cm\": 60.23, \"total_meja\": 0, \"tip_of_stem_broken\": 0, \"infested\": 0, \"total_number_adults\": 0, \"main_stem_length_in_cm\": 10.5}, {\"stem_diam_bottom_in_cm\": 0.26, \"diam_top_in_cm\": 0.18, \"side_branches_in_cm\": 60.23, \"total_meja\": 0, \"tip_of_stem_broken\": 0, \"infested\": 0, \"total_number_adults\": 0, \"main_stem_length_in_cm\": 9.0}, {\"stem_diam_bottom_in_cm\": 0.52, \"diam_top_in_cm\": 0.31, \"side_branches_in_cm\": 60.23, \"total_meja\": 2, \"tip_of_stem_broken\": 1, \"infested\": 1, \"total_number_adults\": 1, \"main_stem_length_in_cm\": 52.5}, {\"stem_diam_bottom_in_cm\": 0.23, \"diam_top_in_cm\": 0.18, \"side_branches_in_cm\": 60.23, \"total_meja\": 0, \"tip_of_stem_broken\": 0, \"infested\": 0, \"total_number_adults\": 0, \"main_stem_length_in_cm\": 13.0}, {\"stem_diam_bottom_in_cm\": 0.25, \"diam_top_in_cm\": 0.18, \"side_branches_in_cm\": 60.23, \"total_meja\": 0, \"tip_of_stem_broken\": 0, \"infested\": 0, \"total_number_adults\": 0, \"main_stem_length_in_cm\": 12.5}, {\"stem_diam_bottom_in_cm\": 0.49, \"diam_top_in_cm\": 0.18, \"side_branches_in_cm\": 60.23, \"total_meja\": 14, \"tip_of_stem_broken\": 0, \"infested\": 1, \"total_number_adults\": 8, \"main_stem_length_in_cm\": 65.0}, {\"stem_diam_bottom_in_cm\": 0.47, \"diam_top_in_cm\": 0.18, \"side_branches_in_cm\": 60.23, \"total_meja\": 0, \"tip_of_stem_broken\": 1, \"infested\": 0, \"total_number_adults\": 0, \"main_stem_length_in_cm\": 28.0}, {\"stem_diam_bottom_in_cm\": 0.98, \"diam_top_in_cm\": 0.34, \"side_branches_in_cm\": 60.23, \"total_meja\": 18, \"tip_of_stem_broken\": 1, \"infested\": 1, \"total_number_adults\": 3, \"main_stem_length_in_cm\": 76.0}, {\"stem_diam_bottom_in_cm\": 0.72, \"diam_top_in_cm\": 0.18, \"side_branches_in_cm\": 60.23, \"total_meja\": 1, \"tip_of_stem_broken\": 0, \"infested\": 1, \"total_number_adults\": 0, \"main_stem_length_in_cm\": 99.0}, {\"stem_diam_bottom_in_cm\": 0.58, \"diam_top_in_cm\": 0.18, \"side_branches_in_cm\": 60.23, \"total_meja\": 0, \"tip_of_stem_broken\": 0, \"infested\": 0, \"total_number_adults\": 0, \"main_stem_length_in_cm\": 62.0}, {\"stem_diam_bottom_in_cm\": 0.32, \"diam_top_in_cm\": 0.12, \"side_branches_in_cm\": 60.23, \"total_meja\": 12, \"tip_of_stem_broken\": 1, \"infested\": 1, \"total_number_adults\": 12, \"main_stem_length_in_cm\": 24.0}, {\"stem_diam_bottom_in_cm\": 0.46, \"diam_top_in_cm\": 0.18, \"side_branches_in_cm\": 60.23, \"total_meja\": 0, \"tip_of_stem_broken\": 0, \"infested\": 0, \"total_number_adults\": 0, \"main_stem_length_in_cm\": 69.0}, {\"stem_diam_bottom_in_cm\": 0.45, \"diam_top_in_cm\": 0.11, \"side_branches_in_cm\": 60.23, \"total_meja\": 10, \"tip_of_stem_broken\": 0, \"infested\": 1, \"total_number_adults\": 10, \"main_stem_length_in_cm\": 42.0}, {\"stem_diam_bottom_in_cm\": 0.57, \"diam_top_in_cm\": 0.18, \"side_branches_in_cm\": 60.23, \"total_meja\": 0, \"tip_of_stem_broken\": 0, \"infested\": 0, \"total_number_adults\": 0, \"main_stem_length_in_cm\": 56.0}, {\"stem_diam_bottom_in_cm\": 0.49, \"diam_top_in_cm\": 0.18, \"side_branches_in_cm\": 60.23, \"total_meja\": 0, \"tip_of_stem_broken\": 0, \"infested\": 0, \"total_number_adults\": 0, \"main_stem_length_in_cm\": 62.0}, {\"stem_diam_bottom_in_cm\": 0.26, \"diam_top_in_cm\": 0.18, \"side_branches_in_cm\": 60.23, \"total_meja\": 0, \"tip_of_stem_broken\": 1, \"infested\": 0, \"total_number_adults\": 0, \"main_stem_length_in_cm\": 33.0}, {\"stem_diam_bottom_in_cm\": 0.61, \"diam_top_in_cm\": 0.13, \"side_branches_in_cm\": 60.23, \"total_meja\": 17, \"tip_of_stem_broken\": 1, \"infested\": 1, \"total_number_adults\": 10, \"main_stem_length_in_cm\": 62.5}, {\"stem_diam_bottom_in_cm\": 0.35, \"diam_top_in_cm\": 0.13, \"side_branches_in_cm\": 60.23, \"total_meja\": 16, \"tip_of_stem_broken\": 0, \"infested\": 1, \"total_number_adults\": 14, \"main_stem_length_in_cm\": 32.0}, {\"stem_diam_bottom_in_cm\": 0.43, \"diam_top_in_cm\": 0.18, \"side_branches_in_cm\": 30.0, \"total_meja\": 0, \"tip_of_stem_broken\": 1, \"infested\": 0, \"total_number_adults\": 0, \"main_stem_length_in_cm\": 58.0}, {\"stem_diam_bottom_in_cm\": 0.62, \"diam_top_in_cm\": 0.12, \"side_branches_in_cm\": 60.23, \"total_meja\": 9, \"tip_of_stem_broken\": 1, \"infested\": 1, \"total_number_adults\": 7, \"main_stem_length_in_cm\": 34.0}, {\"stem_diam_bottom_in_cm\": 0.43, \"diam_top_in_cm\": 0.05, \"side_branches_in_cm\": 60.23, \"total_meja\": 3, \"tip_of_stem_broken\": 0, \"infested\": 1, \"total_number_adults\": 3, \"main_stem_length_in_cm\": 52.0}, {\"stem_diam_bottom_in_cm\": 0.37, \"diam_top_in_cm\": 0.14, \"side_branches_in_cm\": 60.23, \"total_meja\": 2, \"tip_of_stem_broken\": 1, \"infested\": 1, \"total_number_adults\": 2, \"main_stem_length_in_cm\": 51.0}, {\"stem_diam_bottom_in_cm\": 0.47, \"diam_top_in_cm\": 0.18, \"side_branches_in_cm\": 60.23, \"total_meja\": 0, \"tip_of_stem_broken\": 0, \"infested\": 0, \"total_number_adults\": 0, \"main_stem_length_in_cm\": 70.0}, {\"stem_diam_bottom_in_cm\": 0.21, \"diam_top_in_cm\": 0.18, \"side_branches_in_cm\": 60.23, \"total_meja\": 0, \"tip_of_stem_broken\": 0, \"infested\": 0, \"total_number_adults\": 0, \"main_stem_length_in_cm\": 19.0}, {\"stem_diam_bottom_in_cm\": 0.63, \"diam_top_in_cm\": 0.18, \"side_branches_in_cm\": 60.23, \"total_meja\": 14, \"tip_of_stem_broken\": 0, \"infested\": 1, \"total_number_adults\": 0, \"main_stem_length_in_cm\": 99.0}, {\"stem_diam_bottom_in_cm\": 1.05, \"diam_top_in_cm\": 0.18, \"side_branches_in_cm\": 60.23, \"total_meja\": 2, \"tip_of_stem_broken\": 1, \"infested\": 1, \"total_number_adults\": 0, \"main_stem_length_in_cm\": 99.0}, {\"stem_diam_bottom_in_cm\": 0.36, \"diam_top_in_cm\": 0.18, \"side_branches_in_cm\": 60.23, \"total_meja\": 0, \"tip_of_stem_broken\": 0, \"infested\": 0, \"total_number_adults\": 0, \"main_stem_length_in_cm\": 83.0}, {\"stem_diam_bottom_in_cm\": 0.88, \"diam_top_in_cm\": 0.26, \"side_branches_in_cm\": 60.23, \"total_meja\": 0, \"tip_of_stem_broken\": 1, \"infested\": 0, \"total_number_adults\": 0, \"main_stem_length_in_cm\": 82.0}, {\"stem_diam_bottom_in_cm\": 0.4, \"diam_top_in_cm\": 0.18, \"side_branches_in_cm\": 60.23, \"total_meja\": 2, \"tip_of_stem_broken\": 1, \"infested\": 1, \"total_number_adults\": 0, \"main_stem_length_in_cm\": 34.0}, {\"stem_diam_bottom_in_cm\": 0.24, \"diam_top_in_cm\": 0.18, \"side_branches_in_cm\": 60.23, \"total_meja\": 0, \"tip_of_stem_broken\": 0, \"infested\": 0, \"total_number_adults\": 0, \"main_stem_length_in_cm\": 9.5}, {\"stem_diam_bottom_in_cm\": 0.49, \"diam_top_in_cm\": 0.18, \"side_branches_in_cm\": 60.23, \"total_meja\": 1, \"tip_of_stem_broken\": 0, \"infested\": 1, \"total_number_adults\": 0, \"main_stem_length_in_cm\": 65.0}, {\"stem_diam_bottom_in_cm\": 0.62, \"diam_top_in_cm\": 0.18, \"side_branches_in_cm\": 60.23, \"total_meja\": 8, \"tip_of_stem_broken\": 0, \"infested\": 1, \"total_number_adults\": 1, \"main_stem_length_in_cm\": 87.0}, {\"stem_diam_bottom_in_cm\": 0.27, \"diam_top_in_cm\": 0.06, \"side_branches_in_cm\": 60.23, \"total_meja\": 0, \"tip_of_stem_broken\": 0, \"infested\": 0, \"total_number_adults\": 0, \"main_stem_length_in_cm\": 48.0}, {\"stem_diam_bottom_in_cm\": 0.56, \"diam_top_in_cm\": 0.18, \"side_branches_in_cm\": 60.23, \"total_meja\": 0, \"tip_of_stem_broken\": 0, \"infested\": 0, \"total_number_adults\": 0, \"main_stem_length_in_cm\": 99.0}, {\"stem_diam_bottom_in_cm\": 0.29, \"diam_top_in_cm\": 0.18, \"side_branches_in_cm\": 60.23, \"total_meja\": 0, \"tip_of_stem_broken\": 1, \"infested\": 0, \"total_number_adults\": 0, \"main_stem_length_in_cm\": 22.0}, {\"stem_diam_bottom_in_cm\": 0.42, \"diam_top_in_cm\": 0.18, \"side_branches_in_cm\": 60.23, \"total_meja\": 8, \"tip_of_stem_broken\": 0, \"infested\": 1, \"total_number_adults\": 1, \"main_stem_length_in_cm\": 61.0}, {\"stem_diam_bottom_in_cm\": 0.44, \"diam_top_in_cm\": 0.18, \"side_branches_in_cm\": 60.23, \"total_meja\": 33, \"tip_of_stem_broken\": 0, \"infested\": 1, \"total_number_adults\": 4, \"main_stem_length_in_cm\": 73.0}, {\"stem_diam_bottom_in_cm\": 0.17, \"diam_top_in_cm\": 0.18, \"side_branches_in_cm\": 60.23, \"total_meja\": 0, \"tip_of_stem_broken\": 0, \"infested\": 0, \"total_number_adults\": 0, \"main_stem_length_in_cm\": 8.5}, {\"stem_diam_bottom_in_cm\": 0.31, \"diam_top_in_cm\": 0.18, \"side_branches_in_cm\": 60.23, \"total_meja\": 0, \"tip_of_stem_broken\": 1, \"infested\": 0, \"total_number_adults\": 0, \"main_stem_length_in_cm\": 42.0}, {\"stem_diam_bottom_in_cm\": 0.32, \"diam_top_in_cm\": 0.05, \"side_branches_in_cm\": 60.23, \"total_meja\": 0, \"tip_of_stem_broken\": 0, \"infested\": 0, \"total_number_adults\": 0, \"main_stem_length_in_cm\": 75.0}, {\"stem_diam_bottom_in_cm\": 0.77, \"diam_top_in_cm\": 0.18, \"side_branches_in_cm\": 60.23, \"total_meja\": 6, \"tip_of_stem_broken\": 1, \"infested\": 1, \"total_number_adults\": 0, \"main_stem_length_in_cm\": 54.0}, {\"stem_diam_bottom_in_cm\": 0.52, \"diam_top_in_cm\": 0.24, \"side_branches_in_cm\": 60.23, \"total_meja\": 35, \"tip_of_stem_broken\": 1, \"infested\": 1, \"total_number_adults\": 34, \"main_stem_length_in_cm\": 45.0}, {\"stem_diam_bottom_in_cm\": 0.42, \"diam_top_in_cm\": 0.08, \"side_branches_in_cm\": 60.23, \"total_meja\": 4, \"tip_of_stem_broken\": 0, \"infested\": 1, \"total_number_adults\": 4, \"main_stem_length_in_cm\": 62.0}, {\"stem_diam_bottom_in_cm\": 0.28, \"diam_top_in_cm\": 0.05, \"side_branches_in_cm\": 60.23, \"total_meja\": 1, \"tip_of_stem_broken\": 1, \"infested\": 1, \"total_number_adults\": 1, \"main_stem_length_in_cm\": 49.0}, {\"stem_diam_bottom_in_cm\": 0.61, \"diam_top_in_cm\": 0.25, \"side_branches_in_cm\": 60.23, \"total_meja\": 23, \"tip_of_stem_broken\": 1, \"infested\": 1, \"total_number_adults\": 9, \"main_stem_length_in_cm\": 49.0}, {\"stem_diam_bottom_in_cm\": 0.53, \"diam_top_in_cm\": 0.12, \"side_branches_in_cm\": 60.23, \"total_meja\": 1, \"tip_of_stem_broken\": 0, \"infested\": 1, \"total_number_adults\": 1, \"main_stem_length_in_cm\": 67.0}, {\"stem_diam_bottom_in_cm\": 0.56, \"diam_top_in_cm\": 0.18, \"side_branches_in_cm\": 60.23, \"total_meja\": 8, \"tip_of_stem_broken\": 0, \"infested\": 1, \"total_number_adults\": 0, \"main_stem_length_in_cm\": 33.0}, {\"stem_diam_bottom_in_cm\": 0.7, \"diam_top_in_cm\": 0.18, \"side_branches_in_cm\": 60.23, \"total_meja\": 0, \"tip_of_stem_broken\": 0, \"infested\": 0, \"total_number_adults\": 0, \"main_stem_length_in_cm\": 91.0}, {\"stem_diam_bottom_in_cm\": 0.48, \"diam_top_in_cm\": 0.18, \"side_branches_in_cm\": 60.23, \"total_meja\": 0, \"tip_of_stem_broken\": 0, \"infested\": 0, \"total_number_adults\": 0, \"main_stem_length_in_cm\": 49.0}, {\"stem_diam_bottom_in_cm\": 0.22, \"diam_top_in_cm\": 0.18, \"side_branches_in_cm\": 60.23, \"total_meja\": 0, \"tip_of_stem_broken\": 0, \"infested\": 0, \"total_number_adults\": 0, \"main_stem_length_in_cm\": 12.0}, {\"stem_diam_bottom_in_cm\": 0.36, \"diam_top_in_cm\": 0.18, \"side_branches_in_cm\": 60.23, \"total_meja\": 0, \"tip_of_stem_broken\": 1, \"infested\": 0, \"total_number_adults\": 0, \"main_stem_length_in_cm\": 36.0}, {\"stem_diam_bottom_in_cm\": 0.79, \"diam_top_in_cm\": 0.21, \"side_branches_in_cm\": 60.23, \"total_meja\": 0, \"tip_of_stem_broken\": 1, \"infested\": 0, \"total_number_adults\": 0, \"main_stem_length_in_cm\": 80.0}, {\"stem_diam_bottom_in_cm\": 0.8, \"diam_top_in_cm\": 0.4, \"side_branches_in_cm\": 60.23, \"total_meja\": 0, \"tip_of_stem_broken\": 1, \"infested\": 0, \"total_number_adults\": 0, \"main_stem_length_in_cm\": 52.0}, {\"stem_diam_bottom_in_cm\": 0.38, \"diam_top_in_cm\": 0.18, \"side_branches_in_cm\": 60.23, \"total_meja\": 0, \"tip_of_stem_broken\": 0, \"infested\": 0, \"total_number_adults\": 0, \"main_stem_length_in_cm\": 72.0}, {\"stem_diam_bottom_in_cm\": 0.94, \"diam_top_in_cm\": 0.18, \"side_branches_in_cm\": 60.23, \"total_meja\": 60, \"tip_of_stem_broken\": 0, \"infested\": 1, \"total_number_adults\": 6, \"main_stem_length_in_cm\": 87.0}, {\"stem_diam_bottom_in_cm\": 0.68, \"diam_top_in_cm\": 0.05, \"side_branches_in_cm\": 60.23, \"total_meja\": 0, \"tip_of_stem_broken\": 0, \"infested\": 0, \"total_number_adults\": 0, \"main_stem_length_in_cm\": 92.0}, {\"stem_diam_bottom_in_cm\": 0.56, \"diam_top_in_cm\": 0.18, \"side_branches_in_cm\": 60.23, \"total_meja\": 5, \"tip_of_stem_broken\": 0, \"infested\": 1, \"total_number_adults\": 0, \"main_stem_length_in_cm\": 72.0}, {\"stem_diam_bottom_in_cm\": 0.82, \"diam_top_in_cm\": 0.18, \"side_branches_in_cm\": 110.0, \"total_meja\": 0, \"tip_of_stem_broken\": 1, \"infested\": 0, \"total_number_adults\": 0, \"main_stem_length_in_cm\": 32.0}, {\"stem_diam_bottom_in_cm\": 0.65, \"diam_top_in_cm\": 0.18, \"side_branches_in_cm\": 60.23, \"total_meja\": 9, \"tip_of_stem_broken\": 0, \"infested\": 1, \"total_number_adults\": 0, \"main_stem_length_in_cm\": 75.0}, {\"stem_diam_bottom_in_cm\": 0.33, \"diam_top_in_cm\": 0.07, \"side_branches_in_cm\": 60.23, \"total_meja\": 10, \"tip_of_stem_broken\": 0, \"infested\": 1, \"total_number_adults\": 10, \"main_stem_length_in_cm\": 34.0}, {\"stem_diam_bottom_in_cm\": 0.93, \"diam_top_in_cm\": 0.25, \"side_branches_in_cm\": 60.23, \"total_meja\": 0, \"tip_of_stem_broken\": 1, \"infested\": 0, \"total_number_adults\": 0, \"main_stem_length_in_cm\": 98.0}, {\"stem_diam_bottom_in_cm\": 0.76, \"diam_top_in_cm\": 0.18, \"side_branches_in_cm\": 60.23, \"total_meja\": 0, \"tip_of_stem_broken\": 1, \"infested\": 0, \"total_number_adults\": 0, \"main_stem_length_in_cm\": 50.0}, {\"stem_diam_bottom_in_cm\": 0.38, \"diam_top_in_cm\": 0.16, \"side_branches_in_cm\": 60.23, \"total_meja\": 0, \"tip_of_stem_broken\": 1, \"infested\": 0, \"total_number_adults\": 0, \"main_stem_length_in_cm\": 61.0}, {\"stem_diam_bottom_in_cm\": 0.62, \"diam_top_in_cm\": 0.18, \"side_branches_in_cm\": 60.23, \"total_meja\": 0, \"tip_of_stem_broken\": 0, \"infested\": 0, \"total_number_adults\": 0, \"main_stem_length_in_cm\": 114.0}, {\"stem_diam_bottom_in_cm\": 0.82, \"diam_top_in_cm\": 0.2, \"side_branches_in_cm\": 60.23, \"total_meja\": 12, \"tip_of_stem_broken\": 1, \"infested\": 1, \"total_number_adults\": 10, \"main_stem_length_in_cm\": 39.0}, {\"stem_diam_bottom_in_cm\": 0.64, \"diam_top_in_cm\": 0.15, \"side_branches_in_cm\": 60.23, \"total_meja\": 20, \"tip_of_stem_broken\": 0, \"infested\": 1, \"total_number_adults\": 16, \"main_stem_length_in_cm\": 48.0}, {\"stem_diam_bottom_in_cm\": 0.56, \"diam_top_in_cm\": 0.24, \"side_branches_in_cm\": 60.23, \"total_meja\": 5, \"tip_of_stem_broken\": 1, \"infested\": 1, \"total_number_adults\": 3, \"main_stem_length_in_cm\": 47.0}, {\"stem_diam_bottom_in_cm\": 0.38, \"diam_top_in_cm\": 0.05, \"side_branches_in_cm\": 60.23, \"total_meja\": 9, \"tip_of_stem_broken\": 0, \"infested\": 1, \"total_number_adults\": 9, \"main_stem_length_in_cm\": 78.0}, {\"stem_diam_bottom_in_cm\": 0.92, \"diam_top_in_cm\": 0.18, \"side_branches_in_cm\": 30.0, \"total_meja\": 0, \"tip_of_stem_broken\": 1, \"infested\": 0, \"total_number_adults\": 0, \"main_stem_length_in_cm\": 67.0}, {\"stem_diam_bottom_in_cm\": 0.74, \"diam_top_in_cm\": 0.18, \"side_branches_in_cm\": 60.23, \"total_meja\": 6, \"tip_of_stem_broken\": 1, \"infested\": 1, \"total_number_adults\": 0, \"main_stem_length_in_cm\": 77.0}, {\"stem_diam_bottom_in_cm\": 0.36, \"diam_top_in_cm\": 0.18, \"side_branches_in_cm\": 60.23, \"total_meja\": 0, \"tip_of_stem_broken\": 0, \"infested\": 0, \"total_number_adults\": 0, \"main_stem_length_in_cm\": 69.0}, {\"stem_diam_bottom_in_cm\": 0.62, \"diam_top_in_cm\": 0.18, \"side_branches_in_cm\": 60.23, \"total_meja\": 0, \"tip_of_stem_broken\": 0, \"infested\": 0, \"total_number_adults\": 0, \"main_stem_length_in_cm\": 55.0}, {\"stem_diam_bottom_in_cm\": 0.39, \"diam_top_in_cm\": 0.04, \"side_branches_in_cm\": 60.23, \"total_meja\": 7, \"tip_of_stem_broken\": 0, \"infested\": 1, \"total_number_adults\": 7, \"main_stem_length_in_cm\": 64.0}, {\"stem_diam_bottom_in_cm\": 0.75, \"diam_top_in_cm\": 0.17, \"side_branches_in_cm\": 60.23, \"total_meja\": 1, \"tip_of_stem_broken\": 1, \"infested\": 1, \"total_number_adults\": 0, \"main_stem_length_in_cm\": 67.0}, {\"stem_diam_bottom_in_cm\": 0.21, \"diam_top_in_cm\": 0.18, \"side_branches_in_cm\": 60.23, \"total_meja\": 0, \"tip_of_stem_broken\": 0, \"infested\": 0, \"total_number_adults\": 0, \"main_stem_length_in_cm\": 13.0}, {\"stem_diam_bottom_in_cm\": 0.43, \"diam_top_in_cm\": 0.09, \"side_branches_in_cm\": 60.23, \"total_meja\": 1, \"tip_of_stem_broken\": 0, \"infested\": 1, \"total_number_adults\": 1, \"main_stem_length_in_cm\": 88.0}, {\"stem_diam_bottom_in_cm\": 0.63, \"diam_top_in_cm\": 0.18, \"side_branches_in_cm\": 49.0, \"total_meja\": 0, \"tip_of_stem_broken\": 0, \"infested\": 0, \"total_number_adults\": 0, \"main_stem_length_in_cm\": 91.0}, {\"stem_diam_bottom_in_cm\": 0.72, \"diam_top_in_cm\": 0.18, \"side_branches_in_cm\": 60.23, \"total_meja\": 0, \"tip_of_stem_broken\": 0, \"infested\": 0, \"total_number_adults\": 0, \"main_stem_length_in_cm\": 77.0}, {\"stem_diam_bottom_in_cm\": 0.16, \"diam_top_in_cm\": 0.18, \"side_branches_in_cm\": 60.23, \"total_meja\": 0, \"tip_of_stem_broken\": 0, \"infested\": 0, \"total_number_adults\": 0, \"main_stem_length_in_cm\": 11.5}, {\"stem_diam_bottom_in_cm\": 0.54, \"diam_top_in_cm\": 0.18, \"side_branches_in_cm\": 117.0, \"total_meja\": 0, \"tip_of_stem_broken\": 0, \"infested\": 0, \"total_number_adults\": 0, \"main_stem_length_in_cm\": 53.0}, {\"stem_diam_bottom_in_cm\": 0.45, \"diam_top_in_cm\": 0.16, \"side_branches_in_cm\": 60.23, \"total_meja\": 26, \"tip_of_stem_broken\": 1, \"infested\": 1, \"total_number_adults\": 25, \"main_stem_length_in_cm\": 43.0}, {\"stem_diam_bottom_in_cm\": 0.18, \"diam_top_in_cm\": 0.18, \"side_branches_in_cm\": 60.23, \"total_meja\": 0, \"tip_of_stem_broken\": 0, \"infested\": 0, \"total_number_adults\": 0, \"main_stem_length_in_cm\": 8.0}, {\"stem_diam_bottom_in_cm\": 0.2, \"diam_top_in_cm\": 0.18, \"side_branches_in_cm\": 60.23, \"total_meja\": 0, \"tip_of_stem_broken\": 0, \"infested\": 0, \"total_number_adults\": 0, \"main_stem_length_in_cm\": 15.5}, {\"stem_diam_bottom_in_cm\": 0.55, \"diam_top_in_cm\": 0.18, \"side_branches_in_cm\": 60.23, \"total_meja\": 31, \"tip_of_stem_broken\": 0, \"infested\": 1, \"total_number_adults\": 6, \"main_stem_length_in_cm\": 60.0}, {\"stem_diam_bottom_in_cm\": 0.64, \"diam_top_in_cm\": 0.18, \"side_branches_in_cm\": 60.23, \"total_meja\": 2, \"tip_of_stem_broken\": 0, \"infested\": 1, \"total_number_adults\": 0, \"main_stem_length_in_cm\": 80.0}, {\"stem_diam_bottom_in_cm\": 0.64, \"diam_top_in_cm\": 0.76, \"side_branches_in_cm\": 60.23, \"total_meja\": 20, \"tip_of_stem_broken\": 1, \"infested\": 1, \"total_number_adults\": 0, \"main_stem_length_in_cm\": 77.0}, {\"stem_diam_bottom_in_cm\": 0.34, \"diam_top_in_cm\": 0.16, \"side_branches_in_cm\": 60.23, \"total_meja\": 24, \"tip_of_stem_broken\": 1, \"infested\": 1, \"total_number_adults\": 24, \"main_stem_length_in_cm\": 37.0}, {\"stem_diam_bottom_in_cm\": 0.38, \"diam_top_in_cm\": 0.18, \"side_branches_in_cm\": 60.23, \"total_meja\": 0, \"tip_of_stem_broken\": 1, \"infested\": 0, \"total_number_adults\": 0, \"main_stem_length_in_cm\": 27.0}, {\"stem_diam_bottom_in_cm\": 0.34, \"diam_top_in_cm\": 0.18, \"side_branches_in_cm\": 60.23, \"total_meja\": 0, \"tip_of_stem_broken\": 1, \"infested\": 0, \"total_number_adults\": 0, \"main_stem_length_in_cm\": 29.0}, {\"stem_diam_bottom_in_cm\": 0.47, \"diam_top_in_cm\": 0.18, \"side_branches_in_cm\": 60.23, \"total_meja\": 0, \"tip_of_stem_broken\": 0, \"infested\": 0, \"total_number_adults\": 0, \"main_stem_length_in_cm\": 65.0}, {\"stem_diam_bottom_in_cm\": 0.3, \"diam_top_in_cm\": 0.09, \"side_branches_in_cm\": 60.23, \"total_meja\": 2, \"tip_of_stem_broken\": 0, \"infested\": 1, \"total_number_adults\": 2, \"main_stem_length_in_cm\": 39.0}, {\"stem_diam_bottom_in_cm\": 0.51, \"diam_top_in_cm\": 0.18, \"side_branches_in_cm\": 13.0, \"total_meja\": 0, \"tip_of_stem_broken\": 1, \"infested\": 0, \"total_number_adults\": 0, \"main_stem_length_in_cm\": 55.0}, {\"stem_diam_bottom_in_cm\": 0.34, \"diam_top_in_cm\": 0.04, \"side_branches_in_cm\": 60.23, \"total_meja\": 0, \"tip_of_stem_broken\": 0, \"infested\": 0, \"total_number_adults\": 0, \"main_stem_length_in_cm\": 68.0}, {\"stem_diam_bottom_in_cm\": 0.24, \"diam_top_in_cm\": 0.18, \"side_branches_in_cm\": 60.23, \"total_meja\": 0, \"tip_of_stem_broken\": 0, \"infested\": 0, \"total_number_adults\": 0, \"main_stem_length_in_cm\": 12.5}, {\"stem_diam_bottom_in_cm\": 0.79, \"diam_top_in_cm\": 0.18, \"side_branches_in_cm\": 60.23, \"total_meja\": 0, \"tip_of_stem_broken\": 1, \"infested\": 0, \"total_number_adults\": 0, \"main_stem_length_in_cm\": 59.0}, {\"stem_diam_bottom_in_cm\": 0.34, \"diam_top_in_cm\": 0.12, \"side_branches_in_cm\": 60.23, \"total_meja\": 12, \"tip_of_stem_broken\": 0, \"infested\": 1, \"total_number_adults\": 12, \"main_stem_length_in_cm\": 27.0}, {\"stem_diam_bottom_in_cm\": 0.25, \"diam_top_in_cm\": 0.18, \"side_branches_in_cm\": 60.23, \"total_meja\": 0, \"tip_of_stem_broken\": 0, \"infested\": 0, \"total_number_adults\": 0, \"main_stem_length_in_cm\": 14.5}, {\"stem_diam_bottom_in_cm\": 0.31, \"diam_top_in_cm\": 0.18, \"side_branches_in_cm\": 60.23, \"total_meja\": 0, \"tip_of_stem_broken\": 1, \"infested\": 0, \"total_number_adults\": 0, \"main_stem_length_in_cm\": 36.0}, {\"stem_diam_bottom_in_cm\": 0.4, \"diam_top_in_cm\": 0.15, \"side_branches_in_cm\": 60.23, \"total_meja\": 16, \"tip_of_stem_broken\": 1, \"infested\": 1, \"total_number_adults\": 3, \"main_stem_length_in_cm\": 29.0}, {\"stem_diam_bottom_in_cm\": 0.42, \"diam_top_in_cm\": 0.18, \"side_branches_in_cm\": 60.23, \"total_meja\": 0, \"tip_of_stem_broken\": 0, \"infested\": 0, \"total_number_adults\": 0, \"main_stem_length_in_cm\": 71.0}, {\"stem_diam_bottom_in_cm\": 0.46, \"diam_top_in_cm\": 0.18, \"side_branches_in_cm\": 60.23, \"total_meja\": 0, \"tip_of_stem_broken\": 0, \"infested\": 0, \"total_number_adults\": 0, \"main_stem_length_in_cm\": 74.0}, {\"stem_diam_bottom_in_cm\": 0.47, \"diam_top_in_cm\": 0.18, \"side_branches_in_cm\": 60.23, \"total_meja\": 0, \"tip_of_stem_broken\": 0, \"infested\": 0, \"total_number_adults\": 0, \"main_stem_length_in_cm\": 81.0}, {\"stem_diam_bottom_in_cm\": 0.62, \"diam_top_in_cm\": 0.11, \"side_branches_in_cm\": 60.23, \"total_meja\": 9, \"tip_of_stem_broken\": 0, \"infested\": 1, \"total_number_adults\": 9, \"main_stem_length_in_cm\": 57.5}, {\"stem_diam_bottom_in_cm\": 0.54, \"diam_top_in_cm\": 0.18, \"side_branches_in_cm\": 60.23, \"total_meja\": 3, \"tip_of_stem_broken\": 0, \"infested\": 1, \"total_number_adults\": 0, \"main_stem_length_in_cm\": 57.0}, {\"stem_diam_bottom_in_cm\": 0.57, \"diam_top_in_cm\": 0.18, \"side_branches_in_cm\": 60.23, \"total_meja\": 0, \"tip_of_stem_broken\": 1, \"infested\": 0, \"total_number_adults\": 0, \"main_stem_length_in_cm\": 47.0}, {\"stem_diam_bottom_in_cm\": 0.27, \"diam_top_in_cm\": 0.18, \"side_branches_in_cm\": 60.23, \"total_meja\": 0, \"tip_of_stem_broken\": 1, \"infested\": 0, \"total_number_adults\": 0, \"main_stem_length_in_cm\": 42.0}, {\"stem_diam_bottom_in_cm\": 0.17, \"diam_top_in_cm\": 0.18, \"side_branches_in_cm\": 60.23, \"total_meja\": 0, \"tip_of_stem_broken\": 0, \"infested\": 0, \"total_number_adults\": 0, \"main_stem_length_in_cm\": 13.0}, {\"stem_diam_bottom_in_cm\": 0.38, \"diam_top_in_cm\": 0.09, \"side_branches_in_cm\": 60.23, \"total_meja\": 0, \"tip_of_stem_broken\": 1, \"infested\": 0, \"total_number_adults\": 0, \"main_stem_length_in_cm\": 53.0}, {\"stem_diam_bottom_in_cm\": 0.21, \"diam_top_in_cm\": 0.18, \"side_branches_in_cm\": 60.23, \"total_meja\": 0, \"tip_of_stem_broken\": 0, \"infested\": 0, \"total_number_adults\": 0, \"main_stem_length_in_cm\": 18.0}, {\"stem_diam_bottom_in_cm\": 0.96, \"diam_top_in_cm\": 0.18, \"side_branches_in_cm\": 60.23, \"total_meja\": 0, \"tip_of_stem_broken\": 0, \"infested\": 0, \"total_number_adults\": 0, \"main_stem_length_in_cm\": 135.0}, {\"stem_diam_bottom_in_cm\": 0.2, \"diam_top_in_cm\": 0.18, \"side_branches_in_cm\": 60.23, \"total_meja\": 0, \"tip_of_stem_broken\": 0, \"infested\": 0, \"total_number_adults\": 0, \"main_stem_length_in_cm\": 6.0}, {\"stem_diam_bottom_in_cm\": 0.35, \"diam_top_in_cm\": 0.18, \"side_branches_in_cm\": 60.23, \"total_meja\": 0, \"tip_of_stem_broken\": 0, \"infested\": 0, \"total_number_adults\": 0, \"main_stem_length_in_cm\": 68.0}, {\"stem_diam_bottom_in_cm\": 0.31, \"diam_top_in_cm\": 0.18, \"side_branches_in_cm\": 60.23, \"total_meja\": 3, \"tip_of_stem_broken\": 0, \"infested\": 1, \"total_number_adults\": 0, \"main_stem_length_in_cm\": 46.0}, {\"stem_diam_bottom_in_cm\": 0.75, \"diam_top_in_cm\": 0.18, \"side_branches_in_cm\": 87.0, \"total_meja\": 0, \"tip_of_stem_broken\": 1, \"infested\": 0, \"total_number_adults\": 0, \"main_stem_length_in_cm\": 32.0}, {\"stem_diam_bottom_in_cm\": 0.72, \"diam_top_in_cm\": 0.08, \"side_branches_in_cm\": 60.23, \"total_meja\": 1, \"tip_of_stem_broken\": 0, \"infested\": 1, \"total_number_adults\": 1, \"main_stem_length_in_cm\": 42.0}, {\"stem_diam_bottom_in_cm\": 0.44, \"diam_top_in_cm\": 0.09, \"side_branches_in_cm\": 60.23, \"total_meja\": 0, \"tip_of_stem_broken\": 1, \"infested\": 0, \"total_number_adults\": 0, \"main_stem_length_in_cm\": 46.0}, {\"stem_diam_bottom_in_cm\": 0.64, \"diam_top_in_cm\": 0.18, \"side_branches_in_cm\": 60.23, \"total_meja\": 0, \"tip_of_stem_broken\": 1, \"infested\": 0, \"total_number_adults\": 0, \"main_stem_length_in_cm\": 47.0}, {\"stem_diam_bottom_in_cm\": 0.42, \"diam_top_in_cm\": 0.18, \"side_branches_in_cm\": 59.0, \"total_meja\": 0, \"tip_of_stem_broken\": 1, \"infested\": 0, \"total_number_adults\": 0, \"main_stem_length_in_cm\": 35.0}, {\"stem_diam_bottom_in_cm\": 0.75, \"diam_top_in_cm\": 0.62, \"side_branches_in_cm\": 60.23, \"total_meja\": 5, \"tip_of_stem_broken\": 1, \"infested\": 1, \"total_number_adults\": 2, \"main_stem_length_in_cm\": 38.0}, {\"stem_diam_bottom_in_cm\": 0.56, \"diam_top_in_cm\": 0.18, \"side_branches_in_cm\": 60.23, \"total_meja\": 8, \"tip_of_stem_broken\": 0, \"infested\": 1, \"total_number_adults\": 0, \"main_stem_length_in_cm\": 60.0}, {\"stem_diam_bottom_in_cm\": 0.57, \"diam_top_in_cm\": 0.18, \"side_branches_in_cm\": 60.23, \"total_meja\": 0, \"tip_of_stem_broken\": 0, \"infested\": 0, \"total_number_adults\": 0, \"main_stem_length_in_cm\": 83.0}, {\"stem_diam_bottom_in_cm\": 0.5, \"diam_top_in_cm\": 0.05, \"side_branches_in_cm\": 60.23, \"total_meja\": 0, \"tip_of_stem_broken\": 0, \"infested\": 0, \"total_number_adults\": 0, \"main_stem_length_in_cm\": 63.0}, {\"stem_diam_bottom_in_cm\": 0.71, \"diam_top_in_cm\": 0.18, \"side_branches_in_cm\": 155.0, \"total_meja\": 0, \"tip_of_stem_broken\": 1, \"infested\": 0, \"total_number_adults\": 0, \"main_stem_length_in_cm\": 34.0}, {\"stem_diam_bottom_in_cm\": 0.5, \"diam_top_in_cm\": 0.18, \"side_branches_in_cm\": 60.23, \"total_meja\": 0, \"tip_of_stem_broken\": 1, \"infested\": 0, \"total_number_adults\": 0, \"main_stem_length_in_cm\": 73.0}, {\"stem_diam_bottom_in_cm\": 0.61, \"diam_top_in_cm\": 0.03, \"side_branches_in_cm\": 60.23, \"total_meja\": 0, \"tip_of_stem_broken\": 0, \"infested\": 0, \"total_number_adults\": 0, \"main_stem_length_in_cm\": 95.0}, {\"stem_diam_bottom_in_cm\": 0.48, \"diam_top_in_cm\": 0.15, \"side_branches_in_cm\": 60.23, \"total_meja\": 0, \"tip_of_stem_broken\": 1, \"infested\": 0, \"total_number_adults\": 0, \"main_stem_length_in_cm\": 62.0}, {\"stem_diam_bottom_in_cm\": 0.46, \"diam_top_in_cm\": 0.18, \"side_branches_in_cm\": 129.0, \"total_meja\": 0, \"tip_of_stem_broken\": 1, \"infested\": 0, \"total_number_adults\": 0, \"main_stem_length_in_cm\": 16.0}, {\"stem_diam_bottom_in_cm\": 0.5, \"diam_top_in_cm\": 0.18, \"side_branches_in_cm\": 60.23, \"total_meja\": 0, \"tip_of_stem_broken\": 1, \"infested\": 0, \"total_number_adults\": 0, \"main_stem_length_in_cm\": 63.0}, {\"stem_diam_bottom_in_cm\": 0.78, \"diam_top_in_cm\": 0.26, \"side_branches_in_cm\": 60.23, \"total_meja\": 21, \"tip_of_stem_broken\": 1, \"infested\": 1, \"total_number_adults\": 17, \"main_stem_length_in_cm\": 64.0}, {\"stem_diam_bottom_in_cm\": 0.35, \"diam_top_in_cm\": 0.18, \"side_branches_in_cm\": 60.23, \"total_meja\": 0, \"tip_of_stem_broken\": 1, \"infested\": 0, \"total_number_adults\": 0, \"main_stem_length_in_cm\": 30.0}, {\"stem_diam_bottom_in_cm\": 0.31, \"diam_top_in_cm\": 0.18, \"side_branches_in_cm\": 60.23, \"total_meja\": 0, \"tip_of_stem_broken\": 0, \"infested\": 0, \"total_number_adults\": 0, \"main_stem_length_in_cm\": 14.5}, {\"stem_diam_bottom_in_cm\": 0.41, \"diam_top_in_cm\": 0.18, \"side_branches_in_cm\": 60.23, \"total_meja\": 0, \"tip_of_stem_broken\": 1, \"infested\": 0, \"total_number_adults\": 0, \"main_stem_length_in_cm\": 33.0}, {\"stem_diam_bottom_in_cm\": 0.47, \"diam_top_in_cm\": 0.18, \"side_branches_in_cm\": 60.23, \"total_meja\": 25, \"tip_of_stem_broken\": 0, \"infested\": 1, \"total_number_adults\": 1, \"main_stem_length_in_cm\": 58.0}, {\"stem_diam_bottom_in_cm\": 0.68, \"diam_top_in_cm\": 0.18, \"side_branches_in_cm\": 60.23, \"total_meja\": 0, \"tip_of_stem_broken\": 1, \"infested\": 0, \"total_number_adults\": 0, \"main_stem_length_in_cm\": 52.0}, {\"stem_diam_bottom_in_cm\": 0.74, \"diam_top_in_cm\": 0.14, \"side_branches_in_cm\": 60.23, \"total_meja\": 0, \"tip_of_stem_broken\": 1, \"infested\": 0, \"total_number_adults\": 0, \"main_stem_length_in_cm\": 69.0}, {\"stem_diam_bottom_in_cm\": 0.39, \"diam_top_in_cm\": 0.18, \"side_branches_in_cm\": 60.23, \"total_meja\": 4, \"tip_of_stem_broken\": 0, \"infested\": 1, \"total_number_adults\": 0, \"main_stem_length_in_cm\": 45.0}, {\"stem_diam_bottom_in_cm\": 0.8, \"diam_top_in_cm\": 0.18, \"side_branches_in_cm\": 60.23, \"total_meja\": 0, \"tip_of_stem_broken\": 0, \"infested\": 0, \"total_number_adults\": 0, \"main_stem_length_in_cm\": 97.0}, {\"stem_diam_bottom_in_cm\": 0.4, \"diam_top_in_cm\": 0.11, \"side_branches_in_cm\": 60.23, \"total_meja\": 5, \"tip_of_stem_broken\": 0, \"infested\": 1, \"total_number_adults\": 4, \"main_stem_length_in_cm\": 32.0}, {\"stem_diam_bottom_in_cm\": 0.24, \"diam_top_in_cm\": 0.18, \"side_branches_in_cm\": 60.23, \"total_meja\": 0, \"tip_of_stem_broken\": 0, \"infested\": 0, \"total_number_adults\": 0, \"main_stem_length_in_cm\": 10.0}, {\"stem_diam_bottom_in_cm\": 0.66, \"diam_top_in_cm\": 0.13, \"side_branches_in_cm\": 60.23, \"total_meja\": 0, \"tip_of_stem_broken\": 1, \"infested\": 0, \"total_number_adults\": 0, \"main_stem_length_in_cm\": 79.0}, {\"stem_diam_bottom_in_cm\": 0.46, \"diam_top_in_cm\": 0.18, \"side_branches_in_cm\": 60.23, \"total_meja\": 0, \"tip_of_stem_broken\": 0, \"infested\": 0, \"total_number_adults\": 0, \"main_stem_length_in_cm\": 54.0}, {\"stem_diam_bottom_in_cm\": 0.62, \"diam_top_in_cm\": 0.18, \"side_branches_in_cm\": 60.23, \"total_meja\": 0, \"tip_of_stem_broken\": 1, \"infested\": 0, \"total_number_adults\": 0, \"main_stem_length_in_cm\": 32.0}, {\"stem_diam_bottom_in_cm\": 0.68, \"diam_top_in_cm\": 0.23, \"side_branches_in_cm\": 60.23, \"total_meja\": 11, \"tip_of_stem_broken\": 1, \"infested\": 1, \"total_number_adults\": 7, \"main_stem_length_in_cm\": 61.0}, {\"stem_diam_bottom_in_cm\": 0.62, \"diam_top_in_cm\": 0.22, \"side_branches_in_cm\": 60.23, \"total_meja\": 1, \"tip_of_stem_broken\": 1, \"infested\": 1, \"total_number_adults\": 1, \"main_stem_length_in_cm\": 40.0}, {\"stem_diam_bottom_in_cm\": 0.33, \"diam_top_in_cm\": 0.07, \"side_branches_in_cm\": 60.23, \"total_meja\": 19, \"tip_of_stem_broken\": 0, \"infested\": 1, \"total_number_adults\": 19, \"main_stem_length_in_cm\": 37.0}, {\"stem_diam_bottom_in_cm\": 0.68, \"diam_top_in_cm\": 0.5, \"side_branches_in_cm\": 60.23, \"total_meja\": 6, \"tip_of_stem_broken\": 1, \"infested\": 1, \"total_number_adults\": 0, \"main_stem_length_in_cm\": 54.0}, {\"stem_diam_bottom_in_cm\": 0.44, \"diam_top_in_cm\": 0.18, \"side_branches_in_cm\": 60.23, \"total_meja\": 13, \"tip_of_stem_broken\": 0, \"infested\": 1, \"total_number_adults\": 0, \"main_stem_length_in_cm\": 37.0}, {\"stem_diam_bottom_in_cm\": 0.31, \"diam_top_in_cm\": 0.18, \"side_branches_in_cm\": 60.23, \"total_meja\": 0, \"tip_of_stem_broken\": 0, \"infested\": 0, \"total_number_adults\": 0, \"main_stem_length_in_cm\": 47.0}, {\"stem_diam_bottom_in_cm\": 0.37, \"diam_top_in_cm\": 0.36, \"side_branches_in_cm\": 60.23, \"total_meja\": 6, \"tip_of_stem_broken\": 1, \"infested\": 1, \"total_number_adults\": 0, \"main_stem_length_in_cm\": 18.0}, {\"stem_diam_bottom_in_cm\": 0.27, \"diam_top_in_cm\": 0.18, \"side_branches_in_cm\": 60.23, \"total_meja\": 0, \"tip_of_stem_broken\": 0, \"infested\": 0, \"total_number_adults\": 0, \"main_stem_length_in_cm\": 10.0}, {\"stem_diam_bottom_in_cm\": 0.33, \"diam_top_in_cm\": 0.18, \"side_branches_in_cm\": 60.23, \"total_meja\": 6, \"tip_of_stem_broken\": 0, \"infested\": 1, \"total_number_adults\": 0, \"main_stem_length_in_cm\": 30.0}, {\"stem_diam_bottom_in_cm\": 0.61, \"diam_top_in_cm\": 0.36, \"side_branches_in_cm\": 60.23, \"total_meja\": 18, \"tip_of_stem_broken\": 1, \"infested\": 1, \"total_number_adults\": 18, \"main_stem_length_in_cm\": 43.0}, {\"stem_diam_bottom_in_cm\": 0.29, \"diam_top_in_cm\": 0.18, \"side_branches_in_cm\": 60.23, \"total_meja\": 12, \"tip_of_stem_broken\": 0, \"infested\": 1, \"total_number_adults\": 3, \"main_stem_length_in_cm\": 39.0}, {\"stem_diam_bottom_in_cm\": 0.16, \"diam_top_in_cm\": 0.18, \"side_branches_in_cm\": 60.23, \"total_meja\": 0, \"tip_of_stem_broken\": 0, \"infested\": 0, \"total_number_adults\": 0, \"main_stem_length_in_cm\": 13.0}, {\"stem_diam_bottom_in_cm\": 0.3, \"diam_top_in_cm\": 0.18, \"side_branches_in_cm\": 60.23, \"total_meja\": 0, \"tip_of_stem_broken\": 1, \"infested\": 0, \"total_number_adults\": 0, \"main_stem_length_in_cm\": 40.0}, {\"stem_diam_bottom_in_cm\": 0.43, \"diam_top_in_cm\": 0.18, \"side_branches_in_cm\": 60.23, \"total_meja\": 10, \"tip_of_stem_broken\": 0, \"infested\": 1, \"total_number_adults\": 0, \"main_stem_length_in_cm\": 42.0}, {\"stem_diam_bottom_in_cm\": 0.64, \"diam_top_in_cm\": 0.26, \"side_branches_in_cm\": 60.23, \"total_meja\": 30, \"tip_of_stem_broken\": 1, \"infested\": 1, \"total_number_adults\": 30, \"main_stem_length_in_cm\": 59.0}, {\"stem_diam_bottom_in_cm\": 0.49, \"diam_top_in_cm\": 0.2, \"side_branches_in_cm\": 60.23, \"total_meja\": 5, \"tip_of_stem_broken\": 1, \"infested\": 1, \"total_number_adults\": 5, \"main_stem_length_in_cm\": 25.0}, {\"stem_diam_bottom_in_cm\": 0.23, \"diam_top_in_cm\": 0.18, \"side_branches_in_cm\": 60.23, \"total_meja\": 0, \"tip_of_stem_broken\": 0, \"infested\": 0, \"total_number_adults\": 0, \"main_stem_length_in_cm\": 11.5}, {\"stem_diam_bottom_in_cm\": 0.59, \"diam_top_in_cm\": 0.18, \"side_branches_in_cm\": 60.23, \"total_meja\": 4, \"tip_of_stem_broken\": 1, \"infested\": 1, \"total_number_adults\": 0, \"main_stem_length_in_cm\": 72.0}, {\"stem_diam_bottom_in_cm\": 0.69, \"diam_top_in_cm\": 0.18, \"side_branches_in_cm\": 60.23, \"total_meja\": 7, \"tip_of_stem_broken\": 0, \"infested\": 1, \"total_number_adults\": 1, \"main_stem_length_in_cm\": 73.0}, {\"stem_diam_bottom_in_cm\": 0.56, \"diam_top_in_cm\": 0.26, \"side_branches_in_cm\": 60.23, \"total_meja\": 8, \"tip_of_stem_broken\": 1, \"infested\": 1, \"total_number_adults\": 0, \"main_stem_length_in_cm\": 67.0}, {\"stem_diam_bottom_in_cm\": 0.43, \"diam_top_in_cm\": 0.18, \"side_branches_in_cm\": 60.23, \"total_meja\": 0, \"tip_of_stem_broken\": 1, \"infested\": 0, \"total_number_adults\": 0, \"main_stem_length_in_cm\": 52.0}, {\"stem_diam_bottom_in_cm\": 0.37, \"diam_top_in_cm\": 0.18, \"side_branches_in_cm\": 60.23, \"total_meja\": 0, \"tip_of_stem_broken\": 0, \"infested\": 0, \"total_number_adults\": 0, \"main_stem_length_in_cm\": 51.0}, {\"stem_diam_bottom_in_cm\": 0.43, \"diam_top_in_cm\": 0.1, \"side_branches_in_cm\": 60.23, \"total_meja\": 21, \"tip_of_stem_broken\": 0, \"infested\": 1, \"total_number_adults\": 19, \"main_stem_length_in_cm\": 26.5}, {\"stem_diam_bottom_in_cm\": 0.67, \"diam_top_in_cm\": 0.18, \"side_branches_in_cm\": 60.23, \"total_meja\": 26, \"tip_of_stem_broken\": 0, \"infested\": 1, \"total_number_adults\": 4, \"main_stem_length_in_cm\": 50.0}, {\"stem_diam_bottom_in_cm\": 0.21, \"diam_top_in_cm\": 0.18, \"side_branches_in_cm\": 60.23, \"total_meja\": 0, \"tip_of_stem_broken\": 0, \"infested\": 0, \"total_number_adults\": 0, \"main_stem_length_in_cm\": 19.0}, {\"stem_diam_bottom_in_cm\": 0.49, \"diam_top_in_cm\": 0.18, \"side_branches_in_cm\": 60.23, \"total_meja\": 0, \"tip_of_stem_broken\": 0, \"infested\": 0, \"total_number_adults\": 0, \"main_stem_length_in_cm\": 70.0}, {\"stem_diam_bottom_in_cm\": 0.18, \"diam_top_in_cm\": 0.18, \"side_branches_in_cm\": 60.23, \"total_meja\": 0, \"tip_of_stem_broken\": 0, \"infested\": 0, \"total_number_adults\": 0, \"main_stem_length_in_cm\": 14.0}, {\"stem_diam_bottom_in_cm\": 0.7, \"diam_top_in_cm\": 0.18, \"side_branches_in_cm\": 8.0, \"total_meja\": 0, \"tip_of_stem_broken\": 1, \"infested\": 0, \"total_number_adults\": 0, \"main_stem_length_in_cm\": 91.0}, {\"stem_diam_bottom_in_cm\": 0.51, \"diam_top_in_cm\": 0.18, \"side_branches_in_cm\": 60.23, \"total_meja\": 0, \"tip_of_stem_broken\": 1, \"infested\": 0, \"total_number_adults\": 0, \"main_stem_length_in_cm\": 45.0}, {\"stem_diam_bottom_in_cm\": 0.71, \"diam_top_in_cm\": 0.18, \"side_branches_in_cm\": 60.23, \"total_meja\": 22, \"tip_of_stem_broken\": 0, \"infested\": 1, \"total_number_adults\": 2, \"main_stem_length_in_cm\": 88.0}, {\"stem_diam_bottom_in_cm\": 0.47, \"diam_top_in_cm\": 0.1, \"side_branches_in_cm\": 60.23, \"total_meja\": 23, \"tip_of_stem_broken\": 1, \"infested\": 1, \"total_number_adults\": 23, \"main_stem_length_in_cm\": 52.0}, {\"stem_diam_bottom_in_cm\": 0.76, \"diam_top_in_cm\": 0.18, \"side_branches_in_cm\": 128.0, \"total_meja\": 0, \"tip_of_stem_broken\": 1, \"infested\": 0, \"total_number_adults\": 0, \"main_stem_length_in_cm\": 58.0}, {\"stem_diam_bottom_in_cm\": 0.38, \"diam_top_in_cm\": 0.04, \"side_branches_in_cm\": 60.23, \"total_meja\": 0, \"tip_of_stem_broken\": 0, \"infested\": 0, \"total_number_adults\": 0, \"main_stem_length_in_cm\": 66.0}, {\"stem_diam_bottom_in_cm\": 0.68, \"diam_top_in_cm\": 0.18, \"side_branches_in_cm\": 60.23, \"total_meja\": 10, \"tip_of_stem_broken\": 0, \"infested\": 1, \"total_number_adults\": 2, \"main_stem_length_in_cm\": 62.0}, {\"stem_diam_bottom_in_cm\": 0.23, \"diam_top_in_cm\": 0.18, \"side_branches_in_cm\": 60.23, \"total_meja\": 0, \"tip_of_stem_broken\": 0, \"infested\": 0, \"total_number_adults\": 0, \"main_stem_length_in_cm\": 11.5}, {\"stem_diam_bottom_in_cm\": 0.37, \"diam_top_in_cm\": 0.13, \"side_branches_in_cm\": 60.23, \"total_meja\": 10, \"tip_of_stem_broken\": 0, \"infested\": 1, \"total_number_adults\": 6, \"main_stem_length_in_cm\": 29.0}, {\"stem_diam_bottom_in_cm\": 0.33, \"diam_top_in_cm\": 0.09, \"side_branches_in_cm\": 60.23, \"total_meja\": 0, \"tip_of_stem_broken\": 0, \"infested\": 0, \"total_number_adults\": 0, \"main_stem_length_in_cm\": 51.0}, {\"stem_diam_bottom_in_cm\": 0.38, \"diam_top_in_cm\": 0.23, \"side_branches_in_cm\": 60.23, \"total_meja\": 19, \"tip_of_stem_broken\": 1, \"infested\": 1, \"total_number_adults\": 2, \"main_stem_length_in_cm\": 53.0}, {\"stem_diam_bottom_in_cm\": 0.48, \"diam_top_in_cm\": 0.18, \"side_branches_in_cm\": 60.23, \"total_meja\": 0, \"tip_of_stem_broken\": 1, \"infested\": 0, \"total_number_adults\": 0, \"main_stem_length_in_cm\": 43.0}, {\"stem_diam_bottom_in_cm\": 0.33, \"diam_top_in_cm\": 0.18, \"side_branches_in_cm\": 60.23, \"total_meja\": 0, \"tip_of_stem_broken\": 1, \"infested\": 0, \"total_number_adults\": 0, \"main_stem_length_in_cm\": 38.0}, {\"stem_diam_bottom_in_cm\": 0.41, \"diam_top_in_cm\": 0.07, \"side_branches_in_cm\": 60.23, \"total_meja\": 2, \"tip_of_stem_broken\": 1, \"infested\": 1, \"total_number_adults\": 2, \"main_stem_length_in_cm\": 47.0}, {\"stem_diam_bottom_in_cm\": 0.35, \"diam_top_in_cm\": 0.11, \"side_branches_in_cm\": 60.23, \"total_meja\": 5, \"tip_of_stem_broken\": 0, \"infested\": 1, \"total_number_adults\": 5, \"main_stem_length_in_cm\": 29.0}, {\"stem_diam_bottom_in_cm\": 0.75, \"diam_top_in_cm\": 0.18, \"side_branches_in_cm\": 60.23, \"total_meja\": 0, \"tip_of_stem_broken\": 0, \"infested\": 0, \"total_number_adults\": 0, \"main_stem_length_in_cm\": 87.0}, {\"stem_diam_bottom_in_cm\": 0.37, \"diam_top_in_cm\": 0.18, \"side_branches_in_cm\": 60.23, \"total_meja\": 7, \"tip_of_stem_broken\": 0, \"infested\": 1, \"total_number_adults\": 0, \"main_stem_length_in_cm\": 40.0}, {\"stem_diam_bottom_in_cm\": 0.62, \"diam_top_in_cm\": 0.11, \"side_branches_in_cm\": 60.23, \"total_meja\": 0, \"tip_of_stem_broken\": 1, \"infested\": 0, \"total_number_adults\": 0, \"main_stem_length_in_cm\": 71.0}, {\"stem_diam_bottom_in_cm\": 0.45, \"diam_top_in_cm\": 0.18, \"side_branches_in_cm\": 60.23, \"total_meja\": 0, \"tip_of_stem_broken\": 0, \"infested\": 0, \"total_number_adults\": 0, \"main_stem_length_in_cm\": 90.0}, {\"stem_diam_bottom_in_cm\": 0.68, \"diam_top_in_cm\": 0.15, \"side_branches_in_cm\": 60.23, \"total_meja\": 41, \"tip_of_stem_broken\": 1, \"infested\": 1, \"total_number_adults\": 37, \"main_stem_length_in_cm\": 46.0}, {\"stem_diam_bottom_in_cm\": 0.76, \"diam_top_in_cm\": 0.18, \"side_branches_in_cm\": 129.0, \"total_meja\": 0, \"tip_of_stem_broken\": 1, \"infested\": 0, \"total_number_adults\": 0, \"main_stem_length_in_cm\": 64.0}, {\"stem_diam_bottom_in_cm\": 0.47, \"diam_top_in_cm\": 0.18, \"side_branches_in_cm\": 60.23, \"total_meja\": 0, \"tip_of_stem_broken\": 1, \"infested\": 0, \"total_number_adults\": 0, \"main_stem_length_in_cm\": 63.0}, {\"stem_diam_bottom_in_cm\": 0.44, \"diam_top_in_cm\": 0.18, \"side_branches_in_cm\": 60.23, \"total_meja\": 8, \"tip_of_stem_broken\": 0, \"infested\": 1, \"total_number_adults\": 1, \"main_stem_length_in_cm\": 48.0}, {\"stem_diam_bottom_in_cm\": 0.5, \"diam_top_in_cm\": 0.18, \"side_branches_in_cm\": 111.0, \"total_meja\": 2, \"tip_of_stem_broken\": 0, \"infested\": 1, \"total_number_adults\": 0, \"main_stem_length_in_cm\": 26.0}, {\"stem_diam_bottom_in_cm\": 0.11, \"diam_top_in_cm\": 0.18, \"side_branches_in_cm\": 60.23, \"total_meja\": 1, \"tip_of_stem_broken\": 0, \"infested\": 1, \"total_number_adults\": 0, \"main_stem_length_in_cm\": 30.0}, {\"stem_diam_bottom_in_cm\": 0.16, \"diam_top_in_cm\": 0.18, \"side_branches_in_cm\": 60.23, \"total_meja\": 0, \"tip_of_stem_broken\": 0, \"infested\": 0, \"total_number_adults\": 0, \"main_stem_length_in_cm\": 12.0}, {\"stem_diam_bottom_in_cm\": 0.66, \"diam_top_in_cm\": 0.18, \"side_branches_in_cm\": 57.0, \"total_meja\": 0, \"tip_of_stem_broken\": 0, \"infested\": 0, \"total_number_adults\": 0, \"main_stem_length_in_cm\": 75.0}, {\"stem_diam_bottom_in_cm\": 0.18, \"diam_top_in_cm\": 0.18, \"side_branches_in_cm\": 60.23, \"total_meja\": 0, \"tip_of_stem_broken\": 0, \"infested\": 0, \"total_number_adults\": 0, \"main_stem_length_in_cm\": 14.0}, {\"stem_diam_bottom_in_cm\": 0.63, \"diam_top_in_cm\": 0.15, \"side_branches_in_cm\": 60.23, \"total_meja\": 0, \"tip_of_stem_broken\": 1, \"infested\": 0, \"total_number_adults\": 0, \"main_stem_length_in_cm\": 86.0}, {\"stem_diam_bottom_in_cm\": 0.67, \"diam_top_in_cm\": 0.18, \"side_branches_in_cm\": 83.0, \"total_meja\": 0, \"tip_of_stem_broken\": 1, \"infested\": 0, \"total_number_adults\": 0, \"main_stem_length_in_cm\": 57.0}, {\"stem_diam_bottom_in_cm\": 0.33, \"diam_top_in_cm\": 0.18, \"side_branches_in_cm\": 60.23, \"total_meja\": 0, \"tip_of_stem_broken\": 1, \"infested\": 0, \"total_number_adults\": 0, \"main_stem_length_in_cm\": 25.0}, {\"stem_diam_bottom_in_cm\": 0.21, \"diam_top_in_cm\": 0.18, \"side_branches_in_cm\": 60.23, \"total_meja\": 0, \"tip_of_stem_broken\": 0, \"infested\": 0, \"total_number_adults\": 0, \"main_stem_length_in_cm\": 16.5}, {\"stem_diam_bottom_in_cm\": 1.08, \"diam_top_in_cm\": 0.58, \"side_branches_in_cm\": 60.23, \"total_meja\": 1, \"tip_of_stem_broken\": 1, \"infested\": 1, \"total_number_adults\": 0, \"main_stem_length_in_cm\": 63.0}, {\"stem_diam_bottom_in_cm\": 0.4, \"diam_top_in_cm\": 0.18, \"side_branches_in_cm\": 60.23, \"total_meja\": 0, \"tip_of_stem_broken\": 1, \"infested\": 0, \"total_number_adults\": 0, \"main_stem_length_in_cm\": 43.0}, {\"stem_diam_bottom_in_cm\": 0.71, \"diam_top_in_cm\": 0.18, \"side_branches_in_cm\": 60.23, \"total_meja\": 2, \"tip_of_stem_broken\": 0, \"infested\": 1, \"total_number_adults\": 0, \"main_stem_length_in_cm\": 96.0}, {\"stem_diam_bottom_in_cm\": 0.82, \"diam_top_in_cm\": 0.18, \"side_branches_in_cm\": 60.23, \"total_meja\": 37, \"tip_of_stem_broken\": 0, \"infested\": 1, \"total_number_adults\": 1, \"main_stem_length_in_cm\": 77.0}, {\"stem_diam_bottom_in_cm\": 0.53, \"diam_top_in_cm\": 0.02, \"side_branches_in_cm\": 60.23, \"total_meja\": 0, \"tip_of_stem_broken\": 0, \"infested\": 0, \"total_number_adults\": 0, \"main_stem_length_in_cm\": 103.0}, {\"stem_diam_bottom_in_cm\": 0.26, \"diam_top_in_cm\": 0.18, \"side_branches_in_cm\": 60.23, \"total_meja\": 0, \"tip_of_stem_broken\": 0, \"infested\": 0, \"total_number_adults\": 0, \"main_stem_length_in_cm\": 8.0}, {\"stem_diam_bottom_in_cm\": 0.3, \"diam_top_in_cm\": 0.18, \"side_branches_in_cm\": 60.23, \"total_meja\": 0, \"tip_of_stem_broken\": 1, \"infested\": 0, \"total_number_adults\": 0, \"main_stem_length_in_cm\": 34.0}, {\"stem_diam_bottom_in_cm\": 0.26, \"diam_top_in_cm\": 0.18, \"side_branches_in_cm\": 60.23, \"total_meja\": 4, \"tip_of_stem_broken\": 1, \"infested\": 1, \"total_number_adults\": 0, \"main_stem_length_in_cm\": 27.0}, {\"stem_diam_bottom_in_cm\": 0.54, \"diam_top_in_cm\": 0.18, \"side_branches_in_cm\": 60.23, \"total_meja\": 0, \"tip_of_stem_broken\": 1, \"infested\": 0, \"total_number_adults\": 0, \"main_stem_length_in_cm\": 34.0}, {\"stem_diam_bottom_in_cm\": 0.28, \"diam_top_in_cm\": 0.18, \"side_branches_in_cm\": 60.23, \"total_meja\": 0, \"tip_of_stem_broken\": 0, \"infested\": 0, \"total_number_adults\": 0, \"main_stem_length_in_cm\": 65.0}, {\"stem_diam_bottom_in_cm\": 0.44, \"diam_top_in_cm\": 0.18, \"side_branches_in_cm\": 60.23, \"total_meja\": 1, \"tip_of_stem_broken\": 0, \"infested\": 1, \"total_number_adults\": 0, \"main_stem_length_in_cm\": 56.0}, {\"stem_diam_bottom_in_cm\": 0.56, \"diam_top_in_cm\": 0.18, \"side_branches_in_cm\": 28.0, \"total_meja\": 0, \"tip_of_stem_broken\": 1, \"infested\": 0, \"total_number_adults\": 0, \"main_stem_length_in_cm\": 61.0}, {\"stem_diam_bottom_in_cm\": 0.46, \"diam_top_in_cm\": 0.34, \"side_branches_in_cm\": 60.23, \"total_meja\": 0, \"tip_of_stem_broken\": 1, \"infested\": 0, \"total_number_adults\": 0, \"main_stem_length_in_cm\": 50.0}, {\"stem_diam_bottom_in_cm\": 0.6, \"diam_top_in_cm\": 0.18, \"side_branches_in_cm\": 60.23, \"total_meja\": 0, \"tip_of_stem_broken\": 0, \"infested\": 0, \"total_number_adults\": 0, \"main_stem_length_in_cm\": 70.0}, {\"stem_diam_bottom_in_cm\": 0.3, \"diam_top_in_cm\": 0.18, \"side_branches_in_cm\": 60.23, \"total_meja\": 0, \"tip_of_stem_broken\": 1, \"infested\": 0, \"total_number_adults\": 0, \"main_stem_length_in_cm\": 39.0}, {\"stem_diam_bottom_in_cm\": 0.77, \"diam_top_in_cm\": 0.18, \"side_branches_in_cm\": 60.23, \"total_meja\": 1, \"tip_of_stem_broken\": 0, \"infested\": 1, \"total_number_adults\": 0, \"main_stem_length_in_cm\": 100.0}, {\"stem_diam_bottom_in_cm\": 0.21, \"diam_top_in_cm\": 0.18, \"side_branches_in_cm\": 60.23, \"total_meja\": 0, \"tip_of_stem_broken\": 0, \"infested\": 0, \"total_number_adults\": 0, \"main_stem_length_in_cm\": 20.0}, {\"stem_diam_bottom_in_cm\": 0.34, \"diam_top_in_cm\": 0.18, \"side_branches_in_cm\": 60.23, \"total_meja\": 0, \"tip_of_stem_broken\": 0, \"infested\": 0, \"total_number_adults\": 0, \"main_stem_length_in_cm\": 59.0}, {\"stem_diam_bottom_in_cm\": 0.61, \"diam_top_in_cm\": 0.18, \"side_branches_in_cm\": 60.23, \"total_meja\": 0, \"tip_of_stem_broken\": 0, \"infested\": 0, \"total_number_adults\": 0, \"main_stem_length_in_cm\": 83.0}, {\"stem_diam_bottom_in_cm\": 0.34, \"diam_top_in_cm\": 0.18, \"side_branches_in_cm\": 60.23, \"total_meja\": 0, \"tip_of_stem_broken\": 1, \"infested\": 0, \"total_number_adults\": 0, \"main_stem_length_in_cm\": 35.0}, {\"stem_diam_bottom_in_cm\": 0.57, \"diam_top_in_cm\": 0.12, \"side_branches_in_cm\": 60.23, \"total_meja\": 1, \"tip_of_stem_broken\": 1, \"infested\": 1, \"total_number_adults\": 1, \"main_stem_length_in_cm\": 72.0}, {\"stem_diam_bottom_in_cm\": 0.41, \"diam_top_in_cm\": 0.18, \"side_branches_in_cm\": 60.23, \"total_meja\": 0, \"tip_of_stem_broken\": 1, \"infested\": 0, \"total_number_adults\": 0, \"main_stem_length_in_cm\": 40.0}, {\"stem_diam_bottom_in_cm\": 0.29, \"diam_top_in_cm\": 0.18, \"side_branches_in_cm\": 60.23, \"total_meja\": 0, \"tip_of_stem_broken\": 0, \"infested\": 0, \"total_number_adults\": 0, \"main_stem_length_in_cm\": 20.5}, {\"stem_diam_bottom_in_cm\": 0.73, \"diam_top_in_cm\": 0.05, \"side_branches_in_cm\": 60.23, \"total_meja\": 0, \"tip_of_stem_broken\": 0, \"infested\": 0, \"total_number_adults\": 0, \"main_stem_length_in_cm\": 85.0}, {\"stem_diam_bottom_in_cm\": 0.38, \"diam_top_in_cm\": 0.18, \"side_branches_in_cm\": 60.23, \"total_meja\": 25, \"tip_of_stem_broken\": 0, \"infested\": 1, \"total_number_adults\": 5, \"main_stem_length_in_cm\": 58.0}, {\"stem_diam_bottom_in_cm\": 0.52, \"diam_top_in_cm\": 0.18, \"side_branches_in_cm\": 60.23, \"total_meja\": 13, \"tip_of_stem_broken\": 0, \"infested\": 1, \"total_number_adults\": 3, \"main_stem_length_in_cm\": 38.0}, {\"stem_diam_bottom_in_cm\": 0.36, \"diam_top_in_cm\": 0.18, \"side_branches_in_cm\": 60.23, \"total_meja\": 0, \"tip_of_stem_broken\": 1, \"infested\": 0, \"total_number_adults\": 0, \"main_stem_length_in_cm\": 18.0}, {\"stem_diam_bottom_in_cm\": 0.46, \"diam_top_in_cm\": 0.18, \"side_branches_in_cm\": 60.23, \"total_meja\": 0, \"tip_of_stem_broken\": 0, \"infested\": 0, \"total_number_adults\": 0, \"main_stem_length_in_cm\": 56.0}, {\"stem_diam_bottom_in_cm\": 0.55, \"diam_top_in_cm\": 0.18, \"side_branches_in_cm\": 60.23, \"total_meja\": 0, \"tip_of_stem_broken\": 1, \"infested\": 0, \"total_number_adults\": 0, \"main_stem_length_in_cm\": 46.0}, {\"stem_diam_bottom_in_cm\": 0.45, \"diam_top_in_cm\": 0.18, \"side_branches_in_cm\": 60.23, \"total_meja\": 2, \"tip_of_stem_broken\": 0, \"infested\": 1, \"total_number_adults\": 0, \"main_stem_length_in_cm\": 59.0}, {\"stem_diam_bottom_in_cm\": 0.28, \"diam_top_in_cm\": 0.18, \"side_branches_in_cm\": 60.23, \"total_meja\": 0, \"tip_of_stem_broken\": 1, \"infested\": 0, \"total_number_adults\": 0, \"main_stem_length_in_cm\": 40.0}, {\"stem_diam_bottom_in_cm\": 0.38, \"diam_top_in_cm\": 0.18, \"side_branches_in_cm\": 60.23, \"total_meja\": 0, \"tip_of_stem_broken\": 0, \"infested\": 0, \"total_number_adults\": 0, \"main_stem_length_in_cm\": 56.0}, {\"stem_diam_bottom_in_cm\": 0.43, \"diam_top_in_cm\": 0.18, \"side_branches_in_cm\": 60.23, \"total_meja\": 0, \"tip_of_stem_broken\": 1, \"infested\": 0, \"total_number_adults\": 0, \"main_stem_length_in_cm\": 49.0}, {\"stem_diam_bottom_in_cm\": 0.7, \"diam_top_in_cm\": 0.18, \"side_branches_in_cm\": 60.23, \"total_meja\": 21, \"tip_of_stem_broken\": 0, \"infested\": 1, \"total_number_adults\": 1, \"main_stem_length_in_cm\": 64.0}, {\"stem_diam_bottom_in_cm\": 0.94, \"diam_top_in_cm\": 0.16, \"side_branches_in_cm\": 60.23, \"total_meja\": 1, \"tip_of_stem_broken\": 1, \"infested\": 1, \"total_number_adults\": 0, \"main_stem_length_in_cm\": 86.0}, {\"stem_diam_bottom_in_cm\": 0.58, \"diam_top_in_cm\": 0.29, \"side_branches_in_cm\": 60.23, \"total_meja\": 39, \"tip_of_stem_broken\": 1, \"infested\": 1, \"total_number_adults\": 38, \"main_stem_length_in_cm\": 51.0}, {\"stem_diam_bottom_in_cm\": 0.58, \"diam_top_in_cm\": 0.18, \"side_branches_in_cm\": 60.23, \"total_meja\": 6, \"tip_of_stem_broken\": 0, \"infested\": 1, \"total_number_adults\": 0, \"main_stem_length_in_cm\": 60.0}, {\"stem_diam_bottom_in_cm\": 0.44, \"diam_top_in_cm\": 0.18, \"side_branches_in_cm\": 60.23, \"total_meja\": 0, \"tip_of_stem_broken\": 1, \"infested\": 0, \"total_number_adults\": 0, \"main_stem_length_in_cm\": 41.0}, {\"stem_diam_bottom_in_cm\": 0.69, \"diam_top_in_cm\": 0.13, \"side_branches_in_cm\": 60.23, \"total_meja\": 23, \"tip_of_stem_broken\": 0, \"infested\": 1, \"total_number_adults\": 23, \"main_stem_length_in_cm\": 34.0}, {\"stem_diam_bottom_in_cm\": 0.2, \"diam_top_in_cm\": 0.18, \"side_branches_in_cm\": 60.23, \"total_meja\": 0, \"tip_of_stem_broken\": 0, \"infested\": 0, \"total_number_adults\": 0, \"main_stem_length_in_cm\": 6.0}, {\"stem_diam_bottom_in_cm\": 0.58, \"diam_top_in_cm\": 0.18, \"side_branches_in_cm\": 60.23, \"total_meja\": 0, \"tip_of_stem_broken\": 0, \"infested\": 0, \"total_number_adults\": 0, \"main_stem_length_in_cm\": 93.0}, {\"stem_diam_bottom_in_cm\": 0.65, \"diam_top_in_cm\": 0.3, \"side_branches_in_cm\": 60.23, \"total_meja\": 31, \"tip_of_stem_broken\": 1, \"infested\": 1, \"total_number_adults\": 31, \"main_stem_length_in_cm\": 45.0}, {\"stem_diam_bottom_in_cm\": 0.67, \"diam_top_in_cm\": 0.18, \"side_branches_in_cm\": 60.23, \"total_meja\": 10, \"tip_of_stem_broken\": 0, \"infested\": 1, \"total_number_adults\": 5, \"main_stem_length_in_cm\": 43.0}, {\"stem_diam_bottom_in_cm\": 0.38, \"diam_top_in_cm\": 0.18, \"side_branches_in_cm\": 32.0, \"total_meja\": 0, \"tip_of_stem_broken\": 1, \"infested\": 0, \"total_number_adults\": 0, \"main_stem_length_in_cm\": 28.0}, {\"stem_diam_bottom_in_cm\": 0.44, \"diam_top_in_cm\": 0.18, \"side_branches_in_cm\": 60.23, \"total_meja\": 19, \"tip_of_stem_broken\": 0, \"infested\": 1, \"total_number_adults\": 3, \"main_stem_length_in_cm\": 26.0}, {\"stem_diam_bottom_in_cm\": 0.7, \"diam_top_in_cm\": 0.41, \"side_branches_in_cm\": 60.23, \"total_meja\": 6, \"tip_of_stem_broken\": 1, \"infested\": 1, \"total_number_adults\": 1, \"main_stem_length_in_cm\": 46.0}, {\"stem_diam_bottom_in_cm\": 0.65, \"diam_top_in_cm\": 0.18, \"side_branches_in_cm\": 60.23, \"total_meja\": 0, \"tip_of_stem_broken\": 1, \"infested\": 0, \"total_number_adults\": 0, \"main_stem_length_in_cm\": 89.0}, {\"stem_diam_bottom_in_cm\": 0.29, \"diam_top_in_cm\": 0.18, \"side_branches_in_cm\": 60.23, \"total_meja\": 0, \"tip_of_stem_broken\": 1, \"infested\": 0, \"total_number_adults\": 0, \"main_stem_length_in_cm\": 22.0}, {\"stem_diam_bottom_in_cm\": 0.24, \"diam_top_in_cm\": 0.18, \"side_branches_in_cm\": 60.23, \"total_meja\": 0, \"tip_of_stem_broken\": 1, \"infested\": 0, \"total_number_adults\": 0, \"main_stem_length_in_cm\": 43.0}, {\"stem_diam_bottom_in_cm\": 0.41, \"diam_top_in_cm\": 0.18, \"side_branches_in_cm\": 60.23, \"total_meja\": 0, \"tip_of_stem_broken\": 1, \"infested\": 0, \"total_number_adults\": 0, \"main_stem_length_in_cm\": 38.0}, {\"stem_diam_bottom_in_cm\": 0.42, \"diam_top_in_cm\": 0.18, \"side_branches_in_cm\": 14.0, \"total_meja\": 0, \"tip_of_stem_broken\": 1, \"infested\": 0, \"total_number_adults\": 0, \"main_stem_length_in_cm\": 52.0}, {\"stem_diam_bottom_in_cm\": 0.71, \"diam_top_in_cm\": 0.18, \"side_branches_in_cm\": 60.23, \"total_meja\": 4, \"tip_of_stem_broken\": 1, \"infested\": 1, \"total_number_adults\": 0, \"main_stem_length_in_cm\": 86.0}, {\"stem_diam_bottom_in_cm\": 0.84, \"diam_top_in_cm\": 0.18, \"side_branches_in_cm\": 60.23, \"total_meja\": 0, \"tip_of_stem_broken\": 0, \"infested\": 0, \"total_number_adults\": 0, \"main_stem_length_in_cm\": 111.0}, {\"stem_diam_bottom_in_cm\": 0.53, \"diam_top_in_cm\": 0.18, \"side_branches_in_cm\": 22.0, \"total_meja\": 0, \"tip_of_stem_broken\": 1, \"infested\": 0, \"total_number_adults\": 0, \"main_stem_length_in_cm\": 47.0}, {\"stem_diam_bottom_in_cm\": 0.52, \"diam_top_in_cm\": 0.34, \"side_branches_in_cm\": 60.23, \"total_meja\": 4, \"tip_of_stem_broken\": 1, \"infested\": 1, \"total_number_adults\": 1, \"main_stem_length_in_cm\": 46.0}, {\"stem_diam_bottom_in_cm\": 0.61, \"diam_top_in_cm\": 0.26, \"side_branches_in_cm\": 60.23, \"total_meja\": 34, \"tip_of_stem_broken\": 1, \"infested\": 1, \"total_number_adults\": 34, \"main_stem_length_in_cm\": 33.0}, {\"stem_diam_bottom_in_cm\": 0.47, \"diam_top_in_cm\": 0.14, \"side_branches_in_cm\": 60.23, \"total_meja\": 19, \"tip_of_stem_broken\": 0, \"infested\": 1, \"total_number_adults\": 18, \"main_stem_length_in_cm\": 43.0}, {\"stem_diam_bottom_in_cm\": 0.41, \"diam_top_in_cm\": 0.18, \"side_branches_in_cm\": 60.23, \"total_meja\": 0, \"tip_of_stem_broken\": 1, \"infested\": 0, \"total_number_adults\": 0, \"main_stem_length_in_cm\": 45.0}, {\"stem_diam_bottom_in_cm\": 0.44, \"diam_top_in_cm\": 0.18, \"side_branches_in_cm\": 60.23, \"total_meja\": 0, \"tip_of_stem_broken\": 1, \"infested\": 0, \"total_number_adults\": 0, \"main_stem_length_in_cm\": 78.0}, {\"stem_diam_bottom_in_cm\": 0.41, \"diam_top_in_cm\": 0.09, \"side_branches_in_cm\": 60.23, \"total_meja\": 3, \"tip_of_stem_broken\": 0, \"infested\": 1, \"total_number_adults\": 0, \"main_stem_length_in_cm\": 28.0}, {\"stem_diam_bottom_in_cm\": 0.31, \"diam_top_in_cm\": 0.07, \"side_branches_in_cm\": 60.23, \"total_meja\": 2, \"tip_of_stem_broken\": 1, \"infested\": 1, \"total_number_adults\": 2, \"main_stem_length_in_cm\": 43.0}, {\"stem_diam_bottom_in_cm\": 0.31, \"diam_top_in_cm\": 0.18, \"side_branches_in_cm\": 60.23, \"total_meja\": 0, \"tip_of_stem_broken\": 1, \"infested\": 0, \"total_number_adults\": 0, \"main_stem_length_in_cm\": 36.0}, {\"stem_diam_bottom_in_cm\": 0.6, \"diam_top_in_cm\": 0.53, \"side_branches_in_cm\": 60.23, \"total_meja\": 10, \"tip_of_stem_broken\": 1, \"infested\": 1, \"total_number_adults\": 2, \"main_stem_length_in_cm\": 41.0}, {\"stem_diam_bottom_in_cm\": 0.48, \"diam_top_in_cm\": 0.28, \"side_branches_in_cm\": 60.23, \"total_meja\": 26, \"tip_of_stem_broken\": 1, \"infested\": 1, \"total_number_adults\": 22, \"main_stem_length_in_cm\": 31.0}, {\"stem_diam_bottom_in_cm\": 0.43, \"diam_top_in_cm\": 0.18, \"side_branches_in_cm\": 60.23, \"total_meja\": 6, \"tip_of_stem_broken\": 0, \"infested\": 1, \"total_number_adults\": 0, \"main_stem_length_in_cm\": 40.0}, {\"stem_diam_bottom_in_cm\": 0.61, \"diam_top_in_cm\": 0.18, \"side_branches_in_cm\": 60.23, \"total_meja\": 0, \"tip_of_stem_broken\": 1, \"infested\": 0, \"total_number_adults\": 0, \"main_stem_length_in_cm\": 52.0}, {\"stem_diam_bottom_in_cm\": 0.46, \"diam_top_in_cm\": 0.18, \"side_branches_in_cm\": 60.23, \"total_meja\": 0, \"tip_of_stem_broken\": 1, \"infested\": 0, \"total_number_adults\": 0, \"main_stem_length_in_cm\": 60.0}, {\"stem_diam_bottom_in_cm\": 0.38, \"diam_top_in_cm\": 0.14, \"side_branches_in_cm\": 60.23, \"total_meja\": 5, \"tip_of_stem_broken\": 1, \"infested\": 1, \"total_number_adults\": 5, \"main_stem_length_in_cm\": 37.0}, {\"stem_diam_bottom_in_cm\": 0.63, \"diam_top_in_cm\": 0.1, \"side_branches_in_cm\": 60.23, \"total_meja\": 0, \"tip_of_stem_broken\": 1, \"infested\": 0, \"total_number_adults\": 0, \"main_stem_length_in_cm\": 76.0}, {\"stem_diam_bottom_in_cm\": 0.55, \"diam_top_in_cm\": 0.43, \"side_branches_in_cm\": 60.23, \"total_meja\": 5, \"tip_of_stem_broken\": 1, \"infested\": 1, \"total_number_adults\": 0, \"main_stem_length_in_cm\": 37.0}, {\"stem_diam_bottom_in_cm\": 0.63, \"diam_top_in_cm\": 0.18, \"side_branches_in_cm\": 60.23, \"total_meja\": 19, \"tip_of_stem_broken\": 0, \"infested\": 1, \"total_number_adults\": 2, \"main_stem_length_in_cm\": 48.0}, {\"stem_diam_bottom_in_cm\": 0.45, \"diam_top_in_cm\": 0.27, \"side_branches_in_cm\": 60.23, \"total_meja\": 7, \"tip_of_stem_broken\": 1, \"infested\": 1, \"total_number_adults\": 1, \"main_stem_length_in_cm\": 32.0}, {\"stem_diam_bottom_in_cm\": 0.47, \"diam_top_in_cm\": 0.18, \"side_branches_in_cm\": 60.23, \"total_meja\": 0, \"tip_of_stem_broken\": 0, \"infested\": 0, \"total_number_adults\": 0, \"main_stem_length_in_cm\": 76.0}, {\"stem_diam_bottom_in_cm\": 0.5, \"diam_top_in_cm\": 0.18, \"side_branches_in_cm\": 60.23, \"total_meja\": 2, \"tip_of_stem_broken\": 1, \"infested\": 1, \"total_number_adults\": 2, \"main_stem_length_in_cm\": 53.0}, {\"stem_diam_bottom_in_cm\": 0.38, \"diam_top_in_cm\": 0.13, \"side_branches_in_cm\": 60.23, \"total_meja\": 3, \"tip_of_stem_broken\": 1, \"infested\": 1, \"total_number_adults\": 3, \"main_stem_length_in_cm\": 64.0}, {\"stem_diam_bottom_in_cm\": 0.41, \"diam_top_in_cm\": 0.18, \"side_branches_in_cm\": 49.0, \"total_meja\": 0, \"tip_of_stem_broken\": 1, \"infested\": 0, \"total_number_adults\": 0, \"main_stem_length_in_cm\": 31.0}, {\"stem_diam_bottom_in_cm\": 0.48, \"diam_top_in_cm\": 0.18, \"side_branches_in_cm\": 60.23, \"total_meja\": 0, \"tip_of_stem_broken\": 1, \"infested\": 0, \"total_number_adults\": 0, \"main_stem_length_in_cm\": 41.0}, {\"stem_diam_bottom_in_cm\": 0.63, \"diam_top_in_cm\": 0.18, \"side_branches_in_cm\": 60.23, \"total_meja\": 0, \"tip_of_stem_broken\": 1, \"infested\": 0, \"total_number_adults\": 0, \"main_stem_length_in_cm\": 104.0}, {\"stem_diam_bottom_in_cm\": 0.53, \"diam_top_in_cm\": 0.12, \"side_branches_in_cm\": 60.23, \"total_meja\": 3, \"tip_of_stem_broken\": 1, \"infested\": 1, \"total_number_adults\": 3, \"main_stem_length_in_cm\": 73.0}, {\"stem_diam_bottom_in_cm\": 0.33, \"diam_top_in_cm\": 0.06, \"side_branches_in_cm\": 60.23, \"total_meja\": 4, \"tip_of_stem_broken\": 0, \"infested\": 1, \"total_number_adults\": 4, \"main_stem_length_in_cm\": 38.0}, {\"stem_diam_bottom_in_cm\": 0.66, \"diam_top_in_cm\": 0.22, \"side_branches_in_cm\": 60.23, \"total_meja\": 3, \"tip_of_stem_broken\": 1, \"infested\": 1, \"total_number_adults\": 3, \"main_stem_length_in_cm\": 36.0}, {\"stem_diam_bottom_in_cm\": 0.5, \"diam_top_in_cm\": 0.18, \"side_branches_in_cm\": 31.0, \"total_meja\": 0, \"tip_of_stem_broken\": 1, \"infested\": 0, \"total_number_adults\": 0, \"main_stem_length_in_cm\": 69.0}, {\"stem_diam_bottom_in_cm\": 0.78, \"diam_top_in_cm\": 0.53, \"side_branches_in_cm\": 60.23, \"total_meja\": 7, \"tip_of_stem_broken\": 1, \"infested\": 1, \"total_number_adults\": 0, \"main_stem_length_in_cm\": 46.0}, {\"stem_diam_bottom_in_cm\": 0.69, \"diam_top_in_cm\": 0.33, \"side_branches_in_cm\": 60.23, \"total_meja\": 11, \"tip_of_stem_broken\": 1, \"infested\": 1, \"total_number_adults\": 0, \"main_stem_length_in_cm\": 62.0}, {\"stem_diam_bottom_in_cm\": 0.53, \"diam_top_in_cm\": 0.18, \"side_branches_in_cm\": 60.23, \"total_meja\": 0, \"tip_of_stem_broken\": 1, \"infested\": 0, \"total_number_adults\": 0, \"main_stem_length_in_cm\": 47.0}, {\"stem_diam_bottom_in_cm\": 0.24, \"diam_top_in_cm\": 0.18, \"side_branches_in_cm\": 60.23, \"total_meja\": 0, \"tip_of_stem_broken\": 0, \"infested\": 0, \"total_number_adults\": 0, \"main_stem_length_in_cm\": 10.0}, {\"stem_diam_bottom_in_cm\": 0.23, \"diam_top_in_cm\": 0.18, \"side_branches_in_cm\": 60.23, \"total_meja\": 0, \"tip_of_stem_broken\": 1, \"infested\": 0, \"total_number_adults\": 0, \"main_stem_length_in_cm\": 13.0}, {\"stem_diam_bottom_in_cm\": 0.52, \"diam_top_in_cm\": 0.18, \"side_branches_in_cm\": 60.23, \"total_meja\": 0, \"tip_of_stem_broken\": 1, \"infested\": 0, \"total_number_adults\": 0, \"main_stem_length_in_cm\": 32.0}, {\"stem_diam_bottom_in_cm\": 0.75, \"diam_top_in_cm\": 0.18, \"side_branches_in_cm\": 60.23, \"total_meja\": 5, \"tip_of_stem_broken\": 0, \"infested\": 1, \"total_number_adults\": 0, \"main_stem_length_in_cm\": 111.0}, {\"stem_diam_bottom_in_cm\": 0.24, \"diam_top_in_cm\": 0.18, \"side_branches_in_cm\": 60.23, \"total_meja\": 0, \"tip_of_stem_broken\": 0, \"infested\": 0, \"total_number_adults\": 0, \"main_stem_length_in_cm\": 13.0}, {\"stem_diam_bottom_in_cm\": 0.7, \"diam_top_in_cm\": 0.18, \"side_branches_in_cm\": 60.23, \"total_meja\": 3, \"tip_of_stem_broken\": 0, \"infested\": 1, \"total_number_adults\": 1, \"main_stem_length_in_cm\": 107.0}, {\"stem_diam_bottom_in_cm\": 0.54, \"diam_top_in_cm\": 0.11, \"side_branches_in_cm\": 60.23, \"total_meja\": 0, \"tip_of_stem_broken\": 1, \"infested\": 0, \"total_number_adults\": 0, \"main_stem_length_in_cm\": 73.0}, {\"stem_diam_bottom_in_cm\": 0.84, \"diam_top_in_cm\": 0.18, \"side_branches_in_cm\": 60.23, \"total_meja\": 0, \"tip_of_stem_broken\": 1, \"infested\": 0, \"total_number_adults\": 0, \"main_stem_length_in_cm\": 59.0}, {\"stem_diam_bottom_in_cm\": 0.56, \"diam_top_in_cm\": 0.08, \"side_branches_in_cm\": 60.23, \"total_meja\": 0, \"tip_of_stem_broken\": 0, \"infested\": 0, \"total_number_adults\": 0, \"main_stem_length_in_cm\": 85.0}, {\"stem_diam_bottom_in_cm\": 0.7, \"diam_top_in_cm\": 0.18, \"side_branches_in_cm\": 60.23, \"total_meja\": 12, \"tip_of_stem_broken\": 0, \"infested\": 1, \"total_number_adults\": 1, \"main_stem_length_in_cm\": 87.0}, {\"stem_diam_bottom_in_cm\": 0.7, \"diam_top_in_cm\": 0.32, \"side_branches_in_cm\": 60.23, \"total_meja\": 14, \"tip_of_stem_broken\": 1, \"infested\": 1, \"total_number_adults\": 0, \"main_stem_length_in_cm\": 64.0}, {\"stem_diam_bottom_in_cm\": 0.43, \"diam_top_in_cm\": 0.18, \"side_branches_in_cm\": 60.23, \"total_meja\": 0, \"tip_of_stem_broken\": 0, \"infested\": 0, \"total_number_adults\": 0, \"main_stem_length_in_cm\": 47.0}, {\"stem_diam_bottom_in_cm\": 0.38, \"diam_top_in_cm\": 0.18, \"side_branches_in_cm\": 60.23, \"total_meja\": 0, \"tip_of_stem_broken\": 1, \"infested\": 0, \"total_number_adults\": 0, \"main_stem_length_in_cm\": 24.0}, {\"stem_diam_bottom_in_cm\": 0.19, \"diam_top_in_cm\": 0.18, \"side_branches_in_cm\": 60.23, \"total_meja\": 0, \"tip_of_stem_broken\": 0, \"infested\": 0, \"total_number_adults\": 0, \"main_stem_length_in_cm\": 2.0}, {\"stem_diam_bottom_in_cm\": 0.53, \"diam_top_in_cm\": 0.18, \"side_branches_in_cm\": 127.0, \"total_meja\": 0, \"tip_of_stem_broken\": 1, \"infested\": 0, \"total_number_adults\": 0, \"main_stem_length_in_cm\": 16.0}, {\"stem_diam_bottom_in_cm\": 0.61, \"diam_top_in_cm\": 0.47, \"side_branches_in_cm\": 60.23, \"total_meja\": 1, \"tip_of_stem_broken\": 1, \"infested\": 1, \"total_number_adults\": 0, \"main_stem_length_in_cm\": 49.0}, {\"stem_diam_bottom_in_cm\": 0.8, \"diam_top_in_cm\": 0.35, \"side_branches_in_cm\": 60.23, \"total_meja\": 1, \"tip_of_stem_broken\": 1, \"infested\": 1, \"total_number_adults\": 1, \"main_stem_length_in_cm\": 72.0}, {\"stem_diam_bottom_in_cm\": 0.57, \"diam_top_in_cm\": 0.18, \"side_branches_in_cm\": 60.23, \"total_meja\": 2, \"tip_of_stem_broken\": 0, \"infested\": 1, \"total_number_adults\": 0, \"main_stem_length_in_cm\": 60.0}, {\"stem_diam_bottom_in_cm\": 0.86, \"diam_top_in_cm\": 0.3, \"side_branches_in_cm\": 60.23, \"total_meja\": 1, \"tip_of_stem_broken\": 1, \"infested\": 1, \"total_number_adults\": 0, \"main_stem_length_in_cm\": 79.0}, {\"stem_diam_bottom_in_cm\": 0.8, \"diam_top_in_cm\": 0.18, \"side_branches_in_cm\": 60.23, \"total_meja\": 3, \"tip_of_stem_broken\": 0, \"infested\": 1, \"total_number_adults\": 0, \"main_stem_length_in_cm\": 53.0}, {\"stem_diam_bottom_in_cm\": 0.14, \"diam_top_in_cm\": 0.18, \"side_branches_in_cm\": 60.23, \"total_meja\": 0, \"tip_of_stem_broken\": 0, \"infested\": 0, \"total_number_adults\": 0, \"main_stem_length_in_cm\": 11.0}, {\"stem_diam_bottom_in_cm\": 0.4, \"diam_top_in_cm\": 0.18, \"side_branches_in_cm\": 60.23, \"total_meja\": 0, \"tip_of_stem_broken\": 1, \"infested\": 0, \"total_number_adults\": 0, \"main_stem_length_in_cm\": 54.0}, {\"stem_diam_bottom_in_cm\": 0.14, \"diam_top_in_cm\": 0.18, \"side_branches_in_cm\": 60.23, \"total_meja\": 0, \"tip_of_stem_broken\": 0, \"infested\": 0, \"total_number_adults\": 0, \"main_stem_length_in_cm\": 7.0}, {\"stem_diam_bottom_in_cm\": 0.81, \"diam_top_in_cm\": 0.21, \"side_branches_in_cm\": 60.23, \"total_meja\": 0, \"tip_of_stem_broken\": 1, \"infested\": 0, \"total_number_adults\": 0, \"main_stem_length_in_cm\": 85.0}, {\"stem_diam_bottom_in_cm\": 0.52, \"diam_top_in_cm\": 0.18, \"side_branches_in_cm\": 25.0, \"total_meja\": 0, \"tip_of_stem_broken\": 1, \"infested\": 0, \"total_number_adults\": 0, \"main_stem_length_in_cm\": 40.0}, {\"stem_diam_bottom_in_cm\": 0.36, \"diam_top_in_cm\": 0.18, \"side_branches_in_cm\": 60.23, \"total_meja\": 0, \"tip_of_stem_broken\": 1, \"infested\": 0, \"total_number_adults\": 0, \"main_stem_length_in_cm\": 21.0}, {\"stem_diam_bottom_in_cm\": 0.27, \"diam_top_in_cm\": 0.18, \"side_branches_in_cm\": 60.23, \"total_meja\": 0, \"tip_of_stem_broken\": 0, \"infested\": 0, \"total_number_adults\": 0, \"main_stem_length_in_cm\": 23.5}, {\"stem_diam_bottom_in_cm\": 0.57, \"diam_top_in_cm\": 0.18, \"side_branches_in_cm\": 60.23, \"total_meja\": 20, \"tip_of_stem_broken\": 1, \"infested\": 1, \"total_number_adults\": 19, \"main_stem_length_in_cm\": 44.0}, {\"stem_diam_bottom_in_cm\": 0.55, \"diam_top_in_cm\": 0.23, \"side_branches_in_cm\": 60.23, \"total_meja\": 14, \"tip_of_stem_broken\": 1, \"infested\": 1, \"total_number_adults\": 0, \"main_stem_length_in_cm\": 74.0}, {\"stem_diam_bottom_in_cm\": 0.31, \"diam_top_in_cm\": 0.16, \"side_branches_in_cm\": 60.23, \"total_meja\": 6, \"tip_of_stem_broken\": 1, \"infested\": 1, \"total_number_adults\": 6, \"main_stem_length_in_cm\": 34.0}, {\"stem_diam_bottom_in_cm\": 0.4, \"diam_top_in_cm\": 0.09, \"side_branches_in_cm\": 60.23, \"total_meja\": 8, \"tip_of_stem_broken\": 0, \"infested\": 1, \"total_number_adults\": 6, \"main_stem_length_in_cm\": 37.0}, {\"stem_diam_bottom_in_cm\": 0.33, \"diam_top_in_cm\": 0.18, \"side_branches_in_cm\": 39.0, \"total_meja\": 6, \"tip_of_stem_broken\": 0, \"infested\": 1, \"total_number_adults\": 1, \"main_stem_length_in_cm\": 58.0}, {\"stem_diam_bottom_in_cm\": 0.64, \"diam_top_in_cm\": 0.35, \"side_branches_in_cm\": 60.23, \"total_meja\": 22, \"tip_of_stem_broken\": 1, \"infested\": 1, \"total_number_adults\": 22, \"main_stem_length_in_cm\": 27.5}, {\"stem_diam_bottom_in_cm\": 0.35, \"diam_top_in_cm\": 0.12, \"side_branches_in_cm\": 60.23, \"total_meja\": 1, \"tip_of_stem_broken\": 1, \"infested\": 1, \"total_number_adults\": 1, \"main_stem_length_in_cm\": 51.0}, {\"stem_diam_bottom_in_cm\": 0.44, \"diam_top_in_cm\": 0.18, \"side_branches_in_cm\": 60.23, \"total_meja\": 0, \"tip_of_stem_broken\": 1, \"infested\": 0, \"total_number_adults\": 0, \"main_stem_length_in_cm\": 51.0}, {\"stem_diam_bottom_in_cm\": 0.7, \"diam_top_in_cm\": 0.18, \"side_branches_in_cm\": 60.23, \"total_meja\": 0, \"tip_of_stem_broken\": 1, \"infested\": 0, \"total_number_adults\": 0, \"main_stem_length_in_cm\": 77.0}, {\"stem_diam_bottom_in_cm\": 0.57, \"diam_top_in_cm\": 0.44, \"side_branches_in_cm\": 60.23, \"total_meja\": 6, \"tip_of_stem_broken\": 1, \"infested\": 1, \"total_number_adults\": 3, \"main_stem_length_in_cm\": 43.0}, {\"stem_diam_bottom_in_cm\": 0.44, \"diam_top_in_cm\": 0.07, \"side_branches_in_cm\": 60.23, \"total_meja\": 1, \"tip_of_stem_broken\": 0, \"infested\": 1, \"total_number_adults\": 1, \"main_stem_length_in_cm\": 72.0}, {\"stem_diam_bottom_in_cm\": 0.56, \"diam_top_in_cm\": 0.05, \"side_branches_in_cm\": 60.23, \"total_meja\": 0, \"tip_of_stem_broken\": 0, \"infested\": 0, \"total_number_adults\": 0, \"main_stem_length_in_cm\": 75.0}, {\"stem_diam_bottom_in_cm\": 0.23, \"diam_top_in_cm\": 0.18, \"side_branches_in_cm\": 60.23, \"total_meja\": 0, \"tip_of_stem_broken\": 0, \"infested\": 0, \"total_number_adults\": 0, \"main_stem_length_in_cm\": 12.0}, {\"stem_diam_bottom_in_cm\": 0.19, \"diam_top_in_cm\": 0.18, \"side_branches_in_cm\": 60.23, \"total_meja\": 0, \"tip_of_stem_broken\": 0, \"infested\": 0, \"total_number_adults\": 0, \"main_stem_length_in_cm\": 18.0}, {\"stem_diam_bottom_in_cm\": 0.59, \"diam_top_in_cm\": 0.18, \"side_branches_in_cm\": 60.23, \"total_meja\": 14, \"tip_of_stem_broken\": 0, \"infested\": 1, \"total_number_adults\": 2, \"main_stem_length_in_cm\": 52.0}, {\"stem_diam_bottom_in_cm\": 0.89, \"diam_top_in_cm\": 0.18, \"side_branches_in_cm\": 60.23, \"total_meja\": 6, \"tip_of_stem_broken\": 0, \"infested\": 1, \"total_number_adults\": 1, \"main_stem_length_in_cm\": 125.0}, {\"stem_diam_bottom_in_cm\": 0.43, \"diam_top_in_cm\": 0.18, \"side_branches_in_cm\": 60.23, \"total_meja\": 9, \"tip_of_stem_broken\": 0, \"infested\": 1, \"total_number_adults\": 2, \"main_stem_length_in_cm\": 53.0}, {\"stem_diam_bottom_in_cm\": 0.51, \"diam_top_in_cm\": 0.18, \"side_branches_in_cm\": 60.23, \"total_meja\": 7, \"tip_of_stem_broken\": 0, \"infested\": 1, \"total_number_adults\": 1, \"main_stem_length_in_cm\": 68.0}, {\"stem_diam_bottom_in_cm\": 0.88, \"diam_top_in_cm\": 0.18, \"side_branches_in_cm\": 60.23, \"total_meja\": 0, \"tip_of_stem_broken\": 1, \"infested\": 0, \"total_number_adults\": 0, \"main_stem_length_in_cm\": 96.0}, {\"stem_diam_bottom_in_cm\": 0.46, \"diam_top_in_cm\": 0.18, \"side_branches_in_cm\": 60.23, \"total_meja\": 10, \"tip_of_stem_broken\": 1, \"infested\": 1, \"total_number_adults\": 10, \"main_stem_length_in_cm\": 43.0}, {\"stem_diam_bottom_in_cm\": 0.63, \"diam_top_in_cm\": 0.18, \"side_branches_in_cm\": 79.0, \"total_meja\": 0, \"tip_of_stem_broken\": 1, \"infested\": 0, \"total_number_adults\": 0, \"main_stem_length_in_cm\": 39.0}, {\"stem_diam_bottom_in_cm\": 0.53, \"diam_top_in_cm\": 0.18, \"side_branches_in_cm\": 60.23, \"total_meja\": 35, \"tip_of_stem_broken\": 0, \"infested\": 1, \"total_number_adults\": 7, \"main_stem_length_in_cm\": 116.0}, {\"stem_diam_bottom_in_cm\": 0.53, \"diam_top_in_cm\": 0.08, \"side_branches_in_cm\": 60.23, \"total_meja\": 16, \"tip_of_stem_broken\": 0, \"infested\": 1, \"total_number_adults\": 16, \"main_stem_length_in_cm\": 54.0}, {\"stem_diam_bottom_in_cm\": 0.67, \"diam_top_in_cm\": 0.18, \"side_branches_in_cm\": 60.23, \"total_meja\": 1, \"tip_of_stem_broken\": 0, \"infested\": 1, \"total_number_adults\": 1, \"main_stem_length_in_cm\": 113.0}, {\"stem_diam_bottom_in_cm\": 0.38, \"diam_top_in_cm\": 0.11, \"side_branches_in_cm\": 60.23, \"total_meja\": 22, \"tip_of_stem_broken\": 0, \"infested\": 1, \"total_number_adults\": 22, \"main_stem_length_in_cm\": 29.0}, {\"stem_diam_bottom_in_cm\": 0.37, \"diam_top_in_cm\": 0.18, \"side_branches_in_cm\": 60.23, \"total_meja\": 0, \"tip_of_stem_broken\": 1, \"infested\": 0, \"total_number_adults\": 0, \"main_stem_length_in_cm\": 33.0}, {\"stem_diam_bottom_in_cm\": 0.53, \"diam_top_in_cm\": 0.18, \"side_branches_in_cm\": 109.0, \"total_meja\": 4, \"tip_of_stem_broken\": 0, \"infested\": 1, \"total_number_adults\": 0, \"main_stem_length_in_cm\": 44.0}, {\"stem_diam_bottom_in_cm\": 0.33, \"diam_top_in_cm\": 0.18, \"side_branches_in_cm\": 60.23, \"total_meja\": 1, \"tip_of_stem_broken\": 0, \"infested\": 1, \"total_number_adults\": 0, \"main_stem_length_in_cm\": 43.0}, {\"stem_diam_bottom_in_cm\": 0.44, \"diam_top_in_cm\": 0.18, \"side_branches_in_cm\": 60.23, \"total_meja\": 0, \"tip_of_stem_broken\": 0, \"infested\": 0, \"total_number_adults\": 0, \"main_stem_length_in_cm\": 52.0}, {\"stem_diam_bottom_in_cm\": 0.51, \"diam_top_in_cm\": 0.21, \"side_branches_in_cm\": 60.23, \"total_meja\": 20, \"tip_of_stem_broken\": 1, \"infested\": 1, \"total_number_adults\": 12, \"main_stem_length_in_cm\": 42.0}, {\"stem_diam_bottom_in_cm\": 0.33, \"diam_top_in_cm\": 0.18, \"side_branches_in_cm\": 60.23, \"total_meja\": 0, \"tip_of_stem_broken\": 1, \"infested\": 0, \"total_number_adults\": 0, \"main_stem_length_in_cm\": 42.0}, {\"stem_diam_bottom_in_cm\": 0.45, \"diam_top_in_cm\": 0.14, \"side_branches_in_cm\": 60.23, \"total_meja\": 9, \"tip_of_stem_broken\": 1, \"infested\": 1, \"total_number_adults\": 3, \"main_stem_length_in_cm\": 43.0}, {\"stem_diam_bottom_in_cm\": 0.42, \"diam_top_in_cm\": 0.05, \"side_branches_in_cm\": 60.23, \"total_meja\": 0, \"tip_of_stem_broken\": 0, \"infested\": 0, \"total_number_adults\": 0, \"main_stem_length_in_cm\": 66.0}, {\"stem_diam_bottom_in_cm\": 0.3, \"diam_top_in_cm\": 0.2, \"side_branches_in_cm\": 60.23, \"total_meja\": 5, \"tip_of_stem_broken\": 0, \"infested\": 1, \"total_number_adults\": 1, \"main_stem_length_in_cm\": 25.0}, {\"stem_diam_bottom_in_cm\": 0.24, \"diam_top_in_cm\": 0.18, \"side_branches_in_cm\": 60.23, \"total_meja\": 0, \"tip_of_stem_broken\": 0, \"infested\": 0, \"total_number_adults\": 0, \"main_stem_length_in_cm\": 9.0}, {\"stem_diam_bottom_in_cm\": 0.42, \"diam_top_in_cm\": 0.07, \"side_branches_in_cm\": 60.23, \"total_meja\": 0, \"tip_of_stem_broken\": 0, \"infested\": 0, \"total_number_adults\": 0, \"main_stem_length_in_cm\": 65.0}, {\"stem_diam_bottom_in_cm\": 0.49, \"diam_top_in_cm\": 0.28, \"side_branches_in_cm\": 60.23, \"total_meja\": 6, \"tip_of_stem_broken\": 1, \"infested\": 1, \"total_number_adults\": 1, \"main_stem_length_in_cm\": 54.0}, {\"stem_diam_bottom_in_cm\": 0.43, \"diam_top_in_cm\": 0.06, \"side_branches_in_cm\": 60.23, \"total_meja\": 5, \"tip_of_stem_broken\": 0, \"infested\": 1, \"total_number_adults\": 5, \"main_stem_length_in_cm\": 58.0}, {\"stem_diam_bottom_in_cm\": 0.62, \"diam_top_in_cm\": 0.18, \"side_branches_in_cm\": 60.23, \"total_meja\": 0, \"tip_of_stem_broken\": 1, \"infested\": 0, \"total_number_adults\": 0, \"main_stem_length_in_cm\": 44.0}, {\"stem_diam_bottom_in_cm\": 0.5, \"diam_top_in_cm\": 0.18, \"side_branches_in_cm\": 60.23, \"total_meja\": 2, \"tip_of_stem_broken\": 0, \"infested\": 1, \"total_number_adults\": 0, \"main_stem_length_in_cm\": 65.0}, {\"stem_diam_bottom_in_cm\": 0.21, \"diam_top_in_cm\": 0.18, \"side_branches_in_cm\": 60.23, \"total_meja\": 0, \"tip_of_stem_broken\": 0, \"infested\": 0, \"total_number_adults\": 0, \"main_stem_length_in_cm\": 12.5}, {\"stem_diam_bottom_in_cm\": 0.47, \"diam_top_in_cm\": 0.46, \"side_branches_in_cm\": 60.23, \"total_meja\": 10, \"tip_of_stem_broken\": 1, \"infested\": 1, \"total_number_adults\": 1, \"main_stem_length_in_cm\": 36.0}, {\"stem_diam_bottom_in_cm\": 0.63, \"diam_top_in_cm\": 0.18, \"side_branches_in_cm\": 60.23, \"total_meja\": 15, \"tip_of_stem_broken\": 0, \"infested\": 1, \"total_number_adults\": 2, \"main_stem_length_in_cm\": 64.0}, {\"stem_diam_bottom_in_cm\": 0.34, \"diam_top_in_cm\": 0.18, \"side_branches_in_cm\": 60.23, \"total_meja\": 0, \"tip_of_stem_broken\": 0, \"infested\": 0, \"total_number_adults\": 0, \"main_stem_length_in_cm\": 57.0}, {\"stem_diam_bottom_in_cm\": 0.24, \"diam_top_in_cm\": 0.14, \"side_branches_in_cm\": 60.23, \"total_meja\": 10, \"tip_of_stem_broken\": 0, \"infested\": 1, \"total_number_adults\": 10, \"main_stem_length_in_cm\": 25.0}, {\"stem_diam_bottom_in_cm\": 0.51, \"diam_top_in_cm\": 0.11, \"side_branches_in_cm\": 60.23, \"total_meja\": 0, \"tip_of_stem_broken\": 1, \"infested\": 0, \"total_number_adults\": 0, \"main_stem_length_in_cm\": 83.0}, {\"stem_diam_bottom_in_cm\": 0.24, \"diam_top_in_cm\": 0.18, \"side_branches_in_cm\": 60.23, \"total_meja\": 0, \"tip_of_stem_broken\": 0, \"infested\": 0, \"total_number_adults\": 0, \"main_stem_length_in_cm\": 10.0}, {\"stem_diam_bottom_in_cm\": 0.55, \"diam_top_in_cm\": 0.18, \"side_branches_in_cm\": 24.0, \"total_meja\": 0, \"tip_of_stem_broken\": 1, \"infested\": 0, \"total_number_adults\": 0, \"main_stem_length_in_cm\": 39.0}, {\"stem_diam_bottom_in_cm\": 0.35, \"diam_top_in_cm\": 0.18, \"side_branches_in_cm\": 60.23, \"total_meja\": 0, \"tip_of_stem_broken\": 1, \"infested\": 0, \"total_number_adults\": 0, \"main_stem_length_in_cm\": 30.0}, {\"stem_diam_bottom_in_cm\": 0.58, \"diam_top_in_cm\": 0.18, \"side_branches_in_cm\": 46.0, \"total_meja\": 0, \"tip_of_stem_broken\": 1, \"infested\": 0, \"total_number_adults\": 0, \"main_stem_length_in_cm\": 38.0}, {\"stem_diam_bottom_in_cm\": 0.39, \"diam_top_in_cm\": 0.18, \"side_branches_in_cm\": 60.23, \"total_meja\": 3, \"tip_of_stem_broken\": 0, \"infested\": 1, \"total_number_adults\": 0, \"main_stem_length_in_cm\": 43.0}, {\"stem_diam_bottom_in_cm\": 0.41, \"diam_top_in_cm\": 0.18, \"side_branches_in_cm\": 60.23, \"total_meja\": 21, \"tip_of_stem_broken\": 0, \"infested\": 1, \"total_number_adults\": 1, \"main_stem_length_in_cm\": 61.0}, {\"stem_diam_bottom_in_cm\": 0.42, \"diam_top_in_cm\": 0.18, \"side_branches_in_cm\": 60.23, \"total_meja\": 21, \"tip_of_stem_broken\": 0, \"infested\": 1, \"total_number_adults\": 4, \"main_stem_length_in_cm\": 59.0}, {\"stem_diam_bottom_in_cm\": 0.36, \"diam_top_in_cm\": 0.18, \"side_branches_in_cm\": 60.23, \"total_meja\": 0, \"tip_of_stem_broken\": 1, \"infested\": 0, \"total_number_adults\": 0, \"main_stem_length_in_cm\": 42.0}, {\"stem_diam_bottom_in_cm\": 0.51, \"diam_top_in_cm\": 0.1, \"side_branches_in_cm\": 60.23, \"total_meja\": 31, \"tip_of_stem_broken\": 1, \"infested\": 1, \"total_number_adults\": 24, \"main_stem_length_in_cm\": 47.5}, {\"stem_diam_bottom_in_cm\": 0.59, \"diam_top_in_cm\": 0.18, \"side_branches_in_cm\": 60.23, \"total_meja\": 0, \"tip_of_stem_broken\": 1, \"infested\": 0, \"total_number_adults\": 0, \"main_stem_length_in_cm\": 25.0}, {\"stem_diam_bottom_in_cm\": 0.89, \"diam_top_in_cm\": 0.18, \"side_branches_in_cm\": 60.23, \"total_meja\": 28, \"tip_of_stem_broken\": 0, \"infested\": 1, \"total_number_adults\": 6, \"main_stem_length_in_cm\": 85.0}, {\"stem_diam_bottom_in_cm\": 0.68, \"diam_top_in_cm\": 0.18, \"side_branches_in_cm\": 60.23, \"total_meja\": 20, \"tip_of_stem_broken\": 0, \"infested\": 1, \"total_number_adults\": 3, \"main_stem_length_in_cm\": 51.0}, {\"stem_diam_bottom_in_cm\": 0.34, \"diam_top_in_cm\": 0.18, \"side_branches_in_cm\": 60.23, \"total_meja\": 0, \"tip_of_stem_broken\": 1, \"infested\": 0, \"total_number_adults\": 0, \"main_stem_length_in_cm\": 35.0}, {\"stem_diam_bottom_in_cm\": 0.51, \"diam_top_in_cm\": 0.18, \"side_branches_in_cm\": 60.23, \"total_meja\": 0, \"tip_of_stem_broken\": 0, \"infested\": 0, \"total_number_adults\": 0, \"main_stem_length_in_cm\": 110.0}, {\"stem_diam_bottom_in_cm\": 0.56, \"diam_top_in_cm\": 0.18, \"side_branches_in_cm\": 60.23, \"total_meja\": 13, \"tip_of_stem_broken\": 0, \"infested\": 1, \"total_number_adults\": 3, \"main_stem_length_in_cm\": 32.0}, {\"stem_diam_bottom_in_cm\": 0.53, \"diam_top_in_cm\": 0.18, \"side_branches_in_cm\": 60.23, \"total_meja\": 0, \"tip_of_stem_broken\": 1, \"infested\": 0, \"total_number_adults\": 0, \"main_stem_length_in_cm\": 45.0}, {\"stem_diam_bottom_in_cm\": 0.48, \"diam_top_in_cm\": 0.18, \"side_branches_in_cm\": 60.23, \"total_meja\": 8, \"tip_of_stem_broken\": 0, \"infested\": 1, \"total_number_adults\": 0, \"main_stem_length_in_cm\": 67.0}, {\"stem_diam_bottom_in_cm\": 0.8, \"diam_top_in_cm\": 0.3, \"side_branches_in_cm\": 60.23, \"total_meja\": 3, \"tip_of_stem_broken\": 1, \"infested\": 1, \"total_number_adults\": 2, \"main_stem_length_in_cm\": 75.0}, {\"stem_diam_bottom_in_cm\": 0.54, \"diam_top_in_cm\": 0.18, \"side_branches_in_cm\": 60.23, \"total_meja\": 10, \"tip_of_stem_broken\": 1, \"infested\": 1, \"total_number_adults\": 9, \"main_stem_length_in_cm\": 42.0}, {\"stem_diam_bottom_in_cm\": 0.53, \"diam_top_in_cm\": 0.18, \"side_branches_in_cm\": 22.0, \"total_meja\": 0, \"tip_of_stem_broken\": 1, \"infested\": 0, \"total_number_adults\": 0, \"main_stem_length_in_cm\": 31.0}, {\"stem_diam_bottom_in_cm\": 0.43, \"diam_top_in_cm\": 0.18, \"side_branches_in_cm\": 60.23, \"total_meja\": 10, \"tip_of_stem_broken\": 0, \"infested\": 1, \"total_number_adults\": 0, \"main_stem_length_in_cm\": 34.0}, {\"stem_diam_bottom_in_cm\": 0.33, \"diam_top_in_cm\": 0.18, \"side_branches_in_cm\": 60.23, \"total_meja\": 8, \"tip_of_stem_broken\": 0, \"infested\": 1, \"total_number_adults\": 0, \"main_stem_length_in_cm\": 38.0}, {\"stem_diam_bottom_in_cm\": 0.4, \"diam_top_in_cm\": 0.18, \"side_branches_in_cm\": 60.23, \"total_meja\": 9, \"tip_of_stem_broken\": 0, \"infested\": 1, \"total_number_adults\": 0, \"main_stem_length_in_cm\": 20.0}, {\"stem_diam_bottom_in_cm\": 0.55, \"diam_top_in_cm\": 0.18, \"side_branches_in_cm\": 60.23, \"total_meja\": 0, \"tip_of_stem_broken\": 0, \"infested\": 0, \"total_number_adults\": 0, \"main_stem_length_in_cm\": 86.0}, {\"stem_diam_bottom_in_cm\": 0.59, \"diam_top_in_cm\": 0.18, \"side_branches_in_cm\": 26.0, \"total_meja\": 1, \"tip_of_stem_broken\": 0, \"infested\": 1, \"total_number_adults\": 0, \"main_stem_length_in_cm\": 42.0}, {\"stem_diam_bottom_in_cm\": 0.62, \"diam_top_in_cm\": 0.18, \"side_branches_in_cm\": 83.0, \"total_meja\": 0, \"tip_of_stem_broken\": 0, \"infested\": 0, \"total_number_adults\": 0, \"main_stem_length_in_cm\": 64.0}, {\"stem_diam_bottom_in_cm\": 0.65, \"diam_top_in_cm\": 0.18, \"side_branches_in_cm\": 60.23, \"total_meja\": 0, \"tip_of_stem_broken\": 0, \"infested\": 0, \"total_number_adults\": 0, \"main_stem_length_in_cm\": 99.0}, {\"stem_diam_bottom_in_cm\": 0.43, \"diam_top_in_cm\": 0.23, \"side_branches_in_cm\": 60.23, \"total_meja\": 18, \"tip_of_stem_broken\": 1, \"infested\": 1, \"total_number_adults\": 1, \"main_stem_length_in_cm\": 40.0}, {\"stem_diam_bottom_in_cm\": 0.57, \"diam_top_in_cm\": 0.18, \"side_branches_in_cm\": 60.23, \"total_meja\": 0, \"tip_of_stem_broken\": 0, \"infested\": 0, \"total_number_adults\": 0, \"main_stem_length_in_cm\": 75.0}, {\"stem_diam_bottom_in_cm\": 0.55, \"diam_top_in_cm\": 0.07, \"side_branches_in_cm\": 60.23, \"total_meja\": 44, \"tip_of_stem_broken\": 0, \"infested\": 1, \"total_number_adults\": 13, \"main_stem_length_in_cm\": 48.0}, {\"stem_diam_bottom_in_cm\": 0.6, \"diam_top_in_cm\": 0.18, \"side_branches_in_cm\": 60.23, \"total_meja\": 10, \"tip_of_stem_broken\": 0, \"infested\": 1, \"total_number_adults\": 1, \"main_stem_length_in_cm\": 58.0}, {\"stem_diam_bottom_in_cm\": 0.55, \"diam_top_in_cm\": 0.15, \"side_branches_in_cm\": 60.23, \"total_meja\": 0, \"tip_of_stem_broken\": 1, \"infested\": 0, \"total_number_adults\": 0, \"main_stem_length_in_cm\": 57.0}, {\"stem_diam_bottom_in_cm\": 0.65, \"diam_top_in_cm\": 0.16, \"side_branches_in_cm\": 60.23, \"total_meja\": 6, \"tip_of_stem_broken\": 0, \"infested\": 1, \"total_number_adults\": 6, \"main_stem_length_in_cm\": 37.0}, {\"stem_diam_bottom_in_cm\": 0.26, \"diam_top_in_cm\": 0.18, \"side_branches_in_cm\": 60.23, \"total_meja\": 0, \"tip_of_stem_broken\": 0, \"infested\": 0, \"total_number_adults\": 0, \"main_stem_length_in_cm\": 4.0}, {\"stem_diam_bottom_in_cm\": 0.48, \"diam_top_in_cm\": 0.11, \"side_branches_in_cm\": 60.23, \"total_meja\": 15, \"tip_of_stem_broken\": 1, \"infested\": 1, \"total_number_adults\": 11, \"main_stem_length_in_cm\": 30.5}, {\"stem_diam_bottom_in_cm\": 0.39, \"diam_top_in_cm\": 0.18, \"side_branches_in_cm\": 60.23, \"total_meja\": 0, \"tip_of_stem_broken\": 0, \"infested\": 0, \"total_number_adults\": 0, \"main_stem_length_in_cm\": 60.0}, {\"stem_diam_bottom_in_cm\": 0.55, \"diam_top_in_cm\": 0.18, \"side_branches_in_cm\": 60.23, \"total_meja\": 0, \"tip_of_stem_broken\": 0, \"infested\": 0, \"total_number_adults\": 0, \"main_stem_length_in_cm\": 95.0}, {\"stem_diam_bottom_in_cm\": 0.58, \"diam_top_in_cm\": 0.09, \"side_branches_in_cm\": 60.23, \"total_meja\": 1, \"tip_of_stem_broken\": 1, \"infested\": 1, \"total_number_adults\": 0, \"main_stem_length_in_cm\": 62.0}, {\"stem_diam_bottom_in_cm\": 0.18, \"diam_top_in_cm\": 0.18, \"side_branches_in_cm\": 60.23, \"total_meja\": 0, \"tip_of_stem_broken\": 0, \"infested\": 0, \"total_number_adults\": 0, \"main_stem_length_in_cm\": 11.0}, {\"stem_diam_bottom_in_cm\": 0.62, \"diam_top_in_cm\": 0.12, \"side_branches_in_cm\": 60.23, \"total_meja\": 4, \"tip_of_stem_broken\": 1, \"infested\": 1, \"total_number_adults\": 4, \"main_stem_length_in_cm\": 67.0}, {\"stem_diam_bottom_in_cm\": 0.72, \"diam_top_in_cm\": 0.05, \"side_branches_in_cm\": 60.23, \"total_meja\": 0, \"tip_of_stem_broken\": 0, \"infested\": 0, \"total_number_adults\": 0, \"main_stem_length_in_cm\": 100.0}, {\"stem_diam_bottom_in_cm\": 0.78, \"diam_top_in_cm\": 0.18, \"side_branches_in_cm\": 60.23, \"total_meja\": 0, \"tip_of_stem_broken\": 0, \"infested\": 0, \"total_number_adults\": 0, \"main_stem_length_in_cm\": 115.0}, {\"stem_diam_bottom_in_cm\": 0.34, \"diam_top_in_cm\": 0.17, \"side_branches_in_cm\": 60.23, \"total_meja\": 7, \"tip_of_stem_broken\": 1, \"infested\": 1, \"total_number_adults\": 7, \"main_stem_length_in_cm\": 34.0}, {\"stem_diam_bottom_in_cm\": 0.34, \"diam_top_in_cm\": 0.18, \"side_branches_in_cm\": 60.23, \"total_meja\": 0, \"tip_of_stem_broken\": 1, \"infested\": 0, \"total_number_adults\": 0, \"main_stem_length_in_cm\": 34.0}, {\"stem_diam_bottom_in_cm\": 0.67, \"diam_top_in_cm\": 0.18, \"side_branches_in_cm\": 19.0, \"total_meja\": 0, \"tip_of_stem_broken\": 1, \"infested\": 0, \"total_number_adults\": 0, \"main_stem_length_in_cm\": 54.0}, {\"stem_diam_bottom_in_cm\": 0.38, \"diam_top_in_cm\": 0.13, \"side_branches_in_cm\": 60.23, \"total_meja\": 5, \"tip_of_stem_broken\": 1, \"infested\": 1, \"total_number_adults\": 5, \"main_stem_length_in_cm\": 39.0}, {\"stem_diam_bottom_in_cm\": 0.32, \"diam_top_in_cm\": 0.18, \"side_branches_in_cm\": 60.23, \"total_meja\": 0, \"tip_of_stem_broken\": 0, \"infested\": 0, \"total_number_adults\": 0, \"main_stem_length_in_cm\": 22.0}, {\"stem_diam_bottom_in_cm\": 0.68, \"diam_top_in_cm\": 0.18, \"side_branches_in_cm\": 18.0, \"total_meja\": 0, \"tip_of_stem_broken\": 1, \"infested\": 0, \"total_number_adults\": 0, \"main_stem_length_in_cm\": 56.0}, {\"stem_diam_bottom_in_cm\": 1.09, \"diam_top_in_cm\": 0.28, \"side_branches_in_cm\": 60.23, \"total_meja\": 0, \"tip_of_stem_broken\": 1, \"infested\": 0, \"total_number_adults\": 0, \"main_stem_length_in_cm\": 92.0}, {\"stem_diam_bottom_in_cm\": 0.41, \"diam_top_in_cm\": 0.38, \"side_branches_in_cm\": 60.23, \"total_meja\": 1, \"tip_of_stem_broken\": 1, \"infested\": 1, \"total_number_adults\": 0, \"main_stem_length_in_cm\": 8.0}, {\"stem_diam_bottom_in_cm\": 0.51, \"diam_top_in_cm\": 0.18, \"side_branches_in_cm\": 60.23, \"total_meja\": 10, \"tip_of_stem_broken\": 0, \"infested\": 1, \"total_number_adults\": 0, \"main_stem_length_in_cm\": 54.0}, {\"stem_diam_bottom_in_cm\": 0.6, \"diam_top_in_cm\": 0.18, \"side_branches_in_cm\": 9.0, \"total_meja\": 0, \"tip_of_stem_broken\": 1, \"infested\": 0, \"total_number_adults\": 0, \"main_stem_length_in_cm\": 41.0}, {\"stem_diam_bottom_in_cm\": 0.36, \"diam_top_in_cm\": 0.18, \"side_branches_in_cm\": 60.23, \"total_meja\": 9, \"tip_of_stem_broken\": 0, \"infested\": 1, \"total_number_adults\": 9, \"main_stem_length_in_cm\": 29.5}, {\"stem_diam_bottom_in_cm\": 0.51, \"diam_top_in_cm\": 0.18, \"side_branches_in_cm\": 60.23, \"total_meja\": 0, \"tip_of_stem_broken\": 1, \"infested\": 0, \"total_number_adults\": 0, \"main_stem_length_in_cm\": 36.0}, {\"stem_diam_bottom_in_cm\": 0.15, \"diam_top_in_cm\": 0.18, \"side_branches_in_cm\": 60.23, \"total_meja\": 0, \"tip_of_stem_broken\": 0, \"infested\": 0, \"total_number_adults\": 0, \"main_stem_length_in_cm\": 13.0}, {\"stem_diam_bottom_in_cm\": 0.31, \"diam_top_in_cm\": 0.08, \"side_branches_in_cm\": 60.23, \"total_meja\": 10, \"tip_of_stem_broken\": 0, \"infested\": 1, \"total_number_adults\": 10, \"main_stem_length_in_cm\": 39.0}, {\"stem_diam_bottom_in_cm\": 0.53, \"diam_top_in_cm\": 0.21, \"side_branches_in_cm\": 60.23, \"total_meja\": 1, \"tip_of_stem_broken\": 1, \"infested\": 1, \"total_number_adults\": 1, \"main_stem_length_in_cm\": 51.0}, {\"stem_diam_bottom_in_cm\": 0.35, \"diam_top_in_cm\": 0.18, \"side_branches_in_cm\": 60.23, \"total_meja\": 0, \"tip_of_stem_broken\": 1, \"infested\": 0, \"total_number_adults\": 0, \"main_stem_length_in_cm\": 28.0}, {\"stem_diam_bottom_in_cm\": 0.23, \"diam_top_in_cm\": 0.1, \"side_branches_in_cm\": 60.23, \"total_meja\": 10, \"tip_of_stem_broken\": 1, \"infested\": 1, \"total_number_adults\": 1, \"main_stem_length_in_cm\": 17.5}, {\"stem_diam_bottom_in_cm\": 0.33, \"diam_top_in_cm\": 0.18, \"side_branches_in_cm\": 60.23, \"total_meja\": 0, \"tip_of_stem_broken\": 0, \"infested\": 0, \"total_number_adults\": 0, \"main_stem_length_in_cm\": 88.0}, {\"stem_diam_bottom_in_cm\": 0.68, \"diam_top_in_cm\": 0.18, \"side_branches_in_cm\": 73.0, \"total_meja\": 0, \"tip_of_stem_broken\": 1, \"infested\": 0, \"total_number_adults\": 0, \"main_stem_length_in_cm\": 59.0}, {\"stem_diam_bottom_in_cm\": 0.41, \"diam_top_in_cm\": 0.18, \"side_branches_in_cm\": 60.23, \"total_meja\": 0, \"tip_of_stem_broken\": 1, \"infested\": 0, \"total_number_adults\": 0, \"main_stem_length_in_cm\": 31.0}, {\"stem_diam_bottom_in_cm\": 0.62, \"diam_top_in_cm\": 0.16, \"side_branches_in_cm\": 60.23, \"total_meja\": 6, \"tip_of_stem_broken\": 1, \"infested\": 1, \"total_number_adults\": 6, \"main_stem_length_in_cm\": 57.0}, {\"stem_diam_bottom_in_cm\": 0.56, \"diam_top_in_cm\": 0.18, \"side_branches_in_cm\": 60.23, \"total_meja\": 0, \"tip_of_stem_broken\": 1, \"infested\": 0, \"total_number_adults\": 0, \"main_stem_length_in_cm\": 57.0}, {\"stem_diam_bottom_in_cm\": 0.48, \"diam_top_in_cm\": 0.13, \"side_branches_in_cm\": 60.23, \"total_meja\": 10, \"tip_of_stem_broken\": 0, \"infested\": 1, \"total_number_adults\": 10, \"main_stem_length_in_cm\": 41.0}, {\"stem_diam_bottom_in_cm\": 0.67, \"diam_top_in_cm\": 0.05, \"side_branches_in_cm\": 60.23, \"total_meja\": 0, \"tip_of_stem_broken\": 0, \"infested\": 0, \"total_number_adults\": 0, \"main_stem_length_in_cm\": 90.0}, {\"stem_diam_bottom_in_cm\": 0.31, \"diam_top_in_cm\": 0.16, \"side_branches_in_cm\": 60.23, \"total_meja\": 1, \"tip_of_stem_broken\": 1, \"infested\": 1, \"total_number_adults\": 1, \"main_stem_length_in_cm\": 31.0}, {\"stem_diam_bottom_in_cm\": 0.68, \"diam_top_in_cm\": 0.06, \"side_branches_in_cm\": 60.23, \"total_meja\": 0, \"tip_of_stem_broken\": 0, \"infested\": 0, \"total_number_adults\": 0, \"main_stem_length_in_cm\": 110.0}, {\"stem_diam_bottom_in_cm\": 0.67, \"diam_top_in_cm\": 0.18, \"side_branches_in_cm\": 35.0, \"total_meja\": 0, \"tip_of_stem_broken\": 1, \"infested\": 0, \"total_number_adults\": 0, \"main_stem_length_in_cm\": 62.0}, {\"stem_diam_bottom_in_cm\": 0.49, \"diam_top_in_cm\": 0.18, \"side_branches_in_cm\": 19.0, \"total_meja\": 0, \"tip_of_stem_broken\": 0, \"infested\": 0, \"total_number_adults\": 0, \"main_stem_length_in_cm\": 69.0}, {\"stem_diam_bottom_in_cm\": 0.51, \"diam_top_in_cm\": 0.18, \"side_branches_in_cm\": 60.23, \"total_meja\": 18, \"tip_of_stem_broken\": 0, \"infested\": 1, \"total_number_adults\": 0, \"main_stem_length_in_cm\": 54.0}, {\"stem_diam_bottom_in_cm\": 0.44, \"diam_top_in_cm\": 0.18, \"side_branches_in_cm\": 53.0, \"total_meja\": 0, \"tip_of_stem_broken\": 1, \"infested\": 0, \"total_number_adults\": 0, \"main_stem_length_in_cm\": 31.0}, {\"stem_diam_bottom_in_cm\": 0.66, \"diam_top_in_cm\": 0.18, \"side_branches_in_cm\": 60.23, \"total_meja\": 0, \"tip_of_stem_broken\": 1, \"infested\": 0, \"total_number_adults\": 0, \"main_stem_length_in_cm\": 48.0}, {\"stem_diam_bottom_in_cm\": 0.65, \"diam_top_in_cm\": 0.18, \"side_branches_in_cm\": 46.0, \"total_meja\": 0, \"tip_of_stem_broken\": 1, \"infested\": 0, \"total_number_adults\": 0, \"main_stem_length_in_cm\": 51.0}, {\"stem_diam_bottom_in_cm\": 0.65, \"diam_top_in_cm\": 0.05, \"side_branches_in_cm\": 60.23, \"total_meja\": 5, \"tip_of_stem_broken\": 0, \"infested\": 1, \"total_number_adults\": 4, \"main_stem_length_in_cm\": 48.0}, {\"stem_diam_bottom_in_cm\": 0.51, \"diam_top_in_cm\": 0.18, \"side_branches_in_cm\": 39.0, \"total_meja\": 5, \"tip_of_stem_broken\": 0, \"infested\": 1, \"total_number_adults\": 0, \"main_stem_length_in_cm\": 64.0}, {\"stem_diam_bottom_in_cm\": 0.62, \"diam_top_in_cm\": 0.2, \"side_branches_in_cm\": 60.23, \"total_meja\": 22, \"tip_of_stem_broken\": 1, \"infested\": 1, \"total_number_adults\": 22, \"main_stem_length_in_cm\": 55.0}, {\"stem_diam_bottom_in_cm\": 0.83, \"diam_top_in_cm\": 0.18, \"side_branches_in_cm\": 60.23, \"total_meja\": 24, \"tip_of_stem_broken\": 0, \"infested\": 1, \"total_number_adults\": 2, \"main_stem_length_in_cm\": 51.0}, {\"stem_diam_bottom_in_cm\": 0.34, \"diam_top_in_cm\": 0.18, \"side_branches_in_cm\": 60.23, \"total_meja\": 1, \"tip_of_stem_broken\": 0, \"infested\": 1, \"total_number_adults\": 0, \"main_stem_length_in_cm\": 29.0}, {\"stem_diam_bottom_in_cm\": 0.42, \"diam_top_in_cm\": 0.18, \"side_branches_in_cm\": 60.23, \"total_meja\": 15, \"tip_of_stem_broken\": 0, \"infested\": 1, \"total_number_adults\": 0, \"main_stem_length_in_cm\": 58.0}, {\"stem_diam_bottom_in_cm\": 0.21, \"diam_top_in_cm\": 0.18, \"side_branches_in_cm\": 60.23, \"total_meja\": 0, \"tip_of_stem_broken\": 0, \"infested\": 0, \"total_number_adults\": 0, \"main_stem_length_in_cm\": 15.5}, {\"stem_diam_bottom_in_cm\": 1.08, \"diam_top_in_cm\": 0.48, \"side_branches_in_cm\": 60.23, \"total_meja\": 0, \"tip_of_stem_broken\": 1, \"infested\": 0, \"total_number_adults\": 0, \"main_stem_length_in_cm\": 71.0}, {\"stem_diam_bottom_in_cm\": 0.27, \"diam_top_in_cm\": 0.08, \"side_branches_in_cm\": 60.23, \"total_meja\": 12, \"tip_of_stem_broken\": 0, \"infested\": 1, \"total_number_adults\": 12, \"main_stem_length_in_cm\": 29.0}, {\"stem_diam_bottom_in_cm\": 0.43, \"diam_top_in_cm\": 0.18, \"side_branches_in_cm\": 60.23, \"total_meja\": 0, \"tip_of_stem_broken\": 1, \"infested\": 0, \"total_number_adults\": 0, \"main_stem_length_in_cm\": 49.0}, {\"stem_diam_bottom_in_cm\": 0.14, \"diam_top_in_cm\": 0.18, \"side_branches_in_cm\": 60.23, \"total_meja\": 0, \"tip_of_stem_broken\": 0, \"infested\": 0, \"total_number_adults\": 0, \"main_stem_length_in_cm\": 5.0}, {\"stem_diam_bottom_in_cm\": 0.71, \"diam_top_in_cm\": 0.18, \"side_branches_in_cm\": 60.23, \"total_meja\": 28, \"tip_of_stem_broken\": 0, \"infested\": 1, \"total_number_adults\": 2, \"main_stem_length_in_cm\": 58.0}, {\"stem_diam_bottom_in_cm\": 0.48, \"diam_top_in_cm\": 0.18, \"side_branches_in_cm\": 60.23, \"total_meja\": 0, \"tip_of_stem_broken\": 1, \"infested\": 0, \"total_number_adults\": 0, \"main_stem_length_in_cm\": 63.0}, {\"stem_diam_bottom_in_cm\": 0.53, \"diam_top_in_cm\": 0.19, \"side_branches_in_cm\": 60.23, \"total_meja\": 8, \"tip_of_stem_broken\": 1, \"infested\": 1, \"total_number_adults\": 7, \"main_stem_length_in_cm\": 35.0}, {\"stem_diam_bottom_in_cm\": 0.23, \"diam_top_in_cm\": 0.18, \"side_branches_in_cm\": 60.23, \"total_meja\": 0, \"tip_of_stem_broken\": 0, \"infested\": 0, \"total_number_adults\": 0, \"main_stem_length_in_cm\": 12.0}, {\"stem_diam_bottom_in_cm\": 0.31, \"diam_top_in_cm\": 0.06, \"side_branches_in_cm\": 60.23, \"total_meja\": 10, \"tip_of_stem_broken\": 0, \"infested\": 1, \"total_number_adults\": 8, \"main_stem_length_in_cm\": 27.5}, {\"stem_diam_bottom_in_cm\": 0.64, \"diam_top_in_cm\": 0.18, \"side_branches_in_cm\": 60.23, \"total_meja\": 12, \"tip_of_stem_broken\": 0, \"infested\": 1, \"total_number_adults\": 1, \"main_stem_length_in_cm\": 43.0}, {\"stem_diam_bottom_in_cm\": 0.37, \"diam_top_in_cm\": 0.05, \"side_branches_in_cm\": 60.23, \"total_meja\": 9, \"tip_of_stem_broken\": 0, \"infested\": 1, \"total_number_adults\": 6, \"main_stem_length_in_cm\": 47.0}, {\"stem_diam_bottom_in_cm\": 0.41, \"diam_top_in_cm\": 0.18, \"side_branches_in_cm\": 60.23, \"total_meja\": 16, \"tip_of_stem_broken\": 0, \"infested\": 1, \"total_number_adults\": 0, \"main_stem_length_in_cm\": 28.0}, {\"stem_diam_bottom_in_cm\": 0.49, \"diam_top_in_cm\": 0.2, \"side_branches_in_cm\": 60.23, \"total_meja\": 26, \"tip_of_stem_broken\": 1, \"infested\": 1, \"total_number_adults\": 17, \"main_stem_length_in_cm\": 41.0}, {\"stem_diam_bottom_in_cm\": 0.34, \"diam_top_in_cm\": 0.05, \"side_branches_in_cm\": 60.23, \"total_meja\": 0, \"tip_of_stem_broken\": 0, \"infested\": 0, \"total_number_adults\": 0, \"main_stem_length_in_cm\": 83.0}, {\"stem_diam_bottom_in_cm\": 0.36, \"diam_top_in_cm\": 0.18, \"side_branches_in_cm\": 60.23, \"total_meja\": 0, \"tip_of_stem_broken\": 1, \"infested\": 0, \"total_number_adults\": 0, \"main_stem_length_in_cm\": 54.0}, {\"stem_diam_bottom_in_cm\": 0.41, \"diam_top_in_cm\": 0.18, \"side_branches_in_cm\": 60.23, \"total_meja\": 10, \"tip_of_stem_broken\": 0, \"infested\": 1, \"total_number_adults\": 3, \"main_stem_length_in_cm\": 34.0}, {\"stem_diam_bottom_in_cm\": 0.44, \"diam_top_in_cm\": 0.18, \"side_branches_in_cm\": 60.23, \"total_meja\": 0, \"tip_of_stem_broken\": 1, \"infested\": 0, \"total_number_adults\": 0, \"main_stem_length_in_cm\": 56.0}, {\"stem_diam_bottom_in_cm\": 0.44, \"diam_top_in_cm\": 0.09, \"side_branches_in_cm\": 60.23, \"total_meja\": 17, \"tip_of_stem_broken\": 0, \"infested\": 1, \"total_number_adults\": 16, \"main_stem_length_in_cm\": 39.0}, {\"stem_diam_bottom_in_cm\": 0.39, \"diam_top_in_cm\": 0.09, \"side_branches_in_cm\": 60.23, \"total_meja\": 10, \"tip_of_stem_broken\": 0, \"infested\": 1, \"total_number_adults\": 10, \"main_stem_length_in_cm\": 29.0}, {\"stem_diam_bottom_in_cm\": 0.49, \"diam_top_in_cm\": 0.18, \"side_branches_in_cm\": 60.23, \"total_meja\": 0, \"tip_of_stem_broken\": 1, \"infested\": 0, \"total_number_adults\": 0, \"main_stem_length_in_cm\": 42.0}, {\"stem_diam_bottom_in_cm\": 0.76, \"diam_top_in_cm\": 0.45, \"side_branches_in_cm\": 60.23, \"total_meja\": 2, \"tip_of_stem_broken\": 1, \"infested\": 1, \"total_number_adults\": 0, \"main_stem_length_in_cm\": 45.0}, {\"stem_diam_bottom_in_cm\": 0.33, \"diam_top_in_cm\": 0.18, \"side_branches_in_cm\": 60.23, \"total_meja\": 0, \"tip_of_stem_broken\": 1, \"infested\": 0, \"total_number_adults\": 0, \"main_stem_length_in_cm\": 27.0}, {\"stem_diam_bottom_in_cm\": 0.52, \"diam_top_in_cm\": 0.17, \"side_branches_in_cm\": 60.23, \"total_meja\": 8, \"tip_of_stem_broken\": 1, \"infested\": 1, \"total_number_adults\": 8, \"main_stem_length_in_cm\": 78.0}, {\"stem_diam_bottom_in_cm\": 0.39, \"diam_top_in_cm\": 0.18, \"side_branches_in_cm\": 60.23, \"total_meja\": 0, \"tip_of_stem_broken\": 0, \"infested\": 0, \"total_number_adults\": 0, \"main_stem_length_in_cm\": 25.0}, {\"stem_diam_bottom_in_cm\": 0.73, \"diam_top_in_cm\": 0.18, \"side_branches_in_cm\": 60.23, \"total_meja\": 2, \"tip_of_stem_broken\": 0, \"infested\": 1, \"total_number_adults\": 0, \"main_stem_length_in_cm\": 99.0}, {\"stem_diam_bottom_in_cm\": 0.62, \"diam_top_in_cm\": 0.57, \"side_branches_in_cm\": 60.23, \"total_meja\": 2, \"tip_of_stem_broken\": 1, \"infested\": 1, \"total_number_adults\": 1, \"main_stem_length_in_cm\": 55.0}, {\"stem_diam_bottom_in_cm\": 0.44, \"diam_top_in_cm\": 0.27, \"side_branches_in_cm\": 60.23, \"total_meja\": 17, \"tip_of_stem_broken\": 1, \"infested\": 1, \"total_number_adults\": 17, \"main_stem_length_in_cm\": 34.0}, {\"stem_diam_bottom_in_cm\": 0.65, \"diam_top_in_cm\": 0.18, \"side_branches_in_cm\": 60.23, \"total_meja\": 0, \"tip_of_stem_broken\": 0, \"infested\": 0, \"total_number_adults\": 0, \"main_stem_length_in_cm\": 77.0}, {\"stem_diam_bottom_in_cm\": 0.5, \"diam_top_in_cm\": 0.34, \"side_branches_in_cm\": 60.23, \"total_meja\": 4, \"tip_of_stem_broken\": 1, \"infested\": 1, \"total_number_adults\": 0, \"main_stem_length_in_cm\": 44.0}, {\"stem_diam_bottom_in_cm\": 0.83, \"diam_top_in_cm\": 0.09, \"side_branches_in_cm\": 60.23, \"total_meja\": 1, \"tip_of_stem_broken\": 1, \"infested\": 1, \"total_number_adults\": 1, \"main_stem_length_in_cm\": 77.0}, {\"stem_diam_bottom_in_cm\": 0.61, \"diam_top_in_cm\": 0.16, \"side_branches_in_cm\": 60.23, \"total_meja\": 11, \"tip_of_stem_broken\": 1, \"infested\": 1, \"total_number_adults\": 10, \"main_stem_length_in_cm\": 35.0}, {\"stem_diam_bottom_in_cm\": 0.48, \"diam_top_in_cm\": 0.1, \"side_branches_in_cm\": 60.23, \"total_meja\": 0, \"tip_of_stem_broken\": 0, \"infested\": 0, \"total_number_adults\": 0, \"main_stem_length_in_cm\": 61.0}, {\"stem_diam_bottom_in_cm\": 0.2, \"diam_top_in_cm\": 0.18, \"side_branches_in_cm\": 60.23, \"total_meja\": 0, \"tip_of_stem_broken\": 0, \"infested\": 0, \"total_number_adults\": 0, \"main_stem_length_in_cm\": 16.5}, {\"stem_diam_bottom_in_cm\": 0.52, \"diam_top_in_cm\": 0.18, \"side_branches_in_cm\": 60.23, \"total_meja\": 5, \"tip_of_stem_broken\": 0, \"infested\": 1, \"total_number_adults\": 0, \"main_stem_length_in_cm\": 58.0}, {\"stem_diam_bottom_in_cm\": 0.51, \"diam_top_in_cm\": 0.25, \"side_branches_in_cm\": 60.23, \"total_meja\": 16, \"tip_of_stem_broken\": 1, \"infested\": 1, \"total_number_adults\": 16, \"main_stem_length_in_cm\": 45.0}, {\"stem_diam_bottom_in_cm\": 0.36, \"diam_top_in_cm\": 0.18, \"side_branches_in_cm\": 60.23, \"total_meja\": 16, \"tip_of_stem_broken\": 0, \"infested\": 1, \"total_number_adults\": 0, \"main_stem_length_in_cm\": 34.0}, {\"stem_diam_bottom_in_cm\": 0.55, \"diam_top_in_cm\": 0.12, \"side_branches_in_cm\": 60.23, \"total_meja\": 7, \"tip_of_stem_broken\": 1, \"infested\": 1, \"total_number_adults\": 0, \"main_stem_length_in_cm\": 33.0}, {\"stem_diam_bottom_in_cm\": 0.5, \"diam_top_in_cm\": 0.06, \"side_branches_in_cm\": 60.23, \"total_meja\": 4, \"tip_of_stem_broken\": 0, \"infested\": 1, \"total_number_adults\": 4, \"main_stem_length_in_cm\": 67.0}, {\"stem_diam_bottom_in_cm\": 0.49, \"diam_top_in_cm\": 0.18, \"side_branches_in_cm\": 60.23, \"total_meja\": 1, \"tip_of_stem_broken\": 0, \"infested\": 1, \"total_number_adults\": 0, \"main_stem_length_in_cm\": 68.0}, {\"stem_diam_bottom_in_cm\": 0.36, \"diam_top_in_cm\": 0.15, \"side_branches_in_cm\": 60.23, \"total_meja\": 7, \"tip_of_stem_broken\": 0, \"infested\": 1, \"total_number_adults\": 5, \"main_stem_length_in_cm\": 27.0}, {\"stem_diam_bottom_in_cm\": 0.76, \"diam_top_in_cm\": 0.65, \"side_branches_in_cm\": 60.23, \"total_meja\": 0, \"tip_of_stem_broken\": 1, \"infested\": 0, \"total_number_adults\": 0, \"main_stem_length_in_cm\": 48.0}, {\"stem_diam_bottom_in_cm\": 0.4, \"diam_top_in_cm\": 0.04, \"side_branches_in_cm\": 60.23, \"total_meja\": 0, \"tip_of_stem_broken\": 0, \"infested\": 0, \"total_number_adults\": 0, \"main_stem_length_in_cm\": 101.0}, {\"stem_diam_bottom_in_cm\": 0.4, \"diam_top_in_cm\": 0.17, \"side_branches_in_cm\": 60.23, \"total_meja\": 10, \"tip_of_stem_broken\": 1, \"infested\": 1, \"total_number_adults\": 8, \"main_stem_length_in_cm\": 30.0}, {\"stem_diam_bottom_in_cm\": 0.69, \"diam_top_in_cm\": 0.18, \"side_branches_in_cm\": 60.23, \"total_meja\": 4, \"tip_of_stem_broken\": 0, \"infested\": 1, \"total_number_adults\": 0, \"main_stem_length_in_cm\": 57.0}, {\"stem_diam_bottom_in_cm\": 0.22, \"diam_top_in_cm\": 0.18, \"side_branches_in_cm\": 60.23, \"total_meja\": 0, \"tip_of_stem_broken\": 0, \"infested\": 0, \"total_number_adults\": 0, \"main_stem_length_in_cm\": 10.0}, {\"stem_diam_bottom_in_cm\": 0.9, \"diam_top_in_cm\": 0.18, \"side_branches_in_cm\": 60.23, \"total_meja\": 0, \"tip_of_stem_broken\": 1, \"infested\": 0, \"total_number_adults\": 0, \"main_stem_length_in_cm\": 78.0}, {\"stem_diam_bottom_in_cm\": 0.67, \"diam_top_in_cm\": 0.17, \"side_branches_in_cm\": 60.23, \"total_meja\": 11, \"tip_of_stem_broken\": 0, \"infested\": 1, \"total_number_adults\": 11, \"main_stem_length_in_cm\": 41.5}, {\"stem_diam_bottom_in_cm\": 0.22, \"diam_top_in_cm\": 0.03, \"side_branches_in_cm\": 60.23, \"total_meja\": 0, \"tip_of_stem_broken\": 0, \"infested\": 0, \"total_number_adults\": 0, \"main_stem_length_in_cm\": 36.0}, {\"stem_diam_bottom_in_cm\": 0.47, \"diam_top_in_cm\": 0.18, \"side_branches_in_cm\": 60.23, \"total_meja\": 0, \"tip_of_stem_broken\": 0, \"infested\": 0, \"total_number_adults\": 0, \"main_stem_length_in_cm\": 73.0}, {\"stem_diam_bottom_in_cm\": 0.25, \"diam_top_in_cm\": 0.18, \"side_branches_in_cm\": 60.23, \"total_meja\": 0, \"tip_of_stem_broken\": 1, \"infested\": 0, \"total_number_adults\": 0, \"main_stem_length_in_cm\": 14.0}, {\"stem_diam_bottom_in_cm\": 0.29, \"diam_top_in_cm\": 0.07, \"side_branches_in_cm\": 60.23, \"total_meja\": 3, \"tip_of_stem_broken\": 0, \"infested\": 1, \"total_number_adults\": 3, \"main_stem_length_in_cm\": 40.0}, {\"stem_diam_bottom_in_cm\": 0.7, \"diam_top_in_cm\": 0.18, \"side_branches_in_cm\": 124.0, \"total_meja\": 0, \"tip_of_stem_broken\": 0, \"infested\": 0, \"total_number_adults\": 0, \"main_stem_length_in_cm\": 92.0}, {\"stem_diam_bottom_in_cm\": 0.51, \"diam_top_in_cm\": 0.18, \"side_branches_in_cm\": 60.23, \"total_meja\": 9, \"tip_of_stem_broken\": 0, \"infested\": 1, \"total_number_adults\": 2, \"main_stem_length_in_cm\": 84.0}, {\"stem_diam_bottom_in_cm\": 0.39, \"diam_top_in_cm\": 0.18, \"side_branches_in_cm\": 33.0, \"total_meja\": 0, \"tip_of_stem_broken\": 1, \"infested\": 0, \"total_number_adults\": 0, \"main_stem_length_in_cm\": 46.0}, {\"stem_diam_bottom_in_cm\": 0.41, \"diam_top_in_cm\": 0.17, \"side_branches_in_cm\": 60.23, \"total_meja\": 0, \"tip_of_stem_broken\": 1, \"infested\": 0, \"total_number_adults\": 0, \"main_stem_length_in_cm\": 60.0}, {\"stem_diam_bottom_in_cm\": 0.23, \"diam_top_in_cm\": 0.18, \"side_branches_in_cm\": 60.23, \"total_meja\": 0, \"tip_of_stem_broken\": 0, \"infested\": 0, \"total_number_adults\": 0, \"main_stem_length_in_cm\": 8.5}, {\"stem_diam_bottom_in_cm\": 0.38, \"diam_top_in_cm\": 0.06, \"side_branches_in_cm\": 60.23, \"total_meja\": 0, \"tip_of_stem_broken\": 1, \"infested\": 0, \"total_number_adults\": 0, \"main_stem_length_in_cm\": 54.0}, {\"stem_diam_bottom_in_cm\": 0.38, \"diam_top_in_cm\": 0.18, \"side_branches_in_cm\": 46.0, \"total_meja\": 1, \"tip_of_stem_broken\": 0, \"infested\": 1, \"total_number_adults\": 0, \"main_stem_length_in_cm\": 43.0}, {\"stem_diam_bottom_in_cm\": 0.43, \"diam_top_in_cm\": 0.16, \"side_branches_in_cm\": 60.23, \"total_meja\": 21, \"tip_of_stem_broken\": 0, \"infested\": 1, \"total_number_adults\": 21, \"main_stem_length_in_cm\": 31.0}, {\"stem_diam_bottom_in_cm\": 0.85, \"diam_top_in_cm\": 0.18, \"side_branches_in_cm\": 60.23, \"total_meja\": 2, \"tip_of_stem_broken\": 1, \"infested\": 1, \"total_number_adults\": 0, \"main_stem_length_in_cm\": 93.0}, {\"stem_diam_bottom_in_cm\": 0.77, \"diam_top_in_cm\": 0.18, \"side_branches_in_cm\": 53.0, \"total_meja\": 0, \"tip_of_stem_broken\": 1, \"infested\": 0, \"total_number_adults\": 0, \"main_stem_length_in_cm\": 70.0}, {\"stem_diam_bottom_in_cm\": 0.3, \"diam_top_in_cm\": 0.18, \"side_branches_in_cm\": 60.23, \"total_meja\": 0, \"tip_of_stem_broken\": 0, \"infested\": 0, \"total_number_adults\": 0, \"main_stem_length_in_cm\": 20.0}, {\"stem_diam_bottom_in_cm\": 0.79, \"diam_top_in_cm\": 0.18, \"side_branches_in_cm\": 60.23, \"total_meja\": 62, \"tip_of_stem_broken\": 0, \"infested\": 1, \"total_number_adults\": 8, \"main_stem_length_in_cm\": 106.0}, {\"stem_diam_bottom_in_cm\": 0.34, \"diam_top_in_cm\": 0.18, \"side_branches_in_cm\": 60.23, \"total_meja\": 0, \"tip_of_stem_broken\": 1, \"infested\": 0, \"total_number_adults\": 0, \"main_stem_length_in_cm\": 41.0}, {\"stem_diam_bottom_in_cm\": 0.24, \"diam_top_in_cm\": 0.18, \"side_branches_in_cm\": 60.23, \"total_meja\": 0, \"tip_of_stem_broken\": 0, \"infested\": 0, \"total_number_adults\": 0, \"main_stem_length_in_cm\": 11.0}, {\"stem_diam_bottom_in_cm\": 0.76, \"diam_top_in_cm\": 0.27, \"side_branches_in_cm\": 60.23, \"total_meja\": 16, \"tip_of_stem_broken\": 1, \"infested\": 1, \"total_number_adults\": 8, \"main_stem_length_in_cm\": 62.0}, {\"stem_diam_bottom_in_cm\": 0.42, \"diam_top_in_cm\": 0.18, \"side_branches_in_cm\": 60.23, \"total_meja\": 4, \"tip_of_stem_broken\": 0, \"infested\": 1, \"total_number_adults\": 0, \"main_stem_length_in_cm\": 38.0}, {\"stem_diam_bottom_in_cm\": 0.32, \"diam_top_in_cm\": 0.18, \"side_branches_in_cm\": 60.23, \"total_meja\": 0, \"tip_of_stem_broken\": 0, \"infested\": 0, \"total_number_adults\": 0, \"main_stem_length_in_cm\": 15.5}, {\"stem_diam_bottom_in_cm\": 0.65, \"diam_top_in_cm\": 0.18, \"side_branches_in_cm\": 17.0, \"total_meja\": 0, \"tip_of_stem_broken\": 1, \"infested\": 0, \"total_number_adults\": 0, \"main_stem_length_in_cm\": 66.0}, {\"stem_diam_bottom_in_cm\": 0.53, \"diam_top_in_cm\": 0.18, \"side_branches_in_cm\": 32.0, \"total_meja\": 0, \"tip_of_stem_broken\": 1, \"infested\": 0, \"total_number_adults\": 0, \"main_stem_length_in_cm\": 44.0}, {\"stem_diam_bottom_in_cm\": 0.2, \"diam_top_in_cm\": 0.18, \"side_branches_in_cm\": 60.23, \"total_meja\": 0, \"tip_of_stem_broken\": 0, \"infested\": 0, \"total_number_adults\": 0, \"main_stem_length_in_cm\": 11.0}, {\"stem_diam_bottom_in_cm\": 0.65, \"diam_top_in_cm\": 0.18, \"side_branches_in_cm\": 60.23, \"total_meja\": 3, \"tip_of_stem_broken\": 0, \"infested\": 1, \"total_number_adults\": 0, \"main_stem_length_in_cm\": 111.0}, {\"stem_diam_bottom_in_cm\": 0.6, \"diam_top_in_cm\": 0.18, \"side_branches_in_cm\": 60.23, \"total_meja\": 6, \"tip_of_stem_broken\": 0, \"infested\": 1, \"total_number_adults\": 0, \"main_stem_length_in_cm\": 81.0}, {\"stem_diam_bottom_in_cm\": 0.5, \"diam_top_in_cm\": 0.18, \"side_branches_in_cm\": 60.23, \"total_meja\": 13, \"tip_of_stem_broken\": 0, \"infested\": 1, \"total_number_adults\": 6, \"main_stem_length_in_cm\": 48.0}, {\"stem_diam_bottom_in_cm\": 0.59, \"diam_top_in_cm\": 0.21, \"side_branches_in_cm\": 60.23, \"total_meja\": 8, \"tip_of_stem_broken\": 1, \"infested\": 1, \"total_number_adults\": 7, \"main_stem_length_in_cm\": 39.0}, {\"stem_diam_bottom_in_cm\": 0.63, \"diam_top_in_cm\": 0.18, \"side_branches_in_cm\": 60.23, \"total_meja\": 0, \"tip_of_stem_broken\": 0, \"infested\": 0, \"total_number_adults\": 0, \"main_stem_length_in_cm\": 81.0}, {\"stem_diam_bottom_in_cm\": 0.63, \"diam_top_in_cm\": 0.18, \"side_branches_in_cm\": 60.23, \"total_meja\": 8, \"tip_of_stem_broken\": 0, \"infested\": 1, \"total_number_adults\": 0, \"main_stem_length_in_cm\": 53.0}, {\"stem_diam_bottom_in_cm\": 0.64, \"diam_top_in_cm\": 0.17, \"side_branches_in_cm\": 60.23, \"total_meja\": 27, \"tip_of_stem_broken\": 1, \"infested\": 1, \"total_number_adults\": 26, \"main_stem_length_in_cm\": 54.0}, {\"stem_diam_bottom_in_cm\": 0.65, \"diam_top_in_cm\": 0.18, \"side_branches_in_cm\": 60.23, \"total_meja\": 0, \"tip_of_stem_broken\": 1, \"infested\": 0, \"total_number_adults\": 0, \"main_stem_length_in_cm\": 66.0}, {\"stem_diam_bottom_in_cm\": 0.32, \"diam_top_in_cm\": 0.08, \"side_branches_in_cm\": 60.23, \"total_meja\": 0, \"tip_of_stem_broken\": 1, \"infested\": 0, \"total_number_adults\": 0, \"main_stem_length_in_cm\": 57.0}, {\"stem_diam_bottom_in_cm\": 0.63, \"diam_top_in_cm\": 0.17, \"side_branches_in_cm\": 60.23, \"total_meja\": 0, \"tip_of_stem_broken\": 1, \"infested\": 0, \"total_number_adults\": 0, \"main_stem_length_in_cm\": 69.0}, {\"stem_diam_bottom_in_cm\": 0.87, \"diam_top_in_cm\": 0.18, \"side_branches_in_cm\": 60.23, \"total_meja\": 20, \"tip_of_stem_broken\": 1, \"infested\": 1, \"total_number_adults\": 1, \"main_stem_length_in_cm\": 124.0}, {\"stem_diam_bottom_in_cm\": 0.5, \"diam_top_in_cm\": 0.39, \"side_branches_in_cm\": 60.23, \"total_meja\": 11, \"tip_of_stem_broken\": 1, \"infested\": 1, \"total_number_adults\": 1, \"main_stem_length_in_cm\": 40.0}, {\"stem_diam_bottom_in_cm\": 0.56, \"diam_top_in_cm\": 0.07, \"side_branches_in_cm\": 60.23, \"total_meja\": 1, \"tip_of_stem_broken\": 0, \"infested\": 1, \"total_number_adults\": 1, \"main_stem_length_in_cm\": 100.0}, {\"stem_diam_bottom_in_cm\": 0.21, \"diam_top_in_cm\": 0.18, \"side_branches_in_cm\": 60.23, \"total_meja\": 0, \"tip_of_stem_broken\": 1, \"infested\": 0, \"total_number_adults\": 0, \"main_stem_length_in_cm\": 32.0}, {\"stem_diam_bottom_in_cm\": 0.35, \"diam_top_in_cm\": 0.18, \"side_branches_in_cm\": 60.23, \"total_meja\": 0, \"tip_of_stem_broken\": 0, \"infested\": 0, \"total_number_adults\": 0, \"main_stem_length_in_cm\": 25.0}, {\"stem_diam_bottom_in_cm\": 0.39, \"diam_top_in_cm\": 0.18, \"side_branches_in_cm\": 60.23, \"total_meja\": 0, \"tip_of_stem_broken\": 1, \"infested\": 0, \"total_number_adults\": 0, \"main_stem_length_in_cm\": 31.0}, {\"stem_diam_bottom_in_cm\": 0.66, \"diam_top_in_cm\": 0.18, \"side_branches_in_cm\": 60.23, \"total_meja\": 1, \"tip_of_stem_broken\": 0, \"infested\": 1, \"total_number_adults\": 0, \"main_stem_length_in_cm\": 66.0}, {\"stem_diam_bottom_in_cm\": 0.31, \"diam_top_in_cm\": 0.18, \"side_branches_in_cm\": 60.23, \"total_meja\": 0, \"tip_of_stem_broken\": 0, \"infested\": 0, \"total_number_adults\": 0, \"main_stem_length_in_cm\": 23.5}, {\"stem_diam_bottom_in_cm\": 0.53, \"diam_top_in_cm\": 0.18, \"side_branches_in_cm\": 60.23, \"total_meja\": 38, \"tip_of_stem_broken\": 0, \"infested\": 1, \"total_number_adults\": 11, \"main_stem_length_in_cm\": 31.0}, {\"stem_diam_bottom_in_cm\": 0.56, \"diam_top_in_cm\": 0.18, \"side_branches_in_cm\": 60.23, \"total_meja\": 0, \"tip_of_stem_broken\": 0, \"infested\": 0, \"total_number_adults\": 0, \"main_stem_length_in_cm\": 96.0}, {\"stem_diam_bottom_in_cm\": 0.61, \"diam_top_in_cm\": 0.18, \"side_branches_in_cm\": 60.23, \"total_meja\": 0, \"tip_of_stem_broken\": 0, \"infested\": 0, \"total_number_adults\": 0, \"main_stem_length_in_cm\": 68.0}, {\"stem_diam_bottom_in_cm\": 0.79, \"diam_top_in_cm\": 0.18, \"side_branches_in_cm\": 60.23, \"total_meja\": 7, \"tip_of_stem_broken\": 1, \"infested\": 1, \"total_number_adults\": 0, \"main_stem_length_in_cm\": 102.0}, {\"stem_diam_bottom_in_cm\": 0.44, \"diam_top_in_cm\": 0.23, \"side_branches_in_cm\": 60.23, \"total_meja\": 9, \"tip_of_stem_broken\": 1, \"infested\": 1, \"total_number_adults\": 8, \"main_stem_length_in_cm\": 32.0}, {\"stem_diam_bottom_in_cm\": 0.28, \"diam_top_in_cm\": 0.18, \"side_branches_in_cm\": 60.23, \"total_meja\": 0, \"tip_of_stem_broken\": 1, \"infested\": 0, \"total_number_adults\": 0, \"main_stem_length_in_cm\": 35.0}, {\"stem_diam_bottom_in_cm\": 0.29, \"diam_top_in_cm\": 0.06, \"side_branches_in_cm\": 60.23, \"total_meja\": 0, \"tip_of_stem_broken\": 0, \"infested\": 0, \"total_number_adults\": 0, \"main_stem_length_in_cm\": 39.0}, {\"stem_diam_bottom_in_cm\": 0.68, \"diam_top_in_cm\": 0.18, \"side_branches_in_cm\": 60.23, \"total_meja\": 0, \"tip_of_stem_broken\": 0, \"infested\": 0, \"total_number_adults\": 0, \"main_stem_length_in_cm\": 72.0}, {\"stem_diam_bottom_in_cm\": 0.37, \"diam_top_in_cm\": 0.08, \"side_branches_in_cm\": 60.23, \"total_meja\": 0, \"tip_of_stem_broken\": 1, \"infested\": 0, \"total_number_adults\": 0, \"main_stem_length_in_cm\": 58.0}, {\"stem_diam_bottom_in_cm\": 0.58, \"diam_top_in_cm\": 0.18, \"side_branches_in_cm\": 60.23, \"total_meja\": 19, \"tip_of_stem_broken\": 0, \"infested\": 1, \"total_number_adults\": 2, \"main_stem_length_in_cm\": 32.0}, {\"stem_diam_bottom_in_cm\": 0.78, \"diam_top_in_cm\": 0.18, \"side_branches_in_cm\": 60.23, \"total_meja\": 4, \"tip_of_stem_broken\": 0, \"infested\": 1, \"total_number_adults\": 1, \"main_stem_length_in_cm\": 107.0}, {\"stem_diam_bottom_in_cm\": 0.26, \"diam_top_in_cm\": 0.06, \"side_branches_in_cm\": 60.23, \"total_meja\": 5, \"tip_of_stem_broken\": 1, \"infested\": 1, \"total_number_adults\": 3, \"main_stem_length_in_cm\": 38.0}, {\"stem_diam_bottom_in_cm\": 0.64, \"diam_top_in_cm\": 0.38, \"side_branches_in_cm\": 60.23, \"total_meja\": 6, \"tip_of_stem_broken\": 1, \"infested\": 1, \"total_number_adults\": 0, \"main_stem_length_in_cm\": 73.0}, {\"stem_diam_bottom_in_cm\": 0.35, \"diam_top_in_cm\": 0.16, \"side_branches_in_cm\": 60.23, \"total_meja\": 28, \"tip_of_stem_broken\": 1, \"infested\": 1, \"total_number_adults\": 26, \"main_stem_length_in_cm\": 21.0}, {\"stem_diam_bottom_in_cm\": 0.92, \"diam_top_in_cm\": 0.24, \"side_branches_in_cm\": 60.23, \"total_meja\": 1, \"tip_of_stem_broken\": 1, \"infested\": 1, \"total_number_adults\": 0, \"main_stem_length_in_cm\": 122.0}, {\"stem_diam_bottom_in_cm\": 0.63, \"diam_top_in_cm\": 0.18, \"side_branches_in_cm\": 60.23, \"total_meja\": 19, \"tip_of_stem_broken\": 0, \"infested\": 1, \"total_number_adults\": 0, \"main_stem_length_in_cm\": 44.0}, {\"stem_diam_bottom_in_cm\": 0.22, \"diam_top_in_cm\": 0.18, \"side_branches_in_cm\": 60.23, \"total_meja\": 0, \"tip_of_stem_broken\": 0, \"infested\": 0, \"total_number_adults\": 0, \"main_stem_length_in_cm\": 18.5}, {\"stem_diam_bottom_in_cm\": 0.6, \"diam_top_in_cm\": 0.11, \"side_branches_in_cm\": 60.23, \"total_meja\": 34, \"tip_of_stem_broken\": 1, \"infested\": 1, \"total_number_adults\": 14, \"main_stem_length_in_cm\": 56.0}, {\"stem_diam_bottom_in_cm\": 0.9, \"diam_top_in_cm\": 0.26, \"side_branches_in_cm\": 60.23, \"total_meja\": 0, \"tip_of_stem_broken\": 1, \"infested\": 0, \"total_number_adults\": 0, \"main_stem_length_in_cm\": 79.0}, {\"stem_diam_bottom_in_cm\": 0.73, \"diam_top_in_cm\": 0.18, \"side_branches_in_cm\": 60.23, \"total_meja\": 4, \"tip_of_stem_broken\": 0, \"infested\": 1, \"total_number_adults\": 0, \"main_stem_length_in_cm\": 30.0}, {\"stem_diam_bottom_in_cm\": 0.62, \"diam_top_in_cm\": 0.18, \"side_branches_in_cm\": 60.23, \"total_meja\": 0, \"tip_of_stem_broken\": 1, \"infested\": 0, \"total_number_adults\": 0, \"main_stem_length_in_cm\": 51.0}, {\"stem_diam_bottom_in_cm\": 0.5, \"diam_top_in_cm\": 0.18, \"side_branches_in_cm\": 60.23, \"total_meja\": 17, \"tip_of_stem_broken\": 0, \"infested\": 1, \"total_number_adults\": 0, \"main_stem_length_in_cm\": 72.0}, {\"stem_diam_bottom_in_cm\": 0.87, \"diam_top_in_cm\": 0.18, \"side_branches_in_cm\": 58.0, \"total_meja\": 0, \"tip_of_stem_broken\": 1, \"infested\": 0, \"total_number_adults\": 0, \"main_stem_length_in_cm\": 62.0}, {\"stem_diam_bottom_in_cm\": 0.51, \"diam_top_in_cm\": 0.18, \"side_branches_in_cm\": 60.23, \"total_meja\": 0, \"tip_of_stem_broken\": 1, \"infested\": 0, \"total_number_adults\": 0, \"main_stem_length_in_cm\": 55.0}, {\"stem_diam_bottom_in_cm\": 0.17, \"diam_top_in_cm\": 0.18, \"side_branches_in_cm\": 60.23, \"total_meja\": 0, \"tip_of_stem_broken\": 0, \"infested\": 0, \"total_number_adults\": 0, \"main_stem_length_in_cm\": 14.0}, {\"stem_diam_bottom_in_cm\": 0.48, \"diam_top_in_cm\": 0.18, \"side_branches_in_cm\": 60.23, \"total_meja\": 18, \"tip_of_stem_broken\": 0, \"infested\": 1, \"total_number_adults\": 1, \"main_stem_length_in_cm\": 59.0}, {\"stem_diam_bottom_in_cm\": 0.48, \"diam_top_in_cm\": 0.03, \"side_branches_in_cm\": 60.23, \"total_meja\": 0, \"tip_of_stem_broken\": 0, \"infested\": 0, \"total_number_adults\": 0, \"main_stem_length_in_cm\": 75.0}, {\"stem_diam_bottom_in_cm\": 0.25, \"diam_top_in_cm\": 0.06, \"side_branches_in_cm\": 60.23, \"total_meja\": 0, \"tip_of_stem_broken\": 0, \"infested\": 0, \"total_number_adults\": 0, \"main_stem_length_in_cm\": 47.0}, {\"stem_diam_bottom_in_cm\": 0.56, \"diam_top_in_cm\": 0.18, \"side_branches_in_cm\": 60.23, \"total_meja\": 0, \"tip_of_stem_broken\": 1, \"infested\": 0, \"total_number_adults\": 0, \"main_stem_length_in_cm\": 66.0}, {\"stem_diam_bottom_in_cm\": 0.54, \"diam_top_in_cm\": 0.18, \"side_branches_in_cm\": 60.23, \"total_meja\": 11, \"tip_of_stem_broken\": 0, \"infested\": 1, \"total_number_adults\": 2, \"main_stem_length_in_cm\": 55.0}, {\"stem_diam_bottom_in_cm\": 0.82, \"diam_top_in_cm\": 0.23, \"side_branches_in_cm\": 60.23, \"total_meja\": 0, \"tip_of_stem_broken\": 1, \"infested\": 0, \"total_number_adults\": 0, \"main_stem_length_in_cm\": 65.0}, {\"stem_diam_bottom_in_cm\": 0.46, \"diam_top_in_cm\": 0.18, \"side_branches_in_cm\": 60.23, \"total_meja\": 28, \"tip_of_stem_broken\": 0, \"infested\": 1, \"total_number_adults\": 7, \"main_stem_length_in_cm\": 42.0}, {\"stem_diam_bottom_in_cm\": 0.34, \"diam_top_in_cm\": 0.1, \"side_branches_in_cm\": 60.23, \"total_meja\": 15, \"tip_of_stem_broken\": 0, \"infested\": 1, \"total_number_adults\": 15, \"main_stem_length_in_cm\": 33.5}, {\"stem_diam_bottom_in_cm\": 0.53, \"diam_top_in_cm\": 0.09, \"side_branches_in_cm\": 60.23, \"total_meja\": 0, \"tip_of_stem_broken\": 1, \"infested\": 0, \"total_number_adults\": 0, \"main_stem_length_in_cm\": 65.0}, {\"stem_diam_bottom_in_cm\": 0.35, \"diam_top_in_cm\": 0.18, \"side_branches_in_cm\": 60.23, \"total_meja\": 10, \"tip_of_stem_broken\": 0, \"infested\": 1, \"total_number_adults\": 0, \"main_stem_length_in_cm\": 96.0}, {\"stem_diam_bottom_in_cm\": 0.98, \"diam_top_in_cm\": 0.18, \"side_branches_in_cm\": 60.23, \"total_meja\": 6, \"tip_of_stem_broken\": 0, \"infested\": 1, \"total_number_adults\": 0, \"main_stem_length_in_cm\": 120.0}, {\"stem_diam_bottom_in_cm\": 0.19, \"diam_top_in_cm\": 0.18, \"side_branches_in_cm\": 60.23, \"total_meja\": 0, \"tip_of_stem_broken\": 0, \"infested\": 0, \"total_number_adults\": 0, \"main_stem_length_in_cm\": 11.0}, {\"stem_diam_bottom_in_cm\": 0.19, \"diam_top_in_cm\": 0.08, \"side_branches_in_cm\": 60.23, \"total_meja\": 3, \"tip_of_stem_broken\": 0, \"infested\": 1, \"total_number_adults\": 3, \"main_stem_length_in_cm\": 22.0}, {\"stem_diam_bottom_in_cm\": 0.47, \"diam_top_in_cm\": 0.18, \"side_branches_in_cm\": 60.23, \"total_meja\": 8, \"tip_of_stem_broken\": 0, \"infested\": 1, \"total_number_adults\": 0, \"main_stem_length_in_cm\": 50.0}, {\"stem_diam_bottom_in_cm\": 0.45, \"diam_top_in_cm\": 0.18, \"side_branches_in_cm\": 60.23, \"total_meja\": 8, \"tip_of_stem_broken\": 0, \"infested\": 1, \"total_number_adults\": 2, \"main_stem_length_in_cm\": 46.0}, {\"stem_diam_bottom_in_cm\": 0.5, \"diam_top_in_cm\": 0.18, \"side_branches_in_cm\": 60.23, \"total_meja\": 0, \"tip_of_stem_broken\": 1, \"infested\": 0, \"total_number_adults\": 0, \"main_stem_length_in_cm\": 53.0}, {\"stem_diam_bottom_in_cm\": 0.51, \"diam_top_in_cm\": 0.23, \"side_branches_in_cm\": 60.23, \"total_meja\": 23, \"tip_of_stem_broken\": 1, \"infested\": 1, \"total_number_adults\": 23, \"main_stem_length_in_cm\": 22.0}, {\"stem_diam_bottom_in_cm\": 0.6, \"diam_top_in_cm\": 0.18, \"side_branches_in_cm\": 60.0, \"total_meja\": 0, \"tip_of_stem_broken\": 1, \"infested\": 0, \"total_number_adults\": 0, \"main_stem_length_in_cm\": 24.0}, {\"stem_diam_bottom_in_cm\": 0.23, \"diam_top_in_cm\": 0.18, \"side_branches_in_cm\": 60.23, \"total_meja\": 0, \"tip_of_stem_broken\": 0, \"infested\": 0, \"total_number_adults\": 0, \"main_stem_length_in_cm\": 11.0}, {\"stem_diam_bottom_in_cm\": 0.19, \"diam_top_in_cm\": 0.18, \"side_branches_in_cm\": 60.23, \"total_meja\": 0, \"tip_of_stem_broken\": 0, \"infested\": 0, \"total_number_adults\": 0, \"main_stem_length_in_cm\": 12.0}, {\"stem_diam_bottom_in_cm\": 0.52, \"diam_top_in_cm\": 0.15, \"side_branches_in_cm\": 60.23, \"total_meja\": 22, \"tip_of_stem_broken\": 1, \"infested\": 1, \"total_number_adults\": 21, \"main_stem_length_in_cm\": 45.0}, {\"stem_diam_bottom_in_cm\": 0.48, \"diam_top_in_cm\": 0.18, \"side_branches_in_cm\": 60.23, \"total_meja\": 11, \"tip_of_stem_broken\": 0, \"infested\": 1, \"total_number_adults\": 1, \"main_stem_length_in_cm\": 44.0}, {\"stem_diam_bottom_in_cm\": 0.39, \"diam_top_in_cm\": 0.18, \"side_branches_in_cm\": 60.23, \"total_meja\": 0, \"tip_of_stem_broken\": 1, \"infested\": 0, \"total_number_adults\": 0, \"main_stem_length_in_cm\": 29.0}, {\"stem_diam_bottom_in_cm\": 0.31, \"diam_top_in_cm\": 0.18, \"side_branches_in_cm\": 60.23, \"total_meja\": 0, \"tip_of_stem_broken\": 1, \"infested\": 0, \"total_number_adults\": 0, \"main_stem_length_in_cm\": 26.0}, {\"stem_diam_bottom_in_cm\": 0.62, \"diam_top_in_cm\": 0.18, \"side_branches_in_cm\": 60.23, \"total_meja\": 3, \"tip_of_stem_broken\": 0, \"infested\": 1, \"total_number_adults\": 0, \"main_stem_length_in_cm\": 76.0}, {\"stem_diam_bottom_in_cm\": 0.41, \"diam_top_in_cm\": 0.06, \"side_branches_in_cm\": 60.23, \"total_meja\": 0, \"tip_of_stem_broken\": 0, \"infested\": 0, \"total_number_adults\": 0, \"main_stem_length_in_cm\": 81.0}, {\"stem_diam_bottom_in_cm\": 0.6, \"diam_top_in_cm\": 0.18, \"side_branches_in_cm\": 60.23, \"total_meja\": 6, \"tip_of_stem_broken\": 0, \"infested\": 1, \"total_number_adults\": 0, \"main_stem_length_in_cm\": 50.0}, {\"stem_diam_bottom_in_cm\": 0.56, \"diam_top_in_cm\": 0.45, \"side_branches_in_cm\": 60.23, \"total_meja\": 0, \"tip_of_stem_broken\": 1, \"infested\": 0, \"total_number_adults\": 0, \"main_stem_length_in_cm\": 45.0}, {\"stem_diam_bottom_in_cm\": 0.34, \"diam_top_in_cm\": 0.03, \"side_branches_in_cm\": 60.23, \"total_meja\": 0, \"tip_of_stem_broken\": 0, \"infested\": 0, \"total_number_adults\": 0, \"main_stem_length_in_cm\": 67.0}, {\"stem_diam_bottom_in_cm\": 0.49, \"diam_top_in_cm\": 0.18, \"side_branches_in_cm\": 60.23, \"total_meja\": 0, \"tip_of_stem_broken\": 0, \"infested\": 0, \"total_number_adults\": 0, \"main_stem_length_in_cm\": 79.5}, {\"stem_diam_bottom_in_cm\": 0.61, \"diam_top_in_cm\": 0.2, \"side_branches_in_cm\": 60.23, \"total_meja\": 17, \"tip_of_stem_broken\": 1, \"infested\": 1, \"total_number_adults\": 17, \"main_stem_length_in_cm\": 34.0}, {\"stem_diam_bottom_in_cm\": 0.8, \"diam_top_in_cm\": 0.18, \"side_branches_in_cm\": 60.23, \"total_meja\": 21, \"tip_of_stem_broken\": 0, \"infested\": 1, \"total_number_adults\": 2, \"main_stem_length_in_cm\": 63.0}, {\"stem_diam_bottom_in_cm\": 0.51, \"diam_top_in_cm\": 0.18, \"side_branches_in_cm\": 60.23, \"total_meja\": 0, \"tip_of_stem_broken\": 1, \"infested\": 0, \"total_number_adults\": 0, \"main_stem_length_in_cm\": 44.0}, {\"stem_diam_bottom_in_cm\": 0.6, \"diam_top_in_cm\": 0.18, \"side_branches_in_cm\": 134.0, \"total_meja\": 0, \"tip_of_stem_broken\": 0, \"infested\": 0, \"total_number_adults\": 0, \"main_stem_length_in_cm\": 44.0}, {\"stem_diam_bottom_in_cm\": 0.57, \"diam_top_in_cm\": 0.04, \"side_branches_in_cm\": 60.23, \"total_meja\": 0, \"tip_of_stem_broken\": 1, \"infested\": 0, \"total_number_adults\": 0, \"main_stem_length_in_cm\": 92.0}, {\"stem_diam_bottom_in_cm\": 0.33, \"diam_top_in_cm\": 0.13, \"side_branches_in_cm\": 60.23, \"total_meja\": 17, \"tip_of_stem_broken\": 1, \"infested\": 1, \"total_number_adults\": 17, \"main_stem_length_in_cm\": 27.0}, {\"stem_diam_bottom_in_cm\": 0.41, \"diam_top_in_cm\": 0.18, \"side_branches_in_cm\": 60.23, \"total_meja\": 0, \"tip_of_stem_broken\": 0, \"infested\": 0, \"total_number_adults\": 0, \"main_stem_length_in_cm\": 71.0}, {\"stem_diam_bottom_in_cm\": 0.73, \"diam_top_in_cm\": 0.18, \"side_branches_in_cm\": 50.0, \"total_meja\": 0, \"tip_of_stem_broken\": 1, \"infested\": 0, \"total_number_adults\": 0, \"main_stem_length_in_cm\": 79.0}, {\"stem_diam_bottom_in_cm\": 0.75, \"diam_top_in_cm\": 0.18, \"side_branches_in_cm\": 45.0, \"total_meja\": 0, \"tip_of_stem_broken\": 1, \"infested\": 0, \"total_number_adults\": 0, \"main_stem_length_in_cm\": 81.0}, {\"stem_diam_bottom_in_cm\": 0.43, \"diam_top_in_cm\": 0.18, \"side_branches_in_cm\": 60.23, \"total_meja\": 0, \"tip_of_stem_broken\": 1, \"infested\": 0, \"total_number_adults\": 0, \"main_stem_length_in_cm\": 61.0}, {\"stem_diam_bottom_in_cm\": 0.68, \"diam_top_in_cm\": 0.18, \"side_branches_in_cm\": 60.23, \"total_meja\": 8, \"tip_of_stem_broken\": 0, \"infested\": 1, \"total_number_adults\": 0, \"main_stem_length_in_cm\": 69.0}, {\"stem_diam_bottom_in_cm\": 0.73, \"diam_top_in_cm\": 0.18, \"side_branches_in_cm\": 60.23, \"total_meja\": 0, \"tip_of_stem_broken\": 1, \"infested\": 0, \"total_number_adults\": 0, \"main_stem_length_in_cm\": 54.0}, {\"stem_diam_bottom_in_cm\": 0.44, \"diam_top_in_cm\": 0.18, \"side_branches_in_cm\": 60.23, \"total_meja\": 22, \"tip_of_stem_broken\": 0, \"infested\": 1, \"total_number_adults\": 4, \"main_stem_length_in_cm\": 50.0}, {\"stem_diam_bottom_in_cm\": 0.25, \"diam_top_in_cm\": 0.18, \"side_branches_in_cm\": 60.23, \"total_meja\": 0, \"tip_of_stem_broken\": 1, \"infested\": 0, \"total_number_adults\": 0, \"main_stem_length_in_cm\": 42.0}, {\"stem_diam_bottom_in_cm\": 0.46, \"diam_top_in_cm\": 0.18, \"side_branches_in_cm\": 60.23, \"total_meja\": 0, \"tip_of_stem_broken\": 0, \"infested\": 0, \"total_number_adults\": 0, \"main_stem_length_in_cm\": 68.0}, {\"stem_diam_bottom_in_cm\": 0.91, \"diam_top_in_cm\": 0.25, \"side_branches_in_cm\": 60.23, \"total_meja\": 9, \"tip_of_stem_broken\": 1, \"infested\": 1, \"total_number_adults\": 1, \"main_stem_length_in_cm\": 98.0}, {\"stem_diam_bottom_in_cm\": 0.46, \"diam_top_in_cm\": 0.12, \"side_branches_in_cm\": 60.23, \"total_meja\": 0, \"tip_of_stem_broken\": 1, \"infested\": 0, \"total_number_adults\": 0, \"main_stem_length_in_cm\": 83.0}, {\"stem_diam_bottom_in_cm\": 0.52, \"diam_top_in_cm\": 0.18, \"side_branches_in_cm\": 60.23, \"total_meja\": 0, \"tip_of_stem_broken\": 0, \"infested\": 0, \"total_number_adults\": 0, \"main_stem_length_in_cm\": 87.0}, {\"stem_diam_bottom_in_cm\": 0.38, \"diam_top_in_cm\": 0.18, \"side_branches_in_cm\": 60.23, \"total_meja\": 0, \"tip_of_stem_broken\": 1, \"infested\": 0, \"total_number_adults\": 0, \"main_stem_length_in_cm\": 74.0}, {\"stem_diam_bottom_in_cm\": 0.4, \"diam_top_in_cm\": 0.18, \"side_branches_in_cm\": 60.23, \"total_meja\": 5, \"tip_of_stem_broken\": 0, \"infested\": 1, \"total_number_adults\": 0, \"main_stem_length_in_cm\": 60.0}, {\"stem_diam_bottom_in_cm\": 0.69, \"diam_top_in_cm\": 0.18, \"side_branches_in_cm\": 60.23, \"total_meja\": 5, \"tip_of_stem_broken\": 0, \"infested\": 1, \"total_number_adults\": 1, \"main_stem_length_in_cm\": 99.0}, {\"stem_diam_bottom_in_cm\": 0.4, \"diam_top_in_cm\": 0.15, \"side_branches_in_cm\": 60.23, \"total_meja\": 9, \"tip_of_stem_broken\": 1, \"infested\": 1, \"total_number_adults\": 9, \"main_stem_length_in_cm\": 42.0}, {\"stem_diam_bottom_in_cm\": 0.63, \"diam_top_in_cm\": 0.18, \"side_branches_in_cm\": 60.23, \"total_meja\": 23, \"tip_of_stem_broken\": 0, \"infested\": 1, \"total_number_adults\": 1, \"main_stem_length_in_cm\": 60.0}, {\"stem_diam_bottom_in_cm\": 0.41, \"diam_top_in_cm\": 0.1, \"side_branches_in_cm\": 60.23, \"total_meja\": 2, \"tip_of_stem_broken\": 1, \"infested\": 1, \"total_number_adults\": 1, \"main_stem_length_in_cm\": 66.0}, {\"stem_diam_bottom_in_cm\": 0.63, \"diam_top_in_cm\": 0.18, \"side_branches_in_cm\": 60.23, \"total_meja\": 21, \"tip_of_stem_broken\": 0, \"infested\": 1, \"total_number_adults\": 1, \"main_stem_length_in_cm\": 56.0}, {\"stem_diam_bottom_in_cm\": 0.75, \"diam_top_in_cm\": 0.18, \"side_branches_in_cm\": 60.23, \"total_meja\": 0, \"tip_of_stem_broken\": 1, \"infested\": 0, \"total_number_adults\": 0, \"main_stem_length_in_cm\": 64.0}, {\"stem_diam_bottom_in_cm\": 0.59, \"diam_top_in_cm\": 0.18, \"side_branches_in_cm\": 60.23, \"total_meja\": 0, \"tip_of_stem_broken\": 0, \"infested\": 0, \"total_number_adults\": 0, \"main_stem_length_in_cm\": 84.0}, {\"stem_diam_bottom_in_cm\": 0.49, \"diam_top_in_cm\": 0.06, \"side_branches_in_cm\": 60.23, \"total_meja\": 4, \"tip_of_stem_broken\": 0, \"infested\": 1, \"total_number_adults\": 4, \"main_stem_length_in_cm\": 65.0}, {\"stem_diam_bottom_in_cm\": 0.56, \"diam_top_in_cm\": 0.07, \"side_branches_in_cm\": 60.23, \"total_meja\": 0, \"tip_of_stem_broken\": 0, \"infested\": 0, \"total_number_adults\": 0, \"main_stem_length_in_cm\": 64.0}, {\"stem_diam_bottom_in_cm\": 0.34, \"diam_top_in_cm\": 0.18, \"side_branches_in_cm\": 60.23, \"total_meja\": 0, \"tip_of_stem_broken\": 1, \"infested\": 0, \"total_number_adults\": 0, \"main_stem_length_in_cm\": 49.0}, {\"stem_diam_bottom_in_cm\": 0.61, \"diam_top_in_cm\": 0.18, \"side_branches_in_cm\": 21.0, \"total_meja\": 3, \"tip_of_stem_broken\": 0, \"infested\": 1, \"total_number_adults\": 0, \"main_stem_length_in_cm\": 48.0}, {\"stem_diam_bottom_in_cm\": 0.17, \"diam_top_in_cm\": 0.18, \"side_branches_in_cm\": 60.23, \"total_meja\": 0, \"tip_of_stem_broken\": 0, \"infested\": 0, \"total_number_adults\": 0, \"main_stem_length_in_cm\": 13.5}, {\"stem_diam_bottom_in_cm\": 0.53, \"diam_top_in_cm\": 0.18, \"side_branches_in_cm\": 60.23, \"total_meja\": 0, \"tip_of_stem_broken\": 1, \"infested\": 0, \"total_number_adults\": 0, \"main_stem_length_in_cm\": 41.0}, {\"stem_diam_bottom_in_cm\": 0.58, \"diam_top_in_cm\": 0.18, \"side_branches_in_cm\": 60.23, \"total_meja\": 0, \"tip_of_stem_broken\": 1, \"infested\": 0, \"total_number_adults\": 0, \"main_stem_length_in_cm\": 26.0}, {\"stem_diam_bottom_in_cm\": 0.42, \"diam_top_in_cm\": 0.16, \"side_branches_in_cm\": 60.23, \"total_meja\": 8, \"tip_of_stem_broken\": 1, \"infested\": 1, \"total_number_adults\": 8, \"main_stem_length_in_cm\": 44.0}, {\"stem_diam_bottom_in_cm\": 0.6, \"diam_top_in_cm\": 0.35, \"side_branches_in_cm\": 60.23, \"total_meja\": 14, \"tip_of_stem_broken\": 1, \"infested\": 1, \"total_number_adults\": 3, \"main_stem_length_in_cm\": 54.0}, {\"stem_diam_bottom_in_cm\": 0.56, \"diam_top_in_cm\": 0.18, \"side_branches_in_cm\": 194.0, \"total_meja\": 5, \"tip_of_stem_broken\": 0, \"infested\": 1, \"total_number_adults\": 1, \"main_stem_length_in_cm\": 58.0}, {\"stem_diam_bottom_in_cm\": 0.7, \"diam_top_in_cm\": 0.18, \"side_branches_in_cm\": 60.23, \"total_meja\": 15, \"tip_of_stem_broken\": 0, \"infested\": 1, \"total_number_adults\": 1, \"main_stem_length_in_cm\": 66.0}, {\"stem_diam_bottom_in_cm\": 0.32, \"diam_top_in_cm\": 0.18, \"side_branches_in_cm\": 60.23, \"total_meja\": 0, \"tip_of_stem_broken\": 1, \"infested\": 0, \"total_number_adults\": 0, \"main_stem_length_in_cm\": 29.0}, {\"stem_diam_bottom_in_cm\": 0.43, \"diam_top_in_cm\": 0.18, \"side_branches_in_cm\": 36.0, \"total_meja\": 0, \"tip_of_stem_broken\": 0, \"infested\": 0, \"total_number_adults\": 0, \"main_stem_length_in_cm\": 73.0}]}}, {\"mode\": \"vega-lite\"});\n",
       "</script>"
      ],
      "text/plain": [
       "alt.RepeatChart(...)"
      ]
     },
     "execution_count": 48,
     "metadata": {},
     "output_type": "execute_result"
    }
   ],
   "source": [
    "alt.Chart(df_train_lin).mark_bar().encode(\n",
    "    alt.X(alt.repeat(\"column\"), type=\"quantitative\", bin=True),\n",
    "    y='count()',\n",
    ").properties(\n",
    "    width=150,\n",
    "    height=150\n",
    ").repeat(\n",
    "    column=[y_label_lin] + features_lin\n",
    ")"
   ]
  },
  {
   "cell_type": "markdown",
   "metadata": {},
   "source": [
    "#### 4.1.2 Logistic Regression"
   ]
  },
  {
   "cell_type": "markdown",
   "metadata": {},
   "source": [
    "Again, we use the describe function to compute summary statistics for all numerical columns but we are grouping the DataFrame by the \"infested\" column."
   ]
  },
  {
   "cell_type": "code",
   "execution_count": 49,
   "metadata": {
    "scrolled": true
   },
   "outputs": [
    {
     "data": {
      "text/html": [
       "<div>\n",
       "<style scoped>\n",
       "    .dataframe tbody tr th:only-of-type {\n",
       "        vertical-align: middle;\n",
       "    }\n",
       "\n",
       "    .dataframe tbody tr th {\n",
       "        vertical-align: top;\n",
       "    }\n",
       "\n",
       "    .dataframe thead th {\n",
       "        text-align: right;\n",
       "    }\n",
       "</style>\n",
       "<table border=\"1\" class=\"dataframe\">\n",
       "  <thead>\n",
       "    <tr style=\"text-align: right;\">\n",
       "      <th></th>\n",
       "      <th>infested</th>\n",
       "      <th>0</th>\n",
       "      <th>1</th>\n",
       "    </tr>\n",
       "  </thead>\n",
       "  <tbody>\n",
       "    <tr>\n",
       "      <th rowspan=\"8\" valign=\"top\">main_stem_length_in_cm</th>\n",
       "      <th>count</th>\n",
       "      <td>78.000000</td>\n",
       "      <td>218.000000</td>\n",
       "    </tr>\n",
       "    <tr>\n",
       "      <th>mean</th>\n",
       "      <td>70.346154</td>\n",
       "      <td>46.160550</td>\n",
       "    </tr>\n",
       "    <tr>\n",
       "      <th>std</th>\n",
       "      <td>18.183643</td>\n",
       "      <td>17.028626</td>\n",
       "    </tr>\n",
       "    <tr>\n",
       "      <th>min</th>\n",
       "      <td>36.000000</td>\n",
       "      <td>8.000000</td>\n",
       "    </tr>\n",
       "    <tr>\n",
       "      <th>25%</th>\n",
       "      <td>55.500000</td>\n",
       "      <td>34.250000</td>\n",
       "    </tr>\n",
       "    <tr>\n",
       "      <th>50%</th>\n",
       "      <td>69.000000</td>\n",
       "      <td>43.000000</td>\n",
       "    </tr>\n",
       "    <tr>\n",
       "      <th>75%</th>\n",
       "      <td>84.500000</td>\n",
       "      <td>54.000000</td>\n",
       "    </tr>\n",
       "    <tr>\n",
       "      <th>max</th>\n",
       "      <td>110.000000</td>\n",
       "      <td>124.000000</td>\n",
       "    </tr>\n",
       "    <tr>\n",
       "      <th rowspan=\"8\" valign=\"top\">stem_diam_bottom_in_cm</th>\n",
       "      <th>count</th>\n",
       "      <td>78.000000</td>\n",
       "      <td>218.000000</td>\n",
       "    </tr>\n",
       "    <tr>\n",
       "      <th>mean</th>\n",
       "      <td>0.541410</td>\n",
       "      <td>0.514404</td>\n",
       "    </tr>\n",
       "    <tr>\n",
       "      <th>std</th>\n",
       "      <td>0.196830</td>\n",
       "      <td>0.161056</td>\n",
       "    </tr>\n",
       "    <tr>\n",
       "      <th>min</th>\n",
       "      <td>0.220000</td>\n",
       "      <td>0.190000</td>\n",
       "    </tr>\n",
       "    <tr>\n",
       "      <th>25%</th>\n",
       "      <td>0.382500</td>\n",
       "      <td>0.390000</td>\n",
       "    </tr>\n",
       "    <tr>\n",
       "      <th>50%</th>\n",
       "      <td>0.505000</td>\n",
       "      <td>0.490000</td>\n",
       "    </tr>\n",
       "    <tr>\n",
       "      <th>75%</th>\n",
       "      <td>0.657500</td>\n",
       "      <td>0.617500</td>\n",
       "    </tr>\n",
       "    <tr>\n",
       "      <th>max</th>\n",
       "      <td>1.090000</td>\n",
       "      <td>1.080000</td>\n",
       "    </tr>\n",
       "    <tr>\n",
       "      <th rowspan=\"8\" valign=\"top\">diam_top_in_cm</th>\n",
       "      <th>count</th>\n",
       "      <td>78.000000</td>\n",
       "      <td>218.000000</td>\n",
       "    </tr>\n",
       "    <tr>\n",
       "      <th>mean</th>\n",
       "      <td>0.132308</td>\n",
       "      <td>0.198028</td>\n",
       "    </tr>\n",
       "    <tr>\n",
       "      <th>std</th>\n",
       "      <td>0.122749</td>\n",
       "      <td>0.122907</td>\n",
       "    </tr>\n",
       "    <tr>\n",
       "      <th>min</th>\n",
       "      <td>0.020000</td>\n",
       "      <td>0.020000</td>\n",
       "    </tr>\n",
       "    <tr>\n",
       "      <th>25%</th>\n",
       "      <td>0.050000</td>\n",
       "      <td>0.110000</td>\n",
       "    </tr>\n",
       "    <tr>\n",
       "      <th>50%</th>\n",
       "      <td>0.090000</td>\n",
       "      <td>0.170000</td>\n",
       "    </tr>\n",
       "    <tr>\n",
       "      <th>75%</th>\n",
       "      <td>0.167500</td>\n",
       "      <td>0.260000</td>\n",
       "    </tr>\n",
       "    <tr>\n",
       "      <th>max</th>\n",
       "      <td>0.650000</td>\n",
       "      <td>0.760000</td>\n",
       "    </tr>\n",
       "    <tr>\n",
       "      <th rowspan=\"8\" valign=\"top\">tip_of_stem_broken</th>\n",
       "      <th>count</th>\n",
       "      <td>78.000000</td>\n",
       "      <td>218.000000</td>\n",
       "    </tr>\n",
       "    <tr>\n",
       "      <th>mean</th>\n",
       "      <td>0.525641</td>\n",
       "      <td>0.706422</td>\n",
       "    </tr>\n",
       "    <tr>\n",
       "      <th>std</th>\n",
       "      <td>0.502574</td>\n",
       "      <td>0.456449</td>\n",
       "    </tr>\n",
       "    <tr>\n",
       "      <th>min</th>\n",
       "      <td>0.000000</td>\n",
       "      <td>0.000000</td>\n",
       "    </tr>\n",
       "    <tr>\n",
       "      <th>25%</th>\n",
       "      <td>0.000000</td>\n",
       "      <td>0.000000</td>\n",
       "    </tr>\n",
       "    <tr>\n",
       "      <th>50%</th>\n",
       "      <td>1.000000</td>\n",
       "      <td>1.000000</td>\n",
       "    </tr>\n",
       "    <tr>\n",
       "      <th>75%</th>\n",
       "      <td>1.000000</td>\n",
       "      <td>1.000000</td>\n",
       "    </tr>\n",
       "    <tr>\n",
       "      <th>max</th>\n",
       "      <td>1.000000</td>\n",
       "      <td>1.000000</td>\n",
       "    </tr>\n",
       "  </tbody>\n",
       "</table>\n",
       "</div>"
      ],
      "text/plain": [
       "infested                               0           1\n",
       "main_stem_length_in_cm count   78.000000  218.000000\n",
       "                       mean    70.346154   46.160550\n",
       "                       std     18.183643   17.028626\n",
       "                       min     36.000000    8.000000\n",
       "                       25%     55.500000   34.250000\n",
       "                       50%     69.000000   43.000000\n",
       "                       75%     84.500000   54.000000\n",
       "                       max    110.000000  124.000000\n",
       "stem_diam_bottom_in_cm count   78.000000  218.000000\n",
       "                       mean     0.541410    0.514404\n",
       "                       std      0.196830    0.161056\n",
       "                       min      0.220000    0.190000\n",
       "                       25%      0.382500    0.390000\n",
       "                       50%      0.505000    0.490000\n",
       "                       75%      0.657500    0.617500\n",
       "                       max      1.090000    1.080000\n",
       "diam_top_in_cm         count   78.000000  218.000000\n",
       "                       mean     0.132308    0.198028\n",
       "                       std      0.122749    0.122907\n",
       "                       min      0.020000    0.020000\n",
       "                       25%      0.050000    0.110000\n",
       "                       50%      0.090000    0.170000\n",
       "                       75%      0.167500    0.260000\n",
       "                       max      0.650000    0.760000\n",
       "tip_of_stem_broken     count   78.000000  218.000000\n",
       "                       mean     0.525641    0.706422\n",
       "                       std      0.502574    0.456449\n",
       "                       min      0.000000    0.000000\n",
       "                       25%      0.000000    0.000000\n",
       "                       50%      1.000000    1.000000\n",
       "                       75%      1.000000    1.000000\n",
       "                       max      1.000000    1.000000"
      ]
     },
     "execution_count": 49,
     "metadata": {},
     "output_type": "execute_result"
    }
   ],
   "source": [
    "df_train_log.groupby(by=['infested']).describe().T"
   ]
  },
  {
   "cell_type": "markdown",
   "metadata": {},
   "source": [
    "To get more detailed information we are generating a grid of area charts using Altair, where each chart represents the distribution of quantitative variables, specified in y_label_log and features_log, in the DataFrame df_train_log. The areas are colored based on the values in the \"infested\" column."
   ]
  },
  {
   "cell_type": "code",
   "execution_count": 98,
   "metadata": {},
   "outputs": [
    {
     "data": {
      "text/html": [
       "\n",
       "<style>\n",
       "  #altair-viz-43a81e666265497c81f055ac3e571609.vega-embed {\n",
       "    width: 100%;\n",
       "    display: flex;\n",
       "  }\n",
       "\n",
       "  #altair-viz-43a81e666265497c81f055ac3e571609.vega-embed details,\n",
       "  #altair-viz-43a81e666265497c81f055ac3e571609.vega-embed details summary {\n",
       "    position: relative;\n",
       "  }\n",
       "</style>\n",
       "<div id=\"altair-viz-43a81e666265497c81f055ac3e571609\"></div>\n",
       "<script type=\"text/javascript\">\n",
       "  var VEGA_DEBUG = (typeof VEGA_DEBUG == \"undefined\") ? {} : VEGA_DEBUG;\n",
       "  (function(spec, embedOpt){\n",
       "    let outputDiv = document.currentScript.previousElementSibling;\n",
       "    if (outputDiv.id !== \"altair-viz-43a81e666265497c81f055ac3e571609\") {\n",
       "      outputDiv = document.getElementById(\"altair-viz-43a81e666265497c81f055ac3e571609\");\n",
       "    }\n",
       "    const paths = {\n",
       "      \"vega\": \"https://cdn.jsdelivr.net/npm/vega@5?noext\",\n",
       "      \"vega-lib\": \"https://cdn.jsdelivr.net/npm/vega-lib?noext\",\n",
       "      \"vega-lite\": \"https://cdn.jsdelivr.net/npm/vega-lite@5.16.3?noext\",\n",
       "      \"vega-embed\": \"https://cdn.jsdelivr.net/npm/vega-embed@6?noext\",\n",
       "    };\n",
       "\n",
       "    function maybeLoadScript(lib, version) {\n",
       "      var key = `${lib.replace(\"-\", \"\")}_version`;\n",
       "      return (VEGA_DEBUG[key] == version) ?\n",
       "        Promise.resolve(paths[lib]) :\n",
       "        new Promise(function(resolve, reject) {\n",
       "          var s = document.createElement('script');\n",
       "          document.getElementsByTagName(\"head\")[0].appendChild(s);\n",
       "          s.async = true;\n",
       "          s.onload = () => {\n",
       "            VEGA_DEBUG[key] = version;\n",
       "            return resolve(paths[lib]);\n",
       "          };\n",
       "          s.onerror = () => reject(`Error loading script: ${paths[lib]}`);\n",
       "          s.src = paths[lib];\n",
       "        });\n",
       "    }\n",
       "\n",
       "    function showError(err) {\n",
       "      outputDiv.innerHTML = `<div class=\"error\" style=\"color:red;\">${err}</div>`;\n",
       "      throw err;\n",
       "    }\n",
       "\n",
       "    function displayChart(vegaEmbed) {\n",
       "      vegaEmbed(outputDiv, spec, embedOpt)\n",
       "        .catch(err => showError(`Javascript Error: ${err.message}<br>This usually means there's a typo in your chart specification. See the javascript console for the full traceback.`));\n",
       "    }\n",
       "\n",
       "    if(typeof define === \"function\" && define.amd) {\n",
       "      requirejs.config({paths});\n",
       "      require([\"vega-embed\"], displayChart, err => showError(`Error loading script: ${err.message}`));\n",
       "    } else {\n",
       "      maybeLoadScript(\"vega\", \"5\")\n",
       "        .then(() => maybeLoadScript(\"vega-lite\", \"5.16.3\"))\n",
       "        .then(() => maybeLoadScript(\"vega-embed\", \"6\"))\n",
       "        .catch(showError)\n",
       "        .then(() => displayChart(vegaEmbed));\n",
       "    }\n",
       "  })({\"config\": {\"view\": {\"continuousWidth\": 300, \"continuousHeight\": 300}}, \"repeat\": {\"column\": [\"main_stem_length_in_cm\", \"stem_diam_bottom_in_cm\", \"diam_top_in_cm\", \"tip_of_stem_broken\"]}, \"spec\": {\"data\": {\"name\": \"data-1b764090cb56a7f465f27793af019f2f\"}, \"mark\": {\"type\": \"area\", \"interpolate\": \"step\", \"opacity\": 0.5}, \"encoding\": {\"color\": {\"field\": \"infested\", \"type\": \"nominal\"}, \"x\": {\"bin\": {\"maxbins\": 20}, \"field\": {\"repeat\": \"column\"}, \"type\": \"quantitative\"}, \"y\": {\"aggregate\": \"count\", \"stack\": null, \"type\": \"quantitative\"}}, \"width\": 300}, \"$schema\": \"https://vega.github.io/schema/vega-lite/v5.16.3.json\", \"datasets\": {\"data-1b764090cb56a7f465f27793af019f2f\": [{\"main_stem_length_in_cm\": 77.0, \"stem_diam_bottom_in_cm\": 0.94, \"diam_top_in_cm\": 0.3, \"tip_of_stem_broken\": 1, \"infested\": 1}, {\"main_stem_length_in_cm\": 66.0, \"stem_diam_bottom_in_cm\": 0.38, \"diam_top_in_cm\": 0.04, \"tip_of_stem_broken\": 0, \"infested\": 0}, {\"main_stem_length_in_cm\": 39.0, \"stem_diam_bottom_in_cm\": 0.51, \"diam_top_in_cm\": 0.22, \"tip_of_stem_broken\": 0, \"infested\": 1}, {\"main_stem_length_in_cm\": 51.5, \"stem_diam_bottom_in_cm\": 0.46, \"diam_top_in_cm\": 0.18, \"tip_of_stem_broken\": 0, \"infested\": 1}, {\"main_stem_length_in_cm\": 40.0, \"stem_diam_bottom_in_cm\": 0.43, \"diam_top_in_cm\": 0.23, \"tip_of_stem_broken\": 1, \"infested\": 1}, {\"main_stem_length_in_cm\": 26.0, \"stem_diam_bottom_in_cm\": 0.26, \"diam_top_in_cm\": 0.13, \"tip_of_stem_broken\": 1, \"infested\": 1}, {\"main_stem_length_in_cm\": 107.0, \"stem_diam_bottom_in_cm\": 0.66, \"diam_top_in_cm\": 0.06, \"tip_of_stem_broken\": 0, \"infested\": 0}, {\"main_stem_length_in_cm\": 42.0, \"stem_diam_bottom_in_cm\": 0.45, \"diam_top_in_cm\": 0.11, \"tip_of_stem_broken\": 0, \"infested\": 1}, {\"main_stem_length_in_cm\": 44.0, \"stem_diam_bottom_in_cm\": 0.5, \"diam_top_in_cm\": 0.34, \"tip_of_stem_broken\": 1, \"infested\": 1}, {\"main_stem_length_in_cm\": 57.5, \"stem_diam_bottom_in_cm\": 0.62, \"diam_top_in_cm\": 0.11, \"tip_of_stem_broken\": 0, \"infested\": 1}, {\"main_stem_length_in_cm\": 36.0, \"stem_diam_bottom_in_cm\": 0.41, \"diam_top_in_cm\": 0.2, \"tip_of_stem_broken\": 0, \"infested\": 1}, {\"main_stem_length_in_cm\": 57.0, \"stem_diam_bottom_in_cm\": 0.32, \"diam_top_in_cm\": 0.08, \"tip_of_stem_broken\": 1, \"infested\": 0}, {\"main_stem_length_in_cm\": 40.0, \"stem_diam_bottom_in_cm\": 0.55, \"diam_top_in_cm\": 0.42, \"tip_of_stem_broken\": 1, \"infested\": 1}, {\"main_stem_length_in_cm\": 42.0, \"stem_diam_bottom_in_cm\": 0.51, \"diam_top_in_cm\": 0.21, \"tip_of_stem_broken\": 1, \"infested\": 1}, {\"main_stem_length_in_cm\": 44.0, \"stem_diam_bottom_in_cm\": 0.42, \"diam_top_in_cm\": 0.16, \"tip_of_stem_broken\": 1, \"infested\": 1}, {\"main_stem_length_in_cm\": 71.0, \"stem_diam_bottom_in_cm\": 0.42, \"diam_top_in_cm\": 0.14, \"tip_of_stem_broken\": 1, \"infested\": 0}, {\"main_stem_length_in_cm\": 38.0, \"stem_diam_bottom_in_cm\": 0.33, \"diam_top_in_cm\": 0.06, \"tip_of_stem_broken\": 0, \"infested\": 1}, {\"main_stem_length_in_cm\": 22.5, \"stem_diam_bottom_in_cm\": 0.42, \"diam_top_in_cm\": 0.3, \"tip_of_stem_broken\": 1, \"infested\": 1}, {\"main_stem_length_in_cm\": 27.0, \"stem_diam_bottom_in_cm\": 0.34, \"diam_top_in_cm\": 0.12, \"tip_of_stem_broken\": 0, \"infested\": 1}, {\"main_stem_length_in_cm\": 58.0, \"stem_diam_bottom_in_cm\": 0.44, \"diam_top_in_cm\": 0.11, \"tip_of_stem_broken\": 1, \"infested\": 1}, {\"main_stem_length_in_cm\": 41.0, \"stem_diam_bottom_in_cm\": 0.49, \"diam_top_in_cm\": 0.2, \"tip_of_stem_broken\": 1, \"infested\": 1}, {\"main_stem_length_in_cm\": 68.0, \"stem_diam_bottom_in_cm\": 0.49, \"diam_top_in_cm\": 0.1, \"tip_of_stem_broken\": 1, \"infested\": 1}, {\"main_stem_length_in_cm\": 27.0, \"stem_diam_bottom_in_cm\": 0.36, \"diam_top_in_cm\": 0.19, \"tip_of_stem_broken\": 1, \"infested\": 1}, {\"main_stem_length_in_cm\": 71.0, \"stem_diam_bottom_in_cm\": 1.08, \"diam_top_in_cm\": 0.48, \"tip_of_stem_broken\": 1, \"infested\": 0}, {\"main_stem_length_in_cm\": 61.0, \"stem_diam_bottom_in_cm\": 0.38, \"diam_top_in_cm\": 0.16, \"tip_of_stem_broken\": 1, \"infested\": 0}, {\"main_stem_length_in_cm\": 51.0, \"stem_diam_bottom_in_cm\": 0.37, \"diam_top_in_cm\": 0.14, \"tip_of_stem_broken\": 1, \"infested\": 1}, {\"main_stem_length_in_cm\": 49.0, \"stem_diam_bottom_in_cm\": 0.85, \"diam_top_in_cm\": 0.38, \"tip_of_stem_broken\": 1, \"infested\": 1}, {\"main_stem_length_in_cm\": 94.0, \"stem_diam_bottom_in_cm\": 0.62, \"diam_top_in_cm\": 0.07, \"tip_of_stem_broken\": 0, \"infested\": 0}, {\"main_stem_length_in_cm\": 29.5, \"stem_diam_bottom_in_cm\": 0.36, \"diam_top_in_cm\": 0.18, \"tip_of_stem_broken\": 0, \"infested\": 1}, {\"main_stem_length_in_cm\": 30.5, \"stem_diam_bottom_in_cm\": 0.48, \"diam_top_in_cm\": 0.11, \"tip_of_stem_broken\": 1, \"infested\": 1}, {\"main_stem_length_in_cm\": 80.0, \"stem_diam_bottom_in_cm\": 0.79, \"diam_top_in_cm\": 0.21, \"tip_of_stem_broken\": 1, \"infested\": 0}, {\"main_stem_length_in_cm\": 29.0, \"stem_diam_bottom_in_cm\": 0.38, \"diam_top_in_cm\": 0.11, \"tip_of_stem_broken\": 0, \"infested\": 1}, {\"main_stem_length_in_cm\": 41.0, \"stem_diam_bottom_in_cm\": 0.69, \"diam_top_in_cm\": 0.28, \"tip_of_stem_broken\": 1, \"infested\": 1}, {\"main_stem_length_in_cm\": 53.0, \"stem_diam_bottom_in_cm\": 0.59, \"diam_top_in_cm\": 0.15, \"tip_of_stem_broken\": 1, \"infested\": 1}, {\"main_stem_length_in_cm\": 25.0, \"stem_diam_bottom_in_cm\": 0.49, \"diam_top_in_cm\": 0.2, \"tip_of_stem_broken\": 1, \"infested\": 1}, {\"main_stem_length_in_cm\": 92.0, \"stem_diam_bottom_in_cm\": 0.68, \"diam_top_in_cm\": 0.05, \"tip_of_stem_broken\": 0, \"infested\": 0}, {\"main_stem_length_in_cm\": 32.0, \"stem_diam_bottom_in_cm\": 0.37, \"diam_top_in_cm\": 0.05, \"tip_of_stem_broken\": 0, \"infested\": 1}, {\"main_stem_length_in_cm\": 40.0, \"stem_diam_bottom_in_cm\": 0.57, \"diam_top_in_cm\": 0.34, \"tip_of_stem_broken\": 1, \"infested\": 1}, {\"main_stem_length_in_cm\": 50.0, \"stem_diam_bottom_in_cm\": 0.52, \"diam_top_in_cm\": 0.2, \"tip_of_stem_broken\": 1, \"infested\": 1}, {\"main_stem_length_in_cm\": 48.0, \"stem_diam_bottom_in_cm\": 0.64, \"diam_top_in_cm\": 0.15, \"tip_of_stem_broken\": 0, \"infested\": 1}, {\"main_stem_length_in_cm\": 77.0, \"stem_diam_bottom_in_cm\": 0.64, \"diam_top_in_cm\": 0.76, \"tip_of_stem_broken\": 1, \"infested\": 1}, {\"main_stem_length_in_cm\": 38.0, \"stem_diam_bottom_in_cm\": 0.54, \"diam_top_in_cm\": 0.16, \"tip_of_stem_broken\": 0, \"infested\": 1}, {\"main_stem_length_in_cm\": 42.0, \"stem_diam_bottom_in_cm\": 0.72, \"diam_top_in_cm\": 0.08, \"tip_of_stem_broken\": 0, \"infested\": 1}, {\"main_stem_length_in_cm\": 53.0, \"stem_diam_bottom_in_cm\": 0.33, \"diam_top_in_cm\": 0.08, \"tip_of_stem_broken\": 1, \"infested\": 1}, {\"main_stem_length_in_cm\": 62.5, \"stem_diam_bottom_in_cm\": 0.61, \"diam_top_in_cm\": 0.13, \"tip_of_stem_broken\": 1, \"infested\": 1}, {\"main_stem_length_in_cm\": 72.0, \"stem_diam_bottom_in_cm\": 0.8, \"diam_top_in_cm\": 0.35, \"tip_of_stem_broken\": 1, \"infested\": 1}, {\"main_stem_length_in_cm\": 43.0, \"stem_diam_bottom_in_cm\": 0.31, \"diam_top_in_cm\": 0.07, \"tip_of_stem_broken\": 1, \"infested\": 1}, {\"main_stem_length_in_cm\": 86.0, \"stem_diam_bottom_in_cm\": 0.63, \"diam_top_in_cm\": 0.15, \"tip_of_stem_broken\": 1, \"infested\": 0}, {\"main_stem_length_in_cm\": 31.5, \"stem_diam_bottom_in_cm\": 0.39, \"diam_top_in_cm\": 0.26, \"tip_of_stem_broken\": 1, \"infested\": 1}, {\"main_stem_length_in_cm\": 52.0, \"stem_diam_bottom_in_cm\": 0.43, \"diam_top_in_cm\": 0.05, \"tip_of_stem_broken\": 0, \"infested\": 1}, {\"main_stem_length_in_cm\": 57.5, \"stem_diam_bottom_in_cm\": 0.82, \"diam_top_in_cm\": 0.22, \"tip_of_stem_broken\": 1, \"infested\": 1}, {\"main_stem_length_in_cm\": 56.0, \"stem_diam_bottom_in_cm\": 0.34, \"diam_top_in_cm\": 0.03, \"tip_of_stem_broken\": 0, \"infested\": 1}, {\"main_stem_length_in_cm\": 43.0, \"stem_diam_bottom_in_cm\": 0.74, \"diam_top_in_cm\": 0.43, \"tip_of_stem_broken\": 1, \"infested\": 1}, {\"main_stem_length_in_cm\": 42.0, \"stem_diam_bottom_in_cm\": 0.42, \"diam_top_in_cm\": 0.2, \"tip_of_stem_broken\": 1, \"infested\": 1}, {\"main_stem_length_in_cm\": 48.0, \"stem_diam_bottom_in_cm\": 0.76, \"diam_top_in_cm\": 0.65, \"tip_of_stem_broken\": 1, \"infested\": 0}, {\"main_stem_length_in_cm\": 47.0, \"stem_diam_bottom_in_cm\": 0.41, \"diam_top_in_cm\": 0.07, \"tip_of_stem_broken\": 1, \"infested\": 1}, {\"main_stem_length_in_cm\": 43.0, \"stem_diam_bottom_in_cm\": 0.46, \"diam_top_in_cm\": 0.18, \"tip_of_stem_broken\": 1, \"infested\": 1}, {\"main_stem_length_in_cm\": 33.0, \"stem_diam_bottom_in_cm\": 0.61, \"diam_top_in_cm\": 0.26, \"tip_of_stem_broken\": 1, \"infested\": 1}, {\"main_stem_length_in_cm\": 29.0, \"stem_diam_bottom_in_cm\": 0.35, \"diam_top_in_cm\": 0.11, \"tip_of_stem_broken\": 0, \"infested\": 1}, {\"main_stem_length_in_cm\": 35.0, \"stem_diam_bottom_in_cm\": 0.74, \"diam_top_in_cm\": 0.19, \"tip_of_stem_broken\": 1, \"infested\": 1}, {\"main_stem_length_in_cm\": 43.0, \"stem_diam_bottom_in_cm\": 0.45, \"diam_top_in_cm\": 0.14, \"tip_of_stem_broken\": 1, \"infested\": 1}, {\"main_stem_length_in_cm\": 62.0, \"stem_diam_bottom_in_cm\": 0.69, \"diam_top_in_cm\": 0.33, \"tip_of_stem_broken\": 1, \"infested\": 1}, {\"main_stem_length_in_cm\": 36.0, \"stem_diam_bottom_in_cm\": 0.43, \"diam_top_in_cm\": 0.11, \"tip_of_stem_broken\": 1, \"infested\": 1}, {\"main_stem_length_in_cm\": 72.0, \"stem_diam_bottom_in_cm\": 0.44, \"diam_top_in_cm\": 0.07, \"tip_of_stem_broken\": 0, \"infested\": 1}, {\"main_stem_length_in_cm\": 63.0, \"stem_diam_bottom_in_cm\": 0.27, \"diam_top_in_cm\": 0.04, \"tip_of_stem_broken\": 0, \"infested\": 0}, {\"main_stem_length_in_cm\": 96.0, \"stem_diam_bottom_in_cm\": 0.86, \"diam_top_in_cm\": 0.23, \"tip_of_stem_broken\": 1, \"infested\": 0}, {\"main_stem_length_in_cm\": 43.0, \"stem_diam_bottom_in_cm\": 0.45, \"diam_top_in_cm\": 0.16, \"tip_of_stem_broken\": 1, \"infested\": 1}, {\"main_stem_length_in_cm\": 55.0, \"stem_diam_bottom_in_cm\": 0.62, \"diam_top_in_cm\": 0.2, \"tip_of_stem_broken\": 1, \"infested\": 1}, {\"main_stem_length_in_cm\": 67.0, \"stem_diam_bottom_in_cm\": 0.56, \"diam_top_in_cm\": 0.26, \"tip_of_stem_broken\": 1, \"infested\": 1}, {\"main_stem_length_in_cm\": 55.0, \"stem_diam_bottom_in_cm\": 0.62, \"diam_top_in_cm\": 0.57, \"tip_of_stem_broken\": 1, \"infested\": 1}, {\"main_stem_length_in_cm\": 64.0, \"stem_diam_bottom_in_cm\": 0.38, \"diam_top_in_cm\": 0.13, \"tip_of_stem_broken\": 1, \"infested\": 1}, {\"main_stem_length_in_cm\": 58.0, \"stem_diam_bottom_in_cm\": 0.62, \"diam_top_in_cm\": 0.09, \"tip_of_stem_broken\": 1, \"infested\": 0}, {\"main_stem_length_in_cm\": 45.0, \"stem_diam_bottom_in_cm\": 0.25, \"diam_top_in_cm\": 0.06, \"tip_of_stem_broken\": 0, \"infested\": 1}, {\"main_stem_length_in_cm\": 44.0, \"stem_diam_bottom_in_cm\": 0.81, \"diam_top_in_cm\": 0.18, \"tip_of_stem_broken\": 1, \"infested\": 1}, {\"main_stem_length_in_cm\": 31.0, \"stem_diam_bottom_in_cm\": 0.38, \"diam_top_in_cm\": 0.2, \"tip_of_stem_broken\": 1, \"infested\": 1}, {\"main_stem_length_in_cm\": 45.0, \"stem_diam_bottom_in_cm\": 0.52, \"diam_top_in_cm\": 0.15, \"tip_of_stem_broken\": 1, \"infested\": 1}, {\"main_stem_length_in_cm\": 83.0, \"stem_diam_bottom_in_cm\": 0.51, \"diam_top_in_cm\": 0.11, \"tip_of_stem_broken\": 1, \"infested\": 0}, {\"main_stem_length_in_cm\": 71.0, \"stem_diam_bottom_in_cm\": 0.62, \"diam_top_in_cm\": 0.11, \"tip_of_stem_broken\": 1, \"infested\": 0}, {\"main_stem_length_in_cm\": 50.0, \"stem_diam_bottom_in_cm\": 0.46, \"diam_top_in_cm\": 0.34, \"tip_of_stem_broken\": 1, \"infested\": 0}, {\"main_stem_length_in_cm\": 62.0, \"stem_diam_bottom_in_cm\": 0.42, \"diam_top_in_cm\": 0.08, \"tip_of_stem_broken\": 0, \"infested\": 1}, {\"main_stem_length_in_cm\": 51.0, \"stem_diam_bottom_in_cm\": 0.53, \"diam_top_in_cm\": 0.21, \"tip_of_stem_broken\": 1, \"infested\": 1}, {\"main_stem_length_in_cm\": 27.5, \"stem_diam_bottom_in_cm\": 0.64, \"diam_top_in_cm\": 0.35, \"tip_of_stem_broken\": 1, \"infested\": 1}, {\"main_stem_length_in_cm\": 52.0, \"stem_diam_bottom_in_cm\": 0.47, \"diam_top_in_cm\": 0.1, \"tip_of_stem_broken\": 1, \"infested\": 1}, {\"main_stem_length_in_cm\": 47.0, \"stem_diam_bottom_in_cm\": 0.4, \"diam_top_in_cm\": 0.16, \"tip_of_stem_broken\": 0, \"infested\": 1}, {\"main_stem_length_in_cm\": 63.0, \"stem_diam_bottom_in_cm\": 1.08, \"diam_top_in_cm\": 0.58, \"tip_of_stem_broken\": 1, \"infested\": 1}, {\"main_stem_length_in_cm\": 41.0, \"stem_diam_bottom_in_cm\": 0.6, \"diam_top_in_cm\": 0.53, \"tip_of_stem_broken\": 1, \"infested\": 1}, {\"main_stem_length_in_cm\": 40.0, \"stem_diam_bottom_in_cm\": 0.52, \"diam_top_in_cm\": 0.26, \"tip_of_stem_broken\": 1, \"infested\": 1}, {\"main_stem_length_in_cm\": 50.0, \"stem_diam_bottom_in_cm\": 0.51, \"diam_top_in_cm\": 0.09, \"tip_of_stem_broken\": 1, \"infested\": 1}, {\"main_stem_length_in_cm\": 58.0, \"stem_diam_bottom_in_cm\": 0.37, \"diam_top_in_cm\": 0.08, \"tip_of_stem_broken\": 1, \"infested\": 0}, {\"main_stem_length_in_cm\": 64.0, \"stem_diam_bottom_in_cm\": 0.41, \"diam_top_in_cm\": 0.04, \"tip_of_stem_broken\": 1, \"infested\": 1}, {\"main_stem_length_in_cm\": 37.0, \"stem_diam_bottom_in_cm\": 0.33, \"diam_top_in_cm\": 0.07, \"tip_of_stem_broken\": 0, \"infested\": 1}, {\"main_stem_length_in_cm\": 75.0, \"stem_diam_bottom_in_cm\": 0.8, \"diam_top_in_cm\": 0.3, \"tip_of_stem_broken\": 1, \"infested\": 1}, {\"main_stem_length_in_cm\": 47.0, \"stem_diam_bottom_in_cm\": 0.37, \"diam_top_in_cm\": 0.05, \"tip_of_stem_broken\": 0, \"infested\": 1}, {\"main_stem_length_in_cm\": 77.0, \"stem_diam_bottom_in_cm\": 0.83, \"diam_top_in_cm\": 0.09, \"tip_of_stem_broken\": 1, \"infested\": 1}, {\"main_stem_length_in_cm\": 47.5, \"stem_diam_bottom_in_cm\": 0.51, \"diam_top_in_cm\": 0.1, \"tip_of_stem_broken\": 0, \"infested\": 1}, {\"main_stem_length_in_cm\": 28.0, \"stem_diam_bottom_in_cm\": 0.41, \"diam_top_in_cm\": 0.09, \"tip_of_stem_broken\": 0, \"infested\": 1}, {\"main_stem_length_in_cm\": 34.0, \"stem_diam_bottom_in_cm\": 0.62, \"diam_top_in_cm\": 0.12, \"tip_of_stem_broken\": 1, \"infested\": 1}, {\"main_stem_length_in_cm\": 38.5, \"stem_diam_bottom_in_cm\": 0.45, \"diam_top_in_cm\": 0.1, \"tip_of_stem_broken\": 0, \"infested\": 1}, {\"main_stem_length_in_cm\": 44.0, \"stem_diam_bottom_in_cm\": 0.57, \"diam_top_in_cm\": 0.18, \"tip_of_stem_broken\": 1, \"infested\": 1}, {\"main_stem_length_in_cm\": 49.0, \"stem_diam_bottom_in_cm\": 0.61, \"diam_top_in_cm\": 0.25, \"tip_of_stem_broken\": 1, \"infested\": 1}, {\"main_stem_length_in_cm\": 29.0, \"stem_diam_bottom_in_cm\": 0.37, \"diam_top_in_cm\": 0.13, \"tip_of_stem_broken\": 0, \"infested\": 1}, {\"main_stem_length_in_cm\": 25.0, \"stem_diam_bottom_in_cm\": 0.3, \"diam_top_in_cm\": 0.2, \"tip_of_stem_broken\": 0, \"infested\": 1}, {\"main_stem_length_in_cm\": 60.0, \"stem_diam_bottom_in_cm\": 0.5, \"diam_top_in_cm\": 0.26, \"tip_of_stem_broken\": 1, \"infested\": 1}, {\"main_stem_length_in_cm\": 62.0, \"stem_diam_bottom_in_cm\": 0.58, \"diam_top_in_cm\": 0.09, \"tip_of_stem_broken\": 1, \"infested\": 1}, {\"main_stem_length_in_cm\": 73.0, \"stem_diam_bottom_in_cm\": 0.54, \"diam_top_in_cm\": 0.11, \"tip_of_stem_broken\": 1, \"infested\": 0}, {\"main_stem_length_in_cm\": 67.0, \"stem_diam_bottom_in_cm\": 0.62, \"diam_top_in_cm\": 0.12, \"tip_of_stem_broken\": 1, \"infested\": 1}, {\"main_stem_length_in_cm\": 100.0, \"stem_diam_bottom_in_cm\": 0.72, \"diam_top_in_cm\": 0.05, \"tip_of_stem_broken\": 0, \"infested\": 0}, {\"main_stem_length_in_cm\": 48.0, \"stem_diam_bottom_in_cm\": 0.65, \"diam_top_in_cm\": 0.11, \"tip_of_stem_broken\": 0, \"infested\": 1}, {\"main_stem_length_in_cm\": 24.0, \"stem_diam_bottom_in_cm\": 0.32, \"diam_top_in_cm\": 0.12, \"tip_of_stem_broken\": 1, \"infested\": 1}, {\"main_stem_length_in_cm\": 47.0, \"stem_diam_bottom_in_cm\": 0.75, \"diam_top_in_cm\": 0.24, \"tip_of_stem_broken\": 1, \"infested\": 1}, {\"main_stem_length_in_cm\": 51.0, \"stem_diam_bottom_in_cm\": 0.44, \"diam_top_in_cm\": 0.18, \"tip_of_stem_broken\": 1, \"infested\": 1}, {\"main_stem_length_in_cm\": 90.0, \"stem_diam_bottom_in_cm\": 0.44, \"diam_top_in_cm\": 0.05, \"tip_of_stem_broken\": 0, \"infested\": 0}, {\"main_stem_length_in_cm\": 34.0, \"stem_diam_bottom_in_cm\": 0.34, \"diam_top_in_cm\": 0.17, \"tip_of_stem_broken\": 1, \"infested\": 1}, {\"main_stem_length_in_cm\": 41.5, \"stem_diam_bottom_in_cm\": 0.67, \"diam_top_in_cm\": 0.17, \"tip_of_stem_broken\": 0, \"infested\": 1}, {\"main_stem_length_in_cm\": 51.0, \"stem_diam_bottom_in_cm\": 0.39, \"diam_top_in_cm\": 0.05, \"tip_of_stem_broken\": 0, \"infested\": 0}, {\"main_stem_length_in_cm\": 32.5, \"stem_diam_bottom_in_cm\": 0.43, \"diam_top_in_cm\": 0.1, \"tip_of_stem_broken\": 0, \"infested\": 1}, {\"main_stem_length_in_cm\": 32.0, \"stem_diam_bottom_in_cm\": 0.45, \"diam_top_in_cm\": 0.27, \"tip_of_stem_broken\": 1, \"infested\": 1}, {\"main_stem_length_in_cm\": 38.0, \"stem_diam_bottom_in_cm\": 0.75, \"diam_top_in_cm\": 0.62, \"tip_of_stem_broken\": 1, \"infested\": 1}, {\"main_stem_length_in_cm\": 62.0, \"stem_diam_bottom_in_cm\": 0.76, \"diam_top_in_cm\": 0.27, \"tip_of_stem_broken\": 1, \"infested\": 1}, {\"main_stem_length_in_cm\": 76.0, \"stem_diam_bottom_in_cm\": 0.63, \"diam_top_in_cm\": 0.1, \"tip_of_stem_broken\": 1, \"infested\": 0}, {\"main_stem_length_in_cm\": 54.0, \"stem_diam_bottom_in_cm\": 0.64, \"diam_top_in_cm\": 0.17, \"tip_of_stem_broken\": 1, \"infested\": 1}, {\"main_stem_length_in_cm\": 78.0, \"stem_diam_bottom_in_cm\": 0.38, \"diam_top_in_cm\": 0.05, \"tip_of_stem_broken\": 0, \"infested\": 1}, {\"main_stem_length_in_cm\": 85.0, \"stem_diam_bottom_in_cm\": 0.56, \"diam_top_in_cm\": 0.08, \"tip_of_stem_broken\": 0, \"infested\": 0}, {\"main_stem_length_in_cm\": 65.0, \"stem_diam_bottom_in_cm\": 0.39, \"diam_top_in_cm\": 0.11, \"tip_of_stem_broken\": 0, \"infested\": 0}, {\"main_stem_length_in_cm\": 58.0, \"stem_diam_bottom_in_cm\": 0.67, \"diam_top_in_cm\": 0.41, \"tip_of_stem_broken\": 1, \"infested\": 1}, {\"main_stem_length_in_cm\": 45.0, \"stem_diam_bottom_in_cm\": 0.31, \"diam_top_in_cm\": 0.13, \"tip_of_stem_broken\": 1, \"infested\": 0}, {\"main_stem_length_in_cm\": 54.0, \"stem_diam_bottom_in_cm\": 0.65, \"diam_top_in_cm\": 0.54, \"tip_of_stem_broken\": 1, \"infested\": 0}, {\"main_stem_length_in_cm\": 29.0, \"stem_diam_bottom_in_cm\": 0.33, \"diam_top_in_cm\": 0.18, \"tip_of_stem_broken\": 1, \"infested\": 1}, {\"main_stem_length_in_cm\": 54.0, \"stem_diam_bottom_in_cm\": 0.49, \"diam_top_in_cm\": 0.28, \"tip_of_stem_broken\": 1, \"infested\": 1}, {\"main_stem_length_in_cm\": 90.0, \"stem_diam_bottom_in_cm\": 0.67, \"diam_top_in_cm\": 0.05, \"tip_of_stem_broken\": 0, \"infested\": 0}, {\"main_stem_length_in_cm\": 31.0, \"stem_diam_bottom_in_cm\": 0.31, \"diam_top_in_cm\": 0.16, \"tip_of_stem_broken\": 1, \"infested\": 1}, {\"main_stem_length_in_cm\": 46.0, \"stem_diam_bottom_in_cm\": 0.33, \"diam_top_in_cm\": 0.03, \"tip_of_stem_broken\": 0, \"infested\": 0}, {\"main_stem_length_in_cm\": 110.0, \"stem_diam_bottom_in_cm\": 0.68, \"diam_top_in_cm\": 0.06, \"tip_of_stem_broken\": 0, \"infested\": 0}, {\"main_stem_length_in_cm\": 36.0, \"stem_diam_bottom_in_cm\": 0.66, \"diam_top_in_cm\": 0.22, \"tip_of_stem_broken\": 1, \"infested\": 1}, {\"main_stem_length_in_cm\": 22.0, \"stem_diam_bottom_in_cm\": 0.53, \"diam_top_in_cm\": 0.49, \"tip_of_stem_broken\": 1, \"infested\": 1}, {\"main_stem_length_in_cm\": 70.0, \"stem_diam_bottom_in_cm\": 0.57, \"diam_top_in_cm\": 0.06, \"tip_of_stem_broken\": 1, \"infested\": 0}, {\"main_stem_length_in_cm\": 82.0, \"stem_diam_bottom_in_cm\": 0.88, \"diam_top_in_cm\": 0.26, \"tip_of_stem_broken\": 1, \"infested\": 0}, {\"main_stem_length_in_cm\": 122.0, \"stem_diam_bottom_in_cm\": 0.92, \"diam_top_in_cm\": 0.24, \"tip_of_stem_broken\": 1, \"infested\": 1}, {\"main_stem_length_in_cm\": 30.0, \"stem_diam_bottom_in_cm\": 0.33, \"diam_top_in_cm\": 0.12, \"tip_of_stem_broken\": 0, \"infested\": 1}, {\"main_stem_length_in_cm\": 54.0, \"stem_diam_bottom_in_cm\": 0.65, \"diam_top_in_cm\": 0.36, \"tip_of_stem_broken\": 1, \"infested\": 1}, {\"main_stem_length_in_cm\": 48.0, \"stem_diam_bottom_in_cm\": 0.65, \"diam_top_in_cm\": 0.05, \"tip_of_stem_broken\": 0, \"infested\": 1}, {\"main_stem_length_in_cm\": 49.0, \"stem_diam_bottom_in_cm\": 0.61, \"diam_top_in_cm\": 0.47, \"tip_of_stem_broken\": 1, \"infested\": 1}, {\"main_stem_length_in_cm\": 45.0, \"stem_diam_bottom_in_cm\": 0.65, \"diam_top_in_cm\": 0.3, \"tip_of_stem_broken\": 1, \"infested\": 1}, {\"main_stem_length_in_cm\": 63.0, \"stem_diam_bottom_in_cm\": 0.5, \"diam_top_in_cm\": 0.05, \"tip_of_stem_broken\": 0, \"infested\": 0}, {\"main_stem_length_in_cm\": 42.0, \"stem_diam_bottom_in_cm\": 0.93, \"diam_top_in_cm\": 0.28, \"tip_of_stem_broken\": 1, \"infested\": 1}, {\"main_stem_length_in_cm\": 65.0, \"stem_diam_bottom_in_cm\": 0.42, \"diam_top_in_cm\": 0.07, \"tip_of_stem_broken\": 0, \"infested\": 0}, {\"main_stem_length_in_cm\": 57.0, \"stem_diam_bottom_in_cm\": 0.55, \"diam_top_in_cm\": 0.15, \"tip_of_stem_broken\": 1, \"infested\": 0}, {\"main_stem_length_in_cm\": 30.0, \"stem_diam_bottom_in_cm\": 0.33, \"diam_top_in_cm\": 0.12, \"tip_of_stem_broken\": 1, \"infested\": 1}, {\"main_stem_length_in_cm\": 53.0, \"stem_diam_bottom_in_cm\": 0.5, \"diam_top_in_cm\": 0.18, \"tip_of_stem_broken\": 1, \"infested\": 1}, {\"main_stem_length_in_cm\": 67.0, \"stem_diam_bottom_in_cm\": 0.28, \"diam_top_in_cm\": 0.02, \"tip_of_stem_broken\": 0, \"infested\": 1}, {\"main_stem_length_in_cm\": 45.0, \"stem_diam_bottom_in_cm\": 0.76, \"diam_top_in_cm\": 0.45, \"tip_of_stem_broken\": 1, \"infested\": 1}, {\"main_stem_length_in_cm\": 43.0, \"stem_diam_bottom_in_cm\": 0.47, \"diam_top_in_cm\": 0.14, \"tip_of_stem_broken\": 0, \"infested\": 1}, {\"main_stem_length_in_cm\": 22.0, \"stem_diam_bottom_in_cm\": 0.24, \"diam_top_in_cm\": 0.18, \"tip_of_stem_broken\": 1, \"infested\": 1}, {\"main_stem_length_in_cm\": 73.0, \"stem_diam_bottom_in_cm\": 0.64, \"diam_top_in_cm\": 0.38, \"tip_of_stem_broken\": 1, \"infested\": 1}, {\"main_stem_length_in_cm\": 41.0, \"stem_diam_bottom_in_cm\": 0.32, \"diam_top_in_cm\": 0.16, \"tip_of_stem_broken\": 1, \"infested\": 1}, {\"main_stem_length_in_cm\": 51.0, \"stem_diam_bottom_in_cm\": 0.33, \"diam_top_in_cm\": 0.09, \"tip_of_stem_broken\": 0, \"infested\": 0}, {\"main_stem_length_in_cm\": 31.0, \"stem_diam_bottom_in_cm\": 0.48, \"diam_top_in_cm\": 0.28, \"tip_of_stem_broken\": 1, \"infested\": 1}, {\"main_stem_length_in_cm\": 69.0, \"stem_diam_bottom_in_cm\": 0.74, \"diam_top_in_cm\": 0.14, \"tip_of_stem_broken\": 1, \"infested\": 0}, {\"main_stem_length_in_cm\": 32.0, \"stem_diam_bottom_in_cm\": 0.44, \"diam_top_in_cm\": 0.23, \"tip_of_stem_broken\": 1, \"infested\": 1}, {\"main_stem_length_in_cm\": 34.0, \"stem_diam_bottom_in_cm\": 0.69, \"diam_top_in_cm\": 0.13, \"tip_of_stem_broken\": 0, \"infested\": 1}, {\"main_stem_length_in_cm\": 59.0, \"stem_diam_bottom_in_cm\": 0.64, \"diam_top_in_cm\": 0.26, \"tip_of_stem_broken\": 1, \"infested\": 1}, {\"main_stem_length_in_cm\": 54.0, \"stem_diam_bottom_in_cm\": 0.53, \"diam_top_in_cm\": 0.08, \"tip_of_stem_broken\": 0, \"infested\": 1}, {\"main_stem_length_in_cm\": 34.0, \"stem_diam_bottom_in_cm\": 0.33, \"diam_top_in_cm\": 0.07, \"tip_of_stem_broken\": 0, \"infested\": 1}, {\"main_stem_length_in_cm\": 37.0, \"stem_diam_bottom_in_cm\": 0.65, \"diam_top_in_cm\": 0.16, \"tip_of_stem_broken\": 0, \"infested\": 1}, {\"main_stem_length_in_cm\": 40.0, \"stem_diam_bottom_in_cm\": 0.57, \"diam_top_in_cm\": 0.31, \"tip_of_stem_broken\": 1, \"infested\": 1}, {\"main_stem_length_in_cm\": 55.0, \"stem_diam_bottom_in_cm\": 0.39, \"diam_top_in_cm\": 0.02, \"tip_of_stem_broken\": 0, \"infested\": 0}, {\"main_stem_length_in_cm\": 39.0, \"stem_diam_bottom_in_cm\": 0.82, \"diam_top_in_cm\": 0.2, \"tip_of_stem_broken\": 1, \"infested\": 1}, {\"main_stem_length_in_cm\": 96.0, \"stem_diam_bottom_in_cm\": 0.88, \"diam_top_in_cm\": 0.18, \"tip_of_stem_broken\": 1, \"infested\": 0}, {\"main_stem_length_in_cm\": 53.0, \"stem_diam_bottom_in_cm\": 0.38, \"diam_top_in_cm\": 0.09, \"tip_of_stem_broken\": 1, \"infested\": 0}, {\"main_stem_length_in_cm\": 46.0, \"stem_diam_bottom_in_cm\": 0.7, \"diam_top_in_cm\": 0.41, \"tip_of_stem_broken\": 1, \"infested\": 1}, {\"main_stem_length_in_cm\": 37.0, \"stem_diam_bottom_in_cm\": 0.55, \"diam_top_in_cm\": 0.43, \"tip_of_stem_broken\": 1, \"infested\": 1}, {\"main_stem_length_in_cm\": 67.0, \"stem_diam_bottom_in_cm\": 0.75, \"diam_top_in_cm\": 0.17, \"tip_of_stem_broken\": 1, \"infested\": 1}, {\"main_stem_length_in_cm\": 35.0, \"stem_diam_bottom_in_cm\": 0.53, \"diam_top_in_cm\": 0.19, \"tip_of_stem_broken\": 1, \"infested\": 1}, {\"main_stem_length_in_cm\": 98.0, \"stem_diam_bottom_in_cm\": 0.93, \"diam_top_in_cm\": 0.25, \"tip_of_stem_broken\": 1, \"infested\": 0}, {\"main_stem_length_in_cm\": 79.0, \"stem_diam_bottom_in_cm\": 0.86, \"diam_top_in_cm\": 0.3, \"tip_of_stem_broken\": 1, \"infested\": 1}, {\"main_stem_length_in_cm\": 91.0, \"stem_diam_bottom_in_cm\": 0.81, \"diam_top_in_cm\": 0.12, \"tip_of_stem_broken\": 1, \"infested\": 1}, {\"main_stem_length_in_cm\": 49.0, \"stem_diam_bottom_in_cm\": 0.58, \"diam_top_in_cm\": 0.32, \"tip_of_stem_broken\": 1, \"infested\": 1}, {\"main_stem_length_in_cm\": 61.0, \"stem_diam_bottom_in_cm\": 0.48, \"diam_top_in_cm\": 0.1, \"tip_of_stem_broken\": 0, \"infested\": 0}, {\"main_stem_length_in_cm\": 68.0, \"stem_diam_bottom_in_cm\": 0.34, \"diam_top_in_cm\": 0.04, \"tip_of_stem_broken\": 0, \"infested\": 0}, {\"main_stem_length_in_cm\": 33.0, \"stem_diam_bottom_in_cm\": 0.66, \"diam_top_in_cm\": 0.26, \"tip_of_stem_broken\": 1, \"infested\": 1}, {\"main_stem_length_in_cm\": 45.0, \"stem_diam_bottom_in_cm\": 0.51, \"diam_top_in_cm\": 0.25, \"tip_of_stem_broken\": 1, \"infested\": 1}, {\"main_stem_length_in_cm\": 39.0, \"stem_diam_bottom_in_cm\": 0.3, \"diam_top_in_cm\": 0.09, \"tip_of_stem_broken\": 0, \"infested\": 1}, {\"main_stem_length_in_cm\": 34.0, \"stem_diam_bottom_in_cm\": 0.44, \"diam_top_in_cm\": 0.27, \"tip_of_stem_broken\": 1, \"infested\": 1}, {\"main_stem_length_in_cm\": 67.0, \"stem_diam_bottom_in_cm\": 0.5, \"diam_top_in_cm\": 0.06, \"tip_of_stem_broken\": 0, \"infested\": 1}, {\"main_stem_length_in_cm\": 27.0, \"stem_diam_bottom_in_cm\": 0.36, \"diam_top_in_cm\": 0.15, \"tip_of_stem_broken\": 0, \"infested\": 1}, {\"main_stem_length_in_cm\": 124.0, \"stem_diam_bottom_in_cm\": 0.87, \"diam_top_in_cm\": 0.18, \"tip_of_stem_broken\": 1, \"infested\": 1}, {\"main_stem_length_in_cm\": 101.0, \"stem_diam_bottom_in_cm\": 0.4, \"diam_top_in_cm\": 0.04, \"tip_of_stem_broken\": 0, \"infested\": 0}, {\"main_stem_length_in_cm\": 30.0, \"stem_diam_bottom_in_cm\": 0.4, \"diam_top_in_cm\": 0.17, \"tip_of_stem_broken\": 1, \"infested\": 1}, {\"main_stem_length_in_cm\": 85.0, \"stem_diam_bottom_in_cm\": 0.48, \"diam_top_in_cm\": 0.05, \"tip_of_stem_broken\": 0, \"infested\": 0}, {\"main_stem_length_in_cm\": 31.0, \"stem_diam_bottom_in_cm\": 0.48, \"diam_top_in_cm\": 0.2, \"tip_of_stem_broken\": 1, \"infested\": 1}, {\"main_stem_length_in_cm\": 92.0, \"stem_diam_bottom_in_cm\": 1.09, \"diam_top_in_cm\": 0.28, \"tip_of_stem_broken\": 1, \"infested\": 0}, {\"main_stem_length_in_cm\": 8.0, \"stem_diam_bottom_in_cm\": 0.41, \"diam_top_in_cm\": 0.38, \"tip_of_stem_broken\": 1, \"infested\": 1}, {\"main_stem_length_in_cm\": 80.0, \"stem_diam_bottom_in_cm\": 0.55, \"diam_top_in_cm\": 0.12, \"tip_of_stem_broken\": 1, \"infested\": 1}, {\"main_stem_length_in_cm\": 40.0, \"stem_diam_bottom_in_cm\": 0.29, \"diam_top_in_cm\": 0.07, \"tip_of_stem_broken\": 0, \"infested\": 1}, {\"main_stem_length_in_cm\": 32.0, \"stem_diam_bottom_in_cm\": 0.4, \"diam_top_in_cm\": 0.11, \"tip_of_stem_broken\": 0, \"infested\": 1}, {\"main_stem_length_in_cm\": 72.0, \"stem_diam_bottom_in_cm\": 0.36, \"diam_top_in_cm\": 0.02, \"tip_of_stem_broken\": 0, \"infested\": 0}, {\"main_stem_length_in_cm\": 38.0, \"stem_diam_bottom_in_cm\": 0.43, \"diam_top_in_cm\": 0.13, \"tip_of_stem_broken\": 0, \"infested\": 1}, {\"main_stem_length_in_cm\": 54.0, \"stem_diam_bottom_in_cm\": 0.38, \"diam_top_in_cm\": 0.06, \"tip_of_stem_broken\": 1, \"infested\": 0}, {\"main_stem_length_in_cm\": 67.0, \"stem_diam_bottom_in_cm\": 0.53, \"diam_top_in_cm\": 0.12, \"tip_of_stem_broken\": 0, \"infested\": 1}, {\"main_stem_length_in_cm\": 31.0, \"stem_diam_bottom_in_cm\": 0.43, \"diam_top_in_cm\": 0.16, \"tip_of_stem_broken\": 0, \"infested\": 1}, {\"main_stem_length_in_cm\": 33.0, \"stem_diam_bottom_in_cm\": 0.55, \"diam_top_in_cm\": 0.12, \"tip_of_stem_broken\": 1, \"infested\": 1}, {\"main_stem_length_in_cm\": 64.0, \"stem_diam_bottom_in_cm\": 0.78, \"diam_top_in_cm\": 0.26, \"tip_of_stem_broken\": 1, \"infested\": 1}, {\"main_stem_length_in_cm\": 62.5, \"stem_diam_bottom_in_cm\": 0.59, \"diam_top_in_cm\": 0.14, \"tip_of_stem_broken\": 1, \"infested\": 1}, {\"main_stem_length_in_cm\": 46.0, \"stem_diam_bottom_in_cm\": 0.52, \"diam_top_in_cm\": 0.34, \"tip_of_stem_broken\": 1, \"infested\": 1}, {\"main_stem_length_in_cm\": 60.0, \"stem_diam_bottom_in_cm\": 0.41, \"diam_top_in_cm\": 0.17, \"tip_of_stem_broken\": 1, \"infested\": 0}, {\"main_stem_length_in_cm\": 98.0, \"stem_diam_bottom_in_cm\": 0.8, \"diam_top_in_cm\": 0.04, \"tip_of_stem_broken\": 0, \"infested\": 0}, {\"main_stem_length_in_cm\": 22.0, \"stem_diam_bottom_in_cm\": 0.19, \"diam_top_in_cm\": 0.08, \"tip_of_stem_broken\": 0, \"infested\": 1}, {\"main_stem_length_in_cm\": 83.0, \"stem_diam_bottom_in_cm\": 0.34, \"diam_top_in_cm\": 0.05, \"tip_of_stem_broken\": 0, \"infested\": 0}, {\"main_stem_length_in_cm\": 38.0, \"stem_diam_bottom_in_cm\": 0.49, \"diam_top_in_cm\": 0.38, \"tip_of_stem_broken\": 1, \"infested\": 1}, {\"main_stem_length_in_cm\": 69.0, \"stem_diam_bottom_in_cm\": 0.63, \"diam_top_in_cm\": 0.17, \"tip_of_stem_broken\": 1, \"infested\": 0}, {\"main_stem_length_in_cm\": 44.0, \"stem_diam_bottom_in_cm\": 0.38, \"diam_top_in_cm\": 0.12, \"tip_of_stem_broken\": 1, \"infested\": 1}, {\"main_stem_length_in_cm\": 93.0, \"stem_diam_bottom_in_cm\": 0.64, \"diam_top_in_cm\": 0.09, \"tip_of_stem_broken\": 0, \"infested\": 0}, {\"main_stem_length_in_cm\": 85.0, \"stem_diam_bottom_in_cm\": 0.81, \"diam_top_in_cm\": 0.21, \"tip_of_stem_broken\": 1, \"infested\": 0}, {\"main_stem_length_in_cm\": 36.0, \"stem_diam_bottom_in_cm\": 0.55, \"diam_top_in_cm\": 0.19, \"tip_of_stem_broken\": 1, \"infested\": 0}, {\"main_stem_length_in_cm\": 40.5, \"stem_diam_bottom_in_cm\": 0.35, \"diam_top_in_cm\": 0.18, \"tip_of_stem_broken\": 1, \"infested\": 1}, {\"main_stem_length_in_cm\": 39.0, \"stem_diam_bottom_in_cm\": 0.44, \"diam_top_in_cm\": 0.09, \"tip_of_stem_broken\": 0, \"infested\": 1}, {\"main_stem_length_in_cm\": 17.5, \"stem_diam_bottom_in_cm\": 0.23, \"diam_top_in_cm\": 0.1, \"tip_of_stem_broken\": 1, \"infested\": 1}, {\"main_stem_length_in_cm\": 36.0, \"stem_diam_bottom_in_cm\": 0.22, \"diam_top_in_cm\": 0.03, \"tip_of_stem_broken\": 0, \"infested\": 0}, {\"main_stem_length_in_cm\": 39.0, \"stem_diam_bottom_in_cm\": 0.29, \"diam_top_in_cm\": 0.06, \"tip_of_stem_broken\": 0, \"infested\": 0}, {\"main_stem_length_in_cm\": 51.0, \"stem_diam_bottom_in_cm\": 0.52, \"diam_top_in_cm\": 0.12, \"tip_of_stem_broken\": 0, \"infested\": 1}, {\"main_stem_length_in_cm\": 38.0, \"stem_diam_bottom_in_cm\": 0.26, \"diam_top_in_cm\": 0.06, \"tip_of_stem_broken\": 1, \"infested\": 1}, {\"main_stem_length_in_cm\": 49.0, \"stem_diam_bottom_in_cm\": 0.39, \"diam_top_in_cm\": 0.09, \"tip_of_stem_broken\": 1, \"infested\": 1}, {\"main_stem_length_in_cm\": 50.0, \"stem_diam_bottom_in_cm\": 0.67, \"diam_top_in_cm\": 0.39, \"tip_of_stem_broken\": 1, \"infested\": 1}, {\"main_stem_length_in_cm\": 59.0, \"stem_diam_bottom_in_cm\": 0.5, \"diam_top_in_cm\": 0.11, \"tip_of_stem_broken\": 1, \"infested\": 1}, {\"main_stem_length_in_cm\": 39.5, \"stem_diam_bottom_in_cm\": 0.44, \"diam_top_in_cm\": 0.14, \"tip_of_stem_broken\": 1, \"infested\": 1}, {\"main_stem_length_in_cm\": 79.0, \"stem_diam_bottom_in_cm\": 0.9, \"diam_top_in_cm\": 0.26, \"tip_of_stem_broken\": 1, \"infested\": 0}, {\"main_stem_length_in_cm\": 39.0, \"stem_diam_bottom_in_cm\": 0.31, \"diam_top_in_cm\": 0.08, \"tip_of_stem_broken\": 0, \"infested\": 1}, {\"main_stem_length_in_cm\": 90.0, \"stem_diam_bottom_in_cm\": 0.72, \"diam_top_in_cm\": 0.14, \"tip_of_stem_broken\": 1, \"infested\": 1}, {\"main_stem_length_in_cm\": 81.0, \"stem_diam_bottom_in_cm\": 0.51, \"diam_top_in_cm\": 0.14, \"tip_of_stem_broken\": 1, \"infested\": 0}, {\"main_stem_length_in_cm\": 75.0, \"stem_diam_bottom_in_cm\": 0.48, \"diam_top_in_cm\": 0.03, \"tip_of_stem_broken\": 0, \"infested\": 0}, {\"main_stem_length_in_cm\": 47.0, \"stem_diam_bottom_in_cm\": 0.25, \"diam_top_in_cm\": 0.06, \"tip_of_stem_broken\": 0, \"infested\": 0}, {\"main_stem_length_in_cm\": 47.0, \"stem_diam_bottom_in_cm\": 0.56, \"diam_top_in_cm\": 0.24, \"tip_of_stem_broken\": 1, \"infested\": 1}, {\"main_stem_length_in_cm\": 65.0, \"stem_diam_bottom_in_cm\": 0.82, \"diam_top_in_cm\": 0.23, \"tip_of_stem_broken\": 1, \"infested\": 0}, {\"main_stem_length_in_cm\": 39.0, \"stem_diam_bottom_in_cm\": 0.59, \"diam_top_in_cm\": 0.21, \"tip_of_stem_broken\": 1, \"infested\": 1}, {\"main_stem_length_in_cm\": 65.0, \"stem_diam_bottom_in_cm\": 0.53, \"diam_top_in_cm\": 0.09, \"tip_of_stem_broken\": 1, \"infested\": 0}, {\"main_stem_length_in_cm\": 50.0, \"stem_diam_bottom_in_cm\": 0.48, \"diam_top_in_cm\": 0.12, \"tip_of_stem_broken\": 0, \"infested\": 1}, {\"main_stem_length_in_cm\": 46.0, \"stem_diam_bottom_in_cm\": 0.78, \"diam_top_in_cm\": 0.53, \"tip_of_stem_broken\": 1, \"infested\": 1}, {\"main_stem_length_in_cm\": 22.0, \"stem_diam_bottom_in_cm\": 0.51, \"diam_top_in_cm\": 0.23, \"tip_of_stem_broken\": 1, \"infested\": 1}, {\"main_stem_length_in_cm\": 88.0, \"stem_diam_bottom_in_cm\": 0.47, \"diam_top_in_cm\": 0.09, \"tip_of_stem_broken\": 0, \"infested\": 0}, {\"main_stem_length_in_cm\": 39.0, \"stem_diam_bottom_in_cm\": 0.38, \"diam_top_in_cm\": 0.13, \"tip_of_stem_broken\": 1, \"infested\": 1}, {\"main_stem_length_in_cm\": 67.0, \"stem_diam_bottom_in_cm\": 0.7, \"diam_top_in_cm\": 0.26, \"tip_of_stem_broken\": 1, \"infested\": 1}, {\"main_stem_length_in_cm\": 31.0, \"stem_diam_bottom_in_cm\": 0.46, \"diam_top_in_cm\": 0.12, \"tip_of_stem_broken\": 0, \"infested\": 1}, {\"main_stem_length_in_cm\": 81.0, \"stem_diam_bottom_in_cm\": 0.41, \"diam_top_in_cm\": 0.06, \"tip_of_stem_broken\": 0, \"infested\": 0}, {\"main_stem_length_in_cm\": 76.0, \"stem_diam_bottom_in_cm\": 0.98, \"diam_top_in_cm\": 0.34, \"tip_of_stem_broken\": 1, \"infested\": 1}, {\"main_stem_length_in_cm\": 67.0, \"stem_diam_bottom_in_cm\": 0.34, \"diam_top_in_cm\": 0.03, \"tip_of_stem_broken\": 0, \"infested\": 0}, {\"main_stem_length_in_cm\": 33.5, \"stem_diam_bottom_in_cm\": 0.34, \"diam_top_in_cm\": 0.1, \"tip_of_stem_broken\": 0, \"infested\": 1}, {\"main_stem_length_in_cm\": 34.0, \"stem_diam_bottom_in_cm\": 0.61, \"diam_top_in_cm\": 0.2, \"tip_of_stem_broken\": 1, \"infested\": 1}, {\"main_stem_length_in_cm\": 78.0, \"stem_diam_bottom_in_cm\": 0.52, \"diam_top_in_cm\": 0.17, \"tip_of_stem_broken\": 1, \"infested\": 1}, {\"main_stem_length_in_cm\": 72.0, \"stem_diam_bottom_in_cm\": 0.57, \"diam_top_in_cm\": 0.12, \"tip_of_stem_broken\": 1, \"infested\": 1}, {\"main_stem_length_in_cm\": 92.0, \"stem_diam_bottom_in_cm\": 0.57, \"diam_top_in_cm\": 0.04, \"tip_of_stem_broken\": 1, \"infested\": 0}, {\"main_stem_length_in_cm\": 37.0, \"stem_diam_bottom_in_cm\": 0.34, \"diam_top_in_cm\": 0.16, \"tip_of_stem_broken\": 1, \"infested\": 1}, {\"main_stem_length_in_cm\": 56.0, \"stem_diam_bottom_in_cm\": 0.6, \"diam_top_in_cm\": 0.11, \"tip_of_stem_broken\": 1, \"infested\": 1}, {\"main_stem_length_in_cm\": 34.0, \"stem_diam_bottom_in_cm\": 0.42, \"diam_top_in_cm\": 0.22, \"tip_of_stem_broken\": 1, \"infested\": 1}, {\"main_stem_length_in_cm\": 35.0, \"stem_diam_bottom_in_cm\": 0.61, \"diam_top_in_cm\": 0.16, \"tip_of_stem_broken\": 1, \"infested\": 1}, {\"main_stem_length_in_cm\": 57.0, \"stem_diam_bottom_in_cm\": 0.5, \"diam_top_in_cm\": 0.06, \"tip_of_stem_broken\": 0, \"infested\": 1}, {\"main_stem_length_in_cm\": 54.0, \"stem_diam_bottom_in_cm\": 0.49, \"diam_top_in_cm\": 0.11, \"tip_of_stem_broken\": 0, \"infested\": 0}, {\"main_stem_length_in_cm\": 54.0, \"stem_diam_bottom_in_cm\": 0.6, \"diam_top_in_cm\": 0.35, \"tip_of_stem_broken\": 1, \"infested\": 1}, {\"main_stem_length_in_cm\": 37.0, \"stem_diam_bottom_in_cm\": 0.4, \"diam_top_in_cm\": 0.09, \"tip_of_stem_broken\": 0, \"infested\": 1}, {\"main_stem_length_in_cm\": 53.0, \"stem_diam_bottom_in_cm\": 0.38, \"diam_top_in_cm\": 0.23, \"tip_of_stem_broken\": 1, \"infested\": 1}, {\"main_stem_length_in_cm\": 37.0, \"stem_diam_bottom_in_cm\": 0.38, \"diam_top_in_cm\": 0.14, \"tip_of_stem_broken\": 1, \"infested\": 1}, {\"main_stem_length_in_cm\": 29.0, \"stem_diam_bottom_in_cm\": 0.39, \"diam_top_in_cm\": 0.09, \"tip_of_stem_broken\": 0, \"infested\": 1}, {\"main_stem_length_in_cm\": 32.0, \"stem_diam_bottom_in_cm\": 0.47, \"diam_top_in_cm\": 0.42, \"tip_of_stem_broken\": 1, \"infested\": 1}, {\"main_stem_length_in_cm\": 64.0, \"stem_diam_bottom_in_cm\": 0.39, \"diam_top_in_cm\": 0.04, \"tip_of_stem_broken\": 0, \"infested\": 1}, {\"main_stem_length_in_cm\": 83.0, \"stem_diam_bottom_in_cm\": 0.46, \"diam_top_in_cm\": 0.12, \"tip_of_stem_broken\": 1, \"infested\": 0}, {\"main_stem_length_in_cm\": 41.0, \"stem_diam_bottom_in_cm\": 0.35, \"diam_top_in_cm\": 0.25, \"tip_of_stem_broken\": 1, \"infested\": 0}, {\"main_stem_length_in_cm\": 52.5, \"stem_diam_bottom_in_cm\": 0.52, \"diam_top_in_cm\": 0.31, \"tip_of_stem_broken\": 1, \"infested\": 1}, {\"main_stem_length_in_cm\": 27.0, \"stem_diam_bottom_in_cm\": 0.33, \"diam_top_in_cm\": 0.13, \"tip_of_stem_broken\": 1, \"infested\": 1}, {\"main_stem_length_in_cm\": 42.0, \"stem_diam_bottom_in_cm\": 0.4, \"diam_top_in_cm\": 0.15, \"tip_of_stem_broken\": 1, \"infested\": 1}, {\"main_stem_length_in_cm\": 41.0, \"stem_diam_bottom_in_cm\": 0.4, \"diam_top_in_cm\": 0.21, \"tip_of_stem_broken\": 1, \"infested\": 1}, {\"main_stem_length_in_cm\": 66.0, \"stem_diam_bottom_in_cm\": 0.41, \"diam_top_in_cm\": 0.1, \"tip_of_stem_broken\": 1, \"infested\": 1}, {\"main_stem_length_in_cm\": 45.0, \"stem_diam_bottom_in_cm\": 0.56, \"diam_top_in_cm\": 0.45, \"tip_of_stem_broken\": 1, \"infested\": 0}, {\"main_stem_length_in_cm\": 41.0, \"stem_diam_bottom_in_cm\": 0.48, \"diam_top_in_cm\": 0.13, \"tip_of_stem_broken\": 0, \"infested\": 1}, {\"main_stem_length_in_cm\": 49.0, \"stem_diam_bottom_in_cm\": 0.28, \"diam_top_in_cm\": 0.05, \"tip_of_stem_broken\": 1, \"infested\": 1}, {\"main_stem_length_in_cm\": 35.0, \"stem_diam_bottom_in_cm\": 0.45, \"diam_top_in_cm\": 0.39, \"tip_of_stem_broken\": 1, \"infested\": 1}, {\"main_stem_length_in_cm\": 18.0, \"stem_diam_bottom_in_cm\": 0.37, \"diam_top_in_cm\": 0.36, \"tip_of_stem_broken\": 1, \"infested\": 1}, {\"main_stem_length_in_cm\": 82.0, \"stem_diam_bottom_in_cm\": 0.69, \"diam_top_in_cm\": 0.2, \"tip_of_stem_broken\": 1, \"infested\": 0}, {\"main_stem_length_in_cm\": 36.0, \"stem_diam_bottom_in_cm\": 0.47, \"diam_top_in_cm\": 0.46, \"tip_of_stem_broken\": 1, \"infested\": 1}, {\"main_stem_length_in_cm\": 38.0, \"stem_diam_bottom_in_cm\": 0.53, \"diam_top_in_cm\": 0.21, \"tip_of_stem_broken\": 1, \"infested\": 1}, {\"main_stem_length_in_cm\": 51.0, \"stem_diam_bottom_in_cm\": 0.72, \"diam_top_in_cm\": 0.21, \"tip_of_stem_broken\": 1, \"infested\": 1}, {\"main_stem_length_in_cm\": 115.0, \"stem_diam_bottom_in_cm\": 0.73, \"diam_top_in_cm\": 0.16, \"tip_of_stem_broken\": 1, \"infested\": 1}, {\"main_stem_length_in_cm\": 66.0, \"stem_diam_bottom_in_cm\": 0.42, \"diam_top_in_cm\": 0.05, \"tip_of_stem_broken\": 0, \"infested\": 0}, {\"main_stem_length_in_cm\": 75.0, \"stem_diam_bottom_in_cm\": 0.32, \"diam_top_in_cm\": 0.05, \"tip_of_stem_broken\": 0, \"infested\": 0}, {\"main_stem_length_in_cm\": 64.0, \"stem_diam_bottom_in_cm\": 0.56, \"diam_top_in_cm\": 0.07, \"tip_of_stem_broken\": 0, \"infested\": 0}, {\"main_stem_length_in_cm\": 31.5, \"stem_diam_bottom_in_cm\": 0.38, \"diam_top_in_cm\": 0.15, \"tip_of_stem_broken\": 0, \"infested\": 1}, {\"main_stem_length_in_cm\": 32.0, \"stem_diam_bottom_in_cm\": 0.35, \"diam_top_in_cm\": 0.13, \"tip_of_stem_broken\": 0, \"infested\": 1}, {\"main_stem_length_in_cm\": 40.0, \"stem_diam_bottom_in_cm\": 0.4, \"diam_top_in_cm\": 0.19, \"tip_of_stem_broken\": 0, \"infested\": 1}, {\"main_stem_length_in_cm\": 42.0, \"stem_diam_bottom_in_cm\": 0.54, \"diam_top_in_cm\": 0.18, \"tip_of_stem_broken\": 1, \"infested\": 1}, {\"main_stem_length_in_cm\": 50.0, \"stem_diam_bottom_in_cm\": 0.39, \"diam_top_in_cm\": 0.11, \"tip_of_stem_broken\": 0, \"infested\": 1}, {\"main_stem_length_in_cm\": 43.0, \"stem_diam_bottom_in_cm\": 0.57, \"diam_top_in_cm\": 0.44, \"tip_of_stem_broken\": 1, \"infested\": 1}, {\"main_stem_length_in_cm\": 53.0, \"stem_diam_bottom_in_cm\": 0.34, \"diam_top_in_cm\": 0.04, \"tip_of_stem_broken\": 0, \"infested\": 1}, {\"main_stem_length_in_cm\": 40.0, \"stem_diam_bottom_in_cm\": 0.53, \"diam_top_in_cm\": 0.2, \"tip_of_stem_broken\": 1, \"infested\": 1}, {\"main_stem_length_in_cm\": 52.0, \"stem_diam_bottom_in_cm\": 0.8, \"diam_top_in_cm\": 0.4, \"tip_of_stem_broken\": 1, \"infested\": 0}, {\"main_stem_length_in_cm\": 51.0, \"stem_diam_bottom_in_cm\": 0.33, \"diam_top_in_cm\": 0.09, \"tip_of_stem_broken\": 0, \"infested\": 0}, {\"main_stem_length_in_cm\": 57.0, \"stem_diam_bottom_in_cm\": 0.62, \"diam_top_in_cm\": 0.16, \"tip_of_stem_broken\": 1, \"infested\": 1}, {\"main_stem_length_in_cm\": 21.0, \"stem_diam_bottom_in_cm\": 0.35, \"diam_top_in_cm\": 0.16, \"tip_of_stem_broken\": 1, \"infested\": 1}, {\"main_stem_length_in_cm\": 46.0, \"stem_diam_bottom_in_cm\": 0.44, \"diam_top_in_cm\": 0.09, \"tip_of_stem_broken\": 1, \"infested\": 0}]}}, {\"mode\": \"vega-lite\"});\n",
       "</script>"
      ],
      "text/plain": [
       "alt.RepeatChart(...)"
      ]
     },
     "execution_count": 98,
     "metadata": {},
     "output_type": "execute_result"
    }
   ],
   "source": [
    "alt.Chart(df_train_log).mark_area(\n",
    "    opacity=0.5,\n",
    "    interpolate='step'\n",
    ").encode(\n",
    "    alt.X(alt.repeat(\"column\"), type=\"quantitative\", bin=alt.Bin(maxbins=20)),\n",
    "    alt.Y('count()', stack = None),\n",
    "    alt.Color('infested:N'),\n",
    ").properties(width=300).repeat(column=features_log)"
   ]
  },
  {
   "cell_type": "markdown",
   "metadata": {},
   "source": [
    "It can be seen that we have significantly less data for diameter top. Diameter top is larger for infested plants, which could indicate cut or broken tips. Therefore, we can assume that the tip of infested plants is more likely to break off or be cut off due to infestation. This fact also affects the main stem length of these plants and could be the reason for many counts in the 20-70 cm main stem length range. This could also explain why the bottom diameters of infested plants tend to be larger. The plants were larger but were cut or broken off, whereas the size of the lower diameter remains the same."
   ]
  },
  {
   "cell_type": "markdown",
   "metadata": {},
   "source": [
    "### 4.2 Exploratory Data Analysis and Relationships"
   ]
  },
  {
   "cell_type": "markdown",
   "metadata": {},
   "source": [
    "EDA uses a variety of methods to discover patterns in the data. These include scatterplots, correlation analysis, clustering and other exploratory visualizations. The focus is on gaining new insights and understanding the data set."
   ]
  },
  {
   "cell_type": "markdown",
   "metadata": {},
   "source": [
    "#### 4.2.1 Linear Regression"
   ]
  },
  {
   "cell_type": "markdown",
   "metadata": {},
   "source": [
    "First, we create a grid matrix of scatter plots. This matrix provides a visual overview of the relationship between different pairs of variables in the training dataset. By looking at the scatter plots, patterns such as linear relationships, clustering or outliers can be identified.\n",
    "The repetition in both the rows and columns makes it possible to look at relationships between the target variable (y_label) and the other features, as well as between the features themselves."
   ]
  },
  {
   "cell_type": "code",
   "execution_count": 51,
   "metadata": {
    "scrolled": true
   },
   "outputs": [
    {
     "data": {
      "text/html": [
       "\n",
       "<style>\n",
       "  #altair-viz-369358465e28403cab61fa2405182b49.vega-embed {\n",
       "    width: 100%;\n",
       "    display: flex;\n",
       "  }\n",
       "\n",
       "  #altair-viz-369358465e28403cab61fa2405182b49.vega-embed details,\n",
       "  #altair-viz-369358465e28403cab61fa2405182b49.vega-embed details summary {\n",
       "    position: relative;\n",
       "  }\n",
       "</style>\n",
       "<div id=\"altair-viz-369358465e28403cab61fa2405182b49\"></div>\n",
       "<script type=\"text/javascript\">\n",
       "  var VEGA_DEBUG = (typeof VEGA_DEBUG == \"undefined\") ? {} : VEGA_DEBUG;\n",
       "  (function(spec, embedOpt){\n",
       "    let outputDiv = document.currentScript.previousElementSibling;\n",
       "    if (outputDiv.id !== \"altair-viz-369358465e28403cab61fa2405182b49\") {\n",
       "      outputDiv = document.getElementById(\"altair-viz-369358465e28403cab61fa2405182b49\");\n",
       "    }\n",
       "    const paths = {\n",
       "      \"vega\": \"https://cdn.jsdelivr.net/npm/vega@5?noext\",\n",
       "      \"vega-lib\": \"https://cdn.jsdelivr.net/npm/vega-lib?noext\",\n",
       "      \"vega-lite\": \"https://cdn.jsdelivr.net/npm/vega-lite@5.16.3?noext\",\n",
       "      \"vega-embed\": \"https://cdn.jsdelivr.net/npm/vega-embed@6?noext\",\n",
       "    };\n",
       "\n",
       "    function maybeLoadScript(lib, version) {\n",
       "      var key = `${lib.replace(\"-\", \"\")}_version`;\n",
       "      return (VEGA_DEBUG[key] == version) ?\n",
       "        Promise.resolve(paths[lib]) :\n",
       "        new Promise(function(resolve, reject) {\n",
       "          var s = document.createElement('script');\n",
       "          document.getElementsByTagName(\"head\")[0].appendChild(s);\n",
       "          s.async = true;\n",
       "          s.onload = () => {\n",
       "            VEGA_DEBUG[key] = version;\n",
       "            return resolve(paths[lib]);\n",
       "          };\n",
       "          s.onerror = () => reject(`Error loading script: ${paths[lib]}`);\n",
       "          s.src = paths[lib];\n",
       "        });\n",
       "    }\n",
       "\n",
       "    function showError(err) {\n",
       "      outputDiv.innerHTML = `<div class=\"error\" style=\"color:red;\">${err}</div>`;\n",
       "      throw err;\n",
       "    }\n",
       "\n",
       "    function displayChart(vegaEmbed) {\n",
       "      vegaEmbed(outputDiv, spec, embedOpt)\n",
       "        .catch(err => showError(`Javascript Error: ${err.message}<br>This usually means there's a typo in your chart specification. See the javascript console for the full traceback.`));\n",
       "    }\n",
       "\n",
       "    if(typeof define === \"function\" && define.amd) {\n",
       "      requirejs.config({paths});\n",
       "      require([\"vega-embed\"], displayChart, err => showError(`Error loading script: ${err.message}`));\n",
       "    } else {\n",
       "      maybeLoadScript(\"vega\", \"5\")\n",
       "        .then(() => maybeLoadScript(\"vega-lite\", \"5.16.3\"))\n",
       "        .then(() => maybeLoadScript(\"vega-embed\", \"6\"))\n",
       "        .catch(showError)\n",
       "        .then(() => displayChart(vegaEmbed));\n",
       "    }\n",
       "  })({\"config\": {\"view\": {\"continuousWidth\": 300, \"continuousHeight\": 300}}, \"repeat\": {\"column\": [\"main_stem_length_in_cm\", \"stem_diam_bottom_in_cm\", \"diam_top_in_cm\", \"side_branches_in_cm\", \"total_meja\", \"tip_of_stem_broken\", \"infested\", \"total_number_adults\"], \"row\": [\"main_stem_length_in_cm\", \"stem_diam_bottom_in_cm\", \"diam_top_in_cm\", \"side_branches_in_cm\", \"total_meja\", \"tip_of_stem_broken\", \"infested\", \"total_number_adults\"]}, \"spec\": {\"data\": {\"name\": \"data-fc342449eb0ad6a48daf0d11bcff9757\"}, \"mark\": {\"type\": \"circle\"}, \"encoding\": {\"x\": {\"field\": {\"repeat\": \"column\"}, \"type\": \"quantitative\"}, \"y\": {\"field\": {\"repeat\": \"row\"}, \"type\": \"quantitative\"}}, \"height\": 150, \"name\": \"view_1\", \"width\": 150}, \"params\": [{\"name\": \"param_1\", \"select\": {\"type\": \"interval\", \"encodings\": [\"x\", \"y\"]}, \"bind\": \"scales\", \"views\": [\"view_1_child__row_main_stem_length_in_cmcolumn_main_stem_length_in_cm\", \"view_1_child__row_main_stem_length_in_cmcolumn_stem_diam_bottom_in_cm\", \"view_1_child__row_main_stem_length_in_cmcolumn_diam_top_in_cm\", \"view_1_child__row_main_stem_length_in_cmcolumn_side_branches_in_cm\", \"view_1_child__row_main_stem_length_in_cmcolumn_total_meja\", \"view_1_child__row_main_stem_length_in_cmcolumn_tip_of_stem_broken\", \"view_1_child__row_main_stem_length_in_cmcolumn_infested\", \"view_1_child__row_main_stem_length_in_cmcolumn_total_number_adults\", \"view_1_child__row_stem_diam_bottom_in_cmcolumn_main_stem_length_in_cm\", \"view_1_child__row_stem_diam_bottom_in_cmcolumn_stem_diam_bottom_in_cm\", \"view_1_child__row_stem_diam_bottom_in_cmcolumn_diam_top_in_cm\", \"view_1_child__row_stem_diam_bottom_in_cmcolumn_side_branches_in_cm\", \"view_1_child__row_stem_diam_bottom_in_cmcolumn_total_meja\", \"view_1_child__row_stem_diam_bottom_in_cmcolumn_tip_of_stem_broken\", \"view_1_child__row_stem_diam_bottom_in_cmcolumn_infested\", \"view_1_child__row_stem_diam_bottom_in_cmcolumn_total_number_adults\", \"view_1_child__row_diam_top_in_cmcolumn_main_stem_length_in_cm\", \"view_1_child__row_diam_top_in_cmcolumn_stem_diam_bottom_in_cm\", \"view_1_child__row_diam_top_in_cmcolumn_diam_top_in_cm\", \"view_1_child__row_diam_top_in_cmcolumn_side_branches_in_cm\", \"view_1_child__row_diam_top_in_cmcolumn_total_meja\", \"view_1_child__row_diam_top_in_cmcolumn_tip_of_stem_broken\", \"view_1_child__row_diam_top_in_cmcolumn_infested\", \"view_1_child__row_diam_top_in_cmcolumn_total_number_adults\", \"view_1_child__row_side_branches_in_cmcolumn_main_stem_length_in_cm\", \"view_1_child__row_side_branches_in_cmcolumn_stem_diam_bottom_in_cm\", \"view_1_child__row_side_branches_in_cmcolumn_diam_top_in_cm\", \"view_1_child__row_side_branches_in_cmcolumn_side_branches_in_cm\", \"view_1_child__row_side_branches_in_cmcolumn_total_meja\", \"view_1_child__row_side_branches_in_cmcolumn_tip_of_stem_broken\", \"view_1_child__row_side_branches_in_cmcolumn_infested\", \"view_1_child__row_side_branches_in_cmcolumn_total_number_adults\", \"view_1_child__row_total_mejacolumn_main_stem_length_in_cm\", \"view_1_child__row_total_mejacolumn_stem_diam_bottom_in_cm\", \"view_1_child__row_total_mejacolumn_diam_top_in_cm\", \"view_1_child__row_total_mejacolumn_side_branches_in_cm\", \"view_1_child__row_total_mejacolumn_total_meja\", \"view_1_child__row_total_mejacolumn_tip_of_stem_broken\", \"view_1_child__row_total_mejacolumn_infested\", \"view_1_child__row_total_mejacolumn_total_number_adults\", \"view_1_child__row_tip_of_stem_brokencolumn_main_stem_length_in_cm\", \"view_1_child__row_tip_of_stem_brokencolumn_stem_diam_bottom_in_cm\", \"view_1_child__row_tip_of_stem_brokencolumn_diam_top_in_cm\", \"view_1_child__row_tip_of_stem_brokencolumn_side_branches_in_cm\", \"view_1_child__row_tip_of_stem_brokencolumn_total_meja\", \"view_1_child__row_tip_of_stem_brokencolumn_tip_of_stem_broken\", \"view_1_child__row_tip_of_stem_brokencolumn_infested\", \"view_1_child__row_tip_of_stem_brokencolumn_total_number_adults\", \"view_1_child__row_infestedcolumn_main_stem_length_in_cm\", \"view_1_child__row_infestedcolumn_stem_diam_bottom_in_cm\", \"view_1_child__row_infestedcolumn_diam_top_in_cm\", \"view_1_child__row_infestedcolumn_side_branches_in_cm\", \"view_1_child__row_infestedcolumn_total_meja\", \"view_1_child__row_infestedcolumn_tip_of_stem_broken\", \"view_1_child__row_infestedcolumn_infested\", \"view_1_child__row_infestedcolumn_total_number_adults\", \"view_1_child__row_total_number_adultscolumn_main_stem_length_in_cm\", \"view_1_child__row_total_number_adultscolumn_stem_diam_bottom_in_cm\", \"view_1_child__row_total_number_adultscolumn_diam_top_in_cm\", \"view_1_child__row_total_number_adultscolumn_side_branches_in_cm\", \"view_1_child__row_total_number_adultscolumn_total_meja\", \"view_1_child__row_total_number_adultscolumn_tip_of_stem_broken\", \"view_1_child__row_total_number_adultscolumn_infested\", \"view_1_child__row_total_number_adultscolumn_total_number_adults\"]}], \"$schema\": \"https://vega.github.io/schema/vega-lite/v5.16.3.json\", \"datasets\": {\"data-fc342449eb0ad6a48daf0d11bcff9757\": [{\"stem_diam_bottom_in_cm\": 0.42, \"diam_top_in_cm\": 0.2, \"side_branches_in_cm\": 60.23, \"total_meja\": 9, \"tip_of_stem_broken\": 1, \"infested\": 1, \"total_number_adults\": 9, \"main_stem_length_in_cm\": 42.0}, {\"stem_diam_bottom_in_cm\": 0.48, \"diam_top_in_cm\": 0.18, \"side_branches_in_cm\": 60.23, \"total_meja\": 14, \"tip_of_stem_broken\": 0, \"infested\": 1, \"total_number_adults\": 0, \"main_stem_length_in_cm\": 37.0}, {\"stem_diam_bottom_in_cm\": 0.42, \"diam_top_in_cm\": 0.18, \"side_branches_in_cm\": 60.23, \"total_meja\": 1, \"tip_of_stem_broken\": 0, \"infested\": 1, \"total_number_adults\": 0, \"main_stem_length_in_cm\": 53.0}, {\"stem_diam_bottom_in_cm\": 0.61, \"diam_top_in_cm\": 0.18, \"side_branches_in_cm\": 55.0, \"total_meja\": 0, \"tip_of_stem_broken\": 1, \"infested\": 0, \"total_number_adults\": 0, \"main_stem_length_in_cm\": 51.0}, {\"stem_diam_bottom_in_cm\": 0.55, \"diam_top_in_cm\": 0.18, \"side_branches_in_cm\": 60.23, \"total_meja\": 10, \"tip_of_stem_broken\": 0, \"infested\": 1, \"total_number_adults\": 2, \"main_stem_length_in_cm\": 52.0}, {\"stem_diam_bottom_in_cm\": 0.64, \"diam_top_in_cm\": 0.18, \"side_branches_in_cm\": 60.23, \"total_meja\": 0, \"tip_of_stem_broken\": 0, \"infested\": 0, \"total_number_adults\": 0, \"main_stem_length_in_cm\": 60.0}, {\"stem_diam_bottom_in_cm\": 0.31, \"diam_top_in_cm\": 0.18, \"side_branches_in_cm\": 60.23, \"total_meja\": 8, \"tip_of_stem_broken\": 0, \"infested\": 1, \"total_number_adults\": 1, \"main_stem_length_in_cm\": 26.0}, {\"stem_diam_bottom_in_cm\": 0.36, \"diam_top_in_cm\": 0.18, \"side_branches_in_cm\": 60.23, \"total_meja\": 0, \"tip_of_stem_broken\": 0, \"infested\": 0, \"total_number_adults\": 0, \"main_stem_length_in_cm\": 19.0}, {\"stem_diam_bottom_in_cm\": 0.77, \"diam_top_in_cm\": 0.18, \"side_branches_in_cm\": 60.23, \"total_meja\": 1, \"tip_of_stem_broken\": 0, \"infested\": 1, \"total_number_adults\": 1, \"main_stem_length_in_cm\": 96.0}, {\"stem_diam_bottom_in_cm\": 0.26, \"diam_top_in_cm\": 0.18, \"side_branches_in_cm\": 60.23, \"total_meja\": 0, \"tip_of_stem_broken\": 0, \"infested\": 0, \"total_number_adults\": 0, \"main_stem_length_in_cm\": 15.5}, {\"stem_diam_bottom_in_cm\": 0.62, \"diam_top_in_cm\": 0.18, \"side_branches_in_cm\": 60.23, \"total_meja\": 26, \"tip_of_stem_broken\": 0, \"infested\": 1, \"total_number_adults\": 13, \"main_stem_length_in_cm\": 41.0}, {\"stem_diam_bottom_in_cm\": 0.28, \"diam_top_in_cm\": 0.18, \"side_branches_in_cm\": 60.23, \"total_meja\": 0, \"tip_of_stem_broken\": 0, \"infested\": 0, \"total_number_adults\": 0, \"main_stem_length_in_cm\": 16.5}, {\"stem_diam_bottom_in_cm\": 0.88, \"diam_top_in_cm\": 0.18, \"side_branches_in_cm\": 49.0, \"total_meja\": 0, \"tip_of_stem_broken\": 1, \"infested\": 0, \"total_number_adults\": 0, \"main_stem_length_in_cm\": 70.0}, {\"stem_diam_bottom_in_cm\": 0.55, \"diam_top_in_cm\": 0.18, \"side_branches_in_cm\": 60.23, \"total_meja\": 5, \"tip_of_stem_broken\": 0, \"infested\": 1, \"total_number_adults\": 2, \"main_stem_length_in_cm\": 84.0}, {\"stem_diam_bottom_in_cm\": 0.39, \"diam_top_in_cm\": 0.11, \"side_branches_in_cm\": 60.23, \"total_meja\": 0, \"tip_of_stem_broken\": 0, \"infested\": 0, \"total_number_adults\": 0, \"main_stem_length_in_cm\": 65.0}, {\"stem_diam_bottom_in_cm\": 0.26, \"diam_top_in_cm\": 0.18, \"side_branches_in_cm\": 60.23, \"total_meja\": 0, \"tip_of_stem_broken\": 1, \"infested\": 0, \"total_number_adults\": 0, \"main_stem_length_in_cm\": 39.0}, {\"stem_diam_bottom_in_cm\": 0.31, \"diam_top_in_cm\": 0.18, \"side_branches_in_cm\": 60.23, \"total_meja\": 0, \"tip_of_stem_broken\": 1, \"infested\": 0, \"total_number_adults\": 0, \"main_stem_length_in_cm\": 23.0}, {\"stem_diam_bottom_in_cm\": 0.74, \"diam_top_in_cm\": 0.18, \"side_branches_in_cm\": 60.23, \"total_meja\": 18, \"tip_of_stem_broken\": 0, \"infested\": 1, \"total_number_adults\": 2, \"main_stem_length_in_cm\": 67.0}, {\"stem_diam_bottom_in_cm\": 0.31, \"diam_top_in_cm\": 0.08, \"side_branches_in_cm\": 60.23, \"total_meja\": 7, \"tip_of_stem_broken\": 1, \"infested\": 1, \"total_number_adults\": 7, \"main_stem_length_in_cm\": 32.0}, {\"stem_diam_bottom_in_cm\": 0.31, \"diam_top_in_cm\": 0.1, \"side_branches_in_cm\": 60.23, \"total_meja\": 17, \"tip_of_stem_broken\": 0, \"infested\": 1, \"total_number_adults\": 17, \"main_stem_length_in_cm\": 42.0}, {\"stem_diam_bottom_in_cm\": 0.4, \"diam_top_in_cm\": 0.18, \"side_branches_in_cm\": 60.23, \"total_meja\": 0, \"tip_of_stem_broken\": 1, \"infested\": 0, \"total_number_adults\": 0, \"main_stem_length_in_cm\": 31.0}, {\"stem_diam_bottom_in_cm\": 0.31, \"diam_top_in_cm\": 0.18, \"side_branches_in_cm\": 60.23, \"total_meja\": 0, \"tip_of_stem_broken\": 0, \"infested\": 0, \"total_number_adults\": 0, \"main_stem_length_in_cm\": 16.5}, {\"stem_diam_bottom_in_cm\": 0.56, \"diam_top_in_cm\": 0.18, \"side_branches_in_cm\": 60.23, \"total_meja\": 0, \"tip_of_stem_broken\": 0, \"infested\": 0, \"total_number_adults\": 0, \"main_stem_length_in_cm\": 40.0}, {\"stem_diam_bottom_in_cm\": 0.57, \"diam_top_in_cm\": 0.18, \"side_branches_in_cm\": 60.23, \"total_meja\": 0, \"tip_of_stem_broken\": 1, \"infested\": 0, \"total_number_adults\": 0, \"main_stem_length_in_cm\": 44.0}, {\"stem_diam_bottom_in_cm\": 0.52, \"diam_top_in_cm\": 0.18, \"side_branches_in_cm\": 60.23, \"total_meja\": 7, \"tip_of_stem_broken\": 0, \"infested\": 1, \"total_number_adults\": 0, \"main_stem_length_in_cm\": 67.0}, {\"stem_diam_bottom_in_cm\": 0.67, \"diam_top_in_cm\": 0.18, \"side_branches_in_cm\": 127.0, \"total_meja\": 0, \"tip_of_stem_broken\": 1, \"infested\": 0, \"total_number_adults\": 0, \"main_stem_length_in_cm\": 27.0}, {\"stem_diam_bottom_in_cm\": 0.55, \"diam_top_in_cm\": 0.18, \"side_branches_in_cm\": 60.23, \"total_meja\": 0, \"tip_of_stem_broken\": 1, \"infested\": 0, \"total_number_adults\": 0, \"main_stem_length_in_cm\": 46.0}, {\"stem_diam_bottom_in_cm\": 0.53, \"diam_top_in_cm\": 0.18, \"side_branches_in_cm\": 22.0, \"total_meja\": 0, \"tip_of_stem_broken\": 1, \"infested\": 0, \"total_number_adults\": 0, \"main_stem_length_in_cm\": 35.0}, {\"stem_diam_bottom_in_cm\": 0.42, \"diam_top_in_cm\": 0.04, \"side_branches_in_cm\": 60.23, \"total_meja\": 5, \"tip_of_stem_broken\": 0, \"infested\": 1, \"total_number_adults\": 2, \"main_stem_length_in_cm\": 38.0}, {\"stem_diam_bottom_in_cm\": 0.7, \"diam_top_in_cm\": 0.18, \"side_branches_in_cm\": 60.23, \"total_meja\": 39, \"tip_of_stem_broken\": 0, \"infested\": 1, \"total_number_adults\": 2, \"main_stem_length_in_cm\": 72.0}, {\"stem_diam_bottom_in_cm\": 0.62, \"diam_top_in_cm\": 0.18, \"side_branches_in_cm\": 60.23, \"total_meja\": 0, \"tip_of_stem_broken\": 0, \"infested\": 0, \"total_number_adults\": 0, \"main_stem_length_in_cm\": 79.0}, {\"stem_diam_bottom_in_cm\": 0.63, \"diam_top_in_cm\": 0.18, \"side_branches_in_cm\": 60.23, \"total_meja\": 0, \"tip_of_stem_broken\": 1, \"infested\": 0, \"total_number_adults\": 0, \"main_stem_length_in_cm\": 35.0}, {\"stem_diam_bottom_in_cm\": 0.23, \"diam_top_in_cm\": 0.18, \"side_branches_in_cm\": 60.23, \"total_meja\": 0, \"tip_of_stem_broken\": 0, \"infested\": 0, \"total_number_adults\": 0, \"main_stem_length_in_cm\": 8.0}, {\"stem_diam_bottom_in_cm\": 0.33, \"diam_top_in_cm\": 0.18, \"side_branches_in_cm\": 60.23, \"total_meja\": 0, \"tip_of_stem_broken\": 0, \"infested\": 0, \"total_number_adults\": 0, \"main_stem_length_in_cm\": 33.0}, {\"stem_diam_bottom_in_cm\": 0.36, \"diam_top_in_cm\": 0.19, \"side_branches_in_cm\": 60.23, \"total_meja\": 13, \"tip_of_stem_broken\": 1, \"infested\": 1, \"total_number_adults\": 11, \"main_stem_length_in_cm\": 27.0}, {\"stem_diam_bottom_in_cm\": 0.19, \"diam_top_in_cm\": 0.18, \"side_branches_in_cm\": 60.23, \"total_meja\": 0, \"tip_of_stem_broken\": 0, \"infested\": 0, \"total_number_adults\": 0, \"main_stem_length_in_cm\": 10.5}, {\"stem_diam_bottom_in_cm\": 0.33, \"diam_top_in_cm\": 0.12, \"side_branches_in_cm\": 60.23, \"total_meja\": 12, \"tip_of_stem_broken\": 1, \"infested\": 1, \"total_number_adults\": 12, \"main_stem_length_in_cm\": 30.0}, {\"stem_diam_bottom_in_cm\": 0.65, \"diam_top_in_cm\": 0.18, \"side_branches_in_cm\": 60.23, \"total_meja\": 7, \"tip_of_stem_broken\": 0, \"infested\": 1, \"total_number_adults\": 0, \"main_stem_length_in_cm\": 58.0}, {\"stem_diam_bottom_in_cm\": 0.16, \"diam_top_in_cm\": 0.18, \"side_branches_in_cm\": 60.23, \"total_meja\": 0, \"tip_of_stem_broken\": 0, \"infested\": 0, \"total_number_adults\": 0, \"main_stem_length_in_cm\": 12.0}, {\"stem_diam_bottom_in_cm\": 0.61, \"diam_top_in_cm\": 0.18, \"side_branches_in_cm\": 60.23, \"total_meja\": 17, \"tip_of_stem_broken\": 0, \"infested\": 1, \"total_number_adults\": 1, \"main_stem_length_in_cm\": 65.0}, {\"stem_diam_bottom_in_cm\": 0.39, \"diam_top_in_cm\": 0.26, \"side_branches_in_cm\": 60.23, \"total_meja\": 14, \"tip_of_stem_broken\": 1, \"infested\": 1, \"total_number_adults\": 10, \"main_stem_length_in_cm\": 31.5}, {\"stem_diam_bottom_in_cm\": 0.67, \"diam_top_in_cm\": 0.18, \"side_branches_in_cm\": 60.23, \"total_meja\": 0, \"tip_of_stem_broken\": 0, \"infested\": 0, \"total_number_adults\": 0, \"main_stem_length_in_cm\": 78.0}, {\"stem_diam_bottom_in_cm\": 0.7, \"diam_top_in_cm\": 0.18, \"side_branches_in_cm\": 60.23, \"total_meja\": 12, \"tip_of_stem_broken\": 0, \"infested\": 1, \"total_number_adults\": 0, \"main_stem_length_in_cm\": 75.0}, {\"stem_diam_bottom_in_cm\": 0.18, \"diam_top_in_cm\": 0.18, \"side_branches_in_cm\": 60.23, \"total_meja\": 0, \"tip_of_stem_broken\": 0, \"infested\": 0, \"total_number_adults\": 0, \"main_stem_length_in_cm\": 9.0}, {\"stem_diam_bottom_in_cm\": 0.28, \"diam_top_in_cm\": 0.02, \"side_branches_in_cm\": 60.23, \"total_meja\": 3, \"tip_of_stem_broken\": 0, \"infested\": 1, \"total_number_adults\": 3, \"main_stem_length_in_cm\": 67.0}, {\"stem_diam_bottom_in_cm\": 0.21, \"diam_top_in_cm\": 0.18, \"side_branches_in_cm\": 60.23, \"total_meja\": 0, \"tip_of_stem_broken\": 0, \"infested\": 0, \"total_number_adults\": 0, \"main_stem_length_in_cm\": 9.0}, {\"stem_diam_bottom_in_cm\": 0.52, \"diam_top_in_cm\": 0.18, \"side_branches_in_cm\": 60.23, \"total_meja\": 0, \"tip_of_stem_broken\": 0, \"infested\": 0, \"total_number_adults\": 0, \"main_stem_length_in_cm\": 77.0}, {\"stem_diam_bottom_in_cm\": 0.66, \"diam_top_in_cm\": 0.06, \"side_branches_in_cm\": 60.23, \"total_meja\": 0, \"tip_of_stem_broken\": 0, \"infested\": 0, \"total_number_adults\": 0, \"main_stem_length_in_cm\": 107.0}, {\"stem_diam_bottom_in_cm\": 0.7, \"diam_top_in_cm\": 0.18, \"side_branches_in_cm\": 60.23, \"total_meja\": 0, \"tip_of_stem_broken\": 1, \"infested\": 0, \"total_number_adults\": 0, \"main_stem_length_in_cm\": 49.0}, {\"stem_diam_bottom_in_cm\": 0.48, \"diam_top_in_cm\": 0.18, \"side_branches_in_cm\": 60.23, \"total_meja\": 11, \"tip_of_stem_broken\": 0, \"infested\": 1, \"total_number_adults\": 2, \"main_stem_length_in_cm\": 43.0}, {\"stem_diam_bottom_in_cm\": 0.26, \"diam_top_in_cm\": 0.18, \"side_branches_in_cm\": 60.23, \"total_meja\": 0, \"tip_of_stem_broken\": 0, \"infested\": 0, \"total_number_adults\": 0, \"main_stem_length_in_cm\": 22.0}, {\"stem_diam_bottom_in_cm\": 0.62, \"diam_top_in_cm\": 0.18, \"side_branches_in_cm\": 60.23, \"total_meja\": 3, \"tip_of_stem_broken\": 0, \"infested\": 1, \"total_number_adults\": 2, \"main_stem_length_in_cm\": 97.0}, {\"stem_diam_bottom_in_cm\": 0.47, \"diam_top_in_cm\": 0.07, \"side_branches_in_cm\": 60.23, \"total_meja\": 9, \"tip_of_stem_broken\": 0, \"infested\": 1, \"total_number_adults\": 8, \"main_stem_length_in_cm\": 61.0}, {\"stem_diam_bottom_in_cm\": 0.57, \"diam_top_in_cm\": 0.18, \"side_branches_in_cm\": 60.23, \"total_meja\": 0, \"tip_of_stem_broken\": 0, \"infested\": 0, \"total_number_adults\": 0, \"main_stem_length_in_cm\": 105.0}, {\"stem_diam_bottom_in_cm\": 0.47, \"diam_top_in_cm\": 0.21, \"side_branches_in_cm\": 60.23, \"total_meja\": 14, \"tip_of_stem_broken\": 1, \"infested\": 1, \"total_number_adults\": 9, \"main_stem_length_in_cm\": 38.0}, {\"stem_diam_bottom_in_cm\": 0.94, \"diam_top_in_cm\": 0.18, \"side_branches_in_cm\": 60.23, \"total_meja\": 15, \"tip_of_stem_broken\": 0, \"infested\": 1, \"total_number_adults\": 0, \"main_stem_length_in_cm\": 87.0}, {\"stem_diam_bottom_in_cm\": 0.35, \"diam_top_in_cm\": 0.09, \"side_branches_in_cm\": 60.23, \"total_meja\": 0, \"tip_of_stem_broken\": 1, \"infested\": 0, \"total_number_adults\": 0, \"main_stem_length_in_cm\": 64.0}, {\"stem_diam_bottom_in_cm\": 0.32, \"diam_top_in_cm\": 0.16, \"side_branches_in_cm\": 60.23, \"total_meja\": 11, \"tip_of_stem_broken\": 1, \"infested\": 1, \"total_number_adults\": 9, \"main_stem_length_in_cm\": 41.0}, {\"stem_diam_bottom_in_cm\": 0.19, \"diam_top_in_cm\": 0.18, \"side_branches_in_cm\": 60.23, \"total_meja\": 0, \"tip_of_stem_broken\": 0, \"infested\": 0, \"total_number_adults\": 0, \"main_stem_length_in_cm\": 13.0}, {\"stem_diam_bottom_in_cm\": 0.16, \"diam_top_in_cm\": 0.18, \"side_branches_in_cm\": 60.23, \"total_meja\": 0, \"tip_of_stem_broken\": 0, \"infested\": 0, \"total_number_adults\": 0, \"main_stem_length_in_cm\": 12.5}, {\"stem_diam_bottom_in_cm\": 0.42, \"diam_top_in_cm\": 0.3, \"side_branches_in_cm\": 60.23, \"total_meja\": 11, \"tip_of_stem_broken\": 1, \"infested\": 1, \"total_number_adults\": 9, \"main_stem_length_in_cm\": 22.5}, {\"stem_diam_bottom_in_cm\": 0.62, \"diam_top_in_cm\": 0.18, \"side_branches_in_cm\": 60.23, \"total_meja\": 4, \"tip_of_stem_broken\": 0, \"infested\": 1, \"total_number_adults\": 0, \"main_stem_length_in_cm\": 57.0}, {\"stem_diam_bottom_in_cm\": 0.77, \"diam_top_in_cm\": 0.18, \"side_branches_in_cm\": 44.0, \"total_meja\": 0, \"tip_of_stem_broken\": 1, \"infested\": 0, \"total_number_adults\": 0, \"main_stem_length_in_cm\": 58.0}, {\"stem_diam_bottom_in_cm\": 0.51, \"diam_top_in_cm\": 0.09, \"side_branches_in_cm\": 60.23, \"total_meja\": 36, \"tip_of_stem_broken\": 1, \"infested\": 1, \"total_number_adults\": 5, \"main_stem_length_in_cm\": 50.0}, {\"stem_diam_bottom_in_cm\": 0.45, \"diam_top_in_cm\": 0.18, \"side_branches_in_cm\": 60.23, \"total_meja\": 0, \"tip_of_stem_broken\": 1, \"infested\": 0, \"total_number_adults\": 0, \"main_stem_length_in_cm\": 28.0}, {\"stem_diam_bottom_in_cm\": 0.34, \"diam_top_in_cm\": 0.18, \"side_branches_in_cm\": 60.23, \"total_meja\": 0, \"tip_of_stem_broken\": 1, \"infested\": 0, \"total_number_adults\": 0, \"main_stem_length_in_cm\": 30.0}, {\"stem_diam_bottom_in_cm\": 0.4, \"diam_top_in_cm\": 0.18, \"side_branches_in_cm\": 60.23, \"total_meja\": 0, \"tip_of_stem_broken\": 1, \"infested\": 0, \"total_number_adults\": 0, \"main_stem_length_in_cm\": 37.0}, {\"stem_diam_bottom_in_cm\": 0.58, \"diam_top_in_cm\": 0.18, \"side_branches_in_cm\": 37.0, \"total_meja\": 0, \"tip_of_stem_broken\": 1, \"infested\": 0, \"total_number_adults\": 0, \"main_stem_length_in_cm\": 34.0}, {\"stem_diam_bottom_in_cm\": 0.3, \"diam_top_in_cm\": 0.18, \"side_branches_in_cm\": 60.23, \"total_meja\": 0, \"tip_of_stem_broken\": 1, \"infested\": 0, \"total_number_adults\": 0, \"main_stem_length_in_cm\": 38.0}, {\"stem_diam_bottom_in_cm\": 0.55, \"diam_top_in_cm\": 0.18, \"side_branches_in_cm\": 60.23, \"total_meja\": 25, \"tip_of_stem_broken\": 0, \"infested\": 1, \"total_number_adults\": 9, \"main_stem_length_in_cm\": 45.0}, {\"stem_diam_bottom_in_cm\": 0.91, \"diam_top_in_cm\": 0.18, \"side_branches_in_cm\": 60.23, \"total_meja\": 2, \"tip_of_stem_broken\": 0, \"infested\": 1, \"total_number_adults\": 0, \"main_stem_length_in_cm\": 121.0}, {\"stem_diam_bottom_in_cm\": 0.39, \"diam_top_in_cm\": 0.18, \"side_branches_in_cm\": 60.23, \"total_meja\": 0, \"tip_of_stem_broken\": 0, \"infested\": 0, \"total_number_adults\": 0, \"main_stem_length_in_cm\": 84.0}, {\"stem_diam_bottom_in_cm\": 0.36, \"diam_top_in_cm\": 0.02, \"side_branches_in_cm\": 60.23, \"total_meja\": 0, \"tip_of_stem_broken\": 0, \"infested\": 0, \"total_number_adults\": 0, \"main_stem_length_in_cm\": 72.0}, {\"stem_diam_bottom_in_cm\": 0.44, \"diam_top_in_cm\": 0.05, \"side_branches_in_cm\": 60.23, \"total_meja\": 0, \"tip_of_stem_broken\": 0, \"infested\": 0, \"total_number_adults\": 0, \"main_stem_length_in_cm\": 90.0}, {\"stem_diam_bottom_in_cm\": 0.33, \"diam_top_in_cm\": 0.09, \"side_branches_in_cm\": 60.23, \"total_meja\": 0, \"tip_of_stem_broken\": 0, \"infested\": 0, \"total_number_adults\": 0, \"main_stem_length_in_cm\": 51.0}, {\"stem_diam_bottom_in_cm\": 0.44, \"diam_top_in_cm\": 0.18, \"side_branches_in_cm\": 60.23, \"total_meja\": 0, \"tip_of_stem_broken\": 1, \"infested\": 0, \"total_number_adults\": 0, \"main_stem_length_in_cm\": 32.0}, {\"stem_diam_bottom_in_cm\": 0.52, \"diam_top_in_cm\": 0.12, \"side_branches_in_cm\": 60.23, \"total_meja\": 1, \"tip_of_stem_broken\": 0, \"infested\": 1, \"total_number_adults\": 1, \"main_stem_length_in_cm\": 51.0}, {\"stem_diam_bottom_in_cm\": 0.48, \"diam_top_in_cm\": 0.18, \"side_branches_in_cm\": 60.23, \"total_meja\": 0, \"tip_of_stem_broken\": 1, \"infested\": 0, \"total_number_adults\": 0, \"main_stem_length_in_cm\": 62.0}, {\"stem_diam_bottom_in_cm\": 0.85, \"diam_top_in_cm\": 0.18, \"side_branches_in_cm\": 60.23, \"total_meja\": 0, \"tip_of_stem_broken\": 0, \"infested\": 0, \"total_number_adults\": 0, \"main_stem_length_in_cm\": 94.0}, {\"stem_diam_bottom_in_cm\": 0.39, \"diam_top_in_cm\": 0.11, \"side_branches_in_cm\": 60.23, \"total_meja\": 1, \"tip_of_stem_broken\": 0, \"infested\": 1, \"total_number_adults\": 1, \"main_stem_length_in_cm\": 50.0}, {\"stem_diam_bottom_in_cm\": 0.63, \"diam_top_in_cm\": 0.18, \"side_branches_in_cm\": 60.23, \"total_meja\": 0, \"tip_of_stem_broken\": 1, \"infested\": 0, \"total_number_adults\": 0, \"main_stem_length_in_cm\": 61.0}, {\"stem_diam_bottom_in_cm\": 0.39, \"diam_top_in_cm\": 0.18, \"side_branches_in_cm\": 60.23, \"total_meja\": 0, \"tip_of_stem_broken\": 1, \"infested\": 0, \"total_number_adults\": 0, \"main_stem_length_in_cm\": 31.0}, {\"stem_diam_bottom_in_cm\": 0.56, \"diam_top_in_cm\": 0.18, \"side_branches_in_cm\": 60.23, \"total_meja\": 6, \"tip_of_stem_broken\": 0, \"infested\": 1, \"total_number_adults\": 0, \"main_stem_length_in_cm\": 66.0}, {\"stem_diam_bottom_in_cm\": 0.26, \"diam_top_in_cm\": 0.18, \"side_branches_in_cm\": 60.23, \"total_meja\": 0, \"tip_of_stem_broken\": 0, \"infested\": 0, \"total_number_adults\": 0, \"main_stem_length_in_cm\": 13.5}, {\"stem_diam_bottom_in_cm\": 0.44, \"diam_top_in_cm\": 0.18, \"side_branches_in_cm\": 60.23, \"total_meja\": 23, \"tip_of_stem_broken\": 1, \"infested\": 1, \"total_number_adults\": 23, \"main_stem_length_in_cm\": 51.0}, {\"stem_diam_bottom_in_cm\": 0.68, \"diam_top_in_cm\": 0.18, \"side_branches_in_cm\": 60.23, \"total_meja\": 15, \"tip_of_stem_broken\": 1, \"infested\": 1, \"total_number_adults\": 14, \"main_stem_length_in_cm\": 43.0}, {\"stem_diam_bottom_in_cm\": 0.4, \"diam_top_in_cm\": 0.21, \"side_branches_in_cm\": 60.23, \"total_meja\": 22, \"tip_of_stem_broken\": 1, \"infested\": 1, \"total_number_adults\": 20, \"main_stem_length_in_cm\": 41.0}, {\"stem_diam_bottom_in_cm\": 0.66, \"diam_top_in_cm\": 0.18, \"side_branches_in_cm\": 60.23, \"total_meja\": 17, \"tip_of_stem_broken\": 0, \"infested\": 1, \"total_number_adults\": 0, \"main_stem_length_in_cm\": 74.0}, {\"stem_diam_bottom_in_cm\": 0.46, \"diam_top_in_cm\": 0.12, \"side_branches_in_cm\": 60.23, \"total_meja\": 9, \"tip_of_stem_broken\": 0, \"infested\": 1, \"total_number_adults\": 7, \"main_stem_length_in_cm\": 31.0}, {\"stem_diam_bottom_in_cm\": 0.49, \"diam_top_in_cm\": 0.38, \"side_branches_in_cm\": 60.23, \"total_meja\": 8, \"tip_of_stem_broken\": 1, \"infested\": 1, \"total_number_adults\": 0, \"main_stem_length_in_cm\": 38.0}, {\"stem_diam_bottom_in_cm\": 0.47, \"diam_top_in_cm\": 0.18, \"side_branches_in_cm\": 60.23, \"total_meja\": 0, \"tip_of_stem_broken\": 0, \"infested\": 0, \"total_number_adults\": 0, \"main_stem_length_in_cm\": 79.0}, {\"stem_diam_bottom_in_cm\": 0.25, \"diam_top_in_cm\": 0.18, \"side_branches_in_cm\": 60.23, \"total_meja\": 0, \"tip_of_stem_broken\": 0, \"infested\": 0, \"total_number_adults\": 0, \"main_stem_length_in_cm\": 16.5}, {\"stem_diam_bottom_in_cm\": 0.56, \"diam_top_in_cm\": 0.26, \"side_branches_in_cm\": 60.23, \"total_meja\": 13, \"tip_of_stem_broken\": 1, \"infested\": 1, \"total_number_adults\": 13, \"main_stem_length_in_cm\": 46.0}, {\"stem_diam_bottom_in_cm\": 0.34, \"diam_top_in_cm\": 0.03, \"side_branches_in_cm\": 60.23, \"total_meja\": 1, \"tip_of_stem_broken\": 0, \"infested\": 1, \"total_number_adults\": 1, \"main_stem_length_in_cm\": 56.0}, {\"stem_diam_bottom_in_cm\": 0.45, \"diam_top_in_cm\": 0.18, \"side_branches_in_cm\": 60.23, \"total_meja\": 0, \"tip_of_stem_broken\": 1, \"infested\": 0, \"total_number_adults\": 0, \"main_stem_length_in_cm\": 38.0}, {\"stem_diam_bottom_in_cm\": 0.72, \"diam_top_in_cm\": 0.21, \"side_branches_in_cm\": 60.23, \"total_meja\": 1, \"tip_of_stem_broken\": 1, \"infested\": 1, \"total_number_adults\": 1, \"main_stem_length_in_cm\": 51.0}, {\"stem_diam_bottom_in_cm\": 0.47, \"diam_top_in_cm\": 0.18, \"side_branches_in_cm\": 60.23, \"total_meja\": 0, \"tip_of_stem_broken\": 0, \"infested\": 0, \"total_number_adults\": 0, \"main_stem_length_in_cm\": 65.0}, {\"stem_diam_bottom_in_cm\": 0.55, \"diam_top_in_cm\": 0.18, \"side_branches_in_cm\": 60.23, \"total_meja\": 0, \"tip_of_stem_broken\": 1, \"infested\": 0, \"total_number_adults\": 0, \"main_stem_length_in_cm\": 64.0}, {\"stem_diam_bottom_in_cm\": 0.51, \"diam_top_in_cm\": 0.18, \"side_branches_in_cm\": 60.23, \"total_meja\": 2, \"tip_of_stem_broken\": 0, \"infested\": 1, \"total_number_adults\": 0, \"main_stem_length_in_cm\": 78.0}, {\"stem_diam_bottom_in_cm\": 0.58, \"diam_top_in_cm\": 0.18, \"side_branches_in_cm\": 60.23, \"total_meja\": 0, \"tip_of_stem_broken\": 1, \"infested\": 0, \"total_number_adults\": 0, \"main_stem_length_in_cm\": 84.0}, {\"stem_diam_bottom_in_cm\": 0.75, \"diam_top_in_cm\": 0.18, \"side_branches_in_cm\": 60.23, \"total_meja\": 14, \"tip_of_stem_broken\": 0, \"infested\": 1, \"total_number_adults\": 2, \"main_stem_length_in_cm\": 61.0}, {\"stem_diam_bottom_in_cm\": 0.37, \"diam_top_in_cm\": 0.18, \"side_branches_in_cm\": 60.23, \"total_meja\": 0, \"tip_of_stem_broken\": 1, \"infested\": 0, \"total_number_adults\": 0, \"main_stem_length_in_cm\": 60.0}, {\"stem_diam_bottom_in_cm\": 0.48, \"diam_top_in_cm\": 0.05, \"side_branches_in_cm\": 60.23, \"total_meja\": 0, \"tip_of_stem_broken\": 0, \"infested\": 0, \"total_number_adults\": 0, \"main_stem_length_in_cm\": 85.0}, {\"stem_diam_bottom_in_cm\": 0.34, \"diam_top_in_cm\": 0.11, \"side_branches_in_cm\": 60.23, \"total_meja\": 3, \"tip_of_stem_broken\": 1, \"infested\": 1, \"total_number_adults\": 3, \"main_stem_length_in_cm\": 67.0}, {\"stem_diam_bottom_in_cm\": 0.57, \"diam_top_in_cm\": 0.18, \"side_branches_in_cm\": 60.23, \"total_meja\": 0, \"tip_of_stem_broken\": 0, \"infested\": 0, \"total_number_adults\": 0, \"main_stem_length_in_cm\": 89.0}, {\"stem_diam_bottom_in_cm\": 0.77, \"diam_top_in_cm\": 0.18, \"side_branches_in_cm\": 60.23, \"total_meja\": 0, \"tip_of_stem_broken\": 0, \"infested\": 0, \"total_number_adults\": 0, \"main_stem_length_in_cm\": 79.0}, {\"stem_diam_bottom_in_cm\": 0.38, \"diam_top_in_cm\": 0.12, \"side_branches_in_cm\": 60.23, \"total_meja\": 20, \"tip_of_stem_broken\": 1, \"infested\": 1, \"total_number_adults\": 1, \"main_stem_length_in_cm\": 44.0}, {\"stem_diam_bottom_in_cm\": 0.37, \"diam_top_in_cm\": 0.18, \"side_branches_in_cm\": 60.23, \"total_meja\": 3, \"tip_of_stem_broken\": 0, \"infested\": 1, \"total_number_adults\": 0, \"main_stem_length_in_cm\": 54.0}, {\"stem_diam_bottom_in_cm\": 0.17, \"diam_top_in_cm\": 0.18, \"side_branches_in_cm\": 60.23, \"total_meja\": 0, \"tip_of_stem_broken\": 0, \"infested\": 0, \"total_number_adults\": 0, \"main_stem_length_in_cm\": 14.5}, {\"stem_diam_bottom_in_cm\": 0.73, \"diam_top_in_cm\": 0.18, \"side_branches_in_cm\": 60.23, \"total_meja\": 0, \"tip_of_stem_broken\": 1, \"infested\": 0, \"total_number_adults\": 0, \"main_stem_length_in_cm\": 58.0}, {\"stem_diam_bottom_in_cm\": 0.6, \"diam_top_in_cm\": 0.18, \"side_branches_in_cm\": 60.23, \"total_meja\": 0, \"tip_of_stem_broken\": 1, \"infested\": 0, \"total_number_adults\": 0, \"main_stem_length_in_cm\": 77.0}, {\"stem_diam_bottom_in_cm\": 0.62, \"diam_top_in_cm\": 0.09, \"side_branches_in_cm\": 60.23, \"total_meja\": 0, \"tip_of_stem_broken\": 1, \"infested\": 0, \"total_number_adults\": 0, \"main_stem_length_in_cm\": 58.0}, {\"stem_diam_bottom_in_cm\": 0.56, \"diam_top_in_cm\": 0.18, \"side_branches_in_cm\": 60.23, \"total_meja\": 10, \"tip_of_stem_broken\": 0, \"infested\": 1, \"total_number_adults\": 1, \"main_stem_length_in_cm\": 61.0}, {\"stem_diam_bottom_in_cm\": 0.16, \"diam_top_in_cm\": 0.18, \"side_branches_in_cm\": 60.23, \"total_meja\": 0, \"tip_of_stem_broken\": 0, \"infested\": 0, \"total_number_adults\": 0, \"main_stem_length_in_cm\": 8.5}, {\"stem_diam_bottom_in_cm\": 0.44, \"diam_top_in_cm\": 0.18, \"side_branches_in_cm\": 60.23, \"total_meja\": 7, \"tip_of_stem_broken\": 0, \"infested\": 1, \"total_number_adults\": 2, \"main_stem_length_in_cm\": 27.0}, {\"stem_diam_bottom_in_cm\": 0.35, \"diam_top_in_cm\": 0.18, \"side_branches_in_cm\": 60.23, \"total_meja\": 0, \"tip_of_stem_broken\": 1, \"infested\": 0, \"total_number_adults\": 0, \"main_stem_length_in_cm\": 17.0}, {\"stem_diam_bottom_in_cm\": 0.43, \"diam_top_in_cm\": 0.18, \"side_branches_in_cm\": 60.23, \"total_meja\": 0, \"tip_of_stem_broken\": 0, \"infested\": 0, \"total_number_adults\": 0, \"main_stem_length_in_cm\": 39.0}, {\"stem_diam_bottom_in_cm\": 0.52, \"diam_top_in_cm\": 0.18, \"side_branches_in_cm\": 60.23, \"total_meja\": 3, \"tip_of_stem_broken\": 0, \"infested\": 1, \"total_number_adults\": 0, \"main_stem_length_in_cm\": 61.0}, {\"stem_diam_bottom_in_cm\": 0.53, \"diam_top_in_cm\": 0.21, \"side_branches_in_cm\": 60.23, \"total_meja\": 27, \"tip_of_stem_broken\": 1, \"infested\": 1, \"total_number_adults\": 21, \"main_stem_length_in_cm\": 38.0}, {\"stem_diam_bottom_in_cm\": 0.47, \"diam_top_in_cm\": 0.18, \"side_branches_in_cm\": 60.23, \"total_meja\": 0, \"tip_of_stem_broken\": 1, \"infested\": 0, \"total_number_adults\": 0, \"main_stem_length_in_cm\": 61.0}, {\"stem_diam_bottom_in_cm\": 0.94, \"diam_top_in_cm\": 0.3, \"side_branches_in_cm\": 60.23, \"total_meja\": 9, \"tip_of_stem_broken\": 1, \"infested\": 1, \"total_number_adults\": 0, \"main_stem_length_in_cm\": 77.0}, {\"stem_diam_bottom_in_cm\": 0.41, \"diam_top_in_cm\": 0.04, \"side_branches_in_cm\": 60.23, \"total_meja\": 4, \"tip_of_stem_broken\": 1, \"infested\": 1, \"total_number_adults\": 4, \"main_stem_length_in_cm\": 64.0}, {\"stem_diam_bottom_in_cm\": 0.6, \"diam_top_in_cm\": 0.36, \"side_branches_in_cm\": 60.23, \"total_meja\": 29, \"tip_of_stem_broken\": 1, \"infested\": 1, \"total_number_adults\": 26, \"main_stem_length_in_cm\": 36.0}, {\"stem_diam_bottom_in_cm\": 0.48, \"diam_top_in_cm\": 0.18, \"side_branches_in_cm\": 20.0, \"total_meja\": 4, \"tip_of_stem_broken\": 0, \"infested\": 1, \"total_number_adults\": 0, \"main_stem_length_in_cm\": 62.0}, {\"stem_diam_bottom_in_cm\": 0.48, \"diam_top_in_cm\": 0.2, \"side_branches_in_cm\": 60.23, \"total_meja\": 7, \"tip_of_stem_broken\": 1, \"infested\": 1, \"total_number_adults\": 3, \"main_stem_length_in_cm\": 31.0}, {\"stem_diam_bottom_in_cm\": 0.23, \"diam_top_in_cm\": 0.18, \"side_branches_in_cm\": 60.23, \"total_meja\": 0, \"tip_of_stem_broken\": 0, \"infested\": 0, \"total_number_adults\": 0, \"main_stem_length_in_cm\": 24.0}, {\"stem_diam_bottom_in_cm\": 0.78, \"diam_top_in_cm\": 0.18, \"side_branches_in_cm\": 60.23, \"total_meja\": 7, \"tip_of_stem_broken\": 0, \"infested\": 1, \"total_number_adults\": 0, \"main_stem_length_in_cm\": 75.0}, {\"stem_diam_bottom_in_cm\": 0.58, \"diam_top_in_cm\": 0.35, \"side_branches_in_cm\": 60.23, \"total_meja\": 1, \"tip_of_stem_broken\": 1, \"infested\": 1, \"total_number_adults\": 0, \"main_stem_length_in_cm\": 62.0}, {\"stem_diam_bottom_in_cm\": 0.49, \"diam_top_in_cm\": 0.18, \"side_branches_in_cm\": 60.23, \"total_meja\": 0, \"tip_of_stem_broken\": 0, \"infested\": 0, \"total_number_adults\": 0, \"main_stem_length_in_cm\": 54.0}, {\"stem_diam_bottom_in_cm\": 0.42, \"diam_top_in_cm\": 0.18, \"side_branches_in_cm\": 60.23, \"total_meja\": 0, \"tip_of_stem_broken\": 0, \"infested\": 0, \"total_number_adults\": 0, \"main_stem_length_in_cm\": 74.0}, {\"stem_diam_bottom_in_cm\": 0.69, \"diam_top_in_cm\": 0.18, \"side_branches_in_cm\": 60.23, \"total_meja\": 0, \"tip_of_stem_broken\": 0, \"infested\": 0, \"total_number_adults\": 0, \"main_stem_length_in_cm\": 86.0}, {\"stem_diam_bottom_in_cm\": 0.47, \"diam_top_in_cm\": 0.18, \"side_branches_in_cm\": 60.23, \"total_meja\": 0, \"tip_of_stem_broken\": 1, \"infested\": 0, \"total_number_adults\": 0, \"main_stem_length_in_cm\": 34.0}, {\"stem_diam_bottom_in_cm\": 0.18, \"diam_top_in_cm\": 0.18, \"side_branches_in_cm\": 60.23, \"total_meja\": 0, \"tip_of_stem_broken\": 0, \"infested\": 0, \"total_number_adults\": 0, \"main_stem_length_in_cm\": 12.0}, {\"stem_diam_bottom_in_cm\": 0.5, \"diam_top_in_cm\": 0.27, \"side_branches_in_cm\": 60.23, \"total_meja\": 23, \"tip_of_stem_broken\": 1, \"infested\": 1, \"total_number_adults\": 23, \"main_stem_length_in_cm\": 48.0}, {\"stem_diam_bottom_in_cm\": 0.47, \"diam_top_in_cm\": 0.09, \"side_branches_in_cm\": 60.23, \"total_meja\": 0, \"tip_of_stem_broken\": 0, \"infested\": 0, \"total_number_adults\": 0, \"main_stem_length_in_cm\": 88.0}, {\"stem_diam_bottom_in_cm\": 0.72, \"diam_top_in_cm\": 0.16, \"side_branches_in_cm\": 60.23, \"total_meja\": 0, \"tip_of_stem_broken\": 1, \"infested\": 0, \"total_number_adults\": 0, \"main_stem_length_in_cm\": 58.0}, {\"stem_diam_bottom_in_cm\": 0.48, \"diam_top_in_cm\": 0.09, \"side_branches_in_cm\": 60.23, \"total_meja\": 0, \"tip_of_stem_broken\": 1, \"infested\": 0, \"total_number_adults\": 0, \"main_stem_length_in_cm\": 83.0}, {\"stem_diam_bottom_in_cm\": 0.49, \"diam_top_in_cm\": 0.18, \"side_branches_in_cm\": 13.0, \"total_meja\": 0, \"tip_of_stem_broken\": 1, \"infested\": 0, \"total_number_adults\": 0, \"main_stem_length_in_cm\": 49.0}, {\"stem_diam_bottom_in_cm\": 0.53, \"diam_top_in_cm\": 0.18, \"side_branches_in_cm\": 60.23, \"total_meja\": 0, \"tip_of_stem_broken\": 1, \"infested\": 0, \"total_number_adults\": 0, \"main_stem_length_in_cm\": 57.0}, {\"stem_diam_bottom_in_cm\": 0.48, \"diam_top_in_cm\": 0.18, \"side_branches_in_cm\": 60.23, \"total_meja\": 0, \"tip_of_stem_broken\": 1, \"infested\": 0, \"total_number_adults\": 0, \"main_stem_length_in_cm\": 49.0}, {\"stem_diam_bottom_in_cm\": 0.48, \"diam_top_in_cm\": 0.12, \"side_branches_in_cm\": 60.23, \"total_meja\": 5, \"tip_of_stem_broken\": 0, \"infested\": 1, \"total_number_adults\": 3, \"main_stem_length_in_cm\": 50.0}, {\"stem_diam_bottom_in_cm\": 0.4, \"diam_top_in_cm\": 0.18, \"side_branches_in_cm\": 66.0, \"total_meja\": 0, \"tip_of_stem_broken\": 1, \"infested\": 0, \"total_number_adults\": 0, \"main_stem_length_in_cm\": 24.0}, {\"stem_diam_bottom_in_cm\": 0.3, \"diam_top_in_cm\": 0.18, \"side_branches_in_cm\": 60.23, \"total_meja\": 0, \"tip_of_stem_broken\": 1, \"infested\": 0, \"total_number_adults\": 0, \"main_stem_length_in_cm\": 36.0}, {\"stem_diam_bottom_in_cm\": 0.19, \"diam_top_in_cm\": 0.18, \"side_branches_in_cm\": 60.23, \"total_meja\": 0, \"tip_of_stem_broken\": 0, \"infested\": 0, \"total_number_adults\": 0, \"main_stem_length_in_cm\": 19.0}, {\"stem_diam_bottom_in_cm\": 0.51, \"diam_top_in_cm\": 0.22, \"side_branches_in_cm\": 60.23, \"total_meja\": 18, \"tip_of_stem_broken\": 1, \"infested\": 1, \"total_number_adults\": 4, \"main_stem_length_in_cm\": 48.0}, {\"stem_diam_bottom_in_cm\": 0.66, \"diam_top_in_cm\": 0.18, \"side_branches_in_cm\": 60.23, \"total_meja\": 0, \"tip_of_stem_broken\": 1, \"infested\": 0, \"total_number_adults\": 0, \"main_stem_length_in_cm\": 52.0}, {\"stem_diam_bottom_in_cm\": 0.35, \"diam_top_in_cm\": 0.25, \"side_branches_in_cm\": 60.23, \"total_meja\": 0, \"tip_of_stem_broken\": 1, \"infested\": 0, \"total_number_adults\": 0, \"main_stem_length_in_cm\": 41.0}, {\"stem_diam_bottom_in_cm\": 0.68, \"diam_top_in_cm\": 0.18, \"side_branches_in_cm\": 60.23, \"total_meja\": 0, \"tip_of_stem_broken\": 0, \"infested\": 0, \"total_number_adults\": 0, \"main_stem_length_in_cm\": 82.0}, {\"stem_diam_bottom_in_cm\": 0.35, \"diam_top_in_cm\": 0.18, \"side_branches_in_cm\": 60.23, \"total_meja\": 13, \"tip_of_stem_broken\": 1, \"infested\": 1, \"total_number_adults\": 11, \"main_stem_length_in_cm\": 40.5}, {\"stem_diam_bottom_in_cm\": 0.5, \"diam_top_in_cm\": 0.16, \"side_branches_in_cm\": 60.23, \"total_meja\": 21, \"tip_of_stem_broken\": 0, \"infested\": 1, \"total_number_adults\": 17, \"main_stem_length_in_cm\": 33.0}, {\"stem_diam_bottom_in_cm\": 1.08, \"diam_top_in_cm\": 0.18, \"side_branches_in_cm\": 60.23, \"total_meja\": 0, \"tip_of_stem_broken\": 1, \"infested\": 0, \"total_number_adults\": 0, \"main_stem_length_in_cm\": 10.0}, {\"stem_diam_bottom_in_cm\": 0.68, \"diam_top_in_cm\": 0.18, \"side_branches_in_cm\": 60.23, \"total_meja\": 2, \"tip_of_stem_broken\": 0, \"infested\": 1, \"total_number_adults\": 1, \"main_stem_length_in_cm\": 97.0}, {\"stem_diam_bottom_in_cm\": 0.52, \"diam_top_in_cm\": 0.18, \"side_branches_in_cm\": 60.23, \"total_meja\": 0, \"tip_of_stem_broken\": 1, \"infested\": 0, \"total_number_adults\": 0, \"main_stem_length_in_cm\": 50.0}, {\"stem_diam_bottom_in_cm\": 0.55, \"diam_top_in_cm\": 0.18, \"side_branches_in_cm\": 60.23, \"total_meja\": 22, \"tip_of_stem_broken\": 0, \"infested\": 1, \"total_number_adults\": 4, \"main_stem_length_in_cm\": 60.0}, {\"stem_diam_bottom_in_cm\": 0.51, \"diam_top_in_cm\": 0.22, \"side_branches_in_cm\": 60.23, \"total_meja\": 7, \"tip_of_stem_broken\": 0, \"infested\": 1, \"total_number_adults\": 6, \"main_stem_length_in_cm\": 39.0}, {\"stem_diam_bottom_in_cm\": 0.51, \"diam_top_in_cm\": 0.18, \"side_branches_in_cm\": 60.23, \"total_meja\": 34, \"tip_of_stem_broken\": 0, \"infested\": 1, \"total_number_adults\": 3, \"main_stem_length_in_cm\": 66.0}, {\"stem_diam_bottom_in_cm\": 0.39, \"diam_top_in_cm\": 0.05, \"side_branches_in_cm\": 60.23, \"total_meja\": 0, \"tip_of_stem_broken\": 0, \"infested\": 0, \"total_number_adults\": 0, \"main_stem_length_in_cm\": 51.0}, {\"stem_diam_bottom_in_cm\": 0.41, \"diam_top_in_cm\": 0.2, \"side_branches_in_cm\": 60.23, \"total_meja\": 21, \"tip_of_stem_broken\": 0, \"infested\": 1, \"total_number_adults\": 15, \"main_stem_length_in_cm\": 36.0}, {\"stem_diam_bottom_in_cm\": 0.8, \"diam_top_in_cm\": 0.04, \"side_branches_in_cm\": 60.23, \"total_meja\": 0, \"tip_of_stem_broken\": 0, \"infested\": 0, \"total_number_adults\": 0, \"main_stem_length_in_cm\": 98.0}, {\"stem_diam_bottom_in_cm\": 0.57, \"diam_top_in_cm\": 0.18, \"side_branches_in_cm\": 60.23, \"total_meja\": 0, \"tip_of_stem_broken\": 0, \"infested\": 0, \"total_number_adults\": 0, \"main_stem_length_in_cm\": 65.0}, {\"stem_diam_bottom_in_cm\": 0.21, \"diam_top_in_cm\": 0.18, \"side_branches_in_cm\": 60.23, \"total_meja\": 0, \"tip_of_stem_broken\": 0, \"infested\": 0, \"total_number_adults\": 0, \"main_stem_length_in_cm\": 13.0}, {\"stem_diam_bottom_in_cm\": 0.33, \"diam_top_in_cm\": 0.08, \"side_branches_in_cm\": 60.23, \"total_meja\": 3, \"tip_of_stem_broken\": 1, \"infested\": 1, \"total_number_adults\": 3, \"main_stem_length_in_cm\": 53.0}, {\"stem_diam_bottom_in_cm\": 0.38, \"diam_top_in_cm\": 0.15, \"side_branches_in_cm\": 60.23, \"total_meja\": 20, \"tip_of_stem_broken\": 0, \"infested\": 1, \"total_number_adults\": 20, \"main_stem_length_in_cm\": 31.5}, {\"stem_diam_bottom_in_cm\": 0.4, \"diam_top_in_cm\": 0.15, \"side_branches_in_cm\": 60.23, \"total_meja\": 1, \"tip_of_stem_broken\": 1, \"infested\": 1, \"total_number_adults\": 1, \"main_stem_length_in_cm\": 49.0}, {\"stem_diam_bottom_in_cm\": 0.55, \"diam_top_in_cm\": 0.19, \"side_branches_in_cm\": 60.23, \"total_meja\": 6, \"tip_of_stem_broken\": 1, \"infested\": 0, \"total_number_adults\": 5, \"main_stem_length_in_cm\": 36.0}, {\"stem_diam_bottom_in_cm\": 0.55, \"diam_top_in_cm\": 0.42, \"side_branches_in_cm\": 60.23, \"total_meja\": 8, \"tip_of_stem_broken\": 1, \"infested\": 1, \"total_number_adults\": 3, \"main_stem_length_in_cm\": 40.0}, {\"stem_diam_bottom_in_cm\": 0.5, \"diam_top_in_cm\": 0.11, \"side_branches_in_cm\": 60.23, \"total_meja\": 48, \"tip_of_stem_broken\": 1, \"infested\": 1, \"total_number_adults\": 48, \"main_stem_length_in_cm\": 59.0}, {\"stem_diam_bottom_in_cm\": 0.77, \"diam_top_in_cm\": 0.18, \"side_branches_in_cm\": 60.23, \"total_meja\": 33, \"tip_of_stem_broken\": 0, \"infested\": 1, \"total_number_adults\": 5, \"main_stem_length_in_cm\": 132.0}, {\"stem_diam_bottom_in_cm\": 0.38, \"diam_top_in_cm\": 0.18, \"side_branches_in_cm\": 60.23, \"total_meja\": 3, \"tip_of_stem_broken\": 0, \"infested\": 1, \"total_number_adults\": 0, \"main_stem_length_in_cm\": 46.0}, {\"stem_diam_bottom_in_cm\": 0.51, \"diam_top_in_cm\": 0.18, \"side_branches_in_cm\": 60.23, \"total_meja\": 0, \"tip_of_stem_broken\": 0, \"infested\": 0, \"total_number_adults\": 0, \"main_stem_length_in_cm\": 62.0}, {\"stem_diam_bottom_in_cm\": 0.32, \"diam_top_in_cm\": 0.18, \"side_branches_in_cm\": 60.23, \"total_meja\": 0, \"tip_of_stem_broken\": 1, \"infested\": 0, \"total_number_adults\": 0, \"main_stem_length_in_cm\": 41.0}, {\"stem_diam_bottom_in_cm\": 0.24, \"diam_top_in_cm\": 0.18, \"side_branches_in_cm\": 60.23, \"total_meja\": 0, \"tip_of_stem_broken\": 0, \"infested\": 0, \"total_number_adults\": 0, \"main_stem_length_in_cm\": 30.0}, {\"stem_diam_bottom_in_cm\": 0.45, \"diam_top_in_cm\": 0.06, \"side_branches_in_cm\": 60.23, \"total_meja\": 4, \"tip_of_stem_broken\": 0, \"infested\": 1, \"total_number_adults\": 1, \"main_stem_length_in_cm\": 76.0}, {\"stem_diam_bottom_in_cm\": 0.47, \"diam_top_in_cm\": 0.18, \"side_branches_in_cm\": 60.23, \"total_meja\": 39, \"tip_of_stem_broken\": 0, \"infested\": 1, \"total_number_adults\": 9, \"main_stem_length_in_cm\": 47.0}, {\"stem_diam_bottom_in_cm\": 0.93, \"diam_top_in_cm\": 0.29, \"side_branches_in_cm\": 60.23, \"total_meja\": 0, \"tip_of_stem_broken\": 1, \"infested\": 0, \"total_number_adults\": 0, \"main_stem_length_in_cm\": 87.0}, {\"stem_diam_bottom_in_cm\": 0.28, \"diam_top_in_cm\": 0.18, \"side_branches_in_cm\": 60.23, \"total_meja\": 0, \"tip_of_stem_broken\": 0, \"infested\": 0, \"total_number_adults\": 0, \"main_stem_length_in_cm\": 14.5}, {\"stem_diam_bottom_in_cm\": 1.12, \"diam_top_in_cm\": 0.18, \"side_branches_in_cm\": 60.23, \"total_meja\": 2, \"tip_of_stem_broken\": 1, \"infested\": 1, \"total_number_adults\": 1, \"main_stem_length_in_cm\": 88.0}, {\"stem_diam_bottom_in_cm\": 0.42, \"diam_top_in_cm\": 0.08, \"side_branches_in_cm\": 60.23, \"total_meja\": 4, \"tip_of_stem_broken\": 0, \"infested\": 1, \"total_number_adults\": 4, \"main_stem_length_in_cm\": 72.0}, {\"stem_diam_bottom_in_cm\": 0.59, \"diam_top_in_cm\": 0.18, \"side_branches_in_cm\": 60.23, \"total_meja\": 0, \"tip_of_stem_broken\": 0, \"infested\": 0, \"total_number_adults\": 0, \"main_stem_length_in_cm\": 51.0}, {\"stem_diam_bottom_in_cm\": 0.49, \"diam_top_in_cm\": 0.18, \"side_branches_in_cm\": 60.23, \"total_meja\": 0, \"tip_of_stem_broken\": 1, \"infested\": 0, \"total_number_adults\": 0, \"main_stem_length_in_cm\": 32.0}, {\"stem_diam_bottom_in_cm\": 0.65, \"diam_top_in_cm\": 0.18, \"side_branches_in_cm\": 60.23, \"total_meja\": 0, \"tip_of_stem_broken\": 0, \"infested\": 0, \"total_number_adults\": 0, \"main_stem_length_in_cm\": 77.0}, {\"stem_diam_bottom_in_cm\": 0.54, \"diam_top_in_cm\": 0.16, \"side_branches_in_cm\": 60.23, \"total_meja\": 17, \"tip_of_stem_broken\": 0, \"infested\": 1, \"total_number_adults\": 13, \"main_stem_length_in_cm\": 38.0}, {\"stem_diam_bottom_in_cm\": 0.77, \"diam_top_in_cm\": 0.18, \"side_branches_in_cm\": 60.23, \"total_meja\": 0, \"tip_of_stem_broken\": 0, \"infested\": 0, \"total_number_adults\": 0, \"main_stem_length_in_cm\": 57.0}, {\"stem_diam_bottom_in_cm\": 0.29, \"diam_top_in_cm\": 0.18, \"side_branches_in_cm\": 60.23, \"total_meja\": 0, \"tip_of_stem_broken\": 0, \"infested\": 0, \"total_number_adults\": 0, \"main_stem_length_in_cm\": 19.5}, {\"stem_diam_bottom_in_cm\": 0.31, \"diam_top_in_cm\": 0.13, \"side_branches_in_cm\": 60.23, \"total_meja\": 0, \"tip_of_stem_broken\": 1, \"infested\": 0, \"total_number_adults\": 0, \"main_stem_length_in_cm\": 45.0}, {\"stem_diam_bottom_in_cm\": 0.85, \"diam_top_in_cm\": 0.38, \"side_branches_in_cm\": 60.23, \"total_meja\": 28, \"tip_of_stem_broken\": 1, \"infested\": 1, \"total_number_adults\": 28, \"main_stem_length_in_cm\": 49.0}, {\"stem_diam_bottom_in_cm\": 0.33, \"diam_top_in_cm\": 0.03, \"side_branches_in_cm\": 60.23, \"total_meja\": 0, \"tip_of_stem_broken\": 0, \"infested\": 0, \"total_number_adults\": 0, \"main_stem_length_in_cm\": 46.0}, {\"stem_diam_bottom_in_cm\": 0.15, \"diam_top_in_cm\": 0.18, \"side_branches_in_cm\": 60.23, \"total_meja\": 0, \"tip_of_stem_broken\": 0, \"infested\": 0, \"total_number_adults\": 0, \"main_stem_length_in_cm\": 11.0}, {\"stem_diam_bottom_in_cm\": 0.5, \"diam_top_in_cm\": 0.06, \"side_branches_in_cm\": 60.23, \"total_meja\": 7, \"tip_of_stem_broken\": 0, \"infested\": 1, \"total_number_adults\": 7, \"main_stem_length_in_cm\": 57.0}, {\"stem_diam_bottom_in_cm\": 0.81, \"diam_top_in_cm\": 0.18, \"side_branches_in_cm\": 60.23, \"total_meja\": 14, \"tip_of_stem_broken\": 1, \"infested\": 1, \"total_number_adults\": 9, \"main_stem_length_in_cm\": 44.0}, {\"stem_diam_bottom_in_cm\": 0.45, \"diam_top_in_cm\": 0.1, \"side_branches_in_cm\": 60.23, \"total_meja\": 13, \"tip_of_stem_broken\": 0, \"infested\": 1, \"total_number_adults\": 13, \"main_stem_length_in_cm\": 38.5}, {\"stem_diam_bottom_in_cm\": 0.48, \"diam_top_in_cm\": 0.18, \"side_branches_in_cm\": 60.23, \"total_meja\": 0, \"tip_of_stem_broken\": 1, \"infested\": 0, \"total_number_adults\": 0, \"main_stem_length_in_cm\": 49.0}, {\"stem_diam_bottom_in_cm\": 0.52, \"diam_top_in_cm\": 0.27, \"side_branches_in_cm\": 60.23, \"total_meja\": 11, \"tip_of_stem_broken\": 1, \"infested\": 1, \"total_number_adults\": 10, \"main_stem_length_in_cm\": 32.0}, {\"stem_diam_bottom_in_cm\": 0.74, \"diam_top_in_cm\": 0.18, \"side_branches_in_cm\": 222.0, \"total_meja\": 0, \"tip_of_stem_broken\": 1, \"infested\": 0, \"total_number_adults\": 0, \"main_stem_length_in_cm\": 30.0}, {\"stem_diam_bottom_in_cm\": 0.22, \"diam_top_in_cm\": 0.18, \"side_branches_in_cm\": 60.23, \"total_meja\": 0, \"tip_of_stem_broken\": 0, \"infested\": 0, \"total_number_adults\": 0, \"main_stem_length_in_cm\": 10.5}, {\"stem_diam_bottom_in_cm\": 0.7, \"diam_top_in_cm\": 0.18, \"side_branches_in_cm\": 60.23, \"total_meja\": 9, \"tip_of_stem_broken\": 0, \"infested\": 1, \"total_number_adults\": 0, \"main_stem_length_in_cm\": 60.0}, {\"stem_diam_bottom_in_cm\": 0.24, \"diam_top_in_cm\": 0.18, \"side_branches_in_cm\": 60.23, \"total_meja\": 0, \"tip_of_stem_broken\": 0, \"infested\": 0, \"total_number_adults\": 0, \"main_stem_length_in_cm\": 5.0}, {\"stem_diam_bottom_in_cm\": 0.5, \"diam_top_in_cm\": 0.14, \"side_branches_in_cm\": 60.23, \"total_meja\": 6, \"tip_of_stem_broken\": 1, \"infested\": 1, \"total_number_adults\": 6, \"main_stem_length_in_cm\": 69.0}, {\"stem_diam_bottom_in_cm\": 0.37, \"diam_top_in_cm\": 0.18, \"side_branches_in_cm\": 60.23, \"total_meja\": 1, \"tip_of_stem_broken\": 0, \"infested\": 1, \"total_number_adults\": 0, \"main_stem_length_in_cm\": 34.0}, {\"stem_diam_bottom_in_cm\": 0.63, \"diam_top_in_cm\": 0.18, \"side_branches_in_cm\": 60.23, \"total_meja\": 0, \"tip_of_stem_broken\": 0, \"infested\": 0, \"total_number_adults\": 0, \"main_stem_length_in_cm\": 100.0}, {\"stem_diam_bottom_in_cm\": 0.21, \"diam_top_in_cm\": 0.18, \"side_branches_in_cm\": 60.23, \"total_meja\": 0, \"tip_of_stem_broken\": 0, \"infested\": 0, \"total_number_adults\": 0, \"main_stem_length_in_cm\": 15.0}, {\"stem_diam_bottom_in_cm\": 0.52, \"diam_top_in_cm\": 0.18, \"side_branches_in_cm\": 60.23, \"total_meja\": 37, \"tip_of_stem_broken\": 0, \"infested\": 1, \"total_number_adults\": 8, \"main_stem_length_in_cm\": 67.0}, {\"stem_diam_bottom_in_cm\": 0.65, \"diam_top_in_cm\": 0.54, \"side_branches_in_cm\": 60.23, \"total_meja\": 0, \"tip_of_stem_broken\": 1, \"infested\": 0, \"total_number_adults\": 0, \"main_stem_length_in_cm\": 54.0}, {\"stem_diam_bottom_in_cm\": 0.18, \"diam_top_in_cm\": 0.18, \"side_branches_in_cm\": 60.23, \"total_meja\": 0, \"tip_of_stem_broken\": 0, \"infested\": 0, \"total_number_adults\": 0, \"main_stem_length_in_cm\": 6.5}, {\"stem_diam_bottom_in_cm\": 0.67, \"diam_top_in_cm\": 0.18, \"side_branches_in_cm\": 60.23, \"total_meja\": 0, \"tip_of_stem_broken\": 1, \"infested\": 0, \"total_number_adults\": 0, \"main_stem_length_in_cm\": 56.0}, {\"stem_diam_bottom_in_cm\": 0.69, \"diam_top_in_cm\": 0.28, \"side_branches_in_cm\": 60.23, \"total_meja\": 53, \"tip_of_stem_broken\": 1, \"infested\": 1, \"total_number_adults\": 53, \"main_stem_length_in_cm\": 41.0}, {\"stem_diam_bottom_in_cm\": 0.58, \"diam_top_in_cm\": 0.32, \"side_branches_in_cm\": 60.23, \"total_meja\": 8, \"tip_of_stem_broken\": 1, \"infested\": 1, \"total_number_adults\": 1, \"main_stem_length_in_cm\": 49.0}, {\"stem_diam_bottom_in_cm\": 0.49, \"diam_top_in_cm\": 0.11, \"side_branches_in_cm\": 60.23, \"total_meja\": 0, \"tip_of_stem_broken\": 0, \"infested\": 0, \"total_number_adults\": 0, \"main_stem_length_in_cm\": 54.0}, {\"stem_diam_bottom_in_cm\": 0.71, \"diam_top_in_cm\": 0.18, \"side_branches_in_cm\": 43.0, \"total_meja\": 0, \"tip_of_stem_broken\": 0, \"infested\": 0, \"total_number_adults\": 0, \"main_stem_length_in_cm\": 98.0}, {\"stem_diam_bottom_in_cm\": 0.21, \"diam_top_in_cm\": 0.18, \"side_branches_in_cm\": 60.23, \"total_meja\": 0, \"tip_of_stem_broken\": 0, \"infested\": 0, \"total_number_adults\": 0, \"main_stem_length_in_cm\": 11.0}, {\"stem_diam_bottom_in_cm\": 0.33, \"diam_top_in_cm\": 0.12, \"side_branches_in_cm\": 60.23, \"total_meja\": 8, \"tip_of_stem_broken\": 0, \"infested\": 1, \"total_number_adults\": 8, \"main_stem_length_in_cm\": 30.0}, {\"stem_diam_bottom_in_cm\": 0.3, \"diam_top_in_cm\": 0.18, \"side_branches_in_cm\": 60.23, \"total_meja\": 0, \"tip_of_stem_broken\": 1, \"infested\": 0, \"total_number_adults\": 0, \"main_stem_length_in_cm\": 27.0}, {\"stem_diam_bottom_in_cm\": 0.51, \"diam_top_in_cm\": 0.18, \"side_branches_in_cm\": 60.23, \"total_meja\": 5, \"tip_of_stem_broken\": 0, \"infested\": 1, \"total_number_adults\": 0, \"main_stem_length_in_cm\": 106.0}, {\"stem_diam_bottom_in_cm\": 0.3, \"diam_top_in_cm\": 0.18, \"side_branches_in_cm\": 60.23, \"total_meja\": 0, \"tip_of_stem_broken\": 0, \"infested\": 0, \"total_number_adults\": 0, \"main_stem_length_in_cm\": 13.5}, {\"stem_diam_bottom_in_cm\": 0.28, \"diam_top_in_cm\": 0.18, \"side_branches_in_cm\": 60.23, \"total_meja\": 0, \"tip_of_stem_broken\": 0, \"infested\": 0, \"total_number_adults\": 0, \"main_stem_length_in_cm\": 17.0}, {\"stem_diam_bottom_in_cm\": 0.33, \"diam_top_in_cm\": 0.18, \"side_branches_in_cm\": 60.23, \"total_meja\": 12, \"tip_of_stem_broken\": 1, \"infested\": 1, \"total_number_adults\": 12, \"main_stem_length_in_cm\": 29.0}, {\"stem_diam_bottom_in_cm\": 0.88, \"diam_top_in_cm\": 0.18, \"side_branches_in_cm\": 23.0, \"total_meja\": 0, \"tip_of_stem_broken\": 1, \"infested\": 0, \"total_number_adults\": 0, \"main_stem_length_in_cm\": 68.0}, {\"stem_diam_bottom_in_cm\": 0.64, \"diam_top_in_cm\": 0.09, \"side_branches_in_cm\": 60.23, \"total_meja\": 0, \"tip_of_stem_broken\": 0, \"infested\": 0, \"total_number_adults\": 0, \"main_stem_length_in_cm\": 93.0}, {\"stem_diam_bottom_in_cm\": 0.49, \"diam_top_in_cm\": 0.1, \"side_branches_in_cm\": 60.23, \"total_meja\": 2, \"tip_of_stem_broken\": 1, \"infested\": 1, \"total_number_adults\": 2, \"main_stem_length_in_cm\": 68.0}, {\"stem_diam_bottom_in_cm\": 0.69, \"diam_top_in_cm\": 0.18, \"side_branches_in_cm\": 60.23, \"total_meja\": 1, \"tip_of_stem_broken\": 0, \"infested\": 1, \"total_number_adults\": 0, \"main_stem_length_in_cm\": 102.0}, {\"stem_diam_bottom_in_cm\": 0.74, \"diam_top_in_cm\": 0.19, \"side_branches_in_cm\": 60.23, \"total_meja\": 1, \"tip_of_stem_broken\": 1, \"infested\": 1, \"total_number_adults\": 0, \"main_stem_length_in_cm\": 35.0}, {\"stem_diam_bottom_in_cm\": 0.26, \"diam_top_in_cm\": 0.18, \"side_branches_in_cm\": 60.23, \"total_meja\": 0, \"tip_of_stem_broken\": 0, \"infested\": 0, \"total_number_adults\": 0, \"main_stem_length_in_cm\": 21.0}, {\"stem_diam_bottom_in_cm\": 0.59, \"diam_top_in_cm\": 0.18, \"side_branches_in_cm\": 60.23, \"total_meja\": 2, \"tip_of_stem_broken\": 0, \"infested\": 1, \"total_number_adults\": 0, \"main_stem_length_in_cm\": 76.0}, {\"stem_diam_bottom_in_cm\": 0.56, \"diam_top_in_cm\": 0.18, \"side_branches_in_cm\": 47.0, \"total_meja\": 0, \"tip_of_stem_broken\": 1, \"infested\": 0, \"total_number_adults\": 0, \"main_stem_length_in_cm\": 67.0}, {\"stem_diam_bottom_in_cm\": 0.27, \"diam_top_in_cm\": 0.18, \"side_branches_in_cm\": 60.23, \"total_meja\": 0, \"tip_of_stem_broken\": 0, \"infested\": 0, \"total_number_adults\": 0, \"main_stem_length_in_cm\": 20.5}, {\"stem_diam_bottom_in_cm\": 0.41, \"diam_top_in_cm\": 0.05, \"side_branches_in_cm\": 60.23, \"total_meja\": 0, \"tip_of_stem_broken\": 0, \"infested\": 0, \"total_number_adults\": 0, \"main_stem_length_in_cm\": 89.0}, {\"stem_diam_bottom_in_cm\": 0.47, \"diam_top_in_cm\": 0.18, \"side_branches_in_cm\": 60.23, \"total_meja\": 15, \"tip_of_stem_broken\": 0, \"infested\": 1, \"total_number_adults\": 0, \"main_stem_length_in_cm\": 45.0}, {\"stem_diam_bottom_in_cm\": 0.44, \"diam_top_in_cm\": 0.18, \"side_branches_in_cm\": 68.0, \"total_meja\": 0, \"tip_of_stem_broken\": 1, \"infested\": 0, \"total_number_adults\": 0, \"main_stem_length_in_cm\": 65.0}, {\"stem_diam_bottom_in_cm\": 0.17, \"diam_top_in_cm\": 0.18, \"side_branches_in_cm\": 60.23, \"total_meja\": 0, \"tip_of_stem_broken\": 0, \"infested\": 0, \"total_number_adults\": 0, \"main_stem_length_in_cm\": 10.5}, {\"stem_diam_bottom_in_cm\": 0.26, \"diam_top_in_cm\": 0.18, \"side_branches_in_cm\": 60.23, \"total_meja\": 0, \"tip_of_stem_broken\": 0, \"infested\": 0, \"total_number_adults\": 0, \"main_stem_length_in_cm\": 9.0}, {\"stem_diam_bottom_in_cm\": 0.52, \"diam_top_in_cm\": 0.31, \"side_branches_in_cm\": 60.23, \"total_meja\": 2, \"tip_of_stem_broken\": 1, \"infested\": 1, \"total_number_adults\": 1, \"main_stem_length_in_cm\": 52.5}, {\"stem_diam_bottom_in_cm\": 0.23, \"diam_top_in_cm\": 0.18, \"side_branches_in_cm\": 60.23, \"total_meja\": 0, \"tip_of_stem_broken\": 0, \"infested\": 0, \"total_number_adults\": 0, \"main_stem_length_in_cm\": 13.0}, {\"stem_diam_bottom_in_cm\": 0.25, \"diam_top_in_cm\": 0.18, \"side_branches_in_cm\": 60.23, \"total_meja\": 0, \"tip_of_stem_broken\": 0, \"infested\": 0, \"total_number_adults\": 0, \"main_stem_length_in_cm\": 12.5}, {\"stem_diam_bottom_in_cm\": 0.49, \"diam_top_in_cm\": 0.18, \"side_branches_in_cm\": 60.23, \"total_meja\": 14, \"tip_of_stem_broken\": 0, \"infested\": 1, \"total_number_adults\": 8, \"main_stem_length_in_cm\": 65.0}, {\"stem_diam_bottom_in_cm\": 0.47, \"diam_top_in_cm\": 0.18, \"side_branches_in_cm\": 60.23, \"total_meja\": 0, \"tip_of_stem_broken\": 1, \"infested\": 0, \"total_number_adults\": 0, \"main_stem_length_in_cm\": 28.0}, {\"stem_diam_bottom_in_cm\": 0.98, \"diam_top_in_cm\": 0.34, \"side_branches_in_cm\": 60.23, \"total_meja\": 18, \"tip_of_stem_broken\": 1, \"infested\": 1, \"total_number_adults\": 3, \"main_stem_length_in_cm\": 76.0}, {\"stem_diam_bottom_in_cm\": 0.72, \"diam_top_in_cm\": 0.18, \"side_branches_in_cm\": 60.23, \"total_meja\": 1, \"tip_of_stem_broken\": 0, \"infested\": 1, \"total_number_adults\": 0, \"main_stem_length_in_cm\": 99.0}, {\"stem_diam_bottom_in_cm\": 0.58, \"diam_top_in_cm\": 0.18, \"side_branches_in_cm\": 60.23, \"total_meja\": 0, \"tip_of_stem_broken\": 0, \"infested\": 0, \"total_number_adults\": 0, \"main_stem_length_in_cm\": 62.0}, {\"stem_diam_bottom_in_cm\": 0.32, \"diam_top_in_cm\": 0.12, \"side_branches_in_cm\": 60.23, \"total_meja\": 12, \"tip_of_stem_broken\": 1, \"infested\": 1, \"total_number_adults\": 12, \"main_stem_length_in_cm\": 24.0}, {\"stem_diam_bottom_in_cm\": 0.46, \"diam_top_in_cm\": 0.18, \"side_branches_in_cm\": 60.23, \"total_meja\": 0, \"tip_of_stem_broken\": 0, \"infested\": 0, \"total_number_adults\": 0, \"main_stem_length_in_cm\": 69.0}, {\"stem_diam_bottom_in_cm\": 0.45, \"diam_top_in_cm\": 0.11, \"side_branches_in_cm\": 60.23, \"total_meja\": 10, \"tip_of_stem_broken\": 0, \"infested\": 1, \"total_number_adults\": 10, \"main_stem_length_in_cm\": 42.0}, {\"stem_diam_bottom_in_cm\": 0.57, \"diam_top_in_cm\": 0.18, \"side_branches_in_cm\": 60.23, \"total_meja\": 0, \"tip_of_stem_broken\": 0, \"infested\": 0, \"total_number_adults\": 0, \"main_stem_length_in_cm\": 56.0}, {\"stem_diam_bottom_in_cm\": 0.49, \"diam_top_in_cm\": 0.18, \"side_branches_in_cm\": 60.23, \"total_meja\": 0, \"tip_of_stem_broken\": 0, \"infested\": 0, \"total_number_adults\": 0, \"main_stem_length_in_cm\": 62.0}, {\"stem_diam_bottom_in_cm\": 0.26, \"diam_top_in_cm\": 0.18, \"side_branches_in_cm\": 60.23, \"total_meja\": 0, \"tip_of_stem_broken\": 1, \"infested\": 0, \"total_number_adults\": 0, \"main_stem_length_in_cm\": 33.0}, {\"stem_diam_bottom_in_cm\": 0.61, \"diam_top_in_cm\": 0.13, \"side_branches_in_cm\": 60.23, \"total_meja\": 17, \"tip_of_stem_broken\": 1, \"infested\": 1, \"total_number_adults\": 10, \"main_stem_length_in_cm\": 62.5}, {\"stem_diam_bottom_in_cm\": 0.35, \"diam_top_in_cm\": 0.13, \"side_branches_in_cm\": 60.23, \"total_meja\": 16, \"tip_of_stem_broken\": 0, \"infested\": 1, \"total_number_adults\": 14, \"main_stem_length_in_cm\": 32.0}, {\"stem_diam_bottom_in_cm\": 0.43, \"diam_top_in_cm\": 0.18, \"side_branches_in_cm\": 30.0, \"total_meja\": 0, \"tip_of_stem_broken\": 1, \"infested\": 0, \"total_number_adults\": 0, \"main_stem_length_in_cm\": 58.0}, {\"stem_diam_bottom_in_cm\": 0.62, \"diam_top_in_cm\": 0.12, \"side_branches_in_cm\": 60.23, \"total_meja\": 9, \"tip_of_stem_broken\": 1, \"infested\": 1, \"total_number_adults\": 7, \"main_stem_length_in_cm\": 34.0}, {\"stem_diam_bottom_in_cm\": 0.43, \"diam_top_in_cm\": 0.05, \"side_branches_in_cm\": 60.23, \"total_meja\": 3, \"tip_of_stem_broken\": 0, \"infested\": 1, \"total_number_adults\": 3, \"main_stem_length_in_cm\": 52.0}, {\"stem_diam_bottom_in_cm\": 0.37, \"diam_top_in_cm\": 0.14, \"side_branches_in_cm\": 60.23, \"total_meja\": 2, \"tip_of_stem_broken\": 1, \"infested\": 1, \"total_number_adults\": 2, \"main_stem_length_in_cm\": 51.0}, {\"stem_diam_bottom_in_cm\": 0.47, \"diam_top_in_cm\": 0.18, \"side_branches_in_cm\": 60.23, \"total_meja\": 0, \"tip_of_stem_broken\": 0, \"infested\": 0, \"total_number_adults\": 0, \"main_stem_length_in_cm\": 70.0}, {\"stem_diam_bottom_in_cm\": 0.21, \"diam_top_in_cm\": 0.18, \"side_branches_in_cm\": 60.23, \"total_meja\": 0, \"tip_of_stem_broken\": 0, \"infested\": 0, \"total_number_adults\": 0, \"main_stem_length_in_cm\": 19.0}, {\"stem_diam_bottom_in_cm\": 0.63, \"diam_top_in_cm\": 0.18, \"side_branches_in_cm\": 60.23, \"total_meja\": 14, \"tip_of_stem_broken\": 0, \"infested\": 1, \"total_number_adults\": 0, \"main_stem_length_in_cm\": 99.0}, {\"stem_diam_bottom_in_cm\": 1.05, \"diam_top_in_cm\": 0.18, \"side_branches_in_cm\": 60.23, \"total_meja\": 2, \"tip_of_stem_broken\": 1, \"infested\": 1, \"total_number_adults\": 0, \"main_stem_length_in_cm\": 99.0}, {\"stem_diam_bottom_in_cm\": 0.36, \"diam_top_in_cm\": 0.18, \"side_branches_in_cm\": 60.23, \"total_meja\": 0, \"tip_of_stem_broken\": 0, \"infested\": 0, \"total_number_adults\": 0, \"main_stem_length_in_cm\": 83.0}, {\"stem_diam_bottom_in_cm\": 0.88, \"diam_top_in_cm\": 0.26, \"side_branches_in_cm\": 60.23, \"total_meja\": 0, \"tip_of_stem_broken\": 1, \"infested\": 0, \"total_number_adults\": 0, \"main_stem_length_in_cm\": 82.0}, {\"stem_diam_bottom_in_cm\": 0.4, \"diam_top_in_cm\": 0.18, \"side_branches_in_cm\": 60.23, \"total_meja\": 2, \"tip_of_stem_broken\": 1, \"infested\": 1, \"total_number_adults\": 0, \"main_stem_length_in_cm\": 34.0}, {\"stem_diam_bottom_in_cm\": 0.24, \"diam_top_in_cm\": 0.18, \"side_branches_in_cm\": 60.23, \"total_meja\": 0, \"tip_of_stem_broken\": 0, \"infested\": 0, \"total_number_adults\": 0, \"main_stem_length_in_cm\": 9.5}, {\"stem_diam_bottom_in_cm\": 0.49, \"diam_top_in_cm\": 0.18, \"side_branches_in_cm\": 60.23, \"total_meja\": 1, \"tip_of_stem_broken\": 0, \"infested\": 1, \"total_number_adults\": 0, \"main_stem_length_in_cm\": 65.0}, {\"stem_diam_bottom_in_cm\": 0.62, \"diam_top_in_cm\": 0.18, \"side_branches_in_cm\": 60.23, \"total_meja\": 8, \"tip_of_stem_broken\": 0, \"infested\": 1, \"total_number_adults\": 1, \"main_stem_length_in_cm\": 87.0}, {\"stem_diam_bottom_in_cm\": 0.27, \"diam_top_in_cm\": 0.06, \"side_branches_in_cm\": 60.23, \"total_meja\": 0, \"tip_of_stem_broken\": 0, \"infested\": 0, \"total_number_adults\": 0, \"main_stem_length_in_cm\": 48.0}, {\"stem_diam_bottom_in_cm\": 0.56, \"diam_top_in_cm\": 0.18, \"side_branches_in_cm\": 60.23, \"total_meja\": 0, \"tip_of_stem_broken\": 0, \"infested\": 0, \"total_number_adults\": 0, \"main_stem_length_in_cm\": 99.0}, {\"stem_diam_bottom_in_cm\": 0.29, \"diam_top_in_cm\": 0.18, \"side_branches_in_cm\": 60.23, \"total_meja\": 0, \"tip_of_stem_broken\": 1, \"infested\": 0, \"total_number_adults\": 0, \"main_stem_length_in_cm\": 22.0}, {\"stem_diam_bottom_in_cm\": 0.42, \"diam_top_in_cm\": 0.18, \"side_branches_in_cm\": 60.23, \"total_meja\": 8, \"tip_of_stem_broken\": 0, \"infested\": 1, \"total_number_adults\": 1, \"main_stem_length_in_cm\": 61.0}, {\"stem_diam_bottom_in_cm\": 0.44, \"diam_top_in_cm\": 0.18, \"side_branches_in_cm\": 60.23, \"total_meja\": 33, \"tip_of_stem_broken\": 0, \"infested\": 1, \"total_number_adults\": 4, \"main_stem_length_in_cm\": 73.0}, {\"stem_diam_bottom_in_cm\": 0.17, \"diam_top_in_cm\": 0.18, \"side_branches_in_cm\": 60.23, \"total_meja\": 0, \"tip_of_stem_broken\": 0, \"infested\": 0, \"total_number_adults\": 0, \"main_stem_length_in_cm\": 8.5}, {\"stem_diam_bottom_in_cm\": 0.31, \"diam_top_in_cm\": 0.18, \"side_branches_in_cm\": 60.23, \"total_meja\": 0, \"tip_of_stem_broken\": 1, \"infested\": 0, \"total_number_adults\": 0, \"main_stem_length_in_cm\": 42.0}, {\"stem_diam_bottom_in_cm\": 0.32, \"diam_top_in_cm\": 0.05, \"side_branches_in_cm\": 60.23, \"total_meja\": 0, \"tip_of_stem_broken\": 0, \"infested\": 0, \"total_number_adults\": 0, \"main_stem_length_in_cm\": 75.0}, {\"stem_diam_bottom_in_cm\": 0.77, \"diam_top_in_cm\": 0.18, \"side_branches_in_cm\": 60.23, \"total_meja\": 6, \"tip_of_stem_broken\": 1, \"infested\": 1, \"total_number_adults\": 0, \"main_stem_length_in_cm\": 54.0}, {\"stem_diam_bottom_in_cm\": 0.52, \"diam_top_in_cm\": 0.24, \"side_branches_in_cm\": 60.23, \"total_meja\": 35, \"tip_of_stem_broken\": 1, \"infested\": 1, \"total_number_adults\": 34, \"main_stem_length_in_cm\": 45.0}, {\"stem_diam_bottom_in_cm\": 0.42, \"diam_top_in_cm\": 0.08, \"side_branches_in_cm\": 60.23, \"total_meja\": 4, \"tip_of_stem_broken\": 0, \"infested\": 1, \"total_number_adults\": 4, \"main_stem_length_in_cm\": 62.0}, {\"stem_diam_bottom_in_cm\": 0.28, \"diam_top_in_cm\": 0.05, \"side_branches_in_cm\": 60.23, \"total_meja\": 1, \"tip_of_stem_broken\": 1, \"infested\": 1, \"total_number_adults\": 1, \"main_stem_length_in_cm\": 49.0}, {\"stem_diam_bottom_in_cm\": 0.61, \"diam_top_in_cm\": 0.25, \"side_branches_in_cm\": 60.23, \"total_meja\": 23, \"tip_of_stem_broken\": 1, \"infested\": 1, \"total_number_adults\": 9, \"main_stem_length_in_cm\": 49.0}, {\"stem_diam_bottom_in_cm\": 0.53, \"diam_top_in_cm\": 0.12, \"side_branches_in_cm\": 60.23, \"total_meja\": 1, \"tip_of_stem_broken\": 0, \"infested\": 1, \"total_number_adults\": 1, \"main_stem_length_in_cm\": 67.0}, {\"stem_diam_bottom_in_cm\": 0.56, \"diam_top_in_cm\": 0.18, \"side_branches_in_cm\": 60.23, \"total_meja\": 8, \"tip_of_stem_broken\": 0, \"infested\": 1, \"total_number_adults\": 0, \"main_stem_length_in_cm\": 33.0}, {\"stem_diam_bottom_in_cm\": 0.7, \"diam_top_in_cm\": 0.18, \"side_branches_in_cm\": 60.23, \"total_meja\": 0, \"tip_of_stem_broken\": 0, \"infested\": 0, \"total_number_adults\": 0, \"main_stem_length_in_cm\": 91.0}, {\"stem_diam_bottom_in_cm\": 0.48, \"diam_top_in_cm\": 0.18, \"side_branches_in_cm\": 60.23, \"total_meja\": 0, \"tip_of_stem_broken\": 0, \"infested\": 0, \"total_number_adults\": 0, \"main_stem_length_in_cm\": 49.0}, {\"stem_diam_bottom_in_cm\": 0.22, \"diam_top_in_cm\": 0.18, \"side_branches_in_cm\": 60.23, \"total_meja\": 0, \"tip_of_stem_broken\": 0, \"infested\": 0, \"total_number_adults\": 0, \"main_stem_length_in_cm\": 12.0}, {\"stem_diam_bottom_in_cm\": 0.36, \"diam_top_in_cm\": 0.18, \"side_branches_in_cm\": 60.23, \"total_meja\": 0, \"tip_of_stem_broken\": 1, \"infested\": 0, \"total_number_adults\": 0, \"main_stem_length_in_cm\": 36.0}, {\"stem_diam_bottom_in_cm\": 0.79, \"diam_top_in_cm\": 0.21, \"side_branches_in_cm\": 60.23, \"total_meja\": 0, \"tip_of_stem_broken\": 1, \"infested\": 0, \"total_number_adults\": 0, \"main_stem_length_in_cm\": 80.0}, {\"stem_diam_bottom_in_cm\": 0.8, \"diam_top_in_cm\": 0.4, \"side_branches_in_cm\": 60.23, \"total_meja\": 0, \"tip_of_stem_broken\": 1, \"infested\": 0, \"total_number_adults\": 0, \"main_stem_length_in_cm\": 52.0}, {\"stem_diam_bottom_in_cm\": 0.38, \"diam_top_in_cm\": 0.18, \"side_branches_in_cm\": 60.23, \"total_meja\": 0, \"tip_of_stem_broken\": 0, \"infested\": 0, \"total_number_adults\": 0, \"main_stem_length_in_cm\": 72.0}, {\"stem_diam_bottom_in_cm\": 0.94, \"diam_top_in_cm\": 0.18, \"side_branches_in_cm\": 60.23, \"total_meja\": 60, \"tip_of_stem_broken\": 0, \"infested\": 1, \"total_number_adults\": 6, \"main_stem_length_in_cm\": 87.0}, {\"stem_diam_bottom_in_cm\": 0.68, \"diam_top_in_cm\": 0.05, \"side_branches_in_cm\": 60.23, \"total_meja\": 0, \"tip_of_stem_broken\": 0, \"infested\": 0, \"total_number_adults\": 0, \"main_stem_length_in_cm\": 92.0}, {\"stem_diam_bottom_in_cm\": 0.56, \"diam_top_in_cm\": 0.18, \"side_branches_in_cm\": 60.23, \"total_meja\": 5, \"tip_of_stem_broken\": 0, \"infested\": 1, \"total_number_adults\": 0, \"main_stem_length_in_cm\": 72.0}, {\"stem_diam_bottom_in_cm\": 0.82, \"diam_top_in_cm\": 0.18, \"side_branches_in_cm\": 110.0, \"total_meja\": 0, \"tip_of_stem_broken\": 1, \"infested\": 0, \"total_number_adults\": 0, \"main_stem_length_in_cm\": 32.0}, {\"stem_diam_bottom_in_cm\": 0.65, \"diam_top_in_cm\": 0.18, \"side_branches_in_cm\": 60.23, \"total_meja\": 9, \"tip_of_stem_broken\": 0, \"infested\": 1, \"total_number_adults\": 0, \"main_stem_length_in_cm\": 75.0}, {\"stem_diam_bottom_in_cm\": 0.33, \"diam_top_in_cm\": 0.07, \"side_branches_in_cm\": 60.23, \"total_meja\": 10, \"tip_of_stem_broken\": 0, \"infested\": 1, \"total_number_adults\": 10, \"main_stem_length_in_cm\": 34.0}, {\"stem_diam_bottom_in_cm\": 0.93, \"diam_top_in_cm\": 0.25, \"side_branches_in_cm\": 60.23, \"total_meja\": 0, \"tip_of_stem_broken\": 1, \"infested\": 0, \"total_number_adults\": 0, \"main_stem_length_in_cm\": 98.0}, {\"stem_diam_bottom_in_cm\": 0.76, \"diam_top_in_cm\": 0.18, \"side_branches_in_cm\": 60.23, \"total_meja\": 0, \"tip_of_stem_broken\": 1, \"infested\": 0, \"total_number_adults\": 0, \"main_stem_length_in_cm\": 50.0}, {\"stem_diam_bottom_in_cm\": 0.38, \"diam_top_in_cm\": 0.16, \"side_branches_in_cm\": 60.23, \"total_meja\": 0, \"tip_of_stem_broken\": 1, \"infested\": 0, \"total_number_adults\": 0, \"main_stem_length_in_cm\": 61.0}, {\"stem_diam_bottom_in_cm\": 0.62, \"diam_top_in_cm\": 0.18, \"side_branches_in_cm\": 60.23, \"total_meja\": 0, \"tip_of_stem_broken\": 0, \"infested\": 0, \"total_number_adults\": 0, \"main_stem_length_in_cm\": 114.0}, {\"stem_diam_bottom_in_cm\": 0.82, \"diam_top_in_cm\": 0.2, \"side_branches_in_cm\": 60.23, \"total_meja\": 12, \"tip_of_stem_broken\": 1, \"infested\": 1, \"total_number_adults\": 10, \"main_stem_length_in_cm\": 39.0}, {\"stem_diam_bottom_in_cm\": 0.64, \"diam_top_in_cm\": 0.15, \"side_branches_in_cm\": 60.23, \"total_meja\": 20, \"tip_of_stem_broken\": 0, \"infested\": 1, \"total_number_adults\": 16, \"main_stem_length_in_cm\": 48.0}, {\"stem_diam_bottom_in_cm\": 0.56, \"diam_top_in_cm\": 0.24, \"side_branches_in_cm\": 60.23, \"total_meja\": 5, \"tip_of_stem_broken\": 1, \"infested\": 1, \"total_number_adults\": 3, \"main_stem_length_in_cm\": 47.0}, {\"stem_diam_bottom_in_cm\": 0.38, \"diam_top_in_cm\": 0.05, \"side_branches_in_cm\": 60.23, \"total_meja\": 9, \"tip_of_stem_broken\": 0, \"infested\": 1, \"total_number_adults\": 9, \"main_stem_length_in_cm\": 78.0}, {\"stem_diam_bottom_in_cm\": 0.92, \"diam_top_in_cm\": 0.18, \"side_branches_in_cm\": 30.0, \"total_meja\": 0, \"tip_of_stem_broken\": 1, \"infested\": 0, \"total_number_adults\": 0, \"main_stem_length_in_cm\": 67.0}, {\"stem_diam_bottom_in_cm\": 0.74, \"diam_top_in_cm\": 0.18, \"side_branches_in_cm\": 60.23, \"total_meja\": 6, \"tip_of_stem_broken\": 1, \"infested\": 1, \"total_number_adults\": 0, \"main_stem_length_in_cm\": 77.0}, {\"stem_diam_bottom_in_cm\": 0.36, \"diam_top_in_cm\": 0.18, \"side_branches_in_cm\": 60.23, \"total_meja\": 0, \"tip_of_stem_broken\": 0, \"infested\": 0, \"total_number_adults\": 0, \"main_stem_length_in_cm\": 69.0}, {\"stem_diam_bottom_in_cm\": 0.62, \"diam_top_in_cm\": 0.18, \"side_branches_in_cm\": 60.23, \"total_meja\": 0, \"tip_of_stem_broken\": 0, \"infested\": 0, \"total_number_adults\": 0, \"main_stem_length_in_cm\": 55.0}, {\"stem_diam_bottom_in_cm\": 0.39, \"diam_top_in_cm\": 0.04, \"side_branches_in_cm\": 60.23, \"total_meja\": 7, \"tip_of_stem_broken\": 0, \"infested\": 1, \"total_number_adults\": 7, \"main_stem_length_in_cm\": 64.0}, {\"stem_diam_bottom_in_cm\": 0.75, \"diam_top_in_cm\": 0.17, \"side_branches_in_cm\": 60.23, \"total_meja\": 1, \"tip_of_stem_broken\": 1, \"infested\": 1, \"total_number_adults\": 0, \"main_stem_length_in_cm\": 67.0}, {\"stem_diam_bottom_in_cm\": 0.21, \"diam_top_in_cm\": 0.18, \"side_branches_in_cm\": 60.23, \"total_meja\": 0, \"tip_of_stem_broken\": 0, \"infested\": 0, \"total_number_adults\": 0, \"main_stem_length_in_cm\": 13.0}, {\"stem_diam_bottom_in_cm\": 0.43, \"diam_top_in_cm\": 0.09, \"side_branches_in_cm\": 60.23, \"total_meja\": 1, \"tip_of_stem_broken\": 0, \"infested\": 1, \"total_number_adults\": 1, \"main_stem_length_in_cm\": 88.0}, {\"stem_diam_bottom_in_cm\": 0.63, \"diam_top_in_cm\": 0.18, \"side_branches_in_cm\": 49.0, \"total_meja\": 0, \"tip_of_stem_broken\": 0, \"infested\": 0, \"total_number_adults\": 0, \"main_stem_length_in_cm\": 91.0}, {\"stem_diam_bottom_in_cm\": 0.72, \"diam_top_in_cm\": 0.18, \"side_branches_in_cm\": 60.23, \"total_meja\": 0, \"tip_of_stem_broken\": 0, \"infested\": 0, \"total_number_adults\": 0, \"main_stem_length_in_cm\": 77.0}, {\"stem_diam_bottom_in_cm\": 0.16, \"diam_top_in_cm\": 0.18, \"side_branches_in_cm\": 60.23, \"total_meja\": 0, \"tip_of_stem_broken\": 0, \"infested\": 0, \"total_number_adults\": 0, \"main_stem_length_in_cm\": 11.5}, {\"stem_diam_bottom_in_cm\": 0.54, \"diam_top_in_cm\": 0.18, \"side_branches_in_cm\": 117.0, \"total_meja\": 0, \"tip_of_stem_broken\": 0, \"infested\": 0, \"total_number_adults\": 0, \"main_stem_length_in_cm\": 53.0}, {\"stem_diam_bottom_in_cm\": 0.45, \"diam_top_in_cm\": 0.16, \"side_branches_in_cm\": 60.23, \"total_meja\": 26, \"tip_of_stem_broken\": 1, \"infested\": 1, \"total_number_adults\": 25, \"main_stem_length_in_cm\": 43.0}, {\"stem_diam_bottom_in_cm\": 0.18, \"diam_top_in_cm\": 0.18, \"side_branches_in_cm\": 60.23, \"total_meja\": 0, \"tip_of_stem_broken\": 0, \"infested\": 0, \"total_number_adults\": 0, \"main_stem_length_in_cm\": 8.0}, {\"stem_diam_bottom_in_cm\": 0.2, \"diam_top_in_cm\": 0.18, \"side_branches_in_cm\": 60.23, \"total_meja\": 0, \"tip_of_stem_broken\": 0, \"infested\": 0, \"total_number_adults\": 0, \"main_stem_length_in_cm\": 15.5}, {\"stem_diam_bottom_in_cm\": 0.55, \"diam_top_in_cm\": 0.18, \"side_branches_in_cm\": 60.23, \"total_meja\": 31, \"tip_of_stem_broken\": 0, \"infested\": 1, \"total_number_adults\": 6, \"main_stem_length_in_cm\": 60.0}, {\"stem_diam_bottom_in_cm\": 0.64, \"diam_top_in_cm\": 0.18, \"side_branches_in_cm\": 60.23, \"total_meja\": 2, \"tip_of_stem_broken\": 0, \"infested\": 1, \"total_number_adults\": 0, \"main_stem_length_in_cm\": 80.0}, {\"stem_diam_bottom_in_cm\": 0.64, \"diam_top_in_cm\": 0.76, \"side_branches_in_cm\": 60.23, \"total_meja\": 20, \"tip_of_stem_broken\": 1, \"infested\": 1, \"total_number_adults\": 0, \"main_stem_length_in_cm\": 77.0}, {\"stem_diam_bottom_in_cm\": 0.34, \"diam_top_in_cm\": 0.16, \"side_branches_in_cm\": 60.23, \"total_meja\": 24, \"tip_of_stem_broken\": 1, \"infested\": 1, \"total_number_adults\": 24, \"main_stem_length_in_cm\": 37.0}, {\"stem_diam_bottom_in_cm\": 0.38, \"diam_top_in_cm\": 0.18, \"side_branches_in_cm\": 60.23, \"total_meja\": 0, \"tip_of_stem_broken\": 1, \"infested\": 0, \"total_number_adults\": 0, \"main_stem_length_in_cm\": 27.0}, {\"stem_diam_bottom_in_cm\": 0.34, \"diam_top_in_cm\": 0.18, \"side_branches_in_cm\": 60.23, \"total_meja\": 0, \"tip_of_stem_broken\": 1, \"infested\": 0, \"total_number_adults\": 0, \"main_stem_length_in_cm\": 29.0}, {\"stem_diam_bottom_in_cm\": 0.47, \"diam_top_in_cm\": 0.18, \"side_branches_in_cm\": 60.23, \"total_meja\": 0, \"tip_of_stem_broken\": 0, \"infested\": 0, \"total_number_adults\": 0, \"main_stem_length_in_cm\": 65.0}, {\"stem_diam_bottom_in_cm\": 0.3, \"diam_top_in_cm\": 0.09, \"side_branches_in_cm\": 60.23, \"total_meja\": 2, \"tip_of_stem_broken\": 0, \"infested\": 1, \"total_number_adults\": 2, \"main_stem_length_in_cm\": 39.0}, {\"stem_diam_bottom_in_cm\": 0.51, \"diam_top_in_cm\": 0.18, \"side_branches_in_cm\": 13.0, \"total_meja\": 0, \"tip_of_stem_broken\": 1, \"infested\": 0, \"total_number_adults\": 0, \"main_stem_length_in_cm\": 55.0}, {\"stem_diam_bottom_in_cm\": 0.34, \"diam_top_in_cm\": 0.04, \"side_branches_in_cm\": 60.23, \"total_meja\": 0, \"tip_of_stem_broken\": 0, \"infested\": 0, \"total_number_adults\": 0, \"main_stem_length_in_cm\": 68.0}, {\"stem_diam_bottom_in_cm\": 0.24, \"diam_top_in_cm\": 0.18, \"side_branches_in_cm\": 60.23, \"total_meja\": 0, \"tip_of_stem_broken\": 0, \"infested\": 0, \"total_number_adults\": 0, \"main_stem_length_in_cm\": 12.5}, {\"stem_diam_bottom_in_cm\": 0.79, \"diam_top_in_cm\": 0.18, \"side_branches_in_cm\": 60.23, \"total_meja\": 0, \"tip_of_stem_broken\": 1, \"infested\": 0, \"total_number_adults\": 0, \"main_stem_length_in_cm\": 59.0}, {\"stem_diam_bottom_in_cm\": 0.34, \"diam_top_in_cm\": 0.12, \"side_branches_in_cm\": 60.23, \"total_meja\": 12, \"tip_of_stem_broken\": 0, \"infested\": 1, \"total_number_adults\": 12, \"main_stem_length_in_cm\": 27.0}, {\"stem_diam_bottom_in_cm\": 0.25, \"diam_top_in_cm\": 0.18, \"side_branches_in_cm\": 60.23, \"total_meja\": 0, \"tip_of_stem_broken\": 0, \"infested\": 0, \"total_number_adults\": 0, \"main_stem_length_in_cm\": 14.5}, {\"stem_diam_bottom_in_cm\": 0.31, \"diam_top_in_cm\": 0.18, \"side_branches_in_cm\": 60.23, \"total_meja\": 0, \"tip_of_stem_broken\": 1, \"infested\": 0, \"total_number_adults\": 0, \"main_stem_length_in_cm\": 36.0}, {\"stem_diam_bottom_in_cm\": 0.4, \"diam_top_in_cm\": 0.15, \"side_branches_in_cm\": 60.23, \"total_meja\": 16, \"tip_of_stem_broken\": 1, \"infested\": 1, \"total_number_adults\": 3, \"main_stem_length_in_cm\": 29.0}, {\"stem_diam_bottom_in_cm\": 0.42, \"diam_top_in_cm\": 0.18, \"side_branches_in_cm\": 60.23, \"total_meja\": 0, \"tip_of_stem_broken\": 0, \"infested\": 0, \"total_number_adults\": 0, \"main_stem_length_in_cm\": 71.0}, {\"stem_diam_bottom_in_cm\": 0.46, \"diam_top_in_cm\": 0.18, \"side_branches_in_cm\": 60.23, \"total_meja\": 0, \"tip_of_stem_broken\": 0, \"infested\": 0, \"total_number_adults\": 0, \"main_stem_length_in_cm\": 74.0}, {\"stem_diam_bottom_in_cm\": 0.47, \"diam_top_in_cm\": 0.18, \"side_branches_in_cm\": 60.23, \"total_meja\": 0, \"tip_of_stem_broken\": 0, \"infested\": 0, \"total_number_adults\": 0, \"main_stem_length_in_cm\": 81.0}, {\"stem_diam_bottom_in_cm\": 0.62, \"diam_top_in_cm\": 0.11, \"side_branches_in_cm\": 60.23, \"total_meja\": 9, \"tip_of_stem_broken\": 0, \"infested\": 1, \"total_number_adults\": 9, \"main_stem_length_in_cm\": 57.5}, {\"stem_diam_bottom_in_cm\": 0.54, \"diam_top_in_cm\": 0.18, \"side_branches_in_cm\": 60.23, \"total_meja\": 3, \"tip_of_stem_broken\": 0, \"infested\": 1, \"total_number_adults\": 0, \"main_stem_length_in_cm\": 57.0}, {\"stem_diam_bottom_in_cm\": 0.57, \"diam_top_in_cm\": 0.18, \"side_branches_in_cm\": 60.23, \"total_meja\": 0, \"tip_of_stem_broken\": 1, \"infested\": 0, \"total_number_adults\": 0, \"main_stem_length_in_cm\": 47.0}, {\"stem_diam_bottom_in_cm\": 0.27, \"diam_top_in_cm\": 0.18, \"side_branches_in_cm\": 60.23, \"total_meja\": 0, \"tip_of_stem_broken\": 1, \"infested\": 0, \"total_number_adults\": 0, \"main_stem_length_in_cm\": 42.0}, {\"stem_diam_bottom_in_cm\": 0.17, \"diam_top_in_cm\": 0.18, \"side_branches_in_cm\": 60.23, \"total_meja\": 0, \"tip_of_stem_broken\": 0, \"infested\": 0, \"total_number_adults\": 0, \"main_stem_length_in_cm\": 13.0}, {\"stem_diam_bottom_in_cm\": 0.38, \"diam_top_in_cm\": 0.09, \"side_branches_in_cm\": 60.23, \"total_meja\": 0, \"tip_of_stem_broken\": 1, \"infested\": 0, \"total_number_adults\": 0, \"main_stem_length_in_cm\": 53.0}, {\"stem_diam_bottom_in_cm\": 0.21, \"diam_top_in_cm\": 0.18, \"side_branches_in_cm\": 60.23, \"total_meja\": 0, \"tip_of_stem_broken\": 0, \"infested\": 0, \"total_number_adults\": 0, \"main_stem_length_in_cm\": 18.0}, {\"stem_diam_bottom_in_cm\": 0.96, \"diam_top_in_cm\": 0.18, \"side_branches_in_cm\": 60.23, \"total_meja\": 0, \"tip_of_stem_broken\": 0, \"infested\": 0, \"total_number_adults\": 0, \"main_stem_length_in_cm\": 135.0}, {\"stem_diam_bottom_in_cm\": 0.2, \"diam_top_in_cm\": 0.18, \"side_branches_in_cm\": 60.23, \"total_meja\": 0, \"tip_of_stem_broken\": 0, \"infested\": 0, \"total_number_adults\": 0, \"main_stem_length_in_cm\": 6.0}, {\"stem_diam_bottom_in_cm\": 0.35, \"diam_top_in_cm\": 0.18, \"side_branches_in_cm\": 60.23, \"total_meja\": 0, \"tip_of_stem_broken\": 0, \"infested\": 0, \"total_number_adults\": 0, \"main_stem_length_in_cm\": 68.0}, {\"stem_diam_bottom_in_cm\": 0.31, \"diam_top_in_cm\": 0.18, \"side_branches_in_cm\": 60.23, \"total_meja\": 3, \"tip_of_stem_broken\": 0, \"infested\": 1, \"total_number_adults\": 0, \"main_stem_length_in_cm\": 46.0}, {\"stem_diam_bottom_in_cm\": 0.75, \"diam_top_in_cm\": 0.18, \"side_branches_in_cm\": 87.0, \"total_meja\": 0, \"tip_of_stem_broken\": 1, \"infested\": 0, \"total_number_adults\": 0, \"main_stem_length_in_cm\": 32.0}, {\"stem_diam_bottom_in_cm\": 0.72, \"diam_top_in_cm\": 0.08, \"side_branches_in_cm\": 60.23, \"total_meja\": 1, \"tip_of_stem_broken\": 0, \"infested\": 1, \"total_number_adults\": 1, \"main_stem_length_in_cm\": 42.0}, {\"stem_diam_bottom_in_cm\": 0.44, \"diam_top_in_cm\": 0.09, \"side_branches_in_cm\": 60.23, \"total_meja\": 0, \"tip_of_stem_broken\": 1, \"infested\": 0, \"total_number_adults\": 0, \"main_stem_length_in_cm\": 46.0}, {\"stem_diam_bottom_in_cm\": 0.64, \"diam_top_in_cm\": 0.18, \"side_branches_in_cm\": 60.23, \"total_meja\": 0, \"tip_of_stem_broken\": 1, \"infested\": 0, \"total_number_adults\": 0, \"main_stem_length_in_cm\": 47.0}, {\"stem_diam_bottom_in_cm\": 0.42, \"diam_top_in_cm\": 0.18, \"side_branches_in_cm\": 59.0, \"total_meja\": 0, \"tip_of_stem_broken\": 1, \"infested\": 0, \"total_number_adults\": 0, \"main_stem_length_in_cm\": 35.0}, {\"stem_diam_bottom_in_cm\": 0.75, \"diam_top_in_cm\": 0.62, \"side_branches_in_cm\": 60.23, \"total_meja\": 5, \"tip_of_stem_broken\": 1, \"infested\": 1, \"total_number_adults\": 2, \"main_stem_length_in_cm\": 38.0}, {\"stem_diam_bottom_in_cm\": 0.56, \"diam_top_in_cm\": 0.18, \"side_branches_in_cm\": 60.23, \"total_meja\": 8, \"tip_of_stem_broken\": 0, \"infested\": 1, \"total_number_adults\": 0, \"main_stem_length_in_cm\": 60.0}, {\"stem_diam_bottom_in_cm\": 0.57, \"diam_top_in_cm\": 0.18, \"side_branches_in_cm\": 60.23, \"total_meja\": 0, \"tip_of_stem_broken\": 0, \"infested\": 0, \"total_number_adults\": 0, \"main_stem_length_in_cm\": 83.0}, {\"stem_diam_bottom_in_cm\": 0.5, \"diam_top_in_cm\": 0.05, \"side_branches_in_cm\": 60.23, \"total_meja\": 0, \"tip_of_stem_broken\": 0, \"infested\": 0, \"total_number_adults\": 0, \"main_stem_length_in_cm\": 63.0}, {\"stem_diam_bottom_in_cm\": 0.71, \"diam_top_in_cm\": 0.18, \"side_branches_in_cm\": 155.0, \"total_meja\": 0, \"tip_of_stem_broken\": 1, \"infested\": 0, \"total_number_adults\": 0, \"main_stem_length_in_cm\": 34.0}, {\"stem_diam_bottom_in_cm\": 0.5, \"diam_top_in_cm\": 0.18, \"side_branches_in_cm\": 60.23, \"total_meja\": 0, \"tip_of_stem_broken\": 1, \"infested\": 0, \"total_number_adults\": 0, \"main_stem_length_in_cm\": 73.0}, {\"stem_diam_bottom_in_cm\": 0.61, \"diam_top_in_cm\": 0.03, \"side_branches_in_cm\": 60.23, \"total_meja\": 0, \"tip_of_stem_broken\": 0, \"infested\": 0, \"total_number_adults\": 0, \"main_stem_length_in_cm\": 95.0}, {\"stem_diam_bottom_in_cm\": 0.48, \"diam_top_in_cm\": 0.15, \"side_branches_in_cm\": 60.23, \"total_meja\": 0, \"tip_of_stem_broken\": 1, \"infested\": 0, \"total_number_adults\": 0, \"main_stem_length_in_cm\": 62.0}, {\"stem_diam_bottom_in_cm\": 0.46, \"diam_top_in_cm\": 0.18, \"side_branches_in_cm\": 129.0, \"total_meja\": 0, \"tip_of_stem_broken\": 1, \"infested\": 0, \"total_number_adults\": 0, \"main_stem_length_in_cm\": 16.0}, {\"stem_diam_bottom_in_cm\": 0.5, \"diam_top_in_cm\": 0.18, \"side_branches_in_cm\": 60.23, \"total_meja\": 0, \"tip_of_stem_broken\": 1, \"infested\": 0, \"total_number_adults\": 0, \"main_stem_length_in_cm\": 63.0}, {\"stem_diam_bottom_in_cm\": 0.78, \"diam_top_in_cm\": 0.26, \"side_branches_in_cm\": 60.23, \"total_meja\": 21, \"tip_of_stem_broken\": 1, \"infested\": 1, \"total_number_adults\": 17, \"main_stem_length_in_cm\": 64.0}, {\"stem_diam_bottom_in_cm\": 0.35, \"diam_top_in_cm\": 0.18, \"side_branches_in_cm\": 60.23, \"total_meja\": 0, \"tip_of_stem_broken\": 1, \"infested\": 0, \"total_number_adults\": 0, \"main_stem_length_in_cm\": 30.0}, {\"stem_diam_bottom_in_cm\": 0.31, \"diam_top_in_cm\": 0.18, \"side_branches_in_cm\": 60.23, \"total_meja\": 0, \"tip_of_stem_broken\": 0, \"infested\": 0, \"total_number_adults\": 0, \"main_stem_length_in_cm\": 14.5}, {\"stem_diam_bottom_in_cm\": 0.41, \"diam_top_in_cm\": 0.18, \"side_branches_in_cm\": 60.23, \"total_meja\": 0, \"tip_of_stem_broken\": 1, \"infested\": 0, \"total_number_adults\": 0, \"main_stem_length_in_cm\": 33.0}, {\"stem_diam_bottom_in_cm\": 0.47, \"diam_top_in_cm\": 0.18, \"side_branches_in_cm\": 60.23, \"total_meja\": 25, \"tip_of_stem_broken\": 0, \"infested\": 1, \"total_number_adults\": 1, \"main_stem_length_in_cm\": 58.0}, {\"stem_diam_bottom_in_cm\": 0.68, \"diam_top_in_cm\": 0.18, \"side_branches_in_cm\": 60.23, \"total_meja\": 0, \"tip_of_stem_broken\": 1, \"infested\": 0, \"total_number_adults\": 0, \"main_stem_length_in_cm\": 52.0}, {\"stem_diam_bottom_in_cm\": 0.74, \"diam_top_in_cm\": 0.14, \"side_branches_in_cm\": 60.23, \"total_meja\": 0, \"tip_of_stem_broken\": 1, \"infested\": 0, \"total_number_adults\": 0, \"main_stem_length_in_cm\": 69.0}, {\"stem_diam_bottom_in_cm\": 0.39, \"diam_top_in_cm\": 0.18, \"side_branches_in_cm\": 60.23, \"total_meja\": 4, \"tip_of_stem_broken\": 0, \"infested\": 1, \"total_number_adults\": 0, \"main_stem_length_in_cm\": 45.0}, {\"stem_diam_bottom_in_cm\": 0.8, \"diam_top_in_cm\": 0.18, \"side_branches_in_cm\": 60.23, \"total_meja\": 0, \"tip_of_stem_broken\": 0, \"infested\": 0, \"total_number_adults\": 0, \"main_stem_length_in_cm\": 97.0}, {\"stem_diam_bottom_in_cm\": 0.4, \"diam_top_in_cm\": 0.11, \"side_branches_in_cm\": 60.23, \"total_meja\": 5, \"tip_of_stem_broken\": 0, \"infested\": 1, \"total_number_adults\": 4, \"main_stem_length_in_cm\": 32.0}, {\"stem_diam_bottom_in_cm\": 0.24, \"diam_top_in_cm\": 0.18, \"side_branches_in_cm\": 60.23, \"total_meja\": 0, \"tip_of_stem_broken\": 0, \"infested\": 0, \"total_number_adults\": 0, \"main_stem_length_in_cm\": 10.0}, {\"stem_diam_bottom_in_cm\": 0.66, \"diam_top_in_cm\": 0.13, \"side_branches_in_cm\": 60.23, \"total_meja\": 0, \"tip_of_stem_broken\": 1, \"infested\": 0, \"total_number_adults\": 0, \"main_stem_length_in_cm\": 79.0}, {\"stem_diam_bottom_in_cm\": 0.46, \"diam_top_in_cm\": 0.18, \"side_branches_in_cm\": 60.23, \"total_meja\": 0, \"tip_of_stem_broken\": 0, \"infested\": 0, \"total_number_adults\": 0, \"main_stem_length_in_cm\": 54.0}, {\"stem_diam_bottom_in_cm\": 0.62, \"diam_top_in_cm\": 0.18, \"side_branches_in_cm\": 60.23, \"total_meja\": 0, \"tip_of_stem_broken\": 1, \"infested\": 0, \"total_number_adults\": 0, \"main_stem_length_in_cm\": 32.0}, {\"stem_diam_bottom_in_cm\": 0.68, \"diam_top_in_cm\": 0.23, \"side_branches_in_cm\": 60.23, \"total_meja\": 11, \"tip_of_stem_broken\": 1, \"infested\": 1, \"total_number_adults\": 7, \"main_stem_length_in_cm\": 61.0}, {\"stem_diam_bottom_in_cm\": 0.62, \"diam_top_in_cm\": 0.22, \"side_branches_in_cm\": 60.23, \"total_meja\": 1, \"tip_of_stem_broken\": 1, \"infested\": 1, \"total_number_adults\": 1, \"main_stem_length_in_cm\": 40.0}, {\"stem_diam_bottom_in_cm\": 0.33, \"diam_top_in_cm\": 0.07, \"side_branches_in_cm\": 60.23, \"total_meja\": 19, \"tip_of_stem_broken\": 0, \"infested\": 1, \"total_number_adults\": 19, \"main_stem_length_in_cm\": 37.0}, {\"stem_diam_bottom_in_cm\": 0.68, \"diam_top_in_cm\": 0.5, \"side_branches_in_cm\": 60.23, \"total_meja\": 6, \"tip_of_stem_broken\": 1, \"infested\": 1, \"total_number_adults\": 0, \"main_stem_length_in_cm\": 54.0}, {\"stem_diam_bottom_in_cm\": 0.44, \"diam_top_in_cm\": 0.18, \"side_branches_in_cm\": 60.23, \"total_meja\": 13, \"tip_of_stem_broken\": 0, \"infested\": 1, \"total_number_adults\": 0, \"main_stem_length_in_cm\": 37.0}, {\"stem_diam_bottom_in_cm\": 0.31, \"diam_top_in_cm\": 0.18, \"side_branches_in_cm\": 60.23, \"total_meja\": 0, \"tip_of_stem_broken\": 0, \"infested\": 0, \"total_number_adults\": 0, \"main_stem_length_in_cm\": 47.0}, {\"stem_diam_bottom_in_cm\": 0.37, \"diam_top_in_cm\": 0.36, \"side_branches_in_cm\": 60.23, \"total_meja\": 6, \"tip_of_stem_broken\": 1, \"infested\": 1, \"total_number_adults\": 0, \"main_stem_length_in_cm\": 18.0}, {\"stem_diam_bottom_in_cm\": 0.27, \"diam_top_in_cm\": 0.18, \"side_branches_in_cm\": 60.23, \"total_meja\": 0, \"tip_of_stem_broken\": 0, \"infested\": 0, \"total_number_adults\": 0, \"main_stem_length_in_cm\": 10.0}, {\"stem_diam_bottom_in_cm\": 0.33, \"diam_top_in_cm\": 0.18, \"side_branches_in_cm\": 60.23, \"total_meja\": 6, \"tip_of_stem_broken\": 0, \"infested\": 1, \"total_number_adults\": 0, \"main_stem_length_in_cm\": 30.0}, {\"stem_diam_bottom_in_cm\": 0.61, \"diam_top_in_cm\": 0.36, \"side_branches_in_cm\": 60.23, \"total_meja\": 18, \"tip_of_stem_broken\": 1, \"infested\": 1, \"total_number_adults\": 18, \"main_stem_length_in_cm\": 43.0}, {\"stem_diam_bottom_in_cm\": 0.29, \"diam_top_in_cm\": 0.18, \"side_branches_in_cm\": 60.23, \"total_meja\": 12, \"tip_of_stem_broken\": 0, \"infested\": 1, \"total_number_adults\": 3, \"main_stem_length_in_cm\": 39.0}, {\"stem_diam_bottom_in_cm\": 0.16, \"diam_top_in_cm\": 0.18, \"side_branches_in_cm\": 60.23, \"total_meja\": 0, \"tip_of_stem_broken\": 0, \"infested\": 0, \"total_number_adults\": 0, \"main_stem_length_in_cm\": 13.0}, {\"stem_diam_bottom_in_cm\": 0.3, \"diam_top_in_cm\": 0.18, \"side_branches_in_cm\": 60.23, \"total_meja\": 0, \"tip_of_stem_broken\": 1, \"infested\": 0, \"total_number_adults\": 0, \"main_stem_length_in_cm\": 40.0}, {\"stem_diam_bottom_in_cm\": 0.43, \"diam_top_in_cm\": 0.18, \"side_branches_in_cm\": 60.23, \"total_meja\": 10, \"tip_of_stem_broken\": 0, \"infested\": 1, \"total_number_adults\": 0, \"main_stem_length_in_cm\": 42.0}, {\"stem_diam_bottom_in_cm\": 0.64, \"diam_top_in_cm\": 0.26, \"side_branches_in_cm\": 60.23, \"total_meja\": 30, \"tip_of_stem_broken\": 1, \"infested\": 1, \"total_number_adults\": 30, \"main_stem_length_in_cm\": 59.0}, {\"stem_diam_bottom_in_cm\": 0.49, \"diam_top_in_cm\": 0.2, \"side_branches_in_cm\": 60.23, \"total_meja\": 5, \"tip_of_stem_broken\": 1, \"infested\": 1, \"total_number_adults\": 5, \"main_stem_length_in_cm\": 25.0}, {\"stem_diam_bottom_in_cm\": 0.23, \"diam_top_in_cm\": 0.18, \"side_branches_in_cm\": 60.23, \"total_meja\": 0, \"tip_of_stem_broken\": 0, \"infested\": 0, \"total_number_adults\": 0, \"main_stem_length_in_cm\": 11.5}, {\"stem_diam_bottom_in_cm\": 0.59, \"diam_top_in_cm\": 0.18, \"side_branches_in_cm\": 60.23, \"total_meja\": 4, \"tip_of_stem_broken\": 1, \"infested\": 1, \"total_number_adults\": 0, \"main_stem_length_in_cm\": 72.0}, {\"stem_diam_bottom_in_cm\": 0.69, \"diam_top_in_cm\": 0.18, \"side_branches_in_cm\": 60.23, \"total_meja\": 7, \"tip_of_stem_broken\": 0, \"infested\": 1, \"total_number_adults\": 1, \"main_stem_length_in_cm\": 73.0}, {\"stem_diam_bottom_in_cm\": 0.56, \"diam_top_in_cm\": 0.26, \"side_branches_in_cm\": 60.23, \"total_meja\": 8, \"tip_of_stem_broken\": 1, \"infested\": 1, \"total_number_adults\": 0, \"main_stem_length_in_cm\": 67.0}, {\"stem_diam_bottom_in_cm\": 0.43, \"diam_top_in_cm\": 0.18, \"side_branches_in_cm\": 60.23, \"total_meja\": 0, \"tip_of_stem_broken\": 1, \"infested\": 0, \"total_number_adults\": 0, \"main_stem_length_in_cm\": 52.0}, {\"stem_diam_bottom_in_cm\": 0.37, \"diam_top_in_cm\": 0.18, \"side_branches_in_cm\": 60.23, \"total_meja\": 0, \"tip_of_stem_broken\": 0, \"infested\": 0, \"total_number_adults\": 0, \"main_stem_length_in_cm\": 51.0}, {\"stem_diam_bottom_in_cm\": 0.43, \"diam_top_in_cm\": 0.1, \"side_branches_in_cm\": 60.23, \"total_meja\": 21, \"tip_of_stem_broken\": 0, \"infested\": 1, \"total_number_adults\": 19, \"main_stem_length_in_cm\": 26.5}, {\"stem_diam_bottom_in_cm\": 0.67, \"diam_top_in_cm\": 0.18, \"side_branches_in_cm\": 60.23, \"total_meja\": 26, \"tip_of_stem_broken\": 0, \"infested\": 1, \"total_number_adults\": 4, \"main_stem_length_in_cm\": 50.0}, {\"stem_diam_bottom_in_cm\": 0.21, \"diam_top_in_cm\": 0.18, \"side_branches_in_cm\": 60.23, \"total_meja\": 0, \"tip_of_stem_broken\": 0, \"infested\": 0, \"total_number_adults\": 0, \"main_stem_length_in_cm\": 19.0}, {\"stem_diam_bottom_in_cm\": 0.49, \"diam_top_in_cm\": 0.18, \"side_branches_in_cm\": 60.23, \"total_meja\": 0, \"tip_of_stem_broken\": 0, \"infested\": 0, \"total_number_adults\": 0, \"main_stem_length_in_cm\": 70.0}, {\"stem_diam_bottom_in_cm\": 0.18, \"diam_top_in_cm\": 0.18, \"side_branches_in_cm\": 60.23, \"total_meja\": 0, \"tip_of_stem_broken\": 0, \"infested\": 0, \"total_number_adults\": 0, \"main_stem_length_in_cm\": 14.0}, {\"stem_diam_bottom_in_cm\": 0.7, \"diam_top_in_cm\": 0.18, \"side_branches_in_cm\": 8.0, \"total_meja\": 0, \"tip_of_stem_broken\": 1, \"infested\": 0, \"total_number_adults\": 0, \"main_stem_length_in_cm\": 91.0}, {\"stem_diam_bottom_in_cm\": 0.51, \"diam_top_in_cm\": 0.18, \"side_branches_in_cm\": 60.23, \"total_meja\": 0, \"tip_of_stem_broken\": 1, \"infested\": 0, \"total_number_adults\": 0, \"main_stem_length_in_cm\": 45.0}, {\"stem_diam_bottom_in_cm\": 0.71, \"diam_top_in_cm\": 0.18, \"side_branches_in_cm\": 60.23, \"total_meja\": 22, \"tip_of_stem_broken\": 0, \"infested\": 1, \"total_number_adults\": 2, \"main_stem_length_in_cm\": 88.0}, {\"stem_diam_bottom_in_cm\": 0.47, \"diam_top_in_cm\": 0.1, \"side_branches_in_cm\": 60.23, \"total_meja\": 23, \"tip_of_stem_broken\": 1, \"infested\": 1, \"total_number_adults\": 23, \"main_stem_length_in_cm\": 52.0}, {\"stem_diam_bottom_in_cm\": 0.76, \"diam_top_in_cm\": 0.18, \"side_branches_in_cm\": 128.0, \"total_meja\": 0, \"tip_of_stem_broken\": 1, \"infested\": 0, \"total_number_adults\": 0, \"main_stem_length_in_cm\": 58.0}, {\"stem_diam_bottom_in_cm\": 0.38, \"diam_top_in_cm\": 0.04, \"side_branches_in_cm\": 60.23, \"total_meja\": 0, \"tip_of_stem_broken\": 0, \"infested\": 0, \"total_number_adults\": 0, \"main_stem_length_in_cm\": 66.0}, {\"stem_diam_bottom_in_cm\": 0.68, \"diam_top_in_cm\": 0.18, \"side_branches_in_cm\": 60.23, \"total_meja\": 10, \"tip_of_stem_broken\": 0, \"infested\": 1, \"total_number_adults\": 2, \"main_stem_length_in_cm\": 62.0}, {\"stem_diam_bottom_in_cm\": 0.23, \"diam_top_in_cm\": 0.18, \"side_branches_in_cm\": 60.23, \"total_meja\": 0, \"tip_of_stem_broken\": 0, \"infested\": 0, \"total_number_adults\": 0, \"main_stem_length_in_cm\": 11.5}, {\"stem_diam_bottom_in_cm\": 0.37, \"diam_top_in_cm\": 0.13, \"side_branches_in_cm\": 60.23, \"total_meja\": 10, \"tip_of_stem_broken\": 0, \"infested\": 1, \"total_number_adults\": 6, \"main_stem_length_in_cm\": 29.0}, {\"stem_diam_bottom_in_cm\": 0.33, \"diam_top_in_cm\": 0.09, \"side_branches_in_cm\": 60.23, \"total_meja\": 0, \"tip_of_stem_broken\": 0, \"infested\": 0, \"total_number_adults\": 0, \"main_stem_length_in_cm\": 51.0}, {\"stem_diam_bottom_in_cm\": 0.38, \"diam_top_in_cm\": 0.23, \"side_branches_in_cm\": 60.23, \"total_meja\": 19, \"tip_of_stem_broken\": 1, \"infested\": 1, \"total_number_adults\": 2, \"main_stem_length_in_cm\": 53.0}, {\"stem_diam_bottom_in_cm\": 0.48, \"diam_top_in_cm\": 0.18, \"side_branches_in_cm\": 60.23, \"total_meja\": 0, \"tip_of_stem_broken\": 1, \"infested\": 0, \"total_number_adults\": 0, \"main_stem_length_in_cm\": 43.0}, {\"stem_diam_bottom_in_cm\": 0.33, \"diam_top_in_cm\": 0.18, \"side_branches_in_cm\": 60.23, \"total_meja\": 0, \"tip_of_stem_broken\": 1, \"infested\": 0, \"total_number_adults\": 0, \"main_stem_length_in_cm\": 38.0}, {\"stem_diam_bottom_in_cm\": 0.41, \"diam_top_in_cm\": 0.07, \"side_branches_in_cm\": 60.23, \"total_meja\": 2, \"tip_of_stem_broken\": 1, \"infested\": 1, \"total_number_adults\": 2, \"main_stem_length_in_cm\": 47.0}, {\"stem_diam_bottom_in_cm\": 0.35, \"diam_top_in_cm\": 0.11, \"side_branches_in_cm\": 60.23, \"total_meja\": 5, \"tip_of_stem_broken\": 0, \"infested\": 1, \"total_number_adults\": 5, \"main_stem_length_in_cm\": 29.0}, {\"stem_diam_bottom_in_cm\": 0.75, \"diam_top_in_cm\": 0.18, \"side_branches_in_cm\": 60.23, \"total_meja\": 0, \"tip_of_stem_broken\": 0, \"infested\": 0, \"total_number_adults\": 0, \"main_stem_length_in_cm\": 87.0}, {\"stem_diam_bottom_in_cm\": 0.37, \"diam_top_in_cm\": 0.18, \"side_branches_in_cm\": 60.23, \"total_meja\": 7, \"tip_of_stem_broken\": 0, \"infested\": 1, \"total_number_adults\": 0, \"main_stem_length_in_cm\": 40.0}, {\"stem_diam_bottom_in_cm\": 0.62, \"diam_top_in_cm\": 0.11, \"side_branches_in_cm\": 60.23, \"total_meja\": 0, \"tip_of_stem_broken\": 1, \"infested\": 0, \"total_number_adults\": 0, \"main_stem_length_in_cm\": 71.0}, {\"stem_diam_bottom_in_cm\": 0.45, \"diam_top_in_cm\": 0.18, \"side_branches_in_cm\": 60.23, \"total_meja\": 0, \"tip_of_stem_broken\": 0, \"infested\": 0, \"total_number_adults\": 0, \"main_stem_length_in_cm\": 90.0}, {\"stem_diam_bottom_in_cm\": 0.68, \"diam_top_in_cm\": 0.15, \"side_branches_in_cm\": 60.23, \"total_meja\": 41, \"tip_of_stem_broken\": 1, \"infested\": 1, \"total_number_adults\": 37, \"main_stem_length_in_cm\": 46.0}, {\"stem_diam_bottom_in_cm\": 0.76, \"diam_top_in_cm\": 0.18, \"side_branches_in_cm\": 129.0, \"total_meja\": 0, \"tip_of_stem_broken\": 1, \"infested\": 0, \"total_number_adults\": 0, \"main_stem_length_in_cm\": 64.0}, {\"stem_diam_bottom_in_cm\": 0.47, \"diam_top_in_cm\": 0.18, \"side_branches_in_cm\": 60.23, \"total_meja\": 0, \"tip_of_stem_broken\": 1, \"infested\": 0, \"total_number_adults\": 0, \"main_stem_length_in_cm\": 63.0}, {\"stem_diam_bottom_in_cm\": 0.44, \"diam_top_in_cm\": 0.18, \"side_branches_in_cm\": 60.23, \"total_meja\": 8, \"tip_of_stem_broken\": 0, \"infested\": 1, \"total_number_adults\": 1, \"main_stem_length_in_cm\": 48.0}, {\"stem_diam_bottom_in_cm\": 0.5, \"diam_top_in_cm\": 0.18, \"side_branches_in_cm\": 111.0, \"total_meja\": 2, \"tip_of_stem_broken\": 0, \"infested\": 1, \"total_number_adults\": 0, \"main_stem_length_in_cm\": 26.0}, {\"stem_diam_bottom_in_cm\": 0.11, \"diam_top_in_cm\": 0.18, \"side_branches_in_cm\": 60.23, \"total_meja\": 1, \"tip_of_stem_broken\": 0, \"infested\": 1, \"total_number_adults\": 0, \"main_stem_length_in_cm\": 30.0}, {\"stem_diam_bottom_in_cm\": 0.16, \"diam_top_in_cm\": 0.18, \"side_branches_in_cm\": 60.23, \"total_meja\": 0, \"tip_of_stem_broken\": 0, \"infested\": 0, \"total_number_adults\": 0, \"main_stem_length_in_cm\": 12.0}, {\"stem_diam_bottom_in_cm\": 0.66, \"diam_top_in_cm\": 0.18, \"side_branches_in_cm\": 57.0, \"total_meja\": 0, \"tip_of_stem_broken\": 0, \"infested\": 0, \"total_number_adults\": 0, \"main_stem_length_in_cm\": 75.0}, {\"stem_diam_bottom_in_cm\": 0.18, \"diam_top_in_cm\": 0.18, \"side_branches_in_cm\": 60.23, \"total_meja\": 0, \"tip_of_stem_broken\": 0, \"infested\": 0, \"total_number_adults\": 0, \"main_stem_length_in_cm\": 14.0}, {\"stem_diam_bottom_in_cm\": 0.63, \"diam_top_in_cm\": 0.15, \"side_branches_in_cm\": 60.23, \"total_meja\": 0, \"tip_of_stem_broken\": 1, \"infested\": 0, \"total_number_adults\": 0, \"main_stem_length_in_cm\": 86.0}, {\"stem_diam_bottom_in_cm\": 0.67, \"diam_top_in_cm\": 0.18, \"side_branches_in_cm\": 83.0, \"total_meja\": 0, \"tip_of_stem_broken\": 1, \"infested\": 0, \"total_number_adults\": 0, \"main_stem_length_in_cm\": 57.0}, {\"stem_diam_bottom_in_cm\": 0.33, \"diam_top_in_cm\": 0.18, \"side_branches_in_cm\": 60.23, \"total_meja\": 0, \"tip_of_stem_broken\": 1, \"infested\": 0, \"total_number_adults\": 0, \"main_stem_length_in_cm\": 25.0}, {\"stem_diam_bottom_in_cm\": 0.21, \"diam_top_in_cm\": 0.18, \"side_branches_in_cm\": 60.23, \"total_meja\": 0, \"tip_of_stem_broken\": 0, \"infested\": 0, \"total_number_adults\": 0, \"main_stem_length_in_cm\": 16.5}, {\"stem_diam_bottom_in_cm\": 1.08, \"diam_top_in_cm\": 0.58, \"side_branches_in_cm\": 60.23, \"total_meja\": 1, \"tip_of_stem_broken\": 1, \"infested\": 1, \"total_number_adults\": 0, \"main_stem_length_in_cm\": 63.0}, {\"stem_diam_bottom_in_cm\": 0.4, \"diam_top_in_cm\": 0.18, \"side_branches_in_cm\": 60.23, \"total_meja\": 0, \"tip_of_stem_broken\": 1, \"infested\": 0, \"total_number_adults\": 0, \"main_stem_length_in_cm\": 43.0}, {\"stem_diam_bottom_in_cm\": 0.71, \"diam_top_in_cm\": 0.18, \"side_branches_in_cm\": 60.23, \"total_meja\": 2, \"tip_of_stem_broken\": 0, \"infested\": 1, \"total_number_adults\": 0, \"main_stem_length_in_cm\": 96.0}, {\"stem_diam_bottom_in_cm\": 0.82, \"diam_top_in_cm\": 0.18, \"side_branches_in_cm\": 60.23, \"total_meja\": 37, \"tip_of_stem_broken\": 0, \"infested\": 1, \"total_number_adults\": 1, \"main_stem_length_in_cm\": 77.0}, {\"stem_diam_bottom_in_cm\": 0.53, \"diam_top_in_cm\": 0.02, \"side_branches_in_cm\": 60.23, \"total_meja\": 0, \"tip_of_stem_broken\": 0, \"infested\": 0, \"total_number_adults\": 0, \"main_stem_length_in_cm\": 103.0}, {\"stem_diam_bottom_in_cm\": 0.26, \"diam_top_in_cm\": 0.18, \"side_branches_in_cm\": 60.23, \"total_meja\": 0, \"tip_of_stem_broken\": 0, \"infested\": 0, \"total_number_adults\": 0, \"main_stem_length_in_cm\": 8.0}, {\"stem_diam_bottom_in_cm\": 0.3, \"diam_top_in_cm\": 0.18, \"side_branches_in_cm\": 60.23, \"total_meja\": 0, \"tip_of_stem_broken\": 1, \"infested\": 0, \"total_number_adults\": 0, \"main_stem_length_in_cm\": 34.0}, {\"stem_diam_bottom_in_cm\": 0.26, \"diam_top_in_cm\": 0.18, \"side_branches_in_cm\": 60.23, \"total_meja\": 4, \"tip_of_stem_broken\": 1, \"infested\": 1, \"total_number_adults\": 0, \"main_stem_length_in_cm\": 27.0}, {\"stem_diam_bottom_in_cm\": 0.54, \"diam_top_in_cm\": 0.18, \"side_branches_in_cm\": 60.23, \"total_meja\": 0, \"tip_of_stem_broken\": 1, \"infested\": 0, \"total_number_adults\": 0, \"main_stem_length_in_cm\": 34.0}, {\"stem_diam_bottom_in_cm\": 0.28, \"diam_top_in_cm\": 0.18, \"side_branches_in_cm\": 60.23, \"total_meja\": 0, \"tip_of_stem_broken\": 0, \"infested\": 0, \"total_number_adults\": 0, \"main_stem_length_in_cm\": 65.0}, {\"stem_diam_bottom_in_cm\": 0.44, \"diam_top_in_cm\": 0.18, \"side_branches_in_cm\": 60.23, \"total_meja\": 1, \"tip_of_stem_broken\": 0, \"infested\": 1, \"total_number_adults\": 0, \"main_stem_length_in_cm\": 56.0}, {\"stem_diam_bottom_in_cm\": 0.56, \"diam_top_in_cm\": 0.18, \"side_branches_in_cm\": 28.0, \"total_meja\": 0, \"tip_of_stem_broken\": 1, \"infested\": 0, \"total_number_adults\": 0, \"main_stem_length_in_cm\": 61.0}, {\"stem_diam_bottom_in_cm\": 0.46, \"diam_top_in_cm\": 0.34, \"side_branches_in_cm\": 60.23, \"total_meja\": 0, \"tip_of_stem_broken\": 1, \"infested\": 0, \"total_number_adults\": 0, \"main_stem_length_in_cm\": 50.0}, {\"stem_diam_bottom_in_cm\": 0.6, \"diam_top_in_cm\": 0.18, \"side_branches_in_cm\": 60.23, \"total_meja\": 0, \"tip_of_stem_broken\": 0, \"infested\": 0, \"total_number_adults\": 0, \"main_stem_length_in_cm\": 70.0}, {\"stem_diam_bottom_in_cm\": 0.3, \"diam_top_in_cm\": 0.18, \"side_branches_in_cm\": 60.23, \"total_meja\": 0, \"tip_of_stem_broken\": 1, \"infested\": 0, \"total_number_adults\": 0, \"main_stem_length_in_cm\": 39.0}, {\"stem_diam_bottom_in_cm\": 0.77, \"diam_top_in_cm\": 0.18, \"side_branches_in_cm\": 60.23, \"total_meja\": 1, \"tip_of_stem_broken\": 0, \"infested\": 1, \"total_number_adults\": 0, \"main_stem_length_in_cm\": 100.0}, {\"stem_diam_bottom_in_cm\": 0.21, \"diam_top_in_cm\": 0.18, \"side_branches_in_cm\": 60.23, \"total_meja\": 0, \"tip_of_stem_broken\": 0, \"infested\": 0, \"total_number_adults\": 0, \"main_stem_length_in_cm\": 20.0}, {\"stem_diam_bottom_in_cm\": 0.34, \"diam_top_in_cm\": 0.18, \"side_branches_in_cm\": 60.23, \"total_meja\": 0, \"tip_of_stem_broken\": 0, \"infested\": 0, \"total_number_adults\": 0, \"main_stem_length_in_cm\": 59.0}, {\"stem_diam_bottom_in_cm\": 0.61, \"diam_top_in_cm\": 0.18, \"side_branches_in_cm\": 60.23, \"total_meja\": 0, \"tip_of_stem_broken\": 0, \"infested\": 0, \"total_number_adults\": 0, \"main_stem_length_in_cm\": 83.0}, {\"stem_diam_bottom_in_cm\": 0.34, \"diam_top_in_cm\": 0.18, \"side_branches_in_cm\": 60.23, \"total_meja\": 0, \"tip_of_stem_broken\": 1, \"infested\": 0, \"total_number_adults\": 0, \"main_stem_length_in_cm\": 35.0}, {\"stem_diam_bottom_in_cm\": 0.57, \"diam_top_in_cm\": 0.12, \"side_branches_in_cm\": 60.23, \"total_meja\": 1, \"tip_of_stem_broken\": 1, \"infested\": 1, \"total_number_adults\": 1, \"main_stem_length_in_cm\": 72.0}, {\"stem_diam_bottom_in_cm\": 0.41, \"diam_top_in_cm\": 0.18, \"side_branches_in_cm\": 60.23, \"total_meja\": 0, \"tip_of_stem_broken\": 1, \"infested\": 0, \"total_number_adults\": 0, \"main_stem_length_in_cm\": 40.0}, {\"stem_diam_bottom_in_cm\": 0.29, \"diam_top_in_cm\": 0.18, \"side_branches_in_cm\": 60.23, \"total_meja\": 0, \"tip_of_stem_broken\": 0, \"infested\": 0, \"total_number_adults\": 0, \"main_stem_length_in_cm\": 20.5}, {\"stem_diam_bottom_in_cm\": 0.73, \"diam_top_in_cm\": 0.05, \"side_branches_in_cm\": 60.23, \"total_meja\": 0, \"tip_of_stem_broken\": 0, \"infested\": 0, \"total_number_adults\": 0, \"main_stem_length_in_cm\": 85.0}, {\"stem_diam_bottom_in_cm\": 0.38, \"diam_top_in_cm\": 0.18, \"side_branches_in_cm\": 60.23, \"total_meja\": 25, \"tip_of_stem_broken\": 0, \"infested\": 1, \"total_number_adults\": 5, \"main_stem_length_in_cm\": 58.0}, {\"stem_diam_bottom_in_cm\": 0.52, \"diam_top_in_cm\": 0.18, \"side_branches_in_cm\": 60.23, \"total_meja\": 13, \"tip_of_stem_broken\": 0, \"infested\": 1, \"total_number_adults\": 3, \"main_stem_length_in_cm\": 38.0}, {\"stem_diam_bottom_in_cm\": 0.36, \"diam_top_in_cm\": 0.18, \"side_branches_in_cm\": 60.23, \"total_meja\": 0, \"tip_of_stem_broken\": 1, \"infested\": 0, \"total_number_adults\": 0, \"main_stem_length_in_cm\": 18.0}, {\"stem_diam_bottom_in_cm\": 0.46, \"diam_top_in_cm\": 0.18, \"side_branches_in_cm\": 60.23, \"total_meja\": 0, \"tip_of_stem_broken\": 0, \"infested\": 0, \"total_number_adults\": 0, \"main_stem_length_in_cm\": 56.0}, {\"stem_diam_bottom_in_cm\": 0.55, \"diam_top_in_cm\": 0.18, \"side_branches_in_cm\": 60.23, \"total_meja\": 0, \"tip_of_stem_broken\": 1, \"infested\": 0, \"total_number_adults\": 0, \"main_stem_length_in_cm\": 46.0}, {\"stem_diam_bottom_in_cm\": 0.45, \"diam_top_in_cm\": 0.18, \"side_branches_in_cm\": 60.23, \"total_meja\": 2, \"tip_of_stem_broken\": 0, \"infested\": 1, \"total_number_adults\": 0, \"main_stem_length_in_cm\": 59.0}, {\"stem_diam_bottom_in_cm\": 0.28, \"diam_top_in_cm\": 0.18, \"side_branches_in_cm\": 60.23, \"total_meja\": 0, \"tip_of_stem_broken\": 1, \"infested\": 0, \"total_number_adults\": 0, \"main_stem_length_in_cm\": 40.0}, {\"stem_diam_bottom_in_cm\": 0.38, \"diam_top_in_cm\": 0.18, \"side_branches_in_cm\": 60.23, \"total_meja\": 0, \"tip_of_stem_broken\": 0, \"infested\": 0, \"total_number_adults\": 0, \"main_stem_length_in_cm\": 56.0}, {\"stem_diam_bottom_in_cm\": 0.43, \"diam_top_in_cm\": 0.18, \"side_branches_in_cm\": 60.23, \"total_meja\": 0, \"tip_of_stem_broken\": 1, \"infested\": 0, \"total_number_adults\": 0, \"main_stem_length_in_cm\": 49.0}, {\"stem_diam_bottom_in_cm\": 0.7, \"diam_top_in_cm\": 0.18, \"side_branches_in_cm\": 60.23, \"total_meja\": 21, \"tip_of_stem_broken\": 0, \"infested\": 1, \"total_number_adults\": 1, \"main_stem_length_in_cm\": 64.0}, {\"stem_diam_bottom_in_cm\": 0.94, \"diam_top_in_cm\": 0.16, \"side_branches_in_cm\": 60.23, \"total_meja\": 1, \"tip_of_stem_broken\": 1, \"infested\": 1, \"total_number_adults\": 0, \"main_stem_length_in_cm\": 86.0}, {\"stem_diam_bottom_in_cm\": 0.58, \"diam_top_in_cm\": 0.29, \"side_branches_in_cm\": 60.23, \"total_meja\": 39, \"tip_of_stem_broken\": 1, \"infested\": 1, \"total_number_adults\": 38, \"main_stem_length_in_cm\": 51.0}, {\"stem_diam_bottom_in_cm\": 0.58, \"diam_top_in_cm\": 0.18, \"side_branches_in_cm\": 60.23, \"total_meja\": 6, \"tip_of_stem_broken\": 0, \"infested\": 1, \"total_number_adults\": 0, \"main_stem_length_in_cm\": 60.0}, {\"stem_diam_bottom_in_cm\": 0.44, \"diam_top_in_cm\": 0.18, \"side_branches_in_cm\": 60.23, \"total_meja\": 0, \"tip_of_stem_broken\": 1, \"infested\": 0, \"total_number_adults\": 0, \"main_stem_length_in_cm\": 41.0}, {\"stem_diam_bottom_in_cm\": 0.69, \"diam_top_in_cm\": 0.13, \"side_branches_in_cm\": 60.23, \"total_meja\": 23, \"tip_of_stem_broken\": 0, \"infested\": 1, \"total_number_adults\": 23, \"main_stem_length_in_cm\": 34.0}, {\"stem_diam_bottom_in_cm\": 0.2, \"diam_top_in_cm\": 0.18, \"side_branches_in_cm\": 60.23, \"total_meja\": 0, \"tip_of_stem_broken\": 0, \"infested\": 0, \"total_number_adults\": 0, \"main_stem_length_in_cm\": 6.0}, {\"stem_diam_bottom_in_cm\": 0.58, \"diam_top_in_cm\": 0.18, \"side_branches_in_cm\": 60.23, \"total_meja\": 0, \"tip_of_stem_broken\": 0, \"infested\": 0, \"total_number_adults\": 0, \"main_stem_length_in_cm\": 93.0}, {\"stem_diam_bottom_in_cm\": 0.65, \"diam_top_in_cm\": 0.3, \"side_branches_in_cm\": 60.23, \"total_meja\": 31, \"tip_of_stem_broken\": 1, \"infested\": 1, \"total_number_adults\": 31, \"main_stem_length_in_cm\": 45.0}, {\"stem_diam_bottom_in_cm\": 0.67, \"diam_top_in_cm\": 0.18, \"side_branches_in_cm\": 60.23, \"total_meja\": 10, \"tip_of_stem_broken\": 0, \"infested\": 1, \"total_number_adults\": 5, \"main_stem_length_in_cm\": 43.0}, {\"stem_diam_bottom_in_cm\": 0.38, \"diam_top_in_cm\": 0.18, \"side_branches_in_cm\": 32.0, \"total_meja\": 0, \"tip_of_stem_broken\": 1, \"infested\": 0, \"total_number_adults\": 0, \"main_stem_length_in_cm\": 28.0}, {\"stem_diam_bottom_in_cm\": 0.44, \"diam_top_in_cm\": 0.18, \"side_branches_in_cm\": 60.23, \"total_meja\": 19, \"tip_of_stem_broken\": 0, \"infested\": 1, \"total_number_adults\": 3, \"main_stem_length_in_cm\": 26.0}, {\"stem_diam_bottom_in_cm\": 0.7, \"diam_top_in_cm\": 0.41, \"side_branches_in_cm\": 60.23, \"total_meja\": 6, \"tip_of_stem_broken\": 1, \"infested\": 1, \"total_number_adults\": 1, \"main_stem_length_in_cm\": 46.0}, {\"stem_diam_bottom_in_cm\": 0.65, \"diam_top_in_cm\": 0.18, \"side_branches_in_cm\": 60.23, \"total_meja\": 0, \"tip_of_stem_broken\": 1, \"infested\": 0, \"total_number_adults\": 0, \"main_stem_length_in_cm\": 89.0}, {\"stem_diam_bottom_in_cm\": 0.29, \"diam_top_in_cm\": 0.18, \"side_branches_in_cm\": 60.23, \"total_meja\": 0, \"tip_of_stem_broken\": 1, \"infested\": 0, \"total_number_adults\": 0, \"main_stem_length_in_cm\": 22.0}, {\"stem_diam_bottom_in_cm\": 0.24, \"diam_top_in_cm\": 0.18, \"side_branches_in_cm\": 60.23, \"total_meja\": 0, \"tip_of_stem_broken\": 1, \"infested\": 0, \"total_number_adults\": 0, \"main_stem_length_in_cm\": 43.0}, {\"stem_diam_bottom_in_cm\": 0.41, \"diam_top_in_cm\": 0.18, \"side_branches_in_cm\": 60.23, \"total_meja\": 0, \"tip_of_stem_broken\": 1, \"infested\": 0, \"total_number_adults\": 0, \"main_stem_length_in_cm\": 38.0}, {\"stem_diam_bottom_in_cm\": 0.42, \"diam_top_in_cm\": 0.18, \"side_branches_in_cm\": 14.0, \"total_meja\": 0, \"tip_of_stem_broken\": 1, \"infested\": 0, \"total_number_adults\": 0, \"main_stem_length_in_cm\": 52.0}, {\"stem_diam_bottom_in_cm\": 0.71, \"diam_top_in_cm\": 0.18, \"side_branches_in_cm\": 60.23, \"total_meja\": 4, \"tip_of_stem_broken\": 1, \"infested\": 1, \"total_number_adults\": 0, \"main_stem_length_in_cm\": 86.0}, {\"stem_diam_bottom_in_cm\": 0.84, \"diam_top_in_cm\": 0.18, \"side_branches_in_cm\": 60.23, \"total_meja\": 0, \"tip_of_stem_broken\": 0, \"infested\": 0, \"total_number_adults\": 0, \"main_stem_length_in_cm\": 111.0}, {\"stem_diam_bottom_in_cm\": 0.53, \"diam_top_in_cm\": 0.18, \"side_branches_in_cm\": 22.0, \"total_meja\": 0, \"tip_of_stem_broken\": 1, \"infested\": 0, \"total_number_adults\": 0, \"main_stem_length_in_cm\": 47.0}, {\"stem_diam_bottom_in_cm\": 0.52, \"diam_top_in_cm\": 0.34, \"side_branches_in_cm\": 60.23, \"total_meja\": 4, \"tip_of_stem_broken\": 1, \"infested\": 1, \"total_number_adults\": 1, \"main_stem_length_in_cm\": 46.0}, {\"stem_diam_bottom_in_cm\": 0.61, \"diam_top_in_cm\": 0.26, \"side_branches_in_cm\": 60.23, \"total_meja\": 34, \"tip_of_stem_broken\": 1, \"infested\": 1, \"total_number_adults\": 34, \"main_stem_length_in_cm\": 33.0}, {\"stem_diam_bottom_in_cm\": 0.47, \"diam_top_in_cm\": 0.14, \"side_branches_in_cm\": 60.23, \"total_meja\": 19, \"tip_of_stem_broken\": 0, \"infested\": 1, \"total_number_adults\": 18, \"main_stem_length_in_cm\": 43.0}, {\"stem_diam_bottom_in_cm\": 0.41, \"diam_top_in_cm\": 0.18, \"side_branches_in_cm\": 60.23, \"total_meja\": 0, \"tip_of_stem_broken\": 1, \"infested\": 0, \"total_number_adults\": 0, \"main_stem_length_in_cm\": 45.0}, {\"stem_diam_bottom_in_cm\": 0.44, \"diam_top_in_cm\": 0.18, \"side_branches_in_cm\": 60.23, \"total_meja\": 0, \"tip_of_stem_broken\": 1, \"infested\": 0, \"total_number_adults\": 0, \"main_stem_length_in_cm\": 78.0}, {\"stem_diam_bottom_in_cm\": 0.41, \"diam_top_in_cm\": 0.09, \"side_branches_in_cm\": 60.23, \"total_meja\": 3, \"tip_of_stem_broken\": 0, \"infested\": 1, \"total_number_adults\": 0, \"main_stem_length_in_cm\": 28.0}, {\"stem_diam_bottom_in_cm\": 0.31, \"diam_top_in_cm\": 0.07, \"side_branches_in_cm\": 60.23, \"total_meja\": 2, \"tip_of_stem_broken\": 1, \"infested\": 1, \"total_number_adults\": 2, \"main_stem_length_in_cm\": 43.0}, {\"stem_diam_bottom_in_cm\": 0.31, \"diam_top_in_cm\": 0.18, \"side_branches_in_cm\": 60.23, \"total_meja\": 0, \"tip_of_stem_broken\": 1, \"infested\": 0, \"total_number_adults\": 0, \"main_stem_length_in_cm\": 36.0}, {\"stem_diam_bottom_in_cm\": 0.6, \"diam_top_in_cm\": 0.53, \"side_branches_in_cm\": 60.23, \"total_meja\": 10, \"tip_of_stem_broken\": 1, \"infested\": 1, \"total_number_adults\": 2, \"main_stem_length_in_cm\": 41.0}, {\"stem_diam_bottom_in_cm\": 0.48, \"diam_top_in_cm\": 0.28, \"side_branches_in_cm\": 60.23, \"total_meja\": 26, \"tip_of_stem_broken\": 1, \"infested\": 1, \"total_number_adults\": 22, \"main_stem_length_in_cm\": 31.0}, {\"stem_diam_bottom_in_cm\": 0.43, \"diam_top_in_cm\": 0.18, \"side_branches_in_cm\": 60.23, \"total_meja\": 6, \"tip_of_stem_broken\": 0, \"infested\": 1, \"total_number_adults\": 0, \"main_stem_length_in_cm\": 40.0}, {\"stem_diam_bottom_in_cm\": 0.61, \"diam_top_in_cm\": 0.18, \"side_branches_in_cm\": 60.23, \"total_meja\": 0, \"tip_of_stem_broken\": 1, \"infested\": 0, \"total_number_adults\": 0, \"main_stem_length_in_cm\": 52.0}, {\"stem_diam_bottom_in_cm\": 0.46, \"diam_top_in_cm\": 0.18, \"side_branches_in_cm\": 60.23, \"total_meja\": 0, \"tip_of_stem_broken\": 1, \"infested\": 0, \"total_number_adults\": 0, \"main_stem_length_in_cm\": 60.0}, {\"stem_diam_bottom_in_cm\": 0.38, \"diam_top_in_cm\": 0.14, \"side_branches_in_cm\": 60.23, \"total_meja\": 5, \"tip_of_stem_broken\": 1, \"infested\": 1, \"total_number_adults\": 5, \"main_stem_length_in_cm\": 37.0}, {\"stem_diam_bottom_in_cm\": 0.63, \"diam_top_in_cm\": 0.1, \"side_branches_in_cm\": 60.23, \"total_meja\": 0, \"tip_of_stem_broken\": 1, \"infested\": 0, \"total_number_adults\": 0, \"main_stem_length_in_cm\": 76.0}, {\"stem_diam_bottom_in_cm\": 0.55, \"diam_top_in_cm\": 0.43, \"side_branches_in_cm\": 60.23, \"total_meja\": 5, \"tip_of_stem_broken\": 1, \"infested\": 1, \"total_number_adults\": 0, \"main_stem_length_in_cm\": 37.0}, {\"stem_diam_bottom_in_cm\": 0.63, \"diam_top_in_cm\": 0.18, \"side_branches_in_cm\": 60.23, \"total_meja\": 19, \"tip_of_stem_broken\": 0, \"infested\": 1, \"total_number_adults\": 2, \"main_stem_length_in_cm\": 48.0}, {\"stem_diam_bottom_in_cm\": 0.45, \"diam_top_in_cm\": 0.27, \"side_branches_in_cm\": 60.23, \"total_meja\": 7, \"tip_of_stem_broken\": 1, \"infested\": 1, \"total_number_adults\": 1, \"main_stem_length_in_cm\": 32.0}, {\"stem_diam_bottom_in_cm\": 0.47, \"diam_top_in_cm\": 0.18, \"side_branches_in_cm\": 60.23, \"total_meja\": 0, \"tip_of_stem_broken\": 0, \"infested\": 0, \"total_number_adults\": 0, \"main_stem_length_in_cm\": 76.0}, {\"stem_diam_bottom_in_cm\": 0.5, \"diam_top_in_cm\": 0.18, \"side_branches_in_cm\": 60.23, \"total_meja\": 2, \"tip_of_stem_broken\": 1, \"infested\": 1, \"total_number_adults\": 2, \"main_stem_length_in_cm\": 53.0}, {\"stem_diam_bottom_in_cm\": 0.38, \"diam_top_in_cm\": 0.13, \"side_branches_in_cm\": 60.23, \"total_meja\": 3, \"tip_of_stem_broken\": 1, \"infested\": 1, \"total_number_adults\": 3, \"main_stem_length_in_cm\": 64.0}, {\"stem_diam_bottom_in_cm\": 0.41, \"diam_top_in_cm\": 0.18, \"side_branches_in_cm\": 49.0, \"total_meja\": 0, \"tip_of_stem_broken\": 1, \"infested\": 0, \"total_number_adults\": 0, \"main_stem_length_in_cm\": 31.0}, {\"stem_diam_bottom_in_cm\": 0.48, \"diam_top_in_cm\": 0.18, \"side_branches_in_cm\": 60.23, \"total_meja\": 0, \"tip_of_stem_broken\": 1, \"infested\": 0, \"total_number_adults\": 0, \"main_stem_length_in_cm\": 41.0}, {\"stem_diam_bottom_in_cm\": 0.63, \"diam_top_in_cm\": 0.18, \"side_branches_in_cm\": 60.23, \"total_meja\": 0, \"tip_of_stem_broken\": 1, \"infested\": 0, \"total_number_adults\": 0, \"main_stem_length_in_cm\": 104.0}, {\"stem_diam_bottom_in_cm\": 0.53, \"diam_top_in_cm\": 0.12, \"side_branches_in_cm\": 60.23, \"total_meja\": 3, \"tip_of_stem_broken\": 1, \"infested\": 1, \"total_number_adults\": 3, \"main_stem_length_in_cm\": 73.0}, {\"stem_diam_bottom_in_cm\": 0.33, \"diam_top_in_cm\": 0.06, \"side_branches_in_cm\": 60.23, \"total_meja\": 4, \"tip_of_stem_broken\": 0, \"infested\": 1, \"total_number_adults\": 4, \"main_stem_length_in_cm\": 38.0}, {\"stem_diam_bottom_in_cm\": 0.66, \"diam_top_in_cm\": 0.22, \"side_branches_in_cm\": 60.23, \"total_meja\": 3, \"tip_of_stem_broken\": 1, \"infested\": 1, \"total_number_adults\": 3, \"main_stem_length_in_cm\": 36.0}, {\"stem_diam_bottom_in_cm\": 0.5, \"diam_top_in_cm\": 0.18, \"side_branches_in_cm\": 31.0, \"total_meja\": 0, \"tip_of_stem_broken\": 1, \"infested\": 0, \"total_number_adults\": 0, \"main_stem_length_in_cm\": 69.0}, {\"stem_diam_bottom_in_cm\": 0.78, \"diam_top_in_cm\": 0.53, \"side_branches_in_cm\": 60.23, \"total_meja\": 7, \"tip_of_stem_broken\": 1, \"infested\": 1, \"total_number_adults\": 0, \"main_stem_length_in_cm\": 46.0}, {\"stem_diam_bottom_in_cm\": 0.69, \"diam_top_in_cm\": 0.33, \"side_branches_in_cm\": 60.23, \"total_meja\": 11, \"tip_of_stem_broken\": 1, \"infested\": 1, \"total_number_adults\": 0, \"main_stem_length_in_cm\": 62.0}, {\"stem_diam_bottom_in_cm\": 0.53, \"diam_top_in_cm\": 0.18, \"side_branches_in_cm\": 60.23, \"total_meja\": 0, \"tip_of_stem_broken\": 1, \"infested\": 0, \"total_number_adults\": 0, \"main_stem_length_in_cm\": 47.0}, {\"stem_diam_bottom_in_cm\": 0.24, \"diam_top_in_cm\": 0.18, \"side_branches_in_cm\": 60.23, \"total_meja\": 0, \"tip_of_stem_broken\": 0, \"infested\": 0, \"total_number_adults\": 0, \"main_stem_length_in_cm\": 10.0}, {\"stem_diam_bottom_in_cm\": 0.23, \"diam_top_in_cm\": 0.18, \"side_branches_in_cm\": 60.23, \"total_meja\": 0, \"tip_of_stem_broken\": 1, \"infested\": 0, \"total_number_adults\": 0, \"main_stem_length_in_cm\": 13.0}, {\"stem_diam_bottom_in_cm\": 0.52, \"diam_top_in_cm\": 0.18, \"side_branches_in_cm\": 60.23, \"total_meja\": 0, \"tip_of_stem_broken\": 1, \"infested\": 0, \"total_number_adults\": 0, \"main_stem_length_in_cm\": 32.0}, {\"stem_diam_bottom_in_cm\": 0.75, \"diam_top_in_cm\": 0.18, \"side_branches_in_cm\": 60.23, \"total_meja\": 5, \"tip_of_stem_broken\": 0, \"infested\": 1, \"total_number_adults\": 0, \"main_stem_length_in_cm\": 111.0}, {\"stem_diam_bottom_in_cm\": 0.24, \"diam_top_in_cm\": 0.18, \"side_branches_in_cm\": 60.23, \"total_meja\": 0, \"tip_of_stem_broken\": 0, \"infested\": 0, \"total_number_adults\": 0, \"main_stem_length_in_cm\": 13.0}, {\"stem_diam_bottom_in_cm\": 0.7, \"diam_top_in_cm\": 0.18, \"side_branches_in_cm\": 60.23, \"total_meja\": 3, \"tip_of_stem_broken\": 0, \"infested\": 1, \"total_number_adults\": 1, \"main_stem_length_in_cm\": 107.0}, {\"stem_diam_bottom_in_cm\": 0.54, \"diam_top_in_cm\": 0.11, \"side_branches_in_cm\": 60.23, \"total_meja\": 0, \"tip_of_stem_broken\": 1, \"infested\": 0, \"total_number_adults\": 0, \"main_stem_length_in_cm\": 73.0}, {\"stem_diam_bottom_in_cm\": 0.84, \"diam_top_in_cm\": 0.18, \"side_branches_in_cm\": 60.23, \"total_meja\": 0, \"tip_of_stem_broken\": 1, \"infested\": 0, \"total_number_adults\": 0, \"main_stem_length_in_cm\": 59.0}, {\"stem_diam_bottom_in_cm\": 0.56, \"diam_top_in_cm\": 0.08, \"side_branches_in_cm\": 60.23, \"total_meja\": 0, \"tip_of_stem_broken\": 0, \"infested\": 0, \"total_number_adults\": 0, \"main_stem_length_in_cm\": 85.0}, {\"stem_diam_bottom_in_cm\": 0.7, \"diam_top_in_cm\": 0.18, \"side_branches_in_cm\": 60.23, \"total_meja\": 12, \"tip_of_stem_broken\": 0, \"infested\": 1, \"total_number_adults\": 1, \"main_stem_length_in_cm\": 87.0}, {\"stem_diam_bottom_in_cm\": 0.7, \"diam_top_in_cm\": 0.32, \"side_branches_in_cm\": 60.23, \"total_meja\": 14, \"tip_of_stem_broken\": 1, \"infested\": 1, \"total_number_adults\": 0, \"main_stem_length_in_cm\": 64.0}, {\"stem_diam_bottom_in_cm\": 0.43, \"diam_top_in_cm\": 0.18, \"side_branches_in_cm\": 60.23, \"total_meja\": 0, \"tip_of_stem_broken\": 0, \"infested\": 0, \"total_number_adults\": 0, \"main_stem_length_in_cm\": 47.0}, {\"stem_diam_bottom_in_cm\": 0.38, \"diam_top_in_cm\": 0.18, \"side_branches_in_cm\": 60.23, \"total_meja\": 0, \"tip_of_stem_broken\": 1, \"infested\": 0, \"total_number_adults\": 0, \"main_stem_length_in_cm\": 24.0}, {\"stem_diam_bottom_in_cm\": 0.19, \"diam_top_in_cm\": 0.18, \"side_branches_in_cm\": 60.23, \"total_meja\": 0, \"tip_of_stem_broken\": 0, \"infested\": 0, \"total_number_adults\": 0, \"main_stem_length_in_cm\": 2.0}, {\"stem_diam_bottom_in_cm\": 0.53, \"diam_top_in_cm\": 0.18, \"side_branches_in_cm\": 127.0, \"total_meja\": 0, \"tip_of_stem_broken\": 1, \"infested\": 0, \"total_number_adults\": 0, \"main_stem_length_in_cm\": 16.0}, {\"stem_diam_bottom_in_cm\": 0.61, \"diam_top_in_cm\": 0.47, \"side_branches_in_cm\": 60.23, \"total_meja\": 1, \"tip_of_stem_broken\": 1, \"infested\": 1, \"total_number_adults\": 0, \"main_stem_length_in_cm\": 49.0}, {\"stem_diam_bottom_in_cm\": 0.8, \"diam_top_in_cm\": 0.35, \"side_branches_in_cm\": 60.23, \"total_meja\": 1, \"tip_of_stem_broken\": 1, \"infested\": 1, \"total_number_adults\": 1, \"main_stem_length_in_cm\": 72.0}, {\"stem_diam_bottom_in_cm\": 0.57, \"diam_top_in_cm\": 0.18, \"side_branches_in_cm\": 60.23, \"total_meja\": 2, \"tip_of_stem_broken\": 0, \"infested\": 1, \"total_number_adults\": 0, \"main_stem_length_in_cm\": 60.0}, {\"stem_diam_bottom_in_cm\": 0.86, \"diam_top_in_cm\": 0.3, \"side_branches_in_cm\": 60.23, \"total_meja\": 1, \"tip_of_stem_broken\": 1, \"infested\": 1, \"total_number_adults\": 0, \"main_stem_length_in_cm\": 79.0}, {\"stem_diam_bottom_in_cm\": 0.8, \"diam_top_in_cm\": 0.18, \"side_branches_in_cm\": 60.23, \"total_meja\": 3, \"tip_of_stem_broken\": 0, \"infested\": 1, \"total_number_adults\": 0, \"main_stem_length_in_cm\": 53.0}, {\"stem_diam_bottom_in_cm\": 0.14, \"diam_top_in_cm\": 0.18, \"side_branches_in_cm\": 60.23, \"total_meja\": 0, \"tip_of_stem_broken\": 0, \"infested\": 0, \"total_number_adults\": 0, \"main_stem_length_in_cm\": 11.0}, {\"stem_diam_bottom_in_cm\": 0.4, \"diam_top_in_cm\": 0.18, \"side_branches_in_cm\": 60.23, \"total_meja\": 0, \"tip_of_stem_broken\": 1, \"infested\": 0, \"total_number_adults\": 0, \"main_stem_length_in_cm\": 54.0}, {\"stem_diam_bottom_in_cm\": 0.14, \"diam_top_in_cm\": 0.18, \"side_branches_in_cm\": 60.23, \"total_meja\": 0, \"tip_of_stem_broken\": 0, \"infested\": 0, \"total_number_adults\": 0, \"main_stem_length_in_cm\": 7.0}, {\"stem_diam_bottom_in_cm\": 0.81, \"diam_top_in_cm\": 0.21, \"side_branches_in_cm\": 60.23, \"total_meja\": 0, \"tip_of_stem_broken\": 1, \"infested\": 0, \"total_number_adults\": 0, \"main_stem_length_in_cm\": 85.0}, {\"stem_diam_bottom_in_cm\": 0.52, \"diam_top_in_cm\": 0.18, \"side_branches_in_cm\": 25.0, \"total_meja\": 0, \"tip_of_stem_broken\": 1, \"infested\": 0, \"total_number_adults\": 0, \"main_stem_length_in_cm\": 40.0}, {\"stem_diam_bottom_in_cm\": 0.36, \"diam_top_in_cm\": 0.18, \"side_branches_in_cm\": 60.23, \"total_meja\": 0, \"tip_of_stem_broken\": 1, \"infested\": 0, \"total_number_adults\": 0, \"main_stem_length_in_cm\": 21.0}, {\"stem_diam_bottom_in_cm\": 0.27, \"diam_top_in_cm\": 0.18, \"side_branches_in_cm\": 60.23, \"total_meja\": 0, \"tip_of_stem_broken\": 0, \"infested\": 0, \"total_number_adults\": 0, \"main_stem_length_in_cm\": 23.5}, {\"stem_diam_bottom_in_cm\": 0.57, \"diam_top_in_cm\": 0.18, \"side_branches_in_cm\": 60.23, \"total_meja\": 20, \"tip_of_stem_broken\": 1, \"infested\": 1, \"total_number_adults\": 19, \"main_stem_length_in_cm\": 44.0}, {\"stem_diam_bottom_in_cm\": 0.55, \"diam_top_in_cm\": 0.23, \"side_branches_in_cm\": 60.23, \"total_meja\": 14, \"tip_of_stem_broken\": 1, \"infested\": 1, \"total_number_adults\": 0, \"main_stem_length_in_cm\": 74.0}, {\"stem_diam_bottom_in_cm\": 0.31, \"diam_top_in_cm\": 0.16, \"side_branches_in_cm\": 60.23, \"total_meja\": 6, \"tip_of_stem_broken\": 1, \"infested\": 1, \"total_number_adults\": 6, \"main_stem_length_in_cm\": 34.0}, {\"stem_diam_bottom_in_cm\": 0.4, \"diam_top_in_cm\": 0.09, \"side_branches_in_cm\": 60.23, \"total_meja\": 8, \"tip_of_stem_broken\": 0, \"infested\": 1, \"total_number_adults\": 6, \"main_stem_length_in_cm\": 37.0}, {\"stem_diam_bottom_in_cm\": 0.33, \"diam_top_in_cm\": 0.18, \"side_branches_in_cm\": 39.0, \"total_meja\": 6, \"tip_of_stem_broken\": 0, \"infested\": 1, \"total_number_adults\": 1, \"main_stem_length_in_cm\": 58.0}, {\"stem_diam_bottom_in_cm\": 0.64, \"diam_top_in_cm\": 0.35, \"side_branches_in_cm\": 60.23, \"total_meja\": 22, \"tip_of_stem_broken\": 1, \"infested\": 1, \"total_number_adults\": 22, \"main_stem_length_in_cm\": 27.5}, {\"stem_diam_bottom_in_cm\": 0.35, \"diam_top_in_cm\": 0.12, \"side_branches_in_cm\": 60.23, \"total_meja\": 1, \"tip_of_stem_broken\": 1, \"infested\": 1, \"total_number_adults\": 1, \"main_stem_length_in_cm\": 51.0}, {\"stem_diam_bottom_in_cm\": 0.44, \"diam_top_in_cm\": 0.18, \"side_branches_in_cm\": 60.23, \"total_meja\": 0, \"tip_of_stem_broken\": 1, \"infested\": 0, \"total_number_adults\": 0, \"main_stem_length_in_cm\": 51.0}, {\"stem_diam_bottom_in_cm\": 0.7, \"diam_top_in_cm\": 0.18, \"side_branches_in_cm\": 60.23, \"total_meja\": 0, \"tip_of_stem_broken\": 1, \"infested\": 0, \"total_number_adults\": 0, \"main_stem_length_in_cm\": 77.0}, {\"stem_diam_bottom_in_cm\": 0.57, \"diam_top_in_cm\": 0.44, \"side_branches_in_cm\": 60.23, \"total_meja\": 6, \"tip_of_stem_broken\": 1, \"infested\": 1, \"total_number_adults\": 3, \"main_stem_length_in_cm\": 43.0}, {\"stem_diam_bottom_in_cm\": 0.44, \"diam_top_in_cm\": 0.07, \"side_branches_in_cm\": 60.23, \"total_meja\": 1, \"tip_of_stem_broken\": 0, \"infested\": 1, \"total_number_adults\": 1, \"main_stem_length_in_cm\": 72.0}, {\"stem_diam_bottom_in_cm\": 0.56, \"diam_top_in_cm\": 0.05, \"side_branches_in_cm\": 60.23, \"total_meja\": 0, \"tip_of_stem_broken\": 0, \"infested\": 0, \"total_number_adults\": 0, \"main_stem_length_in_cm\": 75.0}, {\"stem_diam_bottom_in_cm\": 0.23, \"diam_top_in_cm\": 0.18, \"side_branches_in_cm\": 60.23, \"total_meja\": 0, \"tip_of_stem_broken\": 0, \"infested\": 0, \"total_number_adults\": 0, \"main_stem_length_in_cm\": 12.0}, {\"stem_diam_bottom_in_cm\": 0.19, \"diam_top_in_cm\": 0.18, \"side_branches_in_cm\": 60.23, \"total_meja\": 0, \"tip_of_stem_broken\": 0, \"infested\": 0, \"total_number_adults\": 0, \"main_stem_length_in_cm\": 18.0}, {\"stem_diam_bottom_in_cm\": 0.59, \"diam_top_in_cm\": 0.18, \"side_branches_in_cm\": 60.23, \"total_meja\": 14, \"tip_of_stem_broken\": 0, \"infested\": 1, \"total_number_adults\": 2, \"main_stem_length_in_cm\": 52.0}, {\"stem_diam_bottom_in_cm\": 0.89, \"diam_top_in_cm\": 0.18, \"side_branches_in_cm\": 60.23, \"total_meja\": 6, \"tip_of_stem_broken\": 0, \"infested\": 1, \"total_number_adults\": 1, \"main_stem_length_in_cm\": 125.0}, {\"stem_diam_bottom_in_cm\": 0.43, \"diam_top_in_cm\": 0.18, \"side_branches_in_cm\": 60.23, \"total_meja\": 9, \"tip_of_stem_broken\": 0, \"infested\": 1, \"total_number_adults\": 2, \"main_stem_length_in_cm\": 53.0}, {\"stem_diam_bottom_in_cm\": 0.51, \"diam_top_in_cm\": 0.18, \"side_branches_in_cm\": 60.23, \"total_meja\": 7, \"tip_of_stem_broken\": 0, \"infested\": 1, \"total_number_adults\": 1, \"main_stem_length_in_cm\": 68.0}, {\"stem_diam_bottom_in_cm\": 0.88, \"diam_top_in_cm\": 0.18, \"side_branches_in_cm\": 60.23, \"total_meja\": 0, \"tip_of_stem_broken\": 1, \"infested\": 0, \"total_number_adults\": 0, \"main_stem_length_in_cm\": 96.0}, {\"stem_diam_bottom_in_cm\": 0.46, \"diam_top_in_cm\": 0.18, \"side_branches_in_cm\": 60.23, \"total_meja\": 10, \"tip_of_stem_broken\": 1, \"infested\": 1, \"total_number_adults\": 10, \"main_stem_length_in_cm\": 43.0}, {\"stem_diam_bottom_in_cm\": 0.63, \"diam_top_in_cm\": 0.18, \"side_branches_in_cm\": 79.0, \"total_meja\": 0, \"tip_of_stem_broken\": 1, \"infested\": 0, \"total_number_adults\": 0, \"main_stem_length_in_cm\": 39.0}, {\"stem_diam_bottom_in_cm\": 0.53, \"diam_top_in_cm\": 0.18, \"side_branches_in_cm\": 60.23, \"total_meja\": 35, \"tip_of_stem_broken\": 0, \"infested\": 1, \"total_number_adults\": 7, \"main_stem_length_in_cm\": 116.0}, {\"stem_diam_bottom_in_cm\": 0.53, \"diam_top_in_cm\": 0.08, \"side_branches_in_cm\": 60.23, \"total_meja\": 16, \"tip_of_stem_broken\": 0, \"infested\": 1, \"total_number_adults\": 16, \"main_stem_length_in_cm\": 54.0}, {\"stem_diam_bottom_in_cm\": 0.67, \"diam_top_in_cm\": 0.18, \"side_branches_in_cm\": 60.23, \"total_meja\": 1, \"tip_of_stem_broken\": 0, \"infested\": 1, \"total_number_adults\": 1, \"main_stem_length_in_cm\": 113.0}, {\"stem_diam_bottom_in_cm\": 0.38, \"diam_top_in_cm\": 0.11, \"side_branches_in_cm\": 60.23, \"total_meja\": 22, \"tip_of_stem_broken\": 0, \"infested\": 1, \"total_number_adults\": 22, \"main_stem_length_in_cm\": 29.0}, {\"stem_diam_bottom_in_cm\": 0.37, \"diam_top_in_cm\": 0.18, \"side_branches_in_cm\": 60.23, \"total_meja\": 0, \"tip_of_stem_broken\": 1, \"infested\": 0, \"total_number_adults\": 0, \"main_stem_length_in_cm\": 33.0}, {\"stem_diam_bottom_in_cm\": 0.53, \"diam_top_in_cm\": 0.18, \"side_branches_in_cm\": 109.0, \"total_meja\": 4, \"tip_of_stem_broken\": 0, \"infested\": 1, \"total_number_adults\": 0, \"main_stem_length_in_cm\": 44.0}, {\"stem_diam_bottom_in_cm\": 0.33, \"diam_top_in_cm\": 0.18, \"side_branches_in_cm\": 60.23, \"total_meja\": 1, \"tip_of_stem_broken\": 0, \"infested\": 1, \"total_number_adults\": 0, \"main_stem_length_in_cm\": 43.0}, {\"stem_diam_bottom_in_cm\": 0.44, \"diam_top_in_cm\": 0.18, \"side_branches_in_cm\": 60.23, \"total_meja\": 0, \"tip_of_stem_broken\": 0, \"infested\": 0, \"total_number_adults\": 0, \"main_stem_length_in_cm\": 52.0}, {\"stem_diam_bottom_in_cm\": 0.51, \"diam_top_in_cm\": 0.21, \"side_branches_in_cm\": 60.23, \"total_meja\": 20, \"tip_of_stem_broken\": 1, \"infested\": 1, \"total_number_adults\": 12, \"main_stem_length_in_cm\": 42.0}, {\"stem_diam_bottom_in_cm\": 0.33, \"diam_top_in_cm\": 0.18, \"side_branches_in_cm\": 60.23, \"total_meja\": 0, \"tip_of_stem_broken\": 1, \"infested\": 0, \"total_number_adults\": 0, \"main_stem_length_in_cm\": 42.0}, {\"stem_diam_bottom_in_cm\": 0.45, \"diam_top_in_cm\": 0.14, \"side_branches_in_cm\": 60.23, \"total_meja\": 9, \"tip_of_stem_broken\": 1, \"infested\": 1, \"total_number_adults\": 3, \"main_stem_length_in_cm\": 43.0}, {\"stem_diam_bottom_in_cm\": 0.42, \"diam_top_in_cm\": 0.05, \"side_branches_in_cm\": 60.23, \"total_meja\": 0, \"tip_of_stem_broken\": 0, \"infested\": 0, \"total_number_adults\": 0, \"main_stem_length_in_cm\": 66.0}, {\"stem_diam_bottom_in_cm\": 0.3, \"diam_top_in_cm\": 0.2, \"side_branches_in_cm\": 60.23, \"total_meja\": 5, \"tip_of_stem_broken\": 0, \"infested\": 1, \"total_number_adults\": 1, \"main_stem_length_in_cm\": 25.0}, {\"stem_diam_bottom_in_cm\": 0.24, \"diam_top_in_cm\": 0.18, \"side_branches_in_cm\": 60.23, \"total_meja\": 0, \"tip_of_stem_broken\": 0, \"infested\": 0, \"total_number_adults\": 0, \"main_stem_length_in_cm\": 9.0}, {\"stem_diam_bottom_in_cm\": 0.42, \"diam_top_in_cm\": 0.07, \"side_branches_in_cm\": 60.23, \"total_meja\": 0, \"tip_of_stem_broken\": 0, \"infested\": 0, \"total_number_adults\": 0, \"main_stem_length_in_cm\": 65.0}, {\"stem_diam_bottom_in_cm\": 0.49, \"diam_top_in_cm\": 0.28, \"side_branches_in_cm\": 60.23, \"total_meja\": 6, \"tip_of_stem_broken\": 1, \"infested\": 1, \"total_number_adults\": 1, \"main_stem_length_in_cm\": 54.0}, {\"stem_diam_bottom_in_cm\": 0.43, \"diam_top_in_cm\": 0.06, \"side_branches_in_cm\": 60.23, \"total_meja\": 5, \"tip_of_stem_broken\": 0, \"infested\": 1, \"total_number_adults\": 5, \"main_stem_length_in_cm\": 58.0}, {\"stem_diam_bottom_in_cm\": 0.62, \"diam_top_in_cm\": 0.18, \"side_branches_in_cm\": 60.23, \"total_meja\": 0, \"tip_of_stem_broken\": 1, \"infested\": 0, \"total_number_adults\": 0, \"main_stem_length_in_cm\": 44.0}, {\"stem_diam_bottom_in_cm\": 0.5, \"diam_top_in_cm\": 0.18, \"side_branches_in_cm\": 60.23, \"total_meja\": 2, \"tip_of_stem_broken\": 0, \"infested\": 1, \"total_number_adults\": 0, \"main_stem_length_in_cm\": 65.0}, {\"stem_diam_bottom_in_cm\": 0.21, \"diam_top_in_cm\": 0.18, \"side_branches_in_cm\": 60.23, \"total_meja\": 0, \"tip_of_stem_broken\": 0, \"infested\": 0, \"total_number_adults\": 0, \"main_stem_length_in_cm\": 12.5}, {\"stem_diam_bottom_in_cm\": 0.47, \"diam_top_in_cm\": 0.46, \"side_branches_in_cm\": 60.23, \"total_meja\": 10, \"tip_of_stem_broken\": 1, \"infested\": 1, \"total_number_adults\": 1, \"main_stem_length_in_cm\": 36.0}, {\"stem_diam_bottom_in_cm\": 0.63, \"diam_top_in_cm\": 0.18, \"side_branches_in_cm\": 60.23, \"total_meja\": 15, \"tip_of_stem_broken\": 0, \"infested\": 1, \"total_number_adults\": 2, \"main_stem_length_in_cm\": 64.0}, {\"stem_diam_bottom_in_cm\": 0.34, \"diam_top_in_cm\": 0.18, \"side_branches_in_cm\": 60.23, \"total_meja\": 0, \"tip_of_stem_broken\": 0, \"infested\": 0, \"total_number_adults\": 0, \"main_stem_length_in_cm\": 57.0}, {\"stem_diam_bottom_in_cm\": 0.24, \"diam_top_in_cm\": 0.14, \"side_branches_in_cm\": 60.23, \"total_meja\": 10, \"tip_of_stem_broken\": 0, \"infested\": 1, \"total_number_adults\": 10, \"main_stem_length_in_cm\": 25.0}, {\"stem_diam_bottom_in_cm\": 0.51, \"diam_top_in_cm\": 0.11, \"side_branches_in_cm\": 60.23, \"total_meja\": 0, \"tip_of_stem_broken\": 1, \"infested\": 0, \"total_number_adults\": 0, \"main_stem_length_in_cm\": 83.0}, {\"stem_diam_bottom_in_cm\": 0.24, \"diam_top_in_cm\": 0.18, \"side_branches_in_cm\": 60.23, \"total_meja\": 0, \"tip_of_stem_broken\": 0, \"infested\": 0, \"total_number_adults\": 0, \"main_stem_length_in_cm\": 10.0}, {\"stem_diam_bottom_in_cm\": 0.55, \"diam_top_in_cm\": 0.18, \"side_branches_in_cm\": 24.0, \"total_meja\": 0, \"tip_of_stem_broken\": 1, \"infested\": 0, \"total_number_adults\": 0, \"main_stem_length_in_cm\": 39.0}, {\"stem_diam_bottom_in_cm\": 0.35, \"diam_top_in_cm\": 0.18, \"side_branches_in_cm\": 60.23, \"total_meja\": 0, \"tip_of_stem_broken\": 1, \"infested\": 0, \"total_number_adults\": 0, \"main_stem_length_in_cm\": 30.0}, {\"stem_diam_bottom_in_cm\": 0.58, \"diam_top_in_cm\": 0.18, \"side_branches_in_cm\": 46.0, \"total_meja\": 0, \"tip_of_stem_broken\": 1, \"infested\": 0, \"total_number_adults\": 0, \"main_stem_length_in_cm\": 38.0}, {\"stem_diam_bottom_in_cm\": 0.39, \"diam_top_in_cm\": 0.18, \"side_branches_in_cm\": 60.23, \"total_meja\": 3, \"tip_of_stem_broken\": 0, \"infested\": 1, \"total_number_adults\": 0, \"main_stem_length_in_cm\": 43.0}, {\"stem_diam_bottom_in_cm\": 0.41, \"diam_top_in_cm\": 0.18, \"side_branches_in_cm\": 60.23, \"total_meja\": 21, \"tip_of_stem_broken\": 0, \"infested\": 1, \"total_number_adults\": 1, \"main_stem_length_in_cm\": 61.0}, {\"stem_diam_bottom_in_cm\": 0.42, \"diam_top_in_cm\": 0.18, \"side_branches_in_cm\": 60.23, \"total_meja\": 21, \"tip_of_stem_broken\": 0, \"infested\": 1, \"total_number_adults\": 4, \"main_stem_length_in_cm\": 59.0}, {\"stem_diam_bottom_in_cm\": 0.36, \"diam_top_in_cm\": 0.18, \"side_branches_in_cm\": 60.23, \"total_meja\": 0, \"tip_of_stem_broken\": 1, \"infested\": 0, \"total_number_adults\": 0, \"main_stem_length_in_cm\": 42.0}, {\"stem_diam_bottom_in_cm\": 0.51, \"diam_top_in_cm\": 0.1, \"side_branches_in_cm\": 60.23, \"total_meja\": 31, \"tip_of_stem_broken\": 1, \"infested\": 1, \"total_number_adults\": 24, \"main_stem_length_in_cm\": 47.5}, {\"stem_diam_bottom_in_cm\": 0.59, \"diam_top_in_cm\": 0.18, \"side_branches_in_cm\": 60.23, \"total_meja\": 0, \"tip_of_stem_broken\": 1, \"infested\": 0, \"total_number_adults\": 0, \"main_stem_length_in_cm\": 25.0}, {\"stem_diam_bottom_in_cm\": 0.89, \"diam_top_in_cm\": 0.18, \"side_branches_in_cm\": 60.23, \"total_meja\": 28, \"tip_of_stem_broken\": 0, \"infested\": 1, \"total_number_adults\": 6, \"main_stem_length_in_cm\": 85.0}, {\"stem_diam_bottom_in_cm\": 0.68, \"diam_top_in_cm\": 0.18, \"side_branches_in_cm\": 60.23, \"total_meja\": 20, \"tip_of_stem_broken\": 0, \"infested\": 1, \"total_number_adults\": 3, \"main_stem_length_in_cm\": 51.0}, {\"stem_diam_bottom_in_cm\": 0.34, \"diam_top_in_cm\": 0.18, \"side_branches_in_cm\": 60.23, \"total_meja\": 0, \"tip_of_stem_broken\": 1, \"infested\": 0, \"total_number_adults\": 0, \"main_stem_length_in_cm\": 35.0}, {\"stem_diam_bottom_in_cm\": 0.51, \"diam_top_in_cm\": 0.18, \"side_branches_in_cm\": 60.23, \"total_meja\": 0, \"tip_of_stem_broken\": 0, \"infested\": 0, \"total_number_adults\": 0, \"main_stem_length_in_cm\": 110.0}, {\"stem_diam_bottom_in_cm\": 0.56, \"diam_top_in_cm\": 0.18, \"side_branches_in_cm\": 60.23, \"total_meja\": 13, \"tip_of_stem_broken\": 0, \"infested\": 1, \"total_number_adults\": 3, \"main_stem_length_in_cm\": 32.0}, {\"stem_diam_bottom_in_cm\": 0.53, \"diam_top_in_cm\": 0.18, \"side_branches_in_cm\": 60.23, \"total_meja\": 0, \"tip_of_stem_broken\": 1, \"infested\": 0, \"total_number_adults\": 0, \"main_stem_length_in_cm\": 45.0}, {\"stem_diam_bottom_in_cm\": 0.48, \"diam_top_in_cm\": 0.18, \"side_branches_in_cm\": 60.23, \"total_meja\": 8, \"tip_of_stem_broken\": 0, \"infested\": 1, \"total_number_adults\": 0, \"main_stem_length_in_cm\": 67.0}, {\"stem_diam_bottom_in_cm\": 0.8, \"diam_top_in_cm\": 0.3, \"side_branches_in_cm\": 60.23, \"total_meja\": 3, \"tip_of_stem_broken\": 1, \"infested\": 1, \"total_number_adults\": 2, \"main_stem_length_in_cm\": 75.0}, {\"stem_diam_bottom_in_cm\": 0.54, \"diam_top_in_cm\": 0.18, \"side_branches_in_cm\": 60.23, \"total_meja\": 10, \"tip_of_stem_broken\": 1, \"infested\": 1, \"total_number_adults\": 9, \"main_stem_length_in_cm\": 42.0}, {\"stem_diam_bottom_in_cm\": 0.53, \"diam_top_in_cm\": 0.18, \"side_branches_in_cm\": 22.0, \"total_meja\": 0, \"tip_of_stem_broken\": 1, \"infested\": 0, \"total_number_adults\": 0, \"main_stem_length_in_cm\": 31.0}, {\"stem_diam_bottom_in_cm\": 0.43, \"diam_top_in_cm\": 0.18, \"side_branches_in_cm\": 60.23, \"total_meja\": 10, \"tip_of_stem_broken\": 0, \"infested\": 1, \"total_number_adults\": 0, \"main_stem_length_in_cm\": 34.0}, {\"stem_diam_bottom_in_cm\": 0.33, \"diam_top_in_cm\": 0.18, \"side_branches_in_cm\": 60.23, \"total_meja\": 8, \"tip_of_stem_broken\": 0, \"infested\": 1, \"total_number_adults\": 0, \"main_stem_length_in_cm\": 38.0}, {\"stem_diam_bottom_in_cm\": 0.4, \"diam_top_in_cm\": 0.18, \"side_branches_in_cm\": 60.23, \"total_meja\": 9, \"tip_of_stem_broken\": 0, \"infested\": 1, \"total_number_adults\": 0, \"main_stem_length_in_cm\": 20.0}, {\"stem_diam_bottom_in_cm\": 0.55, \"diam_top_in_cm\": 0.18, \"side_branches_in_cm\": 60.23, \"total_meja\": 0, \"tip_of_stem_broken\": 0, \"infested\": 0, \"total_number_adults\": 0, \"main_stem_length_in_cm\": 86.0}, {\"stem_diam_bottom_in_cm\": 0.59, \"diam_top_in_cm\": 0.18, \"side_branches_in_cm\": 26.0, \"total_meja\": 1, \"tip_of_stem_broken\": 0, \"infested\": 1, \"total_number_adults\": 0, \"main_stem_length_in_cm\": 42.0}, {\"stem_diam_bottom_in_cm\": 0.62, \"diam_top_in_cm\": 0.18, \"side_branches_in_cm\": 83.0, \"total_meja\": 0, \"tip_of_stem_broken\": 0, \"infested\": 0, \"total_number_adults\": 0, \"main_stem_length_in_cm\": 64.0}, {\"stem_diam_bottom_in_cm\": 0.65, \"diam_top_in_cm\": 0.18, \"side_branches_in_cm\": 60.23, \"total_meja\": 0, \"tip_of_stem_broken\": 0, \"infested\": 0, \"total_number_adults\": 0, \"main_stem_length_in_cm\": 99.0}, {\"stem_diam_bottom_in_cm\": 0.43, \"diam_top_in_cm\": 0.23, \"side_branches_in_cm\": 60.23, \"total_meja\": 18, \"tip_of_stem_broken\": 1, \"infested\": 1, \"total_number_adults\": 1, \"main_stem_length_in_cm\": 40.0}, {\"stem_diam_bottom_in_cm\": 0.57, \"diam_top_in_cm\": 0.18, \"side_branches_in_cm\": 60.23, \"total_meja\": 0, \"tip_of_stem_broken\": 0, \"infested\": 0, \"total_number_adults\": 0, \"main_stem_length_in_cm\": 75.0}, {\"stem_diam_bottom_in_cm\": 0.55, \"diam_top_in_cm\": 0.07, \"side_branches_in_cm\": 60.23, \"total_meja\": 44, \"tip_of_stem_broken\": 0, \"infested\": 1, \"total_number_adults\": 13, \"main_stem_length_in_cm\": 48.0}, {\"stem_diam_bottom_in_cm\": 0.6, \"diam_top_in_cm\": 0.18, \"side_branches_in_cm\": 60.23, \"total_meja\": 10, \"tip_of_stem_broken\": 0, \"infested\": 1, \"total_number_adults\": 1, \"main_stem_length_in_cm\": 58.0}, {\"stem_diam_bottom_in_cm\": 0.55, \"diam_top_in_cm\": 0.15, \"side_branches_in_cm\": 60.23, \"total_meja\": 0, \"tip_of_stem_broken\": 1, \"infested\": 0, \"total_number_adults\": 0, \"main_stem_length_in_cm\": 57.0}, {\"stem_diam_bottom_in_cm\": 0.65, \"diam_top_in_cm\": 0.16, \"side_branches_in_cm\": 60.23, \"total_meja\": 6, \"tip_of_stem_broken\": 0, \"infested\": 1, \"total_number_adults\": 6, \"main_stem_length_in_cm\": 37.0}, {\"stem_diam_bottom_in_cm\": 0.26, \"diam_top_in_cm\": 0.18, \"side_branches_in_cm\": 60.23, \"total_meja\": 0, \"tip_of_stem_broken\": 0, \"infested\": 0, \"total_number_adults\": 0, \"main_stem_length_in_cm\": 4.0}, {\"stem_diam_bottom_in_cm\": 0.48, \"diam_top_in_cm\": 0.11, \"side_branches_in_cm\": 60.23, \"total_meja\": 15, \"tip_of_stem_broken\": 1, \"infested\": 1, \"total_number_adults\": 11, \"main_stem_length_in_cm\": 30.5}, {\"stem_diam_bottom_in_cm\": 0.39, \"diam_top_in_cm\": 0.18, \"side_branches_in_cm\": 60.23, \"total_meja\": 0, \"tip_of_stem_broken\": 0, \"infested\": 0, \"total_number_adults\": 0, \"main_stem_length_in_cm\": 60.0}, {\"stem_diam_bottom_in_cm\": 0.55, \"diam_top_in_cm\": 0.18, \"side_branches_in_cm\": 60.23, \"total_meja\": 0, \"tip_of_stem_broken\": 0, \"infested\": 0, \"total_number_adults\": 0, \"main_stem_length_in_cm\": 95.0}, {\"stem_diam_bottom_in_cm\": 0.58, \"diam_top_in_cm\": 0.09, \"side_branches_in_cm\": 60.23, \"total_meja\": 1, \"tip_of_stem_broken\": 1, \"infested\": 1, \"total_number_adults\": 0, \"main_stem_length_in_cm\": 62.0}, {\"stem_diam_bottom_in_cm\": 0.18, \"diam_top_in_cm\": 0.18, \"side_branches_in_cm\": 60.23, \"total_meja\": 0, \"tip_of_stem_broken\": 0, \"infested\": 0, \"total_number_adults\": 0, \"main_stem_length_in_cm\": 11.0}, {\"stem_diam_bottom_in_cm\": 0.62, \"diam_top_in_cm\": 0.12, \"side_branches_in_cm\": 60.23, \"total_meja\": 4, \"tip_of_stem_broken\": 1, \"infested\": 1, \"total_number_adults\": 4, \"main_stem_length_in_cm\": 67.0}, {\"stem_diam_bottom_in_cm\": 0.72, \"diam_top_in_cm\": 0.05, \"side_branches_in_cm\": 60.23, \"total_meja\": 0, \"tip_of_stem_broken\": 0, \"infested\": 0, \"total_number_adults\": 0, \"main_stem_length_in_cm\": 100.0}, {\"stem_diam_bottom_in_cm\": 0.78, \"diam_top_in_cm\": 0.18, \"side_branches_in_cm\": 60.23, \"total_meja\": 0, \"tip_of_stem_broken\": 0, \"infested\": 0, \"total_number_adults\": 0, \"main_stem_length_in_cm\": 115.0}, {\"stem_diam_bottom_in_cm\": 0.34, \"diam_top_in_cm\": 0.17, \"side_branches_in_cm\": 60.23, \"total_meja\": 7, \"tip_of_stem_broken\": 1, \"infested\": 1, \"total_number_adults\": 7, \"main_stem_length_in_cm\": 34.0}, {\"stem_diam_bottom_in_cm\": 0.34, \"diam_top_in_cm\": 0.18, \"side_branches_in_cm\": 60.23, \"total_meja\": 0, \"tip_of_stem_broken\": 1, \"infested\": 0, \"total_number_adults\": 0, \"main_stem_length_in_cm\": 34.0}, {\"stem_diam_bottom_in_cm\": 0.67, \"diam_top_in_cm\": 0.18, \"side_branches_in_cm\": 19.0, \"total_meja\": 0, \"tip_of_stem_broken\": 1, \"infested\": 0, \"total_number_adults\": 0, \"main_stem_length_in_cm\": 54.0}, {\"stem_diam_bottom_in_cm\": 0.38, \"diam_top_in_cm\": 0.13, \"side_branches_in_cm\": 60.23, \"total_meja\": 5, \"tip_of_stem_broken\": 1, \"infested\": 1, \"total_number_adults\": 5, \"main_stem_length_in_cm\": 39.0}, {\"stem_diam_bottom_in_cm\": 0.32, \"diam_top_in_cm\": 0.18, \"side_branches_in_cm\": 60.23, \"total_meja\": 0, \"tip_of_stem_broken\": 0, \"infested\": 0, \"total_number_adults\": 0, \"main_stem_length_in_cm\": 22.0}, {\"stem_diam_bottom_in_cm\": 0.68, \"diam_top_in_cm\": 0.18, \"side_branches_in_cm\": 18.0, \"total_meja\": 0, \"tip_of_stem_broken\": 1, \"infested\": 0, \"total_number_adults\": 0, \"main_stem_length_in_cm\": 56.0}, {\"stem_diam_bottom_in_cm\": 1.09, \"diam_top_in_cm\": 0.28, \"side_branches_in_cm\": 60.23, \"total_meja\": 0, \"tip_of_stem_broken\": 1, \"infested\": 0, \"total_number_adults\": 0, \"main_stem_length_in_cm\": 92.0}, {\"stem_diam_bottom_in_cm\": 0.41, \"diam_top_in_cm\": 0.38, \"side_branches_in_cm\": 60.23, \"total_meja\": 1, \"tip_of_stem_broken\": 1, \"infested\": 1, \"total_number_adults\": 0, \"main_stem_length_in_cm\": 8.0}, {\"stem_diam_bottom_in_cm\": 0.51, \"diam_top_in_cm\": 0.18, \"side_branches_in_cm\": 60.23, \"total_meja\": 10, \"tip_of_stem_broken\": 0, \"infested\": 1, \"total_number_adults\": 0, \"main_stem_length_in_cm\": 54.0}, {\"stem_diam_bottom_in_cm\": 0.6, \"diam_top_in_cm\": 0.18, \"side_branches_in_cm\": 9.0, \"total_meja\": 0, \"tip_of_stem_broken\": 1, \"infested\": 0, \"total_number_adults\": 0, \"main_stem_length_in_cm\": 41.0}, {\"stem_diam_bottom_in_cm\": 0.36, \"diam_top_in_cm\": 0.18, \"side_branches_in_cm\": 60.23, \"total_meja\": 9, \"tip_of_stem_broken\": 0, \"infested\": 1, \"total_number_adults\": 9, \"main_stem_length_in_cm\": 29.5}, {\"stem_diam_bottom_in_cm\": 0.51, \"diam_top_in_cm\": 0.18, \"side_branches_in_cm\": 60.23, \"total_meja\": 0, \"tip_of_stem_broken\": 1, \"infested\": 0, \"total_number_adults\": 0, \"main_stem_length_in_cm\": 36.0}, {\"stem_diam_bottom_in_cm\": 0.15, \"diam_top_in_cm\": 0.18, \"side_branches_in_cm\": 60.23, \"total_meja\": 0, \"tip_of_stem_broken\": 0, \"infested\": 0, \"total_number_adults\": 0, \"main_stem_length_in_cm\": 13.0}, {\"stem_diam_bottom_in_cm\": 0.31, \"diam_top_in_cm\": 0.08, \"side_branches_in_cm\": 60.23, \"total_meja\": 10, \"tip_of_stem_broken\": 0, \"infested\": 1, \"total_number_adults\": 10, \"main_stem_length_in_cm\": 39.0}, {\"stem_diam_bottom_in_cm\": 0.53, \"diam_top_in_cm\": 0.21, \"side_branches_in_cm\": 60.23, \"total_meja\": 1, \"tip_of_stem_broken\": 1, \"infested\": 1, \"total_number_adults\": 1, \"main_stem_length_in_cm\": 51.0}, {\"stem_diam_bottom_in_cm\": 0.35, \"diam_top_in_cm\": 0.18, \"side_branches_in_cm\": 60.23, \"total_meja\": 0, \"tip_of_stem_broken\": 1, \"infested\": 0, \"total_number_adults\": 0, \"main_stem_length_in_cm\": 28.0}, {\"stem_diam_bottom_in_cm\": 0.23, \"diam_top_in_cm\": 0.1, \"side_branches_in_cm\": 60.23, \"total_meja\": 10, \"tip_of_stem_broken\": 1, \"infested\": 1, \"total_number_adults\": 1, \"main_stem_length_in_cm\": 17.5}, {\"stem_diam_bottom_in_cm\": 0.33, \"diam_top_in_cm\": 0.18, \"side_branches_in_cm\": 60.23, \"total_meja\": 0, \"tip_of_stem_broken\": 0, \"infested\": 0, \"total_number_adults\": 0, \"main_stem_length_in_cm\": 88.0}, {\"stem_diam_bottom_in_cm\": 0.68, \"diam_top_in_cm\": 0.18, \"side_branches_in_cm\": 73.0, \"total_meja\": 0, \"tip_of_stem_broken\": 1, \"infested\": 0, \"total_number_adults\": 0, \"main_stem_length_in_cm\": 59.0}, {\"stem_diam_bottom_in_cm\": 0.41, \"diam_top_in_cm\": 0.18, \"side_branches_in_cm\": 60.23, \"total_meja\": 0, \"tip_of_stem_broken\": 1, \"infested\": 0, \"total_number_adults\": 0, \"main_stem_length_in_cm\": 31.0}, {\"stem_diam_bottom_in_cm\": 0.62, \"diam_top_in_cm\": 0.16, \"side_branches_in_cm\": 60.23, \"total_meja\": 6, \"tip_of_stem_broken\": 1, \"infested\": 1, \"total_number_adults\": 6, \"main_stem_length_in_cm\": 57.0}, {\"stem_diam_bottom_in_cm\": 0.56, \"diam_top_in_cm\": 0.18, \"side_branches_in_cm\": 60.23, \"total_meja\": 0, \"tip_of_stem_broken\": 1, \"infested\": 0, \"total_number_adults\": 0, \"main_stem_length_in_cm\": 57.0}, {\"stem_diam_bottom_in_cm\": 0.48, \"diam_top_in_cm\": 0.13, \"side_branches_in_cm\": 60.23, \"total_meja\": 10, \"tip_of_stem_broken\": 0, \"infested\": 1, \"total_number_adults\": 10, \"main_stem_length_in_cm\": 41.0}, {\"stem_diam_bottom_in_cm\": 0.67, \"diam_top_in_cm\": 0.05, \"side_branches_in_cm\": 60.23, \"total_meja\": 0, \"tip_of_stem_broken\": 0, \"infested\": 0, \"total_number_adults\": 0, \"main_stem_length_in_cm\": 90.0}, {\"stem_diam_bottom_in_cm\": 0.31, \"diam_top_in_cm\": 0.16, \"side_branches_in_cm\": 60.23, \"total_meja\": 1, \"tip_of_stem_broken\": 1, \"infested\": 1, \"total_number_adults\": 1, \"main_stem_length_in_cm\": 31.0}, {\"stem_diam_bottom_in_cm\": 0.68, \"diam_top_in_cm\": 0.06, \"side_branches_in_cm\": 60.23, \"total_meja\": 0, \"tip_of_stem_broken\": 0, \"infested\": 0, \"total_number_adults\": 0, \"main_stem_length_in_cm\": 110.0}, {\"stem_diam_bottom_in_cm\": 0.67, \"diam_top_in_cm\": 0.18, \"side_branches_in_cm\": 35.0, \"total_meja\": 0, \"tip_of_stem_broken\": 1, \"infested\": 0, \"total_number_adults\": 0, \"main_stem_length_in_cm\": 62.0}, {\"stem_diam_bottom_in_cm\": 0.49, \"diam_top_in_cm\": 0.18, \"side_branches_in_cm\": 19.0, \"total_meja\": 0, \"tip_of_stem_broken\": 0, \"infested\": 0, \"total_number_adults\": 0, \"main_stem_length_in_cm\": 69.0}, {\"stem_diam_bottom_in_cm\": 0.51, \"diam_top_in_cm\": 0.18, \"side_branches_in_cm\": 60.23, \"total_meja\": 18, \"tip_of_stem_broken\": 0, \"infested\": 1, \"total_number_adults\": 0, \"main_stem_length_in_cm\": 54.0}, {\"stem_diam_bottom_in_cm\": 0.44, \"diam_top_in_cm\": 0.18, \"side_branches_in_cm\": 53.0, \"total_meja\": 0, \"tip_of_stem_broken\": 1, \"infested\": 0, \"total_number_adults\": 0, \"main_stem_length_in_cm\": 31.0}, {\"stem_diam_bottom_in_cm\": 0.66, \"diam_top_in_cm\": 0.18, \"side_branches_in_cm\": 60.23, \"total_meja\": 0, \"tip_of_stem_broken\": 1, \"infested\": 0, \"total_number_adults\": 0, \"main_stem_length_in_cm\": 48.0}, {\"stem_diam_bottom_in_cm\": 0.65, \"diam_top_in_cm\": 0.18, \"side_branches_in_cm\": 46.0, \"total_meja\": 0, \"tip_of_stem_broken\": 1, \"infested\": 0, \"total_number_adults\": 0, \"main_stem_length_in_cm\": 51.0}, {\"stem_diam_bottom_in_cm\": 0.65, \"diam_top_in_cm\": 0.05, \"side_branches_in_cm\": 60.23, \"total_meja\": 5, \"tip_of_stem_broken\": 0, \"infested\": 1, \"total_number_adults\": 4, \"main_stem_length_in_cm\": 48.0}, {\"stem_diam_bottom_in_cm\": 0.51, \"diam_top_in_cm\": 0.18, \"side_branches_in_cm\": 39.0, \"total_meja\": 5, \"tip_of_stem_broken\": 0, \"infested\": 1, \"total_number_adults\": 0, \"main_stem_length_in_cm\": 64.0}, {\"stem_diam_bottom_in_cm\": 0.62, \"diam_top_in_cm\": 0.2, \"side_branches_in_cm\": 60.23, \"total_meja\": 22, \"tip_of_stem_broken\": 1, \"infested\": 1, \"total_number_adults\": 22, \"main_stem_length_in_cm\": 55.0}, {\"stem_diam_bottom_in_cm\": 0.83, \"diam_top_in_cm\": 0.18, \"side_branches_in_cm\": 60.23, \"total_meja\": 24, \"tip_of_stem_broken\": 0, \"infested\": 1, \"total_number_adults\": 2, \"main_stem_length_in_cm\": 51.0}, {\"stem_diam_bottom_in_cm\": 0.34, \"diam_top_in_cm\": 0.18, \"side_branches_in_cm\": 60.23, \"total_meja\": 1, \"tip_of_stem_broken\": 0, \"infested\": 1, \"total_number_adults\": 0, \"main_stem_length_in_cm\": 29.0}, {\"stem_diam_bottom_in_cm\": 0.42, \"diam_top_in_cm\": 0.18, \"side_branches_in_cm\": 60.23, \"total_meja\": 15, \"tip_of_stem_broken\": 0, \"infested\": 1, \"total_number_adults\": 0, \"main_stem_length_in_cm\": 58.0}, {\"stem_diam_bottom_in_cm\": 0.21, \"diam_top_in_cm\": 0.18, \"side_branches_in_cm\": 60.23, \"total_meja\": 0, \"tip_of_stem_broken\": 0, \"infested\": 0, \"total_number_adults\": 0, \"main_stem_length_in_cm\": 15.5}, {\"stem_diam_bottom_in_cm\": 1.08, \"diam_top_in_cm\": 0.48, \"side_branches_in_cm\": 60.23, \"total_meja\": 0, \"tip_of_stem_broken\": 1, \"infested\": 0, \"total_number_adults\": 0, \"main_stem_length_in_cm\": 71.0}, {\"stem_diam_bottom_in_cm\": 0.27, \"diam_top_in_cm\": 0.08, \"side_branches_in_cm\": 60.23, \"total_meja\": 12, \"tip_of_stem_broken\": 0, \"infested\": 1, \"total_number_adults\": 12, \"main_stem_length_in_cm\": 29.0}, {\"stem_diam_bottom_in_cm\": 0.43, \"diam_top_in_cm\": 0.18, \"side_branches_in_cm\": 60.23, \"total_meja\": 0, \"tip_of_stem_broken\": 1, \"infested\": 0, \"total_number_adults\": 0, \"main_stem_length_in_cm\": 49.0}, {\"stem_diam_bottom_in_cm\": 0.14, \"diam_top_in_cm\": 0.18, \"side_branches_in_cm\": 60.23, \"total_meja\": 0, \"tip_of_stem_broken\": 0, \"infested\": 0, \"total_number_adults\": 0, \"main_stem_length_in_cm\": 5.0}, {\"stem_diam_bottom_in_cm\": 0.71, \"diam_top_in_cm\": 0.18, \"side_branches_in_cm\": 60.23, \"total_meja\": 28, \"tip_of_stem_broken\": 0, \"infested\": 1, \"total_number_adults\": 2, \"main_stem_length_in_cm\": 58.0}, {\"stem_diam_bottom_in_cm\": 0.48, \"diam_top_in_cm\": 0.18, \"side_branches_in_cm\": 60.23, \"total_meja\": 0, \"tip_of_stem_broken\": 1, \"infested\": 0, \"total_number_adults\": 0, \"main_stem_length_in_cm\": 63.0}, {\"stem_diam_bottom_in_cm\": 0.53, \"diam_top_in_cm\": 0.19, \"side_branches_in_cm\": 60.23, \"total_meja\": 8, \"tip_of_stem_broken\": 1, \"infested\": 1, \"total_number_adults\": 7, \"main_stem_length_in_cm\": 35.0}, {\"stem_diam_bottom_in_cm\": 0.23, \"diam_top_in_cm\": 0.18, \"side_branches_in_cm\": 60.23, \"total_meja\": 0, \"tip_of_stem_broken\": 0, \"infested\": 0, \"total_number_adults\": 0, \"main_stem_length_in_cm\": 12.0}, {\"stem_diam_bottom_in_cm\": 0.31, \"diam_top_in_cm\": 0.06, \"side_branches_in_cm\": 60.23, \"total_meja\": 10, \"tip_of_stem_broken\": 0, \"infested\": 1, \"total_number_adults\": 8, \"main_stem_length_in_cm\": 27.5}, {\"stem_diam_bottom_in_cm\": 0.64, \"diam_top_in_cm\": 0.18, \"side_branches_in_cm\": 60.23, \"total_meja\": 12, \"tip_of_stem_broken\": 0, \"infested\": 1, \"total_number_adults\": 1, \"main_stem_length_in_cm\": 43.0}, {\"stem_diam_bottom_in_cm\": 0.37, \"diam_top_in_cm\": 0.05, \"side_branches_in_cm\": 60.23, \"total_meja\": 9, \"tip_of_stem_broken\": 0, \"infested\": 1, \"total_number_adults\": 6, \"main_stem_length_in_cm\": 47.0}, {\"stem_diam_bottom_in_cm\": 0.41, \"diam_top_in_cm\": 0.18, \"side_branches_in_cm\": 60.23, \"total_meja\": 16, \"tip_of_stem_broken\": 0, \"infested\": 1, \"total_number_adults\": 0, \"main_stem_length_in_cm\": 28.0}, {\"stem_diam_bottom_in_cm\": 0.49, \"diam_top_in_cm\": 0.2, \"side_branches_in_cm\": 60.23, \"total_meja\": 26, \"tip_of_stem_broken\": 1, \"infested\": 1, \"total_number_adults\": 17, \"main_stem_length_in_cm\": 41.0}, {\"stem_diam_bottom_in_cm\": 0.34, \"diam_top_in_cm\": 0.05, \"side_branches_in_cm\": 60.23, \"total_meja\": 0, \"tip_of_stem_broken\": 0, \"infested\": 0, \"total_number_adults\": 0, \"main_stem_length_in_cm\": 83.0}, {\"stem_diam_bottom_in_cm\": 0.36, \"diam_top_in_cm\": 0.18, \"side_branches_in_cm\": 60.23, \"total_meja\": 0, \"tip_of_stem_broken\": 1, \"infested\": 0, \"total_number_adults\": 0, \"main_stem_length_in_cm\": 54.0}, {\"stem_diam_bottom_in_cm\": 0.41, \"diam_top_in_cm\": 0.18, \"side_branches_in_cm\": 60.23, \"total_meja\": 10, \"tip_of_stem_broken\": 0, \"infested\": 1, \"total_number_adults\": 3, \"main_stem_length_in_cm\": 34.0}, {\"stem_diam_bottom_in_cm\": 0.44, \"diam_top_in_cm\": 0.18, \"side_branches_in_cm\": 60.23, \"total_meja\": 0, \"tip_of_stem_broken\": 1, \"infested\": 0, \"total_number_adults\": 0, \"main_stem_length_in_cm\": 56.0}, {\"stem_diam_bottom_in_cm\": 0.44, \"diam_top_in_cm\": 0.09, \"side_branches_in_cm\": 60.23, \"total_meja\": 17, \"tip_of_stem_broken\": 0, \"infested\": 1, \"total_number_adults\": 16, \"main_stem_length_in_cm\": 39.0}, {\"stem_diam_bottom_in_cm\": 0.39, \"diam_top_in_cm\": 0.09, \"side_branches_in_cm\": 60.23, \"total_meja\": 10, \"tip_of_stem_broken\": 0, \"infested\": 1, \"total_number_adults\": 10, \"main_stem_length_in_cm\": 29.0}, {\"stem_diam_bottom_in_cm\": 0.49, \"diam_top_in_cm\": 0.18, \"side_branches_in_cm\": 60.23, \"total_meja\": 0, \"tip_of_stem_broken\": 1, \"infested\": 0, \"total_number_adults\": 0, \"main_stem_length_in_cm\": 42.0}, {\"stem_diam_bottom_in_cm\": 0.76, \"diam_top_in_cm\": 0.45, \"side_branches_in_cm\": 60.23, \"total_meja\": 2, \"tip_of_stem_broken\": 1, \"infested\": 1, \"total_number_adults\": 0, \"main_stem_length_in_cm\": 45.0}, {\"stem_diam_bottom_in_cm\": 0.33, \"diam_top_in_cm\": 0.18, \"side_branches_in_cm\": 60.23, \"total_meja\": 0, \"tip_of_stem_broken\": 1, \"infested\": 0, \"total_number_adults\": 0, \"main_stem_length_in_cm\": 27.0}, {\"stem_diam_bottom_in_cm\": 0.52, \"diam_top_in_cm\": 0.17, \"side_branches_in_cm\": 60.23, \"total_meja\": 8, \"tip_of_stem_broken\": 1, \"infested\": 1, \"total_number_adults\": 8, \"main_stem_length_in_cm\": 78.0}, {\"stem_diam_bottom_in_cm\": 0.39, \"diam_top_in_cm\": 0.18, \"side_branches_in_cm\": 60.23, \"total_meja\": 0, \"tip_of_stem_broken\": 0, \"infested\": 0, \"total_number_adults\": 0, \"main_stem_length_in_cm\": 25.0}, {\"stem_diam_bottom_in_cm\": 0.73, \"diam_top_in_cm\": 0.18, \"side_branches_in_cm\": 60.23, \"total_meja\": 2, \"tip_of_stem_broken\": 0, \"infested\": 1, \"total_number_adults\": 0, \"main_stem_length_in_cm\": 99.0}, {\"stem_diam_bottom_in_cm\": 0.62, \"diam_top_in_cm\": 0.57, \"side_branches_in_cm\": 60.23, \"total_meja\": 2, \"tip_of_stem_broken\": 1, \"infested\": 1, \"total_number_adults\": 1, \"main_stem_length_in_cm\": 55.0}, {\"stem_diam_bottom_in_cm\": 0.44, \"diam_top_in_cm\": 0.27, \"side_branches_in_cm\": 60.23, \"total_meja\": 17, \"tip_of_stem_broken\": 1, \"infested\": 1, \"total_number_adults\": 17, \"main_stem_length_in_cm\": 34.0}, {\"stem_diam_bottom_in_cm\": 0.65, \"diam_top_in_cm\": 0.18, \"side_branches_in_cm\": 60.23, \"total_meja\": 0, \"tip_of_stem_broken\": 0, \"infested\": 0, \"total_number_adults\": 0, \"main_stem_length_in_cm\": 77.0}, {\"stem_diam_bottom_in_cm\": 0.5, \"diam_top_in_cm\": 0.34, \"side_branches_in_cm\": 60.23, \"total_meja\": 4, \"tip_of_stem_broken\": 1, \"infested\": 1, \"total_number_adults\": 0, \"main_stem_length_in_cm\": 44.0}, {\"stem_diam_bottom_in_cm\": 0.83, \"diam_top_in_cm\": 0.09, \"side_branches_in_cm\": 60.23, \"total_meja\": 1, \"tip_of_stem_broken\": 1, \"infested\": 1, \"total_number_adults\": 1, \"main_stem_length_in_cm\": 77.0}, {\"stem_diam_bottom_in_cm\": 0.61, \"diam_top_in_cm\": 0.16, \"side_branches_in_cm\": 60.23, \"total_meja\": 11, \"tip_of_stem_broken\": 1, \"infested\": 1, \"total_number_adults\": 10, \"main_stem_length_in_cm\": 35.0}, {\"stem_diam_bottom_in_cm\": 0.48, \"diam_top_in_cm\": 0.1, \"side_branches_in_cm\": 60.23, \"total_meja\": 0, \"tip_of_stem_broken\": 0, \"infested\": 0, \"total_number_adults\": 0, \"main_stem_length_in_cm\": 61.0}, {\"stem_diam_bottom_in_cm\": 0.2, \"diam_top_in_cm\": 0.18, \"side_branches_in_cm\": 60.23, \"total_meja\": 0, \"tip_of_stem_broken\": 0, \"infested\": 0, \"total_number_adults\": 0, \"main_stem_length_in_cm\": 16.5}, {\"stem_diam_bottom_in_cm\": 0.52, \"diam_top_in_cm\": 0.18, \"side_branches_in_cm\": 60.23, \"total_meja\": 5, \"tip_of_stem_broken\": 0, \"infested\": 1, \"total_number_adults\": 0, \"main_stem_length_in_cm\": 58.0}, {\"stem_diam_bottom_in_cm\": 0.51, \"diam_top_in_cm\": 0.25, \"side_branches_in_cm\": 60.23, \"total_meja\": 16, \"tip_of_stem_broken\": 1, \"infested\": 1, \"total_number_adults\": 16, \"main_stem_length_in_cm\": 45.0}, {\"stem_diam_bottom_in_cm\": 0.36, \"diam_top_in_cm\": 0.18, \"side_branches_in_cm\": 60.23, \"total_meja\": 16, \"tip_of_stem_broken\": 0, \"infested\": 1, \"total_number_adults\": 0, \"main_stem_length_in_cm\": 34.0}, {\"stem_diam_bottom_in_cm\": 0.55, \"diam_top_in_cm\": 0.12, \"side_branches_in_cm\": 60.23, \"total_meja\": 7, \"tip_of_stem_broken\": 1, \"infested\": 1, \"total_number_adults\": 0, \"main_stem_length_in_cm\": 33.0}, {\"stem_diam_bottom_in_cm\": 0.5, \"diam_top_in_cm\": 0.06, \"side_branches_in_cm\": 60.23, \"total_meja\": 4, \"tip_of_stem_broken\": 0, \"infested\": 1, \"total_number_adults\": 4, \"main_stem_length_in_cm\": 67.0}, {\"stem_diam_bottom_in_cm\": 0.49, \"diam_top_in_cm\": 0.18, \"side_branches_in_cm\": 60.23, \"total_meja\": 1, \"tip_of_stem_broken\": 0, \"infested\": 1, \"total_number_adults\": 0, \"main_stem_length_in_cm\": 68.0}, {\"stem_diam_bottom_in_cm\": 0.36, \"diam_top_in_cm\": 0.15, \"side_branches_in_cm\": 60.23, \"total_meja\": 7, \"tip_of_stem_broken\": 0, \"infested\": 1, \"total_number_adults\": 5, \"main_stem_length_in_cm\": 27.0}, {\"stem_diam_bottom_in_cm\": 0.76, \"diam_top_in_cm\": 0.65, \"side_branches_in_cm\": 60.23, \"total_meja\": 0, \"tip_of_stem_broken\": 1, \"infested\": 0, \"total_number_adults\": 0, \"main_stem_length_in_cm\": 48.0}, {\"stem_diam_bottom_in_cm\": 0.4, \"diam_top_in_cm\": 0.04, \"side_branches_in_cm\": 60.23, \"total_meja\": 0, \"tip_of_stem_broken\": 0, \"infested\": 0, \"total_number_adults\": 0, \"main_stem_length_in_cm\": 101.0}, {\"stem_diam_bottom_in_cm\": 0.4, \"diam_top_in_cm\": 0.17, \"side_branches_in_cm\": 60.23, \"total_meja\": 10, \"tip_of_stem_broken\": 1, \"infested\": 1, \"total_number_adults\": 8, \"main_stem_length_in_cm\": 30.0}, {\"stem_diam_bottom_in_cm\": 0.69, \"diam_top_in_cm\": 0.18, \"side_branches_in_cm\": 60.23, \"total_meja\": 4, \"tip_of_stem_broken\": 0, \"infested\": 1, \"total_number_adults\": 0, \"main_stem_length_in_cm\": 57.0}, {\"stem_diam_bottom_in_cm\": 0.22, \"diam_top_in_cm\": 0.18, \"side_branches_in_cm\": 60.23, \"total_meja\": 0, \"tip_of_stem_broken\": 0, \"infested\": 0, \"total_number_adults\": 0, \"main_stem_length_in_cm\": 10.0}, {\"stem_diam_bottom_in_cm\": 0.9, \"diam_top_in_cm\": 0.18, \"side_branches_in_cm\": 60.23, \"total_meja\": 0, \"tip_of_stem_broken\": 1, \"infested\": 0, \"total_number_adults\": 0, \"main_stem_length_in_cm\": 78.0}, {\"stem_diam_bottom_in_cm\": 0.67, \"diam_top_in_cm\": 0.17, \"side_branches_in_cm\": 60.23, \"total_meja\": 11, \"tip_of_stem_broken\": 0, \"infested\": 1, \"total_number_adults\": 11, \"main_stem_length_in_cm\": 41.5}, {\"stem_diam_bottom_in_cm\": 0.22, \"diam_top_in_cm\": 0.03, \"side_branches_in_cm\": 60.23, \"total_meja\": 0, \"tip_of_stem_broken\": 0, \"infested\": 0, \"total_number_adults\": 0, \"main_stem_length_in_cm\": 36.0}, {\"stem_diam_bottom_in_cm\": 0.47, \"diam_top_in_cm\": 0.18, \"side_branches_in_cm\": 60.23, \"total_meja\": 0, \"tip_of_stem_broken\": 0, \"infested\": 0, \"total_number_adults\": 0, \"main_stem_length_in_cm\": 73.0}, {\"stem_diam_bottom_in_cm\": 0.25, \"diam_top_in_cm\": 0.18, \"side_branches_in_cm\": 60.23, \"total_meja\": 0, \"tip_of_stem_broken\": 1, \"infested\": 0, \"total_number_adults\": 0, \"main_stem_length_in_cm\": 14.0}, {\"stem_diam_bottom_in_cm\": 0.29, \"diam_top_in_cm\": 0.07, \"side_branches_in_cm\": 60.23, \"total_meja\": 3, \"tip_of_stem_broken\": 0, \"infested\": 1, \"total_number_adults\": 3, \"main_stem_length_in_cm\": 40.0}, {\"stem_diam_bottom_in_cm\": 0.7, \"diam_top_in_cm\": 0.18, \"side_branches_in_cm\": 124.0, \"total_meja\": 0, \"tip_of_stem_broken\": 0, \"infested\": 0, \"total_number_adults\": 0, \"main_stem_length_in_cm\": 92.0}, {\"stem_diam_bottom_in_cm\": 0.51, \"diam_top_in_cm\": 0.18, \"side_branches_in_cm\": 60.23, \"total_meja\": 9, \"tip_of_stem_broken\": 0, \"infested\": 1, \"total_number_adults\": 2, \"main_stem_length_in_cm\": 84.0}, {\"stem_diam_bottom_in_cm\": 0.39, \"diam_top_in_cm\": 0.18, \"side_branches_in_cm\": 33.0, \"total_meja\": 0, \"tip_of_stem_broken\": 1, \"infested\": 0, \"total_number_adults\": 0, \"main_stem_length_in_cm\": 46.0}, {\"stem_diam_bottom_in_cm\": 0.41, \"diam_top_in_cm\": 0.17, \"side_branches_in_cm\": 60.23, \"total_meja\": 0, \"tip_of_stem_broken\": 1, \"infested\": 0, \"total_number_adults\": 0, \"main_stem_length_in_cm\": 60.0}, {\"stem_diam_bottom_in_cm\": 0.23, \"diam_top_in_cm\": 0.18, \"side_branches_in_cm\": 60.23, \"total_meja\": 0, \"tip_of_stem_broken\": 0, \"infested\": 0, \"total_number_adults\": 0, \"main_stem_length_in_cm\": 8.5}, {\"stem_diam_bottom_in_cm\": 0.38, \"diam_top_in_cm\": 0.06, \"side_branches_in_cm\": 60.23, \"total_meja\": 0, \"tip_of_stem_broken\": 1, \"infested\": 0, \"total_number_adults\": 0, \"main_stem_length_in_cm\": 54.0}, {\"stem_diam_bottom_in_cm\": 0.38, \"diam_top_in_cm\": 0.18, \"side_branches_in_cm\": 46.0, \"total_meja\": 1, \"tip_of_stem_broken\": 0, \"infested\": 1, \"total_number_adults\": 0, \"main_stem_length_in_cm\": 43.0}, {\"stem_diam_bottom_in_cm\": 0.43, \"diam_top_in_cm\": 0.16, \"side_branches_in_cm\": 60.23, \"total_meja\": 21, \"tip_of_stem_broken\": 0, \"infested\": 1, \"total_number_adults\": 21, \"main_stem_length_in_cm\": 31.0}, {\"stem_diam_bottom_in_cm\": 0.85, \"diam_top_in_cm\": 0.18, \"side_branches_in_cm\": 60.23, \"total_meja\": 2, \"tip_of_stem_broken\": 1, \"infested\": 1, \"total_number_adults\": 0, \"main_stem_length_in_cm\": 93.0}, {\"stem_diam_bottom_in_cm\": 0.77, \"diam_top_in_cm\": 0.18, \"side_branches_in_cm\": 53.0, \"total_meja\": 0, \"tip_of_stem_broken\": 1, \"infested\": 0, \"total_number_adults\": 0, \"main_stem_length_in_cm\": 70.0}, {\"stem_diam_bottom_in_cm\": 0.3, \"diam_top_in_cm\": 0.18, \"side_branches_in_cm\": 60.23, \"total_meja\": 0, \"tip_of_stem_broken\": 0, \"infested\": 0, \"total_number_adults\": 0, \"main_stem_length_in_cm\": 20.0}, {\"stem_diam_bottom_in_cm\": 0.79, \"diam_top_in_cm\": 0.18, \"side_branches_in_cm\": 60.23, \"total_meja\": 62, \"tip_of_stem_broken\": 0, \"infested\": 1, \"total_number_adults\": 8, \"main_stem_length_in_cm\": 106.0}, {\"stem_diam_bottom_in_cm\": 0.34, \"diam_top_in_cm\": 0.18, \"side_branches_in_cm\": 60.23, \"total_meja\": 0, \"tip_of_stem_broken\": 1, \"infested\": 0, \"total_number_adults\": 0, \"main_stem_length_in_cm\": 41.0}, {\"stem_diam_bottom_in_cm\": 0.24, \"diam_top_in_cm\": 0.18, \"side_branches_in_cm\": 60.23, \"total_meja\": 0, \"tip_of_stem_broken\": 0, \"infested\": 0, \"total_number_adults\": 0, \"main_stem_length_in_cm\": 11.0}, {\"stem_diam_bottom_in_cm\": 0.76, \"diam_top_in_cm\": 0.27, \"side_branches_in_cm\": 60.23, \"total_meja\": 16, \"tip_of_stem_broken\": 1, \"infested\": 1, \"total_number_adults\": 8, \"main_stem_length_in_cm\": 62.0}, {\"stem_diam_bottom_in_cm\": 0.42, \"diam_top_in_cm\": 0.18, \"side_branches_in_cm\": 60.23, \"total_meja\": 4, \"tip_of_stem_broken\": 0, \"infested\": 1, \"total_number_adults\": 0, \"main_stem_length_in_cm\": 38.0}, {\"stem_diam_bottom_in_cm\": 0.32, \"diam_top_in_cm\": 0.18, \"side_branches_in_cm\": 60.23, \"total_meja\": 0, \"tip_of_stem_broken\": 0, \"infested\": 0, \"total_number_adults\": 0, \"main_stem_length_in_cm\": 15.5}, {\"stem_diam_bottom_in_cm\": 0.65, \"diam_top_in_cm\": 0.18, \"side_branches_in_cm\": 17.0, \"total_meja\": 0, \"tip_of_stem_broken\": 1, \"infested\": 0, \"total_number_adults\": 0, \"main_stem_length_in_cm\": 66.0}, {\"stem_diam_bottom_in_cm\": 0.53, \"diam_top_in_cm\": 0.18, \"side_branches_in_cm\": 32.0, \"total_meja\": 0, \"tip_of_stem_broken\": 1, \"infested\": 0, \"total_number_adults\": 0, \"main_stem_length_in_cm\": 44.0}, {\"stem_diam_bottom_in_cm\": 0.2, \"diam_top_in_cm\": 0.18, \"side_branches_in_cm\": 60.23, \"total_meja\": 0, \"tip_of_stem_broken\": 0, \"infested\": 0, \"total_number_adults\": 0, \"main_stem_length_in_cm\": 11.0}, {\"stem_diam_bottom_in_cm\": 0.65, \"diam_top_in_cm\": 0.18, \"side_branches_in_cm\": 60.23, \"total_meja\": 3, \"tip_of_stem_broken\": 0, \"infested\": 1, \"total_number_adults\": 0, \"main_stem_length_in_cm\": 111.0}, {\"stem_diam_bottom_in_cm\": 0.6, \"diam_top_in_cm\": 0.18, \"side_branches_in_cm\": 60.23, \"total_meja\": 6, \"tip_of_stem_broken\": 0, \"infested\": 1, \"total_number_adults\": 0, \"main_stem_length_in_cm\": 81.0}, {\"stem_diam_bottom_in_cm\": 0.5, \"diam_top_in_cm\": 0.18, \"side_branches_in_cm\": 60.23, \"total_meja\": 13, \"tip_of_stem_broken\": 0, \"infested\": 1, \"total_number_adults\": 6, \"main_stem_length_in_cm\": 48.0}, {\"stem_diam_bottom_in_cm\": 0.59, \"diam_top_in_cm\": 0.21, \"side_branches_in_cm\": 60.23, \"total_meja\": 8, \"tip_of_stem_broken\": 1, \"infested\": 1, \"total_number_adults\": 7, \"main_stem_length_in_cm\": 39.0}, {\"stem_diam_bottom_in_cm\": 0.63, \"diam_top_in_cm\": 0.18, \"side_branches_in_cm\": 60.23, \"total_meja\": 0, \"tip_of_stem_broken\": 0, \"infested\": 0, \"total_number_adults\": 0, \"main_stem_length_in_cm\": 81.0}, {\"stem_diam_bottom_in_cm\": 0.63, \"diam_top_in_cm\": 0.18, \"side_branches_in_cm\": 60.23, \"total_meja\": 8, \"tip_of_stem_broken\": 0, \"infested\": 1, \"total_number_adults\": 0, \"main_stem_length_in_cm\": 53.0}, {\"stem_diam_bottom_in_cm\": 0.64, \"diam_top_in_cm\": 0.17, \"side_branches_in_cm\": 60.23, \"total_meja\": 27, \"tip_of_stem_broken\": 1, \"infested\": 1, \"total_number_adults\": 26, \"main_stem_length_in_cm\": 54.0}, {\"stem_diam_bottom_in_cm\": 0.65, \"diam_top_in_cm\": 0.18, \"side_branches_in_cm\": 60.23, \"total_meja\": 0, \"tip_of_stem_broken\": 1, \"infested\": 0, \"total_number_adults\": 0, \"main_stem_length_in_cm\": 66.0}, {\"stem_diam_bottom_in_cm\": 0.32, \"diam_top_in_cm\": 0.08, \"side_branches_in_cm\": 60.23, \"total_meja\": 0, \"tip_of_stem_broken\": 1, \"infested\": 0, \"total_number_adults\": 0, \"main_stem_length_in_cm\": 57.0}, {\"stem_diam_bottom_in_cm\": 0.63, \"diam_top_in_cm\": 0.17, \"side_branches_in_cm\": 60.23, \"total_meja\": 0, \"tip_of_stem_broken\": 1, \"infested\": 0, \"total_number_adults\": 0, \"main_stem_length_in_cm\": 69.0}, {\"stem_diam_bottom_in_cm\": 0.87, \"diam_top_in_cm\": 0.18, \"side_branches_in_cm\": 60.23, \"total_meja\": 20, \"tip_of_stem_broken\": 1, \"infested\": 1, \"total_number_adults\": 1, \"main_stem_length_in_cm\": 124.0}, {\"stem_diam_bottom_in_cm\": 0.5, \"diam_top_in_cm\": 0.39, \"side_branches_in_cm\": 60.23, \"total_meja\": 11, \"tip_of_stem_broken\": 1, \"infested\": 1, \"total_number_adults\": 1, \"main_stem_length_in_cm\": 40.0}, {\"stem_diam_bottom_in_cm\": 0.56, \"diam_top_in_cm\": 0.07, \"side_branches_in_cm\": 60.23, \"total_meja\": 1, \"tip_of_stem_broken\": 0, \"infested\": 1, \"total_number_adults\": 1, \"main_stem_length_in_cm\": 100.0}, {\"stem_diam_bottom_in_cm\": 0.21, \"diam_top_in_cm\": 0.18, \"side_branches_in_cm\": 60.23, \"total_meja\": 0, \"tip_of_stem_broken\": 1, \"infested\": 0, \"total_number_adults\": 0, \"main_stem_length_in_cm\": 32.0}, {\"stem_diam_bottom_in_cm\": 0.35, \"diam_top_in_cm\": 0.18, \"side_branches_in_cm\": 60.23, \"total_meja\": 0, \"tip_of_stem_broken\": 0, \"infested\": 0, \"total_number_adults\": 0, \"main_stem_length_in_cm\": 25.0}, {\"stem_diam_bottom_in_cm\": 0.39, \"diam_top_in_cm\": 0.18, \"side_branches_in_cm\": 60.23, \"total_meja\": 0, \"tip_of_stem_broken\": 1, \"infested\": 0, \"total_number_adults\": 0, \"main_stem_length_in_cm\": 31.0}, {\"stem_diam_bottom_in_cm\": 0.66, \"diam_top_in_cm\": 0.18, \"side_branches_in_cm\": 60.23, \"total_meja\": 1, \"tip_of_stem_broken\": 0, \"infested\": 1, \"total_number_adults\": 0, \"main_stem_length_in_cm\": 66.0}, {\"stem_diam_bottom_in_cm\": 0.31, \"diam_top_in_cm\": 0.18, \"side_branches_in_cm\": 60.23, \"total_meja\": 0, \"tip_of_stem_broken\": 0, \"infested\": 0, \"total_number_adults\": 0, \"main_stem_length_in_cm\": 23.5}, {\"stem_diam_bottom_in_cm\": 0.53, \"diam_top_in_cm\": 0.18, \"side_branches_in_cm\": 60.23, \"total_meja\": 38, \"tip_of_stem_broken\": 0, \"infested\": 1, \"total_number_adults\": 11, \"main_stem_length_in_cm\": 31.0}, {\"stem_diam_bottom_in_cm\": 0.56, \"diam_top_in_cm\": 0.18, \"side_branches_in_cm\": 60.23, \"total_meja\": 0, \"tip_of_stem_broken\": 0, \"infested\": 0, \"total_number_adults\": 0, \"main_stem_length_in_cm\": 96.0}, {\"stem_diam_bottom_in_cm\": 0.61, \"diam_top_in_cm\": 0.18, \"side_branches_in_cm\": 60.23, \"total_meja\": 0, \"tip_of_stem_broken\": 0, \"infested\": 0, \"total_number_adults\": 0, \"main_stem_length_in_cm\": 68.0}, {\"stem_diam_bottom_in_cm\": 0.79, \"diam_top_in_cm\": 0.18, \"side_branches_in_cm\": 60.23, \"total_meja\": 7, \"tip_of_stem_broken\": 1, \"infested\": 1, \"total_number_adults\": 0, \"main_stem_length_in_cm\": 102.0}, {\"stem_diam_bottom_in_cm\": 0.44, \"diam_top_in_cm\": 0.23, \"side_branches_in_cm\": 60.23, \"total_meja\": 9, \"tip_of_stem_broken\": 1, \"infested\": 1, \"total_number_adults\": 8, \"main_stem_length_in_cm\": 32.0}, {\"stem_diam_bottom_in_cm\": 0.28, \"diam_top_in_cm\": 0.18, \"side_branches_in_cm\": 60.23, \"total_meja\": 0, \"tip_of_stem_broken\": 1, \"infested\": 0, \"total_number_adults\": 0, \"main_stem_length_in_cm\": 35.0}, {\"stem_diam_bottom_in_cm\": 0.29, \"diam_top_in_cm\": 0.06, \"side_branches_in_cm\": 60.23, \"total_meja\": 0, \"tip_of_stem_broken\": 0, \"infested\": 0, \"total_number_adults\": 0, \"main_stem_length_in_cm\": 39.0}, {\"stem_diam_bottom_in_cm\": 0.68, \"diam_top_in_cm\": 0.18, \"side_branches_in_cm\": 60.23, \"total_meja\": 0, \"tip_of_stem_broken\": 0, \"infested\": 0, \"total_number_adults\": 0, \"main_stem_length_in_cm\": 72.0}, {\"stem_diam_bottom_in_cm\": 0.37, \"diam_top_in_cm\": 0.08, \"side_branches_in_cm\": 60.23, \"total_meja\": 0, \"tip_of_stem_broken\": 1, \"infested\": 0, \"total_number_adults\": 0, \"main_stem_length_in_cm\": 58.0}, {\"stem_diam_bottom_in_cm\": 0.58, \"diam_top_in_cm\": 0.18, \"side_branches_in_cm\": 60.23, \"total_meja\": 19, \"tip_of_stem_broken\": 0, \"infested\": 1, \"total_number_adults\": 2, \"main_stem_length_in_cm\": 32.0}, {\"stem_diam_bottom_in_cm\": 0.78, \"diam_top_in_cm\": 0.18, \"side_branches_in_cm\": 60.23, \"total_meja\": 4, \"tip_of_stem_broken\": 0, \"infested\": 1, \"total_number_adults\": 1, \"main_stem_length_in_cm\": 107.0}, {\"stem_diam_bottom_in_cm\": 0.26, \"diam_top_in_cm\": 0.06, \"side_branches_in_cm\": 60.23, \"total_meja\": 5, \"tip_of_stem_broken\": 1, \"infested\": 1, \"total_number_adults\": 3, \"main_stem_length_in_cm\": 38.0}, {\"stem_diam_bottom_in_cm\": 0.64, \"diam_top_in_cm\": 0.38, \"side_branches_in_cm\": 60.23, \"total_meja\": 6, \"tip_of_stem_broken\": 1, \"infested\": 1, \"total_number_adults\": 0, \"main_stem_length_in_cm\": 73.0}, {\"stem_diam_bottom_in_cm\": 0.35, \"diam_top_in_cm\": 0.16, \"side_branches_in_cm\": 60.23, \"total_meja\": 28, \"tip_of_stem_broken\": 1, \"infested\": 1, \"total_number_adults\": 26, \"main_stem_length_in_cm\": 21.0}, {\"stem_diam_bottom_in_cm\": 0.92, \"diam_top_in_cm\": 0.24, \"side_branches_in_cm\": 60.23, \"total_meja\": 1, \"tip_of_stem_broken\": 1, \"infested\": 1, \"total_number_adults\": 0, \"main_stem_length_in_cm\": 122.0}, {\"stem_diam_bottom_in_cm\": 0.63, \"diam_top_in_cm\": 0.18, \"side_branches_in_cm\": 60.23, \"total_meja\": 19, \"tip_of_stem_broken\": 0, \"infested\": 1, \"total_number_adults\": 0, \"main_stem_length_in_cm\": 44.0}, {\"stem_diam_bottom_in_cm\": 0.22, \"diam_top_in_cm\": 0.18, \"side_branches_in_cm\": 60.23, \"total_meja\": 0, \"tip_of_stem_broken\": 0, \"infested\": 0, \"total_number_adults\": 0, \"main_stem_length_in_cm\": 18.5}, {\"stem_diam_bottom_in_cm\": 0.6, \"diam_top_in_cm\": 0.11, \"side_branches_in_cm\": 60.23, \"total_meja\": 34, \"tip_of_stem_broken\": 1, \"infested\": 1, \"total_number_adults\": 14, \"main_stem_length_in_cm\": 56.0}, {\"stem_diam_bottom_in_cm\": 0.9, \"diam_top_in_cm\": 0.26, \"side_branches_in_cm\": 60.23, \"total_meja\": 0, \"tip_of_stem_broken\": 1, \"infested\": 0, \"total_number_adults\": 0, \"main_stem_length_in_cm\": 79.0}, {\"stem_diam_bottom_in_cm\": 0.73, \"diam_top_in_cm\": 0.18, \"side_branches_in_cm\": 60.23, \"total_meja\": 4, \"tip_of_stem_broken\": 0, \"infested\": 1, \"total_number_adults\": 0, \"main_stem_length_in_cm\": 30.0}, {\"stem_diam_bottom_in_cm\": 0.62, \"diam_top_in_cm\": 0.18, \"side_branches_in_cm\": 60.23, \"total_meja\": 0, \"tip_of_stem_broken\": 1, \"infested\": 0, \"total_number_adults\": 0, \"main_stem_length_in_cm\": 51.0}, {\"stem_diam_bottom_in_cm\": 0.5, \"diam_top_in_cm\": 0.18, \"side_branches_in_cm\": 60.23, \"total_meja\": 17, \"tip_of_stem_broken\": 0, \"infested\": 1, \"total_number_adults\": 0, \"main_stem_length_in_cm\": 72.0}, {\"stem_diam_bottom_in_cm\": 0.87, \"diam_top_in_cm\": 0.18, \"side_branches_in_cm\": 58.0, \"total_meja\": 0, \"tip_of_stem_broken\": 1, \"infested\": 0, \"total_number_adults\": 0, \"main_stem_length_in_cm\": 62.0}, {\"stem_diam_bottom_in_cm\": 0.51, \"diam_top_in_cm\": 0.18, \"side_branches_in_cm\": 60.23, \"total_meja\": 0, \"tip_of_stem_broken\": 1, \"infested\": 0, \"total_number_adults\": 0, \"main_stem_length_in_cm\": 55.0}, {\"stem_diam_bottom_in_cm\": 0.17, \"diam_top_in_cm\": 0.18, \"side_branches_in_cm\": 60.23, \"total_meja\": 0, \"tip_of_stem_broken\": 0, \"infested\": 0, \"total_number_adults\": 0, \"main_stem_length_in_cm\": 14.0}, {\"stem_diam_bottom_in_cm\": 0.48, \"diam_top_in_cm\": 0.18, \"side_branches_in_cm\": 60.23, \"total_meja\": 18, \"tip_of_stem_broken\": 0, \"infested\": 1, \"total_number_adults\": 1, \"main_stem_length_in_cm\": 59.0}, {\"stem_diam_bottom_in_cm\": 0.48, \"diam_top_in_cm\": 0.03, \"side_branches_in_cm\": 60.23, \"total_meja\": 0, \"tip_of_stem_broken\": 0, \"infested\": 0, \"total_number_adults\": 0, \"main_stem_length_in_cm\": 75.0}, {\"stem_diam_bottom_in_cm\": 0.25, \"diam_top_in_cm\": 0.06, \"side_branches_in_cm\": 60.23, \"total_meja\": 0, \"tip_of_stem_broken\": 0, \"infested\": 0, \"total_number_adults\": 0, \"main_stem_length_in_cm\": 47.0}, {\"stem_diam_bottom_in_cm\": 0.56, \"diam_top_in_cm\": 0.18, \"side_branches_in_cm\": 60.23, \"total_meja\": 0, \"tip_of_stem_broken\": 1, \"infested\": 0, \"total_number_adults\": 0, \"main_stem_length_in_cm\": 66.0}, {\"stem_diam_bottom_in_cm\": 0.54, \"diam_top_in_cm\": 0.18, \"side_branches_in_cm\": 60.23, \"total_meja\": 11, \"tip_of_stem_broken\": 0, \"infested\": 1, \"total_number_adults\": 2, \"main_stem_length_in_cm\": 55.0}, {\"stem_diam_bottom_in_cm\": 0.82, \"diam_top_in_cm\": 0.23, \"side_branches_in_cm\": 60.23, \"total_meja\": 0, \"tip_of_stem_broken\": 1, \"infested\": 0, \"total_number_adults\": 0, \"main_stem_length_in_cm\": 65.0}, {\"stem_diam_bottom_in_cm\": 0.46, \"diam_top_in_cm\": 0.18, \"side_branches_in_cm\": 60.23, \"total_meja\": 28, \"tip_of_stem_broken\": 0, \"infested\": 1, \"total_number_adults\": 7, \"main_stem_length_in_cm\": 42.0}, {\"stem_diam_bottom_in_cm\": 0.34, \"diam_top_in_cm\": 0.1, \"side_branches_in_cm\": 60.23, \"total_meja\": 15, \"tip_of_stem_broken\": 0, \"infested\": 1, \"total_number_adults\": 15, \"main_stem_length_in_cm\": 33.5}, {\"stem_diam_bottom_in_cm\": 0.53, \"diam_top_in_cm\": 0.09, \"side_branches_in_cm\": 60.23, \"total_meja\": 0, \"tip_of_stem_broken\": 1, \"infested\": 0, \"total_number_adults\": 0, \"main_stem_length_in_cm\": 65.0}, {\"stem_diam_bottom_in_cm\": 0.35, \"diam_top_in_cm\": 0.18, \"side_branches_in_cm\": 60.23, \"total_meja\": 10, \"tip_of_stem_broken\": 0, \"infested\": 1, \"total_number_adults\": 0, \"main_stem_length_in_cm\": 96.0}, {\"stem_diam_bottom_in_cm\": 0.98, \"diam_top_in_cm\": 0.18, \"side_branches_in_cm\": 60.23, \"total_meja\": 6, \"tip_of_stem_broken\": 0, \"infested\": 1, \"total_number_adults\": 0, \"main_stem_length_in_cm\": 120.0}, {\"stem_diam_bottom_in_cm\": 0.19, \"diam_top_in_cm\": 0.18, \"side_branches_in_cm\": 60.23, \"total_meja\": 0, \"tip_of_stem_broken\": 0, \"infested\": 0, \"total_number_adults\": 0, \"main_stem_length_in_cm\": 11.0}, {\"stem_diam_bottom_in_cm\": 0.19, \"diam_top_in_cm\": 0.08, \"side_branches_in_cm\": 60.23, \"total_meja\": 3, \"tip_of_stem_broken\": 0, \"infested\": 1, \"total_number_adults\": 3, \"main_stem_length_in_cm\": 22.0}, {\"stem_diam_bottom_in_cm\": 0.47, \"diam_top_in_cm\": 0.18, \"side_branches_in_cm\": 60.23, \"total_meja\": 8, \"tip_of_stem_broken\": 0, \"infested\": 1, \"total_number_adults\": 0, \"main_stem_length_in_cm\": 50.0}, {\"stem_diam_bottom_in_cm\": 0.45, \"diam_top_in_cm\": 0.18, \"side_branches_in_cm\": 60.23, \"total_meja\": 8, \"tip_of_stem_broken\": 0, \"infested\": 1, \"total_number_adults\": 2, \"main_stem_length_in_cm\": 46.0}, {\"stem_diam_bottom_in_cm\": 0.5, \"diam_top_in_cm\": 0.18, \"side_branches_in_cm\": 60.23, \"total_meja\": 0, \"tip_of_stem_broken\": 1, \"infested\": 0, \"total_number_adults\": 0, \"main_stem_length_in_cm\": 53.0}, {\"stem_diam_bottom_in_cm\": 0.51, \"diam_top_in_cm\": 0.23, \"side_branches_in_cm\": 60.23, \"total_meja\": 23, \"tip_of_stem_broken\": 1, \"infested\": 1, \"total_number_adults\": 23, \"main_stem_length_in_cm\": 22.0}, {\"stem_diam_bottom_in_cm\": 0.6, \"diam_top_in_cm\": 0.18, \"side_branches_in_cm\": 60.0, \"total_meja\": 0, \"tip_of_stem_broken\": 1, \"infested\": 0, \"total_number_adults\": 0, \"main_stem_length_in_cm\": 24.0}, {\"stem_diam_bottom_in_cm\": 0.23, \"diam_top_in_cm\": 0.18, \"side_branches_in_cm\": 60.23, \"total_meja\": 0, \"tip_of_stem_broken\": 0, \"infested\": 0, \"total_number_adults\": 0, \"main_stem_length_in_cm\": 11.0}, {\"stem_diam_bottom_in_cm\": 0.19, \"diam_top_in_cm\": 0.18, \"side_branches_in_cm\": 60.23, \"total_meja\": 0, \"tip_of_stem_broken\": 0, \"infested\": 0, \"total_number_adults\": 0, \"main_stem_length_in_cm\": 12.0}, {\"stem_diam_bottom_in_cm\": 0.52, \"diam_top_in_cm\": 0.15, \"side_branches_in_cm\": 60.23, \"total_meja\": 22, \"tip_of_stem_broken\": 1, \"infested\": 1, \"total_number_adults\": 21, \"main_stem_length_in_cm\": 45.0}, {\"stem_diam_bottom_in_cm\": 0.48, \"diam_top_in_cm\": 0.18, \"side_branches_in_cm\": 60.23, \"total_meja\": 11, \"tip_of_stem_broken\": 0, \"infested\": 1, \"total_number_adults\": 1, \"main_stem_length_in_cm\": 44.0}, {\"stem_diam_bottom_in_cm\": 0.39, \"diam_top_in_cm\": 0.18, \"side_branches_in_cm\": 60.23, \"total_meja\": 0, \"tip_of_stem_broken\": 1, \"infested\": 0, \"total_number_adults\": 0, \"main_stem_length_in_cm\": 29.0}, {\"stem_diam_bottom_in_cm\": 0.31, \"diam_top_in_cm\": 0.18, \"side_branches_in_cm\": 60.23, \"total_meja\": 0, \"tip_of_stem_broken\": 1, \"infested\": 0, \"total_number_adults\": 0, \"main_stem_length_in_cm\": 26.0}, {\"stem_diam_bottom_in_cm\": 0.62, \"diam_top_in_cm\": 0.18, \"side_branches_in_cm\": 60.23, \"total_meja\": 3, \"tip_of_stem_broken\": 0, \"infested\": 1, \"total_number_adults\": 0, \"main_stem_length_in_cm\": 76.0}, {\"stem_diam_bottom_in_cm\": 0.41, \"diam_top_in_cm\": 0.06, \"side_branches_in_cm\": 60.23, \"total_meja\": 0, \"tip_of_stem_broken\": 0, \"infested\": 0, \"total_number_adults\": 0, \"main_stem_length_in_cm\": 81.0}, {\"stem_diam_bottom_in_cm\": 0.6, \"diam_top_in_cm\": 0.18, \"side_branches_in_cm\": 60.23, \"total_meja\": 6, \"tip_of_stem_broken\": 0, \"infested\": 1, \"total_number_adults\": 0, \"main_stem_length_in_cm\": 50.0}, {\"stem_diam_bottom_in_cm\": 0.56, \"diam_top_in_cm\": 0.45, \"side_branches_in_cm\": 60.23, \"total_meja\": 0, \"tip_of_stem_broken\": 1, \"infested\": 0, \"total_number_adults\": 0, \"main_stem_length_in_cm\": 45.0}, {\"stem_diam_bottom_in_cm\": 0.34, \"diam_top_in_cm\": 0.03, \"side_branches_in_cm\": 60.23, \"total_meja\": 0, \"tip_of_stem_broken\": 0, \"infested\": 0, \"total_number_adults\": 0, \"main_stem_length_in_cm\": 67.0}, {\"stem_diam_bottom_in_cm\": 0.49, \"diam_top_in_cm\": 0.18, \"side_branches_in_cm\": 60.23, \"total_meja\": 0, \"tip_of_stem_broken\": 0, \"infested\": 0, \"total_number_adults\": 0, \"main_stem_length_in_cm\": 79.5}, {\"stem_diam_bottom_in_cm\": 0.61, \"diam_top_in_cm\": 0.2, \"side_branches_in_cm\": 60.23, \"total_meja\": 17, \"tip_of_stem_broken\": 1, \"infested\": 1, \"total_number_adults\": 17, \"main_stem_length_in_cm\": 34.0}, {\"stem_diam_bottom_in_cm\": 0.8, \"diam_top_in_cm\": 0.18, \"side_branches_in_cm\": 60.23, \"total_meja\": 21, \"tip_of_stem_broken\": 0, \"infested\": 1, \"total_number_adults\": 2, \"main_stem_length_in_cm\": 63.0}, {\"stem_diam_bottom_in_cm\": 0.51, \"diam_top_in_cm\": 0.18, \"side_branches_in_cm\": 60.23, \"total_meja\": 0, \"tip_of_stem_broken\": 1, \"infested\": 0, \"total_number_adults\": 0, \"main_stem_length_in_cm\": 44.0}, {\"stem_diam_bottom_in_cm\": 0.6, \"diam_top_in_cm\": 0.18, \"side_branches_in_cm\": 134.0, \"total_meja\": 0, \"tip_of_stem_broken\": 0, \"infested\": 0, \"total_number_adults\": 0, \"main_stem_length_in_cm\": 44.0}, {\"stem_diam_bottom_in_cm\": 0.57, \"diam_top_in_cm\": 0.04, \"side_branches_in_cm\": 60.23, \"total_meja\": 0, \"tip_of_stem_broken\": 1, \"infested\": 0, \"total_number_adults\": 0, \"main_stem_length_in_cm\": 92.0}, {\"stem_diam_bottom_in_cm\": 0.33, \"diam_top_in_cm\": 0.13, \"side_branches_in_cm\": 60.23, \"total_meja\": 17, \"tip_of_stem_broken\": 1, \"infested\": 1, \"total_number_adults\": 17, \"main_stem_length_in_cm\": 27.0}, {\"stem_diam_bottom_in_cm\": 0.41, \"diam_top_in_cm\": 0.18, \"side_branches_in_cm\": 60.23, \"total_meja\": 0, \"tip_of_stem_broken\": 0, \"infested\": 0, \"total_number_adults\": 0, \"main_stem_length_in_cm\": 71.0}, {\"stem_diam_bottom_in_cm\": 0.73, \"diam_top_in_cm\": 0.18, \"side_branches_in_cm\": 50.0, \"total_meja\": 0, \"tip_of_stem_broken\": 1, \"infested\": 0, \"total_number_adults\": 0, \"main_stem_length_in_cm\": 79.0}, {\"stem_diam_bottom_in_cm\": 0.75, \"diam_top_in_cm\": 0.18, \"side_branches_in_cm\": 45.0, \"total_meja\": 0, \"tip_of_stem_broken\": 1, \"infested\": 0, \"total_number_adults\": 0, \"main_stem_length_in_cm\": 81.0}, {\"stem_diam_bottom_in_cm\": 0.43, \"diam_top_in_cm\": 0.18, \"side_branches_in_cm\": 60.23, \"total_meja\": 0, \"tip_of_stem_broken\": 1, \"infested\": 0, \"total_number_adults\": 0, \"main_stem_length_in_cm\": 61.0}, {\"stem_diam_bottom_in_cm\": 0.68, \"diam_top_in_cm\": 0.18, \"side_branches_in_cm\": 60.23, \"total_meja\": 8, \"tip_of_stem_broken\": 0, \"infested\": 1, \"total_number_adults\": 0, \"main_stem_length_in_cm\": 69.0}, {\"stem_diam_bottom_in_cm\": 0.73, \"diam_top_in_cm\": 0.18, \"side_branches_in_cm\": 60.23, \"total_meja\": 0, \"tip_of_stem_broken\": 1, \"infested\": 0, \"total_number_adults\": 0, \"main_stem_length_in_cm\": 54.0}, {\"stem_diam_bottom_in_cm\": 0.44, \"diam_top_in_cm\": 0.18, \"side_branches_in_cm\": 60.23, \"total_meja\": 22, \"tip_of_stem_broken\": 0, \"infested\": 1, \"total_number_adults\": 4, \"main_stem_length_in_cm\": 50.0}, {\"stem_diam_bottom_in_cm\": 0.25, \"diam_top_in_cm\": 0.18, \"side_branches_in_cm\": 60.23, \"total_meja\": 0, \"tip_of_stem_broken\": 1, \"infested\": 0, \"total_number_adults\": 0, \"main_stem_length_in_cm\": 42.0}, {\"stem_diam_bottom_in_cm\": 0.46, \"diam_top_in_cm\": 0.18, \"side_branches_in_cm\": 60.23, \"total_meja\": 0, \"tip_of_stem_broken\": 0, \"infested\": 0, \"total_number_adults\": 0, \"main_stem_length_in_cm\": 68.0}, {\"stem_diam_bottom_in_cm\": 0.91, \"diam_top_in_cm\": 0.25, \"side_branches_in_cm\": 60.23, \"total_meja\": 9, \"tip_of_stem_broken\": 1, \"infested\": 1, \"total_number_adults\": 1, \"main_stem_length_in_cm\": 98.0}, {\"stem_diam_bottom_in_cm\": 0.46, \"diam_top_in_cm\": 0.12, \"side_branches_in_cm\": 60.23, \"total_meja\": 0, \"tip_of_stem_broken\": 1, \"infested\": 0, \"total_number_adults\": 0, \"main_stem_length_in_cm\": 83.0}, {\"stem_diam_bottom_in_cm\": 0.52, \"diam_top_in_cm\": 0.18, \"side_branches_in_cm\": 60.23, \"total_meja\": 0, \"tip_of_stem_broken\": 0, \"infested\": 0, \"total_number_adults\": 0, \"main_stem_length_in_cm\": 87.0}, {\"stem_diam_bottom_in_cm\": 0.38, \"diam_top_in_cm\": 0.18, \"side_branches_in_cm\": 60.23, \"total_meja\": 0, \"tip_of_stem_broken\": 1, \"infested\": 0, \"total_number_adults\": 0, \"main_stem_length_in_cm\": 74.0}, {\"stem_diam_bottom_in_cm\": 0.4, \"diam_top_in_cm\": 0.18, \"side_branches_in_cm\": 60.23, \"total_meja\": 5, \"tip_of_stem_broken\": 0, \"infested\": 1, \"total_number_adults\": 0, \"main_stem_length_in_cm\": 60.0}, {\"stem_diam_bottom_in_cm\": 0.69, \"diam_top_in_cm\": 0.18, \"side_branches_in_cm\": 60.23, \"total_meja\": 5, \"tip_of_stem_broken\": 0, \"infested\": 1, \"total_number_adults\": 1, \"main_stem_length_in_cm\": 99.0}, {\"stem_diam_bottom_in_cm\": 0.4, \"diam_top_in_cm\": 0.15, \"side_branches_in_cm\": 60.23, \"total_meja\": 9, \"tip_of_stem_broken\": 1, \"infested\": 1, \"total_number_adults\": 9, \"main_stem_length_in_cm\": 42.0}, {\"stem_diam_bottom_in_cm\": 0.63, \"diam_top_in_cm\": 0.18, \"side_branches_in_cm\": 60.23, \"total_meja\": 23, \"tip_of_stem_broken\": 0, \"infested\": 1, \"total_number_adults\": 1, \"main_stem_length_in_cm\": 60.0}, {\"stem_diam_bottom_in_cm\": 0.41, \"diam_top_in_cm\": 0.1, \"side_branches_in_cm\": 60.23, \"total_meja\": 2, \"tip_of_stem_broken\": 1, \"infested\": 1, \"total_number_adults\": 1, \"main_stem_length_in_cm\": 66.0}, {\"stem_diam_bottom_in_cm\": 0.63, \"diam_top_in_cm\": 0.18, \"side_branches_in_cm\": 60.23, \"total_meja\": 21, \"tip_of_stem_broken\": 0, \"infested\": 1, \"total_number_adults\": 1, \"main_stem_length_in_cm\": 56.0}, {\"stem_diam_bottom_in_cm\": 0.75, \"diam_top_in_cm\": 0.18, \"side_branches_in_cm\": 60.23, \"total_meja\": 0, \"tip_of_stem_broken\": 1, \"infested\": 0, \"total_number_adults\": 0, \"main_stem_length_in_cm\": 64.0}, {\"stem_diam_bottom_in_cm\": 0.59, \"diam_top_in_cm\": 0.18, \"side_branches_in_cm\": 60.23, \"total_meja\": 0, \"tip_of_stem_broken\": 0, \"infested\": 0, \"total_number_adults\": 0, \"main_stem_length_in_cm\": 84.0}, {\"stem_diam_bottom_in_cm\": 0.49, \"diam_top_in_cm\": 0.06, \"side_branches_in_cm\": 60.23, \"total_meja\": 4, \"tip_of_stem_broken\": 0, \"infested\": 1, \"total_number_adults\": 4, \"main_stem_length_in_cm\": 65.0}, {\"stem_diam_bottom_in_cm\": 0.56, \"diam_top_in_cm\": 0.07, \"side_branches_in_cm\": 60.23, \"total_meja\": 0, \"tip_of_stem_broken\": 0, \"infested\": 0, \"total_number_adults\": 0, \"main_stem_length_in_cm\": 64.0}, {\"stem_diam_bottom_in_cm\": 0.34, \"diam_top_in_cm\": 0.18, \"side_branches_in_cm\": 60.23, \"total_meja\": 0, \"tip_of_stem_broken\": 1, \"infested\": 0, \"total_number_adults\": 0, \"main_stem_length_in_cm\": 49.0}, {\"stem_diam_bottom_in_cm\": 0.61, \"diam_top_in_cm\": 0.18, \"side_branches_in_cm\": 21.0, \"total_meja\": 3, \"tip_of_stem_broken\": 0, \"infested\": 1, \"total_number_adults\": 0, \"main_stem_length_in_cm\": 48.0}, {\"stem_diam_bottom_in_cm\": 0.17, \"diam_top_in_cm\": 0.18, \"side_branches_in_cm\": 60.23, \"total_meja\": 0, \"tip_of_stem_broken\": 0, \"infested\": 0, \"total_number_adults\": 0, \"main_stem_length_in_cm\": 13.5}, {\"stem_diam_bottom_in_cm\": 0.53, \"diam_top_in_cm\": 0.18, \"side_branches_in_cm\": 60.23, \"total_meja\": 0, \"tip_of_stem_broken\": 1, \"infested\": 0, \"total_number_adults\": 0, \"main_stem_length_in_cm\": 41.0}, {\"stem_diam_bottom_in_cm\": 0.58, \"diam_top_in_cm\": 0.18, \"side_branches_in_cm\": 60.23, \"total_meja\": 0, \"tip_of_stem_broken\": 1, \"infested\": 0, \"total_number_adults\": 0, \"main_stem_length_in_cm\": 26.0}, {\"stem_diam_bottom_in_cm\": 0.42, \"diam_top_in_cm\": 0.16, \"side_branches_in_cm\": 60.23, \"total_meja\": 8, \"tip_of_stem_broken\": 1, \"infested\": 1, \"total_number_adults\": 8, \"main_stem_length_in_cm\": 44.0}, {\"stem_diam_bottom_in_cm\": 0.6, \"diam_top_in_cm\": 0.35, \"side_branches_in_cm\": 60.23, \"total_meja\": 14, \"tip_of_stem_broken\": 1, \"infested\": 1, \"total_number_adults\": 3, \"main_stem_length_in_cm\": 54.0}, {\"stem_diam_bottom_in_cm\": 0.56, \"diam_top_in_cm\": 0.18, \"side_branches_in_cm\": 194.0, \"total_meja\": 5, \"tip_of_stem_broken\": 0, \"infested\": 1, \"total_number_adults\": 1, \"main_stem_length_in_cm\": 58.0}, {\"stem_diam_bottom_in_cm\": 0.7, \"diam_top_in_cm\": 0.18, \"side_branches_in_cm\": 60.23, \"total_meja\": 15, \"tip_of_stem_broken\": 0, \"infested\": 1, \"total_number_adults\": 1, \"main_stem_length_in_cm\": 66.0}, {\"stem_diam_bottom_in_cm\": 0.32, \"diam_top_in_cm\": 0.18, \"side_branches_in_cm\": 60.23, \"total_meja\": 0, \"tip_of_stem_broken\": 1, \"infested\": 0, \"total_number_adults\": 0, \"main_stem_length_in_cm\": 29.0}, {\"stem_diam_bottom_in_cm\": 0.43, \"diam_top_in_cm\": 0.18, \"side_branches_in_cm\": 36.0, \"total_meja\": 0, \"tip_of_stem_broken\": 0, \"infested\": 0, \"total_number_adults\": 0, \"main_stem_length_in_cm\": 73.0}]}}, {\"mode\": \"vega-lite\"});\n",
       "</script>"
      ],
      "text/plain": [
       "alt.RepeatChart(...)"
      ]
     },
     "execution_count": 51,
     "metadata": {},
     "output_type": "execute_result"
    }
   ],
   "source": [
    "alt.Chart(df_train_lin).mark_circle().encode(\n",
    "    alt.X(alt.repeat(\"column\"), type='quantitative'),\n",
    "    alt.Y(alt.repeat(\"row\"), type='quantitative')\n",
    ").properties(\n",
    "    width=150,\n",
    "    height=150\n",
    ").repeat(\n",
    "    row=[y_label_lin] + features_lin,\n",
    "    column=[y_label_lin] + features_lin\n",
    ").interactive()"
   ]
  },
  {
   "cell_type": "markdown",
   "metadata": {},
   "source": [
    "We can see that stem diam bottom and main stem length have a positive linear relationship."
   ]
  },
  {
   "cell_type": "markdown",
   "metadata": {},
   "source": [
    "In the following code cell we calculate the correlation coefficients between the columns in the DataFrame df_train and the target variable (y_label).\n",
    "The higher the correlation coefficient, the stronger the linear relationship between the two variables. A positive correlation indicates that as one variable increases, the other tends to increase, while a negative correlation indicates that as one variable increases, the other tends to decrease.\n",
    "\n",
    "As we already recognized in the scatter plot matrix, stem diam bottom has the strongest linear relationship (0.655) with the response variable main stem length. This indicates that stem diam bottom will be a suitable predictor variable.\n",
    "However, we have to keep in mind that correlation does not imply causation."
   ]
  },
  {
   "cell_type": "code",
   "execution_count": 52,
   "metadata": {},
   "outputs": [
    {
     "data": {
      "text/plain": [
       "main_stem_length_in_cm    1.000000\n",
       "stem_diam_bottom_in_cm    0.655359\n",
       "infested                  0.102391\n",
       "total_meja                0.031019\n",
       "side_branches_in_cm      -0.054230\n",
       "tip_of_stem_broken       -0.066924\n",
       "diam_top_in_cm           -0.078608\n",
       "total_number_adults      -0.115388\n",
       "Name: main_stem_length_in_cm, dtype: float64"
      ]
     },
     "execution_count": 52,
     "metadata": {},
     "output_type": "execute_result"
    }
   ],
   "source": [
    "corr = df_train_lin.corr()\n",
    "corr[y_label_lin].sort_values(ascending=False)"
   ]
  },
  {
   "cell_type": "markdown",
   "metadata": {},
   "source": [
    "By applying the background gradient, we can improve the visualization of the correlation matrix. Cells with higher positive correlations are shaded with darker blue colors, while cells with higher negative correlations are shaded with lighter blue colors. \n",
    "\n",
    "This color gradient allows for a quick and intuitive visual assessment of the strength and direction of correlations in the matrix."
   ]
  },
  {
   "cell_type": "code",
   "execution_count": 53,
   "metadata": {
    "scrolled": true
   },
   "outputs": [
    {
     "data": {
      "text/html": [
       "<style type=\"text/css\">\n",
       "#T_fd861_row0_col0, #T_fd861_row1_col1, #T_fd861_row2_col2, #T_fd861_row3_col3, #T_fd861_row4_col4, #T_fd861_row5_col5, #T_fd861_row6_col6, #T_fd861_row7_col7 {\n",
       "  background-color: #08306b;\n",
       "  color: #f1f1f1;\n",
       "}\n",
       "#T_fd861_row0_col1 {\n",
       "  background-color: #b3d3e8;\n",
       "  color: #000000;\n",
       "}\n",
       "#T_fd861_row0_col2, #T_fd861_row6_col1 {\n",
       "  background-color: #e6f0f9;\n",
       "  color: #000000;\n",
       "}\n",
       "#T_fd861_row0_col3 {\n",
       "  background-color: #cde0f1;\n",
       "  color: #000000;\n",
       "}\n",
       "#T_fd861_row0_col4 {\n",
       "  background-color: #bed8ec;\n",
       "  color: #000000;\n",
       "}\n",
       "#T_fd861_row0_col5 {\n",
       "  background-color: #bdd7ec;\n",
       "  color: #000000;\n",
       "}\n",
       "#T_fd861_row0_col6 {\n",
       "  background-color: #dbe9f6;\n",
       "  color: #000000;\n",
       "}\n",
       "#T_fd861_row0_col7 {\n",
       "  background-color: #3181bd;\n",
       "  color: #f1f1f1;\n",
       "}\n",
       "#T_fd861_row1_col0, #T_fd861_row4_col6 {\n",
       "  background-color: #cbdef1;\n",
       "  color: #000000;\n",
       "}\n",
       "#T_fd861_row1_col2 {\n",
       "  background-color: #edf4fc;\n",
       "  color: #000000;\n",
       "}\n",
       "#T_fd861_row1_col3 {\n",
       "  background-color: #deebf7;\n",
       "  color: #000000;\n",
       "}\n",
       "#T_fd861_row1_col4 {\n",
       "  background-color: #a4cce3;\n",
       "  color: #000000;\n",
       "}\n",
       "#T_fd861_row1_col5 {\n",
       "  background-color: #d4e4f4;\n",
       "  color: #000000;\n",
       "}\n",
       "#T_fd861_row1_col6 {\n",
       "  background-color: #dfecf7;\n",
       "  color: #000000;\n",
       "}\n",
       "#T_fd861_row1_col7 {\n",
       "  background-color: #f1f7fd;\n",
       "  color: #000000;\n",
       "}\n",
       "#T_fd861_row2_col0, #T_fd861_row4_col3, #T_fd861_row4_col5, #T_fd861_row5_col4, #T_fd861_row6_col7, #T_fd861_row7_col1, #T_fd861_row7_col2, #T_fd861_row7_col6 {\n",
       "  background-color: #f7fbff;\n",
       "  color: #000000;\n",
       "}\n",
       "#T_fd861_row2_col1 {\n",
       "  background-color: #e9f2fa;\n",
       "  color: #000000;\n",
       "}\n",
       "#T_fd861_row2_col3, #T_fd861_row2_col4, #T_fd861_row3_col4, #T_fd861_row4_col7 {\n",
       "  background-color: #eef5fc;\n",
       "  color: #000000;\n",
       "}\n",
       "#T_fd861_row2_col5 {\n",
       "  background-color: #e4eff9;\n",
       "  color: #000000;\n",
       "}\n",
       "#T_fd861_row2_col6 {\n",
       "  background-color: #e2edf8;\n",
       "  color: #000000;\n",
       "}\n",
       "#T_fd861_row2_col7, #T_fd861_row3_col2, #T_fd861_row6_col2 {\n",
       "  background-color: #ecf4fb;\n",
       "  color: #000000;\n",
       "}\n",
       "#T_fd861_row3_col0 {\n",
       "  background-color: #d9e8f5;\n",
       "  color: #000000;\n",
       "}\n",
       "#T_fd861_row3_col1 {\n",
       "  background-color: #d8e7f5;\n",
       "  color: #000000;\n",
       "}\n",
       "#T_fd861_row3_col5 {\n",
       "  background-color: #3888c1;\n",
       "  color: #f1f1f1;\n",
       "}\n",
       "#T_fd861_row3_col6 {\n",
       "  background-color: #2070b4;\n",
       "  color: #f1f1f1;\n",
       "}\n",
       "#T_fd861_row3_col7 {\n",
       "  background-color: #ddeaf7;\n",
       "  color: #000000;\n",
       "}\n",
       "#T_fd861_row4_col0, #T_fd861_row5_col0 {\n",
       "  background-color: #d3e4f3;\n",
       "  color: #000000;\n",
       "}\n",
       "#T_fd861_row4_col1 {\n",
       "  background-color: #a5cde3;\n",
       "  color: #000000;\n",
       "}\n",
       "#T_fd861_row4_col2 {\n",
       "  background-color: #f5f9fe;\n",
       "  color: #000000;\n",
       "}\n",
       "#T_fd861_row5_col1 {\n",
       "  background-color: #d6e5f4;\n",
       "  color: #000000;\n",
       "}\n",
       "#T_fd861_row5_col2, #T_fd861_row7_col3 {\n",
       "  background-color: #eaf2fb;\n",
       "  color: #000000;\n",
       "}\n",
       "#T_fd861_row5_col3 {\n",
       "  background-color: #3c8cc3;\n",
       "  color: #f1f1f1;\n",
       "}\n",
       "#T_fd861_row5_col6 {\n",
       "  background-color: #6aaed6;\n",
       "  color: #f1f1f1;\n",
       "}\n",
       "#T_fd861_row5_col7 {\n",
       "  background-color: #d1e2f3;\n",
       "  color: #000000;\n",
       "}\n",
       "#T_fd861_row6_col0 {\n",
       "  background-color: #f6faff;\n",
       "  color: #000000;\n",
       "}\n",
       "#T_fd861_row6_col3 {\n",
       "  background-color: #2575b7;\n",
       "  color: #f1f1f1;\n",
       "}\n",
       "#T_fd861_row6_col4 {\n",
       "  background-color: #cfe1f2;\n",
       "  color: #000000;\n",
       "}\n",
       "#T_fd861_row6_col5 {\n",
       "  background-color: #6fb0d7;\n",
       "  color: #f1f1f1;\n",
       "}\n",
       "#T_fd861_row7_col0 {\n",
       "  background-color: #3d8dc4;\n",
       "  color: #f1f1f1;\n",
       "}\n",
       "#T_fd861_row7_col4 {\n",
       "  background-color: #f4f9fe;\n",
       "  color: #000000;\n",
       "}\n",
       "#T_fd861_row7_col5 {\n",
       "  background-color: #d5e5f4;\n",
       "  color: #000000;\n",
       "}\n",
       "</style>\n",
       "<table id=\"T_fd861\">\n",
       "  <thead>\n",
       "    <tr>\n",
       "      <th class=\"blank level0\" >&nbsp;</th>\n",
       "      <th id=\"T_fd861_level0_col0\" class=\"col_heading level0 col0\" >stem_diam_bottom_in_cm</th>\n",
       "      <th id=\"T_fd861_level0_col1\" class=\"col_heading level0 col1\" >diam_top_in_cm</th>\n",
       "      <th id=\"T_fd861_level0_col2\" class=\"col_heading level0 col2\" >side_branches_in_cm</th>\n",
       "      <th id=\"T_fd861_level0_col3\" class=\"col_heading level0 col3\" >total_meja</th>\n",
       "      <th id=\"T_fd861_level0_col4\" class=\"col_heading level0 col4\" >tip_of_stem_broken</th>\n",
       "      <th id=\"T_fd861_level0_col5\" class=\"col_heading level0 col5\" >infested</th>\n",
       "      <th id=\"T_fd861_level0_col6\" class=\"col_heading level0 col6\" >total_number_adults</th>\n",
       "      <th id=\"T_fd861_level0_col7\" class=\"col_heading level0 col7\" >main_stem_length_in_cm</th>\n",
       "    </tr>\n",
       "  </thead>\n",
       "  <tbody>\n",
       "    <tr>\n",
       "      <th id=\"T_fd861_level0_row0\" class=\"row_heading level0 row0\" >stem_diam_bottom_in_cm</th>\n",
       "      <td id=\"T_fd861_row0_col0\" class=\"data row0 col0\" >1.000000</td>\n",
       "      <td id=\"T_fd861_row0_col1\" class=\"data row0 col1\" >0.255788</td>\n",
       "      <td id=\"T_fd861_row0_col2\" class=\"data row0 col2\" >0.038480</td>\n",
       "      <td id=\"T_fd861_row0_col3\" class=\"data row0 col3\" >0.184213</td>\n",
       "      <td id=\"T_fd861_row0_col4\" class=\"data row0 col4\" >0.212503</td>\n",
       "      <td id=\"T_fd861_row0_col5\" class=\"data row0 col5\" >0.214397</td>\n",
       "      <td id=\"T_fd861_row0_col6\" class=\"data row0 col6\" >0.044190</td>\n",
       "      <td id=\"T_fd861_row0_col7\" class=\"data row0 col7\" >0.655359</td>\n",
       "    </tr>\n",
       "    <tr>\n",
       "      <th id=\"T_fd861_level0_row1\" class=\"row_heading level0 row1\" >diam_top_in_cm</th>\n",
       "      <td id=\"T_fd861_row1_col0\" class=\"data row1 col0\" >0.255788</td>\n",
       "      <td id=\"T_fd861_row1_col1\" class=\"data row1 col1\" >1.000000</td>\n",
       "      <td id=\"T_fd861_row1_col2\" class=\"data row1 col2\" >-0.000128</td>\n",
       "      <td id=\"T_fd861_row1_col3\" class=\"data row1 col3\" >0.092449</td>\n",
       "      <td id=\"T_fd861_row1_col4\" class=\"data row1 col4\" >0.302283</td>\n",
       "      <td id=\"T_fd861_row1_col5\" class=\"data row1 col5\" >0.104839</td>\n",
       "      <td id=\"T_fd861_row1_col6\" class=\"data row1 col6\" >0.017193</td>\n",
       "      <td id=\"T_fd861_row1_col7\" class=\"data row1 col7\" >-0.078608</td>\n",
       "    </tr>\n",
       "    <tr>\n",
       "      <th id=\"T_fd861_level0_row2\" class=\"row_heading level0 row2\" >side_branches_in_cm</th>\n",
       "      <td id=\"T_fd861_row2_col0\" class=\"data row2 col0\" >0.038480</td>\n",
       "      <td id=\"T_fd861_row2_col1\" class=\"data row2 col1\" >-0.000128</td>\n",
       "      <td id=\"T_fd861_row2_col2\" class=\"data row2 col2\" >1.000000</td>\n",
       "      <td id=\"T_fd861_row2_col3\" class=\"data row2 col3\" >0.007067</td>\n",
       "      <td id=\"T_fd861_row2_col4\" class=\"data row2 col4\" >-0.038939</td>\n",
       "      <td id=\"T_fd861_row2_col5\" class=\"data row2 col5\" >0.016143</td>\n",
       "      <td id=\"T_fd861_row2_col6\" class=\"data row2 col6\" >0.003766</td>\n",
       "      <td id=\"T_fd861_row2_col7\" class=\"data row2 col7\" >-0.054230</td>\n",
       "    </tr>\n",
       "    <tr>\n",
       "      <th id=\"T_fd861_level0_row3\" class=\"row_heading level0 row3\" >total_meja</th>\n",
       "      <td id=\"T_fd861_row3_col0\" class=\"data row3 col0\" >0.184213</td>\n",
       "      <td id=\"T_fd861_row3_col1\" class=\"data row3 col1\" >0.092449</td>\n",
       "      <td id=\"T_fd861_row3_col2\" class=\"data row3 col2\" >0.007067</td>\n",
       "      <td id=\"T_fd861_row3_col3\" class=\"data row3 col3\" >1.000000</td>\n",
       "      <td id=\"T_fd861_row3_col4\" class=\"data row3 col4\" >-0.038506</td>\n",
       "      <td id=\"T_fd861_row3_col5\" class=\"data row3 col5\" >0.633053</td>\n",
       "      <td id=\"T_fd861_row3_col6\" class=\"data row3 col6\" >0.722286</td>\n",
       "      <td id=\"T_fd861_row3_col7\" class=\"data row3 col7\" >0.031019</td>\n",
       "    </tr>\n",
       "    <tr>\n",
       "      <th id=\"T_fd861_level0_row4\" class=\"row_heading level0 row4\" >tip_of_stem_broken</th>\n",
       "      <td id=\"T_fd861_row4_col0\" class=\"data row4 col0\" >0.212503</td>\n",
       "      <td id=\"T_fd861_row4_col1\" class=\"data row4 col1\" >0.302283</td>\n",
       "      <td id=\"T_fd861_row4_col2\" class=\"data row4 col2\" >-0.038939</td>\n",
       "      <td id=\"T_fd861_row4_col3\" class=\"data row4 col3\" >-0.038506</td>\n",
       "      <td id=\"T_fd861_row4_col4\" class=\"data row4 col4\" >1.000000</td>\n",
       "      <td id=\"T_fd861_row4_col5\" class=\"data row4 col5\" >-0.087130</td>\n",
       "      <td id=\"T_fd861_row4_col6\" class=\"data row4 col6\" >0.135879</td>\n",
       "      <td id=\"T_fd861_row4_col7\" class=\"data row4 col7\" >-0.066924</td>\n",
       "    </tr>\n",
       "    <tr>\n",
       "      <th id=\"T_fd861_level0_row5\" class=\"row_heading level0 row5\" >infested</th>\n",
       "      <td id=\"T_fd861_row5_col0\" class=\"data row5 col0\" >0.214397</td>\n",
       "      <td id=\"T_fd861_row5_col1\" class=\"data row5 col1\" >0.104839</td>\n",
       "      <td id=\"T_fd861_row5_col2\" class=\"data row5 col2\" >0.016143</td>\n",
       "      <td id=\"T_fd861_row5_col3\" class=\"data row5 col3\" >0.633053</td>\n",
       "      <td id=\"T_fd861_row5_col4\" class=\"data row5 col4\" >-0.087130</td>\n",
       "      <td id=\"T_fd861_row5_col5\" class=\"data row5 col5\" >1.000000</td>\n",
       "      <td id=\"T_fd861_row5_col6\" class=\"data row5 col6\" >0.444492</td>\n",
       "      <td id=\"T_fd861_row5_col7\" class=\"data row5 col7\" >0.102391</td>\n",
       "    </tr>\n",
       "    <tr>\n",
       "      <th id=\"T_fd861_level0_row6\" class=\"row_heading level0 row6\" >total_number_adults</th>\n",
       "      <td id=\"T_fd861_row6_col0\" class=\"data row6 col0\" >0.044190</td>\n",
       "      <td id=\"T_fd861_row6_col1\" class=\"data row6 col1\" >0.017193</td>\n",
       "      <td id=\"T_fd861_row6_col2\" class=\"data row6 col2\" >0.003766</td>\n",
       "      <td id=\"T_fd861_row6_col3\" class=\"data row6 col3\" >0.722286</td>\n",
       "      <td id=\"T_fd861_row6_col4\" class=\"data row6 col4\" >0.135879</td>\n",
       "      <td id=\"T_fd861_row6_col5\" class=\"data row6 col5\" >0.444492</td>\n",
       "      <td id=\"T_fd861_row6_col6\" class=\"data row6 col6\" >1.000000</td>\n",
       "      <td id=\"T_fd861_row6_col7\" class=\"data row6 col7\" >-0.115388</td>\n",
       "    </tr>\n",
       "    <tr>\n",
       "      <th id=\"T_fd861_level0_row7\" class=\"row_heading level0 row7\" >main_stem_length_in_cm</th>\n",
       "      <td id=\"T_fd861_row7_col0\" class=\"data row7 col0\" >0.655359</td>\n",
       "      <td id=\"T_fd861_row7_col1\" class=\"data row7 col1\" >-0.078608</td>\n",
       "      <td id=\"T_fd861_row7_col2\" class=\"data row7 col2\" >-0.054230</td>\n",
       "      <td id=\"T_fd861_row7_col3\" class=\"data row7 col3\" >0.031019</td>\n",
       "      <td id=\"T_fd861_row7_col4\" class=\"data row7 col4\" >-0.066924</td>\n",
       "      <td id=\"T_fd861_row7_col5\" class=\"data row7 col5\" >0.102391</td>\n",
       "      <td id=\"T_fd861_row7_col6\" class=\"data row7 col6\" >-0.115388</td>\n",
       "      <td id=\"T_fd861_row7_col7\" class=\"data row7 col7\" >1.000000</td>\n",
       "    </tr>\n",
       "  </tbody>\n",
       "</table>\n"
      ],
      "text/plain": [
       "<pandas.io.formats.style.Styler at 0x2229e6d1f50>"
      ]
     },
     "execution_count": 53,
     "metadata": {},
     "output_type": "execute_result"
    }
   ],
   "source": [
    "corr.style.background_gradient(cmap='Blues')"
   ]
  },
  {
   "cell_type": "markdown",
   "metadata": {},
   "source": [
    "We also saw that total meja and meja per 100cm do have a high correlation. The value of 0.918 suggests a strong positive linear relationship. As meja per 100 cm is defined as total meja / main stem length (cm) * 100 (cm) this is not really surprising. However, we need to be careful as high correlations between the predictor variables can lead to multicollinearity, which can affect the stability of the regression coefficients. As a solution, we can remove one of the two highly correlated variables from the model. (see chapter 3.4.1)"
   ]
  },
  {
   "cell_type": "markdown",
   "metadata": {},
   "source": [
    "#### 4.2.2 Logistic Regression"
   ]
  },
  {
   "cell_type": "markdown",
   "metadata": {},
   "source": [
    "To evaluate whether there are significant differences in the main stem lengths and diam top between the categories \"infested\" and \"not infested\", we create boxplot diagrams showing the distribution of the values of the variable \"main stem length_in_cm\" and \"diam_top_in_cm\" for the two categories of the variable \"infested\"."
   ]
  },
  {
   "cell_type": "code",
   "execution_count": 95,
   "metadata": {},
   "outputs": [
    {
     "data": {
      "text/html": [
       "\n",
       "<style>\n",
       "  #altair-viz-66d8b33bca5b4000a33ac45e1ce37658.vega-embed {\n",
       "    width: 100%;\n",
       "    display: flex;\n",
       "  }\n",
       "\n",
       "  #altair-viz-66d8b33bca5b4000a33ac45e1ce37658.vega-embed details,\n",
       "  #altair-viz-66d8b33bca5b4000a33ac45e1ce37658.vega-embed details summary {\n",
       "    position: relative;\n",
       "  }\n",
       "</style>\n",
       "<div id=\"altair-viz-66d8b33bca5b4000a33ac45e1ce37658\"></div>\n",
       "<script type=\"text/javascript\">\n",
       "  var VEGA_DEBUG = (typeof VEGA_DEBUG == \"undefined\") ? {} : VEGA_DEBUG;\n",
       "  (function(spec, embedOpt){\n",
       "    let outputDiv = document.currentScript.previousElementSibling;\n",
       "    if (outputDiv.id !== \"altair-viz-66d8b33bca5b4000a33ac45e1ce37658\") {\n",
       "      outputDiv = document.getElementById(\"altair-viz-66d8b33bca5b4000a33ac45e1ce37658\");\n",
       "    }\n",
       "    const paths = {\n",
       "      \"vega\": \"https://cdn.jsdelivr.net/npm/vega@5?noext\",\n",
       "      \"vega-lib\": \"https://cdn.jsdelivr.net/npm/vega-lib?noext\",\n",
       "      \"vega-lite\": \"https://cdn.jsdelivr.net/npm/vega-lite@5.16.3?noext\",\n",
       "      \"vega-embed\": \"https://cdn.jsdelivr.net/npm/vega-embed@6?noext\",\n",
       "    };\n",
       "\n",
       "    function maybeLoadScript(lib, version) {\n",
       "      var key = `${lib.replace(\"-\", \"\")}_version`;\n",
       "      return (VEGA_DEBUG[key] == version) ?\n",
       "        Promise.resolve(paths[lib]) :\n",
       "        new Promise(function(resolve, reject) {\n",
       "          var s = document.createElement('script');\n",
       "          document.getElementsByTagName(\"head\")[0].appendChild(s);\n",
       "          s.async = true;\n",
       "          s.onload = () => {\n",
       "            VEGA_DEBUG[key] = version;\n",
       "            return resolve(paths[lib]);\n",
       "          };\n",
       "          s.onerror = () => reject(`Error loading script: ${paths[lib]}`);\n",
       "          s.src = paths[lib];\n",
       "        });\n",
       "    }\n",
       "\n",
       "    function showError(err) {\n",
       "      outputDiv.innerHTML = `<div class=\"error\" style=\"color:red;\">${err}</div>`;\n",
       "      throw err;\n",
       "    }\n",
       "\n",
       "    function displayChart(vegaEmbed) {\n",
       "      vegaEmbed(outputDiv, spec, embedOpt)\n",
       "        .catch(err => showError(`Javascript Error: ${err.message}<br>This usually means there's a typo in your chart specification. See the javascript console for the full traceback.`));\n",
       "    }\n",
       "\n",
       "    if(typeof define === \"function\" && define.amd) {\n",
       "      requirejs.config({paths});\n",
       "      require([\"vega-embed\"], displayChart, err => showError(`Error loading script: ${err.message}`));\n",
       "    } else {\n",
       "      maybeLoadScript(\"vega\", \"5\")\n",
       "        .then(() => maybeLoadScript(\"vega-lite\", \"5.16.3\"))\n",
       "        .then(() => maybeLoadScript(\"vega-embed\", \"6\"))\n",
       "        .catch(showError)\n",
       "        .then(() => displayChart(vegaEmbed));\n",
       "    }\n",
       "  })({\"config\": {\"view\": {\"continuousWidth\": 300, \"continuousHeight\": 300}}, \"hconcat\": [{\"mark\": {\"type\": \"boxplot\", \"opacity\": 0.7, \"size\": 50}, \"encoding\": {\"x\": {\"field\": \"main_stem_length_in_cm\", \"scale\": {\"zero\": true}, \"type\": \"quantitative\"}, \"y\": {\"field\": \"infested\", \"type\": \"nominal\"}}, \"height\": 200, \"width\": 400}, {\"mark\": {\"type\": \"boxplot\", \"opacity\": 0.7, \"size\": 50}, \"encoding\": {\"x\": {\"field\": \"diam_top_in_cm\", \"scale\": {\"zero\": true}, \"type\": \"quantitative\"}, \"y\": {\"field\": \"infested\", \"type\": \"nominal\"}}, \"height\": 200, \"width\": 400}], \"data\": {\"name\": \"data-0b834f2f61565aa2d7ffd76e2c184077\"}, \"$schema\": \"https://vega.github.io/schema/vega-lite/v5.16.3.json\", \"datasets\": {\"data-0b834f2f61565aa2d7ffd76e2c184077\": [{\"main_stem_length_in_cm\": 64.0, \"total_meja\": 21, \"infested\": 1, \"tip_of_stem_broken\": 1, \"side_branches_in_cm\": null, \"total_number_adults\": 17, \"stem_diam_bottom_in_cm\": 0.78, \"diam_top_in_cm\": 0.26}, {\"main_stem_length_in_cm\": 57.5, \"total_meja\": 46, \"infested\": 1, \"tip_of_stem_broken\": 1, \"side_branches_in_cm\": null, \"total_number_adults\": 44, \"stem_diam_bottom_in_cm\": 0.82, \"diam_top_in_cm\": 0.22}, {\"main_stem_length_in_cm\": 33.0, \"total_meja\": 32, \"infested\": 1, \"tip_of_stem_broken\": 1, \"side_branches_in_cm\": null, \"total_number_adults\": 32, \"stem_diam_bottom_in_cm\": 0.66, \"diam_top_in_cm\": 0.26}, {\"main_stem_length_in_cm\": 59.0, \"total_meja\": 30, \"infested\": 1, \"tip_of_stem_broken\": 1, \"side_branches_in_cm\": null, \"total_number_adults\": 30, \"stem_diam_bottom_in_cm\": 0.64, \"diam_top_in_cm\": 0.26}, {\"main_stem_length_in_cm\": 45.0, \"total_meja\": 31, \"infested\": 1, \"tip_of_stem_broken\": 1, \"side_branches_in_cm\": null, \"total_number_adults\": 31, \"stem_diam_bottom_in_cm\": 0.65, \"diam_top_in_cm\": 0.3}, {\"main_stem_length_in_cm\": 61.0, \"total_meja\": 21, \"infested\": 1, \"tip_of_stem_broken\": 1, \"side_branches_in_cm\": null, \"total_number_adults\": 21, \"stem_diam_bottom_in_cm\": 0.7, \"diam_top_in_cm\": 0.21}, {\"main_stem_length_in_cm\": 43.0, \"total_meja\": 15, \"infested\": 1, \"tip_of_stem_broken\": 1, \"side_branches_in_cm\": null, \"total_number_adults\": 14, \"stem_diam_bottom_in_cm\": 0.68, \"diam_top_in_cm\": 0.18}, {\"main_stem_length_in_cm\": 46.0, \"total_meja\": 41, \"infested\": 1, \"tip_of_stem_broken\": 1, \"side_branches_in_cm\": null, \"total_number_adults\": 37, \"stem_diam_bottom_in_cm\": 0.68, \"diam_top_in_cm\": 0.15}, {\"main_stem_length_in_cm\": 43.0, \"total_meja\": 29, \"infested\": 1, \"tip_of_stem_broken\": 1, \"side_branches_in_cm\": null, \"total_number_adults\": 29, \"stem_diam_bottom_in_cm\": 0.74, \"diam_top_in_cm\": 0.43}, {\"main_stem_length_in_cm\": 50.0, \"total_meja\": 1, \"infested\": 1, \"tip_of_stem_broken\": 0, \"side_branches_in_cm\": null, \"total_number_adults\": 1, \"stem_diam_bottom_in_cm\": 0.39, \"diam_top_in_cm\": 0.11}, {\"main_stem_length_in_cm\": 48.0, \"total_meja\": 23, \"infested\": 1, \"tip_of_stem_broken\": 1, \"side_branches_in_cm\": null, \"total_number_adults\": 23, \"stem_diam_bottom_in_cm\": 0.5, \"diam_top_in_cm\": 0.27}, {\"main_stem_length_in_cm\": 45.0, \"total_meja\": 16, \"infested\": 1, \"tip_of_stem_broken\": 1, \"side_branches_in_cm\": null, \"total_number_adults\": 16, \"stem_diam_bottom_in_cm\": 0.51, \"diam_top_in_cm\": 0.25}, {\"main_stem_length_in_cm\": 49.0, \"total_meja\": 28, \"infested\": 1, \"tip_of_stem_broken\": 1, \"side_branches_in_cm\": null, \"total_number_adults\": 28, \"stem_diam_bottom_in_cm\": 0.85, \"diam_top_in_cm\": 0.38}, {\"main_stem_length_in_cm\": 31.0, \"total_meja\": 26, \"infested\": 1, \"tip_of_stem_broken\": 1, \"side_branches_in_cm\": null, \"total_number_adults\": 22, \"stem_diam_bottom_in_cm\": 0.48, \"diam_top_in_cm\": 0.28}, {\"main_stem_length_in_cm\": 42.0, \"total_meja\": 8, \"infested\": 1, \"tip_of_stem_broken\": 1, \"side_branches_in_cm\": null, \"total_number_adults\": 8, \"stem_diam_bottom_in_cm\": 0.93, \"diam_top_in_cm\": 0.28}, {\"main_stem_length_in_cm\": 41.0, \"total_meja\": 28, \"infested\": 1, \"tip_of_stem_broken\": 1, \"side_branches_in_cm\": null, \"total_number_adults\": 28, \"stem_diam_bottom_in_cm\": 0.48, \"diam_top_in_cm\": 0.16}, {\"main_stem_length_in_cm\": 36.0, \"total_meja\": 3, \"infested\": 1, \"tip_of_stem_broken\": 1, \"side_branches_in_cm\": null, \"total_number_adults\": 3, \"stem_diam_bottom_in_cm\": 0.66, \"diam_top_in_cm\": 0.22}, {\"main_stem_length_in_cm\": 41.0, \"total_meja\": 53, \"infested\": 1, \"tip_of_stem_broken\": 1, \"side_branches_in_cm\": null, \"total_number_adults\": 53, \"stem_diam_bottom_in_cm\": 0.69, \"diam_top_in_cm\": 0.28}, {\"main_stem_length_in_cm\": 47.0, \"total_meja\": 1, \"infested\": 1, \"tip_of_stem_broken\": 1, \"side_branches_in_cm\": null, \"total_number_adults\": 0, \"stem_diam_bottom_in_cm\": 0.75, \"diam_top_in_cm\": 0.24}, {\"main_stem_length_in_cm\": 35.0, \"total_meja\": 8, \"infested\": 1, \"tip_of_stem_broken\": 1, \"side_branches_in_cm\": null, \"total_number_adults\": 7, \"stem_diam_bottom_in_cm\": 0.53, \"diam_top_in_cm\": 0.19}, {\"main_stem_length_in_cm\": 33.0, \"total_meja\": 21, \"infested\": 1, \"tip_of_stem_broken\": 0, \"side_branches_in_cm\": null, \"total_number_adults\": 17, \"stem_diam_bottom_in_cm\": 0.5, \"diam_top_in_cm\": 0.16}, {\"main_stem_length_in_cm\": 42.0, \"total_meja\": 10, \"infested\": 1, \"tip_of_stem_broken\": 0, \"side_branches_in_cm\": null, \"total_number_adults\": 10, \"stem_diam_bottom_in_cm\": 0.45, \"diam_top_in_cm\": 0.11}, {\"main_stem_length_in_cm\": 27.0, \"total_meja\": 12, \"infested\": 1, \"tip_of_stem_broken\": 0, \"side_branches_in_cm\": null, \"total_number_adults\": 12, \"stem_diam_bottom_in_cm\": 0.34, \"diam_top_in_cm\": 0.12}, {\"main_stem_length_in_cm\": 31.0, \"total_meja\": 21, \"infested\": 1, \"tip_of_stem_broken\": 0, \"side_branches_in_cm\": null, \"total_number_adults\": 21, \"stem_diam_bottom_in_cm\": 0.43, \"diam_top_in_cm\": 0.16}, {\"main_stem_length_in_cm\": 37.0, \"total_meja\": 6, \"infested\": 1, \"tip_of_stem_broken\": 0, \"side_branches_in_cm\": null, \"total_number_adults\": 6, \"stem_diam_bottom_in_cm\": 0.65, \"diam_top_in_cm\": 0.16}, {\"main_stem_length_in_cm\": 41.0, \"total_meja\": 10, \"infested\": 1, \"tip_of_stem_broken\": 0, \"side_branches_in_cm\": null, \"total_number_adults\": 10, \"stem_diam_bottom_in_cm\": 0.48, \"diam_top_in_cm\": 0.13}, {\"main_stem_length_in_cm\": 43.0, \"total_meja\": 18, \"infested\": 1, \"tip_of_stem_broken\": 1, \"side_branches_in_cm\": null, \"total_number_adults\": 18, \"stem_diam_bottom_in_cm\": 0.61, \"diam_top_in_cm\": 0.36}, {\"main_stem_length_in_cm\": 40.0, \"total_meja\": 20, \"infested\": 1, \"tip_of_stem_broken\": 1, \"side_branches_in_cm\": null, \"total_number_adults\": 18, \"stem_diam_bottom_in_cm\": 0.52, \"diam_top_in_cm\": 0.26}, {\"main_stem_length_in_cm\": 34.0, \"total_meja\": 17, \"infested\": 1, \"tip_of_stem_broken\": 1, \"side_branches_in_cm\": null, \"total_number_adults\": 17, \"stem_diam_bottom_in_cm\": 0.61, \"diam_top_in_cm\": 0.2}, {\"main_stem_length_in_cm\": 27.5, \"total_meja\": 22, \"infested\": 1, \"tip_of_stem_broken\": 1, \"side_branches_in_cm\": null, \"total_number_adults\": 22, \"stem_diam_bottom_in_cm\": 0.64, \"diam_top_in_cm\": 0.35}, {\"main_stem_length_in_cm\": 40.0, \"total_meja\": 13, \"infested\": 1, \"tip_of_stem_broken\": 1, \"side_branches_in_cm\": null, \"total_number_adults\": 13, \"stem_diam_bottom_in_cm\": 0.57, \"diam_top_in_cm\": 0.31}, {\"main_stem_length_in_cm\": 34.0, \"total_meja\": 17, \"infested\": 1, \"tip_of_stem_broken\": 1, \"side_branches_in_cm\": null, \"total_number_adults\": 16, \"stem_diam_bottom_in_cm\": 0.42, \"diam_top_in_cm\": 0.22}, {\"main_stem_length_in_cm\": 35.0, \"total_meja\": 11, \"infested\": 1, \"tip_of_stem_broken\": 1, \"side_branches_in_cm\": null, \"total_number_adults\": 10, \"stem_diam_bottom_in_cm\": 0.61, \"diam_top_in_cm\": 0.16}, {\"main_stem_length_in_cm\": 43.0, \"total_meja\": 9, \"infested\": 1, \"tip_of_stem_broken\": 1, \"side_branches_in_cm\": null, \"total_number_adults\": 3, \"stem_diam_bottom_in_cm\": 0.45, \"diam_top_in_cm\": 0.14}, {\"main_stem_length_in_cm\": 36.0, \"total_meja\": 6, \"infested\": 1, \"tip_of_stem_broken\": 1, \"side_branches_in_cm\": null, \"total_number_adults\": 0, \"stem_diam_bottom_in_cm\": 0.43, \"diam_top_in_cm\": 0.11}, {\"main_stem_length_in_cm\": 34.0, \"total_meja\": 9, \"infested\": 1, \"tip_of_stem_broken\": 1, \"side_branches_in_cm\": null, \"total_number_adults\": 7, \"stem_diam_bottom_in_cm\": 0.62, \"diam_top_in_cm\": 0.12}, {\"main_stem_length_in_cm\": 27.0, \"total_meja\": 7, \"infested\": 1, \"tip_of_stem_broken\": 0, \"side_branches_in_cm\": null, \"total_number_adults\": 5, \"stem_diam_bottom_in_cm\": 0.36, \"diam_top_in_cm\": 0.15}, {\"main_stem_length_in_cm\": 38.0, \"total_meja\": 14, \"infested\": 1, \"tip_of_stem_broken\": 1, \"side_branches_in_cm\": null, \"total_number_adults\": 9, \"stem_diam_bottom_in_cm\": 0.47, \"diam_top_in_cm\": 0.21}, {\"main_stem_length_in_cm\": 31.0, \"total_meja\": 9, \"infested\": 1, \"tip_of_stem_broken\": 0, \"side_branches_in_cm\": null, \"total_number_adults\": 7, \"stem_diam_bottom_in_cm\": 0.46, \"diam_top_in_cm\": 0.12}, {\"main_stem_length_in_cm\": 38.0, \"total_meja\": 27, \"infested\": 1, \"tip_of_stem_broken\": 1, \"side_branches_in_cm\": null, \"total_number_adults\": 21, \"stem_diam_bottom_in_cm\": 0.53, \"diam_top_in_cm\": 0.21}, {\"main_stem_length_in_cm\": 41.0, \"total_meja\": 11, \"infested\": 1, \"tip_of_stem_broken\": 1, \"side_branches_in_cm\": null, \"total_number_adults\": 9, \"stem_diam_bottom_in_cm\": 0.32, \"diam_top_in_cm\": 0.16}, {\"main_stem_length_in_cm\": 30.0, \"total_meja\": 10, \"infested\": 1, \"tip_of_stem_broken\": 1, \"side_branches_in_cm\": null, \"total_number_adults\": 8, \"stem_diam_bottom_in_cm\": 0.4, \"diam_top_in_cm\": 0.17}, {\"main_stem_length_in_cm\": 22.0, \"total_meja\": 23, \"infested\": 1, \"tip_of_stem_broken\": 1, \"side_branches_in_cm\": null, \"total_number_adults\": 23, \"stem_diam_bottom_in_cm\": 0.51, \"diam_top_in_cm\": 0.23}, {\"main_stem_length_in_cm\": 33.0, \"total_meja\": 7, \"infested\": 1, \"tip_of_stem_broken\": 1, \"side_branches_in_cm\": null, \"total_number_adults\": 0, \"stem_diam_bottom_in_cm\": 0.55, \"diam_top_in_cm\": 0.12}, {\"main_stem_length_in_cm\": 25.0, \"total_meja\": 5, \"infested\": 1, \"tip_of_stem_broken\": 0, \"side_branches_in_cm\": null, \"total_number_adults\": 1, \"stem_diam_bottom_in_cm\": 0.3, \"diam_top_in_cm\": 0.2}, {\"main_stem_length_in_cm\": 36.0, \"total_meja\": 15, \"infested\": 1, \"tip_of_stem_broken\": 1, \"side_branches_in_cm\": null, \"total_number_adults\": 7, \"stem_diam_bottom_in_cm\": 0.46, \"diam_top_in_cm\": 0.12}, {\"main_stem_length_in_cm\": 44.0, \"total_meja\": 14, \"infested\": 1, \"tip_of_stem_broken\": 1, \"side_branches_in_cm\": null, \"total_number_adults\": 9, \"stem_diam_bottom_in_cm\": 0.81, \"diam_top_in_cm\": 0.18}, {\"main_stem_length_in_cm\": 21.0, \"total_meja\": 28, \"infested\": 1, \"tip_of_stem_broken\": 1, \"side_branches_in_cm\": null, \"total_number_adults\": 26, \"stem_diam_bottom_in_cm\": 0.35, \"diam_top_in_cm\": 0.16}, {\"main_stem_length_in_cm\": 36.0, \"total_meja\": 6, \"infested\": 0, \"tip_of_stem_broken\": 1, \"side_branches_in_cm\": null, \"total_number_adults\": 5, \"stem_diam_bottom_in_cm\": 0.55, \"diam_top_in_cm\": 0.19}, {\"main_stem_length_in_cm\": 36.0, \"total_meja\": 21, \"infested\": 1, \"tip_of_stem_broken\": 0, \"side_branches_in_cm\": null, \"total_number_adults\": 15, \"stem_diam_bottom_in_cm\": 0.41, \"diam_top_in_cm\": 0.2}, {\"main_stem_length_in_cm\": 85.0, \"total_meja\": 0, \"infested\": 0, \"tip_of_stem_broken\": 0, \"side_branches_in_cm\": null, \"total_number_adults\": 0, \"stem_diam_bottom_in_cm\": 0.48, \"diam_top_in_cm\": 0.05}, {\"main_stem_length_in_cm\": 68.0, \"total_meja\": 0, \"infested\": 0, \"tip_of_stem_broken\": 0, \"side_branches_in_cm\": null, \"total_number_adults\": 0, \"stem_diam_bottom_in_cm\": 0.34, \"diam_top_in_cm\": 0.04}, {\"main_stem_length_in_cm\": 87.0, \"total_meja\": 0, \"infested\": 0, \"tip_of_stem_broken\": 1, \"side_branches_in_cm\": null, \"total_number_adults\": 0, \"stem_diam_bottom_in_cm\": 0.93, \"diam_top_in_cm\": 0.29}, {\"main_stem_length_in_cm\": 81.0, \"total_meja\": 0, \"infested\": 0, \"tip_of_stem_broken\": 0, \"side_branches_in_cm\": null, \"total_number_adults\": 0, \"stem_diam_bottom_in_cm\": 0.41, \"diam_top_in_cm\": 0.06}, {\"main_stem_length_in_cm\": 93.0, \"total_meja\": 0, \"infested\": 0, \"tip_of_stem_broken\": 1, \"side_branches_in_cm\": null, \"total_number_adults\": 0, \"stem_diam_bottom_in_cm\": 0.76, \"diam_top_in_cm\": 0.12}, {\"main_stem_length_in_cm\": 73.0, \"total_meja\": 0, \"infested\": 0, \"tip_of_stem_broken\": 0, \"side_branches_in_cm\": null, \"total_number_adults\": 0, \"stem_diam_bottom_in_cm\": 0.54, \"diam_top_in_cm\": 0.03}, {\"main_stem_length_in_cm\": 103.0, \"total_meja\": 0, \"infested\": 0, \"tip_of_stem_broken\": 0, \"side_branches_in_cm\": null, \"total_number_adults\": 0, \"stem_diam_bottom_in_cm\": 0.53, \"diam_top_in_cm\": 0.02}, {\"main_stem_length_in_cm\": 65.0, \"total_meja\": 0, \"infested\": 0, \"tip_of_stem_broken\": 1, \"side_branches_in_cm\": null, \"total_number_adults\": 0, \"stem_diam_bottom_in_cm\": 0.53, \"diam_top_in_cm\": 0.09}, {\"main_stem_length_in_cm\": 101.0, \"total_meja\": 0, \"infested\": 0, \"tip_of_stem_broken\": 0, \"side_branches_in_cm\": null, \"total_number_adults\": 0, \"stem_diam_bottom_in_cm\": 0.4, \"diam_top_in_cm\": 0.04}, {\"main_stem_length_in_cm\": 85.0, \"total_meja\": 0, \"infested\": 0, \"tip_of_stem_broken\": 0, \"side_branches_in_cm\": null, \"total_number_adults\": 0, \"stem_diam_bottom_in_cm\": 0.73, \"diam_top_in_cm\": 0.05}, {\"main_stem_length_in_cm\": 46.0, \"total_meja\": 0, \"infested\": 0, \"tip_of_stem_broken\": 1, \"side_branches_in_cm\": null, \"total_number_adults\": 0, \"stem_diam_bottom_in_cm\": 0.37, \"diam_top_in_cm\": 0.07}, {\"main_stem_length_in_cm\": 65.0, \"total_meja\": 0, \"infested\": 0, \"tip_of_stem_broken\": 0, \"side_branches_in_cm\": null, \"total_number_adults\": 0, \"stem_diam_bottom_in_cm\": 0.42, \"diam_top_in_cm\": 0.07}, {\"main_stem_length_in_cm\": 72.0, \"total_meja\": 0, \"infested\": 0, \"tip_of_stem_broken\": 0, \"side_branches_in_cm\": null, \"total_number_adults\": 0, \"stem_diam_bottom_in_cm\": 0.36, \"diam_top_in_cm\": 0.02}, {\"main_stem_length_in_cm\": 66.0, \"total_meja\": 0, \"infested\": 0, \"tip_of_stem_broken\": 0, \"side_branches_in_cm\": null, \"total_number_adults\": 0, \"stem_diam_bottom_in_cm\": 0.38, \"diam_top_in_cm\": 0.04}, {\"main_stem_length_in_cm\": 76.0, \"total_meja\": 4, \"infested\": 1, \"tip_of_stem_broken\": 0, \"side_branches_in_cm\": null, \"total_number_adults\": 1, \"stem_diam_bottom_in_cm\": 0.45, \"diam_top_in_cm\": 0.06}, {\"main_stem_length_in_cm\": 61.0, \"total_meja\": 0, \"infested\": 0, \"tip_of_stem_broken\": 0, \"side_branches_in_cm\": null, \"total_number_adults\": 0, \"stem_diam_bottom_in_cm\": 0.54, \"diam_top_in_cm\": 0.16}, {\"main_stem_length_in_cm\": 61.0, \"total_meja\": 0, \"infested\": 0, \"tip_of_stem_broken\": 1, \"side_branches_in_cm\": null, \"total_number_adults\": 0, \"stem_diam_bottom_in_cm\": 0.38, \"diam_top_in_cm\": 0.16}, {\"main_stem_length_in_cm\": 57.0, \"total_meja\": 0, \"infested\": 0, \"tip_of_stem_broken\": 1, \"side_branches_in_cm\": null, \"total_number_adults\": 0, \"stem_diam_bottom_in_cm\": 0.55, \"diam_top_in_cm\": 0.15}, {\"main_stem_length_in_cm\": 58.0, \"total_meja\": 0, \"infested\": 0, \"tip_of_stem_broken\": 1, \"side_branches_in_cm\": null, \"total_number_adults\": 0, \"stem_diam_bottom_in_cm\": 0.72, \"diam_top_in_cm\": 0.16}, {\"main_stem_length_in_cm\": 85.0, \"total_meja\": 0, \"infested\": 0, \"tip_of_stem_broken\": 1, \"side_branches_in_cm\": null, \"total_number_adults\": 0, \"stem_diam_bottom_in_cm\": 0.81, \"diam_top_in_cm\": 0.21}, {\"main_stem_length_in_cm\": 75.0, \"total_meja\": 0, \"infested\": 0, \"tip_of_stem_broken\": 0, \"side_branches_in_cm\": null, \"total_number_adults\": 0, \"stem_diam_bottom_in_cm\": 0.32, \"diam_top_in_cm\": 0.05}, {\"main_stem_length_in_cm\": 51.0, \"total_meja\": 0, \"infested\": 0, \"tip_of_stem_broken\": 0, \"side_branches_in_cm\": null, \"total_number_adults\": 0, \"stem_diam_bottom_in_cm\": 0.39, \"diam_top_in_cm\": 0.05}, {\"main_stem_length_in_cm\": 66.0, \"total_meja\": 2, \"infested\": 1, \"tip_of_stem_broken\": 1, \"side_branches_in_cm\": null, \"total_number_adults\": 1, \"stem_diam_bottom_in_cm\": 0.41, \"diam_top_in_cm\": 0.1}, {\"main_stem_length_in_cm\": 83.0, \"total_meja\": 0, \"infested\": 0, \"tip_of_stem_broken\": 1, \"side_branches_in_cm\": null, \"total_number_adults\": 0, \"stem_diam_bottom_in_cm\": 0.51, \"diam_top_in_cm\": 0.11}, {\"main_stem_length_in_cm\": 95.0, \"total_meja\": 0, \"infested\": 0, \"tip_of_stem_broken\": 0, \"side_branches_in_cm\": null, \"total_number_adults\": 0, \"stem_diam_bottom_in_cm\": 0.61, \"diam_top_in_cm\": 0.03}, {\"main_stem_length_in_cm\": 70.0, \"total_meja\": 0, \"infested\": 0, \"tip_of_stem_broken\": 1, \"side_branches_in_cm\": null, \"total_number_adults\": 0, \"stem_diam_bottom_in_cm\": 0.57, \"diam_top_in_cm\": 0.06}, {\"main_stem_length_in_cm\": 49.0, \"total_meja\": 1, \"infested\": 1, \"tip_of_stem_broken\": 1, \"side_branches_in_cm\": null, \"total_number_adults\": 1, \"stem_diam_bottom_in_cm\": 0.4, \"diam_top_in_cm\": 0.15}, {\"main_stem_length_in_cm\": 55.0, \"total_meja\": 0, \"infested\": 0, \"tip_of_stem_broken\": 0, \"side_branches_in_cm\": null, \"total_number_adults\": 0, \"stem_diam_bottom_in_cm\": 0.39, \"diam_top_in_cm\": 0.02}, {\"main_stem_length_in_cm\": 89.0, \"total_meja\": 0, \"infested\": 0, \"tip_of_stem_broken\": 0, \"side_branches_in_cm\": null, \"total_number_adults\": 0, \"stem_diam_bottom_in_cm\": 0.41, \"diam_top_in_cm\": 0.05}, {\"main_stem_length_in_cm\": 90.0, \"total_meja\": 0, \"infested\": 0, \"tip_of_stem_broken\": 0, \"side_branches_in_cm\": null, \"total_number_adults\": 0, \"stem_diam_bottom_in_cm\": 0.44, \"diam_top_in_cm\": 0.05}, {\"main_stem_length_in_cm\": 61.0, \"total_meja\": 0, \"infested\": 0, \"tip_of_stem_broken\": 0, \"side_branches_in_cm\": null, \"total_number_adults\": 0, \"stem_diam_bottom_in_cm\": 0.48, \"diam_top_in_cm\": 0.1}, {\"main_stem_length_in_cm\": 52.0, \"total_meja\": 3, \"infested\": 1, \"tip_of_stem_broken\": 0, \"side_branches_in_cm\": null, \"total_number_adults\": 3, \"stem_diam_bottom_in_cm\": 0.43, \"diam_top_in_cm\": 0.05}, {\"main_stem_length_in_cm\": 47.0, \"total_meja\": 0, \"infested\": 0, \"tip_of_stem_broken\": 0, \"side_branches_in_cm\": null, \"total_number_adults\": 0, \"stem_diam_bottom_in_cm\": 0.25, \"diam_top_in_cm\": 0.06}, {\"main_stem_length_in_cm\": 85.0, \"total_meja\": 0, \"infested\": 0, \"tip_of_stem_broken\": 0, \"side_branches_in_cm\": null, \"total_number_adults\": 0, \"stem_diam_bottom_in_cm\": 0.56, \"diam_top_in_cm\": 0.08}, {\"main_stem_length_in_cm\": 79.0, \"total_meja\": 0, \"infested\": 0, \"tip_of_stem_broken\": 1, \"side_branches_in_cm\": null, \"total_number_adults\": 0, \"stem_diam_bottom_in_cm\": 0.9, \"diam_top_in_cm\": 0.26}, {\"main_stem_length_in_cm\": 96.0, \"total_meja\": 0, \"infested\": 0, \"tip_of_stem_broken\": 1, \"side_branches_in_cm\": null, \"total_number_adults\": 0, \"stem_diam_bottom_in_cm\": 0.86, \"diam_top_in_cm\": 0.23}, {\"main_stem_length_in_cm\": 67.0, \"total_meja\": 4, \"infested\": 1, \"tip_of_stem_broken\": 0, \"side_branches_in_cm\": null, \"total_number_adults\": 4, \"stem_diam_bottom_in_cm\": 0.5, \"diam_top_in_cm\": 0.06}, {\"main_stem_length_in_cm\": 64.0, \"total_meja\": 0, \"infested\": 0, \"tip_of_stem_broken\": 0, \"side_branches_in_cm\": null, \"total_number_adults\": 0, \"stem_diam_bottom_in_cm\": 0.56, \"diam_top_in_cm\": 0.07}, {\"main_stem_length_in_cm\": 66.0, \"total_meja\": 0, \"infested\": 0, \"tip_of_stem_broken\": 0, \"side_branches_in_cm\": null, \"total_number_adults\": 0, \"stem_diam_bottom_in_cm\": 0.42, \"diam_top_in_cm\": 0.05}, {\"main_stem_length_in_cm\": 62.0, \"total_meja\": 0, \"infested\": 0, \"tip_of_stem_broken\": 1, \"side_branches_in_cm\": null, \"total_number_adults\": 0, \"stem_diam_bottom_in_cm\": 0.48, \"diam_top_in_cm\": 0.15}, {\"main_stem_length_in_cm\": 83.0, \"total_meja\": 0, \"infested\": 0, \"tip_of_stem_broken\": 1, \"side_branches_in_cm\": null, \"total_number_adults\": 0, \"stem_diam_bottom_in_cm\": 0.48, \"diam_top_in_cm\": 0.09}, {\"main_stem_length_in_cm\": 75.0, \"total_meja\": 0, \"infested\": 0, \"tip_of_stem_broken\": 0, \"side_branches_in_cm\": null, \"total_number_adults\": 0, \"stem_diam_bottom_in_cm\": 0.48, \"diam_top_in_cm\": 0.03}, {\"main_stem_length_in_cm\": 48.0, \"total_meja\": 0, \"infested\": 0, \"tip_of_stem_broken\": 0, \"side_branches_in_cm\": null, \"total_number_adults\": 0, \"stem_diam_bottom_in_cm\": 0.27, \"diam_top_in_cm\": 0.06}, {\"main_stem_length_in_cm\": 73.0, \"total_meja\": 0, \"infested\": 0, \"tip_of_stem_broken\": 1, \"side_branches_in_cm\": null, \"total_number_adults\": 0, \"stem_diam_bottom_in_cm\": 0.54, \"diam_top_in_cm\": 0.11}, {\"main_stem_length_in_cm\": 83.0, \"total_meja\": 0, \"infested\": 0, \"tip_of_stem_broken\": 0, \"side_branches_in_cm\": null, \"total_number_adults\": 0, \"stem_diam_bottom_in_cm\": 0.34, \"diam_top_in_cm\": 0.05}, {\"main_stem_length_in_cm\": 69.0, \"total_meja\": 0, \"infested\": 0, \"tip_of_stem_broken\": 1, \"side_branches_in_cm\": null, \"total_number_adults\": 0, \"stem_diam_bottom_in_cm\": 0.63, \"diam_top_in_cm\": 0.17}, {\"main_stem_length_in_cm\": 63.0, \"total_meja\": 0, \"infested\": 0, \"tip_of_stem_broken\": 0, \"side_branches_in_cm\": null, \"total_number_adults\": 0, \"stem_diam_bottom_in_cm\": 0.5, \"diam_top_in_cm\": 0.05}, {\"main_stem_length_in_cm\": 63.0, \"total_meja\": 0, \"infested\": 0, \"tip_of_stem_broken\": 0, \"side_branches_in_cm\": null, \"total_number_adults\": 0, \"stem_diam_bottom_in_cm\": 0.27, \"diam_top_in_cm\": 0.04}, {\"main_stem_length_in_cm\": 60.0, \"total_meja\": 0, \"infested\": 0, \"tip_of_stem_broken\": 1, \"side_branches_in_cm\": null, \"total_number_adults\": 0, \"stem_diam_bottom_in_cm\": 0.41, \"diam_top_in_cm\": 0.17}, {\"main_stem_length_in_cm\": 83.0, \"total_meja\": 0, \"infested\": 0, \"tip_of_stem_broken\": 1, \"side_branches_in_cm\": null, \"total_number_adults\": 0, \"stem_diam_bottom_in_cm\": 0.46, \"diam_top_in_cm\": 0.12}, {\"main_stem_length_in_cm\": 88.0, \"total_meja\": 1, \"infested\": 1, \"tip_of_stem_broken\": 0, \"side_branches_in_cm\": null, \"total_number_adults\": 1, \"stem_diam_bottom_in_cm\": 0.43, \"diam_top_in_cm\": 0.09}, {\"main_stem_length_in_cm\": 94.0, \"total_meja\": 0, \"infested\": 0, \"tip_of_stem_broken\": 0, \"side_branches_in_cm\": null, \"total_number_adults\": 0, \"stem_diam_bottom_in_cm\": 0.62, \"diam_top_in_cm\": 0.07}, {\"main_stem_length_in_cm\": 79.0, \"total_meja\": 0, \"infested\": 0, \"tip_of_stem_broken\": 1, \"side_branches_in_cm\": null, \"total_number_adults\": 0, \"stem_diam_bottom_in_cm\": 0.66, \"diam_top_in_cm\": 0.13}, {\"main_stem_length_in_cm\": 50.0, \"total_meja\": 16, \"infested\": 1, \"tip_of_stem_broken\": 1, \"side_branches_in_cm\": null, \"total_number_adults\": 16, \"stem_diam_bottom_in_cm\": 0.52, \"diam_top_in_cm\": 0.2}, {\"main_stem_length_in_cm\": 39.0, \"total_meja\": 2, \"infested\": 1, \"tip_of_stem_broken\": 0, \"side_branches_in_cm\": null, \"total_number_adults\": 2, \"stem_diam_bottom_in_cm\": 0.3, \"diam_top_in_cm\": 0.09}, {\"main_stem_length_in_cm\": 88.0, \"total_meja\": 0, \"infested\": 0, \"tip_of_stem_broken\": 0, \"side_branches_in_cm\": null, \"total_number_adults\": 0, \"stem_diam_bottom_in_cm\": 0.47, \"diam_top_in_cm\": 0.09}, {\"main_stem_length_in_cm\": 38.0, \"total_meja\": 4, \"infested\": 1, \"tip_of_stem_broken\": 0, \"side_branches_in_cm\": null, \"total_number_adults\": 4, \"stem_diam_bottom_in_cm\": 0.33, \"diam_top_in_cm\": 0.06}, {\"main_stem_length_in_cm\": 69.0, \"total_meja\": 0, \"infested\": 0, \"tip_of_stem_broken\": 1, \"side_branches_in_cm\": null, \"total_number_adults\": 0, \"stem_diam_bottom_in_cm\": 0.74, \"diam_top_in_cm\": 0.14}, {\"main_stem_length_in_cm\": 45.0, \"total_meja\": 1, \"infested\": 1, \"tip_of_stem_broken\": 0, \"side_branches_in_cm\": null, \"total_number_adults\": 1, \"stem_diam_bottom_in_cm\": 0.25, \"diam_top_in_cm\": 0.06}, {\"main_stem_length_in_cm\": 82.0, \"total_meja\": 0, \"infested\": 0, \"tip_of_stem_broken\": 1, \"side_branches_in_cm\": null, \"total_number_adults\": 0, \"stem_diam_bottom_in_cm\": 0.88, \"diam_top_in_cm\": 0.26}, {\"main_stem_length_in_cm\": 90.0, \"total_meja\": 0, \"infested\": 0, \"tip_of_stem_broken\": 0, \"side_branches_in_cm\": null, \"total_number_adults\": 0, \"stem_diam_bottom_in_cm\": 0.67, \"diam_top_in_cm\": 0.05}, {\"main_stem_length_in_cm\": 67.0, \"total_meja\": 4, \"infested\": 1, \"tip_of_stem_broken\": 1, \"side_branches_in_cm\": null, \"total_number_adults\": 4, \"stem_diam_bottom_in_cm\": 0.62, \"diam_top_in_cm\": 0.12}, {\"main_stem_length_in_cm\": 51.0, \"total_meja\": 0, \"infested\": 0, \"tip_of_stem_broken\": 0, \"side_branches_in_cm\": null, \"total_number_adults\": 0, \"stem_diam_bottom_in_cm\": 0.33, \"diam_top_in_cm\": 0.09}, {\"main_stem_length_in_cm\": 61.0, \"total_meja\": 9, \"infested\": 1, \"tip_of_stem_broken\": 0, \"side_branches_in_cm\": null, \"total_number_adults\": 8, \"stem_diam_bottom_in_cm\": 0.47, \"diam_top_in_cm\": 0.07}, {\"main_stem_length_in_cm\": 51.0, \"total_meja\": 1, \"infested\": 1, \"tip_of_stem_broken\": 1, \"side_branches_in_cm\": null, \"total_number_adults\": 1, \"stem_diam_bottom_in_cm\": 0.35, \"diam_top_in_cm\": 0.12}, {\"main_stem_length_in_cm\": 42.0, \"total_meja\": 9, \"infested\": 1, \"tip_of_stem_broken\": 1, \"side_branches_in_cm\": null, \"total_number_adults\": 9, \"stem_diam_bottom_in_cm\": 0.4, \"diam_top_in_cm\": 0.15}, {\"main_stem_length_in_cm\": 53.0, \"total_meja\": 3, \"infested\": 1, \"tip_of_stem_broken\": 1, \"side_branches_in_cm\": null, \"total_number_adults\": 3, \"stem_diam_bottom_in_cm\": 0.33, \"diam_top_in_cm\": 0.08}, {\"main_stem_length_in_cm\": 57.0, \"total_meja\": 6, \"infested\": 1, \"tip_of_stem_broken\": 1, \"side_branches_in_cm\": null, \"total_number_adults\": 6, \"stem_diam_bottom_in_cm\": 0.62, \"diam_top_in_cm\": 0.16}, {\"main_stem_length_in_cm\": 45.0, \"total_meja\": 0, \"infested\": 0, \"tip_of_stem_broken\": 1, \"side_branches_in_cm\": null, \"total_number_adults\": 0, \"stem_diam_bottom_in_cm\": 0.31, \"diam_top_in_cm\": 0.13}, {\"main_stem_length_in_cm\": 65.0, \"total_meja\": 0, \"infested\": 0, \"tip_of_stem_broken\": 1, \"side_branches_in_cm\": null, \"total_number_adults\": 0, \"stem_diam_bottom_in_cm\": 0.82, \"diam_top_in_cm\": 0.23}, {\"main_stem_length_in_cm\": 43.0, \"total_meja\": 2, \"infested\": 1, \"tip_of_stem_broken\": 1, \"side_branches_in_cm\": null, \"total_number_adults\": 2, \"stem_diam_bottom_in_cm\": 0.31, \"diam_top_in_cm\": 0.07}, {\"main_stem_length_in_cm\": 39.0, \"total_meja\": 10, \"infested\": 1, \"tip_of_stem_broken\": 0, \"side_branches_in_cm\": null, \"total_number_adults\": 10, \"stem_diam_bottom_in_cm\": 0.31, \"diam_top_in_cm\": 0.08}, {\"main_stem_length_in_cm\": 32.0, \"total_meja\": 3, \"infested\": 1, \"tip_of_stem_broken\": 1, \"side_branches_in_cm\": null, \"total_number_adults\": 3, \"stem_diam_bottom_in_cm\": 0.64, \"diam_top_in_cm\": 0.26}, {\"main_stem_length_in_cm\": 40.0, \"total_meja\": 3, \"infested\": 1, \"tip_of_stem_broken\": 0, \"side_branches_in_cm\": null, \"total_number_adults\": 3, \"stem_diam_bottom_in_cm\": 0.29, \"diam_top_in_cm\": 0.07}, {\"main_stem_length_in_cm\": 72.0, \"total_meja\": 4, \"infested\": 1, \"tip_of_stem_broken\": 0, \"side_branches_in_cm\": null, \"total_number_adults\": 4, \"stem_diam_bottom_in_cm\": 0.42, \"diam_top_in_cm\": 0.08}, {\"main_stem_length_in_cm\": 34.0, \"total_meja\": 10, \"infested\": 1, \"tip_of_stem_broken\": 0, \"side_branches_in_cm\": null, \"total_number_adults\": 10, \"stem_diam_bottom_in_cm\": 0.33, \"diam_top_in_cm\": 0.07}, {\"main_stem_length_in_cm\": 47.0, \"total_meja\": 2, \"infested\": 1, \"tip_of_stem_broken\": 1, \"side_branches_in_cm\": null, \"total_number_adults\": 2, \"stem_diam_bottom_in_cm\": 0.41, \"diam_top_in_cm\": 0.07}, {\"main_stem_length_in_cm\": 57.0, \"total_meja\": 7, \"infested\": 1, \"tip_of_stem_broken\": 0, \"side_branches_in_cm\": null, \"total_number_adults\": 7, \"stem_diam_bottom_in_cm\": 0.5, \"diam_top_in_cm\": 0.06}, {\"main_stem_length_in_cm\": 67.0, \"total_meja\": 0, \"infested\": 0, \"tip_of_stem_broken\": 0, \"side_branches_in_cm\": null, \"total_number_adults\": 0, \"stem_diam_bottom_in_cm\": 0.34, \"diam_top_in_cm\": 0.03}, {\"main_stem_length_in_cm\": 62.0, \"total_meja\": 1, \"infested\": 1, \"tip_of_stem_broken\": 1, \"side_branches_in_cm\": null, \"total_number_adults\": 0, \"stem_diam_bottom_in_cm\": 0.58, \"diam_top_in_cm\": 0.09}, {\"main_stem_length_in_cm\": 54.0, \"total_meja\": 0, \"infested\": 0, \"tip_of_stem_broken\": 1, \"side_branches_in_cm\": null, \"total_number_adults\": 0, \"stem_diam_bottom_in_cm\": 0.38, \"diam_top_in_cm\": 0.06}, {\"main_stem_length_in_cm\": 38.0, \"total_meja\": 5, \"infested\": 1, \"tip_of_stem_broken\": 1, \"side_branches_in_cm\": null, \"total_number_adults\": 3, \"stem_diam_bottom_in_cm\": 0.26, \"diam_top_in_cm\": 0.06}, {\"main_stem_length_in_cm\": 42.0, \"total_meja\": 1, \"infested\": 1, \"tip_of_stem_broken\": 0, \"side_branches_in_cm\": null, \"total_number_adults\": 1, \"stem_diam_bottom_in_cm\": 0.72, \"diam_top_in_cm\": 0.08}, {\"main_stem_length_in_cm\": 35.0, \"total_meja\": 1, \"infested\": 1, \"tip_of_stem_broken\": 1, \"side_branches_in_cm\": null, \"total_number_adults\": 0, \"stem_diam_bottom_in_cm\": 0.74, \"diam_top_in_cm\": 0.19}, {\"main_stem_length_in_cm\": 25.0, \"total_meja\": 5, \"infested\": 1, \"tip_of_stem_broken\": 1, \"side_branches_in_cm\": null, \"total_number_adults\": 5, \"stem_diam_bottom_in_cm\": 0.49, \"diam_top_in_cm\": 0.2}, {\"main_stem_length_in_cm\": 40.0, \"total_meja\": 1, \"infested\": 1, \"tip_of_stem_broken\": 1, \"side_branches_in_cm\": null, \"total_number_adults\": 1, \"stem_diam_bottom_in_cm\": 0.62, \"diam_top_in_cm\": 0.22}, {\"main_stem_length_in_cm\": 43.0, \"total_meja\": 10, \"infested\": 1, \"tip_of_stem_broken\": 1, \"side_branches_in_cm\": null, \"total_number_adults\": 10, \"stem_diam_bottom_in_cm\": 0.46, \"diam_top_in_cm\": 0.18}, {\"main_stem_length_in_cm\": 71.0, \"total_meja\": 0, \"infested\": 0, \"tip_of_stem_broken\": 1, \"side_branches_in_cm\": null, \"total_number_adults\": 0, \"stem_diam_bottom_in_cm\": 0.62, \"diam_top_in_cm\": 0.11}, {\"main_stem_length_in_cm\": 75.0, \"total_meja\": 3, \"infested\": 1, \"tip_of_stem_broken\": 1, \"side_branches_in_cm\": null, \"total_number_adults\": 2, \"stem_diam_bottom_in_cm\": 0.8, \"diam_top_in_cm\": 0.3}, {\"main_stem_length_in_cm\": 48.0, \"total_meja\": 5, \"infested\": 1, \"tip_of_stem_broken\": 0, \"side_branches_in_cm\": null, \"total_number_adults\": 4, \"stem_diam_bottom_in_cm\": 0.65, \"diam_top_in_cm\": 0.05}, {\"main_stem_length_in_cm\": 56.0, \"total_meja\": 1, \"infested\": 1, \"tip_of_stem_broken\": 0, \"side_branches_in_cm\": null, \"total_number_adults\": 1, \"stem_diam_bottom_in_cm\": 0.34, \"diam_top_in_cm\": 0.03}, {\"main_stem_length_in_cm\": 67.0, \"total_meja\": 8, \"infested\": 1, \"tip_of_stem_broken\": 1, \"side_branches_in_cm\": null, \"total_number_adults\": 8, \"stem_diam_bottom_in_cm\": 0.7, \"diam_top_in_cm\": 0.19}, {\"main_stem_length_in_cm\": 51.0, \"total_meja\": 1, \"infested\": 1, \"tip_of_stem_broken\": 0, \"side_branches_in_cm\": null, \"total_number_adults\": 1, \"stem_diam_bottom_in_cm\": 0.33, \"diam_top_in_cm\": 0.07}, {\"main_stem_length_in_cm\": 39.0, \"total_meja\": 0, \"infested\": 0, \"tip_of_stem_broken\": 0, \"side_branches_in_cm\": null, \"total_number_adults\": 0, \"stem_diam_bottom_in_cm\": 0.29, \"diam_top_in_cm\": 0.06}, {\"main_stem_length_in_cm\": 38.0, \"total_meja\": 5, \"infested\": 1, \"tip_of_stem_broken\": 0, \"side_branches_in_cm\": null, \"total_number_adults\": 2, \"stem_diam_bottom_in_cm\": 0.42, \"diam_top_in_cm\": 0.04}, {\"main_stem_length_in_cm\": 32.0, \"total_meja\": 7, \"infested\": 1, \"tip_of_stem_broken\": 1, \"side_branches_in_cm\": null, \"total_number_adults\": 7, \"stem_diam_bottom_in_cm\": 0.31, \"diam_top_in_cm\": 0.08}, {\"main_stem_length_in_cm\": 34.0, \"total_meja\": 6, \"infested\": 1, \"tip_of_stem_broken\": 1, \"side_branches_in_cm\": null, \"total_number_adults\": 6, \"stem_diam_bottom_in_cm\": 0.31, \"diam_top_in_cm\": 0.16}, {\"main_stem_length_in_cm\": 37.0, \"total_meja\": 5, \"infested\": 1, \"tip_of_stem_broken\": 1, \"side_branches_in_cm\": null, \"total_number_adults\": 5, \"stem_diam_bottom_in_cm\": 0.38, \"diam_top_in_cm\": 0.14}, {\"main_stem_length_in_cm\": 36.0, \"total_meja\": 0, \"infested\": 0, \"tip_of_stem_broken\": 0, \"side_branches_in_cm\": null, \"total_number_adults\": 0, \"stem_diam_bottom_in_cm\": 0.22, \"diam_top_in_cm\": 0.03}, {\"main_stem_length_in_cm\": 31.0, \"total_meja\": 1, \"infested\": 1, \"tip_of_stem_broken\": 1, \"side_branches_in_cm\": null, \"total_number_adults\": 1, \"stem_diam_bottom_in_cm\": 0.31, \"diam_top_in_cm\": 0.16}, {\"main_stem_length_in_cm\": 107.0, \"total_meja\": 0, \"infested\": 0, \"tip_of_stem_broken\": 0, \"side_branches_in_cm\": null, \"total_number_adults\": 0, \"stem_diam_bottom_in_cm\": 0.66, \"diam_top_in_cm\": 0.06}, {\"main_stem_length_in_cm\": 92.0, \"total_meja\": 0, \"infested\": 0, \"tip_of_stem_broken\": 1, \"side_branches_in_cm\": null, \"total_number_adults\": 0, \"stem_diam_bottom_in_cm\": 0.57, \"diam_top_in_cm\": 0.04}, {\"main_stem_length_in_cm\": 110.0, \"total_meja\": 0, \"infested\": 0, \"tip_of_stem_broken\": 0, \"side_branches_in_cm\": null, \"total_number_adults\": 0, \"stem_diam_bottom_in_cm\": 0.68, \"diam_top_in_cm\": 0.06}, {\"main_stem_length_in_cm\": 86.0, \"total_meja\": 0, \"infested\": 0, \"tip_of_stem_broken\": 1, \"side_branches_in_cm\": null, \"total_number_adults\": 0, \"stem_diam_bottom_in_cm\": 0.63, \"diam_top_in_cm\": 0.15}, {\"main_stem_length_in_cm\": 67.0, \"total_meja\": 3, \"infested\": 1, \"tip_of_stem_broken\": 0, \"side_branches_in_cm\": null, \"total_number_adults\": 3, \"stem_diam_bottom_in_cm\": 0.28, \"diam_top_in_cm\": 0.02}, {\"main_stem_length_in_cm\": 92.0, \"total_meja\": 0, \"infested\": 0, \"tip_of_stem_broken\": 0, \"side_branches_in_cm\": null, \"total_number_adults\": 0, \"stem_diam_bottom_in_cm\": 0.68, \"diam_top_in_cm\": 0.05}, {\"main_stem_length_in_cm\": 64.0, \"total_meja\": 4, \"infested\": 1, \"tip_of_stem_broken\": 1, \"side_branches_in_cm\": null, \"total_number_adults\": 4, \"stem_diam_bottom_in_cm\": 0.41, \"diam_top_in_cm\": 0.04}, {\"main_stem_length_in_cm\": 46.0, \"total_meja\": 0, \"infested\": 0, \"tip_of_stem_broken\": 0, \"side_branches_in_cm\": null, \"total_number_adults\": 0, \"stem_diam_bottom_in_cm\": 0.33, \"diam_top_in_cm\": 0.03}, {\"main_stem_length_in_cm\": 64.0, \"total_meja\": 0, \"infested\": 0, \"tip_of_stem_broken\": 1, \"side_branches_in_cm\": null, \"total_number_adults\": 0, \"stem_diam_bottom_in_cm\": 0.35, \"diam_top_in_cm\": 0.09}, {\"main_stem_length_in_cm\": 51.0, \"total_meja\": 2, \"infested\": 1, \"tip_of_stem_broken\": 1, \"side_branches_in_cm\": null, \"total_number_adults\": 2, \"stem_diam_bottom_in_cm\": 0.37, \"diam_top_in_cm\": 0.14}, {\"main_stem_length_in_cm\": 76.0, \"total_meja\": 0, \"infested\": 0, \"tip_of_stem_broken\": 1, \"side_branches_in_cm\": null, \"total_number_adults\": 0, \"stem_diam_bottom_in_cm\": 0.63, \"diam_top_in_cm\": 0.1}, {\"main_stem_length_in_cm\": 78.0, \"total_meja\": 9, \"infested\": 1, \"tip_of_stem_broken\": 0, \"side_branches_in_cm\": null, \"total_number_adults\": 9, \"stem_diam_bottom_in_cm\": 0.38, \"diam_top_in_cm\": 0.05}, {\"main_stem_length_in_cm\": 67.0, \"total_meja\": 3, \"infested\": 1, \"tip_of_stem_broken\": 1, \"side_branches_in_cm\": null, \"total_number_adults\": 3, \"stem_diam_bottom_in_cm\": 0.34, \"diam_top_in_cm\": 0.11}, {\"main_stem_length_in_cm\": 72.0, \"total_meja\": 1, \"infested\": 1, \"tip_of_stem_broken\": 1, \"side_branches_in_cm\": null, \"total_number_adults\": 1, \"stem_diam_bottom_in_cm\": 0.57, \"diam_top_in_cm\": 0.12}, {\"main_stem_length_in_cm\": 73.0, \"total_meja\": 3, \"infested\": 1, \"tip_of_stem_broken\": 1, \"side_branches_in_cm\": null, \"total_number_adults\": 3, \"stem_diam_bottom_in_cm\": 0.53, \"diam_top_in_cm\": 0.12}, {\"main_stem_length_in_cm\": 49.0, \"total_meja\": 1, \"infested\": 1, \"tip_of_stem_broken\": 1, \"side_branches_in_cm\": null, \"total_number_adults\": 1, \"stem_diam_bottom_in_cm\": 0.28, \"diam_top_in_cm\": 0.05}, {\"main_stem_length_in_cm\": 100.0, \"total_meja\": 0, \"infested\": 0, \"tip_of_stem_broken\": 0, \"side_branches_in_cm\": null, \"total_number_adults\": 0, \"stem_diam_bottom_in_cm\": 0.72, \"diam_top_in_cm\": 0.05}, {\"main_stem_length_in_cm\": 74.0, \"total_meja\": 0, \"infested\": 0, \"tip_of_stem_broken\": 0, \"side_branches_in_cm\": null, \"total_number_adults\": 0, \"stem_diam_bottom_in_cm\": 0.42, \"diam_top_in_cm\": null}, {\"main_stem_length_in_cm\": 75.0, \"total_meja\": 0, \"infested\": 0, \"tip_of_stem_broken\": 0, \"side_branches_in_cm\": null, \"total_number_adults\": 0, \"stem_diam_bottom_in_cm\": 0.56, \"diam_top_in_cm\": 0.05}, {\"main_stem_length_in_cm\": 100.0, \"total_meja\": 1, \"infested\": 1, \"tip_of_stem_broken\": 0, \"side_branches_in_cm\": null, \"total_number_adults\": 1, \"stem_diam_bottom_in_cm\": 0.56, \"diam_top_in_cm\": 0.07}, {\"main_stem_length_in_cm\": 93.0, \"total_meja\": 0, \"infested\": 0, \"tip_of_stem_broken\": 0, \"side_branches_in_cm\": null, \"total_number_adults\": 0, \"stem_diam_bottom_in_cm\": 0.64, \"diam_top_in_cm\": 0.09}, {\"main_stem_length_in_cm\": 62.0, \"total_meja\": 4, \"infested\": 1, \"tip_of_stem_broken\": 0, \"side_branches_in_cm\": null, \"total_number_adults\": 4, \"stem_diam_bottom_in_cm\": 0.42, \"diam_top_in_cm\": 0.08}, {\"main_stem_length_in_cm\": 58.0, \"total_meja\": 0, \"infested\": 0, \"tip_of_stem_broken\": 1, \"side_branches_in_cm\": null, \"total_number_adults\": 0, \"stem_diam_bottom_in_cm\": 0.62, \"diam_top_in_cm\": 0.09}, {\"main_stem_length_in_cm\": 46.0, \"total_meja\": 0, \"infested\": 0, \"tip_of_stem_broken\": 1, \"side_branches_in_cm\": null, \"total_number_adults\": 0, \"stem_diam_bottom_in_cm\": 0.44, \"diam_top_in_cm\": 0.09}, {\"main_stem_length_in_cm\": 65.0, \"total_meja\": 4, \"infested\": 1, \"tip_of_stem_broken\": 0, \"side_branches_in_cm\": null, \"total_number_adults\": 4, \"stem_diam_bottom_in_cm\": 0.49, \"diam_top_in_cm\": 0.06}, {\"main_stem_length_in_cm\": 82.0, \"total_meja\": 0, \"infested\": 0, \"tip_of_stem_broken\": 1, \"side_branches_in_cm\": null, \"total_number_adults\": 0, \"stem_diam_bottom_in_cm\": 0.69, \"diam_top_in_cm\": 0.2}, {\"main_stem_length_in_cm\": 72.0, \"total_meja\": 1, \"infested\": 1, \"tip_of_stem_broken\": 0, \"side_branches_in_cm\": null, \"total_number_adults\": 1, \"stem_diam_bottom_in_cm\": 0.44, \"diam_top_in_cm\": 0.07}, {\"main_stem_length_in_cm\": 69.0, \"total_meja\": 6, \"infested\": 1, \"tip_of_stem_broken\": 1, \"side_branches_in_cm\": null, \"total_number_adults\": 6, \"stem_diam_bottom_in_cm\": 0.5, \"diam_top_in_cm\": 0.14}, {\"main_stem_length_in_cm\": 64.0, \"total_meja\": 7, \"infested\": 1, \"tip_of_stem_broken\": 0, \"side_branches_in_cm\": null, \"total_number_adults\": 7, \"stem_diam_bottom_in_cm\": 0.39, \"diam_top_in_cm\": 0.04}, {\"main_stem_length_in_cm\": 98.0, \"total_meja\": 0, \"infested\": 0, \"tip_of_stem_broken\": 0, \"side_branches_in_cm\": null, \"total_number_adults\": 0, \"stem_diam_bottom_in_cm\": 0.8, \"diam_top_in_cm\": 0.04}, {\"main_stem_length_in_cm\": 58.0, \"total_meja\": 0, \"infested\": 0, \"tip_of_stem_broken\": 1, \"side_branches_in_cm\": null, \"total_number_adults\": 0, \"stem_diam_bottom_in_cm\": 0.37, \"diam_top_in_cm\": 0.08}, {\"main_stem_length_in_cm\": 51.0, \"total_meja\": 1, \"infested\": 1, \"tip_of_stem_broken\": 0, \"side_branches_in_cm\": null, \"total_number_adults\": 1, \"stem_diam_bottom_in_cm\": 0.52, \"diam_top_in_cm\": 0.12}, {\"main_stem_length_in_cm\": 77.0, \"total_meja\": 1, \"infested\": 1, \"tip_of_stem_broken\": 1, \"side_branches_in_cm\": null, \"total_number_adults\": 1, \"stem_diam_bottom_in_cm\": 0.83, \"diam_top_in_cm\": 0.09}, {\"main_stem_length_in_cm\": 91.0, \"total_meja\": 5, \"infested\": 1, \"tip_of_stem_broken\": 1, \"side_branches_in_cm\": null, \"total_number_adults\": 0, \"stem_diam_bottom_in_cm\": 0.81, \"diam_top_in_cm\": 0.12}, {\"main_stem_length_in_cm\": 78.0, \"total_meja\": 8, \"infested\": 1, \"tip_of_stem_broken\": 1, \"side_branches_in_cm\": null, \"total_number_adults\": 8, \"stem_diam_bottom_in_cm\": 0.52, \"diam_top_in_cm\": 0.17}, {\"main_stem_length_in_cm\": 53.0, \"total_meja\": 0, \"infested\": 0, \"tip_of_stem_broken\": 1, \"side_branches_in_cm\": null, \"total_number_adults\": 0, \"stem_diam_bottom_in_cm\": 0.38, \"diam_top_in_cm\": 0.09}, {\"main_stem_length_in_cm\": 54.0, \"total_meja\": 0, \"infested\": 0, \"tip_of_stem_broken\": 0, \"side_branches_in_cm\": null, \"total_number_adults\": 0, \"stem_diam_bottom_in_cm\": 0.49, \"diam_top_in_cm\": 0.11}, {\"main_stem_length_in_cm\": 68.0, \"total_meja\": 2, \"infested\": 1, \"tip_of_stem_broken\": 1, \"side_branches_in_cm\": null, \"total_number_adults\": 2, \"stem_diam_bottom_in_cm\": 0.49, \"diam_top_in_cm\": 0.1}, {\"main_stem_length_in_cm\": 67.0, \"total_meja\": 1, \"infested\": 1, \"tip_of_stem_broken\": 0, \"side_branches_in_cm\": null, \"total_number_adults\": 1, \"stem_diam_bottom_in_cm\": 0.53, \"diam_top_in_cm\": 0.12}, {\"main_stem_length_in_cm\": 96.0, \"total_meja\": 0, \"infested\": 0, \"tip_of_stem_broken\": 1, \"side_branches_in_cm\": null, \"total_number_adults\": 0, \"stem_diam_bottom_in_cm\": 0.88, \"diam_top_in_cm\": 0.18}, {\"main_stem_length_in_cm\": 65.0, \"total_meja\": 0, \"infested\": 0, \"tip_of_stem_broken\": 0, \"side_branches_in_cm\": null, \"total_number_adults\": 0, \"stem_diam_bottom_in_cm\": 0.39, \"diam_top_in_cm\": 0.11}, {\"main_stem_length_in_cm\": 64.0, \"total_meja\": 3, \"infested\": 1, \"tip_of_stem_broken\": 1, \"side_branches_in_cm\": null, \"total_number_adults\": 3, \"stem_diam_bottom_in_cm\": 0.38, \"diam_top_in_cm\": 0.13}, {\"main_stem_length_in_cm\": 71.0, \"total_meja\": 0, \"infested\": 0, \"tip_of_stem_broken\": 1, \"side_branches_in_cm\": null, \"total_number_adults\": 0, \"stem_diam_bottom_in_cm\": 0.42, \"diam_top_in_cm\": 0.14}, {\"main_stem_length_in_cm\": 51.0, \"total_meja\": 0, \"infested\": 0, \"tip_of_stem_broken\": 0, \"side_branches_in_cm\": null, \"total_number_adults\": 0, \"stem_diam_bottom_in_cm\": 0.33, \"diam_top_in_cm\": 0.09}, {\"main_stem_length_in_cm\": 51.0, \"total_meja\": 1, \"infested\": 1, \"tip_of_stem_broken\": 1, \"side_branches_in_cm\": null, \"total_number_adults\": 1, \"stem_diam_bottom_in_cm\": 0.72, \"diam_top_in_cm\": 0.21}, {\"main_stem_length_in_cm\": 53.0, \"total_meja\": 2, \"infested\": 1, \"tip_of_stem_broken\": 1, \"side_branches_in_cm\": null, \"total_number_adults\": 2, \"stem_diam_bottom_in_cm\": 0.5, \"diam_top_in_cm\": 0.18}, {\"main_stem_length_in_cm\": 53.0, \"total_meja\": 4, \"infested\": 1, \"tip_of_stem_broken\": 0, \"side_branches_in_cm\": null, \"total_number_adults\": 4, \"stem_diam_bottom_in_cm\": 0.34, \"diam_top_in_cm\": 0.04}, {\"main_stem_length_in_cm\": 57.0, \"total_meja\": 0, \"infested\": 0, \"tip_of_stem_broken\": 1, \"side_branches_in_cm\": null, \"total_number_adults\": 0, \"stem_diam_bottom_in_cm\": 0.32, \"diam_top_in_cm\": 0.08}, {\"main_stem_length_in_cm\": 52.5, \"total_meja\": 2, \"infested\": 1, \"tip_of_stem_broken\": 1, \"side_branches_in_cm\": null, \"total_number_adults\": 1, \"stem_diam_bottom_in_cm\": 0.52, \"diam_top_in_cm\": 0.31}, {\"main_stem_length_in_cm\": 58.0, \"total_meja\": 5, \"infested\": 1, \"tip_of_stem_broken\": 0, \"side_branches_in_cm\": null, \"total_number_adults\": 5, \"stem_diam_bottom_in_cm\": 0.43, \"diam_top_in_cm\": 0.06}, {\"main_stem_length_in_cm\": 60.0, \"total_meja\": 32, \"infested\": 1, \"tip_of_stem_broken\": 1, \"side_branches_in_cm\": null, \"total_number_adults\": 31, \"stem_diam_bottom_in_cm\": 0.5, \"diam_top_in_cm\": 0.26}, {\"main_stem_length_in_cm\": 62.0, \"total_meja\": 16, \"infested\": 1, \"tip_of_stem_broken\": 1, \"side_branches_in_cm\": null, \"total_number_adults\": 8, \"stem_diam_bottom_in_cm\": 0.76, \"diam_top_in_cm\": 0.27}, {\"main_stem_length_in_cm\": 62.5, \"total_meja\": 67, \"infested\": 1, \"tip_of_stem_broken\": 1, \"side_branches_in_cm\": null, \"total_number_adults\": 66, \"stem_diam_bottom_in_cm\": 0.59, \"diam_top_in_cm\": 0.14}, {\"main_stem_length_in_cm\": 56.0, \"total_meja\": 34, \"infested\": 1, \"tip_of_stem_broken\": 1, \"side_branches_in_cm\": null, \"total_number_adults\": 14, \"stem_diam_bottom_in_cm\": 0.6, \"diam_top_in_cm\": 0.11}, {\"main_stem_length_in_cm\": 39.5, \"total_meja\": 11, \"infested\": 1, \"tip_of_stem_broken\": 1, \"side_branches_in_cm\": null, \"total_number_adults\": 11, \"stem_diam_bottom_in_cm\": 0.44, \"diam_top_in_cm\": 0.14}, {\"main_stem_length_in_cm\": 57.5, \"total_meja\": 9, \"infested\": 1, \"tip_of_stem_broken\": 0, \"side_branches_in_cm\": null, \"total_number_adults\": 9, \"stem_diam_bottom_in_cm\": 0.62, \"diam_top_in_cm\": 0.11}, {\"main_stem_length_in_cm\": 30.0, \"total_meja\": 8, \"infested\": 1, \"tip_of_stem_broken\": 0, \"side_branches_in_cm\": null, \"total_number_adults\": 8, \"stem_diam_bottom_in_cm\": 0.33, \"diam_top_in_cm\": 0.12}, {\"main_stem_length_in_cm\": 34.0, \"total_meja\": 7, \"infested\": 1, \"tip_of_stem_broken\": 1, \"side_branches_in_cm\": null, \"total_number_adults\": 7, \"stem_diam_bottom_in_cm\": 0.34, \"diam_top_in_cm\": 0.17}, {\"main_stem_length_in_cm\": 40.5, \"total_meja\": 13, \"infested\": 1, \"tip_of_stem_broken\": 1, \"side_branches_in_cm\": null, \"total_number_adults\": 11, \"stem_diam_bottom_in_cm\": 0.35, \"diam_top_in_cm\": 0.18}, {\"main_stem_length_in_cm\": 41.5, \"total_meja\": 11, \"infested\": 1, \"tip_of_stem_broken\": 0, \"side_branches_in_cm\": null, \"total_number_adults\": 11, \"stem_diam_bottom_in_cm\": 0.67, \"diam_top_in_cm\": 0.17}, {\"main_stem_length_in_cm\": 31.0, \"total_meja\": 7, \"infested\": 1, \"tip_of_stem_broken\": 1, \"side_branches_in_cm\": null, \"total_number_adults\": 3, \"stem_diam_bottom_in_cm\": 0.48, \"diam_top_in_cm\": 0.2}, {\"main_stem_length_in_cm\": 45.0, \"total_meja\": 35, \"infested\": 1, \"tip_of_stem_broken\": 1, \"side_branches_in_cm\": null, \"total_number_adults\": 34, \"stem_diam_bottom_in_cm\": 0.52, \"diam_top_in_cm\": 0.24}, {\"main_stem_length_in_cm\": 42.0, \"total_meja\": 10, \"infested\": 1, \"tip_of_stem_broken\": 1, \"side_branches_in_cm\": null, \"total_number_adults\": 9, \"stem_diam_bottom_in_cm\": 0.54, \"diam_top_in_cm\": 0.18}, {\"main_stem_length_in_cm\": 61.0, \"total_meja\": 11, \"infested\": 1, \"tip_of_stem_broken\": 1, \"side_branches_in_cm\": null, \"total_number_adults\": 7, \"stem_diam_bottom_in_cm\": 0.68, \"diam_top_in_cm\": 0.23}, {\"main_stem_length_in_cm\": 48.0, \"total_meja\": 38, \"infested\": 1, \"tip_of_stem_broken\": 1, \"side_branches_in_cm\": null, \"total_number_adults\": 35, \"stem_diam_bottom_in_cm\": 0.54, \"diam_top_in_cm\": 0.22}, {\"main_stem_length_in_cm\": 27.0, \"total_meja\": 13, \"infested\": 1, \"tip_of_stem_broken\": 1, \"side_branches_in_cm\": null, \"total_number_adults\": 11, \"stem_diam_bottom_in_cm\": 0.36, \"diam_top_in_cm\": 0.19}, {\"main_stem_length_in_cm\": 30.5, \"total_meja\": 15, \"infested\": 1, \"tip_of_stem_broken\": 1, \"side_branches_in_cm\": null, \"total_number_adults\": 11, \"stem_diam_bottom_in_cm\": 0.48, \"diam_top_in_cm\": 0.11}, {\"main_stem_length_in_cm\": 47.5, \"total_meja\": 31, \"infested\": 1, \"tip_of_stem_broken\": 1, \"side_branches_in_cm\": null, \"total_number_adults\": 24, \"stem_diam_bottom_in_cm\": 0.51, \"diam_top_in_cm\": 0.1}, {\"main_stem_length_in_cm\": 29.0, \"total_meja\": 16, \"infested\": 1, \"tip_of_stem_broken\": 1, \"side_branches_in_cm\": null, \"total_number_adults\": 3, \"stem_diam_bottom_in_cm\": 0.4, \"diam_top_in_cm\": 0.15}, {\"main_stem_length_in_cm\": 51.0, \"total_meja\": 39, \"infested\": 1, \"tip_of_stem_broken\": 1, \"side_branches_in_cm\": null, \"total_number_adults\": 38, \"stem_diam_bottom_in_cm\": 0.58, \"diam_top_in_cm\": 0.29}, {\"main_stem_length_in_cm\": 43.0, \"total_meja\": 26, \"infested\": 1, \"tip_of_stem_broken\": 1, \"side_branches_in_cm\": null, \"total_number_adults\": 25, \"stem_diam_bottom_in_cm\": 0.45, \"diam_top_in_cm\": 0.16}, {\"main_stem_length_in_cm\": 44.0, \"total_meja\": 20, \"infested\": 1, \"tip_of_stem_broken\": 1, \"side_branches_in_cm\": null, \"total_number_adults\": 19, \"stem_diam_bottom_in_cm\": 0.57, \"diam_top_in_cm\": 0.18}, {\"main_stem_length_in_cm\": 36.0, \"total_meja\": 29, \"infested\": 1, \"tip_of_stem_broken\": 1, \"side_branches_in_cm\": null, \"total_number_adults\": 26, \"stem_diam_bottom_in_cm\": 0.6, \"diam_top_in_cm\": 0.36}, {\"main_stem_length_in_cm\": 32.0, \"total_meja\": 5, \"infested\": 1, \"tip_of_stem_broken\": 0, \"side_branches_in_cm\": null, \"total_number_adults\": 4, \"stem_diam_bottom_in_cm\": 0.4, \"diam_top_in_cm\": 0.11}, {\"main_stem_length_in_cm\": 48.0, \"total_meja\": 20, \"infested\": 1, \"tip_of_stem_broken\": 0, \"side_branches_in_cm\": null, \"total_number_adults\": 16, \"stem_diam_bottom_in_cm\": 0.64, \"diam_top_in_cm\": 0.15}, {\"main_stem_length_in_cm\": 26.5, \"total_meja\": 21, \"infested\": 1, \"tip_of_stem_broken\": 0, \"side_branches_in_cm\": null, \"total_number_adults\": 19, \"stem_diam_bottom_in_cm\": 0.43, \"diam_top_in_cm\": 0.1}, {\"main_stem_length_in_cm\": 41.0, \"total_meja\": 26, \"infested\": 1, \"tip_of_stem_broken\": 1, \"side_branches_in_cm\": null, \"total_number_adults\": 17, \"stem_diam_bottom_in_cm\": 0.49, \"diam_top_in_cm\": 0.2}, {\"main_stem_length_in_cm\": 32.0, \"total_meja\": 9, \"infested\": 1, \"tip_of_stem_broken\": 1, \"side_branches_in_cm\": null, \"total_number_adults\": 8, \"stem_diam_bottom_in_cm\": 0.44, \"diam_top_in_cm\": 0.23}, {\"main_stem_length_in_cm\": 17.5, \"total_meja\": 10, \"infested\": 1, \"tip_of_stem_broken\": 1, \"side_branches_in_cm\": null, \"total_number_adults\": 1, \"stem_diam_bottom_in_cm\": 0.23, \"diam_top_in_cm\": 0.1}, {\"main_stem_length_in_cm\": 24.0, \"total_meja\": 12, \"infested\": 1, \"tip_of_stem_broken\": 1, \"side_branches_in_cm\": null, \"total_number_adults\": 12, \"stem_diam_bottom_in_cm\": 0.32, \"diam_top_in_cm\": 0.12}, {\"main_stem_length_in_cm\": 31.5, \"total_meja\": 14, \"infested\": 1, \"tip_of_stem_broken\": 1, \"side_branches_in_cm\": null, \"total_number_adults\": 10, \"stem_diam_bottom_in_cm\": 0.39, \"diam_top_in_cm\": 0.26}, {\"main_stem_length_in_cm\": 32.5, \"total_meja\": 12, \"infested\": 1, \"tip_of_stem_broken\": 0, \"side_branches_in_cm\": null, \"total_number_adults\": 11, \"stem_diam_bottom_in_cm\": 0.43, \"diam_top_in_cm\": 0.1}, {\"main_stem_length_in_cm\": 42.0, \"total_meja\": 20, \"infested\": 1, \"tip_of_stem_broken\": 1, \"side_branches_in_cm\": null, \"total_number_adults\": 12, \"stem_diam_bottom_in_cm\": 0.51, \"diam_top_in_cm\": 0.21}, {\"main_stem_length_in_cm\": 39.0, \"total_meja\": 12, \"infested\": 1, \"tip_of_stem_broken\": 1, \"side_branches_in_cm\": null, \"total_number_adults\": 10, \"stem_diam_bottom_in_cm\": 0.82, \"diam_top_in_cm\": 0.2}, {\"main_stem_length_in_cm\": 48.0, \"total_meja\": 44, \"infested\": 1, \"tip_of_stem_broken\": 0, \"side_branches_in_cm\": null, \"total_number_adults\": 13, \"stem_diam_bottom_in_cm\": 0.55, \"diam_top_in_cm\": 0.07}, {\"main_stem_length_in_cm\": 38.5, \"total_meja\": 13, \"infested\": 1, \"tip_of_stem_broken\": 0, \"side_branches_in_cm\": null, \"total_number_adults\": 13, \"stem_diam_bottom_in_cm\": 0.45, \"diam_top_in_cm\": 0.1}, {\"main_stem_length_in_cm\": 50.0, \"total_meja\": 36, \"infested\": 1, \"tip_of_stem_broken\": 1, \"side_branches_in_cm\": null, \"total_number_adults\": 5, \"stem_diam_bottom_in_cm\": 0.51, \"diam_top_in_cm\": 0.09}, {\"main_stem_length_in_cm\": 29.0, \"total_meja\": 10, \"infested\": 1, \"tip_of_stem_broken\": 0, \"side_branches_in_cm\": null, \"total_number_adults\": 6, \"stem_diam_bottom_in_cm\": 0.37, \"diam_top_in_cm\": 0.13}, {\"main_stem_length_in_cm\": 49.0, \"total_meja\": 23, \"infested\": 1, \"tip_of_stem_broken\": 1, \"side_branches_in_cm\": null, \"total_number_adults\": 9, \"stem_diam_bottom_in_cm\": 0.61, \"diam_top_in_cm\": 0.25}, {\"main_stem_length_in_cm\": 32.0, \"total_meja\": 4, \"infested\": 1, \"tip_of_stem_broken\": 0, \"side_branches_in_cm\": null, \"total_number_adults\": 0, \"stem_diam_bottom_in_cm\": 0.37, \"diam_top_in_cm\": 0.05}, {\"main_stem_length_in_cm\": 33.0, \"total_meja\": 16, \"infested\": 1, \"tip_of_stem_broken\": 1, \"side_branches_in_cm\": null, \"total_number_adults\": 12, \"stem_diam_bottom_in_cm\": 0.39, \"diam_top_in_cm\": 0.17}, {\"main_stem_length_in_cm\": 32.0, \"total_meja\": 11, \"infested\": 1, \"tip_of_stem_broken\": 1, \"side_branches_in_cm\": null, \"total_number_adults\": 10, \"stem_diam_bottom_in_cm\": 0.52, \"diam_top_in_cm\": 0.27}, {\"main_stem_length_in_cm\": 29.0, \"total_meja\": 12, \"infested\": 1, \"tip_of_stem_broken\": 1, \"side_branches_in_cm\": null, \"total_number_adults\": 12, \"stem_diam_bottom_in_cm\": 0.33, \"diam_top_in_cm\": 0.18}, {\"main_stem_length_in_cm\": 32.0, \"total_meja\": 16, \"infested\": 1, \"tip_of_stem_broken\": 0, \"side_branches_in_cm\": null, \"total_number_adults\": 14, \"stem_diam_bottom_in_cm\": 0.35, \"diam_top_in_cm\": 0.13}, {\"main_stem_length_in_cm\": 27.0, \"total_meja\": 17, \"infested\": 1, \"tip_of_stem_broken\": 1, \"side_branches_in_cm\": null, \"total_number_adults\": 17, \"stem_diam_bottom_in_cm\": 0.33, \"diam_top_in_cm\": 0.13}, {\"main_stem_length_in_cm\": 37.0, \"total_meja\": 24, \"infested\": 1, \"tip_of_stem_broken\": 1, \"side_branches_in_cm\": null, \"total_number_adults\": 24, \"stem_diam_bottom_in_cm\": 0.34, \"diam_top_in_cm\": 0.16}, {\"main_stem_length_in_cm\": 37.0, \"total_meja\": 19, \"infested\": 1, \"tip_of_stem_broken\": 0, \"side_branches_in_cm\": null, \"total_number_adults\": 19, \"stem_diam_bottom_in_cm\": 0.33, \"diam_top_in_cm\": 0.07}, {\"main_stem_length_in_cm\": 22.0, \"total_meja\": 8, \"infested\": 1, \"tip_of_stem_broken\": 1, \"side_branches_in_cm\": null, \"total_number_adults\": 2, \"stem_diam_bottom_in_cm\": 0.24, \"diam_top_in_cm\": 0.18}, {\"main_stem_length_in_cm\": 29.0, \"total_meja\": 12, \"infested\": 1, \"tip_of_stem_broken\": 0, \"side_branches_in_cm\": null, \"total_number_adults\": 12, \"stem_diam_bottom_in_cm\": 0.27, \"diam_top_in_cm\": 0.08}, {\"main_stem_length_in_cm\": 26.0, \"total_meja\": 4, \"infested\": 1, \"tip_of_stem_broken\": 1, \"side_branches_in_cm\": null, \"total_number_adults\": 4, \"stem_diam_bottom_in_cm\": 0.26, \"diam_top_in_cm\": 0.13}, {\"main_stem_length_in_cm\": 62.5, \"total_meja\": 17, \"infested\": 1, \"tip_of_stem_broken\": 1, \"side_branches_in_cm\": null, \"total_number_adults\": 10, \"stem_diam_bottom_in_cm\": 0.61, \"diam_top_in_cm\": 0.13}, {\"main_stem_length_in_cm\": 47.5, \"total_meja\": 20, \"infested\": 1, \"tip_of_stem_broken\": 0, \"side_branches_in_cm\": null, \"total_number_adults\": 20, \"stem_diam_bottom_in_cm\": 0.51, \"diam_top_in_cm\": 0.1}, {\"main_stem_length_in_cm\": 40.0, \"total_meja\": 23, \"infested\": 1, \"tip_of_stem_broken\": 1, \"side_branches_in_cm\": null, \"total_number_adults\": 23, \"stem_diam_bottom_in_cm\": 0.53, \"diam_top_in_cm\": 0.2}, {\"main_stem_length_in_cm\": 47.0, \"total_meja\": 19, \"infested\": 1, \"tip_of_stem_broken\": 0, \"side_branches_in_cm\": null, \"total_number_adults\": 19, \"stem_diam_bottom_in_cm\": 0.4, \"diam_top_in_cm\": 0.16}, {\"main_stem_length_in_cm\": 54.0, \"total_meja\": 16, \"infested\": 1, \"tip_of_stem_broken\": 0, \"side_branches_in_cm\": null, \"total_number_adults\": 16, \"stem_diam_bottom_in_cm\": 0.53, \"diam_top_in_cm\": 0.08}, {\"main_stem_length_in_cm\": 48.0, \"total_meja\": 32, \"infested\": 1, \"tip_of_stem_broken\": 0, \"side_branches_in_cm\": null, \"total_number_adults\": 30, \"stem_diam_bottom_in_cm\": 0.65, \"diam_top_in_cm\": 0.11}, {\"main_stem_length_in_cm\": 54.0, \"total_meja\": 27, \"infested\": 1, \"tip_of_stem_broken\": 1, \"side_branches_in_cm\": null, \"total_number_adults\": 26, \"stem_diam_bottom_in_cm\": 0.64, \"diam_top_in_cm\": 0.17}, {\"main_stem_length_in_cm\": 22.0, \"total_meja\": 3, \"infested\": 1, \"tip_of_stem_broken\": 0, \"side_branches_in_cm\": null, \"total_number_adults\": 3, \"stem_diam_bottom_in_cm\": 0.19, \"diam_top_in_cm\": 0.08}, {\"main_stem_length_in_cm\": 50.0, \"total_meja\": 5, \"infested\": 1, \"tip_of_stem_broken\": 0, \"side_branches_in_cm\": null, \"total_number_adults\": 3, \"stem_diam_bottom_in_cm\": 0.48, \"diam_top_in_cm\": 0.12}, {\"main_stem_length_in_cm\": 29.0, \"total_meja\": 5, \"infested\": 1, \"tip_of_stem_broken\": 0, \"side_branches_in_cm\": null, \"total_number_adults\": 5, \"stem_diam_bottom_in_cm\": 0.35, \"diam_top_in_cm\": 0.11}, {\"main_stem_length_in_cm\": 55.0, \"total_meja\": 22, \"infested\": 1, \"tip_of_stem_broken\": 1, \"side_branches_in_cm\": null, \"total_number_adults\": 22, \"stem_diam_bottom_in_cm\": 0.62, \"diam_top_in_cm\": 0.2}, {\"main_stem_length_in_cm\": 51.5, \"total_meja\": 18, \"infested\": 1, \"tip_of_stem_broken\": 0, \"side_branches_in_cm\": null, \"total_number_adults\": 18, \"stem_diam_bottom_in_cm\": 0.46, \"diam_top_in_cm\": 0.18}, {\"main_stem_length_in_cm\": 51.0, \"total_meja\": 23, \"infested\": 1, \"tip_of_stem_broken\": 1, \"side_branches_in_cm\": null, \"total_number_adults\": 23, \"stem_diam_bottom_in_cm\": 0.44, \"diam_top_in_cm\": 0.18}, {\"main_stem_length_in_cm\": 59.0, \"total_meja\": 48, \"infested\": 1, \"tip_of_stem_broken\": 1, \"side_branches_in_cm\": null, \"total_number_adults\": 48, \"stem_diam_bottom_in_cm\": 0.5, \"diam_top_in_cm\": 0.11}, {\"main_stem_length_in_cm\": 58.0, \"total_meja\": 31, \"infested\": 1, \"tip_of_stem_broken\": 1, \"side_branches_in_cm\": null, \"total_number_adults\": 30, \"stem_diam_bottom_in_cm\": 0.44, \"diam_top_in_cm\": 0.11}, {\"main_stem_length_in_cm\": 52.0, \"total_meja\": 23, \"infested\": 1, \"tip_of_stem_broken\": 1, \"side_branches_in_cm\": null, \"total_number_adults\": 23, \"stem_diam_bottom_in_cm\": 0.47, \"diam_top_in_cm\": 0.1}, {\"main_stem_length_in_cm\": 41.0, \"total_meja\": 22, \"infested\": 1, \"tip_of_stem_broken\": 1, \"side_branches_in_cm\": null, \"total_number_adults\": 20, \"stem_diam_bottom_in_cm\": 0.4, \"diam_top_in_cm\": 0.21}, {\"main_stem_length_in_cm\": 47.0, \"total_meja\": 32, \"infested\": 1, \"tip_of_stem_broken\": 0, \"side_branches_in_cm\": null, \"total_number_adults\": 30, \"stem_diam_bottom_in_cm\": 0.48, \"diam_top_in_cm\": 0.1}, {\"main_stem_length_in_cm\": 47.0, \"total_meja\": 5, \"infested\": 1, \"tip_of_stem_broken\": 1, \"side_branches_in_cm\": null, \"total_number_adults\": 3, \"stem_diam_bottom_in_cm\": 0.56, \"diam_top_in_cm\": 0.24}, {\"main_stem_length_in_cm\": 47.0, \"total_meja\": 9, \"infested\": 1, \"tip_of_stem_broken\": 0, \"side_branches_in_cm\": null, \"total_number_adults\": 6, \"stem_diam_bottom_in_cm\": 0.37, \"diam_top_in_cm\": 0.05}, {\"main_stem_length_in_cm\": 42.0, \"total_meja\": 9, \"infested\": 1, \"tip_of_stem_broken\": 1, \"side_branches_in_cm\": null, \"total_number_adults\": 9, \"stem_diam_bottom_in_cm\": 0.42, \"diam_top_in_cm\": 0.2}, {\"main_stem_length_in_cm\": 46.0, \"total_meja\": 13, \"infested\": 1, \"tip_of_stem_broken\": 1, \"side_branches_in_cm\": null, \"total_number_adults\": 13, \"stem_diam_bottom_in_cm\": 0.56, \"diam_top_in_cm\": 0.26}, {\"main_stem_length_in_cm\": 42.0, \"total_meja\": 17, \"infested\": 1, \"tip_of_stem_broken\": 0, \"side_branches_in_cm\": null, \"total_number_adults\": 17, \"stem_diam_bottom_in_cm\": 0.31, \"diam_top_in_cm\": 0.1}, {\"main_stem_length_in_cm\": 45.0, \"total_meja\": 22, \"infested\": 1, \"tip_of_stem_broken\": 1, \"side_branches_in_cm\": null, \"total_number_adults\": 21, \"stem_diam_bottom_in_cm\": 0.52, \"diam_top_in_cm\": 0.15}, {\"main_stem_length_in_cm\": 39.0, \"total_meja\": 5, \"infested\": 1, \"tip_of_stem_broken\": 1, \"side_branches_in_cm\": null, \"total_number_adults\": 5, \"stem_diam_bottom_in_cm\": 0.38, \"diam_top_in_cm\": 0.13}, {\"main_stem_length_in_cm\": 34.0, \"total_meja\": 17, \"infested\": 1, \"tip_of_stem_broken\": 1, \"side_branches_in_cm\": null, \"total_number_adults\": 17, \"stem_diam_bottom_in_cm\": 0.44, \"diam_top_in_cm\": 0.27}, {\"main_stem_length_in_cm\": 33.0, \"total_meja\": 34, \"infested\": 1, \"tip_of_stem_broken\": 1, \"side_branches_in_cm\": null, \"total_number_adults\": 34, \"stem_diam_bottom_in_cm\": 0.61, \"diam_top_in_cm\": 0.26}, {\"main_stem_length_in_cm\": 44.0, \"total_meja\": 8, \"infested\": 1, \"tip_of_stem_broken\": 1, \"side_branches_in_cm\": null, \"total_number_adults\": 8, \"stem_diam_bottom_in_cm\": 0.42, \"diam_top_in_cm\": 0.16}, {\"main_stem_length_in_cm\": 40.0, \"total_meja\": 37, \"infested\": 1, \"tip_of_stem_broken\": 0, \"side_branches_in_cm\": null, \"total_number_adults\": 37, \"stem_diam_bottom_in_cm\": 0.4, \"diam_top_in_cm\": 0.19}, {\"main_stem_length_in_cm\": 38.0, \"total_meja\": 4, \"infested\": 1, \"tip_of_stem_broken\": 0, \"side_branches_in_cm\": null, \"total_number_adults\": 3, \"stem_diam_bottom_in_cm\": 0.43, \"diam_top_in_cm\": 0.13}, {\"main_stem_length_in_cm\": 39.0, \"total_meja\": 17, \"infested\": 1, \"tip_of_stem_broken\": 0, \"side_branches_in_cm\": null, \"total_number_adults\": 16, \"stem_diam_bottom_in_cm\": 0.44, \"diam_top_in_cm\": 0.09}, {\"main_stem_length_in_cm\": 28.0, \"total_meja\": 3, \"infested\": 1, \"tip_of_stem_broken\": 0, \"side_branches_in_cm\": null, \"total_number_adults\": 0, \"stem_diam_bottom_in_cm\": 0.41, \"diam_top_in_cm\": 0.09}, {\"main_stem_length_in_cm\": 34.0, \"total_meja\": 23, \"infested\": 1, \"tip_of_stem_broken\": 0, \"side_branches_in_cm\": null, \"total_number_adults\": 23, \"stem_diam_bottom_in_cm\": 0.69, \"diam_top_in_cm\": 0.13}, {\"main_stem_length_in_cm\": 30.5, \"total_meja\": 10, \"infested\": 1, \"tip_of_stem_broken\": 0, \"side_branches_in_cm\": null, \"total_number_adults\": 3, \"stem_diam_bottom_in_cm\": 0.61, \"diam_top_in_cm\": 0.15}, {\"main_stem_length_in_cm\": 43.0, \"total_meja\": 19, \"infested\": 1, \"tip_of_stem_broken\": 0, \"side_branches_in_cm\": null, \"total_number_adults\": 18, \"stem_diam_bottom_in_cm\": 0.47, \"diam_top_in_cm\": 0.14}, {\"main_stem_length_in_cm\": 39.0, \"total_meja\": 7, \"infested\": 1, \"tip_of_stem_broken\": 0, \"side_branches_in_cm\": null, \"total_number_adults\": 6, \"stem_diam_bottom_in_cm\": 0.51, \"diam_top_in_cm\": 0.22}, {\"main_stem_length_in_cm\": 29.0, \"total_meja\": 10, \"infested\": 1, \"tip_of_stem_broken\": 0, \"side_branches_in_cm\": null, \"total_number_adults\": 10, \"stem_diam_bottom_in_cm\": 0.39, \"diam_top_in_cm\": 0.09}, {\"main_stem_length_in_cm\": 29.5, \"total_meja\": 9, \"infested\": 1, \"tip_of_stem_broken\": 0, \"side_branches_in_cm\": null, \"total_number_adults\": 9, \"stem_diam_bottom_in_cm\": 0.36, \"diam_top_in_cm\": 0.18}, {\"main_stem_length_in_cm\": 38.0, \"total_meja\": 17, \"infested\": 1, \"tip_of_stem_broken\": 0, \"side_branches_in_cm\": null, \"total_number_adults\": 13, \"stem_diam_bottom_in_cm\": 0.54, \"diam_top_in_cm\": 0.16}, {\"main_stem_length_in_cm\": 37.0, \"total_meja\": 8, \"infested\": 1, \"tip_of_stem_broken\": 0, \"side_branches_in_cm\": null, \"total_number_adults\": 6, \"stem_diam_bottom_in_cm\": 0.4, \"diam_top_in_cm\": 0.09}, {\"main_stem_length_in_cm\": 29.0, \"total_meja\": 22, \"infested\": 1, \"tip_of_stem_broken\": 0, \"side_branches_in_cm\": null, \"total_number_adults\": 22, \"stem_diam_bottom_in_cm\": 0.38, \"diam_top_in_cm\": 0.11}, {\"main_stem_length_in_cm\": 33.5, \"total_meja\": 15, \"infested\": 1, \"tip_of_stem_broken\": 0, \"side_branches_in_cm\": null, \"total_number_adults\": 15, \"stem_diam_bottom_in_cm\": 0.34, \"diam_top_in_cm\": 0.1}, {\"main_stem_length_in_cm\": 39.0, \"total_meja\": 8, \"infested\": 1, \"tip_of_stem_broken\": 1, \"side_branches_in_cm\": null, \"total_number_adults\": 7, \"stem_diam_bottom_in_cm\": 0.59, \"diam_top_in_cm\": 0.21}, {\"main_stem_length_in_cm\": 31.5, \"total_meja\": 20, \"infested\": 1, \"tip_of_stem_broken\": 0, \"side_branches_in_cm\": null, \"total_number_adults\": 20, \"stem_diam_bottom_in_cm\": 0.38, \"diam_top_in_cm\": 0.15}, {\"main_stem_length_in_cm\": 30.0, \"total_meja\": 12, \"infested\": 1, \"tip_of_stem_broken\": 1, \"side_branches_in_cm\": null, \"total_number_adults\": 12, \"stem_diam_bottom_in_cm\": 0.33, \"diam_top_in_cm\": 0.12}, {\"main_stem_length_in_cm\": 31.0, \"total_meja\": 14, \"infested\": 1, \"tip_of_stem_broken\": 1, \"side_branches_in_cm\": null, \"total_number_adults\": 14, \"stem_diam_bottom_in_cm\": 0.38, \"diam_top_in_cm\": 0.2}, {\"main_stem_length_in_cm\": 27.5, \"total_meja\": 10, \"infested\": 1, \"tip_of_stem_broken\": 0, \"side_branches_in_cm\": null, \"total_number_adults\": 8, \"stem_diam_bottom_in_cm\": 0.31, \"diam_top_in_cm\": 0.06}, {\"main_stem_length_in_cm\": 25.0, \"total_meja\": 10, \"infested\": 1, \"tip_of_stem_broken\": 0, \"side_branches_in_cm\": null, \"total_number_adults\": 10, \"stem_diam_bottom_in_cm\": 0.24, \"diam_top_in_cm\": 0.14}, {\"main_stem_length_in_cm\": 26.0, \"total_meja\": 12, \"infested\": 1, \"tip_of_stem_broken\": 1, \"side_branches_in_cm\": null, \"total_number_adults\": 11, \"stem_diam_bottom_in_cm\": 0.43, \"diam_top_in_cm\": 0.25}, {\"main_stem_length_in_cm\": 22.5, \"total_meja\": 11, \"infested\": 1, \"tip_of_stem_broken\": 1, \"side_branches_in_cm\": null, \"total_number_adults\": 9, \"stem_diam_bottom_in_cm\": 0.42, \"diam_top_in_cm\": 0.3}, {\"main_stem_length_in_cm\": 20.0, \"total_meja\": 0, \"infested\": 0, \"tip_of_stem_broken\": 0, \"side_branches_in_cm\": null, \"total_number_adults\": 0, \"stem_diam_bottom_in_cm\": 0.21, \"diam_top_in_cm\": null}, {\"main_stem_length_in_cm\": 21.0, \"total_meja\": 0, \"infested\": 0, \"tip_of_stem_broken\": 0, \"side_branches_in_cm\": null, \"total_number_adults\": 0, \"stem_diam_bottom_in_cm\": 0.26, \"diam_top_in_cm\": null}, {\"main_stem_length_in_cm\": 19.5, \"total_meja\": 0, \"infested\": 0, \"tip_of_stem_broken\": 0, \"side_branches_in_cm\": null, \"total_number_adults\": 0, \"stem_diam_bottom_in_cm\": 0.29, \"diam_top_in_cm\": null}, {\"main_stem_length_in_cm\": 16.0, \"total_meja\": 0, \"infested\": 0, \"tip_of_stem_broken\": 0, \"side_branches_in_cm\": null, \"total_number_adults\": 0, \"stem_diam_bottom_in_cm\": 0.26, \"diam_top_in_cm\": null}, {\"main_stem_length_in_cm\": 19.0, \"total_meja\": 0, \"infested\": 0, \"tip_of_stem_broken\": 0, \"side_branches_in_cm\": null, \"total_number_adults\": 0, \"stem_diam_bottom_in_cm\": 0.19, \"diam_top_in_cm\": null}, {\"main_stem_length_in_cm\": 25.0, \"total_meja\": 0, \"infested\": 0, \"tip_of_stem_broken\": 0, \"side_branches_in_cm\": null, \"total_number_adults\": 0, \"stem_diam_bottom_in_cm\": 0.35, \"diam_top_in_cm\": null}, {\"main_stem_length_in_cm\": 24.0, \"total_meja\": 0, \"infested\": 0, \"tip_of_stem_broken\": 0, \"side_branches_in_cm\": null, \"total_number_adults\": 0, \"stem_diam_bottom_in_cm\": 0.23, \"diam_top_in_cm\": null}, {\"main_stem_length_in_cm\": 16.5, \"total_meja\": 0, \"infested\": 0, \"tip_of_stem_broken\": 0, \"side_branches_in_cm\": null, \"total_number_adults\": 0, \"stem_diam_bottom_in_cm\": 0.2, \"diam_top_in_cm\": null}, {\"main_stem_length_in_cm\": 14.0, \"total_meja\": 0, \"infested\": 0, \"tip_of_stem_broken\": 0, \"side_branches_in_cm\": null, \"total_number_adults\": 0, \"stem_diam_bottom_in_cm\": 0.22, \"diam_top_in_cm\": null}, {\"main_stem_length_in_cm\": 15.5, \"total_meja\": 0, \"infested\": 0, \"tip_of_stem_broken\": 0, \"side_branches_in_cm\": null, \"total_number_adults\": 0, \"stem_diam_bottom_in_cm\": 0.2, \"diam_top_in_cm\": null}, {\"main_stem_length_in_cm\": 14.5, \"total_meja\": 0, \"infested\": 0, \"tip_of_stem_broken\": 0, \"side_branches_in_cm\": null, \"total_number_adults\": 0, \"stem_diam_bottom_in_cm\": 0.17, \"diam_top_in_cm\": null}, {\"main_stem_length_in_cm\": 7.5, \"total_meja\": 0, \"infested\": 0, \"tip_of_stem_broken\": 0, \"side_branches_in_cm\": null, \"total_number_adults\": 0, \"stem_diam_bottom_in_cm\": 0.17, \"diam_top_in_cm\": null}, {\"main_stem_length_in_cm\": 16.5, \"total_meja\": 0, \"infested\": 0, \"tip_of_stem_broken\": 0, \"side_branches_in_cm\": null, \"total_number_adults\": 0, \"stem_diam_bottom_in_cm\": 0.25, \"diam_top_in_cm\": null}, {\"main_stem_length_in_cm\": 17.0, \"total_meja\": 0, \"infested\": 0, \"tip_of_stem_broken\": 0, \"side_branches_in_cm\": null, \"total_number_adults\": 0, \"stem_diam_bottom_in_cm\": 0.28, \"diam_top_in_cm\": null}, {\"main_stem_length_in_cm\": 13.5, \"total_meja\": 0, \"infested\": 0, \"tip_of_stem_broken\": 0, \"side_branches_in_cm\": null, \"total_number_adults\": 0, \"stem_diam_bottom_in_cm\": 0.17, \"diam_top_in_cm\": null}, {\"main_stem_length_in_cm\": 15.5, \"total_meja\": 0, \"infested\": 0, \"tip_of_stem_broken\": 0, \"side_branches_in_cm\": null, \"total_number_adults\": 0, \"stem_diam_bottom_in_cm\": 0.26, \"diam_top_in_cm\": null}, {\"main_stem_length_in_cm\": 9.0, \"total_meja\": 0, \"infested\": 0, \"tip_of_stem_broken\": 0, \"side_branches_in_cm\": null, \"total_number_adults\": 0, \"stem_diam_bottom_in_cm\": 0.15, \"diam_top_in_cm\": null}, {\"main_stem_length_in_cm\": 15.0, \"total_meja\": 0, \"infested\": 0, \"tip_of_stem_broken\": 0, \"side_branches_in_cm\": null, \"total_number_adults\": 0, \"stem_diam_bottom_in_cm\": 0.25, \"diam_top_in_cm\": null}, {\"main_stem_length_in_cm\": 20.5, \"total_meja\": 0, \"infested\": 0, \"tip_of_stem_broken\": 0, \"side_branches_in_cm\": null, \"total_number_adults\": 0, \"stem_diam_bottom_in_cm\": 0.27, \"diam_top_in_cm\": null}, {\"main_stem_length_in_cm\": 9.0, \"total_meja\": 0, \"infested\": 0, \"tip_of_stem_broken\": 0, \"side_branches_in_cm\": null, \"total_number_adults\": 0, \"stem_diam_bottom_in_cm\": 0.16, \"diam_top_in_cm\": null}, {\"main_stem_length_in_cm\": 14.0, \"total_meja\": 0, \"infested\": 0, \"tip_of_stem_broken\": 0, \"side_branches_in_cm\": null, \"total_number_adults\": 0, \"stem_diam_bottom_in_cm\": 0.2, \"diam_top_in_cm\": null}, {\"main_stem_length_in_cm\": 11.0, \"total_meja\": 0, \"infested\": 0, \"tip_of_stem_broken\": 0, \"side_branches_in_cm\": null, \"total_number_adults\": 0, \"stem_diam_bottom_in_cm\": 0.19, \"diam_top_in_cm\": null}, {\"main_stem_length_in_cm\": 11.0, \"total_meja\": 0, \"infested\": 0, \"tip_of_stem_broken\": 0, \"side_branches_in_cm\": null, \"total_number_adults\": 0, \"stem_diam_bottom_in_cm\": 0.14, \"diam_top_in_cm\": null}, {\"main_stem_length_in_cm\": 15.5, \"total_meja\": 0, \"infested\": 0, \"tip_of_stem_broken\": 0, \"side_branches_in_cm\": null, \"total_number_adults\": 0, \"stem_diam_bottom_in_cm\": 0.21, \"diam_top_in_cm\": null}, {\"main_stem_length_in_cm\": 18.5, \"total_meja\": 0, \"infested\": 0, \"tip_of_stem_broken\": 0, \"side_branches_in_cm\": null, \"total_number_adults\": 0, \"stem_diam_bottom_in_cm\": 0.22, \"diam_top_in_cm\": null}, {\"main_stem_length_in_cm\": 15.0, \"total_meja\": 0, \"infested\": 0, \"tip_of_stem_broken\": 0, \"side_branches_in_cm\": null, \"total_number_adults\": 0, \"stem_diam_bottom_in_cm\": 0.21, \"diam_top_in_cm\": null}, {\"main_stem_length_in_cm\": 13.0, \"total_meja\": 0, \"infested\": 0, \"tip_of_stem_broken\": 0, \"side_branches_in_cm\": null, \"total_number_adults\": 0, \"stem_diam_bottom_in_cm\": 0.15, \"diam_top_in_cm\": null}, {\"main_stem_length_in_cm\": 10.0, \"total_meja\": 0, \"infested\": 0, \"tip_of_stem_broken\": 0, \"side_branches_in_cm\": null, \"total_number_adults\": 0, \"stem_diam_bottom_in_cm\": 0.24, \"diam_top_in_cm\": null}, {\"main_stem_length_in_cm\": 12.0, \"total_meja\": 0, \"infested\": 0, \"tip_of_stem_broken\": 0, \"side_branches_in_cm\": null, \"total_number_adults\": 0, \"stem_diam_bottom_in_cm\": 0.23, \"diam_top_in_cm\": null}, {\"main_stem_length_in_cm\": 10.0, \"total_meja\": 0, \"infested\": 0, \"tip_of_stem_broken\": 0, \"side_branches_in_cm\": null, \"total_number_adults\": 0, \"stem_diam_bottom_in_cm\": 0.24, \"diam_top_in_cm\": null}, {\"main_stem_length_in_cm\": 10.0, \"total_meja\": 0, \"infested\": 0, \"tip_of_stem_broken\": 0, \"side_branches_in_cm\": null, \"total_number_adults\": 0, \"stem_diam_bottom_in_cm\": 0.16, \"diam_top_in_cm\": null}, {\"main_stem_length_in_cm\": 28.5, \"total_meja\": 0, \"infested\": 0, \"tip_of_stem_broken\": 0, \"side_branches_in_cm\": null, \"total_number_adults\": 0, \"stem_diam_bottom_in_cm\": 0.36, \"diam_top_in_cm\": null}, {\"main_stem_length_in_cm\": 30.0, \"total_meja\": 0, \"infested\": 0, \"tip_of_stem_broken\": 0, \"side_branches_in_cm\": null, \"total_number_adults\": 0, \"stem_diam_bottom_in_cm\": 0.24, \"diam_top_in_cm\": null}, {\"main_stem_length_in_cm\": 19.0, \"total_meja\": 0, \"infested\": 0, \"tip_of_stem_broken\": 0, \"side_branches_in_cm\": null, \"total_number_adults\": 0, \"stem_diam_bottom_in_cm\": 0.21, \"diam_top_in_cm\": null}, {\"main_stem_length_in_cm\": 11.5, \"total_meja\": 0, \"infested\": 0, \"tip_of_stem_broken\": 0, \"side_branches_in_cm\": null, \"total_number_adults\": 0, \"stem_diam_bottom_in_cm\": 0.16, \"diam_top_in_cm\": null}, {\"main_stem_length_in_cm\": 12.0, \"total_meja\": 0, \"infested\": 0, \"tip_of_stem_broken\": 0, \"side_branches_in_cm\": null, \"total_number_adults\": 0, \"stem_diam_bottom_in_cm\": 0.19, \"diam_top_in_cm\": null}, {\"main_stem_length_in_cm\": 20.5, \"total_meja\": 0, \"infested\": 0, \"tip_of_stem_broken\": 0, \"side_branches_in_cm\": null, \"total_number_adults\": 0, \"stem_diam_bottom_in_cm\": 0.29, \"diam_top_in_cm\": null}, {\"main_stem_length_in_cm\": 11.0, \"total_meja\": 0, \"infested\": 0, \"tip_of_stem_broken\": 0, \"side_branches_in_cm\": null, \"total_number_adults\": 0, \"stem_diam_bottom_in_cm\": 0.15, \"diam_top_in_cm\": null}, {\"main_stem_length_in_cm\": 11.0, \"total_meja\": 0, \"infested\": 0, \"tip_of_stem_broken\": 0, \"side_branches_in_cm\": null, \"total_number_adults\": 0, \"stem_diam_bottom_in_cm\": 0.21, \"diam_top_in_cm\": null}, {\"main_stem_length_in_cm\": 14.0, \"total_meja\": 0, \"infested\": 0, \"tip_of_stem_broken\": 0, \"side_branches_in_cm\": null, \"total_number_adults\": 0, \"stem_diam_bottom_in_cm\": 0.18, \"diam_top_in_cm\": null}, {\"main_stem_length_in_cm\": 23.5, \"total_meja\": 0, \"infested\": 0, \"tip_of_stem_broken\": 0, \"side_branches_in_cm\": null, \"total_number_adults\": 0, \"stem_diam_bottom_in_cm\": 0.27, \"diam_top_in_cm\": null}, {\"main_stem_length_in_cm\": 9.0, \"total_meja\": 0, \"infested\": 0, \"tip_of_stem_broken\": 0, \"side_branches_in_cm\": null, \"total_number_adults\": 0, \"stem_diam_bottom_in_cm\": 0.24, \"diam_top_in_cm\": null}, {\"main_stem_length_in_cm\": 19.0, \"total_meja\": 0, \"infested\": 0, \"tip_of_stem_broken\": 0, \"side_branches_in_cm\": null, \"total_number_adults\": 0, \"stem_diam_bottom_in_cm\": 0.36, \"diam_top_in_cm\": null}, {\"main_stem_length_in_cm\": 16.5, \"total_meja\": 0, \"infested\": 0, \"tip_of_stem_broken\": 0, \"side_branches_in_cm\": null, \"total_number_adults\": 0, \"stem_diam_bottom_in_cm\": 0.21, \"diam_top_in_cm\": null}, {\"main_stem_length_in_cm\": 12.0, \"total_meja\": 0, \"infested\": 0, \"tip_of_stem_broken\": 0, \"side_branches_in_cm\": null, \"total_number_adults\": 0, \"stem_diam_bottom_in_cm\": 0.22, \"diam_top_in_cm\": null}, {\"main_stem_length_in_cm\": 13.5, \"total_meja\": 0, \"infested\": 0, \"tip_of_stem_broken\": 0, \"side_branches_in_cm\": null, \"total_number_adults\": 0, \"stem_diam_bottom_in_cm\": 0.3, \"diam_top_in_cm\": null}, {\"main_stem_length_in_cm\": 10.5, \"total_meja\": 0, \"infested\": 0, \"tip_of_stem_broken\": 0, \"side_branches_in_cm\": null, \"total_number_adults\": 0, \"stem_diam_bottom_in_cm\": 0.17, \"diam_top_in_cm\": null}, {\"main_stem_length_in_cm\": 12.0, \"total_meja\": 0, \"infested\": 0, \"tip_of_stem_broken\": 0, \"side_branches_in_cm\": null, \"total_number_adults\": 0, \"stem_diam_bottom_in_cm\": 0.23, \"diam_top_in_cm\": null}, {\"main_stem_length_in_cm\": 6.0, \"total_meja\": 0, \"infested\": 0, \"tip_of_stem_broken\": 0, \"side_branches_in_cm\": null, \"total_number_adults\": 0, \"stem_diam_bottom_in_cm\": 0.2, \"diam_top_in_cm\": null}, {\"main_stem_length_in_cm\": 11.0, \"total_meja\": 0, \"infested\": 0, \"tip_of_stem_broken\": 0, \"side_branches_in_cm\": null, \"total_number_adults\": 0, \"stem_diam_bottom_in_cm\": 0.18, \"diam_top_in_cm\": null}, {\"main_stem_length_in_cm\": 6.5, \"total_meja\": 0, \"infested\": 0, \"tip_of_stem_broken\": 0, \"side_branches_in_cm\": null, \"total_number_adults\": 0, \"stem_diam_bottom_in_cm\": 0.18, \"diam_top_in_cm\": null}, {\"main_stem_length_in_cm\": 12.5, \"total_meja\": 0, \"infested\": 0, \"tip_of_stem_broken\": 0, \"side_branches_in_cm\": null, \"total_number_adults\": 0, \"stem_diam_bottom_in_cm\": 0.16, \"diam_top_in_cm\": null}, {\"main_stem_length_in_cm\": 7.5, \"total_meja\": 0, \"infested\": 0, \"tip_of_stem_broken\": 0, \"side_branches_in_cm\": null, \"total_number_adults\": 0, \"stem_diam_bottom_in_cm\": 0.17, \"diam_top_in_cm\": null}, {\"main_stem_length_in_cm\": 14.0, \"total_meja\": 0, \"infested\": 0, \"tip_of_stem_broken\": 0, \"side_branches_in_cm\": null, \"total_number_adults\": 0, \"stem_diam_bottom_in_cm\": 0.18, \"diam_top_in_cm\": null}, {\"main_stem_length_in_cm\": 12.5, \"total_meja\": 0, \"infested\": 0, \"tip_of_stem_broken\": 0, \"side_branches_in_cm\": null, \"total_number_adults\": 0, \"stem_diam_bottom_in_cm\": 0.24, \"diam_top_in_cm\": null}, {\"main_stem_length_in_cm\": 11.5, \"total_meja\": 0, \"infested\": 0, \"tip_of_stem_broken\": 0, \"side_branches_in_cm\": null, \"total_number_adults\": 0, \"stem_diam_bottom_in_cm\": 0.23, \"diam_top_in_cm\": null}, {\"main_stem_length_in_cm\": 13.5, \"total_meja\": 0, \"infested\": 0, \"tip_of_stem_broken\": 0, \"side_branches_in_cm\": null, \"total_number_adults\": 0, \"stem_diam_bottom_in_cm\": 0.26, \"diam_top_in_cm\": null}, {\"main_stem_length_in_cm\": 7.0, \"total_meja\": 0, \"infested\": 0, \"tip_of_stem_broken\": 0, \"side_branches_in_cm\": null, \"total_number_adults\": 0, \"stem_diam_bottom_in_cm\": 0.14, \"diam_top_in_cm\": null}, {\"main_stem_length_in_cm\": 12.0, \"total_meja\": 0, \"infested\": 0, \"tip_of_stem_broken\": 0, \"side_branches_in_cm\": null, \"total_number_adults\": 0, \"stem_diam_bottom_in_cm\": 0.16, \"diam_top_in_cm\": null}, {\"main_stem_length_in_cm\": 7.0, \"total_meja\": 0, \"infested\": 0, \"tip_of_stem_broken\": 0, \"side_branches_in_cm\": null, \"total_number_adults\": 0, \"stem_diam_bottom_in_cm\": 0.26, \"diam_top_in_cm\": null}, {\"main_stem_length_in_cm\": 11.5, \"total_meja\": 0, \"infested\": 0, \"tip_of_stem_broken\": 0, \"side_branches_in_cm\": null, \"total_number_adults\": 0, \"stem_diam_bottom_in_cm\": 0.23, \"diam_top_in_cm\": null}, {\"main_stem_length_in_cm\": 13.0, \"total_meja\": 0, \"infested\": 0, \"tip_of_stem_broken\": 0, \"side_branches_in_cm\": null, \"total_number_adults\": 0, \"stem_diam_bottom_in_cm\": 0.22, \"diam_top_in_cm\": null}, {\"main_stem_length_in_cm\": 22.0, \"total_meja\": 0, \"infested\": 0, \"tip_of_stem_broken\": 0, \"side_branches_in_cm\": null, \"total_number_adults\": 0, \"stem_diam_bottom_in_cm\": 0.26, \"diam_top_in_cm\": null}, {\"main_stem_length_in_cm\": 14.5, \"total_meja\": 0, \"infested\": 0, \"tip_of_stem_broken\": 0, \"side_branches_in_cm\": null, \"total_number_adults\": 0, \"stem_diam_bottom_in_cm\": 0.28, \"diam_top_in_cm\": null}, {\"main_stem_length_in_cm\": 10.5, \"total_meja\": 0, \"infested\": 0, \"tip_of_stem_broken\": 0, \"side_branches_in_cm\": null, \"total_number_adults\": 0, \"stem_diam_bottom_in_cm\": 0.19, \"diam_top_in_cm\": null}, {\"main_stem_length_in_cm\": 10.0, \"total_meja\": 0, \"infested\": 0, \"tip_of_stem_broken\": 0, \"side_branches_in_cm\": null, \"total_number_adults\": 0, \"stem_diam_bottom_in_cm\": 0.27, \"diam_top_in_cm\": null}, {\"main_stem_length_in_cm\": 8.0, \"total_meja\": 0, \"infested\": 0, \"tip_of_stem_broken\": 0, \"side_branches_in_cm\": null, \"total_number_adults\": 0, \"stem_diam_bottom_in_cm\": 0.23, \"diam_top_in_cm\": null}, {\"main_stem_length_in_cm\": 21.0, \"total_meja\": 0, \"infested\": 0, \"tip_of_stem_broken\": 0, \"side_branches_in_cm\": null, \"total_number_adults\": 0, \"stem_diam_bottom_in_cm\": 0.35, \"diam_top_in_cm\": null}, {\"main_stem_length_in_cm\": 15.5, \"total_meja\": 0, \"infested\": 0, \"tip_of_stem_broken\": 0, \"side_branches_in_cm\": null, \"total_number_adults\": 0, \"stem_diam_bottom_in_cm\": 0.32, \"diam_top_in_cm\": null}, {\"main_stem_length_in_cm\": 19.0, \"total_meja\": 0, \"infested\": 0, \"tip_of_stem_broken\": 0, \"side_branches_in_cm\": null, \"total_number_adults\": 0, \"stem_diam_bottom_in_cm\": 0.21, \"diam_top_in_cm\": null}, {\"main_stem_length_in_cm\": 20.0, \"total_meja\": 0, \"infested\": 0, \"tip_of_stem_broken\": 0, \"side_branches_in_cm\": null, \"total_number_adults\": 0, \"stem_diam_bottom_in_cm\": 0.3, \"diam_top_in_cm\": null}, {\"main_stem_length_in_cm\": 25.0, \"total_meja\": 0, \"infested\": 0, \"tip_of_stem_broken\": 0, \"side_branches_in_cm\": null, \"total_number_adults\": 0, \"stem_diam_bottom_in_cm\": 0.39, \"diam_top_in_cm\": null}, {\"main_stem_length_in_cm\": 13.0, \"total_meja\": 0, \"infested\": 0, \"tip_of_stem_broken\": 0, \"side_branches_in_cm\": null, \"total_number_adults\": 0, \"stem_diam_bottom_in_cm\": 0.27, \"diam_top_in_cm\": null}, {\"main_stem_length_in_cm\": 23.5, \"total_meja\": 0, \"infested\": 0, \"tip_of_stem_broken\": 0, \"side_branches_in_cm\": null, \"total_number_adults\": 0, \"stem_diam_bottom_in_cm\": 0.31, \"diam_top_in_cm\": null}, {\"main_stem_length_in_cm\": 14.5, \"total_meja\": 0, \"infested\": 0, \"tip_of_stem_broken\": 0, \"side_branches_in_cm\": null, \"total_number_adults\": 0, \"stem_diam_bottom_in_cm\": 0.25, \"diam_top_in_cm\": null}, {\"main_stem_length_in_cm\": 13.0, \"total_meja\": 0, \"infested\": 0, \"tip_of_stem_broken\": 0, \"side_branches_in_cm\": null, \"total_number_adults\": 0, \"stem_diam_bottom_in_cm\": 0.17, \"diam_top_in_cm\": null}, {\"main_stem_length_in_cm\": 18.0, \"total_meja\": 0, \"infested\": 0, \"tip_of_stem_broken\": 0, \"side_branches_in_cm\": null, \"total_number_adults\": 0, \"stem_diam_bottom_in_cm\": 0.19, \"diam_top_in_cm\": null}, {\"main_stem_length_in_cm\": 8.5, \"total_meja\": 0, \"infested\": 0, \"tip_of_stem_broken\": 0, \"side_branches_in_cm\": null, \"total_number_adults\": 0, \"stem_diam_bottom_in_cm\": 0.23, \"diam_top_in_cm\": null}, {\"main_stem_length_in_cm\": 13.0, \"total_meja\": 0, \"infested\": 0, \"tip_of_stem_broken\": 0, \"side_branches_in_cm\": null, \"total_number_adults\": 0, \"stem_diam_bottom_in_cm\": 0.21, \"diam_top_in_cm\": null}, {\"main_stem_length_in_cm\": 9.5, \"total_meja\": 0, \"infested\": 0, \"tip_of_stem_broken\": 0, \"side_branches_in_cm\": null, \"total_number_adults\": 0, \"stem_diam_bottom_in_cm\": 0.24, \"diam_top_in_cm\": null}, {\"main_stem_length_in_cm\": 16.5, \"total_meja\": 0, \"infested\": 0, \"tip_of_stem_broken\": 0, \"side_branches_in_cm\": null, \"total_number_adults\": 0, \"stem_diam_bottom_in_cm\": 0.31, \"diam_top_in_cm\": null}, {\"main_stem_length_in_cm\": 4.0, \"total_meja\": 0, \"infested\": 0, \"tip_of_stem_broken\": 0, \"side_branches_in_cm\": null, \"total_number_adults\": 0, \"stem_diam_bottom_in_cm\": 0.26, \"diam_top_in_cm\": null}, {\"main_stem_length_in_cm\": 8.5, \"total_meja\": 0, \"infested\": 0, \"tip_of_stem_broken\": 0, \"side_branches_in_cm\": null, \"total_number_adults\": 0, \"stem_diam_bottom_in_cm\": 0.16, \"diam_top_in_cm\": null}, {\"main_stem_length_in_cm\": 11.0, \"total_meja\": 0, \"infested\": 0, \"tip_of_stem_broken\": 0, \"side_branches_in_cm\": null, \"total_number_adults\": 0, \"stem_diam_bottom_in_cm\": 0.24, \"diam_top_in_cm\": null}, {\"main_stem_length_in_cm\": 13.0, \"total_meja\": 0, \"infested\": 0, \"tip_of_stem_broken\": 0, \"side_branches_in_cm\": null, \"total_number_adults\": 0, \"stem_diam_bottom_in_cm\": 0.19, \"diam_top_in_cm\": null}, {\"main_stem_length_in_cm\": 12.5, \"total_meja\": 0, \"infested\": 0, \"tip_of_stem_broken\": 0, \"side_branches_in_cm\": null, \"total_number_adults\": 0, \"stem_diam_bottom_in_cm\": 0.25, \"diam_top_in_cm\": null}, {\"main_stem_length_in_cm\": 11.0, \"total_meja\": 0, \"infested\": 0, \"tip_of_stem_broken\": 0, \"side_branches_in_cm\": null, \"total_number_adults\": 0, \"stem_diam_bottom_in_cm\": 0.18, \"diam_top_in_cm\": null}, {\"main_stem_length_in_cm\": 11.0, \"total_meja\": 0, \"infested\": 0, \"tip_of_stem_broken\": 0, \"side_branches_in_cm\": null, \"total_number_adults\": 0, \"stem_diam_bottom_in_cm\": 0.2, \"diam_top_in_cm\": null}, {\"main_stem_length_in_cm\": 11.0, \"total_meja\": 0, \"infested\": 0, \"tip_of_stem_broken\": 0, \"side_branches_in_cm\": null, \"total_number_adults\": 0, \"stem_diam_bottom_in_cm\": 0.23, \"diam_top_in_cm\": null}, {\"main_stem_length_in_cm\": 13.0, \"total_meja\": 0, \"infested\": 0, \"tip_of_stem_broken\": 0, \"side_branches_in_cm\": null, \"total_number_adults\": 0, \"stem_diam_bottom_in_cm\": 0.23, \"diam_top_in_cm\": null}, {\"main_stem_length_in_cm\": 8.5, \"total_meja\": 0, \"infested\": 0, \"tip_of_stem_broken\": 0, \"side_branches_in_cm\": null, \"total_number_adults\": 0, \"stem_diam_bottom_in_cm\": 0.17, \"diam_top_in_cm\": null}, {\"main_stem_length_in_cm\": 8.0, \"total_meja\": 0, \"infested\": 0, \"tip_of_stem_broken\": 0, \"side_branches_in_cm\": null, \"total_number_adults\": 0, \"stem_diam_bottom_in_cm\": 0.18, \"diam_top_in_cm\": null}, {\"main_stem_length_in_cm\": 14.5, \"total_meja\": 0, \"infested\": 0, \"tip_of_stem_broken\": 0, \"side_branches_in_cm\": null, \"total_number_adults\": 0, \"stem_diam_bottom_in_cm\": 0.31, \"diam_top_in_cm\": null}, {\"main_stem_length_in_cm\": 10.0, \"total_meja\": 0, \"infested\": 0, \"tip_of_stem_broken\": 0, \"side_branches_in_cm\": null, \"total_number_adults\": 0, \"stem_diam_bottom_in_cm\": 0.24, \"diam_top_in_cm\": null}, {\"main_stem_length_in_cm\": 12.5, \"total_meja\": 0, \"infested\": 0, \"tip_of_stem_broken\": 0, \"side_branches_in_cm\": null, \"total_number_adults\": 0, \"stem_diam_bottom_in_cm\": 0.21, \"diam_top_in_cm\": null}, {\"main_stem_length_in_cm\": 7.5, \"total_meja\": 0, \"infested\": 0, \"tip_of_stem_broken\": 0, \"side_branches_in_cm\": null, \"total_number_adults\": 0, \"stem_diam_bottom_in_cm\": 0.17, \"diam_top_in_cm\": null}, {\"main_stem_length_in_cm\": 9.0, \"total_meja\": 0, \"infested\": 0, \"tip_of_stem_broken\": 0, \"side_branches_in_cm\": null, \"total_number_adults\": 0, \"stem_diam_bottom_in_cm\": 0.26, \"diam_top_in_cm\": null}, {\"main_stem_length_in_cm\": 12.0, \"total_meja\": 0, \"infested\": 0, \"tip_of_stem_broken\": 0, \"side_branches_in_cm\": null, \"total_number_adults\": 0, \"stem_diam_bottom_in_cm\": 0.15, \"diam_top_in_cm\": null}, {\"main_stem_length_in_cm\": 14.0, \"total_meja\": 0, \"infested\": 0, \"tip_of_stem_broken\": 0, \"side_branches_in_cm\": null, \"total_number_adults\": 0, \"stem_diam_bottom_in_cm\": 0.17, \"diam_top_in_cm\": null}, {\"main_stem_length_in_cm\": 12.0, \"total_meja\": 0, \"infested\": 0, \"tip_of_stem_broken\": 0, \"side_branches_in_cm\": null, \"total_number_adults\": 0, \"stem_diam_bottom_in_cm\": 0.18, \"diam_top_in_cm\": null}, {\"main_stem_length_in_cm\": 8.0, \"total_meja\": 0, \"infested\": 0, \"tip_of_stem_broken\": 0, \"side_branches_in_cm\": null, \"total_number_adults\": 0, \"stem_diam_bottom_in_cm\": 0.26, \"diam_top_in_cm\": null}, {\"main_stem_length_in_cm\": 6.0, \"total_meja\": 0, \"infested\": 0, \"tip_of_stem_broken\": 0, \"side_branches_in_cm\": null, \"total_number_adults\": 0, \"stem_diam_bottom_in_cm\": 0.2, \"diam_top_in_cm\": null}, {\"main_stem_length_in_cm\": 10.5, \"total_meja\": 0, \"infested\": 0, \"tip_of_stem_broken\": 0, \"side_branches_in_cm\": null, \"total_number_adults\": 0, \"stem_diam_bottom_in_cm\": 0.22, \"diam_top_in_cm\": null}, {\"main_stem_length_in_cm\": 5.0, \"total_meja\": 0, \"infested\": 0, \"tip_of_stem_broken\": 0, \"side_branches_in_cm\": null, \"total_number_adults\": 0, \"stem_diam_bottom_in_cm\": 0.27, \"diam_top_in_cm\": null}, {\"main_stem_length_in_cm\": 18.0, \"total_meja\": 0, \"infested\": 0, \"tip_of_stem_broken\": 0, \"side_branches_in_cm\": null, \"total_number_adults\": 0, \"stem_diam_bottom_in_cm\": 0.21, \"diam_top_in_cm\": null}, {\"main_stem_length_in_cm\": 13.0, \"total_meja\": 0, \"infested\": 0, \"tip_of_stem_broken\": 0, \"side_branches_in_cm\": null, \"total_number_adults\": 0, \"stem_diam_bottom_in_cm\": 0.24, \"diam_top_in_cm\": null}, {\"main_stem_length_in_cm\": 9.0, \"total_meja\": 0, \"infested\": 0, \"tip_of_stem_broken\": 0, \"side_branches_in_cm\": null, \"total_number_adults\": 0, \"stem_diam_bottom_in_cm\": 0.18, \"diam_top_in_cm\": null}, {\"main_stem_length_in_cm\": 12.0, \"total_meja\": 0, \"infested\": 0, \"tip_of_stem_broken\": 0, \"side_branches_in_cm\": null, \"total_number_adults\": 0, \"stem_diam_bottom_in_cm\": 0.16, \"diam_top_in_cm\": null}, {\"main_stem_length_in_cm\": 9.0, \"total_meja\": 0, \"infested\": 0, \"tip_of_stem_broken\": 0, \"side_branches_in_cm\": null, \"total_number_adults\": 0, \"stem_diam_bottom_in_cm\": 0.21, \"diam_top_in_cm\": null}, {\"main_stem_length_in_cm\": 16.5, \"total_meja\": 0, \"infested\": 0, \"tip_of_stem_broken\": 0, \"side_branches_in_cm\": null, \"total_number_adults\": 0, \"stem_diam_bottom_in_cm\": 0.28, \"diam_top_in_cm\": null}, {\"main_stem_length_in_cm\": 5.0, \"total_meja\": 0, \"infested\": 0, \"tip_of_stem_broken\": 0, \"side_branches_in_cm\": null, \"total_number_adults\": 0, \"stem_diam_bottom_in_cm\": 0.14, \"diam_top_in_cm\": null}, {\"main_stem_length_in_cm\": 10.0, \"total_meja\": 0, \"infested\": 0, \"tip_of_stem_broken\": 0, \"side_branches_in_cm\": null, \"total_number_adults\": 0, \"stem_diam_bottom_in_cm\": 0.22, \"diam_top_in_cm\": null}, {\"main_stem_length_in_cm\": 11.0, \"total_meja\": 0, \"infested\": 0, \"tip_of_stem_broken\": 0, \"side_branches_in_cm\": null, \"total_number_adults\": 0, \"stem_diam_bottom_in_cm\": 0.18, \"diam_top_in_cm\": null}, {\"main_stem_length_in_cm\": 4.0, \"total_meja\": 0, \"infested\": 0, \"tip_of_stem_broken\": 0, \"side_branches_in_cm\": null, \"total_number_adults\": 0, \"stem_diam_bottom_in_cm\": 0.2, \"diam_top_in_cm\": null}, {\"main_stem_length_in_cm\": 2.0, \"total_meja\": 0, \"infested\": 0, \"tip_of_stem_broken\": 0, \"side_branches_in_cm\": null, \"total_number_adults\": 0, \"stem_diam_bottom_in_cm\": 0.19, \"diam_top_in_cm\": null}, {\"main_stem_length_in_cm\": 13.0, \"total_meja\": 0, \"infested\": 0, \"tip_of_stem_broken\": 0, \"side_branches_in_cm\": null, \"total_number_adults\": 0, \"stem_diam_bottom_in_cm\": 0.21, \"diam_top_in_cm\": null}, {\"main_stem_length_in_cm\": 5.0, \"total_meja\": 0, \"infested\": 0, \"tip_of_stem_broken\": 0, \"side_branches_in_cm\": null, \"total_number_adults\": 0, \"stem_diam_bottom_in_cm\": 0.24, \"diam_top_in_cm\": null}, {\"main_stem_length_in_cm\": 13.0, \"total_meja\": 0, \"infested\": 0, \"tip_of_stem_broken\": 0, \"side_branches_in_cm\": null, \"total_number_adults\": 0, \"stem_diam_bottom_in_cm\": 0.16, \"diam_top_in_cm\": null}, {\"main_stem_length_in_cm\": 8.0, \"total_meja\": 0, \"infested\": 0, \"tip_of_stem_broken\": 0, \"side_branches_in_cm\": null, \"total_number_adults\": 0, \"stem_diam_bottom_in_cm\": 0.27, \"diam_top_in_cm\": null}, {\"main_stem_length_in_cm\": 91.0, \"total_meja\": 0, \"infested\": 0, \"tip_of_stem_broken\": 1, \"side_branches_in_cm\": 8.0, \"total_number_adults\": 0, \"stem_diam_bottom_in_cm\": 0.7, \"diam_top_in_cm\": null}, {\"main_stem_length_in_cm\": 38.0, \"total_meja\": 0, \"infested\": 0, \"tip_of_stem_broken\": 1, \"side_branches_in_cm\": null, \"total_number_adults\": 0, \"stem_diam_bottom_in_cm\": 0.42, \"diam_top_in_cm\": null}, {\"main_stem_length_in_cm\": 45.0, \"total_meja\": 0, \"infested\": 0, \"tip_of_stem_broken\": 1, \"side_branches_in_cm\": null, \"total_number_adults\": 0, \"stem_diam_bottom_in_cm\": 0.53, \"diam_top_in_cm\": null}, {\"main_stem_length_in_cm\": 56.0, \"total_meja\": 0, \"infested\": 0, \"tip_of_stem_broken\": 1, \"side_branches_in_cm\": null, \"total_number_adults\": 0, \"stem_diam_bottom_in_cm\": 0.67, \"diam_top_in_cm\": null}, {\"main_stem_length_in_cm\": 54.0, \"total_meja\": 0, \"infested\": 0, \"tip_of_stem_broken\": 1, \"side_branches_in_cm\": null, \"total_number_adults\": 0, \"stem_diam_bottom_in_cm\": 0.73, \"diam_top_in_cm\": null}, {\"main_stem_length_in_cm\": 70.0, \"total_meja\": 0, \"infested\": 0, \"tip_of_stem_broken\": 1, \"side_branches_in_cm\": 49.0, \"total_number_adults\": 0, \"stem_diam_bottom_in_cm\": 0.88, \"diam_top_in_cm\": null}, {\"main_stem_length_in_cm\": 55.0, \"total_meja\": 0, \"infested\": 0, \"tip_of_stem_broken\": 1, \"side_branches_in_cm\": null, \"total_number_adults\": 0, \"stem_diam_bottom_in_cm\": 0.45, \"diam_top_in_cm\": null}, {\"main_stem_length_in_cm\": 78.0, \"total_meja\": 0, \"infested\": 0, \"tip_of_stem_broken\": 1, \"side_branches_in_cm\": null, \"total_number_adults\": 0, \"stem_diam_bottom_in_cm\": 0.44, \"diam_top_in_cm\": null}, {\"main_stem_length_in_cm\": 57.0, \"total_meja\": 0, \"infested\": 0, \"tip_of_stem_broken\": 1, \"side_branches_in_cm\": null, \"total_number_adults\": 0, \"stem_diam_bottom_in_cm\": 0.53, \"diam_top_in_cm\": null}, {\"main_stem_length_in_cm\": 47.0, \"total_meja\": 0, \"infested\": 0, \"tip_of_stem_broken\": 1, \"side_branches_in_cm\": null, \"total_number_adults\": 0, \"stem_diam_bottom_in_cm\": 0.64, \"diam_top_in_cm\": null}, {\"main_stem_length_in_cm\": 44.0, \"total_meja\": 0, \"infested\": 0, \"tip_of_stem_broken\": 1, \"side_branches_in_cm\": null, \"total_number_adults\": 0, \"stem_diam_bottom_in_cm\": 0.62, \"diam_top_in_cm\": null}, {\"main_stem_length_in_cm\": 66.0, \"total_meja\": 0, \"infested\": 0, \"tip_of_stem_broken\": 1, \"side_branches_in_cm\": null, \"total_number_adults\": 0, \"stem_diam_bottom_in_cm\": 0.56, \"diam_top_in_cm\": null}, {\"main_stem_length_in_cm\": 49.0, \"total_meja\": 0, \"infested\": 0, \"tip_of_stem_broken\": 1, \"side_branches_in_cm\": 33.0, \"total_number_adults\": 0, \"stem_diam_bottom_in_cm\": 0.55, \"diam_top_in_cm\": null}, {\"main_stem_length_in_cm\": 68.0, \"total_meja\": 0, \"infested\": 0, \"tip_of_stem_broken\": 1, \"side_branches_in_cm\": null, \"total_number_adults\": 0, \"stem_diam_bottom_in_cm\": 0.52, \"diam_top_in_cm\": null}, {\"main_stem_length_in_cm\": 59.0, \"total_meja\": 0, \"infested\": 0, \"tip_of_stem_broken\": 1, \"side_branches_in_cm\": null, \"total_number_adults\": 0, \"stem_diam_bottom_in_cm\": 0.84, \"diam_top_in_cm\": null}, {\"main_stem_length_in_cm\": 48.0, \"total_meja\": 0, \"infested\": 0, \"tip_of_stem_broken\": 1, \"side_branches_in_cm\": null, \"total_number_adults\": 0, \"stem_diam_bottom_in_cm\": 0.54, \"diam_top_in_cm\": null}, {\"main_stem_length_in_cm\": 58.0, \"total_meja\": 0, \"infested\": 0, \"tip_of_stem_broken\": 1, \"side_branches_in_cm\": null, \"total_number_adults\": 0, \"stem_diam_bottom_in_cm\": 0.73, \"diam_top_in_cm\": null}, {\"main_stem_length_in_cm\": 45.0, \"total_meja\": 0, \"infested\": 0, \"tip_of_stem_broken\": 1, \"side_branches_in_cm\": 45.0, \"total_number_adults\": 0, \"stem_diam_bottom_in_cm\": 0.68, \"diam_top_in_cm\": null}, {\"main_stem_length_in_cm\": 40.0, \"total_meja\": 0, \"infested\": 0, \"tip_of_stem_broken\": 1, \"side_branches_in_cm\": null, \"total_number_adults\": 0, \"stem_diam_bottom_in_cm\": 0.28, \"diam_top_in_cm\": null}, {\"main_stem_length_in_cm\": 34.0, \"total_meja\": 0, \"infested\": 0, \"tip_of_stem_broken\": 1, \"side_branches_in_cm\": null, \"total_number_adults\": 0, \"stem_diam_bottom_in_cm\": 0.34, \"diam_top_in_cm\": null}, {\"main_stem_length_in_cm\": 43.0, \"total_meja\": 0, \"infested\": 0, \"tip_of_stem_broken\": 1, \"side_branches_in_cm\": null, \"total_number_adults\": 0, \"stem_diam_bottom_in_cm\": 0.6, \"diam_top_in_cm\": null}, {\"main_stem_length_in_cm\": 17.0, \"total_meja\": 0, \"infested\": 0, \"tip_of_stem_broken\": 1, \"side_branches_in_cm\": null, \"total_number_adults\": 0, \"stem_diam_bottom_in_cm\": 0.27, \"diam_top_in_cm\": null}, {\"main_stem_length_in_cm\": 32.0, \"total_meja\": 0, \"infested\": 0, \"tip_of_stem_broken\": 1, \"side_branches_in_cm\": 87.0, \"total_number_adults\": 0, \"stem_diam_bottom_in_cm\": 0.75, \"diam_top_in_cm\": null}, {\"main_stem_length_in_cm\": 53.0, \"total_meja\": 0, \"infested\": 0, \"tip_of_stem_broken\": 1, \"side_branches_in_cm\": null, \"total_number_adults\": 0, \"stem_diam_bottom_in_cm\": 0.5, \"diam_top_in_cm\": null}, {\"main_stem_length_in_cm\": 41.0, \"total_meja\": 0, \"infested\": 0, \"tip_of_stem_broken\": 1, \"side_branches_in_cm\": null, \"total_number_adults\": 0, \"stem_diam_bottom_in_cm\": 0.32, \"diam_top_in_cm\": null}, {\"main_stem_length_in_cm\": 27.0, \"total_meja\": 0, \"infested\": 0, \"tip_of_stem_broken\": 1, \"side_branches_in_cm\": null, \"total_number_adults\": 0, \"stem_diam_bottom_in_cm\": 0.33, \"diam_top_in_cm\": null}, {\"main_stem_length_in_cm\": 31.0, \"total_meja\": 0, \"infested\": 0, \"tip_of_stem_broken\": 1, \"side_branches_in_cm\": null, \"total_number_adults\": 0, \"stem_diam_bottom_in_cm\": 0.41, \"diam_top_in_cm\": null}, {\"main_stem_length_in_cm\": 39.0, \"total_meja\": 0, \"infested\": 0, \"tip_of_stem_broken\": 1, \"side_branches_in_cm\": 79.0, \"total_number_adults\": 0, \"stem_diam_bottom_in_cm\": 0.63, \"diam_top_in_cm\": null}, {\"main_stem_length_in_cm\": 70.0, \"total_meja\": 0, \"infested\": 0, \"tip_of_stem_broken\": 1, \"side_branches_in_cm\": 116.0, \"total_number_adults\": 0, \"stem_diam_bottom_in_cm\": 0.91, \"diam_top_in_cm\": null}, {\"main_stem_length_in_cm\": 74.0, \"total_meja\": 0, \"infested\": 0, \"tip_of_stem_broken\": 1, \"side_branches_in_cm\": null, \"total_number_adults\": 0, \"stem_diam_bottom_in_cm\": 0.38, \"diam_top_in_cm\": null}, {\"main_stem_length_in_cm\": 46.0, \"total_meja\": 0, \"infested\": 0, \"tip_of_stem_broken\": 1, \"side_branches_in_cm\": null, \"total_number_adults\": 0, \"stem_diam_bottom_in_cm\": 0.55, \"diam_top_in_cm\": null}, {\"main_stem_length_in_cm\": 49.0, \"total_meja\": 0, \"infested\": 0, \"tip_of_stem_broken\": 1, \"side_branches_in_cm\": null, \"total_number_adults\": 0, \"stem_diam_bottom_in_cm\": 0.43, \"diam_top_in_cm\": null}, {\"main_stem_length_in_cm\": 61.0, \"total_meja\": 0, \"infested\": 0, \"tip_of_stem_broken\": 1, \"side_branches_in_cm\": null, \"total_number_adults\": 0, \"stem_diam_bottom_in_cm\": 0.63, \"diam_top_in_cm\": null}, {\"main_stem_length_in_cm\": 44.0, \"total_meja\": 0, \"infested\": 0, \"tip_of_stem_broken\": 1, \"side_branches_in_cm\": null, \"total_number_adults\": 0, \"stem_diam_bottom_in_cm\": 0.57, \"diam_top_in_cm\": null}, {\"main_stem_length_in_cm\": 60.0, \"total_meja\": 0, \"infested\": 0, \"tip_of_stem_broken\": 1, \"side_branches_in_cm\": null, \"total_number_adults\": 0, \"stem_diam_bottom_in_cm\": 0.37, \"diam_top_in_cm\": null}, {\"main_stem_length_in_cm\": 58.0, \"total_meja\": 0, \"infested\": 0, \"tip_of_stem_broken\": 1, \"side_branches_in_cm\": 128.0, \"total_number_adults\": 0, \"stem_diam_bottom_in_cm\": 0.76, \"diam_top_in_cm\": null}, {\"main_stem_length_in_cm\": 52.0, \"total_meja\": 0, \"infested\": 0, \"tip_of_stem_broken\": 1, \"side_branches_in_cm\": null, \"total_number_adults\": 0, \"stem_diam_bottom_in_cm\": 0.61, \"diam_top_in_cm\": null}, {\"main_stem_length_in_cm\": 50.0, \"total_meja\": 0, \"infested\": 0, \"tip_of_stem_broken\": 1, \"side_branches_in_cm\": null, \"total_number_adults\": 0, \"stem_diam_bottom_in_cm\": 0.76, \"diam_top_in_cm\": null}, {\"main_stem_length_in_cm\": 42.0, \"total_meja\": 0, \"infested\": 0, \"tip_of_stem_broken\": 1, \"side_branches_in_cm\": null, \"total_number_adults\": 0, \"stem_diam_bottom_in_cm\": 0.59, \"diam_top_in_cm\": null}, {\"main_stem_length_in_cm\": 48.0, \"total_meja\": 0, \"infested\": 0, \"tip_of_stem_broken\": 1, \"side_branches_in_cm\": null, \"total_number_adults\": 0, \"stem_diam_bottom_in_cm\": 0.66, \"diam_top_in_cm\": null}, {\"main_stem_length_in_cm\": 33.0, \"total_meja\": 0, \"infested\": 0, \"tip_of_stem_broken\": 1, \"side_branches_in_cm\": null, \"total_number_adults\": 0, \"stem_diam_bottom_in_cm\": 0.37, \"diam_top_in_cm\": null}, {\"main_stem_length_in_cm\": 59.0, \"total_meja\": 0, \"infested\": 0, \"tip_of_stem_broken\": 1, \"side_branches_in_cm\": null, \"total_number_adults\": 0, \"stem_diam_bottom_in_cm\": 0.79, \"diam_top_in_cm\": null}, {\"main_stem_length_in_cm\": 48.0, \"total_meja\": 0, \"infested\": 0, \"tip_of_stem_broken\": 1, \"side_branches_in_cm\": null, \"total_number_adults\": 0, \"stem_diam_bottom_in_cm\": 0.66, \"diam_top_in_cm\": null}, {\"main_stem_length_in_cm\": 41.0, \"total_meja\": 0, \"infested\": 0, \"tip_of_stem_broken\": 1, \"side_branches_in_cm\": null, \"total_number_adults\": 0, \"stem_diam_bottom_in_cm\": 0.51, \"diam_top_in_cm\": null}, {\"main_stem_length_in_cm\": 28.0, \"total_meja\": 0, \"infested\": 0, \"tip_of_stem_broken\": 1, \"side_branches_in_cm\": 32.0, \"total_number_adults\": 0, \"stem_diam_bottom_in_cm\": 0.38, \"diam_top_in_cm\": null}, {\"main_stem_length_in_cm\": 57.0, \"total_meja\": 0, \"infested\": 0, \"tip_of_stem_broken\": 1, \"side_branches_in_cm\": null, \"total_number_adults\": 0, \"stem_diam_bottom_in_cm\": 0.56, \"diam_top_in_cm\": null}, {\"main_stem_length_in_cm\": 34.0, \"total_meja\": 0, \"infested\": 0, \"tip_of_stem_broken\": 1, \"side_branches_in_cm\": 37.0, \"total_number_adults\": 0, \"stem_diam_bottom_in_cm\": 0.58, \"diam_top_in_cm\": null}, {\"main_stem_length_in_cm\": 46.0, \"total_meja\": 0, \"infested\": 0, \"tip_of_stem_broken\": 1, \"side_branches_in_cm\": null, \"total_number_adults\": 0, \"stem_diam_bottom_in_cm\": 0.68, \"diam_top_in_cm\": null}, {\"main_stem_length_in_cm\": 49.0, \"total_meja\": 0, \"infested\": 0, \"tip_of_stem_broken\": 1, \"side_branches_in_cm\": 13.0, \"total_number_adults\": 0, \"stem_diam_bottom_in_cm\": 0.49, \"diam_top_in_cm\": null}, {\"main_stem_length_in_cm\": 34.0, \"total_meja\": 0, \"infested\": 0, \"tip_of_stem_broken\": 1, \"side_branches_in_cm\": null, \"total_number_adults\": 0, \"stem_diam_bottom_in_cm\": 0.54, \"diam_top_in_cm\": null}, {\"main_stem_length_in_cm\": 36.0, \"total_meja\": 0, \"infested\": 0, \"tip_of_stem_broken\": 1, \"side_branches_in_cm\": null, \"total_number_adults\": 0, \"stem_diam_bottom_in_cm\": 0.51, \"diam_top_in_cm\": null}, {\"main_stem_length_in_cm\": 45.0, \"total_meja\": 0, \"infested\": 0, \"tip_of_stem_broken\": 1, \"side_branches_in_cm\": null, \"total_number_adults\": 0, \"stem_diam_bottom_in_cm\": 0.41, \"diam_top_in_cm\": null}, {\"main_stem_length_in_cm\": 35.0, \"total_meja\": 0, \"infested\": 0, \"tip_of_stem_broken\": 1, \"side_branches_in_cm\": null, \"total_number_adults\": 0, \"stem_diam_bottom_in_cm\": 0.63, \"diam_top_in_cm\": null}, {\"main_stem_length_in_cm\": 33.0, \"total_meja\": 0, \"infested\": 0, \"tip_of_stem_broken\": 1, \"side_branches_in_cm\": null, \"total_number_adults\": 0, \"stem_diam_bottom_in_cm\": 0.52, \"diam_top_in_cm\": null}, {\"main_stem_length_in_cm\": 27.0, \"total_meja\": 4, \"infested\": 1, \"tip_of_stem_broken\": 1, \"side_branches_in_cm\": null, \"total_number_adults\": 0, \"stem_diam_bottom_in_cm\": 0.26, \"diam_top_in_cm\": null}, {\"main_stem_length_in_cm\": 28.0, \"total_meja\": 0, \"infested\": 0, \"tip_of_stem_broken\": 1, \"side_branches_in_cm\": null, \"total_number_adults\": 0, \"stem_diam_bottom_in_cm\": 0.45, \"diam_top_in_cm\": null}, {\"main_stem_length_in_cm\": 32.0, \"total_meja\": 0, \"infested\": 0, \"tip_of_stem_broken\": 1, \"side_branches_in_cm\": null, \"total_number_adults\": 0, \"stem_diam_bottom_in_cm\": 0.62, \"diam_top_in_cm\": null}, {\"main_stem_length_in_cm\": 33.0, \"total_meja\": 0, \"infested\": 0, \"tip_of_stem_broken\": 1, \"side_branches_in_cm\": null, \"total_number_adults\": 0, \"stem_diam_bottom_in_cm\": 0.41, \"diam_top_in_cm\": null}, {\"main_stem_length_in_cm\": 32.0, \"total_meja\": 0, \"infested\": 0, \"tip_of_stem_broken\": 1, \"side_branches_in_cm\": null, \"total_number_adults\": 0, \"stem_diam_bottom_in_cm\": 0.49, \"diam_top_in_cm\": null}, {\"main_stem_length_in_cm\": 17.0, \"total_meja\": 0, \"infested\": 0, \"tip_of_stem_broken\": 1, \"side_branches_in_cm\": null, \"total_number_adults\": 0, \"stem_diam_bottom_in_cm\": 0.35, \"diam_top_in_cm\": null}, {\"main_stem_length_in_cm\": 22.0, \"total_meja\": 0, \"infested\": 0, \"tip_of_stem_broken\": 1, \"side_branches_in_cm\": null, \"total_number_adults\": 0, \"stem_diam_bottom_in_cm\": 0.29, \"diam_top_in_cm\": null}, {\"main_stem_length_in_cm\": 13.0, \"total_meja\": 0, \"infested\": 0, \"tip_of_stem_broken\": 1, \"side_branches_in_cm\": null, \"total_number_adults\": 0, \"stem_diam_bottom_in_cm\": 0.23, \"diam_top_in_cm\": null}, {\"main_stem_length_in_cm\": 24.0, \"total_meja\": 0, \"infested\": 0, \"tip_of_stem_broken\": 1, \"side_branches_in_cm\": null, \"total_number_adults\": 0, \"stem_diam_bottom_in_cm\": 0.31, \"diam_top_in_cm\": null}, {\"main_stem_length_in_cm\": 38.0, \"total_meja\": 0, \"infested\": 0, \"tip_of_stem_broken\": 1, \"side_branches_in_cm\": null, \"total_number_adults\": 0, \"stem_diam_bottom_in_cm\": 0.45, \"diam_top_in_cm\": null}, {\"main_stem_length_in_cm\": 77.0, \"total_meja\": 0, \"infested\": 0, \"tip_of_stem_broken\": 1, \"side_branches_in_cm\": null, \"total_number_adults\": 0, \"stem_diam_bottom_in_cm\": 0.6, \"diam_top_in_cm\": null}, {\"main_stem_length_in_cm\": 84.0, \"total_meja\": 0, \"infested\": 0, \"tip_of_stem_broken\": 1, \"side_branches_in_cm\": null, \"total_number_adults\": 0, \"stem_diam_bottom_in_cm\": 0.58, \"diam_top_in_cm\": null}, {\"main_stem_length_in_cm\": 28.0, \"total_meja\": 0, \"infested\": 0, \"tip_of_stem_broken\": 1, \"side_branches_in_cm\": null, \"total_number_adults\": 0, \"stem_diam_bottom_in_cm\": 0.47, \"diam_top_in_cm\": null}, {\"main_stem_length_in_cm\": 28.0, \"total_meja\": 1, \"infested\": 1, \"tip_of_stem_broken\": 1, \"side_branches_in_cm\": 28.0, \"total_number_adults\": 0, \"stem_diam_bottom_in_cm\": 0.48, \"diam_top_in_cm\": null}, {\"main_stem_length_in_cm\": 36.0, \"total_meja\": 0, \"infested\": 0, \"tip_of_stem_broken\": 1, \"side_branches_in_cm\": null, \"total_number_adults\": 0, \"stem_diam_bottom_in_cm\": 0.35, \"diam_top_in_cm\": null}, {\"main_stem_length_in_cm\": 29.0, \"total_meja\": 0, \"infested\": 0, \"tip_of_stem_broken\": 1, \"side_branches_in_cm\": null, \"total_number_adults\": 0, \"stem_diam_bottom_in_cm\": 0.39, \"diam_top_in_cm\": null}, {\"main_stem_length_in_cm\": 23.0, \"total_meja\": 0, \"infested\": 0, \"tip_of_stem_broken\": 1, \"side_branches_in_cm\": 16.0, \"total_number_adults\": 0, \"stem_diam_bottom_in_cm\": 0.46, \"diam_top_in_cm\": null}, {\"main_stem_length_in_cm\": 18.0, \"total_meja\": 0, \"infested\": 0, \"tip_of_stem_broken\": 1, \"side_branches_in_cm\": null, \"total_number_adults\": 0, \"stem_diam_bottom_in_cm\": 0.36, \"diam_top_in_cm\": null}, {\"main_stem_length_in_cm\": 54.0, \"total_meja\": 6, \"infested\": 1, \"tip_of_stem_broken\": 1, \"side_branches_in_cm\": null, \"total_number_adults\": 0, \"stem_diam_bottom_in_cm\": 0.77, \"diam_top_in_cm\": null}, {\"main_stem_length_in_cm\": 34.0, \"total_meja\": 2, \"infested\": 1, \"tip_of_stem_broken\": 1, \"side_branches_in_cm\": null, \"total_number_adults\": 0, \"stem_diam_bottom_in_cm\": 0.4, \"diam_top_in_cm\": null}, {\"main_stem_length_in_cm\": 30.0, \"total_meja\": 0, \"infested\": 0, \"tip_of_stem_broken\": 1, \"side_branches_in_cm\": null, \"total_number_adults\": 0, \"stem_diam_bottom_in_cm\": 0.45, \"diam_top_in_cm\": null}, {\"main_stem_length_in_cm\": 10.0, \"total_meja\": 0, \"infested\": 0, \"tip_of_stem_broken\": 1, \"side_branches_in_cm\": null, \"total_number_adults\": 0, \"stem_diam_bottom_in_cm\": 1.08, \"diam_top_in_cm\": null}, {\"main_stem_length_in_cm\": 38.0, \"total_meja\": 0, \"infested\": 0, \"tip_of_stem_broken\": 1, \"side_branches_in_cm\": null, \"total_number_adults\": 0, \"stem_diam_bottom_in_cm\": 0.3, \"diam_top_in_cm\": null}, {\"main_stem_length_in_cm\": 31.0, \"total_meja\": 0, \"infested\": 0, \"tip_of_stem_broken\": 1, \"side_branches_in_cm\": null, \"total_number_adults\": 0, \"stem_diam_bottom_in_cm\": 0.4, \"diam_top_in_cm\": null}, {\"main_stem_length_in_cm\": 47.0, \"total_meja\": 0, \"infested\": 0, \"tip_of_stem_broken\": 1, \"side_branches_in_cm\": null, \"total_number_adults\": 0, \"stem_diam_bottom_in_cm\": 0.57, \"diam_top_in_cm\": null}, {\"main_stem_length_in_cm\": 32.0, \"total_meja\": 0, \"infested\": 0, \"tip_of_stem_broken\": 1, \"side_branches_in_cm\": null, \"total_number_adults\": 0, \"stem_diam_bottom_in_cm\": 0.52, \"diam_top_in_cm\": null}, {\"main_stem_length_in_cm\": 73.0, \"total_meja\": 0, \"infested\": 0, \"tip_of_stem_broken\": 1, \"side_branches_in_cm\": null, \"total_number_adults\": 0, \"stem_diam_bottom_in_cm\": 0.5, \"diam_top_in_cm\": null}, {\"main_stem_length_in_cm\": 68.0, \"total_meja\": 0, \"infested\": 0, \"tip_of_stem_broken\": 1, \"side_branches_in_cm\": 23.0, \"total_number_adults\": 0, \"stem_diam_bottom_in_cm\": 0.88, \"diam_top_in_cm\": null}, {\"main_stem_length_in_cm\": 27.0, \"total_meja\": 0, \"infested\": 0, \"tip_of_stem_broken\": 1, \"side_branches_in_cm\": null, \"total_number_adults\": 0, \"stem_diam_bottom_in_cm\": 0.3, \"diam_top_in_cm\": null}, {\"main_stem_length_in_cm\": 64.0, \"total_meja\": 0, \"infested\": 0, \"tip_of_stem_broken\": 1, \"side_branches_in_cm\": 129.0, \"total_number_adults\": 0, \"stem_diam_bottom_in_cm\": 0.76, \"diam_top_in_cm\": null}, {\"main_stem_length_in_cm\": 65.0, \"total_meja\": 0, \"infested\": 0, \"tip_of_stem_broken\": 1, \"side_branches_in_cm\": null, \"total_number_adults\": 0, \"stem_diam_bottom_in_cm\": 0.73, \"diam_top_in_cm\": null}, {\"main_stem_length_in_cm\": 61.0, \"total_meja\": 0, \"infested\": 0, \"tip_of_stem_broken\": 1, \"side_branches_in_cm\": 28.0, \"total_number_adults\": 0, \"stem_diam_bottom_in_cm\": 0.56, \"diam_top_in_cm\": null}, {\"main_stem_length_in_cm\": 30.0, \"total_meja\": 0, \"infested\": 0, \"tip_of_stem_broken\": 1, \"side_branches_in_cm\": null, \"total_number_adults\": 0, \"stem_diam_bottom_in_cm\": 0.34, \"diam_top_in_cm\": null}, {\"main_stem_length_in_cm\": 49.0, \"total_meja\": 0, \"infested\": 0, \"tip_of_stem_broken\": 1, \"side_branches_in_cm\": null, \"total_number_adults\": 0, \"stem_diam_bottom_in_cm\": 0.48, \"diam_top_in_cm\": null}, {\"main_stem_length_in_cm\": 28.0, \"total_meja\": 0, \"infested\": 0, \"tip_of_stem_broken\": 1, \"side_branches_in_cm\": null, \"total_number_adults\": 0, \"stem_diam_bottom_in_cm\": 0.35, \"diam_top_in_cm\": null}, {\"main_stem_length_in_cm\": 51.0, \"total_meja\": 0, \"infested\": 0, \"tip_of_stem_broken\": 1, \"side_branches_in_cm\": null, \"total_number_adults\": 0, \"stem_diam_bottom_in_cm\": 0.44, \"diam_top_in_cm\": null}, {\"main_stem_length_in_cm\": 21.0, \"total_meja\": 0, \"infested\": 0, \"tip_of_stem_broken\": 1, \"side_branches_in_cm\": null, \"total_number_adults\": 0, \"stem_diam_bottom_in_cm\": 0.36, \"diam_top_in_cm\": null}, {\"main_stem_length_in_cm\": 44.0, \"total_meja\": 0, \"infested\": 0, \"tip_of_stem_broken\": 1, \"side_branches_in_cm\": null, \"total_number_adults\": 0, \"stem_diam_bottom_in_cm\": 0.51, \"diam_top_in_cm\": null}, {\"main_stem_length_in_cm\": 49.0, \"total_meja\": 0, \"infested\": 0, \"tip_of_stem_broken\": 1, \"side_branches_in_cm\": null, \"total_number_adults\": 0, \"stem_diam_bottom_in_cm\": 0.7, \"diam_top_in_cm\": null}, {\"main_stem_length_in_cm\": 41.0, \"total_meja\": 0, \"infested\": 0, \"tip_of_stem_broken\": 1, \"side_branches_in_cm\": null, \"total_number_adults\": 0, \"stem_diam_bottom_in_cm\": 0.34, \"diam_top_in_cm\": null}, {\"main_stem_length_in_cm\": 44.0, \"total_meja\": 0, \"infested\": 0, \"tip_of_stem_broken\": 1, \"side_branches_in_cm\": null, \"total_number_adults\": 0, \"stem_diam_bottom_in_cm\": 0.37, \"diam_top_in_cm\": null}, {\"main_stem_length_in_cm\": 40.0, \"total_meja\": 0, \"infested\": 0, \"tip_of_stem_broken\": 1, \"side_branches_in_cm\": 25.0, \"total_number_adults\": 0, \"stem_diam_bottom_in_cm\": 0.52, \"diam_top_in_cm\": null}, {\"main_stem_length_in_cm\": 54.0, \"total_meja\": 0, \"infested\": 0, \"tip_of_stem_broken\": 1, \"side_branches_in_cm\": null, \"total_number_adults\": 0, \"stem_diam_bottom_in_cm\": 0.36, \"diam_top_in_cm\": null}, {\"main_stem_length_in_cm\": 42.0, \"total_meja\": 0, \"infested\": 0, \"tip_of_stem_broken\": 1, \"side_branches_in_cm\": null, \"total_number_adults\": 0, \"stem_diam_bottom_in_cm\": 0.27, \"diam_top_in_cm\": null}, {\"main_stem_length_in_cm\": 22.0, \"total_meja\": 0, \"infested\": 0, \"tip_of_stem_broken\": 1, \"side_branches_in_cm\": null, \"total_number_adults\": 0, \"stem_diam_bottom_in_cm\": 0.29, \"diam_top_in_cm\": null}, {\"main_stem_length_in_cm\": 27.0, \"total_meja\": 0, \"infested\": 0, \"tip_of_stem_broken\": 1, \"side_branches_in_cm\": null, \"total_number_adults\": 0, \"stem_diam_bottom_in_cm\": 0.38, \"diam_top_in_cm\": null}, {\"main_stem_length_in_cm\": 52.0, \"total_meja\": 0, \"infested\": 0, \"tip_of_stem_broken\": 1, \"side_branches_in_cm\": null, \"total_number_adults\": 0, \"stem_diam_bottom_in_cm\": 0.68, \"diam_top_in_cm\": null}, {\"main_stem_length_in_cm\": 57.0, \"total_meja\": 0, \"infested\": 0, \"tip_of_stem_broken\": 1, \"side_branches_in_cm\": null, \"total_number_adults\": 0, \"stem_diam_bottom_in_cm\": 0.76, \"diam_top_in_cm\": null}, {\"main_stem_length_in_cm\": 67.0, \"total_meja\": 0, \"infested\": 0, \"tip_of_stem_broken\": 1, \"side_branches_in_cm\": 30.0, \"total_number_adults\": 0, \"stem_diam_bottom_in_cm\": 0.92, \"diam_top_in_cm\": null}, {\"main_stem_length_in_cm\": 30.0, \"total_meja\": 0, \"infested\": 0, \"tip_of_stem_broken\": 1, \"side_branches_in_cm\": null, \"total_number_adults\": 0, \"stem_diam_bottom_in_cm\": 0.53, \"diam_top_in_cm\": null}, {\"main_stem_length_in_cm\": 64.0, \"total_meja\": 0, \"infested\": 0, \"tip_of_stem_broken\": 1, \"side_branches_in_cm\": 41.0, \"total_number_adults\": 0, \"stem_diam_bottom_in_cm\": 0.59, \"diam_top_in_cm\": null}, {\"main_stem_length_in_cm\": 57.0, \"total_meja\": 0, \"infested\": 0, \"tip_of_stem_broken\": 1, \"side_branches_in_cm\": null, \"total_number_adults\": 0, \"stem_diam_bottom_in_cm\": 0.67, \"diam_top_in_cm\": null}, {\"main_stem_length_in_cm\": 41.0, \"total_meja\": 0, \"infested\": 0, \"tip_of_stem_broken\": 1, \"side_branches_in_cm\": 9.0, \"total_number_adults\": 0, \"stem_diam_bottom_in_cm\": 0.6, \"diam_top_in_cm\": null}, {\"main_stem_length_in_cm\": 46.0, \"total_meja\": 0, \"infested\": 0, \"tip_of_stem_broken\": 1, \"side_branches_in_cm\": null, \"total_number_adults\": 0, \"stem_diam_bottom_in_cm\": 0.65, \"diam_top_in_cm\": null}, {\"main_stem_length_in_cm\": 59.0, \"total_meja\": 0, \"infested\": 0, \"tip_of_stem_broken\": 1, \"side_branches_in_cm\": null, \"total_number_adults\": 0, \"stem_diam_bottom_in_cm\": 0.54, \"diam_top_in_cm\": null}, {\"main_stem_length_in_cm\": 62.0, \"total_meja\": 0, \"infested\": 0, \"tip_of_stem_broken\": 1, \"side_branches_in_cm\": 35.0, \"total_number_adults\": 0, \"stem_diam_bottom_in_cm\": 0.67, \"diam_top_in_cm\": null}, {\"main_stem_length_in_cm\": 67.0, \"total_meja\": 0, \"infested\": 0, \"tip_of_stem_broken\": 1, \"side_branches_in_cm\": 86.0, \"total_number_adults\": 0, \"stem_diam_bottom_in_cm\": 0.62, \"diam_top_in_cm\": null}, {\"main_stem_length_in_cm\": 63.0, \"total_meja\": 0, \"infested\": 0, \"tip_of_stem_broken\": 1, \"side_branches_in_cm\": 47.0, \"total_number_adults\": 0, \"stem_diam_bottom_in_cm\": 0.81, \"diam_top_in_cm\": null}, {\"main_stem_length_in_cm\": 44.0, \"total_meja\": 0, \"infested\": 0, \"tip_of_stem_broken\": 1, \"side_branches_in_cm\": 33.0, \"total_number_adults\": 0, \"stem_diam_bottom_in_cm\": 0.62, \"diam_top_in_cm\": null}, {\"main_stem_length_in_cm\": 43.0, \"total_meja\": 0, \"infested\": 0, \"tip_of_stem_broken\": 1, \"side_branches_in_cm\": null, \"total_number_adults\": 0, \"stem_diam_bottom_in_cm\": 0.48, \"diam_top_in_cm\": null}, {\"main_stem_length_in_cm\": 23.0, \"total_meja\": 0, \"infested\": 0, \"tip_of_stem_broken\": 1, \"side_branches_in_cm\": null, \"total_number_adults\": 0, \"stem_diam_bottom_in_cm\": 0.34, \"diam_top_in_cm\": null}, {\"main_stem_length_in_cm\": 47.0, \"total_meja\": 0, \"infested\": 0, \"tip_of_stem_broken\": 1, \"side_branches_in_cm\": 22.0, \"total_number_adults\": 0, \"stem_diam_bottom_in_cm\": 0.53, \"diam_top_in_cm\": null}, {\"main_stem_length_in_cm\": 31.0, \"total_meja\": 0, \"infested\": 0, \"tip_of_stem_broken\": 1, \"side_branches_in_cm\": null, \"total_number_adults\": 0, \"stem_diam_bottom_in_cm\": 0.39, \"diam_top_in_cm\": null}, {\"main_stem_length_in_cm\": 41.0, \"total_meja\": 0, \"infested\": 0, \"tip_of_stem_broken\": 1, \"side_branches_in_cm\": null, \"total_number_adults\": 0, \"stem_diam_bottom_in_cm\": 0.48, \"diam_top_in_cm\": null}, {\"main_stem_length_in_cm\": 64.0, \"total_meja\": 0, \"infested\": 0, \"tip_of_stem_broken\": 1, \"side_branches_in_cm\": null, \"total_number_adults\": 0, \"stem_diam_bottom_in_cm\": 0.75, \"diam_top_in_cm\": null}, {\"main_stem_length_in_cm\": 36.0, \"total_meja\": 0, \"infested\": 0, \"tip_of_stem_broken\": 1, \"side_branches_in_cm\": null, \"total_number_adults\": 0, \"stem_diam_bottom_in_cm\": 0.31, \"diam_top_in_cm\": null}, {\"main_stem_length_in_cm\": 25.0, \"total_meja\": 0, \"infested\": 0, \"tip_of_stem_broken\": 1, \"side_branches_in_cm\": null, \"total_number_adults\": 0, \"stem_diam_bottom_in_cm\": 0.59, \"diam_top_in_cm\": null}, {\"main_stem_length_in_cm\": 47.0, \"total_meja\": 0, \"infested\": 0, \"tip_of_stem_broken\": 1, \"side_branches_in_cm\": null, \"total_number_adults\": 0, \"stem_diam_bottom_in_cm\": 0.53, \"diam_top_in_cm\": null}, {\"main_stem_length_in_cm\": 38.0, \"total_meja\": 0, \"infested\": 0, \"tip_of_stem_broken\": 1, \"side_branches_in_cm\": 46.0, \"total_number_adults\": 0, \"stem_diam_bottom_in_cm\": 0.58, \"diam_top_in_cm\": null}, {\"main_stem_length_in_cm\": 25.0, \"total_meja\": 0, \"infested\": 0, \"tip_of_stem_broken\": 1, \"side_branches_in_cm\": null, \"total_number_adults\": 0, \"stem_diam_bottom_in_cm\": 0.33, \"diam_top_in_cm\": null}, {\"main_stem_length_in_cm\": 79.0, \"total_meja\": 0, \"infested\": 0, \"tip_of_stem_broken\": 1, \"side_branches_in_cm\": 50.0, \"total_number_adults\": 0, \"stem_diam_bottom_in_cm\": 0.73, \"diam_top_in_cm\": null}, {\"main_stem_length_in_cm\": 81.0, \"total_meja\": 0, \"infested\": 0, \"tip_of_stem_broken\": 1, \"side_branches_in_cm\": 45.0, \"total_number_adults\": 0, \"stem_diam_bottom_in_cm\": 0.75, \"diam_top_in_cm\": null}, {\"main_stem_length_in_cm\": 70.0, \"total_meja\": 0, \"infested\": 0, \"tip_of_stem_broken\": 1, \"side_branches_in_cm\": 76.0, \"total_number_adults\": 0, \"stem_diam_bottom_in_cm\": 0.68, \"diam_top_in_cm\": null}, {\"main_stem_length_in_cm\": 34.0, \"total_meja\": 0, \"infested\": 0, \"tip_of_stem_broken\": 1, \"side_branches_in_cm\": null, \"total_number_adults\": 0, \"stem_diam_bottom_in_cm\": 0.5, \"diam_top_in_cm\": null}, {\"main_stem_length_in_cm\": 39.0, \"total_meja\": 0, \"infested\": 0, \"tip_of_stem_broken\": 1, \"side_branches_in_cm\": 24.0, \"total_number_adults\": 0, \"stem_diam_bottom_in_cm\": 0.55, \"diam_top_in_cm\": null}, {\"main_stem_length_in_cm\": 62.0, \"total_meja\": 0, \"infested\": 0, \"tip_of_stem_broken\": 1, \"side_branches_in_cm\": null, \"total_number_adults\": 0, \"stem_diam_bottom_in_cm\": 0.48, \"diam_top_in_cm\": null}, {\"main_stem_length_in_cm\": 23.0, \"total_meja\": 0, \"infested\": 0, \"tip_of_stem_broken\": 1, \"side_branches_in_cm\": null, \"total_number_adults\": 0, \"stem_diam_bottom_in_cm\": 0.31, \"diam_top_in_cm\": null}, {\"main_stem_length_in_cm\": 26.0, \"total_meja\": 0, \"infested\": 0, \"tip_of_stem_broken\": 1, \"side_branches_in_cm\": null, \"total_number_adults\": 0, \"stem_diam_bottom_in_cm\": 0.31, \"diam_top_in_cm\": null}, {\"main_stem_length_in_cm\": 49.0, \"total_meja\": 0, \"infested\": 0, \"tip_of_stem_broken\": 1, \"side_branches_in_cm\": null, \"total_number_adults\": 0, \"stem_diam_bottom_in_cm\": 0.34, \"diam_top_in_cm\": null}, {\"main_stem_length_in_cm\": 54.0, \"total_meja\": 0, \"infested\": 0, \"tip_of_stem_broken\": 1, \"side_branches_in_cm\": 19.0, \"total_number_adults\": 0, \"stem_diam_bottom_in_cm\": 0.67, \"diam_top_in_cm\": null}, {\"main_stem_length_in_cm\": 57.0, \"total_meja\": 0, \"infested\": 0, \"tip_of_stem_broken\": 1, \"side_branches_in_cm\": 41.0, \"total_number_adults\": 0, \"stem_diam_bottom_in_cm\": 0.76, \"diam_top_in_cm\": null}, {\"main_stem_length_in_cm\": 66.0, \"total_meja\": 0, \"infested\": 0, \"tip_of_stem_broken\": 1, \"side_branches_in_cm\": 17.0, \"total_number_adults\": 0, \"stem_diam_bottom_in_cm\": 0.65, \"diam_top_in_cm\": null}, {\"main_stem_length_in_cm\": 70.0, \"total_meja\": 0, \"infested\": 0, \"tip_of_stem_broken\": 1, \"side_branches_in_cm\": 53.0, \"total_number_adults\": 0, \"stem_diam_bottom_in_cm\": 0.77, \"diam_top_in_cm\": null}, {\"main_stem_length_in_cm\": 54.0, \"total_meja\": 0, \"infested\": 0, \"tip_of_stem_broken\": 1, \"side_branches_in_cm\": null, \"total_number_adults\": 0, \"stem_diam_bottom_in_cm\": 0.4, \"diam_top_in_cm\": null}, {\"main_stem_length_in_cm\": 42.0, \"total_meja\": 0, \"infested\": 0, \"tip_of_stem_broken\": 1, \"side_branches_in_cm\": null, \"total_number_adults\": 0, \"stem_diam_bottom_in_cm\": 0.39, \"diam_top_in_cm\": null}, {\"main_stem_length_in_cm\": 30.0, \"total_meja\": 0, \"infested\": 0, \"tip_of_stem_broken\": 1, \"side_branches_in_cm\": null, \"total_number_adults\": 0, \"stem_diam_bottom_in_cm\": 0.35, \"diam_top_in_cm\": null}, {\"main_stem_length_in_cm\": 29.0, \"total_meja\": 0, \"infested\": 0, \"tip_of_stem_broken\": 1, \"side_branches_in_cm\": null, \"total_number_adults\": 0, \"stem_diam_bottom_in_cm\": 0.32, \"diam_top_in_cm\": null}, {\"main_stem_length_in_cm\": 31.0, \"total_meja\": 0, \"infested\": 0, \"tip_of_stem_broken\": 1, \"side_branches_in_cm\": null, \"total_number_adults\": 0, \"stem_diam_bottom_in_cm\": 0.39, \"diam_top_in_cm\": null}, {\"main_stem_length_in_cm\": 68.0, \"total_meja\": 0, \"infested\": 0, \"tip_of_stem_broken\": 1, \"side_branches_in_cm\": null, \"total_number_adults\": 0, \"stem_diam_bottom_in_cm\": 0.56, \"diam_top_in_cm\": null}, {\"main_stem_length_in_cm\": 78.0, \"total_meja\": 0, \"infested\": 0, \"tip_of_stem_broken\": 1, \"side_branches_in_cm\": null, \"total_number_adults\": 0, \"stem_diam_bottom_in_cm\": 0.9, \"diam_top_in_cm\": null}, {\"main_stem_length_in_cm\": 49.0, \"total_meja\": 0, \"infested\": 0, \"tip_of_stem_broken\": 1, \"side_branches_in_cm\": null, \"total_number_adults\": 0, \"stem_diam_bottom_in_cm\": 0.43, \"diam_top_in_cm\": null}, {\"main_stem_length_in_cm\": 52.0, \"total_meja\": 0, \"infested\": 0, \"tip_of_stem_broken\": 1, \"side_branches_in_cm\": null, \"total_number_adults\": 0, \"stem_diam_bottom_in_cm\": 0.66, \"diam_top_in_cm\": null}, {\"main_stem_length_in_cm\": 62.0, \"total_meja\": 0, \"infested\": 0, \"tip_of_stem_broken\": 1, \"side_branches_in_cm\": 58.0, \"total_number_adults\": 0, \"stem_diam_bottom_in_cm\": 0.87, \"diam_top_in_cm\": null}, {\"main_stem_length_in_cm\": 57.0, \"total_meja\": 0, \"infested\": 0, \"tip_of_stem_broken\": 1, \"side_branches_in_cm\": 83.0, \"total_number_adults\": 0, \"stem_diam_bottom_in_cm\": 0.67, \"diam_top_in_cm\": null}, {\"main_stem_length_in_cm\": 28.0, \"total_meja\": 0, \"infested\": 0, \"tip_of_stem_broken\": 1, \"side_branches_in_cm\": null, \"total_number_adults\": 0, \"stem_diam_bottom_in_cm\": 0.44, \"diam_top_in_cm\": null}, {\"main_stem_length_in_cm\": 32.0, \"total_meja\": 0, \"infested\": 0, \"tip_of_stem_broken\": 1, \"side_branches_in_cm\": null, \"total_number_adults\": 0, \"stem_diam_bottom_in_cm\": 0.44, \"diam_top_in_cm\": null}, {\"main_stem_length_in_cm\": 50.0, \"total_meja\": 0, \"infested\": 0, \"tip_of_stem_broken\": 1, \"side_branches_in_cm\": null, \"total_number_adults\": 0, \"stem_diam_bottom_in_cm\": 0.47, \"diam_top_in_cm\": null}, {\"main_stem_length_in_cm\": 35.0, \"total_meja\": 0, \"infested\": 0, \"tip_of_stem_broken\": 1, \"side_branches_in_cm\": null, \"total_number_adults\": 0, \"stem_diam_bottom_in_cm\": 0.34, \"diam_top_in_cm\": null}, {\"main_stem_length_in_cm\": 43.0, \"total_meja\": 0, \"infested\": 0, \"tip_of_stem_broken\": 1, \"side_branches_in_cm\": null, \"total_number_adults\": 0, \"stem_diam_bottom_in_cm\": 0.22, \"diam_top_in_cm\": null}, {\"main_stem_length_in_cm\": 34.0, \"total_meja\": 0, \"infested\": 0, \"tip_of_stem_broken\": 1, \"side_branches_in_cm\": null, \"total_number_adults\": 0, \"stem_diam_bottom_in_cm\": 0.3, \"diam_top_in_cm\": null}, {\"main_stem_length_in_cm\": 38.0, \"total_meja\": 0, \"infested\": 0, \"tip_of_stem_broken\": 1, \"side_branches_in_cm\": null, \"total_number_adults\": 0, \"stem_diam_bottom_in_cm\": 0.41, \"diam_top_in_cm\": null}, {\"main_stem_length_in_cm\": 46.0, \"total_meja\": 0, \"infested\": 0, \"tip_of_stem_broken\": 1, \"side_branches_in_cm\": 33.0, \"total_number_adults\": 0, \"stem_diam_bottom_in_cm\": 0.39, \"diam_top_in_cm\": null}, {\"main_stem_length_in_cm\": 69.0, \"total_meja\": 0, \"infested\": 0, \"tip_of_stem_broken\": 1, \"side_branches_in_cm\": 31.0, \"total_number_adults\": 0, \"stem_diam_bottom_in_cm\": 0.5, \"diam_top_in_cm\": null}, {\"main_stem_length_in_cm\": 36.0, \"total_meja\": 0, \"infested\": 0, \"tip_of_stem_broken\": 1, \"side_branches_in_cm\": null, \"total_number_adults\": 0, \"stem_diam_bottom_in_cm\": 0.27, \"diam_top_in_cm\": null}, {\"main_stem_length_in_cm\": 38.0, \"total_meja\": 0, \"infested\": 0, \"tip_of_stem_broken\": 1, \"side_branches_in_cm\": null, \"total_number_adults\": 0, \"stem_diam_bottom_in_cm\": 0.33, \"diam_top_in_cm\": null}, {\"main_stem_length_in_cm\": 38.0, \"total_meja\": 0, \"infested\": 0, \"tip_of_stem_broken\": 1, \"side_branches_in_cm\": null, \"total_number_adults\": 0, \"stem_diam_bottom_in_cm\": 0.29, \"diam_top_in_cm\": null}, {\"main_stem_length_in_cm\": 30.0, \"total_meja\": 0, \"infested\": 0, \"tip_of_stem_broken\": 1, \"side_branches_in_cm\": null, \"total_number_adults\": 0, \"stem_diam_bottom_in_cm\": 0.35, \"diam_top_in_cm\": null}, {\"main_stem_length_in_cm\": 29.0, \"total_meja\": 0, \"infested\": 0, \"tip_of_stem_broken\": 1, \"side_branches_in_cm\": null, \"total_number_adults\": 0, \"stem_diam_bottom_in_cm\": 0.34, \"diam_top_in_cm\": null}, {\"main_stem_length_in_cm\": 32.0, \"total_meja\": 0, \"infested\": 0, \"tip_of_stem_broken\": 1, \"side_branches_in_cm\": null, \"total_number_adults\": 0, \"stem_diam_bottom_in_cm\": 0.21, \"diam_top_in_cm\": null}, {\"main_stem_length_in_cm\": 67.0, \"total_meja\": 0, \"infested\": 0, \"tip_of_stem_broken\": 1, \"side_branches_in_cm\": null, \"total_number_adults\": 0, \"stem_diam_bottom_in_cm\": 0.64, \"diam_top_in_cm\": null}, {\"main_stem_length_in_cm\": 58.0, \"total_meja\": 0, \"infested\": 0, \"tip_of_stem_broken\": 1, \"side_branches_in_cm\": 44.0, \"total_number_adults\": 0, \"stem_diam_bottom_in_cm\": 0.77, \"diam_top_in_cm\": null}, {\"main_stem_length_in_cm\": 60.0, \"total_meja\": 0, \"infested\": 0, \"tip_of_stem_broken\": 1, \"side_branches_in_cm\": null, \"total_number_adults\": 0, \"stem_diam_bottom_in_cm\": 0.46, \"diam_top_in_cm\": null}, {\"main_stem_length_in_cm\": 49.0, \"total_meja\": 0, \"infested\": 0, \"tip_of_stem_broken\": 1, \"side_branches_in_cm\": null, \"total_number_adults\": 0, \"stem_diam_bottom_in_cm\": 0.48, \"diam_top_in_cm\": null}, {\"main_stem_length_in_cm\": 41.0, \"total_meja\": 0, \"infested\": 0, \"tip_of_stem_broken\": 1, \"side_branches_in_cm\": null, \"total_number_adults\": 0, \"stem_diam_bottom_in_cm\": 0.44, \"diam_top_in_cm\": null}, {\"main_stem_length_in_cm\": 67.0, \"total_meja\": 0, \"infested\": 0, \"tip_of_stem_broken\": 1, \"side_branches_in_cm\": 47.0, \"total_number_adults\": 0, \"stem_diam_bottom_in_cm\": 0.56, \"diam_top_in_cm\": null}, {\"main_stem_length_in_cm\": 36.0, \"total_meja\": 0, \"infested\": 0, \"tip_of_stem_broken\": 1, \"side_branches_in_cm\": null, \"total_number_adults\": 0, \"stem_diam_bottom_in_cm\": 0.36, \"diam_top_in_cm\": null}, {\"main_stem_length_in_cm\": 42.0, \"total_meja\": 0, \"infested\": 0, \"tip_of_stem_broken\": 1, \"side_branches_in_cm\": null, \"total_number_adults\": 0, \"stem_diam_bottom_in_cm\": 0.49, \"diam_top_in_cm\": null}, {\"main_stem_length_in_cm\": 46.0, \"total_meja\": 0, \"infested\": 0, \"tip_of_stem_broken\": 1, \"side_branches_in_cm\": null, \"total_number_adults\": 0, \"stem_diam_bottom_in_cm\": 0.55, \"diam_top_in_cm\": null}, {\"main_stem_length_in_cm\": 56.0, \"total_meja\": 0, \"infested\": 0, \"tip_of_stem_broken\": 1, \"side_branches_in_cm\": 18.0, \"total_number_adults\": 0, \"stem_diam_bottom_in_cm\": 0.68, \"diam_top_in_cm\": null}, {\"main_stem_length_in_cm\": 52.0, \"total_meja\": 0, \"infested\": 0, \"tip_of_stem_broken\": 1, \"side_branches_in_cm\": null, \"total_number_adults\": 0, \"stem_diam_bottom_in_cm\": 0.48, \"diam_top_in_cm\": null}, {\"main_stem_length_in_cm\": 36.0, \"total_meja\": 0, \"infested\": 0, \"tip_of_stem_broken\": 1, \"side_branches_in_cm\": null, \"total_number_adults\": 0, \"stem_diam_bottom_in_cm\": 0.31, \"diam_top_in_cm\": null}, {\"main_stem_length_in_cm\": 14.0, \"total_meja\": 0, \"infested\": 0, \"tip_of_stem_broken\": 1, \"side_branches_in_cm\": null, \"total_number_adults\": 0, \"stem_diam_bottom_in_cm\": 0.25, \"diam_top_in_cm\": null}, {\"main_stem_length_in_cm\": 59.0, \"total_meja\": 0, \"infested\": 0, \"tip_of_stem_broken\": 1, \"side_branches_in_cm\": 73.0, \"total_number_adults\": 0, \"stem_diam_bottom_in_cm\": 0.68, \"diam_top_in_cm\": null}, {\"main_stem_length_in_cm\": 55.0, \"total_meja\": 0, \"infested\": 0, \"tip_of_stem_broken\": 1, \"side_branches_in_cm\": 13.0, \"total_number_adults\": 0, \"stem_diam_bottom_in_cm\": 0.51, \"diam_top_in_cm\": null}, {\"main_stem_length_in_cm\": 26.0, \"total_meja\": 0, \"infested\": 0, \"tip_of_stem_broken\": 1, \"side_branches_in_cm\": null, \"total_number_adults\": 0, \"stem_diam_bottom_in_cm\": 0.35, \"diam_top_in_cm\": null}, {\"main_stem_length_in_cm\": 51.0, \"total_meja\": 0, \"infested\": 0, \"tip_of_stem_broken\": 1, \"side_branches_in_cm\": 46.0, \"total_number_adults\": 0, \"stem_diam_bottom_in_cm\": 0.65, \"diam_top_in_cm\": null}, {\"main_stem_length_in_cm\": 26.0, \"total_meja\": 0, \"infested\": 0, \"tip_of_stem_broken\": 1, \"side_branches_in_cm\": null, \"total_number_adults\": 0, \"stem_diam_bottom_in_cm\": 0.58, \"diam_top_in_cm\": null}, {\"main_stem_length_in_cm\": 41.0, \"total_meja\": 0, \"infested\": 0, \"tip_of_stem_broken\": 1, \"side_branches_in_cm\": null, \"total_number_adults\": 0, \"stem_diam_bottom_in_cm\": 0.53, \"diam_top_in_cm\": null}, {\"main_stem_length_in_cm\": 35.0, \"total_meja\": 0, \"infested\": 0, \"tip_of_stem_broken\": 1, \"side_branches_in_cm\": null, \"total_number_adults\": 0, \"stem_diam_bottom_in_cm\": 0.42, \"diam_top_in_cm\": null}, {\"main_stem_length_in_cm\": 57.0, \"total_meja\": 0, \"infested\": 0, \"tip_of_stem_broken\": 1, \"side_branches_in_cm\": null, \"total_number_adults\": 0, \"stem_diam_bottom_in_cm\": 0.43, \"diam_top_in_cm\": null}, {\"main_stem_length_in_cm\": 45.0, \"total_meja\": 0, \"infested\": 0, \"tip_of_stem_broken\": 1, \"side_branches_in_cm\": null, \"total_number_adults\": 0, \"stem_diam_bottom_in_cm\": 0.51, \"diam_top_in_cm\": null}, {\"main_stem_length_in_cm\": 48.0, \"total_meja\": 0, \"infested\": 0, \"tip_of_stem_broken\": 1, \"side_branches_in_cm\": null, \"total_number_adults\": 0, \"stem_diam_bottom_in_cm\": 0.42, \"diam_top_in_cm\": null}, {\"main_stem_length_in_cm\": 47.0, \"total_meja\": 0, \"infested\": 0, \"tip_of_stem_broken\": 1, \"side_branches_in_cm\": null, \"total_number_adults\": 0, \"stem_diam_bottom_in_cm\": 0.55, \"diam_top_in_cm\": null}, {\"main_stem_length_in_cm\": 66.0, \"total_meja\": 0, \"infested\": 0, \"tip_of_stem_broken\": 1, \"side_branches_in_cm\": null, \"total_number_adults\": 0, \"stem_diam_bottom_in_cm\": 0.65, \"diam_top_in_cm\": null}, {\"main_stem_length_in_cm\": 63.0, \"total_meja\": 0, \"infested\": 0, \"tip_of_stem_broken\": 1, \"side_branches_in_cm\": null, \"total_number_adults\": 0, \"stem_diam_bottom_in_cm\": 0.48, \"diam_top_in_cm\": null}, {\"main_stem_length_in_cm\": 52.0, \"total_meja\": 0, \"infested\": 0, \"tip_of_stem_broken\": 1, \"side_branches_in_cm\": null, \"total_number_adults\": 0, \"stem_diam_bottom_in_cm\": 0.43, \"diam_top_in_cm\": null}, {\"main_stem_length_in_cm\": 61.0, \"total_meja\": 0, \"infested\": 0, \"tip_of_stem_broken\": 1, \"side_branches_in_cm\": null, \"total_number_adults\": 0, \"stem_diam_bottom_in_cm\": 0.47, \"diam_top_in_cm\": null}, {\"main_stem_length_in_cm\": 44.0, \"total_meja\": 0, \"infested\": 0, \"tip_of_stem_broken\": 1, \"side_branches_in_cm\": 32.0, \"total_number_adults\": 0, \"stem_diam_bottom_in_cm\": 0.53, \"diam_top_in_cm\": null}, {\"main_stem_length_in_cm\": 55.0, \"total_meja\": 0, \"infested\": 0, \"tip_of_stem_broken\": 1, \"side_branches_in_cm\": null, \"total_number_adults\": 0, \"stem_diam_bottom_in_cm\": 0.51, \"diam_top_in_cm\": null}, {\"main_stem_length_in_cm\": 43.0, \"total_meja\": 0, \"infested\": 0, \"tip_of_stem_broken\": 1, \"side_branches_in_cm\": null, \"total_number_adults\": 0, \"stem_diam_bottom_in_cm\": 0.4, \"diam_top_in_cm\": null}, {\"main_stem_length_in_cm\": 40.0, \"total_meja\": 0, \"infested\": 0, \"tip_of_stem_broken\": 1, \"side_branches_in_cm\": null, \"total_number_adults\": 0, \"stem_diam_bottom_in_cm\": 0.3, \"diam_top_in_cm\": null}, {\"main_stem_length_in_cm\": 24.0, \"total_meja\": 0, \"infested\": 0, \"tip_of_stem_broken\": 1, \"side_branches_in_cm\": 66.0, \"total_number_adults\": 0, \"stem_diam_bottom_in_cm\": 0.4, \"diam_top_in_cm\": null}, {\"main_stem_length_in_cm\": 35.0, \"total_meja\": 0, \"infested\": 0, \"tip_of_stem_broken\": 1, \"side_branches_in_cm\": 59.0, \"total_number_adults\": 0, \"stem_diam_bottom_in_cm\": 0.42, \"diam_top_in_cm\": null}, {\"main_stem_length_in_cm\": 31.0, \"total_meja\": 0, \"infested\": 0, \"tip_of_stem_broken\": 1, \"side_branches_in_cm\": 22.0, \"total_number_adults\": 0, \"stem_diam_bottom_in_cm\": 0.53, \"diam_top_in_cm\": null}, {\"main_stem_length_in_cm\": 24.0, \"total_meja\": 0, \"infested\": 0, \"tip_of_stem_broken\": 1, \"side_branches_in_cm\": 60.0, \"total_number_adults\": 0, \"stem_diam_bottom_in_cm\": 0.6, \"diam_top_in_cm\": null}, {\"main_stem_length_in_cm\": 63.0, \"total_meja\": 0, \"infested\": 0, \"tip_of_stem_broken\": 1, \"side_branches_in_cm\": null, \"total_number_adults\": 0, \"stem_diam_bottom_in_cm\": 0.5, \"diam_top_in_cm\": null}, {\"main_stem_length_in_cm\": 58.0, \"total_meja\": 0, \"infested\": 0, \"tip_of_stem_broken\": 1, \"side_branches_in_cm\": 30.0, \"total_number_adults\": 0, \"stem_diam_bottom_in_cm\": 0.43, \"diam_top_in_cm\": null}, {\"main_stem_length_in_cm\": 32.0, \"total_meja\": 0, \"infested\": 0, \"tip_of_stem_broken\": 1, \"side_branches_in_cm\": 110.0, \"total_number_adults\": 0, \"stem_diam_bottom_in_cm\": 0.82, \"diam_top_in_cm\": null}, {\"main_stem_length_in_cm\": 31.0, \"total_meja\": 0, \"infested\": 0, \"tip_of_stem_broken\": 1, \"side_branches_in_cm\": 53.0, \"total_number_adults\": 0, \"stem_diam_bottom_in_cm\": 0.44, \"diam_top_in_cm\": null}, {\"main_stem_length_in_cm\": 34.0, \"total_meja\": 0, \"infested\": 0, \"tip_of_stem_broken\": 1, \"side_branches_in_cm\": null, \"total_number_adults\": 0, \"stem_diam_bottom_in_cm\": 0.47, \"diam_top_in_cm\": null}, {\"main_stem_length_in_cm\": 35.0, \"total_meja\": 0, \"infested\": 0, \"tip_of_stem_broken\": 1, \"side_branches_in_cm\": null, \"total_number_adults\": 0, \"stem_diam_bottom_in_cm\": 0.34, \"diam_top_in_cm\": null}, {\"main_stem_length_in_cm\": 48.0, \"total_meja\": 0, \"infested\": 0, \"tip_of_stem_broken\": 1, \"side_branches_in_cm\": null, \"total_number_adults\": 0, \"stem_diam_bottom_in_cm\": 0.34, \"diam_top_in_cm\": null}, {\"main_stem_length_in_cm\": 51.0, \"total_meja\": 0, \"infested\": 0, \"tip_of_stem_broken\": 1, \"side_branches_in_cm\": null, \"total_number_adults\": 0, \"stem_diam_bottom_in_cm\": 0.24, \"diam_top_in_cm\": null}, {\"main_stem_length_in_cm\": 42.0, \"total_meja\": 0, \"infested\": 0, \"tip_of_stem_broken\": 1, \"side_branches_in_cm\": null, \"total_number_adults\": 0, \"stem_diam_bottom_in_cm\": 0.31, \"diam_top_in_cm\": null}, {\"main_stem_length_in_cm\": 39.0, \"total_meja\": 0, \"infested\": 0, \"tip_of_stem_broken\": 1, \"side_branches_in_cm\": null, \"total_number_adults\": 0, \"stem_diam_bottom_in_cm\": 0.26, \"diam_top_in_cm\": null}, {\"main_stem_length_in_cm\": 31.0, \"total_meja\": 0, \"infested\": 0, \"tip_of_stem_broken\": 1, \"side_branches_in_cm\": 49.0, \"total_number_adults\": 0, \"stem_diam_bottom_in_cm\": 0.41, \"diam_top_in_cm\": null}, {\"main_stem_length_in_cm\": 50.0, \"total_meja\": 0, \"infested\": 0, \"tip_of_stem_broken\": 1, \"side_branches_in_cm\": null, \"total_number_adults\": 0, \"stem_diam_bottom_in_cm\": 0.52, \"diam_top_in_cm\": null}, {\"main_stem_length_in_cm\": 51.0, \"total_meja\": 0, \"infested\": 0, \"tip_of_stem_broken\": 1, \"side_branches_in_cm\": 55.0, \"total_number_adults\": 0, \"stem_diam_bottom_in_cm\": 0.61, \"diam_top_in_cm\": null}, {\"main_stem_length_in_cm\": 63.0, \"total_meja\": 0, \"infested\": 0, \"tip_of_stem_broken\": 1, \"side_branches_in_cm\": null, \"total_number_adults\": 0, \"stem_diam_bottom_in_cm\": 0.47, \"diam_top_in_cm\": null}, {\"main_stem_length_in_cm\": 35.0, \"total_meja\": 0, \"infested\": 0, \"tip_of_stem_broken\": 1, \"side_branches_in_cm\": 22.0, \"total_number_adults\": 0, \"stem_diam_bottom_in_cm\": 0.53, \"diam_top_in_cm\": null}, {\"main_stem_length_in_cm\": 51.0, \"total_meja\": 0, \"infested\": 0, \"tip_of_stem_broken\": 1, \"side_branches_in_cm\": null, \"total_number_adults\": 0, \"stem_diam_bottom_in_cm\": 0.62, \"diam_top_in_cm\": null}, {\"main_stem_length_in_cm\": 38.0, \"total_meja\": 0, \"infested\": 0, \"tip_of_stem_broken\": 1, \"side_branches_in_cm\": 41.0, \"total_number_adults\": 0, \"stem_diam_bottom_in_cm\": 0.37, \"diam_top_in_cm\": null}, {\"main_stem_length_in_cm\": 46.0, \"total_meja\": 0, \"infested\": 0, \"tip_of_stem_broken\": 1, \"side_branches_in_cm\": 42.0, \"total_number_adults\": 0, \"stem_diam_bottom_in_cm\": 0.54, \"diam_top_in_cm\": null}, {\"main_stem_length_in_cm\": 40.0, \"total_meja\": 0, \"infested\": 0, \"tip_of_stem_broken\": 1, \"side_branches_in_cm\": null, \"total_number_adults\": 0, \"stem_diam_bottom_in_cm\": 0.41, \"diam_top_in_cm\": null}, {\"main_stem_length_in_cm\": 56.0, \"total_meja\": 0, \"infested\": 0, \"tip_of_stem_broken\": 1, \"side_branches_in_cm\": null, \"total_number_adults\": 0, \"stem_diam_bottom_in_cm\": 0.44, \"diam_top_in_cm\": null}, {\"main_stem_length_in_cm\": 30.0, \"total_meja\": 0, \"infested\": 0, \"tip_of_stem_broken\": 1, \"side_branches_in_cm\": 222.0, \"total_number_adults\": 0, \"stem_diam_bottom_in_cm\": 0.74, \"diam_top_in_cm\": null}, {\"main_stem_length_in_cm\": 61.0, \"total_meja\": 0, \"infested\": 0, \"tip_of_stem_broken\": 1, \"side_branches_in_cm\": null, \"total_number_adults\": 0, \"stem_diam_bottom_in_cm\": 0.43, \"diam_top_in_cm\": null}, {\"main_stem_length_in_cm\": 65.0, \"total_meja\": 0, \"infested\": 0, \"tip_of_stem_broken\": 1, \"side_branches_in_cm\": 68.0, \"total_number_adults\": 0, \"stem_diam_bottom_in_cm\": 0.44, \"diam_top_in_cm\": null}, {\"main_stem_length_in_cm\": 27.0, \"total_meja\": 0, \"infested\": 0, \"tip_of_stem_broken\": 1, \"side_branches_in_cm\": 127.0, \"total_number_adults\": 0, \"stem_diam_bottom_in_cm\": 0.67, \"diam_top_in_cm\": null}, {\"main_stem_length_in_cm\": 34.0, \"total_meja\": 0, \"infested\": 0, \"tip_of_stem_broken\": 1, \"side_branches_in_cm\": 155.0, \"total_number_adults\": 0, \"stem_diam_bottom_in_cm\": 0.71, \"diam_top_in_cm\": null}, {\"main_stem_length_in_cm\": 10.0, \"total_meja\": 0, \"infested\": 0, \"tip_of_stem_broken\": 1, \"side_branches_in_cm\": 250.0, \"total_number_adults\": 0, \"stem_diam_bottom_in_cm\": 0.62, \"diam_top_in_cm\": null}, {\"main_stem_length_in_cm\": 64.0, \"total_meja\": 0, \"infested\": 0, \"tip_of_stem_broken\": 1, \"side_branches_in_cm\": null, \"total_number_adults\": 0, \"stem_diam_bottom_in_cm\": 0.55, \"diam_top_in_cm\": null}, {\"main_stem_length_in_cm\": 42.0, \"total_meja\": 0, \"infested\": 0, \"tip_of_stem_broken\": 1, \"side_branches_in_cm\": null, \"total_number_adults\": 0, \"stem_diam_bottom_in_cm\": 0.33, \"diam_top_in_cm\": null}, {\"main_stem_length_in_cm\": 52.0, \"total_meja\": 0, \"infested\": 0, \"tip_of_stem_broken\": 1, \"side_branches_in_cm\": null, \"total_number_adults\": 0, \"stem_diam_bottom_in_cm\": 0.34, \"diam_top_in_cm\": null}, {\"main_stem_length_in_cm\": 52.0, \"total_meja\": 0, \"infested\": 0, \"tip_of_stem_broken\": 1, \"side_branches_in_cm\": 14.0, \"total_number_adults\": 0, \"stem_diam_bottom_in_cm\": 0.42, \"diam_top_in_cm\": null}, {\"main_stem_length_in_cm\": 39.0, \"total_meja\": 0, \"infested\": 0, \"tip_of_stem_broken\": 1, \"side_branches_in_cm\": null, \"total_number_adults\": 0, \"stem_diam_bottom_in_cm\": 0.3, \"diam_top_in_cm\": null}, {\"main_stem_length_in_cm\": 33.0, \"total_meja\": 0, \"infested\": 0, \"tip_of_stem_broken\": 1, \"side_branches_in_cm\": null, \"total_number_adults\": 0, \"stem_diam_bottom_in_cm\": 0.26, \"diam_top_in_cm\": null}, {\"main_stem_length_in_cm\": 36.0, \"total_meja\": 0, \"infested\": 0, \"tip_of_stem_broken\": 1, \"side_branches_in_cm\": null, \"total_number_adults\": 0, \"stem_diam_bottom_in_cm\": 0.3, \"diam_top_in_cm\": null}, {\"main_stem_length_in_cm\": 37.0, \"total_meja\": 0, \"infested\": 0, \"tip_of_stem_broken\": 1, \"side_branches_in_cm\": null, \"total_number_adults\": 0, \"stem_diam_bottom_in_cm\": 0.43, \"diam_top_in_cm\": null}, {\"main_stem_length_in_cm\": 50.0, \"total_meja\": 0, \"infested\": 0, \"tip_of_stem_broken\": 1, \"side_branches_in_cm\": null, \"total_number_adults\": 0, \"stem_diam_bottom_in_cm\": 0.34, \"diam_top_in_cm\": null}, {\"main_stem_length_in_cm\": 43.0, \"total_meja\": 0, \"infested\": 0, \"tip_of_stem_broken\": 1, \"side_branches_in_cm\": null, \"total_number_adults\": 0, \"stem_diam_bottom_in_cm\": 0.24, \"diam_top_in_cm\": null}, {\"main_stem_length_in_cm\": 35.0, \"total_meja\": 0, \"infested\": 0, \"tip_of_stem_broken\": 1, \"side_branches_in_cm\": null, \"total_number_adults\": 0, \"stem_diam_bottom_in_cm\": 0.25, \"diam_top_in_cm\": null}, {\"main_stem_length_in_cm\": 35.0, \"total_meja\": 0, \"infested\": 0, \"tip_of_stem_broken\": 1, \"side_branches_in_cm\": null, \"total_number_adults\": 0, \"stem_diam_bottom_in_cm\": 0.31, \"diam_top_in_cm\": null}, {\"main_stem_length_in_cm\": 37.0, \"total_meja\": 0, \"infested\": 0, \"tip_of_stem_broken\": 1, \"side_branches_in_cm\": null, \"total_number_adults\": 0, \"stem_diam_bottom_in_cm\": 0.4, \"diam_top_in_cm\": null}, {\"main_stem_length_in_cm\": 24.0, \"total_meja\": 0, \"infested\": 0, \"tip_of_stem_broken\": 1, \"side_branches_in_cm\": null, \"total_number_adults\": 0, \"stem_diam_bottom_in_cm\": 0.38, \"diam_top_in_cm\": null}, {\"main_stem_length_in_cm\": 16.0, \"total_meja\": 0, \"infested\": 0, \"tip_of_stem_broken\": 1, \"side_branches_in_cm\": 129.0, \"total_number_adults\": 0, \"stem_diam_bottom_in_cm\": 0.46, \"diam_top_in_cm\": null}, {\"main_stem_length_in_cm\": 42.0, \"total_meja\": 0, \"infested\": 0, \"tip_of_stem_broken\": 1, \"side_branches_in_cm\": null, \"total_number_adults\": 0, \"stem_diam_bottom_in_cm\": 0.25, \"diam_top_in_cm\": null}, {\"main_stem_length_in_cm\": 35.0, \"total_meja\": 0, \"infested\": 0, \"tip_of_stem_broken\": 1, \"side_branches_in_cm\": null, \"total_number_adults\": 0, \"stem_diam_bottom_in_cm\": 0.28, \"diam_top_in_cm\": null}, {\"main_stem_length_in_cm\": 29.0, \"total_meja\": 0, \"infested\": 0, \"tip_of_stem_broken\": 1, \"side_branches_in_cm\": null, \"total_number_adults\": 0, \"stem_diam_bottom_in_cm\": 0.25, \"diam_top_in_cm\": null}, {\"main_stem_length_in_cm\": 16.0, \"total_meja\": 0, \"infested\": 0, \"tip_of_stem_broken\": 1, \"side_branches_in_cm\": 127.0, \"total_number_adults\": 0, \"stem_diam_bottom_in_cm\": 0.53, \"diam_top_in_cm\": null}, {\"main_stem_length_in_cm\": 42.0, \"total_meja\": 0, \"infested\": 0, \"tip_of_stem_broken\": 1, \"side_branches_in_cm\": null, \"total_number_adults\": 0, \"stem_diam_bottom_in_cm\": 0.36, \"diam_top_in_cm\": null}, {\"main_stem_length_in_cm\": 81.0, \"total_meja\": 0, \"infested\": 0, \"tip_of_stem_broken\": 0, \"side_branches_in_cm\": null, \"total_number_adults\": 0, \"stem_diam_bottom_in_cm\": 0.45, \"diam_top_in_cm\": null}, {\"main_stem_length_in_cm\": 114.0, \"total_meja\": 0, \"infested\": 0, \"tip_of_stem_broken\": 0, \"side_branches_in_cm\": null, \"total_number_adults\": 0, \"stem_diam_bottom_in_cm\": 0.62, \"diam_top_in_cm\": null}, {\"main_stem_length_in_cm\": 105.0, \"total_meja\": 0, \"infested\": 0, \"tip_of_stem_broken\": 0, \"side_branches_in_cm\": null, \"total_number_adults\": 0, \"stem_diam_bottom_in_cm\": 0.57, \"diam_top_in_cm\": null}, {\"main_stem_length_in_cm\": 45.0, \"total_meja\": 0, \"infested\": 0, \"tip_of_stem_broken\": 0, \"side_branches_in_cm\": null, \"total_number_adults\": 0, \"stem_diam_bottom_in_cm\": 0.46, \"diam_top_in_cm\": null}, {\"main_stem_length_in_cm\": 110.0, \"total_meja\": 0, \"infested\": 0, \"tip_of_stem_broken\": 0, \"side_branches_in_cm\": null, \"total_number_adults\": 0, \"stem_diam_bottom_in_cm\": 0.51, \"diam_top_in_cm\": null}, {\"main_stem_length_in_cm\": 77.0, \"total_meja\": 0, \"infested\": 0, \"tip_of_stem_broken\": 0, \"side_branches_in_cm\": null, \"total_number_adults\": 0, \"stem_diam_bottom_in_cm\": 0.65, \"diam_top_in_cm\": null}, {\"main_stem_length_in_cm\": 56.0, \"total_meja\": 0, \"infested\": 0, \"tip_of_stem_broken\": 0, \"side_branches_in_cm\": null, \"total_number_adults\": 0, \"stem_diam_bottom_in_cm\": 0.38, \"diam_top_in_cm\": null}, {\"main_stem_length_in_cm\": 81.0, \"total_meja\": 0, \"infested\": 0, \"tip_of_stem_broken\": 0, \"side_branches_in_cm\": null, \"total_number_adults\": 0, \"stem_diam_bottom_in_cm\": 0.61, \"diam_top_in_cm\": null}, {\"main_stem_length_in_cm\": 55.0, \"total_meja\": 0, \"infested\": 0, \"tip_of_stem_broken\": 0, \"side_branches_in_cm\": null, \"total_number_adults\": 0, \"stem_diam_bottom_in_cm\": 0.62, \"diam_top_in_cm\": null}, {\"main_stem_length_in_cm\": 88.0, \"total_meja\": 0, \"infested\": 0, \"tip_of_stem_broken\": 0, \"side_branches_in_cm\": null, \"total_number_adults\": 0, \"stem_diam_bottom_in_cm\": 0.33, \"diam_top_in_cm\": null}, {\"main_stem_length_in_cm\": 79.0, \"total_meja\": 0, \"infested\": 0, \"tip_of_stem_broken\": 0, \"side_branches_in_cm\": null, \"total_number_adults\": 0, \"stem_diam_bottom_in_cm\": 0.77, \"diam_top_in_cm\": null}, {\"main_stem_length_in_cm\": 44.0, \"total_meja\": 0, \"infested\": 0, \"tip_of_stem_broken\": 0, \"side_branches_in_cm\": 134.0, \"total_number_adults\": 0, \"stem_diam_bottom_in_cm\": 0.6, \"diam_top_in_cm\": null}, {\"main_stem_length_in_cm\": 49.0, \"total_meja\": 0, \"infested\": 0, \"tip_of_stem_broken\": 0, \"side_branches_in_cm\": null, \"total_number_adults\": 0, \"stem_diam_bottom_in_cm\": 0.48, \"diam_top_in_cm\": null}, {\"main_stem_length_in_cm\": 72.0, \"total_meja\": 0, \"infested\": 0, \"tip_of_stem_broken\": 0, \"side_branches_in_cm\": null, \"total_number_adults\": 0, \"stem_diam_bottom_in_cm\": 0.5, \"diam_top_in_cm\": null}, {\"main_stem_length_in_cm\": 77.0, \"total_meja\": 0, \"infested\": 0, \"tip_of_stem_broken\": 0, \"side_branches_in_cm\": null, \"total_number_adults\": 0, \"stem_diam_bottom_in_cm\": 0.72, \"diam_top_in_cm\": null}, {\"main_stem_length_in_cm\": 84.0, \"total_meja\": 0, \"infested\": 0, \"tip_of_stem_broken\": 0, \"side_branches_in_cm\": null, \"total_number_adults\": 0, \"stem_diam_bottom_in_cm\": 0.39, \"diam_top_in_cm\": null}, {\"main_stem_length_in_cm\": 91.0, \"total_meja\": 0, \"infested\": 0, \"tip_of_stem_broken\": 0, \"side_branches_in_cm\": 49.0, \"total_number_adults\": 0, \"stem_diam_bottom_in_cm\": 0.63, \"diam_top_in_cm\": null}, {\"main_stem_length_in_cm\": 83.0, \"total_meja\": 0, \"infested\": 0, \"tip_of_stem_broken\": 0, \"side_branches_in_cm\": null, \"total_number_adults\": 0, \"stem_diam_bottom_in_cm\": 0.57, \"diam_top_in_cm\": null}, {\"main_stem_length_in_cm\": 65.0, \"total_meja\": 0, \"infested\": 0, \"tip_of_stem_broken\": 0, \"side_branches_in_cm\": null, \"total_number_adults\": 0, \"stem_diam_bottom_in_cm\": 0.47, \"diam_top_in_cm\": null}, {\"main_stem_length_in_cm\": 79.0, \"total_meja\": 0, \"infested\": 0, \"tip_of_stem_broken\": 0, \"side_branches_in_cm\": null, \"total_number_adults\": 0, \"stem_diam_bottom_in_cm\": 0.51, \"diam_top_in_cm\": null}, {\"main_stem_length_in_cm\": 73.0, \"total_meja\": 0, \"infested\": 0, \"tip_of_stem_broken\": 0, \"side_branches_in_cm\": 36.0, \"total_number_adults\": 0, \"stem_diam_bottom_in_cm\": 0.43, \"diam_top_in_cm\": null}, {\"main_stem_length_in_cm\": 66.0, \"total_meja\": 0, \"infested\": 0, \"tip_of_stem_broken\": 0, \"side_branches_in_cm\": null, \"total_number_adults\": 0, \"stem_diam_bottom_in_cm\": 0.44, \"diam_top_in_cm\": null}, {\"main_stem_length_in_cm\": 91.0, \"total_meja\": 0, \"infested\": 0, \"tip_of_stem_broken\": 0, \"side_branches_in_cm\": null, \"total_number_adults\": 0, \"stem_diam_bottom_in_cm\": 0.7, \"diam_top_in_cm\": null}, {\"main_stem_length_in_cm\": 33.0, \"total_meja\": 0, \"infested\": 0, \"tip_of_stem_broken\": 0, \"side_branches_in_cm\": null, \"total_number_adults\": 0, \"stem_diam_bottom_in_cm\": 0.33, \"diam_top_in_cm\": null}, {\"main_stem_length_in_cm\": 71.0, \"total_meja\": 0, \"infested\": 0, \"tip_of_stem_broken\": 0, \"side_branches_in_cm\": null, \"total_number_adults\": 0, \"stem_diam_bottom_in_cm\": 0.41, \"diam_top_in_cm\": null}, {\"main_stem_length_in_cm\": 97.0, \"total_meja\": 0, \"infested\": 0, \"tip_of_stem_broken\": 0, \"side_branches_in_cm\": null, \"total_number_adults\": 0, \"stem_diam_bottom_in_cm\": 0.8, \"diam_top_in_cm\": null}, {\"main_stem_length_in_cm\": 81.0, \"total_meja\": 0, \"infested\": 0, \"tip_of_stem_broken\": 0, \"side_branches_in_cm\": null, \"total_number_adults\": 0, \"stem_diam_bottom_in_cm\": 0.63, \"diam_top_in_cm\": null}, {\"main_stem_length_in_cm\": 63.0, \"total_meja\": 10, \"infested\": 1, \"tip_of_stem_broken\": 0, \"side_branches_in_cm\": null, \"total_number_adults\": 0, \"stem_diam_bottom_in_cm\": 0.68, \"diam_top_in_cm\": null}, {\"main_stem_length_in_cm\": 51.0, \"total_meja\": 7, \"infested\": 1, \"tip_of_stem_broken\": 0, \"side_branches_in_cm\": 63.0, \"total_number_adults\": 0, \"stem_diam_bottom_in_cm\": 0.49, \"diam_top_in_cm\": null}, {\"main_stem_length_in_cm\": 40.0, \"total_meja\": 0, \"infested\": 0, \"tip_of_stem_broken\": 0, \"side_branches_in_cm\": null, \"total_number_adults\": 0, \"stem_diam_bottom_in_cm\": 0.56, \"diam_top_in_cm\": null}, {\"main_stem_length_in_cm\": 67.0, \"total_meja\": 8, \"infested\": 1, \"tip_of_stem_broken\": 0, \"side_branches_in_cm\": null, \"total_number_adults\": 0, \"stem_diam_bottom_in_cm\": 0.48, \"diam_top_in_cm\": null}, {\"main_stem_length_in_cm\": 63.0, \"total_meja\": 0, \"infested\": 0, \"tip_of_stem_broken\": 0, \"side_branches_in_cm\": null, \"total_number_adults\": 0, \"stem_diam_bottom_in_cm\": 0.52, \"diam_top_in_cm\": null}, {\"main_stem_length_in_cm\": 69.0, \"total_meja\": 0, \"infested\": 0, \"tip_of_stem_broken\": 0, \"side_branches_in_cm\": 19.0, \"total_number_adults\": 0, \"stem_diam_bottom_in_cm\": 0.49, \"diam_top_in_cm\": null}, {\"main_stem_length_in_cm\": 69.0, \"total_meja\": 8, \"infested\": 1, \"tip_of_stem_broken\": 0, \"side_branches_in_cm\": null, \"total_number_adults\": 0, \"stem_diam_bottom_in_cm\": 0.68, \"diam_top_in_cm\": null}, {\"main_stem_length_in_cm\": 62.0, \"total_meja\": 4, \"infested\": 1, \"tip_of_stem_broken\": 0, \"side_branches_in_cm\": 20.0, \"total_number_adults\": 0, \"stem_diam_bottom_in_cm\": 0.48, \"diam_top_in_cm\": null}, {\"main_stem_length_in_cm\": 43.0, \"total_meja\": 1, \"infested\": 1, \"tip_of_stem_broken\": 0, \"side_branches_in_cm\": 46.0, \"total_number_adults\": 0, \"stem_diam_bottom_in_cm\": 0.38, \"diam_top_in_cm\": null}, {\"main_stem_length_in_cm\": 98.0, \"total_meja\": 0, \"infested\": 0, \"tip_of_stem_broken\": 0, \"side_branches_in_cm\": 43.0, \"total_number_adults\": 0, \"stem_diam_bottom_in_cm\": 0.71, \"diam_top_in_cm\": null}, {\"main_stem_length_in_cm\": 64.0, \"total_meja\": 0, \"infested\": 0, \"tip_of_stem_broken\": 0, \"side_branches_in_cm\": 83.0, \"total_number_adults\": 0, \"stem_diam_bottom_in_cm\": 0.62, \"diam_top_in_cm\": null}, {\"main_stem_length_in_cm\": 56.0, \"total_meja\": 0, \"infested\": 0, \"tip_of_stem_broken\": 0, \"side_branches_in_cm\": null, \"total_number_adults\": 0, \"stem_diam_bottom_in_cm\": 0.57, \"diam_top_in_cm\": null}, {\"main_stem_length_in_cm\": 72.0, \"total_meja\": 0, \"infested\": 0, \"tip_of_stem_broken\": 0, \"side_branches_in_cm\": null, \"total_number_adults\": 0, \"stem_diam_bottom_in_cm\": 0.38, \"diam_top_in_cm\": null}, {\"main_stem_length_in_cm\": 68.0, \"total_meja\": 0, \"infested\": 0, \"tip_of_stem_broken\": 0, \"side_branches_in_cm\": null, \"total_number_adults\": 0, \"stem_diam_bottom_in_cm\": 0.5, \"diam_top_in_cm\": null}, {\"main_stem_length_in_cm\": 48.0, \"total_meja\": 3, \"infested\": 1, \"tip_of_stem_broken\": 0, \"side_branches_in_cm\": 21.0, \"total_number_adults\": 0, \"stem_diam_bottom_in_cm\": 0.61, \"diam_top_in_cm\": null}, {\"main_stem_length_in_cm\": 70.0, \"total_meja\": 0, \"infested\": 0, \"tip_of_stem_broken\": 0, \"side_branches_in_cm\": null, \"total_number_adults\": 0, \"stem_diam_bottom_in_cm\": 0.6, \"diam_top_in_cm\": null}, {\"main_stem_length_in_cm\": 51.0, \"total_meja\": 0, \"infested\": 0, \"tip_of_stem_broken\": 0, \"side_branches_in_cm\": null, \"total_number_adults\": 0, \"stem_diam_bottom_in_cm\": 0.59, \"diam_top_in_cm\": null}, {\"main_stem_length_in_cm\": 65.0, \"total_meja\": 0, \"infested\": 0, \"tip_of_stem_broken\": 0, \"side_branches_in_cm\": null, \"total_number_adults\": 0, \"stem_diam_bottom_in_cm\": 0.28, \"diam_top_in_cm\": null}, {\"main_stem_length_in_cm\": 42.0, \"total_meja\": 1, \"infested\": 1, \"tip_of_stem_broken\": 0, \"side_branches_in_cm\": 26.0, \"total_number_adults\": 0, \"stem_diam_bottom_in_cm\": 0.59, \"diam_top_in_cm\": null}, {\"main_stem_length_in_cm\": 47.0, \"total_meja\": 0, \"infested\": 0, \"tip_of_stem_broken\": 0, \"side_branches_in_cm\": null, \"total_number_adults\": 0, \"stem_diam_bottom_in_cm\": 0.43, \"diam_top_in_cm\": null}, {\"main_stem_length_in_cm\": 47.0, \"total_meja\": 3, \"infested\": 1, \"tip_of_stem_broken\": 0, \"side_branches_in_cm\": null, \"total_number_adults\": 0, \"stem_diam_bottom_in_cm\": 0.47, \"diam_top_in_cm\": null}, {\"main_stem_length_in_cm\": 40.0, \"total_meja\": 6, \"infested\": 1, \"tip_of_stem_broken\": 0, \"side_branches_in_cm\": null, \"total_number_adults\": 0, \"stem_diam_bottom_in_cm\": 0.43, \"diam_top_in_cm\": null}, {\"main_stem_length_in_cm\": 46.0, \"total_meja\": 3, \"infested\": 1, \"tip_of_stem_broken\": 0, \"side_branches_in_cm\": null, \"total_number_adults\": 0, \"stem_diam_bottom_in_cm\": 0.31, \"diam_top_in_cm\": null}, {\"main_stem_length_in_cm\": 71.0, \"total_meja\": 0, \"infested\": 0, \"tip_of_stem_broken\": 0, \"side_branches_in_cm\": null, \"total_number_adults\": 0, \"stem_diam_bottom_in_cm\": 0.41, \"diam_top_in_cm\": null}, {\"main_stem_length_in_cm\": 78.0, \"total_meja\": 0, \"infested\": 0, \"tip_of_stem_broken\": 0, \"side_branches_in_cm\": null, \"total_number_adults\": 0, \"stem_diam_bottom_in_cm\": 0.67, \"diam_top_in_cm\": null}, {\"main_stem_length_in_cm\": 75.0, \"total_meja\": 0, \"infested\": 0, \"tip_of_stem_broken\": 0, \"side_branches_in_cm\": null, \"total_number_adults\": 0, \"stem_diam_bottom_in_cm\": 0.57, \"diam_top_in_cm\": null}, {\"main_stem_length_in_cm\": 90.0, \"total_meja\": 0, \"infested\": 0, \"tip_of_stem_broken\": 0, \"side_branches_in_cm\": null, \"total_number_adults\": 0, \"stem_diam_bottom_in_cm\": 0.52, \"diam_top_in_cm\": null}, {\"main_stem_length_in_cm\": 59.0, \"total_meja\": 0, \"infested\": 0, \"tip_of_stem_broken\": 0, \"side_branches_in_cm\": null, \"total_number_adults\": 0, \"stem_diam_bottom_in_cm\": 0.43, \"diam_top_in_cm\": null}, {\"main_stem_length_in_cm\": 96.0, \"total_meja\": 0, \"infested\": 0, \"tip_of_stem_broken\": 0, \"side_branches_in_cm\": null, \"total_number_adults\": 0, \"stem_diam_bottom_in_cm\": 0.56, \"diam_top_in_cm\": null}, {\"main_stem_length_in_cm\": 86.0, \"total_meja\": 0, \"infested\": 0, \"tip_of_stem_broken\": 0, \"side_branches_in_cm\": null, \"total_number_adults\": 0, \"stem_diam_bottom_in_cm\": 0.69, \"diam_top_in_cm\": null}, {\"main_stem_length_in_cm\": 100.0, \"total_meja\": 0, \"infested\": 0, \"tip_of_stem_broken\": 0, \"side_branches_in_cm\": null, \"total_number_adults\": 0, \"stem_diam_bottom_in_cm\": 0.63, \"diam_top_in_cm\": null}, {\"main_stem_length_in_cm\": 83.0, \"total_meja\": 0, \"infested\": 0, \"tip_of_stem_broken\": 0, \"side_branches_in_cm\": null, \"total_number_adults\": 0, \"stem_diam_bottom_in_cm\": 0.61, \"diam_top_in_cm\": null}, {\"main_stem_length_in_cm\": 78.0, \"total_meja\": 0, \"infested\": 0, \"tip_of_stem_broken\": 0, \"side_branches_in_cm\": null, \"total_number_adults\": 0, \"stem_diam_bottom_in_cm\": 0.44, \"diam_top_in_cm\": null}, {\"main_stem_length_in_cm\": 89.0, \"total_meja\": 0, \"infested\": 0, \"tip_of_stem_broken\": 0, \"side_branches_in_cm\": null, \"total_number_adults\": 0, \"stem_diam_bottom_in_cm\": 0.57, \"diam_top_in_cm\": null}, {\"main_stem_length_in_cm\": 90.0, \"total_meja\": 0, \"infested\": 0, \"tip_of_stem_broken\": 0, \"side_branches_in_cm\": null, \"total_number_adults\": 0, \"stem_diam_bottom_in_cm\": 0.45, \"diam_top_in_cm\": null}, {\"main_stem_length_in_cm\": 99.0, \"total_meja\": 0, \"infested\": 0, \"tip_of_stem_broken\": 0, \"side_branches_in_cm\": null, \"total_number_adults\": 0, \"stem_diam_bottom_in_cm\": 0.65, \"diam_top_in_cm\": null}, {\"main_stem_length_in_cm\": 86.0, \"total_meja\": 0, \"infested\": 0, \"tip_of_stem_broken\": 0, \"side_branches_in_cm\": null, \"total_number_adults\": 0, \"stem_diam_bottom_in_cm\": 0.55, \"diam_top_in_cm\": null}, {\"main_stem_length_in_cm\": 83.0, \"total_meja\": 0, \"infested\": 0, \"tip_of_stem_broken\": 0, \"side_branches_in_cm\": null, \"total_number_adults\": 0, \"stem_diam_bottom_in_cm\": 0.36, \"diam_top_in_cm\": null}, {\"main_stem_length_in_cm\": 98.0, \"total_meja\": 0, \"infested\": 0, \"tip_of_stem_broken\": 0, \"side_branches_in_cm\": null, \"total_number_adults\": 0, \"stem_diam_bottom_in_cm\": 0.54, \"diam_top_in_cm\": null}, {\"main_stem_length_in_cm\": 57.0, \"total_meja\": 0, \"infested\": 0, \"tip_of_stem_broken\": 0, \"side_branches_in_cm\": null, \"total_number_adults\": 0, \"stem_diam_bottom_in_cm\": 0.34, \"diam_top_in_cm\": null}, {\"main_stem_length_in_cm\": 59.0, \"total_meja\": 0, \"infested\": 0, \"tip_of_stem_broken\": 0, \"side_branches_in_cm\": null, \"total_number_adults\": 0, \"stem_diam_bottom_in_cm\": 0.34, \"diam_top_in_cm\": null}, {\"main_stem_length_in_cm\": 70.0, \"total_meja\": 0, \"infested\": 0, \"tip_of_stem_broken\": 0, \"side_branches_in_cm\": null, \"total_number_adults\": 0, \"stem_diam_bottom_in_cm\": 0.47, \"diam_top_in_cm\": null}, {\"main_stem_length_in_cm\": 69.0, \"total_meja\": 0, \"infested\": 0, \"tip_of_stem_broken\": 0, \"side_branches_in_cm\": null, \"total_number_adults\": 0, \"stem_diam_bottom_in_cm\": 0.36, \"diam_top_in_cm\": null}, {\"main_stem_length_in_cm\": 92.0, \"total_meja\": 0, \"infested\": 0, \"tip_of_stem_broken\": 0, \"side_branches_in_cm\": 124.0, \"total_number_adults\": 0, \"stem_diam_bottom_in_cm\": 0.7, \"diam_top_in_cm\": null}, {\"main_stem_length_in_cm\": 95.0, \"total_meja\": 0, \"infested\": 0, \"tip_of_stem_broken\": 0, \"side_branches_in_cm\": null, \"total_number_adults\": 0, \"stem_diam_bottom_in_cm\": 0.55, \"diam_top_in_cm\": null}, {\"main_stem_length_in_cm\": 77.0, \"total_meja\": 0, \"infested\": 0, \"tip_of_stem_broken\": 0, \"side_branches_in_cm\": null, \"total_number_adults\": 0, \"stem_diam_bottom_in_cm\": 0.52, \"diam_top_in_cm\": null}, {\"main_stem_length_in_cm\": 74.0, \"total_meja\": 0, \"infested\": 0, \"tip_of_stem_broken\": 0, \"side_branches_in_cm\": null, \"total_number_adults\": 0, \"stem_diam_bottom_in_cm\": 0.44, \"diam_top_in_cm\": null}, {\"main_stem_length_in_cm\": 70.0, \"total_meja\": 0, \"infested\": 0, \"tip_of_stem_broken\": 0, \"side_branches_in_cm\": null, \"total_number_adults\": 0, \"stem_diam_bottom_in_cm\": 0.49, \"diam_top_in_cm\": null}, {\"main_stem_length_in_cm\": 73.0, \"total_meja\": 0, \"infested\": 0, \"tip_of_stem_broken\": 0, \"side_branches_in_cm\": null, \"total_number_adults\": 0, \"stem_diam_bottom_in_cm\": 0.47, \"diam_top_in_cm\": null}, {\"main_stem_length_in_cm\": 62.0, \"total_meja\": 0, \"infested\": 0, \"tip_of_stem_broken\": 0, \"side_branches_in_cm\": null, \"total_number_adults\": 0, \"stem_diam_bottom_in_cm\": 0.58, \"diam_top_in_cm\": null}, {\"main_stem_length_in_cm\": 81.0, \"total_meja\": 0, \"infested\": 0, \"tip_of_stem_broken\": 0, \"side_branches_in_cm\": null, \"total_number_adults\": 0, \"stem_diam_bottom_in_cm\": 0.47, \"diam_top_in_cm\": null}, {\"main_stem_length_in_cm\": 54.0, \"total_meja\": 3, \"infested\": 1, \"tip_of_stem_broken\": 0, \"side_branches_in_cm\": null, \"total_number_adults\": 0, \"stem_diam_bottom_in_cm\": 0.37, \"diam_top_in_cm\": null}, {\"main_stem_length_in_cm\": 71.0, \"total_meja\": 0, \"infested\": 0, \"tip_of_stem_broken\": 0, \"side_branches_in_cm\": null, \"total_number_adults\": 0, \"stem_diam_bottom_in_cm\": 0.42, \"diam_top_in_cm\": null}, {\"main_stem_length_in_cm\": 93.0, \"total_meja\": 0, \"infested\": 0, \"tip_of_stem_broken\": 0, \"side_branches_in_cm\": null, \"total_number_adults\": 0, \"stem_diam_bottom_in_cm\": 0.58, \"diam_top_in_cm\": null}, {\"main_stem_length_in_cm\": 113.0, \"total_meja\": 0, \"infested\": 0, \"tip_of_stem_broken\": 0, \"side_branches_in_cm\": null, \"total_number_adults\": 0, \"stem_diam_bottom_in_cm\": 0.76, \"diam_top_in_cm\": null}, {\"main_stem_length_in_cm\": 60.0, \"total_meja\": 0, \"infested\": 0, \"tip_of_stem_broken\": 0, \"side_branches_in_cm\": null, \"total_number_adults\": 0, \"stem_diam_bottom_in_cm\": 0.64, \"diam_top_in_cm\": null}, {\"main_stem_length_in_cm\": 68.0, \"total_meja\": 0, \"infested\": 0, \"tip_of_stem_broken\": 0, \"side_branches_in_cm\": null, \"total_number_adults\": 0, \"stem_diam_bottom_in_cm\": 0.35, \"diam_top_in_cm\": null}, {\"main_stem_length_in_cm\": 99.0, \"total_meja\": 0, \"infested\": 0, \"tip_of_stem_broken\": 0, \"side_branches_in_cm\": null, \"total_number_adults\": 0, \"stem_diam_bottom_in_cm\": 0.56, \"diam_top_in_cm\": null}, {\"main_stem_length_in_cm\": 64.0, \"total_meja\": 5, \"infested\": 1, \"tip_of_stem_broken\": 0, \"side_branches_in_cm\": 39.0, \"total_number_adults\": 0, \"stem_diam_bottom_in_cm\": 0.51, \"diam_top_in_cm\": null}, {\"main_stem_length_in_cm\": 75.0, \"total_meja\": 0, \"infested\": 0, \"tip_of_stem_broken\": 0, \"side_branches_in_cm\": 57.0, \"total_number_adults\": 0, \"stem_diam_bottom_in_cm\": 0.66, \"diam_top_in_cm\": null}, {\"main_stem_length_in_cm\": 87.0, \"total_meja\": 0, \"infested\": 0, \"tip_of_stem_broken\": 0, \"side_branches_in_cm\": null, \"total_number_adults\": 0, \"stem_diam_bottom_in_cm\": 0.59, \"diam_top_in_cm\": null}, {\"main_stem_length_in_cm\": 66.0, \"total_meja\": 6, \"infested\": 1, \"tip_of_stem_broken\": 0, \"side_branches_in_cm\": null, \"total_number_adults\": 0, \"stem_diam_bottom_in_cm\": 0.56, \"diam_top_in_cm\": null}, {\"main_stem_length_in_cm\": 58.0, \"total_meja\": 6, \"infested\": 1, \"tip_of_stem_broken\": 0, \"side_branches_in_cm\": 39.0, \"total_number_adults\": 1, \"stem_diam_bottom_in_cm\": 0.33, \"diam_top_in_cm\": null}, {\"main_stem_length_in_cm\": 64.0, \"total_meja\": 0, \"infested\": 0, \"tip_of_stem_broken\": 0, \"side_branches_in_cm\": null, \"total_number_adults\": 0, \"stem_diam_bottom_in_cm\": 0.52, \"diam_top_in_cm\": null}, {\"main_stem_length_in_cm\": 60.0, \"total_meja\": 5, \"infested\": 1, \"tip_of_stem_broken\": 0, \"side_branches_in_cm\": null, \"total_number_adults\": 0, \"stem_diam_bottom_in_cm\": 0.4, \"diam_top_in_cm\": null}, {\"main_stem_length_in_cm\": 44.0, \"total_meja\": 11, \"infested\": 1, \"tip_of_stem_broken\": 0, \"side_branches_in_cm\": null, \"total_number_adults\": 1, \"stem_diam_bottom_in_cm\": 0.48, \"diam_top_in_cm\": null}, {\"main_stem_length_in_cm\": 46.0, \"total_meja\": 3, \"infested\": 1, \"tip_of_stem_broken\": 0, \"side_branches_in_cm\": null, \"total_number_adults\": 0, \"stem_diam_bottom_in_cm\": 0.38, \"diam_top_in_cm\": null}, {\"main_stem_length_in_cm\": 54.0, \"total_meja\": 0, \"infested\": 0, \"tip_of_stem_broken\": 0, \"side_branches_in_cm\": null, \"total_number_adults\": 0, \"stem_diam_bottom_in_cm\": 0.49, \"diam_top_in_cm\": null}, {\"main_stem_length_in_cm\": 60.0, \"total_meja\": 9, \"infested\": 1, \"tip_of_stem_broken\": 0, \"side_branches_in_cm\": null, \"total_number_adults\": 0, \"stem_diam_bottom_in_cm\": 0.7, \"diam_top_in_cm\": null}, {\"main_stem_length_in_cm\": 26.0, \"total_meja\": 2, \"infested\": 1, \"tip_of_stem_broken\": 0, \"side_branches_in_cm\": 111.0, \"total_number_adults\": 0, \"stem_diam_bottom_in_cm\": 0.5, \"diam_top_in_cm\": null}, {\"main_stem_length_in_cm\": 53.0, \"total_meja\": 0, \"infested\": 0, \"tip_of_stem_broken\": 0, \"side_branches_in_cm\": 117.0, \"total_number_adults\": 0, \"stem_diam_bottom_in_cm\": 0.54, \"diam_top_in_cm\": null}, {\"main_stem_length_in_cm\": 59.0, \"total_meja\": 2, \"infested\": 1, \"tip_of_stem_broken\": 0, \"side_branches_in_cm\": null, \"total_number_adults\": 0, \"stem_diam_bottom_in_cm\": 0.45, \"diam_top_in_cm\": null}, {\"main_stem_length_in_cm\": 58.0, \"total_meja\": 5, \"infested\": 1, \"tip_of_stem_broken\": 0, \"side_branches_in_cm\": 194.0, \"total_number_adults\": 1, \"stem_diam_bottom_in_cm\": 0.56, \"diam_top_in_cm\": null}, {\"main_stem_length_in_cm\": 53.0, \"total_meja\": 1, \"infested\": 1, \"tip_of_stem_broken\": 0, \"side_branches_in_cm\": null, \"total_number_adults\": 0, \"stem_diam_bottom_in_cm\": 0.42, \"diam_top_in_cm\": null}, {\"main_stem_length_in_cm\": 48.0, \"total_meja\": 8, \"infested\": 1, \"tip_of_stem_broken\": 0, \"side_branches_in_cm\": null, \"total_number_adults\": 0, \"stem_diam_bottom_in_cm\": 0.42, \"diam_top_in_cm\": null}, {\"main_stem_length_in_cm\": 62.0, \"total_meja\": 0, \"infested\": 0, \"tip_of_stem_broken\": 0, \"side_branches_in_cm\": null, \"total_number_adults\": 0, \"stem_diam_bottom_in_cm\": 0.57, \"diam_top_in_cm\": null}, {\"main_stem_length_in_cm\": 52.0, \"total_meja\": 0, \"infested\": 0, \"tip_of_stem_broken\": 0, \"side_branches_in_cm\": null, \"total_number_adults\": 0, \"stem_diam_bottom_in_cm\": 0.44, \"diam_top_in_cm\": null}, {\"main_stem_length_in_cm\": 44.0, \"total_meja\": 4, \"infested\": 1, \"tip_of_stem_broken\": 0, \"side_branches_in_cm\": 109.0, \"total_number_adults\": 0, \"stem_diam_bottom_in_cm\": 0.53, \"diam_top_in_cm\": null}, {\"main_stem_length_in_cm\": 67.0, \"total_meja\": 7, \"infested\": 1, \"tip_of_stem_broken\": 0, \"side_branches_in_cm\": null, \"total_number_adults\": 0, \"stem_diam_bottom_in_cm\": 0.52, \"diam_top_in_cm\": null}, {\"main_stem_length_in_cm\": 58.0, \"total_meja\": 5, \"infested\": 1, \"tip_of_stem_broken\": 0, \"side_branches_in_cm\": null, \"total_number_adults\": 0, \"stem_diam_bottom_in_cm\": 0.52, \"diam_top_in_cm\": null}, {\"main_stem_length_in_cm\": 58.0, \"total_meja\": 10, \"infested\": 1, \"tip_of_stem_broken\": 0, \"side_branches_in_cm\": null, \"total_number_adults\": 1, \"stem_diam_bottom_in_cm\": 0.6, \"diam_top_in_cm\": null}, {\"main_stem_length_in_cm\": 50.0, \"total_meja\": 13, \"infested\": 1, \"tip_of_stem_broken\": 0, \"side_branches_in_cm\": null, \"total_number_adults\": 0, \"stem_diam_bottom_in_cm\": 0.67, \"diam_top_in_cm\": null}, {\"main_stem_length_in_cm\": 35.0, \"total_meja\": 21, \"infested\": 1, \"tip_of_stem_broken\": 0, \"side_branches_in_cm\": null, \"total_number_adults\": 0, \"stem_diam_bottom_in_cm\": 0.53, \"diam_top_in_cm\": null}, {\"main_stem_length_in_cm\": 44.0, \"total_meja\": 19, \"infested\": 1, \"tip_of_stem_broken\": 0, \"side_branches_in_cm\": null, \"total_number_adults\": 0, \"stem_diam_bottom_in_cm\": 0.63, \"diam_top_in_cm\": null}, {\"main_stem_length_in_cm\": 46.0, \"total_meja\": 8, \"infested\": 1, \"tip_of_stem_broken\": 0, \"side_branches_in_cm\": null, \"total_number_adults\": 1, \"stem_diam_bottom_in_cm\": 0.38, \"diam_top_in_cm\": null}, {\"main_stem_length_in_cm\": 58.0, \"total_meja\": 7, \"infested\": 1, \"tip_of_stem_broken\": 0, \"side_branches_in_cm\": null, \"total_number_adults\": 0, \"stem_diam_bottom_in_cm\": 0.65, \"diam_top_in_cm\": null}, {\"main_stem_length_in_cm\": 60.0, \"total_meja\": 23, \"infested\": 1, \"tip_of_stem_broken\": 0, \"side_branches_in_cm\": null, \"total_number_adults\": 1, \"stem_diam_bottom_in_cm\": 0.63, \"diam_top_in_cm\": null}, {\"main_stem_length_in_cm\": 68.0, \"total_meja\": 1, \"infested\": 1, \"tip_of_stem_broken\": 0, \"side_branches_in_cm\": null, \"total_number_adults\": 0, \"stem_diam_bottom_in_cm\": 0.49, \"diam_top_in_cm\": null}, {\"main_stem_length_in_cm\": 55.0, \"total_meja\": 11, \"infested\": 1, \"tip_of_stem_broken\": 0, \"side_branches_in_cm\": null, \"total_number_adults\": 2, \"stem_diam_bottom_in_cm\": 0.54, \"diam_top_in_cm\": null}, {\"main_stem_length_in_cm\": 70.0, \"total_meja\": 3, \"infested\": 1, \"tip_of_stem_broken\": 0, \"side_branches_in_cm\": null, \"total_number_adults\": 0, \"stem_diam_bottom_in_cm\": 0.72, \"diam_top_in_cm\": null}, {\"main_stem_length_in_cm\": 40.0, \"total_meja\": 7, \"infested\": 1, \"tip_of_stem_broken\": 0, \"side_branches_in_cm\": null, \"total_number_adults\": 0, \"stem_diam_bottom_in_cm\": 0.37, \"diam_top_in_cm\": null}, {\"main_stem_length_in_cm\": 57.0, \"total_meja\": 4, \"infested\": 1, \"tip_of_stem_broken\": 0, \"side_branches_in_cm\": null, \"total_number_adults\": 0, \"stem_diam_bottom_in_cm\": 0.69, \"diam_top_in_cm\": null}, {\"main_stem_length_in_cm\": 45.0, \"total_meja\": 4, \"infested\": 1, \"tip_of_stem_broken\": 0, \"side_branches_in_cm\": null, \"total_number_adults\": 0, \"stem_diam_bottom_in_cm\": 0.39, \"diam_top_in_cm\": null}, {\"main_stem_length_in_cm\": 74.0, \"total_meja\": 1, \"infested\": 1, \"tip_of_stem_broken\": 0, \"side_branches_in_cm\": null, \"total_number_adults\": 0, \"stem_diam_bottom_in_cm\": 0.63, \"diam_top_in_cm\": null}, {\"main_stem_length_in_cm\": 76.0, \"total_meja\": 0, \"infested\": 0, \"tip_of_stem_broken\": 0, \"side_branches_in_cm\": null, \"total_number_adults\": 0, \"stem_diam_bottom_in_cm\": 0.68, \"diam_top_in_cm\": null}, {\"main_stem_length_in_cm\": 79.0, \"total_meja\": 0, \"infested\": 0, \"tip_of_stem_broken\": 0, \"side_branches_in_cm\": null, \"total_number_adults\": 0, \"stem_diam_bottom_in_cm\": 0.47, \"diam_top_in_cm\": null}, {\"main_stem_length_in_cm\": 61.0, \"total_meja\": 2, \"infested\": 1, \"tip_of_stem_broken\": 0, \"side_branches_in_cm\": null, \"total_number_adults\": 0, \"stem_diam_bottom_in_cm\": 0.54, \"diam_top_in_cm\": null}, {\"main_stem_length_in_cm\": 76.0, \"total_meja\": 0, \"infested\": 0, \"tip_of_stem_broken\": 0, \"side_branches_in_cm\": null, \"total_number_adults\": 0, \"stem_diam_bottom_in_cm\": 0.89, \"diam_top_in_cm\": null}, {\"main_stem_length_in_cm\": 60.0, \"total_meja\": 2, \"infested\": 1, \"tip_of_stem_broken\": 0, \"side_branches_in_cm\": null, \"total_number_adults\": 0, \"stem_diam_bottom_in_cm\": 0.57, \"diam_top_in_cm\": null}, {\"main_stem_length_in_cm\": 79.0, \"total_meja\": 0, \"infested\": 0, \"tip_of_stem_broken\": 0, \"side_branches_in_cm\": null, \"total_number_adults\": 0, \"stem_diam_bottom_in_cm\": 0.62, \"diam_top_in_cm\": null}, {\"main_stem_length_in_cm\": 68.0, \"total_meja\": 0, \"infested\": 0, \"tip_of_stem_broken\": 0, \"side_branches_in_cm\": null, \"total_number_adults\": 0, \"stem_diam_bottom_in_cm\": 0.61, \"diam_top_in_cm\": null}, {\"main_stem_length_in_cm\": 76.0, \"total_meja\": 2, \"infested\": 1, \"tip_of_stem_broken\": 0, \"side_branches_in_cm\": null, \"total_number_adults\": 0, \"stem_diam_bottom_in_cm\": 0.59, \"diam_top_in_cm\": null}, {\"main_stem_length_in_cm\": 69.0, \"total_meja\": 0, \"infested\": 0, \"tip_of_stem_broken\": 0, \"side_branches_in_cm\": null, \"total_number_adults\": 0, \"stem_diam_bottom_in_cm\": 0.46, \"diam_top_in_cm\": null}, {\"main_stem_length_in_cm\": 57.0, \"total_meja\": 0, \"infested\": 0, \"tip_of_stem_broken\": 0, \"side_branches_in_cm\": null, \"total_number_adults\": 0, \"stem_diam_bottom_in_cm\": 0.77, \"diam_top_in_cm\": null}, {\"main_stem_length_in_cm\": 65.0, \"total_meja\": 0, \"infested\": 0, \"tip_of_stem_broken\": 0, \"side_branches_in_cm\": null, \"total_number_adults\": 0, \"stem_diam_bottom_in_cm\": 0.47, \"diam_top_in_cm\": null}, {\"main_stem_length_in_cm\": 62.0, \"total_meja\": 0, \"infested\": 0, \"tip_of_stem_broken\": 0, \"side_branches_in_cm\": null, \"total_number_adults\": 0, \"stem_diam_bottom_in_cm\": 0.49, \"diam_top_in_cm\": null}, {\"main_stem_length_in_cm\": 68.0, \"total_meja\": 0, \"infested\": 0, \"tip_of_stem_broken\": 0, \"side_branches_in_cm\": null, \"total_number_adults\": 0, \"stem_diam_bottom_in_cm\": 0.46, \"diam_top_in_cm\": null}, {\"main_stem_length_in_cm\": 57.0, \"total_meja\": 3, \"infested\": 1, \"tip_of_stem_broken\": 0, \"side_branches_in_cm\": null, \"total_number_adults\": 0, \"stem_diam_bottom_in_cm\": 0.54, \"diam_top_in_cm\": null}, {\"main_stem_length_in_cm\": 64.0, \"total_meja\": 0, \"infested\": 0, \"tip_of_stem_broken\": 0, \"side_branches_in_cm\": null, \"total_number_adults\": 0, \"stem_diam_bottom_in_cm\": 0.45, \"diam_top_in_cm\": null}, {\"main_stem_length_in_cm\": 62.0, \"total_meja\": 0, \"infested\": 0, \"tip_of_stem_broken\": 0, \"side_branches_in_cm\": null, \"total_number_adults\": 0, \"stem_diam_bottom_in_cm\": 0.51, \"diam_top_in_cm\": null}, {\"main_stem_length_in_cm\": 94.0, \"total_meja\": 0, \"infested\": 0, \"tip_of_stem_broken\": 0, \"side_branches_in_cm\": null, \"total_number_adults\": 0, \"stem_diam_bottom_in_cm\": 0.85, \"diam_top_in_cm\": null}, {\"main_stem_length_in_cm\": 79.5, \"total_meja\": 0, \"infested\": 0, \"tip_of_stem_broken\": 0, \"side_branches_in_cm\": null, \"total_number_adults\": 0, \"stem_diam_bottom_in_cm\": 0.49, \"diam_top_in_cm\": null}, {\"main_stem_length_in_cm\": 70.0, \"total_meja\": 0, \"infested\": 0, \"tip_of_stem_broken\": 0, \"side_branches_in_cm\": null, \"total_number_adults\": 0, \"stem_diam_bottom_in_cm\": 0.76, \"diam_top_in_cm\": null}, {\"main_stem_length_in_cm\": 68.0, \"total_meja\": 0, \"infested\": 0, \"tip_of_stem_broken\": 0, \"side_branches_in_cm\": null, \"total_number_adults\": 0, \"stem_diam_bottom_in_cm\": 0.51, \"diam_top_in_cm\": null}, {\"main_stem_length_in_cm\": 87.0, \"total_meja\": 0, \"infested\": 0, \"tip_of_stem_broken\": 0, \"side_branches_in_cm\": null, \"total_number_adults\": 0, \"stem_diam_bottom_in_cm\": 0.75, \"diam_top_in_cm\": null}, {\"main_stem_length_in_cm\": 77.0, \"total_meja\": 0, \"infested\": 0, \"tip_of_stem_broken\": 0, \"side_branches_in_cm\": null, \"total_number_adults\": 0, \"stem_diam_bottom_in_cm\": 0.65, \"diam_top_in_cm\": null}, {\"main_stem_length_in_cm\": 76.0, \"total_meja\": 0, \"infested\": 0, \"tip_of_stem_broken\": 0, \"side_branches_in_cm\": null, \"total_number_adults\": 0, \"stem_diam_bottom_in_cm\": 0.47, \"diam_top_in_cm\": null}, {\"main_stem_length_in_cm\": 75.0, \"total_meja\": 7, \"infested\": 1, \"tip_of_stem_broken\": 0, \"side_branches_in_cm\": null, \"total_number_adults\": 0, \"stem_diam_bottom_in_cm\": 0.54, \"diam_top_in_cm\": null}, {\"main_stem_length_in_cm\": 75.0, \"total_meja\": 7, \"infested\": 1, \"tip_of_stem_broken\": 0, \"side_branches_in_cm\": null, \"total_number_adults\": 0, \"stem_diam_bottom_in_cm\": 0.78, \"diam_top_in_cm\": null}, {\"main_stem_length_in_cm\": 65.0, \"total_meja\": 2, \"infested\": 1, \"tip_of_stem_broken\": 0, \"side_branches_in_cm\": null, \"total_number_adults\": 0, \"stem_diam_bottom_in_cm\": 0.5, \"diam_top_in_cm\": null}, {\"main_stem_length_in_cm\": 75.0, \"total_meja\": 0, \"infested\": 0, \"tip_of_stem_broken\": 0, \"side_branches_in_cm\": null, \"total_number_adults\": 0, \"stem_diam_bottom_in_cm\": 0.54, \"diam_top_in_cm\": null}, {\"main_stem_length_in_cm\": 60.0, \"total_meja\": 0, \"infested\": 0, \"tip_of_stem_broken\": 0, \"side_branches_in_cm\": null, \"total_number_adults\": 0, \"stem_diam_bottom_in_cm\": 0.39, \"diam_top_in_cm\": null}, {\"main_stem_length_in_cm\": 53.0, \"total_meja\": 3, \"infested\": 1, \"tip_of_stem_broken\": 0, \"side_branches_in_cm\": null, \"total_number_adults\": 0, \"stem_diam_bottom_in_cm\": 0.8, \"diam_top_in_cm\": null}, {\"main_stem_length_in_cm\": 60.0, \"total_meja\": 3, \"infested\": 1, \"tip_of_stem_broken\": 0, \"side_branches_in_cm\": null, \"total_number_adults\": 0, \"stem_diam_bottom_in_cm\": 0.58, \"diam_top_in_cm\": null}, {\"main_stem_length_in_cm\": 65.0, \"total_meja\": 1, \"infested\": 1, \"tip_of_stem_broken\": 0, \"side_branches_in_cm\": null, \"total_number_adults\": 0, \"stem_diam_bottom_in_cm\": 0.49, \"diam_top_in_cm\": null}, {\"main_stem_length_in_cm\": 81.0, \"total_meja\": 6, \"infested\": 1, \"tip_of_stem_broken\": 0, \"side_branches_in_cm\": null, \"total_number_adults\": 0, \"stem_diam_bottom_in_cm\": 0.6, \"diam_top_in_cm\": null}, {\"main_stem_length_in_cm\": 71.0, \"total_meja\": 6, \"infested\": 1, \"tip_of_stem_broken\": 0, \"side_branches_in_cm\": null, \"total_number_adults\": 0, \"stem_diam_bottom_in_cm\": 0.62, \"diam_top_in_cm\": null}, {\"main_stem_length_in_cm\": 75.0, \"total_meja\": 9, \"infested\": 1, \"tip_of_stem_broken\": 0, \"side_branches_in_cm\": null, \"total_number_adults\": 0, \"stem_diam_bottom_in_cm\": 0.65, \"diam_top_in_cm\": null}, {\"main_stem_length_in_cm\": 64.0, \"total_meja\": 26, \"infested\": 1, \"tip_of_stem_broken\": 0, \"side_branches_in_cm\": null, \"total_number_adults\": 5, \"stem_diam_bottom_in_cm\": 0.45, \"diam_top_in_cm\": null}, {\"main_stem_length_in_cm\": 63.0, \"total_meja\": 20, \"infested\": 1, \"tip_of_stem_broken\": 0, \"side_branches_in_cm\": null, \"total_number_adults\": 7, \"stem_diam_bottom_in_cm\": 0.51, \"diam_top_in_cm\": null}, {\"main_stem_length_in_cm\": 67.0, \"total_meja\": 2, \"infested\": 1, \"tip_of_stem_broken\": 0, \"side_branches_in_cm\": null, \"total_number_adults\": 0, \"stem_diam_bottom_in_cm\": 0.42, \"diam_top_in_cm\": null}, {\"main_stem_length_in_cm\": 60.0, \"total_meja\": 8, \"infested\": 1, \"tip_of_stem_broken\": 0, \"side_branches_in_cm\": null, \"total_number_adults\": 0, \"stem_diam_bottom_in_cm\": 0.56, \"diam_top_in_cm\": null}, {\"main_stem_length_in_cm\": 62.0, \"total_meja\": 10, \"infested\": 1, \"tip_of_stem_broken\": 0, \"side_branches_in_cm\": null, \"total_number_adults\": 2, \"stem_diam_bottom_in_cm\": 0.68, \"diam_top_in_cm\": null}, {\"main_stem_length_in_cm\": 72.0, \"total_meja\": 5, \"infested\": 1, \"tip_of_stem_broken\": 0, \"side_branches_in_cm\": null, \"total_number_adults\": 0, \"stem_diam_bottom_in_cm\": 0.56, \"diam_top_in_cm\": null}, {\"main_stem_length_in_cm\": 57.0, \"total_meja\": 4, \"infested\": 1, \"tip_of_stem_broken\": 0, \"side_branches_in_cm\": null, \"total_number_adults\": 0, \"stem_diam_bottom_in_cm\": 0.62, \"diam_top_in_cm\": null}, {\"main_stem_length_in_cm\": 52.0, \"total_meja\": 10, \"infested\": 1, \"tip_of_stem_broken\": 0, \"side_branches_in_cm\": null, \"total_number_adults\": 2, \"stem_diam_bottom_in_cm\": 0.55, \"diam_top_in_cm\": null}, {\"main_stem_length_in_cm\": 56.0, \"total_meja\": 1, \"infested\": 1, \"tip_of_stem_broken\": 0, \"side_branches_in_cm\": null, \"total_number_adults\": 0, \"stem_diam_bottom_in_cm\": 0.44, \"diam_top_in_cm\": null}, {\"main_stem_length_in_cm\": 52.0, \"total_meja\": 14, \"infested\": 1, \"tip_of_stem_broken\": 0, \"side_branches_in_cm\": null, \"total_number_adults\": 2, \"stem_diam_bottom_in_cm\": 0.59, \"diam_top_in_cm\": null}, {\"main_stem_length_in_cm\": 58.0, \"total_meja\": 15, \"infested\": 1, \"tip_of_stem_broken\": 0, \"side_branches_in_cm\": null, \"total_number_adults\": 0, \"stem_diam_bottom_in_cm\": 0.42, \"diam_top_in_cm\": null}, {\"main_stem_length_in_cm\": 61.0, \"total_meja\": 3, \"infested\": 1, \"tip_of_stem_broken\": 0, \"side_branches_in_cm\": null, \"total_number_adults\": 0, \"stem_diam_bottom_in_cm\": 0.52, \"diam_top_in_cm\": null}, {\"main_stem_length_in_cm\": 64.0, \"total_meja\": 15, \"infested\": 1, \"tip_of_stem_broken\": 0, \"side_branches_in_cm\": null, \"total_number_adults\": 2, \"stem_diam_bottom_in_cm\": 0.63, \"diam_top_in_cm\": null}, {\"main_stem_length_in_cm\": 72.0, \"total_meja\": 39, \"infested\": 1, \"tip_of_stem_broken\": 0, \"side_branches_in_cm\": null, \"total_number_adults\": 2, \"stem_diam_bottom_in_cm\": 0.7, \"diam_top_in_cm\": null}, {\"main_stem_length_in_cm\": 73.0, \"total_meja\": 7, \"infested\": 1, \"tip_of_stem_broken\": 0, \"side_branches_in_cm\": null, \"total_number_adults\": 1, \"stem_diam_bottom_in_cm\": 0.69, \"diam_top_in_cm\": null}, {\"main_stem_length_in_cm\": 75.0, \"total_meja\": 12, \"infested\": 1, \"tip_of_stem_broken\": 0, \"side_branches_in_cm\": null, \"total_number_adults\": 0, \"stem_diam_bottom_in_cm\": 0.7, \"diam_top_in_cm\": null}, {\"main_stem_length_in_cm\": 66.0, \"total_meja\": 15, \"infested\": 1, \"tip_of_stem_broken\": 0, \"side_branches_in_cm\": null, \"total_number_adults\": 1, \"stem_diam_bottom_in_cm\": 0.7, \"diam_top_in_cm\": null}, {\"main_stem_length_in_cm\": 60.0, \"total_meja\": 22, \"infested\": 1, \"tip_of_stem_broken\": 0, \"side_branches_in_cm\": null, \"total_number_adults\": 4, \"stem_diam_bottom_in_cm\": 0.55, \"diam_top_in_cm\": null}, {\"main_stem_length_in_cm\": 60.0, \"total_meja\": 6, \"infested\": 1, \"tip_of_stem_broken\": 0, \"side_branches_in_cm\": null, \"total_number_adults\": 0, \"stem_diam_bottom_in_cm\": 0.58, \"diam_top_in_cm\": null}, {\"main_stem_length_in_cm\": 68.0, \"total_meja\": 7, \"infested\": 1, \"tip_of_stem_broken\": 0, \"side_branches_in_cm\": null, \"total_number_adults\": 1, \"stem_diam_bottom_in_cm\": 0.51, \"diam_top_in_cm\": null}, {\"main_stem_length_in_cm\": 54.0, \"total_meja\": 10, \"infested\": 1, \"tip_of_stem_broken\": 0, \"side_branches_in_cm\": null, \"total_number_adults\": 0, \"stem_diam_bottom_in_cm\": 0.51, \"diam_top_in_cm\": null}, {\"main_stem_length_in_cm\": 58.0, \"total_meja\": 28, \"infested\": 1, \"tip_of_stem_broken\": 0, \"side_branches_in_cm\": null, \"total_number_adults\": 2, \"stem_diam_bottom_in_cm\": 0.71, \"diam_top_in_cm\": null}, {\"main_stem_length_in_cm\": 60.0, \"total_meja\": 31, \"infested\": 1, \"tip_of_stem_broken\": 0, \"side_branches_in_cm\": null, \"total_number_adults\": 6, \"stem_diam_bottom_in_cm\": 0.55, \"diam_top_in_cm\": null}, {\"main_stem_length_in_cm\": 64.0, \"total_meja\": 21, \"infested\": 1, \"tip_of_stem_broken\": 0, \"side_branches_in_cm\": null, \"total_number_adults\": 1, \"stem_diam_bottom_in_cm\": 0.7, \"diam_top_in_cm\": null}, {\"main_stem_length_in_cm\": 54.0, \"total_meja\": 18, \"infested\": 1, \"tip_of_stem_broken\": 0, \"side_branches_in_cm\": null, \"total_number_adults\": 0, \"stem_diam_bottom_in_cm\": 0.51, \"diam_top_in_cm\": null}, {\"main_stem_length_in_cm\": 45.0, \"total_meja\": 15, \"infested\": 1, \"tip_of_stem_broken\": 0, \"side_branches_in_cm\": null, \"total_number_adults\": 0, \"stem_diam_bottom_in_cm\": 0.47, \"diam_top_in_cm\": null}, {\"main_stem_length_in_cm\": 56.0, \"total_meja\": 21, \"infested\": 1, \"tip_of_stem_broken\": 0, \"side_branches_in_cm\": null, \"total_number_adults\": 1, \"stem_diam_bottom_in_cm\": 0.63, \"diam_top_in_cm\": null}, {\"main_stem_length_in_cm\": 72.0, \"total_meja\": 0, \"infested\": 0, \"tip_of_stem_broken\": 0, \"side_branches_in_cm\": null, \"total_number_adults\": 0, \"stem_diam_bottom_in_cm\": 0.68, \"diam_top_in_cm\": null}, {\"main_stem_length_in_cm\": 70.0, \"total_meja\": 2, \"infested\": 1, \"tip_of_stem_broken\": 0, \"side_branches_in_cm\": null, \"total_number_adults\": 0, \"stem_diam_bottom_in_cm\": 0.67, \"diam_top_in_cm\": null}, {\"main_stem_length_in_cm\": 74.0, \"total_meja\": 0, \"infested\": 0, \"tip_of_stem_broken\": 0, \"side_branches_in_cm\": null, \"total_number_adults\": 0, \"stem_diam_bottom_in_cm\": 0.46, \"diam_top_in_cm\": null}, {\"main_stem_length_in_cm\": 84.0, \"total_meja\": 0, \"infested\": 0, \"tip_of_stem_broken\": 0, \"side_branches_in_cm\": null, \"total_number_adults\": 0, \"stem_diam_bottom_in_cm\": 0.59, \"diam_top_in_cm\": null}, {\"main_stem_length_in_cm\": 87.0, \"total_meja\": 0, \"infested\": 0, \"tip_of_stem_broken\": 0, \"side_branches_in_cm\": null, \"total_number_adults\": 0, \"stem_diam_bottom_in_cm\": 0.52, \"diam_top_in_cm\": null}, {\"main_stem_length_in_cm\": 79.0, \"total_meja\": 0, \"infested\": 0, \"tip_of_stem_broken\": 0, \"side_branches_in_cm\": null, \"total_number_adults\": 0, \"stem_diam_bottom_in_cm\": 0.51, \"diam_top_in_cm\": null}, {\"main_stem_length_in_cm\": 71.0, \"total_meja\": 0, \"infested\": 0, \"tip_of_stem_broken\": 0, \"side_branches_in_cm\": null, \"total_number_adults\": 0, \"stem_diam_bottom_in_cm\": 0.44, \"diam_top_in_cm\": null}, {\"main_stem_length_in_cm\": 66.0, \"total_meja\": 1, \"infested\": 1, \"tip_of_stem_broken\": 0, \"side_branches_in_cm\": null, \"total_number_adults\": 0, \"stem_diam_bottom_in_cm\": 0.66, \"diam_top_in_cm\": null}, {\"main_stem_length_in_cm\": 65.0, \"total_meja\": 0, \"infested\": 0, \"tip_of_stem_broken\": 0, \"side_branches_in_cm\": null, \"total_number_adults\": 0, \"stem_diam_bottom_in_cm\": 0.57, \"diam_top_in_cm\": null}, {\"main_stem_length_in_cm\": 56.0, \"total_meja\": 0, \"infested\": 0, \"tip_of_stem_broken\": 0, \"side_branches_in_cm\": null, \"total_number_adults\": 0, \"stem_diam_bottom_in_cm\": 0.46, \"diam_top_in_cm\": null}, {\"main_stem_length_in_cm\": 62.0, \"total_meja\": 0, \"infested\": 0, \"tip_of_stem_broken\": 0, \"side_branches_in_cm\": null, \"total_number_adults\": 0, \"stem_diam_bottom_in_cm\": 0.5, \"diam_top_in_cm\": null}, {\"main_stem_length_in_cm\": 54.0, \"total_meja\": 0, \"infested\": 0, \"tip_of_stem_broken\": 0, \"side_branches_in_cm\": null, \"total_number_adults\": 0, \"stem_diam_bottom_in_cm\": 0.46, \"diam_top_in_cm\": null}, {\"main_stem_length_in_cm\": 51.0, \"total_meja\": 0, \"infested\": 0, \"tip_of_stem_broken\": 0, \"side_branches_in_cm\": null, \"total_number_adults\": 0, \"stem_diam_bottom_in_cm\": 0.41, \"diam_top_in_cm\": null}, {\"main_stem_length_in_cm\": 51.0, \"total_meja\": 0, \"infested\": 0, \"tip_of_stem_broken\": 0, \"side_branches_in_cm\": null, \"total_number_adults\": 0, \"stem_diam_bottom_in_cm\": 0.37, \"diam_top_in_cm\": null}, {\"main_stem_length_in_cm\": 47.0, \"total_meja\": 0, \"infested\": 0, \"tip_of_stem_broken\": 0, \"side_branches_in_cm\": null, \"total_number_adults\": 0, \"stem_diam_bottom_in_cm\": 0.31, \"diam_top_in_cm\": null}, {\"main_stem_length_in_cm\": 111.0, \"total_meja\": 3, \"infested\": 1, \"tip_of_stem_broken\": 0, \"side_branches_in_cm\": null, \"total_number_adults\": 0, \"stem_diam_bottom_in_cm\": 0.65, \"diam_top_in_cm\": null}, {\"main_stem_length_in_cm\": 61.0, \"total_meja\": 14, \"infested\": 1, \"tip_of_stem_broken\": 0, \"side_branches_in_cm\": null, \"total_number_adults\": 2, \"stem_diam_bottom_in_cm\": 0.75, \"diam_top_in_cm\": null}, {\"main_stem_length_in_cm\": 67.0, \"total_meja\": 18, \"infested\": 1, \"tip_of_stem_broken\": 0, \"side_branches_in_cm\": null, \"total_number_adults\": 2, \"stem_diam_bottom_in_cm\": 0.74, \"diam_top_in_cm\": null}, {\"main_stem_length_in_cm\": 51.0, \"total_meja\": 24, \"infested\": 1, \"tip_of_stem_broken\": 0, \"side_branches_in_cm\": null, \"total_number_adults\": 2, \"stem_diam_bottom_in_cm\": 0.83, \"diam_top_in_cm\": null}, {\"main_stem_length_in_cm\": 72.0, \"total_meja\": 33, \"infested\": 1, \"tip_of_stem_broken\": 0, \"side_branches_in_cm\": null, \"total_number_adults\": 5, \"stem_diam_bottom_in_cm\": 0.67, \"diam_top_in_cm\": null}, {\"main_stem_length_in_cm\": 47.0, \"total_meja\": 39, \"infested\": 1, \"tip_of_stem_broken\": 0, \"side_branches_in_cm\": null, \"total_number_adults\": 9, \"stem_diam_bottom_in_cm\": 0.47, \"diam_top_in_cm\": null}, {\"main_stem_length_in_cm\": 58.0, \"total_meja\": 25, \"infested\": 1, \"tip_of_stem_broken\": 0, \"side_branches_in_cm\": null, \"total_number_adults\": 1, \"stem_diam_bottom_in_cm\": 0.47, \"diam_top_in_cm\": null}, {\"main_stem_length_in_cm\": 32.0, \"total_meja\": 19, \"infested\": 1, \"tip_of_stem_broken\": 0, \"side_branches_in_cm\": null, \"total_number_adults\": 2, \"stem_diam_bottom_in_cm\": 0.58, \"diam_top_in_cm\": null}, {\"main_stem_length_in_cm\": 24.0, \"total_meja\": 14, \"infested\": 1, \"tip_of_stem_broken\": 0, \"side_branches_in_cm\": null, \"total_number_adults\": 0, \"stem_diam_bottom_in_cm\": 0.47, \"diam_top_in_cm\": null}, {\"main_stem_length_in_cm\": 42.0, \"total_meja\": 28, \"infested\": 1, \"tip_of_stem_broken\": 0, \"side_branches_in_cm\": null, \"total_number_adults\": 7, \"stem_diam_bottom_in_cm\": 0.46, \"diam_top_in_cm\": null}, {\"main_stem_length_in_cm\": 26.0, \"total_meja\": 19, \"infested\": 1, \"tip_of_stem_broken\": 0, \"side_branches_in_cm\": null, \"total_number_adults\": 3, \"stem_diam_bottom_in_cm\": 0.44, \"diam_top_in_cm\": null}, {\"main_stem_length_in_cm\": 34.0, \"total_meja\": 16, \"infested\": 1, \"tip_of_stem_broken\": 0, \"side_branches_in_cm\": null, \"total_number_adults\": 0, \"stem_diam_bottom_in_cm\": 0.36, \"diam_top_in_cm\": null}, {\"main_stem_length_in_cm\": 31.0, \"total_meja\": 15, \"infested\": 1, \"tip_of_stem_broken\": 0, \"side_branches_in_cm\": null, \"total_number_adults\": 1, \"stem_diam_bottom_in_cm\": 0.49, \"diam_top_in_cm\": null}, {\"main_stem_length_in_cm\": 33.0, \"total_meja\": 8, \"infested\": 1, \"tip_of_stem_broken\": 0, \"side_branches_in_cm\": null, \"total_number_adults\": 0, \"stem_diam_bottom_in_cm\": 0.56, \"diam_top_in_cm\": null}, {\"main_stem_length_in_cm\": 28.0, \"total_meja\": 16, \"infested\": 1, \"tip_of_stem_broken\": 0, \"side_branches_in_cm\": null, \"total_number_adults\": 0, \"stem_diam_bottom_in_cm\": 0.41, \"diam_top_in_cm\": null}, {\"main_stem_length_in_cm\": 41.0, \"total_meja\": 26, \"infested\": 1, \"tip_of_stem_broken\": 0, \"side_branches_in_cm\": null, \"total_number_adults\": 13, \"stem_diam_bottom_in_cm\": 0.62, \"diam_top_in_cm\": null}, {\"main_stem_length_in_cm\": 132.0, \"total_meja\": 33, \"infested\": 1, \"tip_of_stem_broken\": 0, \"side_branches_in_cm\": null, \"total_number_adults\": 5, \"stem_diam_bottom_in_cm\": 0.77, \"diam_top_in_cm\": null}, {\"main_stem_length_in_cm\": 65.0, \"total_meja\": 17, \"infested\": 1, \"tip_of_stem_broken\": 0, \"side_branches_in_cm\": null, \"total_number_adults\": 1, \"stem_diam_bottom_in_cm\": 0.61, \"diam_top_in_cm\": null}, {\"main_stem_length_in_cm\": 100.0, \"total_meja\": 15, \"infested\": 1, \"tip_of_stem_broken\": 0, \"side_branches_in_cm\": null, \"total_number_adults\": 3, \"stem_diam_bottom_in_cm\": 0.77, \"diam_top_in_cm\": null}, {\"main_stem_length_in_cm\": 43.0, \"total_meja\": 12, \"infested\": 1, \"tip_of_stem_broken\": 0, \"side_branches_in_cm\": null, \"total_number_adults\": 1, \"stem_diam_bottom_in_cm\": 0.64, \"diam_top_in_cm\": null}, {\"main_stem_length_in_cm\": 53.0, \"total_meja\": 8, \"infested\": 1, \"tip_of_stem_broken\": 0, \"side_branches_in_cm\": null, \"total_number_adults\": 0, \"stem_diam_bottom_in_cm\": 0.63, \"diam_top_in_cm\": null}, {\"main_stem_length_in_cm\": 63.0, \"total_meja\": 21, \"infested\": 1, \"tip_of_stem_broken\": 0, \"side_branches_in_cm\": null, \"total_number_adults\": 2, \"stem_diam_bottom_in_cm\": 0.8, \"diam_top_in_cm\": null}, {\"main_stem_length_in_cm\": 30.0, \"total_meja\": 6, \"infested\": 1, \"tip_of_stem_broken\": 0, \"side_branches_in_cm\": null, \"total_number_adults\": 0, \"stem_diam_bottom_in_cm\": 0.33, \"diam_top_in_cm\": null}, {\"main_stem_length_in_cm\": 29.0, \"total_meja\": 6, \"infested\": 1, \"tip_of_stem_broken\": 0, \"side_branches_in_cm\": null, \"total_number_adults\": 0, \"stem_diam_bottom_in_cm\": 0.35, \"diam_top_in_cm\": null}, {\"main_stem_length_in_cm\": 27.0, \"total_meja\": 7, \"infested\": 1, \"tip_of_stem_broken\": 0, \"side_branches_in_cm\": null, \"total_number_adults\": 2, \"stem_diam_bottom_in_cm\": 0.44, \"diam_top_in_cm\": null}, {\"main_stem_length_in_cm\": 30.0, \"total_meja\": 3, \"infested\": 1, \"tip_of_stem_broken\": 0, \"side_branches_in_cm\": null, \"total_number_adults\": 0, \"stem_diam_bottom_in_cm\": 0.37, \"diam_top_in_cm\": null}, {\"main_stem_length_in_cm\": 42.0, \"total_meja\": 10, \"infested\": 1, \"tip_of_stem_broken\": 0, \"side_branches_in_cm\": null, \"total_number_adults\": 0, \"stem_diam_bottom_in_cm\": 0.43, \"diam_top_in_cm\": null}, {\"main_stem_length_in_cm\": 50.0, \"total_meja\": 8, \"infested\": 1, \"tip_of_stem_broken\": 0, \"side_branches_in_cm\": null, \"total_number_adults\": 0, \"stem_diam_bottom_in_cm\": 0.47, \"diam_top_in_cm\": null}, {\"main_stem_length_in_cm\": 42.0, \"total_meja\": 2, \"infested\": 1, \"tip_of_stem_broken\": 0, \"side_branches_in_cm\": null, \"total_number_adults\": 0, \"stem_diam_bottom_in_cm\": 0.43, \"diam_top_in_cm\": null}, {\"main_stem_length_in_cm\": 74.0, \"total_meja\": 9, \"infested\": 1, \"tip_of_stem_broken\": 0, \"side_branches_in_cm\": null, \"total_number_adults\": 1, \"stem_diam_bottom_in_cm\": 0.41, \"diam_top_in_cm\": null}, {\"main_stem_length_in_cm\": 61.0, \"total_meja\": 10, \"infested\": 1, \"tip_of_stem_broken\": 0, \"side_branches_in_cm\": null, \"total_number_adults\": 1, \"stem_diam_bottom_in_cm\": 0.56, \"diam_top_in_cm\": null}, {\"main_stem_length_in_cm\": 72.0, \"total_meja\": 12, \"infested\": 1, \"tip_of_stem_broken\": 0, \"side_branches_in_cm\": null, \"total_number_adults\": 4, \"stem_diam_bottom_in_cm\": 0.54, \"diam_top_in_cm\": null}, {\"main_stem_length_in_cm\": 43.0, \"total_meja\": 10, \"infested\": 1, \"tip_of_stem_broken\": 0, \"side_branches_in_cm\": null, \"total_number_adults\": 5, \"stem_diam_bottom_in_cm\": 0.67, \"diam_top_in_cm\": null}, {\"main_stem_length_in_cm\": 50.0, \"total_meja\": 26, \"infested\": 1, \"tip_of_stem_broken\": 0, \"side_branches_in_cm\": null, \"total_number_adults\": 4, \"stem_diam_bottom_in_cm\": 0.67, \"diam_top_in_cm\": null}, {\"main_stem_length_in_cm\": 58.0, \"total_meja\": 25, \"infested\": 1, \"tip_of_stem_broken\": 0, \"side_branches_in_cm\": null, \"total_number_adults\": 5, \"stem_diam_bottom_in_cm\": 0.38, \"diam_top_in_cm\": null}, {\"main_stem_length_in_cm\": 59.0, \"total_meja\": 18, \"infested\": 1, \"tip_of_stem_broken\": 0, \"side_branches_in_cm\": null, \"total_number_adults\": 1, \"stem_diam_bottom_in_cm\": 0.48, \"diam_top_in_cm\": null}, {\"main_stem_length_in_cm\": 85.0, \"total_meja\": 28, \"infested\": 1, \"tip_of_stem_broken\": 0, \"side_branches_in_cm\": null, \"total_number_adults\": 6, \"stem_diam_bottom_in_cm\": 0.89, \"diam_top_in_cm\": null}, {\"main_stem_length_in_cm\": 32.0, \"total_meja\": 13, \"infested\": 1, \"tip_of_stem_broken\": 0, \"side_branches_in_cm\": null, \"total_number_adults\": 3, \"stem_diam_bottom_in_cm\": 0.56, \"diam_top_in_cm\": null}, {\"main_stem_length_in_cm\": 77.0, \"total_meja\": 37, \"infested\": 1, \"tip_of_stem_broken\": 0, \"side_branches_in_cm\": null, \"total_number_adults\": 1, \"stem_diam_bottom_in_cm\": 0.82, \"diam_top_in_cm\": null}, {\"main_stem_length_in_cm\": 43.0, \"total_meja\": 11, \"infested\": 1, \"tip_of_stem_broken\": 0, \"side_branches_in_cm\": null, \"total_number_adults\": 2, \"stem_diam_bottom_in_cm\": 0.48, \"diam_top_in_cm\": null}, {\"main_stem_length_in_cm\": 76.0, \"total_meja\": 3, \"infested\": 1, \"tip_of_stem_broken\": 0, \"side_branches_in_cm\": null, \"total_number_adults\": 0, \"stem_diam_bottom_in_cm\": 0.62, \"diam_top_in_cm\": null}, {\"main_stem_length_in_cm\": 51.0, \"total_meja\": 20, \"infested\": 1, \"tip_of_stem_broken\": 0, \"side_branches_in_cm\": null, \"total_number_adults\": 3, \"stem_diam_bottom_in_cm\": 0.68, \"diam_top_in_cm\": null}, {\"main_stem_length_in_cm\": 88.0, \"total_meja\": 22, \"infested\": 1, \"tip_of_stem_broken\": 0, \"side_branches_in_cm\": null, \"total_number_adults\": 2, \"stem_diam_bottom_in_cm\": 0.71, \"diam_top_in_cm\": null}, {\"main_stem_length_in_cm\": 87.0, \"total_meja\": 60, \"infested\": 1, \"tip_of_stem_broken\": 0, \"side_branches_in_cm\": null, \"total_number_adults\": 6, \"stem_diam_bottom_in_cm\": 0.94, \"diam_top_in_cm\": null}, {\"main_stem_length_in_cm\": 48.0, \"total_meja\": 8, \"infested\": 1, \"tip_of_stem_broken\": 0, \"side_branches_in_cm\": null, \"total_number_adults\": 1, \"stem_diam_bottom_in_cm\": 0.44, \"diam_top_in_cm\": null}, {\"main_stem_length_in_cm\": 106.0, \"total_meja\": 62, \"infested\": 1, \"tip_of_stem_broken\": 0, \"side_branches_in_cm\": null, \"total_number_adults\": 8, \"stem_diam_bottom_in_cm\": 0.79, \"diam_top_in_cm\": null}, {\"main_stem_length_in_cm\": 61.0, \"total_meja\": 21, \"infested\": 1, \"tip_of_stem_broken\": 0, \"side_branches_in_cm\": null, \"total_number_adults\": 1, \"stem_diam_bottom_in_cm\": 0.41, \"diam_top_in_cm\": null}, {\"main_stem_length_in_cm\": 72.0, \"total_meja\": 17, \"infested\": 1, \"tip_of_stem_broken\": 0, \"side_branches_in_cm\": null, \"total_number_adults\": 0, \"stem_diam_bottom_in_cm\": 0.5, \"diam_top_in_cm\": null}, {\"main_stem_length_in_cm\": 31.0, \"total_meja\": 38, \"infested\": 1, \"tip_of_stem_broken\": 0, \"side_branches_in_cm\": null, \"total_number_adults\": 11, \"stem_diam_bottom_in_cm\": 0.53, \"diam_top_in_cm\": null}, {\"main_stem_length_in_cm\": 50.0, \"total_meja\": 22, \"infested\": 1, \"tip_of_stem_broken\": 0, \"side_branches_in_cm\": null, \"total_number_adults\": 4, \"stem_diam_bottom_in_cm\": 0.44, \"diam_top_in_cm\": null}, {\"main_stem_length_in_cm\": 99.0, \"total_meja\": 14, \"infested\": 1, \"tip_of_stem_broken\": 0, \"side_branches_in_cm\": null, \"total_number_adults\": 0, \"stem_diam_bottom_in_cm\": 0.63, \"diam_top_in_cm\": null}, {\"main_stem_length_in_cm\": 38.0, \"total_meja\": 8, \"infested\": 1, \"tip_of_stem_broken\": 0, \"side_branches_in_cm\": null, \"total_number_adults\": 0, \"stem_diam_bottom_in_cm\": 0.33, \"diam_top_in_cm\": null}, {\"main_stem_length_in_cm\": 116.0, \"total_meja\": 35, \"infested\": 1, \"tip_of_stem_broken\": 0, \"side_branches_in_cm\": null, \"total_number_adults\": 7, \"stem_diam_bottom_in_cm\": 0.53, \"diam_top_in_cm\": null}, {\"main_stem_length_in_cm\": 59.0, \"total_meja\": 21, \"infested\": 1, \"tip_of_stem_broken\": 0, \"side_branches_in_cm\": null, \"total_number_adults\": 4, \"stem_diam_bottom_in_cm\": 0.42, \"diam_top_in_cm\": null}, {\"main_stem_length_in_cm\": 34.0, \"total_meja\": 10, \"infested\": 1, \"tip_of_stem_broken\": 0, \"side_branches_in_cm\": null, \"total_number_adults\": 3, \"stem_diam_bottom_in_cm\": 0.41, \"diam_top_in_cm\": null}, {\"main_stem_length_in_cm\": 34.0, \"total_meja\": 10, \"infested\": 1, \"tip_of_stem_broken\": 0, \"side_branches_in_cm\": null, \"total_number_adults\": 0, \"stem_diam_bottom_in_cm\": 0.43, \"diam_top_in_cm\": null}, {\"main_stem_length_in_cm\": 38.0, \"total_meja\": 4, \"infested\": 1, \"tip_of_stem_broken\": 0, \"side_branches_in_cm\": null, \"total_number_adults\": 0, \"stem_diam_bottom_in_cm\": 0.42, \"diam_top_in_cm\": null}, {\"main_stem_length_in_cm\": 87.0, \"total_meja\": 12, \"infested\": 1, \"tip_of_stem_broken\": 0, \"side_branches_in_cm\": null, \"total_number_adults\": 1, \"stem_diam_bottom_in_cm\": 0.7, \"diam_top_in_cm\": null}, {\"main_stem_length_in_cm\": 30.0, \"total_meja\": 10, \"infested\": 1, \"tip_of_stem_broken\": 0, \"side_branches_in_cm\": null, \"total_number_adults\": 0, \"stem_diam_bottom_in_cm\": 0.34, \"diam_top_in_cm\": null}, {\"main_stem_length_in_cm\": 37.0, \"total_meja\": 13, \"infested\": 1, \"tip_of_stem_broken\": 0, \"side_branches_in_cm\": null, \"total_number_adults\": 0, \"stem_diam_bottom_in_cm\": 0.44, \"diam_top_in_cm\": null}, {\"main_stem_length_in_cm\": 43.0, \"total_meja\": 1, \"infested\": 1, \"tip_of_stem_broken\": 0, \"side_branches_in_cm\": null, \"total_number_adults\": 0, \"stem_diam_bottom_in_cm\": 0.33, \"diam_top_in_cm\": null}, {\"main_stem_length_in_cm\": 57.0, \"total_meja\": 1, \"infested\": 1, \"tip_of_stem_broken\": 0, \"side_branches_in_cm\": null, \"total_number_adults\": 0, \"stem_diam_bottom_in_cm\": 0.47, \"diam_top_in_cm\": null}, {\"main_stem_length_in_cm\": 34.0, \"total_meja\": 1, \"infested\": 1, \"tip_of_stem_broken\": 0, \"side_branches_in_cm\": null, \"total_number_adults\": 0, \"stem_diam_bottom_in_cm\": 0.37, \"diam_top_in_cm\": null}, {\"main_stem_length_in_cm\": 22.0, \"total_meja\": 0, \"infested\": 0, \"tip_of_stem_broken\": 0, \"side_branches_in_cm\": null, \"total_number_adults\": 0, \"stem_diam_bottom_in_cm\": 0.32, \"diam_top_in_cm\": null}, {\"main_stem_length_in_cm\": 29.0, \"total_meja\": 1, \"infested\": 1, \"tip_of_stem_broken\": 0, \"side_branches_in_cm\": null, \"total_number_adults\": 0, \"stem_diam_bottom_in_cm\": 0.34, \"diam_top_in_cm\": null}, {\"main_stem_length_in_cm\": 30.0, \"total_meja\": 1, \"infested\": 1, \"tip_of_stem_broken\": 0, \"side_branches_in_cm\": null, \"total_number_adults\": 0, \"stem_diam_bottom_in_cm\": 0.11, \"diam_top_in_cm\": null}, {\"main_stem_length_in_cm\": 20.0, \"total_meja\": 0, \"infested\": 0, \"tip_of_stem_broken\": 0, \"side_branches_in_cm\": null, \"total_number_adults\": 0, \"stem_diam_bottom_in_cm\": 0.19, \"diam_top_in_cm\": null}, {\"main_stem_length_in_cm\": 53.0, \"total_meja\": 9, \"infested\": 1, \"tip_of_stem_broken\": 0, \"side_branches_in_cm\": null, \"total_number_adults\": 2, \"stem_diam_bottom_in_cm\": 0.43, \"diam_top_in_cm\": null}, {\"main_stem_length_in_cm\": 43.0, \"total_meja\": 3, \"infested\": 1, \"tip_of_stem_broken\": 0, \"side_branches_in_cm\": null, \"total_number_adults\": 0, \"stem_diam_bottom_in_cm\": 0.39, \"diam_top_in_cm\": null}, {\"main_stem_length_in_cm\": 48.0, \"total_meja\": 13, \"infested\": 1, \"tip_of_stem_broken\": 0, \"side_branches_in_cm\": null, \"total_number_adults\": 6, \"stem_diam_bottom_in_cm\": 0.5, \"diam_top_in_cm\": null}, {\"main_stem_length_in_cm\": 84.0, \"total_meja\": 9, \"infested\": 1, \"tip_of_stem_broken\": 0, \"side_branches_in_cm\": null, \"total_number_adults\": 2, \"stem_diam_bottom_in_cm\": 0.51, \"diam_top_in_cm\": null}, {\"main_stem_length_in_cm\": 50.0, \"total_meja\": 6, \"infested\": 1, \"tip_of_stem_broken\": 0, \"side_branches_in_cm\": null, \"total_number_adults\": 0, \"stem_diam_bottom_in_cm\": 0.6, \"diam_top_in_cm\": null}, {\"main_stem_length_in_cm\": 48.0, \"total_meja\": 19, \"infested\": 1, \"tip_of_stem_broken\": 0, \"side_branches_in_cm\": null, \"total_number_adults\": 2, \"stem_diam_bottom_in_cm\": 0.63, \"diam_top_in_cm\": null}, {\"main_stem_length_in_cm\": 73.0, \"total_meja\": 33, \"infested\": 1, \"tip_of_stem_broken\": 0, \"side_branches_in_cm\": null, \"total_number_adults\": 4, \"stem_diam_bottom_in_cm\": 0.44, \"diam_top_in_cm\": null}, {\"main_stem_length_in_cm\": 45.0, \"total_meja\": 25, \"infested\": 1, \"tip_of_stem_broken\": 0, \"side_branches_in_cm\": null, \"total_number_adults\": 9, \"stem_diam_bottom_in_cm\": 0.55, \"diam_top_in_cm\": null}, {\"main_stem_length_in_cm\": 37.0, \"total_meja\": 14, \"infested\": 1, \"tip_of_stem_broken\": 0, \"side_branches_in_cm\": null, \"total_number_adults\": 0, \"stem_diam_bottom_in_cm\": 0.48, \"diam_top_in_cm\": null}, {\"main_stem_length_in_cm\": 96.0, \"total_meja\": 10, \"infested\": 1, \"tip_of_stem_broken\": 0, \"side_branches_in_cm\": null, \"total_number_adults\": 0, \"stem_diam_bottom_in_cm\": 0.35, \"diam_top_in_cm\": null}, {\"main_stem_length_in_cm\": 30.0, \"total_meja\": 4, \"infested\": 1, \"tip_of_stem_broken\": 0, \"side_branches_in_cm\": null, \"total_number_adults\": 0, \"stem_diam_bottom_in_cm\": 0.73, \"diam_top_in_cm\": null}, {\"main_stem_length_in_cm\": 39.0, \"total_meja\": 12, \"infested\": 1, \"tip_of_stem_broken\": 0, \"side_branches_in_cm\": null, \"total_number_adults\": 3, \"stem_diam_bottom_in_cm\": 0.29, \"diam_top_in_cm\": null}, {\"main_stem_length_in_cm\": 26.0, \"total_meja\": 8, \"infested\": 1, \"tip_of_stem_broken\": 0, \"side_branches_in_cm\": null, \"total_number_adults\": 1, \"stem_diam_bottom_in_cm\": 0.31, \"diam_top_in_cm\": null}, {\"main_stem_length_in_cm\": 65.0, \"total_meja\": 14, \"infested\": 1, \"tip_of_stem_broken\": 0, \"side_branches_in_cm\": null, \"total_number_adults\": 8, \"stem_diam_bottom_in_cm\": 0.49, \"diam_top_in_cm\": null}, {\"main_stem_length_in_cm\": 20.0, \"total_meja\": 9, \"infested\": 1, \"tip_of_stem_broken\": 0, \"side_branches_in_cm\": null, \"total_number_adults\": 0, \"stem_diam_bottom_in_cm\": 0.4, \"diam_top_in_cm\": null}, {\"main_stem_length_in_cm\": 96.0, \"total_meja\": 1, \"infested\": 1, \"tip_of_stem_broken\": 0, \"side_branches_in_cm\": null, \"total_number_adults\": 1, \"stem_diam_bottom_in_cm\": 0.77, \"diam_top_in_cm\": null}, {\"main_stem_length_in_cm\": 77.0, \"total_meja\": 6, \"infested\": 1, \"tip_of_stem_broken\": 1, \"side_branches_in_cm\": null, \"total_number_adults\": 0, \"stem_diam_bottom_in_cm\": 0.74, \"diam_top_in_cm\": null}, {\"main_stem_length_in_cm\": 88.0, \"total_meja\": 2, \"infested\": 1, \"tip_of_stem_broken\": 1, \"side_branches_in_cm\": null, \"total_number_adults\": 1, \"stem_diam_bottom_in_cm\": 1.12, \"diam_top_in_cm\": null}, {\"main_stem_length_in_cm\": 93.0, \"total_meja\": 2, \"infested\": 1, \"tip_of_stem_broken\": 1, \"side_branches_in_cm\": null, \"total_number_adults\": 0, \"stem_diam_bottom_in_cm\": 0.85, \"diam_top_in_cm\": null}, {\"main_stem_length_in_cm\": 111.0, \"total_meja\": 5, \"infested\": 1, \"tip_of_stem_broken\": 0, \"side_branches_in_cm\": null, \"total_number_adults\": 0, \"stem_diam_bottom_in_cm\": 0.75, \"diam_top_in_cm\": null}, {\"main_stem_length_in_cm\": 87.0, \"total_meja\": 0, \"infested\": 0, \"tip_of_stem_broken\": 1, \"side_branches_in_cm\": null, \"total_number_adults\": 0, \"stem_diam_bottom_in_cm\": 0.69, \"diam_top_in_cm\": null}, {\"main_stem_length_in_cm\": 125.0, \"total_meja\": 6, \"infested\": 1, \"tip_of_stem_broken\": 0, \"side_branches_in_cm\": null, \"total_number_adults\": 1, \"stem_diam_bottom_in_cm\": 0.89, \"diam_top_in_cm\": null}, {\"main_stem_length_in_cm\": 99.0, \"total_meja\": 2, \"infested\": 1, \"tip_of_stem_broken\": 0, \"side_branches_in_cm\": null, \"total_number_adults\": 0, \"stem_diam_bottom_in_cm\": 0.73, \"diam_top_in_cm\": null}, {\"main_stem_length_in_cm\": 120.0, \"total_meja\": 1, \"infested\": 1, \"tip_of_stem_broken\": 0, \"side_branches_in_cm\": null, \"total_number_adults\": 0, \"stem_diam_bottom_in_cm\": 0.78, \"diam_top_in_cm\": null}, {\"main_stem_length_in_cm\": 106.0, \"total_meja\": 5, \"infested\": 1, \"tip_of_stem_broken\": 0, \"side_branches_in_cm\": null, \"total_number_adults\": 0, \"stem_diam_bottom_in_cm\": 0.51, \"diam_top_in_cm\": null}, {\"main_stem_length_in_cm\": 86.0, \"total_meja\": 4, \"infested\": 1, \"tip_of_stem_broken\": 1, \"side_branches_in_cm\": null, \"total_number_adults\": 0, \"stem_diam_bottom_in_cm\": 0.71, \"diam_top_in_cm\": null}, {\"main_stem_length_in_cm\": 102.0, \"total_meja\": 7, \"infested\": 1, \"tip_of_stem_broken\": 1, \"side_branches_in_cm\": null, \"total_number_adults\": 0, \"stem_diam_bottom_in_cm\": 0.79, \"diam_top_in_cm\": null}, {\"main_stem_length_in_cm\": 103.0, \"total_meja\": 1, \"infested\": 1, \"tip_of_stem_broken\": 1, \"side_branches_in_cm\": null, \"total_number_adults\": 0, \"stem_diam_bottom_in_cm\": 0.85, \"diam_top_in_cm\": null}, {\"main_stem_length_in_cm\": 72.0, \"total_meja\": 4, \"infested\": 1, \"tip_of_stem_broken\": 1, \"side_branches_in_cm\": null, \"total_number_adults\": 0, \"stem_diam_bottom_in_cm\": 0.59, \"diam_top_in_cm\": null}, {\"main_stem_length_in_cm\": 99.0, \"total_meja\": 2, \"infested\": 1, \"tip_of_stem_broken\": 1, \"side_branches_in_cm\": null, \"total_number_adults\": 0, \"stem_diam_bottom_in_cm\": 1.05, \"diam_top_in_cm\": null}, {\"main_stem_length_in_cm\": 77.0, \"total_meja\": 0, \"infested\": 0, \"tip_of_stem_broken\": 1, \"side_branches_in_cm\": null, \"total_number_adults\": 0, \"stem_diam_bottom_in_cm\": 0.7, \"diam_top_in_cm\": null}, {\"main_stem_length_in_cm\": 89.0, \"total_meja\": 0, \"infested\": 0, \"tip_of_stem_broken\": 1, \"side_branches_in_cm\": null, \"total_number_adults\": 0, \"stem_diam_bottom_in_cm\": 0.65, \"diam_top_in_cm\": null}, {\"main_stem_length_in_cm\": 104.0, \"total_meja\": 0, \"infested\": 0, \"tip_of_stem_broken\": 1, \"side_branches_in_cm\": null, \"total_number_adults\": 0, \"stem_diam_bottom_in_cm\": 0.63, \"diam_top_in_cm\": null}, {\"main_stem_length_in_cm\": 113.0, \"total_meja\": 1, \"infested\": 1, \"tip_of_stem_broken\": 0, \"side_branches_in_cm\": null, \"total_number_adults\": 1, \"stem_diam_bottom_in_cm\": 0.67, \"diam_top_in_cm\": null}, {\"main_stem_length_in_cm\": 97.0, \"total_meja\": 3, \"infested\": 1, \"tip_of_stem_broken\": 0, \"side_branches_in_cm\": null, \"total_number_adults\": 2, \"stem_diam_bottom_in_cm\": 0.62, \"diam_top_in_cm\": null}, {\"main_stem_length_in_cm\": 80.0, \"total_meja\": 0, \"infested\": 0, \"tip_of_stem_broken\": 1, \"side_branches_in_cm\": null, \"total_number_adults\": 0, \"stem_diam_bottom_in_cm\": 0.79, \"diam_top_in_cm\": 0.21}, {\"main_stem_length_in_cm\": 122.0, \"total_meja\": 1, \"infested\": 1, \"tip_of_stem_broken\": 1, \"side_branches_in_cm\": null, \"total_number_adults\": 0, \"stem_diam_bottom_in_cm\": 0.92, \"diam_top_in_cm\": 0.24}, {\"main_stem_length_in_cm\": 80.0, \"total_meja\": 2, \"infested\": 1, \"tip_of_stem_broken\": 0, \"side_branches_in_cm\": null, \"total_number_adults\": 0, \"stem_diam_bottom_in_cm\": 0.64, \"diam_top_in_cm\": null}, {\"main_stem_length_in_cm\": 87.0, \"total_meja\": 8, \"infested\": 1, \"tip_of_stem_broken\": 0, \"side_branches_in_cm\": null, \"total_number_adults\": 1, \"stem_diam_bottom_in_cm\": 0.62, \"diam_top_in_cm\": null}, {\"main_stem_length_in_cm\": 63.0, \"total_meja\": 1, \"infested\": 1, \"tip_of_stem_broken\": 1, \"side_branches_in_cm\": null, \"total_number_adults\": 0, \"stem_diam_bottom_in_cm\": 1.08, \"diam_top_in_cm\": 0.58}, {\"main_stem_length_in_cm\": 61.0, \"total_meja\": 8, \"infested\": 1, \"tip_of_stem_broken\": 0, \"side_branches_in_cm\": null, \"total_number_adults\": 1, \"stem_diam_bottom_in_cm\": 0.42, \"diam_top_in_cm\": null}, {\"main_stem_length_in_cm\": 84.0, \"total_meja\": 5, \"infested\": 1, \"tip_of_stem_broken\": 0, \"side_branches_in_cm\": null, \"total_number_adults\": 2, \"stem_diam_bottom_in_cm\": 0.55, \"diam_top_in_cm\": null}, {\"main_stem_length_in_cm\": 86.0, \"total_meja\": 1, \"infested\": 1, \"tip_of_stem_broken\": 1, \"side_branches_in_cm\": null, \"total_number_adults\": 0, \"stem_diam_bottom_in_cm\": 0.94, \"diam_top_in_cm\": 0.16}, {\"main_stem_length_in_cm\": 107.0, \"total_meja\": 3, \"infested\": 1, \"tip_of_stem_broken\": 0, \"side_branches_in_cm\": null, \"total_number_adults\": 1, \"stem_diam_bottom_in_cm\": 0.7, \"diam_top_in_cm\": null}, {\"main_stem_length_in_cm\": 107.0, \"total_meja\": 4, \"infested\": 1, \"tip_of_stem_broken\": 0, \"side_branches_in_cm\": null, \"total_number_adults\": 1, \"stem_diam_bottom_in_cm\": 0.78, \"diam_top_in_cm\": null}, {\"main_stem_length_in_cm\": 72.0, \"total_meja\": 1, \"infested\": 1, \"tip_of_stem_broken\": 1, \"side_branches_in_cm\": null, \"total_number_adults\": 1, \"stem_diam_bottom_in_cm\": 0.8, \"diam_top_in_cm\": 0.35}, {\"main_stem_length_in_cm\": 80.0, \"total_meja\": 18, \"infested\": 1, \"tip_of_stem_broken\": 1, \"side_branches_in_cm\": null, \"total_number_adults\": 6, \"stem_diam_bottom_in_cm\": 0.55, \"diam_top_in_cm\": 0.12}, {\"main_stem_length_in_cm\": 111.0, \"total_meja\": 0, \"infested\": 0, \"tip_of_stem_broken\": 0, \"side_branches_in_cm\": null, \"total_number_adults\": 0, \"stem_diam_bottom_in_cm\": 0.84, \"diam_top_in_cm\": null}, {\"main_stem_length_in_cm\": 99.0, \"total_meja\": 5, \"infested\": 1, \"tip_of_stem_broken\": 0, \"side_branches_in_cm\": null, \"total_number_adults\": 1, \"stem_diam_bottom_in_cm\": 0.69, \"diam_top_in_cm\": null}, {\"main_stem_length_in_cm\": 87.0, \"total_meja\": 15, \"infested\": 1, \"tip_of_stem_broken\": 0, \"side_branches_in_cm\": null, \"total_number_adults\": 0, \"stem_diam_bottom_in_cm\": 0.94, \"diam_top_in_cm\": null}, {\"main_stem_length_in_cm\": 64.0, \"total_meja\": 14, \"infested\": 1, \"tip_of_stem_broken\": 1, \"side_branches_in_cm\": null, \"total_number_adults\": 0, \"stem_diam_bottom_in_cm\": 0.7, \"diam_top_in_cm\": 0.32}, {\"main_stem_length_in_cm\": 71.0, \"total_meja\": 0, \"infested\": 0, \"tip_of_stem_broken\": 1, \"side_branches_in_cm\": null, \"total_number_adults\": 0, \"stem_diam_bottom_in_cm\": 1.08, \"diam_top_in_cm\": 0.48}, {\"main_stem_length_in_cm\": 92.0, \"total_meja\": 0, \"infested\": 0, \"tip_of_stem_broken\": 1, \"side_branches_in_cm\": null, \"total_number_adults\": 0, \"stem_diam_bottom_in_cm\": 1.09, \"diam_top_in_cm\": 0.28}, {\"main_stem_length_in_cm\": 73.0, \"total_meja\": 0, \"infested\": 0, \"tip_of_stem_broken\": 1, \"side_branches_in_cm\": null, \"total_number_adults\": 0, \"stem_diam_bottom_in_cm\": 1.22, \"diam_top_in_cm\": 0.45}, {\"main_stem_length_in_cm\": 67.0, \"total_meja\": 37, \"infested\": 1, \"tip_of_stem_broken\": 0, \"side_branches_in_cm\": null, \"total_number_adults\": 8, \"stem_diam_bottom_in_cm\": 0.52, \"diam_top_in_cm\": null}, {\"main_stem_length_in_cm\": 99.0, \"total_meja\": 1, \"infested\": 1, \"tip_of_stem_broken\": 0, \"side_branches_in_cm\": null, \"total_number_adults\": 0, \"stem_diam_bottom_in_cm\": 0.72, \"diam_top_in_cm\": null}, {\"main_stem_length_in_cm\": 102.0, \"total_meja\": 1, \"infested\": 1, \"tip_of_stem_broken\": 0, \"side_branches_in_cm\": null, \"total_number_adults\": 0, \"stem_diam_bottom_in_cm\": 0.69, \"diam_top_in_cm\": null}, {\"main_stem_length_in_cm\": 54.0, \"total_meja\": 6, \"infested\": 1, \"tip_of_stem_broken\": 1, \"side_branches_in_cm\": null, \"total_number_adults\": 1, \"stem_diam_bottom_in_cm\": 0.65, \"diam_top_in_cm\": 0.36}, {\"main_stem_length_in_cm\": 32.0, \"total_meja\": 7, \"infested\": 1, \"tip_of_stem_broken\": 1, \"side_branches_in_cm\": null, \"total_number_adults\": 1, \"stem_diam_bottom_in_cm\": 0.45, \"diam_top_in_cm\": 0.27}, {\"main_stem_length_in_cm\": 46.0, \"total_meja\": 4, \"infested\": 1, \"tip_of_stem_broken\": 1, \"side_branches_in_cm\": null, \"total_number_adults\": 1, \"stem_diam_bottom_in_cm\": 0.52, \"diam_top_in_cm\": 0.34}, {\"main_stem_length_in_cm\": 42.0, \"total_meja\": 4, \"infested\": 1, \"tip_of_stem_broken\": 1, \"side_branches_in_cm\": null, \"total_number_adults\": 0, \"stem_diam_bottom_in_cm\": 0.5, \"diam_top_in_cm\": 0.33}, {\"main_stem_length_in_cm\": 97.0, \"total_meja\": 2, \"infested\": 1, \"tip_of_stem_broken\": 0, \"side_branches_in_cm\": null, \"total_number_adults\": 1, \"stem_diam_bottom_in_cm\": 0.68, \"diam_top_in_cm\": null}, {\"main_stem_length_in_cm\": 53.0, \"total_meja\": 6, \"infested\": 1, \"tip_of_stem_broken\": 1, \"side_branches_in_cm\": null, \"total_number_adults\": 1, \"stem_diam_bottom_in_cm\": 0.62, \"diam_top_in_cm\": 0.35}, {\"main_stem_length_in_cm\": 115.0, \"total_meja\": 8, \"infested\": 1, \"tip_of_stem_broken\": 1, \"side_branches_in_cm\": null, \"total_number_adults\": 2, \"stem_diam_bottom_in_cm\": 0.73, \"diam_top_in_cm\": 0.16}, {\"main_stem_length_in_cm\": 118.0, \"total_meja\": 1, \"infested\": 1, \"tip_of_stem_broken\": 0, \"side_branches_in_cm\": null, \"total_number_adults\": 0, \"stem_diam_bottom_in_cm\": 1.11, \"diam_top_in_cm\": null}, {\"main_stem_length_in_cm\": 98.0, \"total_meja\": 0, \"infested\": 0, \"tip_of_stem_broken\": 1, \"side_branches_in_cm\": null, \"total_number_adults\": 0, \"stem_diam_bottom_in_cm\": 0.93, \"diam_top_in_cm\": 0.25}, {\"main_stem_length_in_cm\": 135.0, \"total_meja\": 0, \"infested\": 0, \"tip_of_stem_broken\": 0, \"side_branches_in_cm\": null, \"total_number_adults\": 0, \"stem_diam_bottom_in_cm\": 0.96, \"diam_top_in_cm\": null}, {\"main_stem_length_in_cm\": 78.0, \"total_meja\": 2, \"infested\": 1, \"tip_of_stem_broken\": 0, \"side_branches_in_cm\": null, \"total_number_adults\": 0, \"stem_diam_bottom_in_cm\": 0.51, \"diam_top_in_cm\": null}, {\"main_stem_length_in_cm\": 90.0, \"total_meja\": 27, \"infested\": 1, \"tip_of_stem_broken\": 1, \"side_branches_in_cm\": null, \"total_number_adults\": 4, \"stem_diam_bottom_in_cm\": 0.72, \"diam_top_in_cm\": 0.14}, {\"main_stem_length_in_cm\": 79.0, \"total_meja\": 1, \"infested\": 1, \"tip_of_stem_broken\": 1, \"side_branches_in_cm\": null, \"total_number_adults\": 0, \"stem_diam_bottom_in_cm\": 0.86, \"diam_top_in_cm\": 0.3}, {\"main_stem_length_in_cm\": 94.0, \"total_meja\": 0, \"infested\": 0, \"tip_of_stem_broken\": 0, \"side_branches_in_cm\": null, \"total_number_adults\": 0, \"stem_diam_bottom_in_cm\": 0.79, \"diam_top_in_cm\": null}, {\"main_stem_length_in_cm\": 120.0, \"total_meja\": 6, \"infested\": 1, \"tip_of_stem_broken\": 0, \"side_branches_in_cm\": null, \"total_number_adults\": 0, \"stem_diam_bottom_in_cm\": 0.98, \"diam_top_in_cm\": null}, {\"main_stem_length_in_cm\": 115.0, \"total_meja\": 0, \"infested\": 0, \"tip_of_stem_broken\": 0, \"side_branches_in_cm\": null, \"total_number_adults\": 0, \"stem_diam_bottom_in_cm\": 0.78, \"diam_top_in_cm\": null}, {\"main_stem_length_in_cm\": 76.0, \"total_meja\": 18, \"infested\": 1, \"tip_of_stem_broken\": 1, \"side_branches_in_cm\": null, \"total_number_adults\": 3, \"stem_diam_bottom_in_cm\": 0.98, \"diam_top_in_cm\": 0.34}, {\"main_stem_length_in_cm\": 8.0, \"total_meja\": 1, \"infested\": 1, \"tip_of_stem_broken\": 1, \"side_branches_in_cm\": null, \"total_number_adults\": 0, \"stem_diam_bottom_in_cm\": 0.41, \"diam_top_in_cm\": 0.38}, {\"main_stem_length_in_cm\": 40.0, \"total_meja\": 18, \"infested\": 1, \"tip_of_stem_broken\": 1, \"side_branches_in_cm\": null, \"total_number_adults\": 1, \"stem_diam_bottom_in_cm\": 0.43, \"diam_top_in_cm\": 0.23}, {\"main_stem_length_in_cm\": 53.0, \"total_meja\": 19, \"infested\": 1, \"tip_of_stem_broken\": 1, \"side_branches_in_cm\": null, \"total_number_adults\": 2, \"stem_diam_bottom_in_cm\": 0.59, \"diam_top_in_cm\": 0.15}, {\"main_stem_length_in_cm\": 121.0, \"total_meja\": 2, \"infested\": 1, \"tip_of_stem_broken\": 0, \"side_branches_in_cm\": null, \"total_number_adults\": 0, \"stem_diam_bottom_in_cm\": 0.91, \"diam_top_in_cm\": null}, {\"main_stem_length_in_cm\": 44.0, \"total_meja\": 20, \"infested\": 1, \"tip_of_stem_broken\": 1, \"side_branches_in_cm\": null, \"total_number_adults\": 1, \"stem_diam_bottom_in_cm\": 0.38, \"diam_top_in_cm\": 0.12}, {\"main_stem_length_in_cm\": 52.0, \"total_meja\": 0, \"infested\": 0, \"tip_of_stem_broken\": 1, \"side_branches_in_cm\": null, \"total_number_adults\": 0, \"stem_diam_bottom_in_cm\": 0.8, \"diam_top_in_cm\": 0.4}, {\"main_stem_length_in_cm\": 74.0, \"total_meja\": 17, \"infested\": 1, \"tip_of_stem_broken\": 0, \"side_branches_in_cm\": null, \"total_number_adults\": 0, \"stem_diam_bottom_in_cm\": 0.66, \"diam_top_in_cm\": null}, {\"main_stem_length_in_cm\": 67.0, \"total_meja\": 1, \"infested\": 1, \"tip_of_stem_broken\": 1, \"side_branches_in_cm\": null, \"total_number_adults\": 0, \"stem_diam_bottom_in_cm\": 0.7, \"diam_top_in_cm\": 0.26}, {\"main_stem_length_in_cm\": 77.0, \"total_meja\": 20, \"infested\": 1, \"tip_of_stem_broken\": 1, \"side_branches_in_cm\": null, \"total_number_adults\": 0, \"stem_diam_bottom_in_cm\": 0.64, \"diam_top_in_cm\": 0.76}, {\"main_stem_length_in_cm\": 66.0, \"total_meja\": 34, \"infested\": 1, \"tip_of_stem_broken\": 0, \"side_branches_in_cm\": null, \"total_number_adults\": 3, \"stem_diam_bottom_in_cm\": 0.51, \"diam_top_in_cm\": null}, {\"main_stem_length_in_cm\": 82.0, \"total_meja\": 0, \"infested\": 0, \"tip_of_stem_broken\": 0, \"side_branches_in_cm\": null, \"total_number_adults\": 0, \"stem_diam_bottom_in_cm\": 0.68, \"diam_top_in_cm\": null}, {\"main_stem_length_in_cm\": 46.0, \"total_meja\": 7, \"infested\": 1, \"tip_of_stem_broken\": 1, \"side_branches_in_cm\": null, \"total_number_adults\": 0, \"stem_diam_bottom_in_cm\": 0.78, \"diam_top_in_cm\": 0.53}, {\"main_stem_length_in_cm\": 49.0, \"total_meja\": 8, \"infested\": 1, \"tip_of_stem_broken\": 1, \"side_branches_in_cm\": null, \"total_number_adults\": 1, \"stem_diam_bottom_in_cm\": 0.58, \"diam_top_in_cm\": 0.32}, {\"main_stem_length_in_cm\": 49.0, \"total_meja\": 8, \"infested\": 1, \"tip_of_stem_broken\": 1, \"side_branches_in_cm\": null, \"total_number_adults\": 0, \"stem_diam_bottom_in_cm\": 0.39, \"diam_top_in_cm\": 0.09}, {\"main_stem_length_in_cm\": 74.0, \"total_meja\": 14, \"infested\": 1, \"tip_of_stem_broken\": 1, \"side_branches_in_cm\": null, \"total_number_adults\": 0, \"stem_diam_bottom_in_cm\": 0.55, \"diam_top_in_cm\": 0.23}, {\"main_stem_length_in_cm\": 101.0, \"total_meja\": 9, \"infested\": 1, \"tip_of_stem_broken\": 0, \"side_branches_in_cm\": null, \"total_number_adults\": 0, \"stem_diam_bottom_in_cm\": 0.7, \"diam_top_in_cm\": null}, {\"main_stem_length_in_cm\": 45.0, \"total_meja\": 2, \"infested\": 1, \"tip_of_stem_broken\": 1, \"side_branches_in_cm\": null, \"total_number_adults\": 0, \"stem_diam_bottom_in_cm\": 0.76, \"diam_top_in_cm\": 0.45}, {\"main_stem_length_in_cm\": 100.0, \"total_meja\": 1, \"infested\": 1, \"tip_of_stem_broken\": 0, \"side_branches_in_cm\": null, \"total_number_adults\": 0, \"stem_diam_bottom_in_cm\": 0.77, \"diam_top_in_cm\": null}, {\"main_stem_length_in_cm\": 77.0, \"total_meja\": 9, \"infested\": 1, \"tip_of_stem_broken\": 1, \"side_branches_in_cm\": null, \"total_number_adults\": 0, \"stem_diam_bottom_in_cm\": 0.94, \"diam_top_in_cm\": 0.3}, {\"main_stem_length_in_cm\": 38.0, \"total_meja\": 13, \"infested\": 1, \"tip_of_stem_broken\": 0, \"side_branches_in_cm\": null, \"total_number_adults\": 3, \"stem_diam_bottom_in_cm\": 0.52, \"diam_top_in_cm\": null}, {\"main_stem_length_in_cm\": 39.0, \"total_meja\": 0, \"infested\": 0, \"tip_of_stem_broken\": 0, \"side_branches_in_cm\": null, \"total_number_adults\": 0, \"stem_diam_bottom_in_cm\": 0.43, \"diam_top_in_cm\": null}, {\"main_stem_length_in_cm\": 44.0, \"total_meja\": 4, \"infested\": 1, \"tip_of_stem_broken\": 1, \"side_branches_in_cm\": null, \"total_number_adults\": 0, \"stem_diam_bottom_in_cm\": 0.5, \"diam_top_in_cm\": 0.34}, {\"main_stem_length_in_cm\": 45.0, \"total_meja\": 0, \"infested\": 0, \"tip_of_stem_broken\": 1, \"side_branches_in_cm\": null, \"total_number_adults\": 0, \"stem_diam_bottom_in_cm\": 0.56, \"diam_top_in_cm\": 0.45}, {\"main_stem_length_in_cm\": 40.0, \"total_meja\": 8, \"infested\": 1, \"tip_of_stem_broken\": 1, \"side_branches_in_cm\": null, \"total_number_adults\": 3, \"stem_diam_bottom_in_cm\": 0.55, \"diam_top_in_cm\": 0.42}, {\"main_stem_length_in_cm\": 41.0, \"total_meja\": 0, \"infested\": 0, \"tip_of_stem_broken\": 1, \"side_branches_in_cm\": null, \"total_number_adults\": 0, \"stem_diam_bottom_in_cm\": 0.35, \"diam_top_in_cm\": 0.25}, {\"main_stem_length_in_cm\": 48.0, \"total_meja\": 18, \"infested\": 1, \"tip_of_stem_broken\": 1, \"side_branches_in_cm\": null, \"total_number_adults\": 4, \"stem_diam_bottom_in_cm\": 0.51, \"diam_top_in_cm\": 0.22}, {\"main_stem_length_in_cm\": 35.0, \"total_meja\": 6, \"infested\": 1, \"tip_of_stem_broken\": 1, \"side_branches_in_cm\": null, \"total_number_adults\": 1, \"stem_diam_bottom_in_cm\": 0.45, \"diam_top_in_cm\": 0.39}, {\"main_stem_length_in_cm\": 40.0, \"total_meja\": 11, \"infested\": 1, \"tip_of_stem_broken\": 1, \"side_branches_in_cm\": null, \"total_number_adults\": 1, \"stem_diam_bottom_in_cm\": 0.5, \"diam_top_in_cm\": 0.39}, {\"main_stem_length_in_cm\": 38.0, \"total_meja\": 8, \"infested\": 1, \"tip_of_stem_broken\": 1, \"side_branches_in_cm\": null, \"total_number_adults\": 0, \"stem_diam_bottom_in_cm\": 0.49, \"diam_top_in_cm\": 0.38}, {\"main_stem_length_in_cm\": 32.0, \"total_meja\": 23, \"infested\": 1, \"tip_of_stem_broken\": 1, \"side_branches_in_cm\": null, \"total_number_adults\": 5, \"stem_diam_bottom_in_cm\": 0.47, \"diam_top_in_cm\": 0.42}, {\"main_stem_length_in_cm\": 46.0, \"total_meja\": 6, \"infested\": 1, \"tip_of_stem_broken\": 1, \"side_branches_in_cm\": null, \"total_number_adults\": 1, \"stem_diam_bottom_in_cm\": 0.7, \"diam_top_in_cm\": 0.41}, {\"main_stem_length_in_cm\": 54.0, \"total_meja\": 14, \"infested\": 1, \"tip_of_stem_broken\": 1, \"side_branches_in_cm\": null, \"total_number_adults\": 3, \"stem_diam_bottom_in_cm\": 0.6, \"diam_top_in_cm\": 0.35}, {\"main_stem_length_in_cm\": 103.0, \"total_meja\": 5, \"infested\": 1, \"tip_of_stem_broken\": 0, \"side_branches_in_cm\": null, \"total_number_adults\": 0, \"stem_diam_bottom_in_cm\": 0.63, \"diam_top_in_cm\": null}, {\"main_stem_length_in_cm\": 73.0, \"total_meja\": 6, \"infested\": 1, \"tip_of_stem_broken\": 1, \"side_branches_in_cm\": null, \"total_number_adults\": 0, \"stem_diam_bottom_in_cm\": 0.64, \"diam_top_in_cm\": 0.38}, {\"main_stem_length_in_cm\": 53.0, \"total_meja\": 19, \"infested\": 1, \"tip_of_stem_broken\": 1, \"side_branches_in_cm\": null, \"total_number_adults\": 2, \"stem_diam_bottom_in_cm\": 0.38, \"diam_top_in_cm\": 0.23}, {\"main_stem_length_in_cm\": 54.0, \"total_meja\": 6, \"infested\": 1, \"tip_of_stem_broken\": 1, \"side_branches_in_cm\": null, \"total_number_adults\": 1, \"stem_diam_bottom_in_cm\": 0.49, \"diam_top_in_cm\": 0.28}, {\"main_stem_length_in_cm\": 67.0, \"total_meja\": 8, \"infested\": 1, \"tip_of_stem_broken\": 1, \"side_branches_in_cm\": null, \"total_number_adults\": 0, \"stem_diam_bottom_in_cm\": 0.56, \"diam_top_in_cm\": 0.26}, {\"main_stem_length_in_cm\": 81.0, \"total_meja\": 0, \"infested\": 0, \"tip_of_stem_broken\": 1, \"side_branches_in_cm\": null, \"total_number_adults\": 0, \"stem_diam_bottom_in_cm\": 0.51, \"diam_top_in_cm\": 0.14}, {\"main_stem_length_in_cm\": 62.0, \"total_meja\": 11, \"infested\": 1, \"tip_of_stem_broken\": 1, \"side_branches_in_cm\": null, \"total_number_adults\": 0, \"stem_diam_bottom_in_cm\": 0.69, \"diam_top_in_cm\": 0.33}, {\"main_stem_length_in_cm\": 67.0, \"total_meja\": 1, \"infested\": 1, \"tip_of_stem_broken\": 1, \"side_branches_in_cm\": null, \"total_number_adults\": 0, \"stem_diam_bottom_in_cm\": 0.75, \"diam_top_in_cm\": 0.17}, {\"main_stem_length_in_cm\": 62.0, \"total_meja\": 1, \"infested\": 1, \"tip_of_stem_broken\": 1, \"side_branches_in_cm\": null, \"total_number_adults\": 0, \"stem_diam_bottom_in_cm\": 0.58, \"diam_top_in_cm\": 0.35}, {\"main_stem_length_in_cm\": 50.0, \"total_meja\": 0, \"infested\": 0, \"tip_of_stem_broken\": 1, \"side_branches_in_cm\": null, \"total_number_adults\": 0, \"stem_diam_bottom_in_cm\": 0.46, \"diam_top_in_cm\": 0.34}, {\"main_stem_length_in_cm\": 124.0, \"total_meja\": 20, \"infested\": 1, \"tip_of_stem_broken\": 1, \"side_branches_in_cm\": null, \"total_number_adults\": 1, \"stem_diam_bottom_in_cm\": 0.87, \"diam_top_in_cm\": 0.18}, {\"main_stem_length_in_cm\": 98.0, \"total_meja\": 9, \"infested\": 1, \"tip_of_stem_broken\": 1, \"side_branches_in_cm\": null, \"total_number_adults\": 1, \"stem_diam_bottom_in_cm\": 0.91, \"diam_top_in_cm\": 0.25}, {\"main_stem_length_in_cm\": 18.0, \"total_meja\": 6, \"infested\": 1, \"tip_of_stem_broken\": 1, \"side_branches_in_cm\": null, \"total_number_adults\": 0, \"stem_diam_bottom_in_cm\": 0.37, \"diam_top_in_cm\": 0.36}, {\"main_stem_length_in_cm\": 38.0, \"total_meja\": 5, \"infested\": 1, \"tip_of_stem_broken\": 1, \"side_branches_in_cm\": null, \"total_number_adults\": 2, \"stem_diam_bottom_in_cm\": 0.75, \"diam_top_in_cm\": 0.62}, {\"main_stem_length_in_cm\": 36.0, \"total_meja\": 10, \"infested\": 1, \"tip_of_stem_broken\": 1, \"side_branches_in_cm\": null, \"total_number_adults\": 1, \"stem_diam_bottom_in_cm\": 0.47, \"diam_top_in_cm\": 0.46}, {\"main_stem_length_in_cm\": 54.0, \"total_meja\": 6, \"infested\": 1, \"tip_of_stem_broken\": 1, \"side_branches_in_cm\": null, \"total_number_adults\": 0, \"stem_diam_bottom_in_cm\": 0.68, \"diam_top_in_cm\": 0.5}, {\"main_stem_length_in_cm\": 22.0, \"total_meja\": 2, \"infested\": 1, \"tip_of_stem_broken\": 1, \"side_branches_in_cm\": null, \"total_number_adults\": 0, \"stem_diam_bottom_in_cm\": 0.53, \"diam_top_in_cm\": 0.49}, {\"main_stem_length_in_cm\": 43.0, \"total_meja\": 6, \"infested\": 1, \"tip_of_stem_broken\": 1, \"side_branches_in_cm\": null, \"total_number_adults\": 3, \"stem_diam_bottom_in_cm\": 0.57, \"diam_top_in_cm\": 0.44}, {\"main_stem_length_in_cm\": 54.0, \"total_meja\": 0, \"infested\": 0, \"tip_of_stem_broken\": 1, \"side_branches_in_cm\": null, \"total_number_adults\": 0, \"stem_diam_bottom_in_cm\": 0.65, \"diam_top_in_cm\": 0.54}, {\"main_stem_length_in_cm\": 55.0, \"total_meja\": 2, \"infested\": 1, \"tip_of_stem_broken\": 1, \"side_branches_in_cm\": null, \"total_number_adults\": 1, \"stem_diam_bottom_in_cm\": 0.62, \"diam_top_in_cm\": 0.57}, {\"main_stem_length_in_cm\": 37.0, \"total_meja\": 5, \"infested\": 1, \"tip_of_stem_broken\": 1, \"side_branches_in_cm\": null, \"total_number_adults\": 0, \"stem_diam_bottom_in_cm\": 0.55, \"diam_top_in_cm\": 0.43}, {\"main_stem_length_in_cm\": 49.0, \"total_meja\": 1, \"infested\": 1, \"tip_of_stem_broken\": 1, \"side_branches_in_cm\": null, \"total_number_adults\": 0, \"stem_diam_bottom_in_cm\": 0.61, \"diam_top_in_cm\": 0.47}, {\"main_stem_length_in_cm\": 48.0, \"total_meja\": 0, \"infested\": 0, \"tip_of_stem_broken\": 1, \"side_branches_in_cm\": null, \"total_number_adults\": 0, \"stem_diam_bottom_in_cm\": 0.76, \"diam_top_in_cm\": 0.65}, {\"main_stem_length_in_cm\": 41.0, \"total_meja\": 10, \"infested\": 1, \"tip_of_stem_broken\": 1, \"side_branches_in_cm\": null, \"total_number_adults\": 2, \"stem_diam_bottom_in_cm\": 0.6, \"diam_top_in_cm\": 0.53}, {\"main_stem_length_in_cm\": 40.0, \"total_meja\": 1, \"infested\": 1, \"tip_of_stem_broken\": 1, \"side_branches_in_cm\": null, \"total_number_adults\": 0, \"stem_diam_bottom_in_cm\": 0.57, \"diam_top_in_cm\": 0.34}, {\"main_stem_length_in_cm\": 58.0, \"total_meja\": 8, \"infested\": 1, \"tip_of_stem_broken\": 1, \"side_branches_in_cm\": null, \"total_number_adults\": 1, \"stem_diam_bottom_in_cm\": 0.67, \"diam_top_in_cm\": 0.41}, {\"main_stem_length_in_cm\": 50.0, \"total_meja\": 7, \"infested\": 1, \"tip_of_stem_broken\": 1, \"side_branches_in_cm\": null, \"total_number_adults\": 0, \"stem_diam_bottom_in_cm\": 0.67, \"diam_top_in_cm\": 0.39}, {\"main_stem_length_in_cm\": 46.0, \"total_meja\": 8, \"infested\": 1, \"tip_of_stem_broken\": 0, \"side_branches_in_cm\": null, \"total_number_adults\": 2, \"stem_diam_bottom_in_cm\": 0.45, \"diam_top_in_cm\": null}, {\"main_stem_length_in_cm\": 51.0, \"total_meja\": 1, \"infested\": 1, \"tip_of_stem_broken\": 1, \"side_branches_in_cm\": null, \"total_number_adults\": 1, \"stem_diam_bottom_in_cm\": 0.53, \"diam_top_in_cm\": 0.21}, {\"main_stem_length_in_cm\": 109.0, \"total_meja\": 4, \"infested\": 1, \"tip_of_stem_broken\": 0, \"side_branches_in_cm\": null, \"total_number_adults\": 0, \"stem_diam_bottom_in_cm\": 0.68, \"diam_top_in_cm\": null}, {\"main_stem_length_in_cm\": 104.0, \"total_meja\": 1, \"infested\": 1, \"tip_of_stem_broken\": 0, \"side_branches_in_cm\": null, \"total_number_adults\": 0, \"stem_diam_bottom_in_cm\": 0.69, \"diam_top_in_cm\": null}, {\"main_stem_length_in_cm\": 96.0, \"total_meja\": 2, \"infested\": 1, \"tip_of_stem_broken\": 0, \"side_branches_in_cm\": null, \"total_number_adults\": 0, \"stem_diam_bottom_in_cm\": 0.71, \"diam_top_in_cm\": null}]}}, {\"mode\": \"vega-lite\"});\n",
       "</script>"
      ],
      "text/plain": [
       "alt.HConcatChart(...)"
      ]
     },
     "execution_count": 95,
     "metadata": {},
     "output_type": "execute_result"
    }
   ],
   "source": [
    "basechart_main_stem = alt.Chart(df).mark_boxplot(\n",
    "    size=50,\n",
    "    opacity=0.7\n",
    ").encode(\n",
    "    x=alt.Y('main_stem_length_in_cm:Q', scale=alt.Scale(zero=True)),\n",
    "    y='infested:N',  \n",
    ").properties(width=400, height=200)\n",
    "\n",
    "basechart_diam_top = alt.Chart(df).mark_boxplot(\n",
    "    size=50,\n",
    "    opacity=0.7\n",
    ").encode(\n",
    "    x=alt.Y('diam_top_in_cm:Q', scale=alt.Scale(zero=True)),\n",
    "    y='infested:N',\n",
    ").properties(width=400, height=200)\n",
    "\n",
    "final_chart = alt.hconcat(basechart_main_stem, basechart_diam_top)\n",
    "final_chart"
   ]
  },
  {
   "cell_type": "markdown",
   "metadata": {},
   "source": [
    "The visualization allows a quick comparison of the distribution of main stem length and diam top for the different categories 'infested' and 'not infested'. For main stem length we can observe that the distribution of infested plants is denser around the median. Moreover, infested plants tend to have a larger diam top probably due to the tip of stem being broken or cut."
   ]
  },
  {
   "cell_type": "markdown",
   "metadata": {},
   "source": [
    "## 5 Model"
   ]
  },
  {
   "cell_type": "markdown",
   "metadata": {},
   "source": [
    "### 5.1 Select Model"
   ]
  },
  {
   "cell_type": "markdown",
   "metadata": {},
   "source": [
    "In the following code cells we create the LinearRegression object (reg) and the logistic regression object (clf)."
   ]
  },
  {
   "cell_type": "code",
   "execution_count": 56,
   "metadata": {},
   "outputs": [],
   "source": [
    "reg = LinearRegression()"
   ]
  },
  {
   "cell_type": "code",
   "execution_count": 57,
   "metadata": {},
   "outputs": [],
   "source": [
    "clf = LogisticRegressionCV()"
   ]
  },
  {
   "cell_type": "markdown",
   "metadata": {},
   "source": [
    "### 5.2 Forward Selection"
   ]
  },
  {
   "cell_type": "markdown",
   "metadata": {},
   "source": [
    "To identify the best linear and logistic regression models we implement a function that evaluates both models. We apply each method (reduced, imputed_mean, imputed_median) to each model and use forward selection to determine which variables are the most suitable for the respective model. The evaluation is based on the R² value for linear regression and AUC for logistic regression."
   ]
  },
  {
   "cell_type": "code",
   "execution_count": 58,
   "metadata": {},
   "outputs": [],
   "source": [
    "def forward_selection(model: object, model_type: str, X_train: pd.DataFrame, y_train: pd.Series, X_test: pd.DataFrame, y_test: pd.Series) -> (set, float):\n",
    "    \"\"\"\n",
    "    Perform forward feature selection with a given model and data.\n",
    "\n",
    "    Args:\n",
    "        model (object): The machine learning model to use for evaluation.\n",
    "        model_type (str): The type of model ('linear_reg' or 'logistic_reg').\n",
    "        X_train (pd.DataFrame): The training feature dataset.\n",
    "        y_train (pd.Series): The training target values.\n",
    "        X_test (pd.DataFrame): The test feature dataset.\n",
    "        y_test (pd.Series): The test target values.\n",
    "\n",
    "    Returns:\n",
    "        tuple: A tuple containing:\n",
    "            - set: A set of selected feature variables.\n",
    "            - float: The best evaluation score achieved during the forward selection process.\n",
    "    \"\"\"\n",
    "    current_variables = set()\n",
    "    remaining_variables = set(X_train.columns)\n",
    "    best_score = float(0)\n",
    "    y_pred = None\n",
    "\n",
    "    while remaining_variables:\n",
    "        improvement = False\n",
    "        best_variable = None\n",
    "        for variable in remaining_variables:\n",
    "            temp_variables = list(current_variables) + [variable]\n",
    "            model.fit(X_train[temp_variables], y_train)\n",
    "            \n",
    "            if model_type == 'linear_reg':\n",
    "                y_pred = model.predict(X_test[temp_variables])\n",
    "                r2 = r2_score(y_test, y_pred).round(3)\n",
    "\n",
    "                if r2 > best_score:\n",
    "                    best_score = r2\n",
    "                    best_variable = variable\n",
    "                    improvement = True\n",
    "                    \n",
    "            elif model_type == 'logistic_reg':\n",
    "                y_score = model.predict_proba(X_test[temp_variables])[:, 1]\n",
    "                roc = roc_auc_score(y_test, y_score)\n",
    "\n",
    "                if roc > best_score:\n",
    "                    best_score = roc\n",
    "                    best_variable = variable\n",
    "                    improvement = True\n",
    "\n",
    "        if improvement and best_variable:\n",
    "            current_variables.add(best_variable)\n",
    "            remaining_variables.remove(best_variable)\n",
    "        else:\n",
    "            break\n",
    "\n",
    "    return current_variables, best_score\n"
   ]
  },
  {
   "cell_type": "code",
   "execution_count": 59,
   "metadata": {
    "scrolled": true
   },
   "outputs": [],
   "source": [
    "def custom_forward_selection(method: str) -> tuple:\n",
    "    \"\"\"\n",
    "    Perform custom forward feature selection for linear and logistic regression models.\n",
    "\n",
    "    Args:\n",
    "        method (str): The custom method to use for feature selection.\n",
    "\n",
    "    Returns:\n",
    "        tuple: A tuple containing the following values:\n",
    "            - float: The best R² score achieved for linear regression.\n",
    "            - set: The best features selected for linear regression.\n",
    "            - float: The best ROC AUC score achieved for logistic regression.\n",
    "            - set: The best features selected for logistic regression.\n",
    "    \"\"\"\n",
    "    model_methods = [\n",
    "        {\"model\": \"linear_reg\", \"method\": method, \"y_label\": y_label_lin, \"features\": features_lin},\n",
    "        {\"model\": \"logistic_reg\", \"method\": method, \"y_label\": y_label_log, \"features\": features_log}\n",
    "    ]\n",
    "\n",
    "    v = set_custom_variables(model_methods)\n",
    "\n",
    "    X_train_lin, X_test_lin, y_train_lin, y_test_lin = split_and_save(model=v['linear_reg'][0], method=v['linear_reg'][1], ret_val='data_only', X=v['linear_reg'][3] ,y=v['linear_reg'][4])\n",
    "    best_features_lin, best_score_lin = forward_selection(model=reg, model_type=v['linear_reg'][0], X_train=X_train_lin, X_test=X_test_lin, y_train=y_train_lin, y_test=y_test_lin)\n",
    "    print(f'Linear regression model with features: {best_features_lin}\\n(method: {v[\"linear_reg\"][1]})')\n",
    "    print(f'With R² of: {best_score_lin}')\n",
    "    print('---------------------------')\n",
    "\n",
    "    X_train_log, X_test_log, y_train_log, y_test_log = split_and_save(model=v['logistic_reg'][0], method=v['logistic_reg'][1], ret_val='data_only', X=v['logistic_reg'][3], y=v['logistic_reg'][4])\n",
    "    best_features_log, best_score_log = forward_selection(model=clf, model_type=v['logistic_reg'][0], X_train=X_train_log, X_test=X_test_log, y_train=y_train_log, y_test=y_test_log)\n",
    "    print(f'Logistic regression model with features: {best_features_log}\\n(method: {v[\"logistic_reg\"][1]})')\n",
    "    print(f'With ROC of: {best_score_log}')\n",
    "    print('---------------------------')\n",
    "\n",
    "    return best_score_lin, best_features_lin, best_score_log, best_features_log\n"
   ]
  },
  {
   "cell_type": "code",
   "execution_count": 60,
   "metadata": {},
   "outputs": [
    {
     "name": "stdout",
     "output_type": "stream",
     "text": [
      "Linear regression model with features: {'infested', 'diam_top_in_cm', 'total_number_adults', 'stem_diam_bottom_in_cm'}\n",
      "(method: reduced)\n",
      "With R² of: 0.506\n",
      "---------------------------\n",
      "Logistic regression model with features: {'main_stem_length_in_cm', 'diam_top_in_cm'}\n",
      "(method: reduced)\n",
      "With ROC of: 0.8575851393188855\n",
      "---------------------------\n",
      "Linear regression model with features: {'total_meja', 'tip_of_stem_broken', 'diam_top_in_cm', 'stem_diam_bottom_in_cm'}\n",
      "(method: imputed_mean)\n",
      "With R² of: 0.572\n",
      "---------------------------\n",
      "Logistic regression model with features: {'tip_of_stem_broken', 'main_stem_length_in_cm', 'diam_top_in_cm', 'stem_diam_bottom_in_cm'}\n",
      "(method: imputed_mean)\n",
      "With ROC of: 0.6856964174037344\n",
      "---------------------------\n",
      "Linear regression model with features: {'tip_of_stem_broken', 'diam_top_in_cm', 'stem_diam_bottom_in_cm'}\n",
      "(method: imputed_median)\n",
      "With R² of: 0.568\n",
      "---------------------------\n",
      "Logistic regression model with features: {'tip_of_stem_broken', 'diam_top_in_cm', 'stem_diam_bottom_in_cm', 'main_stem_length_in_cm'}\n",
      "(method: imputed_median)\n",
      "With ROC of: 0.7258107745912623\n",
      "---------------------------\n",
      "Final linear Model with variables: {'total_meja', 'tip_of_stem_broken', 'diam_top_in_cm', 'stem_diam_bottom_in_cm'}\n",
      "(method: imputed_mean - R²: 0.572)\n",
      "Final logistic Model with variables: {'main_stem_length_in_cm', 'diam_top_in_cm'}\n",
      "(method: reduced - ROC: 0.8575851393188855)\n"
     ]
    }
   ],
   "source": [
    "def evaluate_model(methods: list) -> tuple:\n",
    "    \"\"\"\n",
    "    Evaluate multiple custom methods for feature selection and select the best ones.\n",
    "\n",
    "    Args:\n",
    "        methods (list): List of custom methods to evaluate.\n",
    "\n",
    "    Returns:\n",
    "        tuple: A tuple containing the following values:\n",
    "            - str: The best linear regression method.\n",
    "            - set: The best features selected for linear regression.\n",
    "            - float: The best R² score achieved for linear regression.\n",
    "            - str: The best logistic regression method.\n",
    "            - set: The best features selected for logistic regression.\n",
    "            - float: The best ROC AUC score achieved for logistic regression.\n",
    "    \"\"\"\n",
    "    best_r2 = float(0)\n",
    "    best_roc = float(0)\n",
    "\n",
    "    for method in methods:\n",
    "        r2, best_features_lin, roc, best_features_log = custom_forward_selection(method=method)\n",
    "        if best_r2 < r2:\n",
    "            best_lin_method = method\n",
    "            best_lin_features = best_features_lin\n",
    "            best_r2 = r2\n",
    "        if best_roc < roc:\n",
    "            best_log_method = method\n",
    "            best_log_features = best_features_log\n",
    "            best_roc = roc\n",
    "    \n",
    "    return best_lin_method, best_lin_features, best_r2, best_log_method, best_log_features, best_roc\n",
    "\n",
    "best_lin_method, best_lin_features, r2, best_log_method, best_log_features, roc = evaluate_model(methods=methods)\n",
    "print(f'Final linear Model with variables: {best_lin_features}\\n(method: {best_lin_method} - R²: {r2})')\n",
    "print(f'Final logistic Model with variables: {best_log_features}\\n(method: {best_log_method} - ROC: {roc})')"
   ]
  },
  {
   "cell_type": "markdown",
   "metadata": {},
   "source": [
    "Based on the results we chose the imputed_mean method for our linear regression model. The best performance of the model can be reached using the following features to predict a plants main stem length.: 'total_meja', 'stem_diam_bottom_in_cm', 'tip_of_stem_broken', 'diam_top_in_cm'.\n",
    "\n",
    "For our logistic regression model we chose the reduced method. The best performance can be reached using the features 'main_stem_length_in_cm', 'diam_top_in_cm' to predict whether a plant is infested or not."
   ]
  },
  {
   "cell_type": "markdown",
   "metadata": {},
   "source": [
    "Based on the results of forward selection we apply the most performant features to our train and test dataset. The following training and evaluation will be based on the selected features."
   ]
  },
  {
   "cell_type": "code",
   "execution_count": 61,
   "metadata": {},
   "outputs": [],
   "source": [
    "model_methods_final = [\n",
    "    {\"model\": \"linear_reg\", \"method\": best_lin_method, \"y_label\": y_label_lin, \"features\": list(best_lin_features)},\n",
    "    {\"model\": \"logistic_reg\", \"method\": best_log_method, \"y_label\": y_label_log, \"features\": list(best_log_features)}\n",
    "]"
   ]
  },
  {
   "cell_type": "code",
   "execution_count": 62,
   "metadata": {},
   "outputs": [],
   "source": [
    "final_variables = set_custom_variables(model_methods=model_methods_final)"
   ]
  },
  {
   "cell_type": "code",
   "execution_count": 63,
   "metadata": {},
   "outputs": [],
   "source": [
    "df_train_lin_final, X_train_lin_final, X_test_lin_final, y_train_lin_final, y_test_lin_final = split_and_save(\n",
    "    model=final_variables['linear_reg'][0], method=final_variables['linear_reg'][1], \n",
    "    X=final_variables['linear_reg'][3], y=final_variables['linear_reg'][4], save=True, state=\"final\")"
   ]
  },
  {
   "cell_type": "code",
   "execution_count": 64,
   "metadata": {},
   "outputs": [],
   "source": [
    "df_train_log_final, X_train_log_final, X_test_log_final, y_train_log_final, y_test_log_final = split_and_save(\n",
    "    model=final_variables['logistic_reg'][0], method=final_variables['logistic_reg'][1], \n",
    "    X=final_variables['logistic_reg'][3], y=final_variables['logistic_reg'][4], save=True, state=\"final\")"
   ]
  },
  {
   "cell_type": "markdown",
   "metadata": {},
   "source": [
    "### 5.3 Training and Validation"
   ]
  },
  {
   "cell_type": "markdown",
   "metadata": {},
   "source": [
    "Next we are using cross-validation to evaluate the performance of our linear regression and logistic regression model on the training dataset.\n",
    "This approach provides a robust estimate of the model's performance by evaluating it on five different subsets of the training data."
   ]
  },
  {
   "cell_type": "markdown",
   "metadata": {},
   "source": [
    "#### 5.3.1 Linear Regression"
   ]
  },
  {
   "cell_type": "code",
   "execution_count": 65,
   "metadata": {},
   "outputs": [],
   "source": [
    "scores = cross_val_score(reg, X_train_lin_final, y_train_lin_final, cv=5, scoring='neg_mean_squared_error', error_score='raise') *-1"
   ]
  },
  {
   "cell_type": "markdown",
   "metadata": {},
   "source": [
    "Now we are storing the cross-validation scores in a DataFrame called df_scores and then modifying its index and applying a background gradient style for visual representation. Darker shades of blue correspond to higher cross-validation scores. Column \"lr\" now contains the cross-validation scores for each fold."
   ]
  },
  {
   "cell_type": "code",
   "execution_count": 66,
   "metadata": {},
   "outputs": [
    {
     "data": {
      "text/html": [
       "<style type=\"text/css\">\n",
       "#T_36fb8_row0_col0 {\n",
       "  background-color: #6fb0d7;\n",
       "  color: #f1f1f1;\n",
       "}\n",
       "#T_36fb8_row1_col0 {\n",
       "  background-color: #08306b;\n",
       "  color: #f1f1f1;\n",
       "}\n",
       "#T_36fb8_row2_col0 {\n",
       "  background-color: #f7fbff;\n",
       "  color: #000000;\n",
       "}\n",
       "#T_36fb8_row3_col0 {\n",
       "  background-color: #85bcdc;\n",
       "  color: #000000;\n",
       "}\n",
       "#T_36fb8_row4_col0 {\n",
       "  background-color: #549fcd;\n",
       "  color: #f1f1f1;\n",
       "}\n",
       "</style>\n",
       "<table id=\"T_36fb8\">\n",
       "  <thead>\n",
       "    <tr>\n",
       "      <th class=\"blank level0\" >&nbsp;</th>\n",
       "      <th id=\"T_36fb8_level0_col0\" class=\"col_heading level0 col0\" >lr</th>\n",
       "    </tr>\n",
       "  </thead>\n",
       "  <tbody>\n",
       "    <tr>\n",
       "      <th id=\"T_36fb8_level0_row0\" class=\"row_heading level0 row0\" >1</th>\n",
       "      <td id=\"T_36fb8_row0_col0\" class=\"data row0 col0\" >299.870291</td>\n",
       "    </tr>\n",
       "    <tr>\n",
       "      <th id=\"T_36fb8_level0_row1\" class=\"row_heading level0 row1\" >2</th>\n",
       "      <td id=\"T_36fb8_row1_col0\" class=\"data row1 col0\" >355.840717</td>\n",
       "    </tr>\n",
       "    <tr>\n",
       "      <th id=\"T_36fb8_level0_row2\" class=\"row_heading level0 row2\" >3</th>\n",
       "      <td id=\"T_36fb8_row2_col0\" class=\"data row2 col0\" >245.912019</td>\n",
       "    </tr>\n",
       "    <tr>\n",
       "      <th id=\"T_36fb8_level0_row3\" class=\"row_heading level0 row3\" >4</th>\n",
       "      <td id=\"T_36fb8_row3_col0\" class=\"data row3 col0\" >293.664266</td>\n",
       "    </tr>\n",
       "    <tr>\n",
       "      <th id=\"T_36fb8_level0_row4\" class=\"row_heading level0 row4\" >5</th>\n",
       "      <td id=\"T_36fb8_row4_col0\" class=\"data row4 col0\" >308.190400</td>\n",
       "    </tr>\n",
       "  </tbody>\n",
       "</table>\n"
      ],
      "text/plain": [
       "<pandas.io.formats.style.Styler at 0x2229e1d1f50>"
      ]
     },
     "execution_count": 66,
     "metadata": {},
     "output_type": "execute_result"
    }
   ],
   "source": [
    "df_scores = pd.DataFrame({\"lr\": scores})\n",
    "\n",
    "df_scores.index += 1\n",
    "\n",
    "df_scores.style.background_gradient(cmap='Blues')"
   ]
  },
  {
   "cell_type": "code",
   "execution_count": 67,
   "metadata": {},
   "outputs": [],
   "source": [
    "df_scores.to_csv('../data/interim/scores_linear_regression.csv')"
   ]
  },
  {
   "cell_type": "markdown",
   "metadata": {},
   "source": [
    "The results represent the negative mean squared errors for each of the five folds in the k-fold cross-validation for the linear regression model. The result indicates that the linear regression model makes relatively good predictions on our training dataset."
   ]
  },
  {
   "cell_type": "markdown",
   "metadata": {},
   "source": [
    "Next, we want to create a line chart to visualize the mean squared error (MSE) across the different folds. Each point on the line represents the mean squared error for a specific fold.\n",
    "This visualization provides a way to assess how the model's performance varies across different folds and whether there are any noticeable patterns or trends."
   ]
  },
  {
   "cell_type": "code",
   "execution_count": 68,
   "metadata": {},
   "outputs": [
    {
     "data": {
      "text/html": [
       "\n",
       "<style>\n",
       "  #altair-viz-e6632b8a8fbc4544a458fd433762046e.vega-embed {\n",
       "    width: 100%;\n",
       "    display: flex;\n",
       "  }\n",
       "\n",
       "  #altair-viz-e6632b8a8fbc4544a458fd433762046e.vega-embed details,\n",
       "  #altair-viz-e6632b8a8fbc4544a458fd433762046e.vega-embed details summary {\n",
       "    position: relative;\n",
       "  }\n",
       "</style>\n",
       "<div id=\"altair-viz-e6632b8a8fbc4544a458fd433762046e\"></div>\n",
       "<script type=\"text/javascript\">\n",
       "  var VEGA_DEBUG = (typeof VEGA_DEBUG == \"undefined\") ? {} : VEGA_DEBUG;\n",
       "  (function(spec, embedOpt){\n",
       "    let outputDiv = document.currentScript.previousElementSibling;\n",
       "    if (outputDiv.id !== \"altair-viz-e6632b8a8fbc4544a458fd433762046e\") {\n",
       "      outputDiv = document.getElementById(\"altair-viz-e6632b8a8fbc4544a458fd433762046e\");\n",
       "    }\n",
       "    const paths = {\n",
       "      \"vega\": \"https://cdn.jsdelivr.net/npm/vega@5?noext\",\n",
       "      \"vega-lib\": \"https://cdn.jsdelivr.net/npm/vega-lib?noext\",\n",
       "      \"vega-lite\": \"https://cdn.jsdelivr.net/npm/vega-lite@5.16.3?noext\",\n",
       "      \"vega-embed\": \"https://cdn.jsdelivr.net/npm/vega-embed@6?noext\",\n",
       "    };\n",
       "\n",
       "    function maybeLoadScript(lib, version) {\n",
       "      var key = `${lib.replace(\"-\", \"\")}_version`;\n",
       "      return (VEGA_DEBUG[key] == version) ?\n",
       "        Promise.resolve(paths[lib]) :\n",
       "        new Promise(function(resolve, reject) {\n",
       "          var s = document.createElement('script');\n",
       "          document.getElementsByTagName(\"head\")[0].appendChild(s);\n",
       "          s.async = true;\n",
       "          s.onload = () => {\n",
       "            VEGA_DEBUG[key] = version;\n",
       "            return resolve(paths[lib]);\n",
       "          };\n",
       "          s.onerror = () => reject(`Error loading script: ${paths[lib]}`);\n",
       "          s.src = paths[lib];\n",
       "        });\n",
       "    }\n",
       "\n",
       "    function showError(err) {\n",
       "      outputDiv.innerHTML = `<div class=\"error\" style=\"color:red;\">${err}</div>`;\n",
       "      throw err;\n",
       "    }\n",
       "\n",
       "    function displayChart(vegaEmbed) {\n",
       "      vegaEmbed(outputDiv, spec, embedOpt)\n",
       "        .catch(err => showError(`Javascript Error: ${err.message}<br>This usually means there's a typo in your chart specification. See the javascript console for the full traceback.`));\n",
       "    }\n",
       "\n",
       "    if(typeof define === \"function\" && define.amd) {\n",
       "      requirejs.config({paths});\n",
       "      require([\"vega-embed\"], displayChart, err => showError(`Error loading script: ${err.message}`));\n",
       "    } else {\n",
       "      maybeLoadScript(\"vega\", \"5\")\n",
       "        .then(() => maybeLoadScript(\"vega-lite\", \"5.16.3\"))\n",
       "        .then(() => maybeLoadScript(\"vega-embed\", \"6\"))\n",
       "        .catch(showError)\n",
       "        .then(() => displayChart(vegaEmbed));\n",
       "    }\n",
       "  })({\"config\": {\"view\": {\"continuousWidth\": 300, \"continuousHeight\": 300}}, \"data\": {\"name\": \"data-7163c07d33514ca0ef301296da65602a\"}, \"mark\": {\"type\": \"line\", \"point\": {}}, \"encoding\": {\"x\": {\"axis\": {\"tickCount\": 5}, \"bin\": false, \"field\": \"index\", \"title\": \"Fold\", \"type\": \"quantitative\"}, \"y\": {\"aggregate\": \"mean\", \"field\": \"lr\", \"title\": \"Mean squared error (MSE)\", \"type\": \"quantitative\"}}, \"$schema\": \"https://vega.github.io/schema/vega-lite/v5.16.3.json\", \"datasets\": {\"data-7163c07d33514ca0ef301296da65602a\": [{\"index\": 1, \"lr\": 299.8702906064275}, {\"index\": 2, \"lr\": 355.8407165834808}, {\"index\": 3, \"lr\": 245.9120188530828}, {\"index\": 4, \"lr\": 293.6642661034388}, {\"index\": 5, \"lr\": 308.190400324297}]}}, {\"mode\": \"vega-lite\"});\n",
       "</script>"
      ],
      "text/plain": [
       "alt.Chart(...)"
      ]
     },
     "execution_count": 68,
     "metadata": {},
     "output_type": "execute_result"
    }
   ],
   "source": [
    "alt.Chart(df_scores.reset_index()).mark_line(\n",
    "     point=alt.OverlayMarkDef()\n",
    ").encode(\n",
    "    x=alt.X(\"index\", bin=False, title=\"Fold\", axis=alt.Axis(tickCount=5)),\n",
    "    y=alt.Y(\"lr\", aggregate=\"mean\", title=\"Mean squared error (MSE)\")\n",
    ")"
   ]
  },
  {
   "cell_type": "markdown",
   "metadata": {},
   "source": [
    "Using the describe method again we can create summary statistics for each variable, in this case, each fold represented by the \"lr\" column."
   ]
  },
  {
   "cell_type": "code",
   "execution_count": 69,
   "metadata": {},
   "outputs": [
    {
     "data": {
      "text/html": [
       "<div>\n",
       "<style scoped>\n",
       "    .dataframe tbody tr th:only-of-type {\n",
       "        vertical-align: middle;\n",
       "    }\n",
       "\n",
       "    .dataframe tbody tr th {\n",
       "        vertical-align: top;\n",
       "    }\n",
       "\n",
       "    .dataframe thead th {\n",
       "        text-align: right;\n",
       "    }\n",
       "</style>\n",
       "<table border=\"1\" class=\"dataframe\">\n",
       "  <thead>\n",
       "    <tr style=\"text-align: right;\">\n",
       "      <th></th>\n",
       "      <th>count</th>\n",
       "      <th>mean</th>\n",
       "      <th>std</th>\n",
       "      <th>min</th>\n",
       "      <th>25%</th>\n",
       "      <th>50%</th>\n",
       "      <th>75%</th>\n",
       "      <th>max</th>\n",
       "    </tr>\n",
       "  </thead>\n",
       "  <tbody>\n",
       "    <tr>\n",
       "      <th>lr</th>\n",
       "      <td>5.0</td>\n",
       "      <td>300.695538</td>\n",
       "      <td>39.206241</td>\n",
       "      <td>245.912019</td>\n",
       "      <td>293.664266</td>\n",
       "      <td>299.870291</td>\n",
       "      <td>308.1904</td>\n",
       "      <td>355.840717</td>\n",
       "    </tr>\n",
       "  </tbody>\n",
       "</table>\n",
       "</div>"
      ],
      "text/plain": [
       "    count        mean        std         min         25%         50%  \\\n",
       "lr    5.0  300.695538  39.206241  245.912019  293.664266  299.870291   \n",
       "\n",
       "         75%         max  \n",
       "lr  308.1904  355.840717  "
      ]
     },
     "execution_count": 69,
     "metadata": {},
     "output_type": "execute_result"
    }
   ],
   "source": [
    "df_scores.describe().T"
   ]
  },
  {
   "cell_type": "markdown",
   "metadata": {},
   "source": [
    "The table provides a summary of the distribution of mean squared error values across the different folds in our cross-validation. The relatively small standard deviation suggests that the mean squared error values are close to the mean, indicating consistency in model performance across the folds."
   ]
  },
  {
   "cell_type": "markdown",
   "metadata": {},
   "source": [
    "#### 5.3.2 Logistic Regression"
   ]
  },
  {
   "cell_type": "code",
   "execution_count": 70,
   "metadata": {},
   "outputs": [],
   "source": [
    "scores_clf = cross_val_score(clf, X_train_log_final, y_train_log_final, cv=5, scoring='accuracy')"
   ]
  },
  {
   "cell_type": "markdown",
   "metadata": {},
   "source": [
    "Again we are storing the cross-validation scores for our logistic regression model in a DataFrame called df_scores_clf and then modifying its index and applying a background gradient style for visual representation."
   ]
  },
  {
   "cell_type": "code",
   "execution_count": 71,
   "metadata": {},
   "outputs": [
    {
     "data": {
      "text/html": [
       "<style type=\"text/css\">\n",
       "#T_d2878_row0_col0 {\n",
       "  background-color: #08306b;\n",
       "  color: #f1f1f1;\n",
       "}\n",
       "#T_d2878_row1_col0 {\n",
       "  background-color: #083776;\n",
       "  color: #f1f1f1;\n",
       "}\n",
       "#T_d2878_row2_col0 {\n",
       "  background-color: #4f9bcb;\n",
       "  color: #f1f1f1;\n",
       "}\n",
       "#T_d2878_row3_col0 {\n",
       "  background-color: #f7fbff;\n",
       "  color: #000000;\n",
       "}\n",
       "#T_d2878_row4_col0 {\n",
       "  background-color: #d1e2f3;\n",
       "  color: #000000;\n",
       "}\n",
       "</style>\n",
       "<table id=\"T_d2878\">\n",
       "  <thead>\n",
       "    <tr>\n",
       "      <th class=\"blank level0\" >&nbsp;</th>\n",
       "      <th id=\"T_d2878_level0_col0\" class=\"col_heading level0 col0\" >lr</th>\n",
       "    </tr>\n",
       "  </thead>\n",
       "  <tbody>\n",
       "    <tr>\n",
       "      <th id=\"T_d2878_level0_row0\" class=\"row_heading level0 row0\" >1</th>\n",
       "      <td id=\"T_d2878_row0_col0\" class=\"data row0 col0\" >0.850000</td>\n",
       "    </tr>\n",
       "    <tr>\n",
       "      <th id=\"T_d2878_level0_row1\" class=\"row_heading level0 row1\" >2</th>\n",
       "      <td id=\"T_d2878_row1_col0\" class=\"data row1 col0\" >0.847458</td>\n",
       "    </tr>\n",
       "    <tr>\n",
       "      <th id=\"T_d2878_level0_row2\" class=\"row_heading level0 row2\" >3</th>\n",
       "      <td id=\"T_d2878_row2_col0\" class=\"data row2 col0\" >0.813559</td>\n",
       "    </tr>\n",
       "    <tr>\n",
       "      <th id=\"T_d2878_level0_row3\" class=\"row_heading level0 row3\" >4</th>\n",
       "      <td id=\"T_d2878_row3_col0\" class=\"data row3 col0\" >0.762712</td>\n",
       "    </tr>\n",
       "    <tr>\n",
       "      <th id=\"T_d2878_level0_row4\" class=\"row_heading level0 row4\" >5</th>\n",
       "      <td id=\"T_d2878_row4_col0\" class=\"data row4 col0\" >0.779661</td>\n",
       "    </tr>\n",
       "  </tbody>\n",
       "</table>\n"
      ],
      "text/plain": [
       "<pandas.io.formats.style.Styler at 0x2229da687d0>"
      ]
     },
     "execution_count": 71,
     "metadata": {},
     "output_type": "execute_result"
    }
   ],
   "source": [
    "df_scores_clf = pd.DataFrame({\"lr\": scores_clf})\n",
    "df_scores_clf.index += 1\n",
    "\n",
    "df_scores_clf.style.background_gradient(cmap='Blues')"
   ]
  },
  {
   "cell_type": "code",
   "execution_count": 72,
   "metadata": {},
   "outputs": [],
   "source": [
    "df_scores_clf.to_csv('../data/interim/scores_logistic_regression.csv')"
   ]
  },
  {
   "cell_type": "markdown",
   "metadata": {},
   "source": [
    "Using the describe method again we can create summary statistics for each fold represented by the \"lr\" column."
   ]
  },
  {
   "cell_type": "code",
   "execution_count": 73,
   "metadata": {},
   "outputs": [
    {
     "data": {
      "text/html": [
       "<div>\n",
       "<style scoped>\n",
       "    .dataframe tbody tr th:only-of-type {\n",
       "        vertical-align: middle;\n",
       "    }\n",
       "\n",
       "    .dataframe tbody tr th {\n",
       "        vertical-align: top;\n",
       "    }\n",
       "\n",
       "    .dataframe thead th {\n",
       "        text-align: right;\n",
       "    }\n",
       "</style>\n",
       "<table border=\"1\" class=\"dataframe\">\n",
       "  <thead>\n",
       "    <tr style=\"text-align: right;\">\n",
       "      <th></th>\n",
       "      <th>count</th>\n",
       "      <th>mean</th>\n",
       "      <th>std</th>\n",
       "      <th>min</th>\n",
       "      <th>25%</th>\n",
       "      <th>50%</th>\n",
       "      <th>75%</th>\n",
       "      <th>max</th>\n",
       "    </tr>\n",
       "  </thead>\n",
       "  <tbody>\n",
       "    <tr>\n",
       "      <th>lr</th>\n",
       "      <td>5.0</td>\n",
       "      <td>0.810678</td>\n",
       "      <td>0.039275</td>\n",
       "      <td>0.762712</td>\n",
       "      <td>0.779661</td>\n",
       "      <td>0.813559</td>\n",
       "      <td>0.847458</td>\n",
       "      <td>0.85</td>\n",
       "    </tr>\n",
       "  </tbody>\n",
       "</table>\n",
       "</div>"
      ],
      "text/plain": [
       "    count      mean       std       min       25%       50%       75%   max\n",
       "lr    5.0  0.810678  0.039275  0.762712  0.779661  0.813559  0.847458  0.85"
      ]
     },
     "execution_count": 73,
     "metadata": {},
     "output_type": "execute_result"
    }
   ],
   "source": [
    "df_scores_clf.describe().T"
   ]
  },
  {
   "cell_type": "markdown",
   "metadata": {},
   "source": [
    "The table provides a summary of the distribution of accuracy values across the different folds in our cross-validation.\n",
    "\n",
    "The table shows that the mean value of the accuracy is 0.810678.The standard deviation is 0.039275, which means that the accuracy values are relatively close to each other. Furthermore, a low standard deviation indicates a consistent performance of the model. However, the evaluation of a model should not be based on accuracy alone. Therefore, we will evaluate our model further later."
   ]
  },
  {
   "cell_type": "markdown",
   "metadata": {},
   "source": [
    "### 5.4 Fit Model"
   ]
  },
  {
   "cell_type": "markdown",
   "metadata": {},
   "source": [
    "#### 5.4.1 Linear Regression"
   ]
  },
  {
   "cell_type": "markdown",
   "metadata": {},
   "source": [
    "To fit or train our linear regression model to training data we are using the fit method.\n",
    "It performs the training process in which the model learns the relationship between the independent and dependent variables in the training data. For linear regression, this means finding the optimal coefficients/weights to create a linear function that best represents the training data.\n",
    "\n",
    "After fitting, the reg object is now a trained linear regression model that we can use to make predictions for new data that was not part of the training dataset."
   ]
  },
  {
   "cell_type": "code",
   "execution_count": 74,
   "metadata": {
    "scrolled": true
   },
   "outputs": [
    {
     "data": {
      "text/html": [
       "<style>#sk-container-id-1 {color: black;}#sk-container-id-1 pre{padding: 0;}#sk-container-id-1 div.sk-toggleable {background-color: white;}#sk-container-id-1 label.sk-toggleable__label {cursor: pointer;display: block;width: 100%;margin-bottom: 0;padding: 0.3em;box-sizing: border-box;text-align: center;}#sk-container-id-1 label.sk-toggleable__label-arrow:before {content: \"▸\";float: left;margin-right: 0.25em;color: #696969;}#sk-container-id-1 label.sk-toggleable__label-arrow:hover:before {color: black;}#sk-container-id-1 div.sk-estimator:hover label.sk-toggleable__label-arrow:before {color: black;}#sk-container-id-1 div.sk-toggleable__content {max-height: 0;max-width: 0;overflow: hidden;text-align: left;background-color: #f0f8ff;}#sk-container-id-1 div.sk-toggleable__content pre {margin: 0.2em;color: black;border-radius: 0.25em;background-color: #f0f8ff;}#sk-container-id-1 input.sk-toggleable__control:checked~div.sk-toggleable__content {max-height: 200px;max-width: 100%;overflow: auto;}#sk-container-id-1 input.sk-toggleable__control:checked~label.sk-toggleable__label-arrow:before {content: \"▾\";}#sk-container-id-1 div.sk-estimator input.sk-toggleable__control:checked~label.sk-toggleable__label {background-color: #d4ebff;}#sk-container-id-1 div.sk-label input.sk-toggleable__control:checked~label.sk-toggleable__label {background-color: #d4ebff;}#sk-container-id-1 input.sk-hidden--visually {border: 0;clip: rect(1px 1px 1px 1px);clip: rect(1px, 1px, 1px, 1px);height: 1px;margin: -1px;overflow: hidden;padding: 0;position: absolute;width: 1px;}#sk-container-id-1 div.sk-estimator {font-family: monospace;background-color: #f0f8ff;border: 1px dotted black;border-radius: 0.25em;box-sizing: border-box;margin-bottom: 0.5em;}#sk-container-id-1 div.sk-estimator:hover {background-color: #d4ebff;}#sk-container-id-1 div.sk-parallel-item::after {content: \"\";width: 100%;border-bottom: 1px solid gray;flex-grow: 1;}#sk-container-id-1 div.sk-label:hover label.sk-toggleable__label {background-color: #d4ebff;}#sk-container-id-1 div.sk-serial::before {content: \"\";position: absolute;border-left: 1px solid gray;box-sizing: border-box;top: 0;bottom: 0;left: 50%;z-index: 0;}#sk-container-id-1 div.sk-serial {display: flex;flex-direction: column;align-items: center;background-color: white;padding-right: 0.2em;padding-left: 0.2em;position: relative;}#sk-container-id-1 div.sk-item {position: relative;z-index: 1;}#sk-container-id-1 div.sk-parallel {display: flex;align-items: stretch;justify-content: center;background-color: white;position: relative;}#sk-container-id-1 div.sk-item::before, #sk-container-id-1 div.sk-parallel-item::before {content: \"\";position: absolute;border-left: 1px solid gray;box-sizing: border-box;top: 0;bottom: 0;left: 50%;z-index: -1;}#sk-container-id-1 div.sk-parallel-item {display: flex;flex-direction: column;z-index: 1;position: relative;background-color: white;}#sk-container-id-1 div.sk-parallel-item:first-child::after {align-self: flex-end;width: 50%;}#sk-container-id-1 div.sk-parallel-item:last-child::after {align-self: flex-start;width: 50%;}#sk-container-id-1 div.sk-parallel-item:only-child::after {width: 0;}#sk-container-id-1 div.sk-dashed-wrapped {border: 1px dashed gray;margin: 0 0.4em 0.5em 0.4em;box-sizing: border-box;padding-bottom: 0.4em;background-color: white;}#sk-container-id-1 div.sk-label label {font-family: monospace;font-weight: bold;display: inline-block;line-height: 1.2em;}#sk-container-id-1 div.sk-label-container {text-align: center;}#sk-container-id-1 div.sk-container {/* jupyter's `normalize.less` sets `[hidden] { display: none; }` but bootstrap.min.css set `[hidden] { display: none !important; }` so we also need the `!important` here to be able to override the default hidden behavior on the sphinx rendered scikit-learn.org. See: https://github.com/scikit-learn/scikit-learn/issues/21755 */display: inline-block !important;position: relative;}#sk-container-id-1 div.sk-text-repr-fallback {display: none;}</style><div id=\"sk-container-id-1\" class=\"sk-top-container\"><div class=\"sk-text-repr-fallback\"><pre>LinearRegression()</pre><b>In a Jupyter environment, please rerun this cell to show the HTML representation or trust the notebook. <br />On GitHub, the HTML representation is unable to render, please try loading this page with nbviewer.org.</b></div><div class=\"sk-container\" hidden><div class=\"sk-item\"><div class=\"sk-estimator sk-toggleable\"><input class=\"sk-toggleable__control sk-hidden--visually\" id=\"sk-estimator-id-1\" type=\"checkbox\" checked><label for=\"sk-estimator-id-1\" class=\"sk-toggleable__label sk-toggleable__label-arrow\">LinearRegression</label><div class=\"sk-toggleable__content\"><pre>LinearRegression()</pre></div></div></div></div></div>"
      ],
      "text/plain": [
       "LinearRegression()"
      ]
     },
     "execution_count": 74,
     "metadata": {},
     "output_type": "execute_result"
    }
   ],
   "source": [
    "reg.fit(X_train_lin_final, y_train_lin_final)"
   ]
  },
  {
   "cell_type": "markdown",
   "metadata": {},
   "source": [
    "Now we create a table with the estimated coefficients for the intercept and the slopes of the independent variables in the trained linear regression model.The coefficients indicate how much the dependent variable changes when the corresponding independent variable changes by one unit."
   ]
  },
  {
   "cell_type": "code",
   "execution_count": 99,
   "metadata": {},
   "outputs": [
    {
     "data": {
      "text/html": [
       "<div>\n",
       "<style scoped>\n",
       "    .dataframe tbody tr th:only-of-type {\n",
       "        vertical-align: middle;\n",
       "    }\n",
       "\n",
       "    .dataframe tbody tr th {\n",
       "        vertical-align: top;\n",
       "    }\n",
       "\n",
       "    .dataframe thead th {\n",
       "        text-align: right;\n",
       "    }\n",
       "</style>\n",
       "<table border=\"1\" class=\"dataframe\">\n",
       "  <thead>\n",
       "    <tr style=\"text-align: right;\">\n",
       "      <th></th>\n",
       "      <th>Name</th>\n",
       "      <th>Coefficient</th>\n",
       "    </tr>\n",
       "  </thead>\n",
       "  <tbody>\n",
       "    <tr>\n",
       "      <th>0</th>\n",
       "      <td>Intercept</td>\n",
       "      <td>17.95</td>\n",
       "    </tr>\n",
       "    <tr>\n",
       "      <th>1</th>\n",
       "      <td>total_meja</td>\n",
       "      <td>-0.27</td>\n",
       "    </tr>\n",
       "    <tr>\n",
       "      <th>2</th>\n",
       "      <td>tip_of_stem_broken</td>\n",
       "      <td>-8.43</td>\n",
       "    </tr>\n",
       "    <tr>\n",
       "      <th>3</th>\n",
       "      <td>diam_top_in_cm</td>\n",
       "      <td>-72.27</td>\n",
       "    </tr>\n",
       "    <tr>\n",
       "      <th>4</th>\n",
       "      <td>stem_diam_bottom_in_cm</td>\n",
       "      <td>103.90</td>\n",
       "    </tr>\n",
       "  </tbody>\n",
       "</table>\n",
       "</div>"
      ],
      "text/plain": [
       "                     Name  Coefficient\n",
       "0               Intercept        17.95\n",
       "1              total_meja        -0.27\n",
       "2      tip_of_stem_broken        -8.43\n",
       "3          diam_top_in_cm       -72.27\n",
       "4  stem_diam_bottom_in_cm       103.90"
      ]
     },
     "execution_count": 99,
     "metadata": {},
     "output_type": "execute_result"
    }
   ],
   "source": [
    "intercept_lin = pd.DataFrame({\n",
    "    \"Name\": [\"Intercept\"],\n",
    "    \"Coefficient\":[reg.intercept_]}\n",
    "    )\n",
    "\n",
    "slope_lin = pd.DataFrame({\n",
    "    \"Name\": final_variables['linear_reg'][3].columns.tolist(),\n",
    "    \"Coefficient\": reg.coef_}\n",
    ")\n",
    "\n",
    "table_lin = pd.concat([intercept_lin, slope_lin], ignore_index=True, sort=False)\n",
    "\n",
    "round(table_lin, 2)"
   ]
  },
  {
   "cell_type": "markdown",
   "metadata": {},
   "source": [
    "Interpretation of the results:\n",
    "\n",
    "- The intercept is approximately 17.95. This is the estimated value of the dependent variable when all independent variables are zero. \n",
    "- An increase of one unit in the bottom stem diameter size is associated with an increase of about 103.90 units in the dependent variable main stem length.\n",
    "- A one unit increase in total meja is associated with a decrease of approximately -0.27 units in the dependent variable main stem length.\n",
    "- If the tip of stem is broken, the dependent variable main stem length will show a decrease of about -8.43 units.\n",
    "- A one unit increase in the top stem diameter size is associated with a decrease of about -72.27 units in the dependent variable main stem length."
   ]
  },
  {
   "cell_type": "markdown",
   "metadata": {},
   "source": [
    "#### 5.4.2 Logistic Regression"
   ]
  },
  {
   "cell_type": "markdown",
   "metadata": {},
   "source": [
    "To fit or train our logistic regression model to training data we are again using the fit method."
   ]
  },
  {
   "cell_type": "code",
   "execution_count": 76,
   "metadata": {},
   "outputs": [
    {
     "data": {
      "text/html": [
       "<style>#sk-container-id-2 {color: black;}#sk-container-id-2 pre{padding: 0;}#sk-container-id-2 div.sk-toggleable {background-color: white;}#sk-container-id-2 label.sk-toggleable__label {cursor: pointer;display: block;width: 100%;margin-bottom: 0;padding: 0.3em;box-sizing: border-box;text-align: center;}#sk-container-id-2 label.sk-toggleable__label-arrow:before {content: \"▸\";float: left;margin-right: 0.25em;color: #696969;}#sk-container-id-2 label.sk-toggleable__label-arrow:hover:before {color: black;}#sk-container-id-2 div.sk-estimator:hover label.sk-toggleable__label-arrow:before {color: black;}#sk-container-id-2 div.sk-toggleable__content {max-height: 0;max-width: 0;overflow: hidden;text-align: left;background-color: #f0f8ff;}#sk-container-id-2 div.sk-toggleable__content pre {margin: 0.2em;color: black;border-radius: 0.25em;background-color: #f0f8ff;}#sk-container-id-2 input.sk-toggleable__control:checked~div.sk-toggleable__content {max-height: 200px;max-width: 100%;overflow: auto;}#sk-container-id-2 input.sk-toggleable__control:checked~label.sk-toggleable__label-arrow:before {content: \"▾\";}#sk-container-id-2 div.sk-estimator input.sk-toggleable__control:checked~label.sk-toggleable__label {background-color: #d4ebff;}#sk-container-id-2 div.sk-label input.sk-toggleable__control:checked~label.sk-toggleable__label {background-color: #d4ebff;}#sk-container-id-2 input.sk-hidden--visually {border: 0;clip: rect(1px 1px 1px 1px);clip: rect(1px, 1px, 1px, 1px);height: 1px;margin: -1px;overflow: hidden;padding: 0;position: absolute;width: 1px;}#sk-container-id-2 div.sk-estimator {font-family: monospace;background-color: #f0f8ff;border: 1px dotted black;border-radius: 0.25em;box-sizing: border-box;margin-bottom: 0.5em;}#sk-container-id-2 div.sk-estimator:hover {background-color: #d4ebff;}#sk-container-id-2 div.sk-parallel-item::after {content: \"\";width: 100%;border-bottom: 1px solid gray;flex-grow: 1;}#sk-container-id-2 div.sk-label:hover label.sk-toggleable__label {background-color: #d4ebff;}#sk-container-id-2 div.sk-serial::before {content: \"\";position: absolute;border-left: 1px solid gray;box-sizing: border-box;top: 0;bottom: 0;left: 50%;z-index: 0;}#sk-container-id-2 div.sk-serial {display: flex;flex-direction: column;align-items: center;background-color: white;padding-right: 0.2em;padding-left: 0.2em;position: relative;}#sk-container-id-2 div.sk-item {position: relative;z-index: 1;}#sk-container-id-2 div.sk-parallel {display: flex;align-items: stretch;justify-content: center;background-color: white;position: relative;}#sk-container-id-2 div.sk-item::before, #sk-container-id-2 div.sk-parallel-item::before {content: \"\";position: absolute;border-left: 1px solid gray;box-sizing: border-box;top: 0;bottom: 0;left: 50%;z-index: -1;}#sk-container-id-2 div.sk-parallel-item {display: flex;flex-direction: column;z-index: 1;position: relative;background-color: white;}#sk-container-id-2 div.sk-parallel-item:first-child::after {align-self: flex-end;width: 50%;}#sk-container-id-2 div.sk-parallel-item:last-child::after {align-self: flex-start;width: 50%;}#sk-container-id-2 div.sk-parallel-item:only-child::after {width: 0;}#sk-container-id-2 div.sk-dashed-wrapped {border: 1px dashed gray;margin: 0 0.4em 0.5em 0.4em;box-sizing: border-box;padding-bottom: 0.4em;background-color: white;}#sk-container-id-2 div.sk-label label {font-family: monospace;font-weight: bold;display: inline-block;line-height: 1.2em;}#sk-container-id-2 div.sk-label-container {text-align: center;}#sk-container-id-2 div.sk-container {/* jupyter's `normalize.less` sets `[hidden] { display: none; }` but bootstrap.min.css set `[hidden] { display: none !important; }` so we also need the `!important` here to be able to override the default hidden behavior on the sphinx rendered scikit-learn.org. See: https://github.com/scikit-learn/scikit-learn/issues/21755 */display: inline-block !important;position: relative;}#sk-container-id-2 div.sk-text-repr-fallback {display: none;}</style><div id=\"sk-container-id-2\" class=\"sk-top-container\"><div class=\"sk-text-repr-fallback\"><pre>LogisticRegressionCV()</pre><b>In a Jupyter environment, please rerun this cell to show the HTML representation or trust the notebook. <br />On GitHub, the HTML representation is unable to render, please try loading this page with nbviewer.org.</b></div><div class=\"sk-container\" hidden><div class=\"sk-item\"><div class=\"sk-estimator sk-toggleable\"><input class=\"sk-toggleable__control sk-hidden--visually\" id=\"sk-estimator-id-2\" type=\"checkbox\" checked><label for=\"sk-estimator-id-2\" class=\"sk-toggleable__label sk-toggleable__label-arrow\">LogisticRegressionCV</label><div class=\"sk-toggleable__content\"><pre>LogisticRegressionCV()</pre></div></div></div></div></div>"
      ],
      "text/plain": [
       "LogisticRegressionCV()"
      ]
     },
     "execution_count": 76,
     "metadata": {},
     "output_type": "execute_result"
    }
   ],
   "source": [
    "clf.fit(X_train_log_final, y_train_log_final)"
   ]
  },
  {
   "cell_type": "markdown",
   "metadata": {},
   "source": [
    "Again we create a table with the estimated coefficients for the intercept and the slopes of the independent variables in the trained logistic regression model."
   ]
  },
  {
   "cell_type": "code",
   "execution_count": 100,
   "metadata": {},
   "outputs": [
    {
     "data": {
      "text/html": [
       "<div>\n",
       "<style scoped>\n",
       "    .dataframe tbody tr th:only-of-type {\n",
       "        vertical-align: middle;\n",
       "    }\n",
       "\n",
       "    .dataframe tbody tr th {\n",
       "        vertical-align: top;\n",
       "    }\n",
       "\n",
       "    .dataframe thead th {\n",
       "        text-align: right;\n",
       "    }\n",
       "</style>\n",
       "<table border=\"1\" class=\"dataframe\">\n",
       "  <thead>\n",
       "    <tr style=\"text-align: right;\">\n",
       "      <th></th>\n",
       "      <th>Name</th>\n",
       "      <th>Coefficient</th>\n",
       "    </tr>\n",
       "  </thead>\n",
       "  <tbody>\n",
       "    <tr>\n",
       "      <th>0</th>\n",
       "      <td>Intercept</td>\n",
       "      <td>4.17</td>\n",
       "    </tr>\n",
       "    <tr>\n",
       "      <th>1</th>\n",
       "      <td>main_stem_length_in_cm</td>\n",
       "      <td>-0.07</td>\n",
       "    </tr>\n",
       "    <tr>\n",
       "      <th>2</th>\n",
       "      <td>diam_top_in_cm</td>\n",
       "      <td>3.73</td>\n",
       "    </tr>\n",
       "  </tbody>\n",
       "</table>\n",
       "</div>"
      ],
      "text/plain": [
       "                     Name  Coefficient\n",
       "0               Intercept         4.17\n",
       "1  main_stem_length_in_cm        -0.07\n",
       "2          diam_top_in_cm         3.73"
      ]
     },
     "execution_count": 100,
     "metadata": {},
     "output_type": "execute_result"
    }
   ],
   "source": [
    "intercept_log = pd.DataFrame({\n",
    "    \"Name\": [\"Intercept\"],\n",
    "    \"Coefficient\":clf.intercept_}\n",
    "    )\n",
    "\n",
    "slope_log = pd.DataFrame({\n",
    "    \"Name\": final_variables['logistic_reg'][3].columns.tolist(),\n",
    "    \"Coefficient\": clf.coef_[0]}\n",
    ")\n",
    "\n",
    "table_log = pd.concat([intercept_log, slope_log], ignore_index=True, sort=False)\n",
    "\n",
    "round(table_log, 2)"
   ]
  },
  {
   "cell_type": "markdown",
   "metadata": {},
   "source": [
    "Interpretation of the results:\n",
    "\n",
    "- The intercept is approximately 4.17. This is the expected log odds value when all other independent variables are zero. In this case, it's a relatively high positive number, which suggests a high baseline probability of the outcome occurring when the other variables are not in play.\n",
    "- The negative coefficient for \"main_stem_length_in_cm\" of -0.07 indicates that as the main stem length increases, the likelihood of the outcome decreases. \n",
    "- The positive coefficient for \"diam_top_in_cm\" of 3.73 indicates that as the diameter of the stem tip increases, the likelihood of the outcome significantly increases."
   ]
  },
  {
   "cell_type": "markdown",
   "metadata": {},
   "source": [
    "### 5.5 Evaluation on Test Set"
   ]
  },
  {
   "cell_type": "markdown",
   "metadata": {},
   "source": [
    "#### 5.5.1 Linear Regression Model"
   ]
  },
  {
   "cell_type": "markdown",
   "metadata": {},
   "source": [
    "Now we use the previously trained linear regression model to generate predictions for the dependent variable based on our test data (X_test_imputed). These predictions can then be compared with the actual values (y_test_imputed) to evaluate the performance of the model."
   ]
  },
  {
   "cell_type": "code",
   "execution_count": 78,
   "metadata": {},
   "outputs": [],
   "source": [
    "y_pred_lin = reg.predict(X_test_lin_final)"
   ]
  },
  {
   "cell_type": "markdown",
   "metadata": {},
   "source": [
    "To evaluate our model, we use various functions from the sklearn.metrics module.\n",
    "\n",
    "First, we use the r2_score function to calculate R² between the actual values and the predicted values."
   ]
  },
  {
   "cell_type": "code",
   "execution_count": 79,
   "metadata": {},
   "outputs": [
    {
     "data": {
      "text/plain": [
       "0.572"
      ]
     },
     "execution_count": 79,
     "metadata": {},
     "output_type": "execute_result"
    }
   ],
   "source": [
    "r2_score(y_test_lin_final, y_pred_lin).round(3)"
   ]
  },
  {
   "cell_type": "markdown",
   "metadata": {},
   "source": [
    "The R² value is between 0 and 1, where 1 means that the model explains all variation in the dependent variables, and 0 means that the model has no explanatory power beyond predicting the average. An R² value of 0.572 shows that about 57% of the variations in the actual values can be explained by the model. This indicates that the model has moderate success in explaining the observed variations. However, there is still room for improvement as more than 43% of the variations are not explained by the model.\n",
    "\n",
    "Next we calculate the mean squared error (MSE) between the actual values and the predicted values."
   ]
  },
  {
   "cell_type": "code",
   "execution_count": 80,
   "metadata": {},
   "outputs": [
    {
     "data": {
      "text/plain": [
       "259.651"
      ]
     },
     "execution_count": 80,
     "metadata": {},
     "output_type": "execute_result"
    }
   ],
   "source": [
    "mean_squared_error(y_test_lin_final, y_pred_lin).round(3)"
   ]
  },
  {
   "cell_type": "markdown",
   "metadata": {},
   "source": [
    "The mean square error indicates the average size of the square deviations between the actual and predicted values. A lower MSE indicates more accurate predictions. \n",
    "In our case, a mean square error (MSE) of 259.651 indicates that the mean square error between the actual and predicted values of main stem length is about 259.651 square centimeters.\n",
    "\n",
    "Now we want to calculate the square root of the root mean square error (RMSE)."
   ]
  },
  {
   "cell_type": "code",
   "execution_count": 81,
   "metadata": {
    "scrolled": true
   },
   "outputs": [
    {
     "data": {
      "text/plain": [
       "16.114"
      ]
     },
     "execution_count": 81,
     "metadata": {},
     "output_type": "execute_result"
    }
   ],
   "source": [
    "mean_squared_error(y_test_lin_final, y_pred_lin, squared=False).round(3)"
   ]
  },
  {
   "cell_type": "markdown",
   "metadata": {},
   "source": [
    "The RSME indicates the average size of the absolute deviations between the actual and predicted values. A lower RMSE indicates more accurate predictions. In our case, the RMSE of 16.114 cm means that the average deviation between the actual and predicted values is about 16.114 cm.\n",
    "\n",
    "We know that the minimum main stem length is 2 cm, the maximum main stem length is 135 cm and the standard deviation 24.92 cm.\n",
    "In view of that the RMSE of 16.114 can be considered acceptable given the span of the main stem lengths.\n",
    "\n",
    "At last we want to calulate the mean absolute error (MAE) between the actual values and the predicted values."
   ]
  },
  {
   "cell_type": "code",
   "execution_count": 82,
   "metadata": {
    "scrolled": true
   },
   "outputs": [
    {
     "data": {
      "text/plain": [
       "13.024"
      ]
     },
     "execution_count": 82,
     "metadata": {},
     "output_type": "execute_result"
    }
   ],
   "source": [
    "mean_absolute_error(y_test_lin_final, y_pred_lin).round(3)"
   ]
  },
  {
   "cell_type": "markdown",
   "metadata": {},
   "source": [
    "The MAE indicates the average size of the absolute deviations between the actual and predicted values. In your case, the MAE of 13.024 means that the average absolute deviation between the actual and predicted lengths is about 13.024 cm."
   ]
  },
  {
   "cell_type": "markdown",
   "metadata": {},
   "source": [
    "#### 5.5.2 Logistic Regression Model"
   ]
  },
  {
   "cell_type": "markdown",
   "metadata": {},
   "source": [
    "In the following we use the trained logistic regression model to generate predictions for the dependent variable based on our test data (X_test_imputed).\n",
    "\n",
    "The choice of threshold for binary classification problems is an important decision and can have a significant impact on the performance of the model. Since we need to categorize our predictions into infested or not infested, we start by setting a threshold of 0.5."
   ]
  },
  {
   "cell_type": "code",
   "execution_count": 83,
   "metadata": {},
   "outputs": [],
   "source": [
    "y_pred_log = clf.predict(X_test_log_final)"
   ]
  },
  {
   "cell_type": "markdown",
   "metadata": {},
   "source": [
    "The confusion matrix is a table that shows the performance of a classifier. It shows how many instances of each class have been correctly or incorrectly classified.\n",
    "\n",
    "- True Positives: Correctly classified positive instances, in our case 50.\n",
    "- True Negatives: Correctly classified negative instances, in our case 10.\n",
    "- False Positives: Incorrectly classified positive instances (incorrectly identified as positive), in our case 7.\n",
    "- False Negatives: Incorrectly classified negative instances (incorrectly identified as negative), in our case 7."
   ]
  },
  {
   "cell_type": "code",
   "execution_count": 84,
   "metadata": {},
   "outputs": [
    {
     "data": {
      "text/plain": [
       "<sklearn.metrics._plot.confusion_matrix.ConfusionMatrixDisplay at 0x2229e9f2b50>"
      ]
     },
     "execution_count": 84,
     "metadata": {},
     "output_type": "execute_result"
    },
    {
     "data": {
      "image/png": "[encoded data removed]",
      "text/plain": [
       "<Figure size 640x480 with 2 Axes>"
      ]
     },
     "metadata": {},
     "output_type": "display_data"
    }
   ],
   "source": [
    "ConfusionMatrixDisplay.from_estimator(clf, X_test_log_final, y_test_log)"
   ]
  },
  {
   "cell_type": "code",
   "execution_count": 85,
   "metadata": {},
   "outputs": [
    {
     "name": "stdout",
     "output_type": "stream",
     "text": [
      "              precision    recall  f1-score   support\n",
      "\n",
      "Not infested       0.59      0.59      0.59        17\n",
      "    Infested       0.88      0.88      0.88        57\n",
      "\n",
      "    accuracy                           0.81        74\n",
      "   macro avg       0.73      0.73      0.73        74\n",
      "weighted avg       0.81      0.81      0.81        74\n",
      "\n"
     ]
    }
   ],
   "source": [
    "print(classification_report(y_test_log_final, y_pred_log, target_names=['Not infested', 'Infested']))"
   ]
  },
  {
   "cell_type": "markdown",
   "metadata": {},
   "source": [
    "Now we want to interpret precision, recall and f1 score of our logistic regression model:\n",
    "\n",
    "**Precision:** \n",
    "Precision is the ratio of correctly predicted positive classes to all items predicted as positive. Therefore it tells us how correct or precise the positive predictions of our model are.\n",
    "\n",
    "**Recall:**\n",
    "Recall measures how many of the actual positive cases we were able to correctly predict. It is important if we believe that false negatives are more important than false positives.\n",
    "\n",
    "**F1-Score:**\n",
    "F1-Score is a performance metric that takes into account both precision and recall. It is calculated from the harmonic mean of the two metrics.\n",
    "\n",
    "As we want to analyze whether weevils are effective as natural control agents we don´t want to miss an actual infested plant (false negative). That´s why we  aim to optimize recall."
   ]
  },
  {
   "cell_type": "markdown",
   "metadata": {},
   "source": [
    "To further evaluate our logistic regression model, we can visualize the ROC curve (Receiver Operating Characteristic Curve). Previously, we had set the threshold value to 0.5. The ROC curve provides a visual way to observe changes in our model's classification thresholds that affect the model's performance. We plot the rate of true positives against the rate of false positives for all possible thresholds. This allows us to select the classification threshold at which we identify the most true-positive cases. "
   ]
  },
  {
   "cell_type": "code",
   "execution_count": 86,
   "metadata": {},
   "outputs": [
    {
     "data": {
      "text/plain": [
       "<sklearn.metrics._plot.roc_curve.RocCurveDisplay at 0x2229ead8b50>"
      ]
     },
     "execution_count": 86,
     "metadata": {},
     "output_type": "execute_result"
    },
    {
     "data": {
      "image/png": "[encoded data removed]",
      "text/plain": [
       "<Figure size 640x480 with 1 Axes>"
      ]
     },
     "metadata": {},
     "output_type": "display_data"
    }
   ],
   "source": [
    "RocCurveDisplay.from_estimator(clf, X_test_log_final, y_test_log_final)"
   ]
  },
  {
   "cell_type": "markdown",
   "metadata": {},
   "source": [
    "The curve shows that our model performs well, because the higher and closer to the perfect classifier the ROC curve is, the better the model performs.\n",
    "\n",
    "Next, we can calculate the Area Under the ROC Curve (AUC). It is a performance measure which is independent of the exact classification threshold chosen. AUC is between 0 and 1, with higher numbers indicating better performance so our value indicates that the performance of our logistic regression model is very good."
   ]
  },
  {
   "cell_type": "code",
   "execution_count": 87,
   "metadata": {},
   "outputs": [
    {
     "data": {
      "text/plain": [
       "0.8575851393188855"
      ]
     },
     "execution_count": 87,
     "metadata": {},
     "output_type": "execute_result"
    }
   ],
   "source": [
    "y_score = clf.predict_proba(X_test_log_final)[:, 1]\n",
    "roc_auc_score(y_test_log_final, y_score)"
   ]
  },
  {
   "cell_type": "markdown",
   "metadata": {},
   "source": [
    "##### 5.5.2.1 Overfitting"
   ]
  },
  {
   "cell_type": "markdown",
   "metadata": {},
   "source": [
    "Earlier we chose the reduced method for our logistic regression model. Therefore, we have less observations in our remaining datset. We recognized that the proportion of infested and not infested plants in our dataset was imbalanced so we use overfitting to compensate the difference between value counts and balance our datset."
   ]
  },
  {
   "cell_type": "code",
   "execution_count": 88,
   "metadata": {},
   "outputs": [
    {
     "data": {
      "text/plain": [
       "infested\n",
       "1    218\n",
       "0     78\n",
       "Name: count, dtype: int64"
      ]
     },
     "execution_count": 88,
     "metadata": {},
     "output_type": "execute_result"
    }
   ],
   "source": [
    "df_train_log_final['infested'].value_counts()\n",
    "\n",
    "y_train_log_final.value_counts()"
   ]
  },
  {
   "cell_type": "markdown",
   "metadata": {},
   "source": [
    "We used random oversampler from imblearn to balance our dataset."
   ]
  },
  {
   "cell_type": "code",
   "execution_count": 89,
   "metadata": {},
   "outputs": [
    {
     "name": "stdout",
     "output_type": "stream",
     "text": [
      "Oversampled data\n",
      "infested\n",
      "1    218\n",
      "0    218\n",
      "Name: count, dtype: int64\n"
     ]
    }
   ],
   "source": [
    "ros = RandomOverSampler(random_state=42)\n",
    "X_train_log_ros, y_train_log_ros = ros.fit_resample(X_train_log_final, y_train_log_final)\n",
    "\n",
    "print(f\"Oversampled data\")\n",
    "print(y_train_log_ros.value_counts())"
   ]
  },
  {
   "cell_type": "code",
   "execution_count": 90,
   "metadata": {},
   "outputs": [],
   "source": [
    "clf_ros = LogisticRegressionCV()"
   ]
  },
  {
   "cell_type": "code",
   "execution_count": 91,
   "metadata": {},
   "outputs": [
    {
     "name": "stdout",
     "output_type": "stream",
     "text": [
      "              precision    recall  f1-score   support\n",
      "\n",
      "Not infested       0.47      0.88      0.61        17\n",
      "    Infested       0.95      0.70      0.81        57\n",
      "\n",
      "    accuracy                           0.74        74\n",
      "   macro avg       0.71      0.79      0.71        74\n",
      "weighted avg       0.84      0.74      0.76        74\n",
      "\n"
     ]
    },
    {
     "data": {
      "text/plain": [
       "<sklearn.metrics._plot.roc_curve.RocCurveDisplay at 0x2229ea0b210>"
      ]
     },
     "execution_count": 91,
     "metadata": {},
     "output_type": "execute_result"
    },
    {
     "data": {
      "image/png": "[encoded data removed]",
      "text/plain": [
       "<Figure size 640x480 with 1 Axes>"
      ]
     },
     "metadata": {},
     "output_type": "display_data"
    }
   ],
   "source": [
    "clf_ros.fit(X_train_log_ros, y_train_log_ros)\n",
    "y_pred_log_ros = clf_ros.predict(X_test_log_final)\n",
    "print(classification_report(y_test_log_final, y_pred_log_ros, target_names=['Not infested', 'Infested']))\n",
    "RocCurveDisplay.from_estimator(clf_ros, X_test_log_final, y_test_log_final)"
   ]
  },
  {
   "cell_type": "code",
   "execution_count": 92,
   "metadata": {},
   "outputs": [
    {
     "data": {
      "text/plain": [
       "<sklearn.metrics._plot.confusion_matrix.ConfusionMatrixDisplay at 0x2229ebc22d0>"
      ]
     },
     "execution_count": 92,
     "metadata": {},
     "output_type": "execute_result"
    },
    {
     "data": {
      "image/png": "[encoded data removed]",
      "text/plain": [
       "<Figure size 640x480 with 2 Axes>"
      ]
     },
     "metadata": {},
     "output_type": "display_data"
    }
   ],
   "source": [
    "ConfusionMatrixDisplay.from_estimator(clf_ros, X_test_log_final, y_test_log_final)"
   ]
  },
  {
   "cell_type": "markdown",
   "metadata": {},
   "source": [
    "The confusion matrix shows a higher amount of false negatives compared to the prior confusion matrix without using overfitting."
   ]
  },
  {
   "cell_type": "markdown",
   "metadata": {},
   "source": [
    "Unfortunately, overfitting did not lead to significant improvements of our model regarding the AUC value. Also the false negatives are increasing. That´s why we decided to not use overfitting. "
   ]
  },
  {
   "cell_type": "markdown",
   "metadata": {},
   "source": [
    "##### 5.5.2.2 Different Tresholds"
   ]
  },
  {
   "cell_type": "markdown",
   "metadata": {},
   "source": [
    "Next we try to further optimize our logistic regression model by adjusting the decision threshold that we have previously set to 0.5."
   ]
  },
  {
   "cell_type": "code",
   "execution_count": 93,
   "metadata": {},
   "outputs": [
    {
     "name": "stdout",
     "output_type": "stream",
     "text": [
      "Logistic Regression with Threshold 0.3\n",
      "              precision    recall  f1-score   support\n",
      "\n",
      "not infested       0.60      0.35      0.44        17\n",
      "    infested       0.83      0.93      0.88        57\n",
      "\n",
      "    accuracy                           0.80        74\n",
      "   macro avg       0.71      0.64      0.66        74\n",
      "weighted avg       0.78      0.80      0.78        74\n",
      "\n",
      "Logistic Regression with Threshold 0.4\n",
      "              precision    recall  f1-score   support\n",
      "\n",
      "not infested       0.67      0.59      0.62        17\n",
      "    infested       0.88      0.91      0.90        57\n",
      "\n",
      "    accuracy                           0.84        74\n",
      "   macro avg       0.77      0.75      0.76        74\n",
      "weighted avg       0.83      0.84      0.83        74\n",
      "\n",
      "Logistic Regression with Threshold 0.5\n",
      "              precision    recall  f1-score   support\n",
      "\n",
      "not infested       0.59      0.59      0.59        17\n",
      "    infested       0.88      0.88      0.88        57\n",
      "\n",
      "    accuracy                           0.81        74\n",
      "   macro avg       0.73      0.73      0.73        74\n",
      "weighted avg       0.81      0.81      0.81        74\n",
      "\n",
      "Logistic Regression with Threshold 0.6\n",
      "              precision    recall  f1-score   support\n",
      "\n",
      "not infested       0.50      0.65      0.56        17\n",
      "    infested       0.88      0.81      0.84        57\n",
      "\n",
      "    accuracy                           0.77        74\n",
      "   macro avg       0.69      0.73      0.70        74\n",
      "weighted avg       0.80      0.77      0.78        74\n",
      "\n",
      "Logistic Regression with Threshold 0.7\n",
      "              precision    recall  f1-score   support\n",
      "\n",
      "not infested       0.48      0.76      0.59        17\n",
      "    infested       0.91      0.75      0.83        57\n",
      "\n",
      "    accuracy                           0.76        74\n",
      "   macro avg       0.70      0.76      0.71        74\n",
      "weighted avg       0.82      0.76      0.77        74\n",
      "\n"
     ]
    }
   ],
   "source": [
    "thresholds_bal = [0.3, 0.4, 0.5, 0.6, 0.7]\n",
    "\n",
    "def cls_thresholds(model, threshold, x_test, y_test):\n",
    "    pred_proba = model.predict_proba(x_test)\n",
    "\n",
    "    df = pd.DataFrame({\"y_pred\": pred_proba[:,1] > threshold})\n",
    "\n",
    "    print(f\"Logistic Regression with Threshold {threshold}\")\n",
    "\n",
    "    print(classification_report(y_test, df[\"y_pred\"], target_names=[\"not infested\", \"infested\"]))\n",
    "\n",
    "\n",
    "for x in thresholds_bal:\n",
    "    cls_thresholds(clf, x, X_test_log_final, y_test_log_final)"
   ]
  },
  {
   "cell_type": "markdown",
   "metadata": {},
   "source": [
    "For 'Not Infested': Higher recall is better for true negatives. The best recall is at a threshold of 0.7. For 'Infested': Higher recall is better for true positives. The best recall is at a threshold of 0.3. \n",
    "Considering this, a threshold of 0.5 seems to be a good compromise, offering a balanced recall for both 'infested' (0.88) and 'not infested' (0.59), with decent precision in both categories. This threshold ensures that both 'infested' and 'not infested' are identified with reasonable accuracy, without skewing too heavily towards one at the expense of the other."
   ]
  },
  {
   "cell_type": "markdown",
   "metadata": {},
   "source": [
    "### 5.6 Save model"
   ]
  },
  {
   "cell_type": "markdown",
   "metadata": {},
   "source": [
    "We save our linear and logistic regression models in the models folder with pickle."
   ]
  },
  {
   "cell_type": "code",
   "execution_count": 94,
   "metadata": {},
   "outputs": [],
   "source": [
    "\"\"\"\n",
    "To load the model use:\n",
    "loaded_model = pickle.load(open(filename, 'rb'))\n",
    "result = loaded_model.score(X_test, Y_test)\n",
    "print(result)\n",
    "\"\"\"\n",
    "\n",
    "filename_lin = 'reg_model.sav'\n",
    "pickle.dump(reg, open(f\"../models/{filename_lin}\", 'wb'))\n",
    "\n",
    "filename_log = 'log_model.sav'\n",
    "pickle.dump(clf, open(f\"../models/{filename_log}\", 'wb'))\n",
    "\n",
    "filename_log_ros = 'log_model_ros.sav'\n",
    "pickle.dump(clf_ros, open(f\"../models/{filename_log_ros}\", 'wb'))"
   ]
  },
  {
   "cell_type": "markdown",
   "metadata": {},
   "source": [
    "## 6 Conclusions"
   ]
  },
  {
   "cell_type": "markdown",
   "metadata": {},
   "source": [
    "The study on the release and establishment of the weevil Mecinus janthiniformis for biological control of Dalmatian toadflax in Southern California provides valuable insights into the complex interplay between invasive plant species, biological control agents and the environment. Our hypothesis was that the spread of weevil populations contributes to the reduction of Dalmatian toadflax vegetation in the area and reduces the size of the plants.\r\n",
    "\r\n",
    "Based on our results we recommend increasing the use of herbivorous insects such as Mecinus janthiniformis to control the growth of Dalmatian toadflax. We can confirm that there is a connection between main stem length and infestation at least in the dataset used for our analysis. However, it is still difficult to answerh wether we can proof or not proof our hypothesis. Missing detail information is the main reason for that. We can not be completely sure if the dataset contained all plants or only a sample. Therefore, no concrete statement can be made about the total number of plants in the investigated area and their potential reduction due to the spread of weevil Mecinus janthiniformis populations."
   ]
  },
  {
   "cell_type": "markdown",
   "metadata": {},
   "source": [
    "### 6.1 Achievments"
   ]
  },
  {
   "cell_type": "markdown",
   "metadata": {},
   "source": [
    "After inspecting the data, we noticed that some rows were missing information. Using imputation we successfully addressed this problem. Three different methods have been introduced (reduced, imputed_mean and imputed_median) to find the most suitable approach for each of the two models. For a effective and comprehensible way to select the appropriate features for our model we implemented various functions that automatically output the best fitting features based on forward selection using R² as a measure for linear regression and AUC for logistic regression. For both, linear and logistic regression, we performed an extensive evaluation. We assessed our linear regression model using common metrics such as MSE, RMSE and R². For our logistic regression model we aimed to improve recall. Various options on different decision tresholds have been tested and the final model has been evaluated using ROC and AUC."
   ]
  },
  {
   "cell_type": "markdown",
   "metadata": {},
   "source": [
    "### 6.2 Limitations"
   ]
  },
  {
   "cell_type": "markdown",
   "metadata": {},
   "source": [
    "In the following we want to address the limitations that apply to our model.\n",
    "\n",
    "Potential improvements through complete data: \n",
    "\n",
    "1. During our analysis we quickly recognized that some interesting predictor variables do have a range of misssing values. Although we tried to account for this fact using imputation, a complete data set would likely have led to potential improvements and better model performance.\n",
    "2. Relation to a specific region: As the data was collected in a specific region in Southern California, the results may only be transferable to other regions to a limited extent. An idea for future work could be to include data from other regions as well.\n",
    "3. External factors: For the spread and success of weevil Mecinus janthiniformis as natural control agents for the containment of dalamian toadflax, external factors such as weather and environmental influences also play a role, which cannot be planned and integrated into the model.\n",
    "4. Domain knowledge: It would have been better to have more specific domain knowledge during our analysis. Although the data was accurately described in a dictionary by the data collectors, open issues arose for which we ultimately had to make assumptions. For future work clarification on unclear topics could be useful, e.g. number of total plants vs. samples in our dataset."
   ]
  },
  {
   "cell_type": "markdown",
   "metadata": {},
   "source": [
    "### 6.3 Analysis of the Results"
   ]
  },
  {
   "cell_type": "markdown",
   "metadata": {},
   "source": [
    "#### 6.3.1 Linear Regression"
   ]
  },
  {
   "cell_type": "markdown",
   "metadata": {},
   "source": [
    "In linear regression, the most appropriate method for dealing with missing values was the imputed_mean method, where the mean value was used to fill in the missing values in the respective columns.\n",
    "\n",
    "The most powerful predictor variables found with forward selection are:\n",
    "\n",
    "- stem_diam_bottom_in_cm\n",
    "- diam_top_in_cm\n",
    "- total_meja\n",
    "- tip_of_stem_broken\n",
    "  \n",
    "With these variables our model is reaching a moderate performance with an R² value of 0.572. Stem diam bottom is the most influential variable as main stem length and stem diam bottom have the highest correlation."
   ]
  },
  {
   "cell_type": "markdown",
   "metadata": {},
   "source": [
    "#### 6.3.2 Logistic Regression"
   ]
  },
  {
   "cell_type": "markdown",
   "metadata": {},
   "source": [
    "For the logistic regression model, we chose the reduced method as it led to the best results. In this method, all rows with missing values were omitted and therefore a reduced data set was used for the model.\n",
    "\n",
    "The most powerful predictor variables found with forward selection are:\n",
    "\n",
    "- main_stem_length_in_cm\n",
    "- diam_top_in_cm\n",
    "  \n",
    "With these variables, our model reaches a AUC score of 0.86. Overfitting or adjusting the decision threshold did not lead to a significant increase in model performance."
   ]
  }
 ],
 "metadata": {
  "kernelspec": {
   "display_name": "ProjectStatistics",
   "language": "python",
   "name": "projectstatistics"
  },
  "language_info": {
   "codemirror_mode": {
    "name": "ipython",
    "version": 3
   },
   "file_extension": ".py",
   "mimetype": "text/x-python",
   "name": "python",
   "nbconvert_exporter": "python",
   "pygments_lexer": "ipython3",
   "version": "3.11.7"
  },
  "vscode": {
   "interpreter": {
    "hash": "463226f144cc21b006ce6927bfc93dd00694e52c8bc6857abb6e555b983749e9"
   }
  }
 },
 "nbformat": 4,
 "nbformat_minor": 4
}
